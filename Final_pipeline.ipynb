{
 "cells": [
  {
   "cell_type": "markdown",
   "metadata": {
    "id": "gjs4IPf1K2rx"
   },
   "source": [
    "# Setup"
   ]
  },
  {
   "cell_type": "code",
   "execution_count": null,
   "metadata": {
    "colab": {
     "base_uri": "https://localhost:8080/"
    },
    "executionInfo": {
     "elapsed": 28884,
     "status": "ok",
     "timestamp": 1727432200489,
     "user": {
      "displayName": "Agata Kaczmarek",
      "userId": "11013170641790388060"
     },
     "user_tz": -120
    },
    "id": "IB4V7pWgK8ut",
    "outputId": "95a98a81-4412-494c-dba7-5bd2ee4267f6"
   },
   "outputs": [],
   "source": [
    "from openai import OpenAI\n",
    "import pandas as pd\n",
    "from src.utils import (\n",
    "    evaluate_category,\n",
    "    evaluate_sentiment,\n",
    "    load_data_preprocessed,\n",
    "    get_final_sentimentx\n",
    ")\n",
    "from src.incidents_and_categories import (\n",
    "    get_category_from_gpt\n",
    ")\n",
    "from src.actaware_data_preprocessing import (\n",
    "    load_original_data\n",
    ")\n",
    "from src.config import OPEN_AI_KEY"
   ]
  },
  {
   "cell_type": "code",
   "execution_count": 12,
   "metadata": {
    "id": "EUS7Y8C6K8yi"
   },
   "outputs": [],
   "source": [
    "client = OpenAI(api_key=OPEN_AI_KEY)"
   ]
  },
  {
   "cell_type": "code",
   "execution_count": 2,
   "metadata": {
    "id": "XW3yeW65K80g"
   },
   "outputs": [],
   "source": [
    "chosen_dataset=\"processed_human_data\" #\"not_preprocessed_data\", \"processed_4o_data\", \"processed_regex_data\", \"processed_human_data\""
   ]
  },
  {
   "cell_type": "code",
   "execution_count": 3,
   "metadata": {
    "id": "VJ4eNF6C2hBp"
   },
   "outputs": [],
   "source": [
    "number_of_raw_data=10\n",
    "number_of_preprocessed_data=100"
   ]
  },
  {
   "cell_type": "markdown",
   "metadata": {
    "id": "GyK1euPHy2Oq"
   },
   "source": [
    "# Load data"
   ]
  },
  {
   "cell_type": "markdown",
   "metadata": {
    "id": "iNgsVHY-H7X3"
   },
   "source": [
    "## Load data - preselected and preprocessed"
   ]
  },
  {
   "cell_type": "code",
   "execution_count": 13,
   "metadata": {
    "id": "MUArAQA7IY2l"
   },
   "outputs": [],
   "source": [
    "data_gt, data_df = load_data_preprocessed(chosen_dataset)\n",
    "data_df_small = data_df[:number_of_preprocessed_data]\n",
    "data_gt_small = data_gt[:number_of_preprocessed_data]"
   ]
  },
  {
   "cell_type": "markdown",
   "metadata": {
    "id": "N2RGsGA0JFlu"
   },
   "source": [
    "### Category and incident recognition"
   ]
  },
  {
   "cell_type": "code",
   "execution_count": 14,
   "metadata": {
    "colab": {
     "base_uri": "https://localhost:8080/",
     "height": 386,
     "referenced_widgets": [
      "2957c0e6034a4432960b0871b614aef8",
      "77ab373499ec41c58403f8e718ede12c",
      "cd0b7daba3d34ba3b696e783b7092ed9",
      "c4cefb61c46b4fea9eea047d734e7ca0",
      "6e60ec6ae15f433f8e5eecdaa6e2dd9e",
      "c4f0823b36784ca993f18ebcc9636e5a",
      "516bd13b4b404d28bea46ccafae61b5d",
      "0a94b7ba23774869b2778f5c7a63eb69",
      "f191402f2b9f4a2c93eeacf43a5d8c76",
      "371c5daf17ae421abdd9ac0d78718289",
      "9afb7f6e9c9a4c01a21b93357147ac59",
      "90a211bc5b054df9a154ab3d92f4809f",
      "68f095c6a27f47ca944b8878e2427639",
      "ef8fd5aec9464840af8e780e17cd0d05",
      "f18a377b98b246c18e481b6c5d8f350b",
      "cbde8466c6d54d1e9c32cd651e5fa78b",
      "afc1df5d422048c19ab835328ba5dc58",
      "747ff3b7eda34890b431be2861a36019",
      "5393eac9f5024adba9b6dd77669c6da4",
      "013266ff8d8345ab8822b45b7e866722",
      "940f7573de864ebb9a6d05503d01ea8d",
      "c4652f0441d6475d9f0a636d960b8fd6",
      "ea86419c86fc4f94beca600a43258416",
      "7330e7ebfdb94d138b3685b32d90b1bf",
      "6128a3efe48f45169de9b985bbf313c4",
      "fcd456e82e4e4e09884dccd8f9e5fb6c",
      "64917c0a866f41b6b278e50020cfe7e4",
      "3e26defe368d43f2a052b38ed395e11d",
      "afff286f6acb492999256f1580375ab2",
      "89cc4531a7f24e9891cb7fb6ba8e742c",
      "9aec5904ffda4b1dbd8d27727c0da6bc",
      "ee6a8a22a56f4dad8da70e3a8f61d7f1",
      "4c408f1f5a314eccb621148ebbb1858a",
      "316891213c8c41e39bcde290fa16632d",
      "4a0c760a5a42428c9304b4fa3d8f1f94",
      "d500ba81475c4e7f9083803eded6220e",
      "2782ab02645f422182f288510b87ea6b",
      "5d5176c513a8426dad4a10a185a965d5",
      "487cc6824c164f468414d6c7a2554ef5",
      "e248f5a1b4aa441588142b79a226655c",
      "3d63c4c3227d4e4681799046e58f44b3",
      "847d478cfaa14ba087b79da0345d0fe5",
      "d5563c2b9dc742a99c01fa4b68344d9a",
      "3d30ed2711d34628a77fc40b0de9a383",
      "fa9754cd38c3447da655461515e644ed",
      "60a98ce9700348f9998ea7822e77cbf4",
      "580e8463629444829565ad9bed68ad22",
      "343f5cde0c944935b10fd9fd8f97c38c",
      "c725880c9f2247a9bf12879aeb0bf82e",
      "d36e19f008b4411290b0381f48130cff",
      "89db56c95ca64945a746f9f74de6c19b",
      "32f5029e4d6e4ce5a5ff9782ad13684e",
      "bf35b689e5b5402c9eb801aed62967de",
      "45943dfa8c644ee98947c6811534ff55",
      "1031f4a441934d4ab98ce3d3a7b2fded",
      "77f2b3b2f4e9426f95a79bc606c31c37",
      "bba24abe445c422f9ec4eccbcf971edf",
      "793d11c3400d4627bd7b4cd6185f0430",
      "2d9330180af14d518ec5fc1c3582d39a",
      "c121fb1c473644e5aff6b2d28aca2c0b",
      "41ff96d619a44ff0960119ee887bef16",
      "da9b7043721f4042ae5d790df8f44ff5",
      "83e017f6f670429f9814e90e9061038c",
      "db254043eae346f8b4f70e0fccd1d5a7",
      "7c27901ab18041a189a7134e04728f4a",
      "9c54ef4f50b642e8aa0260d794c766b4",
      "397c254d71c74d98bc012719d3b14ab8",
      "4d7d575aa717494fa53c0d6f9c7f8933",
      "d541763dd90f429d8844819cfd2172ce",
      "c49eca6c61fb4445b3f16eb7fe36d16c",
      "770cdc23dbc34871afd211c927488acb",
      "08217c4889a6485cb148427f078e8f3d",
      "ac2042e56ca84ff3af9b3fdbce99c303",
      "a768d712371747f58020b03d9148db4b",
      "96410faba2fe4073b47830aba668be74",
      "2dfab0d790e94e03a898b494162f27c0",
      "5cf0ca5362e34c148a1599f2fb179c92",
      "ff0e352c7c9b46f492ec41725eafca26",
      "982b10598d6e4b3faf28e7824c377f02",
      "ebf4b1f073c1481089899d86af1ac29e",
      "83c8c78ffe9344b49a1d75c83d9803ec",
      "12f2ee350bec4b74ad0148e904c6bb11",
      "6a665a5f15374d08bbd5c490d21943e9",
      "c13816ef09594a3a88f2ae423731903e",
      "f51a421c11a344a3a8f7984659472621",
      "7f1744dbd1d249b7a921073a9e5b39c5",
      "d47333b8de2c4b0998772d49a0f85f98",
      "51261f3453024584974aa859f234862f",
      "a9814830cf0c4c1992052b02a560c6de",
      "272a2fdf0b9a40bdb3f7af6522be7cbd",
      "16cd9c7811bd47ac9d2213a4103eabbe",
      "1ce5c6920d264e46baecead77b9f1b14",
      "773e9bbe483a460794f162a5a5738716",
      "b77230b9516047229331efa812169b15",
      "2189d86a1db5451e8a39ad3b9c50d7a5",
      "d5c6fd25682e43f2b485dcb604b2d127",
      "6e3952da9f694e918c52768754280edf",
      "6eb402f38c5743d1b3b197ba74d66048",
      "a074c8b4cc3c4c36a34e1204c2c46e11",
      "b986ccc71a124b74a49eaef9fcecafae",
      "5b4386102b8942f0bd2bc6edb69d0205",
      "3cdeb21ab61b4c08b274f9b4a97c38d0",
      "b6bf2d4e5ffa46559d5cee42fc8f7051",
      "45a0ebaff8604f9486bbdab7ec50ceb5",
      "b69f75fb175843ccb0231230918d13da",
      "6bcd2726b2cd4a64886b20e8b11a3578",
      "7924df2183a546ac9b17f9152026dc4c",
      "b809b8f3ad964c939d7fc8ea121264bd",
      "4e4070afacd3412daf7763caf2df5cad",
      "84955a25828a4be6b9edb52161ed1482",
      "0ea0df21ccd34f1291791ec44957f447",
      "f9d3dcdc6a90474fbe965e1f54a7685b",
      "75451a9230bc4dbcb5e494bac8b9eb5f",
      "da59400e273b4af6bc47782083be938b",
      "a336cfe23bb4434fb1456c855346f7c2",
      "bc013419266c4f6d8a9e0ceddb9a6646",
      "4caede6957104fdfb9cc8758057061a1",
      "4b995c77e1c54a26bc2410f0835cb441",
      "a5d4cdb39d7c4272bb9ba59851fbcd6e",
      "e72d15e04f92470aadfca059b097a402",
      "b90aa7c6536541b7a9d01a5009f470df"
     ]
    },
    "executionInfo": {
     "elapsed": 30433,
     "status": "ok",
     "timestamp": 1727432357262,
     "user": {
      "displayName": "Agata Kaczmarek",
      "userId": "11013170641790388060"
     },
     "user_tz": -120
    },
    "id": "Pj7NvH3fIrH1",
    "outputId": "6f70fa3e-09dd-48b3-a026-3d6cd8e2d52b"
   },
   "outputs": [],
   "source": [
    "category_for_chosen=get_category_from_gpt(data_df_small, client=client)"
   ]
  },
  {
   "cell_type": "code",
   "execution_count": null,
   "metadata": {
    "colab": {
     "base_uri": "https://localhost:8080/"
    },
    "executionInfo": {
     "elapsed": 13,
     "status": "ok",
     "timestamp": 1727432392641,
     "user": {
      "displayName": "Agata Kaczmarek",
      "userId": "11013170641790388060"
     },
     "user_tz": -120
    },
    "id": "HFDYdNmw_itS",
    "outputId": "0270b40a-5144-4736-bad5-a4054193fcb2"
   },
   "outputs": [],
   "source": [
    "print(f\"Score for category: {evaluate_category(data_gt_small, category_for_chosen[0])}\")"
   ]
  },
  {
   "cell_type": "markdown",
   "metadata": {
    "id": "QWp-pHF0JZEz"
   },
   "source": [
    "### Sentiment"
   ]
  },
  {
   "cell_type": "code",
   "execution_count": null,
   "metadata": {
    "colab": {
     "base_uri": "https://localhost:8080/",
     "height": 281,
     "referenced_widgets": [
      "6c1f9cd172014484995d71b4814d15bf",
      "d1d228105e93495aa627c1f4c38e6a15",
      "ee1be9d099ec45aaa75d6e095b896f12",
      "aa51fe8ea3714721b9798693aa4b3423",
      "8f694c1e3b064156972bcfb0d8dd22af",
      "180037ec495b4a9786c9f39a52813f02",
      "325bdc5d26534007b086192e2ff8488f",
      "ea1ddb7098754a4c95eae2d17733937c",
      "b82625cea75b464b8711e0b76c8ceb2d",
      "3017d460b0b348589bec27bd39eafc19",
      "f3425a82ffb741c2b3865057a41e7abf",
      "2c5580aea572434c8b32831632feaad8",
      "8328c4d61c224efc905a8501750f127c",
      "7efcaf94db8f403780d86207aa40db5a",
      "92892daf0c43435bbf26bd8864389fae",
      "251bb58a525844ac86343573b33fbe3e",
      "ed982d8b929e424e90cbc7a4031b9125",
      "509c5a238ab54051b2e8036907ea4a6f",
      "a8c334a7956f426496d52f1e52c7af60",
      "1dc62e0f735e43329e284eb19298b89e",
      "f77e92c1e887472b9ad254082a5841b1",
      "7c74e47db2b442f7a24d64a475e52200",
      "843dcbafe965463681deb92957dc04ed",
      "af8253729d8443d28e4af22c6877c844",
      "c967b9e82604403da189dd98e02c8c64",
      "1152bd0e3ebb4bca928a16a6341b466e",
      "5d5d26c7fbc64a2a98a9319231da53d6",
      "10d51fc9eaed482d87bc90a4647f0b88",
      "d843e9ad318b455395d43ce9229152a1",
      "fbd24915f70b41d4b6536435dc973702",
      "5a8d8ad74d5945f2b4179e90a1848cc1",
      "8cd734ac7c664b2b9cb061b55ae2f50e",
      "91aba7260be145ccb893d5693249ae8b",
      "c7cf5e7099084810bcd6e5b98d9af9fe",
      "fbac1fc5c3fe462d82a79bea2975a217",
      "ea979e16df9a482cbf05ea14b4e7db2f",
      "a17ec96420d84119b5f74bfc143a77ec",
      "24efcf8e651547e5aa51ecdca68c3387",
      "90b722125c874c0ba44403d709e1f764",
      "0cf2d6e9a6ad4c74b2bfabae1cb764c9",
      "4e6f1a66a00b4e81b6d59f9a47399510",
      "ec24c37568cd4772b1118a586180be8d",
      "6b8b88e607fa49d8bef7afdce10dfd0c",
      "a682de8103cf40fd806b0f3c4f2d652a",
      "a45e5e7134da48b39b96cb7ff8a871c3",
      "b8788ff8a91244aca397bd215df2f606",
      "d26de44ac89947aeb39d0dbefa7bce0c",
      "432d8eef08194ef6ac71b9cd0d1cdf67",
      "334b5596dcf643698551a6b7056d55d6",
      "e3c67dd4d79643b2a8d59a23da9d750f",
      "4f87ae5144ce4188b0731509fdd95b7a",
      "e009db0917a04528adf5b61047f1a94f",
      "e6728ee0519743e8bc7db70a9f5ef36e",
      "a4d7639da5ca4e2eb46f14f584aac088",
      "b655093519704dd9ba78e5c3a04fc19f",
      "03b289287d7b45eda777013c346b8425",
      "18c2550404d64f65887044f9de6dba61",
      "c58f52136efd48659d112b70015755e7",
      "c2d017689211423393547ca3c2582518",
      "73ac217bf6d74352838438e9c4bdceb9",
      "0d995754b9c34a55b6a8f30e2ca459b9",
      "cbbac18d9c2642139468454aaf40bb66",
      "d17601844a7a4c50a28b53ade54e7a4d",
      "f084bfdc5c2e4ed59853e25b5a14a9ca",
      "c95365e1b3a24bba8b1d328afd79fd27",
      "ec905575f194489b87dc5ae6a2c3fd53"
     ]
    },
    "executionInfo": {
     "elapsed": 35381,
     "status": "ok",
     "timestamp": 1727432392640,
     "user": {
      "displayName": "Agata Kaczmarek",
      "userId": "11013170641790388060"
     },
     "user_tz": -120
    },
    "id": "lDQcHgv6JaXQ",
    "outputId": "e54ebb8f-811a-4fd0-8ad2-7a6d590a0d34"
   },
   "outputs": [],
   "source": [
    "sentiment_final=get_final_sentiment(data_df_small)"
   ]
  },
  {
   "cell_type": "code",
   "execution_count": null,
   "metadata": {
    "colab": {
     "base_uri": "https://localhost:8080/"
    },
    "executionInfo": {
     "elapsed": 3,
     "status": "ok",
     "timestamp": 1727432403576,
     "user": {
      "displayName": "Agata Kaczmarek",
      "userId": "11013170641790388060"
     },
     "user_tz": -120
    },
    "id": "beLvJoGYr647",
    "outputId": "6685cc7d-9b11-454b-92ab-be5b2915a33b"
   },
   "outputs": [],
   "source": [
    "print(f\"Score for sentiment: {evaluate_sentiment(data_gt_small, sentiment_final)}\")"
   ]
  },
  {
   "cell_type": "code",
   "execution_count": null,
   "metadata": {
    "colab": {
     "base_uri": "https://localhost:8080/"
    },
    "executionInfo": {
     "elapsed": 315,
     "status": "ok",
     "timestamp": 1727432405098,
     "user": {
      "displayName": "Agata Kaczmarek",
      "userId": "11013170641790388060"
     },
     "user_tz": -120
    },
    "id": "U3D7_B4eqnDI",
    "outputId": "dfda8af9-aaa5-4890-92c8-daafe42c9e1e"
   },
   "outputs": [],
   "source": [
    "sentiment_final[:10]"
   ]
  },
  {
   "cell_type": "markdown",
   "metadata": {
    "id": "rR7nfxYZJ5_c"
   },
   "source": [
    "### Final answer of the models"
   ]
  },
  {
   "cell_type": "code",
   "execution_count": null,
   "metadata": {
    "colab": {
     "base_uri": "https://localhost:8080/",
     "height": 363
    },
    "executionInfo": {
     "elapsed": 8,
     "status": "ok",
     "timestamp": 1727432471748,
     "user": {
      "displayName": "Agata Kaczmarek",
      "userId": "11013170641790388060"
     },
     "user_tz": -120
    },
    "id": "zTaax8r8J70N",
    "outputId": "85c458cb-06a3-4079-8dde-54ef80686f88"
   },
   "outputs": [],
   "source": [
    "df_answers = pd.DataFrame(columns=['Article', 'Company', 'Category','Sentiment'])\n",
    "df_answers['Article']=data_df_small\n",
    "df_answers['Company']=data_gt_small['Their_Matched_Companies']\n",
    "df_answers['Category']=category_for_chosen[0]\n",
    "df_answers['Sentiment']=sentiment_final\n",
    "df_answers[:10]"
   ]
  },
  {
   "cell_type": "markdown",
   "metadata": {
    "id": "AfXqi7RFh6w6"
   },
   "source": [
    "## Load data - original"
   ]
  },
  {
   "cell_type": "code",
   "execution_count": null,
   "metadata": {
    "colab": {
     "base_uri": "https://localhost:8080/",
     "height": 363
    },
    "executionInfo": {
     "elapsed": 6630,
     "status": "ok",
     "timestamp": 1727432471747,
     "user": {
      "displayName": "Agata Kaczmarek",
      "userId": "11013170641790388060"
     },
     "user_tz": -120
    },
    "id": "A9ra3iG28Ih-",
    "outputId": "481e51f7-0e48-4abf-e2ae-c6f0efe3b966"
   },
   "outputs": [],
   "source": [
    "original_data=load_original_data(first_rows=number_of_raw_data)\n",
    "original_data"
   ]
  },
  {
   "cell_type": "markdown",
   "metadata": {
    "id": "0__NQbn29oRV"
   },
   "source": [
    "### Category and incident recognition"
   ]
  },
  {
   "cell_type": "code",
   "execution_count": 21,
   "metadata": {
    "id": "BzMRsWZ48tE3"
   },
   "outputs": [],
   "source": [
    "category_for_original=get_category_from_gpt(original_data['ContentRaw'], client=client)"
   ]
  },
  {
   "cell_type": "markdown",
   "metadata": {
    "id": "r12D7keq9pkK"
   },
   "source": [
    "### Sentiment"
   ]
  },
  {
   "cell_type": "code",
   "execution_count": null,
   "metadata": {
    "colab": {
     "base_uri": "https://localhost:8080/"
    },
    "executionInfo": {
     "elapsed": 9707,
     "status": "ok",
     "timestamp": 1727432445497,
     "user": {
      "displayName": "Agata Kaczmarek",
      "userId": "11013170641790388060"
     },
     "user_tz": -120
    },
    "id": "nHjiejyN9Xz-",
    "outputId": "0b95a75f-4d06-46aa-9b42-00ef2f610ab4"
   },
   "outputs": [],
   "source": [
    "sentiment_final_original=get_final_sentiment(original_data['ContentRaw'])"
   ]
  },
  {
   "cell_type": "markdown",
   "metadata": {
    "id": "H9P6hggR90Tq"
   },
   "source": [
    "### Final answer of the model"
   ]
  },
  {
   "cell_type": "code",
   "execution_count": null,
   "metadata": {
    "colab": {
     "base_uri": "https://localhost:8080/",
     "height": 363
    },
    "executionInfo": {
     "elapsed": 516,
     "status": "ok",
     "timestamp": 1727432459139,
     "user": {
      "displayName": "Agata Kaczmarek",
      "userId": "11013170641790388060"
     },
     "user_tz": -120
    },
    "id": "y11_5TmN9q5z",
    "outputId": "281683ee-19ab-4293-e31c-897de80a45ae"
   },
   "outputs": [],
   "source": [
    "df_answers_original = pd.DataFrame(columns=['Article', 'Company', 'Category','Sentiment'])\n",
    "df_answers_original['Article']=original_data['ContentRaw']\n",
    "df_answers_original['Company']=original_data['MatchedCompanies']\n",
    "df_answers_original['Category']=category_for_original[0]\n",
    "df_answers_original['Sentiment']=sentiment_final_original\n",
    "df_answers_original"
   ]
  }
 ],
 "metadata": {
  "accelerator": "GPU",
  "colab": {
   "gpuType": "T4",
   "provenance": []
  },
  "kernelspec": {
   "display_name": "env_actaware",
   "language": "python",
   "name": "python3"
  },
  "language_info": {
   "codemirror_mode": {
    "name": "ipython",
    "version": 3
   },
   "file_extension": ".py",
   "mimetype": "text/x-python",
   "name": "python",
   "nbconvert_exporter": "python",
   "pygments_lexer": "ipython3",
   "version": "3.10.12"
  },
  "widgets": {}
 },
 "nbformat": 4,
 "nbformat_minor": 0
}
