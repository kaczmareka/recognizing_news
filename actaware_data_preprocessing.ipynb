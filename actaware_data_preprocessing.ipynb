{
 "cells": [
  {
   "cell_type": "markdown",
   "metadata": {
    "id": "-oAIPDuF4eu4"
   },
   "source": [
    "# Preprocessing of data from Actaware company"
   ]
  },
  {
   "cell_type": "markdown",
   "metadata": {
    "id": "nLG64SuT4mPy"
   },
   "source": [
    "## Prepare data"
   ]
  },
  {
   "cell_type": "code",
   "execution_count": 2,
   "metadata": {
    "id": "9Vwgzzkt4qBy"
   },
   "outputs": [],
   "source": [
    "import json\n",
    "import pandas as pd\n",
    "import numpy as np\n",
    "import emoji\n",
    "import copy\n",
    "from src.config import (\n",
    "    PATH_ORIGINAL_DATA,\n",
    "    PATH_TO_SAVE_PREPROCESSED,\n",
    ")\n",
    "import warnings\n",
    "warnings.filterwarnings('ignore')"
   ]
  },
  {
   "cell_type": "code",
   "execution_count": 3,
   "metadata": {
    "id": "_Th3D2SK4qEp"
   },
   "outputs": [],
   "source": [
    "with open(PATH_ORIGINAL_DATA) as json_file:\n",
    "  data = json.load(json_file)\n",
    "data_df = pd.DataFrame(data)"
   ]
  },
  {
   "cell_type": "markdown",
   "metadata": {
    "id": "uiGyKKTA4uf9"
   },
   "source": [
    "### Columns that might be useful:\n",
    "- 'ProcessingSteps' - the raw data, without any previous preprocessing\n",
    "  - 'TitleRaw' - title of the article\n",
    "  - 'DescriptionRaw' - description, which is a short summary of the article; generated automatically with the use of `newspaper3k` library, get `summary` or `description` from `feedparser` library\n",
    "  - 'ContentRaw' - the content of the article\n",
    "- 'Keywords' - with the use of `yake` library `yake.KeywordExtractor`\n",
    "- 'MatchedCompanies' - the names of the companies found with existing pipeline matched with the articles\n",
    "- 'NERs' - all NERs from the Content"
   ]
  },
  {
   "cell_type": "code",
   "execution_count": 4,
   "metadata": {
    "colab": {
     "base_uri": "https://localhost:8080/",
     "height": 608
    },
    "id": "-FJ-zKoF4v_X",
    "outputId": "ef3daf61-1300-4afe-94d9-8762801a694c"
   },
   "outputs": [
    {
     "data": {
      "text/html": [
       "<div>\n",
       "<style scoped>\n",
       "    .dataframe tbody tr th:only-of-type {\n",
       "        vertical-align: middle;\n",
       "    }\n",
       "\n",
       "    .dataframe tbody tr th {\n",
       "        vertical-align: top;\n",
       "    }\n",
       "\n",
       "    .dataframe thead th {\n",
       "        text-align: right;\n",
       "    }\n",
       "</style>\n",
       "<table border=\"1\" class=\"dataframe\">\n",
       "  <thead>\n",
       "    <tr style=\"text-align: right;\">\n",
       "      <th></th>\n",
       "      <th>_id</th>\n",
       "      <th>Source</th>\n",
       "      <th>SourceType</th>\n",
       "      <th>Title</th>\n",
       "      <th>Links</th>\n",
       "      <th>Description</th>\n",
       "      <th>Content</th>\n",
       "      <th>PublishedDate</th>\n",
       "      <th>Keywords</th>\n",
       "      <th>ProcessingSteps</th>\n",
       "      <th>NERs</th>\n",
       "      <th>QType</th>\n",
       "      <th>MatchedCompanies</th>\n",
       "      <th>Authors</th>\n",
       "      <th>ImageUrl</th>\n",
       "    </tr>\n",
       "  </thead>\n",
       "  <tbody>\n",
       "    <tr>\n",
       "      <th>0</th>\n",
       "      <td>{'$oid': '65847e46b1f6ca8a8b0b8f75'}</td>\n",
       "      <td>Daily mail Latest Stories</td>\n",
       "      <td>rss</td>\n",
       "      <td>BBC is urged to sack UK's Eurovision entrant O...</td>\n",
       "      <td>{'ArticleUrl': 'https://www.dailymail.co.uk/ne...</td>\n",
       "      <td>The BBC is being urged to drop singer Olly Ale...</td>\n",
       "      <td>The BBC is being urged to drop singer Olly Ale...</td>\n",
       "      <td>{'$date': {'$numberLong': '1703164970000'}}</td>\n",
       "      <td>{'FromDescription': ['olly alexander', 'singer...</td>\n",
       "      <td>{'TitleRaw': 'BBC is urged to sack UK's Eurovi...</td>\n",
       "      <td>{'FromDescription': [{'Position': 4, 'Text': '...</td>\n",
       "      <td>[200]</td>\n",
       "      <td>[BBC]</td>\n",
       "      <td>[]</td>\n",
       "      <td>https://actawarenewsdev.blob.core.windows.net/...</td>\n",
       "    </tr>\n",
       "    <tr>\n",
       "      <th>1</th>\n",
       "      <td>{'$oid': '65847e9cb1f6ca8a8b0b90e0'}</td>\n",
       "      <td>SkyNews World</td>\n",
       "      <td>rss</td>\n",
       "      <td>UK Eurovision act Olly Alexander criticised fo...</td>\n",
       "      <td>{'ArticleUrl': 'https://news.sky.com/story/uk-...</td>\n",
       "      <td>Olly Alexander, the UK's new Eurovision act, h...</td>\n",
       "      <td>Olly Alexander, the UK's new Eurovision act, h...</td>\n",
       "      <td>{'$date': {'$numberLong': '1703153940000'}}</td>\n",
       "      <td>{'FromDescription': ['accusing israel', 'olly ...</td>\n",
       "      <td>{'TitleRaw': 'UK Eurovision act Olly Alexander...</td>\n",
       "      <td>{'FromDescription': [{'Position': 20, 'Text': ...</td>\n",
       "      <td>[]</td>\n",
       "      <td>[Eurovision]</td>\n",
       "      <td>[]</td>\n",
       "      <td>https://actawarenewsdev.blob.core.windows.net/...</td>\n",
       "    </tr>\n",
       "    <tr>\n",
       "      <th>2</th>\n",
       "      <td>{'$oid': '6583d30c76e5f558ad9e1f1a'}</td>\n",
       "      <td>Daily mail Australia news</td>\n",
       "      <td>rss</td>\n",
       "      <td>Shocking sight at McDonald's as staff complain...</td>\n",
       "      <td>{'ArticleUrl': 'https://www.dailymail.co.uk/ne...</td>\n",
       "      <td>A union representative claims they were barred...</td>\n",
       "      <td>A union representative claims they were barred...</td>\n",
       "      <td>{'$date': {'$numberLong': '1703118302000'}}</td>\n",
       "      <td>{'FromDescription': ['hindley street', 'repres...</td>\n",
       "      <td>{'TitleRaw': 'Shocking sight at McDonald's as ...</td>\n",
       "      <td>{'FromDescription': [{'Position': 65, 'Text': ...</td>\n",
       "      <td>[500]</td>\n",
       "      <td>[McDonald's]</td>\n",
       "      <td>[]</td>\n",
       "      <td>https://actawarenewsdev.blob.core.windows.net/...</td>\n",
       "    </tr>\n",
       "    <tr>\n",
       "      <th>3</th>\n",
       "      <td>{'$oid': '658327bb7d2f9da2e581735a'}</td>\n",
       "      <td>Daily mail Latest Stories</td>\n",
       "      <td>rss</td>\n",
       "      <td>Prince Andrew 'invited former Goldman Sachs ba...</td>\n",
       "      <td>{'ArticleUrl': 'https://www.dailymail.co.uk/ne...</td>\n",
       "      <td>The Duke invited a gun smuggler and an alleged...</td>\n",
       "      <td>The Duke invited a gun smuggler and an alleged...</td>\n",
       "      <td>{'$date': {'$numberLong': '1703071650000'}}</td>\n",
       "      <td>{'FromDescription': ['james palace', 'alleged ...</td>\n",
       "      <td>{'TitleRaw': 'Prince Andrew 'invited former Go...</td>\n",
       "      <td>{'FromDescription': [{'Position': 60, 'Text': ...</td>\n",
       "      <td>[]</td>\n",
       "      <td>[Goldman Sachs]</td>\n",
       "      <td>[]</td>\n",
       "      <td>https://actawarenewsdev.blob.core.windows.net/...</td>\n",
       "    </tr>\n",
       "    <tr>\n",
       "      <th>4</th>\n",
       "      <td>{'$oid': '6582d237443658d5c3f41ea0'}</td>\n",
       "      <td>Daily mail News</td>\n",
       "      <td>rss</td>\n",
       "      <td>Airbnb set to use AI to help identify unauthor...</td>\n",
       "      <td>{'ArticleUrl': 'https://www.dailymail.co.uk/ne...</td>\n",
       "      <td>Airbnb is set to use artificial intelligence t...</td>\n",
       "      <td>Airbnb is set to use artificial intelligence t...</td>\n",
       "      <td>{'$date': {'$numberLong': '1703052131000'}}</td>\n",
       "      <td>{'FromDescription': ['year eve', 'eve parties'...</td>\n",
       "      <td>{'TitleRaw': 'Airbnb set to use AI to help ide...</td>\n",
       "      <td>{'FromDescription': [{'Position': 0, 'Text': '...</td>\n",
       "      <td>[600]</td>\n",
       "      <td>[Airbnb]</td>\n",
       "      <td>[]</td>\n",
       "      <td>https://actawarenewsdev.blob.core.windows.net/...</td>\n",
       "    </tr>\n",
       "  </tbody>\n",
       "</table>\n",
       "</div>"
      ],
      "text/plain": [
       "                                    _id                     Source SourceType  \\\n",
       "0  {'$oid': '65847e46b1f6ca8a8b0b8f75'}  Daily mail Latest Stories        rss   \n",
       "1  {'$oid': '65847e9cb1f6ca8a8b0b90e0'}              SkyNews World        rss   \n",
       "2  {'$oid': '6583d30c76e5f558ad9e1f1a'}  Daily mail Australia news        rss   \n",
       "3  {'$oid': '658327bb7d2f9da2e581735a'}  Daily mail Latest Stories        rss   \n",
       "4  {'$oid': '6582d237443658d5c3f41ea0'}            Daily mail News        rss   \n",
       "\n",
       "                                               Title  \\\n",
       "0  BBC is urged to sack UK's Eurovision entrant O...   \n",
       "1  UK Eurovision act Olly Alexander criticised fo...   \n",
       "2  Shocking sight at McDonald's as staff complain...   \n",
       "3  Prince Andrew 'invited former Goldman Sachs ba...   \n",
       "4  Airbnb set to use AI to help identify unauthor...   \n",
       "\n",
       "                                               Links  \\\n",
       "0  {'ArticleUrl': 'https://www.dailymail.co.uk/ne...   \n",
       "1  {'ArticleUrl': 'https://news.sky.com/story/uk-...   \n",
       "2  {'ArticleUrl': 'https://www.dailymail.co.uk/ne...   \n",
       "3  {'ArticleUrl': 'https://www.dailymail.co.uk/ne...   \n",
       "4  {'ArticleUrl': 'https://www.dailymail.co.uk/ne...   \n",
       "\n",
       "                                         Description  \\\n",
       "0  The BBC is being urged to drop singer Olly Ale...   \n",
       "1  Olly Alexander, the UK's new Eurovision act, h...   \n",
       "2  A union representative claims they were barred...   \n",
       "3  The Duke invited a gun smuggler and an alleged...   \n",
       "4  Airbnb is set to use artificial intelligence t...   \n",
       "\n",
       "                                             Content  \\\n",
       "0  The BBC is being urged to drop singer Olly Ale...   \n",
       "1  Olly Alexander, the UK's new Eurovision act, h...   \n",
       "2  A union representative claims they were barred...   \n",
       "3  The Duke invited a gun smuggler and an alleged...   \n",
       "4  Airbnb is set to use artificial intelligence t...   \n",
       "\n",
       "                                 PublishedDate  \\\n",
       "0  {'$date': {'$numberLong': '1703164970000'}}   \n",
       "1  {'$date': {'$numberLong': '1703153940000'}}   \n",
       "2  {'$date': {'$numberLong': '1703118302000'}}   \n",
       "3  {'$date': {'$numberLong': '1703071650000'}}   \n",
       "4  {'$date': {'$numberLong': '1703052131000'}}   \n",
       "\n",
       "                                            Keywords  \\\n",
       "0  {'FromDescription': ['olly alexander', 'singer...   \n",
       "1  {'FromDescription': ['accusing israel', 'olly ...   \n",
       "2  {'FromDescription': ['hindley street', 'repres...   \n",
       "3  {'FromDescription': ['james palace', 'alleged ...   \n",
       "4  {'FromDescription': ['year eve', 'eve parties'...   \n",
       "\n",
       "                                     ProcessingSteps  \\\n",
       "0  {'TitleRaw': 'BBC is urged to sack UK's Eurovi...   \n",
       "1  {'TitleRaw': 'UK Eurovision act Olly Alexander...   \n",
       "2  {'TitleRaw': 'Shocking sight at McDonald's as ...   \n",
       "3  {'TitleRaw': 'Prince Andrew 'invited former Go...   \n",
       "4  {'TitleRaw': 'Airbnb set to use AI to help ide...   \n",
       "\n",
       "                                                NERs  QType MatchedCompanies  \\\n",
       "0  {'FromDescription': [{'Position': 4, 'Text': '...  [200]            [BBC]   \n",
       "1  {'FromDescription': [{'Position': 20, 'Text': ...     []     [Eurovision]   \n",
       "2  {'FromDescription': [{'Position': 65, 'Text': ...  [500]     [McDonald's]   \n",
       "3  {'FromDescription': [{'Position': 60, 'Text': ...     []  [Goldman Sachs]   \n",
       "4  {'FromDescription': [{'Position': 0, 'Text': '...  [600]         [Airbnb]   \n",
       "\n",
       "  Authors                                           ImageUrl  \n",
       "0      []  https://actawarenewsdev.blob.core.windows.net/...  \n",
       "1      []  https://actawarenewsdev.blob.core.windows.net/...  \n",
       "2      []  https://actawarenewsdev.blob.core.windows.net/...  \n",
       "3      []  https://actawarenewsdev.blob.core.windows.net/...  \n",
       "4      []  https://actawarenewsdev.blob.core.windows.net/...  "
      ]
     },
     "execution_count": 4,
     "metadata": {},
     "output_type": "execute_result"
    }
   ],
   "source": [
    "data_df.head()"
   ]
  },
  {
   "cell_type": "code",
   "execution_count": 5,
   "metadata": {},
   "outputs": [
    {
     "data": {
      "text/plain": [
       "0        {'ArticleUrl': 'https://www.dailymail.co.uk/ne...\n",
       "1        {'ArticleUrl': 'https://news.sky.com/story/uk-...\n",
       "2        {'ArticleUrl': 'https://www.dailymail.co.uk/ne...\n",
       "3        {'ArticleUrl': 'https://www.dailymail.co.uk/ne...\n",
       "4        {'ArticleUrl': 'https://www.dailymail.co.uk/ne...\n",
       "                               ...                        \n",
       "11649    {'ArticleUrl': 'https://www.dailymail.co.uk/ne...\n",
       "11650    {'ArticleUrl': 'https://twitter.com/twitter/st...\n",
       "11651    {'ArticleUrl': 'https://www.dailymail.co.uk/ne...\n",
       "11652    {'ArticleUrl': 'https://www.foxnews.com/entert...\n",
       "11653    {'ArticleUrl': 'https://www.dailymail.co.uk/ne...\n",
       "Name: Links, Length: 11654, dtype: object"
      ]
     },
     "execution_count": 5,
     "metadata": {},
     "output_type": "execute_result"
    }
   ],
   "source": [
    "data_df['Links']"
   ]
  },
  {
   "cell_type": "code",
   "execution_count": 4,
   "metadata": {
    "colab": {
     "base_uri": "https://localhost:8080/",
     "height": 597
    },
    "id": "5aHWcpGl5EYi",
    "outputId": "3a1a1917-42b6-4143-dc8b-d5583f0457d7"
   },
   "outputs": [
    {
     "data": {
      "text/html": [
       "<div>\n",
       "<style scoped>\n",
       "    .dataframe tbody tr th:only-of-type {\n",
       "        vertical-align: middle;\n",
       "    }\n",
       "\n",
       "    .dataframe tbody tr th {\n",
       "        vertical-align: top;\n",
       "    }\n",
       "\n",
       "    .dataframe thead th {\n",
       "        text-align: right;\n",
       "    }\n",
       "</style>\n",
       "<table border=\"1\" class=\"dataframe\">\n",
       "  <thead>\n",
       "    <tr style=\"text-align: right;\">\n",
       "      <th></th>\n",
       "      <th>TitleRaw</th>\n",
       "      <th>DescriptionRaw</th>\n",
       "      <th>ContentRaw</th>\n",
       "      <th>TitleTokens</th>\n",
       "      <th>QTypeLogprob</th>\n",
       "    </tr>\n",
       "  </thead>\n",
       "  <tbody>\n",
       "    <tr>\n",
       "      <th>0</th>\n",
       "      <td>BBC is urged to sack UK's Eurovision entrant O...</td>\n",
       "      <td>The BBC is being urged to drop singer Olly Ale...</td>\n",
       "      <td>The BBC is being urged to drop singer Olly Ale...</td>\n",
       "      <td>[bbc, urged, sack, uk, eurovision, entrant, ol...</td>\n",
       "      <td>NaN</td>\n",
       "    </tr>\n",
       "    <tr>\n",
       "      <th>1</th>\n",
       "      <td>UK Eurovision act Olly Alexander criticised fo...</td>\n",
       "      <td>Olly Alexander, the UK's new Eurovision act, h...</td>\n",
       "      <td>Olly Alexander, the UK's new Eurovision act, h...</td>\n",
       "      <td>[uk, eurovision, act, olly, alexander, critici...</td>\n",
       "      <td>NaN</td>\n",
       "    </tr>\n",
       "    <tr>\n",
       "      <th>2</th>\n",
       "      <td>Shocking sight at McDonald's as staff complain...</td>\n",
       "      <td>A union representative claims they were barred...</td>\n",
       "      <td>A union representative claims they were barred...</td>\n",
       "      <td>[shocking, sight, mcdonalds, staff, complain, ...</td>\n",
       "      <td>NaN</td>\n",
       "    </tr>\n",
       "    <tr>\n",
       "      <th>3</th>\n",
       "      <td>Prince Andrew 'invited former Goldman Sachs ba...</td>\n",
       "      <td>The Duke invited a gun smuggler and an alleged...</td>\n",
       "      <td>The Duke invited a gun smuggler and an alleged...</td>\n",
       "      <td>[prince, andrew, invited, former, goldman, sac...</td>\n",
       "      <td>NaN</td>\n",
       "    </tr>\n",
       "    <tr>\n",
       "      <th>4</th>\n",
       "      <td>Airbnb set to use AI to help identify unauthor...</td>\n",
       "      <td>Airbnb is set to use artificial intelligence t...</td>\n",
       "      <td>Airbnb is set to use artificial intelligence t...</td>\n",
       "      <td>[airbnb, set, use, ai, help, identify, unautho...</td>\n",
       "      <td>NaN</td>\n",
       "    </tr>\n",
       "    <tr>\n",
       "      <th>...</th>\n",
       "      <td>...</td>\n",
       "      <td>...</td>\n",
       "      <td>...</td>\n",
       "      <td>...</td>\n",
       "      <td>...</td>\n",
       "    </tr>\n",
       "    <tr>\n",
       "      <th>11649</th>\n",
       "      <td>United Airlines passengers stranded in America...</td>\n",
       "      <td>'My daughter is now stranded, United decided t...</td>\n",
       "      <td>Hundreds of travellers missed out on Sydney's ...</td>\n",
       "      <td>[united, airline, passenger, stranded, america...</td>\n",
       "      <td>NaN</td>\n",
       "    </tr>\n",
       "    <tr>\n",
       "      <th>11650</th>\n",
       "      <td>⏪ 2022 rewind: 🤖 Global mobility technology co...</td>\n",
       "      <td>None</td>\n",
       "      <td>None</td>\n",
       "      <td>[fast, reverse, button, 2022, rewind, robot, g...</td>\n",
       "      <td>NaN</td>\n",
       "    </tr>\n",
       "    <tr>\n",
       "      <th>11651</th>\n",
       "      <td>Twitter sued after Elon Musk failed to pay ren...</td>\n",
       "      <td>Elon Musk's Twitter is being sued by the tech ...</td>\n",
       "      <td>Elon Musk's Twitter is being sued by the tech ...</td>\n",
       "      <td>[twitter, sued, elon, musk, failed, pay, rent,...</td>\n",
       "      <td>NaN</td>\n",
       "    </tr>\n",
       "    <tr>\n",
       "      <th>11652</th>\n",
       "      <td>Prince Harry should be stripped of royal title...</td>\n",
       "      <td>Prince Harry is continuing to lose support amo...</td>\n",
       "      <td>Prince Harry is continuing to lose support amo...</td>\n",
       "      <td>[prince, harry, stripped, royal, title, netfli...</td>\n",
       "      <td>NaN</td>\n",
       "    </tr>\n",
       "    <tr>\n",
       "      <th>11653</th>\n",
       "      <td>Alan Shearer nets VERY handsome Christmas bonu...</td>\n",
       "      <td>Alan Shearer is celebrating a handsome Christm...</td>\n",
       "      <td>Alan Shearer is celebrating a handsome Christm...</td>\n",
       "      <td>[alan, shearer, net, handsome, christmas, bonu...</td>\n",
       "      <td>NaN</td>\n",
       "    </tr>\n",
       "  </tbody>\n",
       "</table>\n",
       "<p>11654 rows × 5 columns</p>\n",
       "</div>"
      ],
      "text/plain": [
       "                                                TitleRaw  \\\n",
       "0      BBC is urged to sack UK's Eurovision entrant O...   \n",
       "1      UK Eurovision act Olly Alexander criticised fo...   \n",
       "2      Shocking sight at McDonald's as staff complain...   \n",
       "3      Prince Andrew 'invited former Goldman Sachs ba...   \n",
       "4      Airbnb set to use AI to help identify unauthor...   \n",
       "...                                                  ...   \n",
       "11649  United Airlines passengers stranded in America...   \n",
       "11650  ⏪ 2022 rewind: 🤖 Global mobility technology co...   \n",
       "11651  Twitter sued after Elon Musk failed to pay ren...   \n",
       "11652  Prince Harry should be stripped of royal title...   \n",
       "11653  Alan Shearer nets VERY handsome Christmas bonu...   \n",
       "\n",
       "                                          DescriptionRaw  \\\n",
       "0      The BBC is being urged to drop singer Olly Ale...   \n",
       "1      Olly Alexander, the UK's new Eurovision act, h...   \n",
       "2      A union representative claims they were barred...   \n",
       "3      The Duke invited a gun smuggler and an alleged...   \n",
       "4      Airbnb is set to use artificial intelligence t...   \n",
       "...                                                  ...   \n",
       "11649  'My daughter is now stranded, United decided t...   \n",
       "11650                                               None   \n",
       "11651  Elon Musk's Twitter is being sued by the tech ...   \n",
       "11652  Prince Harry is continuing to lose support amo...   \n",
       "11653  Alan Shearer is celebrating a handsome Christm...   \n",
       "\n",
       "                                              ContentRaw  \\\n",
       "0      The BBC is being urged to drop singer Olly Ale...   \n",
       "1      Olly Alexander, the UK's new Eurovision act, h...   \n",
       "2      A union representative claims they were barred...   \n",
       "3      The Duke invited a gun smuggler and an alleged...   \n",
       "4      Airbnb is set to use artificial intelligence t...   \n",
       "...                                                  ...   \n",
       "11649  Hundreds of travellers missed out on Sydney's ...   \n",
       "11650                                               None   \n",
       "11651  Elon Musk's Twitter is being sued by the tech ...   \n",
       "11652  Prince Harry is continuing to lose support amo...   \n",
       "11653  Alan Shearer is celebrating a handsome Christm...   \n",
       "\n",
       "                                             TitleTokens  QTypeLogprob  \n",
       "0      [bbc, urged, sack, uk, eurovision, entrant, ol...           NaN  \n",
       "1      [uk, eurovision, act, olly, alexander, critici...           NaN  \n",
       "2      [shocking, sight, mcdonalds, staff, complain, ...           NaN  \n",
       "3      [prince, andrew, invited, former, goldman, sac...           NaN  \n",
       "4      [airbnb, set, use, ai, help, identify, unautho...           NaN  \n",
       "...                                                  ...           ...  \n",
       "11649  [united, airline, passenger, stranded, america...           NaN  \n",
       "11650  [fast, reverse, button, 2022, rewind, robot, g...           NaN  \n",
       "11651  [twitter, sued, elon, musk, failed, pay, rent,...           NaN  \n",
       "11652  [prince, harry, stripped, royal, title, netfli...           NaN  \n",
       "11653  [alan, shearer, net, handsome, christmas, bonu...           NaN  \n",
       "\n",
       "[11654 rows x 5 columns]"
      ]
     },
     "execution_count": 4,
     "metadata": {},
     "output_type": "execute_result"
    }
   ],
   "source": [
    "df_pr_steps=pd.DataFrame(list(data_df['ProcessingSteps']))\n",
    "df_raw= pd.DataFrame({'TitleRaw': df_pr_steps['TitleRaw'], 'DescriptionRaw': df_pr_steps['DescriptionRaw'], 'ContentRaw': df_pr_steps['ContentRaw']})\n",
    "df_pr_steps"
   ]
  },
  {
   "cell_type": "code",
   "execution_count": 5,
   "metadata": {
    "colab": {
     "base_uri": "https://localhost:8080/",
     "height": 293
    },
    "id": "iHWUkz8t5E7C",
    "outputId": "4f667656-836d-464c-cc7f-1ffba3a9be97"
   },
   "outputs": [
    {
     "data": {
      "text/html": [
       "<div>\n",
       "<style scoped>\n",
       "    .dataframe tbody tr th:only-of-type {\n",
       "        vertical-align: middle;\n",
       "    }\n",
       "\n",
       "    .dataframe tbody tr th {\n",
       "        vertical-align: top;\n",
       "    }\n",
       "\n",
       "    .dataframe thead th {\n",
       "        text-align: right;\n",
       "    }\n",
       "</style>\n",
       "<table border=\"1\" class=\"dataframe\">\n",
       "  <thead>\n",
       "    <tr style=\"text-align: right;\">\n",
       "      <th></th>\n",
       "      <th>Keywords</th>\n",
       "      <th>MatchedCompanies</th>\n",
       "      <th>NERs</th>\n",
       "      <th>TitleRaw</th>\n",
       "      <th>DescriptionRaw</th>\n",
       "      <th>ContentRaw</th>\n",
       "    </tr>\n",
       "  </thead>\n",
       "  <tbody>\n",
       "    <tr>\n",
       "      <th>0</th>\n",
       "      <td>{'FromDescription': ['olly alexander', 'singer...</td>\n",
       "      <td>[BBC]</td>\n",
       "      <td>{'FromDescription': [{'Position': 4, 'Text': '...</td>\n",
       "      <td>BBC is urged to sack UK's Eurovision entrant O...</td>\n",
       "      <td>The BBC is being urged to drop singer Olly Ale...</td>\n",
       "      <td>The BBC is being urged to drop singer Olly Ale...</td>\n",
       "    </tr>\n",
       "    <tr>\n",
       "      <th>1</th>\n",
       "      <td>{'FromDescription': ['accusing israel', 'olly ...</td>\n",
       "      <td>[Eurovision]</td>\n",
       "      <td>{'FromDescription': [{'Position': 20, 'Text': ...</td>\n",
       "      <td>UK Eurovision act Olly Alexander criticised fo...</td>\n",
       "      <td>Olly Alexander, the UK's new Eurovision act, h...</td>\n",
       "      <td>Olly Alexander, the UK's new Eurovision act, h...</td>\n",
       "    </tr>\n",
       "    <tr>\n",
       "      <th>2</th>\n",
       "      <td>{'FromDescription': ['hindley street', 'repres...</td>\n",
       "      <td>[McDonald's]</td>\n",
       "      <td>{'FromDescription': [{'Position': 65, 'Text': ...</td>\n",
       "      <td>Shocking sight at McDonald's as staff complain...</td>\n",
       "      <td>A union representative claims they were barred...</td>\n",
       "      <td>A union representative claims they were barred...</td>\n",
       "    </tr>\n",
       "    <tr>\n",
       "      <th>3</th>\n",
       "      <td>{'FromDescription': ['james palace', 'alleged ...</td>\n",
       "      <td>[Goldman Sachs]</td>\n",
       "      <td>{'FromDescription': [{'Position': 60, 'Text': ...</td>\n",
       "      <td>Prince Andrew 'invited former Goldman Sachs ba...</td>\n",
       "      <td>The Duke invited a gun smuggler and an alleged...</td>\n",
       "      <td>The Duke invited a gun smuggler and an alleged...</td>\n",
       "    </tr>\n",
       "    <tr>\n",
       "      <th>4</th>\n",
       "      <td>{'FromDescription': ['year eve', 'eve parties'...</td>\n",
       "      <td>[Airbnb]</td>\n",
       "      <td>{'FromDescription': [{'Position': 0, 'Text': '...</td>\n",
       "      <td>Airbnb set to use AI to help identify unauthor...</td>\n",
       "      <td>Airbnb is set to use artificial intelligence t...</td>\n",
       "      <td>Airbnb is set to use artificial intelligence t...</td>\n",
       "    </tr>\n",
       "  </tbody>\n",
       "</table>\n",
       "</div>"
      ],
      "text/plain": [
       "                                            Keywords MatchedCompanies  \\\n",
       "0  {'FromDescription': ['olly alexander', 'singer...            [BBC]   \n",
       "1  {'FromDescription': ['accusing israel', 'olly ...     [Eurovision]   \n",
       "2  {'FromDescription': ['hindley street', 'repres...     [McDonald's]   \n",
       "3  {'FromDescription': ['james palace', 'alleged ...  [Goldman Sachs]   \n",
       "4  {'FromDescription': ['year eve', 'eve parties'...         [Airbnb]   \n",
       "\n",
       "                                                NERs  \\\n",
       "0  {'FromDescription': [{'Position': 4, 'Text': '...   \n",
       "1  {'FromDescription': [{'Position': 20, 'Text': ...   \n",
       "2  {'FromDescription': [{'Position': 65, 'Text': ...   \n",
       "3  {'FromDescription': [{'Position': 60, 'Text': ...   \n",
       "4  {'FromDescription': [{'Position': 0, 'Text': '...   \n",
       "\n",
       "                                            TitleRaw  \\\n",
       "0  BBC is urged to sack UK's Eurovision entrant O...   \n",
       "1  UK Eurovision act Olly Alexander criticised fo...   \n",
       "2  Shocking sight at McDonald's as staff complain...   \n",
       "3  Prince Andrew 'invited former Goldman Sachs ba...   \n",
       "4  Airbnb set to use AI to help identify unauthor...   \n",
       "\n",
       "                                      DescriptionRaw  \\\n",
       "0  The BBC is being urged to drop singer Olly Ale...   \n",
       "1  Olly Alexander, the UK's new Eurovision act, h...   \n",
       "2  A union representative claims they were barred...   \n",
       "3  The Duke invited a gun smuggler and an alleged...   \n",
       "4  Airbnb is set to use artificial intelligence t...   \n",
       "\n",
       "                                          ContentRaw  \n",
       "0  The BBC is being urged to drop singer Olly Ale...  \n",
       "1  Olly Alexander, the UK's new Eurovision act, h...  \n",
       "2  A union representative claims they were barred...  \n",
       "3  The Duke invited a gun smuggler and an alleged...  \n",
       "4  Airbnb is set to use artificial intelligence t...  "
      ]
     },
     "execution_count": 5,
     "metadata": {},
     "output_type": "execute_result"
    }
   ],
   "source": [
    "data_df_small=data_df[['Title', 'Keywords', 'MatchedCompanies', 'NERs']]\n",
    "data_df_small_all=data_df_small.join(df_raw, how='left')\n",
    "data_df_small_all=data_df_small_all.drop(['Title'], axis=1)\n",
    "data_df_small_all.head()"
   ]
  },
  {
   "cell_type": "code",
   "execution_count": 6,
   "metadata": {
    "colab": {
     "base_uri": "https://localhost:8080/"
    },
    "id": "SDDsy1McXcTY",
    "outputId": "e29968b0-b5db-4459-d157-bd22705dee7d"
   },
   "outputs": [
    {
     "data": {
      "text/plain": [
       "(11654, 6)"
      ]
     },
     "execution_count": 6,
     "metadata": {},
     "output_type": "execute_result"
    }
   ],
   "source": [
    "data_df_small_all.shape"
   ]
  },
  {
   "cell_type": "code",
   "execution_count": 10,
   "metadata": {},
   "outputs": [],
   "source": [
    "title_list=data_df_small_all['TitleRaw']"
   ]
  },
  {
   "cell_type": "code",
   "execution_count": 11,
   "metadata": {},
   "outputs": [
    {
     "data": {
      "text/plain": [
       "0        BBC is urged to sack UK's Eurovision entrant O...\n",
       "1        UK Eurovision act Olly Alexander criticised fo...\n",
       "2        Shocking sight at McDonald's as staff complain...\n",
       "3        Prince Andrew 'invited former Goldman Sachs ba...\n",
       "4        Airbnb set to use AI to help identify unauthor...\n",
       "                               ...                        \n",
       "11649    United Airlines passengers stranded in America...\n",
       "11650    ⏪ 2022 rewind: 🤖 Global mobility technology co...\n",
       "11651    Twitter sued after Elon Musk failed to pay ren...\n",
       "11652    Prince Harry should be stripped of royal title...\n",
       "11653    Alan Shearer nets VERY handsome Christmas bonu...\n",
       "Name: TitleRaw, Length: 11654, dtype: object"
      ]
     },
     "execution_count": 11,
     "metadata": {},
     "output_type": "execute_result"
    }
   ],
   "source": [
    "title_list"
   ]
  },
  {
   "cell_type": "markdown",
   "metadata": {
    "id": "3L94HGRe5LNk"
   },
   "source": [
    "### Preprocessing of data:\n",
    "- replace artifacts in data (patterns that are about ads/ newsletters) with ''\n",
    "- remove records which have empty list in `MatchedCompanies`\n",
    "- remove records which have `None` values in either TitleRaw or ContentRaw\n",
    "- remove emojis"
   ]
  },
  {
   "cell_type": "code",
   "execution_count": 8,
   "metadata": {
    "id": "Ag0818dSghcS"
   },
   "outputs": [],
   "source": [
    "#replace artefacts in ContentRaw with ''\n",
    "to_replace1='Get the free Morning Headlines email for news from our reporters across the world'\n",
    "to_replace2='Sign up to our free Morning Headlines'\n",
    "to_replace3='email Please enter a valid email address Please enter a valid email address SIGN UP'\n",
    "to_replace4='I would like to be emailed about offers, events and updates from The Independent.'\n",
    "to_replace5='Read our privacy notice'\n",
    "to_replace6='Thanks for signing up to the Morning Headlines email'\n",
    "to_replace7='{{ #verifyErrors }}'\n",
    "to_replace8='{{ message }}'\n",
    "to_replace9='{{ /verifyErrors }}'\n",
    "to_replace10='{{ ^verifyErrors }}'\n",
    "to_replace11='Something went wrong. Please try again later'\n",
    "to_replace12=r'Advertisement !- - ad:.*?- -> '\n",
    "to_replace13=r'<!- - ad:.*?- ->'\n",
    "to_replace14=r'<a href=.*?</a>'\n",
    "to_replace15=r'http.*? '\n",
    "to_replace16='CLICK HERE TO SUBSCRIBE TO FOX NATION'\n",
    "to_replace17='CLICK HERE FOR MORE SPORTS COVERAGE ON FOXNEWS.COM'\n",
    "to_replace18='CLICK HERE TO GET THE FOX NEWS APP'\n",
    "to_replace19='CREATE FREE ACCOUNT'\n",
    "to_replace20='CLICK HERE TO DONATE TO \"MAKE CAMO YOUR CAUSE\"'\n",
    "to_replace21='CLICK HERE FOR MORE SPORTS COVERAGE ON FOXNEWS.COM'\n",
    "to_replace22='subscribe to my free CyberGuy Report Newsletter by heading to Cyberguy.com/Newsletter CLICK HERE'"
   ]
  },
  {
   "cell_type": "code",
   "execution_count": 9,
   "metadata": {
    "id": "Xm5OlFBfhIul"
   },
   "outputs": [],
   "source": [
    "data_df_small_all['ContentRaw']=data_df_small_all['ContentRaw'].str.replace(to_replace1, '')\n",
    "data_df_small_all['ContentRaw']=data_df_small_all['ContentRaw'].str.replace(to_replace2, '')\n",
    "data_df_small_all['ContentRaw']=data_df_small_all['ContentRaw'].str.replace(to_replace3, '')\n",
    "data_df_small_all['ContentRaw']=data_df_small_all['ContentRaw'].str.replace(to_replace4, '')\n",
    "data_df_small_all['ContentRaw']=data_df_small_all['ContentRaw'].str.replace(to_replace5, '')\n",
    "data_df_small_all['ContentRaw']=data_df_small_all['ContentRaw'].str.replace(to_replace6, '')\n",
    "data_df_small_all['ContentRaw']=data_df_small_all['ContentRaw'].str.replace(to_replace7, '')\n",
    "data_df_small_all['ContentRaw']=data_df_small_all['ContentRaw'].str.replace(to_replace8, '')\n",
    "data_df_small_all['ContentRaw']=data_df_small_all['ContentRaw'].str.replace(to_replace9, '')\n",
    "data_df_small_all['ContentRaw']=data_df_small_all['ContentRaw'].str.replace(to_replace10, '')\n",
    "data_df_small_all['ContentRaw']=data_df_small_all['ContentRaw'].str.replace(to_replace11, '')\n",
    "data_df_small_all['ContentRaw']=data_df_small_all['ContentRaw'].str.replace(to_replace12, '', regex=True)\n",
    "data_df_small_all['ContentRaw']=data_df_small_all['ContentRaw'].str.replace(to_replace13, '', regex=True)\n",
    "data_df_small_all['ContentRaw']=data_df_small_all['ContentRaw'].str.replace(to_replace14, '', regex=True)\n",
    "data_df_small_all['ContentRaw']=data_df_small_all['ContentRaw'].str.replace(to_replace15, '', regex=True)\n",
    "data_df_small_all['ContentRaw']=data_df_small_all['ContentRaw'].str.replace(to_replace16, '')\n",
    "data_df_small_all['ContentRaw']=data_df_small_all['ContentRaw'].str.replace(to_replace17, '')\n",
    "data_df_small_all['ContentRaw']=data_df_small_all['ContentRaw'].str.replace(to_replace18, '')\n",
    "data_df_small_all['ContentRaw']=data_df_small_all['ContentRaw'].str.replace(to_replace19, '')\n",
    "data_df_small_all['ContentRaw']=data_df_small_all['ContentRaw'].str.replace(to_replace20, '')\n",
    "data_df_small_all['ContentRaw']=data_df_small_all['ContentRaw'].str.replace(to_replace21, '')\n",
    "data_df_small_all['ContentRaw']=data_df_small_all['ContentRaw'].str.replace(to_replace22, '')\n",
    "data_df_small_all['ContentRaw']=data_df_small_all['ContentRaw'].str.replace(r'\\s+', ' ', regex=True)"
   ]
  },
  {
   "cell_type": "code",
   "execution_count": 10,
   "metadata": {
    "colab": {
     "base_uri": "https://localhost:8080/",
     "height": 574
    },
    "id": "cSOYQfVdmHsE",
    "outputId": "0dcb15d9-2bd8-4fc8-b493-d9400c897c52"
   },
   "outputs": [
    {
     "data": {
      "text/plain": [
       "\"Before the US embargo, Cuba's home-grown coffee was world famous Cuba conjures up images of big cigars, classic American cars, revolution, rum and Fidel Castro. What the Caribbean island is less well known for is coffee. Once one of the world's biggest producers, coffee growing has slumped since US President John F Kennedy imposed an economic embargo on Castro's pro-Soviet regime in early 1962 – but there are hopes of a revival. Britain's many lovers of a morning coffee will soon have a chance to judge for themselves whether Cuba's product still has the famed chocolate and nutty flavours, complemented by overtones of tobacco, that gained it a world-class reputation before the embargo. Flying the flag: Cuba produced 50,000 tons a year at its peak in the 1950s, but the latest annual production total is just 8,000 tons Italian coffee giant Lavazza has just struck a deal with Sainsbury's and Waitrose to bring Cuban coffee to the UK market for the first time. It will be available under the Tierra label. It is part of a wider plan to kickstart the Cuban coffee sector which, under the embargo, has virtually disappeared. It produced 50,000 tons a year at its peak in the 1950s. The latest annual production total is just 8,000 tons. The grinding US sanctions continue to exact a huge toll on all aspects of economic life in Cuba, making it a Cold War relic which is seemingly frozen in time. Cuba imports most of the food and fuel it consumes. Power cuts are common as the cash-starved economy nosedives. Inflation is a startling 45 per cent and the currency is in freefall. Tourists have failed to return in significant numbers since the pandemic, depriving Cuba of foreign currency and spending power. But resurrecting the coffee industry would be an important step for Cuba, as coffee is one of the world's most traded commodities. The revival is centred in the Sierra Maestra mountains of eastern Cuba. Steeped in history, it was from this thickly forested range that Castro and his revolutionaries launched a series of guerilla attacks on the country's government. Revival: Farmer Tony Infante, right, is switching over from cattle to coffee The military dictator Fulgencio Batista was eventually overthrown in 1959. As the US sanctions make it difficult for businesses to operate there, Lavazza has been working through its charitable foundation for several years in this region to kickstart the industry. Hefty subsidies from the Cuban government to plant coffee in the forests are also bolstering efforts. Lavazza has been busy teaching farming techniques and marketing nous to around 170 farmers in the area in a campaign to revive the coffee growing industry. 'The project is about creating the environment for Cuban coffee to be sold,' says Veronica Rossi, senior sustainability manager with the foundation. Rafael Antonio Infante, also known as 'Tony', is one of the farmers working with Lavazza. Tony used to rear cattle but has turned over a third of his 37 acre farm to growing organic, hand-picked coffee. And he is looking to expand. Why? 'Because the market is secure – and coffee is more profitable than cows,' he laughs. Lavazza's foundation – which works in 20 countries on three continents to improve coffee crop yields – has taken a leading role following a partnership with Oxfam in Cuba in 2018. Oxfam later closed all of its Caribbean offices as part of a cost- cutting drive after donations dried up during the pandemic, so the foundation was left to deal directly with the Cuban government. 'This is the first time we've partnered with a government and turned it into a joint venture,' Rossi explains. 'It's a very good experiment for us.' All the profits made from exporting Cuban coffee will be reinvested in the 20-year project, she adds. MIDAS SHARE TIPS: Sign up a high flying recruiter like Gattaca to lift your funds Companies, politicians and policy wonks are often at odds but they are in almost unanimous agreement on one point – the UK needs more technology geeks, scientists and engineers. Gattaca is a recruitment firm specialising in the so-called STEM sector – science, technology, engineering and maths. The stock is trading at £1.24, the company is in the middle of a turnaround programme under chief executive Matthew Wragg and the price should increase as his efforts bear fruit. 'Cuban coffee is good, fair and clean' Cuba's coffee comeback will take time and scaling up will be hampered as long as sanctions remain. Only last month the UK was among 187 countries that backed a United Nations resolution to lift the blockade on Cuba. But it remains in place after the move was vetoed by the US, which still describes Cuba as a terrorist state. Perhaps Vietnam – another one-party, centralised communist country – provides a template. In just four decades it has come from nowhere to be the world's second largest coffee producer. The difference is that Vietnam cleared its forests to make way for coffee plantations. Cuba has gone the opposite way, re-foresting on a huge scale. That, and the fact that it lacks fertilisers because of the blockade, bolsters Cuba's sustainable 'green' coffee credentials. The use of blockchain technology – giving each coffee bag its own code that cannot be changed –enhances certification. Robeldi Nicot Terrero, president of Agroforestal, the state-owned company which manages the environment, insists Cuba can compete on the world stage again. 'Cuban coffee is the best,' he says. 'It's good, fair and clean.'\""
      ]
     },
     "execution_count": 10,
     "metadata": {},
     "output_type": "execute_result"
    }
   ],
   "source": [
    "data_df_small_all.iloc[80]['ContentRaw']"
   ]
  },
  {
   "cell_type": "code",
   "execution_count": 13,
   "metadata": {
    "id": "75qNIhwU6uwG"
   },
   "outputs": [
    {
     "data": {
      "text/plain": [
       "(10698, 6)"
      ]
     },
     "execution_count": 13,
     "metadata": {},
     "output_type": "execute_result"
    }
   ],
   "source": [
    "# remove records which have `None` values in either TitleRaw or ContentRaw\n",
    "index_with_none=data_df_small_all[data_df_small_all['ContentRaw'].isnull() + data_df_small_all['TitleRaw'].isnull()].index\n",
    "data_df_small_no_none=data_df_small_all.drop(index_with_none).reset_index()\n",
    "data_df_small_no_none=data_df_small_no_none.drop(['index'], axis=1)\n",
    "data_df_small_no_none.shape"
   ]
  },
  {
   "cell_type": "code",
   "execution_count": 16,
   "metadata": {},
   "outputs": [
    {
     "data": {
      "text/plain": [
       "np.float64(3540.5553374462515)"
      ]
     },
     "execution_count": 16,
     "metadata": {},
     "output_type": "execute_result"
    }
   ],
   "source": [
    "data_df_small_no_none['ContentRaw'].apply(len).mean()"
   ]
  },
  {
   "cell_type": "code",
   "execution_count": 12,
   "metadata": {
    "id": "t1c44Ck260dA"
   },
   "outputs": [
    {
     "data": {
      "text/plain": [
       "(10698, 6)"
      ]
     },
     "execution_count": 12,
     "metadata": {},
     "output_type": "execute_result"
    }
   ],
   "source": [
    "# remove records which have empty list in `MatchedCompanies`\n",
    "data_df_small_no_empty = data_df_small_no_none[data_df_small_no_none['MatchedCompanies'].apply(len)>0]\n",
    "data_df_small_no_empty.shape"
   ]
  },
  {
   "cell_type": "code",
   "execution_count": 13,
   "metadata": {
    "colab": {
     "base_uri": "https://localhost:8080/",
     "height": 293
    },
    "id": "xBFPFJiW60ig",
    "outputId": "bac41d7e-1e8c-407a-b9f7-67da20fd1c61"
   },
   "outputs": [
    {
     "data": {
      "text/html": [
       "<div>\n",
       "<style scoped>\n",
       "    .dataframe tbody tr th:only-of-type {\n",
       "        vertical-align: middle;\n",
       "    }\n",
       "\n",
       "    .dataframe tbody tr th {\n",
       "        vertical-align: top;\n",
       "    }\n",
       "\n",
       "    .dataframe thead th {\n",
       "        text-align: right;\n",
       "    }\n",
       "</style>\n",
       "<table border=\"1\" class=\"dataframe\">\n",
       "  <thead>\n",
       "    <tr style=\"text-align: right;\">\n",
       "      <th></th>\n",
       "      <th>Keywords</th>\n",
       "      <th>MatchedCompanies</th>\n",
       "      <th>NERs</th>\n",
       "      <th>TitleRaw</th>\n",
       "      <th>DescriptionRaw</th>\n",
       "      <th>ContentRaw</th>\n",
       "    </tr>\n",
       "  </thead>\n",
       "  <tbody>\n",
       "    <tr>\n",
       "      <th>0</th>\n",
       "      <td>{'FromDescription': ['olly alexander', 'singer...</td>\n",
       "      <td>[BBC]</td>\n",
       "      <td>{'FromDescription': [{'Position': 4, 'Text': '...</td>\n",
       "      <td>BBC is urged to sack UK's Eurovision entrant O...</td>\n",
       "      <td>The BBC is being urged to drop singer Olly Ale...</td>\n",
       "      <td>The BBC is being urged to drop singer Olly Ale...</td>\n",
       "    </tr>\n",
       "    <tr>\n",
       "      <th>1</th>\n",
       "      <td>{'FromDescription': ['accusing israel', 'olly ...</td>\n",
       "      <td>[Eurovision]</td>\n",
       "      <td>{'FromDescription': [{'Position': 20, 'Text': ...</td>\n",
       "      <td>UK Eurovision act Olly Alexander criticised fo...</td>\n",
       "      <td>Olly Alexander, the UK's new Eurovision act, h...</td>\n",
       "      <td>Olly Alexander, the UK's new Eurovision act, h...</td>\n",
       "    </tr>\n",
       "    <tr>\n",
       "      <th>2</th>\n",
       "      <td>{'FromDescription': ['hindley street', 'repres...</td>\n",
       "      <td>[McDonald's]</td>\n",
       "      <td>{'FromDescription': [{'Position': 65, 'Text': ...</td>\n",
       "      <td>Shocking sight at McDonald's as staff complain...</td>\n",
       "      <td>A union representative claims they were barred...</td>\n",
       "      <td>A union representative claims they were barred...</td>\n",
       "    </tr>\n",
       "    <tr>\n",
       "      <th>3</th>\n",
       "      <td>{'FromDescription': ['james palace', 'alleged ...</td>\n",
       "      <td>[Goldman Sachs]</td>\n",
       "      <td>{'FromDescription': [{'Position': 60, 'Text': ...</td>\n",
       "      <td>Prince Andrew 'invited former Goldman Sachs ba...</td>\n",
       "      <td>The Duke invited a gun smuggler and an alleged...</td>\n",
       "      <td>The Duke invited a gun smuggler and an alleged...</td>\n",
       "    </tr>\n",
       "    <tr>\n",
       "      <th>4</th>\n",
       "      <td>{'FromDescription': ['year eve', 'eve parties'...</td>\n",
       "      <td>[Airbnb]</td>\n",
       "      <td>{'FromDescription': [{'Position': 0, 'Text': '...</td>\n",
       "      <td>Airbnb set to use AI to help identify unauthor...</td>\n",
       "      <td>Airbnb is set to use artificial intelligence t...</td>\n",
       "      <td>Airbnb is set to use artificial intelligence t...</td>\n",
       "    </tr>\n",
       "  </tbody>\n",
       "</table>\n",
       "</div>"
      ],
      "text/plain": [
       "                                            Keywords MatchedCompanies  \\\n",
       "0  {'FromDescription': ['olly alexander', 'singer...            [BBC]   \n",
       "1  {'FromDescription': ['accusing israel', 'olly ...     [Eurovision]   \n",
       "2  {'FromDescription': ['hindley street', 'repres...     [McDonald's]   \n",
       "3  {'FromDescription': ['james palace', 'alleged ...  [Goldman Sachs]   \n",
       "4  {'FromDescription': ['year eve', 'eve parties'...         [Airbnb]   \n",
       "\n",
       "                                                NERs  \\\n",
       "0  {'FromDescription': [{'Position': 4, 'Text': '...   \n",
       "1  {'FromDescription': [{'Position': 20, 'Text': ...   \n",
       "2  {'FromDescription': [{'Position': 65, 'Text': ...   \n",
       "3  {'FromDescription': [{'Position': 60, 'Text': ...   \n",
       "4  {'FromDescription': [{'Position': 0, 'Text': '...   \n",
       "\n",
       "                                            TitleRaw  \\\n",
       "0  BBC is urged to sack UK's Eurovision entrant O...   \n",
       "1  UK Eurovision act Olly Alexander criticised fo...   \n",
       "2  Shocking sight at McDonald's as staff complain...   \n",
       "3  Prince Andrew 'invited former Goldman Sachs ba...   \n",
       "4  Airbnb set to use AI to help identify unauthor...   \n",
       "\n",
       "                                      DescriptionRaw  \\\n",
       "0  The BBC is being urged to drop singer Olly Ale...   \n",
       "1  Olly Alexander, the UK's new Eurovision act, h...   \n",
       "2  A union representative claims they were barred...   \n",
       "3  The Duke invited a gun smuggler and an alleged...   \n",
       "4  Airbnb is set to use artificial intelligence t...   \n",
       "\n",
       "                                          ContentRaw  \n",
       "0  The BBC is being urged to drop singer Olly Ale...  \n",
       "1  Olly Alexander, the UK's new Eurovision act, h...  \n",
       "2  A union representative claims they were barred...  \n",
       "3  The Duke invited a gun smuggler and an alleged...  \n",
       "4  Airbnb is set to use artificial intelligence t...  "
      ]
     },
     "execution_count": 13,
     "metadata": {},
     "output_type": "execute_result"
    }
   ],
   "source": [
    "data_df_small_no_empty.head()"
   ]
  },
  {
   "cell_type": "code",
   "execution_count": 14,
   "metadata": {
    "id": "4eQqT_lu7BiE"
   },
   "outputs": [],
   "source": [
    "#remove emoji\n",
    "data_df_small_no_emoji=copy.deepcopy(data_df_small_no_empty)\n",
    "for i in range(data_df_small_no_emoji.shape[0]):\n",
    "  title_raw=data_df_small_no_emoji['TitleRaw'][i]\n",
    "  title_raw=title_raw.replace('\\n\\n', ' ')\n",
    "  title_raw=title_raw.replace('\\n', '')\n",
    "  description_raw=data_df_small_no_emoji['DescriptionRaw'][i]\n",
    "  description_raw=description_raw.replace('\\n\\n', ' ')\n",
    "  description_raw=description_raw.replace('\\n', '')\n",
    "  content_raw=data_df_small_no_emoji['ContentRaw'][i]\n",
    "  content_raw=content_raw.replace('\\n\\n', ' ')\n",
    "  content_raw=content_raw.replace('\\n', '')\n",
    "  data_df_small_no_emoji['TitleRaw'][i]=emoji.replace_emoji(title_raw, '')\n",
    "  data_df_small_no_emoji['DescriptionRaw'][i]=emoji.replace_emoji(description_raw, '')\n",
    "  data_df_small_no_emoji['ContentRaw'][i]=emoji.replace_emoji(content_raw, '')"
   ]
  },
  {
   "cell_type": "code",
   "execution_count": 15,
   "metadata": {
    "colab": {
     "base_uri": "https://localhost:8080/",
     "height": 123
    },
    "id": "Wa5xaz-u7ESl",
    "outputId": "25ec0114-5a6e-4070-af85-cc0a6c75edd6"
   },
   "outputs": [
    {
     "data": {
      "text/plain": [
       "\"The BBC is being urged to drop singer Olly Alexander as its entrant for Eurovision after it emerged he signed a letter calling Israel an 'apartheid regime'. The Years And Years frontman, 33, was unveiled as next year's candidate for the UK during the Strictly Come Dancing final, which aired on the BBC on Saturday. But he now faces having that role stripped from him after he signed a letter from LGBT charity Voices4London which described Israel as an 'apartheid regime' which is trying to 'ethnically cleanse' Palestine. The statement, which was published on October 20, almost two weeks after Hamas' October 7 attack, also says that Israel has 'terrorised' Palestinian people and there is now a 'genocide' taking place 'in real time'. The Conservatives have accused the BBC of 'either a massive oversight or sheer brass neck' for selecting Alexander, while a Jewish charity has called for him to be replaced and for the broadcaster to cut ties with him. The BBC is not planning on taking any action as the singer signed the letter weeks before he was unveiled as the UK's Eurovision act, the Telegraph reported. The BBC is being urged to drop singer Olly Alexander as its entrant for Eurovision after it emerged he signed letter calling Israel an 'apartheid regime' Alexander now faces having the role stripped from him after he reportedly signed a letter from LGBT charity Voices4London which described Israel an 'apartheid regime' Aerial view of buildings destroyed by Israeli air strikes in the Jabalia camp for Palestinian refugees in Gaza City on October 11 The letter which was allegedly signed by Alexander, who is non-binary and uses he/him pronouns, said: 'We are watching a genocide take place in real time. 'Death overflows from our phone screens and into our hearts. And, as a queer community, we cannot sit idly by while the Israeli government continues to wipe out entire lineages of Palestinian families. 'We cannot untangle these recent tragedies from a violent history of occupation. 'Current events simply are an escalation of the state of Israel's apartheid regime, which acts to ethnically cleanse the land. 'Since the violent creation of the state 75 years ago, the Israeli military and Israeli settlers have continued to terrorise Palestinian people.' 'Queer and trans Palestinians have long highlighted that pinkwashing plays a significant role in Zionist propaganda. 'We stand against any and all harassment and discrimination against Jewish communities. 'For the many queer and anti-Zionist Jewish individuals invested in liberation, this unthinking philosemitism, which hesitates to criticise an ongoing genocide out of fear of being seen to criticise Jewish people, is simply the other face of anti-Semitism'. Olly Alexander was announced as the UK's entry for Eurovision next year The Years And Years frontman, 33, made the announcement during Saturday's live final of Strictly Come Dancing as the audience cheered along After it emerged that Alexander had signed the letter, a Conservative Party source told The Telegraph: 'Letting an openly anti-Israel singer compete on the same stage as Israel is either a massive oversight or sheer brass neck from the BBC. 'After they refused to call Hamas a terrorist organisation, you would think BBC bosses would try to steer clear of causing any more diplomatic blunders. 'Maybe it's time to stop letting the BBC decide who represents the UK at Eurovision.' Meanwhile, a spokesman for the Jewish charity Campaign Against Antisemitism told the newspaper: 'The rhetoric in this letter, which is seemingly endorsed by Olly Alexander, is extreme. It is appalling in particular that it condemns 'unthinking philosemitism. 'At a time when nearly seven in ten British Jews feel afraid to express their identity in public, this must not be the person to represent our country at the Eurovision Song Contest. The BBC can and must right this wrong.' Alexander is set to represent the UK in Sweden in 2024 and has promised to 'fly the flag for the UK in the gayest way possible'. Following the announcement on Saturday, Alexander said in a statement: 'I've loved watching Eurovision ever since I was a little kid and I'm beyond excited to be taking part next year. 'As a young boy I always looked forward to this incredible event of unbridled joy, the wonderfully chaotic mix of musical styles, theatrical performances, heartfelt emotion and humour.' Olly Alexander performing live on stage with his band Years and Years at Wembley Arena in 2022 Sir Elton John and Olly Alexander perform during The BRIT Awards 2021 at The O2 Arena The UK has won Eurovision five times, with the last time being in 1997 when Katrina & The Waves performed Love Shine A Light . Prior to that, the UK stormed to victory in 1981 with Bucks Fizz's Makin' Your Mind Up, and in 1976 with Brotherhood Of Man's Save Your Kisses For Me. In 1969, Lulu, who performed Boom Bang-a-Bang came first in a four-way joint tie with France, the Netherlands and Spain. The UK's first ever Eurovision victory came 11 years after the annual competition launched with Sandie Shaw's Puppet on a String in 1967. Israel has won the competition four times after its debut in the competition in 1973 as the first non-European country to participate in the event. MailOnline has contacted Alexander's representatives for comment. The BBC declined to comment.\""
      ]
     },
     "execution_count": 15,
     "metadata": {},
     "output_type": "execute_result"
    }
   ],
   "source": [
    "list_of_contents=data_df_small_no_emoji['ContentRaw']\n",
    "list_of_contents[0]"
   ]
  },
  {
   "cell_type": "code",
   "execution_count": 16,
   "metadata": {
    "colab": {
     "base_uri": "https://localhost:8080/"
    },
    "id": "0kmAsF9a7God",
    "outputId": "c3e1ee4c-997f-43d4-fcb1-cfd5ec895ed7"
   },
   "outputs": [
    {
     "name": "stdout",
     "output_type": "stream",
     "text": [
      "The percentage of data that had None values in 'TopicRaw' or 'ContentRaw' or no matched companies: 8.2%.\n"
     ]
    }
   ],
   "source": [
    "print(f\"The percentage of data that had None values in 'TopicRaw' or 'ContentRaw' or no matched companies: {np.round(100-len(list_of_contents)/data_df_small_all.shape[0]*100, 2)}%.\")"
   ]
  },
  {
   "cell_type": "code",
   "execution_count": 17,
   "metadata": {
    "id": "AQihDwtw7Hu3"
   },
   "outputs": [],
   "source": [
    "#save into file list_of_contents\n",
    "with open(PATH_TO_SAVE_PREPROCESSED+'list_of_contents_new.txt', 'w') as file:\n",
    "  for string in list_of_contents:\n",
    "    file.write(string + '\\n')\n",
    "#save into file data_df_small_no_emoji\n",
    "data_df_small_no_emoji.to_csv(PATH_TO_SAVE_PREPROCESSED+'data_df_small_no_emoji_without_http.csv', index=False)"
   ]
  },
  {
   "cell_type": "code",
   "execution_count": 19,
   "metadata": {
    "colab": {
     "base_uri": "https://localhost:8080/",
     "height": 597
    },
    "id": "p4oEe5SK8mr8",
    "outputId": "effea0f4-5932-41ba-f4af-9281b0091e65"
   },
   "outputs": [
    {
     "data": {
      "text/html": [
       "<div>\n",
       "<style scoped>\n",
       "    .dataframe tbody tr th:only-of-type {\n",
       "        vertical-align: middle;\n",
       "    }\n",
       "\n",
       "    .dataframe tbody tr th {\n",
       "        vertical-align: top;\n",
       "    }\n",
       "\n",
       "    .dataframe thead th {\n",
       "        text-align: right;\n",
       "    }\n",
       "</style>\n",
       "<table border=\"1\" class=\"dataframe\">\n",
       "  <thead>\n",
       "    <tr style=\"text-align: right;\">\n",
       "      <th></th>\n",
       "      <th>Keywords</th>\n",
       "      <th>MatchedCompanies</th>\n",
       "      <th>NERs</th>\n",
       "      <th>TitleRaw</th>\n",
       "      <th>DescriptionRaw</th>\n",
       "      <th>ContentRaw</th>\n",
       "    </tr>\n",
       "  </thead>\n",
       "  <tbody>\n",
       "    <tr>\n",
       "      <th>0</th>\n",
       "      <td>{'FromDescription': ['olly alexander', 'singer...</td>\n",
       "      <td>['BBC']</td>\n",
       "      <td>{'FromDescription': [{'Position': 4, 'Text': '...</td>\n",
       "      <td>BBC is urged to sack UK's Eurovision entrant O...</td>\n",
       "      <td>The BBC is being urged to drop singer Olly Ale...</td>\n",
       "      <td>The BBC is being urged to drop singer Olly Ale...</td>\n",
       "    </tr>\n",
       "    <tr>\n",
       "      <th>1</th>\n",
       "      <td>{'FromDescription': ['accusing israel', 'olly ...</td>\n",
       "      <td>['Eurovision']</td>\n",
       "      <td>{'FromDescription': [{'Position': 20, 'Text': ...</td>\n",
       "      <td>UK Eurovision act Olly Alexander criticised fo...</td>\n",
       "      <td>Olly Alexander, the UK's new Eurovision act, h...</td>\n",
       "      <td>Olly Alexander, the UK's new Eurovision act, h...</td>\n",
       "    </tr>\n",
       "    <tr>\n",
       "      <th>2</th>\n",
       "      <td>{'FromDescription': ['hindley street', 'repres...</td>\n",
       "      <td>[\"McDonald's\"]</td>\n",
       "      <td>{'FromDescription': [{'Position': 65, 'Text': ...</td>\n",
       "      <td>Shocking sight at McDonald's as staff complain...</td>\n",
       "      <td>A union representative claims they were barred...</td>\n",
       "      <td>A union representative claims they were barred...</td>\n",
       "    </tr>\n",
       "    <tr>\n",
       "      <th>3</th>\n",
       "      <td>{'FromDescription': ['james palace', 'alleged ...</td>\n",
       "      <td>['Goldman Sachs']</td>\n",
       "      <td>{'FromDescription': [{'Position': 60, 'Text': ...</td>\n",
       "      <td>Prince Andrew 'invited former Goldman Sachs ba...</td>\n",
       "      <td>The Duke invited a gun smuggler and an alleged...</td>\n",
       "      <td>The Duke invited a gun smuggler and an alleged...</td>\n",
       "    </tr>\n",
       "    <tr>\n",
       "      <th>4</th>\n",
       "      <td>{'FromDescription': ['year eve', 'eve parties'...</td>\n",
       "      <td>['Airbnb']</td>\n",
       "      <td>{'FromDescription': [{'Position': 0, 'Text': '...</td>\n",
       "      <td>Airbnb set to use AI to help identify unauthor...</td>\n",
       "      <td>Airbnb is set to use artificial intelligence t...</td>\n",
       "      <td>Airbnb is set to use artificial intelligence t...</td>\n",
       "    </tr>\n",
       "  </tbody>\n",
       "</table>\n",
       "</div>"
      ],
      "text/plain": [
       "                                            Keywords   MatchedCompanies  \\\n",
       "0  {'FromDescription': ['olly alexander', 'singer...            ['BBC']   \n",
       "1  {'FromDescription': ['accusing israel', 'olly ...     ['Eurovision']   \n",
       "2  {'FromDescription': ['hindley street', 'repres...     [\"McDonald's\"]   \n",
       "3  {'FromDescription': ['james palace', 'alleged ...  ['Goldman Sachs']   \n",
       "4  {'FromDescription': ['year eve', 'eve parties'...         ['Airbnb']   \n",
       "\n",
       "                                                NERs  \\\n",
       "0  {'FromDescription': [{'Position': 4, 'Text': '...   \n",
       "1  {'FromDescription': [{'Position': 20, 'Text': ...   \n",
       "2  {'FromDescription': [{'Position': 65, 'Text': ...   \n",
       "3  {'FromDescription': [{'Position': 60, 'Text': ...   \n",
       "4  {'FromDescription': [{'Position': 0, 'Text': '...   \n",
       "\n",
       "                                            TitleRaw  \\\n",
       "0  BBC is urged to sack UK's Eurovision entrant O...   \n",
       "1  UK Eurovision act Olly Alexander criticised fo...   \n",
       "2  Shocking sight at McDonald's as staff complain...   \n",
       "3  Prince Andrew 'invited former Goldman Sachs ba...   \n",
       "4  Airbnb set to use AI to help identify unauthor...   \n",
       "\n",
       "                                      DescriptionRaw  \\\n",
       "0  The BBC is being urged to drop singer Olly Ale...   \n",
       "1  Olly Alexander, the UK's new Eurovision act, h...   \n",
       "2  A union representative claims they were barred...   \n",
       "3  The Duke invited a gun smuggler and an alleged...   \n",
       "4  Airbnb is set to use artificial intelligence t...   \n",
       "\n",
       "                                          ContentRaw  \n",
       "0  The BBC is being urged to drop singer Olly Ale...  \n",
       "1  Olly Alexander, the UK's new Eurovision act, h...  \n",
       "2  A union representative claims they were barred...  \n",
       "3  The Duke invited a gun smuggler and an alleged...  \n",
       "4  Airbnb is set to use artificial intelligence t...  "
      ]
     },
     "execution_count": 19,
     "metadata": {},
     "output_type": "execute_result"
    }
   ],
   "source": [
    "# how to read the data\n",
    "data_df_small_no_emoji_new=pd.read_csv(PATH_TO_SAVE_PREPROCESSED+'data_df_small_no_emoji_without_http.csv')\n",
    "data_df_small_no_emoji_new.head()"
   ]
  },
  {
   "cell_type": "code",
   "execution_count": 20,
   "metadata": {
    "colab": {
     "base_uri": "https://localhost:8080/",
     "height": 123
    },
    "id": "PT9-gX8WDga0",
    "outputId": "1a664eda-39ef-41fc-c19f-b234433c83dd"
   },
   "outputs": [
    {
     "data": {
      "text/plain": [
       "\"The BBC is being urged to drop singer Olly Alexander as its entrant for Eurovision after it emerged he signed a letter calling Israel an 'apartheid regime'. The Years And Years frontman, 33, was unveiled as next year's candidate for the UK during the Strictly Come Dancing final, which aired on the BBC on Saturday. But he now faces having that role stripped from him after he signed a letter from LGBT charity Voices4London which described Israel as an 'apartheid regime' which is trying to 'ethnically cleanse' Palestine. The statement, which was published on October 20, almost two weeks after Hamas' October 7 attack, also says that Israel has 'terrorised' Palestinian people and there is now a 'genocide' taking place 'in real time'. The Conservatives have accused the BBC of 'either a massive oversight or sheer brass neck' for selecting Alexander, while a Jewish charity has called for him to be replaced and for the broadcaster to cut ties with him. The BBC is not planning on taking any action as the singer signed the letter weeks before he was unveiled as the UK's Eurovision act, the Telegraph reported. The BBC is being urged to drop singer Olly Alexander as its entrant for Eurovision after it emerged he signed letter calling Israel an 'apartheid regime' Alexander now faces having the role stripped from him after he reportedly signed a letter from LGBT charity Voices4London which described Israel an 'apartheid regime' Aerial view of buildings destroyed by Israeli air strikes in the Jabalia camp for Palestinian refugees in Gaza City on October 11 The letter which was allegedly signed by Alexander, who is non-binary and uses he/him pronouns, said: 'We are watching a genocide take place in real time. 'Death overflows from our phone screens and into our hearts. And, as a queer community, we cannot sit idly by while the Israeli government continues to wipe out entire lineages of Palestinian families. 'We cannot untangle these recent tragedies from a violent history of occupation. 'Current events simply are an escalation of the state of Israel's apartheid regime, which acts to ethnically cleanse the land. 'Since the violent creation of the state 75 years ago, the Israeli military and Israeli settlers have continued to terrorise Palestinian people.' 'Queer and trans Palestinians have long highlighted that pinkwashing plays a significant role in Zionist propaganda. 'We stand against any and all harassment and discrimination against Jewish communities. 'For the many queer and anti-Zionist Jewish individuals invested in liberation, this unthinking philosemitism, which hesitates to criticise an ongoing genocide out of fear of being seen to criticise Jewish people, is simply the other face of anti-Semitism'. Olly Alexander was announced as the UK's entry for Eurovision next year The Years And Years frontman, 33, made the announcement during Saturday's live final of Strictly Come Dancing as the audience cheered along After it emerged that Alexander had signed the letter, a Conservative Party source told The Telegraph: 'Letting an openly anti-Israel singer compete on the same stage as Israel is either a massive oversight or sheer brass neck from the BBC. 'After they refused to call Hamas a terrorist organisation, you would think BBC bosses would try to steer clear of causing any more diplomatic blunders. 'Maybe it's time to stop letting the BBC decide who represents the UK at Eurovision.' Meanwhile, a spokesman for the Jewish charity Campaign Against Antisemitism told the newspaper: 'The rhetoric in this letter, which is seemingly endorsed by Olly Alexander, is extreme. It is appalling in particular that it condemns 'unthinking philosemitism. 'At a time when nearly seven in ten British Jews feel afraid to express their identity in public, this must not be the person to represent our country at the Eurovision Song Contest. The BBC can and must right this wrong.' Alexander is set to represent the UK in Sweden in 2024 and has promised to 'fly the flag for the UK in the gayest way possible'. Following the announcement on Saturday, Alexander said in a statement: 'I've loved watching Eurovision ever since I was a little kid and I'm beyond excited to be taking part next year. 'As a young boy I always looked forward to this incredible event of unbridled joy, the wonderfully chaotic mix of musical styles, theatrical performances, heartfelt emotion and humour.' Olly Alexander performing live on stage with his band Years and Years at Wembley Arena in 2022 Sir Elton John and Olly Alexander perform during The BRIT Awards 2021 at The O2 Arena The UK has won Eurovision five times, with the last time being in 1997 when Katrina & The Waves performed Love Shine A Light . Prior to that, the UK stormed to victory in 1981 with Bucks Fizz's Makin' Your Mind Up, and in 1976 with Brotherhood Of Man's Save Your Kisses For Me. In 1969, Lulu, who performed Boom Bang-a-Bang came first in a four-way joint tie with France, the Netherlands and Spain. The UK's first ever Eurovision victory came 11 years after the annual competition launched with Sandie Shaw's Puppet on a String in 1967. Israel has won the competition four times after its debut in the competition in 1973 as the first non-European country to participate in the event. MailOnline has contacted Alexander's representatives for comment. The BBC declined to comment.\\n\""
      ]
     },
     "execution_count": 20,
     "metadata": {},
     "output_type": "execute_result"
    }
   ],
   "source": [
    "# how to read the data\n",
    "path_list=PATH_TO_SAVE_PREPROCESSED+'list_of_contents_new.txt'\n",
    "with open(path_list, 'r') as file:\n",
    "  list_of_contents_new = file.readlines()\n",
    "list_of_contents_new[0]"
   ]
  },
  {
   "cell_type": "code",
   "execution_count": 21,
   "metadata": {
    "colab": {
     "base_uri": "https://localhost:8080/",
     "height": 539
    },
    "id": "436HEF04iacs",
    "outputId": "a18d1ef4-f507-464a-c732-c48e9a9a6693"
   },
   "outputs": [
    {
     "data": {
      "text/plain": [
       "\"Agatha Christie's great-grandson has suggested she would have 'welcomed' the BBC's decision to change the race of the protagonist in the new adaptation of the crime writer's 1939 novel Murder is Easy. In the BBC's new series, the lead role of Luke Fitzwilliam - a retired police officer who investigates a serial killer in an English village- will be played by David Jonsson. The role had previously been played by Benedict Cumberbatch in a 2009 series. In 2022, Jonsson was named best actor at the Black British Theatre Awards and he previously appeared on the BBC's Industry and ITV's Endeavour. Previous changes to Christie's work for modern adaptations have occasionally provoked ire, however her great-grandson James Pritchard has said in general his ancestor appreciated 'radical adaptations of her work.' In the BBC's new series, the lead role of Luke Fitzwilliam will be played by David Jonsson (left) Agatha Christie's great-grandson has suggested she would have 'welcomed' changes to her work The novel concerns a retired police officer who investigates a serial killer in an English village Mr Pritchard, who is an executive producer for Agatha Christie Limited which holds the rights to her entire works, stressed that with all adaptions production companies had a 'degree of license to change things.' He told the Radio Times: 'I also believe these are adaptations, not translations, and you are always looking at the story from where you are now, 90 years after this was first written. How the BBC has changed Christie And Then There Were None - 2015 The BBC's three-part adaptation of Christie's most famous novel - in which ten people are murdered on an island - provoked anger due to mature content. The BBC's adaptation included several sex scenes and lude swearing not found in the novel. The Witness for the Prosecution - 2016 Fans were also left aghast when sex scenes and swearing were added to the material. The ABC Murders - 2018 In the mini series, John Malkovich played the role of Hercule Poirot. The adaptation contained references to the British Union of Fascists and Oswald Mosely that were not in the novel. Ordeal by Innocence - 2018 This mini series starred Bill Nighy in the role of Leo Argyll from the 1958 novel. In a shock twist, Nighy's character was made the murderer , despite the novel's original murderer being a female housekeeper. Advertisement !- - ad: - -> 'The first few adaptations of her plays were done by other people, and she didn’t like them because she didn’t think they were radical enough for the change in medium.' Recent BBC adaptations of Christie's work have drawn the ire of some fans due to graphic content. In 2015, the BBC's three-part adaptation of Christie's most famous novel And Then There Were None provoked anger due to mature content. The BBC's adaptation included several sex scenes and lude swearing not found in the novel. TV writer Sarah Phelps, who wrote And Then There Were None amongst others, said that the changes were justified. Defending her creative decisions in 2020, Phelps said: 'Yes, of course I’ve taken liberties. Have I changed a load of stuff? Yeah, of course I have, loads and loads and loads of stuff. 'Otherwise you’d have 30 hours of TV and would you want to watch it? No. 'But, you always go for the beating heart of what she’s getting at.' In March this year, it was revealed that some of Christie's books were to be rewritten to eliminate verbiage that has been deemed insensitive or inappropriate. Several of the passages in the author's Poirot and Miss Marple mysteries were reportedly reworked or stripped altogether from new editions of the books. Publisher HarperCollins eliminated text containing 'insults or references to ethnicity', as well as descriptions of certain characters' physiques, The Telegraph reported. New editions of Ms Christie's novels, reviewed by the newspaper, showed that editors have made 'scores of changes' to her books. The novels, penned between 1920 and 1976, were stripped of sections of 'unsympathetic' dialogue, apparent insults and character descriptions. The BBC's new adaptation of Murder is Easy will be screened over the Christmas holidays The BBC's adaptation of and Then There Were None was criticised by some for mature content For example, the word 'Oriental' has been removed from her 1937 mystery Death on the Nile, which follows sleuth Hercule Poirot as he investigates a murder on a luxury cruise. The publisher changed dialogue of character of Mrs Allerton, who was complaining about pestering children. The original text said: 'They come back and stare, and stare, and their eyes are simply disgusting, and so are their noses, and I don’t believe I really like children.' The rewritten version reportedly reads: 'They come back and stare, and stare. And I don’t believe I really like children.' The publisher also eliminated the n-word from character dialogue and Ms Christie's prose. Ms Christie's novels have been altered in the past. Her 1939 book was retitled And Then There Were None after its original name featured a racist term.\\n\""
      ]
     },
     "execution_count": 21,
     "metadata": {},
     "output_type": "execute_result"
    }
   ],
   "source": [
    "list_of_contents_new[71]"
   ]
  }
 ],
 "metadata": {
  "colab": {
   "provenance": []
  },
  "kernelspec": {
   "display_name": "mgr_env",
   "language": "python",
   "name": "python3"
  },
  "language_info": {
   "codemirror_mode": {
    "name": "ipython",
    "version": 3
   },
   "file_extension": ".py",
   "mimetype": "text/x-python",
   "name": "python",
   "nbconvert_exporter": "python",
   "pygments_lexer": "ipython3",
   "version": "3.10.12"
  }
 },
 "nbformat": 4,
 "nbformat_minor": 0
}
