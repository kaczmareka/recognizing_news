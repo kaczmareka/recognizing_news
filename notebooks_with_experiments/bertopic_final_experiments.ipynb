{
  "cells": [
    {
      "cell_type": "markdown",
      "metadata": {
        "id": "VZo2VCr7apjh"
      },
      "source": [
        "# Measure the scores for BERTopic\n",
        "\n",
        "This notebook was run on google colab, due to the required resources, not available locally.\n",
        "\n",
        "## Setup"
      ]
    },
    {
      "cell_type": "code",
      "execution_count": 2,
      "metadata": {
        "colab": {
          "base_uri": "https://localhost:8080/"
        },
        "id": "DlXWYFoPakxC",
        "outputId": "f7813de5-2128-453b-cde5-a24afdf8afb1"
      },
      "outputs": [
        {
          "name": "stdout",
          "output_type": "stream",
          "text": [
            "Mounted at /content/drive\n"
          ]
        }
      ],
      "source": [
        "from google.colab import drive\n",
        "drive.mount('/content/drive')"
      ]
    },
    {
      "cell_type": "code",
      "execution_count": null,
      "metadata": {},
      "outputs": [],
      "source": [
        "# path_to_list_of_contents='[...]/list_of_contents.txt'"
      ]
    },
    {
      "cell_type": "code",
      "execution_count": 1,
      "metadata": {
        "colab": {
          "base_uri": "https://localhost:8080/"
        },
        "id": "MDmPtJXgakuL",
        "outputId": "b273de7f-a8f0-4659-9c5a-360be660d62a"
      },
      "outputs": [
        {
          "name": "stderr",
          "output_type": "stream",
          "text": [
            "[nltk_data] Downloading package punkt to /root/nltk_data...\n",
            "[nltk_data]   Unzipping tokenizers/punkt.zip.\n"
          ]
        },
        {
          "data": {
            "text/plain": [
              "True"
            ]
          },
          "execution_count": 1,
          "metadata": {},
          "output_type": "execute_result"
        }
      ],
      "source": [
        "import pandas as pd\n",
        "import numpy as np\n",
        "from bertopic import BERTopic\n",
        "from umap import UMAP\n",
        "from bertopic.representation import MaximalMarginalRelevance\n",
        "import random\n",
        "import tensorflow as tf\n",
        "np.random.seed(42)\n",
        "tf.random.set_seed(42)\n",
        "\n",
        "from octis.evaluation_metrics.diversity_metrics import TopicDiversity\n",
        "from octis.evaluation_metrics.coherence_metrics import Coherence\n",
        "from octis.evaluation_metrics.topic_significance_metrics import KL_background, KL_vacuous\n",
        "\n",
        "import gensim.corpora as corpora\n",
        "from gensim.models.coherencemodel import CoherenceModel\n",
        "\n",
        "import spacy\n",
        "import nltk\n",
        "from nltk.stem import PorterStemmer\n",
        "nltk.download('punkt')"
      ]
    },
    {
      "cell_type": "code",
      "execution_count": 3,
      "metadata": {
        "colab": {
          "base_uri": "https://localhost:8080/",
          "height": 123
        },
        "id": "0d7r5XnZarxQ",
        "outputId": "5c96af9c-d5a3-4afe-c587-fba0207d1fee"
      },
      "outputs": [
        {
          "data": {
            "application/vnd.google.colaboratory.intrinsic+json": {
              "type": "string"
            },
            "text/plain": [
              "\"The BBC is being urged to drop singer Olly Alexander as its entrant for Eurovision after it emerged he signed a letter calling Israel an 'apartheid regime'. The Years And Years frontman, 33, was unveiled as next year's candidate for the UK during the Strictly Come Dancing final, which aired on the BBC on Saturday. But he now faces having that role stripped from him after he signed a letter from LGBT charity Voices4London which described Israel as an 'apartheid regime' which is trying to 'ethnically cleanse' Palestine. The statement, which was published on October 20, almost two weeks after Hamas' October 7 attack, also says that Israel has 'terrorised' Palestinian people and there is now a 'genocide' taking place 'in real time'. The Conservatives have accused the BBC of 'either a massive oversight or sheer brass neck' for selecting Alexander, while a Jewish charity has called for him to be replaced and for the broadcaster to cut ties with him. The BBC is not planning on taking any action as the singer signed the letter weeks before he was unveiled as the UK's Eurovision act, the Telegraph reported. The BBC is being urged to drop singer Olly Alexander as its entrant for Eurovision after it emerged he signed letter calling Israel an 'apartheid regime' Alexander now faces having the role stripped from him after he reportedly signed a letter from LGBT charity Voices4London which described Israel an 'apartheid regime' Aerial view of buildings destroyed by Israeli air strikes in the Jabalia camp for Palestinian refugees in Gaza City on October 11 The letter which was allegedly signed by Alexander, who is non-binary and uses he/him pronouns, said: 'We are watching a genocide take place in real time. 'Death overflows from our phone screens and into our hearts. And, as a queer community, we cannot sit idly by while the Israeli government continues to wipe out entire lineages of Palestinian families. 'We cannot untangle these recent tragedies from a violent history of occupation. 'Current events simply are an escalation of the state of Israel's apartheid regime, which acts to ethnically cleanse the land. 'Since the violent creation of the state 75 years ago, the Israeli military and Israeli settlers have continued to terrorise Palestinian people.' 'Queer and trans Palestinians have long highlighted that pinkwashing plays a significant role in Zionist propaganda. 'We stand against any and all harassment and discrimination against Jewish communities. 'For the many queer and anti-Zionist Jewish individuals invested in liberation, this unthinking philosemitism, which hesitates to criticise an ongoing genocide out of fear of being seen to criticise Jewish people, is simply the other face of anti-Semitism'. Olly Alexander was announced as the UK's entry for Eurovision next year The Years And Years frontman, 33, made the announcement during Saturday's live final of Strictly Come Dancing as the audience cheered along After it emerged that Alexander had signed the letter, a Conservative Party source told The Telegraph: 'Letting an openly anti-Israel singer compete on the same stage as Israel is either a massive oversight or sheer brass neck from the BBC. 'After they refused to call Hamas a terrorist organisation, you would think BBC bosses would try to steer clear of causing any more diplomatic blunders. 'Maybe it's time to stop letting the BBC decide who represents the UK at Eurovision.' Meanwhile, a spokesman for the Jewish charity Campaign Against Antisemitism told the newspaper: 'The rhetoric in this letter, which is seemingly endorsed by Olly Alexander, is extreme. It is appalling in particular that it condemns 'unthinking philosemitism. 'At a time when nearly seven in ten British Jews feel afraid to express their identity in public, this must not be the person to represent our country at the Eurovision Song Contest. The BBC can and must right this wrong.' Alexander is set to represent the UK in Sweden in 2024 and has promised to 'fly the flag for the UK in the gayest way possible'. Following the announcement on Saturday, Alexander said in a statement: 'I've loved watching Eurovision ever since I was a little kid and I'm beyond excited to be taking part next year. 'As a young boy I always looked forward to this incredible event of unbridled joy, the wonderfully chaotic mix of musical styles, theatrical performances, heartfelt emotion and humour.' Olly Alexander performing live on stage with his band Years and Years at Wembley Arena in 2022 Sir Elton John and Olly Alexander perform during The BRIT Awards 2021 at The O2 Arena The UK has won Eurovision five times, with the last time being in 1997 when Katrina & The Waves performed Love Shine A Light . Prior to that, the UK stormed to victory in 1981 with Bucks Fizz's Makin' Your Mind Up, and in 1976 with Brotherhood Of Man's Save Your Kisses For Me. In 1969, Lulu, who performed Boom Bang-a-Bang came first in a four-way joint tie with France, the Netherlands and Spain. The UK's first ever Eurovision victory came 11 years after the annual competition launched with Sandie Shaw's Puppet on a String in 1967. Israel has won the competition four times after its debut in the competition in 1973 as the first non-European country to participate in the event. MailOnline has contacted Alexander's representatives for comment. The BBC declined to comment.\\n\""
            ]
          },
          "execution_count": 3,
          "metadata": {},
          "output_type": "execute_result"
        }
      ],
      "source": [
        "path_list=path_to_list_of_contents\n",
        "with open(path_list, 'r') as file:\n",
        "  list_of_contents = file.readlines()\n",
        "list_of_contents[0]"
      ]
    },
    {
      "cell_type": "markdown",
      "metadata": {
        "id": "xoJ2Zq18a7dU"
      },
      "source": [
        "# Functions to measure the performance\n",
        "\n",
        "1. TopicDiversity\n",
        "  * https://github.com/MIND-Lab/OCTIS/blob/master/octis/evaluation_metrics/diversity_metrics.py#L12\n",
        "  * inspired by https://github.dev/lbl-camera/berteley/tree/main\n",
        "  * from all topics gets all words present there and forms a set from them -> takes only unique values, than take the number of unique words in the set, count the diversity as a ratio of the total number of words considered; if value near 0, than it is not good, when higher it is better\n",
        "  * not perfect because e.g. if there are two topics, one would be about nice home animals, and the other about dangerous ones, both of them should contain word \"animal\" and it is desirable, but this score would not show that\n",
        "2. Another version of TopicDiversity metric:\n",
        "  * measure the diveristy inside each topic, not for all of them together\n",
        "  * the final score is the average from all the scores\n",
        "3. Coherence:\n",
        "  * from issue https://github.com/MaartenGr/BERTopic/issues/90\n",
        "  * in OCTIS they also use gensim implementation\n",
        "  * measures how the top-k words in the topic relate to each other\n",
        "4. Significance metrics KL_background and KL_vacuous\n",
        "  * aim at discovering high-quality and junk topics based on document-topic and topic-word distributions\n",
        "  * score equals to 0 means that two distibutions are exactly the same, the higher the score, the more different the distributions are"
      ]
    },
    {
      "cell_type": "code",
      "execution_count": 19,
      "metadata": {
        "id": "GSyTdcDaaryj"
      },
      "outputs": [],
      "source": [
        "def TopicDiveristy_inside_topics(list_of_topics):\n",
        "  nlp = spacy.load('en_core_web_sm')\n",
        "  stemmer = PorterStemmer()\n",
        "  scores_sum=[0 for _ in range(len(list_of_topics))]\n",
        "  for i, topic in enumerate(list_of_topics):\n",
        "    if i%50==0:\n",
        "      print(i)\n",
        "    topic_str=' '.join(topic)\n",
        "    doc1=nlp(topic_str)\n",
        "    lemmatized_tokens=[token.lemma_ for token in doc1]\n",
        "    stemmed_tokens = [stemmer.stem(token) for token in lemmatized_tokens] #the tokens are not perfect, but it helps to count as 1 \"tesla\" and \"teslas\"\n",
        "    updated_list=[item.replace(\"tweet\", \"twitter\") for item in stemmed_tokens]\n",
        "    unique_words=set(updated_list)\n",
        "    score=len(unique_words)/len(updated_list)\n",
        "    scores_sum[i]=score\n",
        "  return sum(scores_sum)/len(scores_sum)"
      ]
    },
    {
      "cell_type": "code",
      "execution_count": 20,
      "metadata": {
        "id": "diHzq9pobah7"
      },
      "outputs": [],
      "source": [
        "def measure_topic_diversities(topic_model, topics, probs, diversity_mmr=0.5):\n",
        "\n",
        "  topic_words = {}\n",
        "  topic_dict = topic_model.topic_representations_\n",
        "  for k in topic_dict.keys():\n",
        "      topic_words[k] = [x[0] for x in topic_dict[k]]\n",
        "  word_list = list(topic_words.values())\n",
        "  word_list.pop(0)\n",
        "\n",
        "  topic_diversity = TopicDiversity(topk=10)\n",
        "  random.shuffle(word_list)\n",
        "  output_tm = {\"topics\": word_list}\n",
        "  diversity_score = topic_diversity.score(output_tm)\n",
        "  mean_diversity=TopicDiveristy_inside_topics(word_list)\n",
        "  return diversity_score, mean_diversity"
      ]
    },
    {
      "cell_type": "code",
      "execution_count": 21,
      "metadata": {
        "id": "niBLAhtFbajM"
      },
      "outputs": [],
      "source": [
        "def calculate_coherence(list_of_contents, topics, probs,topic_model, coherence_metric='c_npmi'):\n",
        "  \"\"\"\n",
        "    texts - list of documents, list_of_contents\n",
        "    topic_model - BERTopic model\n",
        "    topics - list of topics assignment, topics z: topics, probs = topic_model.fit_transform(list_of_contents)\n",
        "  \"\"\"\n",
        "\n",
        "  #from issue https://github.com/MaartenGr/BERTopic/issues/90\n",
        "\n",
        "  # Preprocess Documents\n",
        "  documents = pd.DataFrame({\"Document\": list_of_contents,\n",
        "                            \"ID\": range(len(list_of_contents)),\n",
        "                            \"Topic\": topics})\n",
        "  documents_per_topic = documents.groupby(['Topic'], as_index=False).agg({'Document': ' '.join})\n",
        "  cleaned_docs = topic_model._preprocess_text(documents_per_topic.Document.values)\n",
        "\n",
        "  # Extract vectorizer and analyzer from BERTopic\n",
        "  vectorizer = topic_model.vectorizer_model\n",
        "  analyzer = vectorizer.build_analyzer()\n",
        "\n",
        "  # Extract features for Topic Coherence evaluation\n",
        "  words = vectorizer.get_feature_names()\n",
        "  tokens = [analyzer(doc) for doc in cleaned_docs]\n",
        "  dictionary = corpora.Dictionary(tokens)\n",
        "  corpus = [dictionary.doc2bow(token) for token in tokens]\n",
        "  topic_words = [[words for words, _ in topic_model.get_topic(topic)]\n",
        "                for topic in range(len(set(topics))-1)]\n",
        "\n",
        "  coherence_model = CoherenceModel(topics=topic_words,\n",
        "                                  texts=tokens,\n",
        "                                  corpus=corpus,\n",
        "                                  dictionary=dictionary,\n",
        "                                  coherence=coherence_metric)\n",
        "  coherence = coherence_model.get_coherence()\n",
        "\n",
        "  return coherence"
      ]
    },
    {
      "cell_type": "code",
      "execution_count": 14,
      "metadata": {
        "id": "nJt5Jp4IiiV2"
      },
      "outputs": [],
      "source": [
        "def measure_significance_metric(topic_model, topics, probs, kl_type='background'):\n",
        "  #topics\n",
        "  topic_words = {}\n",
        "  topic_dict = topic_model.topic_representations_\n",
        "  for k in topic_dict.keys():\n",
        "      topic_words[k] = [x[0] for x in topic_dict[k]]\n",
        "  word_list = list(topic_words.values())\n",
        "  word_list.pop(0)\n",
        "  random.shuffle(word_list)\n",
        "\n",
        "  #topic-word-matrix\n",
        "  topic_words_matrix = []\n",
        "  topic_words=topic_model.get_topic_info()\n",
        "\n",
        "  for topic in topic_words.Topic:\n",
        "    if topic !=-1:\n",
        "      words, scores = zip(*topic_model.get_topic(topic))\n",
        "      topic_words_matrix.append(scores)\n",
        "  topic_words_matrix=np.array(topic_words_matrix)\n",
        "\n",
        "  # topic-document-matrix\n",
        "  topic_document_matrix=np.array(probs).T\n",
        "\n",
        "  output_tm = {\"topics\": word_list, \"topic-word-matrix\": topic_words_matrix, \"topic-document-matrix\":  topic_document_matrix}\n",
        "  if kl_type=='background':\n",
        "    kl_background_metric=KL_background()\n",
        "    score=kl_background_metric.score(output_tm)\n",
        "  elif kl_type=='vacuous':\n",
        "    kl_vacuous_metric=KL_vacuous()\n",
        "    score=kl_vacuous_metric.score(output_tm)\n",
        "  else:\n",
        "    print('Wrong type of metric')\n",
        "    return\n",
        "  return score"
      ]
    },
    {
      "cell_type": "markdown",
      "metadata": {
        "id": "6_p2dvKsbgpt"
      },
      "source": [
        "# Use"
      ]
    },
    {
      "cell_type": "code",
      "execution_count": 17,
      "metadata": {
        "id": "oWGjBC3Ueat6"
      },
      "outputs": [],
      "source": [
        "def check_measures(diversity=0.5, coherence='c_npmi'):\n",
        "  # create model\n",
        "  umap_model = UMAP(n_neighbors=15, n_components=5,\n",
        "                    min_dist=0.0, metric='cosine', random_state=42)\n",
        "  representation_model = MaximalMarginalRelevance(diversity=diversity)\n",
        "  topic_model = BERTopic(language=\"english\", calculate_probabilities=True, verbose=True, representation_model=representation_model, umap_model=umap_model)\n",
        "  topics, probs = topic_model.fit_transform(list_of_contents)\n",
        "\n",
        "  # measure metrics\n",
        "  diversity_score, mean_diversity = measure_topic_diversities(diversity_mmr=diversity, topics=topics, probs=probs, topic_model=topic_model)\n",
        "  coherence_score = calculate_coherence(list_of_contents, coherence_metric=coherence, topic_model=topic_model, topics=topics, probs=probs)\n",
        "  background_score=measure_significance_metric(topic_model, topics, probs, kl_type='background')\n",
        "  vacuous_score=measure_significance_metric(topic_model, topics, probs, kl_type='vacuous')\n",
        "\n",
        "  print(f\"Diversity parameter: {diversity}, coherence metric: {coherence}, TopicDiversity: {diversity_score}, mean diversity in topics: {mean_diversity}, coherence score: {coherence_score}, KL background: {background_score}, KL vacuous: {vacuous_score}.\")\n",
        "  return diversity_score, mean_diversity, coherence_score, background_score, vacuous_score"
      ]
    },
    {
      "cell_type": "code",
      "execution_count": 22,
      "metadata": {
        "colab": {
          "base_uri": "https://localhost:8080/",
          "height": 312,
          "referenced_widgets": [
            "fc6324728cce405ba9e054789853a380",
            "1967daa465cc4533b5ecb1d1a0564ed3",
            "cb6fa3dfbee04e2ab806999cda6c17fa",
            "f8371408f0ed413497983ebc9f9e55ff",
            "a0be5d8188ed4feab44047d3438fad4a",
            "87888ad530694099a8e414ec708f37a2",
            "072cfb59965e4877b2d68a14155d8e79",
            "fb7b4a469dd54615a9de8f0dd39370a1",
            "95fa7de5dba0413592ad72afe63e5cde",
            "381eeca733634d1398705216335b0026",
            "c42ccc180b4a4157abd8119f3772e6d8"
          ]
        },
        "id": "G0RVUoxIfm0h",
        "outputId": "4132045a-653e-45a8-c91b-9dd2e3cdcaa4"
      },
      "outputs": [
        {
          "name": "stderr",
          "output_type": "stream",
          "text": [
            "2024-05-27 15:06:29,970 - BERTopic - Embedding - Transforming documents to embeddings.\n"
          ]
        },
        {
          "data": {
            "application/vnd.jupyter.widget-view+json": {
              "model_id": "fc6324728cce405ba9e054789853a380",
              "version_major": 2,
              "version_minor": 0
            },
            "text/plain": [
              "Batches:   0%|          | 0/335 [00:00<?, ?it/s]"
            ]
          },
          "metadata": {},
          "output_type": "display_data"
        },
        {
          "name": "stderr",
          "output_type": "stream",
          "text": [
            "2024-05-27 15:07:21,890 - BERTopic - Embedding - Completed ✓\n",
            "2024-05-27 15:07:21,891 - BERTopic - Dimensionality - Fitting the dimensionality reduction algorithm\n",
            "2024-05-27 15:07:32,938 - BERTopic - Dimensionality - Completed ✓\n",
            "2024-05-27 15:07:32,940 - BERTopic - Cluster - Start clustering the reduced embeddings\n",
            "2024-05-27 15:07:55,566 - BERTopic - Cluster - Completed ✓\n",
            "2024-05-27 15:07:55,576 - BERTopic - Representation - Extracting topics from clusters using representation models.\n",
            "2024-05-27 15:08:07,427 - BERTopic - Representation - Completed ✓\n"
          ]
        },
        {
          "name": "stdout",
          "output_type": "stream",
          "text": [
            "0\n",
            "50\n",
            "100\n",
            "150\n",
            "200\n",
            "Diversity parameter: 0.5, coherence metric: c_npmi, TopicDiversity: 0.7886792452830189, mean diversity in topics: 1.0, coherence score: 0.034461948245713726, KL background: 2.534053223796575, KL vacuous: 2.4354541148173947.\n"
          ]
        }
      ],
      "source": [
        "diversity_score05, mean_diversity05, coherence05, background05, vacuous_score05 = check_measures(diversity=0.5, coherence='c_npmi')"
      ]
    },
    {
      "cell_type": "code",
      "execution_count": 23,
      "metadata": {
        "colab": {
          "base_uri": "https://localhost:8080/",
          "height": 312,
          "referenced_widgets": [
            "00e9313ac25545ddac1c9d980f33e3fd",
            "0b9e6a4580164db3bfed4c447aca45fc",
            "d7de675c2e84440bb2f7a4c6d5aa0afe",
            "3138a42022594f939c0ab0b9cc7c18c6",
            "296909ecae1d478ba6087d35dcadfbb4",
            "accc3c7d2b0a4e14b3e36dc5684c7842",
            "93bfc8a6344a4c9d8a855f05536ef98b",
            "8c7aaeee69bb447aa91973256ce5ee32",
            "84a978da256f401981fd69c013817f28",
            "d35f8f6a9ac64c8c85d34160c595275b",
            "889f1b1fe4c645089d8f14905a46de46"
          ]
        },
        "id": "XUaEony-fsZv",
        "outputId": "3e26b810-bd9a-44e5-bda8-c8f1ed9fa388"
      },
      "outputs": [
        {
          "name": "stderr",
          "output_type": "stream",
          "text": [
            "2024-05-27 15:12:35,051 - BERTopic - Embedding - Transforming documents to embeddings.\n"
          ]
        },
        {
          "data": {
            "application/vnd.jupyter.widget-view+json": {
              "model_id": "00e9313ac25545ddac1c9d980f33e3fd",
              "version_major": 2,
              "version_minor": 0
            },
            "text/plain": [
              "Batches:   0%|          | 0/335 [00:00<?, ?it/s]"
            ]
          },
          "metadata": {},
          "output_type": "display_data"
        },
        {
          "name": "stderr",
          "output_type": "stream",
          "text": [
            "2024-05-27 15:13:27,275 - BERTopic - Embedding - Completed ✓\n",
            "2024-05-27 15:13:27,277 - BERTopic - Dimensionality - Fitting the dimensionality reduction algorithm\n",
            "2024-05-27 15:13:38,638 - BERTopic - Dimensionality - Completed ✓\n",
            "2024-05-27 15:13:38,641 - BERTopic - Cluster - Start clustering the reduced embeddings\n",
            "2024-05-27 15:14:01,296 - BERTopic - Cluster - Completed ✓\n",
            "2024-05-27 15:14:01,307 - BERTopic - Representation - Extracting topics from clusters using representation models.\n",
            "2024-05-27 15:14:13,387 - BERTopic - Representation - Completed ✓\n"
          ]
        },
        {
          "name": "stdout",
          "output_type": "stream",
          "text": [
            "0\n",
            "50\n",
            "100\n",
            "150\n",
            "200\n",
            "Diversity parameter: 0.2, coherence metric: c_npmi, TopicDiversity: 0.7061320754716981, mean diversity in topics: 0.9001286449399674, coherence score: 0.09791122425972787, KL background: 2.534053223796575, KL vacuous: 2.3216755782442813.\n"
          ]
        }
      ],
      "source": [
        "diversity_score02, mean_diversity02, coherence02, background02, vacuous_score02 = check_measures(diversity=0.2, coherence='c_npmi')"
      ]
    },
    {
      "cell_type": "code",
      "execution_count": 24,
      "metadata": {
        "colab": {
          "base_uri": "https://localhost:8080/",
          "height": 312,
          "referenced_widgets": [
            "d3bfc50b24e24977bbc736be6d12d0a1",
            "e2671b39b7da40c0ba8682ea2c1759c6",
            "a724a185dd4844de9a0a573b016b54c4",
            "2422004c848048ba83112002a36042da",
            "aeb8e8bbf0734d9d9b46824c0048a833",
            "c9b281767d01454987fbfb62519de4ba",
            "713b724ef397497ab96289237e86f697",
            "de9b9c18eb36490297a0b8362df91a95",
            "9604ca8573d44046b65df745142e155e",
            "20bdeea79afe4adb8ccdb5a6e814348c",
            "0e8599d92f714295b90b0e4aadd9ff64"
          ]
        },
        "id": "If4LCgphfv4h",
        "outputId": "378ab72f-5350-432b-ec3c-b9c4126fb104"
      },
      "outputs": [
        {
          "name": "stderr",
          "output_type": "stream",
          "text": [
            "2024-05-27 15:15:52,253 - BERTopic - Embedding - Transforming documents to embeddings.\n"
          ]
        },
        {
          "data": {
            "application/vnd.jupyter.widget-view+json": {
              "model_id": "d3bfc50b24e24977bbc736be6d12d0a1",
              "version_major": 2,
              "version_minor": 0
            },
            "text/plain": [
              "Batches:   0%|          | 0/335 [00:00<?, ?it/s]"
            ]
          },
          "metadata": {},
          "output_type": "display_data"
        },
        {
          "name": "stderr",
          "output_type": "stream",
          "text": [
            "2024-05-27 15:16:42,479 - BERTopic - Embedding - Completed ✓\n",
            "2024-05-27 15:16:42,481 - BERTopic - Dimensionality - Fitting the dimensionality reduction algorithm\n",
            "2024-05-27 15:16:53,900 - BERTopic - Dimensionality - Completed ✓\n",
            "2024-05-27 15:16:53,902 - BERTopic - Cluster - Start clustering the reduced embeddings\n",
            "2024-05-27 15:17:17,414 - BERTopic - Cluster - Completed ✓\n",
            "2024-05-27 15:17:17,424 - BERTopic - Representation - Extracting topics from clusters using representation models.\n",
            "2024-05-27 15:17:28,165 - BERTopic - Representation - Completed ✓\n"
          ]
        },
        {
          "name": "stdout",
          "output_type": "stream",
          "text": [
            "0\n",
            "50\n",
            "100\n",
            "150\n",
            "200\n",
            "Diversity parameter: 0.05, coherence metric: c_npmi, TopicDiversity: 0.680188679245283, mean diversity in topics: 0.8406534503232632, coherence score: 0.11335504226096892, KL background: 2.534053223796575, KL vacuous: 2.3040921834697.\n"
          ]
        }
      ],
      "source": [
        "diversity_score005, mean_diversity005, coherence005, background005, vacuous_score005 = check_measures(diversity=0.05, coherence='c_npmi')"
      ]
    },
    {
      "cell_type": "markdown",
      "metadata": {
        "id": "itUW9Okoqcjl"
      },
      "source": [
        "# Show sample output from the model"
      ]
    },
    {
      "cell_type": "code",
      "execution_count": null,
      "metadata": {
        "colab": {
          "base_uri": "https://localhost:8080/",
          "height": 208,
          "referenced_widgets": [
            "f10fed7db2b742cca87e11925c5bcee1",
            "00af2a02d71647aabdf7bd5774548d6a",
            "93102eb266fd42e3a90c0b8bcbed67d0",
            "f41d4e66428e41f6b14ad6b4a03fd660",
            "11c00d0dd2ca4a599342c843e2ae5704",
            "e195eb50ec3d449b9515ce7189d0a120",
            "dfc3f3652deb4b5da31f160c8f4a13fe",
            "7aba238e3c1740d4ab8aa3152174e26c",
            "d441c03de6bb4d0e939a65d493af220d",
            "2284cc8b99ec4127963d30f8975095c9",
            "4964b2e3f9a84a76883fba59d658ec3b"
          ]
        },
        "id": "n5bkrf-kqeaV",
        "outputId": "053a0e42-c2a4-4155-ed44-d56d3205c12b"
      },
      "outputs": [
        {
          "name": "stderr",
          "output_type": "stream",
          "text": [
            "2024-05-26 20:49:25,457 - BERTopic - Embedding - Transforming documents to embeddings.\n"
          ]
        },
        {
          "data": {
            "application/vnd.jupyter.widget-view+json": {
              "model_id": "f10fed7db2b742cca87e11925c5bcee1",
              "version_major": 2,
              "version_minor": 0
            },
            "text/plain": [
              "Batches:   0%|          | 0/335 [00:00<?, ?it/s]"
            ]
          },
          "metadata": {},
          "output_type": "display_data"
        },
        {
          "name": "stderr",
          "output_type": "stream",
          "text": [
            "2024-05-26 20:50:24,024 - BERTopic - Embedding - Completed ✓\n",
            "2024-05-26 20:50:24,027 - BERTopic - Dimensionality - Fitting the dimensionality reduction algorithm\n",
            "2024-05-26 20:50:39,525 - BERTopic - Dimensionality - Completed ✓\n",
            "2024-05-26 20:50:39,528 - BERTopic - Cluster - Start clustering the reduced embeddings\n",
            "2024-05-26 20:51:20,580 - BERTopic - Cluster - Completed ✓\n",
            "2024-05-26 20:51:20,591 - BERTopic - Representation - Extracting topics from clusters using representation models.\n",
            "2024-05-26 20:51:40,395 - BERTopic - Representation - Completed ✓\n"
          ]
        }
      ],
      "source": [
        "umap_model = UMAP(n_neighbors=15, n_components=5,\n",
        "                    min_dist=0.0, metric='cosine', random_state=42)\n",
        "representation_model = MaximalMarginalRelevance(diversity=0.5)\n",
        "topic_model = BERTopic(language=\"english\", calculate_probabilities=True, verbose=True, representation_model=representation_model, umap_model=umap_model)\n",
        "topics, probs = topic_model.fit_transform(list_of_contents)"
      ]
    },
    {
      "cell_type": "code",
      "execution_count": null,
      "metadata": {
        "colab": {
          "base_uri": "https://localhost:8080/"
        },
        "id": "D3WeeCuvqkxS",
        "outputId": "e50f8a2d-d3ed-49de-fdae-c5f6d5646508"
      },
      "outputs": [
        {
          "data": {
            "text/plain": [
              "[('hamas', 0.03437410007487483),\n",
              " ('terrorist', 0.01593485845474893),\n",
              " ('antisemitism', 0.01382230042677843),\n",
              " ('jews', 0.012036425841046161),\n",
              " ('civilians', 0.007678645589811692),\n",
              " ('staff', 0.007132417021782438),\n",
              " ('attacks', 0.0069416562088209215),\n",
              " ('bbcs', 0.005977607178207836),\n",
              " ('editorial', 0.005890806183172142),\n",
              " ('simpson', 0.005484746849865494)]"
            ]
          },
          "execution_count": 28,
          "metadata": {},
          "output_type": "execute_result"
        }
      ],
      "source": [
        "topic_model.topic_representations_[topic_model.topics_[0]]"
      ]
    },
    {
      "cell_type": "code",
      "execution_count": null,
      "metadata": {
        "colab": {
          "base_uri": "https://localhost:8080/",
          "height": 1000
        },
        "id": "3KfFobjtq36T",
        "outputId": "a95c826e-c953-4eae-abf5-f856a10913f3"
      },
      "outputs": [
        {
          "data": {
            "application/vnd.google.colaboratory.intrinsic+json": {
              "type": "string"
            },
            "text/plain": [
              "\"The BBC is being urged to drop singer Olly Alexander as its entrant for Eurovision after it emerged he signed a letter calling Israel an 'apartheid regime'. The Years And Years frontman, 33, was unveiled as next year's candidate for the UK during the Strictly Come Dancing final, which aired on the BBC on Saturday. But he now faces having that role stripped from him after he signed a letter from LGBT charity Voices4London which described Israel as an 'apartheid regime' which is trying to 'ethnically cleanse' Palestine. The statement, which was published on October 20, almost two weeks after Hamas' October 7 attack, also says that Israel has 'terrorised' Palestinian people and there is now a 'genocide' taking place 'in real time'. The Conservatives have accused the BBC of 'either a massive oversight or sheer brass neck' for selecting Alexander, while a Jewish charity has called for him to be replaced and for the broadcaster to cut ties with him. The BBC is not planning on taking any action as the singer signed the letter weeks before he was unveiled as the UK's Eurovision act, the Telegraph reported. The BBC is being urged to drop singer Olly Alexander as its entrant for Eurovision after it emerged he signed letter calling Israel an 'apartheid regime' Alexander now faces having the role stripped from him after he reportedly signed a letter from LGBT charity Voices4London which described Israel an 'apartheid regime' Aerial view of buildings destroyed by Israeli air strikes in the Jabalia camp for Palestinian refugees in Gaza City on October 11 The letter which was allegedly signed by Alexander, who is non-binary and uses he/him pronouns, said: 'We are watching a genocide take place in real time. 'Death overflows from our phone screens and into our hearts. And, as a queer community, we cannot sit idly by while the Israeli government continues to wipe out entire lineages of Palestinian families. 'We cannot untangle these recent tragedies from a violent history of occupation. 'Current events simply are an escalation of the state of Israel's apartheid regime, which acts to ethnically cleanse the land. 'Since the violent creation of the state 75 years ago, the Israeli military and Israeli settlers have continued to terrorise Palestinian people.' 'Queer and trans Palestinians have long highlighted that pinkwashing plays a significant role in Zionist propaganda. 'We stand against any and all harassment and discrimination against Jewish communities. 'For the many queer and anti-Zionist Jewish individuals invested in liberation, this unthinking philosemitism, which hesitates to criticise an ongoing genocide out of fear of being seen to criticise Jewish people, is simply the other face of anti-Semitism'. Olly Alexander was announced as the UK's entry for Eurovision next year The Years And Years frontman, 33, made the announcement during Saturday's live final of Strictly Come Dancing as the audience cheered along After it emerged that Alexander had signed the letter, a Conservative Party source told The Telegraph: 'Letting an openly anti-Israel singer compete on the same stage as Israel is either a massive oversight or sheer brass neck from the BBC. 'After they refused to call Hamas a terrorist organisation, you would think BBC bosses would try to steer clear of causing any more diplomatic blunders. 'Maybe it's time to stop letting the BBC decide who represents the UK at Eurovision.' Meanwhile, a spokesman for the Jewish charity Campaign Against Antisemitism told the newspaper: 'The rhetoric in this letter, which is seemingly endorsed by Olly Alexander, is extreme. It is appalling in particular that it condemns 'unthinking philosemitism. 'At a time when nearly seven in ten British Jews feel afraid to express their identity in public, this must not be the person to represent our country at the Eurovision Song Contest. The BBC can and must right this wrong.' Alexander is set to represent the UK in Sweden in 2024 and has promised to 'fly the flag for the UK in the gayest way possible'. Following the announcement on Saturday, Alexander said in a statement: 'I've loved watching Eurovision ever since I was a little kid and I'm beyond excited to be taking part next year. 'As a young boy I always looked forward to this incredible event of unbridled joy, the wonderfully chaotic mix of musical styles, theatrical performances, heartfelt emotion and humour.' Olly Alexander performing live on stage with his band Years and Years at Wembley Arena in 2022 Sir Elton John and Olly Alexander perform during The BRIT Awards 2021 at The O2 Arena The UK has won Eurovision five times, with the last time being in 1997 when Katrina & The Waves performed Love Shine A Light . Prior to that, the UK stormed to victory in 1981 with Bucks Fizz's Makin' Your Mind Up, and in 1976 with Brotherhood Of Man's Save Your Kisses For Me. In 1969, Lulu, who performed Boom Bang-a-Bang came first in a four-way joint tie with France, the Netherlands and Spain. The UK's first ever Eurovision victory came 11 years after the annual competition launched with Sandie Shaw's Puppet on a String in 1967. Israel has won the competition four times after its debut in the competition in 1973 as the first non-European country to participate in the event. MailOnline has contacted Alexander's representatives for comment. The BBC declined to comment.\\n\""
            ]
          },
          "execution_count": 29,
          "metadata": {},
          "output_type": "execute_result"
        }
      ],
      "source": [
        "list_of_contents[0]"
      ]
    },
    {
      "cell_type": "code",
      "execution_count": null,
      "metadata": {
        "colab": {
          "base_uri": "https://localhost:8080/"
        },
        "id": "s7022fgHrMBI",
        "outputId": "142e780b-87b9-4a24-b238-9f83503643e0"
      },
      "outputs": [
        {
          "data": {
            "text/plain": [
              "[('tinto', 0.05576038748508442),\n",
              " ('radiation', 0.0188352131003142),\n",
              " ('mining', 0.01701427688531484),\n",
              " ('site', 0.011923775095855302),\n",
              " ('alumina', 0.011651744094925356),\n",
              " ('ore', 0.011522331192205635),\n",
              " ('rios', 0.011260890707743408),\n",
              " ('copper', 0.010048154882721563),\n",
              " ('shelters', 0.009212359054452753),\n",
              " ('aboriginal', 0.00858673843806499)]"
            ]
          },
          "execution_count": 30,
          "metadata": {},
          "output_type": "execute_result"
        }
      ],
      "source": [
        "topic_model.topic_representations_[topic_model.topics_[1000]]"
      ]
    },
    {
      "cell_type": "code",
      "execution_count": null,
      "metadata": {
        "colab": {
          "base_uri": "https://localhost:8080/",
          "height": 244
        },
        "id": "foQr-FQOrQlG",
        "outputId": "a6894a65-d9d2-4ffc-bddf-a72671ad8f0f"
      },
      "outputs": [
        {
          "data": {
            "application/vnd.google.colaboratory.intrinsic+json": {
              "type": "string"
            },
            "text/plain": [
              "\"An investigation into how a tiny radioactive capsule was lost while being transported in outback Western Australia earlier this year has cleared mining giant Rio Tinto of any wrongdoing. On Thursday, the miner said the Western Australian Radiological Council, which had been investigating the incident, had not identified any breaches of WA's Radiation Safety Act by the company. 'We are grateful to the state and federal governments and all of those involved in the successful recovery of the capsule,' a Rio Tinto spokesperson said. 'Our own internal review has identified opportunities for improvement in the selection of radiation gauges and the way they are packaged and transported.' The capsule - which could fit onto a 10 cent piece - came loose during transportation from north of the Pilbara mining town of Newman to the Perth suburb of Malaga sometime between January 10 and January 16. An investigation into how a radioactive capsule (above) was lost in Western Australia in January has cleared Rio Tinto of any wrongdoing The capsule came loose during transportation from north of the Pilbara mining town of Newman to the Perth suburb of Malaga sometime between January 10 and January 16 It was found nearly two weeks later after a search along a 1,000km stretch of road not far from where it started its journey at a Rio Tinto mine. An investigation by Western Australia's Radiological Council, chaired by Chief Health Officer Andrew Robertson, is continuing. 'The investigation is led by the Radiological Council of WA with support from the Department of Health's Radiation Health Branch. 'The council continues to consider issues stemming from the investigation, for consideration to provide input into updates of national safety standards.' He said amendments to penalties under the Radiation Safety Act were also under consideration, after it was revealed the maximum fine which could have been imposed was $1,000. The capsule was found nearly two weeks later after a search (above) along a 1,000km stretch of road not far from where it started its journey at a Rio Tinto mine The loss of the tiny capsule made world headlines. The small, round, silver capsule, 6mm in diameter and 8mm high, is used within gauges in mining operations and contains a small quantity of radioactive Caesium-137. Dr Robertson said despite its size, the capsule contained 'quite a large radiation dose', which was like 'receiving around 10 X-rays an hour'. It was packed onto a pallet at Rio Tinto's Gudai-Darri mine site on January 10, with the pallet loaded onto the back of a semi-trailer and left the site for Perth between January 11-14. It arrived at a radiation service company in the northern suburb of Malaga on January 16, but the capsule wasn't noticed missing until the pallet was unpacked a couple of days later. Rio Tinto provided a mobile worker camp to help rebuild flood-damaged Fitzroy Crossing, in lieu of payment for the cost of the massive search for the capsule. The capsule contained 'quite a large radiation dose', which was like 'receiving around 10 X-rays an hour' (pictured, emergency services during the search) Chief executive Simon Trott said at the time the $4million cost was worth more than the cost of the search. 'We really want to support the efforts to rebuild the Kimberley following those devastating floods,' he said. '[We're] really pleased to have worked with the state government to bring forward this solution, to honour our commitment to pay for the search for the capsule.'\\n\""
            ]
          },
          "execution_count": 31,
          "metadata": {},
          "output_type": "execute_result"
        }
      ],
      "source": [
        "list_of_contents[1000]"
      ]
    }
  ],
  "metadata": {
    "accelerator": "GPU",
    "colab": {
      "gpuType": "T4",
      "provenance": []
    },
    "kernelspec": {
      "display_name": "Python 3",
      "name": "python3"
    },
    "language_info": {
      "name": "python"
    },
    "widgets": {
      "application/vnd.jupyter.widget-state+json": {
        "00af2a02d71647aabdf7bd5774548d6a": {
          "model_module": "@jupyter-widgets/controls",
          "model_module_version": "1.5.0",
          "model_name": "HTMLModel",
          "state": {
            "_dom_classes": [],
            "_model_module": "@jupyter-widgets/controls",
            "_model_module_version": "1.5.0",
            "_model_name": "HTMLModel",
            "_view_count": null,
            "_view_module": "@jupyter-widgets/controls",
            "_view_module_version": "1.5.0",
            "_view_name": "HTMLView",
            "description": "",
            "description_tooltip": null,
            "layout": "IPY_MODEL_e195eb50ec3d449b9515ce7189d0a120",
            "placeholder": "​",
            "style": "IPY_MODEL_dfc3f3652deb4b5da31f160c8f4a13fe",
            "value": "Batches: 100%"
          }
        },
        "00e9313ac25545ddac1c9d980f33e3fd": {
          "model_module": "@jupyter-widgets/controls",
          "model_module_version": "1.5.0",
          "model_name": "HBoxModel",
          "state": {
            "_dom_classes": [],
            "_model_module": "@jupyter-widgets/controls",
            "_model_module_version": "1.5.0",
            "_model_name": "HBoxModel",
            "_view_count": null,
            "_view_module": "@jupyter-widgets/controls",
            "_view_module_version": "1.5.0",
            "_view_name": "HBoxView",
            "box_style": "",
            "children": [
              "IPY_MODEL_0b9e6a4580164db3bfed4c447aca45fc",
              "IPY_MODEL_d7de675c2e84440bb2f7a4c6d5aa0afe",
              "IPY_MODEL_3138a42022594f939c0ab0b9cc7c18c6"
            ],
            "layout": "IPY_MODEL_296909ecae1d478ba6087d35dcadfbb4"
          }
        },
        "072cfb59965e4877b2d68a14155d8e79": {
          "model_module": "@jupyter-widgets/controls",
          "model_module_version": "1.5.0",
          "model_name": "DescriptionStyleModel",
          "state": {
            "_model_module": "@jupyter-widgets/controls",
            "_model_module_version": "1.5.0",
            "_model_name": "DescriptionStyleModel",
            "_view_count": null,
            "_view_module": "@jupyter-widgets/base",
            "_view_module_version": "1.2.0",
            "_view_name": "StyleView",
            "description_width": ""
          }
        },
        "0b9e6a4580164db3bfed4c447aca45fc": {
          "model_module": "@jupyter-widgets/controls",
          "model_module_version": "1.5.0",
          "model_name": "HTMLModel",
          "state": {
            "_dom_classes": [],
            "_model_module": "@jupyter-widgets/controls",
            "_model_module_version": "1.5.0",
            "_model_name": "HTMLModel",
            "_view_count": null,
            "_view_module": "@jupyter-widgets/controls",
            "_view_module_version": "1.5.0",
            "_view_name": "HTMLView",
            "description": "",
            "description_tooltip": null,
            "layout": "IPY_MODEL_accc3c7d2b0a4e14b3e36dc5684c7842",
            "placeholder": "​",
            "style": "IPY_MODEL_93bfc8a6344a4c9d8a855f05536ef98b",
            "value": "Batches: 100%"
          }
        },
        "0e8599d92f714295b90b0e4aadd9ff64": {
          "model_module": "@jupyter-widgets/controls",
          "model_module_version": "1.5.0",
          "model_name": "DescriptionStyleModel",
          "state": {
            "_model_module": "@jupyter-widgets/controls",
            "_model_module_version": "1.5.0",
            "_model_name": "DescriptionStyleModel",
            "_view_count": null,
            "_view_module": "@jupyter-widgets/base",
            "_view_module_version": "1.2.0",
            "_view_name": "StyleView",
            "description_width": ""
          }
        },
        "11c00d0dd2ca4a599342c843e2ae5704": {
          "model_module": "@jupyter-widgets/base",
          "model_module_version": "1.2.0",
          "model_name": "LayoutModel",
          "state": {
            "_model_module": "@jupyter-widgets/base",
            "_model_module_version": "1.2.0",
            "_model_name": "LayoutModel",
            "_view_count": null,
            "_view_module": "@jupyter-widgets/base",
            "_view_module_version": "1.2.0",
            "_view_name": "LayoutView",
            "align_content": null,
            "align_items": null,
            "align_self": null,
            "border": null,
            "bottom": null,
            "display": null,
            "flex": null,
            "flex_flow": null,
            "grid_area": null,
            "grid_auto_columns": null,
            "grid_auto_flow": null,
            "grid_auto_rows": null,
            "grid_column": null,
            "grid_gap": null,
            "grid_row": null,
            "grid_template_areas": null,
            "grid_template_columns": null,
            "grid_template_rows": null,
            "height": null,
            "justify_content": null,
            "justify_items": null,
            "left": null,
            "margin": null,
            "max_height": null,
            "max_width": null,
            "min_height": null,
            "min_width": null,
            "object_fit": null,
            "object_position": null,
            "order": null,
            "overflow": null,
            "overflow_x": null,
            "overflow_y": null,
            "padding": null,
            "right": null,
            "top": null,
            "visibility": null,
            "width": null
          }
        },
        "1967daa465cc4533b5ecb1d1a0564ed3": {
          "model_module": "@jupyter-widgets/controls",
          "model_module_version": "1.5.0",
          "model_name": "HTMLModel",
          "state": {
            "_dom_classes": [],
            "_model_module": "@jupyter-widgets/controls",
            "_model_module_version": "1.5.0",
            "_model_name": "HTMLModel",
            "_view_count": null,
            "_view_module": "@jupyter-widgets/controls",
            "_view_module_version": "1.5.0",
            "_view_name": "HTMLView",
            "description": "",
            "description_tooltip": null,
            "layout": "IPY_MODEL_87888ad530694099a8e414ec708f37a2",
            "placeholder": "​",
            "style": "IPY_MODEL_072cfb59965e4877b2d68a14155d8e79",
            "value": "Batches: 100%"
          }
        },
        "20bdeea79afe4adb8ccdb5a6e814348c": {
          "model_module": "@jupyter-widgets/base",
          "model_module_version": "1.2.0",
          "model_name": "LayoutModel",
          "state": {
            "_model_module": "@jupyter-widgets/base",
            "_model_module_version": "1.2.0",
            "_model_name": "LayoutModel",
            "_view_count": null,
            "_view_module": "@jupyter-widgets/base",
            "_view_module_version": "1.2.0",
            "_view_name": "LayoutView",
            "align_content": null,
            "align_items": null,
            "align_self": null,
            "border": null,
            "bottom": null,
            "display": null,
            "flex": null,
            "flex_flow": null,
            "grid_area": null,
            "grid_auto_columns": null,
            "grid_auto_flow": null,
            "grid_auto_rows": null,
            "grid_column": null,
            "grid_gap": null,
            "grid_row": null,
            "grid_template_areas": null,
            "grid_template_columns": null,
            "grid_template_rows": null,
            "height": null,
            "justify_content": null,
            "justify_items": null,
            "left": null,
            "margin": null,
            "max_height": null,
            "max_width": null,
            "min_height": null,
            "min_width": null,
            "object_fit": null,
            "object_position": null,
            "order": null,
            "overflow": null,
            "overflow_x": null,
            "overflow_y": null,
            "padding": null,
            "right": null,
            "top": null,
            "visibility": null,
            "width": null
          }
        },
        "2284cc8b99ec4127963d30f8975095c9": {
          "model_module": "@jupyter-widgets/base",
          "model_module_version": "1.2.0",
          "model_name": "LayoutModel",
          "state": {
            "_model_module": "@jupyter-widgets/base",
            "_model_module_version": "1.2.0",
            "_model_name": "LayoutModel",
            "_view_count": null,
            "_view_module": "@jupyter-widgets/base",
            "_view_module_version": "1.2.0",
            "_view_name": "LayoutView",
            "align_content": null,
            "align_items": null,
            "align_self": null,
            "border": null,
            "bottom": null,
            "display": null,
            "flex": null,
            "flex_flow": null,
            "grid_area": null,
            "grid_auto_columns": null,
            "grid_auto_flow": null,
            "grid_auto_rows": null,
            "grid_column": null,
            "grid_gap": null,
            "grid_row": null,
            "grid_template_areas": null,
            "grid_template_columns": null,
            "grid_template_rows": null,
            "height": null,
            "justify_content": null,
            "justify_items": null,
            "left": null,
            "margin": null,
            "max_height": null,
            "max_width": null,
            "min_height": null,
            "min_width": null,
            "object_fit": null,
            "object_position": null,
            "order": null,
            "overflow": null,
            "overflow_x": null,
            "overflow_y": null,
            "padding": null,
            "right": null,
            "top": null,
            "visibility": null,
            "width": null
          }
        },
        "2422004c848048ba83112002a36042da": {
          "model_module": "@jupyter-widgets/controls",
          "model_module_version": "1.5.0",
          "model_name": "HTMLModel",
          "state": {
            "_dom_classes": [],
            "_model_module": "@jupyter-widgets/controls",
            "_model_module_version": "1.5.0",
            "_model_name": "HTMLModel",
            "_view_count": null,
            "_view_module": "@jupyter-widgets/controls",
            "_view_module_version": "1.5.0",
            "_view_name": "HTMLView",
            "description": "",
            "description_tooltip": null,
            "layout": "IPY_MODEL_20bdeea79afe4adb8ccdb5a6e814348c",
            "placeholder": "​",
            "style": "IPY_MODEL_0e8599d92f714295b90b0e4aadd9ff64",
            "value": " 335/335 [00:47&lt;00:00, 30.97it/s]"
          }
        },
        "296909ecae1d478ba6087d35dcadfbb4": {
          "model_module": "@jupyter-widgets/base",
          "model_module_version": "1.2.0",
          "model_name": "LayoutModel",
          "state": {
            "_model_module": "@jupyter-widgets/base",
            "_model_module_version": "1.2.0",
            "_model_name": "LayoutModel",
            "_view_count": null,
            "_view_module": "@jupyter-widgets/base",
            "_view_module_version": "1.2.0",
            "_view_name": "LayoutView",
            "align_content": null,
            "align_items": null,
            "align_self": null,
            "border": null,
            "bottom": null,
            "display": null,
            "flex": null,
            "flex_flow": null,
            "grid_area": null,
            "grid_auto_columns": null,
            "grid_auto_flow": null,
            "grid_auto_rows": null,
            "grid_column": null,
            "grid_gap": null,
            "grid_row": null,
            "grid_template_areas": null,
            "grid_template_columns": null,
            "grid_template_rows": null,
            "height": null,
            "justify_content": null,
            "justify_items": null,
            "left": null,
            "margin": null,
            "max_height": null,
            "max_width": null,
            "min_height": null,
            "min_width": null,
            "object_fit": null,
            "object_position": null,
            "order": null,
            "overflow": null,
            "overflow_x": null,
            "overflow_y": null,
            "padding": null,
            "right": null,
            "top": null,
            "visibility": null,
            "width": null
          }
        },
        "3138a42022594f939c0ab0b9cc7c18c6": {
          "model_module": "@jupyter-widgets/controls",
          "model_module_version": "1.5.0",
          "model_name": "HTMLModel",
          "state": {
            "_dom_classes": [],
            "_model_module": "@jupyter-widgets/controls",
            "_model_module_version": "1.5.0",
            "_model_name": "HTMLModel",
            "_view_count": null,
            "_view_module": "@jupyter-widgets/controls",
            "_view_module_version": "1.5.0",
            "_view_name": "HTMLView",
            "description": "",
            "description_tooltip": null,
            "layout": "IPY_MODEL_d35f8f6a9ac64c8c85d34160c595275b",
            "placeholder": "​",
            "style": "IPY_MODEL_889f1b1fe4c645089d8f14905a46de46",
            "value": " 335/335 [00:47&lt;00:00, 25.65it/s]"
          }
        },
        "381eeca733634d1398705216335b0026": {
          "model_module": "@jupyter-widgets/base",
          "model_module_version": "1.2.0",
          "model_name": "LayoutModel",
          "state": {
            "_model_module": "@jupyter-widgets/base",
            "_model_module_version": "1.2.0",
            "_model_name": "LayoutModel",
            "_view_count": null,
            "_view_module": "@jupyter-widgets/base",
            "_view_module_version": "1.2.0",
            "_view_name": "LayoutView",
            "align_content": null,
            "align_items": null,
            "align_self": null,
            "border": null,
            "bottom": null,
            "display": null,
            "flex": null,
            "flex_flow": null,
            "grid_area": null,
            "grid_auto_columns": null,
            "grid_auto_flow": null,
            "grid_auto_rows": null,
            "grid_column": null,
            "grid_gap": null,
            "grid_row": null,
            "grid_template_areas": null,
            "grid_template_columns": null,
            "grid_template_rows": null,
            "height": null,
            "justify_content": null,
            "justify_items": null,
            "left": null,
            "margin": null,
            "max_height": null,
            "max_width": null,
            "min_height": null,
            "min_width": null,
            "object_fit": null,
            "object_position": null,
            "order": null,
            "overflow": null,
            "overflow_x": null,
            "overflow_y": null,
            "padding": null,
            "right": null,
            "top": null,
            "visibility": null,
            "width": null
          }
        },
        "4964b2e3f9a84a76883fba59d658ec3b": {
          "model_module": "@jupyter-widgets/controls",
          "model_module_version": "1.5.0",
          "model_name": "DescriptionStyleModel",
          "state": {
            "_model_module": "@jupyter-widgets/controls",
            "_model_module_version": "1.5.0",
            "_model_name": "DescriptionStyleModel",
            "_view_count": null,
            "_view_module": "@jupyter-widgets/base",
            "_view_module_version": "1.2.0",
            "_view_name": "StyleView",
            "description_width": ""
          }
        },
        "713b724ef397497ab96289237e86f697": {
          "model_module": "@jupyter-widgets/controls",
          "model_module_version": "1.5.0",
          "model_name": "DescriptionStyleModel",
          "state": {
            "_model_module": "@jupyter-widgets/controls",
            "_model_module_version": "1.5.0",
            "_model_name": "DescriptionStyleModel",
            "_view_count": null,
            "_view_module": "@jupyter-widgets/base",
            "_view_module_version": "1.2.0",
            "_view_name": "StyleView",
            "description_width": ""
          }
        },
        "7aba238e3c1740d4ab8aa3152174e26c": {
          "model_module": "@jupyter-widgets/base",
          "model_module_version": "1.2.0",
          "model_name": "LayoutModel",
          "state": {
            "_model_module": "@jupyter-widgets/base",
            "_model_module_version": "1.2.0",
            "_model_name": "LayoutModel",
            "_view_count": null,
            "_view_module": "@jupyter-widgets/base",
            "_view_module_version": "1.2.0",
            "_view_name": "LayoutView",
            "align_content": null,
            "align_items": null,
            "align_self": null,
            "border": null,
            "bottom": null,
            "display": null,
            "flex": null,
            "flex_flow": null,
            "grid_area": null,
            "grid_auto_columns": null,
            "grid_auto_flow": null,
            "grid_auto_rows": null,
            "grid_column": null,
            "grid_gap": null,
            "grid_row": null,
            "grid_template_areas": null,
            "grid_template_columns": null,
            "grid_template_rows": null,
            "height": null,
            "justify_content": null,
            "justify_items": null,
            "left": null,
            "margin": null,
            "max_height": null,
            "max_width": null,
            "min_height": null,
            "min_width": null,
            "object_fit": null,
            "object_position": null,
            "order": null,
            "overflow": null,
            "overflow_x": null,
            "overflow_y": null,
            "padding": null,
            "right": null,
            "top": null,
            "visibility": null,
            "width": null
          }
        },
        "84a978da256f401981fd69c013817f28": {
          "model_module": "@jupyter-widgets/controls",
          "model_module_version": "1.5.0",
          "model_name": "ProgressStyleModel",
          "state": {
            "_model_module": "@jupyter-widgets/controls",
            "_model_module_version": "1.5.0",
            "_model_name": "ProgressStyleModel",
            "_view_count": null,
            "_view_module": "@jupyter-widgets/base",
            "_view_module_version": "1.2.0",
            "_view_name": "StyleView",
            "bar_color": null,
            "description_width": ""
          }
        },
        "87888ad530694099a8e414ec708f37a2": {
          "model_module": "@jupyter-widgets/base",
          "model_module_version": "1.2.0",
          "model_name": "LayoutModel",
          "state": {
            "_model_module": "@jupyter-widgets/base",
            "_model_module_version": "1.2.0",
            "_model_name": "LayoutModel",
            "_view_count": null,
            "_view_module": "@jupyter-widgets/base",
            "_view_module_version": "1.2.0",
            "_view_name": "LayoutView",
            "align_content": null,
            "align_items": null,
            "align_self": null,
            "border": null,
            "bottom": null,
            "display": null,
            "flex": null,
            "flex_flow": null,
            "grid_area": null,
            "grid_auto_columns": null,
            "grid_auto_flow": null,
            "grid_auto_rows": null,
            "grid_column": null,
            "grid_gap": null,
            "grid_row": null,
            "grid_template_areas": null,
            "grid_template_columns": null,
            "grid_template_rows": null,
            "height": null,
            "justify_content": null,
            "justify_items": null,
            "left": null,
            "margin": null,
            "max_height": null,
            "max_width": null,
            "min_height": null,
            "min_width": null,
            "object_fit": null,
            "object_position": null,
            "order": null,
            "overflow": null,
            "overflow_x": null,
            "overflow_y": null,
            "padding": null,
            "right": null,
            "top": null,
            "visibility": null,
            "width": null
          }
        },
        "889f1b1fe4c645089d8f14905a46de46": {
          "model_module": "@jupyter-widgets/controls",
          "model_module_version": "1.5.0",
          "model_name": "DescriptionStyleModel",
          "state": {
            "_model_module": "@jupyter-widgets/controls",
            "_model_module_version": "1.5.0",
            "_model_name": "DescriptionStyleModel",
            "_view_count": null,
            "_view_module": "@jupyter-widgets/base",
            "_view_module_version": "1.2.0",
            "_view_name": "StyleView",
            "description_width": ""
          }
        },
        "8c7aaeee69bb447aa91973256ce5ee32": {
          "model_module": "@jupyter-widgets/base",
          "model_module_version": "1.2.0",
          "model_name": "LayoutModel",
          "state": {
            "_model_module": "@jupyter-widgets/base",
            "_model_module_version": "1.2.0",
            "_model_name": "LayoutModel",
            "_view_count": null,
            "_view_module": "@jupyter-widgets/base",
            "_view_module_version": "1.2.0",
            "_view_name": "LayoutView",
            "align_content": null,
            "align_items": null,
            "align_self": null,
            "border": null,
            "bottom": null,
            "display": null,
            "flex": null,
            "flex_flow": null,
            "grid_area": null,
            "grid_auto_columns": null,
            "grid_auto_flow": null,
            "grid_auto_rows": null,
            "grid_column": null,
            "grid_gap": null,
            "grid_row": null,
            "grid_template_areas": null,
            "grid_template_columns": null,
            "grid_template_rows": null,
            "height": null,
            "justify_content": null,
            "justify_items": null,
            "left": null,
            "margin": null,
            "max_height": null,
            "max_width": null,
            "min_height": null,
            "min_width": null,
            "object_fit": null,
            "object_position": null,
            "order": null,
            "overflow": null,
            "overflow_x": null,
            "overflow_y": null,
            "padding": null,
            "right": null,
            "top": null,
            "visibility": null,
            "width": null
          }
        },
        "93102eb266fd42e3a90c0b8bcbed67d0": {
          "model_module": "@jupyter-widgets/controls",
          "model_module_version": "1.5.0",
          "model_name": "FloatProgressModel",
          "state": {
            "_dom_classes": [],
            "_model_module": "@jupyter-widgets/controls",
            "_model_module_version": "1.5.0",
            "_model_name": "FloatProgressModel",
            "_view_count": null,
            "_view_module": "@jupyter-widgets/controls",
            "_view_module_version": "1.5.0",
            "_view_name": "ProgressView",
            "bar_style": "success",
            "description": "",
            "description_tooltip": null,
            "layout": "IPY_MODEL_7aba238e3c1740d4ab8aa3152174e26c",
            "max": 335,
            "min": 0,
            "orientation": "horizontal",
            "style": "IPY_MODEL_d441c03de6bb4d0e939a65d493af220d",
            "value": 335
          }
        },
        "93bfc8a6344a4c9d8a855f05536ef98b": {
          "model_module": "@jupyter-widgets/controls",
          "model_module_version": "1.5.0",
          "model_name": "DescriptionStyleModel",
          "state": {
            "_model_module": "@jupyter-widgets/controls",
            "_model_module_version": "1.5.0",
            "_model_name": "DescriptionStyleModel",
            "_view_count": null,
            "_view_module": "@jupyter-widgets/base",
            "_view_module_version": "1.2.0",
            "_view_name": "StyleView",
            "description_width": ""
          }
        },
        "95fa7de5dba0413592ad72afe63e5cde": {
          "model_module": "@jupyter-widgets/controls",
          "model_module_version": "1.5.0",
          "model_name": "ProgressStyleModel",
          "state": {
            "_model_module": "@jupyter-widgets/controls",
            "_model_module_version": "1.5.0",
            "_model_name": "ProgressStyleModel",
            "_view_count": null,
            "_view_module": "@jupyter-widgets/base",
            "_view_module_version": "1.2.0",
            "_view_name": "StyleView",
            "bar_color": null,
            "description_width": ""
          }
        },
        "9604ca8573d44046b65df745142e155e": {
          "model_module": "@jupyter-widgets/controls",
          "model_module_version": "1.5.0",
          "model_name": "ProgressStyleModel",
          "state": {
            "_model_module": "@jupyter-widgets/controls",
            "_model_module_version": "1.5.0",
            "_model_name": "ProgressStyleModel",
            "_view_count": null,
            "_view_module": "@jupyter-widgets/base",
            "_view_module_version": "1.2.0",
            "_view_name": "StyleView",
            "bar_color": null,
            "description_width": ""
          }
        },
        "a0be5d8188ed4feab44047d3438fad4a": {
          "model_module": "@jupyter-widgets/base",
          "model_module_version": "1.2.0",
          "model_name": "LayoutModel",
          "state": {
            "_model_module": "@jupyter-widgets/base",
            "_model_module_version": "1.2.0",
            "_model_name": "LayoutModel",
            "_view_count": null,
            "_view_module": "@jupyter-widgets/base",
            "_view_module_version": "1.2.0",
            "_view_name": "LayoutView",
            "align_content": null,
            "align_items": null,
            "align_self": null,
            "border": null,
            "bottom": null,
            "display": null,
            "flex": null,
            "flex_flow": null,
            "grid_area": null,
            "grid_auto_columns": null,
            "grid_auto_flow": null,
            "grid_auto_rows": null,
            "grid_column": null,
            "grid_gap": null,
            "grid_row": null,
            "grid_template_areas": null,
            "grid_template_columns": null,
            "grid_template_rows": null,
            "height": null,
            "justify_content": null,
            "justify_items": null,
            "left": null,
            "margin": null,
            "max_height": null,
            "max_width": null,
            "min_height": null,
            "min_width": null,
            "object_fit": null,
            "object_position": null,
            "order": null,
            "overflow": null,
            "overflow_x": null,
            "overflow_y": null,
            "padding": null,
            "right": null,
            "top": null,
            "visibility": null,
            "width": null
          }
        },
        "a724a185dd4844de9a0a573b016b54c4": {
          "model_module": "@jupyter-widgets/controls",
          "model_module_version": "1.5.0",
          "model_name": "FloatProgressModel",
          "state": {
            "_dom_classes": [],
            "_model_module": "@jupyter-widgets/controls",
            "_model_module_version": "1.5.0",
            "_model_name": "FloatProgressModel",
            "_view_count": null,
            "_view_module": "@jupyter-widgets/controls",
            "_view_module_version": "1.5.0",
            "_view_name": "ProgressView",
            "bar_style": "success",
            "description": "",
            "description_tooltip": null,
            "layout": "IPY_MODEL_de9b9c18eb36490297a0b8362df91a95",
            "max": 335,
            "min": 0,
            "orientation": "horizontal",
            "style": "IPY_MODEL_9604ca8573d44046b65df745142e155e",
            "value": 335
          }
        },
        "accc3c7d2b0a4e14b3e36dc5684c7842": {
          "model_module": "@jupyter-widgets/base",
          "model_module_version": "1.2.0",
          "model_name": "LayoutModel",
          "state": {
            "_model_module": "@jupyter-widgets/base",
            "_model_module_version": "1.2.0",
            "_model_name": "LayoutModel",
            "_view_count": null,
            "_view_module": "@jupyter-widgets/base",
            "_view_module_version": "1.2.0",
            "_view_name": "LayoutView",
            "align_content": null,
            "align_items": null,
            "align_self": null,
            "border": null,
            "bottom": null,
            "display": null,
            "flex": null,
            "flex_flow": null,
            "grid_area": null,
            "grid_auto_columns": null,
            "grid_auto_flow": null,
            "grid_auto_rows": null,
            "grid_column": null,
            "grid_gap": null,
            "grid_row": null,
            "grid_template_areas": null,
            "grid_template_columns": null,
            "grid_template_rows": null,
            "height": null,
            "justify_content": null,
            "justify_items": null,
            "left": null,
            "margin": null,
            "max_height": null,
            "max_width": null,
            "min_height": null,
            "min_width": null,
            "object_fit": null,
            "object_position": null,
            "order": null,
            "overflow": null,
            "overflow_x": null,
            "overflow_y": null,
            "padding": null,
            "right": null,
            "top": null,
            "visibility": null,
            "width": null
          }
        },
        "aeb8e8bbf0734d9d9b46824c0048a833": {
          "model_module": "@jupyter-widgets/base",
          "model_module_version": "1.2.0",
          "model_name": "LayoutModel",
          "state": {
            "_model_module": "@jupyter-widgets/base",
            "_model_module_version": "1.2.0",
            "_model_name": "LayoutModel",
            "_view_count": null,
            "_view_module": "@jupyter-widgets/base",
            "_view_module_version": "1.2.0",
            "_view_name": "LayoutView",
            "align_content": null,
            "align_items": null,
            "align_self": null,
            "border": null,
            "bottom": null,
            "display": null,
            "flex": null,
            "flex_flow": null,
            "grid_area": null,
            "grid_auto_columns": null,
            "grid_auto_flow": null,
            "grid_auto_rows": null,
            "grid_column": null,
            "grid_gap": null,
            "grid_row": null,
            "grid_template_areas": null,
            "grid_template_columns": null,
            "grid_template_rows": null,
            "height": null,
            "justify_content": null,
            "justify_items": null,
            "left": null,
            "margin": null,
            "max_height": null,
            "max_width": null,
            "min_height": null,
            "min_width": null,
            "object_fit": null,
            "object_position": null,
            "order": null,
            "overflow": null,
            "overflow_x": null,
            "overflow_y": null,
            "padding": null,
            "right": null,
            "top": null,
            "visibility": null,
            "width": null
          }
        },
        "c42ccc180b4a4157abd8119f3772e6d8": {
          "model_module": "@jupyter-widgets/controls",
          "model_module_version": "1.5.0",
          "model_name": "DescriptionStyleModel",
          "state": {
            "_model_module": "@jupyter-widgets/controls",
            "_model_module_version": "1.5.0",
            "_model_name": "DescriptionStyleModel",
            "_view_count": null,
            "_view_module": "@jupyter-widgets/base",
            "_view_module_version": "1.2.0",
            "_view_name": "StyleView",
            "description_width": ""
          }
        },
        "c9b281767d01454987fbfb62519de4ba": {
          "model_module": "@jupyter-widgets/base",
          "model_module_version": "1.2.0",
          "model_name": "LayoutModel",
          "state": {
            "_model_module": "@jupyter-widgets/base",
            "_model_module_version": "1.2.0",
            "_model_name": "LayoutModel",
            "_view_count": null,
            "_view_module": "@jupyter-widgets/base",
            "_view_module_version": "1.2.0",
            "_view_name": "LayoutView",
            "align_content": null,
            "align_items": null,
            "align_self": null,
            "border": null,
            "bottom": null,
            "display": null,
            "flex": null,
            "flex_flow": null,
            "grid_area": null,
            "grid_auto_columns": null,
            "grid_auto_flow": null,
            "grid_auto_rows": null,
            "grid_column": null,
            "grid_gap": null,
            "grid_row": null,
            "grid_template_areas": null,
            "grid_template_columns": null,
            "grid_template_rows": null,
            "height": null,
            "justify_content": null,
            "justify_items": null,
            "left": null,
            "margin": null,
            "max_height": null,
            "max_width": null,
            "min_height": null,
            "min_width": null,
            "object_fit": null,
            "object_position": null,
            "order": null,
            "overflow": null,
            "overflow_x": null,
            "overflow_y": null,
            "padding": null,
            "right": null,
            "top": null,
            "visibility": null,
            "width": null
          }
        },
        "cb6fa3dfbee04e2ab806999cda6c17fa": {
          "model_module": "@jupyter-widgets/controls",
          "model_module_version": "1.5.0",
          "model_name": "FloatProgressModel",
          "state": {
            "_dom_classes": [],
            "_model_module": "@jupyter-widgets/controls",
            "_model_module_version": "1.5.0",
            "_model_name": "FloatProgressModel",
            "_view_count": null,
            "_view_module": "@jupyter-widgets/controls",
            "_view_module_version": "1.5.0",
            "_view_name": "ProgressView",
            "bar_style": "success",
            "description": "",
            "description_tooltip": null,
            "layout": "IPY_MODEL_fb7b4a469dd54615a9de8f0dd39370a1",
            "max": 335,
            "min": 0,
            "orientation": "horizontal",
            "style": "IPY_MODEL_95fa7de5dba0413592ad72afe63e5cde",
            "value": 335
          }
        },
        "d35f8f6a9ac64c8c85d34160c595275b": {
          "model_module": "@jupyter-widgets/base",
          "model_module_version": "1.2.0",
          "model_name": "LayoutModel",
          "state": {
            "_model_module": "@jupyter-widgets/base",
            "_model_module_version": "1.2.0",
            "_model_name": "LayoutModel",
            "_view_count": null,
            "_view_module": "@jupyter-widgets/base",
            "_view_module_version": "1.2.0",
            "_view_name": "LayoutView",
            "align_content": null,
            "align_items": null,
            "align_self": null,
            "border": null,
            "bottom": null,
            "display": null,
            "flex": null,
            "flex_flow": null,
            "grid_area": null,
            "grid_auto_columns": null,
            "grid_auto_flow": null,
            "grid_auto_rows": null,
            "grid_column": null,
            "grid_gap": null,
            "grid_row": null,
            "grid_template_areas": null,
            "grid_template_columns": null,
            "grid_template_rows": null,
            "height": null,
            "justify_content": null,
            "justify_items": null,
            "left": null,
            "margin": null,
            "max_height": null,
            "max_width": null,
            "min_height": null,
            "min_width": null,
            "object_fit": null,
            "object_position": null,
            "order": null,
            "overflow": null,
            "overflow_x": null,
            "overflow_y": null,
            "padding": null,
            "right": null,
            "top": null,
            "visibility": null,
            "width": null
          }
        },
        "d3bfc50b24e24977bbc736be6d12d0a1": {
          "model_module": "@jupyter-widgets/controls",
          "model_module_version": "1.5.0",
          "model_name": "HBoxModel",
          "state": {
            "_dom_classes": [],
            "_model_module": "@jupyter-widgets/controls",
            "_model_module_version": "1.5.0",
            "_model_name": "HBoxModel",
            "_view_count": null,
            "_view_module": "@jupyter-widgets/controls",
            "_view_module_version": "1.5.0",
            "_view_name": "HBoxView",
            "box_style": "",
            "children": [
              "IPY_MODEL_e2671b39b7da40c0ba8682ea2c1759c6",
              "IPY_MODEL_a724a185dd4844de9a0a573b016b54c4",
              "IPY_MODEL_2422004c848048ba83112002a36042da"
            ],
            "layout": "IPY_MODEL_aeb8e8bbf0734d9d9b46824c0048a833"
          }
        },
        "d441c03de6bb4d0e939a65d493af220d": {
          "model_module": "@jupyter-widgets/controls",
          "model_module_version": "1.5.0",
          "model_name": "ProgressStyleModel",
          "state": {
            "_model_module": "@jupyter-widgets/controls",
            "_model_module_version": "1.5.0",
            "_model_name": "ProgressStyleModel",
            "_view_count": null,
            "_view_module": "@jupyter-widgets/base",
            "_view_module_version": "1.2.0",
            "_view_name": "StyleView",
            "bar_color": null,
            "description_width": ""
          }
        },
        "d7de675c2e84440bb2f7a4c6d5aa0afe": {
          "model_module": "@jupyter-widgets/controls",
          "model_module_version": "1.5.0",
          "model_name": "FloatProgressModel",
          "state": {
            "_dom_classes": [],
            "_model_module": "@jupyter-widgets/controls",
            "_model_module_version": "1.5.0",
            "_model_name": "FloatProgressModel",
            "_view_count": null,
            "_view_module": "@jupyter-widgets/controls",
            "_view_module_version": "1.5.0",
            "_view_name": "ProgressView",
            "bar_style": "success",
            "description": "",
            "description_tooltip": null,
            "layout": "IPY_MODEL_8c7aaeee69bb447aa91973256ce5ee32",
            "max": 335,
            "min": 0,
            "orientation": "horizontal",
            "style": "IPY_MODEL_84a978da256f401981fd69c013817f28",
            "value": 335
          }
        },
        "de9b9c18eb36490297a0b8362df91a95": {
          "model_module": "@jupyter-widgets/base",
          "model_module_version": "1.2.0",
          "model_name": "LayoutModel",
          "state": {
            "_model_module": "@jupyter-widgets/base",
            "_model_module_version": "1.2.0",
            "_model_name": "LayoutModel",
            "_view_count": null,
            "_view_module": "@jupyter-widgets/base",
            "_view_module_version": "1.2.0",
            "_view_name": "LayoutView",
            "align_content": null,
            "align_items": null,
            "align_self": null,
            "border": null,
            "bottom": null,
            "display": null,
            "flex": null,
            "flex_flow": null,
            "grid_area": null,
            "grid_auto_columns": null,
            "grid_auto_flow": null,
            "grid_auto_rows": null,
            "grid_column": null,
            "grid_gap": null,
            "grid_row": null,
            "grid_template_areas": null,
            "grid_template_columns": null,
            "grid_template_rows": null,
            "height": null,
            "justify_content": null,
            "justify_items": null,
            "left": null,
            "margin": null,
            "max_height": null,
            "max_width": null,
            "min_height": null,
            "min_width": null,
            "object_fit": null,
            "object_position": null,
            "order": null,
            "overflow": null,
            "overflow_x": null,
            "overflow_y": null,
            "padding": null,
            "right": null,
            "top": null,
            "visibility": null,
            "width": null
          }
        },
        "dfc3f3652deb4b5da31f160c8f4a13fe": {
          "model_module": "@jupyter-widgets/controls",
          "model_module_version": "1.5.0",
          "model_name": "DescriptionStyleModel",
          "state": {
            "_model_module": "@jupyter-widgets/controls",
            "_model_module_version": "1.5.0",
            "_model_name": "DescriptionStyleModel",
            "_view_count": null,
            "_view_module": "@jupyter-widgets/base",
            "_view_module_version": "1.2.0",
            "_view_name": "StyleView",
            "description_width": ""
          }
        },
        "e195eb50ec3d449b9515ce7189d0a120": {
          "model_module": "@jupyter-widgets/base",
          "model_module_version": "1.2.0",
          "model_name": "LayoutModel",
          "state": {
            "_model_module": "@jupyter-widgets/base",
            "_model_module_version": "1.2.0",
            "_model_name": "LayoutModel",
            "_view_count": null,
            "_view_module": "@jupyter-widgets/base",
            "_view_module_version": "1.2.0",
            "_view_name": "LayoutView",
            "align_content": null,
            "align_items": null,
            "align_self": null,
            "border": null,
            "bottom": null,
            "display": null,
            "flex": null,
            "flex_flow": null,
            "grid_area": null,
            "grid_auto_columns": null,
            "grid_auto_flow": null,
            "grid_auto_rows": null,
            "grid_column": null,
            "grid_gap": null,
            "grid_row": null,
            "grid_template_areas": null,
            "grid_template_columns": null,
            "grid_template_rows": null,
            "height": null,
            "justify_content": null,
            "justify_items": null,
            "left": null,
            "margin": null,
            "max_height": null,
            "max_width": null,
            "min_height": null,
            "min_width": null,
            "object_fit": null,
            "object_position": null,
            "order": null,
            "overflow": null,
            "overflow_x": null,
            "overflow_y": null,
            "padding": null,
            "right": null,
            "top": null,
            "visibility": null,
            "width": null
          }
        },
        "e2671b39b7da40c0ba8682ea2c1759c6": {
          "model_module": "@jupyter-widgets/controls",
          "model_module_version": "1.5.0",
          "model_name": "HTMLModel",
          "state": {
            "_dom_classes": [],
            "_model_module": "@jupyter-widgets/controls",
            "_model_module_version": "1.5.0",
            "_model_name": "HTMLModel",
            "_view_count": null,
            "_view_module": "@jupyter-widgets/controls",
            "_view_module_version": "1.5.0",
            "_view_name": "HTMLView",
            "description": "",
            "description_tooltip": null,
            "layout": "IPY_MODEL_c9b281767d01454987fbfb62519de4ba",
            "placeholder": "​",
            "style": "IPY_MODEL_713b724ef397497ab96289237e86f697",
            "value": "Batches: 100%"
          }
        },
        "f10fed7db2b742cca87e11925c5bcee1": {
          "model_module": "@jupyter-widgets/controls",
          "model_module_version": "1.5.0",
          "model_name": "HBoxModel",
          "state": {
            "_dom_classes": [],
            "_model_module": "@jupyter-widgets/controls",
            "_model_module_version": "1.5.0",
            "_model_name": "HBoxModel",
            "_view_count": null,
            "_view_module": "@jupyter-widgets/controls",
            "_view_module_version": "1.5.0",
            "_view_name": "HBoxView",
            "box_style": "",
            "children": [
              "IPY_MODEL_00af2a02d71647aabdf7bd5774548d6a",
              "IPY_MODEL_93102eb266fd42e3a90c0b8bcbed67d0",
              "IPY_MODEL_f41d4e66428e41f6b14ad6b4a03fd660"
            ],
            "layout": "IPY_MODEL_11c00d0dd2ca4a599342c843e2ae5704"
          }
        },
        "f41d4e66428e41f6b14ad6b4a03fd660": {
          "model_module": "@jupyter-widgets/controls",
          "model_module_version": "1.5.0",
          "model_name": "HTMLModel",
          "state": {
            "_dom_classes": [],
            "_model_module": "@jupyter-widgets/controls",
            "_model_module_version": "1.5.0",
            "_model_name": "HTMLModel",
            "_view_count": null,
            "_view_module": "@jupyter-widgets/controls",
            "_view_module_version": "1.5.0",
            "_view_name": "HTMLView",
            "description": "",
            "description_tooltip": null,
            "layout": "IPY_MODEL_2284cc8b99ec4127963d30f8975095c9",
            "placeholder": "​",
            "style": "IPY_MODEL_4964b2e3f9a84a76883fba59d658ec3b",
            "value": " 335/335 [00:52&lt;00:00, 22.69it/s]"
          }
        },
        "f8371408f0ed413497983ebc9f9e55ff": {
          "model_module": "@jupyter-widgets/controls",
          "model_module_version": "1.5.0",
          "model_name": "HTMLModel",
          "state": {
            "_dom_classes": [],
            "_model_module": "@jupyter-widgets/controls",
            "_model_module_version": "1.5.0",
            "_model_name": "HTMLModel",
            "_view_count": null,
            "_view_module": "@jupyter-widgets/controls",
            "_view_module_version": "1.5.0",
            "_view_name": "HTMLView",
            "description": "",
            "description_tooltip": null,
            "layout": "IPY_MODEL_381eeca733634d1398705216335b0026",
            "placeholder": "​",
            "style": "IPY_MODEL_c42ccc180b4a4157abd8119f3772e6d8",
            "value": " 335/335 [00:47&lt;00:00, 26.92it/s]"
          }
        },
        "fb7b4a469dd54615a9de8f0dd39370a1": {
          "model_module": "@jupyter-widgets/base",
          "model_module_version": "1.2.0",
          "model_name": "LayoutModel",
          "state": {
            "_model_module": "@jupyter-widgets/base",
            "_model_module_version": "1.2.0",
            "_model_name": "LayoutModel",
            "_view_count": null,
            "_view_module": "@jupyter-widgets/base",
            "_view_module_version": "1.2.0",
            "_view_name": "LayoutView",
            "align_content": null,
            "align_items": null,
            "align_self": null,
            "border": null,
            "bottom": null,
            "display": null,
            "flex": null,
            "flex_flow": null,
            "grid_area": null,
            "grid_auto_columns": null,
            "grid_auto_flow": null,
            "grid_auto_rows": null,
            "grid_column": null,
            "grid_gap": null,
            "grid_row": null,
            "grid_template_areas": null,
            "grid_template_columns": null,
            "grid_template_rows": null,
            "height": null,
            "justify_content": null,
            "justify_items": null,
            "left": null,
            "margin": null,
            "max_height": null,
            "max_width": null,
            "min_height": null,
            "min_width": null,
            "object_fit": null,
            "object_position": null,
            "order": null,
            "overflow": null,
            "overflow_x": null,
            "overflow_y": null,
            "padding": null,
            "right": null,
            "top": null,
            "visibility": null,
            "width": null
          }
        },
        "fc6324728cce405ba9e054789853a380": {
          "model_module": "@jupyter-widgets/controls",
          "model_module_version": "1.5.0",
          "model_name": "HBoxModel",
          "state": {
            "_dom_classes": [],
            "_model_module": "@jupyter-widgets/controls",
            "_model_module_version": "1.5.0",
            "_model_name": "HBoxModel",
            "_view_count": null,
            "_view_module": "@jupyter-widgets/controls",
            "_view_module_version": "1.5.0",
            "_view_name": "HBoxView",
            "box_style": "",
            "children": [
              "IPY_MODEL_1967daa465cc4533b5ecb1d1a0564ed3",
              "IPY_MODEL_cb6fa3dfbee04e2ab806999cda6c17fa",
              "IPY_MODEL_f8371408f0ed413497983ebc9f9e55ff"
            ],
            "layout": "IPY_MODEL_a0be5d8188ed4feab44047d3438fad4a"
          }
        }
      }
    }
  },
  "nbformat": 4,
  "nbformat_minor": 0
}
