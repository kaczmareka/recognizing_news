{
  "cells": [
    {
      "cell_type": "markdown",
      "metadata": {
        "id": "nRqlzwlN2i3P"
      },
      "source": [
        "# Preprocessing of 100 sample articles\n",
        "\n",
        "The articles were chosen manually. The preprocessing is done with GPT-4o-mini."
      ]
    },
    {
      "cell_type": "code",
      "execution_count": 2,
      "metadata": {
        "id": "By5CaeS73Alq"
      },
      "outputs": [],
      "source": [
        "import pandas as pd\n",
        "from openai import OpenAI\n",
        "from config_experiments import (\n",
        "    PATH_NOT_PREPROCESSED,\n",
        "    PATH_4O,\n",
        "    OPEN_AI_KEY\n",
        ")"
      ]
    },
    {
      "cell_type": "code",
      "execution_count": 23,
      "metadata": {
        "colab": {
          "base_uri": "https://localhost:8080/",
          "height": 206
        },
        "id": "R1o-VMZW2nTh",
        "outputId": "a662a1e1-8e77-4819-9b64-9afaea26d326"
      },
      "outputs": [],
      "source": [
        "with open(PATH_NOT_PREPROCESSED, \"r\") as f:\n",
        "    articles = f.readlines()\n",
        "articles=articles[:10]"
      ]
    },
    {
      "cell_type": "code",
      "execution_count": 24,
      "metadata": {},
      "outputs": [],
      "source": [
        "client = OpenAI(api_key=OPEN_AI_KEY)"
      ]
    },
    {
      "cell_type": "code",
      "execution_count": 25,
      "metadata": {},
      "outputs": [],
      "source": [
        "articles_cleaned_by_4o=[\"\" for _ in range(len(articles))]\n",
        "for i in range(len(articles)):\n",
        "  article =f\"\"\"You are a text cleaning endpoint, aiming at cleaning the text from not suitable test e.g. adds, information about\n",
        "  subscriptions, popups, repeating lines.\n",
        "  Do not hallucinate, return text as is, the only difference will be the deleted parts.\n",
        "  Return only the cleaned text.\n",
        "\n",
        "  Text to clean:\n",
        "\n",
        "  {articles[i]}\n",
        "  \"\"\"\n",
        "  completion = client.chat.completions.create(\n",
        "    model=\"gpt-4o-mini\",\n",
        "    messages=[\n",
        "      {\"role\": \"user\", \"content\": article}\n",
        "    ],\n",
        "    logprobs=True,\n",
        "    top_logprobs=5,\n",
        "    seed=123,\n",
        "    temperature=0\n",
        "  )\n",
        "  message_content=completion.choices[0].message.content\n",
        "  articles_cleaned_by_4o[i] = message_content.replace('\\n', '')"
      ]
    },
    {
      "cell_type": "code",
      "execution_count": 29,
      "metadata": {},
      "outputs": [],
      "source": [
        "for i in range(len(articles_cleaned_by_4o)):\n",
        "    articles_cleaned_by_4o[i]=articles_cleaned_by_4o[i].replace('\\n', '')"
      ]
    },
    {
      "cell_type": "code",
      "execution_count": 31,
      "metadata": {},
      "outputs": [],
      "source": [
        "with open(PATH_4O, 'w') as f:\n",
        "    for line in articles_cleaned_by_4o:\n",
        "        f.write(f\"{line}\\n\")"
      ]
    }
  ],
  "metadata": {
    "colab": {
      "provenance": []
    },
    "kernelspec": {
      "display_name": "env_actaware",
      "language": "python",
      "name": "python3"
    },
    "language_info": {
      "codemirror_mode": {
        "name": "ipython",
        "version": 3
      },
      "file_extension": ".py",
      "mimetype": "text/x-python",
      "name": "python",
      "nbconvert_exporter": "python",
      "pygments_lexer": "ipython3",
      "version": "3.10.12"
    }
  },
  "nbformat": 4,
  "nbformat_minor": 0
}
