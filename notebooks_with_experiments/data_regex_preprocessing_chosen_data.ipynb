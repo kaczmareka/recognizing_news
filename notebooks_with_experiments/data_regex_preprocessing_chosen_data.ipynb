{
  "cells": [
    {
      "cell_type": "markdown",
      "metadata": {
        "id": "nRqlzwlN2i3P"
      },
      "source": [
        "# Preprocessing of 100 sample articles\n",
        "\n",
        "The articles were chosen manually. The preprocessing is done with regex, same as for general preprocessing of Actaware Inc. data."
      ]
    },
    {
      "cell_type": "code",
      "execution_count": 1,
      "metadata": {
        "id": "By5CaeS73Alq"
      },
      "outputs": [],
      "source": [
        "import pandas as pd\n",
        "from config_experiments import (\n",
        "    PATH_NOT_PREPROCESSED,\n",
        "    PATH_REGEX\n",
        ")"
      ]
    },
    {
      "cell_type": "code",
      "execution_count": 2,
      "metadata": {
        "colab": {
          "base_uri": "https://localhost:8080/",
          "height": 206
        },
        "id": "R1o-VMZW2nTh",
        "outputId": "a662a1e1-8e77-4819-9b64-9afaea26d326"
      },
      "outputs": [
        {
          "data": {
            "text/html": [
              "<div>\n",
              "<style scoped>\n",
              "    .dataframe tbody tr th:only-of-type {\n",
              "        vertical-align: middle;\n",
              "    }\n",
              "\n",
              "    .dataframe tbody tr th {\n",
              "        vertical-align: top;\n",
              "    }\n",
              "\n",
              "    .dataframe thead th {\n",
              "        text-align: right;\n",
              "    }\n",
              "</style>\n",
              "<table border=\"1\" class=\"dataframe\">\n",
              "  <thead>\n",
              "    <tr style=\"text-align: right;\">\n",
              "      <th></th>\n",
              "      <th>Article</th>\n",
              "    </tr>\n",
              "  </thead>\n",
              "  <tbody>\n",
              "    <tr>\n",
              "      <th>0</th>\n",
              "      <td>People work in the Amazon Fulfillment Center i...</td>\n",
              "    </tr>\n",
              "    <tr>\n",
              "      <th>1</th>\n",
              "      <td>A federal agency is seeking to force Starbucks...</td>\n",
              "    </tr>\n",
              "    <tr>\n",
              "      <th>2</th>\n",
              "      <td>You might have seen a new energy drink on Amaz...</td>\n",
              "    </tr>\n",
              "    <tr>\n",
              "      <th>3</th>\n",
              "      <td>The BBC's director-general has tried to calm t...</td>\n",
              "    </tr>\n",
              "    <tr>\n",
              "      <th>4</th>\n",
              "      <td>Amazon is running a competition to give its br...</td>\n",
              "    </tr>\n",
              "  </tbody>\n",
              "</table>\n",
              "</div>"
            ],
            "text/plain": [
              "                                             Article\n",
              "0  People work in the Amazon Fulfillment Center i...\n",
              "1  A federal agency is seeking to force Starbucks...\n",
              "2  You might have seen a new energy drink on Amaz...\n",
              "3  The BBC's director-general has tried to calm t...\n",
              "4  Amazon is running a competition to give its br..."
            ]
          },
          "execution_count": 2,
          "metadata": {},
          "output_type": "execute_result"
        }
      ],
      "source": [
        "with open(PATH_NOT_PREPROCESSED, \"r\") as f:\n",
        "    articles = f.readlines()\n",
        "df_100_samples=pd.DataFrame(articles, columns=['Article'])\n",
        "df_100_samples.head()"
      ]
    },
    {
      "cell_type": "code",
      "execution_count": 3,
      "metadata": {
        "id": "OR4_PYRI2mUh"
      },
      "outputs": [],
      "source": [
        "#replace undesirable parts of ContentRaw with '' - parts identified manually\n",
        "to_replace1='Get the free Morning Headlines email for news from our reporters across the world'\n",
        "to_replace2='Sign up to our free Morning Headlines'\n",
        "to_replace3='email Please enter a valid email address Please enter a valid email address SIGN UP'\n",
        "to_replace4='I would like to be emailed about offers, events and updates from The Independent.'\n",
        "to_replace5='Read our privacy notice'\n",
        "to_replace6='Thanks for signing up to the Morning Headlines email'\n",
        "to_replace7='{{ #verifyErrors }}'\n",
        "to_replace8='{{ message }}'\n",
        "to_replace9='{{ /verifyErrors }}'\n",
        "to_replace10='{{ ^verifyErrors }}'\n",
        "to_replace11='Something went wrong. Please try again later'\n",
        "to_replace12=r'Advertisement !- - ad:.*?- -> '\n",
        "to_replace13=r'<!- - ad:.*?- ->'\n",
        "to_replace14=r'<a href=.*?</a>'\n",
        "to_replace15=r'http.*? '\n",
        "to_replace16='CLICK HERE TO SUBSCRIBE TO FOX NATION'\n",
        "to_replace17='CLICK HERE FOR MORE SPORTS COVERAGE ON FOXNEWS.COM'\n",
        "to_replace18='CLICK HERE TO GET THE FOX NEWS APP'\n",
        "to_replace19='CREATE FREE ACCOUNT'\n",
        "to_replace20='CLICK HERE TO DONATE TO \"MAKE CAMO YOUR CAUSE\"'\n",
        "to_replace21='CLICK HERE FOR MORE SPORTS COVERAGE ON FOXNEWS.COM'\n",
        "to_replace22='subscribe to my free CyberGuy Report Newsletter by heading to Cyberguy.com/Newsletter CLICK HERE'"
      ]
    },
    {
      "cell_type": "code",
      "execution_count": 4,
      "metadata": {
        "id": "l78LqzKu227x"
      },
      "outputs": [],
      "source": [
        "df_100_samples['Article']=df_100_samples['Article'].str.replace(to_replace1, '')\n",
        "df_100_samples['Article']=df_100_samples['Article'].str.replace(to_replace2, '')\n",
        "df_100_samples['Article']=df_100_samples['Article'].str.replace(to_replace3, '')\n",
        "df_100_samples['Article']=df_100_samples['Article'].str.replace(to_replace4, '')\n",
        "df_100_samples['Article']=df_100_samples['Article'].str.replace(to_replace5, '')\n",
        "df_100_samples['Article']=df_100_samples['Article'].str.replace(to_replace6, '')\n",
        "df_100_samples['Article']=df_100_samples['Article'].str.replace(to_replace7, '')\n",
        "df_100_samples['Article']=df_100_samples['Article'].str.replace(to_replace8, '')\n",
        "df_100_samples['Article']=df_100_samples['Article'].str.replace(to_replace9, '')\n",
        "df_100_samples['Article']=df_100_samples['Article'].str.replace(to_replace10, '')\n",
        "df_100_samples['Article']=df_100_samples['Article'].str.replace(to_replace11, '')\n",
        "df_100_samples['Article']=df_100_samples['Article'].str.replace(to_replace12, '', regex=True)\n",
        "df_100_samples['Article']=df_100_samples['Article'].str.replace(to_replace13, '', regex=True)\n",
        "df_100_samples['Article']=df_100_samples['Article'].str.replace(to_replace14, '', regex=True)\n",
        "df_100_samples['Article']=df_100_samples['Article'].str.replace(to_replace15, '', regex=True)\n",
        "df_100_samples['Article']=df_100_samples['Article'].str.replace(to_replace16, '')\n",
        "df_100_samples['Article']=df_100_samples['Article'].str.replace(to_replace17, '')\n",
        "df_100_samples['Article']=df_100_samples['Article'].str.replace(to_replace18, '')\n",
        "df_100_samples['Article']=df_100_samples['Article'].str.replace(to_replace19, '')\n",
        "df_100_samples['Article']=df_100_samples['Article'].str.replace(to_replace20, '')\n",
        "df_100_samples['Article']=df_100_samples['Article'].str.replace(to_replace21, '')\n",
        "df_100_samples['Article']=df_100_samples['Article'].str.replace(to_replace22, '')\n",
        "df_100_samples['Article']=df_100_samples['Article'].str.replace(r'\\s+', ' ', regex=True)"
      ]
    },
    {
      "cell_type": "code",
      "execution_count": 5,
      "metadata": {
        "id": "yMQwXkYA5OKQ"
      },
      "outputs": [],
      "source": [
        "df_articles=df_100_samples['Article']\n",
        "with open(PATH_REGEX, 'w') as file:\n",
        "  for string in df_articles:\n",
        "    file.write(string + '\\n')"
      ]
    }
  ],
  "metadata": {
    "colab": {
      "provenance": []
    },
    "kernelspec": {
      "display_name": "env_actaware",
      "language": "python",
      "name": "python3"
    },
    "language_info": {
      "codemirror_mode": {
        "name": "ipython",
        "version": 3
      },
      "file_extension": ".py",
      "mimetype": "text/x-python",
      "name": "python",
      "nbconvert_exporter": "python",
      "pygments_lexer": "ipython3",
      "version": "3.10.12"
    }
  },
  "nbformat": 4,
  "nbformat_minor": 0
}
