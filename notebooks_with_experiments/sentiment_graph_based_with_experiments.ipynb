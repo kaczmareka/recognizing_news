{
  "cells": [
    {
      "cell_type": "markdown",
      "metadata": {
        "id": "VWmJFwOu_Dw-"
      },
      "source": [
        "# Sentiment analysis - graph based\n",
        "\n",
        "General idea:\n",
        "\n",
        "For each text in dataset to get its sentiment:\n",
        "1. Get nouns, verbs, adjectives and NERs (e.g. with nltk library) - they will be the nodes of the graph. Single words, bigrams in format word_word.\n",
        "2. The weights of edges between nodes are created based on the distance in the original text between two given words. The weight is the sum of inverses of distances between them in the whole text.\n",
        "3. DONE (update: parameter to change if compound or singular function) For each word in node the sentiment is calculated (e.g. with VADER model). The format of final outcome depends on the value of parameter *compound* - if True the normalised compound score from the VADER model is returned as the sentiment of a word in a given node. If False, value -1 (for negative), 0 (for neutral) or 1 (for positive) is returned.\n",
        "4. The sentiment is later \"weighted\". This means that for each node the sentiment from model (VADER) is multiplied by scaled_sum_of_weights_of_edges_to_this_node (mean of sum of weights * number of occurencies of the word in original text).\n",
        "5. The sentiment of the whole text is the normalized sum of weights for all nodes. There is a certain threshold, which scores are treated as neutral. In general, if sum_of_sentiment>0 than positive, < 0 negative, ~0 neutral.\n",
        "\n",
        "\n",
        "\n",
        "More details about possible configurations are described in Master Thesis. The possibilities include choosing:\n",
        "* maximum number of nodes in the graph - selected are topk words with most occurencies in the text\n",
        "* max_distance between words to add the inverse to edge weight\n",
        "* NER_list to provide NERs as the important ones to calculate and return the sentiment score for them instead of for the whole text\n",
        "* calculate_overall_score -> to say if user wants to get the score of the whole text or just for given NERs"
      ]
    },
    {
      "cell_type": "markdown",
      "metadata": {},
      "source": [
        "# Setup"
      ]
    },
    {
      "cell_type": "code",
      "execution_count": 15,
      "metadata": {
        "colab": {
          "base_uri": "https://localhost:8080/"
        },
        "id": "r_3G_lWCAFsH",
        "outputId": "4727212f-011d-4b1e-f148-7d6075541d0f"
      },
      "outputs": [
        {
          "name": "stderr",
          "output_type": "stream",
          "text": [
            "[nltk_data] Downloading package vader_lexicon to\n",
            "[nltk_data]     C:\\Users\\akaga\\AppData\\Roaming\\nltk_data...\n",
            "[nltk_data]   Package vader_lexicon is already up-to-date!\n"
          ]
        }
      ],
      "source": [
        "import nltk\n",
        "nltk.download('vader_lexicon')\n",
        "from nltk.sentiment.vader import SentimentIntensityAnalyzer\n",
        "import spacy\n",
        "import numpy as np\n",
        "import pandas as pd\n",
        "import time\n",
        "from sklearn.metrics import balanced_accuracy_score\n",
        "from config_experiments import (\n",
        "    PATH_TWITTER_DATA,\n",
        "    PATH_TO_SAVE_RESULTS,\n",
        "    PATH_NEWS_DATA,\n",
        "    PATH_NOT_PREPROCESSED,\n",
        "    PATH_MY_GT,\n",
        "    PATH_4O,\n",
        "    PATH_HUMAN,\n",
        "    PATH_REGEX\n",
        ")\n",
        "from langdetect import detect\n",
        "import random\n",
        "\n",
        "seed=42\n",
        "random.seed(seed)\n",
        "np.random.seed(seed)\n",
        "\n",
        "import warnings\n",
        "warnings.filterwarnings('ignore')"
      ]
    },
    {
      "cell_type": "markdown",
      "metadata": {
        "id": "k7c8HpGwE_n2"
      },
      "source": [
        "# Implementation with examples"
      ]
    },
    {
      "cell_type": "markdown",
      "metadata": {},
      "source": [
        "## Find words for nodes"
      ]
    },
    {
      "cell_type": "code",
      "execution_count": 16,
      "metadata": {
        "id": "jXV0G_ciCn0-"
      },
      "outputs": [],
      "source": [
        "def find_ents(doc):\n",
        "  list_of_ents=[]\n",
        "  if doc.ents:\n",
        "    for ent in doc.ents:\n",
        "      list_of_ents.append(ent.text)\n",
        "  return list_of_ents"
      ]
    },
    {
      "cell_type": "code",
      "execution_count": 17,
      "metadata": {
        "id": "dKvMNtT7_OBw"
      },
      "outputs": [],
      "source": [
        "def get_words_for_nodes(text, nlp, list_ners=[], lemmatization=False, max_nodes=0):\n",
        "  doc1 = nlp(text)\n",
        "  # find ners\n",
        "  if type(list_ners)==list and len(list_ners)>0:\n",
        "    ners=list_ners\n",
        "  else:\n",
        "    ners = find_ents(doc1)\n",
        "  if lemmatization:\n",
        "    lemmatized_tokens=[token.lemma_ for token in doc1]\n",
        "    text = ' '.join(lemmatized_tokens)\n",
        "    doc1=nlp(text)\n",
        "  tags=['JJ', 'JJR', 'JJS', 'NN', 'NNP', 'NNS', 'RB', 'RBR', 'RBS', 'VB', 'VBD', 'VBG', 'VBN', 'VBP', 'VBZ']\n",
        "  nouns_verbs_etc = [token.text for token in doc1 if token.tag_ in tags]\n",
        "  text2=\" \".join([str(word).replace(\" \", \"_\") for word in list(doc1)])\n",
        "  all_nodes=[str(word).replace(\" \", \"_\") for word in list(set(ners+nouns_verbs_etc))]\n",
        "  if max_nodes !=0:\n",
        "    word_dict = {word: 0 for word in all_nodes}\n",
        "    for word in text2.split():\n",
        "      if word in word_dict.keys():\n",
        "        word_dict[word] +=1\n",
        "    word_dict_sorted=sorted(word_dict.items(), key=lambda x: x[1], reverse=True)[:max_nodes]\n",
        "    all_nodes = [item[0] for item in word_dict_sorted]\n",
        "  else:\n",
        "    word_dict=[]\n",
        "  return all_nodes,text2, ners, word_dict"
      ]
    },
    {
      "cell_type": "code",
      "execution_count": 18,
      "metadata": {
        "id": "1bKIqBDAzzgN"
      },
      "outputs": [],
      "source": [
        "nlp = spacy.load('en_core_web_sm')\n",
        "nlp.add_pipe(\"merge_noun_chunks\")\n",
        "all, text3, ners, word_dict = get_words_for_nodes(\"what is super cool in NewYork and Abu Dhabi, this is NewYork\", lemmatization=True, max_nodes=2, nlp=nlp)"
      ]
    },
    {
      "cell_type": "code",
      "execution_count": 19,
      "metadata": {
        "colab": {
          "base_uri": "https://localhost:8080/"
        },
        "id": "LOC5NzLNSbbk",
        "outputId": "713abbbb-0537-4bc6-fe4f-8de9aeaeb056"
      },
      "outputs": [
        {
          "data": {
            "text/plain": [
              "{'super': 1, 'be': 2, 'Abu_Dhabi': 1, 'NewYork': 2, 'cool': 1}"
            ]
          },
          "execution_count": 19,
          "metadata": {},
          "output_type": "execute_result"
        }
      ],
      "source": [
        "word_dict"
      ]
    },
    {
      "cell_type": "code",
      "execution_count": 20,
      "metadata": {
        "colab": {
          "base_uri": "https://localhost:8080/"
        },
        "id": "C7j0uNilEaZg",
        "outputId": "ed281b44-d521-4f86-e2b1-2c93cc953ad4"
      },
      "outputs": [
        {
          "data": {
            "text/plain": [
              "['be', 'NewYork']"
            ]
          },
          "execution_count": 20,
          "metadata": {},
          "output_type": "execute_result"
        }
      ],
      "source": [
        "all"
      ]
    },
    {
      "cell_type": "code",
      "execution_count": 21,
      "metadata": {
        "id": "2zmvFaBxSQgQ"
      },
      "outputs": [],
      "source": [
        "all, text3, ners, word_dict = get_words_for_nodes(\"what is super cool in NewYork and Abu Dhabi, this is NewYork\", lemmatization=True, max_nodes=3, nlp=nlp)"
      ]
    },
    {
      "cell_type": "code",
      "execution_count": 22,
      "metadata": {
        "colab": {
          "base_uri": "https://localhost:8080/"
        },
        "id": "7ahtlc0JSSim",
        "outputId": "a364256f-1917-4afe-9eaa-9a0d23bc7c29"
      },
      "outputs": [
        {
          "data": {
            "text/plain": [
              "['be', 'NewYork', 'super']"
            ]
          },
          "execution_count": 22,
          "metadata": {},
          "output_type": "execute_result"
        }
      ],
      "source": [
        "all"
      ]
    },
    {
      "cell_type": "code",
      "execution_count": 23,
      "metadata": {
        "id": "XzoV06uySV_E"
      },
      "outputs": [],
      "source": [
        "all, text3, ners, word_dict = get_words_for_nodes(\"what is super cool in NewYork and Abu Dhabi, this is NewYork\", lemmatization=True, max_nodes=5, nlp=nlp)"
      ]
    },
    {
      "cell_type": "code",
      "execution_count": 24,
      "metadata": {
        "colab": {
          "base_uri": "https://localhost:8080/"
        },
        "id": "uso75hbaSYed",
        "outputId": "6a2a7f6f-e91e-4f4b-ee42-9e0972b99448"
      },
      "outputs": [
        {
          "data": {
            "text/plain": [
              "['be', 'NewYork', 'super', 'Abu_Dhabi', 'cool']"
            ]
          },
          "execution_count": 24,
          "metadata": {},
          "output_type": "execute_result"
        }
      ],
      "source": [
        "all"
      ]
    },
    {
      "cell_type": "code",
      "execution_count": 25,
      "metadata": {
        "colab": {
          "base_uri": "https://localhost:8080/"
        },
        "id": "azB6en7gVB1U",
        "outputId": "8f7773fe-ff42-408c-d6b2-463376e3f016"
      },
      "outputs": [
        {
          "data": {
            "text/plain": [
              "{'super': 1, 'be': 2, 'Abu_Dhabi': 1, 'NewYork': 2, 'cool': 1}"
            ]
          },
          "execution_count": 25,
          "metadata": {},
          "output_type": "execute_result"
        }
      ],
      "source": [
        "word_dict"
      ]
    },
    {
      "cell_type": "code",
      "execution_count": 26,
      "metadata": {
        "colab": {
          "base_uri": "https://localhost:8080/",
          "height": 36
        },
        "id": "JS2EOfBdEZzW",
        "outputId": "31aacc8e-937b-446e-d5a4-ba8a441be828"
      },
      "outputs": [
        {
          "data": {
            "text/plain": [
              "'what be super cool in NewYork and Abu_Dhabi , this be NewYork'"
            ]
          },
          "execution_count": 26,
          "metadata": {},
          "output_type": "execute_result"
        }
      ],
      "source": [
        "text3"
      ]
    },
    {
      "cell_type": "markdown",
      "metadata": {
        "id": "EiRxRvYiGe0y"
      },
      "source": [
        "## Calculate weights of edges"
      ]
    },
    {
      "cell_type": "code",
      "execution_count": 27,
      "metadata": {
        "id": "LnHlYAKKGgja"
      },
      "outputs": [],
      "source": [
        "def get_weights_of_edges(text, words, max_distance=20, ner_list=[]):\n",
        "\n",
        "  list_from_text = text.split()\n",
        "  weight_matrix=np.zeros((len(words), len(words)))\n",
        "  occurences_list=np.zeros(len(words))\n",
        "  for i, word1 in enumerate(list_from_text):\n",
        "    j=i+1\n",
        "    try:\n",
        "      index1=words.index(word1)\n",
        "      occurences_list[index1]+=1\n",
        "    except ValueError:\n",
        "      pass\n",
        "    while j<=i+max_distance and j<len(list_from_text):\n",
        "      word2=list_from_text[j]\n",
        "      if len(ner_list) != 0 and (word1 in ner_list or word2 in ner_list):\n",
        "        try:\n",
        "          index1=words.index(word1)\n",
        "          index2=words.index(word2)\n",
        "          distance=j-i\n",
        "          if distance!=0:\n",
        "            inv_distance=1/distance\n",
        "            weight_matrix[index1][index2]+=inv_distance\n",
        "        except ValueError:\n",
        "          pass\n",
        "      elif len(ner_list)==0:\n",
        "        try:\n",
        "          index1=words.index(word1)\n",
        "          index2=words.index(word2)\n",
        "          distance=j-i\n",
        "          if distance!=0:\n",
        "            inv_distance=1/distance\n",
        "            weight_matrix[index1][index2]+=inv_distance\n",
        "        except ValueError:\n",
        "          pass\n",
        "      else:\n",
        "        pass\n",
        "      j+=1\n",
        "  return weight_matrix, occurences_list"
      ]
    },
    {
      "cell_type": "code",
      "execution_count": 28,
      "metadata": {
        "colab": {
          "base_uri": "https://localhost:8080/",
          "height": 36
        },
        "id": "3xjqYc5uKq5B",
        "outputId": "f9c2f93e-722f-40cc-b9d5-e1ab11b28061"
      },
      "outputs": [
        {
          "data": {
            "text/plain": [
              "'what be super cool in NewYork and Abu_Dhabi , this be NewYork'"
            ]
          },
          "execution_count": 28,
          "metadata": {},
          "output_type": "execute_result"
        }
      ],
      "source": [
        "text3"
      ]
    },
    {
      "cell_type": "code",
      "execution_count": 29,
      "metadata": {
        "colab": {
          "base_uri": "https://localhost:8080/"
        },
        "id": "p4sPeG4bKrVk",
        "outputId": "1a7ad30d-9fb2-40e9-fe6b-bacca4ec2447"
      },
      "outputs": [
        {
          "data": {
            "text/plain": [
              "['be', 'NewYork', 'super', 'Abu_Dhabi', 'cool']"
            ]
          },
          "execution_count": 29,
          "metadata": {},
          "output_type": "execute_result"
        }
      ],
      "source": [
        "all"
      ]
    },
    {
      "cell_type": "code",
      "execution_count": 30,
      "metadata": {
        "id": "m7YoQnaZKs2h"
      },
      "outputs": [],
      "source": [
        "weight_matrix, occ_list=get_weights_of_edges(text3, all, max_distance=20, ner_list=[])"
      ]
    },
    {
      "cell_type": "code",
      "execution_count": 31,
      "metadata": {
        "colab": {
          "base_uri": "https://localhost:8080/"
        },
        "id": "oV7Zmv8QZg3T",
        "outputId": "620dd3dc-53f0-4c3d-aee9-13a2bf818e2e"
      },
      "outputs": [
        {
          "data": {
            "text/plain": [
              "array([2., 2., 1., 1., 1.])"
            ]
          },
          "execution_count": 31,
          "metadata": {},
          "output_type": "execute_result"
        }
      ],
      "source": [
        "occ_list"
      ]
    },
    {
      "cell_type": "code",
      "execution_count": 32,
      "metadata": {
        "colab": {
          "base_uri": "https://localhost:8080/"
        },
        "id": "AjN9P6hCapF5",
        "outputId": "198c5c5a-5306-4846-c6f5-d830e51a6e5d"
      },
      "outputs": [
        {
          "data": {
            "text/plain": [
              "array([[0.11111111, 1.35      , 1.        , 0.16666667, 0.5       ],\n",
              "       [0.2       , 0.16666667, 0.        , 0.5       , 0.        ],\n",
              "       [0.125     , 0.44444444, 0.        , 0.2       , 1.        ],\n",
              "       [0.33333333, 0.25      , 0.        , 0.        , 0.        ],\n",
              "       [0.14285714, 0.625     , 0.        , 0.25      , 0.        ]])"
            ]
          },
          "execution_count": 32,
          "metadata": {},
          "output_type": "execute_result"
        }
      ],
      "source": [
        "weight_matrix"
      ]
    },
    {
      "cell_type": "code",
      "execution_count": 33,
      "metadata": {
        "colab": {
          "base_uri": "https://localhost:8080/"
        },
        "id": "Uyq06BVl2Xyf",
        "outputId": "702b4b72-387e-4543-bd53-85c3191d6244"
      },
      "outputs": [
        {
          "data": {
            "text/plain": [
              "array([[0.        , 0.        , 1.        , 0.        , 0.        ],\n",
              "       [0.        , 0.        , 0.        , 0.        , 0.        ],\n",
              "       [0.125     , 0.44444444, 0.        , 0.2       , 1.        ],\n",
              "       [0.        , 0.        , 0.        , 0.        , 0.        ],\n",
              "       [0.        , 0.        , 0.        , 0.        , 0.        ]])"
            ]
          },
          "execution_count": 33,
          "metadata": {},
          "output_type": "execute_result"
        }
      ],
      "source": [
        "weight_matrix2, occ_list2=get_weights_of_edges(text3, all, max_distance=20, ner_list=['super'])\n",
        "weight_matrix2"
      ]
    },
    {
      "cell_type": "markdown",
      "metadata": {
        "id": "3Wi4AK6sdp34"
      },
      "source": [
        "## Find sentiment for each node\n",
        "\n",
        "'compound' - The normalized compound score which calculates the sum of all lexicon ratings and takes values from -1 to 1"
      ]
    },
    {
      "cell_type": "code",
      "execution_count": 34,
      "metadata": {
        "id": "6VXXmt_B6qPy"
      },
      "outputs": [],
      "source": [
        "def calculate_sentiment_for_nodes(text, compound=False):\n",
        "  analyzer = SentimentIntensityAnalyzer()\n",
        "  sentiment_scores=np.zeros(len(text))\n",
        "  for i, text in enumerate(text):\n",
        "    scores=analyzer.polarity_scores(text)\n",
        "    if compound:\n",
        "      sentiment_scores[i]=scores['compound']\n",
        "    else:\n",
        "      if scores['neg']==1.0:\n",
        "        sentiment_scores[i]=-1\n",
        "      elif scores['pos']==1.0:\n",
        "        sentiment_scores[i]=1\n",
        "  return sentiment_scores"
      ]
    },
    {
      "cell_type": "code",
      "execution_count": 35,
      "metadata": {
        "colab": {
          "base_uri": "https://localhost:8080/"
        },
        "id": "yYfSzgXkfQ4F",
        "outputId": "500580e5-f2e0-4e04-8489-2f4917f15dc7"
      },
      "outputs": [
        {
          "data": {
            "text/plain": [
              "array([0., 0., 1., 0., 1.])"
            ]
          },
          "execution_count": 35,
          "metadata": {},
          "output_type": "execute_result"
        }
      ],
      "source": [
        "calculate_sentiment_for_nodes(all, compound=False)"
      ]
    },
    {
      "cell_type": "code",
      "execution_count": 36,
      "metadata": {
        "id": "MAkc3RwBfVFT"
      },
      "outputs": [],
      "source": [
        "sentiment_scores=calculate_sentiment_for_nodes(all, compound=True)"
      ]
    },
    {
      "cell_type": "markdown",
      "metadata": {
        "id": "kPRPzn1Bfgxo"
      },
      "source": [
        "## Weighting of the sentiment"
      ]
    },
    {
      "cell_type": "code",
      "execution_count": 37,
      "metadata": {
        "colab": {
          "base_uri": "https://localhost:8080/"
        },
        "id": "HH5-VIh_erCu",
        "outputId": "28ec77e9-9503-4962-d30d-6e5e2a3635a4"
      },
      "outputs": [
        {
          "data": {
            "text/plain": [
              "array([[0.11111111, 1.35      , 1.        , 0.16666667, 0.5       ],\n",
              "       [0.2       , 0.16666667, 0.        , 0.5       , 0.        ],\n",
              "       [0.125     , 0.44444444, 0.        , 0.2       , 1.        ],\n",
              "       [0.33333333, 0.25      , 0.        , 0.        , 0.        ],\n",
              "       [0.14285714, 0.625     , 0.        , 0.25      , 0.        ]])"
            ]
          },
          "execution_count": 37,
          "metadata": {},
          "output_type": "execute_result"
        }
      ],
      "source": [
        "weight_matrix"
      ]
    },
    {
      "cell_type": "code",
      "execution_count": 39,
      "metadata": {
        "colab": {
          "base_uri": "https://localhost:8080/"
        },
        "id": "OJkTIepIfpyZ",
        "outputId": "d50b6fe8-d9f4-4f61-a417-753bda65caad"
      },
      "outputs": [
        {
          "data": {
            "text/plain": [
              "array([0.    , 0.    , 0.5994, 0.    , 0.3182])"
            ]
          },
          "execution_count": 39,
          "metadata": {},
          "output_type": "execute_result"
        }
      ],
      "source": [
        "sentiment_scores"
      ]
    },
    {
      "cell_type": "code",
      "execution_count": 40,
      "metadata": {
        "colab": {
          "base_uri": "https://localhost:8080/"
        },
        "id": "0OUi_ddmfq_l",
        "outputId": "bcdda33d-aa46-4d39-ba52-a7b14efec3bf"
      },
      "outputs": [
        {
          "data": {
            "text/plain": [
              "array([2., 2., 1., 1., 1.])"
            ]
          },
          "execution_count": 40,
          "metadata": {},
          "output_type": "execute_result"
        }
      ],
      "source": [
        "occ_list"
      ]
    },
    {
      "cell_type": "code",
      "execution_count": 41,
      "metadata": {
        "id": "M-uPFw8bglqE"
      },
      "outputs": [],
      "source": [
        "def weighted_sentiment_func(weight_matrix, occ_list, sentiment_scores, words, ner_list=[]):\n",
        "  sum_columns_weights=np.sum(weight_matrix, axis=0)\n",
        "  sum_rows_weights=np.sum(weight_matrix, axis=1)\n",
        "  if len(ner_list)!=0: #if ners are predefined, calculate only for them\n",
        "    for i, word in enumerate(words):\n",
        "      if word not in ner_list:\n",
        "        sum_columns_weights[i]=0\n",
        "        sum_rows_weights[i]=0\n",
        "  sum_all_weights=sum_columns_weights+sum_rows_weights\n",
        "  count_nonzero_weights_columns=np.count_nonzero(weight_matrix, axis=0)\n",
        "  count_nonzero_weights_rows=np.count_nonzero(weight_matrix, axis=1)\n",
        "  count_nonzero_weights=count_nonzero_weights_columns+count_nonzero_weights_rows\n",
        "  count_nonzero_weights[count_nonzero_weights==0]=1\n",
        "  mean_columns_weights=sum_all_weights/count_nonzero_weights\n",
        "  total_weight=mean_columns_weights*occ_list\n",
        "  return total_weight*sentiment_scores"
      ]
    },
    {
      "cell_type": "code",
      "execution_count": 42,
      "metadata": {
        "colab": {
          "base_uri": "https://localhost:8080/"
        },
        "id": "xuGbAoUQ539N",
        "outputId": "50312080-61c0-44c5-98b0-0c1f2994034f"
      },
      "outputs": [
        {
          "data": {
            "text/plain": [
              "array([[0.        , 0.        , 1.        , 0.        , 0.        ],\n",
              "       [0.        , 0.        , 0.        , 0.        , 0.        ],\n",
              "       [0.125     , 0.44444444, 0.        , 0.2       , 1.        ],\n",
              "       [0.        , 0.        , 0.        , 0.        , 0.        ],\n",
              "       [0.        , 0.        , 0.        , 0.        , 0.        ]])"
            ]
          },
          "execution_count": 42,
          "metadata": {},
          "output_type": "execute_result"
        }
      ],
      "source": [
        "weight_matrix2"
      ]
    },
    {
      "cell_type": "code",
      "execution_count": 43,
      "metadata": {
        "colab": {
          "base_uri": "https://localhost:8080/"
        },
        "id": "wTjaFk0C67DP",
        "outputId": "4ff22a0c-a3e9-4710-b3ed-d769d66f3f3e"
      },
      "outputs": [
        {
          "data": {
            "text/plain": [
              "array([[0.11111111, 1.35      , 1.        , 0.16666667, 0.5       ],\n",
              "       [0.2       , 0.16666667, 0.        , 0.5       , 0.        ],\n",
              "       [0.125     , 0.44444444, 0.        , 0.2       , 1.        ],\n",
              "       [0.33333333, 0.25      , 0.        , 0.        , 0.        ],\n",
              "       [0.14285714, 0.625     , 0.        , 0.25      , 0.        ]])"
            ]
          },
          "execution_count": 43,
          "metadata": {},
          "output_type": "execute_result"
        }
      ],
      "source": [
        "weight_matrix"
      ]
    },
    {
      "cell_type": "code",
      "execution_count": 44,
      "metadata": {
        "id": "0RoLKhtgg2c0"
      },
      "outputs": [],
      "source": [
        "weighted_sentiment=weighted_sentiment_func(weight_matrix, occ_list, sentiment_scores, all)"
      ]
    },
    {
      "cell_type": "code",
      "execution_count": 45,
      "metadata": {
        "colab": {
          "base_uri": "https://localhost:8080/"
        },
        "id": "9drTw4dn5EEn",
        "outputId": "396b1cf0-73d8-478f-de64-a1ce341f5ee2"
      },
      "outputs": [
        {
          "data": {
            "text/plain": [
              "array([0.        , 0.        , 0.332001  , 0.        , 0.16023643])"
            ]
          },
          "execution_count": 45,
          "metadata": {},
          "output_type": "execute_result"
        }
      ],
      "source": [
        "weighted_sentiment"
      ]
    },
    {
      "cell_type": "code",
      "execution_count": 46,
      "metadata": {
        "id": "mZArw2Gw5GJ1"
      },
      "outputs": [],
      "source": [
        "weighted_sentiment=weighted_sentiment_func(weight_matrix2, occ_list, sentiment_scores, all, ner_list=[\"super\"])"
      ]
    },
    {
      "cell_type": "code",
      "execution_count": 47,
      "metadata": {
        "colab": {
          "base_uri": "https://localhost:8080/"
        },
        "id": "wXb04zMytFkX",
        "outputId": "d09ee278-ffb6-432d-fd59-0f4eb67259a3"
      },
      "outputs": [
        {
          "data": {
            "text/plain": [
              "['be', 'NewYork', 'super', 'Abu_Dhabi', 'cool']"
            ]
          },
          "execution_count": 47,
          "metadata": {},
          "output_type": "execute_result"
        }
      ],
      "source": [
        "all #'super' is third on list"
      ]
    },
    {
      "cell_type": "code",
      "execution_count": 48,
      "metadata": {
        "colab": {
          "base_uri": "https://localhost:8080/"
        },
        "id": "iDyLmh7m5YO2",
        "outputId": "4a997b98-c087-4835-b6ca-f9814927a0bf"
      },
      "outputs": [
        {
          "data": {
            "text/plain": [
              "array([0.      , 0.      , 0.332001, 0.      , 0.      ])"
            ]
          },
          "execution_count": 48,
          "metadata": {},
          "output_type": "execute_result"
        }
      ],
      "source": [
        "weighted_sentiment #value of sentiment for 'super' is the third one - the only non zero here"
      ]
    },
    {
      "cell_type": "markdown",
      "metadata": {
        "id": "B8rNsENihdp0"
      },
      "source": [
        "## Sentiment of the whole text"
      ]
    },
    {
      "cell_type": "code",
      "execution_count": 49,
      "metadata": {
        "id": "UDFFM9Ohg8M9"
      },
      "outputs": [],
      "source": [
        "def calculate_sentiment_of_text(weighted_sentiment, threshold=0.05, output_number=False):\n",
        "  sum_sentiment=np.sum(weighted_sentiment)\n",
        "  if output_number:\n",
        "    if sum_sentiment>threshold:\n",
        "      return 1\n",
        "    elif sum_sentiment<-threshold:\n",
        "      return -1\n",
        "    else:\n",
        "      return 0\n",
        "  else:\n",
        "    if sum_sentiment>threshold:\n",
        "      return \"positive\"\n",
        "    elif sum_sentiment<-threshold:\n",
        "      return \"negative\"\n",
        "    else:\n",
        "      return \"neutral\""
      ]
    },
    {
      "cell_type": "code",
      "execution_count": 50,
      "metadata": {
        "colab": {
          "base_uri": "https://localhost:8080/",
          "height": 36
        },
        "id": "PMvf6QtCiBhe",
        "outputId": "c9d23c20-b907-46eb-a841-de7c0933262a"
      },
      "outputs": [
        {
          "data": {
            "text/plain": [
              "'positive'"
            ]
          },
          "execution_count": 50,
          "metadata": {},
          "output_type": "execute_result"
        }
      ],
      "source": [
        "calculate_sentiment_of_text(weighted_sentiment)"
      ]
    },
    {
      "cell_type": "code",
      "execution_count": 51,
      "metadata": {
        "colab": {
          "base_uri": "https://localhost:8080/",
          "height": 36
        },
        "id": "gfHtEidkiRuU",
        "outputId": "6d39a795-495c-4653-923e-ffd1972c8d6e"
      },
      "outputs": [
        {
          "data": {
            "text/plain": [
              "'negative'"
            ]
          },
          "execution_count": 51,
          "metadata": {},
          "output_type": "execute_result"
        }
      ],
      "source": [
        "calculate_sentiment_of_text([-1,2,-4])"
      ]
    },
    {
      "cell_type": "code",
      "execution_count": 52,
      "metadata": {
        "colab": {
          "base_uri": "https://localhost:8080/"
        },
        "id": "D2fY3u7SiQB0",
        "outputId": "a3a41094-2c4a-4355-9107-3f6eec46d08c"
      },
      "outputs": [
        {
          "data": {
            "text/plain": [
              "0"
            ]
          },
          "execution_count": 52,
          "metadata": {},
          "output_type": "execute_result"
        }
      ],
      "source": [
        "calculate_sentiment_of_text([0.5, -0.45], output_number=True)"
      ]
    },
    {
      "cell_type": "markdown",
      "metadata": {
        "id": "0NyS7uq-1fRF"
      },
      "source": [
        "## Run graph-based solution"
      ]
    },
    {
      "cell_type": "code",
      "execution_count": 53,
      "metadata": {
        "id": "c9jC63oO1Ke3"
      },
      "outputs": [],
      "source": [
        "def graph_sentiment_analysis(text, nlp, lemmatization=False, max_distance=20, ner_list=[], compound=False, output_number=False, calculate_overall_score=1, threshold=0.05, max_nodes=0):\n",
        "  words_all, text_all, ners_all, words_dict = get_words_for_nodes(text, lemmatization=lemmatization, nlp=nlp, max_nodes=max_nodes)\n",
        "  weight_matrix_all, occ_list_all=get_weights_of_edges(text_all, words_all, max_distance=max_distance, ner_list=ner_list)\n",
        "  sentiment_scores_all=calculate_sentiment_for_nodes(words_all, compound=compound)\n",
        "  weighted_sentiment_all=weighted_sentiment_func(weight_matrix_all, occ_list_all, sentiment_scores_all, words=words_all, ner_list=ner_list)\n",
        "  if calculate_overall_score==1:\n",
        "    return calculate_sentiment_of_text(weighted_sentiment_all, output_number=output_number, threshold=threshold)\n",
        "  elif calculate_overall_score==0:\n",
        "    return dict(zip(words_all, weighted_sentiment_all))\n",
        "  else:\n",
        "    words_all.append(\"overall_sentiment\")\n",
        "    weighted_sentiment_all=list(weighted_sentiment_all)\n",
        "    weighted_sentiment_all.append(calculate_sentiment_of_text(weighted_sentiment_all, output_number=True))\n",
        "    return dict(zip(words_all, weighted_sentiment_all))"
      ]
    },
    {
      "cell_type": "code",
      "execution_count": 54,
      "metadata": {
        "colab": {
          "base_uri": "https://localhost:8080/",
          "height": 36
        },
        "id": "iQVpcM_Ztm9q",
        "outputId": "6b0ea135-73bb-47c0-e0fc-a023fe0ba1cf"
      },
      "outputs": [
        {
          "data": {
            "text/plain": [
              "'negative'"
            ]
          },
          "execution_count": 54,
          "metadata": {},
          "output_type": "execute_result"
        }
      ],
      "source": [
        "graph_sentiment_analysis(\"you are liar, Tom\", calculate_overall_score=1, nlp=nlp)"
      ]
    },
    {
      "cell_type": "code",
      "execution_count": 55,
      "metadata": {
        "colab": {
          "base_uri": "https://localhost:8080/"
        },
        "id": "AtDBUPCPvtfv",
        "outputId": "02d33144-9917-4e5b-e920-f9b83bbc63cb"
      },
      "outputs": [
        {
          "data": {
            "text/plain": [
              "{'Tom': np.float64(0.0), 'liar': np.float64(-0.75), 'are': np.float64(0.0)}"
            ]
          },
          "execution_count": 55,
          "metadata": {},
          "output_type": "execute_result"
        }
      ],
      "source": [
        "graph_sentiment_analysis(\"you are liar, Tom\", calculate_overall_score=0, nlp=nlp)"
      ]
    },
    {
      "cell_type": "code",
      "execution_count": 56,
      "metadata": {
        "colab": {
          "base_uri": "https://localhost:8080/"
        },
        "id": "v92iZUxY12iY",
        "outputId": "fd4572d9-8e69-40f6-f758-e44976abdbb9"
      },
      "outputs": [
        {
          "data": {
            "text/plain": [
              "{'Tom': np.float64(0.0), 'liar': np.float64(-0.5), 'overall_sentiment': -1}"
            ]
          },
          "execution_count": 56,
          "metadata": {},
          "output_type": "execute_result"
        }
      ],
      "source": [
        "graph_sentiment_analysis(\"you are liar, Tom\", calculate_overall_score=3, nlp=nlp, max_nodes=2)"
      ]
    },
    {
      "cell_type": "code",
      "execution_count": 57,
      "metadata": {
        "colab": {
          "base_uri": "https://localhost:8080/"
        },
        "id": "ZpOQ7bXGZsfA",
        "outputId": "c37344ad-ab4c-493e-e088-c3da8a396d2f"
      },
      "outputs": [
        {
          "data": {
            "text/plain": [
              "{'Tom': np.float64(0.0),\n",
              " 'liar': np.float64(-0.75),\n",
              " 'are': np.float64(0.0),\n",
              " 'overall_sentiment': -1}"
            ]
          },
          "execution_count": 57,
          "metadata": {},
          "output_type": "execute_result"
        }
      ],
      "source": [
        "graph_sentiment_analysis(\"you are liar, Tom\", calculate_overall_score=3, nlp=nlp)"
      ]
    },
    {
      "cell_type": "code",
      "execution_count": 58,
      "metadata": {
        "colab": {
          "base_uri": "https://localhost:8080/"
        },
        "id": "o57CO-WK132G",
        "outputId": "3da27151-f547-4c84-8004-df809ad29084"
      },
      "outputs": [
        {
          "data": {
            "text/plain": [
              "{'Tom': np.float64(0.0),\n",
              " 'liar': np.float64(-0.75),\n",
              " 'are': np.float64(0.0),\n",
              " 'overall_sentiment': -1}"
            ]
          },
          "execution_count": 58,
          "metadata": {},
          "output_type": "execute_result"
        }
      ],
      "source": [
        "graph_sentiment_analysis(\"you are liar, Tom\", calculate_overall_score=3, ner_list=['Tom', 'liar'], nlp=nlp)"
      ]
    },
    {
      "cell_type": "markdown",
      "metadata": {
        "id": "evtGdavo3ZSa"
      },
      "source": [
        "# Tests for twitter sentiment extraction dataset\n",
        "\n",
        "Source of dataset: https://www.kaggle.com/competitions/tweet-sentiment-extraction/data"
      ]
    },
    {
      "cell_type": "code",
      "execution_count": 59,
      "metadata": {
        "id": "1b8zXJMbr9Iq"
      },
      "outputs": [],
      "source": [
        "test_tse_data=pd.read_csv(PATH_TWITTER_DATA)"
      ]
    },
    {
      "cell_type": "code",
      "execution_count": 60,
      "metadata": {
        "colab": {
          "base_uri": "https://localhost:8080/",
          "height": 423
        },
        "id": "Qu0Lu01psQDv",
        "outputId": "c2853538-4d60-4cbb-9b19-4c0aae73a68a"
      },
      "outputs": [
        {
          "data": {
            "text/html": [
              "<div>\n",
              "<style scoped>\n",
              "    .dataframe tbody tr th:only-of-type {\n",
              "        vertical-align: middle;\n",
              "    }\n",
              "\n",
              "    .dataframe tbody tr th {\n",
              "        vertical-align: top;\n",
              "    }\n",
              "\n",
              "    .dataframe thead th {\n",
              "        text-align: right;\n",
              "    }\n",
              "</style>\n",
              "<table border=\"1\" class=\"dataframe\">\n",
              "  <thead>\n",
              "    <tr style=\"text-align: right;\">\n",
              "      <th></th>\n",
              "      <th>textID</th>\n",
              "      <th>text</th>\n",
              "      <th>sentiment</th>\n",
              "    </tr>\n",
              "  </thead>\n",
              "  <tbody>\n",
              "    <tr>\n",
              "      <th>0</th>\n",
              "      <td>f87dea47db</td>\n",
              "      <td>Last session of the day  http://twitpic.com/67ezh</td>\n",
              "      <td>neutral</td>\n",
              "    </tr>\n",
              "    <tr>\n",
              "      <th>1</th>\n",
              "      <td>96d74cb729</td>\n",
              "      <td>Shanghai is also really exciting (precisely -...</td>\n",
              "      <td>positive</td>\n",
              "    </tr>\n",
              "    <tr>\n",
              "      <th>2</th>\n",
              "      <td>eee518ae67</td>\n",
              "      <td>Recession hit Veronique Branquinho, she has to...</td>\n",
              "      <td>negative</td>\n",
              "    </tr>\n",
              "    <tr>\n",
              "      <th>3</th>\n",
              "      <td>01082688c6</td>\n",
              "      <td>happy bday!</td>\n",
              "      <td>positive</td>\n",
              "    </tr>\n",
              "    <tr>\n",
              "      <th>4</th>\n",
              "      <td>33987a8ee5</td>\n",
              "      <td>http://twitpic.com/4w75p - I like it!!</td>\n",
              "      <td>positive</td>\n",
              "    </tr>\n",
              "    <tr>\n",
              "      <th>...</th>\n",
              "      <td>...</td>\n",
              "      <td>...</td>\n",
              "      <td>...</td>\n",
              "    </tr>\n",
              "    <tr>\n",
              "      <th>3529</th>\n",
              "      <td>e5f0e6ef4b</td>\n",
              "      <td>its at 3 am, im very tired but i can`t sleep  ...</td>\n",
              "      <td>negative</td>\n",
              "    </tr>\n",
              "    <tr>\n",
              "      <th>3530</th>\n",
              "      <td>416863ce47</td>\n",
              "      <td>All alone in this old house again.  Thanks for...</td>\n",
              "      <td>positive</td>\n",
              "    </tr>\n",
              "    <tr>\n",
              "      <th>3531</th>\n",
              "      <td>6332da480c</td>\n",
              "      <td>I know what you mean. My little dog is sinkin...</td>\n",
              "      <td>negative</td>\n",
              "    </tr>\n",
              "    <tr>\n",
              "      <th>3532</th>\n",
              "      <td>df1baec676</td>\n",
              "      <td>_sutra what is your next youtube video gonna b...</td>\n",
              "      <td>positive</td>\n",
              "    </tr>\n",
              "    <tr>\n",
              "      <th>3533</th>\n",
              "      <td>469e15c5a8</td>\n",
              "      <td>http://twitpic.com/4woj2 - omgssh  ang cute n...</td>\n",
              "      <td>positive</td>\n",
              "    </tr>\n",
              "  </tbody>\n",
              "</table>\n",
              "<p>3534 rows × 3 columns</p>\n",
              "</div>"
            ],
            "text/plain": [
              "          textID                                               text sentiment\n",
              "0     f87dea47db  Last session of the day  http://twitpic.com/67ezh   neutral\n",
              "1     96d74cb729   Shanghai is also really exciting (precisely -...  positive\n",
              "2     eee518ae67  Recession hit Veronique Branquinho, she has to...  negative\n",
              "3     01082688c6                                        happy bday!  positive\n",
              "4     33987a8ee5             http://twitpic.com/4w75p - I like it!!  positive\n",
              "...          ...                                                ...       ...\n",
              "3529  e5f0e6ef4b  its at 3 am, im very tired but i can`t sleep  ...  negative\n",
              "3530  416863ce47  All alone in this old house again.  Thanks for...  positive\n",
              "3531  6332da480c   I know what you mean. My little dog is sinkin...  negative\n",
              "3532  df1baec676  _sutra what is your next youtube video gonna b...  positive\n",
              "3533  469e15c5a8   http://twitpic.com/4woj2 - omgssh  ang cute n...  positive\n",
              "\n",
              "[3534 rows x 3 columns]"
            ]
          },
          "execution_count": 60,
          "metadata": {},
          "output_type": "execute_result"
        }
      ],
      "source": [
        "test_tse_data"
      ]
    },
    {
      "cell_type": "code",
      "execution_count": 61,
      "metadata": {
        "id": "j0m5Mbg9sa24"
      },
      "outputs": [],
      "source": [
        "test_tse_data[\"predicted_sentiment\"]=''"
      ]
    },
    {
      "cell_type": "code",
      "execution_count": 64,
      "metadata": {
        "colab": {
          "base_uri": "https://localhost:8080/"
        },
        "id": "xBzGx2yctPIb",
        "outputId": "85b101cf-048e-449b-b25b-706668d8b91d"
      },
      "outputs": [
        {
          "name": "stdout",
          "output_type": "stream",
          "text": [
            "0\n",
            "200\n",
            "400\n",
            "600\n",
            "800\n",
            "1000\n",
            "1200\n",
            "1400\n",
            "1600\n",
            "1800\n",
            "2000\n",
            "2200\n",
            "2400\n",
            "2600\n",
            "2800\n",
            "3000\n",
            "3200\n",
            "3400\n"
          ]
        }
      ],
      "source": [
        "nlp = spacy.load('en_core_web_sm')\n",
        "nlp.add_pipe(\"merge_noun_chunks\")\n",
        "for i in range(test_tse_data.shape[0]):\n",
        "  if i%200==0:\n",
        "    print(i)\n",
        "  text_to_check=test_tse_data['text'][i]\n",
        "  test_tse_data['predicted_sentiment'][i]=graph_sentiment_analysis(text_to_check, calculate_overall_score=1, nlp=nlp)"
      ]
    },
    {
      "cell_type": "code",
      "execution_count": 65,
      "metadata": {
        "colab": {
          "base_uri": "https://localhost:8080/",
          "height": 423
        },
        "id": "m8nhO1WttnTl",
        "outputId": "62dfaa02-dee6-4906-c6cb-c7026277a76a"
      },
      "outputs": [
        {
          "data": {
            "text/html": [
              "<div>\n",
              "<style scoped>\n",
              "    .dataframe tbody tr th:only-of-type {\n",
              "        vertical-align: middle;\n",
              "    }\n",
              "\n",
              "    .dataframe tbody tr th {\n",
              "        vertical-align: top;\n",
              "    }\n",
              "\n",
              "    .dataframe thead th {\n",
              "        text-align: right;\n",
              "    }\n",
              "</style>\n",
              "<table border=\"1\" class=\"dataframe\">\n",
              "  <thead>\n",
              "    <tr style=\"text-align: right;\">\n",
              "      <th></th>\n",
              "      <th>textID</th>\n",
              "      <th>text</th>\n",
              "      <th>sentiment</th>\n",
              "      <th>predicted_sentiment</th>\n",
              "    </tr>\n",
              "  </thead>\n",
              "  <tbody>\n",
              "    <tr>\n",
              "      <th>0</th>\n",
              "      <td>f87dea47db</td>\n",
              "      <td>Last session of the day  http://twitpic.com/67ezh</td>\n",
              "      <td>neutral</td>\n",
              "      <td>neutral</td>\n",
              "    </tr>\n",
              "    <tr>\n",
              "      <th>1</th>\n",
              "      <td>96d74cb729</td>\n",
              "      <td>Shanghai is also really exciting (precisely -...</td>\n",
              "      <td>positive</td>\n",
              "      <td>neutral</td>\n",
              "    </tr>\n",
              "    <tr>\n",
              "      <th>2</th>\n",
              "      <td>eee518ae67</td>\n",
              "      <td>Recession hit Veronique Branquinho, she has to...</td>\n",
              "      <td>negative</td>\n",
              "      <td>negative</td>\n",
              "    </tr>\n",
              "    <tr>\n",
              "      <th>3</th>\n",
              "      <td>01082688c6</td>\n",
              "      <td>happy bday!</td>\n",
              "      <td>positive</td>\n",
              "      <td>neutral</td>\n",
              "    </tr>\n",
              "    <tr>\n",
              "      <th>4</th>\n",
              "      <td>33987a8ee5</td>\n",
              "      <td>http://twitpic.com/4w75p - I like it!!</td>\n",
              "      <td>positive</td>\n",
              "      <td>neutral</td>\n",
              "    </tr>\n",
              "    <tr>\n",
              "      <th>...</th>\n",
              "      <td>...</td>\n",
              "      <td>...</td>\n",
              "      <td>...</td>\n",
              "      <td>...</td>\n",
              "    </tr>\n",
              "    <tr>\n",
              "      <th>3529</th>\n",
              "      <td>e5f0e6ef4b</td>\n",
              "      <td>its at 3 am, im very tired but i can`t sleep  ...</td>\n",
              "      <td>negative</td>\n",
              "      <td>negative</td>\n",
              "    </tr>\n",
              "    <tr>\n",
              "      <th>3530</th>\n",
              "      <td>416863ce47</td>\n",
              "      <td>All alone in this old house again.  Thanks for...</td>\n",
              "      <td>positive</td>\n",
              "      <td>positive</td>\n",
              "    </tr>\n",
              "    <tr>\n",
              "      <th>3531</th>\n",
              "      <td>6332da480c</td>\n",
              "      <td>I know what you mean. My little dog is sinkin...</td>\n",
              "      <td>negative</td>\n",
              "      <td>negative</td>\n",
              "    </tr>\n",
              "    <tr>\n",
              "      <th>3532</th>\n",
              "      <td>df1baec676</td>\n",
              "      <td>_sutra what is your next youtube video gonna b...</td>\n",
              "      <td>positive</td>\n",
              "      <td>positive</td>\n",
              "    </tr>\n",
              "    <tr>\n",
              "      <th>3533</th>\n",
              "      <td>469e15c5a8</td>\n",
              "      <td>http://twitpic.com/4woj2 - omgssh  ang cute n...</td>\n",
              "      <td>positive</td>\n",
              "      <td>positive</td>\n",
              "    </tr>\n",
              "  </tbody>\n",
              "</table>\n",
              "<p>3534 rows × 4 columns</p>\n",
              "</div>"
            ],
            "text/plain": [
              "          textID                                               text sentiment  \\\n",
              "0     f87dea47db  Last session of the day  http://twitpic.com/67ezh   neutral   \n",
              "1     96d74cb729   Shanghai is also really exciting (precisely -...  positive   \n",
              "2     eee518ae67  Recession hit Veronique Branquinho, she has to...  negative   \n",
              "3     01082688c6                                        happy bday!  positive   \n",
              "4     33987a8ee5             http://twitpic.com/4w75p - I like it!!  positive   \n",
              "...          ...                                                ...       ...   \n",
              "3529  e5f0e6ef4b  its at 3 am, im very tired but i can`t sleep  ...  negative   \n",
              "3530  416863ce47  All alone in this old house again.  Thanks for...  positive   \n",
              "3531  6332da480c   I know what you mean. My little dog is sinkin...  negative   \n",
              "3532  df1baec676  _sutra what is your next youtube video gonna b...  positive   \n",
              "3533  469e15c5a8   http://twitpic.com/4woj2 - omgssh  ang cute n...  positive   \n",
              "\n",
              "     predicted_sentiment  \n",
              "0                neutral  \n",
              "1                neutral  \n",
              "2               negative  \n",
              "3                neutral  \n",
              "4                neutral  \n",
              "...                  ...  \n",
              "3529            negative  \n",
              "3530            positive  \n",
              "3531            negative  \n",
              "3532            positive  \n",
              "3533            positive  \n",
              "\n",
              "[3534 rows x 4 columns]"
            ]
          },
          "execution_count": 65,
          "metadata": {},
          "output_type": "execute_result"
        }
      ],
      "source": [
        "test_tse_data"
      ]
    },
    {
      "cell_type": "code",
      "execution_count": 66,
      "metadata": {
        "id": "aTkG7vYnyCan"
      },
      "outputs": [
        {
          "data": {
            "text/plain": [
              "(np.float64(0.601018675721562), np.float64(0.5960121474174058))"
            ]
          },
          "execution_count": 66,
          "metadata": {},
          "output_type": "execute_result"
        }
      ],
      "source": [
        "accuracy=np.sum(test_tse_data['sentiment']==test_tse_data['predicted_sentiment'])/test_tse_data.shape[0]\n",
        "ba_tse=balanced_accuracy_score(test_tse_data['sentiment'], test_tse_data['predicted_sentiment'])\n",
        "accuracy, ba_tse"
      ]
    },
    {
      "cell_type": "markdown",
      "metadata": {
        "id": "zxrV4pfbFwla"
      },
      "source": [
        "## compound=True"
      ]
    },
    {
      "cell_type": "code",
      "execution_count": 67,
      "metadata": {
        "id": "aqw8cdz-F6wt"
      },
      "outputs": [],
      "source": [
        "test_tse_data[\"predicted_sentiment_compound\"]=''"
      ]
    },
    {
      "cell_type": "code",
      "execution_count": 68,
      "metadata": {
        "colab": {
          "base_uri": "https://localhost:8080/"
        },
        "id": "-uyF8PjXFzhl",
        "outputId": "fef29cc3-799b-478b-fdb3-5ca059e70a50"
      },
      "outputs": [
        {
          "name": "stdout",
          "output_type": "stream",
          "text": [
            "0\n",
            "200\n",
            "400\n",
            "600\n",
            "800\n",
            "1000\n",
            "1200\n",
            "1400\n",
            "1600\n",
            "1800\n",
            "2000\n",
            "2200\n",
            "2400\n",
            "2600\n",
            "2800\n",
            "3000\n",
            "3200\n",
            "3400\n"
          ]
        }
      ],
      "source": [
        "nlp = spacy.load('en_core_web_sm')\n",
        "nlp.add_pipe(\"merge_noun_chunks\")\n",
        "for i in range(test_tse_data.shape[0]):\n",
        "  if i%200==0:\n",
        "    print(i)\n",
        "  text_to_check=test_tse_data['text'][i]\n",
        "  test_tse_data['predicted_sentiment_compound'][i]=graph_sentiment_analysis(text_to_check, calculate_overall_score=1, nlp=nlp, compound=True)"
      ]
    },
    {
      "cell_type": "code",
      "execution_count": 69,
      "metadata": {
        "id": "ZqNlkReeGIQd"
      },
      "outputs": [
        {
          "data": {
            "text/plain": [
              "(np.float64(0.6063950198075835), np.float64(0.5945859821653113))"
            ]
          },
          "execution_count": 69,
          "metadata": {},
          "output_type": "execute_result"
        }
      ],
      "source": [
        "accuracy_compound=np.sum(test_tse_data['sentiment']==test_tse_data['predicted_sentiment_compound'])/test_tse_data.shape[0]\n",
        "ba_tse_compound=balanced_accuracy_score(test_tse_data['sentiment'], test_tse_data['predicted_sentiment_compound'])\n",
        "accuracy_compound, ba_tse_compound"
      ]
    },
    {
      "cell_type": "code",
      "execution_count": 70,
      "metadata": {
        "id": "iMNwFYASoL3O"
      },
      "outputs": [],
      "source": [
        "test_tse_data.to_csv(PATH_TO_SAVE_RESULTS + 'test_tse_data_graph.csv', index=False)"
      ]
    },
    {
      "cell_type": "markdown",
      "metadata": {
        "id": "EHd2boi_0HFK"
      },
      "source": [
        "# Tests for news sentiment\n",
        "\n",
        "Source: https://www.kaggle.com/datasets/hoshi7/news-sentiment-dataset"
      ]
    },
    {
      "cell_type": "code",
      "execution_count": 71,
      "metadata": {
        "colab": {
          "base_uri": "https://localhost:8080/",
          "height": 423
        },
        "id": "_fve9ly40Kl5",
        "outputId": "3c16ffbd-607f-4d0d-9e2e-6ab186f81758"
      },
      "outputs": [
        {
          "data": {
            "text/html": [
              "<div>\n",
              "<style scoped>\n",
              "    .dataframe tbody tr th:only-of-type {\n",
              "        vertical-align: middle;\n",
              "    }\n",
              "\n",
              "    .dataframe tbody tr th {\n",
              "        vertical-align: top;\n",
              "    }\n",
              "\n",
              "    .dataframe thead th {\n",
              "        text-align: right;\n",
              "    }\n",
              "</style>\n",
              "<table border=\"1\" class=\"dataframe\">\n",
              "  <thead>\n",
              "    <tr style=\"text-align: right;\">\n",
              "      <th></th>\n",
              "      <th>news_title</th>\n",
              "      <th>reddit_title</th>\n",
              "      <th>sentiment</th>\n",
              "      <th>text</th>\n",
              "      <th>url</th>\n",
              "    </tr>\n",
              "  </thead>\n",
              "  <tbody>\n",
              "    <tr>\n",
              "      <th>0</th>\n",
              "      <td>Mark Cuban launches generic drug company</td>\n",
              "      <td>Billionaire Mark Cuban just launched a drug co...</td>\n",
              "      <td>1.0</td>\n",
              "      <td>Billionaire investor and Shark Tank star Mark ...</td>\n",
              "      <td>https://www.beckershospitalreview.com/pharmacy...</td>\n",
              "    </tr>\n",
              "    <tr>\n",
              "      <th>1</th>\n",
              "      <td>From Defendant to Defender: One Wrongfully Con...</td>\n",
              "      <td>Man falsely imprisoned for 10 years, uses pris...</td>\n",
              "      <td>1.0</td>\n",
              "      <td>Attorney Jarrett Adams recently helped overtur...</td>\n",
              "      <td>https://www.nbcnews.com/news/us-news/defendant...</td>\n",
              "    </tr>\n",
              "    <tr>\n",
              "      <th>2</th>\n",
              "      <td>Amazon Tribe Wins Lawsuit Against Big Oil, Sav...</td>\n",
              "      <td>Amazon tribe wins legal battle against oil com...</td>\n",
              "      <td>1.0</td>\n",
              "      <td>The Amazon Rainforest is well known across the...</td>\n",
              "      <td>https://www.disclose.tv/amazon-tribe-wins-laws...</td>\n",
              "    </tr>\n",
              "    <tr>\n",
              "      <th>3</th>\n",
              "      <td>Newark police: No officer fired a single shot ...</td>\n",
              "      <td>Newark police: No officer fired a single shot ...</td>\n",
              "      <td>1.0</td>\n",
              "      <td>Newark police: No officer fired a single shot ...</td>\n",
              "      <td>https://newjersey.news12.com/newark-police-no-...</td>\n",
              "    </tr>\n",
              "    <tr>\n",
              "      <th>4</th>\n",
              "      <td>Ingen barn døde i trafikken i 2019</td>\n",
              "      <td>No children died in traffic accidents in Norwa...</td>\n",
              "      <td>1.0</td>\n",
              "      <td>I 1970 døde det 560 mennesker i den norske tra...</td>\n",
              "      <td>https://www.nrk.no/trondelag/ingen-barn-dode-i...</td>\n",
              "    </tr>\n",
              "    <tr>\n",
              "      <th>...</th>\n",
              "      <td>...</td>\n",
              "      <td>...</td>\n",
              "      <td>...</td>\n",
              "      <td>...</td>\n",
              "      <td>...</td>\n",
              "    </tr>\n",
              "    <tr>\n",
              "      <th>843</th>\n",
              "      <td>Dee Why attack: Man allegedly choked and threa...</td>\n",
              "      <td>Dee Why attack: Man allegedly choked and threa...</td>\n",
              "      <td>0.0</td>\n",
              "      <td>Frightening details have emerged about a toile...</td>\n",
              "      <td>https://www.9news.com.au/2018/11/30/17/55/sydn...</td>\n",
              "    </tr>\n",
              "    <tr>\n",
              "      <th>844</th>\n",
              "      <td>Africa: Children and HIV/Aids - 'We Need to Ta...</td>\n",
              "      <td>Africa: Children and HIV/Aids - 'We Need to Ta...</td>\n",
              "      <td>0.0</td>\n",
              "      <td>interview\\n\\nJohannesburg — 360,000 adolescent...</td>\n",
              "      <td>https://allafrica.com/stories/201811300567.html</td>\n",
              "    </tr>\n",
              "    <tr>\n",
              "      <th>845</th>\n",
              "      <td>Terrorism suspected in Eilat attack</td>\n",
              "      <td>Terrorism suspected in Eilat attack</td>\n",
              "      <td>0.0</td>\n",
              "      <td>A violent attack in the southern Israeli port ...</td>\n",
              "      <td>http://www.israelnationalnews.com/News/News.as...</td>\n",
              "    </tr>\n",
              "    <tr>\n",
              "      <th>846</th>\n",
              "      <td>Anti-Semitism never disappeared in Europe. It'...</td>\n",
              "      <td>Anti-Semitism never disappeared in Europe. It'...</td>\n",
              "      <td>0.0</td>\n",
              "      <td>It's a 17-year-old boy, too frightened to wear...</td>\n",
              "      <td>https://edition.cnn.com/2018/11/27/europe/anti...</td>\n",
              "    </tr>\n",
              "    <tr>\n",
              "      <th>847</th>\n",
              "      <td>Five dead, 32 injured in Hong Kong coach crash</td>\n",
              "      <td>Five dead, 32 injured in Hong Kong coach crash</td>\n",
              "      <td>0.0</td>\n",
              "      <td>HONG KONG (AFP) - Five people were killed and ...</td>\n",
              "      <td>https://www.straitstimes.com/asia/east-asia/fi...</td>\n",
              "    </tr>\n",
              "  </tbody>\n",
              "</table>\n",
              "<p>848 rows × 5 columns</p>\n",
              "</div>"
            ],
            "text/plain": [
              "                                            news_title  \\\n",
              "0             Mark Cuban launches generic drug company   \n",
              "1    From Defendant to Defender: One Wrongfully Con...   \n",
              "2    Amazon Tribe Wins Lawsuit Against Big Oil, Sav...   \n",
              "3    Newark police: No officer fired a single shot ...   \n",
              "4                   Ingen barn døde i trafikken i 2019   \n",
              "..                                                 ...   \n",
              "843  Dee Why attack: Man allegedly choked and threa...   \n",
              "844  Africa: Children and HIV/Aids - 'We Need to Ta...   \n",
              "845                Terrorism suspected in Eilat attack   \n",
              "846  Anti-Semitism never disappeared in Europe. It'...   \n",
              "847     Five dead, 32 injured in Hong Kong coach crash   \n",
              "\n",
              "                                          reddit_title  sentiment  \\\n",
              "0    Billionaire Mark Cuban just launched a drug co...        1.0   \n",
              "1    Man falsely imprisoned for 10 years, uses pris...        1.0   \n",
              "2    Amazon tribe wins legal battle against oil com...        1.0   \n",
              "3    Newark police: No officer fired a single shot ...        1.0   \n",
              "4    No children died in traffic accidents in Norwa...        1.0   \n",
              "..                                                 ...        ...   \n",
              "843  Dee Why attack: Man allegedly choked and threa...        0.0   \n",
              "844  Africa: Children and HIV/Aids - 'We Need to Ta...        0.0   \n",
              "845                Terrorism suspected in Eilat attack        0.0   \n",
              "846  Anti-Semitism never disappeared in Europe. It'...        0.0   \n",
              "847     Five dead, 32 injured in Hong Kong coach crash        0.0   \n",
              "\n",
              "                                                  text  \\\n",
              "0    Billionaire investor and Shark Tank star Mark ...   \n",
              "1    Attorney Jarrett Adams recently helped overtur...   \n",
              "2    The Amazon Rainforest is well known across the...   \n",
              "3    Newark police: No officer fired a single shot ...   \n",
              "4    I 1970 døde det 560 mennesker i den norske tra...   \n",
              "..                                                 ...   \n",
              "843  Frightening details have emerged about a toile...   \n",
              "844  interview\\n\\nJohannesburg — 360,000 adolescent...   \n",
              "845  A violent attack in the southern Israeli port ...   \n",
              "846  It's a 17-year-old boy, too frightened to wear...   \n",
              "847  HONG KONG (AFP) - Five people were killed and ...   \n",
              "\n",
              "                                                   url  \n",
              "0    https://www.beckershospitalreview.com/pharmacy...  \n",
              "1    https://www.nbcnews.com/news/us-news/defendant...  \n",
              "2    https://www.disclose.tv/amazon-tribe-wins-laws...  \n",
              "3    https://newjersey.news12.com/newark-police-no-...  \n",
              "4    https://www.nrk.no/trondelag/ingen-barn-dode-i...  \n",
              "..                                                 ...  \n",
              "843  https://www.9news.com.au/2018/11/30/17/55/sydn...  \n",
              "844    https://allafrica.com/stories/201811300567.html  \n",
              "845  http://www.israelnationalnews.com/News/News.as...  \n",
              "846  https://edition.cnn.com/2018/11/27/europe/anti...  \n",
              "847  https://www.straitstimes.com/asia/east-asia/fi...  \n",
              "\n",
              "[848 rows x 5 columns]"
            ]
          },
          "execution_count": 71,
          "metadata": {},
          "output_type": "execute_result"
        }
      ],
      "source": [
        "test_ns_data2=pd.read_csv(PATH_NEWS_DATA)\n",
        "test_ns_data2"
      ]
    },
    {
      "cell_type": "code",
      "execution_count": 72,
      "metadata": {
        "id": "R1h9a4Hu3vAo"
      },
      "outputs": [],
      "source": [
        "def map_values(x):\n",
        "  if x==1:\n",
        "    return 'positive'\n",
        "  elif x==0:\n",
        "    return 'negative'\n",
        "  else:\n",
        "    return 'neutral'\n",
        "\n",
        "test_ns_data2['sentiment']=test_ns_data2['sentiment'].apply(map_values)\n",
        "test_ns_data2[\"predicted_sentiment\"]=''"
      ]
    },
    {
      "cell_type": "code",
      "execution_count": 73,
      "metadata": {
        "colab": {
          "base_uri": "https://localhost:8080/"
        },
        "id": "nKNRXqOx2Alb",
        "outputId": "3ca5ee9e-7463-4142-922a-b645d4493742"
      },
      "outputs": [
        {
          "name": "stdout",
          "output_type": "stream",
          "text": [
            "0\n",
            "200\n",
            "400\n",
            "600\n",
            "800\n"
          ]
        }
      ],
      "source": [
        "nlp = spacy.load('en_core_web_sm')\n",
        "nlp.add_pipe(\"merge_noun_chunks\")\n",
        "for i in range(test_ns_data2.shape[0]):\n",
        "  if i%200==0:\n",
        "    print(i)\n",
        "  text_to_check=test_ns_data2['text'][i]\n",
        "  test_ns_data2['predicted_sentiment'][i]=graph_sentiment_analysis(text_to_check, calculate_overall_score=1, nlp=nlp, threshold=0.0)"
      ]
    },
    {
      "cell_type": "code",
      "execution_count": 74,
      "metadata": {
        "id": "MiBxBB6P43Ad"
      },
      "outputs": [
        {
          "data": {
            "text/plain": [
              "(np.float64(0.7570754716981132), np.float64(0.767005347593583))"
            ]
          },
          "execution_count": 74,
          "metadata": {},
          "output_type": "execute_result"
        }
      ],
      "source": [
        "accuracy_ns=np.sum(test_ns_data2['sentiment']==test_ns_data2['predicted_sentiment'])/test_ns_data2.shape[0]\n",
        "ba_ns=balanced_accuracy_score(test_ns_data2['sentiment'], test_ns_data2['predicted_sentiment'])\n",
        "accuracy_ns, ba_ns"
      ]
    },
    {
      "cell_type": "code",
      "execution_count": 75,
      "metadata": {
        "colab": {
          "base_uri": "https://localhost:8080/"
        },
        "id": "IAJJsLW-HwkH",
        "outputId": "9eefcbd3-aba1-4707-c036-dbd605d173df"
      },
      "outputs": [
        {
          "data": {
            "text/plain": [
              "predicted_sentiment\n",
              "positive    583\n",
              "negative    258\n",
              "neutral       7\n",
              "Name: count, dtype: int64"
            ]
          },
          "execution_count": 75,
          "metadata": {},
          "output_type": "execute_result"
        }
      ],
      "source": [
        "test_ns_data2['predicted_sentiment'].value_counts()"
      ]
    },
    {
      "cell_type": "markdown",
      "metadata": {
        "id": "zAnzJVUQG_nW"
      },
      "source": [
        "## compound=True"
      ]
    },
    {
      "cell_type": "code",
      "execution_count": 76,
      "metadata": {
        "id": "Jr_HngkG5iAQ"
      },
      "outputs": [],
      "source": [
        "test_ns_data2[\"predicted_sentiment_compound\"]=''"
      ]
    },
    {
      "cell_type": "code",
      "execution_count": 77,
      "metadata": {
        "colab": {
          "base_uri": "https://localhost:8080/"
        },
        "id": "HQIqPa88HBij",
        "outputId": "9dbcc37c-a1fe-4c3f-f78f-a9861f32f316"
      },
      "outputs": [
        {
          "name": "stdout",
          "output_type": "stream",
          "text": [
            "0\n",
            "200\n",
            "400\n",
            "600\n",
            "800\n"
          ]
        }
      ],
      "source": [
        "nlp = spacy.load('en_core_web_sm')\n",
        "nlp.add_pipe(\"merge_noun_chunks\")\n",
        "for i in range(test_ns_data2.shape[0]):\n",
        "  if i%200==0:\n",
        "    print(i)\n",
        "  text_to_check=test_ns_data2['text'][i]\n",
        "  test_ns_data2['predicted_sentiment_compound'][i]=graph_sentiment_analysis(text_to_check, calculate_overall_score=1, nlp=nlp, threshold=0.0, compound=True)"
      ]
    },
    {
      "cell_type": "code",
      "execution_count": 78,
      "metadata": {
        "id": "GRVNDEkbHLKO"
      },
      "outputs": [],
      "source": [
        "accuracy_ns_compound=np.sum(test_ns_data2['sentiment']==test_ns_data2['predicted_sentiment_compound'])/test_ns_data2.shape[0]"
      ]
    },
    {
      "cell_type": "code",
      "execution_count": 79,
      "metadata": {
        "colab": {
          "base_uri": "https://localhost:8080/"
        },
        "id": "NrJO6CbXHO1H",
        "outputId": "adbdf8a6-264d-4885-e3ec-35a1e91b1a3b"
      },
      "outputs": [],
      "source": [
        "ba_ns_compound=balanced_accuracy_score(test_ns_data2['sentiment'], test_ns_data2['predicted_sentiment_compound'])"
      ]
    },
    {
      "cell_type": "code",
      "execution_count": 80,
      "metadata": {
        "colab": {
          "base_uri": "https://localhost:8080/"
        },
        "id": "dpeWEq_6HQaB",
        "outputId": "7bed8185-1267-42eb-b985-e6a556995bc1"
      },
      "outputs": [
        {
          "data": {
            "text/plain": [
              "(np.float64(0.7429245283018868), np.float64(0.7633155080213904))"
            ]
          },
          "execution_count": 80,
          "metadata": {},
          "output_type": "execute_result"
        }
      ],
      "source": [
        "accuracy_ns_compound,ba_ns_compound"
      ]
    },
    {
      "cell_type": "code",
      "execution_count": 81,
      "metadata": {
        "id": "x1WyO3yPopyR"
      },
      "outputs": [],
      "source": [
        "test_ns_data2.to_csv(PATH_TO_SAVE_RESULTS+'/test_ns_data2.csv', index=False)"
      ]
    },
    {
      "cell_type": "code",
      "execution_count": 82,
      "metadata": {
        "colab": {
          "base_uri": "https://localhost:8080/"
        },
        "id": "lsmLpdVwHVnQ",
        "outputId": "df368575-072f-4ab9-9dec-0ca7127792b0"
      },
      "outputs": [
        {
          "data": {
            "text/plain": [
              "predicted_sentiment_compound\n",
              "positive    569\n",
              "negative    272\n",
              "neutral       7\n",
              "Name: count, dtype: int64"
            ]
          },
          "execution_count": 82,
          "metadata": {},
          "output_type": "execute_result"
        }
      ],
      "source": [
        "test_ns_data2['predicted_sentiment_compound'].value_counts()"
      ]
    },
    {
      "cell_type": "markdown",
      "metadata": {
        "id": "d56iMv1mJQaD"
      },
      "source": [
        "# Check which ones are not in English\n",
        "\n",
        "Using: https://github.com/fedelopez77/langdetect"
      ]
    },
    {
      "cell_type": "code",
      "execution_count": 83,
      "metadata": {
        "id": "xxeDBJL4LgES"
      },
      "outputs": [],
      "source": [
        "def is_english(text):\n",
        "  try:\n",
        "    lang = detect(text)\n",
        "    return lang == 'en'\n",
        "  except: #e.g. unsupported language\n",
        "    return False"
      ]
    },
    {
      "cell_type": "markdown",
      "metadata": {
        "id": "T5ziLOglPJUy"
      },
      "source": [
        "### News Sentiment dataset"
      ]
    },
    {
      "cell_type": "code",
      "execution_count": 84,
      "metadata": {
        "colab": {
          "base_uri": "https://localhost:8080/",
          "height": 237
        },
        "id": "cy2VLnpJLvP4",
        "outputId": "d0d70f17-6ce6-4831-e1f8-a72f0208401b"
      },
      "outputs": [
        {
          "data": {
            "text/plain": [
              "'Üniversite birçok öğrenci için kazandıktan sonra rahatlayacağını düşündüğü bir aşama. Gençliğin tam olarak yaşandığı, özgürlüğün tadıldığı ve derslerin biraz ikinci planda kaldığı bu evre bazıları için hedeflerine ulaşacakları zorlu bir yol. Kocaeli’nde yaşayan 22 yaşındaki Berru Merve Kul da 4 yıl önce Sakarya Üniversitesi’ni kazandı ancak görme engelli olduğu için önünde zorlu ve uzun bir yol vardı. Neyse ki annesi 4 yıl boyunca olduğu gibi mezun olurken de yanındaydı…\\n\\n22 yaşındaki Berru Merve Kul da 4 yıl önce Sakarya Üniversitesi Hukuk Fakültesi’ni kazandı. Ancak görme engelli olduğu için üniversite yaşamı onun için diğer öğrencilere göre biraz daha zordu\\n\\n4 yıllık eğitim hayatı boyunca onun eli ayağı olan kişi ise annesiydi. Annesi Havva Kul 4 yıl boyunca kızına tüm notlarını, kitaplarını okuyarak ödevlerini yapmasını, sınavlardan başarıyla geçmesini sağladı\\n\\nVe 4 yılın ardından Berru Merve Kul okuldan başarıyla mezun oldu. Sakarya Üniversitesi Hukuk Fakültesi Binasında yalnız değildi Merve, yanında yine annesi vardı\\n\\nKep atması için kızıyla sahneye çıkan Havva Kul, kızıyla birlikte mezuniyet heyecanını yaşadı ve kep attı\\n\\nMerve Kul 4 yılın sonunda hak ettiği mezuniyet belgesini alırken annesi Havva Kul’a ise 4 yıl boyunca gösterdiği özveri nedeniyle fahri mezun belgesi verildi. Bu tweet sosyal medyada birçok kişi tarafından paylaşıldı\\n\\nBu fotoğraftaki anne var ya, görme engelli kızına, tüm hukuk metinlerini defalarca okuyup onu çalıştırarak kızının 4 yılda fakülteyi bitirmesini sağlamış.\\n\\nYılın annesi bence.\\n\\nSözün bittiği yer… Yer: Sakarya Üniversitesi… pic.twitter.com/1AYRC0Z4YY — Havva Koç (@Kochavva) July 11, 2018\\n\\nSAÜ Hukuk Fakültesi Dekanı Prof. Dr. Mahmut Bilen de tweet atarak bu güzel haberi duyurdu\\n\\nSAÜ Hukukta dereceye giren öğrencilerimiz dışında Berru Merve KUL görme engelli öğrencimiz 4 yılda hukuk eğitimini tamamlayarak mezun oldu. Evde bütün hukuk metinlerini kızına okuyarak sınavlara hazırlanmasında gayreti olan Annesine de fakültemizin fahri mezunu olarak ödül verdik https://t.co/Me8Q55r2pc — Mahmut Bilen (@Bilenmah) July 5, 2018\\n\\nKaynak; 1'"
            ]
          },
          "execution_count": 84,
          "metadata": {},
          "output_type": "execute_result"
        }
      ],
      "source": [
        "test_ns_data2.loc[63]['text']"
      ]
    },
    {
      "cell_type": "code",
      "execution_count": 85,
      "metadata": {
        "colab": {
          "base_uri": "https://localhost:8080/"
        },
        "id": "ed-ONVxtMDGT",
        "outputId": "01f602e2-6907-4ec5-eae1-e150922df75d"
      },
      "outputs": [
        {
          "data": {
            "text/plain": [
              "False"
            ]
          },
          "execution_count": 85,
          "metadata": {},
          "output_type": "execute_result"
        }
      ],
      "source": [
        "is_english(test_ns_data2.loc[63]['text'])"
      ]
    },
    {
      "cell_type": "code",
      "execution_count": 86,
      "metadata": {
        "id": "XKjz9bF0MK-8"
      },
      "outputs": [
        {
          "data": {
            "text/html": [
              "<div>\n",
              "<style scoped>\n",
              "    .dataframe tbody tr th:only-of-type {\n",
              "        vertical-align: middle;\n",
              "    }\n",
              "\n",
              "    .dataframe tbody tr th {\n",
              "        vertical-align: top;\n",
              "    }\n",
              "\n",
              "    .dataframe thead th {\n",
              "        text-align: right;\n",
              "    }\n",
              "</style>\n",
              "<table border=\"1\" class=\"dataframe\">\n",
              "  <thead>\n",
              "    <tr style=\"text-align: right;\">\n",
              "      <th></th>\n",
              "      <th>news_title</th>\n",
              "      <th>reddit_title</th>\n",
              "      <th>sentiment</th>\n",
              "      <th>text</th>\n",
              "      <th>url</th>\n",
              "      <th>predicted_sentiment</th>\n",
              "      <th>predicted_sentiment_compound</th>\n",
              "    </tr>\n",
              "  </thead>\n",
              "  <tbody>\n",
              "    <tr>\n",
              "      <th>0</th>\n",
              "      <td>Mark Cuban launches generic drug company</td>\n",
              "      <td>Billionaire Mark Cuban just launched a drug co...</td>\n",
              "      <td>positive</td>\n",
              "      <td>Billionaire investor and Shark Tank star Mark ...</td>\n",
              "      <td>https://www.beckershospitalreview.com/pharmacy...</td>\n",
              "      <td>positive</td>\n",
              "      <td>positive</td>\n",
              "    </tr>\n",
              "    <tr>\n",
              "      <th>1</th>\n",
              "      <td>From Defendant to Defender: One Wrongfully Con...</td>\n",
              "      <td>Man falsely imprisoned for 10 years, uses pris...</td>\n",
              "      <td>positive</td>\n",
              "      <td>Attorney Jarrett Adams recently helped overtur...</td>\n",
              "      <td>https://www.nbcnews.com/news/us-news/defendant...</td>\n",
              "      <td>positive</td>\n",
              "      <td>positive</td>\n",
              "    </tr>\n",
              "    <tr>\n",
              "      <th>2</th>\n",
              "      <td>Amazon Tribe Wins Lawsuit Against Big Oil, Sav...</td>\n",
              "      <td>Amazon tribe wins legal battle against oil com...</td>\n",
              "      <td>positive</td>\n",
              "      <td>The Amazon Rainforest is well known across the...</td>\n",
              "      <td>https://www.disclose.tv/amazon-tribe-wins-laws...</td>\n",
              "      <td>positive</td>\n",
              "      <td>positive</td>\n",
              "    </tr>\n",
              "    <tr>\n",
              "      <th>3</th>\n",
              "      <td>Newark police: No officer fired a single shot ...</td>\n",
              "      <td>Newark police: No officer fired a single shot ...</td>\n",
              "      <td>positive</td>\n",
              "      <td>Newark police: No officer fired a single shot ...</td>\n",
              "      <td>https://newjersey.news12.com/newark-police-no-...</td>\n",
              "      <td>negative</td>\n",
              "      <td>negative</td>\n",
              "    </tr>\n",
              "    <tr>\n",
              "      <th>5</th>\n",
              "      <td>Budweiser will sit out Super Bowl, funneling m...</td>\n",
              "      <td>Budweiser will sit out Super Bowl, funneling m...</td>\n",
              "      <td>positive</td>\n",
              "      <td>Budweiser will not be running a commercial dur...</td>\n",
              "      <td>https://www.cnbc.com/2021/01/25/super-bowl-bud...</td>\n",
              "      <td>positive</td>\n",
              "      <td>positive</td>\n",
              "    </tr>\n",
              "    <tr>\n",
              "      <th>...</th>\n",
              "      <td>...</td>\n",
              "      <td>...</td>\n",
              "      <td>...</td>\n",
              "      <td>...</td>\n",
              "      <td>...</td>\n",
              "      <td>...</td>\n",
              "      <td>...</td>\n",
              "    </tr>\n",
              "    <tr>\n",
              "      <th>843</th>\n",
              "      <td>Dee Why attack: Man allegedly choked and threa...</td>\n",
              "      <td>Dee Why attack: Man allegedly choked and threa...</td>\n",
              "      <td>negative</td>\n",
              "      <td>Frightening details have emerged about a toile...</td>\n",
              "      <td>https://www.9news.com.au/2018/11/30/17/55/sydn...</td>\n",
              "      <td>negative</td>\n",
              "      <td>negative</td>\n",
              "    </tr>\n",
              "    <tr>\n",
              "      <th>844</th>\n",
              "      <td>Africa: Children and HIV/Aids - 'We Need to Ta...</td>\n",
              "      <td>Africa: Children and HIV/Aids - 'We Need to Ta...</td>\n",
              "      <td>negative</td>\n",
              "      <td>interview\\n\\nJohannesburg — 360,000 adolescent...</td>\n",
              "      <td>https://allafrica.com/stories/201811300567.html</td>\n",
              "      <td>positive</td>\n",
              "      <td>positive</td>\n",
              "    </tr>\n",
              "    <tr>\n",
              "      <th>845</th>\n",
              "      <td>Terrorism suspected in Eilat attack</td>\n",
              "      <td>Terrorism suspected in Eilat attack</td>\n",
              "      <td>negative</td>\n",
              "      <td>A violent attack in the southern Israeli port ...</td>\n",
              "      <td>http://www.israelnationalnews.com/News/News.as...</td>\n",
              "      <td>negative</td>\n",
              "      <td>negative</td>\n",
              "    </tr>\n",
              "    <tr>\n",
              "      <th>846</th>\n",
              "      <td>Anti-Semitism never disappeared in Europe. It'...</td>\n",
              "      <td>Anti-Semitism never disappeared in Europe. It'...</td>\n",
              "      <td>negative</td>\n",
              "      <td>It's a 17-year-old boy, too frightened to wear...</td>\n",
              "      <td>https://edition.cnn.com/2018/11/27/europe/anti...</td>\n",
              "      <td>negative</td>\n",
              "      <td>negative</td>\n",
              "    </tr>\n",
              "    <tr>\n",
              "      <th>847</th>\n",
              "      <td>Five dead, 32 injured in Hong Kong coach crash</td>\n",
              "      <td>Five dead, 32 injured in Hong Kong coach crash</td>\n",
              "      <td>negative</td>\n",
              "      <td>HONG KONG (AFP) - Five people were killed and ...</td>\n",
              "      <td>https://www.straitstimes.com/asia/east-asia/fi...</td>\n",
              "      <td>negative</td>\n",
              "      <td>negative</td>\n",
              "    </tr>\n",
              "  </tbody>\n",
              "</table>\n",
              "<p>838 rows × 7 columns</p>\n",
              "</div>"
            ],
            "text/plain": [
              "                                            news_title  \\\n",
              "0             Mark Cuban launches generic drug company   \n",
              "1    From Defendant to Defender: One Wrongfully Con...   \n",
              "2    Amazon Tribe Wins Lawsuit Against Big Oil, Sav...   \n",
              "3    Newark police: No officer fired a single shot ...   \n",
              "5    Budweiser will sit out Super Bowl, funneling m...   \n",
              "..                                                 ...   \n",
              "843  Dee Why attack: Man allegedly choked and threa...   \n",
              "844  Africa: Children and HIV/Aids - 'We Need to Ta...   \n",
              "845                Terrorism suspected in Eilat attack   \n",
              "846  Anti-Semitism never disappeared in Europe. It'...   \n",
              "847     Five dead, 32 injured in Hong Kong coach crash   \n",
              "\n",
              "                                          reddit_title sentiment  \\\n",
              "0    Billionaire Mark Cuban just launched a drug co...  positive   \n",
              "1    Man falsely imprisoned for 10 years, uses pris...  positive   \n",
              "2    Amazon tribe wins legal battle against oil com...  positive   \n",
              "3    Newark police: No officer fired a single shot ...  positive   \n",
              "5    Budweiser will sit out Super Bowl, funneling m...  positive   \n",
              "..                                                 ...       ...   \n",
              "843  Dee Why attack: Man allegedly choked and threa...  negative   \n",
              "844  Africa: Children and HIV/Aids - 'We Need to Ta...  negative   \n",
              "845                Terrorism suspected in Eilat attack  negative   \n",
              "846  Anti-Semitism never disappeared in Europe. It'...  negative   \n",
              "847     Five dead, 32 injured in Hong Kong coach crash  negative   \n",
              "\n",
              "                                                  text  \\\n",
              "0    Billionaire investor and Shark Tank star Mark ...   \n",
              "1    Attorney Jarrett Adams recently helped overtur...   \n",
              "2    The Amazon Rainforest is well known across the...   \n",
              "3    Newark police: No officer fired a single shot ...   \n",
              "5    Budweiser will not be running a commercial dur...   \n",
              "..                                                 ...   \n",
              "843  Frightening details have emerged about a toile...   \n",
              "844  interview\\n\\nJohannesburg — 360,000 adolescent...   \n",
              "845  A violent attack in the southern Israeli port ...   \n",
              "846  It's a 17-year-old boy, too frightened to wear...   \n",
              "847  HONG KONG (AFP) - Five people were killed and ...   \n",
              "\n",
              "                                                   url predicted_sentiment  \\\n",
              "0    https://www.beckershospitalreview.com/pharmacy...            positive   \n",
              "1    https://www.nbcnews.com/news/us-news/defendant...            positive   \n",
              "2    https://www.disclose.tv/amazon-tribe-wins-laws...            positive   \n",
              "3    https://newjersey.news12.com/newark-police-no-...            negative   \n",
              "5    https://www.cnbc.com/2021/01/25/super-bowl-bud...            positive   \n",
              "..                                                 ...                 ...   \n",
              "843  https://www.9news.com.au/2018/11/30/17/55/sydn...            negative   \n",
              "844    https://allafrica.com/stories/201811300567.html            positive   \n",
              "845  http://www.israelnationalnews.com/News/News.as...            negative   \n",
              "846  https://edition.cnn.com/2018/11/27/europe/anti...            negative   \n",
              "847  https://www.straitstimes.com/asia/east-asia/fi...            negative   \n",
              "\n",
              "    predicted_sentiment_compound  \n",
              "0                       positive  \n",
              "1                       positive  \n",
              "2                       positive  \n",
              "3                       negative  \n",
              "5                       positive  \n",
              "..                           ...  \n",
              "843                     negative  \n",
              "844                     positive  \n",
              "845                     negative  \n",
              "846                     negative  \n",
              "847                     negative  \n",
              "\n",
              "[838 rows x 7 columns]"
            ]
          },
          "execution_count": 86,
          "metadata": {},
          "output_type": "execute_result"
        }
      ],
      "source": [
        "test_ns_data_english=test_ns_data2[test_ns_data2['text'].apply(is_english)]\n",
        "test_ns_data_english"
      ]
    },
    {
      "cell_type": "code",
      "execution_count": 87,
      "metadata": {
        "id": "-OK-Ic-lOdq8"
      },
      "outputs": [
        {
          "data": {
            "text/plain": [
              "(np.float64(0.747016706443914), np.float64(0.7763123113095983))"
            ]
          },
          "execution_count": 87,
          "metadata": {},
          "output_type": "execute_result"
        }
      ],
      "source": [
        "accuracy_ns_compound_english=np.sum(test_ns_data_english['sentiment']==test_ns_data_english['predicted_sentiment_compound'])/test_ns_data_english.shape[0]\n",
        "ba_ns_compound_english=balanced_accuracy_score(test_ns_data_english['sentiment'], test_ns_data_english['predicted_sentiment_compound'])\n",
        "accuracy_ns_compound_english, ba_ns_compound_english"
      ]
    },
    {
      "cell_type": "code",
      "execution_count": 88,
      "metadata": {
        "colab": {
          "base_uri": "https://localhost:8080/"
        },
        "id": "6E24T3n8O3xp",
        "outputId": "f663aad1-7c24-4306-d05b-8d23b5788ae1"
      },
      "outputs": [
        {
          "data": {
            "text/plain": [
              "predicted_sentiment_compound\n",
              "positive    565\n",
              "negative    271\n",
              "neutral       2\n",
              "Name: count, dtype: int64"
            ]
          },
          "execution_count": 88,
          "metadata": {},
          "output_type": "execute_result"
        }
      ],
      "source": [
        "test_ns_data_english['predicted_sentiment_compound'].value_counts()"
      ]
    },
    {
      "cell_type": "code",
      "execution_count": 89,
      "metadata": {
        "colab": {
          "base_uri": "https://localhost:8080/",
          "height": 920
        },
        "id": "drtjuAb5Q5O2",
        "outputId": "1130e3cc-1c00-4385-e885-4ffc0a585634"
      },
      "outputs": [
        {
          "data": {
            "text/html": [
              "<div>\n",
              "<style scoped>\n",
              "    .dataframe tbody tr th:only-of-type {\n",
              "        vertical-align: middle;\n",
              "    }\n",
              "\n",
              "    .dataframe tbody tr th {\n",
              "        vertical-align: top;\n",
              "    }\n",
              "\n",
              "    .dataframe thead th {\n",
              "        text-align: right;\n",
              "    }\n",
              "</style>\n",
              "<table border=\"1\" class=\"dataframe\">\n",
              "  <thead>\n",
              "    <tr style=\"text-align: right;\">\n",
              "      <th></th>\n",
              "      <th>news_title</th>\n",
              "      <th>reddit_title</th>\n",
              "      <th>sentiment</th>\n",
              "      <th>text</th>\n",
              "      <th>url</th>\n",
              "      <th>predicted_sentiment</th>\n",
              "      <th>predicted_sentiment_compound</th>\n",
              "    </tr>\n",
              "  </thead>\n",
              "  <tbody>\n",
              "    <tr>\n",
              "      <th>4</th>\n",
              "      <td>Ingen barn døde i trafikken i 2019</td>\n",
              "      <td>No children died in traffic accidents in Norwa...</td>\n",
              "      <td>positive</td>\n",
              "      <td>I 1970 døde det 560 mennesker i den norske tra...</td>\n",
              "      <td>https://www.nrk.no/trondelag/ingen-barn-dode-i...</td>\n",
              "      <td>positive</td>\n",
              "      <td>positive</td>\n",
              "    </tr>\n",
              "    <tr>\n",
              "      <th>63</th>\n",
              "      <td>Görme Engelli Kızına 4 Yıl Boyunca Notlarını O...</td>\n",
              "      <td>Turkish mom who read lecture notes for four ye...</td>\n",
              "      <td>positive</td>\n",
              "      <td>Üniversite birçok öğrenci için kazandıktan son...</td>\n",
              "      <td>https://listelist.com/sakarya-gorme-engelli-an...</td>\n",
              "      <td>positive</td>\n",
              "      <td>positive</td>\n",
              "    </tr>\n",
              "    <tr>\n",
              "      <th>104</th>\n",
              "      <td>Incendie à Notre-Dame : la famille Pinault déb...</td>\n",
              "      <td>French billionaire François-Henri Pinault pled...</td>\n",
              "      <td>positive</td>\n",
              "      <td>La famille Pinault va débloquer cent millions ...</td>\n",
              "      <td>http://www.lefigaro.fr/flash-actu/notre-dame-d...</td>\n",
              "      <td>neutral</td>\n",
              "      <td>neutral</td>\n",
              "    </tr>\n",
              "    <tr>\n",
              "      <th>159</th>\n",
              "      <td>Монголия приняла меры по облегчению положения ...</td>\n",
              "      <td>Mongolia will pay for electricity, water, heat...</td>\n",
              "      <td>positive</td>\n",
              "      <td>13 декабря состоялось внеочередное заседание к...</td>\n",
              "      <td>http://www.mongolnow.com/mongoliya-prinyala-me...</td>\n",
              "      <td>neutral</td>\n",
              "      <td>neutral</td>\n",
              "    </tr>\n",
              "    <tr>\n",
              "      <th>187</th>\n",
              "      <td>Natale: 94enne solo a casa chiama Cc per fare ...</td>\n",
              "      <td>94 years old man calls the police: \"I got ever...</td>\n",
              "      <td>positive</td>\n",
              "      <td>(ANSA) - BOLOGNA, 25 DIC - Ha telefonato ai Ca...</td>\n",
              "      <td>https://www.ansa.it/amp/emiliaromagna/notizie/...</td>\n",
              "      <td>positive</td>\n",
              "      <td>positive</td>\n",
              "    </tr>\n",
              "    <tr>\n",
              "      <th>458</th>\n",
              "      <td>Coronavirus-Pandemie: Bosch erfindet eigenen C...</td>\n",
              "      <td>German company Bosch produces 95% accurate tes...</td>\n",
              "      <td>positive</td>\n",
              "      <td>Schneller und sicherer auf das Virus testen – ...</td>\n",
              "      <td>https://www.faz.net/aktuell/wirtschaft/digitec...</td>\n",
              "      <td>negative</td>\n",
              "      <td>negative</td>\n",
              "    </tr>\n",
              "    <tr>\n",
              "      <th>538</th>\n",
              "      <td>Coronavirus, a Rimini guarisce anziano di 101 ...</td>\n",
              "      <td>101 year old man, born during the Spanish flu,...</td>\n",
              "      <td>positive</td>\n",
              "      <td>Nemmeno a 101 anni il futuro è scritto.Non lo ...</td>\n",
              "      <td>http://www.today.it/attualita/coronavirus-guar...</td>\n",
              "      <td>positive</td>\n",
              "      <td>positive</td>\n",
              "    </tr>\n",
              "    <tr>\n",
              "      <th>752</th>\n",
              "      <td>Больше половины краж в Казахстане не раскрываю...</td>\n",
              "      <td>More than half of thefts in Kazakstan are not ...</td>\n",
              "      <td>negative</td>\n",
              "      <td>По данным Министерства внутренних дел, в 2017 ...</td>\n",
              "      <td>https://tengrinews.kz/crime/bolshe-polovinyi-k...</td>\n",
              "      <td>neutral</td>\n",
              "      <td>neutral</td>\n",
              "    </tr>\n",
              "    <tr>\n",
              "      <th>766</th>\n",
              "      <td>Мать бросила младенца на обочине дороги в спор...</td>\n",
              "      <td>Mother threw the baby on the side of the road ...</td>\n",
              "      <td>negative</td>\n",
              "      <td>В Туркестанской области женщина бросила новоро...</td>\n",
              "      <td>https://www.nur.kz/1746113-mat-brosila-mladenc...</td>\n",
              "      <td>neutral</td>\n",
              "      <td>neutral</td>\n",
              "    </tr>\n",
              "    <tr>\n",
              "      <th>771</th>\n",
              "      <td>Издевательства мальчика над женщиной в Капшага...</td>\n",
              "      <td>Bullying of a boy over a woman in Kapshagai: t...</td>\n",
              "      <td>negative</td>\n",
              "      <td>В ДВД Алматинской области прокомментировали ви...</td>\n",
              "      <td>https://tengrinews.kz/kazakhstan_news/izdevate...</td>\n",
              "      <td>neutral</td>\n",
              "      <td>neutral</td>\n",
              "    </tr>\n",
              "  </tbody>\n",
              "</table>\n",
              "</div>"
            ],
            "text/plain": [
              "                                            news_title  \\\n",
              "4                   Ingen barn døde i trafikken i 2019   \n",
              "63   Görme Engelli Kızına 4 Yıl Boyunca Notlarını O...   \n",
              "104  Incendie à Notre-Dame : la famille Pinault déb...   \n",
              "159  Монголия приняла меры по облегчению положения ...   \n",
              "187  Natale: 94enne solo a casa chiama Cc per fare ...   \n",
              "458  Coronavirus-Pandemie: Bosch erfindet eigenen C...   \n",
              "538  Coronavirus, a Rimini guarisce anziano di 101 ...   \n",
              "752  Больше половины краж в Казахстане не раскрываю...   \n",
              "766  Мать бросила младенца на обочине дороги в спор...   \n",
              "771  Издевательства мальчика над женщиной в Капшага...   \n",
              "\n",
              "                                          reddit_title sentiment  \\\n",
              "4    No children died in traffic accidents in Norwa...  positive   \n",
              "63   Turkish mom who read lecture notes for four ye...  positive   \n",
              "104  French billionaire François-Henri Pinault pled...  positive   \n",
              "159  Mongolia will pay for electricity, water, heat...  positive   \n",
              "187  94 years old man calls the police: \"I got ever...  positive   \n",
              "458  German company Bosch produces 95% accurate tes...  positive   \n",
              "538  101 year old man, born during the Spanish flu,...  positive   \n",
              "752  More than half of thefts in Kazakstan are not ...  negative   \n",
              "766  Mother threw the baby on the side of the road ...  negative   \n",
              "771  Bullying of a boy over a woman in Kapshagai: t...  negative   \n",
              "\n",
              "                                                  text  \\\n",
              "4    I 1970 døde det 560 mennesker i den norske tra...   \n",
              "63   Üniversite birçok öğrenci için kazandıktan son...   \n",
              "104  La famille Pinault va débloquer cent millions ...   \n",
              "159  13 декабря состоялось внеочередное заседание к...   \n",
              "187  (ANSA) - BOLOGNA, 25 DIC - Ha telefonato ai Ca...   \n",
              "458  Schneller und sicherer auf das Virus testen – ...   \n",
              "538  Nemmeno a 101 anni il futuro è scritto.Non lo ...   \n",
              "752  По данным Министерства внутренних дел, в 2017 ...   \n",
              "766  В Туркестанской области женщина бросила новоро...   \n",
              "771  В ДВД Алматинской области прокомментировали ви...   \n",
              "\n",
              "                                                   url predicted_sentiment  \\\n",
              "4    https://www.nrk.no/trondelag/ingen-barn-dode-i...            positive   \n",
              "63   https://listelist.com/sakarya-gorme-engelli-an...            positive   \n",
              "104  http://www.lefigaro.fr/flash-actu/notre-dame-d...             neutral   \n",
              "159  http://www.mongolnow.com/mongoliya-prinyala-me...             neutral   \n",
              "187  https://www.ansa.it/amp/emiliaromagna/notizie/...            positive   \n",
              "458  https://www.faz.net/aktuell/wirtschaft/digitec...            negative   \n",
              "538  http://www.today.it/attualita/coronavirus-guar...            positive   \n",
              "752  https://tengrinews.kz/crime/bolshe-polovinyi-k...             neutral   \n",
              "766  https://www.nur.kz/1746113-mat-brosila-mladenc...             neutral   \n",
              "771  https://tengrinews.kz/kazakhstan_news/izdevate...             neutral   \n",
              "\n",
              "    predicted_sentiment_compound  \n",
              "4                       positive  \n",
              "63                      positive  \n",
              "104                      neutral  \n",
              "159                      neutral  \n",
              "187                     positive  \n",
              "458                     negative  \n",
              "538                     positive  \n",
              "752                      neutral  \n",
              "766                      neutral  \n",
              "771                      neutral  "
            ]
          },
          "execution_count": 89,
          "metadata": {},
          "output_type": "execute_result"
        }
      ],
      "source": [
        "test_ns_data2[~test_ns_data2['text'].apply(is_english)] #seems to perform good for longer texts"
      ]
    },
    {
      "cell_type": "markdown",
      "metadata": {
        "id": "-ioKszIqPMTD"
      },
      "source": [
        "### Tweet sentiment extraction dataset"
      ]
    },
    {
      "cell_type": "code",
      "execution_count": 90,
      "metadata": {
        "id": "EMzZWuuPO7zf"
      },
      "outputs": [],
      "source": [
        "test_tse_data_english=test_tse_data[test_tse_data['text'].apply(is_english)]"
      ]
    },
    {
      "cell_type": "code",
      "execution_count": 91,
      "metadata": {
        "id": "emDLsy3lPqOy"
      },
      "outputs": [],
      "source": [
        "accuracy_tse_compound_english=np.sum(test_tse_data_english['sentiment']==test_tse_data_english['predicted_sentiment_compound'])/test_tse_data_english.shape[0]"
      ]
    },
    {
      "cell_type": "code",
      "execution_count": 92,
      "metadata": {
        "id": "iwBF7sIVQETs"
      },
      "outputs": [],
      "source": [
        "ba_tse_compound_english=balanced_accuracy_score(test_tse_data_english['sentiment'], test_tse_data_english['predicted_sentiment_compound'])"
      ]
    },
    {
      "cell_type": "code",
      "execution_count": 93,
      "metadata": {
        "colab": {
          "base_uri": "https://localhost:8080/"
        },
        "id": "teqZbYE5QifJ",
        "outputId": "b0e89dbd-15db-4ff9-a063-4db0ccacd44d"
      },
      "outputs": [
        {
          "data": {
            "text/plain": [
              "(np.float64(0.6047516198704104), np.float64(0.5950546252576678))"
            ]
          },
          "execution_count": 93,
          "metadata": {},
          "output_type": "execute_result"
        }
      ],
      "source": [
        "accuracy_tse_compound_english, ba_tse_compound_english #in this dataset nothing changes"
      ]
    },
    {
      "cell_type": "markdown",
      "metadata": {
        "id": "H6OWkHQA3s0b"
      },
      "source": [
        "# test on ACTAWARE data - chosen subset"
      ]
    },
    {
      "cell_type": "code",
      "execution_count": 94,
      "metadata": {
        "id": "-ETgaBQn3vGW"
      },
      "outputs": [],
      "source": [
        "path_list=(PATH_NOT_PREPROCESSED)\n",
        "df_my=pd.read_csv(PATH_MY_GT, sep=';')\n",
        "with open(path_list, 'r') as file:\n",
        "  list_of_contents_new = file.readlines()"
      ]
    },
    {
      "cell_type": "code",
      "execution_count": 95,
      "metadata": {
        "colab": {
          "base_uri": "https://localhost:8080/",
          "height": 186
        },
        "id": "XUuZQFlx7m8n",
        "outputId": "a7f4d4b3-08e6-4071-bf07-f343f5f0b3f0"
      },
      "outputs": [
        {
          "data": {
            "text/plain": [
              "<function spacy.pipeline.functions.merge_noun_chunks(doc: spacy.tokens.doc.Doc) -> spacy.tokens.doc.Doc>"
            ]
          },
          "execution_count": 95,
          "metadata": {},
          "output_type": "execute_result"
        }
      ],
      "source": [
        "nlp = spacy.load('en_core_web_sm')\n",
        "nlp.add_pipe(\"merge_noun_chunks\")"
      ]
    },
    {
      "cell_type": "code",
      "execution_count": 96,
      "metadata": {
        "colab": {
          "base_uri": "https://localhost:8080/",
          "height": 206
        },
        "id": "ieEau9me4arK",
        "outputId": "aa723305-d96f-49a4-c6fd-c655760d4e39"
      },
      "outputs": [
        {
          "data": {
            "text/html": [
              "<div>\n",
              "<style scoped>\n",
              "    .dataframe tbody tr th:only-of-type {\n",
              "        vertical-align: middle;\n",
              "    }\n",
              "\n",
              "    .dataframe tbody tr th {\n",
              "        vertical-align: top;\n",
              "    }\n",
              "\n",
              "    .dataframe thead th {\n",
              "        text-align: right;\n",
              "    }\n",
              "</style>\n",
              "<table border=\"1\" class=\"dataframe\">\n",
              "  <thead>\n",
              "    <tr style=\"text-align: right;\">\n",
              "      <th></th>\n",
              "      <th>Text</th>\n",
              "      <th>Sentiment</th>\n",
              "    </tr>\n",
              "  </thead>\n",
              "  <tbody>\n",
              "    <tr>\n",
              "      <th>0</th>\n",
              "      <td>People work in the Amazon Fulfillment Center i...</td>\n",
              "      <td></td>\n",
              "    </tr>\n",
              "    <tr>\n",
              "      <th>1</th>\n",
              "      <td>A federal agency is seeking to force Starbucks...</td>\n",
              "      <td></td>\n",
              "    </tr>\n",
              "    <tr>\n",
              "      <th>2</th>\n",
              "      <td>You might have seen a new energy drink on Amaz...</td>\n",
              "      <td></td>\n",
              "    </tr>\n",
              "    <tr>\n",
              "      <th>3</th>\n",
              "      <td>The BBC's director-general has tried to calm t...</td>\n",
              "      <td></td>\n",
              "    </tr>\n",
              "    <tr>\n",
              "      <th>4</th>\n",
              "      <td>Amazon is running a competition to give its br...</td>\n",
              "      <td></td>\n",
              "    </tr>\n",
              "  </tbody>\n",
              "</table>\n",
              "</div>"
            ],
            "text/plain": [
              "                                                Text Sentiment\n",
              "0  People work in the Amazon Fulfillment Center i...          \n",
              "1  A federal agency is seeking to force Starbucks...          \n",
              "2  You might have seen a new energy drink on Amaz...          \n",
              "3  The BBC's director-general has tried to calm t...          \n",
              "4  Amazon is running a competition to give its br...          "
            ]
          },
          "execution_count": 96,
          "metadata": {},
          "output_type": "execute_result"
        }
      ],
      "source": [
        "actaware_df=pd.DataFrame({'Text': list_of_contents_new, 'Sentiment': \"\"})\n",
        "actaware_df.head()"
      ]
    },
    {
      "cell_type": "code",
      "execution_count": 97,
      "metadata": {
        "colab": {
          "base_uri": "https://localhost:8080/"
        },
        "id": "T0mE-v_d33sF",
        "outputId": "0fb89c1f-5c8a-4dc6-d0be-48a65ea7f4de"
      },
      "outputs": [
        {
          "name": "stdout",
          "output_type": "stream",
          "text": [
            "0\n"
          ]
        }
      ],
      "source": [
        "for i in range(len(list_of_contents_new)):\n",
        "  if i%200==0:\n",
        "    print(i)\n",
        "  text_to_check=list_of_contents_new[i]\n",
        "  actaware_df['Sentiment'][i]=graph_sentiment_analysis(text_to_check, calculate_overall_score=1, nlp=nlp, threshold=0.0, compound=True)"
      ]
    },
    {
      "cell_type": "code",
      "execution_count": 98,
      "metadata": {
        "id": "cvLm1haO46Bj"
      },
      "outputs": [],
      "source": [
        "actaware_df.to_csv(PATH_TO_SAVE_RESULTS+'actaware_df_with_sentiment_graph_chosen_articles.csv', index=False)"
      ]
    },
    {
      "cell_type": "code",
      "execution_count": 99,
      "metadata": {
        "colab": {
          "base_uri": "https://localhost:8080/",
          "height": 206
        },
        "id": "Vb7dYJgY76Ip",
        "outputId": "1855863f-b941-4b1a-b0ca-6f1d3d0fffc2"
      },
      "outputs": [
        {
          "data": {
            "text/html": [
              "<div>\n",
              "<style scoped>\n",
              "    .dataframe tbody tr th:only-of-type {\n",
              "        vertical-align: middle;\n",
              "    }\n",
              "\n",
              "    .dataframe tbody tr th {\n",
              "        vertical-align: top;\n",
              "    }\n",
              "\n",
              "    .dataframe thead th {\n",
              "        text-align: right;\n",
              "    }\n",
              "</style>\n",
              "<table border=\"1\" class=\"dataframe\">\n",
              "  <thead>\n",
              "    <tr style=\"text-align: right;\">\n",
              "      <th></th>\n",
              "      <th>Text</th>\n",
              "      <th>Sentiment</th>\n",
              "    </tr>\n",
              "  </thead>\n",
              "  <tbody>\n",
              "    <tr>\n",
              "      <th>0</th>\n",
              "      <td>People work in the Amazon Fulfillment Center i...</td>\n",
              "      <td>negative</td>\n",
              "    </tr>\n",
              "    <tr>\n",
              "      <th>1</th>\n",
              "      <td>A federal agency is seeking to force Starbucks...</td>\n",
              "      <td>positive</td>\n",
              "    </tr>\n",
              "    <tr>\n",
              "      <th>2</th>\n",
              "      <td>You might have seen a new energy drink on Amaz...</td>\n",
              "      <td>positive</td>\n",
              "    </tr>\n",
              "    <tr>\n",
              "      <th>3</th>\n",
              "      <td>The BBC's director-general has tried to calm t...</td>\n",
              "      <td>positive</td>\n",
              "    </tr>\n",
              "    <tr>\n",
              "      <th>4</th>\n",
              "      <td>Amazon is running a competition to give its br...</td>\n",
              "      <td>positive</td>\n",
              "    </tr>\n",
              "  </tbody>\n",
              "</table>\n",
              "</div>"
            ],
            "text/plain": [
              "                                                Text Sentiment\n",
              "0  People work in the Amazon Fulfillment Center i...  negative\n",
              "1  A federal agency is seeking to force Starbucks...  positive\n",
              "2  You might have seen a new energy drink on Amaz...  positive\n",
              "3  The BBC's director-general has tried to calm t...  positive\n",
              "4  Amazon is running a competition to give its br...  positive"
            ]
          },
          "execution_count": 99,
          "metadata": {},
          "output_type": "execute_result"
        }
      ],
      "source": [
        "actaware_df.head()"
      ]
    },
    {
      "cell_type": "code",
      "execution_count": 100,
      "metadata": {
        "colab": {
          "base_uri": "https://localhost:8080/"
        },
        "id": "Eoc2Ws1CE3pE",
        "outputId": "eac81c7f-a59b-431f-d32b-ce45dd869276"
      },
      "outputs": [
        {
          "data": {
            "text/plain": [
              "np.float64(0.5584921614333379)"
            ]
          },
          "execution_count": 100,
          "metadata": {},
          "output_type": "execute_result"
        }
      ],
      "source": [
        "balanced_accuracy_score(df_my['Sentiment'], actaware_df['Sentiment'])"
      ]
    },
    {
      "cell_type": "markdown",
      "metadata": {
        "id": "WCDYkiHcmHI7"
      },
      "source": [
        "# Experiments"
      ]
    },
    {
      "cell_type": "code",
      "execution_count": 101,
      "metadata": {
        "id": "ATPUBgMWlgNQ"
      },
      "outputs": [],
      "source": [
        "def run_actaware(file_name, df_my, nlp):\n",
        "  if file_name=='chosen_articles':\n",
        "    path_list=(PATH_NOT_PREPROCESSED)\n",
        "  elif file_name=='chosen_articles_cleaned_4o':\n",
        "    path_list=(PATH_4O)\n",
        "  elif file_name=='chosen_articles_cleaned_by_me':\n",
        "    path_list=(PATH_HUMAN)\n",
        "  elif file_name=='chosen_articles_cleaned_regex':\n",
        "    path_list=(PATH_REGEX)\n",
        "  else:\n",
        "    print(\"Wrong dataset name.\")\n",
        "  with open(path_list, 'r') as file:\n",
        "    list_of_contents_new = file.readlines()\n",
        "  actaware_df=pd.DataFrame({'Text': list_of_contents_new, 'Sentiment': \"\"})\n",
        "  for i in range(len(list_of_contents_new)):\n",
        "    text_to_check=list_of_contents_new[i]\n",
        "    actaware_df['Sentiment'][i]=graph_sentiment_analysis(text_to_check, calculate_overall_score=1, nlp=nlp, threshold=0.0, compound=True)\n",
        "  actaware_df.to_csv(f'{PATH_TO_SAVE_RESULTS}/actaware_df_with_sentiment_graph_{file_name}.csv', index=False)\n",
        "  return balanced_accuracy_score(df_my['Sentiment'], actaware_df['Sentiment'])"
      ]
    },
    {
      "cell_type": "code",
      "execution_count": 102,
      "metadata": {
        "colab": {
          "base_uri": "https://localhost:8080/",
          "height": 186
        },
        "id": "lPNCyYT7lNdQ",
        "outputId": "c3480023-fc2e-4366-aaa9-98c6d64cb159"
      },
      "outputs": [
        {
          "data": {
            "text/plain": [
              "<function spacy.pipeline.functions.merge_noun_chunks(doc: spacy.tokens.doc.Doc) -> spacy.tokens.doc.Doc>"
            ]
          },
          "execution_count": 102,
          "metadata": {},
          "output_type": "execute_result"
        }
      ],
      "source": [
        "df_my=pd.read_csv(PATH_MY_GT, sep=';')\n",
        "nlp = spacy.load('en_core_web_sm')\n",
        "nlp.add_pipe(\"merge_noun_chunks\")"
      ]
    },
    {
      "cell_type": "code",
      "execution_count": 110,
      "metadata": {
        "colab": {
          "base_uri": "https://localhost:8080/"
        },
        "id": "Fzq7ZWw8mRAq",
        "outputId": "00169131-8702-4a1a-b2ee-f4f08174e168"
      },
      "outputs": [
        {
          "name": "stdout",
          "output_type": "stream",
          "text": [
            "0 chosen_articles\n",
            "0.5584921614333379\n",
            "1 chosen_articles\n",
            "0.5584921614333379\n",
            "2 chosen_articles\n",
            "0.5584921614333379\n",
            "0 chosen_articles_cleaned_4o\n",
            "0.6049179578591343\n",
            "1 chosen_articles_cleaned_4o\n",
            "0.6049179578591343\n",
            "2 chosen_articles_cleaned_4o\n",
            "0.6049179578591343\n",
            "0 chosen_articles_cleaned_by_me\n",
            "0.5584921614333379\n",
            "1 chosen_articles_cleaned_by_me\n",
            "0.5584921614333379\n",
            "2 chosen_articles_cleaned_by_me\n",
            "0.5584921614333379\n",
            "0 chosen_articles_cleaned_regex\n",
            "0.5584921614333379\n",
            "1 chosen_articles_cleaned_regex\n",
            "0.5584921614333379\n",
            "2 chosen_articles_cleaned_regex\n",
            "0.5584921614333379\n"
          ]
        }
      ],
      "source": [
        "list_names_scores_iter_time=[]\n",
        "for i in range(3):\n",
        "  file_name='chosen_articles'\n",
        "  print(i, file_name)\n",
        "  start_time=time.time()\n",
        "  ba_1=run_actaware(file_name, df_my, nlp)\n",
        "  end_time=time.time()\n",
        "  print(ba_1)\n",
        "  list_names_scores_iter_time.append([file_name, ba_1, i, end_time-start_time])\n",
        "\n",
        "\n",
        "for i in range(3):\n",
        "  file_name='chosen_articles_cleaned_4o'\n",
        "  print(i, file_name)\n",
        "  start_time=time.time()\n",
        "  ba_1=run_actaware(file_name, df_my, nlp)\n",
        "  end_time=time.time()\n",
        "  print(ba_1)\n",
        "  list_names_scores_iter_time.append([file_name, ba_1, i, end_time-start_time])\n",
        "\n",
        "\n",
        "for i in range(3):\n",
        "  file_name='chosen_articles_cleaned_by_me'\n",
        "  print(i, file_name)\n",
        "  start_time=time.time()\n",
        "  ba_1=run_actaware(file_name, df_my, nlp)\n",
        "  end_time=time.time()\n",
        "  print(ba_1)\n",
        "  list_names_scores_iter_time.append([file_name, ba_1, i, end_time-start_time])\n",
        "\n",
        "for i in range(3):\n",
        "  file_name='chosen_articles_cleaned_regex'\n",
        "  print(i, file_name)\n",
        "  start_time=time.time()\n",
        "  ba_1=run_actaware(file_name, df_my, nlp)\n",
        "  end_time=time.time()\n",
        "  print(ba_1)\n",
        "  list_names_scores_iter_time.append([file_name, ba_1, i, end_time-start_time])"
      ]
    },
    {
      "cell_type": "markdown",
      "metadata": {},
      "source": [
        "As the algorithm is deterministic, each run for graph based solution gives exactly the same results for the same dataset."
      ]
    },
    {
      "cell_type": "code",
      "execution_count": 112,
      "metadata": {
        "colab": {
          "base_uri": "https://localhost:8080/"
        },
        "id": "xrovxTUznffx",
        "outputId": "7ac1db5f-f98d-4c36-c828-09ff18da861a"
      },
      "outputs": [
        {
          "data": {
            "text/plain": [
              "[['chosen_articles', np.float64(0.5584921614333379), 0, 30.808367252349854],\n",
              " ['chosen_articles', np.float64(0.5584921614333379), 1, 19.118587970733643],\n",
              " ['chosen_articles', np.float64(0.5584921614333379), 2, 19.342491149902344],\n",
              " ['chosen_articles_cleaned_4o',\n",
              "  np.float64(0.6049179578591343),\n",
              "  0,\n",
              "  14.115129947662354],\n",
              " ['chosen_articles_cleaned_4o',\n",
              "  np.float64(0.6049179578591343),\n",
              "  1,\n",
              "  16.85368847846985],\n",
              " ['chosen_articles_cleaned_4o',\n",
              "  np.float64(0.6049179578591343),\n",
              "  2,\n",
              "  19.26258420944214],\n",
              " ['chosen_articles_cleaned_by_me',\n",
              "  np.float64(0.5584921614333379),\n",
              "  0,\n",
              "  23.69186496734619],\n",
              " ['chosen_articles_cleaned_by_me',\n",
              "  np.float64(0.5584921614333379),\n",
              "  1,\n",
              "  19.002342224121094],\n",
              " ['chosen_articles_cleaned_by_me',\n",
              "  np.float64(0.5584921614333379),\n",
              "  2,\n",
              "  22.143868684768677],\n",
              " ['chosen_articles_cleaned_regex', 0.5584921614333379, 0, 21.723713636398315],\n",
              " ['chosen_articles_cleaned_regex', 0.5584921614333379, 1, 20.625104904174805],\n",
              " ['chosen_articles_cleaned_regex', 0.5584921614333379, 2, 20.8860445022583]]"
            ]
          },
          "execution_count": 112,
          "metadata": {},
          "output_type": "execute_result"
        }
      ],
      "source": [
        "list_names_scores_iter_time"
      ]
    },
    {
      "cell_type": "code",
      "execution_count": 4,
      "metadata": {
        "id": "5Xl-jHeNrh9g"
      },
      "outputs": [],
      "source": [
        "with open(PATH_TO_SAVE_RESULTS+'graph_sentiment_results_chosen_actaware.txt', 'w') as f:\n",
        "    for line in list_names_scores_iter_time:\n",
        "        f.write(f\"{line}\\n\")"
      ]
    }
  ],
  "metadata": {
    "accelerator": "GPU",
    "colab": {
      "collapsed_sections": [
        "evtGdavo3ZSa",
        "EHd2boi_0HFK",
        "zAnzJVUQG_nW",
        "d56iMv1mJQaD",
        "MkwSf-OlK9KT",
        "T5ziLOglPJUy",
        "-ioKszIqPMTD"
      ],
      "gpuType": "T4",
      "provenance": []
    },
    "kernelspec": {
      "display_name": "env_actaware",
      "language": "python",
      "name": "python3"
    },
    "language_info": {
      "codemirror_mode": {
        "name": "ipython",
        "version": 3
      },
      "file_extension": ".py",
      "mimetype": "text/x-python",
      "name": "python",
      "nbconvert_exporter": "python",
      "pygments_lexer": "ipython3",
      "version": "3.10.12"
    }
  },
  "nbformat": 4,
  "nbformat_minor": 0
}
