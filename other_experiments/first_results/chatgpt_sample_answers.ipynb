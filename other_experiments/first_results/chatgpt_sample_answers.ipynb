{
 "cells": [
  {
   "cell_type": "code",
   "execution_count": 1,
   "metadata": {
    "colab": {
     "base_uri": "https://localhost:8080/"
    },
    "id": "8Qcar_cBxmGa",
    "outputId": "08a458b9-c571-4cb0-8b93-aeb7e55b93a2"
   },
   "outputs": [
    {
     "name": "stdout",
     "output_type": "stream",
     "text": [
      "Collecting openai\n",
      "  Downloading openai-1.38.0-py3-none-any.whl.metadata (22 kB)\n",
      "Requirement already satisfied: anyio<5,>=3.5.0 in /usr/local/lib/python3.10/dist-packages (from openai) (3.7.1)\n",
      "Requirement already satisfied: distro<2,>=1.7.0 in /usr/lib/python3/dist-packages (from openai) (1.7.0)\n",
      "Collecting httpx<1,>=0.23.0 (from openai)\n",
      "  Downloading httpx-0.27.0-py3-none-any.whl.metadata (7.2 kB)\n",
      "Requirement already satisfied: pydantic<3,>=1.9.0 in /usr/local/lib/python3.10/dist-packages (from openai) (2.8.2)\n",
      "Requirement already satisfied: sniffio in /usr/local/lib/python3.10/dist-packages (from openai) (1.3.1)\n",
      "Requirement already satisfied: tqdm>4 in /usr/local/lib/python3.10/dist-packages (from openai) (4.66.4)\n",
      "Requirement already satisfied: typing-extensions<5,>=4.7 in /usr/local/lib/python3.10/dist-packages (from openai) (4.12.2)\n",
      "Requirement already satisfied: idna>=2.8 in /usr/local/lib/python3.10/dist-packages (from anyio<5,>=3.5.0->openai) (3.7)\n",
      "Requirement already satisfied: exceptiongroup in /usr/local/lib/python3.10/dist-packages (from anyio<5,>=3.5.0->openai) (1.2.2)\n",
      "Requirement already satisfied: certifi in /usr/local/lib/python3.10/dist-packages (from httpx<1,>=0.23.0->openai) (2024.7.4)\n",
      "Collecting httpcore==1.* (from httpx<1,>=0.23.0->openai)\n",
      "  Downloading httpcore-1.0.5-py3-none-any.whl.metadata (20 kB)\n",
      "Collecting h11<0.15,>=0.13 (from httpcore==1.*->httpx<1,>=0.23.0->openai)\n",
      "  Downloading h11-0.14.0-py3-none-any.whl.metadata (8.2 kB)\n",
      "Requirement already satisfied: annotated-types>=0.4.0 in /usr/local/lib/python3.10/dist-packages (from pydantic<3,>=1.9.0->openai) (0.7.0)\n",
      "Requirement already satisfied: pydantic-core==2.20.1 in /usr/local/lib/python3.10/dist-packages (from pydantic<3,>=1.9.0->openai) (2.20.1)\n",
      "Downloading openai-1.38.0-py3-none-any.whl (335 kB)\n",
      "\u001b[2K   \u001b[90m━━━━━━━━━━━━━━━━━━━━━━━━━━━━━━━━━━━━━━━━\u001b[0m \u001b[32m335.9/335.9 kB\u001b[0m \u001b[31m8.0 MB/s\u001b[0m eta \u001b[36m0:00:00\u001b[0m\n",
      "\u001b[?25hDownloading httpx-0.27.0-py3-none-any.whl (75 kB)\n",
      "\u001b[2K   \u001b[90m━━━━━━━━━━━━━━━━━━━━━━━━━━━━━━━━━━━━━━━━\u001b[0m \u001b[32m75.6/75.6 kB\u001b[0m \u001b[31m3.4 MB/s\u001b[0m eta \u001b[36m0:00:00\u001b[0m\n",
      "\u001b[?25hDownloading httpcore-1.0.5-py3-none-any.whl (77 kB)\n",
      "\u001b[2K   \u001b[90m━━━━━━━━━━━━━━━━━━━━━━━━━━━━━━━━━━━━━━━━\u001b[0m \u001b[32m77.9/77.9 kB\u001b[0m \u001b[31m4.6 MB/s\u001b[0m eta \u001b[36m0:00:00\u001b[0m\n",
      "\u001b[?25hDownloading h11-0.14.0-py3-none-any.whl (58 kB)\n",
      "\u001b[2K   \u001b[90m━━━━━━━━━━━━━━━━━━━━━━━━━━━━━━━━━━━━━━━━\u001b[0m \u001b[32m58.3/58.3 kB\u001b[0m \u001b[31m2.4 MB/s\u001b[0m eta \u001b[36m0:00:00\u001b[0m\n",
      "\u001b[?25hInstalling collected packages: h11, httpcore, httpx, openai\n",
      "Successfully installed h11-0.14.0 httpcore-1.0.5 httpx-0.27.0 openai-1.38.0\n"
     ]
    }
   ],
   "source": [
    "!pip install openai"
   ]
  },
  {
   "cell_type": "code",
   "execution_count": 2,
   "metadata": {
    "id": "r42sn7jBxvM_"
   },
   "outputs": [],
   "source": [
    "from openai import OpenAI\n",
    "import os"
   ]
  },
  {
   "cell_type": "code",
   "execution_count": null,
   "metadata": {
    "id": "maBnUxzqxMYc"
   },
   "outputs": [],
   "source": [
    "client = OpenAI(api_key=\"\")"
   ]
  },
  {
   "cell_type": "code",
   "execution_count": 7,
   "metadata": {
    "id": "nZX3lYRn2Qh8"
   },
   "outputs": [],
   "source": [
    "with open(\"chosen_articles.txt\", \"r\") as f:\n",
    "    articles = f.readlines()"
   ]
  },
  {
   "cell_type": "code",
   "execution_count": 8,
   "metadata": {
    "colab": {
     "base_uri": "https://localhost:8080/",
     "height": 157
    },
    "id": "Aeml9GPX2Vs5",
    "outputId": "c8f97bda-9acb-4649-c442-37427dd04cc4"
   },
   "outputs": [
    {
     "data": {
      "application/vnd.google.colaboratory.intrinsic+json": {
       "type": "string"
      },
      "text/plain": [
       "\"The BBC's director-general has tried to calm tensions among staff over the Israel-Gaza war, telling them to think 'carefully about the language that you use' in the workplace. Tim Davie said employees needed to be 'kind' to each other and 'no one should ever face any fear or prejudice' at their place of work. His email to his workforce comes as one insider at the corporation reported there had been arguments between staff with different views on the Middle-East crisis. There have already been reports of how Jewish staff had been upset at the corporation's refusal to describe Hamas fighters as terrorists. But it has also been claimed that some of its own journalists believe the BBC has been too soft on Israel and was 'dehumanising' Palestinian civilians. Yesterday in an apparent recognition of the tensions among staff, Mr Davie called for calm and respect in the workplace over the issue. Mr Davie has called for calm and respect in the workplace over the issue A mother covers her child's face to protect from the smoke as Palestinians leave from the northern part of the Gaza to flee the central and southern parts of the Gaza Strip Admitting it had been a 'incredibly demanding' and 'stressful' time in recent weeks, he wrote: ' Our duty of care to all those impacted is paramount and I would ask everyone to be kind, considerate and supportive of each other. 'It is essential that we act with generosity and humanity, creating an environment where we look after each other in these troubled times, particularly those people most impacted by these awful events.' He added: 'No one should ever face any fear or prejudice in a workplace, and it requires all of us to pull together as one team to live our values. 'This can be harder in these polarised times but we should set the standard as an inclusive, safe environment. I would ask every one of you personally to contribute to this. 'This includes thinking carefully about the language that you use, in person, on email, and also on social media.' Mr Davie went on to provide details for staff who needed support as well as telling them they could use the corporation's whistleblowing services. A BBC source said: 'The BBC isn't some sort of monolithic organisation that doesn't have human beings. One BBC insider admitted they were aware of heated arguments taking place between staff about the war 'There are people working in all sorts of parts of the world and people who like everyone else feels the stresses and strains in relation to covering a complex and difficult conflict.' One BBC insider admitted they were aware of heated arguments taking place between staff about the war. Jewish staff already annoyed about the corporation's refusal to call Hamas fighters terrorists, were further upset when a John Simpson blog about this editorial decision referred to the Nazis. A recent report by The Times said staff who felt the corporation had been too soft on Israel and was 'dehumanising' Palestinian civilians, had been left crying in the toilets, while freelancers had not turned up to work because of it. This comes as the corporation has been fiercely criticised for its coverage during the crisis. Senior figures in the Jewish community in the UK, including the Chief Rabbi, Ephraim Mirvis have criticised the decision not to call Hamas terrorists. The president of Israel Isaac Herzog even attacked the BBC over this decision. The BBC also admitted that a controversial TV report about the cause of a Gaza hospital explosion had been flawed. In his staff email, Mr Davie paid tribute to its news teams saying 'those on the ground' had faced 'significant pressures' in doing their work.\\n\""
      ]
     },
     "execution_count": 8,
     "metadata": {},
     "output_type": "execute_result"
    }
   ],
   "source": [
    "articles[3]"
   ]
  },
  {
   "cell_type": "code",
   "execution_count": 89,
   "metadata": {
    "colab": {
     "base_uri": "https://localhost:8080/"
    },
    "id": "arYnFdo62_sE",
    "outputId": "0c58aac0-5547-49ec-ebec-68f8494f246c"
   },
   "outputs": [
    {
     "name": "stdout",
     "output_type": "stream",
     "text": [
      "category: human_employee_rights\n",
      "category: human_employee_rights\n",
      "category: human_employee_rights\n",
      "category: diversity_equity_inclusion\n",
      "category: human_employee_rights\n"
     ]
    }
   ],
   "source": [
    "answers=[\"\" for _ in range(len(articles))]\n",
    "for i in range(5):\n",
    "  article =f\"\"\"You are a text classification endpoint, classifying given text into categories:\n",
    "  category: human_employee_rights\n",
    "  category: diversity_equity_inclusion\n",
    "  category: environment\n",
    "  category: animal_care\n",
    "  category: corporate_transparency\n",
    "  category: business_involvement\n",
    "  category: political_and_religious_views\n",
    "\n",
    "  If you are not sure, return category: other.\n",
    "\n",
    "  Texts to classify:\n",
    "\n",
    "  {articles[i]}\n",
    "  \"\"\"\n",
    "  completion = client.chat.completions.create(\n",
    "    model=\"gpt-4o-mini\",\n",
    "    messages=[\n",
    "      # {\"role\": \"user\", \"content\": \"You are a poetic assistant, skilled in explaining complex programming concepts with creative flair.\"},\n",
    "      {\"role\": \"user\", \"content\": article}\n",
    "    ],\n",
    "    logprobs=True,\n",
    "    top_logprobs=5\n",
    "  )\n",
    "\n",
    "  answers[i] = completion.choices[0].message.content\n",
    "  print(answers[i])\n"
   ]
  },
  {
   "cell_type": "code",
   "execution_count": 94,
   "metadata": {
    "colab": {
     "base_uri": "https://localhost:8080/"
    },
    "id": "UrMJzMYc3bqv",
    "outputId": "b9362041-e415-49f0-bb83-e1eedbc01a67"
   },
   "outputs": [
    {
     "data": {
      "text/plain": [
       "[ChatCompletionTokenLogprob(token='category', bytes=[99, 97, 116, 101, 103, 111, 114, 121], logprob=-7.3458323e-06, top_logprobs=[TopLogprob(token='category', bytes=[99, 97, 116, 101, 103, 111, 114, 121], logprob=-7.3458323e-06), TopLogprob(token=' category', bytes=[32, 99, 97, 116, 101, 103, 111, 114, 121], logprob=-12.375008), TopLogprob(token='Category', bytes=[67, 97, 116, 101, 103, 111, 114, 121], logprob=-13.125008), TopLogprob(token='**', bytes=[42, 42], logprob=-15.000008), TopLogprob(token='.category', bytes=[46, 99, 97, 116, 101, 103, 111, 114, 121], logprob=-15.000008)]),\n",
       " ChatCompletionTokenLogprob(token=':', bytes=[58], logprob=0.0, top_logprobs=[TopLogprob(token=':', bytes=[58], logprob=0.0), TopLogprob(token=':h', bytes=[58, 104], logprob=-25.875), TopLogprob(token=':**', bytes=[58, 42, 42], logprob=-26.75), TopLogprob(token='：', bytes=[239, 188, 154], logprob=-27.0), TopLogprob(token='::', bytes=[58, 58], logprob=-27.25)]),\n",
       " ChatCompletionTokenLogprob(token=' human', bytes=[32, 104, 117, 109, 97, 110], logprob=-1.9361265e-07, top_logprobs=[TopLogprob(token=' human', bytes=[32, 104, 117, 109, 97, 110], logprob=-1.9361265e-07), TopLogprob(token='human', bytes=[104, 117, 109, 97, 110], logprob=-16.5), TopLogprob(token=' business', bytes=[32, 98, 117, 115, 105, 110, 101, 115, 115], logprob=-21.125), TopLogprob(token=' Human', bytes=[32, 72, 117, 109, 97, 110], logprob=-21.25), TopLogprob(token=' corporate', bytes=[32, 99, 111, 114, 112, 111, 114, 97, 116, 101], logprob=-21.375)]),\n",
       " ChatCompletionTokenLogprob(token='_employee', bytes=[95, 101, 109, 112, 108, 111, 121, 101, 101], logprob=0.0, top_logprobs=[TopLogprob(token='_employee', bytes=[95, 101, 109, 112, 108, 111, 121, 101, 101], logprob=0.0), TopLogprob(token=' employee', bytes=[32, 101, 109, 112, 108, 111, 121, 101, 101], logprob=-19.375), TopLogprob(token='.employee', bytes=[46, 101, 109, 112, 108, 111, 121, 101, 101], logprob=-19.75), TopLogprob(token='_em', bytes=[95, 101, 109], logprob=-20.5), TopLogprob(token='_emp', bytes=[95, 101, 109, 112], logprob=-20.5)]),\n",
       " ChatCompletionTokenLogprob(token='_right', bytes=[95, 114, 105, 103, 104, 116], logprob=0.0, top_logprobs=[TopLogprob(token='_right', bytes=[95, 114, 105, 103, 104, 116], logprob=0.0), TopLogprob(token='_RIGHT', bytes=[95, 82, 73, 71, 72, 84], logprob=-17.375), TopLogprob(token='.right', bytes=[46, 114, 105, 103, 104, 116], logprob=-18.25), TopLogprob(token='_left', bytes=[95, 108, 101, 102, 116], logprob=-18.375), TopLogprob(token='-right', bytes=[45, 114, 105, 103, 104, 116], logprob=-18.5)]),\n",
       " ChatCompletionTokenLogprob(token='s', bytes=[115], logprob=0.0, top_logprobs=[TopLogprob(token='s', bytes=[115], logprob=0.0), TopLogprob(token='es', bytes=[101, 115], logprob=-20.875), TopLogprob(token='S', bytes=[83], logprob=-22.875), TopLogprob(token='_s', bytes=[95, 115], logprob=-23.0), TopLogprob(token='as', bytes=[97, 115], logprob=-25.125)])]"
      ]
     },
     "execution_count": 94,
     "metadata": {},
     "output_type": "execute_result"
    }
   ],
   "source": [
    "completion.choices[0].logprobs.content"
   ]
  },
  {
   "cell_type": "code",
   "execution_count": 10,
   "metadata": {
    "colab": {
     "base_uri": "https://localhost:8080/"
    },
    "id": "3BHEUM485UAI",
    "outputId": "fdf42d05-4080-4742-bc3a-62ebe944cbe5"
   },
   "outputs": [
    {
     "name": "stdout",
     "output_type": "stream",
     "text": [
      "negative 95\n",
      "Amazon, 95\n",
      "negative 85\n",
      "Starbucks, Workers United, NBC Los Angeles, KUOW, The New York Times, Philadelphia Inquirer, National Labor Relations Board, Placer.ai, 95\n",
      "negative 90\n",
      "Amazon, Release, Tripadvisor  \n",
      "100\n",
      "neutral 85\n",
      "BBC, Hamas, Israel, The Times, John Simpson, Ephraim Mirvis, Isaac Herzog, 95\n",
      "negative, 95\n",
      "Amazon, Peccy  \n",
      "90\n",
      "negative 85\n",
      "BBC, GB News, LBC, Opera Holland Park, NCTJ, MailOnline, Radio 5 Live, The Conversation, JDF, Threads, Twitter, X 100\n",
      "negative 90\n",
      "BBC, The Sunday Telegraph, Reform UK, Free Speech Union, Michelle Obama, Amal Clooney 95\n",
      "negative 90\n",
      "Aviva, BP, CBI, AXA, Zurich, Commercial Union, Ernst & Young, Groupama, Towergate, Crispin Odey, Financial Conduct Authority, Baroness Morrissey, Amanda Blanc, Tesla, Peloton, Zwift - 95\n",
      "negative 85\n",
      "BP, British Museum, Greenpeace, National Portrait Gallery, Tate, Culture Unstained, Greenpeace UK 100\n",
      "positive 95\n",
      "Carbonfuture, Microsoft, Exomad Green, Exomad Green Concepción 95\n",
      "negative 95\n",
      "Unilever, Competition and Markets Authority, AJ Bell 85\n",
      "neutral 85\n",
      "Amazon, Walmart, One Medical, Pawp, Chewy 95\n",
      "negative 95\n",
      "Tesco, Food Standards Agency, The Independent 90\n",
      "neutral 85\n",
      "Amazon, Whole Foods Market, Amazon Fresh 98\n",
      "negative 85\n",
      "Loblaws, Walmart Canada, Metro, Empire Foods, Sobeys 95\n",
      "negative 95\n",
      "ALDI, Daily Mail Australia, ABC, Townsville Food Pantry, Aldi Food Partner, Townsville\n",
      "positive 95\n",
      "Marks & Spencer, 2 Sisters Food Group, 95\n",
      "negative 95\n",
      "United Airlines, ABC News, Good Morning America, United, US Department of Transportation, Airline Passengers with Disabilities Bill of Rights, Air Carrier Access Act 100\n",
      "negative 95\n",
      "Trafigura, Petrobras, Gunvor 100\n",
      "negative 95\n",
      "PPE Medpro, Ultimo, Excalibur Healthcare Services, DHSC, National Crime Agency, Debenhams, Isle of Man, Hong Kong, Michael Gove, Theodore Agnew, Lord David Cameron, Matt Hancock, Lord Bethell, Lord Agnew, Doug Barrowman, Baroness Michelle Mone, Mark Williams-Thomas, Jimmy Saville, \n",
      "\n",
      "85\n",
      "negative 95\n",
      "Air France, Lufthansa, Etihad 95\n",
      "negative 95\n",
      "X, IBM, Disney, Warner Bros. Discovery, Tesla, Apple, Sony, Comcast, Paramount, Authentic, D.A. Davidson & Co, AJL Advisory, Ebiquity, Abydos Media, Mercer Island Group - 95\n",
      "negative 85\n",
      "HSBC, Standard Chartered, Societe Generale, ABN AMRO, CDP, World Resources Institute, World Wide Fund for Nature, United Nations Global Compact 95\n",
      "negative 95\n",
      "Solaris Resources Inc., China International Capital Corporation Limited, Lowell Mineral Exploration, MiningWatch Canada, Public Services International, ILO 100\n",
      "positive 98\n",
      "Aldi, Aldi UK, Aldi, Aldi\n",
      "neutral 75\n",
      "Airbnb,Nasdaq 98\n",
      "neutral 85\n",
      "General Motors, Buick, GMC 95\n",
      "neutral 85\n",
      "Microsoft Corp, 95\n",
      "neutral 85\n",
      "Micron Technology Inc, Yangtze Memory Technologies Co Ltd, Samsung Electronics, Wedbush Securities, Thomson Reuters Trust Principles 98\n",
      "neutral 85\n",
      "TSMC, EU, Saxony, Germany, European Commission, Arizona, Japan 85\n",
      "neutral 85\n",
      "TikTok, ByteDance, CNBC, Reuters, CFIUS, Wall Street Journal, U.S. Treasury Department, Future Publishing, Getty Images, 95\n",
      "positive 95\n",
      "Aramco, Exxon, BP, Shell, Chevron 85\n",
      "negative 85\n",
      "BBC, Voices4London, Conservative Party, Campaign Against Antisemitism, Years and Years, Elton John, The BRIT Awards, O2 Arena, Bucks Fizz, Brotherhood Of Man, Lulu, Sandie Shaw, MailOnline - 95\n",
      "negative 95\n",
      "Adidas,Nike,Forbes,Parler 95\n",
      "negative 95\n",
      "Walmart, X, Tesla, Apple, IBM, Paramount, Disney, Airbnb, Amazon, Coca-Cola, Microsoft, Uber, Netflix, Google, Bob Iger, Elon Musk, Linda Yaccarino, George Soros, Anti-Defamation League - 95\n",
      "negative 85\n",
      "BBC, The Times, Campaign Against Antisemitism, Fulwell 73, Tim Davie, FOX News Digital 95\n",
      "neutral 85\n",
      "Tajikistan Football Federation, Russian football federation, Cafa, AFC, Uefa, Copa América, Alexander Dyukov, Google, Guardian 85\n",
      "neutral 85\n",
      "Google, Google  \n",
      "90\n",
      "negative 95\n",
      "Food & Water Watch, NAACP Legal Defense Fund, Great Lakes Water Authority, Tampa Bay, Detroit\n",
      "negative 95\n",
      "Cruise, General Motors, Quinn Emanuel 100\n",
      "negative 85\n",
      "BP, Investec, AJ Bell, Deepwater Horizon, Helge Lund, Bernard Looney, Tony Hayward, Lord Browne, Murray Auchincloss, Laura Lambie, Danni Hewson, 95\n",
      "negative 95\n",
      "Royal Borough of Greenwich, The Telegraph, Brighton and Hove City Council, Sadiq Khan, ULEZ, Hackney, Kensington & Chelsea, Lambeth, Greater London, MailOnline 85\n",
      "negative 85\n",
      "Airbnb, Google, Apple 85\n",
      "negative 90\n",
      "Google, Epic Games, Apple, Samsung 95\n",
      "neutral 85\n",
      "Visa, Mastercard 95\n",
      "neutral 85\n",
      "Volkswagen, VW 95\n",
      "neutral 85\n",
      "Ford, Tesla 95\n",
      "positive 95\n",
      "Apple, The Wall Street Journal, 95\n",
      "positive, 95\n",
      "Netflix, JPMorgan 95\n",
      "negative, 95\n",
      "no company\n",
      "neutral 85\n",
      "Microsoft, American Federation of Labor and Congress of Industrial Organizations, Amazon, MIT, IBM, CNBC  \n",
      "95\n",
      "negative 95\n",
      "Wells Fargo, CNBC, Consumer Financial Protection Bureau, Winston & Strawn 100\n",
      "negative 85\n",
      "British Airways, Ozwald Boateng, British Airlines Stewards and Stewardesses Association, 95\n",
      "positive 85\n",
      "Toyota, TfL 90\n",
      "negative 95\n",
      "McDonald's, SafeWork SA, SDA, McDonald's Australia, Maccas, The Advertiser, David Jones, Shop, Distributive and Allied Employees Association, Josh Peak, McDonald's Australia 95\n",
      "negative 85\n",
      "BP, Maersk, MSC, CMA CGM, Hapag-Lloyd, Evergreen, 95\n",
      "negative 85\n",
      "BBC, Sun, MailOnline 90\n",
      "negative 95\n",
      "McDonald’s, KFC, Wendy’s, Burger King, Anheuser-Busch, 95\n",
      "negative 90\n",
      "BBC, ITV 95\n",
      "negative 95\n",
      "no company\n",
      "positive 95\n",
      "KKR, Zenobē, Smart Metering Systems (SMS)  \n",
      "95\n",
      "neutral 85\n",
      "Starbucks, Workers United, National Labor Relations Board 95\n",
      "neutral 85\n",
      "Tesla, Wiferion, WiTricity, 95\n",
      "neutral 85\n",
      "no company\n",
      "positive 95\n",
      "DHL Group,DHL Supply Chain 90\n",
      "neutral 85\n",
      "Lyft, 95\n",
      "positive 85\n",
      "Airbus, Indigo, Boeing   95\n",
      "neutral 85\n",
      "Nvidia Corp, Reuters, Thomson Reuters Trust Principles 95\n",
      "neutral 85\n",
      "no company\n",
      "positive 95\n",
      "Amazon, Nvidia, Microsoft, OpenAI, Databricks, Anthropic, Intel, AMD, AWS - 95\n",
      "neutral 85\n",
      "Amazon, Anthropic, OpenAI 85\n",
      "neutral 75\n",
      "American Airlines, Graphyte, Breakthrough Energy Ventures, 95\n",
      "negative 90\n",
      "S&P Global Ratings, Swiss Re, S&P Global, 95\n",
      "neutral 85\n",
      "iRobot, Amazon, Target 99\n",
      "positive 95\n",
      "Deloitte, IBM, Envizi, IBM Envizi, IBM Maximo Application Suite, IBM TRIRIGA Application Suite, IBM Turbonomic, IBM Planning Analytics solution 95\n",
      "positive 85\n",
      "Coinbase Global Inc., Binance - 100\n",
      "positive 85\n",
      "Nissan, 95\n",
      "positive 95\n",
      "Netflix, Union Carbide, 95\n",
      "positive 85\n",
      "Nissan, 95\n",
      "negative 85\n",
      "Minnesota Wild, Colorado Avalanche, NHL, Veronique, Wild, 95\n",
      "negative 90\n",
      "BBC, Al Jazeera, Hamas, Israel, Danny Cohen, Isaac Herzog 95\n",
      "negative 90\n",
      "Spotify, Apple Music, Amazon Music, eToro 95\n",
      "negative 95\n",
      "American Airlines, U.S. airlines, Department of Transportation, TikTok, Kreepa 95\n",
      "negative 90\n",
      "no company\n",
      "neutral 85\n",
      "no company\n",
      "negative 95\n",
      "BBC, National Congress of Brazil, Israeli police 95\n",
      "positive 85\n",
      "Amazon, Blue Origin 95\n",
      "neutral 85\n",
      "Realme, Xiaomi, Samsung, Dell, HP, Lenovo, Acer, Asus 100\n",
      "positive, 95\n",
      "Compass Group, 95\n",
      "positive 85\n",
      "MasterCard, Feedzai 95\n",
      "negative 85\n",
      "BBC, Telegraph, UN, Conservative  \n",
      "100\n",
      "positive 85\n",
      "Apple, 95\n",
      "negative 85\n",
      "Amazon, Business Insider, CNBC 100\n",
      "negative 95\n",
      "no company\n",
      "neutral 85\n",
      "Starbucks, BBC News 95\n",
      "neutral 85\n",
      "Toyota, General Motors, Chevrolet 95\n",
      "positive 85\n",
      "Siemens, 95\n",
      "negative 85\n",
      "no company\n",
      "negative 85\n",
      "Amazon, CBS MoneyWatch  \n",
      "90\n",
      "positive, 95\n",
      "Scania,SSAB,HYBRIT,Vattenfall,LKAB 95\n"
     ]
    }
   ],
   "source": [
    "sentiment=[\"\" for _ in range(len(articles))]\n",
    "company=[\"\" for _ in range(len(articles))]\n",
    "\n",
    "for i in range(len(articles)):\n",
    "  article =f\"\"\"You are a sentiment classification endpoint, classifying given text into: positive, neutral, negative.\n",
    "  Please add in how many percent you are sure of the answer - provide only number.\n",
    "  Return only the name of the category and the number of percent.\n",
    "\n",
    "  Texts to classify:\n",
    "\n",
    "  {articles[i]}\n",
    "  \"\"\"\n",
    "  completion = client.chat.completions.create(\n",
    "    model=\"gpt-4o-mini\",\n",
    "    messages=[\n",
    "      # {\"role\": \"user\", \"content\": \"You are a poetic assistant, skilled in explaining complex programming concepts with creative flair.\"},\n",
    "      {\"role\": \"user\", \"content\": article}\n",
    "    ]\n",
    "  )\n",
    "\n",
    "  sentiment[i] = completion.choices[0].message.content\n",
    "  print(sentiment[i])\n",
    "\n",
    "  article =f\"\"\"You are a NER endpoint, finding names of the companies occuring in the article.\n",
    "  Return only those names. If there are more than one companies, separate each name with ','.\n",
    "  Please add in how many percent you are sure of the answer - provide only number.\n",
    "  If there will be no company in the article, return 'no company'.\n",
    "\n",
    "  Text:\n",
    "\n",
    "  {articles[i]}\n",
    "  \"\"\"\n",
    "  completion = client.chat.completions.create(\n",
    "    model=\"gpt-4o-mini\",\n",
    "    messages=[\n",
    "      # {\"role\": \"user\", \"content\": \"You are a poetic assistant, skilled in explaining complex programming concepts with creative flair.\"},\n",
    "      {\"role\": \"user\", \"content\": article}\n",
    "    ]\n",
    "  )\n",
    "\n",
    "  company[i] = completion.choices[0].message.content\n",
    "  print(company[i])"
   ]
  },
  {
   "cell_type": "code",
   "execution_count": 14,
   "metadata": {
    "colab": {
     "base_uri": "https://localhost:8080/",
     "height": 36
    },
    "id": "LjJ1iSiEijZu",
    "outputId": "69c79332-c476-452b-e58f-2ca6ce8feab8"
   },
   "outputs": [
    {
     "data": {
      "application/vnd.google.colaboratory.intrinsic+json": {
       "type": "string"
      },
      "text/plain": [
       "' 95'"
      ]
     },
     "execution_count": 14,
     "metadata": {},
     "output_type": "execute_result"
    }
   ],
   "source": [
    "answers[0][-3:]"
   ]
  },
  {
   "cell_type": "code",
   "execution_count": 18,
   "metadata": {
    "id": "h0ms0SiQ31HV"
   },
   "outputs": [],
   "source": [
    "import pandas as pd\n",
    "df = pd.DataFrame(columns=['Article', 'Category'])\n",
    "df['Article'] = articles\n",
    "df['Category'] = list(map(lambda st: str.replace(st[:-3], \"category: \", \"\"), answers))\n",
    "df['Certainity_category'] = list(map(lambda st: st[-3:], answers))\n",
    "df['Sentiment'] = list(map(lambda st: st[:-3], sentiment))\n",
    "df['Certainity_sentiment'] = list(map(lambda st: st[-3:], sentiment))\n",
    "df['Company'] = list(map(lambda st: st[:-3], company))\n",
    "df['Certainity_company'] = list(map(lambda st: st[-3:], company))\n",
    "df.to_csv(\"results_4o_mini_2.csv\", index=False, sep=';')\n",
    "# res = list(map(lambda st: str.replace(st, \"4\", \"1\"), test_list))"
   ]
  },
  {
   "cell_type": "code",
   "execution_count": 85,
   "metadata": {
    "colab": {
     "base_uri": "https://localhost:8080/"
    },
    "id": "rCWmTw5W4KE_",
    "outputId": "e09ecbe8-0f56-462f-c1b7-1648ae81dbc5"
   },
   "outputs": [
    {
     "name": "stdout",
     "output_type": "stream",
     "text": [
      "category: human_employee_rights\n",
      "category: business_involvement\n",
      "category: human_employee_rights\n",
      "category: human_employee_rights\n",
      "category: human_employee_rights\n",
      "category: diversity_equity_inclusion\n",
      "category: diversity_equity_inclusion\n",
      "category: diversity_equity_inclusion\n",
      "category: environment\n",
      "category: environment\n",
      "category: corporate_transparency\n",
      "category: animal_care\n",
      "category: environment\n",
      "category: business_involvement\n",
      "category: business_involvement\n",
      "category: human_employee_rights\n",
      "category: human_employee_rights\n",
      "category: human_employee_rights\n",
      "category: corporate_transparency\n",
      "category: corporate_transparency\n",
      "category: environment\n",
      "Category: corporate_transparency\n",
      "category: environment\n",
      "category: environment\n",
      "category: human_employee_rights\n",
      "category: corporate_transparency\n",
      "category: business_involvement\n",
      "category: corporate_transparency\n",
      "category: corporate_transparency\n",
      "category: business_involvement\n",
      "category: political_and_religious_views\n",
      "category: business_involvement\n",
      "category: political_and_religious_views\n",
      "category: human_employee_rights\n",
      "category: corporate_transparency\n",
      "category: corporate_transparency\n",
      "category: political_and_religious_views\n",
      "category: political_and_religious_views\n",
      "category: environment\n",
      "category: corporate_transparency\n",
      "category: corporate_transparency\n",
      "category: environment\n",
      "category: corporate_transparency\n",
      "category: corporate_transparency\n",
      "category: business_involvement\n",
      "category: business_involvement\n",
      "category: business_involvement\n",
      "category: corporate_transparency\n",
      "category: corporate_transparency\n",
      "category: human_employee_rights\n",
      "category: human_employee_rights\n",
      "category: corporate_transparency\n",
      "category: human_employee_rights\n",
      "category: environment\n",
      "category: human_employee_rights\n",
      "category: business_involvement\n",
      "Category: human_employee_rights\n",
      "Category: human_employee_rights\n",
      "category: corporate_transparency\n",
      "category: corporate_transparency\n",
      "category: environment\n",
      "category: human_employee_rights\n",
      "category: environment\n",
      "category: environment\n",
      "category: environment\n",
      "category: human_employee_rights\n",
      "category: business_involvement\n",
      "category: corporate_transparency\n",
      "category: human_employee_rights\n",
      "category: business_involvement\n",
      "category: business_involvement\n",
      "category: environment\n",
      "category: environment\n",
      "category: business_involvement\n",
      "category: environment\n",
      "category: corporate_transparency\n",
      "category: business_involvement\n",
      "category: environment\n",
      "category: environment\n",
      "category: diversity_equity_inclusion\n",
      "category: human_employee_rights\n",
      "category: business_involvement\n",
      "category: human_employee_rights\n",
      "category: environment\n",
      "category: human_employee_rights\n",
      "category: diversity_equity_inclusion\n",
      "category: business_involvement\n",
      "category: business_involvement\n",
      "category: business_involvement\n",
      "category: corporate_transparency\n",
      "category: environment\n",
      "category: other\n",
      "category: human_employee_rights\n",
      "category: other\n",
      "Category: human_employee_rights\n",
      "category: environment\n",
      "category: business_involvement\n",
      "Category: corporate_transparency\n",
      "category: business_involvement\n",
      "category: environment\n"
     ]
    }
   ],
   "source": [
    "answers_35=[\"\" for _ in range(len(articles))]\n",
    "sentiment_35=[\"\" for _ in range(len(articles))]\n",
    "company_35=[\"\" for _ in range(len(articles))]\n",
    "for i in range(len(articles)):\n",
    "  article =f\"\"\"You are a text classification endpoint, classifying given text into categories:\n",
    "  category: human_employee_rights\n",
    "  category: diversity_equity_inclusion\n",
    "  category: environment\n",
    "  category: animal_care\n",
    "  category: corporate_transparency\n",
    "  category: business_involvement\n",
    "  category: political_and_religious_views\n",
    "  If you are not sure, return category: other.\n",
    "\n",
    "  Texts to classify:\n",
    "\n",
    "  {articles[i]}\n",
    "  \"\"\"\n",
    "  completion = client.chat.completions.create(\n",
    "    model=\"gpt-3.5-turbo\",\n",
    "    messages=[\n",
    "      # {\"role\": \"user\", \"content\": \"You are a poetic assistant, skilled in explaining complex programming concepts with creative flair.\"},\n",
    "      {\"role\": \"user\", \"content\": article}\n",
    "    ],\n",
    "    logprobs=True\n",
    "  )\n",
    "\n",
    "  answers_35[i] = completion.choices[0].message.content\n",
    "  print(answers_35[i])\n",
    "\n",
    "  # article =f\"\"\"You are a sentiment classification endpoint, classifying given text into: positive, neutral, negative.\n",
    "  # Please add in how many percent you are sure of the answer - provide only number.\n",
    "  # Return only the name of one category and the number of percent for only one category.\n",
    "\n",
    "  # Texts to classify:\n",
    "\n",
    "  # {articles[i]}\n",
    "  # \"\"\"\n",
    "  # completion = client.chat.completions.create(\n",
    "  #   model=\"gpt-3.5-turbo\",\n",
    "  #   messages=[\n",
    "  #     # {\"role\": \"user\", \"content\": \"You are a poetic assistant, skilled in explaining complex programming concepts with creative flair.\"},\n",
    "  #     {\"role\": \"user\", \"content\": article}\n",
    "  #   ]\n",
    "  # )\n",
    "\n",
    "  # sentiment_35[i] = completion.choices[0].message.content\n",
    "  # print(sentiment_35[i])\n",
    "\n",
    "  # article =f\"\"\"You are a NER endpoint, finding names of the companies occuring in the article.\n",
    "  # Return only those names. If there are more than one companies, separate each name with ','.\n",
    "  # If there will be no company in the article, return 'no company'.\n",
    "\n",
    "  # Text:\n",
    "\n",
    "  # {articles[i]}\n",
    "  # \"\"\"\n",
    "  # completion = client.chat.completions.create(\n",
    "  #   model=\"gpt-3.5-turbo\",\n",
    "  #   messages=[\n",
    "  #     # {\"role\": \"user\", \"content\": \"You are a poetic assistant, skilled in explaining complex programming concepts with creative flair.\"},\n",
    "  #     {\"role\": \"user\", \"content\": article}\n",
    "  #   ],\n",
    "  #   logprobs=True\n",
    "  # )\n",
    "\n",
    "  # company_35[i] = completion.choices[0].message.content\n",
    "  # print(company_35[i])\n",
    "\n"
   ]
  },
  {
   "cell_type": "code",
   "execution_count": 86,
   "metadata": {
    "colab": {
     "base_uri": "https://localhost:8080/"
    },
    "id": "aqiE5kqW1NKs",
    "outputId": "b0df7916-b79e-4725-a841-30229a122661"
   },
   "outputs": [
    {
     "name": "stdout",
     "output_type": "stream",
     "text": [
      "ChoiceLogprobs(content=[ChatCompletionTokenLogprob(token='category', bytes=[99, 97, 116, 101, 103, 111, 114, 121], logprob=-0.0032267908, top_logprobs=[]), ChatCompletionTokenLogprob(token=':', bytes=[58], logprob=0.0, top_logprobs=[]), ChatCompletionTokenLogprob(token=' environment', bytes=[32, 101, 110, 118, 105, 114, 111, 110, 109, 101, 110, 116], logprob=-8.3278566e-05, top_logprobs=[])])\n"
     ]
    }
   ],
   "source": [
    "#logprobs\n",
    "print(completion.choices[0].logprobs)"
   ]
  },
  {
   "cell_type": "code",
   "execution_count": 21,
   "metadata": {
    "id": "cLm1MnGI_kxP"
   },
   "outputs": [],
   "source": [
    "# # import pandas as pd\n",
    "# df_35 = pd.DataFrame(columns=['Article', 'Category', 'Sentiment', 'Company'])\n",
    "# df_35['Article'] = articles\n",
    "# df_35['Category'] = list(map(lambda st: str.replace(st, \"category: \", \"\"), answers_35))\n",
    "# # df_35=pd.read_csv(\"results_4o_mini.csv\")\n",
    "# df_35['Sentiment'] = sentiment_35\n",
    "# df_35['Company'] = company_35\n",
    "# df_35.to_csv(\"results_35_turbo_bad_with_prob.csv\", index=False, sep=';')"
   ]
  },
  {
   "cell_type": "code",
   "execution_count": 45,
   "metadata": {
    "colab": {
     "base_uri": "https://localhost:8080/"
    },
    "id": "l3GMuk_gkY39",
    "outputId": "f96fc3af-f064-479a-be51-46c8db085f49"
   },
   "outputs": [
    {
     "data": {
      "text/plain": [
       "['human_employee_rights: 95',\n",
       " 'category: human_employee_rights 90%',\n",
       " 'category: human_employee_rights\\n90%',\n",
       " 'category: human_employee_rights\\npercent: 95%',\n",
       " 'category: human_employee_rights \\n80%',\n",
       " 'category: diversity_equity_inclusion\\n80',\n",
       " 'category: diversity_equity_inclusion\\npercentage: 100',\n",
       " 'category: diversity_equity_inclusion\\n100',\n",
       " 'category: environment\\npercent: 95',\n",
       " 'category: environment\\n95',\n",
       " 'category: environment\\n85',\n",
       " 'category: animal_care\\n87%',\n",
       " 'category: animal_care\\n95%',\n",
       " 'category: business_involvement\\npercentage: 80%',\n",
       " 'category: business_involvement\\npercent: 90',\n",
       " 'category: human_employee_rights\\nconfidence: 95%',\n",
       " 'category: human_employee_rights\\n90%',\n",
       " 'category: human_employee_rights\\n100',\n",
       " 'category: corporate_transparency\\npercent: 95',\n",
       " 'category: corporate_transparency\\n95',\n",
       " 'category: environment\\n95',\n",
       " 'category: corporate_transparency\\npercentage: 95',\n",
       " 'category: environment\\n90',\n",
       " 'category: environment\\nconfidence: 95',\n",
       " 'category: human_employee_rights\\npercent: 0\\n\\ncategory: diversity_equity_inclusion\\npercent: 0\\n\\ncategory: environment\\npercent: 0\\n\\ncategory: animal_care\\npercent: 0\\n\\ncategory: corporate_transparency\\npercent: 0\\n\\ncategory: business_involvement\\npercent: 0\\n\\ncategory: political_and_religious_views\\npercent: 0',\n",
       " 'category: environment\\n90',\n",
       " 'category: business_involvement \\n80%',\n",
       " 'category: corporate_transparency\\npercentage: 90%',\n",
       " 'category: business_involvement \\nconfidence: 80',\n",
       " 'category: business_involvement\\npercent: 90',\n",
       " 'category: political_and_religious_views\\npercent: 90',\n",
       " 'category: environment\\npercentage: 90',\n",
       " 'category: political_and_religious_views\\n85',\n",
       " 'category: human_employee_rights\\n97',\n",
       " 'category: corporate_transparency\\n99',\n",
       " 'category: human_employee_rights\\npercent: 100',\n",
       " 'category: other',\n",
       " 'category: business_involvement \\npercentage: 85%',\n",
       " 'category: environment\\nconfidence: 90',\n",
       " 'category: human_employee_rights\\npercentage: 95%',\n",
       " 'category: corporate_transparency\\nconfidence: 90',\n",
       " 'category: environment\\n90',\n",
       " 'category: corporate_transparency\\n95',\n",
       " 'category: corporate_transparency\\n80',\n",
       " 'category: corporate_transparency\\n100',\n",
       " 'category: business_involvement\\npercent: 90%',\n",
       " 'category: business_involvement\\nconfidence: 90%',\n",
       " 'category: corporate_transparency\\n95%',\n",
       " 'category: corporate_transparency 95',\n",
       " 'category: human_employee_rights\\n80',\n",
       " 'category: human_employee_rights\\n94%',\n",
       " 'category: human_employee_rights\\npercent: 95',\n",
       " 'category: human_employee_rights\\npercent: 95%',\n",
       " 'category: environment\\nconfidence: 80%',\n",
       " 'category: environment\\n70%',\n",
       " 'category: environment\\n80',\n",
       " 'category: human_employee_rights\\n99%',\n",
       " 'category: human_employee_rights\\n95%',\n",
       " 'category: corporate_transparency\\npercent: 85',\n",
       " 'category: corporate_transparency\\n97',\n",
       " 'category: environment\\npercent: 90',\n",
       " 'category: human_employee_rights\\npercent: 95',\n",
       " 'category: environment\\npercent: 90%',\n",
       " 'category: environment\\n75',\n",
       " 'category: environment\\n95%',\n",
       " 'category: human_employee_rights\\n95%',\n",
       " 'category: business_involvement\\npercentage: 90',\n",
       " 'category: business_involvement\\nconfidence: 90%',\n",
       " 'category: other',\n",
       " 'category: business_involvement\\n94%',\n",
       " 'category: business_involvement\\nconfidence: 90%',\n",
       " 'category: environment\\n80',\n",
       " 'category: environment\\nconfidence: 95%',\n",
       " 'category: business_involvement\\npercent: 100',\n",
       " 'category: environment\\npercentage: 95%',\n",
       " 'category: corporate_transparency\\npercent: 90',\n",
       " 'category: business_involvement\\n50',\n",
       " 'category: human_employee_rights\\n90',\n",
       " 'category: environment 90%',\n",
       " 'category: diversity_equity_inclusion\\npercent: 95',\n",
       " 'category: political_and_religious_views\\nPercent: 95',\n",
       " 'category: business_involvement\\npercent: 95',\n",
       " 'category: human_employee_rights\\n100',\n",
       " 'category: environment\\n95',\n",
       " 'category: human_employee_rights\\nconfidence: 95%',\n",
       " 'category: diversity_equity_inclusion\\npercentage: 100',\n",
       " 'category: business_involvement\\n85',\n",
       " 'category: business_involvement\\nconfidence: 90%',\n",
       " 'category: business_involvement\\n95',\n",
       " 'category: corporate_transparency\\n80 percent',\n",
       " 'category: environment\\n92',\n",
       " 'category: other',\n",
       " 'category: human_employee_rights\\nconfidence: 90%',\n",
       " 'category: political_and_religious_views\\npercent: 95',\n",
       " 'category: human_employee_rights\\nconfidence: 90%',\n",
       " 'category: environment\\nconfidence: 95%',\n",
       " 'category: business_involvement\\n90%',\n",
       " 'category: environment\\n90%',\n",
       " 'category: corporate_transparency\\n85',\n",
       " 'category: environment\\n60']"
      ]
     },
     "execution_count": 45,
     "metadata": {},
     "output_type": "execute_result"
    }
   ],
   "source": [
    "answers_35"
   ]
  },
  {
   "cell_type": "code",
   "execution_count": 81,
   "metadata": {
    "colab": {
     "base_uri": "https://localhost:8080/"
    },
    "id": "HQfYyZYZAJ7Z",
    "outputId": "96a7405c-5818-4953-e025-2547052eab29"
   },
   "outputs": [
    {
     "name": "stdout",
     "output_type": "stream",
     "text": [
      "[100, 70, 95, 6, 95, 100, 100, 95, 100, 80, 95, 95, 85, 80, 100, 2, 95, 85, 80, 95, 80, 90, 100, 70, 100, 100, 90, 100, 90, 100, 70, 4, 80, 70, 80, 73, 71, 90, 100, 95, 90, 100, 100, 90, 100, 90, 90, 75, 100, 90, 80, 100, 100, 95, 100, 100, 102, 90, 95, 100, 95, 90, 100, 100, 100, 100, 90, 100, 95, 95, 90, 95, 100, 38, 100, 100, 90, 80, 80, 80, 100, 100, 100, 92, 80, 100, 96, 100, 100, 100, 0, 95, 80]\n",
      "['Amazon, Amazon', 'Starbucks ', 'Amazon', 'BBC no company', 'Amazon  ', 'BBC, GB News, Threads, LBC, Opera Holland Park, NCTJ ', 'BBC, Freedom of Information, The Sunday Telegraph, Conservative MP Gareth Johnson, The Mail, Sir John Hayes, South Holland and The Deepings, Israel/Hamas, Rupert Lowe, Reform UK, Toby Young, Free Speech Union, Michelle Obama, Amal Clooney, Rukshana Kapali, Nepaleseborn Kapali', 'Aviva ', 'BP, The British Museum  ', 'Carbonfuture, Microsoft, Exomad Green ', \"Unilever, Dove, Magnum, Lynx, Hellmann's, Lux, FTSE\", 'Amazon, Walmart ', 'Tesco', 'Amazon, Whole Foods, CNBC PRO', \"Loblaws, Walmart, Metro, Empire Foods, Sobey's, Canadian Federation of Independent Grocers, Food, Health & Consumer Products of Canada\", 'ALDI  of confidence', 'Marks & Spencer,', 'United Airlines ', 'Trafigura, Petrobras, Gunvor', 'PPE Medpro ', 'Air France, Lufthansa, Etihad', 'Twitter, IBM, Disney, Warner Bros. Discovery, Apple, Sony, Comcast, Paramount  ', 'HSBC, Standard Chartered, Societe Generale, ABM AMRO ', 'Solaris Resources Inc, China International Capital Corporation Limited (CICC), Lowell Mineral Exploration', 'Aldi ', 'Airbnb ', 'General Motors,Buick,GM ', 'Microsoft Corp  ', 'Micron Technology Inc, Yangtze Memory Technologies Co Ltd, Samsung Electronics ', 'TSMC', 'TikTok, ByteDance confidence level', 'Aramco, BP, Shell, Chevron', 'BBC, Voices', 'Adidas, Nike', 'Walmart, Twitter, Apple, IBM, Paramount, Disney, Airbnb, Amazon, CocaCola, Microsoft, Netflix, Google', 'Fulwell', 'Russian Football Federation, Central Asian Football Association (Cafa) ', 'Google ', 'no company,', 'Cruise, General Motors', 'BP ', 'Royal Borough of Greenwich, Mayor of London Sadiq Khan, House of Commons transport committee, Greg Smith, The Telegraph, Tory leader of opposition at Greenwich council Matt Hartley, Hackney, Kensington & Chelsea, Lambeth, Brighton and Hove City Council, MailOnline ', 'Airbnb, Google, Apple', 'Google, Epic Games, Apple, Department of Justice ', 'Visa, Mastercard', 'Volkswagen China  Sureness of answer', 'Ford, Automotive News', 'Apple ', 'Netflix', 'no company', 'Microsoft, American Federation of Labor and Congress of Industrial Organizations, Amazon, MIT, IBM', 'Wells Fargo  of sureness', 'British Airways ', 'Toyota', \"McDonald's \", 'BP, Maersk, MSC, CMA CGM, HapagLloyd, Evergreen ', 'BBC', 'McDonald’s, KFC, Wendy’s, Burger King, AnheuserBusch', 'BBC', 'Air Force, Discord, Massachusetts Air National Guard,', 'KKR, Zenobē, Smart Metering Systems ', 'Starbucks ', 'Tesla ', 'no company', 'DHL Group,DHL Supply Chain', 'Lyft ', 'Airbus, Indigo, Air India, Boeing, IndiGo ', 'Nvidia Corp. ', 'no company ', 'Amazon, Nvidia, Microsoft, Databricks, Anthropic, OpenAI, Intel, AMD, Arm, Deepwater', 'Amazon, Anthropic, OpenAI, no company with', 'American Airlines, Graphyte', 'S&P Global', 'iRobot, Amazon ', 'Deloitte, IBM', 'Coinbase Global Inc, Binance, no company ', 'Nissan', 'Union Carbide', 'Nissan', \"Minnesota Wild, NHL, Colorado Avalanche, Abenaki, Mi'kmaq \", 'BBC (', 'Spotify, Apple Music, Amazon Music ', 'American Airlines Department of Transformation no company', 'no company,', 'University of Arizona no company', 'BBC ', 'Amazon ', 'Realme, Xiaomi, Samsung, Dell, HP, Lenovo, Acer, Asus ', 'Compass Group', 'MasterCard, Feedzai', 'BBC', 'Apple ', 'Amazon.Com Inc', 'Media Matters ', 'Starbucks ', 'Toyota, General Motors', 'Siemens  ', 'no company,', 'Amazon  ', 'Scania,SSAB']\n"
     ]
    }
   ],
   "source": [
    "import re\n",
    "confidence_company = []\n",
    "companies_35_names=[]\n",
    "for entry in company_35:\n",
    "    confidence_company.extend(re.findall(r'\\d+', entry))\n",
    "    match_35=re.search(r'\\d', entry)\n",
    "    if match_35:\n",
    "      potential_name=entry[:match_35.start()].strip().replace('Percentage of certainty', '').replace(':', '').replace('Percentage', '').replace('percentage', '').replace('Confidence level', '').replace('-', '').replace('Companies ', '').replace('\\n', ' ').replace('Sureness level', '').replace('I am', '').replace('Accuracy level', '').replace('Accuracy ', '').replace('Surety', '')\n",
    "      companies_35_names.append(potential_name)\n",
    "    else:\n",
    "      potential_name=entry.strip().replace('Percentage of certainty', '').replace(':', '').replace('Percentage', '').replace('percentage', '').replace('Confidence level', '').replace('-', '').replace('Companies', '').replace('\\n ', ' ').replace('Sureness level', '').replace('I am', '').replace('Accuracy level', '').replace('Accuracy:', '').replace('Surety', '')\n",
    "      companies_35_names.append(potential_name)\n",
    "\n",
    "# Convert to integers\n",
    "confidence_company = list(map(int, confidence_company))\n",
    "print(confidence_company)\n",
    "print(companies_35_names)"
   ]
  },
  {
   "cell_type": "code",
   "execution_count": 70,
   "metadata": {
    "colab": {
     "base_uri": "https://localhost:8080/"
    },
    "id": "0czebs6Dsn3X",
    "outputId": "7084401d-b871-4538-90d7-8eddce040466"
   },
   "outputs": [
    {
     "name": "stdout",
     "output_type": "stream",
     "text": [
      "[95, 90, 90, 80, 95, 95, 98, 100, 95, 85, 95, 95, 85, 87, 60, 86, 90, 95, 95, 95, 95, 90, 95, 95, 75, 98, 95, 85, 95, 90, 80, 62, 95, 90, 87, 80, 85, 70, 90, 95, 95, 95, 90, 87, 90, 80, 73, 50, 78, 95, 76, 80, 90, 70, 95, 80, 90, 95, 95, 95, 95, 95, 90, 85, 95, 95, 70, 90, 60, 70, 90, 95, 90, 70, 95, 91, 90, 80, 85, 80, 95, 70, 95, 80, 90, 75, 85, 90, 78, 70, 90, 70, 95, 95, 95, 90, 80, 95, 50, 90]\n",
      "['human_employee_rights ', 'human_employee_rights ', 'human_employee_rights ', 'diversity_equity_inclusion ', 'human_employee_rights', 'diversity_equity_inclusion', 'diversity_equity_inclusion', 'diversity_equity_inclusion ', 'environment ', 'environment', 'environment ', 'animal_care', 'animal_care ', 'business_involvement', 'environment ', 'human_employee_rights ', 'human_employee_rights ', 'human_employee_rights ', 'corporate_transparency ', 'corporate_transparency ', 'environment ', 'corporate_transparency ', 'environment', 'environment ', 'human_employee_rights ', 'environment', 'business_involvement ', 'corporate_transparency ', 'business_involvement', 'business_involvement ', 'political_and_religious_views ', 'environment', 'political_and_religious_views ', 'human_employee_rights ', 'corporate_transparency', 'human_employee_rights', 'political_and_religious_views ', 'corporate_transparency ', 'environment ', 'human_employee_rights ', 'corporate_transparency', 'environment ', 'corporate_transparency ', 'corporate_transparency', 'corporate_transparency ', 'business_involvement', 'business_involvement', 'human_employee_rights ', 'corporate_transparency', 'human_employee_rights ', 'human_employee_rights', 'human_employee_rights ', 'human_employee_rights ', 'environment ', 'environment ', 'environment ', 'human_employee_rights ', 'human_employee_rights ', 'corporate_transparency ', 'corporate_transparency ', 'environment ', 'human_employee_rights ', 'environment ', 'environment ', 'environment ', 'human_employee_rights ', 'business_involvement', 'business_involvement ', 'human_employee_rights ', 'environment ', 'business_involvement ', 'environment ', 'environment ', 'corporate_transparency', 'environment ', 'corporate_transparency', 'business_involvement ', 'human_employee_rights', 'environment ', 'diversity_equity_inclusion', 'human_employee_rights ', 'human_employee_rights ', 'human_employee_rights ', 'environment ', 'human_employee_rights ', 'diversity_equity_inclusion', 'environment', 'business_involvement ', 'business_involvement', 'corporate_transparency', 'environment ', 'other ', 'human_employee_rights ', 'political_and_religious_views ', 'human_employee_rights ', 'environment ', 'business_involvement', 'environment ', 'human_employee_rights ', 'environment ']\n"
     ]
    }
   ],
   "source": [
    "import re\n",
    "confidence_category = []\n",
    "category_35_names=[]\n",
    "for entry in answers_35:\n",
    "    confidence_category.extend(re.findall(r'\\d+', entry))\n",
    "    match_35=re.search(r'\\d', entry)\n",
    "    if match_35:\n",
    "      potential_name=entry[:match_35.start()].strip().replace('Percentage of certainty', '').replace('Percentage', '').replace('percentage', '').replace('Confidence level', '').replace('Companies ', '').replace('Sureness level', '').replace('I am', '').replace('Accuracy level', '').replace('Accuracy ', '').replace('Surety', '').replace('category', '').replace('percent', '').replace(' ', '').replace(':', '').replace('-', '').replace('\\n', ' ').replace('confidence', '')\n",
    "      category_35_names.append(potential_name)\n",
    "    else:\n",
    "      potential_name=entry.strip().replace('Percentage of certainty', '').replace('Percentage', '').replace('percentage', '').replace('Confidence level', '').replace('Companies', '').replace('Sureness level', '').replace('I am', '').replace('Accuracy level', '').replace('Accuracy:', '').replace('Surety', '').replace('category', '').replace('percent', '').replace(' ', '').replace(':', '').replace('-', '').replace('\\n', ' ').replace('confidence', '')\n",
    "      category_35_names.append(potential_name)\n",
    "\n",
    "# Convert to integers\n",
    "confidence_category = list(map(int, confidence_category))\n",
    "print(confidence_category)\n",
    "print(category_35_names)"
   ]
  },
  {
   "cell_type": "code",
   "execution_count": 64,
   "metadata": {
    "colab": {
     "base_uri": "https://localhost:8080/"
    },
    "id": "TIqjGssyxdn6",
    "outputId": "e9b95135-2191-4abb-d14a-3aa150a24086"
   },
   "outputs": [
    {
     "name": "stdout",
     "output_type": "stream",
     "text": [
      "[95, 95, 100, 75, 80, 95, 95, 95, 95, 95, 95, 90, 90, 90, 78, 95, 70, 80, 95, 95, 98, 95, 96, 0, 80, 95, 95, 95, 90, 75, 90, 95, 90, 80, 90, 70, 95, 95, 100, 80, 90, 80, 94, 85, 95, 75, 90, 100, 95, 90, 90, 95, 80, 33, 90, 95, 80, 95, 100, 95, 95, 85, 80, 95, 95, 80, 80, 90, 95, 90, 90, 95, 95, 95, 95, 80, 90, 80, 100, 100, 95, 85, 90, 90, 90, 95, 95, 95, 95, 95, 70, 95, 95, 90, 95, 100, 95, 90, 95, '95']\n",
      "[95, 95, 100, 75, 80, 95, 95, 95, 95, 95, 95, 90, 90, 90, 78, 95, 70, 80, 95, 95, 98, 95, 96, 0, 80, 95, 95, 95, 90, 75, 90, 95, 90, 80, 90, 70, 95, 95, 100, 80, 90, 80, 94, 85, 95, 75, 90, 100, 95, 90, 90, 95, 80, 33, 90, 95, 80, 95, 100, 95, 95, 85, 80, 95, 95, 80, 80, 90, 95, 90, 90, 95, 95, 95, 95, 80, 90, 80, 100, 100, 95, 85, 90, 90, 90, 95, 95, 95, 95, 95, 70, 95, 95, 90, 95, 100, 95, 90, 95, '95', '95']\n",
      "[95, 95, 100, 75, 80, 95, 95, 95, 95, 95, 95, 90, 90, 90, 78, 95, 70, 80, 95, 95, 98, 95, 96, 0, 80, 95, 95, 95, 90, 75, 90, 95, 90, 80, 90, 70, 95, 95, 100, 80, 90, 80, 94, 85, 95, 75, 90, 100, 95, 90, 90, 95, 80, 33, 90, 95, 80, 95, 100, 95, 95, 85, 80, 95, 95, 80, 80, 90, 95, 90, 90, 95, 95, 95, 95, 80, 90, 80, 100, 100, 95, 85, 90, 90, 90, 95, 95, 95, 95, 95, 70, 95, 95, 90, 95, 100, 95, 90, 95, '95', '95', '100']\n",
      "[95, 95, 100, 75, 80, 95, 95, 95, 95, 95, 95, 90, 90, 90, 78, 95, 70, 80, 95, 95, 98, 95, 96, 0, 80, 95, 95, 95, 90, 75, 90, 95, 90, 80, 90, 70, 95, 95, 100, 80, 90, 80, 94, 85, 95, 75, 90, 100, 95, 90, 90, 95, 80, 33, 90, 95, 80, 95, 100, 95, 95, 85, 80, 95, 95, 80, 80, 90, 95, 90, 90, 95, 95, 95, 95, 80, 90, 80, 100, 100, 95, 85, 90, 90, 90, 95, 95, 95, 95, 95, 70, 95, 95, 90, 95, 100, 95, 90, 95, '95', '95', '100', '75']\n",
      "[95, 95, 100, 75, 80, 95, 95, 95, 95, 95, 95, 90, 90, 90, 78, 95, 70, 80, 95, 95, 98, 95, 96, 0, 80, 95, 95, 95, 90, 75, 90, 95, 90, 80, 90, 70, 95, 95, 100, 80, 90, 80, 94, 85, 95, 75, 90, 100, 95, 90, 90, 95, 80, 33, 90, 95, 80, 95, 100, 95, 95, 85, 80, 95, 95, 80, 80, 90, 95, 90, 90, 95, 95, 95, 95, 80, 90, 80, 100, 100, 95, 85, 90, 90, 90, 95, 95, 95, 95, 95, 70, 95, 95, 90, 95, 100, 95, 90, 95, '95', '95', '100', '75', '80']\n",
      "[95, 95, 100, 75, 80, 95, 95, 95, 95, 95, 95, 90, 90, 90, 78, 95, 70, 80, 95, 95, 98, 95, 96, 0, 80, 95, 95, 95, 90, 75, 90, 95, 90, 80, 90, 70, 95, 95, 100, 80, 90, 80, 94, 85, 95, 75, 90, 100, 95, 90, 90, 95, 80, 33, 90, 95, 80, 95, 100, 95, 95, 85, 80, 95, 95, 80, 80, 90, 95, 90, 90, 95, 95, 95, 95, 80, 90, 80, 100, 100, 95, 85, 90, 90, 90, 95, 95, 95, 95, 95, 70, 95, 95, 90, 95, 100, 95, 90, 95, '95', '95', '100', '75', '80', '95']\n",
      "[95, 95, 100, 75, 80, 95, 95, 95, 95, 95, 95, 90, 90, 90, 78, 95, 70, 80, 95, 95, 98, 95, 96, 0, 80, 95, 95, 95, 90, 75, 90, 95, 90, 80, 90, 70, 95, 95, 100, 80, 90, 80, 94, 85, 95, 75, 90, 100, 95, 90, 90, 95, 80, 33, 90, 95, 80, 95, 100, 95, 95, 85, 80, 95, 95, 80, 80, 90, 95, 90, 90, 95, 95, 95, 95, 80, 90, 80, 100, 100, 95, 85, 90, 90, 90, 95, 95, 95, 95, 95, 70, 95, 95, 90, 95, 100, 95, 90, 95, '95', '95', '100', '75', '80', '95', '95']\n",
      "[95, 95, 100, 75, 80, 95, 95, 95, 95, 95, 95, 90, 90, 90, 78, 95, 70, 80, 95, 95, 98, 95, 96, 0, 80, 95, 95, 95, 90, 75, 90, 95, 90, 80, 90, 70, 95, 95, 100, 80, 90, 80, 94, 85, 95, 75, 90, 100, 95, 90, 90, 95, 80, 33, 90, 95, 80, 95, 100, 95, 95, 85, 80, 95, 95, 80, 80, 90, 95, 90, 90, 95, 95, 95, 95, 80, 90, 80, 100, 100, 95, 85, 90, 90, 90, 95, 95, 95, 95, 95, 70, 95, 95, 90, 95, 100, 95, 90, 95, '95', '95', '100', '75', '80', '95', '95', '95']\n",
      "[95, 95, 100, 75, 80, 95, 95, 95, 95, 95, 95, 90, 90, 90, 78, 95, 70, 80, 95, 95, 98, 95, 96, 0, 80, 95, 95, 95, 90, 75, 90, 95, 90, 80, 90, 70, 95, 95, 100, 80, 90, 80, 94, 85, 95, 75, 90, 100, 95, 90, 90, 95, 80, 33, 90, 95, 80, 95, 100, 95, 95, 85, 80, 95, 95, 80, 80, 90, 95, 90, 90, 95, 95, 95, 95, 80, 90, 80, 100, 100, 95, 85, 90, 90, 90, 95, 95, 95, 95, 95, 70, 95, 95, 90, 95, 100, 95, 90, 95, '95', '95', '100', '75', '80', '95', '95', '95', '95']\n",
      "[95, 95, 100, 75, 80, 95, 95, 95, 95, 95, 95, 90, 90, 90, 78, 95, 70, 80, 95, 95, 98, 95, 96, 0, 80, 95, 95, 95, 90, 75, 90, 95, 90, 80, 90, 70, 95, 95, 100, 80, 90, 80, 94, 85, 95, 75, 90, 100, 95, 90, 90, 95, 80, 33, 90, 95, 80, 95, 100, 95, 95, 85, 80, 95, 95, 80, 80, 90, 95, 90, 90, 95, 95, 95, 95, 80, 90, 80, 100, 100, 95, 85, 90, 90, 90, 95, 95, 95, 95, 95, 70, 95, 95, 90, 95, 100, 95, 90, 95, '95', '95', '100', '75', '80', '95', '95', '95', '95', '95']\n",
      "[95, 95, 100, 75, 80, 95, 95, 95, 95, 95, 95, 90, 90, 90, 78, 95, 70, 80, 95, 95, 98, 95, 96, 0, 80, 95, 95, 95, 90, 75, 90, 95, 90, 80, 90, 70, 95, 95, 100, 80, 90, 80, 94, 85, 95, 75, 90, 100, 95, 90, 90, 95, 80, 33, 90, 95, 80, 95, 100, 95, 95, 85, 80, 95, 95, 80, 80, 90, 95, 90, 90, 95, 95, 95, 95, 80, 90, 80, 100, 100, 95, 85, 90, 90, 90, 95, 95, 95, 95, 95, 70, 95, 95, 90, 95, 100, 95, 90, 95, '95', '95', '100', '75', '80', '95', '95', '95', '95', '95', '95']\n",
      "[95, 95, 100, 75, 80, 95, 95, 95, 95, 95, 95, 90, 90, 90, 78, 95, 70, 80, 95, 95, 98, 95, 96, 0, 80, 95, 95, 95, 90, 75, 90, 95, 90, 80, 90, 70, 95, 95, 100, 80, 90, 80, 94, 85, 95, 75, 90, 100, 95, 90, 90, 95, 80, 33, 90, 95, 80, 95, 100, 95, 95, 85, 80, 95, 95, 80, 80, 90, 95, 90, 90, 95, 95, 95, 95, 80, 90, 80, 100, 100, 95, 85, 90, 90, 90, 95, 95, 95, 95, 95, 70, 95, 95, 90, 95, 100, 95, 90, 95, '95', '95', '100', '75', '80', '95', '95', '95', '95', '95', '95', '90']\n",
      "[95, 95, 100, 75, 80, 95, 95, 95, 95, 95, 95, 90, 90, 90, 78, 95, 70, 80, 95, 95, 98, 95, 96, 0, 80, 95, 95, 95, 90, 75, 90, 95, 90, 80, 90, 70, 95, 95, 100, 80, 90, 80, 94, 85, 95, 75, 90, 100, 95, 90, 90, 95, 80, 33, 90, 95, 80, 95, 100, 95, 95, 85, 80, 95, 95, 80, 80, 90, 95, 90, 90, 95, 95, 95, 95, 80, 90, 80, 100, 100, 95, 85, 90, 90, 90, 95, 95, 95, 95, 95, 70, 95, 95, 90, 95, 100, 95, 90, 95, '95', '95', '100', '75', '80', '95', '95', '95', '95', '95', '95', '90', '90']\n",
      "[95, 95, 100, 75, 80, 95, 95, 95, 95, 95, 95, 90, 90, 90, 78, 95, 70, 80, 95, 95, 98, 95, 96, 0, 80, 95, 95, 95, 90, 75, 90, 95, 90, 80, 90, 70, 95, 95, 100, 80, 90, 80, 94, 85, 95, 75, 90, 100, 95, 90, 90, 95, 80, 33, 90, 95, 80, 95, 100, 95, 95, 85, 80, 95, 95, 80, 80, 90, 95, 90, 90, 95, 95, 95, 95, 80, 90, 80, 100, 100, 95, 85, 90, 90, 90, 95, 95, 95, 95, 95, 70, 95, 95, 90, 95, 100, 95, 90, 95, '95', '95', '100', '75', '80', '95', '95', '95', '95', '95', '95', '90', '90', '90']\n",
      "[95, 95, 100, 75, 80, 95, 95, 95, 95, 95, 95, 90, 90, 90, 78, 95, 70, 80, 95, 95, 98, 95, 96, 0, 80, 95, 95, 95, 90, 75, 90, 95, 90, 80, 90, 70, 95, 95, 100, 80, 90, 80, 94, 85, 95, 75, 90, 100, 95, 90, 90, 95, 80, 33, 90, 95, 80, 95, 100, 95, 95, 85, 80, 95, 95, 80, 80, 90, 95, 90, 90, 95, 95, 95, 95, 80, 90, 80, 100, 100, 95, 85, 90, 90, 90, 95, 95, 95, 95, 95, 70, 95, 95, 90, 95, 100, 95, 90, 95, '95', '95', '100', '75', '80', '95', '95', '95', '95', '95', '95', '90', '90', '90', '78']\n",
      "[95, 95, 100, 75, 80, 95, 95, 95, 95, 95, 95, 90, 90, 90, 78, 95, 70, 80, 95, 95, 98, 95, 96, 0, 80, 95, 95, 95, 90, 75, 90, 95, 90, 80, 90, 70, 95, 95, 100, 80, 90, 80, 94, 85, 95, 75, 90, 100, 95, 90, 90, 95, 80, 33, 90, 95, 80, 95, 100, 95, 95, 85, 80, 95, 95, 80, 80, 90, 95, 90, 90, 95, 95, 95, 95, 80, 90, 80, 100, 100, 95, 85, 90, 90, 90, 95, 95, 95, 95, 95, 70, 95, 95, 90, 95, 100, 95, 90, 95, '95', '95', '100', '75', '80', '95', '95', '95', '95', '95', '95', '90', '90', '90', '78', '95']\n",
      "[95, 95, 100, 75, 80, 95, 95, 95, 95, 95, 95, 90, 90, 90, 78, 95, 70, 80, 95, 95, 98, 95, 96, 0, 80, 95, 95, 95, 90, 75, 90, 95, 90, 80, 90, 70, 95, 95, 100, 80, 90, 80, 94, 85, 95, 75, 90, 100, 95, 90, 90, 95, 80, 33, 90, 95, 80, 95, 100, 95, 95, 85, 80, 95, 95, 80, 80, 90, 95, 90, 90, 95, 95, 95, 95, 80, 90, 80, 100, 100, 95, 85, 90, 90, 90, 95, 95, 95, 95, 95, 70, 95, 95, 90, 95, 100, 95, 90, 95, '95', '95', '100', '75', '80', '95', '95', '95', '95', '95', '95', '90', '90', '90', '78', '95', '70']\n",
      "[95, 95, 100, 75, 80, 95, 95, 95, 95, 95, 95, 90, 90, 90, 78, 95, 70, 80, 95, 95, 98, 95, 96, 0, 80, 95, 95, 95, 90, 75, 90, 95, 90, 80, 90, 70, 95, 95, 100, 80, 90, 80, 94, 85, 95, 75, 90, 100, 95, 90, 90, 95, 80, 33, 90, 95, 80, 95, 100, 95, 95, 85, 80, 95, 95, 80, 80, 90, 95, 90, 90, 95, 95, 95, 95, 80, 90, 80, 100, 100, 95, 85, 90, 90, 90, 95, 95, 95, 95, 95, 70, 95, 95, 90, 95, 100, 95, 90, 95, '95', '95', '100', '75', '80', '95', '95', '95', '95', '95', '95', '90', '90', '90', '78', '95', '70', '80']\n",
      "[95, 95, 100, 75, 80, 95, 95, 95, 95, 95, 95, 90, 90, 90, 78, 95, 70, 80, 95, 95, 98, 95, 96, 0, 80, 95, 95, 95, 90, 75, 90, 95, 90, 80, 90, 70, 95, 95, 100, 80, 90, 80, 94, 85, 95, 75, 90, 100, 95, 90, 90, 95, 80, 33, 90, 95, 80, 95, 100, 95, 95, 85, 80, 95, 95, 80, 80, 90, 95, 90, 90, 95, 95, 95, 95, 80, 90, 80, 100, 100, 95, 85, 90, 90, 90, 95, 95, 95, 95, 95, 70, 95, 95, 90, 95, 100, 95, 90, 95, '95', '95', '100', '75', '80', '95', '95', '95', '95', '95', '95', '90', '90', '90', '78', '95', '70', '80', '95']\n",
      "[95, 95, 100, 75, 80, 95, 95, 95, 95, 95, 95, 90, 90, 90, 78, 95, 70, 80, 95, 95, 98, 95, 96, 0, 80, 95, 95, 95, 90, 75, 90, 95, 90, 80, 90, 70, 95, 95, 100, 80, 90, 80, 94, 85, 95, 75, 90, 100, 95, 90, 90, 95, 80, 33, 90, 95, 80, 95, 100, 95, 95, 85, 80, 95, 95, 80, 80, 90, 95, 90, 90, 95, 95, 95, 95, 80, 90, 80, 100, 100, 95, 85, 90, 90, 90, 95, 95, 95, 95, 95, 70, 95, 95, 90, 95, 100, 95, 90, 95, '95', '95', '100', '75', '80', '95', '95', '95', '95', '95', '95', '90', '90', '90', '78', '95', '70', '80', '95']\n",
      "[95, 95, 100, 75, 80, 95, 95, 95, 95, 95, 95, 90, 90, 90, 78, 95, 70, 80, 95, 95, 98, 95, 96, 0, 80, 95, 95, 95, 90, 75, 90, 95, 90, 80, 90, 70, 95, 95, 100, 80, 90, 80, 94, 85, 95, 75, 90, 100, 95, 90, 90, 95, 80, 33, 90, 95, 80, 95, 100, 95, 95, 85, 80, 95, 95, 80, 80, 90, 95, 90, 90, 95, 95, 95, 95, 80, 90, 80, 100, 100, 95, 85, 90, 90, 90, 95, 95, 95, 95, 95, 70, 95, 95, 90, 95, 100, 95, 90, 95, '95', '95', '100', '75', '80', '95', '95', '95', '95', '95', '95', '90', '90', '90', '78', '95', '70', '80', '95', '95']\n",
      "[95, 95, 100, 75, 80, 95, 95, 95, 95, 95, 95, 90, 90, 90, 78, 95, 70, 80, 95, 95, 98, 95, 96, 0, 80, 95, 95, 95, 90, 75, 90, 95, 90, 80, 90, 70, 95, 95, 100, 80, 90, 80, 94, 85, 95, 75, 90, 100, 95, 90, 90, 95, 80, 33, 90, 95, 80, 95, 100, 95, 95, 85, 80, 95, 95, 80, 80, 90, 95, 90, 90, 95, 95, 95, 95, 80, 90, 80, 100, 100, 95, 85, 90, 90, 90, 95, 95, 95, 95, 95, 70, 95, 95, 90, 95, 100, 95, 90, 95, '95', '95', '100', '75', '80', '95', '95', '95', '95', '95', '95', '90', '90', '90', '78', '95', '70', '80', '95', '95', '98']\n",
      "[95, 95, 100, 75, 80, 95, 95, 95, 95, 95, 95, 90, 90, 90, 78, 95, 70, 80, 95, 95, 98, 95, 96, 0, 80, 95, 95, 95, 90, 75, 90, 95, 90, 80, 90, 70, 95, 95, 100, 80, 90, 80, 94, 85, 95, 75, 90, 100, 95, 90, 90, 95, 80, 33, 90, 95, 80, 95, 100, 95, 95, 85, 80, 95, 95, 80, 80, 90, 95, 90, 90, 95, 95, 95, 95, 80, 90, 80, 100, 100, 95, 85, 90, 90, 90, 95, 95, 95, 95, 95, 70, 95, 95, 90, 95, 100, 95, 90, 95, '95', '95', '100', '75', '80', '95', '95', '95', '95', '95', '95', '90', '90', '90', '78', '95', '70', '80', '95', '95', '98', '95']\n",
      "[95, 95, 100, 75, 80, 95, 95, 95, 95, 95, 95, 90, 90, 90, 78, 95, 70, 80, 95, 95, 98, 95, 96, 0, 80, 95, 95, 95, 90, 75, 90, 95, 90, 80, 90, 70, 95, 95, 100, 80, 90, 80, 94, 85, 95, 75, 90, 100, 95, 90, 90, 95, 80, 33, 90, 95, 80, 95, 100, 95, 95, 85, 80, 95, 95, 80, 80, 90, 95, 90, 90, 95, 95, 95, 95, 80, 90, 80, 100, 100, 95, 85, 90, 90, 90, 95, 95, 95, 95, 95, 70, 95, 95, 90, 95, 100, 95, 90, 95, '95', '95', '100', '75', '80', '95', '95', '95', '95', '95', '95', '90', '90', '90', '78', '95', '70', '80', '95', '95', '98', '95', '96']\n",
      "[95, 95, 100, 75, 80, 95, 95, 95, 95, 95, 95, 90, 90, 90, 78, 95, 70, 80, 95, 95, 98, 95, 96, 0, 80, 95, 95, 95, 90, 75, 90, 95, 90, 80, 90, 70, 95, 95, 100, 80, 90, 80, 94, 85, 95, 75, 90, 100, 95, 90, 90, 95, 80, 33, 90, 95, 80, 95, 100, 95, 95, 85, 80, 95, 95, 80, 80, 90, 95, 90, 90, 95, 95, 95, 95, 80, 90, 80, 100, 100, 95, 85, 90, 90, 90, 95, 95, 95, 95, 95, 70, 95, 95, 90, 95, 100, 95, 90, 95, '95', '95', '100', '75', '80', '95', '95', '95', '95', '95', '95', '90', '90', '90', '78', '95', '70', '80', '95', '95', '98', '95', '96', '0']\n",
      "[95, 95, 100, 75, 80, 95, 95, 95, 95, 95, 95, 90, 90, 90, 78, 95, 70, 80, 95, 95, 98, 95, 96, 0, 80, 95, 95, 95, 90, 75, 90, 95, 90, 80, 90, 70, 95, 95, 100, 80, 90, 80, 94, 85, 95, 75, 90, 100, 95, 90, 90, 95, 80, 33, 90, 95, 80, 95, 100, 95, 95, 85, 80, 95, 95, 80, 80, 90, 95, 90, 90, 95, 95, 95, 95, 80, 90, 80, 100, 100, 95, 85, 90, 90, 90, 95, 95, 95, 95, 95, 70, 95, 95, 90, 95, 100, 95, 90, 95, '95', '95', '100', '75', '80', '95', '95', '95', '95', '95', '95', '90', '90', '90', '78', '95', '70', '80', '95', '95', '98', '95', '96', '0', '80']\n",
      "[95, 95, 100, 75, 80, 95, 95, 95, 95, 95, 95, 90, 90, 90, 78, 95, 70, 80, 95, 95, 98, 95, 96, 0, 80, 95, 95, 95, 90, 75, 90, 95, 90, 80, 90, 70, 95, 95, 100, 80, 90, 80, 94, 85, 95, 75, 90, 100, 95, 90, 90, 95, 80, 33, 90, 95, 80, 95, 100, 95, 95, 85, 80, 95, 95, 80, 80, 90, 95, 90, 90, 95, 95, 95, 95, 80, 90, 80, 100, 100, 95, 85, 90, 90, 90, 95, 95, 95, 95, 95, 70, 95, 95, 90, 95, 100, 95, 90, 95, '95', '95', '100', '75', '80', '95', '95', '95', '95', '95', '95', '90', '90', '90', '78', '95', '70', '80', '95', '95', '98', '95', '96', '0', '80', '95']\n",
      "[95, 95, 100, 75, 80, 95, 95, 95, 95, 95, 95, 90, 90, 90, 78, 95, 70, 80, 95, 95, 98, 95, 96, 0, 80, 95, 95, 95, 90, 75, 90, 95, 90, 80, 90, 70, 95, 95, 100, 80, 90, 80, 94, 85, 95, 75, 90, 100, 95, 90, 90, 95, 80, 33, 90, 95, 80, 95, 100, 95, 95, 85, 80, 95, 95, 80, 80, 90, 95, 90, 90, 95, 95, 95, 95, 80, 90, 80, 100, 100, 95, 85, 90, 90, 90, 95, 95, 95, 95, 95, 70, 95, 95, 90, 95, 100, 95, 90, 95, '95', '95', '100', '75', '80', '95', '95', '95', '95', '95', '95', '90', '90', '90', '78', '95', '70', '80', '95', '95', '98', '95', '96', '0', '80', '95', '95']\n",
      "[95, 95, 100, 75, 80, 95, 95, 95, 95, 95, 95, 90, 90, 90, 78, 95, 70, 80, 95, 95, 98, 95, 96, 0, 80, 95, 95, 95, 90, 75, 90, 95, 90, 80, 90, 70, 95, 95, 100, 80, 90, 80, 94, 85, 95, 75, 90, 100, 95, 90, 90, 95, 80, 33, 90, 95, 80, 95, 100, 95, 95, 85, 80, 95, 95, 80, 80, 90, 95, 90, 90, 95, 95, 95, 95, 80, 90, 80, 100, 100, 95, 85, 90, 90, 90, 95, 95, 95, 95, 95, 70, 95, 95, 90, 95, 100, 95, 90, 95, '95', '95', '100', '75', '80', '95', '95', '95', '95', '95', '95', '90', '90', '90', '78', '95', '70', '80', '95', '95', '98', '95', '96', '0', '80', '95', '95', '95']\n",
      "[95, 95, 100, 75, 80, 95, 95, 95, 95, 95, 95, 90, 90, 90, 78, 95, 70, 80, 95, 95, 98, 95, 96, 0, 80, 95, 95, 95, 90, 75, 90, 95, 90, 80, 90, 70, 95, 95, 100, 80, 90, 80, 94, 85, 95, 75, 90, 100, 95, 90, 90, 95, 80, 33, 90, 95, 80, 95, 100, 95, 95, 85, 80, 95, 95, 80, 80, 90, 95, 90, 90, 95, 95, 95, 95, 80, 90, 80, 100, 100, 95, 85, 90, 90, 90, 95, 95, 95, 95, 95, 70, 95, 95, 90, 95, 100, 95, 90, 95, '95', '95', '100', '75', '80', '95', '95', '95', '95', '95', '95', '90', '90', '90', '78', '95', '70', '80', '95', '95', '98', '95', '96', '0', '80', '95', '95', '95', '90']\n",
      "[95, 95, 100, 75, 80, 95, 95, 95, 95, 95, 95, 90, 90, 90, 78, 95, 70, 80, 95, 95, 98, 95, 96, 0, 80, 95, 95, 95, 90, 75, 90, 95, 90, 80, 90, 70, 95, 95, 100, 80, 90, 80, 94, 85, 95, 75, 90, 100, 95, 90, 90, 95, 80, 33, 90, 95, 80, 95, 100, 95, 95, 85, 80, 95, 95, 80, 80, 90, 95, 90, 90, 95, 95, 95, 95, 80, 90, 80, 100, 100, 95, 85, 90, 90, 90, 95, 95, 95, 95, 95, 70, 95, 95, 90, 95, 100, 95, 90, 95, '95', '95', '100', '75', '80', '95', '95', '95', '95', '95', '95', '90', '90', '90', '78', '95', '70', '80', '95', '95', '98', '95', '96', '0', '80', '95', '95', '95', '90', '75']\n",
      "[95, 95, 100, 75, 80, 95, 95, 95, 95, 95, 95, 90, 90, 90, 78, 95, 70, 80, 95, 95, 98, 95, 96, 0, 80, 95, 95, 95, 90, 75, 90, 95, 90, 80, 90, 70, 95, 95, 100, 80, 90, 80, 94, 85, 95, 75, 90, 100, 95, 90, 90, 95, 80, 33, 90, 95, 80, 95, 100, 95, 95, 85, 80, 95, 95, 80, 80, 90, 95, 90, 90, 95, 95, 95, 95, 80, 90, 80, 100, 100, 95, 85, 90, 90, 90, 95, 95, 95, 95, 95, 70, 95, 95, 90, 95, 100, 95, 90, 95, '95', '95', '100', '75', '80', '95', '95', '95', '95', '95', '95', '90', '90', '90', '78', '95', '70', '80', '95', '95', '98', '95', '96', '0', '80', '95', '95', '95', '90', '75', '90']\n",
      "[95, 95, 100, 75, 80, 95, 95, 95, 95, 95, 95, 90, 90, 90, 78, 95, 70, 80, 95, 95, 98, 95, 96, 0, 80, 95, 95, 95, 90, 75, 90, 95, 90, 80, 90, 70, 95, 95, 100, 80, 90, 80, 94, 85, 95, 75, 90, 100, 95, 90, 90, 95, 80, 33, 90, 95, 80, 95, 100, 95, 95, 85, 80, 95, 95, 80, 80, 90, 95, 90, 90, 95, 95, 95, 95, 80, 90, 80, 100, 100, 95, 85, 90, 90, 90, 95, 95, 95, 95, 95, 70, 95, 95, 90, 95, 100, 95, 90, 95, '95', '95', '100', '75', '80', '95', '95', '95', '95', '95', '95', '90', '90', '90', '78', '95', '70', '80', '95', '95', '98', '95', '96', '0', '80', '95', '95', '95', '90', '75', '90', '95']\n",
      "[95, 95, 100, 75, 80, 95, 95, 95, 95, 95, 95, 90, 90, 90, 78, 95, 70, 80, 95, 95, 98, 95, 96, 0, 80, 95, 95, 95, 90, 75, 90, 95, 90, 80, 90, 70, 95, 95, 100, 80, 90, 80, 94, 85, 95, 75, 90, 100, 95, 90, 90, 95, 80, 33, 90, 95, 80, 95, 100, 95, 95, 85, 80, 95, 95, 80, 80, 90, 95, 90, 90, 95, 95, 95, 95, 80, 90, 80, 100, 100, 95, 85, 90, 90, 90, 95, 95, 95, 95, 95, 70, 95, 95, 90, 95, 100, 95, 90, 95, '95', '95', '100', '75', '80', '95', '95', '95', '95', '95', '95', '90', '90', '90', '78', '95', '70', '80', '95', '95', '98', '95', '96', '0', '80', '95', '95', '95', '90', '75', '90', '95', '90']\n",
      "[95, 95, 100, 75, 80, 95, 95, 95, 95, 95, 95, 90, 90, 90, 78, 95, 70, 80, 95, 95, 98, 95, 96, 0, 80, 95, 95, 95, 90, 75, 90, 95, 90, 80, 90, 70, 95, 95, 100, 80, 90, 80, 94, 85, 95, 75, 90, 100, 95, 90, 90, 95, 80, 33, 90, 95, 80, 95, 100, 95, 95, 85, 80, 95, 95, 80, 80, 90, 95, 90, 90, 95, 95, 95, 95, 80, 90, 80, 100, 100, 95, 85, 90, 90, 90, 95, 95, 95, 95, 95, 70, 95, 95, 90, 95, 100, 95, 90, 95, '95', '95', '100', '75', '80', '95', '95', '95', '95', '95', '95', '90', '90', '90', '78', '95', '70', '80', '95', '95', '98', '95', '96', '0', '80', '95', '95', '95', '90', '75', '90', '95', '90', '80']\n",
      "[95, 95, 100, 75, 80, 95, 95, 95, 95, 95, 95, 90, 90, 90, 78, 95, 70, 80, 95, 95, 98, 95, 96, 0, 80, 95, 95, 95, 90, 75, 90, 95, 90, 80, 90, 70, 95, 95, 100, 80, 90, 80, 94, 85, 95, 75, 90, 100, 95, 90, 90, 95, 80, 33, 90, 95, 80, 95, 100, 95, 95, 85, 80, 95, 95, 80, 80, 90, 95, 90, 90, 95, 95, 95, 95, 80, 90, 80, 100, 100, 95, 85, 90, 90, 90, 95, 95, 95, 95, 95, 70, 95, 95, 90, 95, 100, 95, 90, 95, '95', '95', '100', '75', '80', '95', '95', '95', '95', '95', '95', '90', '90', '90', '78', '95', '70', '80', '95', '95', '98', '95', '96', '0', '80', '95', '95', '95', '90', '75', '90', '95', '90', '80', '90', '70']\n",
      "[95, 95, 100, 75, 80, 95, 95, 95, 95, 95, 95, 90, 90, 90, 78, 95, 70, 80, 95, 95, 98, 95, 96, 0, 80, 95, 95, 95, 90, 75, 90, 95, 90, 80, 90, 70, 95, 95, 100, 80, 90, 80, 94, 85, 95, 75, 90, 100, 95, 90, 90, 95, 80, 33, 90, 95, 80, 95, 100, 95, 95, 85, 80, 95, 95, 80, 80, 90, 95, 90, 90, 95, 95, 95, 95, 80, 90, 80, 100, 100, 95, 85, 90, 90, 90, 95, 95, 95, 95, 95, 70, 95, 95, 90, 95, 100, 95, 90, 95, '95', '95', '100', '75', '80', '95', '95', '95', '95', '95', '95', '90', '90', '90', '78', '95', '70', '80', '95', '95', '98', '95', '96', '0', '80', '95', '95', '95', '90', '75', '90', '95', '90', '80', '90', '70']\n",
      "[95, 95, 100, 75, 80, 95, 95, 95, 95, 95, 95, 90, 90, 90, 78, 95, 70, 80, 95, 95, 98, 95, 96, 0, 80, 95, 95, 95, 90, 75, 90, 95, 90, 80, 90, 70, 95, 95, 100, 80, 90, 80, 94, 85, 95, 75, 90, 100, 95, 90, 90, 95, 80, 33, 90, 95, 80, 95, 100, 95, 95, 85, 80, 95, 95, 80, 80, 90, 95, 90, 90, 95, 95, 95, 95, 80, 90, 80, 100, 100, 95, 85, 90, 90, 90, 95, 95, 95, 95, 95, 70, 95, 95, 90, 95, 100, 95, 90, 95, '95', '95', '100', '75', '80', '95', '95', '95', '95', '95', '95', '90', '90', '90', '78', '95', '70', '80', '95', '95', '98', '95', '96', '0', '80', '95', '95', '95', '90', '75', '90', '95', '90', '80', '90', '70', '95']\n",
      "[95, 95, 100, 75, 80, 95, 95, 95, 95, 95, 95, 90, 90, 90, 78, 95, 70, 80, 95, 95, 98, 95, 96, 0, 80, 95, 95, 95, 90, 75, 90, 95, 90, 80, 90, 70, 95, 95, 100, 80, 90, 80, 94, 85, 95, 75, 90, 100, 95, 90, 90, 95, 80, 33, 90, 95, 80, 95, 100, 95, 95, 85, 80, 95, 95, 80, 80, 90, 95, 90, 90, 95, 95, 95, 95, 80, 90, 80, 100, 100, 95, 85, 90, 90, 90, 95, 95, 95, 95, 95, 70, 95, 95, 90, 95, 100, 95, 90, 95, '95', '95', '100', '75', '80', '95', '95', '95', '95', '95', '95', '90', '90', '90', '78', '95', '70', '80', '95', '95', '98', '95', '96', '0', '80', '95', '95', '95', '90', '75', '90', '95', '90', '80', '90', '70', '95', '95']\n",
      "[95, 95, 100, 75, 80, 95, 95, 95, 95, 95, 95, 90, 90, 90, 78, 95, 70, 80, 95, 95, 98, 95, 96, 0, 80, 95, 95, 95, 90, 75, 90, 95, 90, 80, 90, 70, 95, 95, 100, 80, 90, 80, 94, 85, 95, 75, 90, 100, 95, 90, 90, 95, 80, 33, 90, 95, 80, 95, 100, 95, 95, 85, 80, 95, 95, 80, 80, 90, 95, 90, 90, 95, 95, 95, 95, 80, 90, 80, 100, 100, 95, 85, 90, 90, 90, 95, 95, 95, 95, 95, 70, 95, 95, 90, 95, 100, 95, 90, 95, '95', '95', '100', '75', '80', '95', '95', '95', '95', '95', '95', '90', '90', '90', '78', '95', '70', '80', '95', '95', '98', '95', '96', '0', '80', '95', '95', '95', '90', '75', '90', '95', '90', '80', '90', '70', '95', '95', '100']\n",
      "[95, 95, 100, 75, 80, 95, 95, 95, 95, 95, 95, 90, 90, 90, 78, 95, 70, 80, 95, 95, 98, 95, 96, 0, 80, 95, 95, 95, 90, 75, 90, 95, 90, 80, 90, 70, 95, 95, 100, 80, 90, 80, 94, 85, 95, 75, 90, 100, 95, 90, 90, 95, 80, 33, 90, 95, 80, 95, 100, 95, 95, 85, 80, 95, 95, 80, 80, 90, 95, 90, 90, 95, 95, 95, 95, 80, 90, 80, 100, 100, 95, 85, 90, 90, 90, 95, 95, 95, 95, 95, 70, 95, 95, 90, 95, 100, 95, 90, 95, '95', '95', '100', '75', '80', '95', '95', '95', '95', '95', '95', '90', '90', '90', '78', '95', '70', '80', '95', '95', '98', '95', '96', '0', '80', '95', '95', '95', '90', '75', '90', '95', '90', '80', '90', '70', '95', '95', '100', '80']\n",
      "[95, 95, 100, 75, 80, 95, 95, 95, 95, 95, 95, 90, 90, 90, 78, 95, 70, 80, 95, 95, 98, 95, 96, 0, 80, 95, 95, 95, 90, 75, 90, 95, 90, 80, 90, 70, 95, 95, 100, 80, 90, 80, 94, 85, 95, 75, 90, 100, 95, 90, 90, 95, 80, 33, 90, 95, 80, 95, 100, 95, 95, 85, 80, 95, 95, 80, 80, 90, 95, 90, 90, 95, 95, 95, 95, 80, 90, 80, 100, 100, 95, 85, 90, 90, 90, 95, 95, 95, 95, 95, 70, 95, 95, 90, 95, 100, 95, 90, 95, '95', '95', '100', '75', '80', '95', '95', '95', '95', '95', '95', '90', '90', '90', '78', '95', '70', '80', '95', '95', '98', '95', '96', '0', '80', '95', '95', '95', '90', '75', '90', '95', '90', '80', '90', '70', '95', '95', '100', '80', '90']\n",
      "[95, 95, 100, 75, 80, 95, 95, 95, 95, 95, 95, 90, 90, 90, 78, 95, 70, 80, 95, 95, 98, 95, 96, 0, 80, 95, 95, 95, 90, 75, 90, 95, 90, 80, 90, 70, 95, 95, 100, 80, 90, 80, 94, 85, 95, 75, 90, 100, 95, 90, 90, 95, 80, 33, 90, 95, 80, 95, 100, 95, 95, 85, 80, 95, 95, 80, 80, 90, 95, 90, 90, 95, 95, 95, 95, 80, 90, 80, 100, 100, 95, 85, 90, 90, 90, 95, 95, 95, 95, 95, 70, 95, 95, 90, 95, 100, 95, 90, 95, '95', '95', '100', '75', '80', '95', '95', '95', '95', '95', '95', '90', '90', '90', '78', '95', '70', '80', '95', '95', '98', '95', '96', '0', '80', '95', '95', '95', '90', '75', '90', '95', '90', '80', '90', '70', '95', '95', '100', '80', '90', '80']\n",
      "[95, 95, 100, 75, 80, 95, 95, 95, 95, 95, 95, 90, 90, 90, 78, 95, 70, 80, 95, 95, 98, 95, 96, 0, 80, 95, 95, 95, 90, 75, 90, 95, 90, 80, 90, 70, 95, 95, 100, 80, 90, 80, 94, 85, 95, 75, 90, 100, 95, 90, 90, 95, 80, 33, 90, 95, 80, 95, 100, 95, 95, 85, 80, 95, 95, 80, 80, 90, 95, 90, 90, 95, 95, 95, 95, 80, 90, 80, 100, 100, 95, 85, 90, 90, 90, 95, 95, 95, 95, 95, 70, 95, 95, 90, 95, 100, 95, 90, 95, '95', '95', '100', '75', '80', '95', '95', '95', '95', '95', '95', '90', '90', '90', '78', '95', '70', '80', '95', '95', '98', '95', '96', '0', '80', '95', '95', '95', '90', '75', '90', '95', '90', '80', '90', '70', '95', '95', '100', '80', '90', '80', '94']\n",
      "[95, 95, 100, 75, 80, 95, 95, 95, 95, 95, 95, 90, 90, 90, 78, 95, 70, 80, 95, 95, 98, 95, 96, 0, 80, 95, 95, 95, 90, 75, 90, 95, 90, 80, 90, 70, 95, 95, 100, 80, 90, 80, 94, 85, 95, 75, 90, 100, 95, 90, 90, 95, 80, 33, 90, 95, 80, 95, 100, 95, 95, 85, 80, 95, 95, 80, 80, 90, 95, 90, 90, 95, 95, 95, 95, 80, 90, 80, 100, 100, 95, 85, 90, 90, 90, 95, 95, 95, 95, 95, 70, 95, 95, 90, 95, 100, 95, 90, 95, '95', '95', '100', '75', '80', '95', '95', '95', '95', '95', '95', '90', '90', '90', '78', '95', '70', '80', '95', '95', '98', '95', '96', '0', '80', '95', '95', '95', '90', '75', '90', '95', '90', '80', '90', '70', '95', '95', '100', '80', '90', '80', '94', '85']\n",
      "[95, 95, 100, 75, 80, 95, 95, 95, 95, 95, 95, 90, 90, 90, 78, 95, 70, 80, 95, 95, 98, 95, 96, 0, 80, 95, 95, 95, 90, 75, 90, 95, 90, 80, 90, 70, 95, 95, 100, 80, 90, 80, 94, 85, 95, 75, 90, 100, 95, 90, 90, 95, 80, 33, 90, 95, 80, 95, 100, 95, 95, 85, 80, 95, 95, 80, 80, 90, 95, 90, 90, 95, 95, 95, 95, 80, 90, 80, 100, 100, 95, 85, 90, 90, 90, 95, 95, 95, 95, 95, 70, 95, 95, 90, 95, 100, 95, 90, 95, '95', '95', '100', '75', '80', '95', '95', '95', '95', '95', '95', '90', '90', '90', '78', '95', '70', '80', '95', '95', '98', '95', '96', '0', '80', '95', '95', '95', '90', '75', '90', '95', '90', '80', '90', '70', '95', '95', '100', '80', '90', '80', '94', '85', '95']\n",
      "[95, 95, 100, 75, 80, 95, 95, 95, 95, 95, 95, 90, 90, 90, 78, 95, 70, 80, 95, 95, 98, 95, 96, 0, 80, 95, 95, 95, 90, 75, 90, 95, 90, 80, 90, 70, 95, 95, 100, 80, 90, 80, 94, 85, 95, 75, 90, 100, 95, 90, 90, 95, 80, 33, 90, 95, 80, 95, 100, 95, 95, 85, 80, 95, 95, 80, 80, 90, 95, 90, 90, 95, 95, 95, 95, 80, 90, 80, 100, 100, 95, 85, 90, 90, 90, 95, 95, 95, 95, 95, 70, 95, 95, 90, 95, 100, 95, 90, 95, '95', '95', '100', '75', '80', '95', '95', '95', '95', '95', '95', '90', '90', '90', '78', '95', '70', '80', '95', '95', '98', '95', '96', '0', '80', '95', '95', '95', '90', '75', '90', '95', '90', '80', '90', '70', '95', '95', '100', '80', '90', '80', '94', '85', '95', '75']\n",
      "[95, 95, 100, 75, 80, 95, 95, 95, 95, 95, 95, 90, 90, 90, 78, 95, 70, 80, 95, 95, 98, 95, 96, 0, 80, 95, 95, 95, 90, 75, 90, 95, 90, 80, 90, 70, 95, 95, 100, 80, 90, 80, 94, 85, 95, 75, 90, 100, 95, 90, 90, 95, 80, 33, 90, 95, 80, 95, 100, 95, 95, 85, 80, 95, 95, 80, 80, 90, 95, 90, 90, 95, 95, 95, 95, 80, 90, 80, 100, 100, 95, 85, 90, 90, 90, 95, 95, 95, 95, 95, 70, 95, 95, 90, 95, 100, 95, 90, 95, '95', '95', '100', '75', '80', '95', '95', '95', '95', '95', '95', '90', '90', '90', '78', '95', '70', '80', '95', '95', '98', '95', '96', '0', '80', '95', '95', '95', '90', '75', '90', '95', '90', '80', '90', '70', '95', '95', '100', '80', '90', '80', '94', '85', '95', '75', '90']\n",
      "[95, 95, 100, 75, 80, 95, 95, 95, 95, 95, 95, 90, 90, 90, 78, 95, 70, 80, 95, 95, 98, 95, 96, 0, 80, 95, 95, 95, 90, 75, 90, 95, 90, 80, 90, 70, 95, 95, 100, 80, 90, 80, 94, 85, 95, 75, 90, 100, 95, 90, 90, 95, 80, 33, 90, 95, 80, 95, 100, 95, 95, 85, 80, 95, 95, 80, 80, 90, 95, 90, 90, 95, 95, 95, 95, 80, 90, 80, 100, 100, 95, 85, 90, 90, 90, 95, 95, 95, 95, 95, 70, 95, 95, 90, 95, 100, 95, 90, 95, '95', '95', '100', '75', '80', '95', '95', '95', '95', '95', '95', '90', '90', '90', '78', '95', '70', '80', '95', '95', '98', '95', '96', '0', '80', '95', '95', '95', '90', '75', '90', '95', '90', '80', '90', '70', '95', '95', '100', '80', '90', '80', '94', '85', '95', '75', '90', '100']\n",
      "[95, 95, 100, 75, 80, 95, 95, 95, 95, 95, 95, 90, 90, 90, 78, 95, 70, 80, 95, 95, 98, 95, 96, 0, 80, 95, 95, 95, 90, 75, 90, 95, 90, 80, 90, 70, 95, 95, 100, 80, 90, 80, 94, 85, 95, 75, 90, 100, 95, 90, 90, 95, 80, 33, 90, 95, 80, 95, 100, 95, 95, 85, 80, 95, 95, 80, 80, 90, 95, 90, 90, 95, 95, 95, 95, 80, 90, 80, 100, 100, 95, 85, 90, 90, 90, 95, 95, 95, 95, 95, 70, 95, 95, 90, 95, 100, 95, 90, 95, '95', '95', '100', '75', '80', '95', '95', '95', '95', '95', '95', '90', '90', '90', '78', '95', '70', '80', '95', '95', '98', '95', '96', '0', '80', '95', '95', '95', '90', '75', '90', '95', '90', '80', '90', '70', '95', '95', '100', '80', '90', '80', '94', '85', '95', '75', '90', '100', '95']\n",
      "[95, 95, 100, 75, 80, 95, 95, 95, 95, 95, 95, 90, 90, 90, 78, 95, 70, 80, 95, 95, 98, 95, 96, 0, 80, 95, 95, 95, 90, 75, 90, 95, 90, 80, 90, 70, 95, 95, 100, 80, 90, 80, 94, 85, 95, 75, 90, 100, 95, 90, 90, 95, 80, 33, 90, 95, 80, 95, 100, 95, 95, 85, 80, 95, 95, 80, 80, 90, 95, 90, 90, 95, 95, 95, 95, 80, 90, 80, 100, 100, 95, 85, 90, 90, 90, 95, 95, 95, 95, 95, 70, 95, 95, 90, 95, 100, 95, 90, 95, '95', '95', '100', '75', '80', '95', '95', '95', '95', '95', '95', '90', '90', '90', '78', '95', '70', '80', '95', '95', '98', '95', '96', '0', '80', '95', '95', '95', '90', '75', '90', '95', '90', '80', '90', '70', '95', '95', '100', '80', '90', '80', '94', '85', '95', '75', '90', '100', '95', '90']\n",
      "[95, 95, 100, 75, 80, 95, 95, 95, 95, 95, 95, 90, 90, 90, 78, 95, 70, 80, 95, 95, 98, 95, 96, 0, 80, 95, 95, 95, 90, 75, 90, 95, 90, 80, 90, 70, 95, 95, 100, 80, 90, 80, 94, 85, 95, 75, 90, 100, 95, 90, 90, 95, 80, 33, 90, 95, 80, 95, 100, 95, 95, 85, 80, 95, 95, 80, 80, 90, 95, 90, 90, 95, 95, 95, 95, 80, 90, 80, 100, 100, 95, 85, 90, 90, 90, 95, 95, 95, 95, 95, 70, 95, 95, 90, 95, 100, 95, 90, 95, '95', '95', '100', '75', '80', '95', '95', '95', '95', '95', '95', '90', '90', '90', '78', '95', '70', '80', '95', '95', '98', '95', '96', '0', '80', '95', '95', '95', '90', '75', '90', '95', '90', '80', '90', '70', '95', '95', '100', '80', '90', '80', '94', '85', '95', '75', '90', '100', '95', '90', '90']\n",
      "[95, 95, 100, 75, 80, 95, 95, 95, 95, 95, 95, 90, 90, 90, 78, 95, 70, 80, 95, 95, 98, 95, 96, 0, 80, 95, 95, 95, 90, 75, 90, 95, 90, 80, 90, 70, 95, 95, 100, 80, 90, 80, 94, 85, 95, 75, 90, 100, 95, 90, 90, 95, 80, 33, 90, 95, 80, 95, 100, 95, 95, 85, 80, 95, 95, 80, 80, 90, 95, 90, 90, 95, 95, 95, 95, 80, 90, 80, 100, 100, 95, 85, 90, 90, 90, 95, 95, 95, 95, 95, 70, 95, 95, 90, 95, 100, 95, 90, 95, '95', '95', '100', '75', '80', '95', '95', '95', '95', '95', '95', '90', '90', '90', '78', '95', '70', '80', '95', '95', '98', '95', '96', '0', '80', '95', '95', '95', '90', '75', '90', '95', '90', '80', '90', '70', '95', '95', '100', '80', '90', '80', '94', '85', '95', '75', '90', '100', '95', '90', '90', '95']\n",
      "[95, 95, 100, 75, 80, 95, 95, 95, 95, 95, 95, 90, 90, 90, 78, 95, 70, 80, 95, 95, 98, 95, 96, 0, 80, 95, 95, 95, 90, 75, 90, 95, 90, 80, 90, 70, 95, 95, 100, 80, 90, 80, 94, 85, 95, 75, 90, 100, 95, 90, 90, 95, 80, 33, 90, 95, 80, 95, 100, 95, 95, 85, 80, 95, 95, 80, 80, 90, 95, 90, 90, 95, 95, 95, 95, 80, 90, 80, 100, 100, 95, 85, 90, 90, 90, 95, 95, 95, 95, 95, 70, 95, 95, 90, 95, 100, 95, 90, 95, '95', '95', '100', '75', '80', '95', '95', '95', '95', '95', '95', '90', '90', '90', '78', '95', '70', '80', '95', '95', '98', '95', '96', '0', '80', '95', '95', '95', '90', '75', '90', '95', '90', '80', '90', '70', '95', '95', '100', '80', '90', '80', '94', '85', '95', '75', '90', '100', '95', '90', '90', '95', '80']\n",
      "[95, 95, 100, 75, 80, 95, 95, 95, 95, 95, 95, 90, 90, 90, 78, 95, 70, 80, 95, 95, 98, 95, 96, 0, 80, 95, 95, 95, 90, 75, 90, 95, 90, 80, 90, 70, 95, 95, 100, 80, 90, 80, 94, 85, 95, 75, 90, 100, 95, 90, 90, 95, 80, 33, 90, 95, 80, 95, 100, 95, 95, 85, 80, 95, 95, 80, 80, 90, 95, 90, 90, 95, 95, 95, 95, 80, 90, 80, 100, 100, 95, 85, 90, 90, 90, 95, 95, 95, 95, 95, 70, 95, 95, 90, 95, 100, 95, 90, 95, '95', '95', '100', '75', '80', '95', '95', '95', '95', '95', '95', '90', '90', '90', '78', '95', '70', '80', '95', '95', '98', '95', '96', '0', '80', '95', '95', '95', '90', '75', '90', '95', '90', '80', '90', '70', '95', '95', '100', '80', '90', '80', '94', '85', '95', '75', '90', '100', '95', '90', '90', '95', '80', '33']\n",
      "[95, 95, 100, 75, 80, 95, 95, 95, 95, 95, 95, 90, 90, 90, 78, 95, 70, 80, 95, 95, 98, 95, 96, 0, 80, 95, 95, 95, 90, 75, 90, 95, 90, 80, 90, 70, 95, 95, 100, 80, 90, 80, 94, 85, 95, 75, 90, 100, 95, 90, 90, 95, 80, 33, 90, 95, 80, 95, 100, 95, 95, 85, 80, 95, 95, 80, 80, 90, 95, 90, 90, 95, 95, 95, 95, 80, 90, 80, 100, 100, 95, 85, 90, 90, 90, 95, 95, 95, 95, 95, 70, 95, 95, 90, 95, 100, 95, 90, 95, '95', '95', '100', '75', '80', '95', '95', '95', '95', '95', '95', '90', '90', '90', '78', '95', '70', '80', '95', '95', '98', '95', '96', '0', '80', '95', '95', '95', '90', '75', '90', '95', '90', '80', '90', '70', '95', '95', '100', '80', '90', '80', '94', '85', '95', '75', '90', '100', '95', '90', '90', '95', '80', '33', '90']\n",
      "[95, 95, 100, 75, 80, 95, 95, 95, 95, 95, 95, 90, 90, 90, 78, 95, 70, 80, 95, 95, 98, 95, 96, 0, 80, 95, 95, 95, 90, 75, 90, 95, 90, 80, 90, 70, 95, 95, 100, 80, 90, 80, 94, 85, 95, 75, 90, 100, 95, 90, 90, 95, 80, 33, 90, 95, 80, 95, 100, 95, 95, 85, 80, 95, 95, 80, 80, 90, 95, 90, 90, 95, 95, 95, 95, 80, 90, 80, 100, 100, 95, 85, 90, 90, 90, 95, 95, 95, 95, 95, 70, 95, 95, 90, 95, 100, 95, 90, 95, '95', '95', '100', '75', '80', '95', '95', '95', '95', '95', '95', '90', '90', '90', '78', '95', '70', '80', '95', '95', '98', '95', '96', '0', '80', '95', '95', '95', '90', '75', '90', '95', '90', '80', '90', '70', '95', '95', '100', '80', '90', '80', '94', '85', '95', '75', '90', '100', '95', '90', '90', '95', '80', '33', '90', '95']\n",
      "[95, 95, 100, 75, 80, 95, 95, 95, 95, 95, 95, 90, 90, 90, 78, 95, 70, 80, 95, 95, 98, 95, 96, 0, 80, 95, 95, 95, 90, 75, 90, 95, 90, 80, 90, 70, 95, 95, 100, 80, 90, 80, 94, 85, 95, 75, 90, 100, 95, 90, 90, 95, 80, 33, 90, 95, 80, 95, 100, 95, 95, 85, 80, 95, 95, 80, 80, 90, 95, 90, 90, 95, 95, 95, 95, 80, 90, 80, 100, 100, 95, 85, 90, 90, 90, 95, 95, 95, 95, 95, 70, 95, 95, 90, 95, 100, 95, 90, 95, '95', '95', '100', '75', '80', '95', '95', '95', '95', '95', '95', '90', '90', '90', '78', '95', '70', '80', '95', '95', '98', '95', '96', '0', '80', '95', '95', '95', '90', '75', '90', '95', '90', '80', '90', '70', '95', '95', '100', '80', '90', '80', '94', '85', '95', '75', '90', '100', '95', '90', '90', '95', '80', '33', '90', '95', '80']\n",
      "[95, 95, 100, 75, 80, 95, 95, 95, 95, 95, 95, 90, 90, 90, 78, 95, 70, 80, 95, 95, 98, 95, 96, 0, 80, 95, 95, 95, 90, 75, 90, 95, 90, 80, 90, 70, 95, 95, 100, 80, 90, 80, 94, 85, 95, 75, 90, 100, 95, 90, 90, 95, 80, 33, 90, 95, 80, 95, 100, 95, 95, 85, 80, 95, 95, 80, 80, 90, 95, 90, 90, 95, 95, 95, 95, 80, 90, 80, 100, 100, 95, 85, 90, 90, 90, 95, 95, 95, 95, 95, 70, 95, 95, 90, 95, 100, 95, 90, 95, '95', '95', '100', '75', '80', '95', '95', '95', '95', '95', '95', '90', '90', '90', '78', '95', '70', '80', '95', '95', '98', '95', '96', '0', '80', '95', '95', '95', '90', '75', '90', '95', '90', '80', '90', '70', '95', '95', '100', '80', '90', '80', '94', '85', '95', '75', '90', '100', '95', '90', '90', '95', '80', '33', '90', '95', '80', '95']\n",
      "[95, 95, 100, 75, 80, 95, 95, 95, 95, 95, 95, 90, 90, 90, 78, 95, 70, 80, 95, 95, 98, 95, 96, 0, 80, 95, 95, 95, 90, 75, 90, 95, 90, 80, 90, 70, 95, 95, 100, 80, 90, 80, 94, 85, 95, 75, 90, 100, 95, 90, 90, 95, 80, 33, 90, 95, 80, 95, 100, 95, 95, 85, 80, 95, 95, 80, 80, 90, 95, 90, 90, 95, 95, 95, 95, 80, 90, 80, 100, 100, 95, 85, 90, 90, 90, 95, 95, 95, 95, 95, 70, 95, 95, 90, 95, 100, 95, 90, 95, '95', '95', '100', '75', '80', '95', '95', '95', '95', '95', '95', '90', '90', '90', '78', '95', '70', '80', '95', '95', '98', '95', '96', '0', '80', '95', '95', '95', '90', '75', '90', '95', '90', '80', '90', '70', '95', '95', '100', '80', '90', '80', '94', '85', '95', '75', '90', '100', '95', '90', '90', '95', '80', '33', '90', '95', '80', '95', '100']\n",
      "[95, 95, 100, 75, 80, 95, 95, 95, 95, 95, 95, 90, 90, 90, 78, 95, 70, 80, 95, 95, 98, 95, 96, 0, 80, 95, 95, 95, 90, 75, 90, 95, 90, 80, 90, 70, 95, 95, 100, 80, 90, 80, 94, 85, 95, 75, 90, 100, 95, 90, 90, 95, 80, 33, 90, 95, 80, 95, 100, 95, 95, 85, 80, 95, 95, 80, 80, 90, 95, 90, 90, 95, 95, 95, 95, 80, 90, 80, 100, 100, 95, 85, 90, 90, 90, 95, 95, 95, 95, 95, 70, 95, 95, 90, 95, 100, 95, 90, 95, '95', '95', '100', '75', '80', '95', '95', '95', '95', '95', '95', '90', '90', '90', '78', '95', '70', '80', '95', '95', '98', '95', '96', '0', '80', '95', '95', '95', '90', '75', '90', '95', '90', '80', '90', '70', '95', '95', '100', '80', '90', '80', '94', '85', '95', '75', '90', '100', '95', '90', '90', '95', '80', '33', '90', '95', '80', '95', '100', '95']\n",
      "[95, 95, 100, 75, 80, 95, 95, 95, 95, 95, 95, 90, 90, 90, 78, 95, 70, 80, 95, 95, 98, 95, 96, 0, 80, 95, 95, 95, 90, 75, 90, 95, 90, 80, 90, 70, 95, 95, 100, 80, 90, 80, 94, 85, 95, 75, 90, 100, 95, 90, 90, 95, 80, 33, 90, 95, 80, 95, 100, 95, 95, 85, 80, 95, 95, 80, 80, 90, 95, 90, 90, 95, 95, 95, 95, 80, 90, 80, 100, 100, 95, 85, 90, 90, 90, 95, 95, 95, 95, 95, 70, 95, 95, 90, 95, 100, 95, 90, 95, '95', '95', '100', '75', '80', '95', '95', '95', '95', '95', '95', '90', '90', '90', '78', '95', '70', '80', '95', '95', '98', '95', '96', '0', '80', '95', '95', '95', '90', '75', '90', '95', '90', '80', '90', '70', '95', '95', '100', '80', '90', '80', '94', '85', '95', '75', '90', '100', '95', '90', '90', '95', '80', '33', '90', '95', '80', '95', '100', '95', '95']\n",
      "[95, 95, 100, 75, 80, 95, 95, 95, 95, 95, 95, 90, 90, 90, 78, 95, 70, 80, 95, 95, 98, 95, 96, 0, 80, 95, 95, 95, 90, 75, 90, 95, 90, 80, 90, 70, 95, 95, 100, 80, 90, 80, 94, 85, 95, 75, 90, 100, 95, 90, 90, 95, 80, 33, 90, 95, 80, 95, 100, 95, 95, 85, 80, 95, 95, 80, 80, 90, 95, 90, 90, 95, 95, 95, 95, 80, 90, 80, 100, 100, 95, 85, 90, 90, 90, 95, 95, 95, 95, 95, 70, 95, 95, 90, 95, 100, 95, 90, 95, '95', '95', '100', '75', '80', '95', '95', '95', '95', '95', '95', '90', '90', '90', '78', '95', '70', '80', '95', '95', '98', '95', '96', '0', '80', '95', '95', '95', '90', '75', '90', '95', '90', '80', '90', '70', '95', '95', '100', '80', '90', '80', '94', '85', '95', '75', '90', '100', '95', '90', '90', '95', '80', '33', '90', '95', '80', '95', '100', '95', '95', '85']\n",
      "[95, 95, 100, 75, 80, 95, 95, 95, 95, 95, 95, 90, 90, 90, 78, 95, 70, 80, 95, 95, 98, 95, 96, 0, 80, 95, 95, 95, 90, 75, 90, 95, 90, 80, 90, 70, 95, 95, 100, 80, 90, 80, 94, 85, 95, 75, 90, 100, 95, 90, 90, 95, 80, 33, 90, 95, 80, 95, 100, 95, 95, 85, 80, 95, 95, 80, 80, 90, 95, 90, 90, 95, 95, 95, 95, 80, 90, 80, 100, 100, 95, 85, 90, 90, 90, 95, 95, 95, 95, 95, 70, 95, 95, 90, 95, 100, 95, 90, 95, '95', '95', '100', '75', '80', '95', '95', '95', '95', '95', '95', '90', '90', '90', '78', '95', '70', '80', '95', '95', '98', '95', '96', '0', '80', '95', '95', '95', '90', '75', '90', '95', '90', '80', '90', '70', '95', '95', '100', '80', '90', '80', '94', '85', '95', '75', '90', '100', '95', '90', '90', '95', '80', '33', '90', '95', '80', '95', '100', '95', '95', '85', '80']\n",
      "[95, 95, 100, 75, 80, 95, 95, 95, 95, 95, 95, 90, 90, 90, 78, 95, 70, 80, 95, 95, 98, 95, 96, 0, 80, 95, 95, 95, 90, 75, 90, 95, 90, 80, 90, 70, 95, 95, 100, 80, 90, 80, 94, 85, 95, 75, 90, 100, 95, 90, 90, 95, 80, 33, 90, 95, 80, 95, 100, 95, 95, 85, 80, 95, 95, 80, 80, 90, 95, 90, 90, 95, 95, 95, 95, 80, 90, 80, 100, 100, 95, 85, 90, 90, 90, 95, 95, 95, 95, 95, 70, 95, 95, 90, 95, 100, 95, 90, 95, '95', '95', '100', '75', '80', '95', '95', '95', '95', '95', '95', '90', '90', '90', '78', '95', '70', '80', '95', '95', '98', '95', '96', '0', '80', '95', '95', '95', '90', '75', '90', '95', '90', '80', '90', '70', '95', '95', '100', '80', '90', '80', '94', '85', '95', '75', '90', '100', '95', '90', '90', '95', '80', '33', '90', '95', '80', '95', '100', '95', '95', '85', '80', '95']\n",
      "[95, 95, 100, 75, 80, 95, 95, 95, 95, 95, 95, 90, 90, 90, 78, 95, 70, 80, 95, 95, 98, 95, 96, 0, 80, 95, 95, 95, 90, 75, 90, 95, 90, 80, 90, 70, 95, 95, 100, 80, 90, 80, 94, 85, 95, 75, 90, 100, 95, 90, 90, 95, 80, 33, 90, 95, 80, 95, 100, 95, 95, 85, 80, 95, 95, 80, 80, 90, 95, 90, 90, 95, 95, 95, 95, 80, 90, 80, 100, 100, 95, 85, 90, 90, 90, 95, 95, 95, 95, 95, 70, 95, 95, 90, 95, 100, 95, 90, 95, '95', '95', '100', '75', '80', '95', '95', '95', '95', '95', '95', '90', '90', '90', '78', '95', '70', '80', '95', '95', '98', '95', '96', '0', '80', '95', '95', '95', '90', '75', '90', '95', '90', '80', '90', '70', '95', '95', '100', '80', '90', '80', '94', '85', '95', '75', '90', '100', '95', '90', '90', '95', '80', '33', '90', '95', '80', '95', '100', '95', '95', '85', '80', '95', '95']\n",
      "[95, 95, 100, 75, 80, 95, 95, 95, 95, 95, 95, 90, 90, 90, 78, 95, 70, 80, 95, 95, 98, 95, 96, 0, 80, 95, 95, 95, 90, 75, 90, 95, 90, 80, 90, 70, 95, 95, 100, 80, 90, 80, 94, 85, 95, 75, 90, 100, 95, 90, 90, 95, 80, 33, 90, 95, 80, 95, 100, 95, 95, 85, 80, 95, 95, 80, 80, 90, 95, 90, 90, 95, 95, 95, 95, 80, 90, 80, 100, 100, 95, 85, 90, 90, 90, 95, 95, 95, 95, 95, 70, 95, 95, 90, 95, 100, 95, 90, 95, '95', '95', '100', '75', '80', '95', '95', '95', '95', '95', '95', '90', '90', '90', '78', '95', '70', '80', '95', '95', '98', '95', '96', '0', '80', '95', '95', '95', '90', '75', '90', '95', '90', '80', '90', '70', '95', '95', '100', '80', '90', '80', '94', '85', '95', '75', '90', '100', '95', '90', '90', '95', '80', '33', '90', '95', '80', '95', '100', '95', '95', '85', '80', '95', '95', '80']\n",
      "[95, 95, 100, 75, 80, 95, 95, 95, 95, 95, 95, 90, 90, 90, 78, 95, 70, 80, 95, 95, 98, 95, 96, 0, 80, 95, 95, 95, 90, 75, 90, 95, 90, 80, 90, 70, 95, 95, 100, 80, 90, 80, 94, 85, 95, 75, 90, 100, 95, 90, 90, 95, 80, 33, 90, 95, 80, 95, 100, 95, 95, 85, 80, 95, 95, 80, 80, 90, 95, 90, 90, 95, 95, 95, 95, 80, 90, 80, 100, 100, 95, 85, 90, 90, 90, 95, 95, 95, 95, 95, 70, 95, 95, 90, 95, 100, 95, 90, 95, '95', '95', '100', '75', '80', '95', '95', '95', '95', '95', '95', '90', '90', '90', '78', '95', '70', '80', '95', '95', '98', '95', '96', '0', '80', '95', '95', '95', '90', '75', '90', '95', '90', '80', '90', '70', '95', '95', '100', '80', '90', '80', '94', '85', '95', '75', '90', '100', '95', '90', '90', '95', '80', '33', '90', '95', '80', '95', '100', '95', '95', '85', '80', '95', '95', '80', '80']\n",
      "[95, 95, 100, 75, 80, 95, 95, 95, 95, 95, 95, 90, 90, 90, 78, 95, 70, 80, 95, 95, 98, 95, 96, 0, 80, 95, 95, 95, 90, 75, 90, 95, 90, 80, 90, 70, 95, 95, 100, 80, 90, 80, 94, 85, 95, 75, 90, 100, 95, 90, 90, 95, 80, 33, 90, 95, 80, 95, 100, 95, 95, 85, 80, 95, 95, 80, 80, 90, 95, 90, 90, 95, 95, 95, 95, 80, 90, 80, 100, 100, 95, 85, 90, 90, 90, 95, 95, 95, 95, 95, 70, 95, 95, 90, 95, 100, 95, 90, 95, '95', '95', '100', '75', '80', '95', '95', '95', '95', '95', '95', '90', '90', '90', '78', '95', '70', '80', '95', '95', '98', '95', '96', '0', '80', '95', '95', '95', '90', '75', '90', '95', '90', '80', '90', '70', '95', '95', '100', '80', '90', '80', '94', '85', '95', '75', '90', '100', '95', '90', '90', '95', '80', '33', '90', '95', '80', '95', '100', '95', '95', '85', '80', '95', '95', '80', '80', '90']\n",
      "[95, 95, 100, 75, 80, 95, 95, 95, 95, 95, 95, 90, 90, 90, 78, 95, 70, 80, 95, 95, 98, 95, 96, 0, 80, 95, 95, 95, 90, 75, 90, 95, 90, 80, 90, 70, 95, 95, 100, 80, 90, 80, 94, 85, 95, 75, 90, 100, 95, 90, 90, 95, 80, 33, 90, 95, 80, 95, 100, 95, 95, 85, 80, 95, 95, 80, 80, 90, 95, 90, 90, 95, 95, 95, 95, 80, 90, 80, 100, 100, 95, 85, 90, 90, 90, 95, 95, 95, 95, 95, 70, 95, 95, 90, 95, 100, 95, 90, 95, '95', '95', '100', '75', '80', '95', '95', '95', '95', '95', '95', '90', '90', '90', '78', '95', '70', '80', '95', '95', '98', '95', '96', '0', '80', '95', '95', '95', '90', '75', '90', '95', '90', '80', '90', '70', '95', '95', '100', '80', '90', '80', '94', '85', '95', '75', '90', '100', '95', '90', '90', '95', '80', '33', '90', '95', '80', '95', '100', '95', '95', '85', '80', '95', '95', '80', '80', '90', '95']\n",
      "[95, 95, 100, 75, 80, 95, 95, 95, 95, 95, 95, 90, 90, 90, 78, 95, 70, 80, 95, 95, 98, 95, 96, 0, 80, 95, 95, 95, 90, 75, 90, 95, 90, 80, 90, 70, 95, 95, 100, 80, 90, 80, 94, 85, 95, 75, 90, 100, 95, 90, 90, 95, 80, 33, 90, 95, 80, 95, 100, 95, 95, 85, 80, 95, 95, 80, 80, 90, 95, 90, 90, 95, 95, 95, 95, 80, 90, 80, 100, 100, 95, 85, 90, 90, 90, 95, 95, 95, 95, 95, 70, 95, 95, 90, 95, 100, 95, 90, 95, '95', '95', '100', '75', '80', '95', '95', '95', '95', '95', '95', '90', '90', '90', '78', '95', '70', '80', '95', '95', '98', '95', '96', '0', '80', '95', '95', '95', '90', '75', '90', '95', '90', '80', '90', '70', '95', '95', '100', '80', '90', '80', '94', '85', '95', '75', '90', '100', '95', '90', '90', '95', '80', '33', '90', '95', '80', '95', '100', '95', '95', '85', '80', '95', '95', '80', '80', '90', '95', '90']\n",
      "[95, 95, 100, 75, 80, 95, 95, 95, 95, 95, 95, 90, 90, 90, 78, 95, 70, 80, 95, 95, 98, 95, 96, 0, 80, 95, 95, 95, 90, 75, 90, 95, 90, 80, 90, 70, 95, 95, 100, 80, 90, 80, 94, 85, 95, 75, 90, 100, 95, 90, 90, 95, 80, 33, 90, 95, 80, 95, 100, 95, 95, 85, 80, 95, 95, 80, 80, 90, 95, 90, 90, 95, 95, 95, 95, 80, 90, 80, 100, 100, 95, 85, 90, 90, 90, 95, 95, 95, 95, 95, 70, 95, 95, 90, 95, 100, 95, 90, 95, '95', '95', '100', '75', '80', '95', '95', '95', '95', '95', '95', '90', '90', '90', '78', '95', '70', '80', '95', '95', '98', '95', '96', '0', '80', '95', '95', '95', '90', '75', '90', '95', '90', '80', '90', '70', '95', '95', '100', '80', '90', '80', '94', '85', '95', '75', '90', '100', '95', '90', '90', '95', '80', '33', '90', '95', '80', '95', '100', '95', '95', '85', '80', '95', '95', '80', '80', '90', '95', '90', '90']\n",
      "[95, 95, 100, 75, 80, 95, 95, 95, 95, 95, 95, 90, 90, 90, 78, 95, 70, 80, 95, 95, 98, 95, 96, 0, 80, 95, 95, 95, 90, 75, 90, 95, 90, 80, 90, 70, 95, 95, 100, 80, 90, 80, 94, 85, 95, 75, 90, 100, 95, 90, 90, 95, 80, 33, 90, 95, 80, 95, 100, 95, 95, 85, 80, 95, 95, 80, 80, 90, 95, 90, 90, 95, 95, 95, 95, 80, 90, 80, 100, 100, 95, 85, 90, 90, 90, 95, 95, 95, 95, 95, 70, 95, 95, 90, 95, 100, 95, 90, 95, '95', '95', '100', '75', '80', '95', '95', '95', '95', '95', '95', '90', '90', '90', '78', '95', '70', '80', '95', '95', '98', '95', '96', '0', '80', '95', '95', '95', '90', '75', '90', '95', '90', '80', '90', '70', '95', '95', '100', '80', '90', '80', '94', '85', '95', '75', '90', '100', '95', '90', '90', '95', '80', '33', '90', '95', '80', '95', '100', '95', '95', '85', '80', '95', '95', '80', '80', '90', '95', '90', '90', '95']\n",
      "[95, 95, 100, 75, 80, 95, 95, 95, 95, 95, 95, 90, 90, 90, 78, 95, 70, 80, 95, 95, 98, 95, 96, 0, 80, 95, 95, 95, 90, 75, 90, 95, 90, 80, 90, 70, 95, 95, 100, 80, 90, 80, 94, 85, 95, 75, 90, 100, 95, 90, 90, 95, 80, 33, 90, 95, 80, 95, 100, 95, 95, 85, 80, 95, 95, 80, 80, 90, 95, 90, 90, 95, 95, 95, 95, 80, 90, 80, 100, 100, 95, 85, 90, 90, 90, 95, 95, 95, 95, 95, 70, 95, 95, 90, 95, 100, 95, 90, 95, '95', '95', '100', '75', '80', '95', '95', '95', '95', '95', '95', '90', '90', '90', '78', '95', '70', '80', '95', '95', '98', '95', '96', '0', '80', '95', '95', '95', '90', '75', '90', '95', '90', '80', '90', '70', '95', '95', '100', '80', '90', '80', '94', '85', '95', '75', '90', '100', '95', '90', '90', '95', '80', '33', '90', '95', '80', '95', '100', '95', '95', '85', '80', '95', '95', '80', '80', '90', '95', '90', '90', '95', '95']\n",
      "[95, 95, 100, 75, 80, 95, 95, 95, 95, 95, 95, 90, 90, 90, 78, 95, 70, 80, 95, 95, 98, 95, 96, 0, 80, 95, 95, 95, 90, 75, 90, 95, 90, 80, 90, 70, 95, 95, 100, 80, 90, 80, 94, 85, 95, 75, 90, 100, 95, 90, 90, 95, 80, 33, 90, 95, 80, 95, 100, 95, 95, 85, 80, 95, 95, 80, 80, 90, 95, 90, 90, 95, 95, 95, 95, 80, 90, 80, 100, 100, 95, 85, 90, 90, 90, 95, 95, 95, 95, 95, 70, 95, 95, 90, 95, 100, 95, 90, 95, '95', '95', '100', '75', '80', '95', '95', '95', '95', '95', '95', '90', '90', '90', '78', '95', '70', '80', '95', '95', '98', '95', '96', '0', '80', '95', '95', '95', '90', '75', '90', '95', '90', '80', '90', '70', '95', '95', '100', '80', '90', '80', '94', '85', '95', '75', '90', '100', '95', '90', '90', '95', '80', '33', '90', '95', '80', '95', '100', '95', '95', '85', '80', '95', '95', '80', '80', '90', '95', '90', '90', '95', '95', '95']\n",
      "[95, 95, 100, 75, 80, 95, 95, 95, 95, 95, 95, 90, 90, 90, 78, 95, 70, 80, 95, 95, 98, 95, 96, 0, 80, 95, 95, 95, 90, 75, 90, 95, 90, 80, 90, 70, 95, 95, 100, 80, 90, 80, 94, 85, 95, 75, 90, 100, 95, 90, 90, 95, 80, 33, 90, 95, 80, 95, 100, 95, 95, 85, 80, 95, 95, 80, 80, 90, 95, 90, 90, 95, 95, 95, 95, 80, 90, 80, 100, 100, 95, 85, 90, 90, 90, 95, 95, 95, 95, 95, 70, 95, 95, 90, 95, 100, 95, 90, 95, '95', '95', '100', '75', '80', '95', '95', '95', '95', '95', '95', '90', '90', '90', '78', '95', '70', '80', '95', '95', '98', '95', '96', '0', '80', '95', '95', '95', '90', '75', '90', '95', '90', '80', '90', '70', '95', '95', '100', '80', '90', '80', '94', '85', '95', '75', '90', '100', '95', '90', '90', '95', '80', '33', '90', '95', '80', '95', '100', '95', '95', '85', '80', '95', '95', '80', '80', '90', '95', '90', '90', '95', '95', '95', '95']\n",
      "[95, 95, 100, 75, 80, 95, 95, 95, 95, 95, 95, 90, 90, 90, 78, 95, 70, 80, 95, 95, 98, 95, 96, 0, 80, 95, 95, 95, 90, 75, 90, 95, 90, 80, 90, 70, 95, 95, 100, 80, 90, 80, 94, 85, 95, 75, 90, 100, 95, 90, 90, 95, 80, 33, 90, 95, 80, 95, 100, 95, 95, 85, 80, 95, 95, 80, 80, 90, 95, 90, 90, 95, 95, 95, 95, 80, 90, 80, 100, 100, 95, 85, 90, 90, 90, 95, 95, 95, 95, 95, 70, 95, 95, 90, 95, 100, 95, 90, 95, '95', '95', '100', '75', '80', '95', '95', '95', '95', '95', '95', '90', '90', '90', '78', '95', '70', '80', '95', '95', '98', '95', '96', '0', '80', '95', '95', '95', '90', '75', '90', '95', '90', '80', '90', '70', '95', '95', '100', '80', '90', '80', '94', '85', '95', '75', '90', '100', '95', '90', '90', '95', '80', '33', '90', '95', '80', '95', '100', '95', '95', '85', '80', '95', '95', '80', '80', '90', '95', '90', '90', '95', '95', '95', '95', '80']\n",
      "[95, 95, 100, 75, 80, 95, 95, 95, 95, 95, 95, 90, 90, 90, 78, 95, 70, 80, 95, 95, 98, 95, 96, 0, 80, 95, 95, 95, 90, 75, 90, 95, 90, 80, 90, 70, 95, 95, 100, 80, 90, 80, 94, 85, 95, 75, 90, 100, 95, 90, 90, 95, 80, 33, 90, 95, 80, 95, 100, 95, 95, 85, 80, 95, 95, 80, 80, 90, 95, 90, 90, 95, 95, 95, 95, 80, 90, 80, 100, 100, 95, 85, 90, 90, 90, 95, 95, 95, 95, 95, 70, 95, 95, 90, 95, 100, 95, 90, 95, '95', '95', '100', '75', '80', '95', '95', '95', '95', '95', '95', '90', '90', '90', '78', '95', '70', '80', '95', '95', '98', '95', '96', '0', '80', '95', '95', '95', '90', '75', '90', '95', '90', '80', '90', '70', '95', '95', '100', '80', '90', '80', '94', '85', '95', '75', '90', '100', '95', '90', '90', '95', '80', '33', '90', '95', '80', '95', '100', '95', '95', '85', '80', '95', '95', '80', '80', '90', '95', '90', '90', '95', '95', '95', '95', '80', '90']\n",
      "[95, 95, 100, 75, 80, 95, 95, 95, 95, 95, 95, 90, 90, 90, 78, 95, 70, 80, 95, 95, 98, 95, 96, 0, 80, 95, 95, 95, 90, 75, 90, 95, 90, 80, 90, 70, 95, 95, 100, 80, 90, 80, 94, 85, 95, 75, 90, 100, 95, 90, 90, 95, 80, 33, 90, 95, 80, 95, 100, 95, 95, 85, 80, 95, 95, 80, 80, 90, 95, 90, 90, 95, 95, 95, 95, 80, 90, 80, 100, 100, 95, 85, 90, 90, 90, 95, 95, 95, 95, 95, 70, 95, 95, 90, 95, 100, 95, 90, 95, '95', '95', '100', '75', '80', '95', '95', '95', '95', '95', '95', '90', '90', '90', '78', '95', '70', '80', '95', '95', '98', '95', '96', '0', '80', '95', '95', '95', '90', '75', '90', '95', '90', '80', '90', '70', '95', '95', '100', '80', '90', '80', '94', '85', '95', '75', '90', '100', '95', '90', '90', '95', '80', '33', '90', '95', '80', '95', '100', '95', '95', '85', '80', '95', '95', '80', '80', '90', '95', '90', '90', '95', '95', '95', '95', '80', '90', '80']\n",
      "[95, 95, 100, 75, 80, 95, 95, 95, 95, 95, 95, 90, 90, 90, 78, 95, 70, 80, 95, 95, 98, 95, 96, 0, 80, 95, 95, 95, 90, 75, 90, 95, 90, 80, 90, 70, 95, 95, 100, 80, 90, 80, 94, 85, 95, 75, 90, 100, 95, 90, 90, 95, 80, 33, 90, 95, 80, 95, 100, 95, 95, 85, 80, 95, 95, 80, 80, 90, 95, 90, 90, 95, 95, 95, 95, 80, 90, 80, 100, 100, 95, 85, 90, 90, 90, 95, 95, 95, 95, 95, 70, 95, 95, 90, 95, 100, 95, 90, 95, '95', '95', '100', '75', '80', '95', '95', '95', '95', '95', '95', '90', '90', '90', '78', '95', '70', '80', '95', '95', '98', '95', '96', '0', '80', '95', '95', '95', '90', '75', '90', '95', '90', '80', '90', '70', '95', '95', '100', '80', '90', '80', '94', '85', '95', '75', '90', '100', '95', '90', '90', '95', '80', '33', '90', '95', '80', '95', '100', '95', '95', '85', '80', '95', '95', '80', '80', '90', '95', '90', '90', '95', '95', '95', '95', '80', '90', '80', '100']\n",
      "[95, 95, 100, 75, 80, 95, 95, 95, 95, 95, 95, 90, 90, 90, 78, 95, 70, 80, 95, 95, 98, 95, 96, 0, 80, 95, 95, 95, 90, 75, 90, 95, 90, 80, 90, 70, 95, 95, 100, 80, 90, 80, 94, 85, 95, 75, 90, 100, 95, 90, 90, 95, 80, 33, 90, 95, 80, 95, 100, 95, 95, 85, 80, 95, 95, 80, 80, 90, 95, 90, 90, 95, 95, 95, 95, 80, 90, 80, 100, 100, 95, 85, 90, 90, 90, 95, 95, 95, 95, 95, 70, 95, 95, 90, 95, 100, 95, 90, 95, '95', '95', '100', '75', '80', '95', '95', '95', '95', '95', '95', '90', '90', '90', '78', '95', '70', '80', '95', '95', '98', '95', '96', '0', '80', '95', '95', '95', '90', '75', '90', '95', '90', '80', '90', '70', '95', '95', '100', '80', '90', '80', '94', '85', '95', '75', '90', '100', '95', '90', '90', '95', '80', '33', '90', '95', '80', '95', '100', '95', '95', '85', '80', '95', '95', '80', '80', '90', '95', '90', '90', '95', '95', '95', '95', '80', '90', '80', '100', '100']\n",
      "[95, 95, 100, 75, 80, 95, 95, 95, 95, 95, 95, 90, 90, 90, 78, 95, 70, 80, 95, 95, 98, 95, 96, 0, 80, 95, 95, 95, 90, 75, 90, 95, 90, 80, 90, 70, 95, 95, 100, 80, 90, 80, 94, 85, 95, 75, 90, 100, 95, 90, 90, 95, 80, 33, 90, 95, 80, 95, 100, 95, 95, 85, 80, 95, 95, 80, 80, 90, 95, 90, 90, 95, 95, 95, 95, 80, 90, 80, 100, 100, 95, 85, 90, 90, 90, 95, 95, 95, 95, 95, 70, 95, 95, 90, 95, 100, 95, 90, 95, '95', '95', '100', '75', '80', '95', '95', '95', '95', '95', '95', '90', '90', '90', '78', '95', '70', '80', '95', '95', '98', '95', '96', '0', '80', '95', '95', '95', '90', '75', '90', '95', '90', '80', '90', '70', '95', '95', '100', '80', '90', '80', '94', '85', '95', '75', '90', '100', '95', '90', '90', '95', '80', '33', '90', '95', '80', '95', '100', '95', '95', '85', '80', '95', '95', '80', '80', '90', '95', '90', '90', '95', '95', '95', '95', '80', '90', '80', '100', '100', '95']\n",
      "[95, 95, 100, 75, 80, 95, 95, 95, 95, 95, 95, 90, 90, 90, 78, 95, 70, 80, 95, 95, 98, 95, 96, 0, 80, 95, 95, 95, 90, 75, 90, 95, 90, 80, 90, 70, 95, 95, 100, 80, 90, 80, 94, 85, 95, 75, 90, 100, 95, 90, 90, 95, 80, 33, 90, 95, 80, 95, 100, 95, 95, 85, 80, 95, 95, 80, 80, 90, 95, 90, 90, 95, 95, 95, 95, 80, 90, 80, 100, 100, 95, 85, 90, 90, 90, 95, 95, 95, 95, 95, 70, 95, 95, 90, 95, 100, 95, 90, 95, '95', '95', '100', '75', '80', '95', '95', '95', '95', '95', '95', '90', '90', '90', '78', '95', '70', '80', '95', '95', '98', '95', '96', '0', '80', '95', '95', '95', '90', '75', '90', '95', '90', '80', '90', '70', '95', '95', '100', '80', '90', '80', '94', '85', '95', '75', '90', '100', '95', '90', '90', '95', '80', '33', '90', '95', '80', '95', '100', '95', '95', '85', '80', '95', '95', '80', '80', '90', '95', '90', '90', '95', '95', '95', '95', '80', '90', '80', '100', '100', '95', '85']\n",
      "[95, 95, 100, 75, 80, 95, 95, 95, 95, 95, 95, 90, 90, 90, 78, 95, 70, 80, 95, 95, 98, 95, 96, 0, 80, 95, 95, 95, 90, 75, 90, 95, 90, 80, 90, 70, 95, 95, 100, 80, 90, 80, 94, 85, 95, 75, 90, 100, 95, 90, 90, 95, 80, 33, 90, 95, 80, 95, 100, 95, 95, 85, 80, 95, 95, 80, 80, 90, 95, 90, 90, 95, 95, 95, 95, 80, 90, 80, 100, 100, 95, 85, 90, 90, 90, 95, 95, 95, 95, 95, 70, 95, 95, 90, 95, 100, 95, 90, 95, '95', '95', '100', '75', '80', '95', '95', '95', '95', '95', '95', '90', '90', '90', '78', '95', '70', '80', '95', '95', '98', '95', '96', '0', '80', '95', '95', '95', '90', '75', '90', '95', '90', '80', '90', '70', '95', '95', '100', '80', '90', '80', '94', '85', '95', '75', '90', '100', '95', '90', '90', '95', '80', '33', '90', '95', '80', '95', '100', '95', '95', '85', '80', '95', '95', '80', '80', '90', '95', '90', '90', '95', '95', '95', '95', '80', '90', '80', '100', '100', '95', '85', '90']\n",
      "[95, 95, 100, 75, 80, 95, 95, 95, 95, 95, 95, 90, 90, 90, 78, 95, 70, 80, 95, 95, 98, 95, 96, 0, 80, 95, 95, 95, 90, 75, 90, 95, 90, 80, 90, 70, 95, 95, 100, 80, 90, 80, 94, 85, 95, 75, 90, 100, 95, 90, 90, 95, 80, 33, 90, 95, 80, 95, 100, 95, 95, 85, 80, 95, 95, 80, 80, 90, 95, 90, 90, 95, 95, 95, 95, 80, 90, 80, 100, 100, 95, 85, 90, 90, 90, 95, 95, 95, 95, 95, 70, 95, 95, 90, 95, 100, 95, 90, 95, '95', '95', '100', '75', '80', '95', '95', '95', '95', '95', '95', '90', '90', '90', '78', '95', '70', '80', '95', '95', '98', '95', '96', '0', '80', '95', '95', '95', '90', '75', '90', '95', '90', '80', '90', '70', '95', '95', '100', '80', '90', '80', '94', '85', '95', '75', '90', '100', '95', '90', '90', '95', '80', '33', '90', '95', '80', '95', '100', '95', '95', '85', '80', '95', '95', '80', '80', '90', '95', '90', '90', '95', '95', '95', '95', '80', '90', '80', '100', '100', '95', '85', '90', '90']\n",
      "[95, 95, 100, 75, 80, 95, 95, 95, 95, 95, 95, 90, 90, 90, 78, 95, 70, 80, 95, 95, 98, 95, 96, 0, 80, 95, 95, 95, 90, 75, 90, 95, 90, 80, 90, 70, 95, 95, 100, 80, 90, 80, 94, 85, 95, 75, 90, 100, 95, 90, 90, 95, 80, 33, 90, 95, 80, 95, 100, 95, 95, 85, 80, 95, 95, 80, 80, 90, 95, 90, 90, 95, 95, 95, 95, 80, 90, 80, 100, 100, 95, 85, 90, 90, 90, 95, 95, 95, 95, 95, 70, 95, 95, 90, 95, 100, 95, 90, 95, '95', '95', '100', '75', '80', '95', '95', '95', '95', '95', '95', '90', '90', '90', '78', '95', '70', '80', '95', '95', '98', '95', '96', '0', '80', '95', '95', '95', '90', '75', '90', '95', '90', '80', '90', '70', '95', '95', '100', '80', '90', '80', '94', '85', '95', '75', '90', '100', '95', '90', '90', '95', '80', '33', '90', '95', '80', '95', '100', '95', '95', '85', '80', '95', '95', '80', '80', '90', '95', '90', '90', '95', '95', '95', '95', '80', '90', '80', '100', '100', '95', '85', '90', '90', '90']\n",
      "[95, 95, 100, 75, 80, 95, 95, 95, 95, 95, 95, 90, 90, 90, 78, 95, 70, 80, 95, 95, 98, 95, 96, 0, 80, 95, 95, 95, 90, 75, 90, 95, 90, 80, 90, 70, 95, 95, 100, 80, 90, 80, 94, 85, 95, 75, 90, 100, 95, 90, 90, 95, 80, 33, 90, 95, 80, 95, 100, 95, 95, 85, 80, 95, 95, 80, 80, 90, 95, 90, 90, 95, 95, 95, 95, 80, 90, 80, 100, 100, 95, 85, 90, 90, 90, 95, 95, 95, 95, 95, 70, 95, 95, 90, 95, 100, 95, 90, 95, '95', '95', '100', '75', '80', '95', '95', '95', '95', '95', '95', '90', '90', '90', '78', '95', '70', '80', '95', '95', '98', '95', '96', '0', '80', '95', '95', '95', '90', '75', '90', '95', '90', '80', '90', '70', '95', '95', '100', '80', '90', '80', '94', '85', '95', '75', '90', '100', '95', '90', '90', '95', '80', '33', '90', '95', '80', '95', '100', '95', '95', '85', '80', '95', '95', '80', '80', '90', '95', '90', '90', '95', '95', '95', '95', '80', '90', '80', '100', '100', '95', '85', '90', '90', '90', '95']\n",
      "[95, 95, 100, 75, 80, 95, 95, 95, 95, 95, 95, 90, 90, 90, 78, 95, 70, 80, 95, 95, 98, 95, 96, 0, 80, 95, 95, 95, 90, 75, 90, 95, 90, 80, 90, 70, 95, 95, 100, 80, 90, 80, 94, 85, 95, 75, 90, 100, 95, 90, 90, 95, 80, 33, 90, 95, 80, 95, 100, 95, 95, 85, 80, 95, 95, 80, 80, 90, 95, 90, 90, 95, 95, 95, 95, 80, 90, 80, 100, 100, 95, 85, 90, 90, 90, 95, 95, 95, 95, 95, 70, 95, 95, 90, 95, 100, 95, 90, 95, '95', '95', '100', '75', '80', '95', '95', '95', '95', '95', '95', '90', '90', '90', '78', '95', '70', '80', '95', '95', '98', '95', '96', '0', '80', '95', '95', '95', '90', '75', '90', '95', '90', '80', '90', '70', '95', '95', '100', '80', '90', '80', '94', '85', '95', '75', '90', '100', '95', '90', '90', '95', '80', '33', '90', '95', '80', '95', '100', '95', '95', '85', '80', '95', '95', '80', '80', '90', '95', '90', '90', '95', '95', '95', '95', '80', '90', '80', '100', '100', '95', '85', '90', '90', '90', '95', '95']\n",
      "[95, 95, 100, 75, 80, 95, 95, 95, 95, 95, 95, 90, 90, 90, 78, 95, 70, 80, 95, 95, 98, 95, 96, 0, 80, 95, 95, 95, 90, 75, 90, 95, 90, 80, 90, 70, 95, 95, 100, 80, 90, 80, 94, 85, 95, 75, 90, 100, 95, 90, 90, 95, 80, 33, 90, 95, 80, 95, 100, 95, 95, 85, 80, 95, 95, 80, 80, 90, 95, 90, 90, 95, 95, 95, 95, 80, 90, 80, 100, 100, 95, 85, 90, 90, 90, 95, 95, 95, 95, 95, 70, 95, 95, 90, 95, 100, 95, 90, 95, '95', '95', '100', '75', '80', '95', '95', '95', '95', '95', '95', '90', '90', '90', '78', '95', '70', '80', '95', '95', '98', '95', '96', '0', '80', '95', '95', '95', '90', '75', '90', '95', '90', '80', '90', '70', '95', '95', '100', '80', '90', '80', '94', '85', '95', '75', '90', '100', '95', '90', '90', '95', '80', '33', '90', '95', '80', '95', '100', '95', '95', '85', '80', '95', '95', '80', '80', '90', '95', '90', '90', '95', '95', '95', '95', '80', '90', '80', '100', '100', '95', '85', '90', '90', '90', '95', '95', '95']\n",
      "[95, 95, 100, 75, 80, 95, 95, 95, 95, 95, 95, 90, 90, 90, 78, 95, 70, 80, 95, 95, 98, 95, 96, 0, 80, 95, 95, 95, 90, 75, 90, 95, 90, 80, 90, 70, 95, 95, 100, 80, 90, 80, 94, 85, 95, 75, 90, 100, 95, 90, 90, 95, 80, 33, 90, 95, 80, 95, 100, 95, 95, 85, 80, 95, 95, 80, 80, 90, 95, 90, 90, 95, 95, 95, 95, 80, 90, 80, 100, 100, 95, 85, 90, 90, 90, 95, 95, 95, 95, 95, 70, 95, 95, 90, 95, 100, 95, 90, 95, '95', '95', '100', '75', '80', '95', '95', '95', '95', '95', '95', '90', '90', '90', '78', '95', '70', '80', '95', '95', '98', '95', '96', '0', '80', '95', '95', '95', '90', '75', '90', '95', '90', '80', '90', '70', '95', '95', '100', '80', '90', '80', '94', '85', '95', '75', '90', '100', '95', '90', '90', '95', '80', '33', '90', '95', '80', '95', '100', '95', '95', '85', '80', '95', '95', '80', '80', '90', '95', '90', '90', '95', '95', '95', '95', '80', '90', '80', '100', '100', '95', '85', '90', '90', '90', '95', '95', '95', '95']\n",
      "[95, 95, 100, 75, 80, 95, 95, 95, 95, 95, 95, 90, 90, 90, 78, 95, 70, 80, 95, 95, 98, 95, 96, 0, 80, 95, 95, 95, 90, 75, 90, 95, 90, 80, 90, 70, 95, 95, 100, 80, 90, 80, 94, 85, 95, 75, 90, 100, 95, 90, 90, 95, 80, 33, 90, 95, 80, 95, 100, 95, 95, 85, 80, 95, 95, 80, 80, 90, 95, 90, 90, 95, 95, 95, 95, 80, 90, 80, 100, 100, 95, 85, 90, 90, 90, 95, 95, 95, 95, 95, 70, 95, 95, 90, 95, 100, 95, 90, 95, '95', '95', '100', '75', '80', '95', '95', '95', '95', '95', '95', '90', '90', '90', '78', '95', '70', '80', '95', '95', '98', '95', '96', '0', '80', '95', '95', '95', '90', '75', '90', '95', '90', '80', '90', '70', '95', '95', '100', '80', '90', '80', '94', '85', '95', '75', '90', '100', '95', '90', '90', '95', '80', '33', '90', '95', '80', '95', '100', '95', '95', '85', '80', '95', '95', '80', '80', '90', '95', '90', '90', '95', '95', '95', '95', '80', '90', '80', '100', '100', '95', '85', '90', '90', '90', '95', '95', '95', '95', '95']\n",
      "[95, 95, 100, 75, 80, 95, 95, 95, 95, 95, 95, 90, 90, 90, 78, 95, 70, 80, 95, 95, 98, 95, 96, 0, 80, 95, 95, 95, 90, 75, 90, 95, 90, 80, 90, 70, 95, 95, 100, 80, 90, 80, 94, 85, 95, 75, 90, 100, 95, 90, 90, 95, 80, 33, 90, 95, 80, 95, 100, 95, 95, 85, 80, 95, 95, 80, 80, 90, 95, 90, 90, 95, 95, 95, 95, 80, 90, 80, 100, 100, 95, 85, 90, 90, 90, 95, 95, 95, 95, 95, 70, 95, 95, 90, 95, 100, 95, 90, 95, '95', '95', '100', '75', '80', '95', '95', '95', '95', '95', '95', '90', '90', '90', '78', '95', '70', '80', '95', '95', '98', '95', '96', '0', '80', '95', '95', '95', '90', '75', '90', '95', '90', '80', '90', '70', '95', '95', '100', '80', '90', '80', '94', '85', '95', '75', '90', '100', '95', '90', '90', '95', '80', '33', '90', '95', '80', '95', '100', '95', '95', '85', '80', '95', '95', '80', '80', '90', '95', '90', '90', '95', '95', '95', '95', '80', '90', '80', '100', '100', '95', '85', '90', '90', '90', '95', '95', '95', '95', '95', '70']\n",
      "[95, 95, 100, 75, 80, 95, 95, 95, 95, 95, 95, 90, 90, 90, 78, 95, 70, 80, 95, 95, 98, 95, 96, 0, 80, 95, 95, 95, 90, 75, 90, 95, 90, 80, 90, 70, 95, 95, 100, 80, 90, 80, 94, 85, 95, 75, 90, 100, 95, 90, 90, 95, 80, 33, 90, 95, 80, 95, 100, 95, 95, 85, 80, 95, 95, 80, 80, 90, 95, 90, 90, 95, 95, 95, 95, 80, 90, 80, 100, 100, 95, 85, 90, 90, 90, 95, 95, 95, 95, 95, 70, 95, 95, 90, 95, 100, 95, 90, 95, '95', '95', '100', '75', '80', '95', '95', '95', '95', '95', '95', '90', '90', '90', '78', '95', '70', '80', '95', '95', '98', '95', '96', '0', '80', '95', '95', '95', '90', '75', '90', '95', '90', '80', '90', '70', '95', '95', '100', '80', '90', '80', '94', '85', '95', '75', '90', '100', '95', '90', '90', '95', '80', '33', '90', '95', '80', '95', '100', '95', '95', '85', '80', '95', '95', '80', '80', '90', '95', '90', '90', '95', '95', '95', '95', '80', '90', '80', '100', '100', '95', '85', '90', '90', '90', '95', '95', '95', '95', '95', '70', '95']\n",
      "[95, 95, 100, 75, 80, 95, 95, 95, 95, 95, 95, 90, 90, 90, 78, 95, 70, 80, 95, 95, 98, 95, 96, 0, 80, 95, 95, 95, 90, 75, 90, 95, 90, 80, 90, 70, 95, 95, 100, 80, 90, 80, 94, 85, 95, 75, 90, 100, 95, 90, 90, 95, 80, 33, 90, 95, 80, 95, 100, 95, 95, 85, 80, 95, 95, 80, 80, 90, 95, 90, 90, 95, 95, 95, 95, 80, 90, 80, 100, 100, 95, 85, 90, 90, 90, 95, 95, 95, 95, 95, 70, 95, 95, 90, 95, 100, 95, 90, 95, '95', '95', '100', '75', '80', '95', '95', '95', '95', '95', '95', '90', '90', '90', '78', '95', '70', '80', '95', '95', '98', '95', '96', '0', '80', '95', '95', '95', '90', '75', '90', '95', '90', '80', '90', '70', '95', '95', '100', '80', '90', '80', '94', '85', '95', '75', '90', '100', '95', '90', '90', '95', '80', '33', '90', '95', '80', '95', '100', '95', '95', '85', '80', '95', '95', '80', '80', '90', '95', '90', '90', '95', '95', '95', '95', '80', '90', '80', '100', '100', '95', '85', '90', '90', '90', '95', '95', '95', '95', '95', '70', '95', '95']\n",
      "[95, 95, 100, 75, 80, 95, 95, 95, 95, 95, 95, 90, 90, 90, 78, 95, 70, 80, 95, 95, 98, 95, 96, 0, 80, 95, 95, 95, 90, 75, 90, 95, 90, 80, 90, 70, 95, 95, 100, 80, 90, 80, 94, 85, 95, 75, 90, 100, 95, 90, 90, 95, 80, 33, 90, 95, 80, 95, 100, 95, 95, 85, 80, 95, 95, 80, 80, 90, 95, 90, 90, 95, 95, 95, 95, 80, 90, 80, 100, 100, 95, 85, 90, 90, 90, 95, 95, 95, 95, 95, 70, 95, 95, 90, 95, 100, 95, 90, 95, '95', '95', '100', '75', '80', '95', '95', '95', '95', '95', '95', '90', '90', '90', '78', '95', '70', '80', '95', '95', '98', '95', '96', '0', '80', '95', '95', '95', '90', '75', '90', '95', '90', '80', '90', '70', '95', '95', '100', '80', '90', '80', '94', '85', '95', '75', '90', '100', '95', '90', '90', '95', '80', '33', '90', '95', '80', '95', '100', '95', '95', '85', '80', '95', '95', '80', '80', '90', '95', '90', '90', '95', '95', '95', '95', '80', '90', '80', '100', '100', '95', '85', '90', '90', '90', '95', '95', '95', '95', '95', '70', '95', '95', '90']\n",
      "[95, 95, 100, 75, 80, 95, 95, 95, 95, 95, 95, 90, 90, 90, 78, 95, 70, 80, 95, 95, 98, 95, 96, 0, 80, 95, 95, 95, 90, 75, 90, 95, 90, 80, 90, 70, 95, 95, 100, 80, 90, 80, 94, 85, 95, 75, 90, 100, 95, 90, 90, 95, 80, 33, 90, 95, 80, 95, 100, 95, 95, 85, 80, 95, 95, 80, 80, 90, 95, 90, 90, 95, 95, 95, 95, 80, 90, 80, 100, 100, 95, 85, 90, 90, 90, 95, 95, 95, 95, 95, 70, 95, 95, 90, 95, 100, 95, 90, 95, '95', '95', '100', '75', '80', '95', '95', '95', '95', '95', '95', '90', '90', '90', '78', '95', '70', '80', '95', '95', '98', '95', '96', '0', '80', '95', '95', '95', '90', '75', '90', '95', '90', '80', '90', '70', '95', '95', '100', '80', '90', '80', '94', '85', '95', '75', '90', '100', '95', '90', '90', '95', '80', '33', '90', '95', '80', '95', '100', '95', '95', '85', '80', '95', '95', '80', '80', '90', '95', '90', '90', '95', '95', '95', '95', '80', '90', '80', '100', '100', '95', '85', '90', '90', '90', '95', '95', '95', '95', '95', '70', '95', '95', '90', '95']\n",
      "[95, 95, 100, 75, 80, 95, 95, 95, 95, 95, 95, 90, 90, 90, 78, 95, 70, 80, 95, 95, 98, 95, 96, 0, 80, 95, 95, 95, 90, 75, 90, 95, 90, 80, 90, 70, 95, 95, 100, 80, 90, 80, 94, 85, 95, 75, 90, 100, 95, 90, 90, 95, 80, 33, 90, 95, 80, 95, 100, 95, 95, 85, 80, 95, 95, 80, 80, 90, 95, 90, 90, 95, 95, 95, 95, 80, 90, 80, 100, 100, 95, 85, 90, 90, 90, 95, 95, 95, 95, 95, 70, 95, 95, 90, 95, 100, 95, 90, 95, '95', '95', '100', '75', '80', '95', '95', '95', '95', '95', '95', '90', '90', '90', '78', '95', '70', '80', '95', '95', '98', '95', '96', '0', '80', '95', '95', '95', '90', '75', '90', '95', '90', '80', '90', '70', '95', '95', '100', '80', '90', '80', '94', '85', '95', '75', '90', '100', '95', '90', '90', '95', '80', '33', '90', '95', '80', '95', '100', '95', '95', '85', '80', '95', '95', '80', '80', '90', '95', '90', '90', '95', '95', '95', '95', '80', '90', '80', '100', '100', '95', '85', '90', '90', '90', '95', '95', '95', '95', '95', '70', '95', '95', '90', '95', '100']\n",
      "[95, 95, 100, 75, 80, 95, 95, 95, 95, 95, 95, 90, 90, 90, 78, 95, 70, 80, 95, 95, 98, 95, 96, 0, 80, 95, 95, 95, 90, 75, 90, 95, 90, 80, 90, 70, 95, 95, 100, 80, 90, 80, 94, 85, 95, 75, 90, 100, 95, 90, 90, 95, 80, 33, 90, 95, 80, 95, 100, 95, 95, 85, 80, 95, 95, 80, 80, 90, 95, 90, 90, 95, 95, 95, 95, 80, 90, 80, 100, 100, 95, 85, 90, 90, 90, 95, 95, 95, 95, 95, 70, 95, 95, 90, 95, 100, 95, 90, 95, '95', '95', '100', '75', '80', '95', '95', '95', '95', '95', '95', '90', '90', '90', '78', '95', '70', '80', '95', '95', '98', '95', '96', '0', '80', '95', '95', '95', '90', '75', '90', '95', '90', '80', '90', '70', '95', '95', '100', '80', '90', '80', '94', '85', '95', '75', '90', '100', '95', '90', '90', '95', '80', '33', '90', '95', '80', '95', '100', '95', '95', '85', '80', '95', '95', '80', '80', '90', '95', '90', '90', '95', '95', '95', '95', '80', '90', '80', '100', '100', '95', '85', '90', '90', '90', '95', '95', '95', '95', '95', '70', '95', '95', '90', '95', '100', '95']\n",
      "[95, 95, 100, 75, 80, 95, 95, 95, 95, 95, 95, 90, 90, 90, 78, 95, 70, 80, 95, 95, 98, 95, 96, 0, 80, 95, 95, 95, 90, 75, 90, 95, 90, 80, 90, 70, 95, 95, 100, 80, 90, 80, 94, 85, 95, 75, 90, 100, 95, 90, 90, 95, 80, 33, 90, 95, 80, 95, 100, 95, 95, 85, 80, 95, 95, 80, 80, 90, 95, 90, 90, 95, 95, 95, 95, 80, 90, 80, 100, 100, 95, 85, 90, 90, 90, 95, 95, 95, 95, 95, 70, 95, 95, 90, 95, 100, 95, 90, 95, '95', '95', '100', '75', '80', '95', '95', '95', '95', '95', '95', '90', '90', '90', '78', '95', '70', '80', '95', '95', '98', '95', '96', '0', '80', '95', '95', '95', '90', '75', '90', '95', '90', '80', '90', '70', '95', '95', '100', '80', '90', '80', '94', '85', '95', '75', '90', '100', '95', '90', '90', '95', '80', '33', '90', '95', '80', '95', '100', '95', '95', '85', '80', '95', '95', '80', '80', '90', '95', '90', '90', '95', '95', '95', '95', '80', '90', '80', '100', '100', '95', '85', '90', '90', '90', '95', '95', '95', '95', '95', '70', '95', '95', '90', '95', '100', '95', '90']\n",
      "[95, 95, 100, 75, 80, 95, 95, 95, 95, 95, 95, 90, 90, 90, 78, 95, 70, 80, 95, 95, 98, 95, 96, 0, 80, 95, 95, 95, 90, 75, 90, 95, 90, 80, 90, 70, 95, 95, 100, 80, 90, 80, 94, 85, 95, 75, 90, 100, 95, 90, 90, 95, 80, 33, 90, 95, 80, 95, 100, 95, 95, 85, 80, 95, 95, 80, 80, 90, 95, 90, 90, 95, 95, 95, 95, 80, 90, 80, 100, 100, 95, 85, 90, 90, 90, 95, 95, 95, 95, 95, 70, 95, 95, 90, 95, 100, 95, 90, 95, '95', '95', '100', '75', '80', '95', '95', '95', '95', '95', '95', '90', '90', '90', '78', '95', '70', '80', '95', '95', '98', '95', '96', '0', '80', '95', '95', '95', '90', '75', '90', '95', '90', '80', '90', '70', '95', '95', '100', '80', '90', '80', '94', '85', '95', '75', '90', '100', '95', '90', '90', '95', '80', '33', '90', '95', '80', '95', '100', '95', '95', '85', '80', '95', '95', '80', '80', '90', '95', '90', '90', '95', '95', '95', '95', '80', '90', '80', '100', '100', '95', '85', '90', '90', '90', '95', '95', '95', '95', '95', '70', '95', '95', '90', '95', '100', '95', '90', '95']\n"
     ]
    }
   ],
   "source": [
    "for entry in answers_35:\n",
    "    confidence_category.extend(re.findall(r'\\d+', entry))\n",
    "    print(confidence_category)"
   ]
  },
  {
   "cell_type": "code",
   "execution_count": 68,
   "metadata": {
    "colab": {
     "base_uri": "https://localhost:8080/"
    },
    "id": "xFyuPBEsu34L",
    "outputId": "4637ea93-f2fa-49f8-fe7b-92da6a81b048"
   },
   "outputs": [
    {
     "data": {
      "text/plain": [
       "100"
      ]
     },
     "execution_count": 68,
     "metadata": {},
     "output_type": "execute_result"
    }
   ],
   "source": [
    "len(confidence_category)"
   ]
  },
  {
   "cell_type": "code",
   "execution_count": 67,
   "metadata": {
    "colab": {
     "base_uri": "https://localhost:8080/"
    },
    "id": "fmHmUGtGwNSw",
    "outputId": "9e16b331-8cdf-48e6-f751-cbd004ac31a3"
   },
   "outputs": [
    {
     "data": {
      "text/plain": [
       "100"
      ]
     },
     "execution_count": 67,
     "metadata": {},
     "output_type": "execute_result"
    }
   ],
   "source": [
    "len(answers_35)"
   ]
  },
  {
   "cell_type": "code",
   "execution_count": 69,
   "metadata": {
    "colab": {
     "base_uri": "https://localhost:8080/"
    },
    "id": "CyYCmUMmu7Tt",
    "outputId": "2d2f5870-cc40-44b5-ca8f-ae0f4f790e18"
   },
   "outputs": [
    {
     "data": {
      "text/plain": [
       "100"
      ]
     },
     "execution_count": 69,
     "metadata": {},
     "output_type": "execute_result"
    }
   ],
   "source": [
    "len(category_35_names)"
   ]
  },
  {
   "cell_type": "code",
   "execution_count": 75,
   "metadata": {
    "colab": {
     "base_uri": "https://localhost:8080/"
    },
    "id": "r4fsIniRsn6H",
    "outputId": "569f3e7b-7c93-42a9-8cf5-782559e5aff4"
   },
   "outputs": [
    {
     "name": "stdout",
     "output_type": "stream",
     "text": [
      "[95, 90, 90, 95, 90, 80, 95, 95, 70, 90, 90, 70, 90, 90, 90, 80, 95, 70, 90, 95, 80, 90, 95, 90, 90, 90, 90, 80, 90, 95, 95, 95, 90, 95, 90, 95, 80, 80, 95, 100, 95, 85, 85, 70, 95, 90, 90, 80, 85, 85, 80, 90, 90, 85, 70, 95, 90, 90, 90, 90, 85, 90, 80, 75, 90, 90, 85, 85, 80, 80, 85, 80, 90, 70, 80, 95, 70, 95, 90, 85, 90, 85, 95, 75, 85, 95, 90, 95, 90, 90, 90, 90, 85, 90, 75, 90, 90, 85, 70, 90]\n",
      "['negative,', 'negative', 'neutral', 'negative', 'negative', 'negative,', 'negative', 'positive', 'negative', 'positive', 'negative', 'neutral,', 'negative', 'neutral', 'neutral', 'negative', 'positive', 'neutral', 'negative', 'negative,', 'negative,', 'negative', 'neutral,', 'negative,', 'positive', 'negative', 'positive', 'negative', 'negative', 'neutral', 'negative', 'positive', 'negative', 'negative', 'negative', 'negative', 'neutral,', 'positive', 'negative,', 'negative,', 'negative', 'negative', 'negative', 'negative', 'negative', 'neutral', 'negative', 'positive', 'positive', 'negative', 'positive', 'negative', 'negative ', 'positive,', 'negative', 'negative', 'negative', 'negative,', 'negative,', 'negative', 'positive,', 'neutral,', 'neutral,', 'positive,', 'positive', 'positive', 'positive', 'neutral', 'positive', 'positive', 'neutral', 'neutral', 'negative,', 'negative', 'positive', 'positive', 'positive', 'positive', 'positive', 'neutral', 'negative', 'neutral', 'negative', 'negative', 'positive', 'negative', 'neutral', 'neutral', 'positive', 'positive', 'negative', 'positive', 'neutral', 'Categorynegative Confidence', 'positive', 'positive,', 'positive', 'Categorynegative Certainty', 'negative', 'positive']\n"
     ]
    }
   ],
   "source": [
    "import re\n",
    "confidence_sentiment = []\n",
    "sentiment_35_names=[]\n",
    "for entry in sentiment_35:\n",
    "    confidence_sentiment.extend(re.findall(r'\\d+', entry))\n",
    "    match_35=re.search(r'\\d', entry)\n",
    "    if match_35:\n",
    "      potential_name=entry[:match_35.start()].strip().replace('Percentage of certainty', '').replace('Percentage', '').replace('percentage', '').replace('Confidence level', '').replace('Companies ', '').replace('Sureness level', '').replace('I am', '').replace('Accuracy level', '').replace('Accuracy ', '').replace('Surety', '').replace('category', '').replace('percent', '').replace(' ', '').replace(':', '').replace('-', '').replace('\\n', ' ').replace('confidence', '').replace('N', 'n').replace('P', 'p')\n",
    "      sentiment_35_names.append(potential_name)\n",
    "    else:\n",
    "      potential_name=entry.strip().replace('Percentage of certainty', '').replace('Percentage', '').replace('percentage', '').replace('Confidence level', '').replace('Companies', '').replace('Sureness level', '').replace('I am', '').replace('Accuracy level', '').replace('Accuracy:', '').replace('Surety', '').replace('category', '').replace('percent', '').replace(' ', '').replace(':', '').replace('-', '').replace('\\n', ' ').replace('confidence', '').replace('N', 'n').replace('P', 'p')\n",
    "      sentiment_35_names.append(potential_name)\n",
    "\n",
    "# Convert to integers\n",
    "confidence_sentiment = list(map(int, confidence_sentiment))\n",
    "print(confidence_sentiment)\n",
    "print(sentiment_35_names)"
   ]
  },
  {
   "cell_type": "code",
   "execution_count": 82,
   "metadata": {
    "colab": {
     "base_uri": "https://localhost:8080/",
     "height": 356
    },
    "id": "Zamff5d9ulZf",
    "outputId": "b163bfc3-f2f0-46a9-cad1-8920c7a9c6ee"
   },
   "outputs": [
    {
     "ename": "ValueError",
     "evalue": "Length of values (93) does not match length of index (100)",
     "output_type": "error",
     "traceback": [
      "\u001b[0;31m---------------------------------------------------------------------------\u001b[0m",
      "\u001b[0;31mValueError\u001b[0m                                Traceback (most recent call last)",
      "\u001b[0;32m<ipython-input-82-dd81cbb11272>\u001b[0m in \u001b[0;36m<cell line: 9>\u001b[0;34m()\u001b[0m\n\u001b[1;32m      7\u001b[0m \u001b[0mdf_35\u001b[0m\u001b[0;34m[\u001b[0m\u001b[0;34m'Certainity_category'\u001b[0m\u001b[0;34m]\u001b[0m \u001b[0;34m=\u001b[0m \u001b[0mconfidence_category\u001b[0m\u001b[0;34m\u001b[0m\u001b[0;34m\u001b[0m\u001b[0m\n\u001b[1;32m      8\u001b[0m \u001b[0mdf_35\u001b[0m\u001b[0;34m[\u001b[0m\u001b[0;34m'Certainity_sentiment'\u001b[0m\u001b[0;34m]\u001b[0m \u001b[0;34m=\u001b[0m \u001b[0mconfidence_sentiment\u001b[0m\u001b[0;34m\u001b[0m\u001b[0;34m\u001b[0m\u001b[0m\n\u001b[0;32m----> 9\u001b[0;31m \u001b[0mdf_35\u001b[0m\u001b[0;34m[\u001b[0m\u001b[0;34m'Certainity_company'\u001b[0m\u001b[0;34m]\u001b[0m \u001b[0;34m=\u001b[0m \u001b[0mconfidence_company\u001b[0m\u001b[0;34m\u001b[0m\u001b[0;34m\u001b[0m\u001b[0m\n\u001b[0m\u001b[1;32m     10\u001b[0m \u001b[0mdf_35\u001b[0m\u001b[0;34m.\u001b[0m\u001b[0mto_csv\u001b[0m\u001b[0;34m(\u001b[0m\u001b[0;34m\"results_35_turbo_good_with_prob.csv\"\u001b[0m\u001b[0;34m,\u001b[0m \u001b[0mindex\u001b[0m\u001b[0;34m=\u001b[0m\u001b[0;32mFalse\u001b[0m\u001b[0;34m,\u001b[0m \u001b[0msep\u001b[0m\u001b[0;34m=\u001b[0m\u001b[0;34m';'\u001b[0m\u001b[0;34m)\u001b[0m\u001b[0;34m\u001b[0m\u001b[0;34m\u001b[0m\u001b[0m\n\u001b[1;32m     11\u001b[0m \u001b[0;31m# res = list(map(lambda st: str.replace(st, \"4\", \"1\"), test_list))\u001b[0m\u001b[0;34m\u001b[0m\u001b[0;34m\u001b[0m\u001b[0m\n",
      "\u001b[0;32m/usr/local/lib/python3.10/dist-packages/pandas/core/frame.py\u001b[0m in \u001b[0;36m__setitem__\u001b[0;34m(self, key, value)\u001b[0m\n\u001b[1;32m   4089\u001b[0m         \u001b[0;32melse\u001b[0m\u001b[0;34m:\u001b[0m\u001b[0;34m\u001b[0m\u001b[0;34m\u001b[0m\u001b[0m\n\u001b[1;32m   4090\u001b[0m             \u001b[0;31m# set column\u001b[0m\u001b[0;34m\u001b[0m\u001b[0;34m\u001b[0m\u001b[0m\n\u001b[0;32m-> 4091\u001b[0;31m             \u001b[0mself\u001b[0m\u001b[0;34m.\u001b[0m\u001b[0m_set_item\u001b[0m\u001b[0;34m(\u001b[0m\u001b[0mkey\u001b[0m\u001b[0;34m,\u001b[0m \u001b[0mvalue\u001b[0m\u001b[0;34m)\u001b[0m\u001b[0;34m\u001b[0m\u001b[0;34m\u001b[0m\u001b[0m\n\u001b[0m\u001b[1;32m   4092\u001b[0m \u001b[0;34m\u001b[0m\u001b[0m\n\u001b[1;32m   4093\u001b[0m     \u001b[0;32mdef\u001b[0m \u001b[0m_setitem_slice\u001b[0m\u001b[0;34m(\u001b[0m\u001b[0mself\u001b[0m\u001b[0;34m,\u001b[0m \u001b[0mkey\u001b[0m\u001b[0;34m:\u001b[0m \u001b[0mslice\u001b[0m\u001b[0;34m,\u001b[0m \u001b[0mvalue\u001b[0m\u001b[0;34m)\u001b[0m \u001b[0;34m->\u001b[0m \u001b[0;32mNone\u001b[0m\u001b[0;34m:\u001b[0m\u001b[0;34m\u001b[0m\u001b[0;34m\u001b[0m\u001b[0m\n",
      "\u001b[0;32m/usr/local/lib/python3.10/dist-packages/pandas/core/frame.py\u001b[0m in \u001b[0;36m_set_item\u001b[0;34m(self, key, value)\u001b[0m\n\u001b[1;32m   4298\u001b[0m         \u001b[0mensure\u001b[0m \u001b[0mhomogeneity\u001b[0m\u001b[0;34m.\u001b[0m\u001b[0;34m\u001b[0m\u001b[0;34m\u001b[0m\u001b[0m\n\u001b[1;32m   4299\u001b[0m         \"\"\"\n\u001b[0;32m-> 4300\u001b[0;31m         \u001b[0mvalue\u001b[0m\u001b[0;34m,\u001b[0m \u001b[0mrefs\u001b[0m \u001b[0;34m=\u001b[0m \u001b[0mself\u001b[0m\u001b[0;34m.\u001b[0m\u001b[0m_sanitize_column\u001b[0m\u001b[0;34m(\u001b[0m\u001b[0mvalue\u001b[0m\u001b[0;34m)\u001b[0m\u001b[0;34m\u001b[0m\u001b[0;34m\u001b[0m\u001b[0m\n\u001b[0m\u001b[1;32m   4301\u001b[0m \u001b[0;34m\u001b[0m\u001b[0m\n\u001b[1;32m   4302\u001b[0m         if (\n",
      "\u001b[0;32m/usr/local/lib/python3.10/dist-packages/pandas/core/frame.py\u001b[0m in \u001b[0;36m_sanitize_column\u001b[0;34m(self, value)\u001b[0m\n\u001b[1;32m   5037\u001b[0m \u001b[0;34m\u001b[0m\u001b[0m\n\u001b[1;32m   5038\u001b[0m         \u001b[0;32mif\u001b[0m \u001b[0mis_list_like\u001b[0m\u001b[0;34m(\u001b[0m\u001b[0mvalue\u001b[0m\u001b[0;34m)\u001b[0m\u001b[0;34m:\u001b[0m\u001b[0;34m\u001b[0m\u001b[0;34m\u001b[0m\u001b[0m\n\u001b[0;32m-> 5039\u001b[0;31m             \u001b[0mcom\u001b[0m\u001b[0;34m.\u001b[0m\u001b[0mrequire_length_match\u001b[0m\u001b[0;34m(\u001b[0m\u001b[0mvalue\u001b[0m\u001b[0;34m,\u001b[0m \u001b[0mself\u001b[0m\u001b[0;34m.\u001b[0m\u001b[0mindex\u001b[0m\u001b[0;34m)\u001b[0m\u001b[0;34m\u001b[0m\u001b[0;34m\u001b[0m\u001b[0m\n\u001b[0m\u001b[1;32m   5040\u001b[0m         \u001b[0;32mreturn\u001b[0m \u001b[0msanitize_array\u001b[0m\u001b[0;34m(\u001b[0m\u001b[0mvalue\u001b[0m\u001b[0;34m,\u001b[0m \u001b[0mself\u001b[0m\u001b[0;34m.\u001b[0m\u001b[0mindex\u001b[0m\u001b[0;34m,\u001b[0m \u001b[0mcopy\u001b[0m\u001b[0;34m=\u001b[0m\u001b[0;32mTrue\u001b[0m\u001b[0;34m,\u001b[0m \u001b[0mallow_2d\u001b[0m\u001b[0;34m=\u001b[0m\u001b[0;32mTrue\u001b[0m\u001b[0;34m)\u001b[0m\u001b[0;34m,\u001b[0m \u001b[0;32mNone\u001b[0m\u001b[0;34m\u001b[0m\u001b[0;34m\u001b[0m\u001b[0m\n\u001b[1;32m   5041\u001b[0m \u001b[0;34m\u001b[0m\u001b[0m\n",
      "\u001b[0;32m/usr/local/lib/python3.10/dist-packages/pandas/core/common.py\u001b[0m in \u001b[0;36mrequire_length_match\u001b[0;34m(data, index)\u001b[0m\n\u001b[1;32m    559\u001b[0m     \"\"\"\n\u001b[1;32m    560\u001b[0m     \u001b[0;32mif\u001b[0m \u001b[0mlen\u001b[0m\u001b[0;34m(\u001b[0m\u001b[0mdata\u001b[0m\u001b[0;34m)\u001b[0m \u001b[0;34m!=\u001b[0m \u001b[0mlen\u001b[0m\u001b[0;34m(\u001b[0m\u001b[0mindex\u001b[0m\u001b[0;34m)\u001b[0m\u001b[0;34m:\u001b[0m\u001b[0;34m\u001b[0m\u001b[0;34m\u001b[0m\u001b[0m\n\u001b[0;32m--> 561\u001b[0;31m         raise ValueError(\n\u001b[0m\u001b[1;32m    562\u001b[0m             \u001b[0;34m\"Length of values \"\u001b[0m\u001b[0;34m\u001b[0m\u001b[0;34m\u001b[0m\u001b[0m\n\u001b[1;32m    563\u001b[0m             \u001b[0;34mf\"({len(data)}) \"\u001b[0m\u001b[0;34m\u001b[0m\u001b[0;34m\u001b[0m\u001b[0m\n",
      "\u001b[0;31mValueError\u001b[0m: Length of values (93) does not match length of index (100)"
     ]
    }
   ],
   "source": [
    "# import pandas as pd\n",
    "df_35 = pd.DataFrame(columns=['Article', 'Category', 'Sentiment', 'Company', 'Certainity_category', 'Certainity_sentiment', 'Certainity_company'])\n",
    "df_35['Article'] = articles\n",
    "df_35['Category'] = category_35_names\n",
    "df_35['Sentiment'] = sentiment_35_names\n",
    "df_35['Company'] = companies_35_names\n",
    "df_35['Certainity_category'] = confidence_category\n",
    "df_35['Certainity_sentiment'] = confidence_sentiment\n",
    "df_35['Certainity_company'] = confidence_company\n",
    "df_35.to_csv(\"results_35_turbo_good_with_prob.csv\", index=False, sep=';')\n",
    "# res = list(map(lambda st: str.replace(st, \"4\", \"1\"), test_list))\n",
    "\n",
    "# df_35['Category'] = list(map(lambda st: str.replace(st[:-3], \"category: \", \"\"), answers_35))\n",
    "# df_35['Certainity_category'] = list(map(lambda st: st[-3:], answers_35))\n",
    "# df_35['Sentiment'] = list(map(lambda st: st[:-3], sentiment_35))\n",
    "# df_35['Certainity_sentiment'] = list(map(lambda st: st[-3:], sentiment_35))\n",
    "# df_35['Company'] = list(map(lambda st: st[:-3], company_35))\n",
    "# df_35['Certainity_company'] = list(map(lambda st: st[-3:], company_35))\n",
    "# df_35.to_csv(\"results_35_turbo.csv\", index=False, sep=';')\n"
   ]
  },
  {
   "cell_type": "code",
   "execution_count": 78,
   "metadata": {
    "colab": {
     "base_uri": "https://localhost:8080/"
    },
    "id": "eGYeTDaW0N94",
    "outputId": "87d3951d-e1fe-41e6-e9c1-81d59791fe27"
   },
   "outputs": [
    {
     "data": {
      "text/plain": [
       "['human_employee_rights ',\n",
       " 'human_employee_rights ',\n",
       " 'human_employee_rights ',\n",
       " 'diversity_equity_inclusion ',\n",
       " 'human_employee_rights',\n",
       " 'diversity_equity_inclusion',\n",
       " 'diversity_equity_inclusion',\n",
       " 'diversity_equity_inclusion ',\n",
       " 'environment ',\n",
       " 'environment',\n",
       " 'environment ',\n",
       " 'animal_care',\n",
       " 'animal_care ',\n",
       " 'business_involvement',\n",
       " 'environment ',\n",
       " 'human_employee_rights ',\n",
       " 'human_employee_rights ',\n",
       " 'human_employee_rights ',\n",
       " 'corporate_transparency ',\n",
       " 'corporate_transparency ',\n",
       " 'environment ',\n",
       " 'corporate_transparency ',\n",
       " 'environment',\n",
       " 'environment ',\n",
       " 'human_employee_rights ',\n",
       " 'environment',\n",
       " 'business_involvement ',\n",
       " 'corporate_transparency ',\n",
       " 'business_involvement',\n",
       " 'business_involvement ',\n",
       " 'political_and_religious_views ',\n",
       " 'environment',\n",
       " 'political_and_religious_views ',\n",
       " 'human_employee_rights ',\n",
       " 'corporate_transparency',\n",
       " 'human_employee_rights',\n",
       " 'political_and_religious_views ',\n",
       " 'corporate_transparency ',\n",
       " 'environment ',\n",
       " 'human_employee_rights ',\n",
       " 'corporate_transparency',\n",
       " 'environment ',\n",
       " 'corporate_transparency ',\n",
       " 'corporate_transparency',\n",
       " 'corporate_transparency ',\n",
       " 'business_involvement',\n",
       " 'business_involvement',\n",
       " 'human_employee_rights ',\n",
       " 'corporate_transparency',\n",
       " 'human_employee_rights ',\n",
       " 'human_employee_rights',\n",
       " 'human_employee_rights ',\n",
       " 'human_employee_rights ',\n",
       " 'environment ',\n",
       " 'environment ',\n",
       " 'environment ',\n",
       " 'human_employee_rights ',\n",
       " 'human_employee_rights ',\n",
       " 'corporate_transparency ',\n",
       " 'corporate_transparency ',\n",
       " 'environment ',\n",
       " 'human_employee_rights ',\n",
       " 'environment ',\n",
       " 'environment ',\n",
       " 'environment ',\n",
       " 'human_employee_rights ',\n",
       " 'business_involvement',\n",
       " 'business_involvement ',\n",
       " 'human_employee_rights ',\n",
       " 'environment ',\n",
       " 'business_involvement ',\n",
       " 'environment ',\n",
       " 'environment ',\n",
       " 'corporate_transparency',\n",
       " 'environment ',\n",
       " 'corporate_transparency',\n",
       " 'business_involvement ',\n",
       " 'human_employee_rights',\n",
       " 'environment ',\n",
       " 'diversity_equity_inclusion',\n",
       " 'human_employee_rights ',\n",
       " 'human_employee_rights ',\n",
       " 'human_employee_rights ',\n",
       " 'environment ',\n",
       " 'human_employee_rights ',\n",
       " 'diversity_equity_inclusion',\n",
       " 'environment',\n",
       " 'business_involvement ',\n",
       " 'business_involvement',\n",
       " 'corporate_transparency',\n",
       " 'environment ',\n",
       " 'other ',\n",
       " 'human_employee_rights ',\n",
       " 'political_and_religious_views ',\n",
       " 'human_employee_rights ',\n",
       " 'environment ',\n",
       " 'business_involvement',\n",
       " 'environment ',\n",
       " 'human_employee_rights ',\n",
       " 'environment ']"
      ]
     },
     "execution_count": 78,
     "metadata": {},
     "output_type": "execute_result"
    }
   ],
   "source": [
    "category_35_names"
   ]
  },
  {
   "cell_type": "markdown",
   "metadata": {
    "id": "qZyQRHDefr8b"
   },
   "source": [
    "##"
   ]
  }
 ],
 "metadata": {
  "colab": {
   "provenance": []
  },
  "kernelspec": {
   "display_name": "Python 3",
   "name": "python3"
  },
  "language_info": {
   "name": "python"
  }
 },
 "nbformat": 4,
 "nbformat_minor": 0
}
