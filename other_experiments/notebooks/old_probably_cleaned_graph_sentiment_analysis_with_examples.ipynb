{
  "cells": [
    {
      "cell_type": "code",
      "execution_count": 1,
      "metadata": {
        "colab": {
          "base_uri": "https://localhost:8080/"
        },
        "id": "CJdpAjvi1kDA",
        "outputId": "89923127-e122-464e-8692-dd9d44399f72"
      },
      "outputs": [
        {
          "name": "stdout",
          "output_type": "stream",
          "text": [
            "Requirement already satisfied: nltk in /usr/local/lib/python3.10/dist-packages (3.8.1)\n",
            "Requirement already satisfied: click in /usr/local/lib/python3.10/dist-packages (from nltk) (8.1.7)\n",
            "Requirement already satisfied: joblib in /usr/local/lib/python3.10/dist-packages (from nltk) (1.4.2)\n",
            "Requirement already satisfied: regex>=2021.8.3 in /usr/local/lib/python3.10/dist-packages (from nltk) (2024.5.15)\n",
            "Requirement already satisfied: tqdm in /usr/local/lib/python3.10/dist-packages (from nltk) (4.66.5)\n"
          ]
        }
      ],
      "source": [
        "!pip install nltk"
      ]
    },
    {
      "cell_type": "markdown",
      "metadata": {
        "id": "Ch_NFMaEdC__"
      },
      "source": [
        "Vader scores calculation: https://github.dev/cjhutto/vaderSentiment/blob/master/vaderSentiment/vaderSentiment.py\n",
        "- compound: float(sum(sentiments_of_words)) +/- coefficient connected to number of \"!\" and \"?\" in the sentence; later normalized\n",
        "- pos: pos_sum +/- coefficient connected to number of \"!\" and \"?\", divided by total sentiment and abs\n",
        "- neg: neg_sum +/- coefficient connected to number of \"!\" and \"?\", divided by total sentiment(pos+abs(neg)+neutral) and abs\n",
        "- neu: neu_count, divided by total sentiment(pos+abs(neg)+neutral) and abs\n"
      ]
    },
    {
      "cell_type": "markdown",
      "metadata": {
        "id": "VWmJFwOu_Dw-"
      },
      "source": [
        "# Sentiment analysis - graph based\n",
        "\n",
        "Sentiment analysis - graph based - general idea:\n",
        "\n",
        "For each text in dataset to get its sentiment:\n",
        "1. DONE (update: also using bigrams, but they are in format word_word) Get nouns, verbs, adjectives and NERs (e.g. with nltk library) - they will be the nodes of the graph. Only single words, no bigrams.\n",
        "2. DONE The weights of edges between nodes will be created based on the distance in the original text between two given words. The weight will be the sum of inverses of distances between them in the whole text.\n",
        "3. DONE (update: parameter to change if compound or singular function) For each word in node the sentiment will be calculated (e.g. with VADER model). The final outcome will be -1 for negative, 0 for neutral and 1 for positive.\n",
        "4. DONE The sentiment will later be \"weighted\". This means that for each node the sentiment from VADER will be multiplied by scaled_sum_of_weights_of_edges_to_this_node (mean of sum of weights * number of occurencies of the word in original text).\n",
        "5. DONE The sentiment of the whole text will be the normalized sum of weights for all nodes. There will be a certain threshold, which scores will be treated as neutral. In general, if sum_of_sentiment>0 than positive, < 0 negative, ~0 neutral.\n",
        "\n",
        "\n",
        "\n",
        "More details:\n",
        "- there will be a possibility to choose\n",
        "\t\t- DONE maximum number of nodes in the graph - selected will be topk words with most occurencies in the text\n",
        "\t\t- DONE max_distance between words to add the inverse to edge weight\n",
        "\t\t- DONE NER_list to provide NERs as the important ones to calculate and return the sentiment score for them instead of for the whole text\n",
        "\t\t- DONE calculate_overall_score -> to say if user wants to get the score of the whole text or just for given NERs\n",
        "    - DONE (can be as output) maybe just available dict with words and their sentiment"
      ]
    },
    {
      "cell_type": "markdown",
      "metadata": {
        "id": "k7c8HpGwE_n2"
      },
      "source": [
        "# Ideas used:\n",
        "- for NER https://spacy.io/api/entityrecognizer\n",
        "\n",
        "- https://www.nltk.org/book/ch05.html\n",
        "\n",
        "- \"NLTK offers flexible algorithms for tasks like tokenization and part-of-speech tagging, while spaCy is renowned for its speed and performance, ideal for efficient NLP solutions.\"\n",
        "\n",
        "- https://spacy.io/usage/linguistic-features"
      ]
    },
    {
      "cell_type": "code",
      "execution_count": 3,
      "metadata": {
        "colab": {
          "base_uri": "https://localhost:8080/"
        },
        "id": "r_3G_lWCAFsH",
        "outputId": "4727212f-011d-4b1e-f148-7d6075541d0f"
      },
      "outputs": [
        {
          "name": "stderr",
          "output_type": "stream",
          "text": [
            "[nltk_data] Downloading package vader_lexicon to /root/nltk_data...\n"
          ]
        }
      ],
      "source": [
        "import nltk\n",
        "nltk.download('vader_lexicon')\n",
        "from nltk.sentiment.vader import SentimentIntensityAnalyzer\n",
        "import spacy\n",
        "import numpy as np\n",
        "import pandas as pd\n",
        "import time\n",
        "from sklearn.metrics import balanced_accuracy_score"
      ]
    },
    {
      "cell_type": "code",
      "execution_count": 4,
      "metadata": {
        "id": "jXV0G_ciCn0-"
      },
      "outputs": [],
      "source": [
        "def find_ents(doc):\n",
        "  list_of_ents=[]\n",
        "  if doc.ents:\n",
        "    for ent in doc.ents:\n",
        "      list_of_ents.append(ent.text)\n",
        "  return list_of_ents"
      ]
    },
    {
      "cell_type": "code",
      "execution_count": 5,
      "metadata": {
        "id": "dKvMNtT7_OBw"
      },
      "outputs": [],
      "source": [
        "def get_words_for_nodes(text, nlp, list_ners=[], lemmatization=False, max_nodes=0):\n",
        "  doc1 = nlp(text)\n",
        "  # find ners\n",
        "  if type(list_ners)==list and len(list_ners)>0:\n",
        "    ners=list_ners\n",
        "  else:\n",
        "    ners = find_ents(doc1)\n",
        "  if lemmatization:\n",
        "    lemmatized_tokens=[token.lemma_ for token in doc1]\n",
        "    text = ' '.join(lemmatized_tokens)\n",
        "    doc1=nlp(text)\n",
        "  tags=['JJ', 'JJR', 'JJS', 'NN', 'NNP', 'NNS', 'RB', 'RBR', 'RBS', 'VB', 'VBD', 'VBG', 'VBN', 'VBP', 'VBZ']\n",
        "  nouns_verbs_etc = [token.text for token in doc1 if token.tag_ in tags]\n",
        "  text2=\" \".join([str(word).replace(\" \", \"_\") for word in list(doc1)])\n",
        "  all_nodes=[str(word).replace(\" \", \"_\") for word in list(set(ners+nouns_verbs_etc))]\n",
        "  if max_nodes !=0:\n",
        "    word_dict = {word: 0 for word in all_nodes}\n",
        "    for word in text2.split():\n",
        "      if word in word_dict.keys():\n",
        "        word_dict[word] +=1\n",
        "    word_dict_sorted=sorted(word_dict.items(), key=lambda x: x[1], reverse=True)[:max_nodes]\n",
        "    all_nodes = [item[0] for item in word_dict_sorted]\n",
        "  else:\n",
        "    word_dict=[]\n",
        "  return all_nodes,text2, ners, word_dict"
      ]
    },
    {
      "cell_type": "code",
      "execution_count": 6,
      "metadata": {
        "id": "1bKIqBDAzzgN"
      },
      "outputs": [],
      "source": [
        "nlp = spacy.load('en_core_web_sm')\n",
        "nlp.add_pipe(\"merge_noun_chunks\")\n",
        "all, text3, ners, word_dict = get_words_for_nodes(\"what is super cool in NewYork and Abu Dhabi, this is NewYork\", lemmatization=True, max_nodes=2, nlp=nlp)"
      ]
    },
    {
      "cell_type": "code",
      "execution_count": 7,
      "metadata": {
        "colab": {
          "base_uri": "https://localhost:8080/"
        },
        "id": "LOC5NzLNSbbk",
        "outputId": "713abbbb-0537-4bc6-fe4f-8de9aeaeb056"
      },
      "outputs": [
        {
          "data": {
            "text/plain": [
              "{'Abu_Dhabi': 1, 'be': 2, 'super': 1, 'cool': 1, 'NewYork': 2}"
            ]
          },
          "execution_count": 7,
          "metadata": {},
          "output_type": "execute_result"
        }
      ],
      "source": [
        "word_dict"
      ]
    },
    {
      "cell_type": "code",
      "execution_count": 8,
      "metadata": {
        "colab": {
          "base_uri": "https://localhost:8080/"
        },
        "id": "C7j0uNilEaZg",
        "outputId": "ed281b44-d521-4f86-e2b1-2c93cc953ad4"
      },
      "outputs": [
        {
          "data": {
            "text/plain": [
              "['be', 'NewYork']"
            ]
          },
          "execution_count": 8,
          "metadata": {},
          "output_type": "execute_result"
        }
      ],
      "source": [
        "all"
      ]
    },
    {
      "cell_type": "code",
      "execution_count": 9,
      "metadata": {
        "id": "2zmvFaBxSQgQ"
      },
      "outputs": [],
      "source": [
        "all, text3, ners, word_dict = get_words_for_nodes(\"what is super cool in NewYork and Abu Dhabi, this is NewYork\", lemmatization=True, max_nodes=3, nlp=nlp)"
      ]
    },
    {
      "cell_type": "code",
      "execution_count": 10,
      "metadata": {
        "colab": {
          "base_uri": "https://localhost:8080/"
        },
        "id": "7ahtlc0JSSim",
        "outputId": "a364256f-1917-4afe-9eaa-9a0d23bc7c29"
      },
      "outputs": [
        {
          "data": {
            "text/plain": [
              "['be', 'NewYork', 'Abu_Dhabi']"
            ]
          },
          "execution_count": 10,
          "metadata": {},
          "output_type": "execute_result"
        }
      ],
      "source": [
        "all"
      ]
    },
    {
      "cell_type": "code",
      "execution_count": 11,
      "metadata": {
        "id": "XzoV06uySV_E"
      },
      "outputs": [],
      "source": [
        "all, text3, ners, word_dict = get_words_for_nodes(\"what is super cool in NewYork and Abu Dhabi, this is NewYork\", lemmatization=True, max_nodes=5, nlp=nlp)"
      ]
    },
    {
      "cell_type": "code",
      "execution_count": 12,
      "metadata": {
        "colab": {
          "base_uri": "https://localhost:8080/"
        },
        "id": "uso75hbaSYed",
        "outputId": "6a2a7f6f-e91e-4f4b-ee42-9e0972b99448"
      },
      "outputs": [
        {
          "data": {
            "text/plain": [
              "['be', 'NewYork', 'Abu_Dhabi', 'super', 'cool']"
            ]
          },
          "execution_count": 12,
          "metadata": {},
          "output_type": "execute_result"
        }
      ],
      "source": [
        "all"
      ]
    },
    {
      "cell_type": "code",
      "execution_count": 13,
      "metadata": {
        "colab": {
          "base_uri": "https://localhost:8080/"
        },
        "id": "azB6en7gVB1U",
        "outputId": "8f7773fe-ff42-408c-d6b2-463376e3f016"
      },
      "outputs": [
        {
          "data": {
            "text/plain": [
              "{'Abu_Dhabi': 1, 'be': 2, 'super': 1, 'cool': 1, 'NewYork': 2}"
            ]
          },
          "execution_count": 13,
          "metadata": {},
          "output_type": "execute_result"
        }
      ],
      "source": [
        "word_dict"
      ]
    },
    {
      "cell_type": "code",
      "execution_count": 14,
      "metadata": {
        "colab": {
          "base_uri": "https://localhost:8080/",
          "height": 36
        },
        "id": "JS2EOfBdEZzW",
        "outputId": "31aacc8e-937b-446e-d5a4-ba8a441be828"
      },
      "outputs": [
        {
          "data": {
            "application/vnd.google.colaboratory.intrinsic+json": {
              "type": "string"
            },
            "text/plain": [
              "'what be super cool in NewYork and Abu_Dhabi , this be NewYork'"
            ]
          },
          "execution_count": 14,
          "metadata": {},
          "output_type": "execute_result"
        }
      ],
      "source": [
        "text3"
      ]
    },
    {
      "cell_type": "markdown",
      "metadata": {
        "id": "EHe2N7eNBtev"
      },
      "source": [
        "Links:\n",
        "- https://spacy.io/universe/project/video-spacys-ner-model\n",
        "- https://stackoverflow.com/questions/15388831/what-are-all-possible-pos-tags-of-nltk"
      ]
    },
    {
      "cell_type": "markdown",
      "metadata": {
        "id": "EiRxRvYiGe0y"
      },
      "source": [
        "## weights of edges"
      ]
    },
    {
      "cell_type": "code",
      "execution_count": 15,
      "metadata": {
        "id": "LnHlYAKKGgja"
      },
      "outputs": [],
      "source": [
        "def get_weights_of_edges(text, words, max_distance=20, ner_list=[]):\n",
        "  # if ner_list not empty, we should calculate the distances only between ners and other words\n",
        "  # and do not between other words and other words\n",
        "\n",
        "  list_from_text = text.split()\n",
        "  weight_matrix=np.zeros((len(words), len(words)))\n",
        "  occurences_list=np.zeros(len(words))\n",
        "  for i, word1 in enumerate(list_from_text):\n",
        "    j=i+1\n",
        "    try:\n",
        "      index1=words.index(word1)\n",
        "      occurences_list[index1]+=1\n",
        "    except ValueError:\n",
        "      pass\n",
        "    while j<=i+max_distance and j<len(list_from_text):\n",
        "      word2=list_from_text[j]\n",
        "      if len(ner_list) != 0 and (word1 in ner_list or word2 in ner_list):\n",
        "        try:\n",
        "          index1=words.index(word1)\n",
        "          index2=words.index(word2)\n",
        "          distance=j-i\n",
        "          if distance!=0:\n",
        "            inv_distance=1/distance\n",
        "            weight_matrix[index1][index2]+=inv_distance\n",
        "        except ValueError:\n",
        "          pass\n",
        "      elif len(ner_list)==0:\n",
        "        try:\n",
        "          index1=words.index(word1)\n",
        "          index2=words.index(word2)\n",
        "          distance=j-i\n",
        "          if distance!=0:\n",
        "            inv_distance=1/distance\n",
        "            weight_matrix[index1][index2]+=inv_distance\n",
        "        except ValueError:\n",
        "          pass\n",
        "      else:\n",
        "        pass\n",
        "      j+=1\n",
        "  return weight_matrix, occurences_list"
      ]
    },
    {
      "cell_type": "code",
      "execution_count": 16,
      "metadata": {
        "colab": {
          "base_uri": "https://localhost:8080/",
          "height": 36
        },
        "id": "3xjqYc5uKq5B",
        "outputId": "f9c2f93e-722f-40cc-b9d5-e1ab11b28061"
      },
      "outputs": [
        {
          "data": {
            "application/vnd.google.colaboratory.intrinsic+json": {
              "type": "string"
            },
            "text/plain": [
              "'what be super cool in NewYork and Abu_Dhabi , this be NewYork'"
            ]
          },
          "execution_count": 16,
          "metadata": {},
          "output_type": "execute_result"
        }
      ],
      "source": [
        "text3"
      ]
    },
    {
      "cell_type": "code",
      "execution_count": 17,
      "metadata": {
        "colab": {
          "base_uri": "https://localhost:8080/"
        },
        "id": "p4sPeG4bKrVk",
        "outputId": "1a7ad30d-9fb2-40e9-fe6b-bacca4ec2447"
      },
      "outputs": [
        {
          "data": {
            "text/plain": [
              "['be', 'NewYork', 'Abu_Dhabi', 'super', 'cool']"
            ]
          },
          "execution_count": 17,
          "metadata": {},
          "output_type": "execute_result"
        }
      ],
      "source": [
        "all"
      ]
    },
    {
      "cell_type": "code",
      "execution_count": 18,
      "metadata": {
        "id": "m7YoQnaZKs2h"
      },
      "outputs": [],
      "source": [
        "weight_matrix, occ_list=get_weights_of_edges(text3, all, max_distance=20, ner_list=[])"
      ]
    },
    {
      "cell_type": "code",
      "execution_count": 19,
      "metadata": {
        "colab": {
          "base_uri": "https://localhost:8080/"
        },
        "id": "oV7Zmv8QZg3T",
        "outputId": "620dd3dc-53f0-4c3d-aee9-13a2bf818e2e"
      },
      "outputs": [
        {
          "data": {
            "text/plain": [
              "array([2., 2., 1., 1., 1.])"
            ]
          },
          "execution_count": 19,
          "metadata": {},
          "output_type": "execute_result"
        }
      ],
      "source": [
        "occ_list"
      ]
    },
    {
      "cell_type": "code",
      "execution_count": 20,
      "metadata": {
        "colab": {
          "base_uri": "https://localhost:8080/"
        },
        "id": "AjN9P6hCapF5",
        "outputId": "198c5c5a-5306-4846-c6f5-d830e51a6e5d"
      },
      "outputs": [
        {
          "data": {
            "text/plain": [
              "array([[0.11111111, 1.35      , 0.16666667, 1.        , 0.5       ],\n",
              "       [0.2       , 0.16666667, 0.5       , 0.        , 0.        ],\n",
              "       [0.33333333, 0.25      , 0.        , 0.        , 0.        ],\n",
              "       [0.125     , 0.44444444, 0.2       , 0.        , 1.        ],\n",
              "       [0.14285714, 0.625     , 0.25      , 0.        , 0.        ]])"
            ]
          },
          "execution_count": 20,
          "metadata": {},
          "output_type": "execute_result"
        }
      ],
      "source": [
        "weight_matrix"
      ]
    },
    {
      "cell_type": "code",
      "execution_count": 21,
      "metadata": {
        "colab": {
          "base_uri": "https://localhost:8080/"
        },
        "id": "Uyq06BVl2Xyf",
        "outputId": "702b4b72-387e-4543-bd53-85c3191d6244"
      },
      "outputs": [
        {
          "data": {
            "text/plain": [
              "array([[0.        , 0.        , 0.        , 1.        , 0.        ],\n",
              "       [0.        , 0.        , 0.        , 0.        , 0.        ],\n",
              "       [0.        , 0.        , 0.        , 0.        , 0.        ],\n",
              "       [0.125     , 0.44444444, 0.2       , 0.        , 1.        ],\n",
              "       [0.        , 0.        , 0.        , 0.        , 0.        ]])"
            ]
          },
          "execution_count": 21,
          "metadata": {},
          "output_type": "execute_result"
        }
      ],
      "source": [
        "weight_matrix2, occ_list2=get_weights_of_edges(text3, all, max_distance=20, ner_list=['super'])\n",
        "weight_matrix2"
      ]
    },
    {
      "cell_type": "markdown",
      "metadata": {
        "id": "3Wi4AK6sdp34"
      },
      "source": [
        "# sentiment for each node\n",
        "\n",
        "'compound' - The normalized compound score which calculates the sum of all lexicon ratings and takes values from -1 to 1"
      ]
    },
    {
      "cell_type": "code",
      "execution_count": 22,
      "metadata": {
        "id": "6VXXmt_B6qPy"
      },
      "outputs": [],
      "source": [
        "def calculate_sentiment_for_nodes(text, compound=False):\n",
        "  analyzer = SentimentIntensityAnalyzer()\n",
        "  # Loop through the words/ bigrams from 1. and get the sentiment scores for each one\n",
        "  sentiment_scores=np.zeros(len(text))\n",
        "  for i, text in enumerate(text):\n",
        "    scores=analyzer.polarity_scores(text)\n",
        "    if compound:\n",
        "      sentiment_scores[i]=scores['compound']\n",
        "    else:\n",
        "      if scores['neg']==1.0:\n",
        "        sentiment_scores[i]=-1\n",
        "      elif scores['pos']==1.0:\n",
        "        sentiment_scores[i]=1\n",
        "  return sentiment_scores"
      ]
    },
    {
      "cell_type": "code",
      "execution_count": 23,
      "metadata": {
        "colab": {
          "base_uri": "https://localhost:8080/"
        },
        "id": "yYfSzgXkfQ4F",
        "outputId": "500580e5-f2e0-4e04-8489-2f4917f15dc7"
      },
      "outputs": [
        {
          "data": {
            "text/plain": [
              "array([0., 0., 0., 1., 1.])"
            ]
          },
          "execution_count": 23,
          "metadata": {},
          "output_type": "execute_result"
        }
      ],
      "source": [
        "calculate_sentiment_for_nodes(all, compound=False)"
      ]
    },
    {
      "cell_type": "code",
      "execution_count": 24,
      "metadata": {
        "id": "MAkc3RwBfVFT"
      },
      "outputs": [],
      "source": [
        "sentiment_scores=calculate_sentiment_for_nodes(all, compound=True)"
      ]
    },
    {
      "cell_type": "markdown",
      "metadata": {
        "id": "kPRPzn1Bfgxo"
      },
      "source": [
        "# weighting of the sentiment"
      ]
    },
    {
      "cell_type": "code",
      "execution_count": 25,
      "metadata": {
        "colab": {
          "base_uri": "https://localhost:8080/"
        },
        "id": "HH5-VIh_erCu",
        "outputId": "28ec77e9-9503-4962-d30d-6e5e2a3635a4"
      },
      "outputs": [
        {
          "data": {
            "text/plain": [
              "array([[0.11111111, 1.35      , 0.16666667, 1.        , 0.5       ],\n",
              "       [0.2       , 0.16666667, 0.5       , 0.        , 0.        ],\n",
              "       [0.33333333, 0.25      , 0.        , 0.        , 0.        ],\n",
              "       [0.125     , 0.44444444, 0.2       , 0.        , 1.        ],\n",
              "       [0.14285714, 0.625     , 0.25      , 0.        , 0.        ]])"
            ]
          },
          "execution_count": 25,
          "metadata": {},
          "output_type": "execute_result"
        }
      ],
      "source": [
        "weight_matrix"
      ]
    },
    {
      "cell_type": "code",
      "execution_count": 26,
      "metadata": {
        "colab": {
          "base_uri": "https://localhost:8080/"
        },
        "id": "OJkTIepIfpyZ",
        "outputId": "d50b6fe8-d9f4-4f61-a417-753bda65caad"
      },
      "outputs": [
        {
          "data": {
            "text/plain": [
              "array([0.    , 0.    , 0.    , 0.5994, 0.3182])"
            ]
          },
          "execution_count": 26,
          "metadata": {},
          "output_type": "execute_result"
        }
      ],
      "source": [
        "sentiment_scores"
      ]
    },
    {
      "cell_type": "code",
      "execution_count": 27,
      "metadata": {
        "colab": {
          "base_uri": "https://localhost:8080/"
        },
        "id": "0OUi_ddmfq_l",
        "outputId": "bcdda33d-aa46-4d39-ba52-a7b14efec3bf"
      },
      "outputs": [
        {
          "data": {
            "text/plain": [
              "array([2., 2., 1., 1., 1.])"
            ]
          },
          "execution_count": 27,
          "metadata": {},
          "output_type": "execute_result"
        }
      ],
      "source": [
        "occ_list"
      ]
    },
    {
      "cell_type": "code",
      "execution_count": 28,
      "metadata": {
        "id": "M-uPFw8bglqE"
      },
      "outputs": [],
      "source": [
        "def weighted_sentiment_func(weight_matrix, occ_list, sentiment_scores, words, ner_list=[]):\n",
        "  sum_columns_weights=np.sum(weight_matrix, axis=0)\n",
        "  sum_rows_weights=np.sum(weight_matrix, axis=1)\n",
        "  if len(ner_list)!=0: #if ners are predefined, calculate only for them\n",
        "    for i, word in enumerate(words):\n",
        "      if word not in ner_list:\n",
        "        sum_columns_weights[i]=0\n",
        "        sum_rows_weights[i]=0\n",
        "  sum_all_weights=sum_columns_weights+sum_rows_weights\n",
        "  count_nonzero_weights_columns=np.count_nonzero(weight_matrix, axis=0)\n",
        "  count_nonzero_weights_rows=np.count_nonzero(weight_matrix, axis=1)\n",
        "  count_nonzero_weights=count_nonzero_weights_columns+count_nonzero_weights_rows\n",
        "  count_nonzero_weights[count_nonzero_weights==0]=1\n",
        "  mean_columns_weights=sum_all_weights/count_nonzero_weights\n",
        "  total_weight=mean_columns_weights*occ_list\n",
        "  return total_weight*sentiment_scores"
      ]
    },
    {
      "cell_type": "code",
      "execution_count": 29,
      "metadata": {
        "colab": {
          "base_uri": "https://localhost:8080/"
        },
        "id": "xuGbAoUQ539N",
        "outputId": "50312080-61c0-44c5-98b0-0c1f2994034f"
      },
      "outputs": [
        {
          "data": {
            "text/plain": [
              "array([[0.        , 0.        , 0.        , 1.        , 0.        ],\n",
              "       [0.        , 0.        , 0.        , 0.        , 0.        ],\n",
              "       [0.        , 0.        , 0.        , 0.        , 0.        ],\n",
              "       [0.125     , 0.44444444, 0.2       , 0.        , 1.        ],\n",
              "       [0.        , 0.        , 0.        , 0.        , 0.        ]])"
            ]
          },
          "execution_count": 29,
          "metadata": {},
          "output_type": "execute_result"
        }
      ],
      "source": [
        "weight_matrix2"
      ]
    },
    {
      "cell_type": "code",
      "execution_count": 30,
      "metadata": {
        "colab": {
          "base_uri": "https://localhost:8080/"
        },
        "id": "wTjaFk0C67DP",
        "outputId": "4ff22a0c-a3e9-4710-b3ed-d769d66f3f3e"
      },
      "outputs": [
        {
          "data": {
            "text/plain": [
              "array([[0.11111111, 1.35      , 0.16666667, 1.        , 0.5       ],\n",
              "       [0.2       , 0.16666667, 0.5       , 0.        , 0.        ],\n",
              "       [0.33333333, 0.25      , 0.        , 0.        , 0.        ],\n",
              "       [0.125     , 0.44444444, 0.2       , 0.        , 1.        ],\n",
              "       [0.14285714, 0.625     , 0.25      , 0.        , 0.        ]])"
            ]
          },
          "execution_count": 30,
          "metadata": {},
          "output_type": "execute_result"
        }
      ],
      "source": [
        "weight_matrix"
      ]
    },
    {
      "cell_type": "code",
      "execution_count": 31,
      "metadata": {
        "id": "0RoLKhtgg2c0"
      },
      "outputs": [],
      "source": [
        "weighted_sentiment=weighted_sentiment_func(weight_matrix, occ_list, sentiment_scores, all)"
      ]
    },
    {
      "cell_type": "code",
      "execution_count": 32,
      "metadata": {
        "colab": {
          "base_uri": "https://localhost:8080/"
        },
        "id": "9drTw4dn5EEn",
        "outputId": "396b1cf0-73d8-478f-de64-a1ce341f5ee2"
      },
      "outputs": [
        {
          "data": {
            "text/plain": [
              "array([0.        , 0.        , 0.        , 0.332001  , 0.16023643])"
            ]
          },
          "execution_count": 32,
          "metadata": {},
          "output_type": "execute_result"
        }
      ],
      "source": [
        "weighted_sentiment"
      ]
    },
    {
      "cell_type": "code",
      "execution_count": 33,
      "metadata": {
        "id": "mZArw2Gw5GJ1"
      },
      "outputs": [],
      "source": [
        "weighted_sentiment=weighted_sentiment_func(weight_matrix2, occ_list, sentiment_scores, all, ner_list=[\"super\"])"
      ]
    },
    {
      "cell_type": "code",
      "execution_count": 34,
      "metadata": {
        "colab": {
          "base_uri": "https://localhost:8080/"
        },
        "id": "wXb04zMytFkX",
        "outputId": "d09ee278-ffb6-432d-fd59-0f4eb67259a3"
      },
      "outputs": [
        {
          "data": {
            "text/plain": [
              "['be', 'NewYork', 'Abu_Dhabi', 'super', 'cool']"
            ]
          },
          "execution_count": 34,
          "metadata": {},
          "output_type": "execute_result"
        }
      ],
      "source": [
        "all #'super' is fourth on list"
      ]
    },
    {
      "cell_type": "code",
      "execution_count": 35,
      "metadata": {
        "colab": {
          "base_uri": "https://localhost:8080/"
        },
        "id": "iDyLmh7m5YO2",
        "outputId": "4a997b98-c087-4835-b6ca-f9814927a0bf"
      },
      "outputs": [
        {
          "data": {
            "text/plain": [
              "array([0.      , 0.      , 0.      , 0.332001, 0.      ])"
            ]
          },
          "execution_count": 35,
          "metadata": {},
          "output_type": "execute_result"
        }
      ],
      "source": [
        "weighted_sentiment #value of sentiment for 'super' is the fourth one - the only non zero here"
      ]
    },
    {
      "cell_type": "markdown",
      "metadata": {
        "id": "B8rNsENihdp0"
      },
      "source": [
        "# sentiment of the whole text\n",
        "\n",
        "normalized?"
      ]
    },
    {
      "cell_type": "code",
      "execution_count": 36,
      "metadata": {
        "colab": {
          "base_uri": "https://localhost:8080/"
        },
        "id": "a6ILtZEehqaN",
        "outputId": "dc3bcc3a-1027-4026-816e-7df2dba4fbb4"
      },
      "outputs": [
        {
          "data": {
            "text/plain": [
              "0.332001"
            ]
          },
          "execution_count": 36,
          "metadata": {},
          "output_type": "execute_result"
        }
      ],
      "source": [
        "np.sum(weighted_sentiment)"
      ]
    },
    {
      "cell_type": "code",
      "execution_count": 37,
      "metadata": {
        "id": "UDFFM9Ohg8M9"
      },
      "outputs": [],
      "source": [
        "def calculate_sentiment_of_text(weighted_sentiment, threshold=0.05, output_number=False):\n",
        "  sum_sentiment=np.sum(weighted_sentiment)\n",
        "  if output_number:\n",
        "    if sum_sentiment>threshold:\n",
        "      return 1\n",
        "    elif sum_sentiment<-threshold:\n",
        "      return -1\n",
        "    else:\n",
        "      return 0\n",
        "  else:\n",
        "    if sum_sentiment>threshold:\n",
        "      return \"positive\"\n",
        "    elif sum_sentiment<-threshold:\n",
        "      return \"negative\"\n",
        "    else:\n",
        "      return \"neutral\""
      ]
    },
    {
      "cell_type": "code",
      "execution_count": 38,
      "metadata": {
        "colab": {
          "base_uri": "https://localhost:8080/",
          "height": 36
        },
        "id": "PMvf6QtCiBhe",
        "outputId": "c9d23c20-b907-46eb-a841-de7c0933262a"
      },
      "outputs": [
        {
          "data": {
            "application/vnd.google.colaboratory.intrinsic+json": {
              "type": "string"
            },
            "text/plain": [
              "'positive'"
            ]
          },
          "execution_count": 38,
          "metadata": {},
          "output_type": "execute_result"
        }
      ],
      "source": [
        "calculate_sentiment_of_text(weighted_sentiment)"
      ]
    },
    {
      "cell_type": "code",
      "execution_count": 39,
      "metadata": {
        "colab": {
          "base_uri": "https://localhost:8080/",
          "height": 36
        },
        "id": "gfHtEidkiRuU",
        "outputId": "6d39a795-495c-4653-923e-ffd1972c8d6e"
      },
      "outputs": [
        {
          "data": {
            "application/vnd.google.colaboratory.intrinsic+json": {
              "type": "string"
            },
            "text/plain": [
              "'negative'"
            ]
          },
          "execution_count": 39,
          "metadata": {},
          "output_type": "execute_result"
        }
      ],
      "source": [
        "calculate_sentiment_of_text([-1,2,-4])"
      ]
    },
    {
      "cell_type": "code",
      "execution_count": 40,
      "metadata": {
        "colab": {
          "base_uri": "https://localhost:8080/"
        },
        "id": "D2fY3u7SiQB0",
        "outputId": "a3a41094-2c4a-4355-9107-3f6eec46d08c"
      },
      "outputs": [
        {
          "data": {
            "text/plain": [
              "0"
            ]
          },
          "execution_count": 40,
          "metadata": {},
          "output_type": "execute_result"
        }
      ],
      "source": [
        "calculate_sentiment_of_text([0.5, -0.45], output_number=True)"
      ]
    },
    {
      "cell_type": "markdown",
      "metadata": {
        "id": "0NyS7uq-1fRF"
      },
      "source": [
        "# run all at once"
      ]
    },
    {
      "cell_type": "code",
      "execution_count": 41,
      "metadata": {
        "id": "c9jC63oO1Ke3"
      },
      "outputs": [],
      "source": [
        "def graph_sentiment_analysis(text, nlp, lemmatization=False, max_distance=20, ner_list=[], compound=False, output_number=False, calculate_overall_score=1, threshold=0.05, max_nodes=0):\n",
        "  words_all, text_all, ners_all, words_dict = get_words_for_nodes(text, lemmatization=lemmatization, nlp=nlp, max_nodes=max_nodes)\n",
        "  weight_matrix_all, occ_list_all=get_weights_of_edges(text_all, words_all, max_distance=max_distance, ner_list=ner_list)\n",
        "  sentiment_scores_all=calculate_sentiment_for_nodes(words_all, compound=compound)\n",
        "  weighted_sentiment_all=weighted_sentiment_func(weight_matrix_all, occ_list_all, sentiment_scores_all, words=words_all, ner_list=ner_list)\n",
        "  if calculate_overall_score==1:\n",
        "    return calculate_sentiment_of_text(weighted_sentiment_all, output_number=output_number, threshold=threshold)\n",
        "  elif calculate_overall_score==0:\n",
        "    return dict(zip(words_all, weighted_sentiment_all))\n",
        "  else:\n",
        "    words_all.append(\"overall_sentiment\")\n",
        "    weighted_sentiment_all=list(weighted_sentiment_all)\n",
        "    weighted_sentiment_all.append(calculate_sentiment_of_text(weighted_sentiment_all, output_number=True))\n",
        "    return dict(zip(words_all, weighted_sentiment_all))"
      ]
    },
    {
      "cell_type": "code",
      "execution_count": 42,
      "metadata": {
        "colab": {
          "base_uri": "https://localhost:8080/",
          "height": 36
        },
        "id": "iQVpcM_Ztm9q",
        "outputId": "6b0ea135-73bb-47c0-e0fc-a023fe0ba1cf"
      },
      "outputs": [
        {
          "data": {
            "application/vnd.google.colaboratory.intrinsic+json": {
              "type": "string"
            },
            "text/plain": [
              "'negative'"
            ]
          },
          "execution_count": 42,
          "metadata": {},
          "output_type": "execute_result"
        }
      ],
      "source": [
        "graph_sentiment_analysis(\"you are liar, Tom\", calculate_overall_score=1, nlp=nlp)"
      ]
    },
    {
      "cell_type": "code",
      "execution_count": 43,
      "metadata": {
        "colab": {
          "base_uri": "https://localhost:8080/"
        },
        "id": "AtDBUPCPvtfv",
        "outputId": "02d33144-9917-4e5b-e920-f9b83bbc63cb"
      },
      "outputs": [
        {
          "data": {
            "text/plain": [
              "{'liar': -0.75, 'Tom': 0.0, 'are': 0.0}"
            ]
          },
          "execution_count": 43,
          "metadata": {},
          "output_type": "execute_result"
        }
      ],
      "source": [
        "graph_sentiment_analysis(\"you are liar, Tom\", calculate_overall_score=0, nlp=nlp)"
      ]
    },
    {
      "cell_type": "code",
      "execution_count": 44,
      "metadata": {
        "colab": {
          "base_uri": "https://localhost:8080/"
        },
        "id": "v92iZUxY12iY",
        "outputId": "fd4572d9-8e69-40f6-f758-e44976abdbb9"
      },
      "outputs": [
        {
          "data": {
            "text/plain": [
              "{'liar': -0.5, 'Tom': 0.0, 'overall_sentiment': -1}"
            ]
          },
          "execution_count": 44,
          "metadata": {},
          "output_type": "execute_result"
        }
      ],
      "source": [
        "graph_sentiment_analysis(\"you are liar, Tom\", calculate_overall_score=3, nlp=nlp, max_nodes=2)"
      ]
    },
    {
      "cell_type": "code",
      "execution_count": 45,
      "metadata": {
        "colab": {
          "base_uri": "https://localhost:8080/"
        },
        "id": "ZpOQ7bXGZsfA",
        "outputId": "c37344ad-ab4c-493e-e088-c3da8a396d2f"
      },
      "outputs": [
        {
          "data": {
            "text/plain": [
              "{'liar': -0.75, 'Tom': 0.0, 'are': 0.0, 'overall_sentiment': -1}"
            ]
          },
          "execution_count": 45,
          "metadata": {},
          "output_type": "execute_result"
        }
      ],
      "source": [
        "graph_sentiment_analysis(\"you are liar, Tom\", calculate_overall_score=3, nlp=nlp)"
      ]
    },
    {
      "cell_type": "code",
      "execution_count": 46,
      "metadata": {
        "colab": {
          "base_uri": "https://localhost:8080/"
        },
        "id": "o57CO-WK132G",
        "outputId": "3da27151-f547-4c84-8004-df809ad29084"
      },
      "outputs": [
        {
          "data": {
            "text/plain": [
              "{'liar': -0.75, 'Tom': 0.0, 'are': 0.0, 'overall_sentiment': -1}"
            ]
          },
          "execution_count": 46,
          "metadata": {},
          "output_type": "execute_result"
        }
      ],
      "source": [
        "graph_sentiment_analysis(\"you are liar, Tom\", calculate_overall_score=3, ner_list=['Tom', 'liar'], nlp=nlp)"
      ]
    },
    {
      "cell_type": "markdown",
      "metadata": {
        "id": "evtGdavo3ZSa"
      },
      "source": [
        "# tests for twitter sentiment extraction dataset\n",
        "\n",
        "https://www.kaggle.com/competitions/tweet-sentiment-extraction/data"
      ]
    },
    {
      "cell_type": "code",
      "execution_count": null,
      "metadata": {
        "id": "_9mfrYk6sBpk"
      },
      "outputs": [],
      "source": [
        "import pandas as pd"
      ]
    },
    {
      "cell_type": "code",
      "execution_count": null,
      "metadata": {
        "id": "1b8zXJMbr9Iq"
      },
      "outputs": [],
      "source": [
        "test_tse_data=pd.read_csv(\"/source_repository/other_datasets_for_tests/tweet-sentiment-extraction/test.csv\")"
      ]
    },
    {
      "cell_type": "code",
      "execution_count": null,
      "metadata": {
        "colab": {
          "base_uri": "https://localhost:8080/",
          "height": 423
        },
        "id": "Qu0Lu01psQDv",
        "outputId": "c2853538-4d60-4cbb-9b19-4c0aae73a68a"
      },
      "outputs": [
        {
          "data": {
            "application/vnd.google.colaboratory.intrinsic+json": {
              "summary": "{\n  \"name\": \"test_tse_data\",\n  \"rows\": 3534,\n  \"fields\": [\n    {\n      \"column\": \"textID\",\n      \"properties\": {\n        \"dtype\": \"string\",\n        \"num_unique_values\": 3534,\n        \"samples\": [\n          \"0142108215\",\n          \"fb08563a7b\",\n          \"9a2c6ae21c\"\n        ],\n        \"semantic_type\": \"\",\n        \"description\": \"\"\n      }\n    },\n    {\n      \"column\": \"text\",\n      \"properties\": {\n        \"dtype\": \"string\",\n        \"num_unique_values\": 3534,\n        \"samples\": [\n          \" Thank you so much phaoloo !!!!\",\n          \"Midnight ice-cream weather! So **** bored\",\n          \"Ohh i forgot to tell you last night that when i was a alton towers i touched a shark  it was amazing !!!! it was nt a massive one tho\"\n        ],\n        \"semantic_type\": \"\",\n        \"description\": \"\"\n      }\n    },\n    {\n      \"column\": \"sentiment\",\n      \"properties\": {\n        \"dtype\": \"category\",\n        \"num_unique_values\": 3,\n        \"samples\": [\n          \"neutral\",\n          \"positive\",\n          \"negative\"\n        ],\n        \"semantic_type\": \"\",\n        \"description\": \"\"\n      }\n    }\n  ]\n}",
              "type": "dataframe",
              "variable_name": "test_tse_data"
            },
            "text/html": [
              "\n",
              "  <div id=\"df-9ab6c04b-ad7c-4f6a-8cdc-6495e69c622d\" class=\"colab-df-container\">\n",
              "    <div>\n",
              "<style scoped>\n",
              "    .dataframe tbody tr th:only-of-type {\n",
              "        vertical-align: middle;\n",
              "    }\n",
              "\n",
              "    .dataframe tbody tr th {\n",
              "        vertical-align: top;\n",
              "    }\n",
              "\n",
              "    .dataframe thead th {\n",
              "        text-align: right;\n",
              "    }\n",
              "</style>\n",
              "<table border=\"1\" class=\"dataframe\">\n",
              "  <thead>\n",
              "    <tr style=\"text-align: right;\">\n",
              "      <th></th>\n",
              "      <th>textID</th>\n",
              "      <th>text</th>\n",
              "      <th>sentiment</th>\n",
              "    </tr>\n",
              "  </thead>\n",
              "  <tbody>\n",
              "    <tr>\n",
              "      <th>0</th>\n",
              "      <td>f87dea47db</td>\n",
              "      <td>Last session of the day  http://twitpic.com/67ezh</td>\n",
              "      <td>neutral</td>\n",
              "    </tr>\n",
              "    <tr>\n",
              "      <th>1</th>\n",
              "      <td>96d74cb729</td>\n",
              "      <td>Shanghai is also really exciting (precisely -...</td>\n",
              "      <td>positive</td>\n",
              "    </tr>\n",
              "    <tr>\n",
              "      <th>2</th>\n",
              "      <td>eee518ae67</td>\n",
              "      <td>Recession hit Veronique Branquinho, she has to...</td>\n",
              "      <td>negative</td>\n",
              "    </tr>\n",
              "    <tr>\n",
              "      <th>3</th>\n",
              "      <td>01082688c6</td>\n",
              "      <td>happy bday!</td>\n",
              "      <td>positive</td>\n",
              "    </tr>\n",
              "    <tr>\n",
              "      <th>4</th>\n",
              "      <td>33987a8ee5</td>\n",
              "      <td>http://twitpic.com/4w75p - I like it!!</td>\n",
              "      <td>positive</td>\n",
              "    </tr>\n",
              "    <tr>\n",
              "      <th>...</th>\n",
              "      <td>...</td>\n",
              "      <td>...</td>\n",
              "      <td>...</td>\n",
              "    </tr>\n",
              "    <tr>\n",
              "      <th>3529</th>\n",
              "      <td>e5f0e6ef4b</td>\n",
              "      <td>its at 3 am, im very tired but i can`t sleep  ...</td>\n",
              "      <td>negative</td>\n",
              "    </tr>\n",
              "    <tr>\n",
              "      <th>3530</th>\n",
              "      <td>416863ce47</td>\n",
              "      <td>All alone in this old house again.  Thanks for...</td>\n",
              "      <td>positive</td>\n",
              "    </tr>\n",
              "    <tr>\n",
              "      <th>3531</th>\n",
              "      <td>6332da480c</td>\n",
              "      <td>I know what you mean. My little dog is sinkin...</td>\n",
              "      <td>negative</td>\n",
              "    </tr>\n",
              "    <tr>\n",
              "      <th>3532</th>\n",
              "      <td>df1baec676</td>\n",
              "      <td>_sutra what is your next youtube video gonna b...</td>\n",
              "      <td>positive</td>\n",
              "    </tr>\n",
              "    <tr>\n",
              "      <th>3533</th>\n",
              "      <td>469e15c5a8</td>\n",
              "      <td>http://twitpic.com/4woj2 - omgssh  ang cute n...</td>\n",
              "      <td>positive</td>\n",
              "    </tr>\n",
              "  </tbody>\n",
              "</table>\n",
              "<p>3534 rows × 3 columns</p>\n",
              "</div>\n",
              "    <div class=\"colab-df-buttons\">\n",
              "\n",
              "  <div class=\"colab-df-container\">\n",
              "    <button class=\"colab-df-convert\" onclick=\"convertToInteractive('df-9ab6c04b-ad7c-4f6a-8cdc-6495e69c622d')\"\n",
              "            title=\"Convert this dataframe to an interactive table.\"\n",
              "            style=\"display:none;\">\n",
              "\n",
              "  <svg xmlns=\"http://www.w3.org/2000/svg\" height=\"24px\" viewBox=\"0 -960 960 960\">\n",
              "    <path d=\"M120-120v-720h720v720H120Zm60-500h600v-160H180v160Zm220 220h160v-160H400v160Zm0 220h160v-160H400v160ZM180-400h160v-160H180v160Zm440 0h160v-160H620v160ZM180-180h160v-160H180v160Zm440 0h160v-160H620v160Z\"/>\n",
              "  </svg>\n",
              "    </button>\n",
              "\n",
              "  <style>\n",
              "    .colab-df-container {\n",
              "      display:flex;\n",
              "      gap: 12px;\n",
              "    }\n",
              "\n",
              "    .colab-df-convert {\n",
              "      background-color: #E8F0FE;\n",
              "      border: none;\n",
              "      border-radius: 50%;\n",
              "      cursor: pointer;\n",
              "      display: none;\n",
              "      fill: #1967D2;\n",
              "      height: 32px;\n",
              "      padding: 0 0 0 0;\n",
              "      width: 32px;\n",
              "    }\n",
              "\n",
              "    .colab-df-convert:hover {\n",
              "      background-color: #E2EBFA;\n",
              "      box-shadow: 0px 1px 2px rgba(60, 64, 67, 0.3), 0px 1px 3px 1px rgba(60, 64, 67, 0.15);\n",
              "      fill: #174EA6;\n",
              "    }\n",
              "\n",
              "    .colab-df-buttons div {\n",
              "      margin-bottom: 4px;\n",
              "    }\n",
              "\n",
              "    [theme=dark] .colab-df-convert {\n",
              "      background-color: #3B4455;\n",
              "      fill: #D2E3FC;\n",
              "    }\n",
              "\n",
              "    [theme=dark] .colab-df-convert:hover {\n",
              "      background-color: #434B5C;\n",
              "      box-shadow: 0px 1px 3px 1px rgba(0, 0, 0, 0.15);\n",
              "      filter: drop-shadow(0px 1px 2px rgba(0, 0, 0, 0.3));\n",
              "      fill: #FFFFFF;\n",
              "    }\n",
              "  </style>\n",
              "\n",
              "    <script>\n",
              "      const buttonEl =\n",
              "        document.querySelector('#df-9ab6c04b-ad7c-4f6a-8cdc-6495e69c622d button.colab-df-convert');\n",
              "      buttonEl.style.display =\n",
              "        google.colab.kernel.accessAllowed ? 'block' : 'none';\n",
              "\n",
              "      async function convertToInteractive(key) {\n",
              "        const element = document.querySelector('#df-9ab6c04b-ad7c-4f6a-8cdc-6495e69c622d');\n",
              "        const dataTable =\n",
              "          await google.colab.kernel.invokeFunction('convertToInteractive',\n",
              "                                                    [key], {});\n",
              "        if (!dataTable) return;\n",
              "\n",
              "        const docLinkHtml = 'Like what you see? Visit the ' +\n",
              "          '<a target=\"_blank\" href=https://colab.research.google.com/notebooks/data_table.ipynb>data table notebook</a>'\n",
              "          + ' to learn more about interactive tables.';\n",
              "        element.innerHTML = '';\n",
              "        dataTable['output_type'] = 'display_data';\n",
              "        await google.colab.output.renderOutput(dataTable, element);\n",
              "        const docLink = document.createElement('div');\n",
              "        docLink.innerHTML = docLinkHtml;\n",
              "        element.appendChild(docLink);\n",
              "      }\n",
              "    </script>\n",
              "  </div>\n",
              "\n",
              "\n",
              "<div id=\"df-9fa3e59a-8593-4996-b496-21cad40a80e2\">\n",
              "  <button class=\"colab-df-quickchart\" onclick=\"quickchart('df-9fa3e59a-8593-4996-b496-21cad40a80e2')\"\n",
              "            title=\"Suggest charts\"\n",
              "            style=\"display:none;\">\n",
              "\n",
              "<svg xmlns=\"http://www.w3.org/2000/svg\" height=\"24px\"viewBox=\"0 0 24 24\"\n",
              "     width=\"24px\">\n",
              "    <g>\n",
              "        <path d=\"M19 3H5c-1.1 0-2 .9-2 2v14c0 1.1.9 2 2 2h14c1.1 0 2-.9 2-2V5c0-1.1-.9-2-2-2zM9 17H7v-7h2v7zm4 0h-2V7h2v10zm4 0h-2v-4h2v4z\"/>\n",
              "    </g>\n",
              "</svg>\n",
              "  </button>\n",
              "\n",
              "<style>\n",
              "  .colab-df-quickchart {\n",
              "      --bg-color: #E8F0FE;\n",
              "      --fill-color: #1967D2;\n",
              "      --hover-bg-color: #E2EBFA;\n",
              "      --hover-fill-color: #174EA6;\n",
              "      --disabled-fill-color: #AAA;\n",
              "      --disabled-bg-color: #DDD;\n",
              "  }\n",
              "\n",
              "  [theme=dark] .colab-df-quickchart {\n",
              "      --bg-color: #3B4455;\n",
              "      --fill-color: #D2E3FC;\n",
              "      --hover-bg-color: #434B5C;\n",
              "      --hover-fill-color: #FFFFFF;\n",
              "      --disabled-bg-color: #3B4455;\n",
              "      --disabled-fill-color: #666;\n",
              "  }\n",
              "\n",
              "  .colab-df-quickchart {\n",
              "    background-color: var(--bg-color);\n",
              "    border: none;\n",
              "    border-radius: 50%;\n",
              "    cursor: pointer;\n",
              "    display: none;\n",
              "    fill: var(--fill-color);\n",
              "    height: 32px;\n",
              "    padding: 0;\n",
              "    width: 32px;\n",
              "  }\n",
              "\n",
              "  .colab-df-quickchart:hover {\n",
              "    background-color: var(--hover-bg-color);\n",
              "    box-shadow: 0 1px 2px rgba(60, 64, 67, 0.3), 0 1px 3px 1px rgba(60, 64, 67, 0.15);\n",
              "    fill: var(--button-hover-fill-color);\n",
              "  }\n",
              "\n",
              "  .colab-df-quickchart-complete:disabled,\n",
              "  .colab-df-quickchart-complete:disabled:hover {\n",
              "    background-color: var(--disabled-bg-color);\n",
              "    fill: var(--disabled-fill-color);\n",
              "    box-shadow: none;\n",
              "  }\n",
              "\n",
              "  .colab-df-spinner {\n",
              "    border: 2px solid var(--fill-color);\n",
              "    border-color: transparent;\n",
              "    border-bottom-color: var(--fill-color);\n",
              "    animation:\n",
              "      spin 1s steps(1) infinite;\n",
              "  }\n",
              "\n",
              "  @keyframes spin {\n",
              "    0% {\n",
              "      border-color: transparent;\n",
              "      border-bottom-color: var(--fill-color);\n",
              "      border-left-color: var(--fill-color);\n",
              "    }\n",
              "    20% {\n",
              "      border-color: transparent;\n",
              "      border-left-color: var(--fill-color);\n",
              "      border-top-color: var(--fill-color);\n",
              "    }\n",
              "    30% {\n",
              "      border-color: transparent;\n",
              "      border-left-color: var(--fill-color);\n",
              "      border-top-color: var(--fill-color);\n",
              "      border-right-color: var(--fill-color);\n",
              "    }\n",
              "    40% {\n",
              "      border-color: transparent;\n",
              "      border-right-color: var(--fill-color);\n",
              "      border-top-color: var(--fill-color);\n",
              "    }\n",
              "    60% {\n",
              "      border-color: transparent;\n",
              "      border-right-color: var(--fill-color);\n",
              "    }\n",
              "    80% {\n",
              "      border-color: transparent;\n",
              "      border-right-color: var(--fill-color);\n",
              "      border-bottom-color: var(--fill-color);\n",
              "    }\n",
              "    90% {\n",
              "      border-color: transparent;\n",
              "      border-bottom-color: var(--fill-color);\n",
              "    }\n",
              "  }\n",
              "</style>\n",
              "\n",
              "  <script>\n",
              "    async function quickchart(key) {\n",
              "      const quickchartButtonEl =\n",
              "        document.querySelector('#' + key + ' button');\n",
              "      quickchartButtonEl.disabled = true;  // To prevent multiple clicks.\n",
              "      quickchartButtonEl.classList.add('colab-df-spinner');\n",
              "      try {\n",
              "        const charts = await google.colab.kernel.invokeFunction(\n",
              "            'suggestCharts', [key], {});\n",
              "      } catch (error) {\n",
              "        console.error('Error during call to suggestCharts:', error);\n",
              "      }\n",
              "      quickchartButtonEl.classList.remove('colab-df-spinner');\n",
              "      quickchartButtonEl.classList.add('colab-df-quickchart-complete');\n",
              "    }\n",
              "    (() => {\n",
              "      let quickchartButtonEl =\n",
              "        document.querySelector('#df-9fa3e59a-8593-4996-b496-21cad40a80e2 button');\n",
              "      quickchartButtonEl.style.display =\n",
              "        google.colab.kernel.accessAllowed ? 'block' : 'none';\n",
              "    })();\n",
              "  </script>\n",
              "</div>\n",
              "    </div>\n",
              "  </div>\n"
            ],
            "text/plain": [
              "          textID                                               text sentiment\n",
              "0     f87dea47db  Last session of the day  http://twitpic.com/67ezh   neutral\n",
              "1     96d74cb729   Shanghai is also really exciting (precisely -...  positive\n",
              "2     eee518ae67  Recession hit Veronique Branquinho, she has to...  negative\n",
              "3     01082688c6                                        happy bday!  positive\n",
              "4     33987a8ee5             http://twitpic.com/4w75p - I like it!!  positive\n",
              "...          ...                                                ...       ...\n",
              "3529  e5f0e6ef4b  its at 3 am, im very tired but i can`t sleep  ...  negative\n",
              "3530  416863ce47  All alone in this old house again.  Thanks for...  positive\n",
              "3531  6332da480c   I know what you mean. My little dog is sinkin...  negative\n",
              "3532  df1baec676  _sutra what is your next youtube video gonna b...  positive\n",
              "3533  469e15c5a8   http://twitpic.com/4woj2 - omgssh  ang cute n...  positive\n",
              "\n",
              "[3534 rows x 3 columns]"
            ]
          },
          "execution_count": 15,
          "metadata": {},
          "output_type": "execute_result"
        }
      ],
      "source": [
        "test_tse_data"
      ]
    },
    {
      "cell_type": "code",
      "execution_count": null,
      "metadata": {
        "id": "j0m5Mbg9sa24"
      },
      "outputs": [],
      "source": [
        "test_tse_data[\"predicted_sentiment\"]=''"
      ]
    },
    {
      "cell_type": "code",
      "execution_count": null,
      "metadata": {
        "colab": {
          "base_uri": "https://localhost:8080/",
          "height": 423
        },
        "id": "L1z6E2lds3P-",
        "outputId": "8a6c9787-a2c6-4f9b-bbda-6e200b819b7c"
      },
      "outputs": [
        {
          "data": {
            "application/vnd.google.colaboratory.intrinsic+json": {
              "summary": "{\n  \"name\": \"test_tse_data\",\n  \"rows\": 3534,\n  \"fields\": [\n    {\n      \"column\": \"textID\",\n      \"properties\": {\n        \"dtype\": \"string\",\n        \"num_unique_values\": 3534,\n        \"samples\": [\n          \"0142108215\",\n          \"fb08563a7b\",\n          \"9a2c6ae21c\"\n        ],\n        \"semantic_type\": \"\",\n        \"description\": \"\"\n      }\n    },\n    {\n      \"column\": \"text\",\n      \"properties\": {\n        \"dtype\": \"string\",\n        \"num_unique_values\": 3534,\n        \"samples\": [\n          \" Thank you so much phaoloo !!!!\",\n          \"Midnight ice-cream weather! So **** bored\",\n          \"Ohh i forgot to tell you last night that when i was a alton towers i touched a shark  it was amazing !!!! it was nt a massive one tho\"\n        ],\n        \"semantic_type\": \"\",\n        \"description\": \"\"\n      }\n    },\n    {\n      \"column\": \"sentiment\",\n      \"properties\": {\n        \"dtype\": \"category\",\n        \"num_unique_values\": 3,\n        \"samples\": [\n          \"neutral\",\n          \"positive\",\n          \"negative\"\n        ],\n        \"semantic_type\": \"\",\n        \"description\": \"\"\n      }\n    },\n    {\n      \"column\": \"predicted_sentiment\",\n      \"properties\": {\n        \"dtype\": \"object\",\n        \"num_unique_values\": 1,\n        \"samples\": [\n          \"\"\n        ],\n        \"semantic_type\": \"\",\n        \"description\": \"\"\n      }\n    }\n  ]\n}",
              "type": "dataframe",
              "variable_name": "test_tse_data"
            },
            "text/html": [
              "\n",
              "  <div id=\"df-71b7b17e-261f-4282-a281-57dfe9924334\" class=\"colab-df-container\">\n",
              "    <div>\n",
              "<style scoped>\n",
              "    .dataframe tbody tr th:only-of-type {\n",
              "        vertical-align: middle;\n",
              "    }\n",
              "\n",
              "    .dataframe tbody tr th {\n",
              "        vertical-align: top;\n",
              "    }\n",
              "\n",
              "    .dataframe thead th {\n",
              "        text-align: right;\n",
              "    }\n",
              "</style>\n",
              "<table border=\"1\" class=\"dataframe\">\n",
              "  <thead>\n",
              "    <tr style=\"text-align: right;\">\n",
              "      <th></th>\n",
              "      <th>textID</th>\n",
              "      <th>text</th>\n",
              "      <th>sentiment</th>\n",
              "      <th>predicted_sentiment</th>\n",
              "    </tr>\n",
              "  </thead>\n",
              "  <tbody>\n",
              "    <tr>\n",
              "      <th>0</th>\n",
              "      <td>f87dea47db</td>\n",
              "      <td>Last session of the day  http://twitpic.com/67ezh</td>\n",
              "      <td>neutral</td>\n",
              "      <td></td>\n",
              "    </tr>\n",
              "    <tr>\n",
              "      <th>1</th>\n",
              "      <td>96d74cb729</td>\n",
              "      <td>Shanghai is also really exciting (precisely -...</td>\n",
              "      <td>positive</td>\n",
              "      <td></td>\n",
              "    </tr>\n",
              "    <tr>\n",
              "      <th>2</th>\n",
              "      <td>eee518ae67</td>\n",
              "      <td>Recession hit Veronique Branquinho, she has to...</td>\n",
              "      <td>negative</td>\n",
              "      <td></td>\n",
              "    </tr>\n",
              "    <tr>\n",
              "      <th>3</th>\n",
              "      <td>01082688c6</td>\n",
              "      <td>happy bday!</td>\n",
              "      <td>positive</td>\n",
              "      <td></td>\n",
              "    </tr>\n",
              "    <tr>\n",
              "      <th>4</th>\n",
              "      <td>33987a8ee5</td>\n",
              "      <td>http://twitpic.com/4w75p - I like it!!</td>\n",
              "      <td>positive</td>\n",
              "      <td></td>\n",
              "    </tr>\n",
              "    <tr>\n",
              "      <th>...</th>\n",
              "      <td>...</td>\n",
              "      <td>...</td>\n",
              "      <td>...</td>\n",
              "      <td>...</td>\n",
              "    </tr>\n",
              "    <tr>\n",
              "      <th>3529</th>\n",
              "      <td>e5f0e6ef4b</td>\n",
              "      <td>its at 3 am, im very tired but i can`t sleep  ...</td>\n",
              "      <td>negative</td>\n",
              "      <td></td>\n",
              "    </tr>\n",
              "    <tr>\n",
              "      <th>3530</th>\n",
              "      <td>416863ce47</td>\n",
              "      <td>All alone in this old house again.  Thanks for...</td>\n",
              "      <td>positive</td>\n",
              "      <td></td>\n",
              "    </tr>\n",
              "    <tr>\n",
              "      <th>3531</th>\n",
              "      <td>6332da480c</td>\n",
              "      <td>I know what you mean. My little dog is sinkin...</td>\n",
              "      <td>negative</td>\n",
              "      <td></td>\n",
              "    </tr>\n",
              "    <tr>\n",
              "      <th>3532</th>\n",
              "      <td>df1baec676</td>\n",
              "      <td>_sutra what is your next youtube video gonna b...</td>\n",
              "      <td>positive</td>\n",
              "      <td></td>\n",
              "    </tr>\n",
              "    <tr>\n",
              "      <th>3533</th>\n",
              "      <td>469e15c5a8</td>\n",
              "      <td>http://twitpic.com/4woj2 - omgssh  ang cute n...</td>\n",
              "      <td>positive</td>\n",
              "      <td></td>\n",
              "    </tr>\n",
              "  </tbody>\n",
              "</table>\n",
              "<p>3534 rows × 4 columns</p>\n",
              "</div>\n",
              "    <div class=\"colab-df-buttons\">\n",
              "\n",
              "  <div class=\"colab-df-container\">\n",
              "    <button class=\"colab-df-convert\" onclick=\"convertToInteractive('df-71b7b17e-261f-4282-a281-57dfe9924334')\"\n",
              "            title=\"Convert this dataframe to an interactive table.\"\n",
              "            style=\"display:none;\">\n",
              "\n",
              "  <svg xmlns=\"http://www.w3.org/2000/svg\" height=\"24px\" viewBox=\"0 -960 960 960\">\n",
              "    <path d=\"M120-120v-720h720v720H120Zm60-500h600v-160H180v160Zm220 220h160v-160H400v160Zm0 220h160v-160H400v160ZM180-400h160v-160H180v160Zm440 0h160v-160H620v160ZM180-180h160v-160H180v160Zm440 0h160v-160H620v160Z\"/>\n",
              "  </svg>\n",
              "    </button>\n",
              "\n",
              "  <style>\n",
              "    .colab-df-container {\n",
              "      display:flex;\n",
              "      gap: 12px;\n",
              "    }\n",
              "\n",
              "    .colab-df-convert {\n",
              "      background-color: #E8F0FE;\n",
              "      border: none;\n",
              "      border-radius: 50%;\n",
              "      cursor: pointer;\n",
              "      display: none;\n",
              "      fill: #1967D2;\n",
              "      height: 32px;\n",
              "      padding: 0 0 0 0;\n",
              "      width: 32px;\n",
              "    }\n",
              "\n",
              "    .colab-df-convert:hover {\n",
              "      background-color: #E2EBFA;\n",
              "      box-shadow: 0px 1px 2px rgba(60, 64, 67, 0.3), 0px 1px 3px 1px rgba(60, 64, 67, 0.15);\n",
              "      fill: #174EA6;\n",
              "    }\n",
              "\n",
              "    .colab-df-buttons div {\n",
              "      margin-bottom: 4px;\n",
              "    }\n",
              "\n",
              "    [theme=dark] .colab-df-convert {\n",
              "      background-color: #3B4455;\n",
              "      fill: #D2E3FC;\n",
              "    }\n",
              "\n",
              "    [theme=dark] .colab-df-convert:hover {\n",
              "      background-color: #434B5C;\n",
              "      box-shadow: 0px 1px 3px 1px rgba(0, 0, 0, 0.15);\n",
              "      filter: drop-shadow(0px 1px 2px rgba(0, 0, 0, 0.3));\n",
              "      fill: #FFFFFF;\n",
              "    }\n",
              "  </style>\n",
              "\n",
              "    <script>\n",
              "      const buttonEl =\n",
              "        document.querySelector('#df-71b7b17e-261f-4282-a281-57dfe9924334 button.colab-df-convert');\n",
              "      buttonEl.style.display =\n",
              "        google.colab.kernel.accessAllowed ? 'block' : 'none';\n",
              "\n",
              "      async function convertToInteractive(key) {\n",
              "        const element = document.querySelector('#df-71b7b17e-261f-4282-a281-57dfe9924334');\n",
              "        const dataTable =\n",
              "          await google.colab.kernel.invokeFunction('convertToInteractive',\n",
              "                                                    [key], {});\n",
              "        if (!dataTable) return;\n",
              "\n",
              "        const docLinkHtml = 'Like what you see? Visit the ' +\n",
              "          '<a target=\"_blank\" href=https://colab.research.google.com/notebooks/data_table.ipynb>data table notebook</a>'\n",
              "          + ' to learn more about interactive tables.';\n",
              "        element.innerHTML = '';\n",
              "        dataTable['output_type'] = 'display_data';\n",
              "        await google.colab.output.renderOutput(dataTable, element);\n",
              "        const docLink = document.createElement('div');\n",
              "        docLink.innerHTML = docLinkHtml;\n",
              "        element.appendChild(docLink);\n",
              "      }\n",
              "    </script>\n",
              "  </div>\n",
              "\n",
              "\n",
              "<div id=\"df-7a9affc8-92b0-4b75-a8aa-459b57a2836e\">\n",
              "  <button class=\"colab-df-quickchart\" onclick=\"quickchart('df-7a9affc8-92b0-4b75-a8aa-459b57a2836e')\"\n",
              "            title=\"Suggest charts\"\n",
              "            style=\"display:none;\">\n",
              "\n",
              "<svg xmlns=\"http://www.w3.org/2000/svg\" height=\"24px\"viewBox=\"0 0 24 24\"\n",
              "     width=\"24px\">\n",
              "    <g>\n",
              "        <path d=\"M19 3H5c-1.1 0-2 .9-2 2v14c0 1.1.9 2 2 2h14c1.1 0 2-.9 2-2V5c0-1.1-.9-2-2-2zM9 17H7v-7h2v7zm4 0h-2V7h2v10zm4 0h-2v-4h2v4z\"/>\n",
              "    </g>\n",
              "</svg>\n",
              "  </button>\n",
              "\n",
              "<style>\n",
              "  .colab-df-quickchart {\n",
              "      --bg-color: #E8F0FE;\n",
              "      --fill-color: #1967D2;\n",
              "      --hover-bg-color: #E2EBFA;\n",
              "      --hover-fill-color: #174EA6;\n",
              "      --disabled-fill-color: #AAA;\n",
              "      --disabled-bg-color: #DDD;\n",
              "  }\n",
              "\n",
              "  [theme=dark] .colab-df-quickchart {\n",
              "      --bg-color: #3B4455;\n",
              "      --fill-color: #D2E3FC;\n",
              "      --hover-bg-color: #434B5C;\n",
              "      --hover-fill-color: #FFFFFF;\n",
              "      --disabled-bg-color: #3B4455;\n",
              "      --disabled-fill-color: #666;\n",
              "  }\n",
              "\n",
              "  .colab-df-quickchart {\n",
              "    background-color: var(--bg-color);\n",
              "    border: none;\n",
              "    border-radius: 50%;\n",
              "    cursor: pointer;\n",
              "    display: none;\n",
              "    fill: var(--fill-color);\n",
              "    height: 32px;\n",
              "    padding: 0;\n",
              "    width: 32px;\n",
              "  }\n",
              "\n",
              "  .colab-df-quickchart:hover {\n",
              "    background-color: var(--hover-bg-color);\n",
              "    box-shadow: 0 1px 2px rgba(60, 64, 67, 0.3), 0 1px 3px 1px rgba(60, 64, 67, 0.15);\n",
              "    fill: var(--button-hover-fill-color);\n",
              "  }\n",
              "\n",
              "  .colab-df-quickchart-complete:disabled,\n",
              "  .colab-df-quickchart-complete:disabled:hover {\n",
              "    background-color: var(--disabled-bg-color);\n",
              "    fill: var(--disabled-fill-color);\n",
              "    box-shadow: none;\n",
              "  }\n",
              "\n",
              "  .colab-df-spinner {\n",
              "    border: 2px solid var(--fill-color);\n",
              "    border-color: transparent;\n",
              "    border-bottom-color: var(--fill-color);\n",
              "    animation:\n",
              "      spin 1s steps(1) infinite;\n",
              "  }\n",
              "\n",
              "  @keyframes spin {\n",
              "    0% {\n",
              "      border-color: transparent;\n",
              "      border-bottom-color: var(--fill-color);\n",
              "      border-left-color: var(--fill-color);\n",
              "    }\n",
              "    20% {\n",
              "      border-color: transparent;\n",
              "      border-left-color: var(--fill-color);\n",
              "      border-top-color: var(--fill-color);\n",
              "    }\n",
              "    30% {\n",
              "      border-color: transparent;\n",
              "      border-left-color: var(--fill-color);\n",
              "      border-top-color: var(--fill-color);\n",
              "      border-right-color: var(--fill-color);\n",
              "    }\n",
              "    40% {\n",
              "      border-color: transparent;\n",
              "      border-right-color: var(--fill-color);\n",
              "      border-top-color: var(--fill-color);\n",
              "    }\n",
              "    60% {\n",
              "      border-color: transparent;\n",
              "      border-right-color: var(--fill-color);\n",
              "    }\n",
              "    80% {\n",
              "      border-color: transparent;\n",
              "      border-right-color: var(--fill-color);\n",
              "      border-bottom-color: var(--fill-color);\n",
              "    }\n",
              "    90% {\n",
              "      border-color: transparent;\n",
              "      border-bottom-color: var(--fill-color);\n",
              "    }\n",
              "  }\n",
              "</style>\n",
              "\n",
              "  <script>\n",
              "    async function quickchart(key) {\n",
              "      const quickchartButtonEl =\n",
              "        document.querySelector('#' + key + ' button');\n",
              "      quickchartButtonEl.disabled = true;  // To prevent multiple clicks.\n",
              "      quickchartButtonEl.classList.add('colab-df-spinner');\n",
              "      try {\n",
              "        const charts = await google.colab.kernel.invokeFunction(\n",
              "            'suggestCharts', [key], {});\n",
              "      } catch (error) {\n",
              "        console.error('Error during call to suggestCharts:', error);\n",
              "      }\n",
              "      quickchartButtonEl.classList.remove('colab-df-spinner');\n",
              "      quickchartButtonEl.classList.add('colab-df-quickchart-complete');\n",
              "    }\n",
              "    (() => {\n",
              "      let quickchartButtonEl =\n",
              "        document.querySelector('#df-7a9affc8-92b0-4b75-a8aa-459b57a2836e button');\n",
              "      quickchartButtonEl.style.display =\n",
              "        google.colab.kernel.accessAllowed ? 'block' : 'none';\n",
              "    })();\n",
              "  </script>\n",
              "</div>\n",
              "    </div>\n",
              "  </div>\n"
            ],
            "text/plain": [
              "          textID                                               text sentiment  \\\n",
              "0     f87dea47db  Last session of the day  http://twitpic.com/67ezh   neutral   \n",
              "1     96d74cb729   Shanghai is also really exciting (precisely -...  positive   \n",
              "2     eee518ae67  Recession hit Veronique Branquinho, she has to...  negative   \n",
              "3     01082688c6                                        happy bday!  positive   \n",
              "4     33987a8ee5             http://twitpic.com/4w75p - I like it!!  positive   \n",
              "...          ...                                                ...       ...   \n",
              "3529  e5f0e6ef4b  its at 3 am, im very tired but i can`t sleep  ...  negative   \n",
              "3530  416863ce47  All alone in this old house again.  Thanks for...  positive   \n",
              "3531  6332da480c   I know what you mean. My little dog is sinkin...  negative   \n",
              "3532  df1baec676  _sutra what is your next youtube video gonna b...  positive   \n",
              "3533  469e15c5a8   http://twitpic.com/4woj2 - omgssh  ang cute n...  positive   \n",
              "\n",
              "     predicted_sentiment  \n",
              "0                         \n",
              "1                         \n",
              "2                         \n",
              "3                         \n",
              "4                         \n",
              "...                  ...  \n",
              "3529                      \n",
              "3530                      \n",
              "3531                      \n",
              "3532                      \n",
              "3533                      \n",
              "\n",
              "[3534 rows x 4 columns]"
            ]
          },
          "execution_count": 17,
          "metadata": {},
          "output_type": "execute_result"
        }
      ],
      "source": [
        "test_tse_data"
      ]
    },
    {
      "cell_type": "code",
      "execution_count": null,
      "metadata": {
        "colab": {
          "base_uri": "https://localhost:8080/"
        },
        "id": "ZCGXR3cvs8Lj",
        "outputId": "c3ddb52e-622b-47ae-f232-b77a328601f6"
      },
      "outputs": [
        {
          "data": {
            "text/plain": [
              "(3534, 4)"
            ]
          },
          "execution_count": 85,
          "metadata": {},
          "output_type": "execute_result"
        }
      ],
      "source": [
        "test_tse_data.shape"
      ]
    },
    {
      "cell_type": "code",
      "execution_count": null,
      "metadata": {
        "colab": {
          "base_uri": "https://localhost:8080/"
        },
        "id": "xBzGx2yctPIb",
        "outputId": "85b101cf-048e-449b-b25b-706668d8b91d"
      },
      "outputs": [
        {
          "name": "stdout",
          "output_type": "stream",
          "text": [
            "0\n",
            "200\n",
            "400\n",
            "600\n",
            "800\n",
            "1000\n",
            "1200\n",
            "1400\n",
            "1600\n",
            "1800\n",
            "2000\n",
            "2200\n",
            "2400\n",
            "2600\n",
            "2800\n",
            "3000\n",
            "3200\n",
            "3400\n"
          ]
        }
      ],
      "source": [
        "nlp = spacy.load('en_core_web_sm')\n",
        "nlp.add_pipe(\"merge_noun_chunks\")\n",
        "for i in range(test_tse_data.shape[0]):\n",
        "  if i%200==0:\n",
        "    print(i)\n",
        "  text_to_check=test_tse_data['text'][i]\n",
        "  test_tse_data['predicted_sentiment'][i]=graph_sentiment_analysis(text_to_check, calculate_overall_score=1, nlp=nlp)"
      ]
    },
    {
      "cell_type": "code",
      "execution_count": null,
      "metadata": {
        "colab": {
          "base_uri": "https://localhost:8080/",
          "height": 423
        },
        "id": "m8nhO1WttnTl",
        "outputId": "62dfaa02-dee6-4906-c6cb-c7026277a76a"
      },
      "outputs": [
        {
          "data": {
            "application/vnd.google.colaboratory.intrinsic+json": {
              "summary": "{\n  \"name\": \"test_tse_data\",\n  \"rows\": 3534,\n  \"fields\": [\n    {\n      \"column\": \"textID\",\n      \"properties\": {\n        \"dtype\": \"string\",\n        \"num_unique_values\": 3534,\n        \"samples\": [\n          \"0142108215\",\n          \"fb08563a7b\",\n          \"9a2c6ae21c\"\n        ],\n        \"semantic_type\": \"\",\n        \"description\": \"\"\n      }\n    },\n    {\n      \"column\": \"text\",\n      \"properties\": {\n        \"dtype\": \"string\",\n        \"num_unique_values\": 3534,\n        \"samples\": [\n          \" Thank you so much phaoloo !!!!\",\n          \"Midnight ice-cream weather! So **** bored\",\n          \"Ohh i forgot to tell you last night that when i was a alton towers i touched a shark  it was amazing !!!! it was nt a massive one tho\"\n        ],\n        \"semantic_type\": \"\",\n        \"description\": \"\"\n      }\n    },\n    {\n      \"column\": \"sentiment\",\n      \"properties\": {\n        \"dtype\": \"category\",\n        \"num_unique_values\": 3,\n        \"samples\": [\n          \"neutral\",\n          \"positive\",\n          \"negative\"\n        ],\n        \"semantic_type\": \"\",\n        \"description\": \"\"\n      }\n    },\n    {\n      \"column\": \"predicted_sentiment\",\n      \"properties\": {\n        \"dtype\": \"category\",\n        \"num_unique_values\": 3,\n        \"samples\": [\n          \"neutral\",\n          \"positive\",\n          \"negative\"\n        ],\n        \"semantic_type\": \"\",\n        \"description\": \"\"\n      }\n    }\n  ]\n}",
              "type": "dataframe",
              "variable_name": "test_tse_data"
            },
            "text/html": [
              "\n",
              "  <div id=\"df-9d809147-6737-491b-b5f5-6c0ded687919\" class=\"colab-df-container\">\n",
              "    <div>\n",
              "<style scoped>\n",
              "    .dataframe tbody tr th:only-of-type {\n",
              "        vertical-align: middle;\n",
              "    }\n",
              "\n",
              "    .dataframe tbody tr th {\n",
              "        vertical-align: top;\n",
              "    }\n",
              "\n",
              "    .dataframe thead th {\n",
              "        text-align: right;\n",
              "    }\n",
              "</style>\n",
              "<table border=\"1\" class=\"dataframe\">\n",
              "  <thead>\n",
              "    <tr style=\"text-align: right;\">\n",
              "      <th></th>\n",
              "      <th>textID</th>\n",
              "      <th>text</th>\n",
              "      <th>sentiment</th>\n",
              "      <th>predicted_sentiment</th>\n",
              "    </tr>\n",
              "  </thead>\n",
              "  <tbody>\n",
              "    <tr>\n",
              "      <th>0</th>\n",
              "      <td>f87dea47db</td>\n",
              "      <td>Last session of the day  http://twitpic.com/67ezh</td>\n",
              "      <td>neutral</td>\n",
              "      <td>neutral</td>\n",
              "    </tr>\n",
              "    <tr>\n",
              "      <th>1</th>\n",
              "      <td>96d74cb729</td>\n",
              "      <td>Shanghai is also really exciting (precisely -...</td>\n",
              "      <td>positive</td>\n",
              "      <td>positive</td>\n",
              "    </tr>\n",
              "    <tr>\n",
              "      <th>2</th>\n",
              "      <td>eee518ae67</td>\n",
              "      <td>Recession hit Veronique Branquinho, she has to...</td>\n",
              "      <td>negative</td>\n",
              "      <td>negative</td>\n",
              "    </tr>\n",
              "    <tr>\n",
              "      <th>3</th>\n",
              "      <td>01082688c6</td>\n",
              "      <td>happy bday!</td>\n",
              "      <td>positive</td>\n",
              "      <td>neutral</td>\n",
              "    </tr>\n",
              "    <tr>\n",
              "      <th>4</th>\n",
              "      <td>33987a8ee5</td>\n",
              "      <td>http://twitpic.com/4w75p - I like it!!</td>\n",
              "      <td>positive</td>\n",
              "      <td>positive</td>\n",
              "    </tr>\n",
              "    <tr>\n",
              "      <th>...</th>\n",
              "      <td>...</td>\n",
              "      <td>...</td>\n",
              "      <td>...</td>\n",
              "      <td>...</td>\n",
              "    </tr>\n",
              "    <tr>\n",
              "      <th>3529</th>\n",
              "      <td>e5f0e6ef4b</td>\n",
              "      <td>its at 3 am, im very tired but i can`t sleep  ...</td>\n",
              "      <td>negative</td>\n",
              "      <td>negative</td>\n",
              "    </tr>\n",
              "    <tr>\n",
              "      <th>3530</th>\n",
              "      <td>416863ce47</td>\n",
              "      <td>All alone in this old house again.  Thanks for...</td>\n",
              "      <td>positive</td>\n",
              "      <td>positive</td>\n",
              "    </tr>\n",
              "    <tr>\n",
              "      <th>3531</th>\n",
              "      <td>6332da480c</td>\n",
              "      <td>I know what you mean. My little dog is sinkin...</td>\n",
              "      <td>negative</td>\n",
              "      <td>negative</td>\n",
              "    </tr>\n",
              "    <tr>\n",
              "      <th>3532</th>\n",
              "      <td>df1baec676</td>\n",
              "      <td>_sutra what is your next youtube video gonna b...</td>\n",
              "      <td>positive</td>\n",
              "      <td>positive</td>\n",
              "    </tr>\n",
              "    <tr>\n",
              "      <th>3533</th>\n",
              "      <td>469e15c5a8</td>\n",
              "      <td>http://twitpic.com/4woj2 - omgssh  ang cute n...</td>\n",
              "      <td>positive</td>\n",
              "      <td>positive</td>\n",
              "    </tr>\n",
              "  </tbody>\n",
              "</table>\n",
              "<p>3534 rows × 4 columns</p>\n",
              "</div>\n",
              "    <div class=\"colab-df-buttons\">\n",
              "\n",
              "  <div class=\"colab-df-container\">\n",
              "    <button class=\"colab-df-convert\" onclick=\"convertToInteractive('df-9d809147-6737-491b-b5f5-6c0ded687919')\"\n",
              "            title=\"Convert this dataframe to an interactive table.\"\n",
              "            style=\"display:none;\">\n",
              "\n",
              "  <svg xmlns=\"http://www.w3.org/2000/svg\" height=\"24px\" viewBox=\"0 -960 960 960\">\n",
              "    <path d=\"M120-120v-720h720v720H120Zm60-500h600v-160H180v160Zm220 220h160v-160H400v160Zm0 220h160v-160H400v160ZM180-400h160v-160H180v160Zm440 0h160v-160H620v160ZM180-180h160v-160H180v160Zm440 0h160v-160H620v160Z\"/>\n",
              "  </svg>\n",
              "    </button>\n",
              "\n",
              "  <style>\n",
              "    .colab-df-container {\n",
              "      display:flex;\n",
              "      gap: 12px;\n",
              "    }\n",
              "\n",
              "    .colab-df-convert {\n",
              "      background-color: #E8F0FE;\n",
              "      border: none;\n",
              "      border-radius: 50%;\n",
              "      cursor: pointer;\n",
              "      display: none;\n",
              "      fill: #1967D2;\n",
              "      height: 32px;\n",
              "      padding: 0 0 0 0;\n",
              "      width: 32px;\n",
              "    }\n",
              "\n",
              "    .colab-df-convert:hover {\n",
              "      background-color: #E2EBFA;\n",
              "      box-shadow: 0px 1px 2px rgba(60, 64, 67, 0.3), 0px 1px 3px 1px rgba(60, 64, 67, 0.15);\n",
              "      fill: #174EA6;\n",
              "    }\n",
              "\n",
              "    .colab-df-buttons div {\n",
              "      margin-bottom: 4px;\n",
              "    }\n",
              "\n",
              "    [theme=dark] .colab-df-convert {\n",
              "      background-color: #3B4455;\n",
              "      fill: #D2E3FC;\n",
              "    }\n",
              "\n",
              "    [theme=dark] .colab-df-convert:hover {\n",
              "      background-color: #434B5C;\n",
              "      box-shadow: 0px 1px 3px 1px rgba(0, 0, 0, 0.15);\n",
              "      filter: drop-shadow(0px 1px 2px rgba(0, 0, 0, 0.3));\n",
              "      fill: #FFFFFF;\n",
              "    }\n",
              "  </style>\n",
              "\n",
              "    <script>\n",
              "      const buttonEl =\n",
              "        document.querySelector('#df-9d809147-6737-491b-b5f5-6c0ded687919 button.colab-df-convert');\n",
              "      buttonEl.style.display =\n",
              "        google.colab.kernel.accessAllowed ? 'block' : 'none';\n",
              "\n",
              "      async function convertToInteractive(key) {\n",
              "        const element = document.querySelector('#df-9d809147-6737-491b-b5f5-6c0ded687919');\n",
              "        const dataTable =\n",
              "          await google.colab.kernel.invokeFunction('convertToInteractive',\n",
              "                                                    [key], {});\n",
              "        if (!dataTable) return;\n",
              "\n",
              "        const docLinkHtml = 'Like what you see? Visit the ' +\n",
              "          '<a target=\"_blank\" href=https://colab.research.google.com/notebooks/data_table.ipynb>data table notebook</a>'\n",
              "          + ' to learn more about interactive tables.';\n",
              "        element.innerHTML = '';\n",
              "        dataTable['output_type'] = 'display_data';\n",
              "        await google.colab.output.renderOutput(dataTable, element);\n",
              "        const docLink = document.createElement('div');\n",
              "        docLink.innerHTML = docLinkHtml;\n",
              "        element.appendChild(docLink);\n",
              "      }\n",
              "    </script>\n",
              "  </div>\n",
              "\n",
              "\n",
              "<div id=\"df-ad801c3f-f442-48ba-ad89-89d1eb37edae\">\n",
              "  <button class=\"colab-df-quickchart\" onclick=\"quickchart('df-ad801c3f-f442-48ba-ad89-89d1eb37edae')\"\n",
              "            title=\"Suggest charts\"\n",
              "            style=\"display:none;\">\n",
              "\n",
              "<svg xmlns=\"http://www.w3.org/2000/svg\" height=\"24px\"viewBox=\"0 0 24 24\"\n",
              "     width=\"24px\">\n",
              "    <g>\n",
              "        <path d=\"M19 3H5c-1.1 0-2 .9-2 2v14c0 1.1.9 2 2 2h14c1.1 0 2-.9 2-2V5c0-1.1-.9-2-2-2zM9 17H7v-7h2v7zm4 0h-2V7h2v10zm4 0h-2v-4h2v4z\"/>\n",
              "    </g>\n",
              "</svg>\n",
              "  </button>\n",
              "\n",
              "<style>\n",
              "  .colab-df-quickchart {\n",
              "      --bg-color: #E8F0FE;\n",
              "      --fill-color: #1967D2;\n",
              "      --hover-bg-color: #E2EBFA;\n",
              "      --hover-fill-color: #174EA6;\n",
              "      --disabled-fill-color: #AAA;\n",
              "      --disabled-bg-color: #DDD;\n",
              "  }\n",
              "\n",
              "  [theme=dark] .colab-df-quickchart {\n",
              "      --bg-color: #3B4455;\n",
              "      --fill-color: #D2E3FC;\n",
              "      --hover-bg-color: #434B5C;\n",
              "      --hover-fill-color: #FFFFFF;\n",
              "      --disabled-bg-color: #3B4455;\n",
              "      --disabled-fill-color: #666;\n",
              "  }\n",
              "\n",
              "  .colab-df-quickchart {\n",
              "    background-color: var(--bg-color);\n",
              "    border: none;\n",
              "    border-radius: 50%;\n",
              "    cursor: pointer;\n",
              "    display: none;\n",
              "    fill: var(--fill-color);\n",
              "    height: 32px;\n",
              "    padding: 0;\n",
              "    width: 32px;\n",
              "  }\n",
              "\n",
              "  .colab-df-quickchart:hover {\n",
              "    background-color: var(--hover-bg-color);\n",
              "    box-shadow: 0 1px 2px rgba(60, 64, 67, 0.3), 0 1px 3px 1px rgba(60, 64, 67, 0.15);\n",
              "    fill: var(--button-hover-fill-color);\n",
              "  }\n",
              "\n",
              "  .colab-df-quickchart-complete:disabled,\n",
              "  .colab-df-quickchart-complete:disabled:hover {\n",
              "    background-color: var(--disabled-bg-color);\n",
              "    fill: var(--disabled-fill-color);\n",
              "    box-shadow: none;\n",
              "  }\n",
              "\n",
              "  .colab-df-spinner {\n",
              "    border: 2px solid var(--fill-color);\n",
              "    border-color: transparent;\n",
              "    border-bottom-color: var(--fill-color);\n",
              "    animation:\n",
              "      spin 1s steps(1) infinite;\n",
              "  }\n",
              "\n",
              "  @keyframes spin {\n",
              "    0% {\n",
              "      border-color: transparent;\n",
              "      border-bottom-color: var(--fill-color);\n",
              "      border-left-color: var(--fill-color);\n",
              "    }\n",
              "    20% {\n",
              "      border-color: transparent;\n",
              "      border-left-color: var(--fill-color);\n",
              "      border-top-color: var(--fill-color);\n",
              "    }\n",
              "    30% {\n",
              "      border-color: transparent;\n",
              "      border-left-color: var(--fill-color);\n",
              "      border-top-color: var(--fill-color);\n",
              "      border-right-color: var(--fill-color);\n",
              "    }\n",
              "    40% {\n",
              "      border-color: transparent;\n",
              "      border-right-color: var(--fill-color);\n",
              "      border-top-color: var(--fill-color);\n",
              "    }\n",
              "    60% {\n",
              "      border-color: transparent;\n",
              "      border-right-color: var(--fill-color);\n",
              "    }\n",
              "    80% {\n",
              "      border-color: transparent;\n",
              "      border-right-color: var(--fill-color);\n",
              "      border-bottom-color: var(--fill-color);\n",
              "    }\n",
              "    90% {\n",
              "      border-color: transparent;\n",
              "      border-bottom-color: var(--fill-color);\n",
              "    }\n",
              "  }\n",
              "</style>\n",
              "\n",
              "  <script>\n",
              "    async function quickchart(key) {\n",
              "      const quickchartButtonEl =\n",
              "        document.querySelector('#' + key + ' button');\n",
              "      quickchartButtonEl.disabled = true;  // To prevent multiple clicks.\n",
              "      quickchartButtonEl.classList.add('colab-df-spinner');\n",
              "      try {\n",
              "        const charts = await google.colab.kernel.invokeFunction(\n",
              "            'suggestCharts', [key], {});\n",
              "      } catch (error) {\n",
              "        console.error('Error during call to suggestCharts:', error);\n",
              "      }\n",
              "      quickchartButtonEl.classList.remove('colab-df-spinner');\n",
              "      quickchartButtonEl.classList.add('colab-df-quickchart-complete');\n",
              "    }\n",
              "    (() => {\n",
              "      let quickchartButtonEl =\n",
              "        document.querySelector('#df-ad801c3f-f442-48ba-ad89-89d1eb37edae button');\n",
              "      quickchartButtonEl.style.display =\n",
              "        google.colab.kernel.accessAllowed ? 'block' : 'none';\n",
              "    })();\n",
              "  </script>\n",
              "</div>\n",
              "    </div>\n",
              "  </div>\n"
            ],
            "text/plain": [
              "          textID                                               text sentiment  \\\n",
              "0     f87dea47db  Last session of the day  http://twitpic.com/67ezh   neutral   \n",
              "1     96d74cb729   Shanghai is also really exciting (precisely -...  positive   \n",
              "2     eee518ae67  Recession hit Veronique Branquinho, she has to...  negative   \n",
              "3     01082688c6                                        happy bday!  positive   \n",
              "4     33987a8ee5             http://twitpic.com/4w75p - I like it!!  positive   \n",
              "...          ...                                                ...       ...   \n",
              "3529  e5f0e6ef4b  its at 3 am, im very tired but i can`t sleep  ...  negative   \n",
              "3530  416863ce47  All alone in this old house again.  Thanks for...  positive   \n",
              "3531  6332da480c   I know what you mean. My little dog is sinkin...  negative   \n",
              "3532  df1baec676  _sutra what is your next youtube video gonna b...  positive   \n",
              "3533  469e15c5a8   http://twitpic.com/4woj2 - omgssh  ang cute n...  positive   \n",
              "\n",
              "     predicted_sentiment  \n",
              "0                neutral  \n",
              "1               positive  \n",
              "2               negative  \n",
              "3                neutral  \n",
              "4               positive  \n",
              "...                  ...  \n",
              "3529            negative  \n",
              "3530            positive  \n",
              "3531            negative  \n",
              "3532            positive  \n",
              "3533            positive  \n",
              "\n",
              "[3534 rows x 4 columns]"
            ]
          },
          "execution_count": 19,
          "metadata": {},
          "output_type": "execute_result"
        }
      ],
      "source": [
        "test_tse_data"
      ]
    },
    {
      "cell_type": "code",
      "execution_count": null,
      "metadata": {
        "id": "aTkG7vYnyCan"
      },
      "outputs": [],
      "source": [
        "accuracy=np.sum(test_tse_data['sentiment']==test_tse_data['predicted_sentiment'])/test_tse_data.shape[0]"
      ]
    },
    {
      "cell_type": "code",
      "execution_count": null,
      "metadata": {
        "id": "TJkxweX_0zzF"
      },
      "outputs": [],
      "source": [
        "from sklearn.metrics import balanced_accuracy_score"
      ]
    },
    {
      "cell_type": "code",
      "execution_count": null,
      "metadata": {
        "id": "NFHviYT-03Y8"
      },
      "outputs": [],
      "source": [
        "ba_tse=balanced_accuracy_score(test_tse_data['sentiment'], test_tse_data['predicted_sentiment'])"
      ]
    },
    {
      "cell_type": "code",
      "execution_count": null,
      "metadata": {
        "colab": {
          "base_uri": "https://localhost:8080/"
        },
        "id": "IwCQWl2Wyl-P",
        "outputId": "a56b4fb2-945e-4ed2-ee58-350c41987760"
      },
      "outputs": [
        {
          "data": {
            "text/plain": [
              "(0.6069609507640068, 0.6016598994840155)"
            ]
          },
          "execution_count": 23,
          "metadata": {},
          "output_type": "execute_result"
        }
      ],
      "source": [
        "accuracy, ba_tse"
      ]
    },
    {
      "cell_type": "markdown",
      "metadata": {
        "id": "zxrV4pfbFwla"
      },
      "source": [
        "## compound=True"
      ]
    },
    {
      "cell_type": "code",
      "execution_count": null,
      "metadata": {
        "id": "aqw8cdz-F6wt"
      },
      "outputs": [],
      "source": [
        "test_tse_data[\"predicted_sentiment_compound\"]=''"
      ]
    },
    {
      "cell_type": "code",
      "execution_count": null,
      "metadata": {
        "colab": {
          "base_uri": "https://localhost:8080/"
        },
        "id": "-uyF8PjXFzhl",
        "outputId": "fef29cc3-799b-478b-fdb3-5ca059e70a50"
      },
      "outputs": [
        {
          "name": "stdout",
          "output_type": "stream",
          "text": [
            "0\n",
            "200\n",
            "400\n",
            "600\n",
            "800\n",
            "1000\n",
            "1200\n",
            "1400\n",
            "1600\n",
            "1800\n",
            "2000\n",
            "2200\n",
            "2400\n",
            "2600\n",
            "2800\n",
            "3000\n",
            "3200\n",
            "3400\n"
          ]
        }
      ],
      "source": [
        "nlp = spacy.load('en_core_web_sm')\n",
        "nlp.add_pipe(\"merge_noun_chunks\")\n",
        "for i in range(test_tse_data.shape[0]):\n",
        "  if i%200==0:\n",
        "    print(i)\n",
        "  text_to_check=test_tse_data['text'][i]\n",
        "  test_tse_data['predicted_sentiment_compound'][i]=graph_sentiment_analysis(text_to_check, calculate_overall_score=1, nlp=nlp, compound=True)"
      ]
    },
    {
      "cell_type": "code",
      "execution_count": null,
      "metadata": {
        "id": "ZqNlkReeGIQd"
      },
      "outputs": [],
      "source": [
        "accuracy_compound=np.sum(test_tse_data['sentiment']==test_tse_data['predicted_sentiment_compound'])/test_tse_data.shape[0]"
      ]
    },
    {
      "cell_type": "code",
      "execution_count": null,
      "metadata": {
        "id": "hKz6sGncGIlG"
      },
      "outputs": [],
      "source": [
        "ba_tse_compound=balanced_accuracy_score(test_tse_data['sentiment'], test_tse_data['predicted_sentiment_compound'])"
      ]
    },
    {
      "cell_type": "code",
      "execution_count": null,
      "metadata": {
        "id": "iMNwFYASoL3O"
      },
      "outputs": [],
      "source": [
        "test_tse_data.to_csv('/source_repository/test_tse_data_graph.csv', index=False)"
      ]
    },
    {
      "cell_type": "code",
      "execution_count": null,
      "metadata": {
        "colab": {
          "base_uri": "https://localhost:8080/"
        },
        "id": "Gca7V20nGSqd",
        "outputId": "4696eaab-9728-43c7-90c0-4c086b4df938"
      },
      "outputs": [
        {
          "data": {
            "text/plain": [
              "(0.6078098471986417, 0.5959738357743798)"
            ]
          },
          "execution_count": 29,
          "metadata": {},
          "output_type": "execute_result"
        }
      ],
      "source": [
        "accuracy_compound, ba_tse_compound"
      ]
    },
    {
      "cell_type": "markdown",
      "metadata": {
        "id": "EHd2boi_0HFK"
      },
      "source": [
        "# tests for news sentiment\n",
        "\n",
        "https://www.kaggle.com/datasets/hoshi7/news-sentiment-dataset"
      ]
    },
    {
      "cell_type": "code",
      "execution_count": null,
      "metadata": {
        "colab": {
          "base_uri": "https://localhost:8080/",
          "height": 423
        },
        "id": "_fve9ly40Kl5",
        "outputId": "3c16ffbd-607f-4d0d-9e2e-6ab186f81758"
      },
      "outputs": [
        {
          "data": {
            "application/vnd.google.colaboratory.intrinsic+json": {
              "summary": "{\n  \"name\": \"test_ns_data2\",\n  \"rows\": 848,\n  \"fields\": [\n    {\n      \"column\": \"news_title\",\n      \"properties\": {\n        \"dtype\": \"string\",\n        \"num_unique_values\": 847,\n        \"samples\": [\n          \"Stray dog who visited car dealership every day gets adopted and lands dream job\",\n          \"One woman\\u2019s race to defuse the genetic time bomb in her genes\",\n          \"The man who saves forgotten cats in Fukushima's nuclear zone\"\n        ],\n        \"semantic_type\": \"\",\n        \"description\": \"\"\n      }\n    },\n    {\n      \"column\": \"reddit_title\",\n      \"properties\": {\n        \"dtype\": \"string\",\n        \"num_unique_values\": 848,\n        \"samples\": [\n          \"Church wipes out $46.5 million in medical debt\",\n          \"Austria is turning site of Hitler's birth into a police station to repel neo-Nazis\",\n          \"All 955 trapped South Africa gold miners resurface after 30-hour ordeal.\"\n        ],\n        \"semantic_type\": \"\",\n        \"description\": \"\"\n      }\n    },\n    {\n      \"column\": \"sentiment\",\n      \"properties\": {\n        \"dtype\": \"number\",\n        \"std\": 0.3227090669271487,\n        \"min\": 0.0,\n        \"max\": 1.0,\n        \"num_unique_values\": 2,\n        \"samples\": [\n          0.0,\n          1.0\n        ],\n        \"semantic_type\": \"\",\n        \"description\": \"\"\n      }\n    },\n    {\n      \"column\": \"text\",\n      \"properties\": {\n        \"dtype\": \"string\",\n        \"num_unique_values\": 847,\n        \"samples\": [\n          \"Calling all dog lovers! Sign up to TeamDogs for your weekly dose of dog news, pictures and stories. Invalid Email Something went wrong, please try again later. Sign up Thank you for subscribing We have more newsletters Show me See our privacy notice\\n\\nPersistence has paid off for a stray dog who refused to stop turning up to a car dealership \\u2013 after he was adopted and simultaneously landed his dream job.\\n\\nThe lonely pooch kept going to a Hyundai Prime branch in Brazil, and after staff fell in love with him they decided to adopt him and put him to work.\\n\\nNewly-named Tucson Prime is now in charge of meeting and greeting customers to the dealership, and he couldn't be happier.\\n\\nAccording to Bored Panda, one night when it was particularly rainy, manager Emerson Mariano invited the pooch inside and let him have some food and water.\\n\\n(Image: tucson_prime/Instagram)\\n\\nBut he kept coming back after that, so staff at the dealership adopted him.\\n\\nTucson Prime's 'very caring and docile nature' gave managers an idea and now he's a fully-fledged employee.\\n\\nEmerson Mariano told media outlet Top Motors Brazil: \\\"After all, the company has always been pet friendly, so now, we decided to embrace this idea in practice too, having our own pet precisely at a more complicated time like this with so many abandoned animals.\\\"\\n\\n(Image: tucson_prime/Instagram)\\n\\nTucson Prime has also become a star on Instagram, and already has more than 108,000 followers.\\n\\nA recent post on the account said: \\\"Today my day started early, but it was not in sales, I am trying to read and answer the thousands, I swear, miles of messages I received in the last few days.\\n\\n\\\"But where I came from, I didn't have this technology. Me and my humans are still trying to find a way to deal with so much love and affection like that. If I didn't open your message or answered, I wanted to apologise, but we are trying our best to open all messages to try to thank you all, I am very happy with all this!\\\"\",\n          \"In 2011, Sonia Vallabh was handed a genetic report that contained a death sentence. But it also held a map for how to escape.\\n\\nHer body, she learned, harbored a gene mutation, a single wrong letter of DNA in her \\u201cprion\\u201d gene, that would eventually lead to a rare brain condition called fatal familial insomnia. Her mother had died of it the year before, and the test had revealed Vallabh had inherited the flaw too.\\n\\nBy now, the decision by Vallabh and her husband, Eric Minikel, to try to prevent her disease\\u2014\\u201ca prion love story,\\u201d the New Yorker called it\\u2014is well-known. After the diagnosis of the genetic time bomb, they dropped out of their careers in law and engineering and became scientists dedicated to defusing it. They expect to get PhDs next spring (see \\u201cSonia Vallabh, 35 Innovators Under 35, 2016\\u201d.)\\n\\nNow, after seven years, they think they have found a treatment that can do it. It\\u2019s called an antisense drug, a type of mirror-image molecule that, if it reaches the brain, could greatly reduce the amount of the prion protein. That could potentially forestall the mysterious chain reaction of misfolding proteins that characterize prion diseases.\\n\\nLess of the protein, Vallabh reasons, and less chance she\\u2019ll get sick.\\n\\nTwo weeks ago, on their blog, Vallabh announced she and Minikel were working with a commercial partner, the California biotech company Ionis, which specializes in antisense compounds. \\u201cFor the first time, I am optimistic about a specific therapeutic strategy,\\u201d she wrote. It\\u2019s \\u201cplausible\\u201d that antisense could treat the disease \\u201cin our lifetime.\\u201d\\n\\nVallabh\\u2019s race to prevent her own prion disease raises a question for the genetic age. Given a perfect DNA blueprint of your inherited disease, what\\u2019s your chance of stopping it in your lifetime, or that of someone you love?\\n\\nThere are reasons to think these types of medical long shots have become more likely to hit the mark. That is because gene sequencing can cheaply reveal molecular flaws, but also because a set of promising technologies\\u2014antisense, gene therapy, and CRISPR gene editing\\u2014are able to replace genes or silence them, in effect fixing genetic problems at their source.\\n\\nA close-up of up brain tissue affected by prions, misfolded protein that are toxic to neurons. wikimedia commons\\n\\nWhat\\u2019s more, these treatments employ the genetic code; they are actually made of DNA or RNA. That means that they\\u2019re fundamentally modular and programmable. At least on paper, it is now possible to take any genetic flaw and quickly sketch an antidote.\\n\\nIn reality, drug development is notoriously complicated. Most drugs fail, torn down by biological surprises and unexpected toxicity to the human body. But Vallabh says in the early, confusing days of her quest, she received critical advice from Eric Lander, the biologist who leads the Broad Institute, where she and Minikel now study and work. He told her to focus on the genetic error itself\\u2014the blueprint of which was in her diagnosis.\\n\\n\\u201cYou need to see what you have in your hand and stop looking,\\u201d she recalls him saying.\\n\\nThat meant not waiting to answer important scientific unknowns, like what the prion protein does in the body, or why, when it misfolds, it kills brain cells. \\u201cThere are so many interesting questions about prion disease,\\u201d says Vallabh, who is 34. \\u201cAnd those questions will still be there when we are treating it.\\u201d\\n\\nPrion diseases are profoundly strange because they\\u2019re caused not by a virus, but by an infectious protein. They include scrapie in sheep, Kuru (spread by cannibalism), Creutzfelt-Jakob disease, and the human version of mad cow disease.\\n\\nThe key drug insight was that mice engineered to lack the prion protein gene never get sick, even when scientists inject infectious prions into their brains. \\u201cThe biological concept of a prion is a protein that changes it conformation, and that can template further copies. It\\u2019s self-templating. That allows it to spread,\\u201d says Kurt Giles, a researcher in the lab at the University of California, San Francisco, where prions were first discovered. \\u201cThat leads to the idea of reducing the [protein]. The less of it there is, then you will get less templating.\\u201d\\n\\nFor genetic therapies, though, there\\u2019s a further problem, which is how to get them into the body so that they reach, for instance, billions of brain cells.\\n\\nAntisense technology, conceived decades ago, had its big breakthrough last year when a drug developed by Ionis proved to be astoundingly effective in treating a childhood neurological disorder, spinal muscular atrophy.\\n\\nBy then, Vallabh and Minikel had been introduced to Ionis, and the company had agreed to provide them with antisense compounds targeted to the prion gene to test in mice. Holly Kordasiewicz, the head of neuroscience at Ionis, recalls the 2014 meeting. \\u201cWe left the room saying we need to do everything that we can to help these people,\\u201d she says.\\n\\nThe company gave Vallabh and Minikel a to-do list, which they quickly worked through. Patient registry? Check. Animal studies? Check. Biomarker to show if a drug is working? That research, too, is under way at a Boston hospital studying prion protein levels in spinal fluid.\\n\\n\\u201cSonia and Eric are doing this with no real funding, just trying to make it happen,\\u201d says Jeff Carroll, another patient scientist (he\\u2019s got the mutation for Huntington\\u2019s disease), who introduced them to Ionis.\\n\\nOne problem not as easily addressed is that prion disease is astoundingly rare, quickly fatal, and rarely diagnosed in advance. That means there has been no great clamor for treatments. Maybe only 200 people in the U.S. know they have a time bomb like Vallabh, she says, and there\\u2019s not a single drug currently in human testing. Early on, Ionis let the pair know the collaboration was strictly academic and not a commercial prospect.\\n\\nBut by blotting out the prion protein at its source, an antisense treatment might help with a range of rare conditions linked to it. Fatal insomnia is vanishingly uncommon, as are cases of mad cow disease, but adding these \\u201cultra-rare\\u201d diseases together makes them, as a group, slightly less rare.\\n\\nVallabh and Minikel say they now have proof that Ionis\\u2019s antisense molecules partly protect mice from prion disease. Those animals given the drug live about 70 percent longer.\\n\\nKordasiewicz now terms the program a \\u201ccommercial\\u201d project at Ionis, though it remains too small and early-stage to appear on the company\\u2019s pipeline chart of drugs under development. \\u201cWhat changed is the data is looking good enough that we think we can have a drug in five years,\\u201d she says.\\n\\nVallabh hopes it can all go even faster. The fatal insomnia could begin to afflict her tomorrow, or in 30 years. There\\u2019s no way to predict it. She and Minikel just had their first child. The girl was conceived through IVF, and Vallabh says the lab employed a genetic test to assure them she wouldn\\u2019t carry the mutation.\\n\\nTo save herself, it\\u2019s not going to be enough to have a drug. She needs to get it before she ever falls ill. Yet doctors have little experience giving such a genetic drug over many years as a form of prevention.\\n\\nFiguring out how to carry off such a study is the next challenge for Vallabh and her husband. It appears they hope the US Food and Drug Administration will permit a prevention trial in patients who carry the prion mutations. Since it can take decades for people to get sick (or not), such a study would instead rely on a biomarker, such as whether antisense injections can reduce prion protein levels in the spinal fluid.\\n\\nVallabh told me she would volunteer to take the drug. \\u201cThe big picture,\\u201d she says, \\u201cis we are moving much more quickly than anyone could expect due to this beautifully clear genetic blueprint we were handed.\\u201d\"\n        ],\n        \"semantic_type\": \"\",\n        \"description\": \"\"\n      }\n    },\n    {\n      \"column\": \"url\",\n      \"properties\": {\n        \"dtype\": \"string\",\n        \"num_unique_values\": 848,\n        \"samples\": [\n          \"https://www.cincinnati.com/story/news/2020/02/24/crossroads-church-nonprofit-wipe-out-46-5-million-medical-debt/4854753002/?fbclid=IwAR1MMDWZKi9U_rQ8bwSZB_irls6Ejjqgu4oMrZuozZ23yI8qG5tIEKw59-s\",\n          \"https://theweek.com/speedreads/879727/austria-turning-site-hitlers-birth-into-police-station-repel-neonazis\"\n        ],\n        \"semantic_type\": \"\",\n        \"description\": \"\"\n      }\n    }\n  ]\n}",
              "type": "dataframe",
              "variable_name": "test_ns_data2"
            },
            "text/html": [
              "\n",
              "  <div id=\"df-22962caa-f068-4549-94d1-7bbe420e0371\" class=\"colab-df-container\">\n",
              "    <div>\n",
              "<style scoped>\n",
              "    .dataframe tbody tr th:only-of-type {\n",
              "        vertical-align: middle;\n",
              "    }\n",
              "\n",
              "    .dataframe tbody tr th {\n",
              "        vertical-align: top;\n",
              "    }\n",
              "\n",
              "    .dataframe thead th {\n",
              "        text-align: right;\n",
              "    }\n",
              "</style>\n",
              "<table border=\"1\" class=\"dataframe\">\n",
              "  <thead>\n",
              "    <tr style=\"text-align: right;\">\n",
              "      <th></th>\n",
              "      <th>news_title</th>\n",
              "      <th>reddit_title</th>\n",
              "      <th>sentiment</th>\n",
              "      <th>text</th>\n",
              "      <th>url</th>\n",
              "    </tr>\n",
              "  </thead>\n",
              "  <tbody>\n",
              "    <tr>\n",
              "      <th>0</th>\n",
              "      <td>Mark Cuban launches generic drug company</td>\n",
              "      <td>Billionaire Mark Cuban just launched a drug co...</td>\n",
              "      <td>1.0</td>\n",
              "      <td>Billionaire investor and Shark Tank star Mark ...</td>\n",
              "      <td>https://www.beckershospitalreview.com/pharmacy...</td>\n",
              "    </tr>\n",
              "    <tr>\n",
              "      <th>1</th>\n",
              "      <td>From Defendant to Defender: One Wrongfully Con...</td>\n",
              "      <td>Man falsely imprisoned for 10 years, uses pris...</td>\n",
              "      <td>1.0</td>\n",
              "      <td>Attorney Jarrett Adams recently helped overtur...</td>\n",
              "      <td>https://www.nbcnews.com/news/us-news/defendant...</td>\n",
              "    </tr>\n",
              "    <tr>\n",
              "      <th>2</th>\n",
              "      <td>Amazon Tribe Wins Lawsuit Against Big Oil, Sav...</td>\n",
              "      <td>Amazon tribe wins legal battle against oil com...</td>\n",
              "      <td>1.0</td>\n",
              "      <td>The Amazon Rainforest is well known across the...</td>\n",
              "      <td>https://www.disclose.tv/amazon-tribe-wins-laws...</td>\n",
              "    </tr>\n",
              "    <tr>\n",
              "      <th>3</th>\n",
              "      <td>Newark police: No officer fired a single shot ...</td>\n",
              "      <td>Newark police: No officer fired a single shot ...</td>\n",
              "      <td>1.0</td>\n",
              "      <td>Newark police: No officer fired a single shot ...</td>\n",
              "      <td>https://newjersey.news12.com/newark-police-no-...</td>\n",
              "    </tr>\n",
              "    <tr>\n",
              "      <th>4</th>\n",
              "      <td>Ingen barn døde i trafikken i 2019</td>\n",
              "      <td>No children died in traffic accidents in Norwa...</td>\n",
              "      <td>1.0</td>\n",
              "      <td>I 1970 døde det 560 mennesker i den norske tra...</td>\n",
              "      <td>https://www.nrk.no/trondelag/ingen-barn-dode-i...</td>\n",
              "    </tr>\n",
              "    <tr>\n",
              "      <th>...</th>\n",
              "      <td>...</td>\n",
              "      <td>...</td>\n",
              "      <td>...</td>\n",
              "      <td>...</td>\n",
              "      <td>...</td>\n",
              "    </tr>\n",
              "    <tr>\n",
              "      <th>843</th>\n",
              "      <td>Dee Why attack: Man allegedly choked and threa...</td>\n",
              "      <td>Dee Why attack: Man allegedly choked and threa...</td>\n",
              "      <td>0.0</td>\n",
              "      <td>Frightening details have emerged about a toile...</td>\n",
              "      <td>https://www.9news.com.au/2018/11/30/17/55/sydn...</td>\n",
              "    </tr>\n",
              "    <tr>\n",
              "      <th>844</th>\n",
              "      <td>Africa: Children and HIV/Aids - 'We Need to Ta...</td>\n",
              "      <td>Africa: Children and HIV/Aids - 'We Need to Ta...</td>\n",
              "      <td>0.0</td>\n",
              "      <td>interview\\n\\nJohannesburg — 360,000 adolescent...</td>\n",
              "      <td>https://allafrica.com/stories/201811300567.html</td>\n",
              "    </tr>\n",
              "    <tr>\n",
              "      <th>845</th>\n",
              "      <td>Terrorism suspected in Eilat attack</td>\n",
              "      <td>Terrorism suspected in Eilat attack</td>\n",
              "      <td>0.0</td>\n",
              "      <td>A violent attack in the southern Israeli port ...</td>\n",
              "      <td>http://www.israelnationalnews.com/News/News.as...</td>\n",
              "    </tr>\n",
              "    <tr>\n",
              "      <th>846</th>\n",
              "      <td>Anti-Semitism never disappeared in Europe. It'...</td>\n",
              "      <td>Anti-Semitism never disappeared in Europe. It'...</td>\n",
              "      <td>0.0</td>\n",
              "      <td>It's a 17-year-old boy, too frightened to wear...</td>\n",
              "      <td>https://edition.cnn.com/2018/11/27/europe/anti...</td>\n",
              "    </tr>\n",
              "    <tr>\n",
              "      <th>847</th>\n",
              "      <td>Five dead, 32 injured in Hong Kong coach crash</td>\n",
              "      <td>Five dead, 32 injured in Hong Kong coach crash</td>\n",
              "      <td>0.0</td>\n",
              "      <td>HONG KONG (AFP) - Five people were killed and ...</td>\n",
              "      <td>https://www.straitstimes.com/asia/east-asia/fi...</td>\n",
              "    </tr>\n",
              "  </tbody>\n",
              "</table>\n",
              "<p>848 rows × 5 columns</p>\n",
              "</div>\n",
              "    <div class=\"colab-df-buttons\">\n",
              "\n",
              "  <div class=\"colab-df-container\">\n",
              "    <button class=\"colab-df-convert\" onclick=\"convertToInteractive('df-22962caa-f068-4549-94d1-7bbe420e0371')\"\n",
              "            title=\"Convert this dataframe to an interactive table.\"\n",
              "            style=\"display:none;\">\n",
              "\n",
              "  <svg xmlns=\"http://www.w3.org/2000/svg\" height=\"24px\" viewBox=\"0 -960 960 960\">\n",
              "    <path d=\"M120-120v-720h720v720H120Zm60-500h600v-160H180v160Zm220 220h160v-160H400v160Zm0 220h160v-160H400v160ZM180-400h160v-160H180v160Zm440 0h160v-160H620v160ZM180-180h160v-160H180v160Zm440 0h160v-160H620v160Z\"/>\n",
              "  </svg>\n",
              "    </button>\n",
              "\n",
              "  <style>\n",
              "    .colab-df-container {\n",
              "      display:flex;\n",
              "      gap: 12px;\n",
              "    }\n",
              "\n",
              "    .colab-df-convert {\n",
              "      background-color: #E8F0FE;\n",
              "      border: none;\n",
              "      border-radius: 50%;\n",
              "      cursor: pointer;\n",
              "      display: none;\n",
              "      fill: #1967D2;\n",
              "      height: 32px;\n",
              "      padding: 0 0 0 0;\n",
              "      width: 32px;\n",
              "    }\n",
              "\n",
              "    .colab-df-convert:hover {\n",
              "      background-color: #E2EBFA;\n",
              "      box-shadow: 0px 1px 2px rgba(60, 64, 67, 0.3), 0px 1px 3px 1px rgba(60, 64, 67, 0.15);\n",
              "      fill: #174EA6;\n",
              "    }\n",
              "\n",
              "    .colab-df-buttons div {\n",
              "      margin-bottom: 4px;\n",
              "    }\n",
              "\n",
              "    [theme=dark] .colab-df-convert {\n",
              "      background-color: #3B4455;\n",
              "      fill: #D2E3FC;\n",
              "    }\n",
              "\n",
              "    [theme=dark] .colab-df-convert:hover {\n",
              "      background-color: #434B5C;\n",
              "      box-shadow: 0px 1px 3px 1px rgba(0, 0, 0, 0.15);\n",
              "      filter: drop-shadow(0px 1px 2px rgba(0, 0, 0, 0.3));\n",
              "      fill: #FFFFFF;\n",
              "    }\n",
              "  </style>\n",
              "\n",
              "    <script>\n",
              "      const buttonEl =\n",
              "        document.querySelector('#df-22962caa-f068-4549-94d1-7bbe420e0371 button.colab-df-convert');\n",
              "      buttonEl.style.display =\n",
              "        google.colab.kernel.accessAllowed ? 'block' : 'none';\n",
              "\n",
              "      async function convertToInteractive(key) {\n",
              "        const element = document.querySelector('#df-22962caa-f068-4549-94d1-7bbe420e0371');\n",
              "        const dataTable =\n",
              "          await google.colab.kernel.invokeFunction('convertToInteractive',\n",
              "                                                    [key], {});\n",
              "        if (!dataTable) return;\n",
              "\n",
              "        const docLinkHtml = 'Like what you see? Visit the ' +\n",
              "          '<a target=\"_blank\" href=https://colab.research.google.com/notebooks/data_table.ipynb>data table notebook</a>'\n",
              "          + ' to learn more about interactive tables.';\n",
              "        element.innerHTML = '';\n",
              "        dataTable['output_type'] = 'display_data';\n",
              "        await google.colab.output.renderOutput(dataTable, element);\n",
              "        const docLink = document.createElement('div');\n",
              "        docLink.innerHTML = docLinkHtml;\n",
              "        element.appendChild(docLink);\n",
              "      }\n",
              "    </script>\n",
              "  </div>\n",
              "\n",
              "\n",
              "<div id=\"df-ba37add8-4a51-48d4-b7fc-417dc5089d89\">\n",
              "  <button class=\"colab-df-quickchart\" onclick=\"quickchart('df-ba37add8-4a51-48d4-b7fc-417dc5089d89')\"\n",
              "            title=\"Suggest charts\"\n",
              "            style=\"display:none;\">\n",
              "\n",
              "<svg xmlns=\"http://www.w3.org/2000/svg\" height=\"24px\"viewBox=\"0 0 24 24\"\n",
              "     width=\"24px\">\n",
              "    <g>\n",
              "        <path d=\"M19 3H5c-1.1 0-2 .9-2 2v14c0 1.1.9 2 2 2h14c1.1 0 2-.9 2-2V5c0-1.1-.9-2-2-2zM9 17H7v-7h2v7zm4 0h-2V7h2v10zm4 0h-2v-4h2v4z\"/>\n",
              "    </g>\n",
              "</svg>\n",
              "  </button>\n",
              "\n",
              "<style>\n",
              "  .colab-df-quickchart {\n",
              "      --bg-color: #E8F0FE;\n",
              "      --fill-color: #1967D2;\n",
              "      --hover-bg-color: #E2EBFA;\n",
              "      --hover-fill-color: #174EA6;\n",
              "      --disabled-fill-color: #AAA;\n",
              "      --disabled-bg-color: #DDD;\n",
              "  }\n",
              "\n",
              "  [theme=dark] .colab-df-quickchart {\n",
              "      --bg-color: #3B4455;\n",
              "      --fill-color: #D2E3FC;\n",
              "      --hover-bg-color: #434B5C;\n",
              "      --hover-fill-color: #FFFFFF;\n",
              "      --disabled-bg-color: #3B4455;\n",
              "      --disabled-fill-color: #666;\n",
              "  }\n",
              "\n",
              "  .colab-df-quickchart {\n",
              "    background-color: var(--bg-color);\n",
              "    border: none;\n",
              "    border-radius: 50%;\n",
              "    cursor: pointer;\n",
              "    display: none;\n",
              "    fill: var(--fill-color);\n",
              "    height: 32px;\n",
              "    padding: 0;\n",
              "    width: 32px;\n",
              "  }\n",
              "\n",
              "  .colab-df-quickchart:hover {\n",
              "    background-color: var(--hover-bg-color);\n",
              "    box-shadow: 0 1px 2px rgba(60, 64, 67, 0.3), 0 1px 3px 1px rgba(60, 64, 67, 0.15);\n",
              "    fill: var(--button-hover-fill-color);\n",
              "  }\n",
              "\n",
              "  .colab-df-quickchart-complete:disabled,\n",
              "  .colab-df-quickchart-complete:disabled:hover {\n",
              "    background-color: var(--disabled-bg-color);\n",
              "    fill: var(--disabled-fill-color);\n",
              "    box-shadow: none;\n",
              "  }\n",
              "\n",
              "  .colab-df-spinner {\n",
              "    border: 2px solid var(--fill-color);\n",
              "    border-color: transparent;\n",
              "    border-bottom-color: var(--fill-color);\n",
              "    animation:\n",
              "      spin 1s steps(1) infinite;\n",
              "  }\n",
              "\n",
              "  @keyframes spin {\n",
              "    0% {\n",
              "      border-color: transparent;\n",
              "      border-bottom-color: var(--fill-color);\n",
              "      border-left-color: var(--fill-color);\n",
              "    }\n",
              "    20% {\n",
              "      border-color: transparent;\n",
              "      border-left-color: var(--fill-color);\n",
              "      border-top-color: var(--fill-color);\n",
              "    }\n",
              "    30% {\n",
              "      border-color: transparent;\n",
              "      border-left-color: var(--fill-color);\n",
              "      border-top-color: var(--fill-color);\n",
              "      border-right-color: var(--fill-color);\n",
              "    }\n",
              "    40% {\n",
              "      border-color: transparent;\n",
              "      border-right-color: var(--fill-color);\n",
              "      border-top-color: var(--fill-color);\n",
              "    }\n",
              "    60% {\n",
              "      border-color: transparent;\n",
              "      border-right-color: var(--fill-color);\n",
              "    }\n",
              "    80% {\n",
              "      border-color: transparent;\n",
              "      border-right-color: var(--fill-color);\n",
              "      border-bottom-color: var(--fill-color);\n",
              "    }\n",
              "    90% {\n",
              "      border-color: transparent;\n",
              "      border-bottom-color: var(--fill-color);\n",
              "    }\n",
              "  }\n",
              "</style>\n",
              "\n",
              "  <script>\n",
              "    async function quickchart(key) {\n",
              "      const quickchartButtonEl =\n",
              "        document.querySelector('#' + key + ' button');\n",
              "      quickchartButtonEl.disabled = true;  // To prevent multiple clicks.\n",
              "      quickchartButtonEl.classList.add('colab-df-spinner');\n",
              "      try {\n",
              "        const charts = await google.colab.kernel.invokeFunction(\n",
              "            'suggestCharts', [key], {});\n",
              "      } catch (error) {\n",
              "        console.error('Error during call to suggestCharts:', error);\n",
              "      }\n",
              "      quickchartButtonEl.classList.remove('colab-df-spinner');\n",
              "      quickchartButtonEl.classList.add('colab-df-quickchart-complete');\n",
              "    }\n",
              "    (() => {\n",
              "      let quickchartButtonEl =\n",
              "        document.querySelector('#df-ba37add8-4a51-48d4-b7fc-417dc5089d89 button');\n",
              "      quickchartButtonEl.style.display =\n",
              "        google.colab.kernel.accessAllowed ? 'block' : 'none';\n",
              "    })();\n",
              "  </script>\n",
              "</div>\n",
              "    </div>\n",
              "  </div>\n"
            ],
            "text/plain": [
              "                                            news_title  \\\n",
              "0             Mark Cuban launches generic drug company   \n",
              "1    From Defendant to Defender: One Wrongfully Con...   \n",
              "2    Amazon Tribe Wins Lawsuit Against Big Oil, Sav...   \n",
              "3    Newark police: No officer fired a single shot ...   \n",
              "4                   Ingen barn døde i trafikken i 2019   \n",
              "..                                                 ...   \n",
              "843  Dee Why attack: Man allegedly choked and threa...   \n",
              "844  Africa: Children and HIV/Aids - 'We Need to Ta...   \n",
              "845                Terrorism suspected in Eilat attack   \n",
              "846  Anti-Semitism never disappeared in Europe. It'...   \n",
              "847     Five dead, 32 injured in Hong Kong coach crash   \n",
              "\n",
              "                                          reddit_title  sentiment  \\\n",
              "0    Billionaire Mark Cuban just launched a drug co...        1.0   \n",
              "1    Man falsely imprisoned for 10 years, uses pris...        1.0   \n",
              "2    Amazon tribe wins legal battle against oil com...        1.0   \n",
              "3    Newark police: No officer fired a single shot ...        1.0   \n",
              "4    No children died in traffic accidents in Norwa...        1.0   \n",
              "..                                                 ...        ...   \n",
              "843  Dee Why attack: Man allegedly choked and threa...        0.0   \n",
              "844  Africa: Children and HIV/Aids - 'We Need to Ta...        0.0   \n",
              "845                Terrorism suspected in Eilat attack        0.0   \n",
              "846  Anti-Semitism never disappeared in Europe. It'...        0.0   \n",
              "847     Five dead, 32 injured in Hong Kong coach crash        0.0   \n",
              "\n",
              "                                                  text  \\\n",
              "0    Billionaire investor and Shark Tank star Mark ...   \n",
              "1    Attorney Jarrett Adams recently helped overtur...   \n",
              "2    The Amazon Rainforest is well known across the...   \n",
              "3    Newark police: No officer fired a single shot ...   \n",
              "4    I 1970 døde det 560 mennesker i den norske tra...   \n",
              "..                                                 ...   \n",
              "843  Frightening details have emerged about a toile...   \n",
              "844  interview\\n\\nJohannesburg — 360,000 adolescent...   \n",
              "845  A violent attack in the southern Israeli port ...   \n",
              "846  It's a 17-year-old boy, too frightened to wear...   \n",
              "847  HONG KONG (AFP) - Five people were killed and ...   \n",
              "\n",
              "                                                   url  \n",
              "0    https://www.beckershospitalreview.com/pharmacy...  \n",
              "1    https://www.nbcnews.com/news/us-news/defendant...  \n",
              "2    https://www.disclose.tv/amazon-tribe-wins-laws...  \n",
              "3    https://newjersey.news12.com/newark-police-no-...  \n",
              "4    https://www.nrk.no/trondelag/ingen-barn-dode-i...  \n",
              "..                                                 ...  \n",
              "843  https://www.9news.com.au/2018/11/30/17/55/sydn...  \n",
              "844    https://allafrica.com/stories/201811300567.html  \n",
              "845  http://www.israelnationalnews.com/News/News.as...  \n",
              "846  https://edition.cnn.com/2018/11/27/europe/anti...  \n",
              "847  https://www.straitstimes.com/asia/east-asia/fi...  \n",
              "\n",
              "[848 rows x 5 columns]"
            ]
          },
          "execution_count": 30,
          "metadata": {},
          "output_type": "execute_result"
        }
      ],
      "source": [
        "test_ns_data2=pd.read_csv(\"/source_repository/other_datasets_for_tests/news_sentiment_dataset/Sentiment_dataset.csv\")\n",
        "test_ns_data2"
      ]
    },
    {
      "cell_type": "code",
      "execution_count": null,
      "metadata": {
        "colab": {
          "base_uri": "https://localhost:8080/"
        },
        "id": "kPoeqhyc1qIF",
        "outputId": "93083de3-188e-4639-86ed-d2fd51e481ff"
      },
      "outputs": [
        {
          "data": {
            "text/plain": [
              "array([1., 0.])"
            ]
          },
          "execution_count": 31,
          "metadata": {},
          "output_type": "execute_result"
        }
      ],
      "source": [
        "test_ns_data2['sentiment'].unique() #1 positive, 0 negative"
      ]
    },
    {
      "cell_type": "code",
      "execution_count": null,
      "metadata": {
        "id": "R1h9a4Hu3vAo"
      },
      "outputs": [],
      "source": [
        "def map_values(x):\n",
        "  if x==1:\n",
        "    return 'positive'\n",
        "  elif x==0:\n",
        "    return 'negative'\n",
        "  else:\n",
        "    return 'neutral'\n",
        "\n",
        "test_ns_data2['sentiment']=test_ns_data2['sentiment'].apply(map_values)"
      ]
    },
    {
      "cell_type": "code",
      "execution_count": null,
      "metadata": {
        "colab": {
          "base_uri": "https://localhost:8080/",
          "height": 580
        },
        "id": "rsGxD7nf1v1J",
        "outputId": "f878f6b4-2cec-429e-a560-18edd71de038"
      },
      "outputs": [
        {
          "data": {
            "application/vnd.google.colaboratory.intrinsic+json": {
              "summary": "{\n  \"name\": \"test_ns_data2\",\n  \"rows\": 848,\n  \"fields\": [\n    {\n      \"column\": \"news_title\",\n      \"properties\": {\n        \"dtype\": \"string\",\n        \"num_unique_values\": 847,\n        \"samples\": [\n          \"Stray dog who visited car dealership every day gets adopted and lands dream job\",\n          \"One woman\\u2019s race to defuse the genetic time bomb in her genes\",\n          \"The man who saves forgotten cats in Fukushima's nuclear zone\"\n        ],\n        \"semantic_type\": \"\",\n        \"description\": \"\"\n      }\n    },\n    {\n      \"column\": \"reddit_title\",\n      \"properties\": {\n        \"dtype\": \"string\",\n        \"num_unique_values\": 848,\n        \"samples\": [\n          \"Church wipes out $46.5 million in medical debt\",\n          \"Austria is turning site of Hitler's birth into a police station to repel neo-Nazis\",\n          \"All 955 trapped South Africa gold miners resurface after 30-hour ordeal.\"\n        ],\n        \"semantic_type\": \"\",\n        \"description\": \"\"\n      }\n    },\n    {\n      \"column\": \"sentiment\",\n      \"properties\": {\n        \"dtype\": \"category\",\n        \"num_unique_values\": 2,\n        \"samples\": [\n          \"negative\",\n          \"positive\"\n        ],\n        \"semantic_type\": \"\",\n        \"description\": \"\"\n      }\n    },\n    {\n      \"column\": \"text\",\n      \"properties\": {\n        \"dtype\": \"string\",\n        \"num_unique_values\": 847,\n        \"samples\": [\n          \"Calling all dog lovers! Sign up to TeamDogs for your weekly dose of dog news, pictures and stories. Invalid Email Something went wrong, please try again later. Sign up Thank you for subscribing We have more newsletters Show me See our privacy notice\\n\\nPersistence has paid off for a stray dog who refused to stop turning up to a car dealership \\u2013 after he was adopted and simultaneously landed his dream job.\\n\\nThe lonely pooch kept going to a Hyundai Prime branch in Brazil, and after staff fell in love with him they decided to adopt him and put him to work.\\n\\nNewly-named Tucson Prime is now in charge of meeting and greeting customers to the dealership, and he couldn't be happier.\\n\\nAccording to Bored Panda, one night when it was particularly rainy, manager Emerson Mariano invited the pooch inside and let him have some food and water.\\n\\n(Image: tucson_prime/Instagram)\\n\\nBut he kept coming back after that, so staff at the dealership adopted him.\\n\\nTucson Prime's 'very caring and docile nature' gave managers an idea and now he's a fully-fledged employee.\\n\\nEmerson Mariano told media outlet Top Motors Brazil: \\\"After all, the company has always been pet friendly, so now, we decided to embrace this idea in practice too, having our own pet precisely at a more complicated time like this with so many abandoned animals.\\\"\\n\\n(Image: tucson_prime/Instagram)\\n\\nTucson Prime has also become a star on Instagram, and already has more than 108,000 followers.\\n\\nA recent post on the account said: \\\"Today my day started early, but it was not in sales, I am trying to read and answer the thousands, I swear, miles of messages I received in the last few days.\\n\\n\\\"But where I came from, I didn't have this technology. Me and my humans are still trying to find a way to deal with so much love and affection like that. If I didn't open your message or answered, I wanted to apologise, but we are trying our best to open all messages to try to thank you all, I am very happy with all this!\\\"\",\n          \"In 2011, Sonia Vallabh was handed a genetic report that contained a death sentence. But it also held a map for how to escape.\\n\\nHer body, she learned, harbored a gene mutation, a single wrong letter of DNA in her \\u201cprion\\u201d gene, that would eventually lead to a rare brain condition called fatal familial insomnia. Her mother had died of it the year before, and the test had revealed Vallabh had inherited the flaw too.\\n\\nBy now, the decision by Vallabh and her husband, Eric Minikel, to try to prevent her disease\\u2014\\u201ca prion love story,\\u201d the New Yorker called it\\u2014is well-known. After the diagnosis of the genetic time bomb, they dropped out of their careers in law and engineering and became scientists dedicated to defusing it. They expect to get PhDs next spring (see \\u201cSonia Vallabh, 35 Innovators Under 35, 2016\\u201d.)\\n\\nNow, after seven years, they think they have found a treatment that can do it. It\\u2019s called an antisense drug, a type of mirror-image molecule that, if it reaches the brain, could greatly reduce the amount of the prion protein. That could potentially forestall the mysterious chain reaction of misfolding proteins that characterize prion diseases.\\n\\nLess of the protein, Vallabh reasons, and less chance she\\u2019ll get sick.\\n\\nTwo weeks ago, on their blog, Vallabh announced she and Minikel were working with a commercial partner, the California biotech company Ionis, which specializes in antisense compounds. \\u201cFor the first time, I am optimistic about a specific therapeutic strategy,\\u201d she wrote. It\\u2019s \\u201cplausible\\u201d that antisense could treat the disease \\u201cin our lifetime.\\u201d\\n\\nVallabh\\u2019s race to prevent her own prion disease raises a question for the genetic age. Given a perfect DNA blueprint of your inherited disease, what\\u2019s your chance of stopping it in your lifetime, or that of someone you love?\\n\\nThere are reasons to think these types of medical long shots have become more likely to hit the mark. That is because gene sequencing can cheaply reveal molecular flaws, but also because a set of promising technologies\\u2014antisense, gene therapy, and CRISPR gene editing\\u2014are able to replace genes or silence them, in effect fixing genetic problems at their source.\\n\\nA close-up of up brain tissue affected by prions, misfolded protein that are toxic to neurons. wikimedia commons\\n\\nWhat\\u2019s more, these treatments employ the genetic code; they are actually made of DNA or RNA. That means that they\\u2019re fundamentally modular and programmable. At least on paper, it is now possible to take any genetic flaw and quickly sketch an antidote.\\n\\nIn reality, drug development is notoriously complicated. Most drugs fail, torn down by biological surprises and unexpected toxicity to the human body. But Vallabh says in the early, confusing days of her quest, she received critical advice from Eric Lander, the biologist who leads the Broad Institute, where she and Minikel now study and work. He told her to focus on the genetic error itself\\u2014the blueprint of which was in her diagnosis.\\n\\n\\u201cYou need to see what you have in your hand and stop looking,\\u201d she recalls him saying.\\n\\nThat meant not waiting to answer important scientific unknowns, like what the prion protein does in the body, or why, when it misfolds, it kills brain cells. \\u201cThere are so many interesting questions about prion disease,\\u201d says Vallabh, who is 34. \\u201cAnd those questions will still be there when we are treating it.\\u201d\\n\\nPrion diseases are profoundly strange because they\\u2019re caused not by a virus, but by an infectious protein. They include scrapie in sheep, Kuru (spread by cannibalism), Creutzfelt-Jakob disease, and the human version of mad cow disease.\\n\\nThe key drug insight was that mice engineered to lack the prion protein gene never get sick, even when scientists inject infectious prions into their brains. \\u201cThe biological concept of a prion is a protein that changes it conformation, and that can template further copies. It\\u2019s self-templating. That allows it to spread,\\u201d says Kurt Giles, a researcher in the lab at the University of California, San Francisco, where prions were first discovered. \\u201cThat leads to the idea of reducing the [protein]. The less of it there is, then you will get less templating.\\u201d\\n\\nFor genetic therapies, though, there\\u2019s a further problem, which is how to get them into the body so that they reach, for instance, billions of brain cells.\\n\\nAntisense technology, conceived decades ago, had its big breakthrough last year when a drug developed by Ionis proved to be astoundingly effective in treating a childhood neurological disorder, spinal muscular atrophy.\\n\\nBy then, Vallabh and Minikel had been introduced to Ionis, and the company had agreed to provide them with antisense compounds targeted to the prion gene to test in mice. Holly Kordasiewicz, the head of neuroscience at Ionis, recalls the 2014 meeting. \\u201cWe left the room saying we need to do everything that we can to help these people,\\u201d she says.\\n\\nThe company gave Vallabh and Minikel a to-do list, which they quickly worked through. Patient registry? Check. Animal studies? Check. Biomarker to show if a drug is working? That research, too, is under way at a Boston hospital studying prion protein levels in spinal fluid.\\n\\n\\u201cSonia and Eric are doing this with no real funding, just trying to make it happen,\\u201d says Jeff Carroll, another patient scientist (he\\u2019s got the mutation for Huntington\\u2019s disease), who introduced them to Ionis.\\n\\nOne problem not as easily addressed is that prion disease is astoundingly rare, quickly fatal, and rarely diagnosed in advance. That means there has been no great clamor for treatments. Maybe only 200 people in the U.S. know they have a time bomb like Vallabh, she says, and there\\u2019s not a single drug currently in human testing. Early on, Ionis let the pair know the collaboration was strictly academic and not a commercial prospect.\\n\\nBut by blotting out the prion protein at its source, an antisense treatment might help with a range of rare conditions linked to it. Fatal insomnia is vanishingly uncommon, as are cases of mad cow disease, but adding these \\u201cultra-rare\\u201d diseases together makes them, as a group, slightly less rare.\\n\\nVallabh and Minikel say they now have proof that Ionis\\u2019s antisense molecules partly protect mice from prion disease. Those animals given the drug live about 70 percent longer.\\n\\nKordasiewicz now terms the program a \\u201ccommercial\\u201d project at Ionis, though it remains too small and early-stage to appear on the company\\u2019s pipeline chart of drugs under development. \\u201cWhat changed is the data is looking good enough that we think we can have a drug in five years,\\u201d she says.\\n\\nVallabh hopes it can all go even faster. The fatal insomnia could begin to afflict her tomorrow, or in 30 years. There\\u2019s no way to predict it. She and Minikel just had their first child. The girl was conceived through IVF, and Vallabh says the lab employed a genetic test to assure them she wouldn\\u2019t carry the mutation.\\n\\nTo save herself, it\\u2019s not going to be enough to have a drug. She needs to get it before she ever falls ill. Yet doctors have little experience giving such a genetic drug over many years as a form of prevention.\\n\\nFiguring out how to carry off such a study is the next challenge for Vallabh and her husband. It appears they hope the US Food and Drug Administration will permit a prevention trial in patients who carry the prion mutations. Since it can take decades for people to get sick (or not), such a study would instead rely on a biomarker, such as whether antisense injections can reduce prion protein levels in the spinal fluid.\\n\\nVallabh told me she would volunteer to take the drug. \\u201cThe big picture,\\u201d she says, \\u201cis we are moving much more quickly than anyone could expect due to this beautifully clear genetic blueprint we were handed.\\u201d\"\n        ],\n        \"semantic_type\": \"\",\n        \"description\": \"\"\n      }\n    },\n    {\n      \"column\": \"url\",\n      \"properties\": {\n        \"dtype\": \"string\",\n        \"num_unique_values\": 848,\n        \"samples\": [\n          \"https://www.cincinnati.com/story/news/2020/02/24/crossroads-church-nonprofit-wipe-out-46-5-million-medical-debt/4854753002/?fbclid=IwAR1MMDWZKi9U_rQ8bwSZB_irls6Ejjqgu4oMrZuozZ23yI8qG5tIEKw59-s\",\n          \"https://theweek.com/speedreads/879727/austria-turning-site-hitlers-birth-into-police-station-repel-neonazis\"\n        ],\n        \"semantic_type\": \"\",\n        \"description\": \"\"\n      }\n    },\n    {\n      \"column\": \"predicted_sentiment\",\n      \"properties\": {\n        \"dtype\": \"object\",\n        \"num_unique_values\": 1,\n        \"samples\": [\n          \"\"\n        ],\n        \"semantic_type\": \"\",\n        \"description\": \"\"\n      }\n    }\n  ]\n}",
              "type": "dataframe",
              "variable_name": "test_ns_data2"
            },
            "text/html": [
              "\n",
              "  <div id=\"df-e03bcf65-7c9b-4707-a59a-22ed132f60fe\" class=\"colab-df-container\">\n",
              "    <div>\n",
              "<style scoped>\n",
              "    .dataframe tbody tr th:only-of-type {\n",
              "        vertical-align: middle;\n",
              "    }\n",
              "\n",
              "    .dataframe tbody tr th {\n",
              "        vertical-align: top;\n",
              "    }\n",
              "\n",
              "    .dataframe thead th {\n",
              "        text-align: right;\n",
              "    }\n",
              "</style>\n",
              "<table border=\"1\" class=\"dataframe\">\n",
              "  <thead>\n",
              "    <tr style=\"text-align: right;\">\n",
              "      <th></th>\n",
              "      <th>news_title</th>\n",
              "      <th>reddit_title</th>\n",
              "      <th>sentiment</th>\n",
              "      <th>text</th>\n",
              "      <th>url</th>\n",
              "      <th>predicted_sentiment</th>\n",
              "    </tr>\n",
              "  </thead>\n",
              "  <tbody>\n",
              "    <tr>\n",
              "      <th>0</th>\n",
              "      <td>Mark Cuban launches generic drug company</td>\n",
              "      <td>Billionaire Mark Cuban just launched a drug co...</td>\n",
              "      <td>positive</td>\n",
              "      <td>Billionaire investor and Shark Tank star Mark ...</td>\n",
              "      <td>https://www.beckershospitalreview.com/pharmacy...</td>\n",
              "      <td></td>\n",
              "    </tr>\n",
              "    <tr>\n",
              "      <th>1</th>\n",
              "      <td>From Defendant to Defender: One Wrongfully Con...</td>\n",
              "      <td>Man falsely imprisoned for 10 years, uses pris...</td>\n",
              "      <td>positive</td>\n",
              "      <td>Attorney Jarrett Adams recently helped overtur...</td>\n",
              "      <td>https://www.nbcnews.com/news/us-news/defendant...</td>\n",
              "      <td></td>\n",
              "    </tr>\n",
              "    <tr>\n",
              "      <th>2</th>\n",
              "      <td>Amazon Tribe Wins Lawsuit Against Big Oil, Sav...</td>\n",
              "      <td>Amazon tribe wins legal battle against oil com...</td>\n",
              "      <td>positive</td>\n",
              "      <td>The Amazon Rainforest is well known across the...</td>\n",
              "      <td>https://www.disclose.tv/amazon-tribe-wins-laws...</td>\n",
              "      <td></td>\n",
              "    </tr>\n",
              "    <tr>\n",
              "      <th>3</th>\n",
              "      <td>Newark police: No officer fired a single shot ...</td>\n",
              "      <td>Newark police: No officer fired a single shot ...</td>\n",
              "      <td>positive</td>\n",
              "      <td>Newark police: No officer fired a single shot ...</td>\n",
              "      <td>https://newjersey.news12.com/newark-police-no-...</td>\n",
              "      <td></td>\n",
              "    </tr>\n",
              "    <tr>\n",
              "      <th>4</th>\n",
              "      <td>Ingen barn døde i trafikken i 2019</td>\n",
              "      <td>No children died in traffic accidents in Norwa...</td>\n",
              "      <td>positive</td>\n",
              "      <td>I 1970 døde det 560 mennesker i den norske tra...</td>\n",
              "      <td>https://www.nrk.no/trondelag/ingen-barn-dode-i...</td>\n",
              "      <td></td>\n",
              "    </tr>\n",
              "    <tr>\n",
              "      <th>...</th>\n",
              "      <td>...</td>\n",
              "      <td>...</td>\n",
              "      <td>...</td>\n",
              "      <td>...</td>\n",
              "      <td>...</td>\n",
              "      <td>...</td>\n",
              "    </tr>\n",
              "    <tr>\n",
              "      <th>843</th>\n",
              "      <td>Dee Why attack: Man allegedly choked and threa...</td>\n",
              "      <td>Dee Why attack: Man allegedly choked and threa...</td>\n",
              "      <td>negative</td>\n",
              "      <td>Frightening details have emerged about a toile...</td>\n",
              "      <td>https://www.9news.com.au/2018/11/30/17/55/sydn...</td>\n",
              "      <td></td>\n",
              "    </tr>\n",
              "    <tr>\n",
              "      <th>844</th>\n",
              "      <td>Africa: Children and HIV/Aids - 'We Need to Ta...</td>\n",
              "      <td>Africa: Children and HIV/Aids - 'We Need to Ta...</td>\n",
              "      <td>negative</td>\n",
              "      <td>interview\\n\\nJohannesburg — 360,000 adolescent...</td>\n",
              "      <td>https://allafrica.com/stories/201811300567.html</td>\n",
              "      <td></td>\n",
              "    </tr>\n",
              "    <tr>\n",
              "      <th>845</th>\n",
              "      <td>Terrorism suspected in Eilat attack</td>\n",
              "      <td>Terrorism suspected in Eilat attack</td>\n",
              "      <td>negative</td>\n",
              "      <td>A violent attack in the southern Israeli port ...</td>\n",
              "      <td>http://www.israelnationalnews.com/News/News.as...</td>\n",
              "      <td></td>\n",
              "    </tr>\n",
              "    <tr>\n",
              "      <th>846</th>\n",
              "      <td>Anti-Semitism never disappeared in Europe. It'...</td>\n",
              "      <td>Anti-Semitism never disappeared in Europe. It'...</td>\n",
              "      <td>negative</td>\n",
              "      <td>It's a 17-year-old boy, too frightened to wear...</td>\n",
              "      <td>https://edition.cnn.com/2018/11/27/europe/anti...</td>\n",
              "      <td></td>\n",
              "    </tr>\n",
              "    <tr>\n",
              "      <th>847</th>\n",
              "      <td>Five dead, 32 injured in Hong Kong coach crash</td>\n",
              "      <td>Five dead, 32 injured in Hong Kong coach crash</td>\n",
              "      <td>negative</td>\n",
              "      <td>HONG KONG (AFP) - Five people were killed and ...</td>\n",
              "      <td>https://www.straitstimes.com/asia/east-asia/fi...</td>\n",
              "      <td></td>\n",
              "    </tr>\n",
              "  </tbody>\n",
              "</table>\n",
              "<p>848 rows × 6 columns</p>\n",
              "</div>\n",
              "    <div class=\"colab-df-buttons\">\n",
              "\n",
              "  <div class=\"colab-df-container\">\n",
              "    <button class=\"colab-df-convert\" onclick=\"convertToInteractive('df-e03bcf65-7c9b-4707-a59a-22ed132f60fe')\"\n",
              "            title=\"Convert this dataframe to an interactive table.\"\n",
              "            style=\"display:none;\">\n",
              "\n",
              "  <svg xmlns=\"http://www.w3.org/2000/svg\" height=\"24px\" viewBox=\"0 -960 960 960\">\n",
              "    <path d=\"M120-120v-720h720v720H120Zm60-500h600v-160H180v160Zm220 220h160v-160H400v160Zm0 220h160v-160H400v160ZM180-400h160v-160H180v160Zm440 0h160v-160H620v160ZM180-180h160v-160H180v160Zm440 0h160v-160H620v160Z\"/>\n",
              "  </svg>\n",
              "    </button>\n",
              "\n",
              "  <style>\n",
              "    .colab-df-container {\n",
              "      display:flex;\n",
              "      gap: 12px;\n",
              "    }\n",
              "\n",
              "    .colab-df-convert {\n",
              "      background-color: #E8F0FE;\n",
              "      border: none;\n",
              "      border-radius: 50%;\n",
              "      cursor: pointer;\n",
              "      display: none;\n",
              "      fill: #1967D2;\n",
              "      height: 32px;\n",
              "      padding: 0 0 0 0;\n",
              "      width: 32px;\n",
              "    }\n",
              "\n",
              "    .colab-df-convert:hover {\n",
              "      background-color: #E2EBFA;\n",
              "      box-shadow: 0px 1px 2px rgba(60, 64, 67, 0.3), 0px 1px 3px 1px rgba(60, 64, 67, 0.15);\n",
              "      fill: #174EA6;\n",
              "    }\n",
              "\n",
              "    .colab-df-buttons div {\n",
              "      margin-bottom: 4px;\n",
              "    }\n",
              "\n",
              "    [theme=dark] .colab-df-convert {\n",
              "      background-color: #3B4455;\n",
              "      fill: #D2E3FC;\n",
              "    }\n",
              "\n",
              "    [theme=dark] .colab-df-convert:hover {\n",
              "      background-color: #434B5C;\n",
              "      box-shadow: 0px 1px 3px 1px rgba(0, 0, 0, 0.15);\n",
              "      filter: drop-shadow(0px 1px 2px rgba(0, 0, 0, 0.3));\n",
              "      fill: #FFFFFF;\n",
              "    }\n",
              "  </style>\n",
              "\n",
              "    <script>\n",
              "      const buttonEl =\n",
              "        document.querySelector('#df-e03bcf65-7c9b-4707-a59a-22ed132f60fe button.colab-df-convert');\n",
              "      buttonEl.style.display =\n",
              "        google.colab.kernel.accessAllowed ? 'block' : 'none';\n",
              "\n",
              "      async function convertToInteractive(key) {\n",
              "        const element = document.querySelector('#df-e03bcf65-7c9b-4707-a59a-22ed132f60fe');\n",
              "        const dataTable =\n",
              "          await google.colab.kernel.invokeFunction('convertToInteractive',\n",
              "                                                    [key], {});\n",
              "        if (!dataTable) return;\n",
              "\n",
              "        const docLinkHtml = 'Like what you see? Visit the ' +\n",
              "          '<a target=\"_blank\" href=https://colab.research.google.com/notebooks/data_table.ipynb>data table notebook</a>'\n",
              "          + ' to learn more about interactive tables.';\n",
              "        element.innerHTML = '';\n",
              "        dataTable['output_type'] = 'display_data';\n",
              "        await google.colab.output.renderOutput(dataTable, element);\n",
              "        const docLink = document.createElement('div');\n",
              "        docLink.innerHTML = docLinkHtml;\n",
              "        element.appendChild(docLink);\n",
              "      }\n",
              "    </script>\n",
              "  </div>\n",
              "\n",
              "\n",
              "<div id=\"df-0b69ec04-f9eb-4edc-9ee3-2f9cc93f5530\">\n",
              "  <button class=\"colab-df-quickchart\" onclick=\"quickchart('df-0b69ec04-f9eb-4edc-9ee3-2f9cc93f5530')\"\n",
              "            title=\"Suggest charts\"\n",
              "            style=\"display:none;\">\n",
              "\n",
              "<svg xmlns=\"http://www.w3.org/2000/svg\" height=\"24px\"viewBox=\"0 0 24 24\"\n",
              "     width=\"24px\">\n",
              "    <g>\n",
              "        <path d=\"M19 3H5c-1.1 0-2 .9-2 2v14c0 1.1.9 2 2 2h14c1.1 0 2-.9 2-2V5c0-1.1-.9-2-2-2zM9 17H7v-7h2v7zm4 0h-2V7h2v10zm4 0h-2v-4h2v4z\"/>\n",
              "    </g>\n",
              "</svg>\n",
              "  </button>\n",
              "\n",
              "<style>\n",
              "  .colab-df-quickchart {\n",
              "      --bg-color: #E8F0FE;\n",
              "      --fill-color: #1967D2;\n",
              "      --hover-bg-color: #E2EBFA;\n",
              "      --hover-fill-color: #174EA6;\n",
              "      --disabled-fill-color: #AAA;\n",
              "      --disabled-bg-color: #DDD;\n",
              "  }\n",
              "\n",
              "  [theme=dark] .colab-df-quickchart {\n",
              "      --bg-color: #3B4455;\n",
              "      --fill-color: #D2E3FC;\n",
              "      --hover-bg-color: #434B5C;\n",
              "      --hover-fill-color: #FFFFFF;\n",
              "      --disabled-bg-color: #3B4455;\n",
              "      --disabled-fill-color: #666;\n",
              "  }\n",
              "\n",
              "  .colab-df-quickchart {\n",
              "    background-color: var(--bg-color);\n",
              "    border: none;\n",
              "    border-radius: 50%;\n",
              "    cursor: pointer;\n",
              "    display: none;\n",
              "    fill: var(--fill-color);\n",
              "    height: 32px;\n",
              "    padding: 0;\n",
              "    width: 32px;\n",
              "  }\n",
              "\n",
              "  .colab-df-quickchart:hover {\n",
              "    background-color: var(--hover-bg-color);\n",
              "    box-shadow: 0 1px 2px rgba(60, 64, 67, 0.3), 0 1px 3px 1px rgba(60, 64, 67, 0.15);\n",
              "    fill: var(--button-hover-fill-color);\n",
              "  }\n",
              "\n",
              "  .colab-df-quickchart-complete:disabled,\n",
              "  .colab-df-quickchart-complete:disabled:hover {\n",
              "    background-color: var(--disabled-bg-color);\n",
              "    fill: var(--disabled-fill-color);\n",
              "    box-shadow: none;\n",
              "  }\n",
              "\n",
              "  .colab-df-spinner {\n",
              "    border: 2px solid var(--fill-color);\n",
              "    border-color: transparent;\n",
              "    border-bottom-color: var(--fill-color);\n",
              "    animation:\n",
              "      spin 1s steps(1) infinite;\n",
              "  }\n",
              "\n",
              "  @keyframes spin {\n",
              "    0% {\n",
              "      border-color: transparent;\n",
              "      border-bottom-color: var(--fill-color);\n",
              "      border-left-color: var(--fill-color);\n",
              "    }\n",
              "    20% {\n",
              "      border-color: transparent;\n",
              "      border-left-color: var(--fill-color);\n",
              "      border-top-color: var(--fill-color);\n",
              "    }\n",
              "    30% {\n",
              "      border-color: transparent;\n",
              "      border-left-color: var(--fill-color);\n",
              "      border-top-color: var(--fill-color);\n",
              "      border-right-color: var(--fill-color);\n",
              "    }\n",
              "    40% {\n",
              "      border-color: transparent;\n",
              "      border-right-color: var(--fill-color);\n",
              "      border-top-color: var(--fill-color);\n",
              "    }\n",
              "    60% {\n",
              "      border-color: transparent;\n",
              "      border-right-color: var(--fill-color);\n",
              "    }\n",
              "    80% {\n",
              "      border-color: transparent;\n",
              "      border-right-color: var(--fill-color);\n",
              "      border-bottom-color: var(--fill-color);\n",
              "    }\n",
              "    90% {\n",
              "      border-color: transparent;\n",
              "      border-bottom-color: var(--fill-color);\n",
              "    }\n",
              "  }\n",
              "</style>\n",
              "\n",
              "  <script>\n",
              "    async function quickchart(key) {\n",
              "      const quickchartButtonEl =\n",
              "        document.querySelector('#' + key + ' button');\n",
              "      quickchartButtonEl.disabled = true;  // To prevent multiple clicks.\n",
              "      quickchartButtonEl.classList.add('colab-df-spinner');\n",
              "      try {\n",
              "        const charts = await google.colab.kernel.invokeFunction(\n",
              "            'suggestCharts', [key], {});\n",
              "      } catch (error) {\n",
              "        console.error('Error during call to suggestCharts:', error);\n",
              "      }\n",
              "      quickchartButtonEl.classList.remove('colab-df-spinner');\n",
              "      quickchartButtonEl.classList.add('colab-df-quickchart-complete');\n",
              "    }\n",
              "    (() => {\n",
              "      let quickchartButtonEl =\n",
              "        document.querySelector('#df-0b69ec04-f9eb-4edc-9ee3-2f9cc93f5530 button');\n",
              "      quickchartButtonEl.style.display =\n",
              "        google.colab.kernel.accessAllowed ? 'block' : 'none';\n",
              "    })();\n",
              "  </script>\n",
              "</div>\n",
              "    </div>\n",
              "  </div>\n"
            ],
            "text/plain": [
              "                                            news_title  \\\n",
              "0             Mark Cuban launches generic drug company   \n",
              "1    From Defendant to Defender: One Wrongfully Con...   \n",
              "2    Amazon Tribe Wins Lawsuit Against Big Oil, Sav...   \n",
              "3    Newark police: No officer fired a single shot ...   \n",
              "4                   Ingen barn døde i trafikken i 2019   \n",
              "..                                                 ...   \n",
              "843  Dee Why attack: Man allegedly choked and threa...   \n",
              "844  Africa: Children and HIV/Aids - 'We Need to Ta...   \n",
              "845                Terrorism suspected in Eilat attack   \n",
              "846  Anti-Semitism never disappeared in Europe. It'...   \n",
              "847     Five dead, 32 injured in Hong Kong coach crash   \n",
              "\n",
              "                                          reddit_title sentiment  \\\n",
              "0    Billionaire Mark Cuban just launched a drug co...  positive   \n",
              "1    Man falsely imprisoned for 10 years, uses pris...  positive   \n",
              "2    Amazon tribe wins legal battle against oil com...  positive   \n",
              "3    Newark police: No officer fired a single shot ...  positive   \n",
              "4    No children died in traffic accidents in Norwa...  positive   \n",
              "..                                                 ...       ...   \n",
              "843  Dee Why attack: Man allegedly choked and threa...  negative   \n",
              "844  Africa: Children and HIV/Aids - 'We Need to Ta...  negative   \n",
              "845                Terrorism suspected in Eilat attack  negative   \n",
              "846  Anti-Semitism never disappeared in Europe. It'...  negative   \n",
              "847     Five dead, 32 injured in Hong Kong coach crash  negative   \n",
              "\n",
              "                                                  text  \\\n",
              "0    Billionaire investor and Shark Tank star Mark ...   \n",
              "1    Attorney Jarrett Adams recently helped overtur...   \n",
              "2    The Amazon Rainforest is well known across the...   \n",
              "3    Newark police: No officer fired a single shot ...   \n",
              "4    I 1970 døde det 560 mennesker i den norske tra...   \n",
              "..                                                 ...   \n",
              "843  Frightening details have emerged about a toile...   \n",
              "844  interview\\n\\nJohannesburg — 360,000 adolescent...   \n",
              "845  A violent attack in the southern Israeli port ...   \n",
              "846  It's a 17-year-old boy, too frightened to wear...   \n",
              "847  HONG KONG (AFP) - Five people were killed and ...   \n",
              "\n",
              "                                                   url predicted_sentiment  \n",
              "0    https://www.beckershospitalreview.com/pharmacy...                      \n",
              "1    https://www.nbcnews.com/news/us-news/defendant...                      \n",
              "2    https://www.disclose.tv/amazon-tribe-wins-laws...                      \n",
              "3    https://newjersey.news12.com/newark-police-no-...                      \n",
              "4    https://www.nrk.no/trondelag/ingen-barn-dode-i...                      \n",
              "..                                                 ...                 ...  \n",
              "843  https://www.9news.com.au/2018/11/30/17/55/sydn...                      \n",
              "844    https://allafrica.com/stories/201811300567.html                      \n",
              "845  http://www.israelnationalnews.com/News/News.as...                      \n",
              "846  https://edition.cnn.com/2018/11/27/europe/anti...                      \n",
              "847  https://www.straitstimes.com/asia/east-asia/fi...                      \n",
              "\n",
              "[848 rows x 6 columns]"
            ]
          },
          "execution_count": 33,
          "metadata": {},
          "output_type": "execute_result"
        }
      ],
      "source": [
        "test_ns_data2[\"predicted_sentiment\"]=''\n",
        "test_ns_data2"
      ]
    },
    {
      "cell_type": "code",
      "execution_count": null,
      "metadata": {
        "colab": {
          "base_uri": "https://localhost:8080/"
        },
        "id": "nKNRXqOx2Alb",
        "outputId": "3ca5ee9e-7463-4142-922a-b645d4493742"
      },
      "outputs": [
        {
          "name": "stdout",
          "output_type": "stream",
          "text": [
            "0\n",
            "200\n",
            "400\n",
            "600\n",
            "800\n"
          ]
        }
      ],
      "source": [
        "nlp = spacy.load('en_core_web_sm')\n",
        "nlp.add_pipe(\"merge_noun_chunks\")\n",
        "for i in range(test_ns_data2.shape[0]):\n",
        "  if i%200==0:\n",
        "    print(i)\n",
        "  text_to_check=test_ns_data2['text'][i]\n",
        "  test_ns_data2['predicted_sentiment'][i]=graph_sentiment_analysis(text_to_check, calculate_overall_score=1, nlp=nlp, threshold=0.0)"
      ]
    },
    {
      "cell_type": "code",
      "execution_count": null,
      "metadata": {
        "id": "MiBxBB6P43Ad"
      },
      "outputs": [],
      "source": [
        "accuracy_ns=np.sum(test_ns_data2['sentiment']==test_ns_data2['predicted_sentiment'])/test_ns_data2.shape[0]"
      ]
    },
    {
      "cell_type": "code",
      "execution_count": null,
      "metadata": {
        "colab": {
          "base_uri": "https://localhost:8080/"
        },
        "id": "7ZBHu4LG2MEe",
        "outputId": "e76a4857-d4f9-4a1f-9309-cb5003845332"
      },
      "outputs": [
        {
          "name": "stderr",
          "output_type": "stream",
          "text": [
            "/usr/local/lib/python3.10/dist-packages/sklearn/metrics/_classification.py:2184: UserWarning: y_pred contains classes not in y_true\n",
            "  warnings.warn(\"y_pred contains classes not in y_true\")\n"
          ]
        }
      ],
      "source": [
        "ba_ns=balanced_accuracy_score(test_ns_data2['sentiment'], test_ns_data2['predicted_sentiment'])"
      ]
    },
    {
      "cell_type": "code",
      "execution_count": null,
      "metadata": {
        "colab": {
          "base_uri": "https://localhost:8080/"
        },
        "id": "XbrT1SEm5EXn",
        "outputId": "0e6bf7a6-44e4-4cea-e235-921d9d5c2cc0"
      },
      "outputs": [
        {
          "data": {
            "text/plain": [
              "(0.7570754716981132, 0.7626737967914439)"
            ]
          },
          "execution_count": 37,
          "metadata": {},
          "output_type": "execute_result"
        }
      ],
      "source": [
        "accuracy_ns, ba_ns"
      ]
    },
    {
      "cell_type": "code",
      "execution_count": null,
      "metadata": {
        "colab": {
          "base_uri": "https://localhost:8080/"
        },
        "id": "IAJJsLW-HwkH",
        "outputId": "9eefcbd3-aba1-4707-c036-dbd605d173df"
      },
      "outputs": [
        {
          "data": {
            "text/plain": [
              "predicted_sentiment\n",
              "positive    585\n",
              "negative    254\n",
              "neutral       9\n",
              "Name: count, dtype: int64"
            ]
          },
          "execution_count": 112,
          "metadata": {},
          "output_type": "execute_result"
        }
      ],
      "source": [
        "test_ns_data2['predicted_sentiment'].value_counts()"
      ]
    },
    {
      "cell_type": "markdown",
      "metadata": {
        "id": "zAnzJVUQG_nW"
      },
      "source": [
        "## compound=True"
      ]
    },
    {
      "cell_type": "code",
      "execution_count": null,
      "metadata": {
        "id": "Jr_HngkG5iAQ"
      },
      "outputs": [],
      "source": [
        "test_ns_data2[\"predicted_sentiment_compound\"]=''"
      ]
    },
    {
      "cell_type": "code",
      "execution_count": null,
      "metadata": {
        "colab": {
          "base_uri": "https://localhost:8080/"
        },
        "id": "HQIqPa88HBij",
        "outputId": "9dbcc37c-a1fe-4c3f-f78f-a9861f32f316"
      },
      "outputs": [
        {
          "name": "stdout",
          "output_type": "stream",
          "text": [
            "0\n",
            "200\n",
            "400\n",
            "600\n",
            "800\n"
          ]
        }
      ],
      "source": [
        "nlp = spacy.load('en_core_web_sm')\n",
        "nlp.add_pipe(\"merge_noun_chunks\")\n",
        "for i in range(test_ns_data2.shape[0]):\n",
        "  if i%200==0:\n",
        "    print(i)\n",
        "  text_to_check=test_ns_data2['text'][i]\n",
        "  test_ns_data2['predicted_sentiment_compound'][i]=graph_sentiment_analysis(text_to_check, calculate_overall_score=1, nlp=nlp, threshold=0.0, compound=True)"
      ]
    },
    {
      "cell_type": "code",
      "execution_count": null,
      "metadata": {
        "id": "GRVNDEkbHLKO"
      },
      "outputs": [],
      "source": [
        "accuracy_ns_compound=np.sum(test_ns_data2['sentiment']==test_ns_data2['predicted_sentiment_compound'])/test_ns_data2.shape[0]"
      ]
    },
    {
      "cell_type": "code",
      "execution_count": null,
      "metadata": {
        "colab": {
          "base_uri": "https://localhost:8080/"
        },
        "id": "NrJO6CbXHO1H",
        "outputId": "adbdf8a6-264d-4885-e3ec-35a1e91b1a3b"
      },
      "outputs": [
        {
          "name": "stderr",
          "output_type": "stream",
          "text": [
            "/usr/local/lib/python3.10/dist-packages/sklearn/metrics/_classification.py:2184: UserWarning: y_pred contains classes not in y_true\n",
            "  warnings.warn(\"y_pred contains classes not in y_true\")\n"
          ]
        }
      ],
      "source": [
        "ba_ns_compound=balanced_accuracy_score(test_ns_data2['sentiment'], test_ns_data2['predicted_sentiment_compound'])"
      ]
    },
    {
      "cell_type": "code",
      "execution_count": null,
      "metadata": {
        "colab": {
          "base_uri": "https://localhost:8080/"
        },
        "id": "dpeWEq_6HQaB",
        "outputId": "7bed8185-1267-42eb-b985-e6a556995bc1"
      },
      "outputs": [
        {
          "data": {
            "text/plain": [
              "(0.7382075471698113, 0.7649732620320856)"
            ]
          },
          "execution_count": 42,
          "metadata": {},
          "output_type": "execute_result"
        }
      ],
      "source": [
        "accuracy_ns_compound,ba_ns_compound"
      ]
    },
    {
      "cell_type": "code",
      "execution_count": null,
      "metadata": {
        "id": "x1WyO3yPopyR"
      },
      "outputs": [],
      "source": [
        "test_ns_data2.to_csv('/source_repository/test_ns_data2.csv', index=False)"
      ]
    },
    {
      "cell_type": "code",
      "execution_count": null,
      "metadata": {
        "colab": {
          "base_uri": "https://localhost:8080/"
        },
        "id": "lsmLpdVwHVnQ",
        "outputId": "df368575-072f-4ab9-9dec-0ca7127792b0"
      },
      "outputs": [
        {
          "data": {
            "text/plain": [
              "predicted_sentiment_compound\n",
              "positive    563\n",
              "negative    276\n",
              "neutral       9\n",
              "Name: count, dtype: int64"
            ]
          },
          "execution_count": 111,
          "metadata": {},
          "output_type": "execute_result"
        }
      ],
      "source": [
        "test_ns_data2['predicted_sentiment_compound'].value_counts()"
      ]
    },
    {
      "cell_type": "markdown",
      "metadata": {
        "id": "d56iMv1mJQaD"
      },
      "source": [
        "# check which ones are neutral\n",
        "\n",
        "most of them is not in english => I should check the data at the beginning and take to my analysis only those that are in english since Actaware data are all in english\n",
        "\n",
        "https://github.com/fedelopez77/langdetect"
      ]
    },
    {
      "cell_type": "code",
      "execution_count": null,
      "metadata": {
        "colab": {
          "base_uri": "https://localhost:8080/",
          "height": 820
        },
        "id": "sdua2-qVJHO3",
        "outputId": "e2849e79-bcf3-4782-8b93-6db678bf2930"
      },
      "outputs": [
        {
          "data": {
            "application/vnd.google.colaboratory.intrinsic+json": {
              "summary": "{\n  \"name\": \"test_ns_data2[test_ns_data2['predicted_sentiment_compound']=='neutral']\",\n  \"rows\": 9,\n  \"fields\": [\n    {\n      \"column\": \"news_title\",\n      \"properties\": {\n        \"dtype\": \"string\",\n        \"num_unique_values\": 9,\n        \"samples\": [\n          \"\\u041c\\u0430\\u0442\\u044c \\u0431\\u0440\\u043e\\u0441\\u0438\\u043b\\u0430 \\u043c\\u043b\\u0430\\u0434\\u0435\\u043d\\u0446\\u0430 \\u043d\\u0430 \\u043e\\u0431\\u043e\\u0447\\u0438\\u043d\\u0435 \\u0434\\u043e\\u0440\\u043e\\u0433\\u0438 \\u0432 \\u0441\\u043f\\u043e\\u0440\\u0442\\u0438\\u0432\\u043d\\u043e\\u0439 \\u0441\\u0443\\u043c\\u043a\\u0435 \\u0432 \\u0422\\u0443\\u0440\\u043a\\u0435\\u0441\\u0442\\u0430\\u043d\\u0441\\u043a\\u043e\\u0439 \\u043e\\u0431\\u043b\\u0430\\u0441\\u0442\\u0438\",\n          \"Incendie \\u00e0 Notre-Dame : la famille Pinault d\\u00e9bloque 100 millions d'euros\",\n          \"Volunteers remove 9,208 lbs. of trash from Tennessee River\"\n        ],\n        \"semantic_type\": \"\",\n        \"description\": \"\"\n      }\n    },\n    {\n      \"column\": \"reddit_title\",\n      \"properties\": {\n        \"dtype\": \"string\",\n        \"num_unique_values\": 9,\n        \"samples\": [\n          \"Mother threw the baby on the side of the road in a sports bag in the Turkestan region\",\n          \"French billionaire Fran\\u00e7ois-Henri Pinault pledges \\u20ac100 million ($113 million) to help rebuild the Notre Dame Cathedral\",\n          \"Volunteers remove 9,208 lbs. of trash from Tennessee River\"\n        ],\n        \"semantic_type\": \"\",\n        \"description\": \"\"\n      }\n    },\n    {\n      \"column\": \"sentiment\",\n      \"properties\": {\n        \"dtype\": \"category\",\n        \"num_unique_values\": 2,\n        \"samples\": [\n          \"negative\",\n          \"positive\"\n        ],\n        \"semantic_type\": \"\",\n        \"description\": \"\"\n      }\n    },\n    {\n      \"column\": \"text\",\n      \"properties\": {\n        \"dtype\": \"string\",\n        \"num_unique_values\": 9,\n        \"samples\": [\n          \"\\u0412 \\u0422\\u0443\\u0440\\u043a\\u0435\\u0441\\u0442\\u0430\\u043d\\u0441\\u043a\\u043e\\u0439 \\u043e\\u0431\\u043b\\u0430\\u0441\\u0442\\u0438 \\u0436\\u0435\\u043d\\u0449\\u0438\\u043d\\u0430 \\u0431\\u0440\\u043e\\u0441\\u0438\\u043b\\u0430 \\u043d\\u043e\\u0432\\u043e\\u0440\\u043e\\u0436\\u0434\\u0435\\u043d\\u043d\\u0443\\u044e \\u0434\\u043e\\u0447\\u043a\\u0443 \\u043d\\u0430 \\u043e\\u0431\\u043e\\u0447\\u0438\\u043d\\u0435 \\u0434\\u043e\\u0440\\u043e\\u0433\\u0438. \\u041f\\u043e\\u043b\\u043e\\u0436\\u0438\\u0432 \\u0440\\u0435\\u0431\\u0435\\u043d\\u043a\\u0430 \\u0432 \\u0437\\u0430\\u0441\\u0442\\u0435\\u0433\\u043d\\u0443\\u0442\\u0443\\u044e \\u043f\\u043b\\u043e\\u0442\\u043d\\u043e \\u0441\\u043f\\u043e\\u0440\\u0442\\u0438\\u0432\\u043d\\u0443\\u044e \\u0441\\u0443\\u043c\\u043a\\u0443, \\u043e\\u043d\\u0430 \\u043e\\u0441\\u0442\\u0430\\u0432\\u0438\\u043b\\u0430 \\u0443\\u043c\\u0438\\u0440\\u0430\\u0442\\u044c \\u043c\\u043b\\u0430\\u0434\\u0435\\u043d\\u0446\\u0430 \\u043f\\u043e\\u0434 \\u043f\\u0430\\u043b\\u044f\\u0449\\u0438\\u043c \\u0441\\u043e\\u043b\\u043d\\u0446\\u0435\\u043c, \\u043f\\u0435\\u0440\\u0435\\u0434\\u0430\\u0435\\u0442 \\u041f\\u0435\\u0440\\u0432\\u044b\\u0439 \\u043a\\u0430\\u043d\\u0430\\u043b \\\"\\u0415\\u0432\\u0440\\u0430\\u0437\\u0438\\u044f\\\".\\n\\n\\u0418\\u043b\\u043b\\u044e\\u0441\\u0442\\u0440\\u0430\\u0442\\u0438\\u0432\\u043d\\u043e\\u0435 \\u0444\\u043e\\u0442\\u043e: Geoploria: UGC\\n\\n\\u041d\\u0430 \\u043e\\u0431\\u043e\\u0447\\u0438\\u043d\\u0435 \\u0442\\u0440\\u0430\\u0441\\u0441\\u044b \\u043c\\u043b\\u0430\\u0434\\u0435\\u043d\\u0435\\u0446 \\u043f\\u0440\\u043e\\u043b\\u0435\\u0436\\u0430\\u043b \\u043f\\u0440\\u0438\\u0431\\u043b\\u0438\\u0437\\u0438\\u0442\\u0435\\u043b\\u044c\\u043d\\u043e \\u0447\\u0435\\u0442\\u044b\\u0440\\u0435 \\u0447\\u0430\\u0441\\u0430, \\u043f\\u043e\\u043a\\u0430 \\u0435\\u0435 \\u043d\\u0435 \\u043e\\u0431\\u043d\\u0430\\u0440\\u0443\\u0436\\u0438\\u043b\\u0438 \\u0441\\u043b\\u0443\\u0447\\u0430\\u0439\\u043d\\u044b\\u0435 \\u0441\\u0432\\u0438\\u0434\\u0435\\u0442\\u0435\\u043b\\u0438.\\n\\n\\u041f\\u043e \\u0441\\u043b\\u043e\\u0432\\u0430\\u043c \\u0410\\u0441\\u0438\\u0438 \\u041e\\u043c\\u0430\\u0440\\u043e\\u0432\\u043e\\u0439, \\u043a\\u043e\\u0433\\u0434\\u0430 \\u043e\\u043d\\u0430 \\u0441 \\u0434\\u043e\\u0447\\u043a\\u0430\\u043c\\u0438 \\u043e\\u0442\\u043a\\u0440\\u044b\\u043b\\u0430 \\u0441\\u0443\\u043c\\u043a\\u0443, \\u043c\\u043b\\u0430\\u0434\\u0435\\u043d\\u0435\\u0446 \\u0431\\u044b\\u043b \\u043a\\u0440\\u0430\\u0441\\u043d\\u044b\\u043c-\\u043a\\u0440\\u0430\\u0441\\u043d\\u044b\\u043c.\\n\\n\\u00ab\\u042f \\u0441\\u043d\\u0430\\u0447\\u0430\\u043b\\u0430 \\u043f\\u043e\\u0434\\u0443\\u043c\\u0430\\u043b\\u0430, \\u0447\\u0442\\u043e \\u043e\\u043d \\u043d\\u0435 \\u0436\\u0438\\u0432\\u043e\\u0439. \\u041f\\u043e\\u0431\\u0435\\u0436\\u0430\\u043b\\u0430 \\u0441\\u0440\\u0430\\u0437\\u0443 \\u043a \\u0441\\u043e\\u0441\\u0435\\u0434\\u0443, \\u043e\\u043d \\u0432\\u0440\\u0430\\u0447. \\u0412\\u0441\\u0435 \\u0443\\u0436\\u0435 \\u0441\\u0443\\u0435\\u0442\\u0438\\u043b\\u0438\\u0441\\u044c \\u0432\\u043e\\u043a\\u0440\\u0443\\u0433, \\u0438 \\u0432\\u0434\\u0440\\u0443\\u0433 \\u0440\\u0435\\u0431\\u0435\\u043d\\u043e\\u043a \\u0437\\u0430\\u043f\\u043b\\u0430\\u043a\\u0430\\u043b!\\u00bb - \\u0440\\u0430\\u0441\\u0441\\u043a\\u0430\\u0437\\u0430\\u043b\\u0430 \\u043e\\u043d\\u0430.\\n\\n\\u0420\\u0435\\u0431\\u0435\\u043d\\u043a\\u0430 \\u044d\\u043a\\u0441\\u0442\\u0440\\u0435\\u043d\\u043d\\u043e \\u0434\\u043e\\u0441\\u0442\\u0430\\u0432\\u0438\\u043b\\u0438 \\u0432 \\u0431\\u043e\\u043b\\u044c\\u043d\\u0438\\u0446\\u0443. \\u041c\\u0435\\u0434\\u0438\\u043a\\u0438 \\u043e\\u0431\\u0441\\u043b\\u0435\\u0434\\u043e\\u0432\\u0430\\u043b\\u0438 \\u0435\\u0435, \\u043e\\u043a\\u0430\\u0437\\u0430\\u043b\\u0438 \\u043c\\u0435\\u0434\\u043f\\u043e\\u043c\\u043e\\u0449\\u044c. \\u041f\\u0440\\u0435\\u0434\\u043f\\u043e\\u043b\\u043e\\u0436\\u0438\\u0442\\u0435\\u043b\\u044c\\u043d\\u043e, \\u043c\\u0430\\u043b\\u044b\\u0448\\u043a\\u0435 \\u0432\\u0441\\u0435\\u0433\\u043e \\u0442\\u0440\\u0438 \\u0434\\u043d\\u044f \\u043e\\u0442 \\u0440\\u043e\\u0434\\u0443. \\u041e\\u0434\\u043d\\u0430\\u043a\\u043e \\u0442\\u043e\\u0447\\u043d\\u044b\\u0445 \\u0441\\u0432\\u0435\\u0434\\u0435\\u043d\\u0438\\u0439 \\u043d\\u0435\\u0442, \\u043d\\u0430 \\u0441\\u0443\\u043c\\u043a\\u0435 \\u043d\\u0435 \\u043e\\u0441\\u0442\\u0430\\u0432\\u0438\\u043b\\u0438 \\u043d\\u0438 \\u0438\\u043c\\u0435\\u043d\\u0438, \\u043d\\u0438 \\u0434\\u0430\\u0442\\u044b \\u0440\\u043e\\u0436\\u0434\\u0435\\u043d\\u0438\\u044f.\\n\\n\\u0412 \\u043d\\u0430\\u0441\\u0442\\u043e\\u044f\\u0449\\u0435\\u0435 \\u0432\\u0440\\u0435\\u043c\\u044f \\u043f\\u043e\\u043b\\u0438\\u0446\\u0435\\u0439\\u0441\\u043a\\u0438\\u0435 \\u0437\\u0430\\u043d\\u0438\\u043c\\u0430\\u044e\\u0442\\u0441\\u044f \\u043f\\u043e\\u0438\\u0441\\u043a\\u0430\\u043c\\u0438 \\u043d\\u0435\\u0440\\u0430\\u0434\\u0438\\u0432\\u043e\\u0439 \\u043c\\u0430\\u0442\\u0435\\u0440\\u0438. \\u0414\\u0430\\u043b\\u044c\\u043d\\u0435\\u0439\\u0448\\u0430\\u044f \\u0441\\u0443\\u0434\\u044c\\u0431\\u0430 \\u0434\\u0435\\u0432\\u043e\\u0447\\u043a\\u0438 \\u043f\\u043e\\u043a\\u0430 \\u043d\\u0435\\u0438\\u0437\\u0432\\u0435\\u0441\\u0442\\u043d\\u0430.\\n\\n\\u041e\\u0440\\u0438\\u0433\\u0438\\u043d\\u0430\\u043b \\u0441\\u0442\\u0430\\u0442\\u044c\\u0438: https://www.nur.kz/1746113-mat-brosila-mladenca-na-obocine-dorogi-v-sportivnoj-sumke-v-turkestanskoj-oblasti.html\",\n          \"La famille Pinault va d\\u00e9bloquer cent millions d'euros via sa soci\\u00e9t\\u00e9 d'investissement Artemis, apr\\u00e8s le terrible incendie qui a ravag\\u00e9 la cath\\u00e9drale Notre-Dame de Paris, a annonc\\u00e9 cette nuit Fran\\u00e7ois-Henri Pinault.\\n\\n\\u00abCette trag\\u00e9die frappe tous les Fran\\u00e7ais et bien au del\\u00e0 tous ceux qui sont attach\\u00e9s aux valeurs spirituelles. Face \\u00e0 un tel drame, chacun souhaite redonner vie au plus vite \\u00e0 ce joyau de notre patrimoine\\u00bb, \\u00e9crit le pr\\u00e9sident de la holding familiale et du groupe de luxe Kering.\\n\\n\\u00c0 lire aussi :Notre-Dame de Paris: la fiscalit\\u00e9 des dons des entreprises et des grandes fortunes en question\\n\\n\\u00abMon p\\u00e8re (Fran\\u00e7ois Pinault, ndlr) et moi m\\u00eame avons d\\u00e9cid\\u00e9 de d\\u00e9bloquer d\\u00e8s \\u00e0 pr\\u00e9sent sur les fonds d'Artemis une somme de 100 millions d'euros pour participer \\u00e0 l'effort qui sera n\\u00e9cessaire \\u00e0 la reconstruction compl\\u00e8te de Notre-Dame\\u00bb, \\u00e9crit-il dans un communiqu\\u00e9. Artemis est le bras arm\\u00e9 de l'empire fond\\u00e9 par Fran\\u00e7ois Pinault, aujourd'hui \\u00e2g\\u00e9 de 82 ans et troisi\\u00e8me fortune de France. La soci\\u00e9t\\u00e9, fond\\u00e9e en 1992, est dirig\\u00e9e par Fran\\u00e7ois-Henri Pinault depuis 2003.\\n\\n\\u00c0 lire aussi :Incendie \\u00e0 Notre-Dame: l\\u2019\\u00e9motion au coeur de Paris\\n\\nPlus t\\u00f4t dans la soir\\u00e9e, le pr\\u00e9sident de la R\\u00e9publique Emmanuel Macron avait indiqu\\u00e9 qu'une \\u00absouscription nationale\\u00bb sera lanc\\u00e9e pour reb\\u00e2tir la cath\\u00e9drale. La Fondation du patrimoine a \\u00e9galement annonc\\u00e9 lancer d\\u00e8s mardi une \\u00abcollecte nationale\\u00bb pour la reconstruction de Notre-Dame, a-t-elle annonc\\u00e9 dans un communiqu\\u00e9 \\u00e0 l'AFP.\"\n        ],\n        \"semantic_type\": \"\",\n        \"description\": \"\"\n      }\n    },\n    {\n      \"column\": \"url\",\n      \"properties\": {\n        \"dtype\": \"string\",\n        \"num_unique_values\": 9,\n        \"samples\": [\n          \"https://www.nur.kz/1746113-mat-brosila-mladenca-na-obocine-dorogi-v-sportivnoj-sumke-v-turkestanskoj-oblasti.html\",\n          \"http://www.lefigaro.fr/flash-actu/notre-dame-de-paris-la-famille-pinault-debloque-100-millions-d-euros-20190416\"\n        ],\n        \"semantic_type\": \"\",\n        \"description\": \"\"\n      }\n    },\n    {\n      \"column\": \"predicted_sentiment\",\n      \"properties\": {\n        \"dtype\": \"category\",\n        \"num_unique_values\": 1,\n        \"samples\": [\n          \"neutral\"\n        ],\n        \"semantic_type\": \"\",\n        \"description\": \"\"\n      }\n    },\n    {\n      \"column\": \"predicted_sentiment_compound\",\n      \"properties\": {\n        \"dtype\": \"category\",\n        \"num_unique_values\": 1,\n        \"samples\": [\n          \"neutral\"\n        ],\n        \"semantic_type\": \"\",\n        \"description\": \"\"\n      }\n    }\n  ]\n}",
              "type": "dataframe"
            },
            "text/html": [
              "\n",
              "  <div id=\"df-9c88d84a-c59c-492d-9aac-9babf1063d41\" class=\"colab-df-container\">\n",
              "    <div>\n",
              "<style scoped>\n",
              "    .dataframe tbody tr th:only-of-type {\n",
              "        vertical-align: middle;\n",
              "    }\n",
              "\n",
              "    .dataframe tbody tr th {\n",
              "        vertical-align: top;\n",
              "    }\n",
              "\n",
              "    .dataframe thead th {\n",
              "        text-align: right;\n",
              "    }\n",
              "</style>\n",
              "<table border=\"1\" class=\"dataframe\">\n",
              "  <thead>\n",
              "    <tr style=\"text-align: right;\">\n",
              "      <th></th>\n",
              "      <th>news_title</th>\n",
              "      <th>reddit_title</th>\n",
              "      <th>sentiment</th>\n",
              "      <th>text</th>\n",
              "      <th>url</th>\n",
              "      <th>predicted_sentiment</th>\n",
              "      <th>predicted_sentiment_compound</th>\n",
              "    </tr>\n",
              "  </thead>\n",
              "  <tbody>\n",
              "    <tr>\n",
              "      <th>63</th>\n",
              "      <td>Görme Engelli Kızına 4 Yıl Boyunca Notlarını O...</td>\n",
              "      <td>Turkish mom who read lecture notes for four ye...</td>\n",
              "      <td>positive</td>\n",
              "      <td>Üniversite birçok öğrenci için kazandıktan son...</td>\n",
              "      <td>https://listelist.com/sakarya-gorme-engelli-an...</td>\n",
              "      <td>neutral</td>\n",
              "      <td>neutral</td>\n",
              "    </tr>\n",
              "    <tr>\n",
              "      <th>104</th>\n",
              "      <td>Incendie à Notre-Dame : la famille Pinault déb...</td>\n",
              "      <td>French billionaire François-Henri Pinault pled...</td>\n",
              "      <td>positive</td>\n",
              "      <td>La famille Pinault va débloquer cent millions ...</td>\n",
              "      <td>http://www.lefigaro.fr/flash-actu/notre-dame-d...</td>\n",
              "      <td>neutral</td>\n",
              "      <td>neutral</td>\n",
              "    </tr>\n",
              "    <tr>\n",
              "      <th>159</th>\n",
              "      <td>Монголия приняла меры по облегчению положения ...</td>\n",
              "      <td>Mongolia will pay for electricity, water, heat...</td>\n",
              "      <td>positive</td>\n",
              "      <td>13 декабря состоялось внеочередное заседание к...</td>\n",
              "      <td>http://www.mongolnow.com/mongoliya-prinyala-me...</td>\n",
              "      <td>neutral</td>\n",
              "      <td>neutral</td>\n",
              "    </tr>\n",
              "    <tr>\n",
              "      <th>187</th>\n",
              "      <td>Natale: 94enne solo a casa chiama Cc per fare ...</td>\n",
              "      <td>94 years old man calls the police: \"I got ever...</td>\n",
              "      <td>positive</td>\n",
              "      <td>(ANSA) - BOLOGNA, 25 DIC - Ha telefonato ai Ca...</td>\n",
              "      <td>https://www.ansa.it/amp/emiliaromagna/notizie/...</td>\n",
              "      <td>neutral</td>\n",
              "      <td>neutral</td>\n",
              "    </tr>\n",
              "    <tr>\n",
              "      <th>237</th>\n",
              "      <td>Costco raising minimum wage to $14 an hour</td>\n",
              "      <td>Costco raising minimum wage to $14 an hour</td>\n",
              "      <td>positive</td>\n",
              "      <td>Retail giant Costco said Thursday that it woul...</td>\n",
              "      <td>http://thehill.com/blogs/blog-briefing-room/39...</td>\n",
              "      <td>neutral</td>\n",
              "      <td>neutral</td>\n",
              "    </tr>\n",
              "    <tr>\n",
              "      <th>500</th>\n",
              "      <td>Volunteers remove 9,208 lbs. of trash from Ten...</td>\n",
              "      <td>Volunteers remove 9,208 lbs. of trash from Ten...</td>\n",
              "      <td>positive</td>\n",
              "      <td>HUMPHREYS COUNTY, Tenn. – Keep the Tennessee R...</td>\n",
              "      <td>https://whnt.com/news/volunteers-remove-9208-l...</td>\n",
              "      <td>neutral</td>\n",
              "      <td>neutral</td>\n",
              "    </tr>\n",
              "    <tr>\n",
              "      <th>752</th>\n",
              "      <td>Больше половины краж в Казахстане не раскрываю...</td>\n",
              "      <td>More than half of thefts in Kazakstan are not ...</td>\n",
              "      <td>negative</td>\n",
              "      <td>По данным Министерства внутренних дел, в 2017 ...</td>\n",
              "      <td>https://tengrinews.kz/crime/bolshe-polovinyi-k...</td>\n",
              "      <td>neutral</td>\n",
              "      <td>neutral</td>\n",
              "    </tr>\n",
              "    <tr>\n",
              "      <th>766</th>\n",
              "      <td>Мать бросила младенца на обочине дороги в спор...</td>\n",
              "      <td>Mother threw the baby on the side of the road ...</td>\n",
              "      <td>negative</td>\n",
              "      <td>В Туркестанской области женщина бросила новоро...</td>\n",
              "      <td>https://www.nur.kz/1746113-mat-brosila-mladenc...</td>\n",
              "      <td>neutral</td>\n",
              "      <td>neutral</td>\n",
              "    </tr>\n",
              "    <tr>\n",
              "      <th>771</th>\n",
              "      <td>Издевательства мальчика над женщиной в Капшага...</td>\n",
              "      <td>Bullying of a boy over a woman in Kapshagai: t...</td>\n",
              "      <td>negative</td>\n",
              "      <td>В ДВД Алматинской области прокомментировали ви...</td>\n",
              "      <td>https://tengrinews.kz/kazakhstan_news/izdevate...</td>\n",
              "      <td>neutral</td>\n",
              "      <td>neutral</td>\n",
              "    </tr>\n",
              "  </tbody>\n",
              "</table>\n",
              "</div>\n",
              "    <div class=\"colab-df-buttons\">\n",
              "\n",
              "  <div class=\"colab-df-container\">\n",
              "    <button class=\"colab-df-convert\" onclick=\"convertToInteractive('df-9c88d84a-c59c-492d-9aac-9babf1063d41')\"\n",
              "            title=\"Convert this dataframe to an interactive table.\"\n",
              "            style=\"display:none;\">\n",
              "\n",
              "  <svg xmlns=\"http://www.w3.org/2000/svg\" height=\"24px\" viewBox=\"0 -960 960 960\">\n",
              "    <path d=\"M120-120v-720h720v720H120Zm60-500h600v-160H180v160Zm220 220h160v-160H400v160Zm0 220h160v-160H400v160ZM180-400h160v-160H180v160Zm440 0h160v-160H620v160ZM180-180h160v-160H180v160Zm440 0h160v-160H620v160Z\"/>\n",
              "  </svg>\n",
              "    </button>\n",
              "\n",
              "  <style>\n",
              "    .colab-df-container {\n",
              "      display:flex;\n",
              "      gap: 12px;\n",
              "    }\n",
              "\n",
              "    .colab-df-convert {\n",
              "      background-color: #E8F0FE;\n",
              "      border: none;\n",
              "      border-radius: 50%;\n",
              "      cursor: pointer;\n",
              "      display: none;\n",
              "      fill: #1967D2;\n",
              "      height: 32px;\n",
              "      padding: 0 0 0 0;\n",
              "      width: 32px;\n",
              "    }\n",
              "\n",
              "    .colab-df-convert:hover {\n",
              "      background-color: #E2EBFA;\n",
              "      box-shadow: 0px 1px 2px rgba(60, 64, 67, 0.3), 0px 1px 3px 1px rgba(60, 64, 67, 0.15);\n",
              "      fill: #174EA6;\n",
              "    }\n",
              "\n",
              "    .colab-df-buttons div {\n",
              "      margin-bottom: 4px;\n",
              "    }\n",
              "\n",
              "    [theme=dark] .colab-df-convert {\n",
              "      background-color: #3B4455;\n",
              "      fill: #D2E3FC;\n",
              "    }\n",
              "\n",
              "    [theme=dark] .colab-df-convert:hover {\n",
              "      background-color: #434B5C;\n",
              "      box-shadow: 0px 1px 3px 1px rgba(0, 0, 0, 0.15);\n",
              "      filter: drop-shadow(0px 1px 2px rgba(0, 0, 0, 0.3));\n",
              "      fill: #FFFFFF;\n",
              "    }\n",
              "  </style>\n",
              "\n",
              "    <script>\n",
              "      const buttonEl =\n",
              "        document.querySelector('#df-9c88d84a-c59c-492d-9aac-9babf1063d41 button.colab-df-convert');\n",
              "      buttonEl.style.display =\n",
              "        google.colab.kernel.accessAllowed ? 'block' : 'none';\n",
              "\n",
              "      async function convertToInteractive(key) {\n",
              "        const element = document.querySelector('#df-9c88d84a-c59c-492d-9aac-9babf1063d41');\n",
              "        const dataTable =\n",
              "          await google.colab.kernel.invokeFunction('convertToInteractive',\n",
              "                                                    [key], {});\n",
              "        if (!dataTable) return;\n",
              "\n",
              "        const docLinkHtml = 'Like what you see? Visit the ' +\n",
              "          '<a target=\"_blank\" href=https://colab.research.google.com/notebooks/data_table.ipynb>data table notebook</a>'\n",
              "          + ' to learn more about interactive tables.';\n",
              "        element.innerHTML = '';\n",
              "        dataTable['output_type'] = 'display_data';\n",
              "        await google.colab.output.renderOutput(dataTable, element);\n",
              "        const docLink = document.createElement('div');\n",
              "        docLink.innerHTML = docLinkHtml;\n",
              "        element.appendChild(docLink);\n",
              "      }\n",
              "    </script>\n",
              "  </div>\n",
              "\n",
              "\n",
              "<div id=\"df-08492048-89d8-4cc3-944f-61bb2f8b03a8\">\n",
              "  <button class=\"colab-df-quickchart\" onclick=\"quickchart('df-08492048-89d8-4cc3-944f-61bb2f8b03a8')\"\n",
              "            title=\"Suggest charts\"\n",
              "            style=\"display:none;\">\n",
              "\n",
              "<svg xmlns=\"http://www.w3.org/2000/svg\" height=\"24px\"viewBox=\"0 0 24 24\"\n",
              "     width=\"24px\">\n",
              "    <g>\n",
              "        <path d=\"M19 3H5c-1.1 0-2 .9-2 2v14c0 1.1.9 2 2 2h14c1.1 0 2-.9 2-2V5c0-1.1-.9-2-2-2zM9 17H7v-7h2v7zm4 0h-2V7h2v10zm4 0h-2v-4h2v4z\"/>\n",
              "    </g>\n",
              "</svg>\n",
              "  </button>\n",
              "\n",
              "<style>\n",
              "  .colab-df-quickchart {\n",
              "      --bg-color: #E8F0FE;\n",
              "      --fill-color: #1967D2;\n",
              "      --hover-bg-color: #E2EBFA;\n",
              "      --hover-fill-color: #174EA6;\n",
              "      --disabled-fill-color: #AAA;\n",
              "      --disabled-bg-color: #DDD;\n",
              "  }\n",
              "\n",
              "  [theme=dark] .colab-df-quickchart {\n",
              "      --bg-color: #3B4455;\n",
              "      --fill-color: #D2E3FC;\n",
              "      --hover-bg-color: #434B5C;\n",
              "      --hover-fill-color: #FFFFFF;\n",
              "      --disabled-bg-color: #3B4455;\n",
              "      --disabled-fill-color: #666;\n",
              "  }\n",
              "\n",
              "  .colab-df-quickchart {\n",
              "    background-color: var(--bg-color);\n",
              "    border: none;\n",
              "    border-radius: 50%;\n",
              "    cursor: pointer;\n",
              "    display: none;\n",
              "    fill: var(--fill-color);\n",
              "    height: 32px;\n",
              "    padding: 0;\n",
              "    width: 32px;\n",
              "  }\n",
              "\n",
              "  .colab-df-quickchart:hover {\n",
              "    background-color: var(--hover-bg-color);\n",
              "    box-shadow: 0 1px 2px rgba(60, 64, 67, 0.3), 0 1px 3px 1px rgba(60, 64, 67, 0.15);\n",
              "    fill: var(--button-hover-fill-color);\n",
              "  }\n",
              "\n",
              "  .colab-df-quickchart-complete:disabled,\n",
              "  .colab-df-quickchart-complete:disabled:hover {\n",
              "    background-color: var(--disabled-bg-color);\n",
              "    fill: var(--disabled-fill-color);\n",
              "    box-shadow: none;\n",
              "  }\n",
              "\n",
              "  .colab-df-spinner {\n",
              "    border: 2px solid var(--fill-color);\n",
              "    border-color: transparent;\n",
              "    border-bottom-color: var(--fill-color);\n",
              "    animation:\n",
              "      spin 1s steps(1) infinite;\n",
              "  }\n",
              "\n",
              "  @keyframes spin {\n",
              "    0% {\n",
              "      border-color: transparent;\n",
              "      border-bottom-color: var(--fill-color);\n",
              "      border-left-color: var(--fill-color);\n",
              "    }\n",
              "    20% {\n",
              "      border-color: transparent;\n",
              "      border-left-color: var(--fill-color);\n",
              "      border-top-color: var(--fill-color);\n",
              "    }\n",
              "    30% {\n",
              "      border-color: transparent;\n",
              "      border-left-color: var(--fill-color);\n",
              "      border-top-color: var(--fill-color);\n",
              "      border-right-color: var(--fill-color);\n",
              "    }\n",
              "    40% {\n",
              "      border-color: transparent;\n",
              "      border-right-color: var(--fill-color);\n",
              "      border-top-color: var(--fill-color);\n",
              "    }\n",
              "    60% {\n",
              "      border-color: transparent;\n",
              "      border-right-color: var(--fill-color);\n",
              "    }\n",
              "    80% {\n",
              "      border-color: transparent;\n",
              "      border-right-color: var(--fill-color);\n",
              "      border-bottom-color: var(--fill-color);\n",
              "    }\n",
              "    90% {\n",
              "      border-color: transparent;\n",
              "      border-bottom-color: var(--fill-color);\n",
              "    }\n",
              "  }\n",
              "</style>\n",
              "\n",
              "  <script>\n",
              "    async function quickchart(key) {\n",
              "      const quickchartButtonEl =\n",
              "        document.querySelector('#' + key + ' button');\n",
              "      quickchartButtonEl.disabled = true;  // To prevent multiple clicks.\n",
              "      quickchartButtonEl.classList.add('colab-df-spinner');\n",
              "      try {\n",
              "        const charts = await google.colab.kernel.invokeFunction(\n",
              "            'suggestCharts', [key], {});\n",
              "      } catch (error) {\n",
              "        console.error('Error during call to suggestCharts:', error);\n",
              "      }\n",
              "      quickchartButtonEl.classList.remove('colab-df-spinner');\n",
              "      quickchartButtonEl.classList.add('colab-df-quickchart-complete');\n",
              "    }\n",
              "    (() => {\n",
              "      let quickchartButtonEl =\n",
              "        document.querySelector('#df-08492048-89d8-4cc3-944f-61bb2f8b03a8 button');\n",
              "      quickchartButtonEl.style.display =\n",
              "        google.colab.kernel.accessAllowed ? 'block' : 'none';\n",
              "    })();\n",
              "  </script>\n",
              "</div>\n",
              "    </div>\n",
              "  </div>\n"
            ],
            "text/plain": [
              "                                            news_title  \\\n",
              "63   Görme Engelli Kızına 4 Yıl Boyunca Notlarını O...   \n",
              "104  Incendie à Notre-Dame : la famille Pinault déb...   \n",
              "159  Монголия приняла меры по облегчению положения ...   \n",
              "187  Natale: 94enne solo a casa chiama Cc per fare ...   \n",
              "237         Costco raising minimum wage to $14 an hour   \n",
              "500  Volunteers remove 9,208 lbs. of trash from Ten...   \n",
              "752  Больше половины краж в Казахстане не раскрываю...   \n",
              "766  Мать бросила младенца на обочине дороги в спор...   \n",
              "771  Издевательства мальчика над женщиной в Капшага...   \n",
              "\n",
              "                                          reddit_title sentiment  \\\n",
              "63   Turkish mom who read lecture notes for four ye...  positive   \n",
              "104  French billionaire François-Henri Pinault pled...  positive   \n",
              "159  Mongolia will pay for electricity, water, heat...  positive   \n",
              "187  94 years old man calls the police: \"I got ever...  positive   \n",
              "237         Costco raising minimum wage to $14 an hour  positive   \n",
              "500  Volunteers remove 9,208 lbs. of trash from Ten...  positive   \n",
              "752  More than half of thefts in Kazakstan are not ...  negative   \n",
              "766  Mother threw the baby on the side of the road ...  negative   \n",
              "771  Bullying of a boy over a woman in Kapshagai: t...  negative   \n",
              "\n",
              "                                                  text  \\\n",
              "63   Üniversite birçok öğrenci için kazandıktan son...   \n",
              "104  La famille Pinault va débloquer cent millions ...   \n",
              "159  13 декабря состоялось внеочередное заседание к...   \n",
              "187  (ANSA) - BOLOGNA, 25 DIC - Ha telefonato ai Ca...   \n",
              "237  Retail giant Costco said Thursday that it woul...   \n",
              "500  HUMPHREYS COUNTY, Tenn. – Keep the Tennessee R...   \n",
              "752  По данным Министерства внутренних дел, в 2017 ...   \n",
              "766  В Туркестанской области женщина бросила новоро...   \n",
              "771  В ДВД Алматинской области прокомментировали ви...   \n",
              "\n",
              "                                                   url predicted_sentiment  \\\n",
              "63   https://listelist.com/sakarya-gorme-engelli-an...             neutral   \n",
              "104  http://www.lefigaro.fr/flash-actu/notre-dame-d...             neutral   \n",
              "159  http://www.mongolnow.com/mongoliya-prinyala-me...             neutral   \n",
              "187  https://www.ansa.it/amp/emiliaromagna/notizie/...             neutral   \n",
              "237  http://thehill.com/blogs/blog-briefing-room/39...             neutral   \n",
              "500  https://whnt.com/news/volunteers-remove-9208-l...             neutral   \n",
              "752  https://tengrinews.kz/crime/bolshe-polovinyi-k...             neutral   \n",
              "766  https://www.nur.kz/1746113-mat-brosila-mladenc...             neutral   \n",
              "771  https://tengrinews.kz/kazakhstan_news/izdevate...             neutral   \n",
              "\n",
              "    predicted_sentiment_compound  \n",
              "63                       neutral  \n",
              "104                      neutral  \n",
              "159                      neutral  \n",
              "187                      neutral  \n",
              "237                      neutral  \n",
              "500                      neutral  \n",
              "752                      neutral  \n",
              "766                      neutral  \n",
              "771                      neutral  "
            ]
          },
          "execution_count": 113,
          "metadata": {},
          "output_type": "execute_result"
        }
      ],
      "source": [
        "test_ns_data2[test_ns_data2['predicted_sentiment_compound']=='neutral']"
      ]
    },
    {
      "cell_type": "markdown",
      "metadata": {
        "id": "MkwSf-OlK9KT"
      },
      "source": [
        "## check if english"
      ]
    },
    {
      "cell_type": "code",
      "execution_count": null,
      "metadata": {
        "colab": {
          "base_uri": "https://localhost:8080/"
        },
        "id": "WjG1YtEuJzMc",
        "outputId": "d3df2b9d-23c7-475d-a443-540ac45e935c"
      },
      "outputs": [
        {
          "name": "stdout",
          "output_type": "stream",
          "text": [
            "Collecting langdetect\n",
            "  Downloading langdetect-1.0.9.tar.gz (981 kB)\n",
            "\u001b[2K     \u001b[90m━━━━━━━━━━━━━━━━━━━━━━━━━━━━━━━━━━━━━━━━\u001b[0m \u001b[32m981.5/981.5 kB\u001b[0m \u001b[31m11.7 MB/s\u001b[0m eta \u001b[36m0:00:00\u001b[0m\n",
            "\u001b[?25h  Preparing metadata (setup.py) ... \u001b[?25l\u001b[?25hdone\n",
            "Requirement already satisfied: six in /usr/local/lib/python3.10/dist-packages (from langdetect) (1.16.0)\n",
            "Building wheels for collected packages: langdetect\n",
            "  Building wheel for langdetect (setup.py) ... \u001b[?25l\u001b[?25hdone\n",
            "  Created wheel for langdetect: filename=langdetect-1.0.9-py3-none-any.whl size=993227 sha256=2d7c2685c02d4e286fe70834b2cdd5a9ea6feb6c3c6be642a756373faceaf858\n",
            "  Stored in directory: /root/.cache/pip/wheels/95/03/7d/59ea870c70ce4e5a370638b5462a7711ab78fba2f655d05106\n",
            "Successfully built langdetect\n",
            "Installing collected packages: langdetect\n",
            "Successfully installed langdetect-1.0.9\n"
          ]
        }
      ],
      "source": [
        "pip install langdetect"
      ]
    },
    {
      "cell_type": "code",
      "execution_count": null,
      "metadata": {
        "id": "NgUAuCDfLX1O"
      },
      "outputs": [],
      "source": [
        "from langdetect import detect"
      ]
    },
    {
      "cell_type": "code",
      "execution_count": null,
      "metadata": {
        "id": "xxeDBJL4LgES"
      },
      "outputs": [],
      "source": [
        "def is_english(text):\n",
        "  try:\n",
        "    lang = detect(text)\n",
        "    return lang == 'en'\n",
        "  except: #e.g. unsupported language\n",
        "    return False"
      ]
    },
    {
      "cell_type": "markdown",
      "metadata": {
        "id": "T5ziLOglPJUy"
      },
      "source": [
        "### ns dataset"
      ]
    },
    {
      "cell_type": "code",
      "execution_count": null,
      "metadata": {
        "colab": {
          "base_uri": "https://localhost:8080/",
          "height": 237
        },
        "id": "cy2VLnpJLvP4",
        "outputId": "d0d70f17-6ce6-4831-e1f8-a72f0208401b"
      },
      "outputs": [
        {
          "data": {
            "application/vnd.google.colaboratory.intrinsic+json": {
              "type": "string"
            },
            "text/plain": [
              "'Üniversite birçok öğrenci için kazandıktan sonra rahatlayacağını düşündüğü bir aşama. Gençliğin tam olarak yaşandığı, özgürlüğün tadıldığı ve derslerin biraz ikinci planda kaldığı bu evre bazıları için hedeflerine ulaşacakları zorlu bir yol. Kocaeli’nde yaşayan 22 yaşındaki Berru Merve Kul da 4 yıl önce Sakarya Üniversitesi’ni kazandı ancak görme engelli olduğu için önünde zorlu ve uzun bir yol vardı. Neyse ki annesi 4 yıl boyunca olduğu gibi mezun olurken de yanındaydı…\\n\\n22 yaşındaki Berru Merve Kul da 4 yıl önce Sakarya Üniversitesi Hukuk Fakültesi’ni kazandı. Ancak görme engelli olduğu için üniversite yaşamı onun için diğer öğrencilere göre biraz daha zordu\\n\\n4 yıllık eğitim hayatı boyunca onun eli ayağı olan kişi ise annesiydi. Annesi Havva Kul 4 yıl boyunca kızına tüm notlarını, kitaplarını okuyarak ödevlerini yapmasını, sınavlardan başarıyla geçmesini sağladı\\n\\nVe 4 yılın ardından Berru Merve Kul okuldan başarıyla mezun oldu. Sakarya Üniversitesi Hukuk Fakültesi Binasında yalnız değildi Merve, yanında yine annesi vardı\\n\\nKep atması için kızıyla sahneye çıkan Havva Kul, kızıyla birlikte mezuniyet heyecanını yaşadı ve kep attı\\n\\nMerve Kul 4 yılın sonunda hak ettiği mezuniyet belgesini alırken annesi Havva Kul’a ise 4 yıl boyunca gösterdiği özveri nedeniyle fahri mezun belgesi verildi. Bu tweet sosyal medyada birçok kişi tarafından paylaşıldı\\n\\nBu fotoğraftaki anne var ya, görme engelli kızına, tüm hukuk metinlerini defalarca okuyup onu çalıştırarak kızının 4 yılda fakülteyi bitirmesini sağlamış.\\n\\nYılın annesi bence.\\n\\nSözün bittiği yer… Yer: Sakarya Üniversitesi… pic.twitter.com/1AYRC0Z4YY — Havva Koç (@Kochavva) July 11, 2018\\n\\nSAÜ Hukuk Fakültesi Dekanı Prof. Dr. Mahmut Bilen de tweet atarak bu güzel haberi duyurdu\\n\\nSAÜ Hukukta dereceye giren öğrencilerimiz dışında Berru Merve KUL görme engelli öğrencimiz 4 yılda hukuk eğitimini tamamlayarak mezun oldu. Evde bütün hukuk metinlerini kızına okuyarak sınavlara hazırlanmasında gayreti olan Annesine de fakültemizin fahri mezunu olarak ödül verdik https://t.co/Me8Q55r2pc — Mahmut Bilen (@Bilenmah) July 5, 2018\\n\\nKaynak; 1'"
            ]
          },
          "execution_count": 117,
          "metadata": {},
          "output_type": "execute_result"
        }
      ],
      "source": [
        "test_ns_data2.loc[63]['text']"
      ]
    },
    {
      "cell_type": "code",
      "execution_count": null,
      "metadata": {
        "colab": {
          "base_uri": "https://localhost:8080/"
        },
        "id": "ed-ONVxtMDGT",
        "outputId": "01f602e2-6907-4ec5-eae1-e150922df75d"
      },
      "outputs": [
        {
          "data": {
            "text/plain": [
              "False"
            ]
          },
          "execution_count": 118,
          "metadata": {},
          "output_type": "execute_result"
        }
      ],
      "source": [
        "is_english(test_ns_data2.loc[63]['text'])"
      ]
    },
    {
      "cell_type": "code",
      "execution_count": null,
      "metadata": {
        "id": "XKjz9bF0MK-8"
      },
      "outputs": [],
      "source": [
        "test_ns_data_english=test_ns_data2[test_ns_data2['text'].apply(is_english)]"
      ]
    },
    {
      "cell_type": "code",
      "execution_count": null,
      "metadata": {
        "colab": {
          "base_uri": "https://localhost:8080/",
          "height": 1000
        },
        "id": "IWrsFmQcOMJa",
        "outputId": "aa283582-ff5c-4c64-8229-17e8c8896dcc"
      },
      "outputs": [
        {
          "data": {
            "application/vnd.google.colaboratory.intrinsic+json": {
              "summary": "{\n  \"name\": \"test_ns_data_english\",\n  \"rows\": 838,\n  \"fields\": [\n    {\n      \"column\": \"news_title\",\n      \"properties\": {\n        \"dtype\": \"string\",\n        \"num_unique_values\": 837,\n        \"samples\": [\n          \"Crayola launches \\u2018Colors of the World\\u2019 skin tone crayons\",\n          \"Earliest UK estimates of children affected in the womb by alcohol intake during pregnancy\",\n          \"Jimmy Carter's Solar Panels Power Plains, Georgia\"\n        ],\n        \"semantic_type\": \"\",\n        \"description\": \"\"\n      }\n    },\n    {\n      \"column\": \"reddit_title\",\n      \"properties\": {\n        \"dtype\": \"string\",\n        \"num_unique_values\": 838,\n        \"samples\": [\n          \"Yale's massively popular 'happiness' course is available free online\",\n          \"Earliest UK estimates of children affected in the womb by alcohol intake during pregnancy\",\n          \"Jimmy Carter Put Solar Panels on His Farmland and They're Now Powering Half of His Georgia Hometown\"\n        ],\n        \"semantic_type\": \"\",\n        \"description\": \"\"\n      }\n    },\n    {\n      \"column\": \"sentiment\",\n      \"properties\": {\n        \"dtype\": \"category\",\n        \"num_unique_values\": 2,\n        \"samples\": [\n          \"negative\",\n          \"positive\"\n        ],\n        \"semantic_type\": \"\",\n        \"description\": \"\"\n      }\n    },\n    {\n      \"column\": \"text\",\n      \"properties\": {\n        \"dtype\": \"string\",\n        \"num_unique_values\": 837,\n        \"samples\": [\n          \"No more green, red or blue people. Crayola is launching a box of crayons with different skin tones for children to \\u201caccurately color themselves into the world.\\u201d\\n\\n\\u201cColors of the World\\u201d crayons, the company said in a statement, includes 24 new crayons designed to mirror and represent over 40 different skin tones.\\n\\n\\u201cWith the world growing more diverse than ever before, Crayola hopes our new Colors of the World crayons will increase representation and foster a greater sense of belonging and acceptance,\\u201d said Crayola CEO Rich Wuerthele in the statement. \\u201dWe want the new Colors of the World crayons to advance inclusion within creativity and impact how kids express themselves.\\u201d\\n\\nThe crayons themselves will be wrapped in a gradient skin tone label with the color name in English, Spanish and French, and a realistic color name \\u2014 such as Light Golden, Deep Almond and Medium Deep Rose.\\n\\nThe new Crayola \\u201cColors of the World\\u201d crayons will be available in July in a 24- and 32-count pack. The 32-count crayon pack (featuring the 24 new colors plus four hair and four eye colors), will be sold exclusively at Walmart and is available for pre-order at Walmart.com.\\n\\nCayola made the announcement on Wednesday to coincide with the United Nations World Day for Cultural Diversity for Dialogue and Development.\",\n          \"A report published on 30 November 2018 in Preventive Medicine reveals that a stunning 17 percent of children could possibly be affected by alcohol exposure during their intrauterine life. This refers to a group of lifelong conditions caused by prenatal drinking, called fetal alcohol spectrum disorder (FASD).\\n\\nHTeam | Shutterstock\\n\\nDrinking during pregnancy is extremely common in the UK, which ranks fourth in the world in this respect. However, there are no population-based studies to provide an approximation of the number of people with FASD.\\n\\nFASD is often classified as a relatively invisible and underdiagnosed disability, due to the lack of overt physical symptoms and signs. There is only one clinic that deals with this specialty directly in England.\\n\\nTo address this need, a team from the University of Bristol and Cardiff University used a screening tool to gather a wide range of information on maternal alcohol intake during pregnancy. In collaboration with medical professionals, the research covered 13,495 children whose development had been followed in the Bristol's Children of the 90s study.\\n\\nThe results were astonishing, showing alcohol exposure in up to 79 percent of children in the study, while a positive screen was obtained for FASD symptoms in up to 17 percent. The screen was defined to be positive if the child had problems with learning or behavior in at least three different areas, either with or without physical features such as growth deficiency and a distinctive facies marked by a smooth philtrum, a thin upper lip and small eye openings.\\n\\nWhile the positive screening results for FASD were rightly distinguished from a diagnosis of the condition, the study outcome was disturbing in terms of the very high rate of drinking in pregnancy and the high prevalence of symptoms suggestive of FASD that it showed. This may indicate that FASD is probably a significant public health burden in the UK.\\n\\nThe ability to arrive at an approximate FASD prevalence is important since without such information, few people are likely to be aware of the condition. This would result in the condition going undiagnosed or being diagnosed late in children, adolescents and adults. As a result, they would be deprived of necessary support.\\n\\nThe researchers point out that the information they used is several years old. Meanwhile, the current medical opinion on the safety of drinking during pregnancy has officially changed. However, the rates of fetal alcohol exposure within the UK are still high, with recent information suggesting that 75 percent of women do drink while they are pregnant. A third of these women binge on alcohol. This could indicate that many people are currently experiencing FASD symptoms.\\n\\nThe most up-to-date guidance states that the safest approach is not to drink alcohol at all if you are pregnant, or if you think you may become pregnant. It is important that people are aware of the risks so that they can make an informed decision about drinking in pregnancy.\\u201d Dr Cheryl McQuire, the leader of the study, who is a researcher in epidemiology and alcohol-related outcomes at the University of Bristol.\\n\\nMoreover, she says, the study points to the need for future research to clearly identify how many people in the UK have FASD today.\\n\\nCountries such as Canada, the US and Italy have made use of in-school screening measures to arrive at a prevalence of up to 10 percent among children, going up to a disturbing 30 percent when it comes to children who are being given care.\\n\\nAnother researcher, Dr Raja Mukherjee, who heads an FASD diagnostic clinic at Surrey and Boarders Partnership NHS Foundation Trust, pointed out that the current study shows an apparent mismatch between the findings and the rarity of the condition as reported by most clinicians. The research reveals that many people suffering with this condition are probably going undiagnosed in the general population.\\n\\nIt shows that it is a disorder that is seemingly hidden in plain sight that we need to pay attention to. Unless we start looking for it we will continue to miss it. If we fail to diagnose it then those affected individuals will continue to be affected by a lack of support\\u2026 These results can be the first step in helping us in the UK to realise it is no longer a condition we can ignore.\\u201d Dr Mukherjee\\n\\nSandra Butcher, Chief Executive of the NO-FAS UK, underlined the wide scope of the screening, saying that it \\u201cshines light on a staggeringly widespread and largely avoidable public health crisis.\\u201d\\n\\nShe states that the only way to go from here, for anyone in a position to influence or make public health policy and who cares about protecting those in society who are at most risk, both mentally and physically, is to put in place a complete training and action program which covers the prevention, diagnosis and support of FASD. Such support will be required lifelong, because FASD is an incurable condition, and requires increasing levels of support as affected children grow into adulthood and beyond.\\n\\nThe most current medical advice on drinking in pregnancy, from the Chief Medical Officer, in January 2016, states that for women who are pregnant or think they could become pregnant, it is safest to abstain from all alcohol to minimize the risk of fetal alcohol exposure. However, if small amounts of alcohol were ingested before pregnancy was detected or even during pregnancy, the risk of any toxicity is low, according to the guideline.\\n\\nAccording to this advice, if a pregnant woman has drunk alcohol before knowing that she was pregnant, further drinking is to be avoided. It is safe to say that the baby will not be affected in the majority of these cases. The guideline goes on to suggest talking to a healthcare provider if a woman is concerned about using alcohol in pregnancy.\"\n        ],\n        \"semantic_type\": \"\",\n        \"description\": \"\"\n      }\n    },\n    {\n      \"column\": \"url\",\n      \"properties\": {\n        \"dtype\": \"string\",\n        \"num_unique_values\": 838,\n        \"samples\": [\n          \"https://www.cnn.com/2020/03/23/health/yale-happiness-course-wellness/index.html\",\n          \"https://www.news-medical.net/news/20181130/Earliest-UK-estimates-of-children-affected-in-the-womb-by-alcohol-intake-during-pregnancy.aspx\"\n        ],\n        \"semantic_type\": \"\",\n        \"description\": \"\"\n      }\n    },\n    {\n      \"column\": \"predicted_sentiment\",\n      \"properties\": {\n        \"dtype\": \"category\",\n        \"num_unique_values\": 3,\n        \"samples\": [\n          \"positive\",\n          \"negative\"\n        ],\n        \"semantic_type\": \"\",\n        \"description\": \"\"\n      }\n    },\n    {\n      \"column\": \"predicted_sentiment_compound\",\n      \"properties\": {\n        \"dtype\": \"category\",\n        \"num_unique_values\": 3,\n        \"samples\": [\n          \"positive\",\n          \"negative\"\n        ],\n        \"semantic_type\": \"\",\n        \"description\": \"\"\n      }\n    }\n  ]\n}",
              "type": "dataframe",
              "variable_name": "test_ns_data_english"
            },
            "text/html": [
              "\n",
              "  <div id=\"df-19dd776b-545f-4712-90be-043d87895f27\" class=\"colab-df-container\">\n",
              "    <div>\n",
              "<style scoped>\n",
              "    .dataframe tbody tr th:only-of-type {\n",
              "        vertical-align: middle;\n",
              "    }\n",
              "\n",
              "    .dataframe tbody tr th {\n",
              "        vertical-align: top;\n",
              "    }\n",
              "\n",
              "    .dataframe thead th {\n",
              "        text-align: right;\n",
              "    }\n",
              "</style>\n",
              "<table border=\"1\" class=\"dataframe\">\n",
              "  <thead>\n",
              "    <tr style=\"text-align: right;\">\n",
              "      <th></th>\n",
              "      <th>news_title</th>\n",
              "      <th>reddit_title</th>\n",
              "      <th>sentiment</th>\n",
              "      <th>text</th>\n",
              "      <th>url</th>\n",
              "      <th>predicted_sentiment</th>\n",
              "      <th>predicted_sentiment_compound</th>\n",
              "    </tr>\n",
              "  </thead>\n",
              "  <tbody>\n",
              "    <tr>\n",
              "      <th>0</th>\n",
              "      <td>Mark Cuban launches generic drug company</td>\n",
              "      <td>Billionaire Mark Cuban just launched a drug co...</td>\n",
              "      <td>positive</td>\n",
              "      <td>Billionaire investor and Shark Tank star Mark ...</td>\n",
              "      <td>https://www.beckershospitalreview.com/pharmacy...</td>\n",
              "      <td>positive</td>\n",
              "      <td>positive</td>\n",
              "    </tr>\n",
              "    <tr>\n",
              "      <th>1</th>\n",
              "      <td>From Defendant to Defender: One Wrongfully Con...</td>\n",
              "      <td>Man falsely imprisoned for 10 years, uses pris...</td>\n",
              "      <td>positive</td>\n",
              "      <td>Attorney Jarrett Adams recently helped overtur...</td>\n",
              "      <td>https://www.nbcnews.com/news/us-news/defendant...</td>\n",
              "      <td>negative</td>\n",
              "      <td>positive</td>\n",
              "    </tr>\n",
              "    <tr>\n",
              "      <th>2</th>\n",
              "      <td>Amazon Tribe Wins Lawsuit Against Big Oil, Sav...</td>\n",
              "      <td>Amazon tribe wins legal battle against oil com...</td>\n",
              "      <td>positive</td>\n",
              "      <td>The Amazon Rainforest is well known across the...</td>\n",
              "      <td>https://www.disclose.tv/amazon-tribe-wins-laws...</td>\n",
              "      <td>positive</td>\n",
              "      <td>positive</td>\n",
              "    </tr>\n",
              "    <tr>\n",
              "      <th>3</th>\n",
              "      <td>Newark police: No officer fired a single shot ...</td>\n",
              "      <td>Newark police: No officer fired a single shot ...</td>\n",
              "      <td>positive</td>\n",
              "      <td>Newark police: No officer fired a single shot ...</td>\n",
              "      <td>https://newjersey.news12.com/newark-police-no-...</td>\n",
              "      <td>negative</td>\n",
              "      <td>negative</td>\n",
              "    </tr>\n",
              "    <tr>\n",
              "      <th>5</th>\n",
              "      <td>Budweiser will sit out Super Bowl, funneling m...</td>\n",
              "      <td>Budweiser will sit out Super Bowl, funneling m...</td>\n",
              "      <td>positive</td>\n",
              "      <td>Budweiser will not be running a commercial dur...</td>\n",
              "      <td>https://www.cnbc.com/2021/01/25/super-bowl-bud...</td>\n",
              "      <td>positive</td>\n",
              "      <td>positive</td>\n",
              "    </tr>\n",
              "    <tr>\n",
              "      <th>...</th>\n",
              "      <td>...</td>\n",
              "      <td>...</td>\n",
              "      <td>...</td>\n",
              "      <td>...</td>\n",
              "      <td>...</td>\n",
              "      <td>...</td>\n",
              "      <td>...</td>\n",
              "    </tr>\n",
              "    <tr>\n",
              "      <th>843</th>\n",
              "      <td>Dee Why attack: Man allegedly choked and threa...</td>\n",
              "      <td>Dee Why attack: Man allegedly choked and threa...</td>\n",
              "      <td>negative</td>\n",
              "      <td>Frightening details have emerged about a toile...</td>\n",
              "      <td>https://www.9news.com.au/2018/11/30/17/55/sydn...</td>\n",
              "      <td>negative</td>\n",
              "      <td>negative</td>\n",
              "    </tr>\n",
              "    <tr>\n",
              "      <th>844</th>\n",
              "      <td>Africa: Children and HIV/Aids - 'We Need to Ta...</td>\n",
              "      <td>Africa: Children and HIV/Aids - 'We Need to Ta...</td>\n",
              "      <td>negative</td>\n",
              "      <td>interview\\n\\nJohannesburg — 360,000 adolescent...</td>\n",
              "      <td>https://allafrica.com/stories/201811300567.html</td>\n",
              "      <td>positive</td>\n",
              "      <td>positive</td>\n",
              "    </tr>\n",
              "    <tr>\n",
              "      <th>845</th>\n",
              "      <td>Terrorism suspected in Eilat attack</td>\n",
              "      <td>Terrorism suspected in Eilat attack</td>\n",
              "      <td>negative</td>\n",
              "      <td>A violent attack in the southern Israeli port ...</td>\n",
              "      <td>http://www.israelnationalnews.com/News/News.as...</td>\n",
              "      <td>negative</td>\n",
              "      <td>negative</td>\n",
              "    </tr>\n",
              "    <tr>\n",
              "      <th>846</th>\n",
              "      <td>Anti-Semitism never disappeared in Europe. It'...</td>\n",
              "      <td>Anti-Semitism never disappeared in Europe. It'...</td>\n",
              "      <td>negative</td>\n",
              "      <td>It's a 17-year-old boy, too frightened to wear...</td>\n",
              "      <td>https://edition.cnn.com/2018/11/27/europe/anti...</td>\n",
              "      <td>negative</td>\n",
              "      <td>negative</td>\n",
              "    </tr>\n",
              "    <tr>\n",
              "      <th>847</th>\n",
              "      <td>Five dead, 32 injured in Hong Kong coach crash</td>\n",
              "      <td>Five dead, 32 injured in Hong Kong coach crash</td>\n",
              "      <td>negative</td>\n",
              "      <td>HONG KONG (AFP) - Five people were killed and ...</td>\n",
              "      <td>https://www.straitstimes.com/asia/east-asia/fi...</td>\n",
              "      <td>negative</td>\n",
              "      <td>negative</td>\n",
              "    </tr>\n",
              "  </tbody>\n",
              "</table>\n",
              "<p>838 rows × 7 columns</p>\n",
              "</div>\n",
              "    <div class=\"colab-df-buttons\">\n",
              "\n",
              "  <div class=\"colab-df-container\">\n",
              "    <button class=\"colab-df-convert\" onclick=\"convertToInteractive('df-19dd776b-545f-4712-90be-043d87895f27')\"\n",
              "            title=\"Convert this dataframe to an interactive table.\"\n",
              "            style=\"display:none;\">\n",
              "\n",
              "  <svg xmlns=\"http://www.w3.org/2000/svg\" height=\"24px\" viewBox=\"0 -960 960 960\">\n",
              "    <path d=\"M120-120v-720h720v720H120Zm60-500h600v-160H180v160Zm220 220h160v-160H400v160Zm0 220h160v-160H400v160ZM180-400h160v-160H180v160Zm440 0h160v-160H620v160ZM180-180h160v-160H180v160Zm440 0h160v-160H620v160Z\"/>\n",
              "  </svg>\n",
              "    </button>\n",
              "\n",
              "  <style>\n",
              "    .colab-df-container {\n",
              "      display:flex;\n",
              "      gap: 12px;\n",
              "    }\n",
              "\n",
              "    .colab-df-convert {\n",
              "      background-color: #E8F0FE;\n",
              "      border: none;\n",
              "      border-radius: 50%;\n",
              "      cursor: pointer;\n",
              "      display: none;\n",
              "      fill: #1967D2;\n",
              "      height: 32px;\n",
              "      padding: 0 0 0 0;\n",
              "      width: 32px;\n",
              "    }\n",
              "\n",
              "    .colab-df-convert:hover {\n",
              "      background-color: #E2EBFA;\n",
              "      box-shadow: 0px 1px 2px rgba(60, 64, 67, 0.3), 0px 1px 3px 1px rgba(60, 64, 67, 0.15);\n",
              "      fill: #174EA6;\n",
              "    }\n",
              "\n",
              "    .colab-df-buttons div {\n",
              "      margin-bottom: 4px;\n",
              "    }\n",
              "\n",
              "    [theme=dark] .colab-df-convert {\n",
              "      background-color: #3B4455;\n",
              "      fill: #D2E3FC;\n",
              "    }\n",
              "\n",
              "    [theme=dark] .colab-df-convert:hover {\n",
              "      background-color: #434B5C;\n",
              "      box-shadow: 0px 1px 3px 1px rgba(0, 0, 0, 0.15);\n",
              "      filter: drop-shadow(0px 1px 2px rgba(0, 0, 0, 0.3));\n",
              "      fill: #FFFFFF;\n",
              "    }\n",
              "  </style>\n",
              "\n",
              "    <script>\n",
              "      const buttonEl =\n",
              "        document.querySelector('#df-19dd776b-545f-4712-90be-043d87895f27 button.colab-df-convert');\n",
              "      buttonEl.style.display =\n",
              "        google.colab.kernel.accessAllowed ? 'block' : 'none';\n",
              "\n",
              "      async function convertToInteractive(key) {\n",
              "        const element = document.querySelector('#df-19dd776b-545f-4712-90be-043d87895f27');\n",
              "        const dataTable =\n",
              "          await google.colab.kernel.invokeFunction('convertToInteractive',\n",
              "                                                    [key], {});\n",
              "        if (!dataTable) return;\n",
              "\n",
              "        const docLinkHtml = 'Like what you see? Visit the ' +\n",
              "          '<a target=\"_blank\" href=https://colab.research.google.com/notebooks/data_table.ipynb>data table notebook</a>'\n",
              "          + ' to learn more about interactive tables.';\n",
              "        element.innerHTML = '';\n",
              "        dataTable['output_type'] = 'display_data';\n",
              "        await google.colab.output.renderOutput(dataTable, element);\n",
              "        const docLink = document.createElement('div');\n",
              "        docLink.innerHTML = docLinkHtml;\n",
              "        element.appendChild(docLink);\n",
              "      }\n",
              "    </script>\n",
              "  </div>\n",
              "\n",
              "\n",
              "<div id=\"df-57fbf9c5-7065-429a-87da-9def4fb3d518\">\n",
              "  <button class=\"colab-df-quickchart\" onclick=\"quickchart('df-57fbf9c5-7065-429a-87da-9def4fb3d518')\"\n",
              "            title=\"Suggest charts\"\n",
              "            style=\"display:none;\">\n",
              "\n",
              "<svg xmlns=\"http://www.w3.org/2000/svg\" height=\"24px\"viewBox=\"0 0 24 24\"\n",
              "     width=\"24px\">\n",
              "    <g>\n",
              "        <path d=\"M19 3H5c-1.1 0-2 .9-2 2v14c0 1.1.9 2 2 2h14c1.1 0 2-.9 2-2V5c0-1.1-.9-2-2-2zM9 17H7v-7h2v7zm4 0h-2V7h2v10zm4 0h-2v-4h2v4z\"/>\n",
              "    </g>\n",
              "</svg>\n",
              "  </button>\n",
              "\n",
              "<style>\n",
              "  .colab-df-quickchart {\n",
              "      --bg-color: #E8F0FE;\n",
              "      --fill-color: #1967D2;\n",
              "      --hover-bg-color: #E2EBFA;\n",
              "      --hover-fill-color: #174EA6;\n",
              "      --disabled-fill-color: #AAA;\n",
              "      --disabled-bg-color: #DDD;\n",
              "  }\n",
              "\n",
              "  [theme=dark] .colab-df-quickchart {\n",
              "      --bg-color: #3B4455;\n",
              "      --fill-color: #D2E3FC;\n",
              "      --hover-bg-color: #434B5C;\n",
              "      --hover-fill-color: #FFFFFF;\n",
              "      --disabled-bg-color: #3B4455;\n",
              "      --disabled-fill-color: #666;\n",
              "  }\n",
              "\n",
              "  .colab-df-quickchart {\n",
              "    background-color: var(--bg-color);\n",
              "    border: none;\n",
              "    border-radius: 50%;\n",
              "    cursor: pointer;\n",
              "    display: none;\n",
              "    fill: var(--fill-color);\n",
              "    height: 32px;\n",
              "    padding: 0;\n",
              "    width: 32px;\n",
              "  }\n",
              "\n",
              "  .colab-df-quickchart:hover {\n",
              "    background-color: var(--hover-bg-color);\n",
              "    box-shadow: 0 1px 2px rgba(60, 64, 67, 0.3), 0 1px 3px 1px rgba(60, 64, 67, 0.15);\n",
              "    fill: var(--button-hover-fill-color);\n",
              "  }\n",
              "\n",
              "  .colab-df-quickchart-complete:disabled,\n",
              "  .colab-df-quickchart-complete:disabled:hover {\n",
              "    background-color: var(--disabled-bg-color);\n",
              "    fill: var(--disabled-fill-color);\n",
              "    box-shadow: none;\n",
              "  }\n",
              "\n",
              "  .colab-df-spinner {\n",
              "    border: 2px solid var(--fill-color);\n",
              "    border-color: transparent;\n",
              "    border-bottom-color: var(--fill-color);\n",
              "    animation:\n",
              "      spin 1s steps(1) infinite;\n",
              "  }\n",
              "\n",
              "  @keyframes spin {\n",
              "    0% {\n",
              "      border-color: transparent;\n",
              "      border-bottom-color: var(--fill-color);\n",
              "      border-left-color: var(--fill-color);\n",
              "    }\n",
              "    20% {\n",
              "      border-color: transparent;\n",
              "      border-left-color: var(--fill-color);\n",
              "      border-top-color: var(--fill-color);\n",
              "    }\n",
              "    30% {\n",
              "      border-color: transparent;\n",
              "      border-left-color: var(--fill-color);\n",
              "      border-top-color: var(--fill-color);\n",
              "      border-right-color: var(--fill-color);\n",
              "    }\n",
              "    40% {\n",
              "      border-color: transparent;\n",
              "      border-right-color: var(--fill-color);\n",
              "      border-top-color: var(--fill-color);\n",
              "    }\n",
              "    60% {\n",
              "      border-color: transparent;\n",
              "      border-right-color: var(--fill-color);\n",
              "    }\n",
              "    80% {\n",
              "      border-color: transparent;\n",
              "      border-right-color: var(--fill-color);\n",
              "      border-bottom-color: var(--fill-color);\n",
              "    }\n",
              "    90% {\n",
              "      border-color: transparent;\n",
              "      border-bottom-color: var(--fill-color);\n",
              "    }\n",
              "  }\n",
              "</style>\n",
              "\n",
              "  <script>\n",
              "    async function quickchart(key) {\n",
              "      const quickchartButtonEl =\n",
              "        document.querySelector('#' + key + ' button');\n",
              "      quickchartButtonEl.disabled = true;  // To prevent multiple clicks.\n",
              "      quickchartButtonEl.classList.add('colab-df-spinner');\n",
              "      try {\n",
              "        const charts = await google.colab.kernel.invokeFunction(\n",
              "            'suggestCharts', [key], {});\n",
              "      } catch (error) {\n",
              "        console.error('Error during call to suggestCharts:', error);\n",
              "      }\n",
              "      quickchartButtonEl.classList.remove('colab-df-spinner');\n",
              "      quickchartButtonEl.classList.add('colab-df-quickchart-complete');\n",
              "    }\n",
              "    (() => {\n",
              "      let quickchartButtonEl =\n",
              "        document.querySelector('#df-57fbf9c5-7065-429a-87da-9def4fb3d518 button');\n",
              "      quickchartButtonEl.style.display =\n",
              "        google.colab.kernel.accessAllowed ? 'block' : 'none';\n",
              "    })();\n",
              "  </script>\n",
              "</div>\n",
              "    </div>\n",
              "  </div>\n"
            ],
            "text/plain": [
              "                                            news_title  \\\n",
              "0             Mark Cuban launches generic drug company   \n",
              "1    From Defendant to Defender: One Wrongfully Con...   \n",
              "2    Amazon Tribe Wins Lawsuit Against Big Oil, Sav...   \n",
              "3    Newark police: No officer fired a single shot ...   \n",
              "5    Budweiser will sit out Super Bowl, funneling m...   \n",
              "..                                                 ...   \n",
              "843  Dee Why attack: Man allegedly choked and threa...   \n",
              "844  Africa: Children and HIV/Aids - 'We Need to Ta...   \n",
              "845                Terrorism suspected in Eilat attack   \n",
              "846  Anti-Semitism never disappeared in Europe. It'...   \n",
              "847     Five dead, 32 injured in Hong Kong coach crash   \n",
              "\n",
              "                                          reddit_title sentiment  \\\n",
              "0    Billionaire Mark Cuban just launched a drug co...  positive   \n",
              "1    Man falsely imprisoned for 10 years, uses pris...  positive   \n",
              "2    Amazon tribe wins legal battle against oil com...  positive   \n",
              "3    Newark police: No officer fired a single shot ...  positive   \n",
              "5    Budweiser will sit out Super Bowl, funneling m...  positive   \n",
              "..                                                 ...       ...   \n",
              "843  Dee Why attack: Man allegedly choked and threa...  negative   \n",
              "844  Africa: Children and HIV/Aids - 'We Need to Ta...  negative   \n",
              "845                Terrorism suspected in Eilat attack  negative   \n",
              "846  Anti-Semitism never disappeared in Europe. It'...  negative   \n",
              "847     Five dead, 32 injured in Hong Kong coach crash  negative   \n",
              "\n",
              "                                                  text  \\\n",
              "0    Billionaire investor and Shark Tank star Mark ...   \n",
              "1    Attorney Jarrett Adams recently helped overtur...   \n",
              "2    The Amazon Rainforest is well known across the...   \n",
              "3    Newark police: No officer fired a single shot ...   \n",
              "5    Budweiser will not be running a commercial dur...   \n",
              "..                                                 ...   \n",
              "843  Frightening details have emerged about a toile...   \n",
              "844  interview\\n\\nJohannesburg — 360,000 adolescent...   \n",
              "845  A violent attack in the southern Israeli port ...   \n",
              "846  It's a 17-year-old boy, too frightened to wear...   \n",
              "847  HONG KONG (AFP) - Five people were killed and ...   \n",
              "\n",
              "                                                   url predicted_sentiment  \\\n",
              "0    https://www.beckershospitalreview.com/pharmacy...            positive   \n",
              "1    https://www.nbcnews.com/news/us-news/defendant...            negative   \n",
              "2    https://www.disclose.tv/amazon-tribe-wins-laws...            positive   \n",
              "3    https://newjersey.news12.com/newark-police-no-...            negative   \n",
              "5    https://www.cnbc.com/2021/01/25/super-bowl-bud...            positive   \n",
              "..                                                 ...                 ...   \n",
              "843  https://www.9news.com.au/2018/11/30/17/55/sydn...            negative   \n",
              "844    https://allafrica.com/stories/201811300567.html            positive   \n",
              "845  http://www.israelnationalnews.com/News/News.as...            negative   \n",
              "846  https://edition.cnn.com/2018/11/27/europe/anti...            negative   \n",
              "847  https://www.straitstimes.com/asia/east-asia/fi...            negative   \n",
              "\n",
              "    predicted_sentiment_compound  \n",
              "0                       positive  \n",
              "1                       positive  \n",
              "2                       positive  \n",
              "3                       negative  \n",
              "5                       positive  \n",
              "..                           ...  \n",
              "843                     negative  \n",
              "844                     positive  \n",
              "845                     negative  \n",
              "846                     negative  \n",
              "847                     negative  \n",
              "\n",
              "[838 rows x 7 columns]"
            ]
          },
          "execution_count": 120,
          "metadata": {},
          "output_type": "execute_result"
        }
      ],
      "source": [
        "test_ns_data_english"
      ]
    },
    {
      "cell_type": "code",
      "execution_count": null,
      "metadata": {
        "id": "-OK-Ic-lOdq8"
      },
      "outputs": [],
      "source": [
        "accuracy_ns_compound_english=np.sum(test_ns_data_english['sentiment']==test_ns_data_english['predicted_sentiment_compound'])/test_ns_data_english.shape[0]"
      ]
    },
    {
      "cell_type": "code",
      "execution_count": null,
      "metadata": {
        "colab": {
          "base_uri": "https://localhost:8080/"
        },
        "id": "hfe3x3MTOz24",
        "outputId": "48467bd7-2b17-458c-e07d-a0363413e456"
      },
      "outputs": [
        {
          "name": "stderr",
          "output_type": "stream",
          "text": [
            "/usr/local/lib/python3.10/dist-packages/sklearn/metrics/_classification.py:2184: UserWarning: y_pred contains classes not in y_true\n",
            "  warnings.warn(\"y_pred contains classes not in y_true\")\n"
          ]
        }
      ],
      "source": [
        "ba_ns_compound_english=balanced_accuracy_score(test_ns_data_english['sentiment'], test_ns_data_english['predicted_sentiment_compound'])"
      ]
    },
    {
      "cell_type": "code",
      "execution_count": null,
      "metadata": {
        "colab": {
          "base_uri": "https://localhost:8080/"
        },
        "id": "ArzApbg-Oz8V",
        "outputId": "40212118-b5ff-4586-bda7-1a145e09d375"
      },
      "outputs": [
        {
          "data": {
            "text/plain": [
              "(0.7458233890214797, 0.7801174228195389)"
            ]
          },
          "execution_count": 123,
          "metadata": {},
          "output_type": "execute_result"
        }
      ],
      "source": [
        "accuracy_ns_compound_english, ba_ns_compound_english"
      ]
    },
    {
      "cell_type": "code",
      "execution_count": null,
      "metadata": {
        "colab": {
          "base_uri": "https://localhost:8080/"
        },
        "id": "6E24T3n8O3xp",
        "outputId": "f663aad1-7c24-4306-d05b-8d23b5788ae1"
      },
      "outputs": [
        {
          "data": {
            "text/plain": [
              "predicted_sentiment_compound\n",
              "positive    562\n",
              "negative    274\n",
              "neutral       2\n",
              "Name: count, dtype: int64"
            ]
          },
          "execution_count": 124,
          "metadata": {},
          "output_type": "execute_result"
        }
      ],
      "source": [
        "test_ns_data_english['predicted_sentiment_compound'].value_counts()"
      ]
    },
    {
      "cell_type": "code",
      "execution_count": null,
      "metadata": {
        "colab": {
          "base_uri": "https://localhost:8080/",
          "height": 920
        },
        "id": "drtjuAb5Q5O2",
        "outputId": "1130e3cc-1c00-4385-e885-4ffc0a585634"
      },
      "outputs": [
        {
          "data": {
            "application/vnd.google.colaboratory.intrinsic+json": {
              "summary": "{\n  \"name\": \"test_ns_data2[~test_ns_data2['text']\",\n  \"rows\": 10,\n  \"fields\": [\n    {\n      \"column\": \"news_title\",\n      \"properties\": {\n        \"dtype\": \"string\",\n        \"num_unique_values\": 10,\n        \"samples\": [\n          \"\\u041c\\u0430\\u0442\\u044c \\u0431\\u0440\\u043e\\u0441\\u0438\\u043b\\u0430 \\u043c\\u043b\\u0430\\u0434\\u0435\\u043d\\u0446\\u0430 \\u043d\\u0430 \\u043e\\u0431\\u043e\\u0447\\u0438\\u043d\\u0435 \\u0434\\u043e\\u0440\\u043e\\u0433\\u0438 \\u0432 \\u0441\\u043f\\u043e\\u0440\\u0442\\u0438\\u0432\\u043d\\u043e\\u0439 \\u0441\\u0443\\u043c\\u043a\\u0435 \\u0432 \\u0422\\u0443\\u0440\\u043a\\u0435\\u0441\\u0442\\u0430\\u043d\\u0441\\u043a\\u043e\\u0439 \\u043e\\u0431\\u043b\\u0430\\u0441\\u0442\\u0438\",\n          \"G\\u00f6rme Engelli K\\u0131z\\u0131na 4 Y\\u0131l Boyunca Notlar\\u0131n\\u0131 Okuyan ve Fahri Mezun Belgesi Alan Anne\",\n          \"Coronavirus-Pandemie: Bosch erfindet eigenen Covid-19-Schnelltest\"\n        ],\n        \"semantic_type\": \"\",\n        \"description\": \"\"\n      }\n    },\n    {\n      \"column\": \"reddit_title\",\n      \"properties\": {\n        \"dtype\": \"string\",\n        \"num_unique_values\": 10,\n        \"samples\": [\n          \"Mother threw the baby on the side of the road in a sports bag in the Turkestan region\",\n          \"Turkish mom who read lecture notes for four years to her blind daughter at law school has been awarded honorary degree alongside of her daughter.\",\n          \"German company Bosch produces 95% accurate test with testing time under 2.5 hours and no laboratory required\"\n        ],\n        \"semantic_type\": \"\",\n        \"description\": \"\"\n      }\n    },\n    {\n      \"column\": \"sentiment\",\n      \"properties\": {\n        \"dtype\": \"category\",\n        \"num_unique_values\": 2,\n        \"samples\": [\n          \"negative\",\n          \"positive\"\n        ],\n        \"semantic_type\": \"\",\n        \"description\": \"\"\n      }\n    },\n    {\n      \"column\": \"text\",\n      \"properties\": {\n        \"dtype\": \"string\",\n        \"num_unique_values\": 10,\n        \"samples\": [\n          \"\\u0412 \\u0422\\u0443\\u0440\\u043a\\u0435\\u0441\\u0442\\u0430\\u043d\\u0441\\u043a\\u043e\\u0439 \\u043e\\u0431\\u043b\\u0430\\u0441\\u0442\\u0438 \\u0436\\u0435\\u043d\\u0449\\u0438\\u043d\\u0430 \\u0431\\u0440\\u043e\\u0441\\u0438\\u043b\\u0430 \\u043d\\u043e\\u0432\\u043e\\u0440\\u043e\\u0436\\u0434\\u0435\\u043d\\u043d\\u0443\\u044e \\u0434\\u043e\\u0447\\u043a\\u0443 \\u043d\\u0430 \\u043e\\u0431\\u043e\\u0447\\u0438\\u043d\\u0435 \\u0434\\u043e\\u0440\\u043e\\u0433\\u0438. \\u041f\\u043e\\u043b\\u043e\\u0436\\u0438\\u0432 \\u0440\\u0435\\u0431\\u0435\\u043d\\u043a\\u0430 \\u0432 \\u0437\\u0430\\u0441\\u0442\\u0435\\u0433\\u043d\\u0443\\u0442\\u0443\\u044e \\u043f\\u043b\\u043e\\u0442\\u043d\\u043e \\u0441\\u043f\\u043e\\u0440\\u0442\\u0438\\u0432\\u043d\\u0443\\u044e \\u0441\\u0443\\u043c\\u043a\\u0443, \\u043e\\u043d\\u0430 \\u043e\\u0441\\u0442\\u0430\\u0432\\u0438\\u043b\\u0430 \\u0443\\u043c\\u0438\\u0440\\u0430\\u0442\\u044c \\u043c\\u043b\\u0430\\u0434\\u0435\\u043d\\u0446\\u0430 \\u043f\\u043e\\u0434 \\u043f\\u0430\\u043b\\u044f\\u0449\\u0438\\u043c \\u0441\\u043e\\u043b\\u043d\\u0446\\u0435\\u043c, \\u043f\\u0435\\u0440\\u0435\\u0434\\u0430\\u0435\\u0442 \\u041f\\u0435\\u0440\\u0432\\u044b\\u0439 \\u043a\\u0430\\u043d\\u0430\\u043b \\\"\\u0415\\u0432\\u0440\\u0430\\u0437\\u0438\\u044f\\\".\\n\\n\\u0418\\u043b\\u043b\\u044e\\u0441\\u0442\\u0440\\u0430\\u0442\\u0438\\u0432\\u043d\\u043e\\u0435 \\u0444\\u043e\\u0442\\u043e: Geoploria: UGC\\n\\n\\u041d\\u0430 \\u043e\\u0431\\u043e\\u0447\\u0438\\u043d\\u0435 \\u0442\\u0440\\u0430\\u0441\\u0441\\u044b \\u043c\\u043b\\u0430\\u0434\\u0435\\u043d\\u0435\\u0446 \\u043f\\u0440\\u043e\\u043b\\u0435\\u0436\\u0430\\u043b \\u043f\\u0440\\u0438\\u0431\\u043b\\u0438\\u0437\\u0438\\u0442\\u0435\\u043b\\u044c\\u043d\\u043e \\u0447\\u0435\\u0442\\u044b\\u0440\\u0435 \\u0447\\u0430\\u0441\\u0430, \\u043f\\u043e\\u043a\\u0430 \\u0435\\u0435 \\u043d\\u0435 \\u043e\\u0431\\u043d\\u0430\\u0440\\u0443\\u0436\\u0438\\u043b\\u0438 \\u0441\\u043b\\u0443\\u0447\\u0430\\u0439\\u043d\\u044b\\u0435 \\u0441\\u0432\\u0438\\u0434\\u0435\\u0442\\u0435\\u043b\\u0438.\\n\\n\\u041f\\u043e \\u0441\\u043b\\u043e\\u0432\\u0430\\u043c \\u0410\\u0441\\u0438\\u0438 \\u041e\\u043c\\u0430\\u0440\\u043e\\u0432\\u043e\\u0439, \\u043a\\u043e\\u0433\\u0434\\u0430 \\u043e\\u043d\\u0430 \\u0441 \\u0434\\u043e\\u0447\\u043a\\u0430\\u043c\\u0438 \\u043e\\u0442\\u043a\\u0440\\u044b\\u043b\\u0430 \\u0441\\u0443\\u043c\\u043a\\u0443, \\u043c\\u043b\\u0430\\u0434\\u0435\\u043d\\u0435\\u0446 \\u0431\\u044b\\u043b \\u043a\\u0440\\u0430\\u0441\\u043d\\u044b\\u043c-\\u043a\\u0440\\u0430\\u0441\\u043d\\u044b\\u043c.\\n\\n\\u00ab\\u042f \\u0441\\u043d\\u0430\\u0447\\u0430\\u043b\\u0430 \\u043f\\u043e\\u0434\\u0443\\u043c\\u0430\\u043b\\u0430, \\u0447\\u0442\\u043e \\u043e\\u043d \\u043d\\u0435 \\u0436\\u0438\\u0432\\u043e\\u0439. \\u041f\\u043e\\u0431\\u0435\\u0436\\u0430\\u043b\\u0430 \\u0441\\u0440\\u0430\\u0437\\u0443 \\u043a \\u0441\\u043e\\u0441\\u0435\\u0434\\u0443, \\u043e\\u043d \\u0432\\u0440\\u0430\\u0447. \\u0412\\u0441\\u0435 \\u0443\\u0436\\u0435 \\u0441\\u0443\\u0435\\u0442\\u0438\\u043b\\u0438\\u0441\\u044c \\u0432\\u043e\\u043a\\u0440\\u0443\\u0433, \\u0438 \\u0432\\u0434\\u0440\\u0443\\u0433 \\u0440\\u0435\\u0431\\u0435\\u043d\\u043e\\u043a \\u0437\\u0430\\u043f\\u043b\\u0430\\u043a\\u0430\\u043b!\\u00bb - \\u0440\\u0430\\u0441\\u0441\\u043a\\u0430\\u0437\\u0430\\u043b\\u0430 \\u043e\\u043d\\u0430.\\n\\n\\u0420\\u0435\\u0431\\u0435\\u043d\\u043a\\u0430 \\u044d\\u043a\\u0441\\u0442\\u0440\\u0435\\u043d\\u043d\\u043e \\u0434\\u043e\\u0441\\u0442\\u0430\\u0432\\u0438\\u043b\\u0438 \\u0432 \\u0431\\u043e\\u043b\\u044c\\u043d\\u0438\\u0446\\u0443. \\u041c\\u0435\\u0434\\u0438\\u043a\\u0438 \\u043e\\u0431\\u0441\\u043b\\u0435\\u0434\\u043e\\u0432\\u0430\\u043b\\u0438 \\u0435\\u0435, \\u043e\\u043a\\u0430\\u0437\\u0430\\u043b\\u0438 \\u043c\\u0435\\u0434\\u043f\\u043e\\u043c\\u043e\\u0449\\u044c. \\u041f\\u0440\\u0435\\u0434\\u043f\\u043e\\u043b\\u043e\\u0436\\u0438\\u0442\\u0435\\u043b\\u044c\\u043d\\u043e, \\u043c\\u0430\\u043b\\u044b\\u0448\\u043a\\u0435 \\u0432\\u0441\\u0435\\u0433\\u043e \\u0442\\u0440\\u0438 \\u0434\\u043d\\u044f \\u043e\\u0442 \\u0440\\u043e\\u0434\\u0443. \\u041e\\u0434\\u043d\\u0430\\u043a\\u043e \\u0442\\u043e\\u0447\\u043d\\u044b\\u0445 \\u0441\\u0432\\u0435\\u0434\\u0435\\u043d\\u0438\\u0439 \\u043d\\u0435\\u0442, \\u043d\\u0430 \\u0441\\u0443\\u043c\\u043a\\u0435 \\u043d\\u0435 \\u043e\\u0441\\u0442\\u0430\\u0432\\u0438\\u043b\\u0438 \\u043d\\u0438 \\u0438\\u043c\\u0435\\u043d\\u0438, \\u043d\\u0438 \\u0434\\u0430\\u0442\\u044b \\u0440\\u043e\\u0436\\u0434\\u0435\\u043d\\u0438\\u044f.\\n\\n\\u0412 \\u043d\\u0430\\u0441\\u0442\\u043e\\u044f\\u0449\\u0435\\u0435 \\u0432\\u0440\\u0435\\u043c\\u044f \\u043f\\u043e\\u043b\\u0438\\u0446\\u0435\\u0439\\u0441\\u043a\\u0438\\u0435 \\u0437\\u0430\\u043d\\u0438\\u043c\\u0430\\u044e\\u0442\\u0441\\u044f \\u043f\\u043e\\u0438\\u0441\\u043a\\u0430\\u043c\\u0438 \\u043d\\u0435\\u0440\\u0430\\u0434\\u0438\\u0432\\u043e\\u0439 \\u043c\\u0430\\u0442\\u0435\\u0440\\u0438. \\u0414\\u0430\\u043b\\u044c\\u043d\\u0435\\u0439\\u0448\\u0430\\u044f \\u0441\\u0443\\u0434\\u044c\\u0431\\u0430 \\u0434\\u0435\\u0432\\u043e\\u0447\\u043a\\u0438 \\u043f\\u043e\\u043a\\u0430 \\u043d\\u0435\\u0438\\u0437\\u0432\\u0435\\u0441\\u0442\\u043d\\u0430.\\n\\n\\u041e\\u0440\\u0438\\u0433\\u0438\\u043d\\u0430\\u043b \\u0441\\u0442\\u0430\\u0442\\u044c\\u0438: https://www.nur.kz/1746113-mat-brosila-mladenca-na-obocine-dorogi-v-sportivnoj-sumke-v-turkestanskoj-oblasti.html\",\n          \"\\u00dcniversite bir\\u00e7ok \\u00f6\\u011frenci i\\u00e7in kazand\\u0131ktan sonra rahatlayaca\\u011f\\u0131n\\u0131 d\\u00fc\\u015f\\u00fcnd\\u00fc\\u011f\\u00fc bir a\\u015fama. Gen\\u00e7li\\u011fin tam olarak ya\\u015fand\\u0131\\u011f\\u0131, \\u00f6zg\\u00fcrl\\u00fc\\u011f\\u00fcn tad\\u0131ld\\u0131\\u011f\\u0131 ve derslerin biraz ikinci planda kald\\u0131\\u011f\\u0131 bu evre baz\\u0131lar\\u0131 i\\u00e7in hedeflerine ula\\u015facaklar\\u0131 zorlu bir yol. Kocaeli\\u2019nde ya\\u015fayan 22 ya\\u015f\\u0131ndaki Berru Merve Kul da 4 y\\u0131l \\u00f6nce Sakarya \\u00dcniversitesi\\u2019ni kazand\\u0131 ancak g\\u00f6rme engelli oldu\\u011fu i\\u00e7in \\u00f6n\\u00fcnde zorlu ve uzun bir yol vard\\u0131. Neyse ki annesi 4 y\\u0131l boyunca oldu\\u011fu gibi mezun olurken de yan\\u0131ndayd\\u0131\\u2026\\n\\n22 ya\\u015f\\u0131ndaki Berru Merve Kul da 4 y\\u0131l \\u00f6nce Sakarya \\u00dcniversitesi Hukuk Fak\\u00fcltesi\\u2019ni kazand\\u0131. Ancak g\\u00f6rme engelli oldu\\u011fu i\\u00e7in \\u00fcniversite ya\\u015fam\\u0131 onun i\\u00e7in di\\u011fer \\u00f6\\u011frencilere g\\u00f6re biraz daha zordu\\n\\n4 y\\u0131ll\\u0131k e\\u011fitim hayat\\u0131 boyunca onun eli aya\\u011f\\u0131 olan ki\\u015fi ise annesiydi. Annesi Havva Kul 4 y\\u0131l boyunca k\\u0131z\\u0131na t\\u00fcm notlar\\u0131n\\u0131, kitaplar\\u0131n\\u0131 okuyarak \\u00f6devlerini yapmas\\u0131n\\u0131, s\\u0131navlardan ba\\u015far\\u0131yla ge\\u00e7mesini sa\\u011flad\\u0131\\n\\nVe 4 y\\u0131l\\u0131n ard\\u0131ndan Berru Merve Kul okuldan ba\\u015far\\u0131yla mezun oldu. Sakarya \\u00dcniversitesi Hukuk Fak\\u00fcltesi Binas\\u0131nda yaln\\u0131z de\\u011fildi Merve, yan\\u0131nda yine annesi vard\\u0131\\n\\nKep atmas\\u0131 i\\u00e7in k\\u0131z\\u0131yla sahneye \\u00e7\\u0131kan Havva Kul, k\\u0131z\\u0131yla birlikte mezuniyet heyecan\\u0131n\\u0131 ya\\u015fad\\u0131 ve kep att\\u0131\\n\\nMerve Kul 4 y\\u0131l\\u0131n sonunda hak etti\\u011fi mezuniyet belgesini al\\u0131rken annesi Havva Kul\\u2019a ise 4 y\\u0131l boyunca g\\u00f6sterdi\\u011fi \\u00f6zveri nedeniyle fahri mezun belgesi verildi. Bu tweet sosyal medyada bir\\u00e7ok ki\\u015fi taraf\\u0131ndan payla\\u015f\\u0131ld\\u0131\\n\\nBu foto\\u011fraftaki anne var ya, g\\u00f6rme engelli k\\u0131z\\u0131na, t\\u00fcm hukuk metinlerini defalarca okuyup onu \\u00e7al\\u0131\\u015ft\\u0131rarak k\\u0131z\\u0131n\\u0131n 4 y\\u0131lda fak\\u00fclteyi bitirmesini sa\\u011flam\\u0131\\u015f.\\n\\nY\\u0131l\\u0131n annesi bence.\\n\\nS\\u00f6z\\u00fcn bitti\\u011fi yer\\u2026 Yer: Sakarya \\u00dcniversitesi\\u2026 pic.twitter.com/1AYRC0Z4YY \\u2014 Havva Ko\\u00e7 (@Kochavva) July 11, 2018\\n\\nSA\\u00dc Hukuk Fak\\u00fcltesi Dekan\\u0131 Prof. Dr. Mahmut Bilen de tweet atarak bu g\\u00fczel haberi duyurdu\\n\\nSA\\u00dc Hukukta dereceye giren \\u00f6\\u011frencilerimiz d\\u0131\\u015f\\u0131nda Berru Merve KUL g\\u00f6rme engelli \\u00f6\\u011frencimiz 4 y\\u0131lda hukuk e\\u011fitimini tamamlayarak mezun oldu. Evde b\\u00fct\\u00fcn hukuk metinlerini k\\u0131z\\u0131na okuyarak s\\u0131navlara haz\\u0131rlanmas\\u0131nda gayreti olan Annesine de fak\\u00fcltemizin fahri mezunu olarak \\u00f6d\\u00fcl verdik https://t.co/Me8Q55r2pc \\u2014 Mahmut Bilen (@Bilenmah) July 5, 2018\\n\\nKaynak; 1\"\n        ],\n        \"semantic_type\": \"\",\n        \"description\": \"\"\n      }\n    },\n    {\n      \"column\": \"url\",\n      \"properties\": {\n        \"dtype\": \"string\",\n        \"num_unique_values\": 10,\n        \"samples\": [\n          \"https://www.nur.kz/1746113-mat-brosila-mladenca-na-obocine-dorogi-v-sportivnoj-sumke-v-turkestanskoj-oblasti.html\",\n          \"https://listelist.com/sakarya-gorme-engelli-anne-mezun/\"\n        ],\n        \"semantic_type\": \"\",\n        \"description\": \"\"\n      }\n    },\n    {\n      \"column\": \"predicted_sentiment\",\n      \"properties\": {\n        \"dtype\": \"category\",\n        \"num_unique_values\": 3,\n        \"samples\": [\n          \"positive\",\n          \"neutral\"\n        ],\n        \"semantic_type\": \"\",\n        \"description\": \"\"\n      }\n    },\n    {\n      \"column\": \"predicted_sentiment_compound\",\n      \"properties\": {\n        \"dtype\": \"category\",\n        \"num_unique_values\": 3,\n        \"samples\": [\n          \"positive\",\n          \"neutral\"\n        ],\n        \"semantic_type\": \"\",\n        \"description\": \"\"\n      }\n    }\n  ]\n}",
              "type": "dataframe"
            },
            "text/html": [
              "\n",
              "  <div id=\"df-5190e3af-a47a-424f-b646-4f9373550eb0\" class=\"colab-df-container\">\n",
              "    <div>\n",
              "<style scoped>\n",
              "    .dataframe tbody tr th:only-of-type {\n",
              "        vertical-align: middle;\n",
              "    }\n",
              "\n",
              "    .dataframe tbody tr th {\n",
              "        vertical-align: top;\n",
              "    }\n",
              "\n",
              "    .dataframe thead th {\n",
              "        text-align: right;\n",
              "    }\n",
              "</style>\n",
              "<table border=\"1\" class=\"dataframe\">\n",
              "  <thead>\n",
              "    <tr style=\"text-align: right;\">\n",
              "      <th></th>\n",
              "      <th>news_title</th>\n",
              "      <th>reddit_title</th>\n",
              "      <th>sentiment</th>\n",
              "      <th>text</th>\n",
              "      <th>url</th>\n",
              "      <th>predicted_sentiment</th>\n",
              "      <th>predicted_sentiment_compound</th>\n",
              "    </tr>\n",
              "  </thead>\n",
              "  <tbody>\n",
              "    <tr>\n",
              "      <th>4</th>\n",
              "      <td>Ingen barn døde i trafikken i 2019</td>\n",
              "      <td>No children died in traffic accidents in Norwa...</td>\n",
              "      <td>positive</td>\n",
              "      <td>I 1970 døde det 560 mennesker i den norske tra...</td>\n",
              "      <td>https://www.nrk.no/trondelag/ingen-barn-dode-i...</td>\n",
              "      <td>positive</td>\n",
              "      <td>positive</td>\n",
              "    </tr>\n",
              "    <tr>\n",
              "      <th>63</th>\n",
              "      <td>Görme Engelli Kızına 4 Yıl Boyunca Notlarını O...</td>\n",
              "      <td>Turkish mom who read lecture notes for four ye...</td>\n",
              "      <td>positive</td>\n",
              "      <td>Üniversite birçok öğrenci için kazandıktan son...</td>\n",
              "      <td>https://listelist.com/sakarya-gorme-engelli-an...</td>\n",
              "      <td>neutral</td>\n",
              "      <td>neutral</td>\n",
              "    </tr>\n",
              "    <tr>\n",
              "      <th>104</th>\n",
              "      <td>Incendie à Notre-Dame : la famille Pinault déb...</td>\n",
              "      <td>French billionaire François-Henri Pinault pled...</td>\n",
              "      <td>positive</td>\n",
              "      <td>La famille Pinault va débloquer cent millions ...</td>\n",
              "      <td>http://www.lefigaro.fr/flash-actu/notre-dame-d...</td>\n",
              "      <td>neutral</td>\n",
              "      <td>neutral</td>\n",
              "    </tr>\n",
              "    <tr>\n",
              "      <th>159</th>\n",
              "      <td>Монголия приняла меры по облегчению положения ...</td>\n",
              "      <td>Mongolia will pay for electricity, water, heat...</td>\n",
              "      <td>positive</td>\n",
              "      <td>13 декабря состоялось внеочередное заседание к...</td>\n",
              "      <td>http://www.mongolnow.com/mongoliya-prinyala-me...</td>\n",
              "      <td>neutral</td>\n",
              "      <td>neutral</td>\n",
              "    </tr>\n",
              "    <tr>\n",
              "      <th>187</th>\n",
              "      <td>Natale: 94enne solo a casa chiama Cc per fare ...</td>\n",
              "      <td>94 years old man calls the police: \"I got ever...</td>\n",
              "      <td>positive</td>\n",
              "      <td>(ANSA) - BOLOGNA, 25 DIC - Ha telefonato ai Ca...</td>\n",
              "      <td>https://www.ansa.it/amp/emiliaromagna/notizie/...</td>\n",
              "      <td>neutral</td>\n",
              "      <td>neutral</td>\n",
              "    </tr>\n",
              "    <tr>\n",
              "      <th>458</th>\n",
              "      <td>Coronavirus-Pandemie: Bosch erfindet eigenen C...</td>\n",
              "      <td>German company Bosch produces 95% accurate tes...</td>\n",
              "      <td>positive</td>\n",
              "      <td>Schneller und sicherer auf das Virus testen – ...</td>\n",
              "      <td>https://www.faz.net/aktuell/wirtschaft/digitec...</td>\n",
              "      <td>negative</td>\n",
              "      <td>negative</td>\n",
              "    </tr>\n",
              "    <tr>\n",
              "      <th>538</th>\n",
              "      <td>Coronavirus, a Rimini guarisce anziano di 101 ...</td>\n",
              "      <td>101 year old man, born during the Spanish flu,...</td>\n",
              "      <td>positive</td>\n",
              "      <td>Nemmeno a 101 anni il futuro è scritto.Non lo ...</td>\n",
              "      <td>http://www.today.it/attualita/coronavirus-guar...</td>\n",
              "      <td>negative</td>\n",
              "      <td>negative</td>\n",
              "    </tr>\n",
              "    <tr>\n",
              "      <th>752</th>\n",
              "      <td>Больше половины краж в Казахстане не раскрываю...</td>\n",
              "      <td>More than half of thefts in Kazakstan are not ...</td>\n",
              "      <td>negative</td>\n",
              "      <td>По данным Министерства внутренних дел, в 2017 ...</td>\n",
              "      <td>https://tengrinews.kz/crime/bolshe-polovinyi-k...</td>\n",
              "      <td>neutral</td>\n",
              "      <td>neutral</td>\n",
              "    </tr>\n",
              "    <tr>\n",
              "      <th>766</th>\n",
              "      <td>Мать бросила младенца на обочине дороги в спор...</td>\n",
              "      <td>Mother threw the baby on the side of the road ...</td>\n",
              "      <td>negative</td>\n",
              "      <td>В Туркестанской области женщина бросила новоро...</td>\n",
              "      <td>https://www.nur.kz/1746113-mat-brosila-mladenc...</td>\n",
              "      <td>neutral</td>\n",
              "      <td>neutral</td>\n",
              "    </tr>\n",
              "    <tr>\n",
              "      <th>771</th>\n",
              "      <td>Издевательства мальчика над женщиной в Капшага...</td>\n",
              "      <td>Bullying of a boy over a woman in Kapshagai: t...</td>\n",
              "      <td>negative</td>\n",
              "      <td>В ДВД Алматинской области прокомментировали ви...</td>\n",
              "      <td>https://tengrinews.kz/kazakhstan_news/izdevate...</td>\n",
              "      <td>neutral</td>\n",
              "      <td>neutral</td>\n",
              "    </tr>\n",
              "  </tbody>\n",
              "</table>\n",
              "</div>\n",
              "    <div class=\"colab-df-buttons\">\n",
              "\n",
              "  <div class=\"colab-df-container\">\n",
              "    <button class=\"colab-df-convert\" onclick=\"convertToInteractive('df-5190e3af-a47a-424f-b646-4f9373550eb0')\"\n",
              "            title=\"Convert this dataframe to an interactive table.\"\n",
              "            style=\"display:none;\">\n",
              "\n",
              "  <svg xmlns=\"http://www.w3.org/2000/svg\" height=\"24px\" viewBox=\"0 -960 960 960\">\n",
              "    <path d=\"M120-120v-720h720v720H120Zm60-500h600v-160H180v160Zm220 220h160v-160H400v160Zm0 220h160v-160H400v160ZM180-400h160v-160H180v160Zm440 0h160v-160H620v160ZM180-180h160v-160H180v160Zm440 0h160v-160H620v160Z\"/>\n",
              "  </svg>\n",
              "    </button>\n",
              "\n",
              "  <style>\n",
              "    .colab-df-container {\n",
              "      display:flex;\n",
              "      gap: 12px;\n",
              "    }\n",
              "\n",
              "    .colab-df-convert {\n",
              "      background-color: #E8F0FE;\n",
              "      border: none;\n",
              "      border-radius: 50%;\n",
              "      cursor: pointer;\n",
              "      display: none;\n",
              "      fill: #1967D2;\n",
              "      height: 32px;\n",
              "      padding: 0 0 0 0;\n",
              "      width: 32px;\n",
              "    }\n",
              "\n",
              "    .colab-df-convert:hover {\n",
              "      background-color: #E2EBFA;\n",
              "      box-shadow: 0px 1px 2px rgba(60, 64, 67, 0.3), 0px 1px 3px 1px rgba(60, 64, 67, 0.15);\n",
              "      fill: #174EA6;\n",
              "    }\n",
              "\n",
              "    .colab-df-buttons div {\n",
              "      margin-bottom: 4px;\n",
              "    }\n",
              "\n",
              "    [theme=dark] .colab-df-convert {\n",
              "      background-color: #3B4455;\n",
              "      fill: #D2E3FC;\n",
              "    }\n",
              "\n",
              "    [theme=dark] .colab-df-convert:hover {\n",
              "      background-color: #434B5C;\n",
              "      box-shadow: 0px 1px 3px 1px rgba(0, 0, 0, 0.15);\n",
              "      filter: drop-shadow(0px 1px 2px rgba(0, 0, 0, 0.3));\n",
              "      fill: #FFFFFF;\n",
              "    }\n",
              "  </style>\n",
              "\n",
              "    <script>\n",
              "      const buttonEl =\n",
              "        document.querySelector('#df-5190e3af-a47a-424f-b646-4f9373550eb0 button.colab-df-convert');\n",
              "      buttonEl.style.display =\n",
              "        google.colab.kernel.accessAllowed ? 'block' : 'none';\n",
              "\n",
              "      async function convertToInteractive(key) {\n",
              "        const element = document.querySelector('#df-5190e3af-a47a-424f-b646-4f9373550eb0');\n",
              "        const dataTable =\n",
              "          await google.colab.kernel.invokeFunction('convertToInteractive',\n",
              "                                                    [key], {});\n",
              "        if (!dataTable) return;\n",
              "\n",
              "        const docLinkHtml = 'Like what you see? Visit the ' +\n",
              "          '<a target=\"_blank\" href=https://colab.research.google.com/notebooks/data_table.ipynb>data table notebook</a>'\n",
              "          + ' to learn more about interactive tables.';\n",
              "        element.innerHTML = '';\n",
              "        dataTable['output_type'] = 'display_data';\n",
              "        await google.colab.output.renderOutput(dataTable, element);\n",
              "        const docLink = document.createElement('div');\n",
              "        docLink.innerHTML = docLinkHtml;\n",
              "        element.appendChild(docLink);\n",
              "      }\n",
              "    </script>\n",
              "  </div>\n",
              "\n",
              "\n",
              "<div id=\"df-b6ae1e6b-6169-4fbf-89c3-29b91f0758af\">\n",
              "  <button class=\"colab-df-quickchart\" onclick=\"quickchart('df-b6ae1e6b-6169-4fbf-89c3-29b91f0758af')\"\n",
              "            title=\"Suggest charts\"\n",
              "            style=\"display:none;\">\n",
              "\n",
              "<svg xmlns=\"http://www.w3.org/2000/svg\" height=\"24px\"viewBox=\"0 0 24 24\"\n",
              "     width=\"24px\">\n",
              "    <g>\n",
              "        <path d=\"M19 3H5c-1.1 0-2 .9-2 2v14c0 1.1.9 2 2 2h14c1.1 0 2-.9 2-2V5c0-1.1-.9-2-2-2zM9 17H7v-7h2v7zm4 0h-2V7h2v10zm4 0h-2v-4h2v4z\"/>\n",
              "    </g>\n",
              "</svg>\n",
              "  </button>\n",
              "\n",
              "<style>\n",
              "  .colab-df-quickchart {\n",
              "      --bg-color: #E8F0FE;\n",
              "      --fill-color: #1967D2;\n",
              "      --hover-bg-color: #E2EBFA;\n",
              "      --hover-fill-color: #174EA6;\n",
              "      --disabled-fill-color: #AAA;\n",
              "      --disabled-bg-color: #DDD;\n",
              "  }\n",
              "\n",
              "  [theme=dark] .colab-df-quickchart {\n",
              "      --bg-color: #3B4455;\n",
              "      --fill-color: #D2E3FC;\n",
              "      --hover-bg-color: #434B5C;\n",
              "      --hover-fill-color: #FFFFFF;\n",
              "      --disabled-bg-color: #3B4455;\n",
              "      --disabled-fill-color: #666;\n",
              "  }\n",
              "\n",
              "  .colab-df-quickchart {\n",
              "    background-color: var(--bg-color);\n",
              "    border: none;\n",
              "    border-radius: 50%;\n",
              "    cursor: pointer;\n",
              "    display: none;\n",
              "    fill: var(--fill-color);\n",
              "    height: 32px;\n",
              "    padding: 0;\n",
              "    width: 32px;\n",
              "  }\n",
              "\n",
              "  .colab-df-quickchart:hover {\n",
              "    background-color: var(--hover-bg-color);\n",
              "    box-shadow: 0 1px 2px rgba(60, 64, 67, 0.3), 0 1px 3px 1px rgba(60, 64, 67, 0.15);\n",
              "    fill: var(--button-hover-fill-color);\n",
              "  }\n",
              "\n",
              "  .colab-df-quickchart-complete:disabled,\n",
              "  .colab-df-quickchart-complete:disabled:hover {\n",
              "    background-color: var(--disabled-bg-color);\n",
              "    fill: var(--disabled-fill-color);\n",
              "    box-shadow: none;\n",
              "  }\n",
              "\n",
              "  .colab-df-spinner {\n",
              "    border: 2px solid var(--fill-color);\n",
              "    border-color: transparent;\n",
              "    border-bottom-color: var(--fill-color);\n",
              "    animation:\n",
              "      spin 1s steps(1) infinite;\n",
              "  }\n",
              "\n",
              "  @keyframes spin {\n",
              "    0% {\n",
              "      border-color: transparent;\n",
              "      border-bottom-color: var(--fill-color);\n",
              "      border-left-color: var(--fill-color);\n",
              "    }\n",
              "    20% {\n",
              "      border-color: transparent;\n",
              "      border-left-color: var(--fill-color);\n",
              "      border-top-color: var(--fill-color);\n",
              "    }\n",
              "    30% {\n",
              "      border-color: transparent;\n",
              "      border-left-color: var(--fill-color);\n",
              "      border-top-color: var(--fill-color);\n",
              "      border-right-color: var(--fill-color);\n",
              "    }\n",
              "    40% {\n",
              "      border-color: transparent;\n",
              "      border-right-color: var(--fill-color);\n",
              "      border-top-color: var(--fill-color);\n",
              "    }\n",
              "    60% {\n",
              "      border-color: transparent;\n",
              "      border-right-color: var(--fill-color);\n",
              "    }\n",
              "    80% {\n",
              "      border-color: transparent;\n",
              "      border-right-color: var(--fill-color);\n",
              "      border-bottom-color: var(--fill-color);\n",
              "    }\n",
              "    90% {\n",
              "      border-color: transparent;\n",
              "      border-bottom-color: var(--fill-color);\n",
              "    }\n",
              "  }\n",
              "</style>\n",
              "\n",
              "  <script>\n",
              "    async function quickchart(key) {\n",
              "      const quickchartButtonEl =\n",
              "        document.querySelector('#' + key + ' button');\n",
              "      quickchartButtonEl.disabled = true;  // To prevent multiple clicks.\n",
              "      quickchartButtonEl.classList.add('colab-df-spinner');\n",
              "      try {\n",
              "        const charts = await google.colab.kernel.invokeFunction(\n",
              "            'suggestCharts', [key], {});\n",
              "      } catch (error) {\n",
              "        console.error('Error during call to suggestCharts:', error);\n",
              "      }\n",
              "      quickchartButtonEl.classList.remove('colab-df-spinner');\n",
              "      quickchartButtonEl.classList.add('colab-df-quickchart-complete');\n",
              "    }\n",
              "    (() => {\n",
              "      let quickchartButtonEl =\n",
              "        document.querySelector('#df-b6ae1e6b-6169-4fbf-89c3-29b91f0758af button');\n",
              "      quickchartButtonEl.style.display =\n",
              "        google.colab.kernel.accessAllowed ? 'block' : 'none';\n",
              "    })();\n",
              "  </script>\n",
              "</div>\n",
              "    </div>\n",
              "  </div>\n"
            ],
            "text/plain": [
              "                                            news_title  \\\n",
              "4                   Ingen barn døde i trafikken i 2019   \n",
              "63   Görme Engelli Kızına 4 Yıl Boyunca Notlarını O...   \n",
              "104  Incendie à Notre-Dame : la famille Pinault déb...   \n",
              "159  Монголия приняла меры по облегчению положения ...   \n",
              "187  Natale: 94enne solo a casa chiama Cc per fare ...   \n",
              "458  Coronavirus-Pandemie: Bosch erfindet eigenen C...   \n",
              "538  Coronavirus, a Rimini guarisce anziano di 101 ...   \n",
              "752  Больше половины краж в Казахстане не раскрываю...   \n",
              "766  Мать бросила младенца на обочине дороги в спор...   \n",
              "771  Издевательства мальчика над женщиной в Капшага...   \n",
              "\n",
              "                                          reddit_title sentiment  \\\n",
              "4    No children died in traffic accidents in Norwa...  positive   \n",
              "63   Turkish mom who read lecture notes for four ye...  positive   \n",
              "104  French billionaire François-Henri Pinault pled...  positive   \n",
              "159  Mongolia will pay for electricity, water, heat...  positive   \n",
              "187  94 years old man calls the police: \"I got ever...  positive   \n",
              "458  German company Bosch produces 95% accurate tes...  positive   \n",
              "538  101 year old man, born during the Spanish flu,...  positive   \n",
              "752  More than half of thefts in Kazakstan are not ...  negative   \n",
              "766  Mother threw the baby on the side of the road ...  negative   \n",
              "771  Bullying of a boy over a woman in Kapshagai: t...  negative   \n",
              "\n",
              "                                                  text  \\\n",
              "4    I 1970 døde det 560 mennesker i den norske tra...   \n",
              "63   Üniversite birçok öğrenci için kazandıktan son...   \n",
              "104  La famille Pinault va débloquer cent millions ...   \n",
              "159  13 декабря состоялось внеочередное заседание к...   \n",
              "187  (ANSA) - BOLOGNA, 25 DIC - Ha telefonato ai Ca...   \n",
              "458  Schneller und sicherer auf das Virus testen – ...   \n",
              "538  Nemmeno a 101 anni il futuro è scritto.Non lo ...   \n",
              "752  По данным Министерства внутренних дел, в 2017 ...   \n",
              "766  В Туркестанской области женщина бросила новоро...   \n",
              "771  В ДВД Алматинской области прокомментировали ви...   \n",
              "\n",
              "                                                   url predicted_sentiment  \\\n",
              "4    https://www.nrk.no/trondelag/ingen-barn-dode-i...            positive   \n",
              "63   https://listelist.com/sakarya-gorme-engelli-an...             neutral   \n",
              "104  http://www.lefigaro.fr/flash-actu/notre-dame-d...             neutral   \n",
              "159  http://www.mongolnow.com/mongoliya-prinyala-me...             neutral   \n",
              "187  https://www.ansa.it/amp/emiliaromagna/notizie/...             neutral   \n",
              "458  https://www.faz.net/aktuell/wirtschaft/digitec...            negative   \n",
              "538  http://www.today.it/attualita/coronavirus-guar...            negative   \n",
              "752  https://tengrinews.kz/crime/bolshe-polovinyi-k...             neutral   \n",
              "766  https://www.nur.kz/1746113-mat-brosila-mladenc...             neutral   \n",
              "771  https://tengrinews.kz/kazakhstan_news/izdevate...             neutral   \n",
              "\n",
              "    predicted_sentiment_compound  \n",
              "4                       positive  \n",
              "63                       neutral  \n",
              "104                      neutral  \n",
              "159                      neutral  \n",
              "187                      neutral  \n",
              "458                     negative  \n",
              "538                     negative  \n",
              "752                      neutral  \n",
              "766                      neutral  \n",
              "771                      neutral  "
            ]
          },
          "execution_count": 125,
          "metadata": {},
          "output_type": "execute_result"
        }
      ],
      "source": [
        "test_ns_data2[~test_ns_data2['text'].apply(is_english)] #seems to perform good for longer texts"
      ]
    },
    {
      "cell_type": "markdown",
      "metadata": {
        "id": "-ioKszIqPMTD"
      },
      "source": [
        "### tse dataset"
      ]
    },
    {
      "cell_type": "code",
      "execution_count": null,
      "metadata": {
        "id": "EMzZWuuPO7zf"
      },
      "outputs": [],
      "source": [
        "test_tse_data_english=test_tse_data[test_tse_data['text'].apply(is_english)]"
      ]
    },
    {
      "cell_type": "code",
      "execution_count": null,
      "metadata": {
        "id": "emDLsy3lPqOy"
      },
      "outputs": [],
      "source": [
        "accuracy_tse_compound_english=np.sum(test_tse_data_english['sentiment']==test_tse_data_english['predicted_sentiment_compound'])/test_tse_data_english.shape[0]"
      ]
    },
    {
      "cell_type": "code",
      "execution_count": null,
      "metadata": {
        "id": "iwBF7sIVQETs"
      },
      "outputs": [],
      "source": [
        "ba_tse_compound_english=balanced_accuracy_score(test_tse_data_english['sentiment'], test_tse_data_english['predicted_sentiment_compound'])"
      ]
    },
    {
      "cell_type": "code",
      "execution_count": null,
      "metadata": {
        "colab": {
          "base_uri": "https://localhost:8080/"
        },
        "id": "teqZbYE5QifJ",
        "outputId": "b0e89dbd-15db-4ff9-a063-4db0ccacd44d"
      },
      "outputs": [
        {
          "data": {
            "text/plain": [
              "(0.6047370039987696, 0.59453124805803)"
            ]
          },
          "execution_count": 129,
          "metadata": {},
          "output_type": "execute_result"
        }
      ],
      "source": [
        "accuracy_tse_compound_english, ba_tse_compound_english #in this dataset nothing changes"
      ]
    },
    {
      "cell_type": "markdown",
      "metadata": {
        "id": "H6OWkHQA3s0b"
      },
      "source": [
        "# test on ACTAWARE data - chosen subset"
      ]
    },
    {
      "cell_type": "code",
      "execution_count": null,
      "metadata": {
        "id": "-ETgaBQn3vGW"
      },
      "outputs": [],
      "source": [
        "path_list=('/source_repository/chosen_articles.txt')\n",
        "df_my=pd.read_csv(\"/source_repository/articles_categories_my_gt_2.csv\", sep=';')\n",
        "with open(path_list, 'r') as file:\n",
        "  list_of_contents_new = file.readlines()"
      ]
    },
    {
      "cell_type": "code",
      "execution_count": null,
      "metadata": {
        "colab": {
          "base_uri": "https://localhost:8080/",
          "height": 186
        },
        "id": "XUuZQFlx7m8n",
        "outputId": "a7f4d4b3-08e6-4071-bf07-f343f5f0b3f0"
      },
      "outputs": [
        {
          "data": {
            "text/html": [
              "<div style=\"max-width:800px; border: 1px solid var(--colab-border-color);\"><style>\n",
              "      pre.function-repr-contents {\n",
              "        overflow-x: auto;\n",
              "        padding: 8px 12px;\n",
              "        max-height: 500px;\n",
              "      }\n",
              "\n",
              "      pre.function-repr-contents.function-repr-contents-collapsed {\n",
              "        cursor: pointer;\n",
              "        max-height: 100px;\n",
              "      }\n",
              "    </style>\n",
              "    <pre style=\"white-space: initial; background:\n",
              "         var(--colab-secondary-surface-color); padding: 8px 12px;\n",
              "         border-bottom: 1px solid var(--colab-border-color);\"><b>spacy.pipeline.functions.merge_noun_chunks</b><br/>def merge_noun_chunks(doc: Doc) -&gt; Doc</pre><pre class=\"function-repr-contents function-repr-contents-collapsed\" style=\"\"><a class=\"filepath\" style=\"display:none\" href=\"#\">/usr/local/lib/python3.10/dist-packages/spacy/pipeline/functions.py</a>Merge noun chunks into a single token.\n",
              "\n",
              "doc (Doc): The Doc object.\n",
              "RETURNS (Doc): The Doc object with merged noun chunks.\n",
              "\n",
              "DOCS: https://spacy.io/api/pipeline-functions#merge_noun_chunks</pre>\n",
              "      <script>\n",
              "      if (google.colab.kernel.accessAllowed && google.colab.files && google.colab.files.view) {\n",
              "        for (const element of document.querySelectorAll('.filepath')) {\n",
              "          element.style.display = 'block'\n",
              "          element.onclick = (event) => {\n",
              "            event.preventDefault();\n",
              "            event.stopPropagation();\n",
              "            google.colab.files.view(element.textContent, 13);\n",
              "          };\n",
              "        }\n",
              "      }\n",
              "      for (const element of document.querySelectorAll('.function-repr-contents')) {\n",
              "        element.onclick = (event) => {\n",
              "          event.preventDefault();\n",
              "          event.stopPropagation();\n",
              "          element.classList.toggle('function-repr-contents-collapsed');\n",
              "        };\n",
              "      }\n",
              "      </script>\n",
              "      </div>"
            ],
            "text/plain": [
              "<function spacy.pipeline.functions.merge_noun_chunks(doc: spacy.tokens.doc.Doc) -> spacy.tokens.doc.Doc>"
            ]
          },
          "execution_count": 16,
          "metadata": {},
          "output_type": "execute_result"
        }
      ],
      "source": [
        "nlp = spacy.load('en_core_web_sm')\n",
        "nlp.add_pipe(\"merge_noun_chunks\")"
      ]
    },
    {
      "cell_type": "code",
      "execution_count": null,
      "metadata": {
        "colab": {
          "base_uri": "https://localhost:8080/",
          "height": 206
        },
        "id": "ieEau9me4arK",
        "outputId": "aa723305-d96f-49a4-c6fd-c655760d4e39"
      },
      "outputs": [
        {
          "data": {
            "application/vnd.google.colaboratory.intrinsic+json": {
              "summary": "{\n  \"name\": \"actaware_df\",\n  \"rows\": 100,\n  \"fields\": [\n    {\n      \"column\": \"Text\",\n      \"properties\": {\n        \"dtype\": \"string\",\n        \"num_unique_values\": 100,\n        \"samples\": [\n          \"The amount of erosion along the coastline here has been unreal. The sea is getting closer and closer to the village,\\\"\\\" he said. \\\"\\\"We already have problems with emergency services' lack of access to the community when there are floods or the spring tides - they can't get in. \\\"\\\"As and when the sea breaks through, then Kingston is going to be cut off. \\\"\\\"The houses will become worthless, people won't be able to sell houses, won't be able to fulfil mortgages.\\\"\\\" He recalled seeing houses lost to the Spey when he was 10 years old. \\\"\\\"The river came past here, there was a gathering because everyone anticipated the house was going to go. \\\"\\\"It was just in slow motion - the edge nearest the river went down, and the back of the house just slowly slid into the river like a boat that was being launched.\\\"\\\" Kingston's geographical position at the mouth of the River Spey saw a huge shipbuilding industry build up there in the late 18th Century. Timber would be floated down the Spey from forests upstream to multiple shipyards based at the mouth of the river. But the industry which made the location what it was would not be viable now given the changes to the river and the coast.\\n\",\n          \"Toyota will introduce six electric vehicles in Europe by 2026, it announced this week. That will include a production version of two concept cars \\u2014 a compact urban SUV next year and a sport crossover in 2025. Toyota is also planning to introduce the first cars with new and more efficient 'solid state' batteries from 2027-28 which can recharge to 80 per cent in just ten minutes. All electric: Toyota plan a production version of two concept cars - a compact urban SUV next year and a sport crossover in 2025 I am honoured to have been named AA Campaigner For Motoring at the prestigious Guild of Motoring Writers' annual awards dinner held at the RAC Club in London's Pall Mall on Thursday night. Judges praised a series of Daily Mail articles including 'the story of a woman being chased by debt collectors acting for TfL over an alleged traffic infringement', and reports on controversial 20mph zones and potholed roads.\\n\",\n          \"Amazon was quieter about its A.I. plans until more recently. In September, it announced that it would invest up to $4 billion in Anthropic, an A.I. start-up that competes with OpenAI, and develop advanced computing chips together. Amazon also introduced a platform this year that allows customers to have access to different A.I. systems. As the leading provider of cloud computing, Amazon already has business customers storing vast amounts of information on its cloud servers. Companies were interested in using chatbots in their workplaces, Mr. Selipsky said, but they wanted to make sure the assistants would safeguard those hoards of corporate data and keep their information private. Many companies \\u201ctold me that they had banned these A.I. assistants from the enterprise because of the security and privacy concerns,\\u201d he said. In response, Amazon built Q to be more secure and private than a consumer chatbot, Mr. Selipsky said. Amazon Q, for example, can have the same security permissions that business customers have already set up for their users. At a company where an employee in marketing may not have access to sensitive financial forecasts, Q can emulate that by not providing that employee with such financial data when asked.\\n\"\n        ],\n        \"semantic_type\": \"\",\n        \"description\": \"\"\n      }\n    },\n    {\n      \"column\": \"Sentiment\",\n      \"properties\": {\n        \"dtype\": \"object\",\n        \"num_unique_values\": 1,\n        \"samples\": [\n          \"\"\n        ],\n        \"semantic_type\": \"\",\n        \"description\": \"\"\n      }\n    }\n  ]\n}",
              "type": "dataframe",
              "variable_name": "actaware_df"
            },
            "text/html": [
              "\n",
              "  <div id=\"df-7a38512a-61aa-4875-8f36-0b0303fa1270\" class=\"colab-df-container\">\n",
              "    <div>\n",
              "<style scoped>\n",
              "    .dataframe tbody tr th:only-of-type {\n",
              "        vertical-align: middle;\n",
              "    }\n",
              "\n",
              "    .dataframe tbody tr th {\n",
              "        vertical-align: top;\n",
              "    }\n",
              "\n",
              "    .dataframe thead th {\n",
              "        text-align: right;\n",
              "    }\n",
              "</style>\n",
              "<table border=\"1\" class=\"dataframe\">\n",
              "  <thead>\n",
              "    <tr style=\"text-align: right;\">\n",
              "      <th></th>\n",
              "      <th>Text</th>\n",
              "      <th>Sentiment</th>\n",
              "    </tr>\n",
              "  </thead>\n",
              "  <tbody>\n",
              "    <tr>\n",
              "      <th>0</th>\n",
              "      <td>People work in the Amazon Fulfillment Center i...</td>\n",
              "      <td></td>\n",
              "    </tr>\n",
              "    <tr>\n",
              "      <th>1</th>\n",
              "      <td>A federal agency is seeking to force Starbucks...</td>\n",
              "      <td></td>\n",
              "    </tr>\n",
              "    <tr>\n",
              "      <th>2</th>\n",
              "      <td>You might have seen a new energy drink on Amaz...</td>\n",
              "      <td></td>\n",
              "    </tr>\n",
              "    <tr>\n",
              "      <th>3</th>\n",
              "      <td>The BBC's director-general has tried to calm t...</td>\n",
              "      <td></td>\n",
              "    </tr>\n",
              "    <tr>\n",
              "      <th>4</th>\n",
              "      <td>Amazon is running a competition to give its br...</td>\n",
              "      <td></td>\n",
              "    </tr>\n",
              "  </tbody>\n",
              "</table>\n",
              "</div>\n",
              "    <div class=\"colab-df-buttons\">\n",
              "\n",
              "  <div class=\"colab-df-container\">\n",
              "    <button class=\"colab-df-convert\" onclick=\"convertToInteractive('df-7a38512a-61aa-4875-8f36-0b0303fa1270')\"\n",
              "            title=\"Convert this dataframe to an interactive table.\"\n",
              "            style=\"display:none;\">\n",
              "\n",
              "  <svg xmlns=\"http://www.w3.org/2000/svg\" height=\"24px\" viewBox=\"0 -960 960 960\">\n",
              "    <path d=\"M120-120v-720h720v720H120Zm60-500h600v-160H180v160Zm220 220h160v-160H400v160Zm0 220h160v-160H400v160ZM180-400h160v-160H180v160Zm440 0h160v-160H620v160ZM180-180h160v-160H180v160Zm440 0h160v-160H620v160Z\"/>\n",
              "  </svg>\n",
              "    </button>\n",
              "\n",
              "  <style>\n",
              "    .colab-df-container {\n",
              "      display:flex;\n",
              "      gap: 12px;\n",
              "    }\n",
              "\n",
              "    .colab-df-convert {\n",
              "      background-color: #E8F0FE;\n",
              "      border: none;\n",
              "      border-radius: 50%;\n",
              "      cursor: pointer;\n",
              "      display: none;\n",
              "      fill: #1967D2;\n",
              "      height: 32px;\n",
              "      padding: 0 0 0 0;\n",
              "      width: 32px;\n",
              "    }\n",
              "\n",
              "    .colab-df-convert:hover {\n",
              "      background-color: #E2EBFA;\n",
              "      box-shadow: 0px 1px 2px rgba(60, 64, 67, 0.3), 0px 1px 3px 1px rgba(60, 64, 67, 0.15);\n",
              "      fill: #174EA6;\n",
              "    }\n",
              "\n",
              "    .colab-df-buttons div {\n",
              "      margin-bottom: 4px;\n",
              "    }\n",
              "\n",
              "    [theme=dark] .colab-df-convert {\n",
              "      background-color: #3B4455;\n",
              "      fill: #D2E3FC;\n",
              "    }\n",
              "\n",
              "    [theme=dark] .colab-df-convert:hover {\n",
              "      background-color: #434B5C;\n",
              "      box-shadow: 0px 1px 3px 1px rgba(0, 0, 0, 0.15);\n",
              "      filter: drop-shadow(0px 1px 2px rgba(0, 0, 0, 0.3));\n",
              "      fill: #FFFFFF;\n",
              "    }\n",
              "  </style>\n",
              "\n",
              "    <script>\n",
              "      const buttonEl =\n",
              "        document.querySelector('#df-7a38512a-61aa-4875-8f36-0b0303fa1270 button.colab-df-convert');\n",
              "      buttonEl.style.display =\n",
              "        google.colab.kernel.accessAllowed ? 'block' : 'none';\n",
              "\n",
              "      async function convertToInteractive(key) {\n",
              "        const element = document.querySelector('#df-7a38512a-61aa-4875-8f36-0b0303fa1270');\n",
              "        const dataTable =\n",
              "          await google.colab.kernel.invokeFunction('convertToInteractive',\n",
              "                                                    [key], {});\n",
              "        if (!dataTable) return;\n",
              "\n",
              "        const docLinkHtml = 'Like what you see? Visit the ' +\n",
              "          '<a target=\"_blank\" href=https://colab.research.google.com/notebooks/data_table.ipynb>data table notebook</a>'\n",
              "          + ' to learn more about interactive tables.';\n",
              "        element.innerHTML = '';\n",
              "        dataTable['output_type'] = 'display_data';\n",
              "        await google.colab.output.renderOutput(dataTable, element);\n",
              "        const docLink = document.createElement('div');\n",
              "        docLink.innerHTML = docLinkHtml;\n",
              "        element.appendChild(docLink);\n",
              "      }\n",
              "    </script>\n",
              "  </div>\n",
              "\n",
              "\n",
              "<div id=\"df-fb0527f7-37de-46d4-8ccc-5f640b7b069e\">\n",
              "  <button class=\"colab-df-quickchart\" onclick=\"quickchart('df-fb0527f7-37de-46d4-8ccc-5f640b7b069e')\"\n",
              "            title=\"Suggest charts\"\n",
              "            style=\"display:none;\">\n",
              "\n",
              "<svg xmlns=\"http://www.w3.org/2000/svg\" height=\"24px\"viewBox=\"0 0 24 24\"\n",
              "     width=\"24px\">\n",
              "    <g>\n",
              "        <path d=\"M19 3H5c-1.1 0-2 .9-2 2v14c0 1.1.9 2 2 2h14c1.1 0 2-.9 2-2V5c0-1.1-.9-2-2-2zM9 17H7v-7h2v7zm4 0h-2V7h2v10zm4 0h-2v-4h2v4z\"/>\n",
              "    </g>\n",
              "</svg>\n",
              "  </button>\n",
              "\n",
              "<style>\n",
              "  .colab-df-quickchart {\n",
              "      --bg-color: #E8F0FE;\n",
              "      --fill-color: #1967D2;\n",
              "      --hover-bg-color: #E2EBFA;\n",
              "      --hover-fill-color: #174EA6;\n",
              "      --disabled-fill-color: #AAA;\n",
              "      --disabled-bg-color: #DDD;\n",
              "  }\n",
              "\n",
              "  [theme=dark] .colab-df-quickchart {\n",
              "      --bg-color: #3B4455;\n",
              "      --fill-color: #D2E3FC;\n",
              "      --hover-bg-color: #434B5C;\n",
              "      --hover-fill-color: #FFFFFF;\n",
              "      --disabled-bg-color: #3B4455;\n",
              "      --disabled-fill-color: #666;\n",
              "  }\n",
              "\n",
              "  .colab-df-quickchart {\n",
              "    background-color: var(--bg-color);\n",
              "    border: none;\n",
              "    border-radius: 50%;\n",
              "    cursor: pointer;\n",
              "    display: none;\n",
              "    fill: var(--fill-color);\n",
              "    height: 32px;\n",
              "    padding: 0;\n",
              "    width: 32px;\n",
              "  }\n",
              "\n",
              "  .colab-df-quickchart:hover {\n",
              "    background-color: var(--hover-bg-color);\n",
              "    box-shadow: 0 1px 2px rgba(60, 64, 67, 0.3), 0 1px 3px 1px rgba(60, 64, 67, 0.15);\n",
              "    fill: var(--button-hover-fill-color);\n",
              "  }\n",
              "\n",
              "  .colab-df-quickchart-complete:disabled,\n",
              "  .colab-df-quickchart-complete:disabled:hover {\n",
              "    background-color: var(--disabled-bg-color);\n",
              "    fill: var(--disabled-fill-color);\n",
              "    box-shadow: none;\n",
              "  }\n",
              "\n",
              "  .colab-df-spinner {\n",
              "    border: 2px solid var(--fill-color);\n",
              "    border-color: transparent;\n",
              "    border-bottom-color: var(--fill-color);\n",
              "    animation:\n",
              "      spin 1s steps(1) infinite;\n",
              "  }\n",
              "\n",
              "  @keyframes spin {\n",
              "    0% {\n",
              "      border-color: transparent;\n",
              "      border-bottom-color: var(--fill-color);\n",
              "      border-left-color: var(--fill-color);\n",
              "    }\n",
              "    20% {\n",
              "      border-color: transparent;\n",
              "      border-left-color: var(--fill-color);\n",
              "      border-top-color: var(--fill-color);\n",
              "    }\n",
              "    30% {\n",
              "      border-color: transparent;\n",
              "      border-left-color: var(--fill-color);\n",
              "      border-top-color: var(--fill-color);\n",
              "      border-right-color: var(--fill-color);\n",
              "    }\n",
              "    40% {\n",
              "      border-color: transparent;\n",
              "      border-right-color: var(--fill-color);\n",
              "      border-top-color: var(--fill-color);\n",
              "    }\n",
              "    60% {\n",
              "      border-color: transparent;\n",
              "      border-right-color: var(--fill-color);\n",
              "    }\n",
              "    80% {\n",
              "      border-color: transparent;\n",
              "      border-right-color: var(--fill-color);\n",
              "      border-bottom-color: var(--fill-color);\n",
              "    }\n",
              "    90% {\n",
              "      border-color: transparent;\n",
              "      border-bottom-color: var(--fill-color);\n",
              "    }\n",
              "  }\n",
              "</style>\n",
              "\n",
              "  <script>\n",
              "    async function quickchart(key) {\n",
              "      const quickchartButtonEl =\n",
              "        document.querySelector('#' + key + ' button');\n",
              "      quickchartButtonEl.disabled = true;  // To prevent multiple clicks.\n",
              "      quickchartButtonEl.classList.add('colab-df-spinner');\n",
              "      try {\n",
              "        const charts = await google.colab.kernel.invokeFunction(\n",
              "            'suggestCharts', [key], {});\n",
              "      } catch (error) {\n",
              "        console.error('Error during call to suggestCharts:', error);\n",
              "      }\n",
              "      quickchartButtonEl.classList.remove('colab-df-spinner');\n",
              "      quickchartButtonEl.classList.add('colab-df-quickchart-complete');\n",
              "    }\n",
              "    (() => {\n",
              "      let quickchartButtonEl =\n",
              "        document.querySelector('#df-fb0527f7-37de-46d4-8ccc-5f640b7b069e button');\n",
              "      quickchartButtonEl.style.display =\n",
              "        google.colab.kernel.accessAllowed ? 'block' : 'none';\n",
              "    })();\n",
              "  </script>\n",
              "</div>\n",
              "\n",
              "    </div>\n",
              "  </div>\n"
            ],
            "text/plain": [
              "                                                Text Sentiment\n",
              "0  People work in the Amazon Fulfillment Center i...          \n",
              "1  A federal agency is seeking to force Starbucks...          \n",
              "2  You might have seen a new energy drink on Amaz...          \n",
              "3  The BBC's director-general has tried to calm t...          \n",
              "4  Amazon is running a competition to give its br...          "
            ]
          },
          "execution_count": 17,
          "metadata": {},
          "output_type": "execute_result"
        }
      ],
      "source": [
        "actaware_df=pd.DataFrame({'Text': list_of_contents_new, 'Sentiment': \"\"})\n",
        "actaware_df.head()"
      ]
    },
    {
      "cell_type": "code",
      "execution_count": null,
      "metadata": {
        "colab": {
          "base_uri": "https://localhost:8080/"
        },
        "id": "T0mE-v_d33sF",
        "outputId": "0fb89c1f-5c8a-4dc6-d0be-48a65ea7f4de"
      },
      "outputs": [
        {
          "name": "stdout",
          "output_type": "stream",
          "text": [
            "0\n"
          ]
        }
      ],
      "source": [
        "for i in range(len(list_of_contents_new)):\n",
        "  if i%200==0:\n",
        "    print(i)\n",
        "  text_to_check=list_of_contents_new[i]\n",
        "  actaware_df['Sentiment'][i]=graph_sentiment_analysis(text_to_check, calculate_overall_score=1, nlp=nlp, threshold=0.0, compound=True)"
      ]
    },
    {
      "cell_type": "code",
      "execution_count": null,
      "metadata": {
        "id": "cvLm1haO46Bj"
      },
      "outputs": [],
      "source": [
        "actaware_df.to_csv('/source_repository/actaware_df_with_sentiment_graph_chosen_articles.csv', index=False)"
      ]
    },
    {
      "cell_type": "code",
      "execution_count": null,
      "metadata": {
        "colab": {
          "base_uri": "https://localhost:8080/",
          "height": 206
        },
        "id": "Vb7dYJgY76Ip",
        "outputId": "1855863f-b941-4b1a-b0ca-6f1d3d0fffc2"
      },
      "outputs": [
        {
          "data": {
            "application/vnd.google.colaboratory.intrinsic+json": {
              "summary": "{\n  \"name\": \"actaware_df\",\n  \"rows\": 100,\n  \"fields\": [\n    {\n      \"column\": \"Text\",\n      \"properties\": {\n        \"dtype\": \"string\",\n        \"num_unique_values\": 100,\n        \"samples\": [\n          \"The amount of erosion along the coastline here has been unreal. The sea is getting closer and closer to the village,\\\"\\\" he said. \\\"\\\"We already have problems with emergency services' lack of access to the community when there are floods or the spring tides - they can't get in. \\\"\\\"As and when the sea breaks through, then Kingston is going to be cut off. \\\"\\\"The houses will become worthless, people won't be able to sell houses, won't be able to fulfil mortgages.\\\"\\\" He recalled seeing houses lost to the Spey when he was 10 years old. \\\"\\\"The river came past here, there was a gathering because everyone anticipated the house was going to go. \\\"\\\"It was just in slow motion - the edge nearest the river went down, and the back of the house just slowly slid into the river like a boat that was being launched.\\\"\\\" Kingston's geographical position at the mouth of the River Spey saw a huge shipbuilding industry build up there in the late 18th Century. Timber would be floated down the Spey from forests upstream to multiple shipyards based at the mouth of the river. But the industry which made the location what it was would not be viable now given the changes to the river and the coast.\\n\",\n          \"Toyota will introduce six electric vehicles in Europe by 2026, it announced this week. That will include a production version of two concept cars \\u2014 a compact urban SUV next year and a sport crossover in 2025. Toyota is also planning to introduce the first cars with new and more efficient 'solid state' batteries from 2027-28 which can recharge to 80 per cent in just ten minutes. All electric: Toyota plan a production version of two concept cars - a compact urban SUV next year and a sport crossover in 2025 I am honoured to have been named AA Campaigner For Motoring at the prestigious Guild of Motoring Writers' annual awards dinner held at the RAC Club in London's Pall Mall on Thursday night. Judges praised a series of Daily Mail articles including 'the story of a woman being chased by debt collectors acting for TfL over an alleged traffic infringement', and reports on controversial 20mph zones and potholed roads.\\n\",\n          \"Amazon was quieter about its A.I. plans until more recently. In September, it announced that it would invest up to $4 billion in Anthropic, an A.I. start-up that competes with OpenAI, and develop advanced computing chips together. Amazon also introduced a platform this year that allows customers to have access to different A.I. systems. As the leading provider of cloud computing, Amazon already has business customers storing vast amounts of information on its cloud servers. Companies were interested in using chatbots in their workplaces, Mr. Selipsky said, but they wanted to make sure the assistants would safeguard those hoards of corporate data and keep their information private. Many companies \\u201ctold me that they had banned these A.I. assistants from the enterprise because of the security and privacy concerns,\\u201d he said. In response, Amazon built Q to be more secure and private than a consumer chatbot, Mr. Selipsky said. Amazon Q, for example, can have the same security permissions that business customers have already set up for their users. At a company where an employee in marketing may not have access to sensitive financial forecasts, Q can emulate that by not providing that employee with such financial data when asked.\\n\"\n        ],\n        \"semantic_type\": \"\",\n        \"description\": \"\"\n      }\n    },\n    {\n      \"column\": \"Sentiment\",\n      \"properties\": {\n        \"dtype\": \"category\",\n        \"num_unique_values\": 3,\n        \"samples\": [\n          \"negative\",\n          \"positive\",\n          \"neutral\"\n        ],\n        \"semantic_type\": \"\",\n        \"description\": \"\"\n      }\n    }\n  ]\n}",
              "type": "dataframe",
              "variable_name": "actaware_df"
            },
            "text/html": [
              "\n",
              "  <div id=\"df-7046cb37-9f01-4411-a917-cbce0cbc3a03\" class=\"colab-df-container\">\n",
              "    <div>\n",
              "<style scoped>\n",
              "    .dataframe tbody tr th:only-of-type {\n",
              "        vertical-align: middle;\n",
              "    }\n",
              "\n",
              "    .dataframe tbody tr th {\n",
              "        vertical-align: top;\n",
              "    }\n",
              "\n",
              "    .dataframe thead th {\n",
              "        text-align: right;\n",
              "    }\n",
              "</style>\n",
              "<table border=\"1\" class=\"dataframe\">\n",
              "  <thead>\n",
              "    <tr style=\"text-align: right;\">\n",
              "      <th></th>\n",
              "      <th>Text</th>\n",
              "      <th>Sentiment</th>\n",
              "    </tr>\n",
              "  </thead>\n",
              "  <tbody>\n",
              "    <tr>\n",
              "      <th>0</th>\n",
              "      <td>People work in the Amazon Fulfillment Center i...</td>\n",
              "      <td>negative</td>\n",
              "    </tr>\n",
              "    <tr>\n",
              "      <th>1</th>\n",
              "      <td>A federal agency is seeking to force Starbucks...</td>\n",
              "      <td>positive</td>\n",
              "    </tr>\n",
              "    <tr>\n",
              "      <th>2</th>\n",
              "      <td>You might have seen a new energy drink on Amaz...</td>\n",
              "      <td>positive</td>\n",
              "    </tr>\n",
              "    <tr>\n",
              "      <th>3</th>\n",
              "      <td>The BBC's director-general has tried to calm t...</td>\n",
              "      <td>positive</td>\n",
              "    </tr>\n",
              "    <tr>\n",
              "      <th>4</th>\n",
              "      <td>Amazon is running a competition to give its br...</td>\n",
              "      <td>positive</td>\n",
              "    </tr>\n",
              "  </tbody>\n",
              "</table>\n",
              "</div>\n",
              "    <div class=\"colab-df-buttons\">\n",
              "\n",
              "  <div class=\"colab-df-container\">\n",
              "    <button class=\"colab-df-convert\" onclick=\"convertToInteractive('df-7046cb37-9f01-4411-a917-cbce0cbc3a03')\"\n",
              "            title=\"Convert this dataframe to an interactive table.\"\n",
              "            style=\"display:none;\">\n",
              "\n",
              "  <svg xmlns=\"http://www.w3.org/2000/svg\" height=\"24px\" viewBox=\"0 -960 960 960\">\n",
              "    <path d=\"M120-120v-720h720v720H120Zm60-500h600v-160H180v160Zm220 220h160v-160H400v160Zm0 220h160v-160H400v160ZM180-400h160v-160H180v160Zm440 0h160v-160H620v160ZM180-180h160v-160H180v160Zm440 0h160v-160H620v160Z\"/>\n",
              "  </svg>\n",
              "    </button>\n",
              "\n",
              "  <style>\n",
              "    .colab-df-container {\n",
              "      display:flex;\n",
              "      gap: 12px;\n",
              "    }\n",
              "\n",
              "    .colab-df-convert {\n",
              "      background-color: #E8F0FE;\n",
              "      border: none;\n",
              "      border-radius: 50%;\n",
              "      cursor: pointer;\n",
              "      display: none;\n",
              "      fill: #1967D2;\n",
              "      height: 32px;\n",
              "      padding: 0 0 0 0;\n",
              "      width: 32px;\n",
              "    }\n",
              "\n",
              "    .colab-df-convert:hover {\n",
              "      background-color: #E2EBFA;\n",
              "      box-shadow: 0px 1px 2px rgba(60, 64, 67, 0.3), 0px 1px 3px 1px rgba(60, 64, 67, 0.15);\n",
              "      fill: #174EA6;\n",
              "    }\n",
              "\n",
              "    .colab-df-buttons div {\n",
              "      margin-bottom: 4px;\n",
              "    }\n",
              "\n",
              "    [theme=dark] .colab-df-convert {\n",
              "      background-color: #3B4455;\n",
              "      fill: #D2E3FC;\n",
              "    }\n",
              "\n",
              "    [theme=dark] .colab-df-convert:hover {\n",
              "      background-color: #434B5C;\n",
              "      box-shadow: 0px 1px 3px 1px rgba(0, 0, 0, 0.15);\n",
              "      filter: drop-shadow(0px 1px 2px rgba(0, 0, 0, 0.3));\n",
              "      fill: #FFFFFF;\n",
              "    }\n",
              "  </style>\n",
              "\n",
              "    <script>\n",
              "      const buttonEl =\n",
              "        document.querySelector('#df-7046cb37-9f01-4411-a917-cbce0cbc3a03 button.colab-df-convert');\n",
              "      buttonEl.style.display =\n",
              "        google.colab.kernel.accessAllowed ? 'block' : 'none';\n",
              "\n",
              "      async function convertToInteractive(key) {\n",
              "        const element = document.querySelector('#df-7046cb37-9f01-4411-a917-cbce0cbc3a03');\n",
              "        const dataTable =\n",
              "          await google.colab.kernel.invokeFunction('convertToInteractive',\n",
              "                                                    [key], {});\n",
              "        if (!dataTable) return;\n",
              "\n",
              "        const docLinkHtml = 'Like what you see? Visit the ' +\n",
              "          '<a target=\"_blank\" href=https://colab.research.google.com/notebooks/data_table.ipynb>data table notebook</a>'\n",
              "          + ' to learn more about interactive tables.';\n",
              "        element.innerHTML = '';\n",
              "        dataTable['output_type'] = 'display_data';\n",
              "        await google.colab.output.renderOutput(dataTable, element);\n",
              "        const docLink = document.createElement('div');\n",
              "        docLink.innerHTML = docLinkHtml;\n",
              "        element.appendChild(docLink);\n",
              "      }\n",
              "    </script>\n",
              "  </div>\n",
              "\n",
              "\n",
              "<div id=\"df-4a73df6a-d06b-42ed-9aa6-55bd39c9a69c\">\n",
              "  <button class=\"colab-df-quickchart\" onclick=\"quickchart('df-4a73df6a-d06b-42ed-9aa6-55bd39c9a69c')\"\n",
              "            title=\"Suggest charts\"\n",
              "            style=\"display:none;\">\n",
              "\n",
              "<svg xmlns=\"http://www.w3.org/2000/svg\" height=\"24px\"viewBox=\"0 0 24 24\"\n",
              "     width=\"24px\">\n",
              "    <g>\n",
              "        <path d=\"M19 3H5c-1.1 0-2 .9-2 2v14c0 1.1.9 2 2 2h14c1.1 0 2-.9 2-2V5c0-1.1-.9-2-2-2zM9 17H7v-7h2v7zm4 0h-2V7h2v10zm4 0h-2v-4h2v4z\"/>\n",
              "    </g>\n",
              "</svg>\n",
              "  </button>\n",
              "\n",
              "<style>\n",
              "  .colab-df-quickchart {\n",
              "      --bg-color: #E8F0FE;\n",
              "      --fill-color: #1967D2;\n",
              "      --hover-bg-color: #E2EBFA;\n",
              "      --hover-fill-color: #174EA6;\n",
              "      --disabled-fill-color: #AAA;\n",
              "      --disabled-bg-color: #DDD;\n",
              "  }\n",
              "\n",
              "  [theme=dark] .colab-df-quickchart {\n",
              "      --bg-color: #3B4455;\n",
              "      --fill-color: #D2E3FC;\n",
              "      --hover-bg-color: #434B5C;\n",
              "      --hover-fill-color: #FFFFFF;\n",
              "      --disabled-bg-color: #3B4455;\n",
              "      --disabled-fill-color: #666;\n",
              "  }\n",
              "\n",
              "  .colab-df-quickchart {\n",
              "    background-color: var(--bg-color);\n",
              "    border: none;\n",
              "    border-radius: 50%;\n",
              "    cursor: pointer;\n",
              "    display: none;\n",
              "    fill: var(--fill-color);\n",
              "    height: 32px;\n",
              "    padding: 0;\n",
              "    width: 32px;\n",
              "  }\n",
              "\n",
              "  .colab-df-quickchart:hover {\n",
              "    background-color: var(--hover-bg-color);\n",
              "    box-shadow: 0 1px 2px rgba(60, 64, 67, 0.3), 0 1px 3px 1px rgba(60, 64, 67, 0.15);\n",
              "    fill: var(--button-hover-fill-color);\n",
              "  }\n",
              "\n",
              "  .colab-df-quickchart-complete:disabled,\n",
              "  .colab-df-quickchart-complete:disabled:hover {\n",
              "    background-color: var(--disabled-bg-color);\n",
              "    fill: var(--disabled-fill-color);\n",
              "    box-shadow: none;\n",
              "  }\n",
              "\n",
              "  .colab-df-spinner {\n",
              "    border: 2px solid var(--fill-color);\n",
              "    border-color: transparent;\n",
              "    border-bottom-color: var(--fill-color);\n",
              "    animation:\n",
              "      spin 1s steps(1) infinite;\n",
              "  }\n",
              "\n",
              "  @keyframes spin {\n",
              "    0% {\n",
              "      border-color: transparent;\n",
              "      border-bottom-color: var(--fill-color);\n",
              "      border-left-color: var(--fill-color);\n",
              "    }\n",
              "    20% {\n",
              "      border-color: transparent;\n",
              "      border-left-color: var(--fill-color);\n",
              "      border-top-color: var(--fill-color);\n",
              "    }\n",
              "    30% {\n",
              "      border-color: transparent;\n",
              "      border-left-color: var(--fill-color);\n",
              "      border-top-color: var(--fill-color);\n",
              "      border-right-color: var(--fill-color);\n",
              "    }\n",
              "    40% {\n",
              "      border-color: transparent;\n",
              "      border-right-color: var(--fill-color);\n",
              "      border-top-color: var(--fill-color);\n",
              "    }\n",
              "    60% {\n",
              "      border-color: transparent;\n",
              "      border-right-color: var(--fill-color);\n",
              "    }\n",
              "    80% {\n",
              "      border-color: transparent;\n",
              "      border-right-color: var(--fill-color);\n",
              "      border-bottom-color: var(--fill-color);\n",
              "    }\n",
              "    90% {\n",
              "      border-color: transparent;\n",
              "      border-bottom-color: var(--fill-color);\n",
              "    }\n",
              "  }\n",
              "</style>\n",
              "\n",
              "  <script>\n",
              "    async function quickchart(key) {\n",
              "      const quickchartButtonEl =\n",
              "        document.querySelector('#' + key + ' button');\n",
              "      quickchartButtonEl.disabled = true;  // To prevent multiple clicks.\n",
              "      quickchartButtonEl.classList.add('colab-df-spinner');\n",
              "      try {\n",
              "        const charts = await google.colab.kernel.invokeFunction(\n",
              "            'suggestCharts', [key], {});\n",
              "      } catch (error) {\n",
              "        console.error('Error during call to suggestCharts:', error);\n",
              "      }\n",
              "      quickchartButtonEl.classList.remove('colab-df-spinner');\n",
              "      quickchartButtonEl.classList.add('colab-df-quickchart-complete');\n",
              "    }\n",
              "    (() => {\n",
              "      let quickchartButtonEl =\n",
              "        document.querySelector('#df-4a73df6a-d06b-42ed-9aa6-55bd39c9a69c button');\n",
              "      quickchartButtonEl.style.display =\n",
              "        google.colab.kernel.accessAllowed ? 'block' : 'none';\n",
              "    })();\n",
              "  </script>\n",
              "</div>\n",
              "\n",
              "    </div>\n",
              "  </div>\n"
            ],
            "text/plain": [
              "                                                Text Sentiment\n",
              "0  People work in the Amazon Fulfillment Center i...  negative\n",
              "1  A federal agency is seeking to force Starbucks...  positive\n",
              "2  You might have seen a new energy drink on Amaz...  positive\n",
              "3  The BBC's director-general has tried to calm t...  positive\n",
              "4  Amazon is running a competition to give its br...  positive"
            ]
          },
          "execution_count": 24,
          "metadata": {},
          "output_type": "execute_result"
        }
      ],
      "source": [
        "actaware_df.head()"
      ]
    },
    {
      "cell_type": "code",
      "execution_count": null,
      "metadata": {
        "colab": {
          "base_uri": "https://localhost:8080/"
        },
        "id": "Eoc2Ws1CE3pE",
        "outputId": "eac81c7f-a59b-431f-d32b-ce45dd869276"
      },
      "outputs": [
        {
          "data": {
            "text/plain": [
              "0.5584921614333379"
            ]
          },
          "execution_count": 25,
          "metadata": {},
          "output_type": "execute_result"
        }
      ],
      "source": [
        "balanced_accuracy_score(df_my['Sentiment'], actaware_df['Sentiment'])"
      ]
    },
    {
      "cell_type": "markdown",
      "metadata": {
        "id": "WCDYkiHcmHI7"
      },
      "source": [
        "# Experiments"
      ]
    },
    {
      "cell_type": "code",
      "execution_count": 49,
      "metadata": {
        "id": "ATPUBgMWlgNQ"
      },
      "outputs": [],
      "source": [
        "def run_actaware(file_name, df_my, nlp):\n",
        "  path_list=(f'/source_repository/{file_name}.txt')\n",
        "  with open(path_list, 'r') as file:\n",
        "    list_of_contents_new = file.readlines()\n",
        "  actaware_df=pd.DataFrame({'Text': list_of_contents_new, 'Sentiment': \"\"})\n",
        "  for i in range(len(list_of_contents_new)):\n",
        "    text_to_check=list_of_contents_new[i]\n",
        "    actaware_df['Sentiment'][i]=graph_sentiment_analysis(text_to_check, calculate_overall_score=1, nlp=nlp, threshold=0.0, compound=True)\n",
        "  actaware_df.to_csv(f'/source_repository/actaware_df_with_sentiment_graph_{file_name}.csv', index=False)\n",
        "  return balanced_accuracy_score(df_my['Sentiment'], actaware_df['Sentiment'])"
      ]
    },
    {
      "cell_type": "code",
      "execution_count": 50,
      "metadata": {
        "colab": {
          "base_uri": "https://localhost:8080/",
          "height": 186
        },
        "id": "lPNCyYT7lNdQ",
        "outputId": "c3480023-fc2e-4366-aaa9-98c6d64cb159"
      },
      "outputs": [
        {
          "data": {
            "text/html": [
              "<div style=\"max-width:800px; border: 1px solid var(--colab-border-color);\"><style>\n",
              "      pre.function-repr-contents {\n",
              "        overflow-x: auto;\n",
              "        padding: 8px 12px;\n",
              "        max-height: 500px;\n",
              "      }\n",
              "\n",
              "      pre.function-repr-contents.function-repr-contents-collapsed {\n",
              "        cursor: pointer;\n",
              "        max-height: 100px;\n",
              "      }\n",
              "    </style>\n",
              "    <pre style=\"white-space: initial; background:\n",
              "         var(--colab-secondary-surface-color); padding: 8px 12px;\n",
              "         border-bottom: 1px solid var(--colab-border-color);\"><b>spacy.pipeline.functions.merge_noun_chunks</b><br/>def merge_noun_chunks(doc: Doc) -&gt; Doc</pre><pre class=\"function-repr-contents function-repr-contents-collapsed\" style=\"\"><a class=\"filepath\" style=\"display:none\" href=\"#\">/usr/local/lib/python3.10/dist-packages/spacy/pipeline/functions.py</a>Merge noun chunks into a single token.\n",
              "\n",
              "doc (Doc): The Doc object.\n",
              "RETURNS (Doc): The Doc object with merged noun chunks.\n",
              "\n",
              "DOCS: https://spacy.io/api/pipeline-functions#merge_noun_chunks</pre>\n",
              "      <script>\n",
              "      if (google.colab.kernel.accessAllowed && google.colab.files && google.colab.files.view) {\n",
              "        for (const element of document.querySelectorAll('.filepath')) {\n",
              "          element.style.display = 'block'\n",
              "          element.onclick = (event) => {\n",
              "            event.preventDefault();\n",
              "            event.stopPropagation();\n",
              "            google.colab.files.view(element.textContent, 13);\n",
              "          };\n",
              "        }\n",
              "      }\n",
              "      for (const element of document.querySelectorAll('.function-repr-contents')) {\n",
              "        element.onclick = (event) => {\n",
              "          event.preventDefault();\n",
              "          event.stopPropagation();\n",
              "          element.classList.toggle('function-repr-contents-collapsed');\n",
              "        };\n",
              "      }\n",
              "      </script>\n",
              "      </div>"
            ],
            "text/plain": [
              "<function spacy.pipeline.functions.merge_noun_chunks(doc: spacy.tokens.doc.Doc) -> spacy.tokens.doc.Doc>"
            ]
          },
          "execution_count": 50,
          "metadata": {},
          "output_type": "execute_result"
        }
      ],
      "source": [
        "df_my=pd.read_csv(\"/source_repository/articles_categories_my_gt_2.csv\", sep=';')\n",
        "nlp = spacy.load('en_core_web_sm')\n",
        "nlp.add_pipe(\"merge_noun_chunks\")"
      ]
    },
    {
      "cell_type": "code",
      "execution_count": 51,
      "metadata": {
        "colab": {
          "base_uri": "https://localhost:8080/"
        },
        "id": "Fzq7ZWw8mRAq",
        "outputId": "00169131-8702-4a1a-b2ee-f4f08174e168"
      },
      "outputs": [
        {
          "name": "stdout",
          "output_type": "stream",
          "text": [
            "0 chosen_articles\n",
            "0.5584921614333379\n",
            "1 chosen_articles\n",
            "0.5584921614333379\n",
            "2 chosen_articles\n",
            "0.5584921614333379\n",
            "0 chosen_articles_cleaned_4o\n",
            "0.6049179578591343\n",
            "1 chosen_articles_cleaned_4o\n",
            "0.6049179578591343\n",
            "2 chosen_articles_cleaned_4o\n",
            "0.6049179578591343\n",
            "0 chosen_articles_cleaned_by_me\n",
            "0.5660679190090955\n",
            "1 chosen_articles_cleaned_by_me\n",
            "0.5660679190090955\n",
            "2 chosen_articles_cleaned_by_me\n",
            "0.5660679190090955\n",
            "0 chosen_articles_cleaned_regex\n",
            "0.5660679190090955\n",
            "1 chosen_articles_cleaned_regex\n",
            "0.5660679190090955\n",
            "2 chosen_articles_cleaned_regex\n",
            "0.5660679190090955\n"
          ]
        }
      ],
      "source": [
        "list_names_scores_iter_time=[]\n",
        "for i in range(3):\n",
        "  file_name='chosen_articles'\n",
        "  print(i, file_name)\n",
        "  start_time=time.time()\n",
        "  ba_1=run_actaware(file_name, df_my, nlp)\n",
        "  end_time=time.time()\n",
        "  print(ba_1)\n",
        "  list_names_scores_iter_time.append([file_name, ba_1, i, end_time-start_time])\n",
        "\n",
        "\n",
        "for i in range(3):\n",
        "  file_name='chosen_articles_cleaned_4o'\n",
        "  print(i, file_name)\n",
        "  start_time=time.time()\n",
        "  ba_1=run_actaware(file_name, df_my, nlp)\n",
        "  end_time=time.time()\n",
        "  print(ba_1)\n",
        "  list_names_scores_iter_time.append([file_name, ba_1, i, end_time-start_time])\n",
        "\n",
        "\n",
        "for i in range(3):\n",
        "  file_name='chosen_articles_cleaned_by_me'\n",
        "  print(i, file_name)\n",
        "  start_time=time.time()\n",
        "  ba_1=run_actaware(file_name, df_my, nlp)\n",
        "  end_time=time.time()\n",
        "  print(ba_1)\n",
        "  list_names_scores_iter_time.append([file_name, ba_1, i, end_time-start_time])\n",
        "\n",
        "for i in range(3):\n",
        "  file_name='chosen_articles_cleaned_regex'\n",
        "  print(i, file_name)\n",
        "  start_time=time.time()\n",
        "  ba_1=run_actaware(file_name, df_my, nlp)\n",
        "  end_time=time.time()\n",
        "  print(ba_1)\n",
        "  list_names_scores_iter_time.append([file_name, ba_1, i, end_time-start_time])\n"
      ]
    },
    {
      "cell_type": "code",
      "execution_count": 52,
      "metadata": {
        "colab": {
          "base_uri": "https://localhost:8080/"
        },
        "id": "xrovxTUznffx",
        "outputId": "7ac1db5f-f98d-4c36-c828-09ff18da861a"
      },
      "outputs": [
        {
          "data": {
            "text/plain": [
              "[['chosen_articles', 0.5584921614333379, 0, 20.226020574569702],\n",
              " ['chosen_articles', 0.5584921614333379, 1, 18.058598279953003],\n",
              " ['chosen_articles', 0.5584921614333379, 2, 17.96317481994629],\n",
              " ['chosen_articles_cleaned_4o', 0.6049179578591343, 0, 14.947876214981079],\n",
              " ['chosen_articles_cleaned_4o', 0.6049179578591343, 1, 13.61849570274353],\n",
              " ['chosen_articles_cleaned_4o', 0.6049179578591343, 2, 13.132906436920166],\n",
              " ['chosen_articles_cleaned_by_me', 0.5660679190090955, 0, 16.332794904708862],\n",
              " ['chosen_articles_cleaned_by_me', 0.5660679190090955, 1, 15.651582479476929],\n",
              " ['chosen_articles_cleaned_by_me', 0.5660679190090955, 2, 15.521533966064453],\n",
              " ['chosen_articles_cleaned_regex', 0.5660679190090955, 0, 16.535138607025146],\n",
              " ['chosen_articles_cleaned_regex', 0.5660679190090955, 1, 15.682967185974121],\n",
              " ['chosen_articles_cleaned_regex', 0.5660679190090955, 2, 15.5935959815979]]"
            ]
          },
          "execution_count": 52,
          "metadata": {},
          "output_type": "execute_result"
        }
      ],
      "source": [
        "list_names_scores_iter_time"
      ]
    },
    {
      "cell_type": "code",
      "execution_count": 4,
      "metadata": {
        "id": "5Xl-jHeNrh9g"
      },
      "outputs": [],
      "source": [
        "with open('/source_repository/graph_sentiment_results_chosen_actaware.txt', 'w') as f:\n",
        "    for line in list_names_scores_iter_time:\n",
        "        f.write(f\"{line}\\n\")"
      ]
    }
  ],
  "metadata": {
    "accelerator": "GPU",
    "colab": {
      "collapsed_sections": [
        "evtGdavo3ZSa",
        "EHd2boi_0HFK",
        "zAnzJVUQG_nW",
        "d56iMv1mJQaD",
        "MkwSf-OlK9KT",
        "T5ziLOglPJUy",
        "-ioKszIqPMTD"
      ],
      "gpuType": "T4",
      "provenance": []
    },
    "kernelspec": {
      "display_name": "Python 3",
      "name": "python3"
    },
    "language_info": {
      "name": "python"
    }
  },
  "nbformat": 4,
  "nbformat_minor": 0
}
