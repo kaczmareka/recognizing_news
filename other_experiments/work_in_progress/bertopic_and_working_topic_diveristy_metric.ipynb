{
  "cells": [
    {
      "cell_type": "markdown",
      "source": [
        "# Install packages"
      ],
      "metadata": {
        "id": "Mnn-JS3w4BZ0"
      }
    },
    {
      "cell_type": "code",
      "source": [
        "!pip install bertopic"
      ],
      "metadata": {
        "colab": {
          "base_uri": "https://localhost:8080/",
          "height": 0
        },
        "id": "fPI0rLl0M6Iu",
        "outputId": "69ef047c-9c4a-4f26-ae3e-570b1b622668"
      },
      "execution_count": 4,
      "outputs": [
        {
          "output_type": "stream",
          "name": "stdout",
          "text": [
            "Requirement already satisfied: bertopic in /usr/local/lib/python3.10/dist-packages (0.16.2)\n",
            "Requirement already satisfied: numpy>=1.20.0 in /usr/local/lib/python3.10/dist-packages (from bertopic) (1.23.0)\n",
            "Requirement already satisfied: hdbscan>=0.8.29 in /usr/local/lib/python3.10/dist-packages (from bertopic) (0.8.36)\n",
            "Requirement already satisfied: umap-learn>=0.5.0 in /usr/local/lib/python3.10/dist-packages (from bertopic) (0.5.6)\n",
            "Requirement already satisfied: pandas>=1.1.5 in /usr/local/lib/python3.10/dist-packages (from bertopic) (2.0.3)\n",
            "Requirement already satisfied: scikit-learn>=0.22.2.post1 in /usr/local/lib/python3.10/dist-packages (from bertopic) (1.1.0)\n",
            "Requirement already satisfied: tqdm>=4.41.1 in /usr/local/lib/python3.10/dist-packages (from bertopic) (4.66.4)\n",
            "Requirement already satisfied: sentence-transformers>=0.4.1 in /usr/local/lib/python3.10/dist-packages (from bertopic) (2.7.0)\n",
            "Requirement already satisfied: plotly>=4.7.0 in /usr/local/lib/python3.10/dist-packages (from bertopic) (5.15.0)\n",
            "Requirement already satisfied: cython<3,>=0.27 in /usr/local/lib/python3.10/dist-packages (from hdbscan>=0.8.29->bertopic) (0.29.37)\n",
            "Requirement already satisfied: scipy>=1.0 in /usr/local/lib/python3.10/dist-packages (from hdbscan>=0.8.29->bertopic) (1.11.4)\n",
            "Requirement already satisfied: joblib>=1.0 in /usr/local/lib/python3.10/dist-packages (from hdbscan>=0.8.29->bertopic) (1.4.2)\n",
            "Requirement already satisfied: python-dateutil>=2.8.2 in /usr/local/lib/python3.10/dist-packages (from pandas>=1.1.5->bertopic) (2.8.2)\n",
            "Requirement already satisfied: pytz>=2020.1 in /usr/local/lib/python3.10/dist-packages (from pandas>=1.1.5->bertopic) (2023.4)\n",
            "Requirement already satisfied: tzdata>=2022.1 in /usr/local/lib/python3.10/dist-packages (from pandas>=1.1.5->bertopic) (2024.1)\n",
            "Requirement already satisfied: tenacity>=6.2.0 in /usr/local/lib/python3.10/dist-packages (from plotly>=4.7.0->bertopic) (8.3.0)\n",
            "Requirement already satisfied: packaging in /usr/local/lib/python3.10/dist-packages (from plotly>=4.7.0->bertopic) (24.0)\n",
            "Requirement already satisfied: threadpoolctl>=2.0.0 in /usr/local/lib/python3.10/dist-packages (from scikit-learn>=0.22.2.post1->bertopic) (3.5.0)\n",
            "Requirement already satisfied: transformers<5.0.0,>=4.34.0 in /usr/local/lib/python3.10/dist-packages (from sentence-transformers>=0.4.1->bertopic) (4.41.0)\n",
            "Requirement already satisfied: torch>=1.11.0 in /usr/local/lib/python3.10/dist-packages (from sentence-transformers>=0.4.1->bertopic) (2.3.0+cu121)\n",
            "Requirement already satisfied: huggingface-hub>=0.15.1 in /usr/local/lib/python3.10/dist-packages (from sentence-transformers>=0.4.1->bertopic) (0.23.1)\n",
            "Requirement already satisfied: Pillow in /usr/local/lib/python3.10/dist-packages (from sentence-transformers>=0.4.1->bertopic) (9.4.0)\n",
            "Requirement already satisfied: numba>=0.51.2 in /usr/local/lib/python3.10/dist-packages (from umap-learn>=0.5.0->bertopic) (0.58.1)\n",
            "Requirement already satisfied: pynndescent>=0.5 in /usr/local/lib/python3.10/dist-packages (from umap-learn>=0.5.0->bertopic) (0.5.12)\n",
            "Requirement already satisfied: filelock in /usr/local/lib/python3.10/dist-packages (from huggingface-hub>=0.15.1->sentence-transformers>=0.4.1->bertopic) (3.14.0)\n",
            "Requirement already satisfied: fsspec>=2023.5.0 in /usr/local/lib/python3.10/dist-packages (from huggingface-hub>=0.15.1->sentence-transformers>=0.4.1->bertopic) (2023.6.0)\n",
            "Requirement already satisfied: pyyaml>=5.1 in /usr/local/lib/python3.10/dist-packages (from huggingface-hub>=0.15.1->sentence-transformers>=0.4.1->bertopic) (6.0.1)\n",
            "Requirement already satisfied: requests in /usr/local/lib/python3.10/dist-packages (from huggingface-hub>=0.15.1->sentence-transformers>=0.4.1->bertopic) (2.31.0)\n",
            "Requirement already satisfied: typing-extensions>=3.7.4.3 in /usr/local/lib/python3.10/dist-packages (from huggingface-hub>=0.15.1->sentence-transformers>=0.4.1->bertopic) (4.11.0)\n",
            "Requirement already satisfied: llvmlite<0.42,>=0.41.0dev0 in /usr/local/lib/python3.10/dist-packages (from numba>=0.51.2->umap-learn>=0.5.0->bertopic) (0.41.1)\n",
            "Requirement already satisfied: six>=1.5 in /usr/local/lib/python3.10/dist-packages (from python-dateutil>=2.8.2->pandas>=1.1.5->bertopic) (1.16.0)\n",
            "Requirement already satisfied: sympy in /usr/local/lib/python3.10/dist-packages (from torch>=1.11.0->sentence-transformers>=0.4.1->bertopic) (1.12)\n",
            "Requirement already satisfied: networkx in /usr/local/lib/python3.10/dist-packages (from torch>=1.11.0->sentence-transformers>=0.4.1->bertopic) (3.3)\n",
            "Requirement already satisfied: jinja2 in /usr/local/lib/python3.10/dist-packages (from torch>=1.11.0->sentence-transformers>=0.4.1->bertopic) (3.1.4)\n",
            "Requirement already satisfied: nvidia-cuda-nvrtc-cu12==12.1.105 in /usr/local/lib/python3.10/dist-packages (from torch>=1.11.0->sentence-transformers>=0.4.1->bertopic) (12.1.105)\n",
            "Requirement already satisfied: nvidia-cuda-runtime-cu12==12.1.105 in /usr/local/lib/python3.10/dist-packages (from torch>=1.11.0->sentence-transformers>=0.4.1->bertopic) (12.1.105)\n",
            "Requirement already satisfied: nvidia-cuda-cupti-cu12==12.1.105 in /usr/local/lib/python3.10/dist-packages (from torch>=1.11.0->sentence-transformers>=0.4.1->bertopic) (12.1.105)\n",
            "Requirement already satisfied: nvidia-cudnn-cu12==8.9.2.26 in /usr/local/lib/python3.10/dist-packages (from torch>=1.11.0->sentence-transformers>=0.4.1->bertopic) (8.9.2.26)\n",
            "Requirement already satisfied: nvidia-cublas-cu12==12.1.3.1 in /usr/local/lib/python3.10/dist-packages (from torch>=1.11.0->sentence-transformers>=0.4.1->bertopic) (12.1.3.1)\n",
            "Requirement already satisfied: nvidia-cufft-cu12==11.0.2.54 in /usr/local/lib/python3.10/dist-packages (from torch>=1.11.0->sentence-transformers>=0.4.1->bertopic) (11.0.2.54)\n",
            "Requirement already satisfied: nvidia-curand-cu12==10.3.2.106 in /usr/local/lib/python3.10/dist-packages (from torch>=1.11.0->sentence-transformers>=0.4.1->bertopic) (10.3.2.106)\n",
            "Requirement already satisfied: nvidia-cusolver-cu12==11.4.5.107 in /usr/local/lib/python3.10/dist-packages (from torch>=1.11.0->sentence-transformers>=0.4.1->bertopic) (11.4.5.107)\n",
            "Requirement already satisfied: nvidia-cusparse-cu12==12.1.0.106 in /usr/local/lib/python3.10/dist-packages (from torch>=1.11.0->sentence-transformers>=0.4.1->bertopic) (12.1.0.106)\n",
            "Requirement already satisfied: nvidia-nccl-cu12==2.20.5 in /usr/local/lib/python3.10/dist-packages (from torch>=1.11.0->sentence-transformers>=0.4.1->bertopic) (2.20.5)\n",
            "Requirement already satisfied: nvidia-nvtx-cu12==12.1.105 in /usr/local/lib/python3.10/dist-packages (from torch>=1.11.0->sentence-transformers>=0.4.1->bertopic) (12.1.105)\n",
            "Requirement already satisfied: triton==2.3.0 in /usr/local/lib/python3.10/dist-packages (from torch>=1.11.0->sentence-transformers>=0.4.1->bertopic) (2.3.0)\n",
            "Requirement already satisfied: nvidia-nvjitlink-cu12 in /usr/local/lib/python3.10/dist-packages (from nvidia-cusolver-cu12==11.4.5.107->torch>=1.11.0->sentence-transformers>=0.4.1->bertopic) (12.5.40)\n",
            "Requirement already satisfied: regex!=2019.12.17 in /usr/local/lib/python3.10/dist-packages (from transformers<5.0.0,>=4.34.0->sentence-transformers>=0.4.1->bertopic) (2023.12.25)\n",
            "Requirement already satisfied: tokenizers<0.20,>=0.19 in /usr/local/lib/python3.10/dist-packages (from transformers<5.0.0,>=4.34.0->sentence-transformers>=0.4.1->bertopic) (0.19.1)\n",
            "Requirement already satisfied: safetensors>=0.4.1 in /usr/local/lib/python3.10/dist-packages (from transformers<5.0.0,>=4.34.0->sentence-transformers>=0.4.1->bertopic) (0.4.3)\n",
            "Requirement already satisfied: MarkupSafe>=2.0 in /usr/local/lib/python3.10/dist-packages (from jinja2->torch>=1.11.0->sentence-transformers>=0.4.1->bertopic) (2.1.5)\n",
            "Requirement already satisfied: charset-normalizer<4,>=2 in /usr/local/lib/python3.10/dist-packages (from requests->huggingface-hub>=0.15.1->sentence-transformers>=0.4.1->bertopic) (3.3.2)\n",
            "Requirement already satisfied: idna<4,>=2.5 in /usr/local/lib/python3.10/dist-packages (from requests->huggingface-hub>=0.15.1->sentence-transformers>=0.4.1->bertopic) (3.7)\n",
            "Requirement already satisfied: urllib3<3,>=1.21.1 in /usr/local/lib/python3.10/dist-packages (from requests->huggingface-hub>=0.15.1->sentence-transformers>=0.4.1->bertopic) (2.0.7)\n",
            "Requirement already satisfied: certifi>=2017.4.17 in /usr/local/lib/python3.10/dist-packages (from requests->huggingface-hub>=0.15.1->sentence-transformers>=0.4.1->bertopic) (2024.2.2)\n",
            "Requirement already satisfied: mpmath>=0.19 in /usr/local/lib/python3.10/dist-packages (from sympy->torch>=1.11.0->sentence-transformers>=0.4.1->bertopic) (1.3.0)\n"
          ]
        }
      ]
    },
    {
      "cell_type": "code",
      "source": [
        "!pip install langchain"
      ],
      "metadata": {
        "colab": {
          "base_uri": "https://localhost:8080/"
        },
        "id": "7EV7cbYUbv6C",
        "outputId": "8f814179-aec7-4d74-d79d-5ba71e1acbb0"
      },
      "execution_count": null,
      "outputs": [
        {
          "output_type": "stream",
          "name": "stdout",
          "text": [
            "Collecting langchain\n",
            "  Downloading langchain-0.1.16-py3-none-any.whl (817 kB)\n",
            "\u001b[2K     \u001b[90m━━━━━━━━━━━━━━━━━━━━━━━━━━━━━━━━━━━━━━━━\u001b[0m \u001b[32m817.7/817.7 kB\u001b[0m \u001b[31m4.5 MB/s\u001b[0m eta \u001b[36m0:00:00\u001b[0m\n",
            "\u001b[?25hRequirement already satisfied: PyYAML>=5.3 in /usr/local/lib/python3.10/dist-packages (from langchain) (6.0.1)\n",
            "Requirement already satisfied: SQLAlchemy<3,>=1.4 in /usr/local/lib/python3.10/dist-packages (from langchain) (2.0.29)\n",
            "Requirement already satisfied: aiohttp<4.0.0,>=3.8.3 in /usr/local/lib/python3.10/dist-packages (from langchain) (3.9.5)\n",
            "Requirement already satisfied: async-timeout<5.0.0,>=4.0.0 in /usr/local/lib/python3.10/dist-packages (from langchain) (4.0.3)\n",
            "Collecting dataclasses-json<0.7,>=0.5.7 (from langchain)\n",
            "  Downloading dataclasses_json-0.6.4-py3-none-any.whl (28 kB)\n",
            "Collecting jsonpatch<2.0,>=1.33 (from langchain)\n",
            "  Downloading jsonpatch-1.33-py2.py3-none-any.whl (12 kB)\n",
            "Collecting langchain-community<0.1,>=0.0.32 (from langchain)\n",
            "  Downloading langchain_community-0.0.34-py3-none-any.whl (1.9 MB)\n",
            "\u001b[2K     \u001b[90m━━━━━━━━━━━━━━━━━━━━━━━━━━━━━━━━━━━━━━━━\u001b[0m \u001b[32m1.9/1.9 MB\u001b[0m \u001b[31m24.6 MB/s\u001b[0m eta \u001b[36m0:00:00\u001b[0m\n",
            "\u001b[?25hCollecting langchain-core<0.2.0,>=0.1.42 (from langchain)\n",
            "  Downloading langchain_core-0.1.45-py3-none-any.whl (291 kB)\n",
            "\u001b[2K     \u001b[90m━━━━━━━━━━━━━━━━━━━━━━━━━━━━━━━━━━━━━━━━\u001b[0m \u001b[32m291.3/291.3 kB\u001b[0m \u001b[31m29.6 MB/s\u001b[0m eta \u001b[36m0:00:00\u001b[0m\n",
            "\u001b[?25hCollecting langchain-text-splitters<0.1,>=0.0.1 (from langchain)\n",
            "  Downloading langchain_text_splitters-0.0.1-py3-none-any.whl (21 kB)\n",
            "Collecting langsmith<0.2.0,>=0.1.17 (from langchain)\n",
            "  Downloading langsmith-0.1.49-py3-none-any.whl (115 kB)\n",
            "\u001b[2K     \u001b[90m━━━━━━━━━━━━━━━━━━━━━━━━━━━━━━━━━━━━━━━━\u001b[0m \u001b[32m115.2/115.2 kB\u001b[0m \u001b[31m14.9 MB/s\u001b[0m eta \u001b[36m0:00:00\u001b[0m\n",
            "\u001b[?25hRequirement already satisfied: numpy<2,>=1 in /usr/local/lib/python3.10/dist-packages (from langchain) (1.25.2)\n",
            "Requirement already satisfied: pydantic<3,>=1 in /usr/local/lib/python3.10/dist-packages (from langchain) (2.7.0)\n",
            "Requirement already satisfied: requests<3,>=2 in /usr/local/lib/python3.10/dist-packages (from langchain) (2.31.0)\n",
            "Requirement already satisfied: tenacity<9.0.0,>=8.1.0 in /usr/local/lib/python3.10/dist-packages (from langchain) (8.2.3)\n",
            "Requirement already satisfied: aiosignal>=1.1.2 in /usr/local/lib/python3.10/dist-packages (from aiohttp<4.0.0,>=3.8.3->langchain) (1.3.1)\n",
            "Requirement already satisfied: attrs>=17.3.0 in /usr/local/lib/python3.10/dist-packages (from aiohttp<4.0.0,>=3.8.3->langchain) (23.2.0)\n",
            "Requirement already satisfied: frozenlist>=1.1.1 in /usr/local/lib/python3.10/dist-packages (from aiohttp<4.0.0,>=3.8.3->langchain) (1.4.1)\n",
            "Requirement already satisfied: multidict<7.0,>=4.5 in /usr/local/lib/python3.10/dist-packages (from aiohttp<4.0.0,>=3.8.3->langchain) (6.0.5)\n",
            "Requirement already satisfied: yarl<2.0,>=1.0 in /usr/local/lib/python3.10/dist-packages (from aiohttp<4.0.0,>=3.8.3->langchain) (1.9.4)\n",
            "Collecting marshmallow<4.0.0,>=3.18.0 (from dataclasses-json<0.7,>=0.5.7->langchain)\n",
            "  Downloading marshmallow-3.21.1-py3-none-any.whl (49 kB)\n",
            "\u001b[2K     \u001b[90m━━━━━━━━━━━━━━━━━━━━━━━━━━━━━━━━━━━━━━━━\u001b[0m \u001b[32m49.4/49.4 kB\u001b[0m \u001b[31m6.7 MB/s\u001b[0m eta \u001b[36m0:00:00\u001b[0m\n",
            "\u001b[?25hCollecting typing-inspect<1,>=0.4.0 (from dataclasses-json<0.7,>=0.5.7->langchain)\n",
            "  Downloading typing_inspect-0.9.0-py3-none-any.whl (8.8 kB)\n",
            "Collecting jsonpointer>=1.9 (from jsonpatch<2.0,>=1.33->langchain)\n",
            "  Downloading jsonpointer-2.4-py2.py3-none-any.whl (7.8 kB)\n",
            "Collecting packaging<24.0,>=23.2 (from langchain-core<0.2.0,>=0.1.42->langchain)\n",
            "  Downloading packaging-23.2-py3-none-any.whl (53 kB)\n",
            "\u001b[2K     \u001b[90m━━━━━━━━━━━━━━━━━━━━━━━━━━━━━━━━━━━━━━━━\u001b[0m \u001b[32m53.0/53.0 kB\u001b[0m \u001b[31m6.9 MB/s\u001b[0m eta \u001b[36m0:00:00\u001b[0m\n",
            "\u001b[?25hCollecting orjson<4.0.0,>=3.9.14 (from langsmith<0.2.0,>=0.1.17->langchain)\n",
            "  Downloading orjson-3.10.1-cp310-cp310-manylinux_2_17_x86_64.manylinux2014_x86_64.whl (141 kB)\n",
            "\u001b[2K     \u001b[90m━━━━━━━━━━━━━━━━━━━━━━━━━━━━━━━━━━━━━━━━\u001b[0m \u001b[32m141.1/141.1 kB\u001b[0m \u001b[31m17.7 MB/s\u001b[0m eta \u001b[36m0:00:00\u001b[0m\n",
            "\u001b[?25hRequirement already satisfied: annotated-types>=0.4.0 in /usr/local/lib/python3.10/dist-packages (from pydantic<3,>=1->langchain) (0.6.0)\n",
            "Requirement already satisfied: pydantic-core==2.18.1 in /usr/local/lib/python3.10/dist-packages (from pydantic<3,>=1->langchain) (2.18.1)\n",
            "Requirement already satisfied: typing-extensions>=4.6.1 in /usr/local/lib/python3.10/dist-packages (from pydantic<3,>=1->langchain) (4.11.0)\n",
            "Requirement already satisfied: charset-normalizer<4,>=2 in /usr/local/lib/python3.10/dist-packages (from requests<3,>=2->langchain) (3.3.2)\n",
            "Requirement already satisfied: idna<4,>=2.5 in /usr/local/lib/python3.10/dist-packages (from requests<3,>=2->langchain) (3.7)\n",
            "Requirement already satisfied: urllib3<3,>=1.21.1 in /usr/local/lib/python3.10/dist-packages (from requests<3,>=2->langchain) (2.0.7)\n",
            "Requirement already satisfied: certifi>=2017.4.17 in /usr/local/lib/python3.10/dist-packages (from requests<3,>=2->langchain) (2024.2.2)\n",
            "Requirement already satisfied: greenlet!=0.4.17 in /usr/local/lib/python3.10/dist-packages (from SQLAlchemy<3,>=1.4->langchain) (3.0.3)\n",
            "Collecting mypy-extensions>=0.3.0 (from typing-inspect<1,>=0.4.0->dataclasses-json<0.7,>=0.5.7->langchain)\n",
            "  Downloading mypy_extensions-1.0.0-py3-none-any.whl (4.7 kB)\n",
            "Installing collected packages: packaging, orjson, mypy-extensions, jsonpointer, typing-inspect, marshmallow, jsonpatch, langsmith, dataclasses-json, langchain-core, langchain-text-splitters, langchain-community, langchain\n",
            "  Attempting uninstall: packaging\n",
            "    Found existing installation: packaging 24.0\n",
            "    Uninstalling packaging-24.0:\n",
            "      Successfully uninstalled packaging-24.0\n",
            "Successfully installed dataclasses-json-0.6.4 jsonpatch-1.33 jsonpointer-2.4 langchain-0.1.16 langchain-community-0.0.34 langchain-core-0.1.45 langchain-text-splitters-0.0.1 langsmith-0.1.49 marshmallow-3.21.1 mypy-extensions-1.0.0 orjson-3.10.1 packaging-23.2 typing-inspect-0.9.0\n"
          ]
        }
      ]
    },
    {
      "cell_type": "code",
      "source": [
        "!CMAKE_ARGS=\"-DLLAMA_CUBLAS=on\" FORCE_CMAKE=1 pip install llama-cpp-python"
      ],
      "metadata": {
        "colab": {
          "base_uri": "https://localhost:8080/"
        },
        "id": "uyReR78ukoG2",
        "outputId": "cd3bf494-17a4-41d5-a4c4-e9c32552532f"
      },
      "execution_count": null,
      "outputs": [
        {
          "output_type": "stream",
          "name": "stdout",
          "text": [
            "Collecting llama-cpp-python\n",
            "  Downloading llama_cpp_python-0.2.63.tar.gz (37.5 MB)\n",
            "\u001b[2K     \u001b[90m━━━━━━━━━━━━━━━━━━━━━━━━━━━━━━━━━━━━━━━━\u001b[0m \u001b[32m37.5/37.5 MB\u001b[0m \u001b[31m26.9 MB/s\u001b[0m eta \u001b[36m0:00:00\u001b[0m\n",
            "\u001b[?25h  Installing build dependencies ... \u001b[?25l\u001b[?25hdone\n",
            "  Getting requirements to build wheel ... \u001b[?25l\u001b[?25hdone\n",
            "  Installing backend dependencies ... \u001b[?25l\u001b[?25hdone\n",
            "  Preparing metadata (pyproject.toml) ... \u001b[?25l\u001b[?25hdone\n",
            "Requirement already satisfied: typing-extensions>=4.5.0 in /usr/local/lib/python3.10/dist-packages (from llama-cpp-python) (4.11.0)\n",
            "Requirement already satisfied: numpy>=1.20.0 in /usr/local/lib/python3.10/dist-packages (from llama-cpp-python) (1.25.2)\n",
            "Collecting diskcache>=5.6.1 (from llama-cpp-python)\n",
            "  Downloading diskcache-5.6.3-py3-none-any.whl (45 kB)\n",
            "\u001b[2K     \u001b[90m━━━━━━━━━━━━━━━━━━━━━━━━━━━━━━━━━━━━━━━━\u001b[0m \u001b[32m45.5/45.5 kB\u001b[0m \u001b[31m3.9 MB/s\u001b[0m eta \u001b[36m0:00:00\u001b[0m\n",
            "\u001b[?25hRequirement already satisfied: jinja2>=2.11.3 in /usr/local/lib/python3.10/dist-packages (from llama-cpp-python) (3.1.3)\n",
            "Requirement already satisfied: MarkupSafe>=2.0 in /usr/local/lib/python3.10/dist-packages (from jinja2>=2.11.3->llama-cpp-python) (2.1.5)\n",
            "Building wheels for collected packages: llama-cpp-python\n",
            "  Building wheel for llama-cpp-python (pyproject.toml) ... \u001b[?25l\u001b[?25hdone\n",
            "  Created wheel for llama-cpp-python: filename=llama_cpp_python-0.2.63-cp310-cp310-linux_x86_64.whl size=39202986 sha256=7efbadc2d42064484529ecfe6999286cdf60d62e32d7293e817c1d7a75cbd4ca\n",
            "  Stored in directory: /root/.cache/pip/wheels/5c/32/58/9b1aa714aea4ce0f0e0ee441f40d35c869aa6d40296437c796\n",
            "Successfully built llama-cpp-python\n",
            "Installing collected packages: diskcache, llama-cpp-python\n",
            "Successfully installed diskcache-5.6.3 llama-cpp-python-0.2.63\n"
          ]
        }
      ]
    },
    {
      "cell_type": "code",
      "source": [
        "!pip install octis"
      ],
      "metadata": {
        "colab": {
          "base_uri": "https://localhost:8080/",
          "height": 2432
        },
        "id": "-DngqP69IwZ6",
        "outputId": "b4949489-203e-46dc-a0f0-ba0d18d58ef1"
      },
      "execution_count": 9,
      "outputs": [
        {
          "output_type": "stream",
          "name": "stdout",
          "text": [
            "Collecting octis\n",
            "  Downloading octis-1.13.1-py2.py3-none-any.whl (130 kB)\n",
            "\u001b[2K     \u001b[90m━━━━━━━━━━━━━━━━━━━━━━━━━━━━━━━━━━━━━━━━\u001b[0m \u001b[32m131.0/131.0 kB\u001b[0m \u001b[31m1.5 MB/s\u001b[0m eta \u001b[36m0:00:00\u001b[0m\n",
            "\u001b[?25hCollecting gensim==4.2.0 (from octis)\n",
            "  Downloading gensim-4.2.0-cp310-cp310-manylinux_2_17_x86_64.manylinux2014_x86_64.whl (24.0 MB)\n",
            "\u001b[2K     \u001b[90m━━━━━━━━━━━━━━━━━━━━━━━━━━━━━━━━━━━━━━━━\u001b[0m \u001b[32m24.0/24.0 MB\u001b[0m \u001b[31m23.4 MB/s\u001b[0m eta \u001b[36m0:00:00\u001b[0m\n",
            "\u001b[?25hRequirement already satisfied: nltk in /usr/local/lib/python3.10/dist-packages (from octis) (3.8.1)\n",
            "Requirement already satisfied: pandas in /usr/local/lib/python3.10/dist-packages (from octis) (2.0.3)\n",
            "Requirement already satisfied: spacy in /usr/local/lib/python3.10/dist-packages (from octis) (3.7.4)\n",
            "Collecting scikit-learn==1.1.0 (from octis)\n",
            "  Downloading scikit_learn-1.1.0-cp310-cp310-manylinux_2_17_x86_64.manylinux2014_x86_64.whl (30.7 MB)\n",
            "\u001b[2K     \u001b[90m━━━━━━━━━━━━━━━━━━━━━━━━━━━━━━━━━━━━━━━━\u001b[0m \u001b[32m30.7/30.7 MB\u001b[0m \u001b[31m18.7 MB/s\u001b[0m eta \u001b[36m0:00:00\u001b[0m\n",
            "\u001b[?25hCollecting scikit-optimize>=0.8.1 (from octis)\n",
            "  Downloading scikit_optimize-0.10.1-py2.py3-none-any.whl (107 kB)\n",
            "\u001b[2K     \u001b[90m━━━━━━━━━━━━━━━━━━━━━━━━━━━━━━━━━━━━━━━━\u001b[0m \u001b[32m107.7/107.7 kB\u001b[0m \u001b[31m12.7 MB/s\u001b[0m eta \u001b[36m0:00:00\u001b[0m\n",
            "\u001b[?25hRequirement already satisfied: matplotlib in /usr/local/lib/python3.10/dist-packages (from octis) (3.7.1)\n",
            "Requirement already satisfied: torch in /usr/local/lib/python3.10/dist-packages (from octis) (2.3.0+cu121)\n",
            "Collecting numpy==1.23.0 (from octis)\n",
            "  Downloading numpy-1.23.0-cp310-cp310-manylinux_2_17_x86_64.manylinux2014_x86_64.whl (17.0 MB)\n",
            "\u001b[2K     \u001b[90m━━━━━━━━━━━━━━━━━━━━━━━━━━━━━━━━━━━━━━━━\u001b[0m \u001b[32m17.0/17.0 MB\u001b[0m \u001b[31m58.4 MB/s\u001b[0m eta \u001b[36m0:00:00\u001b[0m\n",
            "\u001b[?25hCollecting libsvm (from octis)\n",
            "  Downloading libsvm-3.23.0.4.tar.gz (170 kB)\n",
            "\u001b[2K     \u001b[90m━━━━━━━━━━━━━━━━━━━━━━━━━━━━━━━━━━━━━━━━\u001b[0m \u001b[32m170.6/170.6 kB\u001b[0m \u001b[31m26.6 MB/s\u001b[0m eta \u001b[36m0:00:00\u001b[0m\n",
            "\u001b[?25h  Preparing metadata (setup.py) ... \u001b[?25l\u001b[?25hdone\n",
            "Requirement already satisfied: flask in /usr/local/lib/python3.10/dist-packages (from octis) (2.2.5)\n",
            "Requirement already satisfied: sentence-transformers in /usr/local/lib/python3.10/dist-packages (from octis) (2.7.0)\n",
            "Requirement already satisfied: requests in /usr/local/lib/python3.10/dist-packages (from octis) (2.31.0)\n",
            "Collecting tomotopy (from octis)\n",
            "  Downloading tomotopy-0.12.7-cp310-cp310-manylinux_2_17_x86_64.manylinux2014_x86_64.whl (17.2 MB)\n",
            "\u001b[2K     \u001b[90m━━━━━━━━━━━━━━━━━━━━━━━━━━━━━━━━━━━━━━━━\u001b[0m \u001b[32m17.2/17.2 MB\u001b[0m \u001b[31m68.1 MB/s\u001b[0m eta \u001b[36m0:00:00\u001b[0m\n",
            "\u001b[?25hRequirement already satisfied: scipy>=0.18.1 in /usr/local/lib/python3.10/dist-packages (from gensim==4.2.0->octis) (1.11.4)\n",
            "Requirement already satisfied: smart-open>=1.8.1 in /usr/local/lib/python3.10/dist-packages (from gensim==4.2.0->octis) (6.4.0)\n",
            "Requirement already satisfied: joblib>=1.0.0 in /usr/local/lib/python3.10/dist-packages (from scikit-learn==1.1.0->octis) (1.4.2)\n",
            "Requirement already satisfied: threadpoolctl>=2.0.0 in /usr/local/lib/python3.10/dist-packages (from scikit-learn==1.1.0->octis) (3.5.0)\n",
            "Collecting pyaml>=16.9 (from scikit-optimize>=0.8.1->octis)\n",
            "  Downloading pyaml-24.4.0-py3-none-any.whl (24 kB)\n",
            "Requirement already satisfied: packaging>=21.3 in /usr/local/lib/python3.10/dist-packages (from scikit-optimize>=0.8.1->octis) (24.0)\n",
            "Requirement already satisfied: Werkzeug>=2.2.2 in /usr/local/lib/python3.10/dist-packages (from flask->octis) (3.0.3)\n",
            "Requirement already satisfied: Jinja2>=3.0 in /usr/local/lib/python3.10/dist-packages (from flask->octis) (3.1.4)\n",
            "Requirement already satisfied: itsdangerous>=2.0 in /usr/local/lib/python3.10/dist-packages (from flask->octis) (2.2.0)\n",
            "Requirement already satisfied: click>=8.0 in /usr/local/lib/python3.10/dist-packages (from flask->octis) (8.1.7)\n",
            "Requirement already satisfied: contourpy>=1.0.1 in /usr/local/lib/python3.10/dist-packages (from matplotlib->octis) (1.2.1)\n",
            "Requirement already satisfied: cycler>=0.10 in /usr/local/lib/python3.10/dist-packages (from matplotlib->octis) (0.12.1)\n",
            "Requirement already satisfied: fonttools>=4.22.0 in /usr/local/lib/python3.10/dist-packages (from matplotlib->octis) (4.51.0)\n",
            "Requirement already satisfied: kiwisolver>=1.0.1 in /usr/local/lib/python3.10/dist-packages (from matplotlib->octis) (1.4.5)\n",
            "Requirement already satisfied: pillow>=6.2.0 in /usr/local/lib/python3.10/dist-packages (from matplotlib->octis) (9.4.0)\n",
            "Requirement already satisfied: pyparsing>=2.3.1 in /usr/local/lib/python3.10/dist-packages (from matplotlib->octis) (3.1.2)\n",
            "Requirement already satisfied: python-dateutil>=2.7 in /usr/local/lib/python3.10/dist-packages (from matplotlib->octis) (2.8.2)\n",
            "Requirement already satisfied: regex>=2021.8.3 in /usr/local/lib/python3.10/dist-packages (from nltk->octis) (2023.12.25)\n",
            "Requirement already satisfied: tqdm in /usr/local/lib/python3.10/dist-packages (from nltk->octis) (4.66.4)\n",
            "Requirement already satisfied: pytz>=2020.1 in /usr/local/lib/python3.10/dist-packages (from pandas->octis) (2023.4)\n",
            "Requirement already satisfied: tzdata>=2022.1 in /usr/local/lib/python3.10/dist-packages (from pandas->octis) (2024.1)\n",
            "Requirement already satisfied: charset-normalizer<4,>=2 in /usr/local/lib/python3.10/dist-packages (from requests->octis) (3.3.2)\n",
            "Requirement already satisfied: idna<4,>=2.5 in /usr/local/lib/python3.10/dist-packages (from requests->octis) (3.7)\n",
            "Requirement already satisfied: urllib3<3,>=1.21.1 in /usr/local/lib/python3.10/dist-packages (from requests->octis) (2.0.7)\n",
            "Requirement already satisfied: certifi>=2017.4.17 in /usr/local/lib/python3.10/dist-packages (from requests->octis) (2024.2.2)\n",
            "Requirement already satisfied: transformers<5.0.0,>=4.34.0 in /usr/local/lib/python3.10/dist-packages (from sentence-transformers->octis) (4.41.0)\n",
            "Requirement already satisfied: huggingface-hub>=0.15.1 in /usr/local/lib/python3.10/dist-packages (from sentence-transformers->octis) (0.23.1)\n",
            "Requirement already satisfied: filelock in /usr/local/lib/python3.10/dist-packages (from torch->octis) (3.14.0)\n",
            "Requirement already satisfied: typing-extensions>=4.8.0 in /usr/local/lib/python3.10/dist-packages (from torch->octis) (4.11.0)\n",
            "Requirement already satisfied: sympy in /usr/local/lib/python3.10/dist-packages (from torch->octis) (1.12)\n",
            "Requirement already satisfied: networkx in /usr/local/lib/python3.10/dist-packages (from torch->octis) (3.3)\n",
            "Requirement already satisfied: fsspec in /usr/local/lib/python3.10/dist-packages (from torch->octis) (2023.6.0)\n",
            "Requirement already satisfied: nvidia-cuda-nvrtc-cu12==12.1.105 in /usr/local/lib/python3.10/dist-packages (from torch->octis) (12.1.105)\n",
            "Requirement already satisfied: nvidia-cuda-runtime-cu12==12.1.105 in /usr/local/lib/python3.10/dist-packages (from torch->octis) (12.1.105)\n",
            "Requirement already satisfied: nvidia-cuda-cupti-cu12==12.1.105 in /usr/local/lib/python3.10/dist-packages (from torch->octis) (12.1.105)\n",
            "Requirement already satisfied: nvidia-cudnn-cu12==8.9.2.26 in /usr/local/lib/python3.10/dist-packages (from torch->octis) (8.9.2.26)\n",
            "Requirement already satisfied: nvidia-cublas-cu12==12.1.3.1 in /usr/local/lib/python3.10/dist-packages (from torch->octis) (12.1.3.1)\n",
            "Requirement already satisfied: nvidia-cufft-cu12==11.0.2.54 in /usr/local/lib/python3.10/dist-packages (from torch->octis) (11.0.2.54)\n",
            "Requirement already satisfied: nvidia-curand-cu12==10.3.2.106 in /usr/local/lib/python3.10/dist-packages (from torch->octis) (10.3.2.106)\n",
            "Requirement already satisfied: nvidia-cusolver-cu12==11.4.5.107 in /usr/local/lib/python3.10/dist-packages (from torch->octis) (11.4.5.107)\n",
            "Requirement already satisfied: nvidia-cusparse-cu12==12.1.0.106 in /usr/local/lib/python3.10/dist-packages (from torch->octis) (12.1.0.106)\n",
            "Requirement already satisfied: nvidia-nccl-cu12==2.20.5 in /usr/local/lib/python3.10/dist-packages (from torch->octis) (2.20.5)\n",
            "Requirement already satisfied: nvidia-nvtx-cu12==12.1.105 in /usr/local/lib/python3.10/dist-packages (from torch->octis) (12.1.105)\n",
            "Requirement already satisfied: triton==2.3.0 in /usr/local/lib/python3.10/dist-packages (from torch->octis) (2.3.0)\n",
            "Requirement already satisfied: nvidia-nvjitlink-cu12 in /usr/local/lib/python3.10/dist-packages (from nvidia-cusolver-cu12==11.4.5.107->torch->octis) (12.5.40)\n",
            "Requirement already satisfied: spacy-legacy<3.1.0,>=3.0.11 in /usr/local/lib/python3.10/dist-packages (from spacy->octis) (3.0.12)\n",
            "Requirement already satisfied: spacy-loggers<2.0.0,>=1.0.0 in /usr/local/lib/python3.10/dist-packages (from spacy->octis) (1.0.5)\n",
            "Requirement already satisfied: murmurhash<1.1.0,>=0.28.0 in /usr/local/lib/python3.10/dist-packages (from spacy->octis) (1.0.10)\n",
            "Requirement already satisfied: cymem<2.1.0,>=2.0.2 in /usr/local/lib/python3.10/dist-packages (from spacy->octis) (2.0.8)\n",
            "Requirement already satisfied: preshed<3.1.0,>=3.0.2 in /usr/local/lib/python3.10/dist-packages (from spacy->octis) (3.0.9)\n",
            "Requirement already satisfied: thinc<8.3.0,>=8.2.2 in /usr/local/lib/python3.10/dist-packages (from spacy->octis) (8.2.3)\n",
            "Requirement already satisfied: wasabi<1.2.0,>=0.9.1 in /usr/local/lib/python3.10/dist-packages (from spacy->octis) (1.1.2)\n",
            "Requirement already satisfied: srsly<3.0.0,>=2.4.3 in /usr/local/lib/python3.10/dist-packages (from spacy->octis) (2.4.8)\n",
            "Requirement already satisfied: catalogue<2.1.0,>=2.0.6 in /usr/local/lib/python3.10/dist-packages (from spacy->octis) (2.0.10)\n",
            "Requirement already satisfied: weasel<0.4.0,>=0.1.0 in /usr/local/lib/python3.10/dist-packages (from spacy->octis) (0.3.4)\n",
            "Requirement already satisfied: typer<0.10.0,>=0.3.0 in /usr/local/lib/python3.10/dist-packages (from spacy->octis) (0.9.4)\n",
            "Requirement already satisfied: pydantic!=1.8,!=1.8.1,<3.0.0,>=1.7.4 in /usr/local/lib/python3.10/dist-packages (from spacy->octis) (2.7.1)\n",
            "Requirement already satisfied: setuptools in /usr/local/lib/python3.10/dist-packages (from spacy->octis) (67.7.2)\n",
            "Requirement already satisfied: langcodes<4.0.0,>=3.2.0 in /usr/local/lib/python3.10/dist-packages (from spacy->octis) (3.4.0)\n",
            "Requirement already satisfied: pyyaml>=5.1 in /usr/local/lib/python3.10/dist-packages (from huggingface-hub>=0.15.1->sentence-transformers->octis) (6.0.1)\n",
            "Requirement already satisfied: MarkupSafe>=2.0 in /usr/local/lib/python3.10/dist-packages (from Jinja2>=3.0->flask->octis) (2.1.5)\n",
            "Requirement already satisfied: language-data>=1.2 in /usr/local/lib/python3.10/dist-packages (from langcodes<4.0.0,>=3.2.0->spacy->octis) (1.2.0)\n",
            "Requirement already satisfied: annotated-types>=0.4.0 in /usr/local/lib/python3.10/dist-packages (from pydantic!=1.8,!=1.8.1,<3.0.0,>=1.7.4->spacy->octis) (0.7.0)\n",
            "Requirement already satisfied: pydantic-core==2.18.2 in /usr/local/lib/python3.10/dist-packages (from pydantic!=1.8,!=1.8.1,<3.0.0,>=1.7.4->spacy->octis) (2.18.2)\n",
            "Requirement already satisfied: six>=1.5 in /usr/local/lib/python3.10/dist-packages (from python-dateutil>=2.7->matplotlib->octis) (1.16.0)\n",
            "Requirement already satisfied: blis<0.8.0,>=0.7.8 in /usr/local/lib/python3.10/dist-packages (from thinc<8.3.0,>=8.2.2->spacy->octis) (0.7.11)\n",
            "Requirement already satisfied: confection<1.0.0,>=0.0.1 in /usr/local/lib/python3.10/dist-packages (from thinc<8.3.0,>=8.2.2->spacy->octis) (0.1.4)\n",
            "Requirement already satisfied: tokenizers<0.20,>=0.19 in /usr/local/lib/python3.10/dist-packages (from transformers<5.0.0,>=4.34.0->sentence-transformers->octis) (0.19.1)\n",
            "Requirement already satisfied: safetensors>=0.4.1 in /usr/local/lib/python3.10/dist-packages (from transformers<5.0.0,>=4.34.0->sentence-transformers->octis) (0.4.3)\n",
            "Requirement already satisfied: cloudpathlib<0.17.0,>=0.7.0 in /usr/local/lib/python3.10/dist-packages (from weasel<0.4.0,>=0.1.0->spacy->octis) (0.16.0)\n",
            "Requirement already satisfied: mpmath>=0.19 in /usr/local/lib/python3.10/dist-packages (from sympy->torch->octis) (1.3.0)\n",
            "Requirement already satisfied: marisa-trie>=0.7.7 in /usr/local/lib/python3.10/dist-packages (from language-data>=1.2->langcodes<4.0.0,>=3.2.0->spacy->octis) (1.1.1)\n",
            "Building wheels for collected packages: libsvm\n",
            "  Building wheel for libsvm (setup.py) ... \u001b[?25l\u001b[?25hdone\n",
            "  Created wheel for libsvm: filename=libsvm-3.23.0.4-cp310-cp310-linux_x86_64.whl size=251408 sha256=7a8f486597651e9eaab1261e7a367089d7cecbe89f8f82af71c1d43a371304d0\n",
            "  Stored in directory: /root/.cache/pip/wheels/79/c7/19/a8c85928f8e629654b8e1adb3c8091f0bb77344d0ee9954a85\n",
            "Successfully built libsvm\n",
            "Installing collected packages: pyaml, numpy, libsvm, tomotopy, scikit-learn, gensim, scikit-optimize, octis\n",
            "  Attempting uninstall: numpy\n",
            "    Found existing installation: numpy 1.25.2\n",
            "    Uninstalling numpy-1.25.2:\n",
            "      Successfully uninstalled numpy-1.25.2\n",
            "  Attempting uninstall: scikit-learn\n",
            "    Found existing installation: scikit-learn 1.2.2\n",
            "    Uninstalling scikit-learn-1.2.2:\n",
            "      Successfully uninstalled scikit-learn-1.2.2\n",
            "  Attempting uninstall: gensim\n",
            "    Found existing installation: gensim 4.3.2\n",
            "    Uninstalling gensim-4.3.2:\n",
            "      Successfully uninstalled gensim-4.3.2\n",
            "\u001b[31mERROR: pip's dependency resolver does not currently take into account all the packages that are installed. This behaviour is the source of the following dependency conflicts.\n",
            "bigframes 1.6.0 requires scikit-learn>=1.2.2, but you have scikit-learn 1.1.0 which is incompatible.\n",
            "chex 0.1.86 requires numpy>=1.24.1, but you have numpy 1.23.0 which is incompatible.\n",
            "pandas-stubs 2.0.3.230814 requires numpy>=1.25.0; python_version >= \"3.9\", but you have numpy 1.23.0 which is incompatible.\n",
            "tensorflow 2.15.0 requires numpy<2.0.0,>=1.23.5, but you have numpy 1.23.0 which is incompatible.\u001b[0m\u001b[31m\n",
            "\u001b[0mSuccessfully installed gensim-4.2.0 libsvm-3.23.0.4 numpy-1.23.0 octis-1.13.1 pyaml-24.4.0 scikit-learn-1.1.0 scikit-optimize-0.10.1 tomotopy-0.12.7\n"
          ]
        },
        {
          "output_type": "display_data",
          "data": {
            "application/vnd.colab-display-data+json": {
              "pip_warning": {
                "packages": [
                  "numpy",
                  "sklearn"
                ]
              },
              "id": "08a8d22f87994a41a4cb582932a8687c"
            }
          },
          "metadata": {}
        }
      ]
    },
    {
      "cell_type": "markdown",
      "source": [
        "# Read data"
      ],
      "metadata": {
        "id": "h3eXl6jmqCJ1"
      }
    },
    {
      "cell_type": "code",
      "execution_count": null,
      "metadata": {
        "id": "8Ju8OX9fYfUQ"
      },
      "outputs": [],
      "source": [
        "import pandas as pd\n",
        "import numpy as np"
      ]
    },
    {
      "cell_type": "code",
      "execution_count": null,
      "metadata": {
        "id": "ywSSMe9lXzPQ",
        "colab": {
          "base_uri": "https://localhost:8080/",
          "height": 608
        },
        "outputId": "a35c941b-906a-4b97-db19-58173b877d5e"
      },
      "outputs": [
        {
          "output_type": "execute_result",
          "data": {
            "text/plain": [
              "                                            Keywords   MatchedCompanies  \\\n",
              "0  {'FromDescription': ['olly alexander', 'singer...            ['BBC']   \n",
              "1  {'FromDescription': ['accusing israel', 'olly ...     ['Eurovision']   \n",
              "2  {'FromDescription': ['hindley street', 'repres...     [\"McDonald's\"]   \n",
              "3  {'FromDescription': ['james palace', 'alleged ...  ['Goldman Sachs']   \n",
              "4  {'FromDescription': ['year eve', 'eve parties'...         ['Airbnb']   \n",
              "\n",
              "                                                NERs  \\\n",
              "0  {'FromDescription': [{'Position': 4, 'Text': '...   \n",
              "1  {'FromDescription': [{'Position': 20, 'Text': ...   \n",
              "2  {'FromDescription': [{'Position': 65, 'Text': ...   \n",
              "3  {'FromDescription': [{'Position': 60, 'Text': ...   \n",
              "4  {'FromDescription': [{'Position': 0, 'Text': '...   \n",
              "\n",
              "                                            TitleRaw  \\\n",
              "0  BBC is urged to sack UK's Eurovision entrant O...   \n",
              "1  UK Eurovision act Olly Alexander criticised fo...   \n",
              "2  Shocking sight at McDonald's as staff complain...   \n",
              "3  Prince Andrew 'invited former Goldman Sachs ba...   \n",
              "4  Airbnb set to use AI to help identify unauthor...   \n",
              "\n",
              "                                      DescriptionRaw  \\\n",
              "0  The BBC is being urged to drop singer Olly Ale...   \n",
              "1  Olly Alexander, the UK's new Eurovision act, h...   \n",
              "2  A union representative claims they were barred...   \n",
              "3  The Duke invited a gun smuggler and an alleged...   \n",
              "4  Airbnb is set to use artificial intelligence t...   \n",
              "\n",
              "                                          ContentRaw  \n",
              "0  The BBC is being urged to drop singer Olly Ale...  \n",
              "1  Olly Alexander, the UK's new Eurovision act, h...  \n",
              "2  A union representative claims they were barred...  \n",
              "3  The Duke invited a gun smuggler and an alleged...  \n",
              "4  Airbnb is set to use artificial intelligence t...  "
            ],
            "text/html": [
              "\n",
              "  <div id=\"df-1b2f174c-d6d4-4480-bccf-bea38eec245b\" class=\"colab-df-container\">\n",
              "    <div>\n",
              "<style scoped>\n",
              "    .dataframe tbody tr th:only-of-type {\n",
              "        vertical-align: middle;\n",
              "    }\n",
              "\n",
              "    .dataframe tbody tr th {\n",
              "        vertical-align: top;\n",
              "    }\n",
              "\n",
              "    .dataframe thead th {\n",
              "        text-align: right;\n",
              "    }\n",
              "</style>\n",
              "<table border=\"1\" class=\"dataframe\">\n",
              "  <thead>\n",
              "    <tr style=\"text-align: right;\">\n",
              "      <th></th>\n",
              "      <th>Keywords</th>\n",
              "      <th>MatchedCompanies</th>\n",
              "      <th>NERs</th>\n",
              "      <th>TitleRaw</th>\n",
              "      <th>DescriptionRaw</th>\n",
              "      <th>ContentRaw</th>\n",
              "    </tr>\n",
              "  </thead>\n",
              "  <tbody>\n",
              "    <tr>\n",
              "      <th>0</th>\n",
              "      <td>{'FromDescription': ['olly alexander', 'singer...</td>\n",
              "      <td>['BBC']</td>\n",
              "      <td>{'FromDescription': [{'Position': 4, 'Text': '...</td>\n",
              "      <td>BBC is urged to sack UK's Eurovision entrant O...</td>\n",
              "      <td>The BBC is being urged to drop singer Olly Ale...</td>\n",
              "      <td>The BBC is being urged to drop singer Olly Ale...</td>\n",
              "    </tr>\n",
              "    <tr>\n",
              "      <th>1</th>\n",
              "      <td>{'FromDescription': ['accusing israel', 'olly ...</td>\n",
              "      <td>['Eurovision']</td>\n",
              "      <td>{'FromDescription': [{'Position': 20, 'Text': ...</td>\n",
              "      <td>UK Eurovision act Olly Alexander criticised fo...</td>\n",
              "      <td>Olly Alexander, the UK's new Eurovision act, h...</td>\n",
              "      <td>Olly Alexander, the UK's new Eurovision act, h...</td>\n",
              "    </tr>\n",
              "    <tr>\n",
              "      <th>2</th>\n",
              "      <td>{'FromDescription': ['hindley street', 'repres...</td>\n",
              "      <td>[\"McDonald's\"]</td>\n",
              "      <td>{'FromDescription': [{'Position': 65, 'Text': ...</td>\n",
              "      <td>Shocking sight at McDonald's as staff complain...</td>\n",
              "      <td>A union representative claims they were barred...</td>\n",
              "      <td>A union representative claims they were barred...</td>\n",
              "    </tr>\n",
              "    <tr>\n",
              "      <th>3</th>\n",
              "      <td>{'FromDescription': ['james palace', 'alleged ...</td>\n",
              "      <td>['Goldman Sachs']</td>\n",
              "      <td>{'FromDescription': [{'Position': 60, 'Text': ...</td>\n",
              "      <td>Prince Andrew 'invited former Goldman Sachs ba...</td>\n",
              "      <td>The Duke invited a gun smuggler and an alleged...</td>\n",
              "      <td>The Duke invited a gun smuggler and an alleged...</td>\n",
              "    </tr>\n",
              "    <tr>\n",
              "      <th>4</th>\n",
              "      <td>{'FromDescription': ['year eve', 'eve parties'...</td>\n",
              "      <td>['Airbnb']</td>\n",
              "      <td>{'FromDescription': [{'Position': 0, 'Text': '...</td>\n",
              "      <td>Airbnb set to use AI to help identify unauthor...</td>\n",
              "      <td>Airbnb is set to use artificial intelligence t...</td>\n",
              "      <td>Airbnb is set to use artificial intelligence t...</td>\n",
              "    </tr>\n",
              "  </tbody>\n",
              "</table>\n",
              "</div>\n",
              "    <div class=\"colab-df-buttons\">\n",
              "\n",
              "  <div class=\"colab-df-container\">\n",
              "    <button class=\"colab-df-convert\" onclick=\"convertToInteractive('df-1b2f174c-d6d4-4480-bccf-bea38eec245b')\"\n",
              "            title=\"Convert this dataframe to an interactive table.\"\n",
              "            style=\"display:none;\">\n",
              "\n",
              "  <svg xmlns=\"http://www.w3.org/2000/svg\" height=\"24px\" viewBox=\"0 -960 960 960\">\n",
              "    <path d=\"M120-120v-720h720v720H120Zm60-500h600v-160H180v160Zm220 220h160v-160H400v160Zm0 220h160v-160H400v160ZM180-400h160v-160H180v160Zm440 0h160v-160H620v160ZM180-180h160v-160H180v160Zm440 0h160v-160H620v160Z\"/>\n",
              "  </svg>\n",
              "    </button>\n",
              "\n",
              "  <style>\n",
              "    .colab-df-container {\n",
              "      display:flex;\n",
              "      gap: 12px;\n",
              "    }\n",
              "\n",
              "    .colab-df-convert {\n",
              "      background-color: #E8F0FE;\n",
              "      border: none;\n",
              "      border-radius: 50%;\n",
              "      cursor: pointer;\n",
              "      display: none;\n",
              "      fill: #1967D2;\n",
              "      height: 32px;\n",
              "      padding: 0 0 0 0;\n",
              "      width: 32px;\n",
              "    }\n",
              "\n",
              "    .colab-df-convert:hover {\n",
              "      background-color: #E2EBFA;\n",
              "      box-shadow: 0px 1px 2px rgba(60, 64, 67, 0.3), 0px 1px 3px 1px rgba(60, 64, 67, 0.15);\n",
              "      fill: #174EA6;\n",
              "    }\n",
              "\n",
              "    .colab-df-buttons div {\n",
              "      margin-bottom: 4px;\n",
              "    }\n",
              "\n",
              "    [theme=dark] .colab-df-convert {\n",
              "      background-color: #3B4455;\n",
              "      fill: #D2E3FC;\n",
              "    }\n",
              "\n",
              "    [theme=dark] .colab-df-convert:hover {\n",
              "      background-color: #434B5C;\n",
              "      box-shadow: 0px 1px 3px 1px rgba(0, 0, 0, 0.15);\n",
              "      filter: drop-shadow(0px 1px 2px rgba(0, 0, 0, 0.3));\n",
              "      fill: #FFFFFF;\n",
              "    }\n",
              "  </style>\n",
              "\n",
              "    <script>\n",
              "      const buttonEl =\n",
              "        document.querySelector('#df-1b2f174c-d6d4-4480-bccf-bea38eec245b button.colab-df-convert');\n",
              "      buttonEl.style.display =\n",
              "        google.colab.kernel.accessAllowed ? 'block' : 'none';\n",
              "\n",
              "      async function convertToInteractive(key) {\n",
              "        const element = document.querySelector('#df-1b2f174c-d6d4-4480-bccf-bea38eec245b');\n",
              "        const dataTable =\n",
              "          await google.colab.kernel.invokeFunction('convertToInteractive',\n",
              "                                                    [key], {});\n",
              "        if (!dataTable) return;\n",
              "\n",
              "        const docLinkHtml = 'Like what you see? Visit the ' +\n",
              "          '<a target=\"_blank\" href=https://colab.research.google.com/notebooks/data_table.ipynb>data table notebook</a>'\n",
              "          + ' to learn more about interactive tables.';\n",
              "        element.innerHTML = '';\n",
              "        dataTable['output_type'] = 'display_data';\n",
              "        await google.colab.output.renderOutput(dataTable, element);\n",
              "        const docLink = document.createElement('div');\n",
              "        docLink.innerHTML = docLinkHtml;\n",
              "        element.appendChild(docLink);\n",
              "      }\n",
              "    </script>\n",
              "  </div>\n",
              "\n",
              "\n",
              "<div id=\"df-d973322a-649a-4723-b263-28fc790b2ffa\">\n",
              "  <button class=\"colab-df-quickchart\" onclick=\"quickchart('df-d973322a-649a-4723-b263-28fc790b2ffa')\"\n",
              "            title=\"Suggest charts\"\n",
              "            style=\"display:none;\">\n",
              "\n",
              "<svg xmlns=\"http://www.w3.org/2000/svg\" height=\"24px\"viewBox=\"0 0 24 24\"\n",
              "     width=\"24px\">\n",
              "    <g>\n",
              "        <path d=\"M19 3H5c-1.1 0-2 .9-2 2v14c0 1.1.9 2 2 2h14c1.1 0 2-.9 2-2V5c0-1.1-.9-2-2-2zM9 17H7v-7h2v7zm4 0h-2V7h2v10zm4 0h-2v-4h2v4z\"/>\n",
              "    </g>\n",
              "</svg>\n",
              "  </button>\n",
              "\n",
              "<style>\n",
              "  .colab-df-quickchart {\n",
              "      --bg-color: #E8F0FE;\n",
              "      --fill-color: #1967D2;\n",
              "      --hover-bg-color: #E2EBFA;\n",
              "      --hover-fill-color: #174EA6;\n",
              "      --disabled-fill-color: #AAA;\n",
              "      --disabled-bg-color: #DDD;\n",
              "  }\n",
              "\n",
              "  [theme=dark] .colab-df-quickchart {\n",
              "      --bg-color: #3B4455;\n",
              "      --fill-color: #D2E3FC;\n",
              "      --hover-bg-color: #434B5C;\n",
              "      --hover-fill-color: #FFFFFF;\n",
              "      --disabled-bg-color: #3B4455;\n",
              "      --disabled-fill-color: #666;\n",
              "  }\n",
              "\n",
              "  .colab-df-quickchart {\n",
              "    background-color: var(--bg-color);\n",
              "    border: none;\n",
              "    border-radius: 50%;\n",
              "    cursor: pointer;\n",
              "    display: none;\n",
              "    fill: var(--fill-color);\n",
              "    height: 32px;\n",
              "    padding: 0;\n",
              "    width: 32px;\n",
              "  }\n",
              "\n",
              "  .colab-df-quickchart:hover {\n",
              "    background-color: var(--hover-bg-color);\n",
              "    box-shadow: 0 1px 2px rgba(60, 64, 67, 0.3), 0 1px 3px 1px rgba(60, 64, 67, 0.15);\n",
              "    fill: var(--button-hover-fill-color);\n",
              "  }\n",
              "\n",
              "  .colab-df-quickchart-complete:disabled,\n",
              "  .colab-df-quickchart-complete:disabled:hover {\n",
              "    background-color: var(--disabled-bg-color);\n",
              "    fill: var(--disabled-fill-color);\n",
              "    box-shadow: none;\n",
              "  }\n",
              "\n",
              "  .colab-df-spinner {\n",
              "    border: 2px solid var(--fill-color);\n",
              "    border-color: transparent;\n",
              "    border-bottom-color: var(--fill-color);\n",
              "    animation:\n",
              "      spin 1s steps(1) infinite;\n",
              "  }\n",
              "\n",
              "  @keyframes spin {\n",
              "    0% {\n",
              "      border-color: transparent;\n",
              "      border-bottom-color: var(--fill-color);\n",
              "      border-left-color: var(--fill-color);\n",
              "    }\n",
              "    20% {\n",
              "      border-color: transparent;\n",
              "      border-left-color: var(--fill-color);\n",
              "      border-top-color: var(--fill-color);\n",
              "    }\n",
              "    30% {\n",
              "      border-color: transparent;\n",
              "      border-left-color: var(--fill-color);\n",
              "      border-top-color: var(--fill-color);\n",
              "      border-right-color: var(--fill-color);\n",
              "    }\n",
              "    40% {\n",
              "      border-color: transparent;\n",
              "      border-right-color: var(--fill-color);\n",
              "      border-top-color: var(--fill-color);\n",
              "    }\n",
              "    60% {\n",
              "      border-color: transparent;\n",
              "      border-right-color: var(--fill-color);\n",
              "    }\n",
              "    80% {\n",
              "      border-color: transparent;\n",
              "      border-right-color: var(--fill-color);\n",
              "      border-bottom-color: var(--fill-color);\n",
              "    }\n",
              "    90% {\n",
              "      border-color: transparent;\n",
              "      border-bottom-color: var(--fill-color);\n",
              "    }\n",
              "  }\n",
              "</style>\n",
              "\n",
              "  <script>\n",
              "    async function quickchart(key) {\n",
              "      const quickchartButtonEl =\n",
              "        document.querySelector('#' + key + ' button');\n",
              "      quickchartButtonEl.disabled = true;  // To prevent multiple clicks.\n",
              "      quickchartButtonEl.classList.add('colab-df-spinner');\n",
              "      try {\n",
              "        const charts = await google.colab.kernel.invokeFunction(\n",
              "            'suggestCharts', [key], {});\n",
              "      } catch (error) {\n",
              "        console.error('Error during call to suggestCharts:', error);\n",
              "      }\n",
              "      quickchartButtonEl.classList.remove('colab-df-spinner');\n",
              "      quickchartButtonEl.classList.add('colab-df-quickchart-complete');\n",
              "    }\n",
              "    (() => {\n",
              "      let quickchartButtonEl =\n",
              "        document.querySelector('#df-d973322a-649a-4723-b263-28fc790b2ffa button');\n",
              "      quickchartButtonEl.style.display =\n",
              "        google.colab.kernel.accessAllowed ? 'block' : 'none';\n",
              "    })();\n",
              "  </script>\n",
              "</div>\n",
              "    </div>\n",
              "  </div>\n"
            ],
            "application/vnd.google.colaboratory.intrinsic+json": {
              "type": "dataframe",
              "variable_name": "data_df_small_no_emoji",
              "summary": "{\n  \"name\": \"data_df_small_no_emoji\",\n  \"rows\": 10698,\n  \"fields\": [\n    {\n      \"column\": \"Keywords\",\n      \"properties\": {\n        \"dtype\": \"string\",\n        \"num_unique_values\": 10697,\n        \"samples\": [\n          \"{'FromDescription': ['manager schroders', 'handed britain', 'cent writedown', 'year earlier', 'hammer blow', 'asset manager', 'biggest fintech', 'fintech unicorn', 'december', 'britain', 'parliamentary group', 'revolut', 'warned', 'licence', 'banking', 'firm', 'dealt', 'report', 'schroders', 'uk', 'revoluts', 'writedown', '13bn', 'blow', 'worth', 'fintech', 'group', 'valuation'], 'FromTitle': ['revolut dealt', 'firm revolut', 'fintech firm', 'writedown blow', 'schroders']}\",\n          \"{'FromDescription': ['sas australia', 'cocaine cassie', 'sas', 'cassie', 'cocaine', 'channel', 'show sas', 'sainsbury', 'convicted drug', 'drug smuggler', 'reality show', 'joins', 'cast', 'tatiana', 'seven', 'convicted', 'drug', 'australia', 'outrage', 'smuggler', 'craig'], 'FromTitle': ['cocaine cassie', 'sas australia', 'sainsbury joins', 'cocaine', 'cassie']}\",\n          \"{'FromDescription': ['reputation damage', 'aggregating platform', 'platform alongside', 'significant reputation', 'guardian significant', 'guardian', 'microsoft embedded', 'auto-generated poll', 'thursday', 'poll', 'wrote', 'ai', 'bateson', 'individual', 'ms', 'criticized', 'embedding', 'crass', 'microsoft', 'letter', 'reputation', 'article', 'media'], 'FromTitle': ['microsoft criticized', 'embedding', 'crass\\u2019']}\"\n        ],\n        \"semantic_type\": \"\",\n        \"description\": \"\"\n      }\n    },\n    {\n      \"column\": \"MatchedCompanies\",\n      \"properties\": {\n        \"dtype\": \"category\",\n        \"num_unique_values\": 476,\n        \"samples\": [\n          \"['Triumph']\",\n          \"['BlackRock']\",\n          \"['Asos']\"\n        ],\n        \"semantic_type\": \"\",\n        \"description\": \"\"\n      }\n    },\n    {\n      \"column\": \"NERs\",\n      \"properties\": {\n        \"dtype\": \"string\",\n        \"num_unique_values\": 10657,\n        \"samples\": [\n          \"{'FromDescription': [{'Position': 65, 'Text': 'Credit Suisse'}, {'Position': 82, 'Text': 'UBS'}, {'Position': 168, 'Text': 'UBS'}, {'Position': 313, 'Text': 'Credit Suisse'}, {'Position': 455, 'Text': 'UBS'}, {'Position': 542, 'Text': 'Credit Suisse'}, {'Position': 579, 'Text': 'UBS'}, {'Position': 692, 'Text': 'UBS'}, {'Position': 728, 'Text': 'Switzerland'}], 'FromTitle': [{'Position': 0, 'Text': 'UBS'}, {'Position': 65, 'Text': 'Credit Suisse'}]}\",\n          \"{'FromDescription': [{'Position': 320, 'Text': 'Florida'}, {'Position': 471, 'Text': 'Pasco County'}, {'Position': 525, 'Text': 'Cooke'}], 'FromTitle': [{'Position': 75, 'Text': 'Uber'}]}\",\n          \"{'FromDescription': [{'Position': 10, 'Text': 'Nvidia'}, {'Position': 147, 'Text': 'Nvidia'}, {'Position': 262, 'Text': 'Nvidia'}, {'Position': 388, 'Text': 'Apple'}, {'Position': 526, 'Text': 'Nvidia'}], 'FromTitle': [{'Position': 0, 'Text': 'Nvidia'}]}\"\n        ],\n        \"semantic_type\": \"\",\n        \"description\": \"\"\n      }\n    },\n    {\n      \"column\": \"TitleRaw\",\n      \"properties\": {\n        \"dtype\": \"string\",\n        \"num_unique_values\": 10698,\n        \"samples\": [\n          \"Amazon delivery drivers in southern California join Teamsters union\",\n          \"Lufthansa staff demanded passengers delete all evidence of their terrifying turbulent flight\",\n          \"Microsoft Criticized for Embedding \\u2018Crass\\u2019 A.I. Poll Beside News Article\"\n        ],\n        \"semantic_type\": \"\",\n        \"description\": \"\"\n      }\n    },\n    {\n      \"column\": \"DescriptionRaw\",\n      \"properties\": {\n        \"dtype\": \"string\",\n        \"num_unique_values\": 10668,\n        \"samples\": [\n          \"SHOPPING: Products featured in this article are independently selected by our shopping writers.If you make a purchase using links on this page, MailOnline will earn an affiliate commission.If you're feeling the pinch after Christmas, then Amazon is here to help out on the family shop with scores of discounts on top essential cleaning items.The mega-site has slashed the prices of hundreds of everyday items, including big-name household brands like Finish, Fairy, Ariel and Bold, so you can whizz through your chores for less.And, with up to 49 per cent off, you can stock up on your favourites too.\",\n          \"Goldman Sachs said on Monday that it would pay $215 million to settle a lawsuit that accused the bank of systematically discriminating against thousands of female employees.The money will be divided among about 2,800 women, and the bank agreed to change some of its practices.The individual payout amount itself is less than it might appear: Subtracting legal fees, it comes to roughly $47,000 per plaintiff.The lawsuit accused Goldman of hindering women\\u2019s career advancement and paying them less than their male colleagues.It took particular aim at the firm\\u2019s performance review process, which they said favored men, setting them up for promotions and higher pay.\",\n          \"The Supreme Court heard arguments Wednesday in a case that will help determine whether social media platforms can be held liable for aiding and abetting terrorism for failing to remove content and accounts promoting it.The case revolves around a specific international terrorist act, and contends that Twitter should be held accountable for not taking aggressive enough action against that content on its platform.Justice Elena Kagan at one point asked Waxman whether Twitter could be held liable if it actually didn't enforce any policy against terrorist content on its site.Justice Ketanji Brown Jackson asked if it would be illegal to sell Osama bin Laden a phone without knowing it would be used for a terrorist specific terrorist act.Schnapper said it would not be necessary to prove the phone was used for a specific terrorist act, because it \\\"aids the terrorist enterprise.\\\"\"\n        ],\n        \"semantic_type\": \"\",\n        \"description\": \"\"\n      }\n    },\n    {\n      \"column\": \"ContentRaw\",\n      \"properties\": {\n        \"dtype\": \"string\",\n        \"num_unique_values\": 10663,\n        \"samples\": [\n          \"Isaiah Washington is saying goodbye to Hollywood and blaming the 'haters' for it. The Grey's Anatomy alum, 59, took to Twitter on Tuesday with a lengthy statement announcing his early retirement and letting fans know that his film Corsicana may be his final acting project. 'It is with a heavy heart and a sense of relief that I am announcing my early retirement from the entertainment industry today,' the actor - who was fired from Grey's Anatomy in 2007 after allegedly using a gay slur against costar T.R. Knight - wrote. 'Those who have been Following/Witnessing my journey here on Twa***r since 2011 all know that I have fought the good fight, but it seems that the haters, provocateurs and the Useful Idiots have won.' The Texas-born star also shared his post-retirement plans: 'I'm no longer interested in the back and forth regarding a \\\"color construct\\\" that keeps us human beings divided nor am I interested in politics or anything vitriolic. I will be traveling this great country before it falls into Socialism and then Communism.' Early retirement: Grey's Anatomy alum Isaiah Washington, 59, took to Twitter to announce his early retirement in a lengthy rant; Pictured 2022 'The haters have won': The actor wrote, 'I have fought the good fight, but it seems that the haters, provocateurs and the Useful Idiots have won,' as he announced his Hollywood exit Last project: In his statement, Isaiah let fans know that his last film Corsicana may be his final acting project; Pictured in a still from Corsicana 'Until then, know that this Frederick Douglass Conservative will keep his powder dry and loves you all!' Washington went on to add: 'I am truly grateful for your support over the years. It looks like CORSICANA #CorsicanaMovie may be the last time you see me as an Actor born here in America.' He wrapped up his statement writing: 'Just know that I will be posting a few pictures of my retirement shenanigans here and there, but until then. Be safe out there. Your loved ones love you and need you. SALUTE!' Isaiah stars as Bass Reeves in the 2022 film Corsicana, which he says will be his last. He also directed and wrote the feature. The film follows former slave turned U.S. marshal who tracks an outlaw gang of killers to Corsicana, Texas. The thriller also stars Lew Temple, Stacey Dash and Noel Gugliemi. Washington rose to fame playing the highly skilled cardiothoracic surgeon Dr. Preston Burke on Grey's Anatomy. He was an original cast member of the show, but was fired in 2007 following three seasons, after being accused of using a homophobic slur in reference to co-star T. R. Knight - who later came out as gay - while arguing with co-star Patrick Dempsey on set. He later denied using the term as a slur, and claimed he instead told Patrick to stop treating him like an 'F-word', which he said meant 'somebody who is being weak and afraid to fight back.' Plans: The 'Frederick Douglass Conservative' also shared his post-retirement plans: 'I will be traveling this great country before it falls into Socialism and then Communism'; Pictured 2021 Dr. Burke: Washington rose to fame playing Dr. Preston Burke on Grey's Anatomy. He was fired in 2007 after using a homophobic slur against co-star T.R. Knight while arguing with actor Patrick Dempsey on set; Still from Grey's Anatomy Throwback: The two worked together for the first three seasons of Grey's Anatomy from 2005 to 2007; (L-R) Washington, Sandra Oh, James Pickens Jr, Ellen Pompeo, T.R. Knight, Patrick Dempsey, Justin Chambers, Katherine Heigl, and Chandra Wilson in 2005 promo shot In 2021 Isaiah opened up about his experiences on the Grey\\u2019s Anatomy set, and what he said were many toxic elements in play involving key figures on the ABC medical drama, in particular former leading man Patrick Dempsey. He spoke on KBLA Talk 1580 radio show saying that his firing 'was an agenda to cover up for the toxic and bad behavior of many of my former castmates on that show ... and the top of that would be Patrick Dempsey.' Washington said that his tension with Dempsey, 57, was initially based on finances. 'I was the highest paid person on that show, next to Patrick Dempsey,' he said. 'Apparently, it got out, so there was a lot of resentment. I understand that but it was based on my roles and my resume. I can't help that. 'He was called Pilot Poison. No one wanted him on the show. They wanted Rob Lowe,' he added. As of the incident involving T. R. Knight, 49, Washington said Knight was not present when he used the offensive phrase, and that the story with Dempsey was twisted to make him look bad. 'It went from us having a brawl, which was never a brawl, to me saying something about T.R.,' Washington said, adding that he was 'coerced to apologize' to keep his spot on the hit show. In 2014, he reflected on his experiences on the show and said: 'I don't worry about whether or not the stories I tell will destroy my acting career, because you can't take away something that doesn't exist. They killed the actor [in me] on June 7, 2007.'\",\n          \"Last updated on .From the section Women's Football Glasgow City travel to take on Rangers this weekend The BBC is to broadcast live coverage of 11 SWPL matches over the next six weeks. Games involving leaders Glasgow City, defending champions Rangers, Celtic, Hearts, Aberdeen, Partick Thistle, Hibernian, Motherwell and Spartans will be shown on BBC Alba, iPlayer and the BBC Sport website and app. On Sunday, Hearts host Celtic (15:00 GMT) on the BBC Sport website with Rangers v Glasgow City (16:10) following on BBC Alba. Three more games will be shown the following week. Glasgow City v Partick Thistle (BBC Sport website) and Celtic v Aberdeen (BBC Alba) will be on Sunday, 5 February with Rangers v Hibernian on BBC Alba on 9 February. Celtic v Rangers is on BBC Alba on 24 February with Hearts v Hibernian (BBC Alba) and Aberdeen v Glasgow City (BBC Sport website) on 26 February. On 1 March, Glasgow City v Motherwell is on BBC Alba and Spartans v Rangers (BBC Sport website) and Celtic v Glasgow City (BBC Alba) will be played on 5 March.\",\n          \"Amazon has started charging consumers a $1 fee to send back some parcels - joining a host of retailers cracking down on serial returners. The e-commerce giant slaps the sum on returns made to a UPS store when there is a Whole Foods, Amazon Fresh grocery store or Kohl's closer to the shopper's delivery address. But the sum is a relatively modest charge compared to other big brands which have increasingly begun implementing similar fees. T.J. Maxx, for example, charges $10.99 for the returns process and shipping costs while J.Crew, H&M and Zara charges $5.95, $3.95 and $7.50 respectively. In the past shoppers have been able to return any Amazon product without charge. But it began charging some return fees in 2022 - for example when customers wanted items picked up directly from their home. Now it is extending fees to those who use a UPS store to drop-off the item when an Amazon-owned shop is closer. The move is part of the retailer's wider mission to slimline its operations after it laid off 9,000 corporate and tech workers this year. It signals a dramatic shift in attitudes from the website which made its reputation for being extremely convenient and low hassle. Returns are an increasingly expensive headache for all retailers after they skyrocketed during the pandemic when shoppers were forced to do all their shopping online - without testing products in-store. Figures from the National Retail Federation show customers returned roughly $428 billion in merchandise in 2020 - accounting for 10.6 percent of retail sales in the US. More generally the NRF estimates that the average retailer incurs $106 million in merchandise returns for every $1 billion it makes in sales. This is because companies have to cover costly shipping fees for customers to send their products back. Returned items also often have to be marked down to resell them - squeezing profits. Last month Amazon already launched a new 'frequently returned' warning on some of its products to reduce return-related expenses. But the new fee is aimed at deterring customers from using UPS when they have other choices. Amazon owns Whole Foods and Amazon Fresh and has a partnership with Kohl's. It encourages customers to return their items by dropping them off at one of these locations - rather than incur shipping fees. Amazon has started charging a $1 fee on some of its returns made via UPS as part of its plan to slimdown operations H&M started charging $5.95 on its online returns in September 2022 Amazon spokesperson Lauren Samaha told The Information: 'We offer convenient, easy returns to Amazon customers, with one or more options for label-free, box-free returns at no cost.' Zara first announced it would start charging customers for online returns in June last year. It was shortly followed by H&M which made a similar announcement the following September.\"\n        ],\n        \"semantic_type\": \"\",\n        \"description\": \"\"\n      }\n    }\n  ]\n}"
            }
          },
          "metadata": {},
          "execution_count": 2
        }
      ],
      "source": [
        "# how to read the data\n",
        "data_df_small_no_emoji=pd.read_csv('/source_repository/data_df_small_no_emoji.csv')\n",
        "data_df_small_no_emoji.head()"
      ]
    },
    {
      "cell_type": "code",
      "source": [
        "# how to read the data\n",
        "path_list=('/source_repository/list_of_contents.txt')\n",
        "with open(path_list, 'r') as file:\n",
        "  list_of_contents = file.readlines()\n",
        "list_of_contents[0]"
      ],
      "metadata": {
        "colab": {
          "base_uri": "https://localhost:8080/",
          "height": 244
        },
        "id": "1-a5QYUJBzLH",
        "outputId": "6b7f36bd-7b02-4736-f90d-5c0fccf38b82"
      },
      "execution_count": null,
      "outputs": [
        {
          "output_type": "execute_result",
          "data": {
            "text/plain": [
              "\"The BBC is being urged to drop singer Olly Alexander as its entrant for Eurovision after it emerged he signed a letter calling Israel an 'apartheid regime'. The Years And Years frontman, 33, was unveiled as next year's candidate for the UK during the Strictly Come Dancing final, which aired on the BBC on Saturday. But he now faces having that role stripped from him after he signed a letter from LGBT charity Voices4London which described Israel as an 'apartheid regime' which is trying to 'ethnically cleanse' Palestine. The statement, which was published on October 20, almost two weeks after Hamas' October 7 attack, also says that Israel has 'terrorised' Palestinian people and there is now a 'genocide' taking place 'in real time'. The Conservatives have accused the BBC of 'either a massive oversight or sheer brass neck' for selecting Alexander, while a Jewish charity has called for him to be replaced and for the broadcaster to cut ties with him. The BBC is not planning on taking any action as the singer signed the letter weeks before he was unveiled as the UK's Eurovision act, the Telegraph reported. The BBC is being urged to drop singer Olly Alexander as its entrant for Eurovision after it emerged he signed letter calling Israel an 'apartheid regime' Alexander now faces having the role stripped from him after he reportedly signed a letter from LGBT charity Voices4London which described Israel an 'apartheid regime' Aerial view of buildings destroyed by Israeli air strikes in the Jabalia camp for Palestinian refugees in Gaza City on October 11 The letter which was allegedly signed by Alexander, who is non-binary and uses he/him pronouns, said: 'We are watching a genocide take place in real time. 'Death overflows from our phone screens and into our hearts. And, as a queer community, we cannot sit idly by while the Israeli government continues to wipe out entire lineages of Palestinian families. 'We cannot untangle these recent tragedies from a violent history of occupation. 'Current events simply are an escalation of the state of Israel's apartheid regime, which acts to ethnically cleanse the land. 'Since the violent creation of the state 75 years ago, the Israeli military and Israeli settlers have continued to terrorise Palestinian people.' 'Queer and trans Palestinians have long highlighted that pinkwashing plays a significant role in Zionist propaganda. 'We stand against any and all harassment and discrimination against Jewish communities. 'For the many queer and anti-Zionist Jewish individuals invested in liberation, this unthinking philosemitism, which hesitates to criticise an ongoing genocide out of fear of being seen to criticise Jewish people, is simply the other face of anti-Semitism'. Olly Alexander was announced as the UK's entry for Eurovision next year The Years And Years frontman, 33, made the announcement during Saturday's live final of Strictly Come Dancing as the audience cheered along After it emerged that Alexander had signed the letter, a Conservative Party source told The Telegraph: 'Letting an openly anti-Israel singer compete on the same stage as Israel is either a massive oversight or sheer brass neck from the BBC. 'After they refused to call Hamas a terrorist organisation, you would think BBC bosses would try to steer clear of causing any more diplomatic blunders. 'Maybe it's time to stop letting the BBC decide who represents the UK at Eurovision.' Meanwhile, a spokesman for the Jewish charity Campaign Against Antisemitism told the newspaper: 'The rhetoric in this letter, which is seemingly endorsed by Olly Alexander, is extreme. It is appalling in particular that it condemns 'unthinking philosemitism. 'At a time when nearly seven in ten British Jews feel afraid to express their identity in public, this must not be the person to represent our country at the Eurovision Song Contest. The BBC can and must right this wrong.' Alexander is set to represent the UK in Sweden in 2024 and has promised to 'fly the flag for the UK in the gayest way possible'. Following the announcement on Saturday, Alexander said in a statement: 'I've loved watching Eurovision ever since I was a little kid and I'm beyond excited to be taking part next year. 'As a young boy I always looked forward to this incredible event of unbridled joy, the wonderfully chaotic mix of musical styles, theatrical performances, heartfelt emotion and humour.' Olly Alexander performing live on stage with his band Years and Years at Wembley Arena in 2022 Sir Elton John and Olly Alexander perform during The BRIT Awards 2021 at The O2 Arena The UK has won Eurovision five times, with the last time being in 1997 when Katrina & The Waves performed Love Shine A Light . Prior to that, the UK stormed to victory in 1981 with Bucks Fizz's Makin' Your Mind Up, and in 1976 with Brotherhood Of Man's Save Your Kisses For Me. In 1969, Lulu, who performed Boom Bang-a-Bang came first in a four-way joint tie with France, the Netherlands and Spain. The UK's first ever Eurovision victory came 11 years after the annual competition launched with Sandie Shaw's Puppet on a String in 1967. Israel has won the competition four times after its debut in the competition in 1973 as the first non-European country to participate in the event. MailOnline has contacted Alexander's representatives for comment. The BBC declined to comment.\\n\""
            ],
            "application/vnd.google.colaboratory.intrinsic+json": {
              "type": "string"
            }
          },
          "metadata": {},
          "execution_count": 3
        }
      ]
    },
    {
      "cell_type": "code",
      "source": [
        "len(list_of_contents)"
      ],
      "metadata": {
        "id": "BBeGXgZbWFHi"
      },
      "execution_count": null,
      "outputs": []
    },
    {
      "cell_type": "markdown",
      "metadata": {
        "id": "DQyCl2KIWHn7"
      },
      "source": [
        "# BERTopic\n",
        "\n",
        "https://maartengr.github.io/BERTopic/getting_started/distribution/distribution.html#example"
      ]
    },
    {
      "cell_type": "markdown",
      "metadata": {
        "id": "u4adhrL6a_Yx"
      },
      "source": [
        "from BERTopic documentation:\n",
        "\n",
        "## Attributes\n",
        "\n",
        "There are a number of attributes that you can access after having trained your BERTopic model:\n",
        "\n",
        "\n",
        "| Attribute | Description |\n",
        "|------------------------|---------------------------------------------------------------------------------------------|\n",
        "| topics_               | The topics that are generated for each document after training or updating the topic model. |\n",
        "| probabilities_ | The probabilities that are generated for each document if HDBSCAN is used. |\n",
        "| topic_sizes_           | The size of each topic                                                                      |\n",
        "| topic_mapper_          | A class for tracking topics and their mappings anytime they are merged/reduced.             |\n",
        "| topic_representations_ | The top *n* terms per topic and their respective c-TF-IDF values.                             |\n",
        "| c_tf_idf_              | The topic-term matrix as calculated through c-TF-IDF.                                       |\n",
        "| topic_labels_          | The default labels for each topic.                                                          |\n",
        "| custom_labels_         | Custom labels for each topic as generated through `.set_topic_labels`.                                                               |\n",
        "| topic_embeddings_      | The embeddings for each topic if `embedding_model` was used.                                                              |\n",
        "| representative_docs_   | The representative documents for each topic if HDBSCAN is used.                                                |\n",
        "\n",
        "possible visualizations:\n",
        "- topic_model.visualize_barchart(top_n_topics=5)\n",
        "- topic_model.visualize_topics()"
      ]
    },
    {
      "cell_type": "code",
      "execution_count": null,
      "metadata": {
        "id": "KJzO4DrdZ1Gj"
      },
      "outputs": [],
      "source": [
        "from bertopic import BERTopic"
      ]
    },
    {
      "cell_type": "markdown",
      "source": [
        "\"After having calculated our top n words per topic there might be many words that essentially mean the same thing. As a little bonus, we can use bertopic.representation.MaximalMarginalRelevance in BERTopic to diversify words in each topic such that we limit the number of duplicate words we find in each topic.\" ~BERTopic documentation"
      ],
      "metadata": {
        "id": "zupGpZ2QMyzV"
      }
    },
    {
      "cell_type": "code",
      "source": [
        "from umap import UMAP\n",
        "from bertopic.representation import MaximalMarginalRelevance\n",
        "import numpy as np\n",
        "import tensorflow as tf\n",
        "np.random.seed(42)\n",
        "tf.random.set_seed(42)\n",
        "\n",
        "\n",
        "umap_model = UMAP(n_neighbors=15, n_components=5,\n",
        "                  min_dist=0.0, metric='cosine', random_state=42)\n",
        "representation_model = MaximalMarginalRelevance(diversity=0.5) #so that the words in topics are diverse\n",
        "topic_model = BERTopic(language=\"english\", calculate_probabilities=True, verbose=True, representation_model=representation_model, umap_model=umap_model)\n",
        "topics, probs = topic_model.fit_transform(list_of_contents)"
      ],
      "metadata": {
        "colab": {
          "base_uri": "https://localhost:8080/",
          "height": 560,
          "referenced_widgets": [
            "8e98f681cdf14a638bc89fd6f3ecfe10",
            "1806cb1e4e5c4657aa859be067255e81",
            "594f06babe6d4abbbb41d1f8c01ac573",
            "6c31701aeffa44899a477cb246aa3252",
            "44b3c78b4f0742d78f39df042badc27b",
            "e978f691de1644daa83d597065ce9ec0",
            "07cc69fa77d843039558dc6b3e49092c",
            "299745befb9b4a27b2f195769153439e",
            "dd9afabde66b496cbd2fc7393d702268",
            "ef227adeed2544f1a6d4d812e4e630b3",
            "0af2d0dd25474d5786056c96ba45491c",
            "12030aa07c774233967bd6f3bf781848",
            "33fc44b80ac74d8f9c10f43dba15bb4a",
            "c67ade0c74c94a2ab60aa81858daad29",
            "6947abe4aa724c73ab46b1b58fafd8d1",
            "834e7b38dff4463aa113c145e7ade50c",
            "57a789a24fac4c4b9c13cad8414e882c",
            "5bfe739a05174120a1884a7f1ca45e0f",
            "4d64990d5dbf4ddda58e168985ce0521",
            "9036f1c36dd3434a988d003166d171e6",
            "93e71732d1ce4327aa071f107cc47536",
            "57d8339c1845417aa8bc25a22886b5c4",
            "a2bd51b5eb5043d4819a0024c0142138",
            "6739a869af7e4c3480ce2c11b68a739d",
            "c2fca5cb3d25413ebe87b220c906b740",
            "e4c19ff1a4b142f6b9a1130841ec1080",
            "5c47475fb9d844ed88ce12785626cba2",
            "0886448fb0a745b1a1def0ddec782268",
            "62d83e84a03c42e49ce796abbdb2cfe8",
            "52ebfd957e78493f880e824fd3fa3281",
            "bd68543604a3427680757f6a19a8feb4",
            "2a2a10586c464ac59c567cc45557cc19",
            "899b2c88cc3744a69a77240803cf0d4d",
            "70367ccd76b44ec28faa396c5da6fa3d",
            "5684345922d14e6e9fe0123683a11721",
            "141e6e9717fc4be09d9b0dbb0ec74e51",
            "ef617bc78e494a28955e8541c0aacfa3",
            "42ee8c9a5c094e49985dbb033e2b3457",
            "cf53ce4b13d14145926fabbd9ccc61db",
            "e5abc650b42f4c2299a9ff131bb69d29",
            "fa1ba85764184ce194274962f855bb96",
            "e924c5a268d944ec8e3ca3d2e9e274ed",
            "44635712d60543bbb238ce0ef167670e",
            "2cdcefe2995846119bc1bcc35d2378f5",
            "ecdd36a38b104dd4a954209ed5a952d3",
            "3051c1e01ab04756b253ac8e60936952",
            "c9d3e3967aef43a58bf60dead5e90875",
            "99974aa41f6647b29a1d45fba7bbbded",
            "8aa2c7709b86416896429b4ec636a022",
            "5d5377852d1d496695bb9d4fced53342",
            "ed9d4b20185344dab3d98ca557d8dc8c",
            "46db3b153b524cef85e3c37309533d43",
            "e4a2b2bf473842e49dcb7c033046890c",
            "43dfb0b9d8174867aa6648b6a9c06884",
            "99f1a7a4a83d438f87f03fdf2edd14b4",
            "8cf5e1481a2846deb439ecefd352a048",
            "817d3945e5a8467d91f0a83cf8fef34a",
            "b9cd15d79d4f4e24b88692c5933164f4",
            "df2dc5e6aafc4ffa923c9e3f0da0903d",
            "301432535652434badf275b49035d8ec",
            "bdb5097636ec431894b84d0138684f51",
            "55aea351373143eab09d2df3b3b11305",
            "d799035cb8a14472935db51f8af83726",
            "295fbf89a9aa40a38e515c5f8ca4e302",
            "e7ae0cb379b947ef9d9e93adef22136e",
            "7b7bc9f07f944dea9f4a3c9220e73f6a",
            "1c94cbba7ee841e1941775a28db34e92",
            "192c0d8d3718451caedd9dfaca4689e0",
            "1e5f98f283c44224a0b98c9b887b7ae8",
            "856f0a6acc304456b4d798bc65f0d7f4",
            "b8b112c99a9348fa90b5efbed10152c3",
            "47235e7b28ee4235920291b28c69847b",
            "d61bbf37d69446d7b8d351d1aeb6c596",
            "92da335510f8423cb3bb6fa54d7d96b5",
            "30dc0207b6f94823bc25bcabe2d71202",
            "f6c89d1817f64b6ab2c23ad6ddbf5ef1",
            "cf405f0f928946df8f160129eabde3e5",
            "f8282fc218864a9796b014acc0580199",
            "83a31577627141458995b0b8010634e0",
            "2a763a3de06d47baa849e49f89e37365",
            "baf9d9d0821b4ba68d458290179b2eb0",
            "964414146bb34bc69f6d833694fbadf6",
            "8741301341f645439ee9866f4596fe4e",
            "670a7eb70e01445f953acfbbbeea1514",
            "32d2dbc867cb48198f588e2754f6052a",
            "0004c319844a4caeb0437e214260249d",
            "cf164d1c9ca64e1980d0cf6d7551abad",
            "03389fc1a3a9482793b4a745e7dfca65",
            "93ec4a3bbda24298885e2db1977c4338",
            "e3b7547715df41e086762d21a66ab1e0",
            "0e1a4830643a43b7a8a846c267619e5e",
            "38864106278a48bb9ae2a5fa42d351fa",
            "8bfbb7d81ccb4777aaa1e1b5523f9b11",
            "6889cee0349242289b5063d66836d85f",
            "8c73811007ab47d79bee24005dcc55ad",
            "d3016660b0c34731a2ad87d498effe87",
            "eea28bec3fa345999b0c3286493628ca",
            "69bed7e9f99e478a894322c161e54df4",
            "e891ae356f134ed089f533bf34b11634",
            "6858d3aa30a3434a807495780937818f",
            "3cc4dc0fcacf49089b35af26dcfbd0e2",
            "b53cb51db6974456be94053c74dbca13",
            "fba2624ceff242d08e25efc79e7a639e",
            "70ade376a5154c7d8d7b81cc514591e8",
            "a84a0b28cf5e49559e7078473aa62fcd",
            "4b0e6200eaf543569e1395e74b29ed8c",
            "9996f4bc50634a9ba9b232001e09e16a",
            "bc7ca886a3984acb9fca90a8ee96cc06",
            "4eb19480c1e4418db8915831b95a4fba",
            "edbf4544656d419ca128363958b40476",
            "8ab2f8c05b894ef7ad934208eb269b7d",
            "861c236e243d470d97c214546951bc08",
            "a2dc85cdbed94f9b9f2139e0426a6f52",
            "c1f2057e2b504dc0be749a8e86d3e328",
            "ad8a4805f6c64cd49898706c3ec7ddaa",
            "e3c4927d6332482ba018c89cc280fab0",
            "180494a1ef0845b3a8ecee2b74c8b304",
            "d5c5ff0025fd4412a8d7b1912351e4c4",
            "c076ca80d69f4253a42dd3f41ec86552",
            "ab3d0779aff14fe3af1aa1cd87474e79",
            "9bef5e8cd0f84c48aabed202deff2cf9",
            "b54b25a5a51e46249eb59365966bf7b0",
            "59b370eb953f4f44a99242621df5c023",
            "a22dc78a126548fca0532561df714b46",
            "62a5fa47f4bc4df0b3f60753478c408e",
            "c5fb8a408b1949d983e8379882baafee",
            "cbaeb6eb2517403caccdb4e06a71493a",
            "f1287449b0b94f47bc2d180a04a9b6f7",
            "6b1ca52d0e4f4a7ab9ba0f788abcc835",
            "0ec676d330654c45b0e83fc2aafda47a",
            "93652552a18b46d19bbb76885b2ee72d",
            "fbf049c627b94900862a745fc8655a33"
          ]
        },
        "id": "3UglR5nr_a0E",
        "outputId": "473bfacc-0289-4147-cd1e-807c50c5beba"
      },
      "execution_count": null,
      "outputs": [
        {
          "output_type": "stream",
          "name": "stderr",
          "text": [
            "2024-04-21 14:30:27,408 - BERTopic - Embedding - Transforming documents to embeddings.\n"
          ]
        },
        {
          "output_type": "display_data",
          "data": {
            "text/plain": [
              "modules.json:   0%|          | 0.00/349 [00:00<?, ?B/s]"
            ],
            "application/vnd.jupyter.widget-view+json": {
              "version_major": 2,
              "version_minor": 0,
              "model_id": "8e98f681cdf14a638bc89fd6f3ecfe10"
            }
          },
          "metadata": {}
        },
        {
          "output_type": "display_data",
          "data": {
            "text/plain": [
              "config_sentence_transformers.json:   0%|          | 0.00/116 [00:00<?, ?B/s]"
            ],
            "application/vnd.jupyter.widget-view+json": {
              "version_major": 2,
              "version_minor": 0,
              "model_id": "12030aa07c774233967bd6f3bf781848"
            }
          },
          "metadata": {}
        },
        {
          "output_type": "display_data",
          "data": {
            "text/plain": [
              "README.md:   0%|          | 0.00/10.7k [00:00<?, ?B/s]"
            ],
            "application/vnd.jupyter.widget-view+json": {
              "version_major": 2,
              "version_minor": 0,
              "model_id": "a2bd51b5eb5043d4819a0024c0142138"
            }
          },
          "metadata": {}
        },
        {
          "output_type": "display_data",
          "data": {
            "text/plain": [
              "sentence_bert_config.json:   0%|          | 0.00/53.0 [00:00<?, ?B/s]"
            ],
            "application/vnd.jupyter.widget-view+json": {
              "version_major": 2,
              "version_minor": 0,
              "model_id": "70367ccd76b44ec28faa396c5da6fa3d"
            }
          },
          "metadata": {}
        },
        {
          "output_type": "display_data",
          "data": {
            "text/plain": [
              "config.json:   0%|          | 0.00/612 [00:00<?, ?B/s]"
            ],
            "application/vnd.jupyter.widget-view+json": {
              "version_major": 2,
              "version_minor": 0,
              "model_id": "ecdd36a38b104dd4a954209ed5a952d3"
            }
          },
          "metadata": {}
        },
        {
          "output_type": "display_data",
          "data": {
            "text/plain": [
              "model.safetensors:   0%|          | 0.00/90.9M [00:00<?, ?B/s]"
            ],
            "application/vnd.jupyter.widget-view+json": {
              "version_major": 2,
              "version_minor": 0,
              "model_id": "8cf5e1481a2846deb439ecefd352a048"
            }
          },
          "metadata": {}
        },
        {
          "output_type": "display_data",
          "data": {
            "text/plain": [
              "tokenizer_config.json:   0%|          | 0.00/350 [00:00<?, ?B/s]"
            ],
            "application/vnd.jupyter.widget-view+json": {
              "version_major": 2,
              "version_minor": 0,
              "model_id": "1c94cbba7ee841e1941775a28db34e92"
            }
          },
          "metadata": {}
        },
        {
          "output_type": "display_data",
          "data": {
            "text/plain": [
              "vocab.txt:   0%|          | 0.00/232k [00:00<?, ?B/s]"
            ],
            "application/vnd.jupyter.widget-view+json": {
              "version_major": 2,
              "version_minor": 0,
              "model_id": "f8282fc218864a9796b014acc0580199"
            }
          },
          "metadata": {}
        },
        {
          "output_type": "display_data",
          "data": {
            "text/plain": [
              "tokenizer.json:   0%|          | 0.00/466k [00:00<?, ?B/s]"
            ],
            "application/vnd.jupyter.widget-view+json": {
              "version_major": 2,
              "version_minor": 0,
              "model_id": "93ec4a3bbda24298885e2db1977c4338"
            }
          },
          "metadata": {}
        },
        {
          "output_type": "display_data",
          "data": {
            "text/plain": [
              "special_tokens_map.json:   0%|          | 0.00/112 [00:00<?, ?B/s]"
            ],
            "application/vnd.jupyter.widget-view+json": {
              "version_major": 2,
              "version_minor": 0,
              "model_id": "6858d3aa30a3434a807495780937818f"
            }
          },
          "metadata": {}
        },
        {
          "output_type": "display_data",
          "data": {
            "text/plain": [
              "1_Pooling/config.json:   0%|          | 0.00/190 [00:00<?, ?B/s]"
            ],
            "application/vnd.jupyter.widget-view+json": {
              "version_major": 2,
              "version_minor": 0,
              "model_id": "8ab2f8c05b894ef7ad934208eb269b7d"
            }
          },
          "metadata": {}
        },
        {
          "output_type": "display_data",
          "data": {
            "text/plain": [
              "Batches:   0%|          | 0/335 [00:00<?, ?it/s]"
            ],
            "application/vnd.jupyter.widget-view+json": {
              "version_major": 2,
              "version_minor": 0,
              "model_id": "b54b25a5a51e46249eb59365966bf7b0"
            }
          },
          "metadata": {}
        },
        {
          "output_type": "stream",
          "name": "stderr",
          "text": [
            "2024-04-21 14:31:26,748 - BERTopic - Embedding - Completed ✓\n",
            "2024-04-21 14:31:26,750 - BERTopic - Dimensionality - Fitting the dimensionality reduction algorithm\n",
            "2024-04-21 14:32:01,004 - BERTopic - Dimensionality - Completed ✓\n",
            "2024-04-21 14:32:01,006 - BERTopic - Cluster - Start clustering the reduced embeddings\n",
            "2024-04-21 14:32:19,576 - BERTopic - Cluster - Completed ✓\n",
            "2024-04-21 14:32:19,587 - BERTopic - Representation - Extracting topics from clusters using representation models.\n",
            "2024-04-21 14:32:34,576 - BERTopic - Representation - Completed ✓\n"
          ]
        }
      ]
    },
    {
      "cell_type": "code",
      "execution_count": null,
      "metadata": {
        "colab": {
          "base_uri": "https://localhost:8080/",
          "height": 451
        },
        "id": "uotQotMyZ-Ot",
        "outputId": "5212adb6-e419-433b-fdd0-cea25639e4c2"
      },
      "outputs": [
        {
          "output_type": "execute_result",
          "data": {
            "text/plain": [
              "   Topic  Count                             Name  \\\n",
              "0     -1   2806                   -1_to_of_on_by   \n",
              "1      0    228    0_musk_elon_platform_accounts   \n",
              "2      1    198         1_lineker_bbc_gary_match   \n",
              "3      2    160         2_ai_chatgpt_bing_openai   \n",
              "4      3    153  3_tesla_model_vehicles_shanghai   \n",
              "\n",
              "                                      Representation  \\\n",
              "0      [to, of, on, by, said, at, her, its, has, be]   \n",
              "1  [musk, elon, platform, accounts, he, yaccarino...   \n",
              "2  [lineker, bbc, gary, match, impartiality, guid...   \n",
              "3  [ai, chatgpt, bing, openai, chatbot, technolog...   \n",
              "4  [tesla, model, vehicles, shanghai, musk, deman...   \n",
              "\n",
              "                                 Representative_Docs  \n",
              "0  [Few would recognise them, and even fewer know...  \n",
              "1  [The head of advertising for NBCUniversal is i...  \n",
              "2  [Pundits, commentators and players are set to ...  \n",
              "3  [The James Webb space telescope cost $10bn (£8...  \n",
              "4  [The Tesla Model Y (left) and Model 3 electric...  "
            ],
            "text/html": [
              "\n",
              "  <div id=\"df-3b81b832-6bd7-4a03-9ffe-ccf72084a724\" class=\"colab-df-container\">\n",
              "    <div>\n",
              "<style scoped>\n",
              "    .dataframe tbody tr th:only-of-type {\n",
              "        vertical-align: middle;\n",
              "    }\n",
              "\n",
              "    .dataframe tbody tr th {\n",
              "        vertical-align: top;\n",
              "    }\n",
              "\n",
              "    .dataframe thead th {\n",
              "        text-align: right;\n",
              "    }\n",
              "</style>\n",
              "<table border=\"1\" class=\"dataframe\">\n",
              "  <thead>\n",
              "    <tr style=\"text-align: right;\">\n",
              "      <th></th>\n",
              "      <th>Topic</th>\n",
              "      <th>Count</th>\n",
              "      <th>Name</th>\n",
              "      <th>Representation</th>\n",
              "      <th>Representative_Docs</th>\n",
              "    </tr>\n",
              "  </thead>\n",
              "  <tbody>\n",
              "    <tr>\n",
              "      <th>0</th>\n",
              "      <td>-1</td>\n",
              "      <td>2806</td>\n",
              "      <td>-1_to_of_on_by</td>\n",
              "      <td>[to, of, on, by, said, at, her, its, has, be]</td>\n",
              "      <td>[Few would recognise them, and even fewer know...</td>\n",
              "    </tr>\n",
              "    <tr>\n",
              "      <th>1</th>\n",
              "      <td>0</td>\n",
              "      <td>228</td>\n",
              "      <td>0_musk_elon_platform_accounts</td>\n",
              "      <td>[musk, elon, platform, accounts, he, yaccarino...</td>\n",
              "      <td>[The head of advertising for NBCUniversal is i...</td>\n",
              "    </tr>\n",
              "    <tr>\n",
              "      <th>2</th>\n",
              "      <td>1</td>\n",
              "      <td>198</td>\n",
              "      <td>1_lineker_bbc_gary_match</td>\n",
              "      <td>[lineker, bbc, gary, match, impartiality, guid...</td>\n",
              "      <td>[Pundits, commentators and players are set to ...</td>\n",
              "    </tr>\n",
              "    <tr>\n",
              "      <th>3</th>\n",
              "      <td>2</td>\n",
              "      <td>160</td>\n",
              "      <td>2_ai_chatgpt_bing_openai</td>\n",
              "      <td>[ai, chatgpt, bing, openai, chatbot, technolog...</td>\n",
              "      <td>[The James Webb space telescope cost $10bn (£8...</td>\n",
              "    </tr>\n",
              "    <tr>\n",
              "      <th>4</th>\n",
              "      <td>3</td>\n",
              "      <td>153</td>\n",
              "      <td>3_tesla_model_vehicles_shanghai</td>\n",
              "      <td>[tesla, model, vehicles, shanghai, musk, deman...</td>\n",
              "      <td>[The Tesla Model Y (left) and Model 3 electric...</td>\n",
              "    </tr>\n",
              "  </tbody>\n",
              "</table>\n",
              "</div>\n",
              "    <div class=\"colab-df-buttons\">\n",
              "\n",
              "  <div class=\"colab-df-container\">\n",
              "    <button class=\"colab-df-convert\" onclick=\"convertToInteractive('df-3b81b832-6bd7-4a03-9ffe-ccf72084a724')\"\n",
              "            title=\"Convert this dataframe to an interactive table.\"\n",
              "            style=\"display:none;\">\n",
              "\n",
              "  <svg xmlns=\"http://www.w3.org/2000/svg\" height=\"24px\" viewBox=\"0 -960 960 960\">\n",
              "    <path d=\"M120-120v-720h720v720H120Zm60-500h600v-160H180v160Zm220 220h160v-160H400v160Zm0 220h160v-160H400v160ZM180-400h160v-160H180v160Zm440 0h160v-160H620v160ZM180-180h160v-160H180v160Zm440 0h160v-160H620v160Z\"/>\n",
              "  </svg>\n",
              "    </button>\n",
              "\n",
              "  <style>\n",
              "    .colab-df-container {\n",
              "      display:flex;\n",
              "      gap: 12px;\n",
              "    }\n",
              "\n",
              "    .colab-df-convert {\n",
              "      background-color: #E8F0FE;\n",
              "      border: none;\n",
              "      border-radius: 50%;\n",
              "      cursor: pointer;\n",
              "      display: none;\n",
              "      fill: #1967D2;\n",
              "      height: 32px;\n",
              "      padding: 0 0 0 0;\n",
              "      width: 32px;\n",
              "    }\n",
              "\n",
              "    .colab-df-convert:hover {\n",
              "      background-color: #E2EBFA;\n",
              "      box-shadow: 0px 1px 2px rgba(60, 64, 67, 0.3), 0px 1px 3px 1px rgba(60, 64, 67, 0.15);\n",
              "      fill: #174EA6;\n",
              "    }\n",
              "\n",
              "    .colab-df-buttons div {\n",
              "      margin-bottom: 4px;\n",
              "    }\n",
              "\n",
              "    [theme=dark] .colab-df-convert {\n",
              "      background-color: #3B4455;\n",
              "      fill: #D2E3FC;\n",
              "    }\n",
              "\n",
              "    [theme=dark] .colab-df-convert:hover {\n",
              "      background-color: #434B5C;\n",
              "      box-shadow: 0px 1px 3px 1px rgba(0, 0, 0, 0.15);\n",
              "      filter: drop-shadow(0px 1px 2px rgba(0, 0, 0, 0.3));\n",
              "      fill: #FFFFFF;\n",
              "    }\n",
              "  </style>\n",
              "\n",
              "    <script>\n",
              "      const buttonEl =\n",
              "        document.querySelector('#df-3b81b832-6bd7-4a03-9ffe-ccf72084a724 button.colab-df-convert');\n",
              "      buttonEl.style.display =\n",
              "        google.colab.kernel.accessAllowed ? 'block' : 'none';\n",
              "\n",
              "      async function convertToInteractive(key) {\n",
              "        const element = document.querySelector('#df-3b81b832-6bd7-4a03-9ffe-ccf72084a724');\n",
              "        const dataTable =\n",
              "          await google.colab.kernel.invokeFunction('convertToInteractive',\n",
              "                                                    [key], {});\n",
              "        if (!dataTable) return;\n",
              "\n",
              "        const docLinkHtml = 'Like what you see? Visit the ' +\n",
              "          '<a target=\"_blank\" href=https://colab.research.google.com/notebooks/data_table.ipynb>data table notebook</a>'\n",
              "          + ' to learn more about interactive tables.';\n",
              "        element.innerHTML = '';\n",
              "        dataTable['output_type'] = 'display_data';\n",
              "        await google.colab.output.renderOutput(dataTable, element);\n",
              "        const docLink = document.createElement('div');\n",
              "        docLink.innerHTML = docLinkHtml;\n",
              "        element.appendChild(docLink);\n",
              "      }\n",
              "    </script>\n",
              "  </div>\n",
              "\n",
              "\n",
              "<div id=\"df-687f4fbc-c4ea-41b6-94e5-dac9f5f7a89e\">\n",
              "  <button class=\"colab-df-quickchart\" onclick=\"quickchart('df-687f4fbc-c4ea-41b6-94e5-dac9f5f7a89e')\"\n",
              "            title=\"Suggest charts\"\n",
              "            style=\"display:none;\">\n",
              "\n",
              "<svg xmlns=\"http://www.w3.org/2000/svg\" height=\"24px\"viewBox=\"0 0 24 24\"\n",
              "     width=\"24px\">\n",
              "    <g>\n",
              "        <path d=\"M19 3H5c-1.1 0-2 .9-2 2v14c0 1.1.9 2 2 2h14c1.1 0 2-.9 2-2V5c0-1.1-.9-2-2-2zM9 17H7v-7h2v7zm4 0h-2V7h2v10zm4 0h-2v-4h2v4z\"/>\n",
              "    </g>\n",
              "</svg>\n",
              "  </button>\n",
              "\n",
              "<style>\n",
              "  .colab-df-quickchart {\n",
              "      --bg-color: #E8F0FE;\n",
              "      --fill-color: #1967D2;\n",
              "      --hover-bg-color: #E2EBFA;\n",
              "      --hover-fill-color: #174EA6;\n",
              "      --disabled-fill-color: #AAA;\n",
              "      --disabled-bg-color: #DDD;\n",
              "  }\n",
              "\n",
              "  [theme=dark] .colab-df-quickchart {\n",
              "      --bg-color: #3B4455;\n",
              "      --fill-color: #D2E3FC;\n",
              "      --hover-bg-color: #434B5C;\n",
              "      --hover-fill-color: #FFFFFF;\n",
              "      --disabled-bg-color: #3B4455;\n",
              "      --disabled-fill-color: #666;\n",
              "  }\n",
              "\n",
              "  .colab-df-quickchart {\n",
              "    background-color: var(--bg-color);\n",
              "    border: none;\n",
              "    border-radius: 50%;\n",
              "    cursor: pointer;\n",
              "    display: none;\n",
              "    fill: var(--fill-color);\n",
              "    height: 32px;\n",
              "    padding: 0;\n",
              "    width: 32px;\n",
              "  }\n",
              "\n",
              "  .colab-df-quickchart:hover {\n",
              "    background-color: var(--hover-bg-color);\n",
              "    box-shadow: 0 1px 2px rgba(60, 64, 67, 0.3), 0 1px 3px 1px rgba(60, 64, 67, 0.15);\n",
              "    fill: var(--button-hover-fill-color);\n",
              "  }\n",
              "\n",
              "  .colab-df-quickchart-complete:disabled,\n",
              "  .colab-df-quickchart-complete:disabled:hover {\n",
              "    background-color: var(--disabled-bg-color);\n",
              "    fill: var(--disabled-fill-color);\n",
              "    box-shadow: none;\n",
              "  }\n",
              "\n",
              "  .colab-df-spinner {\n",
              "    border: 2px solid var(--fill-color);\n",
              "    border-color: transparent;\n",
              "    border-bottom-color: var(--fill-color);\n",
              "    animation:\n",
              "      spin 1s steps(1) infinite;\n",
              "  }\n",
              "\n",
              "  @keyframes spin {\n",
              "    0% {\n",
              "      border-color: transparent;\n",
              "      border-bottom-color: var(--fill-color);\n",
              "      border-left-color: var(--fill-color);\n",
              "    }\n",
              "    20% {\n",
              "      border-color: transparent;\n",
              "      border-left-color: var(--fill-color);\n",
              "      border-top-color: var(--fill-color);\n",
              "    }\n",
              "    30% {\n",
              "      border-color: transparent;\n",
              "      border-left-color: var(--fill-color);\n",
              "      border-top-color: var(--fill-color);\n",
              "      border-right-color: var(--fill-color);\n",
              "    }\n",
              "    40% {\n",
              "      border-color: transparent;\n",
              "      border-right-color: var(--fill-color);\n",
              "      border-top-color: var(--fill-color);\n",
              "    }\n",
              "    60% {\n",
              "      border-color: transparent;\n",
              "      border-right-color: var(--fill-color);\n",
              "    }\n",
              "    80% {\n",
              "      border-color: transparent;\n",
              "      border-right-color: var(--fill-color);\n",
              "      border-bottom-color: var(--fill-color);\n",
              "    }\n",
              "    90% {\n",
              "      border-color: transparent;\n",
              "      border-bottom-color: var(--fill-color);\n",
              "    }\n",
              "  }\n",
              "</style>\n",
              "\n",
              "  <script>\n",
              "    async function quickchart(key) {\n",
              "      const quickchartButtonEl =\n",
              "        document.querySelector('#' + key + ' button');\n",
              "      quickchartButtonEl.disabled = true;  // To prevent multiple clicks.\n",
              "      quickchartButtonEl.classList.add('colab-df-spinner');\n",
              "      try {\n",
              "        const charts = await google.colab.kernel.invokeFunction(\n",
              "            'suggestCharts', [key], {});\n",
              "      } catch (error) {\n",
              "        console.error('Error during call to suggestCharts:', error);\n",
              "      }\n",
              "      quickchartButtonEl.classList.remove('colab-df-spinner');\n",
              "      quickchartButtonEl.classList.add('colab-df-quickchart-complete');\n",
              "    }\n",
              "    (() => {\n",
              "      let quickchartButtonEl =\n",
              "        document.querySelector('#df-687f4fbc-c4ea-41b6-94e5-dac9f5f7a89e button');\n",
              "      quickchartButtonEl.style.display =\n",
              "        google.colab.kernel.accessAllowed ? 'block' : 'none';\n",
              "    })();\n",
              "  </script>\n",
              "</div>\n",
              "    </div>\n",
              "  </div>\n"
            ],
            "application/vnd.google.colaboratory.intrinsic+json": {
              "type": "dataframe",
              "summary": "{\n  \"name\": \"# \\\"-1 refers to all outliers and should typically be ignored\\\"~BERTopic original notebook\",\n  \"rows\": 5,\n  \"fields\": [\n    {\n      \"column\": \"Topic\",\n      \"properties\": {\n        \"dtype\": \"number\",\n        \"std\": 1,\n        \"min\": -1,\n        \"max\": 3,\n        \"num_unique_values\": 5,\n        \"samples\": [\n          0,\n          3,\n          1\n        ],\n        \"semantic_type\": \"\",\n        \"description\": \"\"\n      }\n    },\n    {\n      \"column\": \"Count\",\n      \"properties\": {\n        \"dtype\": \"number\",\n        \"std\": 1172,\n        \"min\": 153,\n        \"max\": 2806,\n        \"num_unique_values\": 5,\n        \"samples\": [\n          228,\n          153,\n          198\n        ],\n        \"semantic_type\": \"\",\n        \"description\": \"\"\n      }\n    },\n    {\n      \"column\": \"Name\",\n      \"properties\": {\n        \"dtype\": \"string\",\n        \"num_unique_values\": 5,\n        \"samples\": [\n          \"0_musk_elon_platform_accounts\",\n          \"3_tesla_model_vehicles_shanghai\",\n          \"1_lineker_bbc_gary_match\"\n        ],\n        \"semantic_type\": \"\",\n        \"description\": \"\"\n      }\n    },\n    {\n      \"column\": \"Representation\",\n      \"properties\": {\n        \"dtype\": \"object\",\n        \"semantic_type\": \"\",\n        \"description\": \"\"\n      }\n    },\n    {\n      \"column\": \"Representative_Docs\",\n      \"properties\": {\n        \"dtype\": \"object\",\n        \"semantic_type\": \"\",\n        \"description\": \"\"\n      }\n    }\n  ]\n}"
            }
          },
          "metadata": {},
          "execution_count": 19
        }
      ],
      "source": [
        "# look at the most frequent topics\n",
        "freq = topic_model.get_topic_info(); freq.head(5)\n",
        "# \"-1 refers to all outliers and should typically be ignored\"~BERTopic original notebook"
      ]
    },
    {
      "cell_type": "code",
      "execution_count": null,
      "metadata": {
        "colab": {
          "base_uri": "https://localhost:8080/"
        },
        "id": "U422NvmOZ-Qd",
        "outputId": "12b6438c-f877-40d7-b567-0d8dacc35f9d"
      },
      "outputs": [
        {
          "output_type": "execute_result",
          "data": {
            "text/plain": [
              "[('lineker', 0.028793255635504566),\n",
              " ('bbc', 0.019963226714644074),\n",
              " ('gary', 0.01626875783288018),\n",
              " ('match', 0.012846012688403316),\n",
              " ('impartiality', 0.009874951038961128),\n",
              " ('guidelines', 0.006373452939970671),\n",
              " ('broadcaster', 0.00535540321482669),\n",
              " ('tweet', 0.005302333978973766),\n",
              " ('motd', 0.005157304708837905),\n",
              " ('coverage', 0.005081485258385216)]"
            ]
          },
          "metadata": {},
          "execution_count": 20
        }
      ],
      "source": [
        "topic_model.get_topic(1)  # Select the most frequent topic"
      ]
    },
    {
      "cell_type": "code",
      "source": [
        "topic_model.topics_[0]#which topic was predicted for row 0 of input data"
      ],
      "metadata": {
        "colab": {
          "base_uri": "https://localhost:8080/"
        },
        "id": "TBne7wmBVZQT",
        "outputId": "7c77b18d-92b4-4de6-8b41-da5fd6c00c4d"
      },
      "execution_count": null,
      "outputs": [
        {
          "output_type": "execute_result",
          "data": {
            "text/plain": [
              "50"
            ]
          },
          "metadata": {},
          "execution_count": 21
        }
      ]
    },
    {
      "cell_type": "code",
      "execution_count": null,
      "metadata": {
        "colab": {
          "base_uri": "https://localhost:8080/"
        },
        "id": "xocIezBxZ-Tr",
        "outputId": "3613194c-3bc9-48f8-aeb6-f599daf1f186"
      },
      "outputs": [
        {
          "output_type": "execute_result",
          "data": {
            "text/plain": [
              "[50, 50, 82, 26, 9, 4, 124, 91, 64, -1]"
            ]
          },
          "metadata": {},
          "execution_count": 22
        }
      ],
      "source": [
        "topic_model.topics_[:10] # predicted topics for the first 10 documents"
      ]
    },
    {
      "cell_type": "markdown",
      "source": [
        "### topics representations"
      ],
      "metadata": {
        "id": "HrziSHjSIOoQ"
      }
    },
    {
      "cell_type": "code",
      "source": [
        "topic_model.topic_representations_[50]"
      ],
      "metadata": {
        "colab": {
          "base_uri": "https://localhost:8080/"
        },
        "id": "a94P2JyBIShb",
        "outputId": "53716bd3-996b-4e04-b4e8-b77b56f9db7a"
      },
      "execution_count": null,
      "outputs": [
        {
          "output_type": "execute_result",
          "data": {
            "text/plain": [
              "[('hamas', 0.03561702295392197),\n",
              " ('terrorist', 0.016506805782111673),\n",
              " ('antisemitism', 0.01310028313446327),\n",
              " ('jews', 0.010928370083568133),\n",
              " ('civilians', 0.007950227484695748),\n",
              " ('staff', 0.0074804791017801355),\n",
              " ('attacks', 0.007193027421793891),\n",
              " ('bbcs', 0.006202486157881965),\n",
              " ('editorial', 0.006104881219865824),\n",
              " ('simpson', 0.005678733917639821)]"
            ]
          },
          "metadata": {},
          "execution_count": 23
        }
      ]
    },
    {
      "cell_type": "code",
      "source": [
        "topic_model.topic_representations_[topic_model.topics_[0]]"
      ],
      "metadata": {
        "colab": {
          "base_uri": "https://localhost:8080/"
        },
        "id": "fJQ7pH8fXrZ8",
        "outputId": "bf1d3f0e-9997-46c9-84d5-e7459717df35"
      },
      "execution_count": null,
      "outputs": [
        {
          "output_type": "execute_result",
          "data": {
            "text/plain": [
              "[('hamas', 0.03561702295392197),\n",
              " ('terrorist', 0.016506805782111673),\n",
              " ('antisemitism', 0.01310028313446327),\n",
              " ('jews', 0.010928370083568133),\n",
              " ('civilians', 0.007950227484695748),\n",
              " ('staff', 0.0074804791017801355),\n",
              " ('attacks', 0.007193027421793891),\n",
              " ('bbcs', 0.006202486157881965),\n",
              " ('editorial', 0.006104881219865824),\n",
              " ('simpson', 0.005678733917639821)]"
            ]
          },
          "metadata": {},
          "execution_count": 24
        }
      ]
    },
    {
      "cell_type": "markdown",
      "source": [
        "# sentiment analysis\n",
        "\n",
        "Max length of the input for BERT is 512, which is a problem, as the input data in actaware dataset is longer.\n",
        "\n",
        "Trying to solve the issue with https://github.com/ccdv-ai/convert_checkpoint_to_lsg."
      ],
      "metadata": {
        "id": "hsbGtxK9KibJ"
      }
    },
    {
      "cell_type": "code",
      "source": [
        "!pip install lsg-converter"
      ],
      "metadata": {
        "id": "Be01L-LVVU2K"
      },
      "execution_count": null,
      "outputs": []
    },
    {
      "cell_type": "code",
      "source": [
        "from transformers import BertForSequenceClassification, BertTokenizer\n",
        "from lsg_converter import LSGConverter\n",
        "\n",
        "def run_bert_sentiment_more_configurations(text=\"I love movie!\"):\n",
        "  converter = LSGConverter(max_sequence_length=)\n",
        "  model, tokenizer = converter.\n",
        "  # model = BertForSequenceClassification.from_pretrained('nlptown/bert-base-multilingual-uncased-sentiment')\n",
        "  # tokenizer = BertTokenizer.from_pretrained('nlptown/bert-base-multilingual-uncased-sentiment')\n",
        "  input_ids = tokenizer.encode(text, return_tensors=\"pt\")\n",
        "  output=model(input_ids)\n",
        "  predictions = output.logits.argmax(dim=1)\n",
        "  sentiment_lab=['1 star', '2 stars', '3 stars', '4 stars', '5 stars']\n",
        "  return sentiment_lab[predictions.item()]"
      ],
      "metadata": {
        "id": "YzLmciY_WL_y"
      },
      "execution_count": null,
      "outputs": []
    },
    {
      "cell_type": "code",
      "source": [
        "example_sent=run_bert_sentiment_more_configurations(text=\"I love movie!\")"
      ],
      "metadata": {
        "colab": {
          "base_uri": "https://localhost:8080/",
          "height": 194,
          "referenced_widgets": [
            "7bb34a9a63cc47d991800a7d55aaceb1",
            "3e3299187c3347e987bc7ac49b432679",
            "0750e2fb59ea4c2f861cbbee3c296a62",
            "7fc18d67b3814933b5b9c26ac28ea4a5",
            "630c0dd258e14644bc2aac12cc257803",
            "fedf1dbedfa442dda02bbec17866c9ad",
            "edae4e7adcdc4c88ac6e985d37a5a6bf",
            "e6832f55bebd4330b173ad47b8b5c387",
            "b45601c7fb684ff58fe27d5a0ab7b9f2",
            "1657ad99052842a9aa98cb9c77c262aa",
            "6f1e4166412a4eea8cbf82471bf772c6",
            "a6d5102d8d43451f90a7cf4e2200e46f",
            "d0b5ac34bf7e4ac4bd1be680fcea8c5d",
            "82e3921ade9049bf900ae165abcdc107",
            "74c1a35f30614cfd9d78b583b6257ffe",
            "7196c94ebed54b72a8515e085ad594cf",
            "4c1ca66522d744f79d1ec79d7f4e23a8",
            "32ab19b500b9446ba005c701802d6e7f",
            "d24251b954f146a492cec932d4758100",
            "403bd1c067c74d5f8be610a66487ff0a",
            "9727f2d60941445ab328f8341522a2ff",
            "03b3ec82a31f4d39a05933f46c9e4f33",
            "39c210c2430d48778c7177af41e2ccc2",
            "ff11d416f6544939b744cfa4cf62ad4a",
            "363320128908486fba8457c497bf031a",
            "c991611c0b384858a2037d4a28a448da",
            "a2c69a65f1bf41cfa760f097253cdb05",
            "c5999fb6e546462db7c41628d9ccb589",
            "414d9a3246e444af9bb83ac56e3f19f5",
            "881cfe65fd2949e4a4746b8b64d6007b",
            "a05a4d43818040a4b3431b1c21774808",
            "cd29da4ae49149399845549af51a9252",
            "3e848b606e63404aa5729bd530210586",
            "12abd844d9da4d428bcde892f7d71450",
            "0411c076cf174a5fa7fb965e14300238",
            "a09d8a3677474d8a81f6472a6caab79d",
            "40af5e8021e74954a8a0b8314f85a9e2",
            "fef9595a9867426ba91867223db7a982",
            "105046338d7f4fdea2ae9bef43c5cdb7",
            "6d3e855812554e73bf1ae5c58ffab686",
            "1d63382af4f146ea999295ae9de879b4",
            "bda989f1aba049eda802384a1113d1ed",
            "1fd61a8efe124bf897d83db65b630885",
            "def2f0169ac1465b8b3637ce0e350947",
            "fe2c99245fd04c85a3a7b8eacc98e9e5",
            "1d7a165cbefc4114949fedb92748d15e",
            "11d85c7f65614bd7977e64f3809620a1",
            "cd1ccbe37eb446aba45880e8c9cde3a3",
            "c9f75a430ad545df814824f8e3c5cd42",
            "2af5b72683c246f698e2db8a62554e05",
            "eff27ac289e24af5a43a58fc774c2d82",
            "42ef2925b2a543aeaae822b7184ba98b",
            "9d6b645fcb7541368f1d99012c07fe71",
            "f83d46a74e274c4bac134bd588032843",
            "9f9d879a8c764973be31630815fe2c66"
          ]
        },
        "id": "5Xwyf-rTWj3g",
        "outputId": "58d8f5ef-4080-4396-add8-d9aa52f542a5"
      },
      "execution_count": null,
      "outputs": [
        {
          "output_type": "display_data",
          "data": {
            "text/plain": [
              "config.json:   0%|          | 0.00/953 [00:00<?, ?B/s]"
            ],
            "application/vnd.jupyter.widget-view+json": {
              "version_major": 2,
              "version_minor": 0,
              "model_id": "7bb34a9a63cc47d991800a7d55aaceb1"
            }
          },
          "metadata": {}
        },
        {
          "output_type": "display_data",
          "data": {
            "text/plain": [
              "pytorch_model.bin:   0%|          | 0.00/669M [00:00<?, ?B/s]"
            ],
            "application/vnd.jupyter.widget-view+json": {
              "version_major": 2,
              "version_minor": 0,
              "model_id": "a6d5102d8d43451f90a7cf4e2200e46f"
            }
          },
          "metadata": {}
        },
        {
          "output_type": "display_data",
          "data": {
            "text/plain": [
              "tokenizer_config.json:   0%|          | 0.00/39.0 [00:00<?, ?B/s]"
            ],
            "application/vnd.jupyter.widget-view+json": {
              "version_major": 2,
              "version_minor": 0,
              "model_id": "39c210c2430d48778c7177af41e2ccc2"
            }
          },
          "metadata": {}
        },
        {
          "output_type": "display_data",
          "data": {
            "text/plain": [
              "vocab.txt:   0%|          | 0.00/872k [00:00<?, ?B/s]"
            ],
            "application/vnd.jupyter.widget-view+json": {
              "version_major": 2,
              "version_minor": 0,
              "model_id": "12abd844d9da4d428bcde892f7d71450"
            }
          },
          "metadata": {}
        },
        {
          "output_type": "display_data",
          "data": {
            "text/plain": [
              "special_tokens_map.json:   0%|          | 0.00/112 [00:00<?, ?B/s]"
            ],
            "application/vnd.jupyter.widget-view+json": {
              "version_major": 2,
              "version_minor": 0,
              "model_id": "fe2c99245fd04c85a3a7b8eacc98e9e5"
            }
          },
          "metadata": {}
        },
        {
          "output_type": "stream",
          "name": "stdout",
          "text": [
            "Pred sentiment: 5 stars\n"
          ]
        }
      ]
    },
    {
      "cell_type": "code",
      "source": [
        "example_sent"
      ],
      "metadata": {
        "colab": {
          "base_uri": "https://localhost:8080/",
          "height": 36
        },
        "id": "5PWDVkQcWqff",
        "outputId": "9592c96a-f508-47a4-f7f2-d894bc19c00e"
      },
      "execution_count": null,
      "outputs": [
        {
          "output_type": "execute_result",
          "data": {
            "text/plain": [
              "'5 stars'"
            ],
            "application/vnd.google.colaboratory.intrinsic+json": {
              "type": "string"
            }
          },
          "metadata": {},
          "execution_count": 27
        }
      ]
    },
    {
      "cell_type": "code",
      "source": [
        "sentiment_list=[\" \" for i in range(len(list_of_contents))]"
      ],
      "metadata": {
        "id": "y2DuofBAXJLG"
      },
      "execution_count": null,
      "outputs": []
    },
    {
      "cell_type": "code",
      "source": [
        "sentiment_list"
      ],
      "metadata": {
        "colab": {
          "base_uri": "https://localhost:8080/"
        },
        "id": "f5Xm9NAdMAln",
        "outputId": "efed2a7a-4ccf-4610-a4b4-6f104ee6cc87"
      },
      "execution_count": null,
      "outputs": [
        {
          "output_type": "execute_result",
          "data": {
            "text/plain": [
              "['2 stars',\n",
              " '1 star',\n",
              " '1 star',\n",
              " '1 star',\n",
              " '2 stars',\n",
              " '1 star',\n",
              " '2 stars',\n",
              " '4 stars',\n",
              " '5 stars',\n",
              " '5 stars',\n",
              " '3 stars',\n",
              " '1 star',\n",
              " '3 stars',\n",
              " '1 star',\n",
              " '4 stars',\n",
              " '1 star',\n",
              " '1 star',\n",
              " '1 star',\n",
              " '1 star',\n",
              " '1 star',\n",
              " '4 stars',\n",
              " '5 stars',\n",
              " '4 stars',\n",
              " '1 star',\n",
              " '1 star',\n",
              " '1 star',\n",
              " '1 star',\n",
              " '1 star',\n",
              " '1 star',\n",
              " '4 stars',\n",
              " '1 star',\n",
              " '5 stars',\n",
              " '1 star',\n",
              " '1 star',\n",
              " '4 stars',\n",
              " '5 stars',\n",
              " '1 star',\n",
              " '1 star',\n",
              " '1 star',\n",
              " '1 star',\n",
              " '1 star',\n",
              " '1 star',\n",
              " '1 star',\n",
              " '1 star',\n",
              " '4 stars',\n",
              " '2 stars',\n",
              " '1 star',\n",
              " '1 star',\n",
              " '3 stars',\n",
              " '1 star',\n",
              " '1 star',\n",
              " '1 star',\n",
              " '2 stars',\n",
              " '2 stars',\n",
              " '5 stars',\n",
              " '1 star',\n",
              " '2 stars',\n",
              " '1 star',\n",
              " '3 stars',\n",
              " '1 star',\n",
              " '1 star',\n",
              " '1 star',\n",
              " '1 star',\n",
              " '1 star',\n",
              " '4 stars',\n",
              " '4 stars',\n",
              " '2 stars',\n",
              " '1 star',\n",
              " '2 stars',\n",
              " '5 stars',\n",
              " '1 star',\n",
              " '4 stars',\n",
              " '1 star',\n",
              " '2 stars',\n",
              " '1 star',\n",
              " '1 star',\n",
              " '4 stars',\n",
              " '5 stars',\n",
              " '3 stars',\n",
              " '4 stars',\n",
              " '1 star',\n",
              " '1 star',\n",
              " '5 stars',\n",
              " '2 stars',\n",
              " '1 star',\n",
              " '1 star',\n",
              " '4 stars',\n",
              " '3 stars',\n",
              " '5 stars',\n",
              " '1 star',\n",
              " '1 star',\n",
              " '5 stars',\n",
              " '1 star',\n",
              " '5 stars',\n",
              " '4 stars',\n",
              " '5 stars',\n",
              " '1 star',\n",
              " '1 star',\n",
              " '1 star',\n",
              " '1 star',\n",
              " '4 stars',\n",
              " '1 star',\n",
              " '1 star',\n",
              " '4 stars',\n",
              " '1 star',\n",
              " '1 star',\n",
              " '5 stars',\n",
              " '1 star',\n",
              " '1 star',\n",
              " '1 star',\n",
              " '4 stars',\n",
              " '4 stars',\n",
              " '1 star',\n",
              " '4 stars',\n",
              " '2 stars',\n",
              " '1 star',\n",
              " '3 stars',\n",
              " '2 stars',\n",
              " '1 star',\n",
              " '5 stars',\n",
              " '3 stars',\n",
              " '4 stars',\n",
              " '4 stars',\n",
              " '1 star',\n",
              " '1 star',\n",
              " '1 star',\n",
              " '1 star',\n",
              " '4 stars',\n",
              " '1 star',\n",
              " '3 stars',\n",
              " '2 stars',\n",
              " '1 star',\n",
              " '1 star',\n",
              " '3 stars',\n",
              " '1 star',\n",
              " '3 stars',\n",
              " '2 stars',\n",
              " '1 star',\n",
              " '1 star',\n",
              " '1 star',\n",
              " '1 star',\n",
              " '1 star',\n",
              " '5 stars',\n",
              " '4 stars',\n",
              " '5 stars',\n",
              " '1 star',\n",
              " '2 stars',\n",
              " '1 star',\n",
              " '1 star',\n",
              " '4 stars',\n",
              " '5 stars',\n",
              " '1 star',\n",
              " '4 stars',\n",
              " '1 star',\n",
              " '1 star',\n",
              " '1 star',\n",
              " '1 star',\n",
              " '1 star',\n",
              " '1 star',\n",
              " '1 star',\n",
              " '4 stars',\n",
              " '1 star',\n",
              " '4 stars',\n",
              " '4 stars',\n",
              " '5 stars',\n",
              " '1 star',\n",
              " '1 star',\n",
              " '5 stars',\n",
              " '1 star',\n",
              " '1 star',\n",
              " '1 star',\n",
              " '2 stars',\n",
              " '2 stars',\n",
              " '1 star',\n",
              " '2 stars',\n",
              " '1 star',\n",
              " '1 star',\n",
              " '1 star',\n",
              " '1 star',\n",
              " '1 star',\n",
              " '4 stars',\n",
              " '1 star',\n",
              " '1 star',\n",
              " '1 star',\n",
              " '1 star',\n",
              " '1 star',\n",
              " '2 stars',\n",
              " '1 star',\n",
              " '1 star',\n",
              " '2 stars',\n",
              " '1 star',\n",
              " '3 stars',\n",
              " '1 star',\n",
              " '1 star',\n",
              " '5 stars',\n",
              " '1 star',\n",
              " '5 stars',\n",
              " '1 star',\n",
              " '1 star',\n",
              " '1 star',\n",
              " '1 star',\n",
              " '2 stars',\n",
              " '4 stars',\n",
              " '1 star',\n",
              " '1 star',\n",
              " '1 star',\n",
              " '1 star',\n",
              " '1 star',\n",
              " '1 star',\n",
              " '5 stars',\n",
              " '1 star',\n",
              " '1 star',\n",
              " '1 star',\n",
              " '1 star',\n",
              " '1 star',\n",
              " '1 star',\n",
              " '5 stars',\n",
              " '3 stars',\n",
              " '1 star',\n",
              " '5 stars',\n",
              " '2 stars',\n",
              " '2 stars',\n",
              " '1 star',\n",
              " '5 stars',\n",
              " '1 star',\n",
              " '5 stars',\n",
              " '1 star',\n",
              " '1 star',\n",
              " '1 star',\n",
              " '1 star',\n",
              " '1 star',\n",
              " '5 stars',\n",
              " '4 stars',\n",
              " '1 star',\n",
              " '2 stars',\n",
              " '1 star',\n",
              " '2 stars',\n",
              " '2 stars',\n",
              " '3 stars',\n",
              " '4 stars',\n",
              " '5 stars',\n",
              " '4 stars',\n",
              " '1 star',\n",
              " '1 star',\n",
              " '4 stars',\n",
              " '1 star',\n",
              " '4 stars',\n",
              " '5 stars',\n",
              " '1 star',\n",
              " '5 stars',\n",
              " '5 stars',\n",
              " '3 stars',\n",
              " '4 stars',\n",
              " '1 star',\n",
              " '1 star',\n",
              " '1 star',\n",
              " '1 star',\n",
              " '1 star',\n",
              " '5 stars',\n",
              " '4 stars',\n",
              " '2 stars',\n",
              " '1 star',\n",
              " '5 stars',\n",
              " '1 star',\n",
              " '4 stars',\n",
              " '1 star',\n",
              " '1 star',\n",
              " '4 stars',\n",
              " '1 star',\n",
              " '2 stars',\n",
              " '3 stars',\n",
              " '1 star',\n",
              " '2 stars',\n",
              " '1 star',\n",
              " '1 star',\n",
              " '1 star',\n",
              " '5 stars',\n",
              " '4 stars',\n",
              " '1 star',\n",
              " '3 stars',\n",
              " '1 star',\n",
              " '1 star',\n",
              " '5 stars',\n",
              " '4 stars',\n",
              " '5 stars',\n",
              " '1 star',\n",
              " '5 stars',\n",
              " '1 star',\n",
              " '1 star',\n",
              " '2 stars',\n",
              " '2 stars',\n",
              " '1 star',\n",
              " '1 star',\n",
              " '1 star',\n",
              " '1 star',\n",
              " '1 star',\n",
              " '1 star',\n",
              " '1 star',\n",
              " '1 star',\n",
              " '1 star',\n",
              " '1 star',\n",
              " '1 star',\n",
              " '1 star',\n",
              " '1 star',\n",
              " '1 star',\n",
              " '5 stars',\n",
              " '1 star',\n",
              " '1 star',\n",
              " '1 star',\n",
              " '4 stars',\n",
              " '1 star',\n",
              " '5 stars',\n",
              " '1 star',\n",
              " '1 star',\n",
              " '5 stars',\n",
              " '5 stars',\n",
              " '5 stars',\n",
              " '5 stars',\n",
              " '1 star',\n",
              " '3 stars',\n",
              " '3 stars',\n",
              " '4 stars',\n",
              " '1 star',\n",
              " '1 star',\n",
              " '1 star',\n",
              " '2 stars',\n",
              " '1 star',\n",
              " '2 stars',\n",
              " '1 star',\n",
              " '2 stars',\n",
              " '1 star',\n",
              " '4 stars',\n",
              " '1 star',\n",
              " '1 star',\n",
              " '1 star',\n",
              " '1 star',\n",
              " '4 stars',\n",
              " '1 star',\n",
              " '5 stars',\n",
              " '2 stars',\n",
              " '1 star',\n",
              " '4 stars',\n",
              " '1 star',\n",
              " '1 star',\n",
              " '1 star',\n",
              " '1 star',\n",
              " '1 star',\n",
              " '1 star',\n",
              " '1 star',\n",
              " '5 stars',\n",
              " '5 stars',\n",
              " '1 star',\n",
              " '2 stars',\n",
              " '4 stars',\n",
              " '1 star',\n",
              " '4 stars',\n",
              " '5 stars',\n",
              " '2 stars',\n",
              " '1 star',\n",
              " '1 star',\n",
              " '1 star',\n",
              " '5 stars',\n",
              " '1 star',\n",
              " '1 star',\n",
              " '4 stars',\n",
              " '2 stars',\n",
              " '1 star',\n",
              " '1 star',\n",
              " '2 stars',\n",
              " '4 stars',\n",
              " '4 stars',\n",
              " '1 star',\n",
              " '3 stars',\n",
              " '1 star',\n",
              " '3 stars',\n",
              " '1 star',\n",
              " '1 star',\n",
              " '1 star',\n",
              " '4 stars',\n",
              " '1 star',\n",
              " '1 star',\n",
              " '3 stars',\n",
              " '5 stars',\n",
              " '1 star',\n",
              " '1 star',\n",
              " '4 stars',\n",
              " '3 stars',\n",
              " '2 stars',\n",
              " '1 star',\n",
              " '4 stars',\n",
              " '1 star',\n",
              " '2 stars',\n",
              " '3 stars',\n",
              " '4 stars',\n",
              " '4 stars',\n",
              " '1 star',\n",
              " '4 stars',\n",
              " '1 star',\n",
              " '4 stars',\n",
              " '1 star',\n",
              " '1 star',\n",
              " '5 stars',\n",
              " '1 star',\n",
              " '1 star',\n",
              " '2 stars',\n",
              " '4 stars',\n",
              " '1 star',\n",
              " '1 star',\n",
              " '1 star',\n",
              " '1 star',\n",
              " '1 star',\n",
              " '2 stars',\n",
              " '1 star',\n",
              " '5 stars',\n",
              " '1 star',\n",
              " '4 stars',\n",
              " '1 star',\n",
              " '4 stars',\n",
              " '1 star',\n",
              " '1 star',\n",
              " '2 stars',\n",
              " '5 stars',\n",
              " '4 stars',\n",
              " '4 stars',\n",
              " '2 stars',\n",
              " '2 stars',\n",
              " '1 star',\n",
              " '4 stars',\n",
              " '1 star',\n",
              " '1 star',\n",
              " '1 star',\n",
              " '1 star',\n",
              " '5 stars',\n",
              " '1 star',\n",
              " '2 stars',\n",
              " '2 stars',\n",
              " '1 star',\n",
              " '1 star',\n",
              " '5 stars',\n",
              " '2 stars',\n",
              " '1 star',\n",
              " '5 stars',\n",
              " '1 star',\n",
              " '1 star',\n",
              " '5 stars',\n",
              " '3 stars',\n",
              " '1 star',\n",
              " '1 star',\n",
              " '5 stars',\n",
              " '1 star',\n",
              " '1 star',\n",
              " '1 star',\n",
              " '1 star',\n",
              " '1 star',\n",
              " '1 star',\n",
              " '1 star',\n",
              " '5 stars',\n",
              " '5 stars',\n",
              " '5 stars',\n",
              " '1 star',\n",
              " '1 star',\n",
              " '1 star',\n",
              " '1 star',\n",
              " '1 star',\n",
              " '3 stars',\n",
              " '1 star',\n",
              " '5 stars',\n",
              " '1 star',\n",
              " '2 stars',\n",
              " '5 stars',\n",
              " '1 star',\n",
              " '1 star',\n",
              " '4 stars',\n",
              " '1 star',\n",
              " '3 stars',\n",
              " '3 stars',\n",
              " '3 stars',\n",
              " '5 stars',\n",
              " '2 stars',\n",
              " '1 star',\n",
              " '3 stars',\n",
              " '1 star',\n",
              " '4 stars',\n",
              " '1 star',\n",
              " '4 stars',\n",
              " '4 stars',\n",
              " '1 star',\n",
              " '1 star',\n",
              " '5 stars',\n",
              " '1 star',\n",
              " '3 stars',\n",
              " '4 stars',\n",
              " '5 stars',\n",
              " '1 star',\n",
              " '1 star',\n",
              " '1 star',\n",
              " '1 star',\n",
              " '4 stars',\n",
              " '1 star',\n",
              " '4 stars',\n",
              " '1 star',\n",
              " '4 stars',\n",
              " '1 star',\n",
              " '2 stars',\n",
              " '1 star',\n",
              " '1 star',\n",
              " '1 star',\n",
              " '3 stars',\n",
              " '1 star',\n",
              " '1 star',\n",
              " '2 stars',\n",
              " '5 stars',\n",
              " '4 stars',\n",
              " '2 stars',\n",
              " '4 stars',\n",
              " '2 stars',\n",
              " '1 star',\n",
              " '1 star',\n",
              " '1 star',\n",
              " '2 stars',\n",
              " '1 star',\n",
              " '1 star',\n",
              " '1 star',\n",
              " '4 stars',\n",
              " '1 star',\n",
              " '4 stars',\n",
              " '1 star',\n",
              " '4 stars',\n",
              " '4 stars',\n",
              " '1 star',\n",
              " '1 star',\n",
              " '1 star',\n",
              " '2 stars',\n",
              " '4 stars',\n",
              " '1 star',\n",
              " '1 star',\n",
              " '1 star',\n",
              " '2 stars',\n",
              " '4 stars',\n",
              " '1 star',\n",
              " '2 stars',\n",
              " '1 star',\n",
              " '1 star',\n",
              " '2 stars',\n",
              " '1 star',\n",
              " '1 star',\n",
              " '4 stars',\n",
              " '2 stars',\n",
              " '1 star',\n",
              " '3 stars',\n",
              " '2 stars',\n",
              " '1 star',\n",
              " '1 star',\n",
              " '1 star',\n",
              " '1 star',\n",
              " '1 star',\n",
              " '1 star',\n",
              " '1 star',\n",
              " '1 star',\n",
              " '5 stars',\n",
              " '4 stars',\n",
              " '1 star',\n",
              " '1 star',\n",
              " '1 star',\n",
              " '1 star',\n",
              " '1 star',\n",
              " '4 stars',\n",
              " '1 star',\n",
              " '3 stars',\n",
              " '4 stars',\n",
              " '1 star',\n",
              " '4 stars',\n",
              " '1 star',\n",
              " '3 stars',\n",
              " '1 star',\n",
              " '5 stars',\n",
              " '1 star',\n",
              " '2 stars',\n",
              " '1 star',\n",
              " '2 stars',\n",
              " '1 star',\n",
              " '1 star',\n",
              " '5 stars',\n",
              " '1 star',\n",
              " '1 star',\n",
              " '4 stars',\n",
              " '1 star',\n",
              " '1 star',\n",
              " '1 star',\n",
              " '1 star',\n",
              " '5 stars',\n",
              " '5 stars',\n",
              " '1 star',\n",
              " '1 star',\n",
              " '4 stars',\n",
              " '1 star',\n",
              " '1 star',\n",
              " '4 stars',\n",
              " '1 star',\n",
              " '1 star',\n",
              " '1 star',\n",
              " '4 stars',\n",
              " '1 star',\n",
              " '1 star',\n",
              " '1 star',\n",
              " '1 star',\n",
              " '1 star',\n",
              " '5 stars',\n",
              " '1 star',\n",
              " '1 star',\n",
              " '2 stars',\n",
              " '1 star',\n",
              " '1 star',\n",
              " '1 star',\n",
              " '4 stars',\n",
              " '5 stars',\n",
              " '4 stars',\n",
              " '1 star',\n",
              " '2 stars',\n",
              " '1 star',\n",
              " '3 stars',\n",
              " '1 star',\n",
              " '5 stars',\n",
              " '2 stars',\n",
              " '1 star',\n",
              " '1 star',\n",
              " '4 stars',\n",
              " '1 star',\n",
              " '1 star',\n",
              " '5 stars',\n",
              " '2 stars',\n",
              " '3 stars',\n",
              " '4 stars',\n",
              " '1 star',\n",
              " '1 star',\n",
              " '3 stars',\n",
              " '1 star',\n",
              " '1 star',\n",
              " '1 star',\n",
              " '1 star',\n",
              " '1 star',\n",
              " '1 star',\n",
              " '5 stars',\n",
              " '1 star',\n",
              " '1 star',\n",
              " '1 star',\n",
              " '5 stars',\n",
              " '1 star',\n",
              " '5 stars',\n",
              " '5 stars',\n",
              " '1 star',\n",
              " '1 star',\n",
              " '1 star',\n",
              " '1 star',\n",
              " '1 star',\n",
              " '5 stars',\n",
              " '5 stars',\n",
              " '4 stars',\n",
              " '4 stars',\n",
              " '1 star',\n",
              " '5 stars',\n",
              " '1 star',\n",
              " '1 star',\n",
              " '1 star',\n",
              " '1 star',\n",
              " '2 stars',\n",
              " '1 star',\n",
              " '4 stars',\n",
              " '5 stars',\n",
              " '5 stars',\n",
              " '5 stars',\n",
              " '1 star',\n",
              " '4 stars',\n",
              " '5 stars',\n",
              " '5 stars',\n",
              " '1 star',\n",
              " '1 star',\n",
              " '1 star',\n",
              " '1 star',\n",
              " '5 stars',\n",
              " '1 star',\n",
              " '3 stars',\n",
              " '5 stars',\n",
              " '3 stars',\n",
              " '1 star',\n",
              " '5 stars',\n",
              " '4 stars',\n",
              " '1 star',\n",
              " '5 stars',\n",
              " '1 star',\n",
              " '2 stars',\n",
              " '3 stars',\n",
              " '1 star',\n",
              " '1 star',\n",
              " '1 star',\n",
              " '1 star',\n",
              " '2 stars',\n",
              " '1 star',\n",
              " '1 star',\n",
              " '2 stars',\n",
              " '5 stars',\n",
              " '4 stars',\n",
              " '5 stars',\n",
              " '1 star',\n",
              " '5 stars',\n",
              " '5 stars',\n",
              " '2 stars',\n",
              " '1 star',\n",
              " '1 star',\n",
              " '5 stars',\n",
              " '5 stars',\n",
              " '4 stars',\n",
              " '1 star',\n",
              " '1 star',\n",
              " '1 star',\n",
              " '1 star',\n",
              " '1 star',\n",
              " '1 star',\n",
              " '1 star',\n",
              " '1 star',\n",
              " '5 stars',\n",
              " '1 star',\n",
              " '1 star',\n",
              " '3 stars',\n",
              " '5 stars',\n",
              " '5 stars',\n",
              " '1 star',\n",
              " '2 stars',\n",
              " '4 stars',\n",
              " '1 star',\n",
              " '1 star',\n",
              " '5 stars',\n",
              " '2 stars',\n",
              " '2 stars',\n",
              " '4 stars',\n",
              " '5 stars',\n",
              " '4 stars',\n",
              " '5 stars',\n",
              " '4 stars',\n",
              " '5 stars',\n",
              " '1 star',\n",
              " '1 star',\n",
              " '2 stars',\n",
              " '5 stars',\n",
              " '1 star',\n",
              " '1 star',\n",
              " '2 stars',\n",
              " '5 stars',\n",
              " '3 stars',\n",
              " '4 stars',\n",
              " '4 stars',\n",
              " '4 stars',\n",
              " '1 star',\n",
              " '1 star',\n",
              " '4 stars',\n",
              " '5 stars',\n",
              " '4 stars',\n",
              " '3 stars',\n",
              " '4 stars',\n",
              " '1 star',\n",
              " '3 stars',\n",
              " '1 star',\n",
              " '4 stars',\n",
              " '5 stars',\n",
              " '3 stars',\n",
              " '1 star',\n",
              " '5 stars',\n",
              " '1 star',\n",
              " '1 star',\n",
              " '4 stars',\n",
              " '1 star',\n",
              " '1 star',\n",
              " '3 stars',\n",
              " '1 star',\n",
              " '3 stars',\n",
              " '4 stars',\n",
              " '3 stars',\n",
              " '4 stars',\n",
              " '5 stars',\n",
              " '5 stars',\n",
              " '1 star',\n",
              " '1 star',\n",
              " '1 star',\n",
              " '1 star',\n",
              " '1 star',\n",
              " '1 star',\n",
              " '1 star',\n",
              " '1 star',\n",
              " '5 stars',\n",
              " '5 stars',\n",
              " '2 stars',\n",
              " '1 star',\n",
              " '1 star',\n",
              " '1 star',\n",
              " '1 star',\n",
              " '5 stars',\n",
              " '1 star',\n",
              " '2 stars',\n",
              " '2 stars',\n",
              " '1 star',\n",
              " '1 star',\n",
              " '1 star',\n",
              " '5 stars',\n",
              " '2 stars',\n",
              " '1 star',\n",
              " '1 star',\n",
              " '1 star',\n",
              " '1 star',\n",
              " '2 stars',\n",
              " '1 star',\n",
              " '1 star',\n",
              " '1 star',\n",
              " '4 stars',\n",
              " '2 stars',\n",
              " '1 star',\n",
              " '1 star',\n",
              " '1 star',\n",
              " '1 star',\n",
              " '1 star',\n",
              " '1 star',\n",
              " '4 stars',\n",
              " '1 star',\n",
              " '5 stars',\n",
              " '1 star',\n",
              " '1 star',\n",
              " '1 star',\n",
              " '1 star',\n",
              " '5 stars',\n",
              " '4 stars',\n",
              " '5 stars',\n",
              " '5 stars',\n",
              " '1 star',\n",
              " '1 star',\n",
              " '2 stars',\n",
              " '4 stars',\n",
              " '3 stars',\n",
              " '1 star',\n",
              " '1 star',\n",
              " '1 star',\n",
              " '4 stars',\n",
              " '5 stars',\n",
              " '1 star',\n",
              " '1 star',\n",
              " '1 star',\n",
              " '1 star',\n",
              " '5 stars',\n",
              " '4 stars',\n",
              " '1 star',\n",
              " '1 star',\n",
              " '1 star',\n",
              " '1 star',\n",
              " '1 star',\n",
              " '1 star',\n",
              " '3 stars',\n",
              " '4 stars',\n",
              " '3 stars',\n",
              " '1 star',\n",
              " '3 stars',\n",
              " '1 star',\n",
              " '1 star',\n",
              " '1 star',\n",
              " '1 star',\n",
              " '5 stars',\n",
              " '1 star',\n",
              " '4 stars',\n",
              " '5 stars',\n",
              " '1 star',\n",
              " '1 star',\n",
              " '1 star',\n",
              " '1 star',\n",
              " '1 star',\n",
              " '2 stars',\n",
              " '1 star',\n",
              " '2 stars',\n",
              " '4 stars',\n",
              " '1 star',\n",
              " '1 star',\n",
              " '1 star',\n",
              " '1 star',\n",
              " '5 stars',\n",
              " '3 stars',\n",
              " '1 star',\n",
              " '1 star',\n",
              " '4 stars',\n",
              " '1 star',\n",
              " '1 star',\n",
              " '5 stars',\n",
              " '4 stars',\n",
              " '4 stars',\n",
              " '1 star',\n",
              " '1 star',\n",
              " '3 stars',\n",
              " '1 star',\n",
              " '1 star',\n",
              " '5 stars',\n",
              " '4 stars',\n",
              " '1 star',\n",
              " '4 stars',\n",
              " '4 stars',\n",
              " '1 star',\n",
              " '5 stars',\n",
              " '2 stars',\n",
              " '1 star',\n",
              " '1 star',\n",
              " '1 star',\n",
              " '1 star',\n",
              " '1 star',\n",
              " '1 star',\n",
              " '1 star',\n",
              " '4 stars',\n",
              " '5 stars',\n",
              " '5 stars',\n",
              " '4 stars',\n",
              " '1 star',\n",
              " '1 star',\n",
              " '5 stars',\n",
              " '5 stars',\n",
              " '5 stars',\n",
              " '5 stars',\n",
              " '2 stars',\n",
              " '1 star',\n",
              " '1 star',\n",
              " '1 star',\n",
              " '1 star',\n",
              " '1 star',\n",
              " '2 stars',\n",
              " '4 stars',\n",
              " '2 stars',\n",
              " '2 stars',\n",
              " '1 star',\n",
              " '3 stars',\n",
              " '5 stars',\n",
              " '1 star',\n",
              " '3 stars',\n",
              " '2 stars',\n",
              " '4 stars',\n",
              " '4 stars',\n",
              " '4 stars',\n",
              " '1 star',\n",
              " '1 star',\n",
              " '1 star',\n",
              " '1 star',\n",
              " '1 star',\n",
              " '1 star',\n",
              " '1 star',\n",
              " '2 stars',\n",
              " '2 stars',\n",
              " '1 star',\n",
              " '1 star',\n",
              " '1 star',\n",
              " '5 stars',\n",
              " '2 stars',\n",
              " '1 star',\n",
              " '1 star',\n",
              " '1 star',\n",
              " '1 star',\n",
              " '3 stars',\n",
              " '1 star',\n",
              " '4 stars',\n",
              " '1 star',\n",
              " '5 stars',\n",
              " '2 stars',\n",
              " '1 star',\n",
              " '5 stars',\n",
              " '4 stars',\n",
              " '1 star',\n",
              " '1 star',\n",
              " '1 star',\n",
              " '1 star',\n",
              " '3 stars',\n",
              " '4 stars',\n",
              " '1 star',\n",
              " '1 star',\n",
              " '5 stars',\n",
              " '1 star',\n",
              " '1 star',\n",
              " '1 star',\n",
              " '1 star',\n",
              " '3 stars',\n",
              " '4 stars',\n",
              " '4 stars',\n",
              " '4 stars',\n",
              " '4 stars',\n",
              " '4 stars',\n",
              " '5 stars',\n",
              " '4 stars',\n",
              " '4 stars',\n",
              " '5 stars',\n",
              " '1 star',\n",
              " '4 stars',\n",
              " '4 stars',\n",
              " '2 stars',\n",
              " '1 star',\n",
              " '5 stars',\n",
              " '1 star',\n",
              " '1 star',\n",
              " '1 star',\n",
              " '5 stars',\n",
              " '1 star',\n",
              " '1 star',\n",
              " ...]"
            ]
          },
          "metadata": {},
          "execution_count": 33
        }
      ]
    },
    {
      "cell_type": "code",
      "source": [
        "i=1250\n",
        "while i < len(list_of_contents):\n",
        "  if i%250==0:\n",
        "    print(i)\n",
        "  sentiment_list[i]=run_bert_sentiment_more_configurations(text=list_of_contents[i][:300]) #przeliczone teraz do 2750\n",
        "  i+=1"
      ],
      "metadata": {
        "id": "-d5qsrg-bBU0",
        "colab": {
          "base_uri": "https://localhost:8080/",
          "height": 512
        },
        "outputId": "a7235913-bc91-4f1b-c1b9-5209edfe5410"
      },
      "execution_count": null,
      "outputs": [
        {
          "output_type": "stream",
          "name": "stdout",
          "text": [
            "1250\n",
            "1500\n",
            "1750\n",
            "2000\n",
            "2250\n",
            "2500\n",
            "2750\n"
          ]
        },
        {
          "output_type": "error",
          "ename": "KeyboardInterrupt",
          "evalue": "",
          "traceback": [
            "\u001b[0;31m---------------------------------------------------------------------------\u001b[0m",
            "\u001b[0;31mKeyboardInterrupt\u001b[0m                         Traceback (most recent call last)",
            "\u001b[0;32m<ipython-input-35-03130567b3af>\u001b[0m in \u001b[0;36m<cell line: 2>\u001b[0;34m()\u001b[0m\n\u001b[1;32m      3\u001b[0m   \u001b[0;32mif\u001b[0m \u001b[0mi\u001b[0m\u001b[0;34m%\u001b[0m\u001b[0;36m250\u001b[0m\u001b[0;34m==\u001b[0m\u001b[0;36m0\u001b[0m\u001b[0;34m:\u001b[0m\u001b[0;34m\u001b[0m\u001b[0;34m\u001b[0m\u001b[0m\n\u001b[1;32m      4\u001b[0m     \u001b[0mprint\u001b[0m\u001b[0;34m(\u001b[0m\u001b[0mi\u001b[0m\u001b[0;34m)\u001b[0m\u001b[0;34m\u001b[0m\u001b[0;34m\u001b[0m\u001b[0m\n\u001b[0;32m----> 5\u001b[0;31m   \u001b[0msentiment_list\u001b[0m\u001b[0;34m[\u001b[0m\u001b[0mi\u001b[0m\u001b[0;34m]\u001b[0m\u001b[0;34m=\u001b[0m\u001b[0mrun_bert_sentiment_more_configurations\u001b[0m\u001b[0;34m(\u001b[0m\u001b[0mtext\u001b[0m\u001b[0;34m=\u001b[0m\u001b[0mlist_of_contents\u001b[0m\u001b[0;34m[\u001b[0m\u001b[0mi\u001b[0m\u001b[0;34m]\u001b[0m\u001b[0;34m[\u001b[0m\u001b[0;34m:\u001b[0m\u001b[0;36m300\u001b[0m\u001b[0;34m]\u001b[0m\u001b[0;34m)\u001b[0m\u001b[0;34m\u001b[0m\u001b[0;34m\u001b[0m\u001b[0m\n\u001b[0m\u001b[1;32m      6\u001b[0m   \u001b[0mi\u001b[0m\u001b[0;34m+=\u001b[0m\u001b[0;36m1\u001b[0m\u001b[0;34m\u001b[0m\u001b[0;34m\u001b[0m\u001b[0m\n",
            "\u001b[0;32m<ipython-input-30-96057ad29ca3>\u001b[0m in \u001b[0;36mrun_bert_sentiment_more_configurations\u001b[0;34m(text)\u001b[0m\n\u001b[1;32m      6\u001b[0m   \u001b[0mtokenizer\u001b[0m \u001b[0;34m=\u001b[0m \u001b[0mBertTokenizer\u001b[0m\u001b[0;34m.\u001b[0m\u001b[0mfrom_pretrained\u001b[0m\u001b[0;34m(\u001b[0m\u001b[0;34m'nlptown/bert-base-multilingual-uncased-sentiment'\u001b[0m\u001b[0;34m)\u001b[0m\u001b[0;34m\u001b[0m\u001b[0;34m\u001b[0m\u001b[0m\n\u001b[1;32m      7\u001b[0m   \u001b[0minput_ids\u001b[0m \u001b[0;34m=\u001b[0m \u001b[0mtokenizer\u001b[0m\u001b[0;34m.\u001b[0m\u001b[0mencode\u001b[0m\u001b[0;34m(\u001b[0m\u001b[0mtext\u001b[0m\u001b[0;34m,\u001b[0m \u001b[0mreturn_tensors\u001b[0m\u001b[0;34m=\u001b[0m\u001b[0;34m\"pt\"\u001b[0m\u001b[0;34m)\u001b[0m\u001b[0;34m\u001b[0m\u001b[0;34m\u001b[0m\u001b[0m\n\u001b[0;32m----> 8\u001b[0;31m   \u001b[0moutput\u001b[0m\u001b[0;34m=\u001b[0m\u001b[0mmodel\u001b[0m\u001b[0;34m(\u001b[0m\u001b[0minput_ids\u001b[0m\u001b[0;34m)\u001b[0m\u001b[0;34m\u001b[0m\u001b[0;34m\u001b[0m\u001b[0m\n\u001b[0m\u001b[1;32m      9\u001b[0m   \u001b[0mpredictions\u001b[0m \u001b[0;34m=\u001b[0m \u001b[0moutput\u001b[0m\u001b[0;34m.\u001b[0m\u001b[0mlogits\u001b[0m\u001b[0;34m.\u001b[0m\u001b[0margmax\u001b[0m\u001b[0;34m(\u001b[0m\u001b[0mdim\u001b[0m\u001b[0;34m=\u001b[0m\u001b[0;36m1\u001b[0m\u001b[0;34m)\u001b[0m\u001b[0;34m\u001b[0m\u001b[0;34m\u001b[0m\u001b[0m\n\u001b[1;32m     10\u001b[0m   \u001b[0msentiment_lab\u001b[0m\u001b[0;34m=\u001b[0m\u001b[0;34m[\u001b[0m\u001b[0;34m'1 star'\u001b[0m\u001b[0;34m,\u001b[0m \u001b[0;34m'2 stars'\u001b[0m\u001b[0;34m,\u001b[0m \u001b[0;34m'3 stars'\u001b[0m\u001b[0;34m,\u001b[0m \u001b[0;34m'4 stars'\u001b[0m\u001b[0;34m,\u001b[0m \u001b[0;34m'5 stars'\u001b[0m\u001b[0;34m]\u001b[0m\u001b[0;34m\u001b[0m\u001b[0;34m\u001b[0m\u001b[0m\n",
            "\u001b[0;32m/usr/local/lib/python3.10/dist-packages/torch/nn/modules/module.py\u001b[0m in \u001b[0;36m_wrapped_call_impl\u001b[0;34m(self, *args, **kwargs)\u001b[0m\n\u001b[1;32m   1509\u001b[0m             \u001b[0;32mreturn\u001b[0m \u001b[0mself\u001b[0m\u001b[0;34m.\u001b[0m\u001b[0m_compiled_call_impl\u001b[0m\u001b[0;34m(\u001b[0m\u001b[0;34m*\u001b[0m\u001b[0margs\u001b[0m\u001b[0;34m,\u001b[0m \u001b[0;34m**\u001b[0m\u001b[0mkwargs\u001b[0m\u001b[0;34m)\u001b[0m  \u001b[0;31m# type: ignore[misc]\u001b[0m\u001b[0;34m\u001b[0m\u001b[0;34m\u001b[0m\u001b[0m\n\u001b[1;32m   1510\u001b[0m         \u001b[0;32melse\u001b[0m\u001b[0;34m:\u001b[0m\u001b[0;34m\u001b[0m\u001b[0;34m\u001b[0m\u001b[0m\n\u001b[0;32m-> 1511\u001b[0;31m             \u001b[0;32mreturn\u001b[0m \u001b[0mself\u001b[0m\u001b[0;34m.\u001b[0m\u001b[0m_call_impl\u001b[0m\u001b[0;34m(\u001b[0m\u001b[0;34m*\u001b[0m\u001b[0margs\u001b[0m\u001b[0;34m,\u001b[0m \u001b[0;34m**\u001b[0m\u001b[0mkwargs\u001b[0m\u001b[0;34m)\u001b[0m\u001b[0;34m\u001b[0m\u001b[0;34m\u001b[0m\u001b[0m\n\u001b[0m\u001b[1;32m   1512\u001b[0m \u001b[0;34m\u001b[0m\u001b[0m\n\u001b[1;32m   1513\u001b[0m     \u001b[0;32mdef\u001b[0m \u001b[0m_call_impl\u001b[0m\u001b[0;34m(\u001b[0m\u001b[0mself\u001b[0m\u001b[0;34m,\u001b[0m \u001b[0;34m*\u001b[0m\u001b[0margs\u001b[0m\u001b[0;34m,\u001b[0m \u001b[0;34m**\u001b[0m\u001b[0mkwargs\u001b[0m\u001b[0;34m)\u001b[0m\u001b[0;34m:\u001b[0m\u001b[0;34m\u001b[0m\u001b[0;34m\u001b[0m\u001b[0m\n",
            "\u001b[0;32m/usr/local/lib/python3.10/dist-packages/torch/nn/modules/module.py\u001b[0m in \u001b[0;36m_call_impl\u001b[0;34m(self, *args, **kwargs)\u001b[0m\n\u001b[1;32m   1518\u001b[0m                 \u001b[0;32mor\u001b[0m \u001b[0m_global_backward_pre_hooks\u001b[0m \u001b[0;32mor\u001b[0m \u001b[0m_global_backward_hooks\u001b[0m\u001b[0;34m\u001b[0m\u001b[0;34m\u001b[0m\u001b[0m\n\u001b[1;32m   1519\u001b[0m                 or _global_forward_hooks or _global_forward_pre_hooks):\n\u001b[0;32m-> 1520\u001b[0;31m             \u001b[0;32mreturn\u001b[0m \u001b[0mforward_call\u001b[0m\u001b[0;34m(\u001b[0m\u001b[0;34m*\u001b[0m\u001b[0margs\u001b[0m\u001b[0;34m,\u001b[0m \u001b[0;34m**\u001b[0m\u001b[0mkwargs\u001b[0m\u001b[0;34m)\u001b[0m\u001b[0;34m\u001b[0m\u001b[0;34m\u001b[0m\u001b[0m\n\u001b[0m\u001b[1;32m   1521\u001b[0m \u001b[0;34m\u001b[0m\u001b[0m\n\u001b[1;32m   1522\u001b[0m         \u001b[0;32mtry\u001b[0m\u001b[0;34m:\u001b[0m\u001b[0;34m\u001b[0m\u001b[0;34m\u001b[0m\u001b[0m\n",
            "\u001b[0;32m/usr/local/lib/python3.10/dist-packages/transformers/models/bert/modeling_bert.py\u001b[0m in \u001b[0;36mforward\u001b[0;34m(self, input_ids, attention_mask, token_type_ids, position_ids, head_mask, inputs_embeds, labels, output_attentions, output_hidden_states, return_dict)\u001b[0m\n\u001b[1;32m   1562\u001b[0m         \u001b[0mreturn_dict\u001b[0m \u001b[0;34m=\u001b[0m \u001b[0mreturn_dict\u001b[0m \u001b[0;32mif\u001b[0m \u001b[0mreturn_dict\u001b[0m \u001b[0;32mis\u001b[0m \u001b[0;32mnot\u001b[0m \u001b[0;32mNone\u001b[0m \u001b[0;32melse\u001b[0m \u001b[0mself\u001b[0m\u001b[0;34m.\u001b[0m\u001b[0mconfig\u001b[0m\u001b[0;34m.\u001b[0m\u001b[0muse_return_dict\u001b[0m\u001b[0;34m\u001b[0m\u001b[0;34m\u001b[0m\u001b[0m\n\u001b[1;32m   1563\u001b[0m \u001b[0;34m\u001b[0m\u001b[0m\n\u001b[0;32m-> 1564\u001b[0;31m         outputs = self.bert(\n\u001b[0m\u001b[1;32m   1565\u001b[0m             \u001b[0minput_ids\u001b[0m\u001b[0;34m,\u001b[0m\u001b[0;34m\u001b[0m\u001b[0;34m\u001b[0m\u001b[0m\n\u001b[1;32m   1566\u001b[0m             \u001b[0mattention_mask\u001b[0m\u001b[0;34m=\u001b[0m\u001b[0mattention_mask\u001b[0m\u001b[0;34m,\u001b[0m\u001b[0;34m\u001b[0m\u001b[0;34m\u001b[0m\u001b[0m\n",
            "\u001b[0;32m/usr/local/lib/python3.10/dist-packages/torch/nn/modules/module.py\u001b[0m in \u001b[0;36m_wrapped_call_impl\u001b[0;34m(self, *args, **kwargs)\u001b[0m\n\u001b[1;32m   1509\u001b[0m             \u001b[0;32mreturn\u001b[0m \u001b[0mself\u001b[0m\u001b[0;34m.\u001b[0m\u001b[0m_compiled_call_impl\u001b[0m\u001b[0;34m(\u001b[0m\u001b[0;34m*\u001b[0m\u001b[0margs\u001b[0m\u001b[0;34m,\u001b[0m \u001b[0;34m**\u001b[0m\u001b[0mkwargs\u001b[0m\u001b[0;34m)\u001b[0m  \u001b[0;31m# type: ignore[misc]\u001b[0m\u001b[0;34m\u001b[0m\u001b[0;34m\u001b[0m\u001b[0m\n\u001b[1;32m   1510\u001b[0m         \u001b[0;32melse\u001b[0m\u001b[0;34m:\u001b[0m\u001b[0;34m\u001b[0m\u001b[0;34m\u001b[0m\u001b[0m\n\u001b[0;32m-> 1511\u001b[0;31m             \u001b[0;32mreturn\u001b[0m \u001b[0mself\u001b[0m\u001b[0;34m.\u001b[0m\u001b[0m_call_impl\u001b[0m\u001b[0;34m(\u001b[0m\u001b[0;34m*\u001b[0m\u001b[0margs\u001b[0m\u001b[0;34m,\u001b[0m \u001b[0;34m**\u001b[0m\u001b[0mkwargs\u001b[0m\u001b[0;34m)\u001b[0m\u001b[0;34m\u001b[0m\u001b[0;34m\u001b[0m\u001b[0m\n\u001b[0m\u001b[1;32m   1512\u001b[0m \u001b[0;34m\u001b[0m\u001b[0m\n\u001b[1;32m   1513\u001b[0m     \u001b[0;32mdef\u001b[0m \u001b[0m_call_impl\u001b[0m\u001b[0;34m(\u001b[0m\u001b[0mself\u001b[0m\u001b[0;34m,\u001b[0m \u001b[0;34m*\u001b[0m\u001b[0margs\u001b[0m\u001b[0;34m,\u001b[0m \u001b[0;34m**\u001b[0m\u001b[0mkwargs\u001b[0m\u001b[0;34m)\u001b[0m\u001b[0;34m:\u001b[0m\u001b[0;34m\u001b[0m\u001b[0;34m\u001b[0m\u001b[0m\n",
            "\u001b[0;32m/usr/local/lib/python3.10/dist-packages/torch/nn/modules/module.py\u001b[0m in \u001b[0;36m_call_impl\u001b[0;34m(self, *args, **kwargs)\u001b[0m\n\u001b[1;32m   1518\u001b[0m                 \u001b[0;32mor\u001b[0m \u001b[0m_global_backward_pre_hooks\u001b[0m \u001b[0;32mor\u001b[0m \u001b[0m_global_backward_hooks\u001b[0m\u001b[0;34m\u001b[0m\u001b[0;34m\u001b[0m\u001b[0m\n\u001b[1;32m   1519\u001b[0m                 or _global_forward_hooks or _global_forward_pre_hooks):\n\u001b[0;32m-> 1520\u001b[0;31m             \u001b[0;32mreturn\u001b[0m \u001b[0mforward_call\u001b[0m\u001b[0;34m(\u001b[0m\u001b[0;34m*\u001b[0m\u001b[0margs\u001b[0m\u001b[0;34m,\u001b[0m \u001b[0;34m**\u001b[0m\u001b[0mkwargs\u001b[0m\u001b[0;34m)\u001b[0m\u001b[0;34m\u001b[0m\u001b[0;34m\u001b[0m\u001b[0m\n\u001b[0m\u001b[1;32m   1521\u001b[0m \u001b[0;34m\u001b[0m\u001b[0m\n\u001b[1;32m   1522\u001b[0m         \u001b[0;32mtry\u001b[0m\u001b[0;34m:\u001b[0m\u001b[0;34m\u001b[0m\u001b[0;34m\u001b[0m\u001b[0m\n",
            "\u001b[0;32m/usr/local/lib/python3.10/dist-packages/transformers/models/bert/modeling_bert.py\u001b[0m in \u001b[0;36mforward\u001b[0;34m(self, input_ids, attention_mask, token_type_ids, position_ids, head_mask, inputs_embeds, encoder_hidden_states, encoder_attention_mask, past_key_values, use_cache, output_attentions, output_hidden_states, return_dict)\u001b[0m\n\u001b[1;32m   1011\u001b[0m             \u001b[0mpast_key_values_length\u001b[0m\u001b[0;34m=\u001b[0m\u001b[0mpast_key_values_length\u001b[0m\u001b[0;34m,\u001b[0m\u001b[0;34m\u001b[0m\u001b[0;34m\u001b[0m\u001b[0m\n\u001b[1;32m   1012\u001b[0m         )\n\u001b[0;32m-> 1013\u001b[0;31m         encoder_outputs = self.encoder(\n\u001b[0m\u001b[1;32m   1014\u001b[0m             \u001b[0membedding_output\u001b[0m\u001b[0;34m,\u001b[0m\u001b[0;34m\u001b[0m\u001b[0;34m\u001b[0m\u001b[0m\n\u001b[1;32m   1015\u001b[0m             \u001b[0mattention_mask\u001b[0m\u001b[0;34m=\u001b[0m\u001b[0mextended_attention_mask\u001b[0m\u001b[0;34m,\u001b[0m\u001b[0;34m\u001b[0m\u001b[0;34m\u001b[0m\u001b[0m\n",
            "\u001b[0;32m/usr/local/lib/python3.10/dist-packages/torch/nn/modules/module.py\u001b[0m in \u001b[0;36m_wrapped_call_impl\u001b[0;34m(self, *args, **kwargs)\u001b[0m\n\u001b[1;32m   1509\u001b[0m             \u001b[0;32mreturn\u001b[0m \u001b[0mself\u001b[0m\u001b[0;34m.\u001b[0m\u001b[0m_compiled_call_impl\u001b[0m\u001b[0;34m(\u001b[0m\u001b[0;34m*\u001b[0m\u001b[0margs\u001b[0m\u001b[0;34m,\u001b[0m \u001b[0;34m**\u001b[0m\u001b[0mkwargs\u001b[0m\u001b[0;34m)\u001b[0m  \u001b[0;31m# type: ignore[misc]\u001b[0m\u001b[0;34m\u001b[0m\u001b[0;34m\u001b[0m\u001b[0m\n\u001b[1;32m   1510\u001b[0m         \u001b[0;32melse\u001b[0m\u001b[0;34m:\u001b[0m\u001b[0;34m\u001b[0m\u001b[0;34m\u001b[0m\u001b[0m\n\u001b[0;32m-> 1511\u001b[0;31m             \u001b[0;32mreturn\u001b[0m \u001b[0mself\u001b[0m\u001b[0;34m.\u001b[0m\u001b[0m_call_impl\u001b[0m\u001b[0;34m(\u001b[0m\u001b[0;34m*\u001b[0m\u001b[0margs\u001b[0m\u001b[0;34m,\u001b[0m \u001b[0;34m**\u001b[0m\u001b[0mkwargs\u001b[0m\u001b[0;34m)\u001b[0m\u001b[0;34m\u001b[0m\u001b[0;34m\u001b[0m\u001b[0m\n\u001b[0m\u001b[1;32m   1512\u001b[0m \u001b[0;34m\u001b[0m\u001b[0m\n\u001b[1;32m   1513\u001b[0m     \u001b[0;32mdef\u001b[0m \u001b[0m_call_impl\u001b[0m\u001b[0;34m(\u001b[0m\u001b[0mself\u001b[0m\u001b[0;34m,\u001b[0m \u001b[0;34m*\u001b[0m\u001b[0margs\u001b[0m\u001b[0;34m,\u001b[0m \u001b[0;34m**\u001b[0m\u001b[0mkwargs\u001b[0m\u001b[0;34m)\u001b[0m\u001b[0;34m:\u001b[0m\u001b[0;34m\u001b[0m\u001b[0;34m\u001b[0m\u001b[0m\n",
            "\u001b[0;32m/usr/local/lib/python3.10/dist-packages/torch/nn/modules/module.py\u001b[0m in \u001b[0;36m_call_impl\u001b[0;34m(self, *args, **kwargs)\u001b[0m\n\u001b[1;32m   1518\u001b[0m                 \u001b[0;32mor\u001b[0m \u001b[0m_global_backward_pre_hooks\u001b[0m \u001b[0;32mor\u001b[0m \u001b[0m_global_backward_hooks\u001b[0m\u001b[0;34m\u001b[0m\u001b[0;34m\u001b[0m\u001b[0m\n\u001b[1;32m   1519\u001b[0m                 or _global_forward_hooks or _global_forward_pre_hooks):\n\u001b[0;32m-> 1520\u001b[0;31m             \u001b[0;32mreturn\u001b[0m \u001b[0mforward_call\u001b[0m\u001b[0;34m(\u001b[0m\u001b[0;34m*\u001b[0m\u001b[0margs\u001b[0m\u001b[0;34m,\u001b[0m \u001b[0;34m**\u001b[0m\u001b[0mkwargs\u001b[0m\u001b[0;34m)\u001b[0m\u001b[0;34m\u001b[0m\u001b[0;34m\u001b[0m\u001b[0m\n\u001b[0m\u001b[1;32m   1521\u001b[0m \u001b[0;34m\u001b[0m\u001b[0m\n\u001b[1;32m   1522\u001b[0m         \u001b[0;32mtry\u001b[0m\u001b[0;34m:\u001b[0m\u001b[0;34m\u001b[0m\u001b[0;34m\u001b[0m\u001b[0m\n",
            "\u001b[0;32m/usr/local/lib/python3.10/dist-packages/transformers/models/bert/modeling_bert.py\u001b[0m in \u001b[0;36mforward\u001b[0;34m(self, hidden_states, attention_mask, head_mask, encoder_hidden_states, encoder_attention_mask, past_key_values, use_cache, output_attentions, output_hidden_states, return_dict)\u001b[0m\n\u001b[1;32m    605\u001b[0m                 )\n\u001b[1;32m    606\u001b[0m             \u001b[0;32melse\u001b[0m\u001b[0;34m:\u001b[0m\u001b[0;34m\u001b[0m\u001b[0;34m\u001b[0m\u001b[0m\n\u001b[0;32m--> 607\u001b[0;31m                 layer_outputs = layer_module(\n\u001b[0m\u001b[1;32m    608\u001b[0m                     \u001b[0mhidden_states\u001b[0m\u001b[0;34m,\u001b[0m\u001b[0;34m\u001b[0m\u001b[0;34m\u001b[0m\u001b[0m\n\u001b[1;32m    609\u001b[0m                     \u001b[0mattention_mask\u001b[0m\u001b[0;34m,\u001b[0m\u001b[0;34m\u001b[0m\u001b[0;34m\u001b[0m\u001b[0m\n",
            "\u001b[0;32m/usr/local/lib/python3.10/dist-packages/torch/nn/modules/module.py\u001b[0m in \u001b[0;36m_wrapped_call_impl\u001b[0;34m(self, *args, **kwargs)\u001b[0m\n\u001b[1;32m   1509\u001b[0m             \u001b[0;32mreturn\u001b[0m \u001b[0mself\u001b[0m\u001b[0;34m.\u001b[0m\u001b[0m_compiled_call_impl\u001b[0m\u001b[0;34m(\u001b[0m\u001b[0;34m*\u001b[0m\u001b[0margs\u001b[0m\u001b[0;34m,\u001b[0m \u001b[0;34m**\u001b[0m\u001b[0mkwargs\u001b[0m\u001b[0;34m)\u001b[0m  \u001b[0;31m# type: ignore[misc]\u001b[0m\u001b[0;34m\u001b[0m\u001b[0;34m\u001b[0m\u001b[0m\n\u001b[1;32m   1510\u001b[0m         \u001b[0;32melse\u001b[0m\u001b[0;34m:\u001b[0m\u001b[0;34m\u001b[0m\u001b[0;34m\u001b[0m\u001b[0m\n\u001b[0;32m-> 1511\u001b[0;31m             \u001b[0;32mreturn\u001b[0m \u001b[0mself\u001b[0m\u001b[0;34m.\u001b[0m\u001b[0m_call_impl\u001b[0m\u001b[0;34m(\u001b[0m\u001b[0;34m*\u001b[0m\u001b[0margs\u001b[0m\u001b[0;34m,\u001b[0m \u001b[0;34m**\u001b[0m\u001b[0mkwargs\u001b[0m\u001b[0;34m)\u001b[0m\u001b[0;34m\u001b[0m\u001b[0;34m\u001b[0m\u001b[0m\n\u001b[0m\u001b[1;32m   1512\u001b[0m \u001b[0;34m\u001b[0m\u001b[0m\n\u001b[1;32m   1513\u001b[0m     \u001b[0;32mdef\u001b[0m \u001b[0m_call_impl\u001b[0m\u001b[0;34m(\u001b[0m\u001b[0mself\u001b[0m\u001b[0;34m,\u001b[0m \u001b[0;34m*\u001b[0m\u001b[0margs\u001b[0m\u001b[0;34m,\u001b[0m \u001b[0;34m**\u001b[0m\u001b[0mkwargs\u001b[0m\u001b[0;34m)\u001b[0m\u001b[0;34m:\u001b[0m\u001b[0;34m\u001b[0m\u001b[0;34m\u001b[0m\u001b[0m\n",
            "\u001b[0;32m/usr/local/lib/python3.10/dist-packages/torch/nn/modules/module.py\u001b[0m in \u001b[0;36m_call_impl\u001b[0;34m(self, *args, **kwargs)\u001b[0m\n\u001b[1;32m   1518\u001b[0m                 \u001b[0;32mor\u001b[0m \u001b[0m_global_backward_pre_hooks\u001b[0m \u001b[0;32mor\u001b[0m \u001b[0m_global_backward_hooks\u001b[0m\u001b[0;34m\u001b[0m\u001b[0;34m\u001b[0m\u001b[0m\n\u001b[1;32m   1519\u001b[0m                 or _global_forward_hooks or _global_forward_pre_hooks):\n\u001b[0;32m-> 1520\u001b[0;31m             \u001b[0;32mreturn\u001b[0m \u001b[0mforward_call\u001b[0m\u001b[0;34m(\u001b[0m\u001b[0;34m*\u001b[0m\u001b[0margs\u001b[0m\u001b[0;34m,\u001b[0m \u001b[0;34m**\u001b[0m\u001b[0mkwargs\u001b[0m\u001b[0;34m)\u001b[0m\u001b[0;34m\u001b[0m\u001b[0;34m\u001b[0m\u001b[0m\n\u001b[0m\u001b[1;32m   1521\u001b[0m \u001b[0;34m\u001b[0m\u001b[0m\n\u001b[1;32m   1522\u001b[0m         \u001b[0;32mtry\u001b[0m\u001b[0;34m:\u001b[0m\u001b[0;34m\u001b[0m\u001b[0;34m\u001b[0m\u001b[0m\n",
            "\u001b[0;32m/usr/local/lib/python3.10/dist-packages/transformers/models/bert/modeling_bert.py\u001b[0m in \u001b[0;36mforward\u001b[0;34m(self, hidden_states, attention_mask, head_mask, encoder_hidden_states, encoder_attention_mask, past_key_value, output_attentions)\u001b[0m\n\u001b[1;32m    537\u001b[0m             \u001b[0mpresent_key_value\u001b[0m \u001b[0;34m=\u001b[0m \u001b[0mpresent_key_value\u001b[0m \u001b[0;34m+\u001b[0m \u001b[0mcross_attn_present_key_value\u001b[0m\u001b[0;34m\u001b[0m\u001b[0;34m\u001b[0m\u001b[0m\n\u001b[1;32m    538\u001b[0m \u001b[0;34m\u001b[0m\u001b[0m\n\u001b[0;32m--> 539\u001b[0;31m         layer_output = apply_chunking_to_forward(\n\u001b[0m\u001b[1;32m    540\u001b[0m             \u001b[0mself\u001b[0m\u001b[0;34m.\u001b[0m\u001b[0mfeed_forward_chunk\u001b[0m\u001b[0;34m,\u001b[0m \u001b[0mself\u001b[0m\u001b[0;34m.\u001b[0m\u001b[0mchunk_size_feed_forward\u001b[0m\u001b[0;34m,\u001b[0m \u001b[0mself\u001b[0m\u001b[0;34m.\u001b[0m\u001b[0mseq_len_dim\u001b[0m\u001b[0;34m,\u001b[0m \u001b[0mattention_output\u001b[0m\u001b[0;34m\u001b[0m\u001b[0;34m\u001b[0m\u001b[0m\n\u001b[1;32m    541\u001b[0m         )\n",
            "\u001b[0;32m/usr/local/lib/python3.10/dist-packages/transformers/pytorch_utils.py\u001b[0m in \u001b[0;36mapply_chunking_to_forward\u001b[0;34m(forward_fn, chunk_size, chunk_dim, *input_tensors)\u001b[0m\n\u001b[1;32m    235\u001b[0m         \u001b[0;32mreturn\u001b[0m \u001b[0mtorch\u001b[0m\u001b[0;34m.\u001b[0m\u001b[0mcat\u001b[0m\u001b[0;34m(\u001b[0m\u001b[0moutput_chunks\u001b[0m\u001b[0;34m,\u001b[0m \u001b[0mdim\u001b[0m\u001b[0;34m=\u001b[0m\u001b[0mchunk_dim\u001b[0m\u001b[0;34m)\u001b[0m\u001b[0;34m\u001b[0m\u001b[0;34m\u001b[0m\u001b[0m\n\u001b[1;32m    236\u001b[0m \u001b[0;34m\u001b[0m\u001b[0m\n\u001b[0;32m--> 237\u001b[0;31m     \u001b[0;32mreturn\u001b[0m \u001b[0mforward_fn\u001b[0m\u001b[0;34m(\u001b[0m\u001b[0;34m*\u001b[0m\u001b[0minput_tensors\u001b[0m\u001b[0;34m)\u001b[0m\u001b[0;34m\u001b[0m\u001b[0;34m\u001b[0m\u001b[0m\n\u001b[0m\u001b[1;32m    238\u001b[0m \u001b[0;34m\u001b[0m\u001b[0m\n\u001b[1;32m    239\u001b[0m \u001b[0;34m\u001b[0m\u001b[0m\n",
            "\u001b[0;32m/usr/local/lib/python3.10/dist-packages/transformers/models/bert/modeling_bert.py\u001b[0m in \u001b[0;36mfeed_forward_chunk\u001b[0;34m(self, attention_output)\u001b[0m\n\u001b[1;32m    550\u001b[0m     \u001b[0;32mdef\u001b[0m \u001b[0mfeed_forward_chunk\u001b[0m\u001b[0;34m(\u001b[0m\u001b[0mself\u001b[0m\u001b[0;34m,\u001b[0m \u001b[0mattention_output\u001b[0m\u001b[0;34m)\u001b[0m\u001b[0;34m:\u001b[0m\u001b[0;34m\u001b[0m\u001b[0;34m\u001b[0m\u001b[0m\n\u001b[1;32m    551\u001b[0m         \u001b[0mintermediate_output\u001b[0m \u001b[0;34m=\u001b[0m \u001b[0mself\u001b[0m\u001b[0;34m.\u001b[0m\u001b[0mintermediate\u001b[0m\u001b[0;34m(\u001b[0m\u001b[0mattention_output\u001b[0m\u001b[0;34m)\u001b[0m\u001b[0;34m\u001b[0m\u001b[0;34m\u001b[0m\u001b[0m\n\u001b[0;32m--> 552\u001b[0;31m         \u001b[0mlayer_output\u001b[0m \u001b[0;34m=\u001b[0m \u001b[0mself\u001b[0m\u001b[0;34m.\u001b[0m\u001b[0moutput\u001b[0m\u001b[0;34m(\u001b[0m\u001b[0mintermediate_output\u001b[0m\u001b[0;34m,\u001b[0m \u001b[0mattention_output\u001b[0m\u001b[0;34m)\u001b[0m\u001b[0;34m\u001b[0m\u001b[0;34m\u001b[0m\u001b[0m\n\u001b[0m\u001b[1;32m    553\u001b[0m         \u001b[0;32mreturn\u001b[0m \u001b[0mlayer_output\u001b[0m\u001b[0;34m\u001b[0m\u001b[0;34m\u001b[0m\u001b[0m\n\u001b[1;32m    554\u001b[0m \u001b[0;34m\u001b[0m\u001b[0m\n",
            "\u001b[0;32m/usr/local/lib/python3.10/dist-packages/torch/nn/modules/module.py\u001b[0m in \u001b[0;36m_wrapped_call_impl\u001b[0;34m(self, *args, **kwargs)\u001b[0m\n\u001b[1;32m   1509\u001b[0m             \u001b[0;32mreturn\u001b[0m \u001b[0mself\u001b[0m\u001b[0;34m.\u001b[0m\u001b[0m_compiled_call_impl\u001b[0m\u001b[0;34m(\u001b[0m\u001b[0;34m*\u001b[0m\u001b[0margs\u001b[0m\u001b[0;34m,\u001b[0m \u001b[0;34m**\u001b[0m\u001b[0mkwargs\u001b[0m\u001b[0;34m)\u001b[0m  \u001b[0;31m# type: ignore[misc]\u001b[0m\u001b[0;34m\u001b[0m\u001b[0;34m\u001b[0m\u001b[0m\n\u001b[1;32m   1510\u001b[0m         \u001b[0;32melse\u001b[0m\u001b[0;34m:\u001b[0m\u001b[0;34m\u001b[0m\u001b[0;34m\u001b[0m\u001b[0m\n\u001b[0;32m-> 1511\u001b[0;31m             \u001b[0;32mreturn\u001b[0m \u001b[0mself\u001b[0m\u001b[0;34m.\u001b[0m\u001b[0m_call_impl\u001b[0m\u001b[0;34m(\u001b[0m\u001b[0;34m*\u001b[0m\u001b[0margs\u001b[0m\u001b[0;34m,\u001b[0m \u001b[0;34m**\u001b[0m\u001b[0mkwargs\u001b[0m\u001b[0;34m)\u001b[0m\u001b[0;34m\u001b[0m\u001b[0;34m\u001b[0m\u001b[0m\n\u001b[0m\u001b[1;32m   1512\u001b[0m \u001b[0;34m\u001b[0m\u001b[0m\n\u001b[1;32m   1513\u001b[0m     \u001b[0;32mdef\u001b[0m \u001b[0m_call_impl\u001b[0m\u001b[0;34m(\u001b[0m\u001b[0mself\u001b[0m\u001b[0;34m,\u001b[0m \u001b[0;34m*\u001b[0m\u001b[0margs\u001b[0m\u001b[0;34m,\u001b[0m \u001b[0;34m**\u001b[0m\u001b[0mkwargs\u001b[0m\u001b[0;34m)\u001b[0m\u001b[0;34m:\u001b[0m\u001b[0;34m\u001b[0m\u001b[0;34m\u001b[0m\u001b[0m\n",
            "\u001b[0;32m/usr/local/lib/python3.10/dist-packages/torch/nn/modules/module.py\u001b[0m in \u001b[0;36m_call_impl\u001b[0;34m(self, *args, **kwargs)\u001b[0m\n\u001b[1;32m   1518\u001b[0m                 \u001b[0;32mor\u001b[0m \u001b[0m_global_backward_pre_hooks\u001b[0m \u001b[0;32mor\u001b[0m \u001b[0m_global_backward_hooks\u001b[0m\u001b[0;34m\u001b[0m\u001b[0;34m\u001b[0m\u001b[0m\n\u001b[1;32m   1519\u001b[0m                 or _global_forward_hooks or _global_forward_pre_hooks):\n\u001b[0;32m-> 1520\u001b[0;31m             \u001b[0;32mreturn\u001b[0m \u001b[0mforward_call\u001b[0m\u001b[0;34m(\u001b[0m\u001b[0;34m*\u001b[0m\u001b[0margs\u001b[0m\u001b[0;34m,\u001b[0m \u001b[0;34m**\u001b[0m\u001b[0mkwargs\u001b[0m\u001b[0;34m)\u001b[0m\u001b[0;34m\u001b[0m\u001b[0;34m\u001b[0m\u001b[0m\n\u001b[0m\u001b[1;32m   1521\u001b[0m \u001b[0;34m\u001b[0m\u001b[0m\n\u001b[1;32m   1522\u001b[0m         \u001b[0;32mtry\u001b[0m\u001b[0;34m:\u001b[0m\u001b[0;34m\u001b[0m\u001b[0;34m\u001b[0m\u001b[0m\n",
            "\u001b[0;32m/usr/local/lib/python3.10/dist-packages/transformers/models/bert/modeling_bert.py\u001b[0m in \u001b[0;36mforward\u001b[0;34m(self, hidden_states, input_tensor)\u001b[0m\n\u001b[1;32m    462\u001b[0m \u001b[0;34m\u001b[0m\u001b[0m\n\u001b[1;32m    463\u001b[0m     \u001b[0;32mdef\u001b[0m \u001b[0mforward\u001b[0m\u001b[0;34m(\u001b[0m\u001b[0mself\u001b[0m\u001b[0;34m,\u001b[0m \u001b[0mhidden_states\u001b[0m\u001b[0;34m:\u001b[0m \u001b[0mtorch\u001b[0m\u001b[0;34m.\u001b[0m\u001b[0mTensor\u001b[0m\u001b[0;34m,\u001b[0m \u001b[0minput_tensor\u001b[0m\u001b[0;34m:\u001b[0m \u001b[0mtorch\u001b[0m\u001b[0;34m.\u001b[0m\u001b[0mTensor\u001b[0m\u001b[0;34m)\u001b[0m \u001b[0;34m->\u001b[0m \u001b[0mtorch\u001b[0m\u001b[0;34m.\u001b[0m\u001b[0mTensor\u001b[0m\u001b[0;34m:\u001b[0m\u001b[0;34m\u001b[0m\u001b[0;34m\u001b[0m\u001b[0m\n\u001b[0;32m--> 464\u001b[0;31m         \u001b[0mhidden_states\u001b[0m \u001b[0;34m=\u001b[0m \u001b[0mself\u001b[0m\u001b[0;34m.\u001b[0m\u001b[0mdense\u001b[0m\u001b[0;34m(\u001b[0m\u001b[0mhidden_states\u001b[0m\u001b[0;34m)\u001b[0m\u001b[0;34m\u001b[0m\u001b[0;34m\u001b[0m\u001b[0m\n\u001b[0m\u001b[1;32m    465\u001b[0m         \u001b[0mhidden_states\u001b[0m \u001b[0;34m=\u001b[0m \u001b[0mself\u001b[0m\u001b[0;34m.\u001b[0m\u001b[0mdropout\u001b[0m\u001b[0;34m(\u001b[0m\u001b[0mhidden_states\u001b[0m\u001b[0;34m)\u001b[0m\u001b[0;34m\u001b[0m\u001b[0;34m\u001b[0m\u001b[0m\n\u001b[1;32m    466\u001b[0m         \u001b[0mhidden_states\u001b[0m \u001b[0;34m=\u001b[0m \u001b[0mself\u001b[0m\u001b[0;34m.\u001b[0m\u001b[0mLayerNorm\u001b[0m\u001b[0;34m(\u001b[0m\u001b[0mhidden_states\u001b[0m \u001b[0;34m+\u001b[0m \u001b[0minput_tensor\u001b[0m\u001b[0;34m)\u001b[0m\u001b[0;34m\u001b[0m\u001b[0;34m\u001b[0m\u001b[0m\n",
            "\u001b[0;32m/usr/local/lib/python3.10/dist-packages/torch/nn/modules/module.py\u001b[0m in \u001b[0;36m_wrapped_call_impl\u001b[0;34m(self, *args, **kwargs)\u001b[0m\n\u001b[1;32m   1509\u001b[0m             \u001b[0;32mreturn\u001b[0m \u001b[0mself\u001b[0m\u001b[0;34m.\u001b[0m\u001b[0m_compiled_call_impl\u001b[0m\u001b[0;34m(\u001b[0m\u001b[0;34m*\u001b[0m\u001b[0margs\u001b[0m\u001b[0;34m,\u001b[0m \u001b[0;34m**\u001b[0m\u001b[0mkwargs\u001b[0m\u001b[0;34m)\u001b[0m  \u001b[0;31m# type: ignore[misc]\u001b[0m\u001b[0;34m\u001b[0m\u001b[0;34m\u001b[0m\u001b[0m\n\u001b[1;32m   1510\u001b[0m         \u001b[0;32melse\u001b[0m\u001b[0;34m:\u001b[0m\u001b[0;34m\u001b[0m\u001b[0;34m\u001b[0m\u001b[0m\n\u001b[0;32m-> 1511\u001b[0;31m             \u001b[0;32mreturn\u001b[0m \u001b[0mself\u001b[0m\u001b[0;34m.\u001b[0m\u001b[0m_call_impl\u001b[0m\u001b[0;34m(\u001b[0m\u001b[0;34m*\u001b[0m\u001b[0margs\u001b[0m\u001b[0;34m,\u001b[0m \u001b[0;34m**\u001b[0m\u001b[0mkwargs\u001b[0m\u001b[0;34m)\u001b[0m\u001b[0;34m\u001b[0m\u001b[0;34m\u001b[0m\u001b[0m\n\u001b[0m\u001b[1;32m   1512\u001b[0m \u001b[0;34m\u001b[0m\u001b[0m\n\u001b[1;32m   1513\u001b[0m     \u001b[0;32mdef\u001b[0m \u001b[0m_call_impl\u001b[0m\u001b[0;34m(\u001b[0m\u001b[0mself\u001b[0m\u001b[0;34m,\u001b[0m \u001b[0;34m*\u001b[0m\u001b[0margs\u001b[0m\u001b[0;34m,\u001b[0m \u001b[0;34m**\u001b[0m\u001b[0mkwargs\u001b[0m\u001b[0;34m)\u001b[0m\u001b[0;34m:\u001b[0m\u001b[0;34m\u001b[0m\u001b[0;34m\u001b[0m\u001b[0m\n",
            "\u001b[0;32m/usr/local/lib/python3.10/dist-packages/torch/nn/modules/module.py\u001b[0m in \u001b[0;36m_call_impl\u001b[0;34m(self, *args, **kwargs)\u001b[0m\n\u001b[1;32m   1518\u001b[0m                 \u001b[0;32mor\u001b[0m \u001b[0m_global_backward_pre_hooks\u001b[0m \u001b[0;32mor\u001b[0m \u001b[0m_global_backward_hooks\u001b[0m\u001b[0;34m\u001b[0m\u001b[0;34m\u001b[0m\u001b[0m\n\u001b[1;32m   1519\u001b[0m                 or _global_forward_hooks or _global_forward_pre_hooks):\n\u001b[0;32m-> 1520\u001b[0;31m             \u001b[0;32mreturn\u001b[0m \u001b[0mforward_call\u001b[0m\u001b[0;34m(\u001b[0m\u001b[0;34m*\u001b[0m\u001b[0margs\u001b[0m\u001b[0;34m,\u001b[0m \u001b[0;34m**\u001b[0m\u001b[0mkwargs\u001b[0m\u001b[0;34m)\u001b[0m\u001b[0;34m\u001b[0m\u001b[0;34m\u001b[0m\u001b[0m\n\u001b[0m\u001b[1;32m   1521\u001b[0m \u001b[0;34m\u001b[0m\u001b[0m\n\u001b[1;32m   1522\u001b[0m         \u001b[0;32mtry\u001b[0m\u001b[0;34m:\u001b[0m\u001b[0;34m\u001b[0m\u001b[0;34m\u001b[0m\u001b[0m\n",
            "\u001b[0;32m/usr/local/lib/python3.10/dist-packages/torch/nn/modules/linear.py\u001b[0m in \u001b[0;36mforward\u001b[0;34m(self, input)\u001b[0m\n\u001b[1;32m    114\u001b[0m \u001b[0;34m\u001b[0m\u001b[0m\n\u001b[1;32m    115\u001b[0m     \u001b[0;32mdef\u001b[0m \u001b[0mforward\u001b[0m\u001b[0;34m(\u001b[0m\u001b[0mself\u001b[0m\u001b[0;34m,\u001b[0m \u001b[0minput\u001b[0m\u001b[0;34m:\u001b[0m \u001b[0mTensor\u001b[0m\u001b[0;34m)\u001b[0m \u001b[0;34m->\u001b[0m \u001b[0mTensor\u001b[0m\u001b[0;34m:\u001b[0m\u001b[0;34m\u001b[0m\u001b[0;34m\u001b[0m\u001b[0m\n\u001b[0;32m--> 116\u001b[0;31m         \u001b[0;32mreturn\u001b[0m \u001b[0mF\u001b[0m\u001b[0;34m.\u001b[0m\u001b[0mlinear\u001b[0m\u001b[0;34m(\u001b[0m\u001b[0minput\u001b[0m\u001b[0;34m,\u001b[0m \u001b[0mself\u001b[0m\u001b[0;34m.\u001b[0m\u001b[0mweight\u001b[0m\u001b[0;34m,\u001b[0m \u001b[0mself\u001b[0m\u001b[0;34m.\u001b[0m\u001b[0mbias\u001b[0m\u001b[0;34m)\u001b[0m\u001b[0;34m\u001b[0m\u001b[0;34m\u001b[0m\u001b[0m\n\u001b[0m\u001b[1;32m    117\u001b[0m \u001b[0;34m\u001b[0m\u001b[0m\n\u001b[1;32m    118\u001b[0m     \u001b[0;32mdef\u001b[0m \u001b[0mextra_repr\u001b[0m\u001b[0;34m(\u001b[0m\u001b[0mself\u001b[0m\u001b[0;34m)\u001b[0m \u001b[0;34m->\u001b[0m \u001b[0mstr\u001b[0m\u001b[0;34m:\u001b[0m\u001b[0;34m\u001b[0m\u001b[0;34m\u001b[0m\u001b[0m\n",
            "\u001b[0;31mKeyboardInterrupt\u001b[0m: "
          ]
        }
      ]
    },
    {
      "cell_type": "markdown",
      "source": [
        "TO DO:\n",
        "- puścić całość\n",
        "- wymyślić jak oceniać wyniki?\n",
        "- znaleźć na pytanie, czy keywords bertopic sobie sam znajduje w tekście, czy ma jakieś predefined keywords?\n",
        "- co z topic -1? może dla tamtych brać z `approximate_distribution` drugi najczęstszy?"
      ],
      "metadata": {
        "id": "byO_WRvMVZtq"
      }
    },
    {
      "cell_type": "code",
      "source": [
        "#how to get topic (list of words and their probablities) for a given record\n",
        "topic_model.get_topic(0)\n",
        "\n",
        "#how to get sentiment\n",
        "run_bert_sentiment_more_configurations(text=\"I love movie!\")"
      ],
      "metadata": {
        "id": "zewBJZPIXiXM",
        "colab": {
          "base_uri": "https://localhost:8080/",
          "height": 36
        },
        "outputId": "d6f7d6f1-0170-4757-ca88-aceae70bd73e"
      },
      "execution_count": null,
      "outputs": [
        {
          "output_type": "execute_result",
          "data": {
            "text/plain": [
              "'5 stars'"
            ],
            "application/vnd.google.colaboratory.intrinsic+json": {
              "type": "string"
            }
          },
          "metadata": {},
          "execution_count": 36
        }
      ]
    },
    {
      "cell_type": "code",
      "source": [
        "# https://huggingface.co/meta-llama/Llama-2-13b-chat-hf\n"
      ],
      "metadata": {
        "id": "_7gNmPL9Y9ag"
      },
      "execution_count": null,
      "outputs": []
    },
    {
      "cell_type": "code",
      "source": [
        "from langchain_community.llms import LlamaCpp\n",
        "from langchain.callbacks.streaming_stdout import StreamingStdOutCallbackHandler\n",
        "from langchain.callbacks.manager import CallbackManager\n",
        "import os\n",
        "from torch import cuda\n",
        "import urllib\n",
        "\n",
        "HF_AUTH = os.getenv('HF_AUTH', None)\n",
        "os.environ['HF_HOME'] = os.getenv('HF_HOME', 'models')\n",
        "os.makedirs(os.getenv('HF_HOME'), exist_ok=True)\n",
        "model_id='llama-2-7b-chat.Q5_K_S.gguf'\n",
        "path_to_model = os.path.join(os.getenv('HF_HOME'), model_id)\n",
        "link_to_model = f\"https://huggingface.co/TheBloke/Llama-2-7B-Chat-GGUF/resolve/main/{model_id}\"\n",
        "if not os.path.isfile(path_to_model):\n",
        "    print(f\"--- Downloading {model_id}...\")\n",
        "    urllib.request.urlretrieve(link_to_model, path_to_model)\n",
        "    print(f\"--- Downloaded {model_id} successfully.\")\n",
        "else:\n",
        "    print(f\"--- Model {model_id} already downloaded.\")\n",
        "\n",
        "llama_temperature = 0.5\n",
        "device = 'cuda' if cuda.is_available() else 'cpu'\n",
        "callback_manager = CallbackManager([StreamingStdOutCallbackHandler()])\n",
        "chunk_size = 400\n",
        "chunk_overlap = 50\n",
        "\n",
        "retrieve_top_k_docs_bm25 = 1\n",
        "retrieve_top_k_docs_vector = 1\n",
        "context_length_for_llm = chunk_size*(retrieve_top_k_docs_bm25 + retrieve_top_k_docs_vector)+200 #not larger than 2048\n",
        "\n",
        "n_gpu_layers = -1 if device == 'cuda' else 0\n",
        "llm = LlamaCpp(\n",
        "    model_path=path_to_model,\n",
        "    temperature=llama_temperature,\n",
        "    max_tokens=min(context_length_for_llm*2, 4096),\n",
        "    n_gpu_layers=n_gpu_layers,\n",
        "    n_ctx=min(context_length_for_llm, 2048),\n",
        "    top_p=1,\n",
        "    callback_manager=callback_manager,\n",
        "    verbose=True,  # Verbose is required to pass to the callback manager\n",
        ")"
      ],
      "metadata": {
        "colab": {
          "base_uri": "https://localhost:8080/"
        },
        "id": "ZI8pXBQ7ZSLL",
        "outputId": "638dc7f1-f021-4884-e4c1-9af4fd3eda85"
      },
      "execution_count": null,
      "outputs": [
        {
          "output_type": "stream",
          "name": "stdout",
          "text": [
            "--- Downloading llama-2-7b-chat.Q5_K_S.gguf...\n"
          ]
        },
        {
          "output_type": "stream",
          "name": "stderr",
          "text": [
            "llama_model_loader: loaded meta data with 19 key-value pairs and 291 tensors from models/llama-2-7b-chat.Q5_K_S.gguf (version GGUF V2)\n",
            "llama_model_loader: Dumping metadata keys/values. Note: KV overrides do not apply in this output.\n",
            "llama_model_loader: - kv   0:                       general.architecture str              = llama\n",
            "llama_model_loader: - kv   1:                               general.name str              = LLaMA v2\n",
            "llama_model_loader: - kv   2:                       llama.context_length u32              = 4096\n",
            "llama_model_loader: - kv   3:                     llama.embedding_length u32              = 4096\n",
            "llama_model_loader: - kv   4:                          llama.block_count u32              = 32\n",
            "llama_model_loader: - kv   5:                  llama.feed_forward_length u32              = 11008\n",
            "llama_model_loader: - kv   6:                 llama.rope.dimension_count u32              = 128\n",
            "llama_model_loader: - kv   7:                 llama.attention.head_count u32              = 32\n",
            "llama_model_loader: - kv   8:              llama.attention.head_count_kv u32              = 32\n",
            "llama_model_loader: - kv   9:     llama.attention.layer_norm_rms_epsilon f32              = 0.000001\n",
            "llama_model_loader: - kv  10:                          general.file_type u32              = 16\n",
            "llama_model_loader: - kv  11:                       tokenizer.ggml.model str              = llama\n",
            "llama_model_loader: - kv  12:                      tokenizer.ggml.tokens arr[str,32000]   = [\"<unk>\", \"<s>\", \"</s>\", \"<0x00>\", \"<...\n",
            "llama_model_loader: - kv  13:                      tokenizer.ggml.scores arr[f32,32000]   = [0.000000, 0.000000, 0.000000, 0.0000...\n",
            "llama_model_loader: - kv  14:                  tokenizer.ggml.token_type arr[i32,32000]   = [2, 3, 3, 6, 6, 6, 6, 6, 6, 6, 6, 6, ...\n",
            "llama_model_loader: - kv  15:                tokenizer.ggml.bos_token_id u32              = 1\n",
            "llama_model_loader: - kv  16:                tokenizer.ggml.eos_token_id u32              = 2\n",
            "llama_model_loader: - kv  17:            tokenizer.ggml.unknown_token_id u32              = 0\n",
            "llama_model_loader: - kv  18:               general.quantization_version u32              = 2\n",
            "llama_model_loader: - type  f32:   65 tensors\n",
            "llama_model_loader: - type q5_K:  225 tensors\n",
            "llama_model_loader: - type q6_K:    1 tensors\n",
            "llm_load_vocab: special tokens definition check successful ( 259/32000 ).\n",
            "llm_load_print_meta: format           = GGUF V2\n",
            "llm_load_print_meta: arch             = llama\n",
            "llm_load_print_meta: vocab type       = SPM\n",
            "llm_load_print_meta: n_vocab          = 32000\n",
            "llm_load_print_meta: n_merges         = 0\n",
            "llm_load_print_meta: n_ctx_train      = 4096\n",
            "llm_load_print_meta: n_embd           = 4096\n",
            "llm_load_print_meta: n_head           = 32\n",
            "llm_load_print_meta: n_head_kv        = 32\n",
            "llm_load_print_meta: n_layer          = 32\n",
            "llm_load_print_meta: n_rot            = 128\n",
            "llm_load_print_meta: n_embd_head_k    = 128\n",
            "llm_load_print_meta: n_embd_head_v    = 128\n",
            "llm_load_print_meta: n_gqa            = 1\n",
            "llm_load_print_meta: n_embd_k_gqa     = 4096\n",
            "llm_load_print_meta: n_embd_v_gqa     = 4096\n",
            "llm_load_print_meta: f_norm_eps       = 0.0e+00\n",
            "llm_load_print_meta: f_norm_rms_eps   = 1.0e-06\n",
            "llm_load_print_meta: f_clamp_kqv      = 0.0e+00\n",
            "llm_load_print_meta: f_max_alibi_bias = 0.0e+00\n",
            "llm_load_print_meta: f_logit_scale    = 0.0e+00\n",
            "llm_load_print_meta: n_ff             = 11008\n",
            "llm_load_print_meta: n_expert         = 0\n",
            "llm_load_print_meta: n_expert_used    = 0\n",
            "llm_load_print_meta: causal attn      = 1\n",
            "llm_load_print_meta: pooling type     = 0\n",
            "llm_load_print_meta: rope type        = 0\n",
            "llm_load_print_meta: rope scaling     = linear\n",
            "llm_load_print_meta: freq_base_train  = 10000.0\n",
            "llm_load_print_meta: freq_scale_train = 1\n",
            "llm_load_print_meta: n_yarn_orig_ctx  = 4096\n",
            "llm_load_print_meta: rope_finetuned   = unknown\n",
            "llm_load_print_meta: ssm_d_conv       = 0\n",
            "llm_load_print_meta: ssm_d_inner      = 0\n",
            "llm_load_print_meta: ssm_d_state      = 0\n",
            "llm_load_print_meta: ssm_dt_rank      = 0\n",
            "llm_load_print_meta: model type       = 7B\n",
            "llm_load_print_meta: model ftype      = Q5_K - Small\n",
            "llm_load_print_meta: model params     = 6.74 B\n",
            "llm_load_print_meta: model size       = 4.33 GiB (5.52 BPW) \n",
            "llm_load_print_meta: general.name     = LLaMA v2\n",
            "llm_load_print_meta: BOS token        = 1 '<s>'\n",
            "llm_load_print_meta: EOS token        = 2 '</s>'\n",
            "llm_load_print_meta: UNK token        = 0 '<unk>'\n",
            "llm_load_print_meta: LF token         = 13 '<0x0A>'\n",
            "llm_load_tensors: ggml ctx size =    0.30 MiB\n"
          ]
        },
        {
          "output_type": "stream",
          "name": "stdout",
          "text": [
            "--- Downloaded llama-2-7b-chat.Q5_K_S.gguf successfully.\n"
          ]
        },
        {
          "output_type": "stream",
          "name": "stderr",
          "text": [
            "llm_load_tensors: offloading 32 repeating layers to GPU\n",
            "llm_load_tensors: offloading non-repeating layers to GPU\n",
            "llm_load_tensors: offloaded 33/33 layers to GPU\n",
            "llm_load_tensors:        CPU buffer size =    85.94 MiB\n",
            "llm_load_tensors:      CUDA0 buffer size =  4349.56 MiB\n",
            "..................................................................................................\n",
            "llama_new_context_with_model: n_ctx      = 1024\n",
            "llama_new_context_with_model: n_batch    = 8\n",
            "llama_new_context_with_model: n_ubatch   = 8\n",
            "llama_new_context_with_model: freq_base  = 10000.0\n",
            "llama_new_context_with_model: freq_scale = 1\n",
            "llama_kv_cache_init:      CUDA0 KV buffer size =   512.00 MiB\n",
            "llama_new_context_with_model: KV self size  =  512.00 MiB, K (f16):  256.00 MiB, V (f16):  256.00 MiB\n",
            "llama_new_context_with_model:  CUDA_Host  output buffer size =     0.12 MiB\n",
            "llama_new_context_with_model:      CUDA0 compute buffer size =     1.53 MiB\n",
            "llama_new_context_with_model:  CUDA_Host compute buffer size =     0.16 MiB\n",
            "llama_new_context_with_model: graph nodes  = 1030\n",
            "llama_new_context_with_model: graph splits = 2\n",
            "AVX = 1 | AVX_VNNI = 0 | AVX2 = 1 | AVX512 = 0 | AVX512_VBMI = 0 | AVX512_VNNI = 0 | FMA = 1 | NEON = 0 | ARM_FMA = 0 | F16C = 1 | FP16_VA = 0 | WASM_SIMD = 0 | BLAS = 1 | SSE3 = 1 | SSSE3 = 1 | VSX = 0 | MATMUL_INT8 = 0 | \n",
            "Model metadata: {'tokenizer.ggml.unknown_token_id': '0', 'tokenizer.ggml.eos_token_id': '2', 'general.architecture': 'llama', 'llama.context_length': '4096', 'general.name': 'LLaMA v2', 'llama.embedding_length': '4096', 'llama.feed_forward_length': '11008', 'llama.attention.layer_norm_rms_epsilon': '0.000001', 'llama.rope.dimension_count': '128', 'llama.attention.head_count': '32', 'tokenizer.ggml.bos_token_id': '1', 'llama.block_count': '32', 'llama.attention.head_count_kv': '32', 'general.quantization_version': '2', 'tokenizer.ggml.model': 'llama', 'general.file_type': '16'}\n",
            "Using fallback chat format: None\n"
          ]
        }
      ]
    },
    {
      "cell_type": "markdown",
      "source": [
        "'TitleRaw', 'ContentRaw', 'MatchedCompanies', 'BERTopicAnswer', 'Sentiment', 'LlamaAnswer'"
      ],
      "metadata": {
        "id": "4bzo5aZ6Ailn"
      }
    },
    {
      "cell_type": "code",
      "source": [
        "# llama_answer=[\" \" for _ in range(data_df_small_no_none.shape[0])]\n",
        "columns=['TitleRaw', 'ContentRaw', 'MatchedCompanies', 'BERTopicAnswer', 'Sentiment', 'LlamaAnswer']\n",
        "results_df=pd.DataFrame(columns=columns, index=range(data_df_small_no_none.shape[0]))\n",
        "for i in range(data_df_small_no_none.shape[0]):\n",
        "  # if i>10:\n",
        "  #   break\n",
        "  if i%250==0:\n",
        "    print(i)\n",
        "  ner=data_df_small_no_none['MatchedCompanies'][i]\n",
        "  bertopic_answer=topic_model.topic_representations_[topic_model.topics_[i]]\n",
        "  names_list=[item[0] for item in bertopic_answer]\n",
        "  bert_answer=sentiment_list[i]\n",
        "  main_prompt=f\"Create short and conceise answer including all of the following information: the name of the company involved: {ner}, main topic of the article: {names_list}, and the sentiment of the text: {bert_answer}. Keep the answer concise. The length of your answer should be exactly 10 words.\"\n",
        "  llm_output=llm(main_prompt)\n",
        "  llm_output=llm_output.replace(\"\\n\", \" \")\n",
        "  results_df.loc[i]=[data_df_small_no_none['TitleRaw'][i], data_df_small_no_none['ContentRaw'][i], data_df_small_no_none['MatchedCompanies'][i], names_list, bert_answer, llm_output]"
      ],
      "metadata": {
        "colab": {
          "base_uri": "https://localhost:8080/"
        },
        "id": "Ihjoqbzc-BTF",
        "outputId": "ca98d6f9-fc26-4e8c-8f91-8750b68fc231"
      },
      "execution_count": null,
      "outputs": [
        {
          "output_type": "stream",
          "name": "stdout",
          "text": [
            "0\n"
          ]
        },
        {
          "output_type": "stream",
          "name": "stderr",
          "text": [
            "Llama.generate: prefix-match hit\n"
          ]
        },
        {
          "output_type": "stream",
          "name": "stdout",
          "text": [
            "\n",
            "The BBC has been accused of being biased against Hamas, with some critics claiming that the broadcaster's editorial stance is anti-Semitic. (BBC, hamas, terrorist, antisemitism, Jews, civilians, staff, attacks, bbcs, editorial, Simpson)\n",
            "The sentiment of this article is 2 stars."
          ]
        },
        {
          "output_type": "stream",
          "name": "stderr",
          "text": [
            "\n",
            "llama_print_timings:        load time =     264.64 ms\n",
            "llama_print_timings:      sample time =     121.86 ms /    84 runs   (    1.45 ms per token,   689.33 tokens per second)\n",
            "llama_print_timings: prompt eval time =     979.50 ms /    85 tokens (   11.52 ms per token,    86.78 tokens per second)\n",
            "llama_print_timings:        eval time =    2360.94 ms /    83 runs   (   28.45 ms per token,    35.16 tokens per second)\n",
            "llama_print_timings:       total time =    4651.62 ms /   168 tokens\n",
            "Llama.generate: prefix-match hit\n"
          ]
        },
        {
          "output_type": "stream",
          "name": "stdout",
          "text": [
            "\n",
            "The company involved is Eurovision, and the main topic of the article is Hamas' use of civilians as human shields during attacks on Israeli staff and BBC editorial. The sentiment of the text is 1 star because it is a negative and critical assessment of Hamas' actions."
          ]
        },
        {
          "output_type": "stream",
          "name": "stderr",
          "text": [
            "\n",
            "llama_print_timings:        load time =     264.64 ms\n",
            "llama_print_timings:      sample time =      34.68 ms /    64 runs   (    0.54 ms per token,  1845.66 tokens per second)\n",
            "llama_print_timings: prompt eval time =     918.64 ms /    86 tokens (   10.68 ms per token,    93.62 tokens per second)\n",
            "llama_print_timings:        eval time =    1625.09 ms /    63 runs   (   25.80 ms per token,    38.77 tokens per second)\n",
            "llama_print_timings:       total time =    2856.13 ms /   149 tokens\n",
            "Llama.generate: prefix-match hit\n"
          ]
        },
        {
          "output_type": "stream",
          "name": "stdout",
          "text": [
            "\n",
            "The article \"McDonald's staff member harassed by customer at Duluth restaurant\" received a rating of 1 star on TripAdvisor."
          ]
        },
        {
          "output_type": "stream",
          "name": "stderr",
          "text": [
            "\n",
            "llama_print_timings:        load time =     264.64 ms\n",
            "llama_print_timings:      sample time =      18.89 ms /    35 runs   (    0.54 ms per token,  1852.34 tokens per second)\n",
            "llama_print_timings: prompt eval time =     942.72 ms /    84 tokens (   11.22 ms per token,    89.10 tokens per second)\n",
            "llama_print_timings:        eval time =     887.59 ms /    34 runs   (   26.11 ms per token,    38.31 tokens per second)\n",
            "llama_print_timings:       total time =    1992.52 ms /   118 tokens\n",
            "Llama.generate: prefix-match hit\n"
          ]
        },
        {
          "output_type": "stream",
          "name": "stdout",
          "text": [
            "\n",
            "Goldman Sachs involved in Jeffrey Epstein's sex trafficking case\n",
            "Main topic: epstein, jpmorgan, staley, islands, trafficking, gates, virgin, lawsuit, jeffrey, his\n",
            "Sentiment: 1 star"
          ]
        },
        {
          "output_type": "stream",
          "name": "stderr",
          "text": [
            "\n",
            "llama_print_timings:        load time =     264.64 ms\n",
            "llama_print_timings:      sample time =      35.18 ms /    64 runs   (    0.55 ms per token,  1819.27 tokens per second)\n",
            "llama_print_timings: prompt eval time =     971.90 ms /    87 tokens (   11.17 ms per token,    89.52 tokens per second)\n",
            "llama_print_timings:        eval time =    1640.60 ms /    63 runs   (   26.04 ms per token,    38.40 tokens per second)\n",
            "llama_print_timings:       total time =    2912.83 ms /   150 tokens\n",
            "Llama.generate: prefix-match hit\n"
          ]
        },
        {
          "output_type": "stream",
          "name": "stdout",
          "text": [
            "\n",
            "Name of company involved: Airbnb\n",
            "Main topic of the article: Beach rentals\n",
            "Sentiment of the text: 2 stars"
          ]
        },
        {
          "output_type": "stream",
          "name": "stderr",
          "text": [
            "\n",
            "llama_print_timings:        load time =     264.64 ms\n",
            "llama_print_timings:      sample time =      19.54 ms /    31 runs   (    0.63 ms per token,  1586.49 tokens per second)\n",
            "llama_print_timings: prompt eval time =     890.57 ms /    79 tokens (   11.27 ms per token,    88.71 tokens per second)\n",
            "llama_print_timings:        eval time =     745.38 ms /    30 runs   (   24.85 ms per token,    40.25 tokens per second)\n",
            "llama_print_timings:       total time =    1916.42 ms /   109 tokens\n",
            "Llama.generate: prefix-match hit\n"
          ]
        },
        {
          "output_type": "stream",
          "name": "stdout",
          "text": [
            "\n",
            "The BBC has been embroiled in a scandal after one of its presenters was accused of making inappropriate comments to a colleague.\n",
            "Sentiment: 1 star"
          ]
        },
        {
          "output_type": "stream",
          "name": "stderr",
          "text": [
            "\n",
            "llama_print_timings:        load time =     264.64 ms\n",
            "llama_print_timings:      sample time =      24.63 ms /    41 runs   (    0.60 ms per token,  1664.84 tokens per second)\n",
            "llama_print_timings: prompt eval time =     795.96 ms /    72 tokens (   11.06 ms per token,    90.46 tokens per second)\n",
            "llama_print_timings:        eval time =    1051.29 ms /    41 runs   (   25.64 ms per token,    39.00 tokens per second)\n",
            "llama_print_timings:       total time =    2148.83 ms /   113 tokens\n",
            "Llama.generate: prefix-match hit\n"
          ]
        },
        {
          "output_type": "stream",
          "name": "stdout",
          "text": [
            "\n",
            "BP faces criticism over executive bonuses despite gas price drop\n",
            "BP faced criticism for awarding large bonuses to its top executives, including Looney, Hurst, and Murray, despite a significant drop in gas prices. The company assured investors that the bonuses were warranted and based on performance metrics. However, some analysts questioned whether the bonuses were excessive given the company's poor safety record and recent environmental scandals."
          ]
        },
        {
          "output_type": "stream",
          "name": "stderr",
          "text": [
            "\n",
            "llama_print_timings:        load time =     264.64 ms\n",
            "llama_print_timings:      sample time =      55.48 ms /    98 runs   (    0.57 ms per token,  1766.40 tokens per second)\n",
            "llama_print_timings: prompt eval time =     956.28 ms /    82 tokens (   11.66 ms per token,    85.75 tokens per second)\n",
            "llama_print_timings:        eval time =    2571.38 ms /    97 runs   (   26.51 ms per token,    37.72 tokens per second)\n",
            "llama_print_timings:       total time =    3993.37 ms /   179 tokens\n",
            "Llama.generate: prefix-match hit\n"
          ]
        },
        {
          "output_type": "stream",
          "name": "stdout",
          "text": [
            "\n",
            "The article discusses Tesla's expansion of its Supercharger network, which now includes Ford and NACS stations, as well as the introduction of a new CCS adapter for non-Tesla electric vehicles."
          ]
        },
        {
          "output_type": "stream",
          "name": "stderr",
          "text": [
            "\n",
            "llama_print_timings:        load time =     264.64 ms\n",
            "llama_print_timings:      sample time =      27.35 ms /    49 runs   (    0.56 ms per token,  1791.46 tokens per second)\n",
            "llama_print_timings: prompt eval time =     928.03 ms /    79 tokens (   11.75 ms per token,    85.13 tokens per second)\n",
            "llama_print_timings:        eval time =    1279.93 ms /    48 runs   (   26.67 ms per token,    37.50 tokens per second)\n",
            "llama_print_timings:       total time =    2435.93 ms /   127 tokens\n",
            "Llama.generate: prefix-match hit\n"
          ]
        },
        {
          "output_type": "stream",
          "name": "stdout",
          "text": [
            "\n",
            "The article states that GM CEO Mary Barra announced plans to invest $20 billion in electric vehicles (EVs) over the next several years, which will create 30 new EV models and 20 battery plants globally. The move is seen as a major bet on the future of transportation and a response to growing consumer demand for sustainable mobility solutions. Additionally, GM will offer buyouts to around 18,000 salaried workers in North America, which could save the company up to $2 billion. The article concludes that GM is taking bold steps towards electrification and cost reduction, which will position it well for long-term success.\n",
            "The sentiment of the text is 5 stars."
          ]
        },
        {
          "output_type": "stream",
          "name": "stderr",
          "text": [
            "\n",
            "llama_print_timings:        load time =     264.64 ms\n",
            "llama_print_timings:      sample time =     104.80 ms /   159 runs   (    0.66 ms per token,  1517.25 tokens per second)\n",
            "llama_print_timings: prompt eval time =    1017.05 ms /    85 tokens (   11.97 ms per token,    83.58 tokens per second)\n",
            "llama_print_timings:        eval time =    4148.22 ms /   158 runs   (   26.25 ms per token,    38.09 tokens per second)\n",
            "llama_print_timings:       total time =    6209.16 ms /   243 tokens\n",
            "Llama.generate: prefix-match hit\n"
          ]
        },
        {
          "output_type": "stream",
          "name": "stdout",
          "text": [
            "\n",
            "Here is the article you are asked to summarize:\n",
            "\"BP has announced its decision to stop drilling in the Arctic due to concerns over climate change. The company said it will focus on renewable energy sources instead.\"\n",
            "Now, please provide a concise answer including all of the required information:\n",
            "Name of the company involved: BP\n",
            "Main topic of the article: stopping drilling in the Arctic\n",
            "Sentiment of the text: 5 stars"
          ]
        },
        {
          "output_type": "stream",
          "name": "stderr",
          "text": [
            "\n",
            "llama_print_timings:        load time =     264.64 ms\n",
            "llama_print_timings:      sample time =      55.13 ms /    99 runs   (    0.56 ms per token,  1795.82 tokens per second)\n",
            "llama_print_timings: prompt eval time =     850.34 ms /    70 tokens (   12.15 ms per token,    82.32 tokens per second)\n",
            "llama_print_timings:        eval time =    2784.32 ms /    98 runs   (   28.41 ms per token,    35.20 tokens per second)\n",
            "llama_print_timings:       total time =    4077.39 ms /   168 tokens\n",
            "Llama.generate: prefix-match hit\n"
          ]
        },
        {
          "output_type": "stream",
          "name": "stdout",
          "text": [
            "\n",
            "BP has agreed to pay $4.5 billion in fines and penalties to settle claims related to the Deepwater Horizon oil spill in 2010. *The settlement is considered a major step forward for the company, which has been working to restore its reputation since the disaster.* (Source: The New York Times)"
          ]
        },
        {
          "output_type": "stream",
          "name": "stderr",
          "text": [
            "\n",
            "llama_print_timings:        load time =     264.64 ms\n",
            "llama_print_timings:      sample time =      42.39 ms /    75 runs   (    0.57 ms per token,  1769.41 tokens per second)\n",
            "llama_print_timings: prompt eval time =     257.47 ms /    22 tokens (   11.70 ms per token,    85.45 tokens per second)\n",
            "llama_print_timings:        eval time =    2090.27 ms /    74 runs   (   28.25 ms per token,    35.40 tokens per second)\n",
            "llama_print_timings:       total time =    2692.30 ms /    96 tokens\n",
            "Llama.generate: prefix-match hit\n"
          ]
        },
        {
          "output_type": "stream",
          "name": "stdout",
          "text": [
            "\n",
            "Carrefour to cut prices by 1 cent in inflation fight\n",
            "Carrefour, a leading supermarket chain, has announced that it will reduce prices by 1 cent for all products as a response to the current inflation crisis. This move is expected to affect thousands of shoppers who frequent the store, including those who use the Nectar loyalty program and those who purchase bread and other staple items. While some shoppers may be pleased with this development, others may view it as a negative move by Carrefour, particularly if they are used to paying lower prices at rival stores such as Tescos or Murphy."
          ]
        },
        {
          "output_type": "stream",
          "name": "stderr",
          "text": [
            "\n",
            "llama_print_timings:        load time =     264.64 ms\n",
            "llama_print_timings:      sample time =      85.30 ms /   137 runs   (    0.62 ms per token,  1606.17 tokens per second)\n",
            "llama_print_timings: prompt eval time =    1023.66 ms /    83 tokens (   12.33 ms per token,    81.08 tokens per second)\n",
            "llama_print_timings:        eval time =    3663.93 ms /   136 runs   (   26.94 ms per token,    37.12 tokens per second)\n",
            "llama_print_timings:       total time =    5568.91 ms /   219 tokens\n",
            "Llama.generate: prefix-match hit\n"
          ]
        },
        {
          "output_type": "stream",
          "name": "stdout",
          "text": [
            "\n",
            "United Airlines has reached an agreement with its union representing 40,000 workers. The agreement includes pay raises and improved earnings for employees. Isom, JetBlue, Delta, American, and lines will also benefit from the agreement. *sentiment: 3 stars*"
          ]
        },
        {
          "output_type": "stream",
          "name": "stderr",
          "text": [
            "\n",
            "llama_print_timings:        load time =     264.64 ms\n",
            "llama_print_timings:      sample time =      34.08 ms /    63 runs   (    0.54 ms per token,  1848.81 tokens per second)\n",
            "llama_print_timings: prompt eval time =     937.36 ms /    79 tokens (   11.87 ms per token,    84.28 tokens per second)\n",
            "llama_print_timings:        eval time =    1719.43 ms /    62 runs   (   27.73 ms per token,    36.06 tokens per second)\n",
            "llama_print_timings:       total time =    2954.66 ms /   141 tokens\n",
            "Llama.generate: prefix-match hit\n"
          ]
        },
        {
          "output_type": "stream",
          "name": "stdout",
          "text": [
            "\n",
            "Amazon lays off employees in Seattle, despite Bezos' promise to hire 18,000 more workers."
          ]
        },
        {
          "output_type": "stream",
          "name": "stderr",
          "text": [
            "\n",
            "llama_print_timings:        load time =     264.64 ms\n",
            "llama_print_timings:      sample time =      15.76 ms /    30 runs   (    0.53 ms per token,  1903.55 tokens per second)\n",
            "llama_print_timings: prompt eval time =    1035.57 ms /    87 tokens (   11.90 ms per token,    84.01 tokens per second)\n",
            "llama_print_timings:        eval time =     778.00 ms /    29 runs   (   26.83 ms per token,    37.28 tokens per second)\n",
            "llama_print_timings:       total time =    1962.77 ms /   116 tokens\n",
            "Llama.generate: prefix-match hit\n"
          ]
        },
        {
          "output_type": "stream",
          "name": "stdout",
          "text": [
            "\n",
            "KKR & Co Inc: ESG, sustainability, AXA, issuance, emissions, organizations, issuers, GSSS, Deloitte, equity\n",
            "The article discusses how KKR & Co Inc is prioritizing ESG (Environmental, Social, and Governance) and sustainability in its investment strategies. The company has set a target to reduce emissions from its portfolio companies by 50% by 2030, and has partnered with AXA and Deloitte to achieve this goal. Additionally, KKR & Co Inc has launched a new issuance program focused on sustainability-linked equity, which will provide issuers with access to capital at lower costs if they meet certain ESG targets. Overall, the article highlights KKR & Co Inc's commitment to ESG and sustainability in the investment industry."
          ]
        },
        {
          "output_type": "stream",
          "name": "stderr",
          "text": [
            "\n",
            "llama_print_timings:        load time =     264.64 ms\n",
            "llama_print_timings:      sample time =     117.98 ms /   200 runs   (    0.59 ms per token,  1695.13 tokens per second)\n",
            "llama_print_timings: prompt eval time =    1034.65 ms /    88 tokens (   11.76 ms per token,    85.05 tokens per second)\n",
            "llama_print_timings:        eval time =    5287.68 ms /   200 runs   (   26.44 ms per token,    37.82 tokens per second)\n",
            "llama_print_timings:       total time =    7431.37 ms /   288 tokens\n",
            "Llama.generate: prefix-match hit\n"
          ]
        },
        {
          "output_type": "stream",
          "name": "stdout",
          "text": [
            "\n",
            "BP reports a windfall in profits, but plans to invest in renewables instead of paying dividends."
          ]
        },
        {
          "output_type": "stream",
          "name": "stderr",
          "text": [
            "\n",
            "llama_print_timings:        load time =     264.64 ms\n",
            "llama_print_timings:      sample time =      16.98 ms /    26 runs   (    0.65 ms per token,  1531.30 tokens per second)\n",
            "llama_print_timings: prompt eval time =     947.29 ms /    82 tokens (   11.55 ms per token,    86.56 tokens per second)\n",
            "llama_print_timings:        eval time =     634.12 ms /    25 runs   (   25.36 ms per token,    39.42 tokens per second)\n",
            "llama_print_timings:       total time =    1811.58 ms /   107 tokens\n"
          ]
        },
        {
          "output_type": "stream",
          "name": "stdout",
          "text": [
            "\n",
            "The article reports that B"
          ]
        },
        {
          "output_type": "stream",
          "name": "stderr",
          "text": [
            "Llama.generate: prefix-match hit\n"
          ]
        },
        {
          "output_type": "stream",
          "name": "stdout",
          "text": [
            "P plans to invest $5 billion in renewable energy by 2030, despite record profits from oil and gas production. The company aims to reduce its reliance on fossil fuels and increase its dividend payouts to shareholders. However, the move has been criticized as a \"looney\" decision that will not significantly impact the company's overall profits."
          ]
        },
        {
          "output_type": "stream",
          "name": "stderr",
          "text": [
            "\n",
            "llama_print_timings:        load time =     264.64 ms\n",
            "llama_print_timings:      sample time =      52.79 ms /    90 runs   (    0.59 ms per token,  1704.84 tokens per second)\n",
            "llama_print_timings: prompt eval time =       0.00 ms /     1 tokens (    0.00 ms per token,      inf tokens per second)\n",
            "llama_print_timings:        eval time =    2335.13 ms /    90 runs   (   25.95 ms per token,    38.54 tokens per second)\n",
            "llama_print_timings:       total time =    2726.84 ms /    91 tokens\n",
            "Llama.generate: prefix-match hit\n"
          ]
        },
        {
          "output_type": "stream",
          "name": "stdout",
          "text": [
            "\n",
            "Imperial Brands boohoo's Lyttle Leicester Levitt retailer scheme bosses remuneration payouts conditions 1 star"
          ]
        },
        {
          "output_type": "stream",
          "name": "stderr",
          "text": [
            "\n",
            "llama_print_timings:        load time =     264.64 ms\n",
            "llama_print_timings:      sample time =      21.72 ms /    38 runs   (    0.57 ms per token,  1749.86 tokens per second)\n",
            "llama_print_timings: prompt eval time =    1055.30 ms /    91 tokens (   11.60 ms per token,    86.23 tokens per second)\n",
            "llama_print_timings:        eval time =     969.21 ms /    37 runs   (   26.19 ms per token,    38.18 tokens per second)\n",
            "llama_print_timings:       total time =    2210.55 ms /   128 tokens\n",
            "Llama.generate: prefix-match hit\n"
          ]
        },
        {
          "output_type": "stream",
          "name": "stdout",
          "text": [
            "\n",
            "The name of the company involved is BBC, and the main topic of the article is presenter allegations against his MS brand who have when radio. The sentiment of the text is 1 star."
          ]
        },
        {
          "output_type": "stream",
          "name": "stderr",
          "text": [
            "\n",
            "llama_print_timings:        load time =     264.64 ms\n",
            "llama_print_timings:      sample time =      21.63 ms /    42 runs   (    0.52 ms per token,  1941.39 tokens per second)\n",
            "llama_print_timings: prompt eval time =     815.64 ms /    72 tokens (   11.33 ms per token,    88.27 tokens per second)\n",
            "llama_print_timings:        eval time =    1112.30 ms /    42 runs   (   26.48 ms per token,    37.76 tokens per second)\n",
            "llama_print_timings:       total time =    2119.15 ms /   114 tokens\n",
            "Llama.generate: prefix-match hit\n"
          ]
        },
        {
          "output_type": "stream",
          "name": "stdout",
          "text": [
            "\n",
            "The name of the company involved is Starbucks, according to the article \"Starbucks CEO Schultz: Pride in Employees, Benefits Matter\" by NARASIMHAN BENGALUR on Bloomberg Law. The main topic of the article is the National Labor Relations Board (NLRB) decision regarding Starbucks employees' right to form unions. The sentiment of the text is neutral, with a focus on the company's stance on employee benefits and relations."
          ]
        },
        {
          "output_type": "stream",
          "name": "stderr",
          "text": [
            "\n",
            "llama_print_timings:        load time =     264.64 ms\n",
            "llama_print_timings:      sample time =      69.46 ms /   113 runs   (    0.61 ms per token,  1626.84 tokens per second)\n",
            "llama_print_timings: prompt eval time =     975.57 ms /    86 tokens (   11.34 ms per token,    88.15 tokens per second)\n",
            "llama_print_timings:        eval time =    2863.80 ms /   112 runs   (   25.57 ms per token,    39.11 tokens per second)\n",
            "llama_print_timings:       total time =    4519.23 ms /   198 tokens\n",
            "Llama.generate: prefix-match hit\n"
          ]
        },
        {
          "output_type": "stream",
          "name": "stdout",
          "text": [
            "\n",
            "The company involved is S Group, and the main topic of the article is to."
          ]
        },
        {
          "output_type": "stream",
          "name": "stderr",
          "text": [
            "\n",
            "llama_print_timings:        load time =     264.64 ms\n",
            "llama_print_timings:      sample time =      13.47 ms /    19 runs   (    0.71 ms per token,  1410.23 tokens per second)\n",
            "llama_print_timings: prompt eval time =     764.94 ms /    70 tokens (   10.93 ms per token,    91.51 tokens per second)\n",
            "llama_print_timings:        eval time =     453.77 ms /    18 runs   (   25.21 ms per token,    39.67 tokens per second)\n",
            "llama_print_timings:       total time =    1387.22 ms /    88 tokens\n",
            "Llama.generate: prefix-match hit\n"
          ]
        },
        {
          "output_type": "stream",
          "name": "stdout",
          "text": [
            "\n",
            "The company involved is GM, and the main topic of the article is the production of electric vehicles. The sentiment of the text is 5 stars, indicating a very positive tone."
          ]
        },
        {
          "output_type": "stream",
          "name": "stderr",
          "text": [
            "\n",
            "llama_print_timings:        load time =     264.64 ms\n",
            "llama_print_timings:      sample time =      19.99 ms /    39 runs   (    0.51 ms per token,  1950.59 tokens per second)\n",
            "llama_print_timings: prompt eval time =     776.55 ms /    69 tokens (   11.25 ms per token,    88.86 tokens per second)\n",
            "llama_print_timings:        eval time =     996.94 ms /    38 runs   (   26.24 ms per token,    38.12 tokens per second)\n",
            "llama_print_timings:       total time =    1961.51 ms /   107 tokens\n",
            "Llama.generate: prefix-match hit\n"
          ]
        },
        {
          "output_type": "stream",
          "name": "stdout",
          "text": [
            "\n",
            "Name of company involved: Amazon\n",
            "Main topic of article: Jungle, children, search, Colombian rescue, Saudi petro, Skvarla, Acosta, species\n",
            "Sentiment of text: 4 stars"
          ]
        },
        {
          "output_type": "stream",
          "name": "stderr",
          "text": [
            "\n",
            "llama_print_timings:        load time =     264.64 ms\n",
            "llama_print_timings:      sample time =      25.43 ms /    48 runs   (    0.53 ms per token,  1887.39 tokens per second)\n",
            "llama_print_timings: prompt eval time =     890.49 ms /    80 tokens (   11.13 ms per token,    89.84 tokens per second)\n",
            "llama_print_timings:        eval time =    1216.75 ms /    47 runs   (   25.89 ms per token,    38.63 tokens per second)\n",
            "llama_print_timings:       total time =    2333.22 ms /   127 tokens\n",
            "Llama.generate: prefix-match hit\n"
          ]
        },
        {
          "output_type": "stream",
          "name": "stdout",
          "text": [
            "\n",
            "Here is the article you are summarizing: \"Starbucks CEO Howard Schultz has announced that the company will provide benefits to same-sex partners of its employees, becoming the first US corporation to do so.\"\n",
            "Your answer: Starbucks provides benefits to same-sex partners."
          ]
        },
        {
          "output_type": "stream",
          "name": "stderr",
          "text": [
            "\n",
            "llama_print_timings:        load time =     264.64 ms\n",
            "llama_print_timings:      sample time =      34.77 ms /    63 runs   (    0.55 ms per token,  1812.12 tokens per second)\n",
            "llama_print_timings: prompt eval time =     963.63 ms /    86 tokens (   11.21 ms per token,    89.25 tokens per second)\n",
            "llama_print_timings:        eval time =    1606.30 ms /    62 runs   (   25.91 ms per token,    38.60 tokens per second)\n",
            "llama_print_timings:       total time =    2854.49 ms /   148 tokens\n",
            "Llama.generate: prefix-match hit\n"
          ]
        },
        {
          "output_type": "stream",
          "name": "stdout",
          "text": [
            "\n",
            "The company involved is GM, and the main topic of the article is a recall of 2.7 million vehicles due to faulty ignition switches that can shut off the engine while driving, which has led to at least 13 deaths and many injuries. The sentiment of the text is 1 star because it is very serious and concerning, with language such as \"recall,\" \"faulty,\" \"shut off,\" and \"deaths.\""
          ]
        },
        {
          "output_type": "stream",
          "name": "stderr",
          "text": [
            "\n",
            "llama_print_timings:        load time =     264.64 ms\n",
            "llama_print_timings:      sample time =      60.70 ms /    99 runs   (    0.61 ms per token,  1631.11 tokens per second)\n",
            "llama_print_timings: prompt eval time =     760.04 ms /    69 tokens (   11.02 ms per token,    90.78 tokens per second)\n",
            "llama_print_timings:        eval time =    2520.28 ms /    98 runs   (   25.72 ms per token,    38.88 tokens per second)\n",
            "llama_print_timings:       total time =    3816.13 ms /   167 tokens\n",
            "Llama.generate: prefix-match hit\n"
          ]
        },
        {
          "output_type": "stream",
          "name": "stdout",
          "text": [
            "\n",
            "The name of the company involved is McDonald's.\n",
            "The main topic of the article is whether or not McDonald's has improved its food quality.\n",
            "The sentiment of the text is 1 star, indicating that the author does not have a positive view of McDonald's food quality improvements."
          ]
        },
        {
          "output_type": "stream",
          "name": "stderr",
          "text": [
            "\n",
            "llama_print_timings:        load time =     264.64 ms\n",
            "llama_print_timings:      sample time =      37.89 ms /    65 runs   (    0.58 ms per token,  1715.67 tokens per second)\n",
            "llama_print_timings: prompt eval time =     782.67 ms /    72 tokens (   10.87 ms per token,    91.99 tokens per second)\n",
            "llama_print_timings:        eval time =    1638.75 ms /    65 runs   (   25.21 ms per token,    39.66 tokens per second)\n",
            "llama_print_timings:       total time =    2894.28 ms /   137 tokens\n",
            "Llama.generate: prefix-match hit\n"
          ]
        },
        {
          "output_type": "stream",
          "name": "stdout",
          "text": [
            "\n",
            "BP faces backlash over executive bonuses following oil spill disaster\n",
            "\n",
            "The name of the company involved is BP, the main topic of the article is BP's relationships with employees and customers following the oil spill disaster, and the sentiment of the text is 1 star."
          ]
        },
        {
          "output_type": "stream",
          "name": "stderr",
          "text": [
            "\n",
            "llama_print_timings:        load time =     264.64 ms\n",
            "llama_print_timings:      sample time =      34.75 ms /    65 runs   (    0.53 ms per token,  1870.29 tokens per second)\n",
            "llama_print_timings: prompt eval time =     951.68 ms /    84 tokens (   11.33 ms per token,    88.26 tokens per second)\n",
            "llama_print_timings:        eval time =    1657.21 ms /    64 runs   (   25.89 ms per token,    38.62 tokens per second)\n",
            "llama_print_timings:       total time =    2911.95 ms /   148 tokens\n",
            "Llama.generate: prefix-match hit\n"
          ]
        },
        {
          "output_type": "stream",
          "name": "stdout",
          "text": [
            "\n",
            "The main topic of this article is FIFA's decision to expand the Women's World Cup from 24 to 32 teams, with Qatar set to host in 2023. The move has been praised by players and governing bodies, but criticized by some for being too late and not doing enough to address issues of inequality in the sport.\n",
            "Sentiment: 1 star"
          ]
        },
        {
          "output_type": "stream",
          "name": "stderr",
          "text": [
            "\n",
            "llama_print_timings:        load time =     264.64 ms\n",
            "llama_print_timings:      sample time =      47.43 ms /    87 runs   (    0.55 ms per token,  1834.20 tokens per second)\n",
            "llama_print_timings: prompt eval time =     884.28 ms /    79 tokens (   11.19 ms per token,    89.34 tokens per second)\n",
            "llama_print_timings:        eval time =    2225.71 ms /    86 runs   (   25.88 ms per token,    38.64 tokens per second)\n",
            "llama_print_timings:       total time =    3506.18 ms /   165 tokens\n",
            "Llama.generate: prefix-match hit\n",
            "\n",
            "llama_print_timings:        load time =     264.64 ms\n",
            "llama_print_timings:      sample time =       0.54 ms /     1 runs   (    0.54 ms per token,  1841.62 tokens per second)\n",
            "llama_print_timings: prompt eval time =     886.14 ms /    79 tokens (   11.22 ms per token,    89.15 tokens per second)\n",
            "llama_print_timings:        eval time =       0.00 ms /     1 runs   (    0.00 ms per token,      inf tokens per second)\n",
            "llama_print_timings:       total time =     908.13 ms /    80 tokens\n",
            "Llama.generate: prefix-match hit\n"
          ]
        },
        {
          "output_type": "stream",
          "name": "stdout",
          "text": [
            "\n",
            "The BBC has faced criticism after Gary Lineker, a former footballer and current broadcaster for the company, tweeted about the upcoming match between Manchester United and Liverpool. Lineker's tweet was deemed to be impartial by the BBC's guidelines, but some critics argued that it was not. The BBC has since defended its decision to allow Lineker to cover the match despite the controversy.\n",
            "📝 Sentiment: 4 stars"
          ]
        },
        {
          "output_type": "stream",
          "name": "stderr",
          "text": [
            "\n",
            "llama_print_timings:        load time =     264.64 ms\n",
            "llama_print_timings:      sample time =      64.27 ms /   101 runs   (    0.64 ms per token,  1571.40 tokens per second)\n",
            "llama_print_timings: prompt eval time =     924.70 ms /    82 tokens (   11.28 ms per token,    88.68 tokens per second)\n",
            "llama_print_timings:        eval time =    2541.90 ms /   100 runs   (   25.42 ms per token,    39.34 tokens per second)\n",
            "llama_print_timings:       total time =    4126.36 ms /   182 tokens\n",
            "Llama.generate: prefix-match hit\n"
          ]
        },
        {
          "output_type": "stream",
          "name": "stdout",
          "text": [
            "\n",
            "The article states that GM is recalling 5.9 million vehicles due to a faulty ignition switch that can cause the engine to shut off while driving, which has resulted in at least 13 deaths and numerous injuries."
          ]
        },
        {
          "output_type": "stream",
          "name": "stderr",
          "text": [
            "\n",
            "llama_print_timings:        load time =     264.64 ms\n",
            "llama_print_timings:      sample time =      32.28 ms /    52 runs   (    0.62 ms per token,  1610.90 tokens per second)\n",
            "llama_print_timings: prompt eval time =     752.51 ms /    69 tokens (   10.91 ms per token,    91.69 tokens per second)\n",
            "llama_print_timings:        eval time =    1302.68 ms /    51 runs   (   25.54 ms per token,    39.15 tokens per second)\n",
            "llama_print_timings:       total time =    2352.04 ms /   120 tokens\n",
            "Llama.generate: prefix-match hit\n"
          ]
        },
        {
          "output_type": "stream",
          "name": "stdout",
          "text": [
            "\n",
            "Sentiment: 5 stars\n",
            "Microsoft has partnered to help offset emissions from aviation with sustainable projects such as reforestation, renewable energy, and methane capture."
          ]
        },
        {
          "output_type": "stream",
          "name": "stderr",
          "text": [
            "\n",
            "llama_print_timings:        load time =     264.64 ms\n",
            "llama_print_timings:      sample time =      25.53 ms /    44 runs   (    0.58 ms per token,  1723.40 tokens per second)\n",
            "llama_print_timings: prompt eval time =     908.51 ms /    80 tokens (   11.36 ms per token,    88.06 tokens per second)\n",
            "llama_print_timings:        eval time =    1103.96 ms /    43 runs   (   25.67 ms per token,    38.95 tokens per second)\n",
            "llama_print_timings:       total time =    2273.05 ms /   123 tokens\n",
            "Llama.generate: prefix-match hit\n"
          ]
        },
        {
          "output_type": "stream",
          "name": "stdout",
          "text": [
            "\n",
            "The article discusses how Airbnb is disrupting the beach rental market by offering homes, apartments, and other properties for short-term rentals. According to a Tripadvisor survey, 75% of hosts on Airbnb are local residents who are earning extra income by renting out their homes and properties on the platform. However, some hotels and local businesses are concerned that Airbnb is taking away their customers and causing them to lose revenue. Despite these concerns, many travelers prefer to stay in Airbnb rentals because they offer a more authentic and local experience than traditional hotels. Overall, the sentiment of the article is 1 star because it highlights the negative impact that Airbnb is having on the beach rental market and the concerns of local businesses."
          ]
        },
        {
          "output_type": "stream",
          "name": "stderr",
          "text": [
            "\n",
            "llama_print_timings:        load time =     264.64 ms\n",
            "llama_print_timings:      sample time =      95.96 ms /   172 runs   (    0.56 ms per token,  1792.45 tokens per second)\n",
            "llama_print_timings: prompt eval time =     902.56 ms /    79 tokens (   11.42 ms per token,    87.53 tokens per second)\n",
            "llama_print_timings:        eval time =    4468.02 ms /   171 runs   (   26.13 ms per token,    38.27 tokens per second)\n",
            "llama_print_timings:       total time =    6153.32 ms /   250 tokens\n",
            "Llama.generate: prefix-match hit\n"
          ]
        },
        {
          "output_type": "stream",
          "name": "stdout",
          "text": [
            "\n",
            "The company involved is Diesel, and the main topic of the article is to promote their new line of denim jeans for women. The sentiment of the text is 1 star because the language used is very casual and unprofessional, with words like \"its\" and \"has.\""
          ]
        },
        {
          "output_type": "stream",
          "name": "stderr",
          "text": [
            "\n",
            "llama_print_timings:        load time =     264.64 ms\n",
            "llama_print_timings:      sample time =      39.73 ms /    62 runs   (    0.64 ms per token,  1560.61 tokens per second)\n",
            "llama_print_timings: prompt eval time =     797.69 ms /    71 tokens (   11.24 ms per token,    89.01 tokens per second)\n",
            "llama_print_timings:        eval time =    1534.49 ms /    61 runs   (   25.16 ms per token,    39.75 tokens per second)\n",
            "llama_print_timings:       total time =    2798.72 ms /   132 tokens\n",
            "Llama.generate: prefix-match hit\n"
          ]
        },
        {
          "output_type": "stream",
          "name": "stdout",
          "text": [
            "\n",
            "The company involved in the article is Aviva, and the main topic is allegations of misconduct by an insurance broker who worked for the company. The article mentions that Amanda Blanc, the CEO of Aviva, has been accused of making false statements about the company's performance, and that Cigna, a rival insurer, has also made similar allegations. The article concludes by stating that Aviva has denied any wrongdoing and that the NHS has not found any evidence to support the allegations. Overall, the sentiment of the article is neutral, with a rating of 4 stars out of 5."
          ]
        },
        {
          "output_type": "stream",
          "name": "stderr",
          "text": [
            "\n",
            "llama_print_timings:        load time =     264.64 ms\n",
            "llama_print_timings:      sample time =      91.31 ms /   137 runs   (    0.67 ms per token,  1500.35 tokens per second)\n",
            "llama_print_timings: prompt eval time =     903.94 ms /    80 tokens (   11.30 ms per token,    88.50 tokens per second)\n",
            "llama_print_timings:        eval time =    3604.94 ms /   136 runs   (   26.51 ms per token,    37.73 tokens per second)\n",
            "llama_print_timings:       total time =    5363.80 ms /   216 tokens\n",
            "Llama.generate: prefix-match hit\n"
          ]
        },
        {
          "output_type": "stream",
          "name": "stdout",
          "text": [
            "\n",
            "Tesco is facing shortages of peppers, cucumbers, and other vegetables due to supply chain issues in Morocco, where many farmers are struggling with milk prices. *5 stars*"
          ]
        },
        {
          "output_type": "stream",
          "name": "stderr",
          "text": [
            "\n",
            "llama_print_timings:        load time =     264.64 ms\n",
            "llama_print_timings:      sample time =      25.26 ms /    46 runs   (    0.55 ms per token,  1821.06 tokens per second)\n",
            "llama_print_timings: prompt eval time =     989.58 ms /    86 tokens (   11.51 ms per token,    86.91 tokens per second)\n",
            "llama_print_timings:        eval time =    1173.32 ms /    45 runs   (   26.07 ms per token,    38.35 tokens per second)\n",
            "llama_print_timings:       total time =    2392.16 ms /   131 tokens\n",
            "Llama.generate: prefix-match hit\n"
          ]
        },
        {
          "output_type": "stream",
          "name": "stdout",
          "text": [
            "\n",
            "The name of the company involved is BP, according to the article \"BP's Relationship with Looneys Gas Could Cost Executives Big Bonuses\" by Murray Auchincloss in Forbes. The main topic of the article is how BP's relationship with a small gas station owner named Looney could result in big bonuses for the company's executives, despite the fact that Looney's station is not officially affiliated with BP. The sentiment of the text is 1 star because it highlights the potential for unfair practices and raises questions about the ethics of such relationships."
          ]
        },
        {
          "output_type": "stream",
          "name": "stderr",
          "text": [
            "\n",
            "llama_print_timings:        load time =     264.64 ms\n",
            "llama_print_timings:      sample time =      84.57 ms /   133 runs   (    0.64 ms per token,  1572.61 tokens per second)\n",
            "llama_print_timings: prompt eval time =     968.40 ms /    83 tokens (   11.67 ms per token,    85.71 tokens per second)\n",
            "llama_print_timings:        eval time =    3404.72 ms /   132 runs   (   25.79 ms per token,    38.77 tokens per second)\n",
            "llama_print_timings:       total time =    5193.43 ms /   215 tokens\n",
            "Llama.generate: prefix-match hit\n"
          ]
        },
        {
          "output_type": "stream",
          "name": "stdout",
          "text": [
            "\n",
            "The company involved in the article is Aviva, and the main topic is allegations that they mis-sold PPI policies to customers. The sentiment of the text is 1 star."
          ]
        },
        {
          "output_type": "stream",
          "name": "stderr",
          "text": [
            "\n",
            "llama_print_timings:        load time =     264.64 ms\n",
            "llama_print_timings:      sample time =      22.13 ms /    41 runs   (    0.54 ms per token,  1852.77 tokens per second)\n",
            "llama_print_timings: prompt eval time =     903.94 ms /    80 tokens (   11.30 ms per token,    88.50 tokens per second)\n",
            "llama_print_timings:        eval time =    1045.35 ms /    40 runs   (   26.13 ms per token,    38.26 tokens per second)\n",
            "llama_print_timings:       total time =    2164.62 ms /   120 tokens\n",
            "Llama.generate: prefix-match hit\n"
          ]
        },
        {
          "output_type": "stream",
          "name": "stdout",
          "text": [
            "\n",
            "BP faces backlash over executive bonuses amid gas crisis\n",
            "\n",
            "Answer: BP faces backlash over bonus payouts during gas crisis (1 star)"
          ]
        },
        {
          "output_type": "stream",
          "name": "stderr",
          "text": [
            "\n",
            "llama_print_timings:        load time =     264.64 ms\n",
            "llama_print_timings:      sample time =      19.82 ms /    37 runs   (    0.54 ms per token,  1866.61 tokens per second)\n",
            "llama_print_timings: prompt eval time =     975.24 ms /    83 tokens (   11.75 ms per token,    85.11 tokens per second)\n",
            "llama_print_timings:        eval time =     948.32 ms /    36 runs   (   26.34 ms per token,    37.96 tokens per second)\n",
            "llama_print_timings:       total time =    2108.12 ms /   119 tokens\n",
            "Llama.generate: prefix-match hit\n"
          ]
        },
        {
          "output_type": "stream",
          "name": "stdout",
          "text": [
            "\n",
            "The article discusses how Airbnb is challenging traditional hotels by offering beach rentals, homes, and properties for short-term vacation rentals through its platform. According to TripAdvisor, Airbnb has become the most popular accommodation option in many beach destinations, surpassing local hotels and resorts. However, some hosts have complained about the lack of support from Airbnb and the company's policies, which they claim favor larger properties over smaller ones. Despite these issues, Airbnb continues to grow in popularity, with over 4 million listings worldwide."
          ]
        },
        {
          "output_type": "stream",
          "name": "stderr",
          "text": [
            "\n",
            "llama_print_timings:        load time =     264.64 ms\n",
            "llama_print_timings:      sample time =      72.75 ms /   129 runs   (    0.56 ms per token,  1773.17 tokens per second)\n",
            "llama_print_timings: prompt eval time =     912.10 ms /    79 tokens (   11.55 ms per token,    86.61 tokens per second)\n",
            "llama_print_timings:        eval time =    3366.59 ms /   128 runs   (   26.30 ms per token,    38.02 tokens per second)\n",
            "llama_print_timings:       total time =    4869.65 ms /   207 tokens\n",
            "Llama.generate: prefix-match hit\n"
          ]
        },
        {
          "output_type": "stream",
          "name": "stdout",
          "text": [
            "\n",
            "The BBC is facing criticism after Gary Lineker tweeted about the impartiality of its coverage of the match between Manchester United and Liverpool. According to the guidelines, broadcasters are expected to remain neutral and avoid taking sides during matches. However, Lineker's tweet suggested that the BBC was biased towards Manchester United, leading to calls for him to be sacked. The hashtag #BBCImpartiality has been trending on social media as a result."
          ]
        },
        {
          "output_type": "stream",
          "name": "stderr",
          "text": [
            "\n",
            "llama_print_timings:        load time =     264.64 ms\n",
            "llama_print_timings:      sample time =      72.69 ms /   105 runs   (    0.69 ms per token,  1444.41 tokens per second)\n",
            "llama_print_timings: prompt eval time =     949.00 ms /    82 tokens (   11.57 ms per token,    86.41 tokens per second)\n",
            "llama_print_timings:        eval time =    2643.64 ms /   104 runs   (   25.42 ms per token,    39.34 tokens per second)\n",
            "llama_print_timings:       total time =    4332.61 ms /   186 tokens\n",
            "Llama.generate: prefix-match hit\n"
          ]
        },
        {
          "output_type": "stream",
          "name": "stdout",
          "text": [
            "\n",
            "Name of company involved: BP\n",
            "Main topic of the article: BP's relationships with looneys,auchincloss,executive,hurst,gas,murray,bonuses,assurances\n",
            "Sentiment of text: 1 star"
          ]
        },
        {
          "output_type": "stream",
          "name": "stderr",
          "text": [
            "\n",
            "llama_print_timings:        load time =     264.64 ms\n",
            "llama_print_timings:      sample time =      31.44 ms /    59 runs   (    0.53 ms per token,  1876.77 tokens per second)\n",
            "llama_print_timings: prompt eval time =     940.93 ms /    82 tokens (   11.47 ms per token,    87.15 tokens per second)\n",
            "llama_print_timings:        eval time =    1526.13 ms /    58 runs   (   26.31 ms per token,    38.00 tokens per second)\n",
            "llama_print_timings:       total time =    2756.76 ms /   140 tokens\n",
            "Llama.generate: prefix-match hit\n"
          ]
        },
        {
          "output_type": "stream",
          "name": "stdout",
          "text": [
            "\n",
            "The article discusses Gary Lineker's use of social media to verify errors in an email sent by the BBC, while maintaining impartiality as a presenter."
          ]
        },
        {
          "output_type": "stream",
          "name": "stderr",
          "text": [
            "\n",
            "llama_print_timings:        load time =     264.64 ms\n",
            "llama_print_timings:      sample time =      19.96 ms /    37 runs   (    0.54 ms per token,  1853.24 tokens per second)\n",
            "llama_print_timings: prompt eval time =     903.13 ms /    79 tokens (   11.43 ms per token,    87.47 tokens per second)\n",
            "llama_print_timings:        eval time =     941.94 ms /    36 runs   (   26.16 ms per token,    38.22 tokens per second)\n",
            "llama_print_timings:       total time =    2026.51 ms /   115 tokens\n",
            "Llama.generate: prefix-match hit\n"
          ]
        },
        {
          "output_type": "stream",
          "name": "stdout",
          "text": [
            "\n",
            "The European Commission has opened an antitrust investigation into Epic Games, the developer of Fortnite, over concerns that the company may have abused its dominant position in the market by restricting access to app reviews and patents. (Source: Bloomberg Law)"
          ]
        },
        {
          "output_type": "stream",
          "name": "stderr",
          "text": [
            "\n",
            "llama_print_timings:        load time =     264.64 ms\n",
            "llama_print_timings:      sample time =      32.72 ms /    58 runs   (    0.56 ms per token,  1772.72 tokens per second)\n",
            "llama_print_timings: prompt eval time =     920.73 ms /    80 tokens (   11.51 ms per token,    86.89 tokens per second)\n",
            "llama_print_timings:        eval time =    1522.21 ms /    58 runs   (   26.24 ms per token,    38.10 tokens per second)\n",
            "llama_print_timings:       total time =    2713.87 ms /   138 tokens\n",
            "Llama.generate: prefix-match hit\n"
          ]
        },
        {
          "output_type": "stream",
          "name": "stdout",
          "text": [
            "\n",
            "Name of company involved: Aldi\n",
            "Main topic of the article: To, of, on, by, said, at, her, its, has, be\n",
            "Sentiment of the text: 4 stars"
          ]
        },
        {
          "output_type": "stream",
          "name": "stderr",
          "text": [
            "\n",
            "llama_print_timings:        load time =     264.64 ms\n",
            "llama_print_timings:      sample time =      23.61 ms /    46 runs   (    0.51 ms per token,  1948.08 tokens per second)\n",
            "llama_print_timings: prompt eval time =     809.43 ms /    71 tokens (   11.40 ms per token,    87.72 tokens per second)\n",
            "llama_print_timings:        eval time =    1164.09 ms /    45 runs   (   25.87 ms per token,    38.66 tokens per second)\n",
            "llama_print_timings:       total time =    2200.05 ms /   116 tokens\n",
            "Llama.generate: prefix-match hit\n"
          ]
        },
        {
          "output_type": "stream",
          "name": "stdout",
          "text": [
            "\n",
            "BBC Lineker Gary Match Impartiality Guidelines Broader Tweet MOTD Coverage - 2 Stars\n",
            "The article discusses former BBC presenter Gary Lineker's tweet about the Premier League match between Manchester United and Liverpool, which some deemed to be biased towards one team. The BBC has guidelines in place for impartiality, and Lineker's tweet sparked a debate about whether he had breached these guidelines."
          ]
        },
        {
          "output_type": "stream",
          "name": "stderr",
          "text": [
            "\n",
            "llama_print_timings:        load time =     264.64 ms\n",
            "llama_print_timings:      sample time =      70.57 ms /   101 runs   (    0.70 ms per token,  1431.16 tokens per second)\n",
            "llama_print_timings: prompt eval time =     953.41 ms /    82 tokens (   11.63 ms per token,    86.01 tokens per second)\n",
            "llama_print_timings:        eval time =    2506.64 ms /   100 runs   (   25.07 ms per token,    39.89 tokens per second)\n",
            "llama_print_timings:       total time =    4227.09 ms /   182 tokens\n",
            "Llama.generate: prefix-match hit\n"
          ]
        },
        {
          "output_type": "stream",
          "name": "stdout",
          "text": [
            "\n",
            "The article discusses Visa Inc.'s plans to offer savings accounts, Mastercard, and other financial services through its subsidiary, Visa Financial Services. The company aims to expand its offerings beyond traditional payment processing and enter the deposit market. However, some experts have expressed concerns about the potential risks of offering banking services without proper regulatory oversight. Despite these challenges, Visa Inc. remains optimistic about its future in the financial services industry.\n",
            "The sentiment of the text is 1 star because while Visa Inc. is expanding into new areas, there are concerns about the potential risks and lack of regulatory oversight."
          ]
        },
        {
          "output_type": "stream",
          "name": "stderr",
          "text": [
            "\n",
            "llama_print_timings:        load time =     264.64 ms\n",
            "llama_print_timings:      sample time =      87.39 ms /   145 runs   (    0.60 ms per token,  1659.17 tokens per second)\n",
            "llama_print_timings: prompt eval time =     957.00 ms /    83 tokens (   11.53 ms per token,    86.73 tokens per second)\n",
            "llama_print_timings:        eval time =    3711.82 ms /   144 runs   (   25.78 ms per token,    38.79 tokens per second)\n",
            "llama_print_timings:       total time =    5484.27 ms /   227 tokens\n",
            "Llama.generate: prefix-match hit\n"
          ]
        },
        {
          "output_type": "stream",
          "name": "stdout",
          "text": [
            "\n",
            "The name of the company involved is Volkswagen, and the main topic of the article is Volkswagen's use of forced labor in Xinjiang, China. The sentiment of the text is 1 star, indicating a negative or critical tone towards Volkswagen's actions."
          ]
        },
        {
          "output_type": "stream",
          "name": "stderr",
          "text": [
            "\n",
            "llama_print_timings:        load time =     264.64 ms\n",
            "llama_print_timings:      sample time =      34.43 ms /    59 runs   (    0.58 ms per token,  1713.82 tokens per second)\n",
            "llama_print_timings: prompt eval time =     943.12 ms /    83 tokens (   11.36 ms per token,    88.01 tokens per second)\n",
            "llama_print_timings:        eval time =    1484.91 ms /    58 runs   (   25.60 ms per token,    39.06 tokens per second)\n",
            "llama_print_timings:       total time =    2809.06 ms /   141 tokens\n",
            "Llama.generate: prefix-match hit\n"
          ]
        },
        {
          "output_type": "stream",
          "name": "stdout",
          "text": [
            "\n",
            "The TATA group is involved in a controversial article regarding crimea, officials, kyiv, and more. The sentiment is 3 stars."
          ]
        },
        {
          "output_type": "stream",
          "name": "stderr",
          "text": [
            "\n",
            "llama_print_timings:        load time =     264.64 ms\n",
            "llama_print_timings:      sample time =      19.63 ms /    33 runs   (    0.59 ms per token,  1681.44 tokens per second)\n",
            "llama_print_timings: prompt eval time =     955.16 ms /    82 tokens (   11.65 ms per token,    85.85 tokens per second)\n",
            "llama_print_timings:        eval time =     831.60 ms /    32 runs   (   25.99 ms per token,    38.48 tokens per second)\n",
            "llama_print_timings:       total time =    2008.48 ms /   114 tokens\n",
            "Llama.generate: prefix-match hit\n"
          ]
        },
        {
          "output_type": "stream",
          "name": "stdout",
          "text": [
            "\n",
            "Unilever's brands face inflation pressure as Russia's invasion of Ukraine continues to impact supply chains. Jope, Schumacher, Unilever's, Danone, Hellmanns, and Peltz are among the companies feeling the strain. (Source: Bloomberg)"
          ]
        },
        {
          "output_type": "stream",
          "name": "stderr",
          "text": [
            "\n",
            "llama_print_timings:        load time =     264.64 ms\n",
            "llama_print_timings:      sample time =      48.89 ms /    67 runs   (    0.73 ms per token,  1370.45 tokens per second)\n",
            "llama_print_timings: prompt eval time =     955.51 ms /    86 tokens (   11.11 ms per token,    90.00 tokens per second)\n",
            "llama_print_timings:        eval time =    1654.08 ms /    66 runs   (   25.06 ms per token,    39.90 tokens per second)\n",
            "llama_print_timings:       total time =    3166.91 ms /   152 tokens\n",
            "Llama.generate: prefix-match hit\n"
          ]
        },
        {
          "output_type": "stream",
          "name": "stdout",
          "text": [
            "\n",
            "Boeing has announced that it will stop producing the 747 jumbo jet, marking the end of an era in commercial aviation. According to a company spokesperson, \"The 747 has served us well, but it's time to move on.\" (Source: CNN)"
          ]
        },
        {
          "output_type": "stream",
          "name": "stderr",
          "text": [
            "\n",
            "llama_print_timings:        load time =     264.64 ms\n",
            "llama_print_timings:      sample time =      37.08 ms /    68 runs   (    0.55 ms per token,  1834.12 tokens per second)\n",
            "llama_print_timings: prompt eval time =     801.58 ms /    71 tokens (   11.29 ms per token,    88.58 tokens per second)\n",
            "llama_print_timings:        eval time =    1761.08 ms /    67 runs   (   26.28 ms per token,    38.04 tokens per second)\n",
            "llama_print_timings:       total time =    2871.06 ms /   138 tokens\n",
            "Llama.generate: prefix-match hit\n"
          ]
        },
        {
          "output_type": "stream",
          "name": "stdout",
          "text": [
            "\n",
            "Unilever has announced that it will reduce its use of plastic by half by 2025."
          ]
        },
        {
          "output_type": "stream",
          "name": "stderr",
          "text": [
            "\n",
            "llama_print_timings:        load time =     264.64 ms\n",
            "llama_print_timings:      sample time =      13.06 ms /    25 runs   (    0.52 ms per token,  1913.66 tokens per second)\n",
            "llama_print_timings: prompt eval time =     806.58 ms /    71 tokens (   11.36 ms per token,    88.03 tokens per second)\n",
            "llama_print_timings:        eval time =     636.02 ms /    24 runs   (   26.50 ms per token,    37.73 tokens per second)\n",
            "llama_print_timings:       total time =    1562.73 ms /    95 tokens\n",
            "Llama.generate: prefix-match hit\n"
          ]
        },
        {
          "output_type": "stream",
          "name": "stdout",
          "text": [
            "\n",
            "Ford is investing $11.5 billion in electric vehicles, including the Mustang Mach-E crossover and a new electric F-150 Lightning pickup truck. According to CEO Jim Farley, \"We're not just making an EV version of our existing products. We're creating a new generation of electrified vehicles that will surprise and delight customers.\" The investment is part of Ford's plan to double its electric vehicle production by 2026 and could help the company gain ground on competitors such as Tesla. However, some analysts have expressed concerns about the high cost of the investment and how it may impact Ford's profit margins in the short term. Despite these challenges, Farley remains optimistic, stating that \"We're not afraid to take risks and invest in the future.\""
          ]
        },
        {
          "output_type": "stream",
          "name": "stderr",
          "text": [
            "\n",
            "llama_print_timings:        load time =     264.64 ms\n",
            "llama_print_timings:      sample time =     112.03 ms /   187 runs   (    0.60 ms per token,  1669.15 tokens per second)\n",
            "llama_print_timings: prompt eval time =     901.56 ms /    79 tokens (   11.41 ms per token,    87.63 tokens per second)\n",
            "llama_print_timings:        eval time =    4822.53 ms /   186 runs   (   25.93 ms per token,    38.57 tokens per second)\n",
            "llama_print_timings:       total time =    6723.59 ms /   265 tokens\n",
            "Llama.generate: prefix-match hit\n"
          ]
        },
        {
          "output_type": "stream",
          "name": "stdout",
          "text": [
            "\n",
            "\"Apple Inc. has fixed a security bug in iPhones that allowed hackers to access users' personal information through USB-C charging ports.\""
          ]
        },
        {
          "output_type": "stream",
          "name": "stderr",
          "text": [
            "\n",
            "llama_print_timings:        load time =     264.64 ms\n",
            "llama_print_timings:      sample time =      23.94 ms /    34 runs   (    0.70 ms per token,  1420.51 tokens per second)\n",
            "llama_print_timings: prompt eval time =     857.06 ms /    77 tokens (   11.13 ms per token,    89.84 tokens per second)\n",
            "llama_print_timings:        eval time =     838.85 ms /    33 runs   (   25.42 ms per token,    39.34 tokens per second)\n",
            "llama_print_timings:       total time =    1985.81 ms /   110 tokens\n",
            "Llama.generate: prefix-match hit\n"
          ]
        },
        {
          "output_type": "stream",
          "name": "stdout",
          "text": [
            "\n",
            "The article discusses how Netflix is expanding its partnership with Paramount to offer more content to subscribers, despite Disney's attempts to poach writers and creators away from the streaming giant. Netflix CEO Sarandos remains confident in the company's ability to continue growing its revenue through ad-supported tiers while maintaining its commitment to producing high-quality original content.\n",
            "Sentiment: 5 stars"
          ]
        },
        {
          "output_type": "stream",
          "name": "stderr",
          "text": [
            "\n",
            "llama_print_timings:        load time =     264.64 ms\n",
            "llama_print_timings:      sample time =      54.51 ms /    95 runs   (    0.57 ms per token,  1742.67 tokens per second)\n",
            "llama_print_timings: prompt eval time =     957.85 ms /    83 tokens (   11.54 ms per token,    86.65 tokens per second)\n",
            "llama_print_timings:        eval time =    2438.43 ms /    94 runs   (   25.94 ms per token,    38.55 tokens per second)\n",
            "llama_print_timings:       total time =    3844.76 ms /   177 tokens\n",
            "Llama.generate: prefix-match hit\n"
          ]
        },
        {
          "output_type": "stream",
          "name": "stdout",
          "text": [
            "\n",
            "The article discusses Netflix's decision to cast a black actor as Cleopatra in an upcoming documentary, sparking controversy over \"blackwashing\" and cultural appropriation."
          ]
        },
        {
          "output_type": "stream",
          "name": "stderr",
          "text": [
            "\n",
            "llama_print_timings:        load time =     264.64 ms\n",
            "llama_print_timings:      sample time =      24.64 ms /    44 runs   (    0.56 ms per token,  1785.57 tokens per second)\n",
            "llama_print_timings: prompt eval time =     912.20 ms /    80 tokens (   11.40 ms per token,    87.70 tokens per second)\n",
            "llama_print_timings:        eval time =    1123.99 ms /    43 runs   (   26.14 ms per token,    38.26 tokens per second)\n",
            "llama_print_timings:       total time =    2243.96 ms /   123 tokens\n",
            "Llama.generate: prefix-match hit\n",
            "\n",
            "llama_print_timings:        load time =     264.64 ms\n",
            "llama_print_timings:      sample time =       0.54 ms /     1 runs   (    0.54 ms per token,  1841.62 tokens per second)\n",
            "llama_print_timings: prompt eval time =     974.79 ms /    86 tokens (   11.33 ms per token,    88.22 tokens per second)\n",
            "llama_print_timings:        eval time =       0.00 ms /     1 runs   (    0.00 ms per token,      inf tokens per second)\n",
            "llama_print_timings:       total time =    1000.81 ms /    87 tokens\n",
            "Llama.generate: prefix-match hit\n"
          ]
        },
        {
          "output_type": "stream",
          "name": "stdout",
          "text": [
            "\n",
            "YouTube has said that it will ban any content that promotes or glorifies violence, hate speech, or discrimination.\n",
            "1 star"
          ]
        },
        {
          "output_type": "stream",
          "name": "stderr",
          "text": [
            "\n",
            "llama_print_timings:        load time =     264.64 ms\n",
            "llama_print_timings:      sample time =      17.43 ms /    32 runs   (    0.54 ms per token,  1835.70 tokens per second)\n",
            "llama_print_timings: prompt eval time =     781.35 ms /    70 tokens (   11.16 ms per token,    89.59 tokens per second)\n",
            "llama_print_timings:        eval time =     830.58 ms /    31 runs   (   26.79 ms per token,    37.32 tokens per second)\n",
            "llama_print_timings:       total time =    1768.82 ms /   101 tokens\n",
            "Llama.generate: prefix-match hit\n"
          ]
        },
        {
          "output_type": "stream",
          "name": "stdout",
          "text": [
            "\n",
            "Answer: Asda said it will reduce food waste by 50% by 2025."
          ]
        },
        {
          "output_type": "stream",
          "name": "stderr",
          "text": [
            "\n",
            "llama_print_timings:        load time =     264.64 ms\n",
            "llama_print_timings:      sample time =      14.10 ms /    24 runs   (    0.59 ms per token,  1701.77 tokens per second)\n",
            "llama_print_timings: prompt eval time =     790.56 ms /    70 tokens (   11.29 ms per token,    88.54 tokens per second)\n",
            "llama_print_timings:        eval time =     584.59 ms /    23 runs   (   25.42 ms per token,    39.34 tokens per second)\n",
            "llama_print_timings:       total time =    1563.48 ms /    93 tokens\n",
            "Llama.generate: prefix-match hit\n"
          ]
        },
        {
          "output_type": "stream",
          "name": "stdout",
          "text": [
            "\n",
            "The article discusses how Apple Inc. is facing antitrust scrutiny over its control of the App Store, with some developers and reviewers calling for more transparency and competition. The company has been accused of abusing its dominant position in the market to stifle innovation and limit consumer choice."
          ]
        },
        {
          "output_type": "stream",
          "name": "stderr",
          "text": [
            "\n",
            "llama_print_timings:        load time =     264.64 ms\n",
            "llama_print_timings:      sample time =      45.84 ms /    66 runs   (    0.69 ms per token,  1439.79 tokens per second)\n",
            "llama_print_timings: prompt eval time =     928.46 ms /    82 tokens (   11.32 ms per token,    88.32 tokens per second)\n",
            "llama_print_timings:        eval time =    1624.33 ms /    65 runs   (   24.99 ms per token,    40.02 tokens per second)\n",
            "llama_print_timings:       total time =    3059.25 ms /   147 tokens\n",
            "Llama.generate: prefix-match hit\n"
          ]
        },
        {
          "output_type": "stream",
          "name": "stdout",
          "text": [
            "\n",
            "The company BlackRock has announced that it will prioritize environmental, social, and governance (ESG) factors in its investment decisions. This move is seen as a significant step towards sustainability and could lead to a reduction in emissions from issuers. According to a recent report by AXA, the global sustainable issuance market has grown significantly, with a 20% increase in GSSS (green, social, and sustainability) bonds issued in 2020 compared to the previous year. Deloitte reports that many organizations are now prioritizing ESG issues, with 70% of issuers stating that they consider ESG factors when making investment decisions. However, there is still room for improvement, as only 40% of issuers currently disclose their emissions data."
          ]
        },
        {
          "output_type": "stream",
          "name": "stderr",
          "text": [
            "\n",
            "llama_print_timings:        load time =     264.64 ms\n",
            "llama_print_timings:      sample time =     102.60 ms /   181 runs   (    0.57 ms per token,  1764.15 tokens per second)\n",
            "llama_print_timings: prompt eval time =     981.09 ms /    86 tokens (   11.41 ms per token,    87.66 tokens per second)\n",
            "llama_print_timings:        eval time =    4701.66 ms /   180 runs   (   26.12 ms per token,    38.28 tokens per second)\n",
            "llama_print_timings:       total time =    6520.30 ms /   266 tokens\n",
            "Llama.generate: prefix-match hit\n"
          ]
        },
        {
          "output_type": "stream",
          "name": "stdout",
          "text": [
            "\n",
            "The company involved is Discord, and the main topic of the article is a security breach that exposed sensitive documents and passwords of several high-profile users, including musicians, content creators, and executives at companies like NSO and Hackers Pegasus. The sentiment of the text is 1 star because the breach was described as \"catastrophic\" and \"alarming,\" and it highlighted the vulnerability of sensitive information in the digital age."
          ]
        },
        {
          "output_type": "stream",
          "name": "stderr",
          "text": [
            "\n",
            "llama_print_timings:        load time =     264.64 ms\n",
            "llama_print_timings:      sample time =      62.13 ms /   101 runs   (    0.62 ms per token,  1625.52 tokens per second)\n",
            "llama_print_timings: prompt eval time =     966.95 ms /    85 tokens (   11.38 ms per token,    87.91 tokens per second)\n",
            "llama_print_timings:        eval time =    2576.78 ms /   100 runs   (   25.77 ms per token,    38.81 tokens per second)\n",
            "llama_print_timings:       total time =    4131.95 ms /   185 tokens\n",
            "Llama.generate: prefix-match hit\n"
          ]
        },
        {
          "output_type": "stream",
          "name": "stdout",
          "text": [
            "\n",
            "Ford's Farley to lead electric vehicle, lightning strategy\n",
            "Jim Farley, Ford's new CEO, has a big task ahead of him: leading the automaker's billion-dollar bet on electric vehicles and lightning its margin. As Detroit's last remaining automaker, Ford faces tough competition from Tesla and other startups. The company is counting on Farley to turn things around with new models like the Mustang Mach-E and F-150 Lightning. But with a long road ahead, can he deliver?"
          ]
        },
        {
          "output_type": "stream",
          "name": "stderr",
          "text": [
            "\n",
            "llama_print_timings:        load time =     264.64 ms\n",
            "llama_print_timings:      sample time =      74.03 ms /   121 runs   (    0.61 ms per token,  1634.36 tokens per second)\n",
            "llama_print_timings: prompt eval time =     888.65 ms /    79 tokens (   11.25 ms per token,    88.90 tokens per second)\n",
            "llama_print_timings:        eval time =    3082.66 ms /   120 runs   (   25.69 ms per token,    38.93 tokens per second)\n",
            "llama_print_timings:       total time =    4701.55 ms /   199 tokens\n",
            "Llama.generate: prefix-match hit\n"
          ]
        },
        {
          "output_type": "stream",
          "name": "stdout",
          "text": [
            "\n",
            "Here is the article you are summarizing: Honda has announced that it will stop making gasoline-powered cars in North America by 2030. The company said it aims to achieve carbon neutrality by 2050."
          ]
        },
        {
          "output_type": "stream",
          "name": "stderr",
          "text": [
            "\n",
            "llama_print_timings:        load time =     264.64 ms\n",
            "llama_print_timings:      sample time =      29.37 ms /    54 runs   (    0.54 ms per token,  1838.49 tokens per second)\n",
            "llama_print_timings: prompt eval time =     795.61 ms /    70 tokens (   11.37 ms per token,    87.98 tokens per second)\n",
            "llama_print_timings:        eval time =    1394.07 ms /    53 runs   (   26.30 ms per token,    38.02 tokens per second)\n",
            "llama_print_timings:       total time =    2449.89 ms /   123 tokens\n",
            "Llama.generate: prefix-match hit\n"
          ]
        },
        {
          "output_type": "stream",
          "name": "stdout",
          "text": [
            "\n",
            "The name of the company involved is Microsoft, and the main topic of the article is AI and chatbots, specifically Bing Chat and Copilot, which are new tools for developers to create more advanced chatbots using natural language processing (NLP) technology from Microsoft and OpenAI. The sentiment of the text is 4 stars, indicating a generally positive tone."
          ]
        },
        {
          "output_type": "stream",
          "name": "stderr",
          "text": [
            "\n",
            "llama_print_timings:        load time =     264.64 ms\n",
            "llama_print_timings:      sample time =      43.73 ms /    80 runs   (    0.55 ms per token,  1829.45 tokens per second)\n",
            "llama_print_timings: prompt eval time =     879.46 ms /    76 tokens (   11.57 ms per token,    86.42 tokens per second)\n",
            "llama_print_timings:        eval time =    2082.05 ms /    79 runs   (   26.36 ms per token,    37.94 tokens per second)\n",
            "llama_print_timings:       total time =    3333.01 ms /   155 tokens\n",
            "Llama.generate: prefix-match hit\n"
          ]
        },
        {
          "output_type": "stream",
          "name": "stdout",
          "text": [
            "\n",
            "Wells Fargo faces $1 billion fine from CFPB over fees for borrowers.\n",
            "Four major banks, including Wells Fargo, Chase, JPMorgan, and Bank of America, have been accused by the Consumer Financial Protection Bureau (CFPB) of charging illegal fees to customers. The CFPB is seeking a $1 billion fine from Wells Fargo for these violations.\n",
            "According to the CFPB, the banks have been charging customers unnecessary and hidden fees when they refinanced their mortgages. These fees were not clearly disclosed to customers, leading to confusion and frustration among borrowers.\n",
            "The CFPB's action is part of a broader effort to protect consumers from deceptive bank practices. The agency has also taken action against other banks, including Citibank and Capital One, for similar violations.\n",
            "Overall, the CFPB's move is seen as a major victory for consumer advocates, who have long argued that banks are taking advantage of unsuspecting customers through hidden fees and unclear disclosures."
          ]
        },
        {
          "output_type": "stream",
          "name": "stderr",
          "text": [
            "\n",
            "llama_print_timings:        load time =     264.64 ms\n",
            "llama_print_timings:      sample time =     159.07 ms /   243 runs   (    0.65 ms per token,  1527.64 tokens per second)\n",
            "llama_print_timings: prompt eval time =     968.21 ms /    84 tokens (   11.53 ms per token,    86.76 tokens per second)\n",
            "llama_print_timings:        eval time =    6303.88 ms /   242 runs   (   26.05 ms per token,    38.39 tokens per second)\n",
            "llama_print_timings:       total time =    8985.10 ms /   326 tokens\n",
            "Llama.generate: prefix-match hit\n"
          ]
        },
        {
          "output_type": "stream",
          "name": "stdout",
          "text": [
            "\n",
            "The company involved is HSBC, and the main topic of the article is a new service that allows customers to block all foreign transactions on their credit or debit cards."
          ]
        },
        {
          "output_type": "stream",
          "name": "stderr",
          "text": [
            "\n",
            "llama_print_timings:        load time =     264.64 ms\n",
            "llama_print_timings:      sample time =      20.32 ms /    37 runs   (    0.55 ms per token,  1820.51 tokens per second)\n",
            "llama_print_timings: prompt eval time =     804.43 ms /    71 tokens (   11.33 ms per token,    88.26 tokens per second)\n",
            "llama_print_timings:        eval time =     960.42 ms /    36 runs   (   26.68 ms per token,    37.48 tokens per second)\n",
            "llama_print_timings:       total time =    1946.00 ms /   107 tokens\n",
            "Llama.generate: prefix-match hit\n"
          ]
        },
        {
          "output_type": "stream",
          "name": "stdout",
          "text": [
            "\n",
            "Vale's Rio Tinto Mining Deal Raises Environmental Concerns - 1 Star\n",
            "Vale, a Brazilian mining company, has agreed to acquire Rio Tinto's iron ore assets in Australia for $6.2 billion. However, the deal has raised concerns among environmental groups who fear that the increased mining activities will lead to radiation exposure and damage to local ecosystems. Vale has promised to respect the rights of indigenous communities and minimize the impact on HQ plantations, but many remain skeptical about the company's commitment to sustainability."
          ]
        },
        {
          "output_type": "stream",
          "name": "stderr",
          "text": [
            "\n",
            "llama_print_timings:        load time =     264.64 ms\n",
            "llama_print_timings:      sample time =      80.55 ms /   133 runs   (    0.61 ms per token,  1651.09 tokens per second)\n",
            "llama_print_timings: prompt eval time =     884.90 ms /    77 tokens (   11.49 ms per token,    87.01 tokens per second)\n",
            "llama_print_timings:        eval time =    3414.18 ms /   132 runs   (   25.86 ms per token,    38.66 tokens per second)\n",
            "llama_print_timings:       total time =    5031.80 ms /   209 tokens\n",
            "Llama.generate: prefix-match hit\n"
          ]
        },
        {
          "output_type": "stream",
          "name": "stdout",
          "text": [
            "\n",
            "RBC reports on ESG issuance in Canada, highlighting AXA's leadership in sustainability. According to the report, AXA has issued the most number of green bonds in Canada, with a total value of $2.6 billion. This represents 75% of the total Canadian ESG issuance in 2022. The report also highlights the growing importance of ESG in the investment industry, with 84% of organizations now considering ESG factors when making investment decisions. However, the report notes that there is still room for improvement, with only 16% of issuers disclosing their emissions data and only 32% of issuers using GSSS (Global Sustainability Standards System) in their sustainability reporting.\n",
            "The sentiment of the text is 2 stars out of 5, as while there are positive developments in ESG issuance in Canada, there are still areas for improvement in terms of disclosure and adoption of sustainability standards."
          ]
        },
        {
          "output_type": "stream",
          "name": "stderr",
          "text": [
            "\n",
            "llama_print_timings:        load time =     264.64 ms\n",
            "llama_print_timings:      sample time =     129.93 ms /   223 runs   (    0.58 ms per token,  1716.37 tokens per second)\n",
            "llama_print_timings: prompt eval time =     953.25 ms /    85 tokens (   11.21 ms per token,    89.17 tokens per second)\n",
            "llama_print_timings:        eval time =    5778.20 ms /   222 runs   (   26.03 ms per token,    38.42 tokens per second)\n",
            "llama_print_timings:       total time =    7937.27 ms /   307 tokens\n",
            "Llama.generate: prefix-match hit\n"
          ]
        },
        {
          "output_type": "stream",
          "name": "stdout",
          "text": [
            "\n",
            "Name of company involved: Philip Morris International\n",
            "Main topic of the article: ESG, sustainability, AXA, issuance, emissions, organizations, issuers, GSSS, Deloitte, equity\n",
            "Sentiment of text: 5 stars"
          ]
        },
        {
          "output_type": "stream",
          "name": "stderr",
          "text": [
            "\n",
            "llama_print_timings:        load time =     264.64 ms\n",
            "llama_print_timings:      sample time =      31.07 ms /    59 runs   (    0.53 ms per token,  1898.88 tokens per second)\n",
            "llama_print_timings: prompt eval time =    1003.40 ms /    88 tokens (   11.40 ms per token,    87.70 tokens per second)\n",
            "llama_print_timings:        eval time =    1524.41 ms /    58 runs   (   26.28 ms per token,    38.05 tokens per second)\n",
            "llama_print_timings:       total time =    2800.64 ms /   146 tokens\n",
            "Llama.generate: prefix-match hit\n"
          ]
        },
        {
          "output_type": "stream",
          "name": "stdout",
          "text": [
            "\n",
            "Trafigura, JPMorgan, Staley, Islands, Epstein, Gates, Virgin, Lawsuit, Jeffrey, His."
          ]
        },
        {
          "output_type": "stream",
          "name": "stderr",
          "text": [
            "\n",
            "llama_print_timings:        load time =     264.64 ms\n",
            "llama_print_timings:      sample time =      18.60 ms /    32 runs   (    0.58 ms per token,  1720.25 tokens per second)\n",
            "llama_print_timings: prompt eval time =     981.95 ms /    84 tokens (   11.69 ms per token,    85.54 tokens per second)\n",
            "llama_print_timings:        eval time =     808.18 ms /    31 runs   (   26.07 ms per token,    38.36 tokens per second)\n",
            "llama_print_timings:       total time =    1999.66 ms /   115 tokens\n",
            "Llama.generate: prefix-match hit\n"
          ]
        },
        {
          "output_type": "stream",
          "name": "stdout",
          "text": [
            "\n",
            "The company involved is BBC, and the main topic of the article is \"to\", with a sentiment rating of 4 stars."
          ]
        },
        {
          "output_type": "stream",
          "name": "stderr",
          "text": [
            "\n",
            "llama_print_timings:        load time =     264.64 ms\n",
            "llama_print_timings:      sample time =      17.33 ms /    28 runs   (    0.62 ms per token,  1615.98 tokens per second)\n",
            "llama_print_timings: prompt eval time =     782.76 ms /    70 tokens (   11.18 ms per token,    89.43 tokens per second)\n",
            "llama_print_timings:        eval time =     675.18 ms /    27 runs   (   25.01 ms per token,    39.99 tokens per second)\n",
            "llama_print_timings:       total time =    1698.98 ms /    97 tokens\n",
            "Llama.generate: prefix-match hit\n"
          ]
        },
        {
          "output_type": "stream",
          "name": "stdout",
          "text": [
            "\n",
            "\n",
            "YouTube has announced a new feature that allows creators to monetize their videos through crowdfunding. This feature is available on all platforms, including desktop, mobile web, and mobile app. According to YouTube's official statement, \"This feature gives creators more ways to connect with their fans and receive support for their content.\" (1 star)"
          ]
        },
        {
          "output_type": "stream",
          "name": "stderr",
          "text": [
            "\n",
            "llama_print_timings:        load time =     264.64 ms\n",
            "llama_print_timings:      sample time =      42.34 ms /    76 runs   (    0.56 ms per token,  1795.08 tokens per second)\n",
            "llama_print_timings: prompt eval time =     778.28 ms /    70 tokens (   11.12 ms per token,    89.94 tokens per second)\n",
            "llama_print_timings:        eval time =    1964.97 ms /    75 runs   (   26.20 ms per token,    38.17 tokens per second)\n",
            "llama_print_timings:       total time =    3124.35 ms /   145 tokens\n",
            "Llama.generate: prefix-match hit\n",
            "\n",
            "llama_print_timings:        load time =     264.64 ms\n",
            "llama_print_timings:      sample time =       0.51 ms /     1 runs   (    0.51 ms per token,  1964.64 tokens per second)\n",
            "llama_print_timings: prompt eval time =     972.98 ms /    84 tokens (   11.58 ms per token,    86.33 tokens per second)\n",
            "llama_print_timings:        eval time =       0.00 ms /     1 runs   (    0.00 ms per token,      inf tokens per second)\n",
            "llama_print_timings:       total time =    1001.54 ms /    85 tokens\n",
            "Llama.generate: prefix-match hit\n"
          ]
        },
        {
          "output_type": "stream",
          "name": "stdout",
          "text": [
            "\n",
            "The name of the company involved is BBC, and the main topic of the article is presenter allegations. The sentiment of the text is 1 star."
          ]
        },
        {
          "output_type": "stream",
          "name": "stderr",
          "text": [
            "\n",
            "llama_print_timings:        load time =     264.64 ms\n",
            "llama_print_timings:      sample time =      17.20 ms /    34 runs   (    0.51 ms per token,  1977.09 tokens per second)\n",
            "llama_print_timings: prompt eval time =     811.58 ms /    72 tokens (   11.27 ms per token,    88.72 tokens per second)\n",
            "llama_print_timings:        eval time =     902.56 ms /    34 runs   (   26.55 ms per token,    37.67 tokens per second)\n",
            "llama_print_timings:       total time =    1878.88 ms /   106 tokens\n",
            "Llama.generate: prefix-match hit\n"
          ]
        },
        {
          "output_type": "stream",
          "name": "stdout",
          "text": [
            "\n",
            "British Airways uniforms to feature Prada, Boateng garments.\n",
            "1-star review: Unflattering suits and bas trousers."
          ]
        },
        {
          "output_type": "stream",
          "name": "stderr",
          "text": [
            "\n",
            "llama_print_timings:        load time =     264.64 ms\n",
            "llama_print_timings:      sample time =      20.66 ms /    38 runs   (    0.54 ms per token,  1839.57 tokens per second)\n",
            "llama_print_timings: prompt eval time =     917.31 ms /    80 tokens (   11.47 ms per token,    87.21 tokens per second)\n",
            "llama_print_timings:        eval time =    1001.11 ms /    38 runs   (   26.34 ms per token,    37.96 tokens per second)\n",
            "llama_print_timings:       total time =    2093.37 ms /   118 tokens\n",
            "Llama.generate: prefix-match hit\n"
          ]
        },
        {
          "output_type": "stream",
          "name": "stdout",
          "text": [
            "\n",
            "Toyota is investing $60 million in Sunderland to develop its hybrid technology, including batteries for its Prius models. (4 stars)"
          ]
        },
        {
          "output_type": "stream",
          "name": "stderr",
          "text": [
            "\n",
            "llama_print_timings:        load time =     264.64 ms\n",
            "llama_print_timings:      sample time =      19.75 ms /    36 runs   (    0.55 ms per token,  1822.51 tokens per second)\n",
            "llama_print_timings: prompt eval time =     983.98 ms /    85 tokens (   11.58 ms per token,    86.38 tokens per second)\n",
            "llama_print_timings:        eval time =     913.19 ms /    35 runs   (   26.09 ms per token,    38.33 tokens per second)\n",
            "llama_print_timings:       total time =    2069.44 ms /   120 tokens\n",
            "Llama.generate: prefix-match hit\n"
          ]
        },
        {
          "output_type": "stream",
          "name": "stdout",
          "text": [
            "\n",
            "Here is the article you are referring to: \"Starbucks CEO Howard Schultz has announced plans to provide benefits to same-sex partners of employees, making the company the first U.S. corporation to offer such benefits.\"\n",
            "Please let me know if you need any further information or clarification."
          ]
        },
        {
          "output_type": "stream",
          "name": "stderr",
          "text": [
            "\n",
            "llama_print_timings:        load time =     264.64 ms\n",
            "llama_print_timings:      sample time =      44.68 ms /    66 runs   (    0.68 ms per token,  1477.24 tokens per second)\n",
            "llama_print_timings: prompt eval time =     990.39 ms /    86 tokens (   11.52 ms per token,    86.83 tokens per second)\n",
            "llama_print_timings:        eval time =    1625.34 ms /    65 runs   (   25.01 ms per token,    39.99 tokens per second)\n",
            "llama_print_timings:       total time =    3156.66 ms /   151 tokens\n",
            "Llama.generate: prefix-match hit\n"
          ]
        },
        {
          "output_type": "stream",
          "name": "stdout",
          "text": [
            "\n",
            "The International Olympic Committee (IOC) has banned Russia from competing in the Olympics for four years due to doping violations. The IOC also announced that Russian athletes will compete as \"neutrals\" at the upcoming Winter Games in Belarus. The decision comes after the publication of a report by former World Anti-Doping Agency (WADA) director Richard McLaren, which found evidence of state-sponsored doping in Russia. The IOC has been criticized for not banning Russia sooner and for allowing Russian athletes to compete as neutrals rather than banning them entirely.\n",
            "Sentiment: 3 stars"
          ]
        },
        {
          "output_type": "stream",
          "name": "stderr",
          "text": [
            "\n",
            "llama_print_timings:        load time =     264.64 ms\n",
            "llama_print_timings:      sample time =      79.05 ms /   142 runs   (    0.56 ms per token,  1796.29 tokens per second)\n",
            "llama_print_timings: prompt eval time =     959.69 ms /    84 tokens (   11.42 ms per token,    87.53 tokens per second)\n",
            "llama_print_timings:        eval time =    3702.64 ms /   141 runs   (   26.26 ms per token,    38.08 tokens per second)\n",
            "llama_print_timings:       total time =    5330.80 ms /   225 tokens\n",
            "Llama.generate: prefix-match hit\n"
          ]
        },
        {
          "output_type": "stream",
          "name": "stdout",
          "text": [
            "\n",
            "The company involved in this article is BBC, and the main topic of the article is \"BBC accused of bias over Panorama investigation\". The sentiment of the text is 4 stars, indicating a neutral or balanced tone."
          ]
        },
        {
          "output_type": "stream",
          "name": "stderr",
          "text": [
            "\n",
            "llama_print_timings:        load time =     264.64 ms\n",
            "llama_print_timings:      sample time =      26.09 ms /    49 runs   (    0.53 ms per token,  1878.19 tokens per second)\n",
            "llama_print_timings: prompt eval time =     813.16 ms /    70 tokens (   11.62 ms per token,    86.08 tokens per second)\n",
            "llama_print_timings:        eval time =    1250.28 ms /    48 runs   (   26.05 ms per token,    38.39 tokens per second)\n",
            "llama_print_timings:       total time =    2297.87 ms /   118 tokens\n",
            "Llama.generate: prefix-match hit\n"
          ]
        },
        {
          "output_type": "stream",
          "name": "stdout",
          "text": [
            "\n",
            "Amazon is facing an FTC investigation over concerns that it has become a monopoly in the e-commerce marketplace. Sellers who use Amazon's Prime program may be required to give up their intellectual property rights as part of their agreement with the company. This has raised concerns among some sellers and customers, who feel that Amazon is taking advantage of its market dominance to unfairly profit from their products."
          ]
        },
        {
          "output_type": "stream",
          "name": "stderr",
          "text": [
            "\n",
            "llama_print_timings:        load time =     264.64 ms\n",
            "llama_print_timings:      sample time =      53.38 ms /    89 runs   (    0.60 ms per token,  1667.35 tokens per second)\n",
            "llama_print_timings: prompt eval time =     917.07 ms /    80 tokens (   11.46 ms per token,    87.23 tokens per second)\n",
            "llama_print_timings:        eval time =    2300.04 ms /    88 runs   (   26.14 ms per token,    38.26 tokens per second)\n",
            "llama_print_timings:       total time =    3696.79 ms /   168 tokens\n",
            "Llama.generate: prefix-match hit\n"
          ]
        },
        {
          "output_type": "stream",
          "name": "stdout",
          "text": [
            "\n",
            "The company Tesla is offering tax credits on its electric vehicles, including the Mustang, Explorer, and Capri. However, the prices of these vehicles have increased due to the tax credit. Despite this, many consumers are still interested in purchasing these EVs."
          ]
        },
        {
          "output_type": "stream",
          "name": "stderr",
          "text": [
            "\n",
            "llama_print_timings:        load time =     264.64 ms\n",
            "llama_print_timings:      sample time =      40.17 ms /    60 runs   (    0.67 ms per token,  1493.54 tokens per second)\n",
            "llama_print_timings: prompt eval time =     941.90 ms /    82 tokens (   11.49 ms per token,    87.06 tokens per second)\n",
            "llama_print_timings:        eval time =    1481.86 ms /    59 runs   (   25.12 ms per token,    39.81 tokens per second)\n",
            "llama_print_timings:       total time =    2902.26 ms /   141 tokens\n",
            "Llama.generate: prefix-match hit\n"
          ]
        },
        {
          "output_type": "stream",
          "name": "stdout",
          "text": [
            "\n",
            "\"Amazon launches Saf-Dac to help projects offset emissions.\"\n",
            "5 stars 🌟"
          ]
        },
        {
          "output_type": "stream",
          "name": "stderr",
          "text": [
            "\n",
            "llama_print_timings:        load time =     264.64 ms\n",
            "llama_print_timings:      sample time =      15.08 ms /    27 runs   (    0.56 ms per token,  1790.93 tokens per second)\n",
            "llama_print_timings: prompt eval time =     960.53 ms /    82 tokens (   11.71 ms per token,    85.37 tokens per second)\n",
            "llama_print_timings:        eval time =     686.10 ms /    26 runs   (   26.39 ms per token,    37.90 tokens per second)\n",
            "llama_print_timings:       total time =    1780.74 ms /   108 tokens\n",
            "Llama.generate: prefix-match hit\n"
          ]
        },
        {
          "output_type": "stream",
          "name": "stdout",
          "text": [
            "\n",
            "Walmart cuts prices on hundreds of items to 1 cent, but shoppers remain skeptical about inflation\n",
            "Sentiment: 2 stars"
          ]
        },
        {
          "output_type": "stream",
          "name": "stderr",
          "text": [
            "\n",
            "llama_print_timings:        load time =     264.64 ms\n",
            "llama_print_timings:      sample time =      19.75 ms /    36 runs   (    0.55 ms per token,  1823.15 tokens per second)\n",
            "llama_print_timings: prompt eval time =     967.74 ms /    83 tokens (   11.66 ms per token,    85.77 tokens per second)\n",
            "llama_print_timings:        eval time =     915.73 ms /    35 runs   (   26.16 ms per token,    38.22 tokens per second)\n",
            "llama_print_timings:       total time =    2062.44 ms /   118 tokens\n",
            "Llama.generate: prefix-match hit\n"
          ]
        },
        {
          "output_type": "stream",
          "name": "stdout",
          "text": [
            "\n",
            "The answer to the question is:\n",
            "BBC presenter accused of sexual misconduct by multiple women. (1 star)"
          ]
        },
        {
          "output_type": "stream",
          "name": "stderr",
          "text": [
            "\n",
            "llama_print_timings:        load time =     264.64 ms\n",
            "llama_print_timings:      sample time =      14.81 ms /    28 runs   (    0.53 ms per token,  1890.61 tokens per second)\n",
            "llama_print_timings: prompt eval time =     823.89 ms /    72 tokens (   11.44 ms per token,    87.39 tokens per second)\n",
            "llama_print_timings:        eval time =     744.44 ms /    28 runs   (   26.59 ms per token,    37.61 tokens per second)\n",
            "llama_print_timings:       total time =    1712.59 ms /   100 tokens\n",
            "Llama.generate: prefix-match hit\n"
          ]
        },
        {
          "output_type": "stream",
          "name": "stdout",
          "text": [
            "\n",
            "Tesla faces $1 million discrimination lawsuit from former employee\n",
            "• Company involved: Tesla\n",
            "• Main topic of the article: Discrimination\n",
            "• Sentiment of the text: 1 star"
          ]
        },
        {
          "output_type": "stream",
          "name": "stderr",
          "text": [
            "\n",
            "llama_print_timings:        load time =     264.64 ms\n",
            "llama_print_timings:      sample time =      24.71 ms /    47 runs   (    0.53 ms per token,  1901.91 tokens per second)\n",
            "llama_print_timings: prompt eval time =     979.75 ms /    84 tokens (   11.66 ms per token,    85.74 tokens per second)\n",
            "llama_print_timings:        eval time =    1200.45 ms /    46 runs   (   26.10 ms per token,    38.32 tokens per second)\n",
            "llama_print_timings:       total time =    2416.04 ms /   130 tokens\n",
            "Llama.generate: prefix-match hit\n"
          ]
        },
        {
          "output_type": "stream",
          "name": "stdout",
          "text": [
            "\n",
            "The name of the company involved is Tesla, and the main topic of the article is Elon Musk's tweet about possibly taking the company private. Shareholders are split on the idea, with some supporting it and others opposing it. The sentiment of the text is 4 stars."
          ]
        },
        {
          "output_type": "stream",
          "name": "stderr",
          "text": [
            "\n",
            "llama_print_timings:        load time =     264.64 ms\n",
            "llama_print_timings:      sample time =      40.83 ms /    65 runs   (    0.63 ms per token,  1591.93 tokens per second)\n",
            "llama_print_timings: prompt eval time =     861.30 ms /    74 tokens (   11.64 ms per token,    85.92 tokens per second)\n",
            "llama_print_timings:        eval time =    1663.68 ms /    64 runs   (   26.00 ms per token,    38.47 tokens per second)\n",
            "llama_print_timings:       total time =    2961.27 ms /   138 tokens\n",
            "Llama.generate: prefix-match hit\n"
          ]
        },
        {
          "output_type": "stream",
          "name": "stdout",
          "text": [
            "\n",
            "The company involved is Mattel, and the main topic of the article is Barbie's diversity and inclusivity. The sentiment of the text is neutral, with a rating of 3 stars out of 5."
          ]
        },
        {
          "output_type": "stream",
          "name": "stderr",
          "text": [
            "\n",
            "llama_print_timings:        load time =     264.64 ms\n",
            "llama_print_timings:      sample time =      29.62 ms /    47 runs   (    0.63 ms per token,  1586.98 tokens per second)\n",
            "llama_print_timings: prompt eval time =     781.81 ms /    71 tokens (   11.01 ms per token,    90.82 tokens per second)\n",
            "llama_print_timings:        eval time =    1145.92 ms /    46 runs   (   24.91 ms per token,    40.14 tokens per second)\n",
            "llama_print_timings:       total time =    2325.96 ms /   117 tokens\n",
            "Llama.generate: prefix-match hit\n"
          ]
        },
        {
          "output_type": "stream",
          "name": "stdout",
          "text": [
            "\n",
            "The company involved is Microsoft, and the main topic of the article is AI technology. According to a recent study by Microsoft, AI will create more jobs than it replaces in the next five years. The sentiment of the text is 5 stars, as the study presents optimistic findings about the potential benefits of AI for society."
          ]
        },
        {
          "output_type": "stream",
          "name": "stderr",
          "text": [
            "\n",
            "llama_print_timings:        load time =     264.64 ms\n",
            "llama_print_timings:      sample time =      38.51 ms /    72 runs   (    0.53 ms per token,  1869.50 tokens per second)\n",
            "llama_print_timings: prompt eval time =     771.48 ms /    69 tokens (   11.18 ms per token,    89.44 tokens per second)\n",
            "llama_print_timings:        eval time =    1857.76 ms /    71 runs   (   26.17 ms per token,    38.22 tokens per second)\n",
            "llama_print_timings:       total time =    2977.88 ms /   140 tokens\n",
            "Llama.generate: prefix-match hit\n"
          ]
        },
        {
          "output_type": "stream",
          "name": "stdout",
          "text": [
            "\n",
            "Name of company involved: Air France\n",
            "Main topic of the article: To, of, on, by, said, at, her, its, has, be\n",
            "Sentiment of text: 1 star"
          ]
        },
        {
          "output_type": "stream",
          "name": "stderr",
          "text": [
            "\n",
            "llama_print_timings:        load time =     264.64 ms\n",
            "llama_print_timings:      sample time =      22.79 ms /    45 runs   (    0.51 ms per token,  1974.98 tokens per second)\n",
            "llama_print_timings: prompt eval time =     806.54 ms /    71 tokens (   11.36 ms per token,    88.03 tokens per second)\n",
            "llama_print_timings:        eval time =    1143.35 ms /    44 runs   (   25.99 ms per token,    38.48 tokens per second)\n",
            "llama_print_timings:       total time =    2166.16 ms /   115 tokens\n",
            "Llama.generate: prefix-match hit\n"
          ]
        },
        {
          "output_type": "stream",
          "name": "stdout",
          "text": [
            "\n",
            "Amazon lays off 1,800 employees in Seattle as part of broader cost-cutting measures under new CEO Jassy. Bezos had previously vowed to protect jobs in the city but is now making deep cuts despite Seattle's importance to the company. (Source: The Verge)"
          ]
        },
        {
          "output_type": "stream",
          "name": "stderr",
          "text": [
            "\n",
            "llama_print_timings:        load time =     264.64 ms\n",
            "llama_print_timings:      sample time =      38.68 ms /    70 runs   (    0.55 ms per token,  1809.81 tokens per second)\n",
            "llama_print_timings: prompt eval time =     988.99 ms /    86 tokens (   11.50 ms per token,    86.96 tokens per second)\n",
            "llama_print_timings:        eval time =    1804.95 ms /    69 runs   (   26.16 ms per token,    38.23 tokens per second)\n",
            "llama_print_timings:       total time =    3122.17 ms /   155 tokens\n",
            "Llama.generate: prefix-match hit\n"
          ]
        },
        {
          "output_type": "stream",
          "name": "stdout",
          "text": [
            "\n",
            "Signet Jewelers shares gain on strong earnings expectations\n",
            "The article reports that Signet Jewelers' shares gained in premarket trading after Refinitiv analysts raised their estimates for the company's quarterly earnings. According to Refinitiv, Signet is expected to post a 25% increase in earnings compared to the same period last year, driven by strong sales growth and cost control measures. The analysts also noted that Signet's performance is likely to be boosted by its recent acquisition of Zale Corporation. As a result, Signet's shares gained 4% in premarket trading, outperforming the broader market."
          ]
        },
        {
          "output_type": "stream",
          "name": "stderr",
          "text": [
            "\n",
            "llama_print_timings:        load time =     264.64 ms\n",
            "llama_print_timings:      sample time =     102.73 ms /   147 runs   (    0.70 ms per token,  1430.87 tokens per second)\n",
            "llama_print_timings: prompt eval time =     987.47 ms /    86 tokens (   11.48 ms per token,    87.09 tokens per second)\n",
            "llama_print_timings:        eval time =    3726.53 ms /   146 runs   (   25.52 ms per token,    39.18 tokens per second)\n",
            "llama_print_timings:       total time =    5737.40 ms /   232 tokens\n",
            "Llama.generate: prefix-match hit\n"
          ]
        },
        {
          "output_type": "stream",
          "name": "stdout",
          "text": [
            "\n",
            "Name of company involved: American Airlines\n",
            "Main topic of article: Attendant, airlines, passenger, crew, Harris, incident, his, bass, Delta, told\n",
            "Sentiment of text: 1 star"
          ]
        },
        {
          "output_type": "stream",
          "name": "stderr",
          "text": [
            "\n",
            "llama_print_timings:        load time =     264.64 ms\n",
            "llama_print_timings:      sample time =      24.88 ms /    47 runs   (    0.53 ms per token,  1888.76 tokens per second)\n",
            "llama_print_timings: prompt eval time =     893.86 ms /    78 tokens (   11.46 ms per token,    87.26 tokens per second)\n",
            "llama_print_timings:        eval time =    1209.70 ms /    46 runs   (   26.30 ms per token,    38.03 tokens per second)\n",
            "llama_print_timings:       total time =    2324.53 ms /   124 tokens\n",
            "Llama.generate: prefix-match hit\n"
          ]
        },
        {
          "output_type": "stream",
          "name": "stdout",
          "text": [
            "\n",
            "Name of company involved: Netflix\n",
            "Main topic of article: to, of, on, by, said, at, her, its, has, been\n",
            "Sentiment of text: 5 stars"
          ]
        },
        {
          "output_type": "stream",
          "name": "stderr",
          "text": [
            "\n",
            "llama_print_timings:        load time =     264.64 ms\n",
            "llama_print_timings:      sample time =      23.87 ms /    45 runs   (    0.53 ms per token,  1884.97 tokens per second)\n",
            "llama_print_timings: prompt eval time =     800.57 ms /    71 tokens (   11.28 ms per token,    88.69 tokens per second)\n",
            "llama_print_timings:        eval time =    1171.22 ms /    44 runs   (   26.62 ms per token,    37.57 tokens per second)\n",
            "llama_print_timings:       total time =    2186.60 ms /   115 tokens\n",
            "Llama.generate: prefix-match hit\n"
          ]
        },
        {
          "output_type": "stream",
          "name": "stdout",
          "text": [
            "\n",
            "Amazon's CEO Satya Nadella has announced layoffs that will affect 11,000 workers in the company's workforce. While the move is expected to save the company $2 billion in costs, it has been met with mixed reactions from employees and industry analysts. (Source: CNBC)\n",
            "Sentiment: 4 stars"
          ]
        },
        {
          "output_type": "stream",
          "name": "stderr",
          "text": [
            "\n",
            "llama_print_timings:        load time =     264.64 ms\n",
            "llama_print_timings:      sample time =      45.88 ms /    82 runs   (    0.56 ms per token,  1787.19 tokens per second)\n",
            "llama_print_timings: prompt eval time =     961.27 ms /    83 tokens (   11.58 ms per token,    86.34 tokens per second)\n",
            "llama_print_timings:        eval time =    2102.06 ms /    81 runs   (   25.95 ms per token,    38.53 tokens per second)\n",
            "llama_print_timings:       total time =    3458.41 ms /   164 tokens\n",
            "Llama.generate: prefix-match hit\n"
          ]
        },
        {
          "output_type": "stream",
          "name": "stdout",
          "text": [
            "\n",
            "BlackRock sees surge in ESG issuance, led by AXA and Issuers\n",
            "The article reports a significant increase in Environmental, Social, and Governance (ESG) issuance, with leading organizations such as AXA and issuers driving the trend. According to Deloitte's Global Sustainable Strategy Survey (GSSS), 87% of organizations prioritize ESG factors when making investment decisions, while 90% of issuers believe that ESG is important for their company's long-term success. The article concludes that the growing demand for ESG issuance will continue to shape the financial industry in the years to come."
          ]
        },
        {
          "output_type": "stream",
          "name": "stderr",
          "text": [
            "\n",
            "llama_print_timings:        load time =     264.64 ms\n",
            "llama_print_timings:      sample time =     102.26 ms /   151 runs   (    0.68 ms per token,  1476.60 tokens per second)\n",
            "llama_print_timings: prompt eval time =     990.78 ms /    86 tokens (   11.52 ms per token,    86.80 tokens per second)\n",
            "llama_print_timings:        eval time =    3817.52 ms /   150 runs   (   25.45 ms per token,    39.29 tokens per second)\n",
            "llama_print_timings:       total time =    5841.38 ms /   236 tokens\n",
            "Llama.generate: prefix-match hit\n"
          ]
        },
        {
          "output_type": "stream",
          "name": "stdout",
          "text": [
            "\n",
            "The company involved in this article is RBC, and the main topic is toxic workplace culture."
          ]
        },
        {
          "output_type": "stream",
          "name": "stderr",
          "text": [
            "\n",
            "llama_print_timings:        load time =     264.64 ms\n",
            "llama_print_timings:      sample time =      11.98 ms /    23 runs   (    0.52 ms per token,  1919.87 tokens per second)\n",
            "llama_print_timings: prompt eval time =     793.74 ms /    70 tokens (   11.34 ms per token,    88.19 tokens per second)\n",
            "llama_print_timings:        eval time =     589.19 ms /    22 runs   (   26.78 ms per token,    37.34 tokens per second)\n",
            "llama_print_timings:       total time =    1497.41 ms /    92 tokens\n",
            "Llama.generate: prefix-match hit\n"
          ]
        },
        {
          "output_type": "stream",
          "name": "stdout",
          "text": [
            "\n",
            "eBay has announced that it will stop allowing listings for items that are not in stock or available for immediate shipment, starting in March. According to an article by CNBC, this change is intended to improve the customer experience and reduce fraudulent activity on the platform. The move is expected to affect thousands of sellers who rely on the platform to sell their inventory. (Source: CNBC)\n",
            "1 star"
          ]
        },
        {
          "output_type": "stream",
          "name": "stderr",
          "text": [
            "\n",
            "llama_print_timings:        load time =     264.64 ms\n",
            "llama_print_timings:      sample time =      52.12 ms /    92 runs   (    0.57 ms per token,  1765.26 tokens per second)\n",
            "llama_print_timings: prompt eval time =     804.52 ms /    71 tokens (   11.33 ms per token,    88.25 tokens per second)\n",
            "llama_print_timings:        eval time =    2352.89 ms /    91 runs   (   25.86 ms per token,    38.68 tokens per second)\n",
            "llama_print_timings:       total time =    3603.61 ms /   162 tokens\n",
            "Llama.generate: prefix-match hit\n"
          ]
        },
        {
          "output_type": "stream",
          "name": "stdout",
          "text": [
            "\n",
            "The company involved is Roche, and the main topic of the article is to develop a new AI-powered drug discovery platform. The sentiment of the text is 1 star because the article states that the platform \"has yet to produce any major breakthroughs.\""
          ]
        },
        {
          "output_type": "stream",
          "name": "stderr",
          "text": [
            "\n",
            "llama_print_timings:        load time =     264.64 ms\n",
            "llama_print_timings:      sample time =      31.10 ms /    57 runs   (    0.55 ms per token,  1833.09 tokens per second)\n",
            "llama_print_timings: prompt eval time =     791.95 ms /    70 tokens (   11.31 ms per token,    88.39 tokens per second)\n",
            "llama_print_timings:        eval time =    1459.70 ms /    56 runs   (   26.07 ms per token,    38.36 tokens per second)\n",
            "llama_print_timings:       total time =    2529.12 ms /   126 tokens\n",
            "Llama.generate: prefix-match hit\n"
          ]
        },
        {
          "output_type": "stream",
          "name": "stdout",
          "text": [
            "\n",
            "The company involved is Amazon, the main topic of the article is to, on, by, at, her, its, has, been said, and the sentiment of the text is 1 star."
          ]
        },
        {
          "output_type": "stream",
          "name": "stderr",
          "text": [
            "\n",
            "llama_print_timings:        load time =     264.64 ms\n",
            "llama_print_timings:      sample time =      24.33 ms /    43 runs   (    0.57 ms per token,  1767.37 tokens per second)\n",
            "llama_print_timings: prompt eval time =     811.68 ms /    71 tokens (   11.43 ms per token,    87.47 tokens per second)\n",
            "llama_print_timings:        eval time =    1082.77 ms /    42 runs   (   25.78 ms per token,    38.79 tokens per second)\n",
            "llama_print_timings:       total time =    2149.26 ms /   113 tokens\n",
            "Llama.generate: prefix-match hit\n"
          ]
        },
        {
          "output_type": "stream",
          "name": "stdout",
          "text": [
            "\n",
            "The article discusses how Volvo's new XC60 electric model will compete with diesel models, while also offering a range of seats and an impressive MPV feature. According to the text, the new XC60 has a longer range than its predecessor and is expected to be popular among Newman-like buyers who value comfort and practicality. Overall, the article gives a positive review of the new Volvo model, awarding it 4 stars out of 5."
          ]
        },
        {
          "output_type": "stream",
          "name": "stderr",
          "text": [
            "\n",
            "llama_print_timings:        load time =     264.64 ms\n",
            "llama_print_timings:      sample time =      72.81 ms /   108 runs   (    0.67 ms per token,  1483.29 tokens per second)\n",
            "llama_print_timings: prompt eval time =     895.41 ms /    80 tokens (   11.19 ms per token,    89.34 tokens per second)\n",
            "llama_print_timings:        eval time =    2803.75 ms /   107 runs   (   26.20 ms per token,    38.16 tokens per second)\n",
            "llama_print_timings:       total time =    4667.61 ms /   187 tokens\n",
            "Llama.generate: prefix-match hit\n"
          ]
        },
        {
          "output_type": "stream",
          "name": "stdout",
          "text": [
            "\n",
            "Spotify's new podcast, \"EK,\" features Meghan, Miley, and Rogan discussing flowers, mixes, and more with host Ostroff. Despite the interesting topic, the overall sentiment is only 1 star due to the lack of depth in their discussions."
          ]
        },
        {
          "output_type": "stream",
          "name": "stderr",
          "text": [
            "\n",
            "llama_print_timings:        load time =     264.64 ms\n",
            "llama_print_timings:      sample time =      35.56 ms /    64 runs   (    0.56 ms per token,  1799.57 tokens per second)\n",
            "llama_print_timings: prompt eval time =     904.26 ms /    80 tokens (   11.30 ms per token,    88.47 tokens per second)\n",
            "llama_print_timings:        eval time =    1666.30 ms /    64 runs   (   26.04 ms per token,    38.41 tokens per second)\n",
            "llama_print_timings:       total time =    2870.37 ms /   144 tokens\n"
          ]
        },
        {
          "output_type": "stream",
          "name": "stdout",
          "text": [
            "\n",
            "Spotify's"
          ]
        },
        {
          "output_type": "stream",
          "name": "stderr",
          "text": [
            "Llama.generate: prefix-match hit\n"
          ]
        },
        {
          "output_type": "stream",
          "name": "stdout",
          "text": [
            " new podcast is a must-listen for fans of Ek, Meghan, Miley, Rogan, Flowers, Mixes, Ostroff, and song!"
          ]
        },
        {
          "output_type": "stream",
          "name": "stderr",
          "text": [
            "\n",
            "llama_print_timings:        load time =     264.64 ms\n",
            "llama_print_timings:      sample time =      23.03 ms /    42 runs   (    0.55 ms per token,  1823.39 tokens per second)\n",
            "llama_print_timings: prompt eval time =       0.00 ms /     1 tokens (    0.00 ms per token,      inf tokens per second)\n",
            "llama_print_timings:        eval time =    1086.19 ms /    42 runs   (   25.86 ms per token,    38.67 tokens per second)\n",
            "llama_print_timings:       total time =    1267.95 ms /    43 tokens\n",
            "Llama.generate: prefix-match hit\n"
          ]
        },
        {
          "output_type": "stream",
          "name": "stdout",
          "text": [
            "\n",
            "The company involved is Netflix, and the main topic of the article is \"Netflix has announced that it will stop producing original content in Russia.\" The sentiment of the text is 4 stars."
          ]
        },
        {
          "output_type": "stream",
          "name": "stderr",
          "text": [
            "\n",
            "llama_print_timings:        load time =     264.64 ms\n",
            "llama_print_timings:      sample time =      24.35 ms /    44 runs   (    0.55 ms per token,  1806.83 tokens per second)\n",
            "llama_print_timings: prompt eval time =     811.83 ms /    71 tokens (   11.43 ms per token,    87.46 tokens per second)\n",
            "llama_print_timings:        eval time =    1130.36 ms /    43 runs   (   26.29 ms per token,    38.04 tokens per second)\n",
            "llama_print_timings:       total time =    2154.16 ms /   114 tokens\n",
            "Llama.generate: prefix-match hit\n"
          ]
        },
        {
          "output_type": "stream",
          "name": "stdout",
          "text": [
            "\n",
            "Aldi has been accused of using slave labor in its supply chain."
          ]
        },
        {
          "output_type": "stream",
          "name": "stderr",
          "text": [
            "\n",
            "llama_print_timings:        load time =     264.64 ms\n",
            "llama_print_timings:      sample time =       8.66 ms /    17 runs   (    0.51 ms per token,  1963.28 tokens per second)\n",
            "llama_print_timings: prompt eval time =     805.87 ms /    71 tokens (   11.35 ms per token,    88.10 tokens per second)\n",
            "llama_print_timings:        eval time =     433.77 ms /    16 runs   (   27.11 ms per token,    36.89 tokens per second)\n",
            "llama_print_timings:       total time =    1327.58 ms /    87 tokens\n",
            "Llama.generate: prefix-match hit\n"
          ]
        },
        {
          "output_type": "stream",
          "name": "stdout",
          "text": [
            "\n",
            "The article discusses how Airbnb is taking over beach rentals, homes, and properties in popular vacation destinations like Tripadvisor, with hosts earning an average of $8,000 per month. However, some local hotels and properties are struggling to compete with the affordability and unique experiences offered by Airbnb hosts. Despite this, many hosts are still dissatisfied with the platform's commission fees and lack of support for small businesses. The sentiment of the article is 1 star because it highlights the challenges faced by local hotels and properties in competing with Airbnb."
          ]
        },
        {
          "output_type": "stream",
          "name": "stderr",
          "text": [
            "\n",
            "llama_print_timings:        load time =     264.64 ms\n",
            "llama_print_timings:      sample time =      90.74 ms /   133 runs   (    0.68 ms per token,  1465.68 tokens per second)\n",
            "llama_print_timings: prompt eval time =     870.76 ms /    78 tokens (   11.16 ms per token,    89.58 tokens per second)\n",
            "llama_print_timings:        eval time =    3350.70 ms /   132 runs   (   25.38 ms per token,    39.39 tokens per second)\n",
            "llama_print_timings:       total time =    5151.56 ms /   210 tokens\n",
            "Llama.generate: prefix-match hit\n"
          ]
        },
        {
          "output_type": "stream",
          "name": "stdout",
          "text": [
            "\n",
            "Here is the article you are asked to summarize in 10 words or less: \"Amazon has announced a new program aimed at increasing diversity in tech.\""
          ]
        },
        {
          "output_type": "stream",
          "name": "stderr",
          "text": [
            "\n",
            "llama_print_timings:        load time =     264.64 ms\n",
            "llama_print_timings:      sample time =      20.80 ms /    39 runs   (    0.53 ms per token,  1875.45 tokens per second)\n",
            "llama_print_timings: prompt eval time =     788.72 ms /    70 tokens (   11.27 ms per token,    88.75 tokens per second)\n",
            "llama_print_timings:        eval time =    1003.29 ms /    38 runs   (   26.40 ms per token,    37.88 tokens per second)\n",
            "llama_print_timings:       total time =    1978.36 ms /   108 tokens\n",
            "Llama.generate: prefix-match hit\n"
          ]
        },
        {
          "output_type": "stream",
          "name": "stdout",
          "text": [
            "\n",
            "The article discusses Elon Musk's decision to use his platform to promote Yaccarino's advertising agency, despite Walmart's CEO being skeptical of verified tweets."
          ]
        },
        {
          "output_type": "stream",
          "name": "stderr",
          "text": [
            "\n",
            "llama_print_timings:        load time =     264.64 ms\n",
            "llama_print_timings:      sample time =      25.64 ms /    46 runs   (    0.56 ms per token,  1793.72 tokens per second)\n",
            "llama_print_timings: prompt eval time =     932.44 ms /    82 tokens (   11.37 ms per token,    87.94 tokens per second)\n",
            "llama_print_timings:        eval time =    1166.31 ms /    45 runs   (   25.92 ms per token,    38.58 tokens per second)\n",
            "llama_print_timings:       total time =    2328.55 ms /   127 tokens\n",
            "Llama.generate: prefix-match hit\n"
          ]
        },
        {
          "output_type": "stream",
          "name": "stdout",
          "text": [
            "\n",
            "Amazon workers in Coventry to strike over pay rise - GMB union\n",
            "The article reports that Amazon workers in Coventry will go on strike over a proposed wage rise of just 50p per hour. The GMB union has called the strike, which will take place next week."
          ]
        },
        {
          "output_type": "stream",
          "name": "stderr",
          "text": [
            "\n",
            "llama_print_timings:        load time =     264.64 ms\n",
            "llama_print_timings:      sample time =      34.64 ms /    63 runs   (    0.55 ms per token,  1818.65 tokens per second)\n",
            "llama_print_timings: prompt eval time =     907.12 ms /    80 tokens (   11.34 ms per token,    88.19 tokens per second)\n",
            "llama_print_timings:        eval time =    1619.81 ms /    62 runs   (   26.13 ms per token,    38.28 tokens per second)\n",
            "llama_print_timings:       total time =    2832.41 ms /   142 tokens\n",
            "Llama.generate: prefix-match hit\n"
          ]
        },
        {
          "output_type": "stream",
          "name": "stdout",
          "text": [
            "\n",
            "BBC - To, Of, On, By, Said, At, Her, Its, Has, Be\n",
            "Sentiment: 1 Star"
          ]
        },
        {
          "output_type": "stream",
          "name": "stderr",
          "text": [
            "\n",
            "llama_print_timings:        load time =     264.64 ms\n",
            "llama_print_timings:      sample time =      18.32 ms /    33 runs   (    0.56 ms per token,  1801.21 tokens per second)\n",
            "llama_print_timings: prompt eval time =     798.28 ms /    70 tokens (   11.40 ms per token,    87.69 tokens per second)\n",
            "llama_print_timings:        eval time =     825.34 ms /    32 runs   (   25.79 ms per token,    38.77 tokens per second)\n",
            "llama_print_timings:       total time =    1834.75 ms /   102 tokens\n",
            "Llama.generate: prefix-match hit\n"
          ]
        },
        {
          "output_type": "stream",
          "name": "stdout",
          "text": [
            "\n",
            "Amazon indigenous groups fight deforestation in Brazil's rainforest\n",
            "The main topic of this article is indigenous groups fighting against deforestation in Brazil's Amazon rainforest. The sentiment of the text is 4 stars, indicating a neutral tone."
          ]
        },
        {
          "output_type": "stream",
          "name": "stderr",
          "text": [
            "\n",
            "llama_print_timings:        load time =     264.64 ms\n",
            "llama_print_timings:      sample time =      40.69 ms /    63 runs   (    0.65 ms per token,  1548.22 tokens per second)\n",
            "llama_print_timings: prompt eval time =     963.13 ms /    86 tokens (   11.20 ms per token,    89.29 tokens per second)\n",
            "llama_print_timings:        eval time =    1550.08 ms /    62 runs   (   25.00 ms per token,    40.00 tokens per second)\n",
            "llama_print_timings:       total time =    3039.49 ms /   148 tokens\n",
            "Llama.generate: prefix-match hit\n"
          ]
        },
        {
          "output_type": "stream",
          "name": "stdout",
          "text": [
            "\n",
            "The company involved is Amazon, and the main topic of the article is online shopping. According to a recent survey, more than half of Americans have made an online purchase on Amazon in the past year. The sentiment of the text is 4 stars, indicating a generally positive tone."
          ]
        },
        {
          "output_type": "stream",
          "name": "stderr",
          "text": [
            "\n",
            "llama_print_timings:        load time =     264.64 ms\n",
            "llama_print_timings:      sample time =      31.63 ms /    59 runs   (    0.54 ms per token,  1865.20 tokens per second)\n",
            "llama_print_timings: prompt eval time =     696.07 ms /    60 tokens (   11.60 ms per token,    86.20 tokens per second)\n",
            "llama_print_timings:        eval time =    1520.57 ms /    58 runs   (   26.22 ms per token,    38.14 tokens per second)\n",
            "llama_print_timings:       total time =    2497.71 ms /   118 tokens\n",
            "Llama.generate: prefix-match hit\n"
          ]
        },
        {
          "output_type": "stream",
          "name": "stdout",
          "text": [
            "\n",
            "Tesla CEO Elon Musk has announced a new platform that will allow users to create verified accounts using their tweets. According to an article by Yaccarino, advertising on the platform will be based on the popularity of a user's tweets. The move is seen as a way for Tesla to increase its revenue stream and reach more customers. However, some have expressed concerns about privacy issues and the potential for fake accounts to spread misinformation."
          ]
        },
        {
          "output_type": "stream",
          "name": "stderr",
          "text": [
            "\n",
            "llama_print_timings:        load time =     264.64 ms\n",
            "llama_print_timings:      sample time =      58.76 ms /   102 runs   (    0.58 ms per token,  1735.79 tokens per second)\n",
            "llama_print_timings: prompt eval time =     945.30 ms /    82 tokens (   11.53 ms per token,    86.75 tokens per second)\n",
            "llama_print_timings:        eval time =    2621.58 ms /   101 runs   (   25.96 ms per token,    38.53 tokens per second)\n",
            "llama_print_timings:       total time =    4063.05 ms /   183 tokens\n",
            "Llama.generate: prefix-match hit\n"
          ]
        },
        {
          "output_type": "stream",
          "name": "stdout",
          "text": [
            "\n",
            "BlackRock, a leading investment management company, has published an article highlighting the growing importance of Environmental, Social, and Governance (ESG) factors in investment decision-making. According to the article, ESG considerations are becoming increasingly important for issuers, with 80% of them now incorporating sustainability information into their financial reports. This trend is being driven by a growing awareness of the impact of climate change and other environmental issues on business performance, as well as increased investor demand for sustainable investment options. The article also notes that organizations are increasingly using ESG metrics to evaluate issuer performance and make informed investment decisions. Overall, the sentiment of the article is positive, with a focus on the growing importance of ESG in the investment industry."
          ]
        },
        {
          "output_type": "stream",
          "name": "stderr",
          "text": [
            "\n",
            "llama_print_timings:        load time =     264.64 ms\n",
            "llama_print_timings:      sample time =     115.95 ms /   174 runs   (    0.67 ms per token,  1500.62 tokens per second)\n",
            "llama_print_timings: prompt eval time =     985.34 ms /    86 tokens (   11.46 ms per token,    87.28 tokens per second)\n",
            "llama_print_timings:        eval time =    4414.64 ms /   173 runs   (   25.52 ms per token,    39.19 tokens per second)\n",
            "llama_print_timings:       total time =    6548.83 ms /   259 tokens\n",
            "Llama.generate: prefix-match hit\n"
          ]
        },
        {
          "output_type": "stream",
          "name": "stdout",
          "text": [
            "\n",
            "The company involved in this article is BBC, and the main topic is a discussion about the potential benefits of using AI in newsrooms. The sentiment of the text is 2 stars, indicating a neutral or balanced tone."
          ]
        },
        {
          "output_type": "stream",
          "name": "stderr",
          "text": [
            "\n",
            "llama_print_timings:        load time =     264.64 ms\n",
            "llama_print_timings:      sample time =      26.06 ms /    48 runs   (    0.54 ms per token,  1841.62 tokens per second)\n",
            "llama_print_timings: prompt eval time =     779.52 ms /    70 tokens (   11.14 ms per token,    89.80 tokens per second)\n",
            "llama_print_timings:        eval time =    1240.67 ms /    47 runs   (   26.40 ms per token,    37.88 tokens per second)\n",
            "llama_print_timings:       total time =    2258.45 ms /   117 tokens\n",
            "Llama.generate: prefix-match hit\n"
          ]
        },
        {
          "output_type": "stream",
          "name": "stdout",
          "text": [
            "\n",
            "Novo Nordisk's insulin prices are skyrocketing, causing a loss for the company. Novo is facing competition from Lilly and Wegovy, but their new pill semaglutide may give them an edge. However, insurance companies are hesitant to cover the expensive drug. Despite this setback, Novo remains optimistic about its future in the market."
          ]
        },
        {
          "output_type": "stream",
          "name": "stderr",
          "text": [
            "\n",
            "llama_print_timings:        load time =     264.64 ms\n",
            "llama_print_timings:      sample time =      47.82 ms /    84 runs   (    0.57 ms per token,  1756.48 tokens per second)\n",
            "llama_print_timings: prompt eval time =     962.51 ms /    84 tokens (   11.46 ms per token,    87.27 tokens per second)\n",
            "llama_print_timings:        eval time =    2159.82 ms /    83 runs   (   26.02 ms per token,    38.43 tokens per second)\n",
            "llama_print_timings:       total time =    3534.93 ms /   167 tokens\n",
            "Llama.generate: prefix-match hit\n"
          ]
        },
        {
          "output_type": "stream",
          "name": "stdout",
          "text": [
            "\n",
            "BP faces backlash over executive bonuses amid gas price hike\n",
            "Three stars."
          ]
        },
        {
          "output_type": "stream",
          "name": "stderr",
          "text": [
            "\n",
            "llama_print_timings:        load time =     264.64 ms\n",
            "llama_print_timings:      sample time =      11.26 ms /    21 runs   (    0.54 ms per token,  1864.35 tokens per second)\n",
            "llama_print_timings: prompt eval time =     960.38 ms /    83 tokens (   11.57 ms per token,    86.42 tokens per second)\n",
            "llama_print_timings:        eval time =     521.78 ms /    20 runs   (   26.09 ms per token,    38.33 tokens per second)\n",
            "llama_print_timings:       total time =    1598.08 ms /   103 tokens\n",
            "Llama.generate: prefix-match hit\n"
          ]
        },
        {
          "output_type": "stream",
          "name": "stdout",
          "text": [
            "\n",
            "HSBC releases report on ESG issuance in Asia-Pacific, highlighting growth in sustainable bonds and emissions reductions. * HSBC * ESG * sustainability * AXA * issuance * emissions * organizations * issuers * GSSS * Deloitte * equity * 2 stars"
          ]
        },
        {
          "output_type": "stream",
          "name": "stderr",
          "text": [
            "\n",
            "llama_print_timings:        load time =     264.64 ms\n",
            "llama_print_timings:      sample time =      43.67 ms /    75 runs   (    0.58 ms per token,  1717.50 tokens per second)\n",
            "llama_print_timings: prompt eval time =     987.91 ms /    86 tokens (   11.49 ms per token,    87.05 tokens per second)\n",
            "llama_print_timings:        eval time =    1905.57 ms /    74 runs   (   25.75 ms per token,    38.83 tokens per second)\n",
            "llama_print_timings:       total time =    3317.51 ms /   160 tokens\n",
            "Llama.generate: prefix-match hit\n"
          ]
        },
        {
          "output_type": "stream",
          "name": "stdout",
          "text": [
            "\n",
            "The article discusses how Amazon, Rio Tinto, Vale, and BHP are mining in areas with high levels of radiation, despite the potential health risks to local communities and workers."
          ]
        },
        {
          "output_type": "stream",
          "name": "stderr",
          "text": [
            "\n",
            "llama_print_timings:        load time =     264.64 ms\n",
            "llama_print_timings:      sample time =      29.11 ms /    42 runs   (    0.69 ms per token,  1442.60 tokens per second)\n",
            "llama_print_timings: prompt eval time =     873.74 ms /    78 tokens (   11.20 ms per token,    89.27 tokens per second)\n",
            "llama_print_timings:        eval time =    1029.09 ms /    41 runs   (   25.10 ms per token,    39.84 tokens per second)\n",
            "llama_print_timings:       total time =    2243.23 ms /   119 tokens\n",
            "Llama.generate: prefix-match hit\n"
          ]
        },
        {
          "output_type": "stream",
          "name": "stdout",
          "text": [
            "\n",
            "The article discusses how BP is set to increase its oil production by 2030, despite facing criticism for its environmental impact. Despite this, the company plans to invest in renewables and continue paying dividends to shareholders. The company has seen a windfall in profits thanks to high oil prices."
          ]
        },
        {
          "output_type": "stream",
          "name": "stderr",
          "text": [
            "\n",
            "llama_print_timings:        load time =     264.64 ms\n",
            "llama_print_timings:      sample time =      39.21 ms /    69 runs   (    0.57 ms per token,  1759.58 tokens per second)\n",
            "llama_print_timings: prompt eval time =     923.30 ms /    82 tokens (   11.26 ms per token,    88.81 tokens per second)\n",
            "llama_print_timings:        eval time =    1780.02 ms /    68 runs   (   26.18 ms per token,    38.20 tokens per second)\n",
            "llama_print_timings:       total time =    3038.77 ms /   150 tokens\n",
            "Llama.generate: prefix-match hit\n"
          ]
        },
        {
          "output_type": "stream",
          "name": "stdout",
          "text": [
            "\n",
            "The company Amazon is involved in a new AI-powered chatbot project called Bard, which will be integrated into its messaging app. According to the article, Bard uses natural language processing and machine learning to generate human-like responses to user queries. The technology is similar to that of ChatGPT and OpenAI's Bing, but with a more conversational tone. The article also mentions that Amazon has been investing heavily in AI research and development, and that it sees the technology as a key part of its future growth strategy. Overall, the sentiment of the text is neutral, with a hint of optimism about the potential impact of AI on the company's business."
          ]
        },
        {
          "output_type": "stream",
          "name": "stderr",
          "text": [
            "\n",
            "llama_print_timings:        load time =     264.64 ms\n",
            "llama_print_timings:      sample time =      85.70 ms /   148 runs   (    0.58 ms per token,  1726.89 tokens per second)\n",
            "llama_print_timings: prompt eval time =     886.97 ms /    78 tokens (   11.37 ms per token,    87.94 tokens per second)\n",
            "llama_print_timings:        eval time =    3815.70 ms /   147 runs   (   25.96 ms per token,    38.53 tokens per second)\n",
            "llama_print_timings:       total time =    5411.75 ms /   225 tokens\n",
            "Llama.generate: prefix-match hit\n"
          ]
        },
        {
          "output_type": "stream",
          "name": "stdout",
          "text": [
            "\n",
            "Microsoft is investing heavily in AI research, particularly through its new Bard and Copilot technologies. These tools utilize natural language processing (NLP) to enable more effective communication between humans and machines. According to the article, Microsoft's AI chatbot, Bard, has already demonstrated remarkable capabilities, including the ability to generate human-like text and engage in conversation with users. OpenAI, a rival AI research organization, has also made significant advancements in its own chatbot technology, known as ChatGPT. The article notes that while both technologies show great promise, there are still concerns about the potential misuse of these powerful tools. Overall, the sentiment of the text is 4 stars, indicating a generally positive outlook on the future of AI research and development."
          ]
        },
        {
          "output_type": "stream",
          "name": "stderr",
          "text": [
            "\n",
            "llama_print_timings:        load time =     264.64 ms\n",
            "llama_print_timings:      sample time =     119.85 ms /   171 runs   (    0.70 ms per token,  1426.78 tokens per second)\n",
            "llama_print_timings: prompt eval time =     877.15 ms /    76 tokens (   11.54 ms per token,    86.64 tokens per second)\n",
            "llama_print_timings:        eval time =    4324.16 ms /   170 runs   (   25.44 ms per token,    39.31 tokens per second)\n",
            "llama_print_timings:       total time =    6333.27 ms /   246 tokens\n"
          ]
        },
        {
          "output_type": "stream",
          "name": "stdout",
          "text": [
            "\n",
            "Here is the article you"
          ]
        },
        {
          "output_type": "stream",
          "name": "stderr",
          "text": [
            "Llama.generate: prefix-match hit\n"
          ]
        },
        {
          "output_type": "stream",
          "name": "stdout",
          "text": [
            " are summarizing: \"Microsoft unveils new AI-powered chatbot, Bard, to rival OpenAI's ChatGPT.\"\n",
            "Sentiment: 4 stars"
          ]
        },
        {
          "output_type": "stream",
          "name": "stderr",
          "text": [
            "\n",
            "llama_print_timings:        load time =     264.64 ms\n",
            "llama_print_timings:      sample time =      26.41 ms /    47 runs   (    0.56 ms per token,  1779.49 tokens per second)\n",
            "llama_print_timings: prompt eval time =       0.00 ms /     1 tokens (    0.00 ms per token,      inf tokens per second)\n",
            "llama_print_timings:        eval time =    1220.04 ms /    47 runs   (   25.96 ms per token,    38.52 tokens per second)\n",
            "llama_print_timings:       total time =    1431.50 ms /    48 tokens\n",
            "Llama.generate: prefix-match hit\n"
          ]
        },
        {
          "output_type": "stream",
          "name": "stdout",
          "text": [
            "\n",
            "The company involved is YouTube, and the main topic of the article is \"YouTube to introduce new features for creators.\" The sentiment of the text is 1 star because the article mentions that some creators are upset about the changes being made."
          ]
        },
        {
          "output_type": "stream",
          "name": "stderr",
          "text": [
            "\n",
            "llama_print_timings:        load time =     264.64 ms\n",
            "llama_print_timings:      sample time =      32.48 ms /    53 runs   (    0.61 ms per token,  1631.62 tokens per second)\n",
            "llama_print_timings: prompt eval time =     792.40 ms /    70 tokens (   11.32 ms per token,    88.34 tokens per second)\n",
            "llama_print_timings:        eval time =    1330.64 ms /    52 runs   (   25.59 ms per token,    39.08 tokens per second)\n",
            "llama_print_timings:       total time =    2489.98 ms /   122 tokens\n",
            "Llama.generate: prefix-match hit\n"
          ]
        },
        {
          "output_type": "stream",
          "name": "stdout",
          "text": [
            "\n",
            "Airbnb beach rentals are a nightmare, according to Tripadvisor reviews. Many hosts are unresponsive and unwilling to help with issues. Local hotels offer better value and service."
          ]
        },
        {
          "output_type": "stream",
          "name": "stderr",
          "text": [
            "\n",
            "llama_print_timings:        load time =     264.64 ms\n",
            "llama_print_timings:      sample time =      31.38 ms /    45 runs   (    0.70 ms per token,  1434.03 tokens per second)\n",
            "llama_print_timings: prompt eval time =     891.83 ms /    79 tokens (   11.29 ms per token,    88.58 tokens per second)\n",
            "llama_print_timings:        eval time =    1104.26 ms /    44 runs   (   25.10 ms per token,    39.85 tokens per second)\n",
            "llama_print_timings:       total time =    2384.12 ms /   123 tokens\n",
            "Llama.generate: prefix-match hit\n"
          ]
        },
        {
          "output_type": "stream",
          "name": "stdout",
          "text": [
            "\n",
            "The article discusses how DuPont has been accused of misleading investors over its handling of a toxic chemical known as PFOA, which has been linked to cancer and other health problems."
          ]
        },
        {
          "output_type": "stream",
          "name": "stderr",
          "text": [
            "\n",
            "llama_print_timings:        load time =     264.64 ms\n",
            "llama_print_timings:      sample time =      22.74 ms /    43 runs   (    0.53 ms per token,  1891.19 tokens per second)\n",
            "llama_print_timings: prompt eval time =     808.63 ms /    72 tokens (   11.23 ms per token,    89.04 tokens per second)\n",
            "llama_print_timings:        eval time =    1120.97 ms /    42 runs   (   26.69 ms per token,    37.47 tokens per second)\n",
            "llama_print_timings:       total time =    2135.08 ms /   114 tokens\n",
            "Llama.generate: prefix-match hit\n"
          ]
        },
        {
          "output_type": "stream",
          "name": "stdout",
          "text": [
            "\n",
            "Amazon to Acquire Activision Blizzard, Regulators Raise Concerns\n",
            "According to a recent article by CNN Business, Amazon is set to acquire video game giant Activision Blizzard in a deal worth over $30 billion. However, regulators have already raised concerns about the potential impact of the acquisition on competition in the gaming industry. The Federal Trade Commission (FTC) and the European Union's (EU) antitrust watchdog have both launched probes into the proposed merger, with some analysts warning that it could lead to a reduction in choice for gamers. Despite these concerns, Amazon remains optimistic about the deal, citing the potential benefits of combining its vast gaming platform with Activision's popular franchises such as Call of Duty and World of Warcraft. The acquisition is expected to be completed by the end of 2023, pending regulatory approval."
          ]
        },
        {
          "output_type": "stream",
          "name": "stderr",
          "text": [
            "\n",
            "llama_print_timings:        load time =     264.64 ms\n",
            "llama_print_timings:      sample time =     134.64 ms /   203 runs   (    0.66 ms per token,  1507.68 tokens per second)\n",
            "llama_print_timings: prompt eval time =     909.05 ms /    80 tokens (   11.36 ms per token,    88.00 tokens per second)\n",
            "llama_print_timings:        eval time =    5209.00 ms /   203 runs   (   25.66 ms per token,    38.97 tokens per second)\n",
            "llama_print_timings:       total time =    7453.88 ms /   283 tokens\n",
            "Llama.generate: prefix-match hit\n"
          ]
        },
        {
          "output_type": "stream",
          "name": "stdout",
          "text": [
            "\n",
            "Name of company involved: Deutsche Bank\n",
            "Main topic of article: To, of, on, by, said, at, her, its, has, be\n",
            "Sentiment of text: 4 stars"
          ]
        },
        {
          "output_type": "stream",
          "name": "stderr",
          "text": [
            "\n",
            "llama_print_timings:        load time =     264.64 ms\n",
            "llama_print_timings:      sample time =      22.88 ms /    44 runs   (    0.52 ms per token,  1922.91 tokens per second)\n",
            "llama_print_timings: prompt eval time =     808.59 ms /    72 tokens (   11.23 ms per token,    89.04 tokens per second)\n",
            "llama_print_timings:        eval time =    1122.72 ms /    43 runs   (   26.11 ms per token,    38.30 tokens per second)\n",
            "llama_print_timings:       total time =    2149.95 ms /   115 tokens\n",
            "Llama.generate: prefix-match hit\n"
          ]
        },
        {
          "output_type": "stream",
          "name": "stdout",
          "text": [
            "\n",
            "The name of the company involved is BBC, and the main topic of the article is presenter allegations against him. The sentiment of the text is 1 star."
          ]
        },
        {
          "output_type": "stream",
          "name": "stderr",
          "text": [
            "\n",
            "llama_print_timings:        load time =     264.64 ms\n",
            "llama_print_timings:      sample time =      18.61 ms /    36 runs   (    0.52 ms per token,  1934.76 tokens per second)\n",
            "llama_print_timings: prompt eval time =     809.11 ms /    72 tokens (   11.24 ms per token,    88.99 tokens per second)\n",
            "llama_print_timings:        eval time =     944.45 ms /    36 runs   (   26.23 ms per token,    38.12 tokens per second)\n",
            "llama_print_timings:       total time =    1925.53 ms /   108 tokens\n",
            "Llama.generate: prefix-match hit\n"
          ]
        },
        {
          "output_type": "stream",
          "name": "stdout",
          "text": [
            "\n",
            "The CEO of Apple Inc., Tim Cook, has announced that the company will no longer allow Elon Musk's accounts to advertise on its platform due to concerns over his controversial tweets. According to a report by CNBC, Cook made the decision after a meeting with AT&T CEO John Stankey and Verizon CEO Hans Vestberg, who expressed similar concerns. The move comes as Musk has faced criticism for his tweets, which have been deemed offensive and harmful by many. Despite this, Musk has continued to use Twitter to make controversial statements, including a recent tweet in which he referred to the platform as \"the town square of the internet.\""
          ]
        },
        {
          "output_type": "stream",
          "name": "stderr",
          "text": [
            "\n",
            "llama_print_timings:        load time =     264.64 ms\n",
            "llama_print_timings:      sample time =     102.75 ms /   148 runs   (    0.69 ms per token,  1440.35 tokens per second)\n",
            "llama_print_timings: prompt eval time =     958.08 ms /    83 tokens (   11.54 ms per token,    86.63 tokens per second)\n",
            "llama_print_timings:        eval time =    3744.10 ms /   147 runs   (   25.47 ms per token,    39.26 tokens per second)\n",
            "llama_print_timings:       total time =    5645.43 ms /   230 tokens\n",
            "Llama.generate: prefix-match hit\n"
          ]
        },
        {
          "output_type": "stream",
          "name": "stdout",
          "text": [
            "\n",
            "The company involved is Apple Inc.\n",
            "The main topic of the article is to.\n",
            "The sentiment of the text is 2 stars."
          ]
        },
        {
          "output_type": "stream",
          "name": "stderr",
          "text": [
            "\n",
            "llama_print_timings:        load time =     264.64 ms\n",
            "llama_print_timings:      sample time =      17.21 ms /    30 runs   (    0.57 ms per token,  1742.87 tokens per second)\n",
            "llama_print_timings: prompt eval time =     664.24 ms /    60 tokens (   11.07 ms per token,    90.33 tokens per second)\n",
            "llama_print_timings:        eval time =     742.06 ms /    29 runs   (   25.59 ms per token,    39.08 tokens per second)\n",
            "llama_print_timings:       total time =    1627.08 ms /    89 tokens\n",
            "Llama.generate: prefix-match hit\n"
          ]
        },
        {
          "output_type": "stream",
          "name": "stdout",
          "text": [
            "\n",
            "The BBC has been criticized for allowing Gary Lineker to present a program on asylum seekers despite his controversial tweets about the issue. Some have accused him of not being impartial and of verifying errors in his reporting."
          ]
        },
        {
          "output_type": "stream",
          "name": "stderr",
          "text": [
            "\n",
            "llama_print_timings:        load time =     264.64 ms\n",
            "llama_print_timings:      sample time =      29.00 ms /    51 runs   (    0.57 ms per token,  1758.92 tokens per second)\n",
            "llama_print_timings: prompt eval time =     913.59 ms /    80 tokens (   11.42 ms per token,    87.57 tokens per second)\n",
            "llama_print_timings:        eval time =    1302.21 ms /    50 runs   (   26.04 ms per token,    38.40 tokens per second)\n",
            "llama_print_timings:       total time =    2464.06 ms /   130 tokens\n",
            "Llama.generate: prefix-match hit\n"
          ]
        },
        {
          "output_type": "stream",
          "name": "stdout",
          "text": [
            "\n",
            "The BBC has been accused of promoting anti-Semitism after it failed to condemn Hamas terrorist attacks on Jews, civilians, staff and other non-combatants in Gaza. (Source: Daily Mail)"
          ]
        },
        {
          "output_type": "stream",
          "name": "stderr",
          "text": [
            "\n",
            "llama_print_timings:        load time =     264.64 ms\n",
            "llama_print_timings:      sample time =      28.92 ms /    51 runs   (    0.57 ms per token,  1763.55 tokens per second)\n",
            "llama_print_timings: prompt eval time =     863.65 ms /    75 tokens (   11.52 ms per token,    86.84 tokens per second)\n",
            "llama_print_timings:        eval time =    1303.28 ms /    50 runs   (   26.07 ms per token,    38.36 tokens per second)\n",
            "llama_print_timings:       total time =    2413.44 ms /   125 tokens\n",
            "Llama.generate: prefix-match hit\n"
          ]
        },
        {
          "output_type": "stream",
          "name": "stdout",
          "text": [
            "\n",
            "The name of the company involved is UCL Holding, and the main topic of the article is Hamas's use of civilians as human shields, which has been denounced by the BBC as antisemitic and terroristic."
          ]
        },
        {
          "output_type": "stream",
          "name": "stderr",
          "text": [
            "\n",
            "llama_print_timings:        load time =     264.64 ms\n",
            "llama_print_timings:      sample time =      29.55 ms /    53 runs   (    0.56 ms per token,  1793.75 tokens per second)\n",
            "llama_print_timings: prompt eval time =     994.42 ms /    87 tokens (   11.43 ms per token,    87.49 tokens per second)\n",
            "llama_print_timings:        eval time =    1340.10 ms /    52 runs   (   25.77 ms per token,    38.80 tokens per second)\n",
            "llama_print_timings:       total time =    2607.00 ms /   139 tokens\n",
            "Llama.generate: prefix-match hit\n"
          ]
        },
        {
          "output_type": "stream",
          "name": "stdout",
          "text": [
            "\n",
            "Answer: David Attenborough's wildlife series filmed on Isles of Scilly sparks outrage over rabbit culling by ANT Group. Sentiment: 1 star."
          ]
        },
        {
          "output_type": "stream",
          "name": "stderr",
          "text": [
            "\n",
            "llama_print_timings:        load time =     264.64 ms\n",
            "llama_print_timings:      sample time =      25.62 ms /    43 runs   (    0.60 ms per token,  1678.25 tokens per second)\n",
            "llama_print_timings: prompt eval time =     907.72 ms /    80 tokens (   11.35 ms per token,    88.13 tokens per second)\n",
            "llama_print_timings:        eval time =    1082.01 ms /    42 runs   (   25.76 ms per token,    38.82 tokens per second)\n",
            "llama_print_timings:       total time =    2238.04 ms /   122 tokens\n",
            "Llama.generate: prefix-match hit\n"
          ]
        },
        {
          "output_type": "stream",
          "name": "stdout",
          "text": [
            "\n",
            "The name of the company involved is Amazon, the main topic of the article is toys."
          ]
        },
        {
          "output_type": "stream",
          "name": "stderr",
          "text": [
            "\n",
            "llama_print_timings:        load time =     264.64 ms\n",
            "llama_print_timings:      sample time =      16.27 ms /    21 runs   (    0.77 ms per token,  1290.40 tokens per second)\n",
            "llama_print_timings: prompt eval time =     788.62 ms /    71 tokens (   11.11 ms per token,    90.03 tokens per second)\n",
            "llama_print_timings:        eval time =     510.62 ms /    20 runs   (   25.53 ms per token,    39.17 tokens per second)\n",
            "llama_print_timings:       total time =    1477.91 ms /    91 tokens\n",
            "Llama.generate: prefix-match hit\n"
          ]
        },
        {
          "output_type": "stream",
          "name": "stdout",
          "text": [
            "\n",
            "The name of the company involved"
          ]
        }
      ]
    },
    {
      "cell_type": "code",
      "source": [
        "results_df"
      ],
      "metadata": {
        "id": "6Zksif_vDuO2"
      },
      "execution_count": null,
      "outputs": []
    },
    {
      "cell_type": "code",
      "source": [
        "results_df.to_csv('/source_repository/pipeline_results2.csv', index=False)"
      ],
      "metadata": {
        "id": "4N8wBHB9CSSr"
      },
      "execution_count": null,
      "outputs": []
    },
    {
      "cell_type": "markdown",
      "source": [
        "### przemyślenia:\n",
        "- jeśli dla pojedynczego dokumentu tzn w moim przypadku newsa dostaję topic, który BERTopic znalazł i ten topic zawiera 10 (?) słów różnych, to będzie ok, bo ja wtedy na podstawie tych słów mogę wygenerować tekst (no i jeszcze używając czegoś do sentiment) llamą i odpowiedź będzie?"
      ],
      "metadata": {
        "id": "ylp4D_89J4lE"
      }
    },
    {
      "cell_type": "code",
      "execution_count": null,
      "metadata": {
        "colab": {
          "base_uri": "https://localhost:8080/"
        },
        "id": "hajKfokzbxIj",
        "outputId": "4a610a5d-7b19-4b32-e1d0-444fa5e0894a"
      },
      "outputs": [
        {
          "output_type": "stream",
          "name": "stderr",
          "text": [
            "100%|██████████| 11/11 [01:31<00:00,  8.36s/it]\n"
          ]
        }
      ],
      "source": [
        "topic_distr, _ = topic_model.approximate_distribution(list_of_contents)"
      ]
    },
    {
      "cell_type": "code",
      "source": [
        "topic_distr[0]"
      ],
      "metadata": {
        "colab": {
          "base_uri": "https://localhost:8080/"
        },
        "id": "a6xkc_BeJPRz",
        "outputId": "89e8a6e1-e35e-4da3-e903-9b93fa70b908"
      },
      "execution_count": null,
      "outputs": [
        {
          "output_type": "execute_result",
          "data": {
            "text/plain": [
              "array([0.05801567, 0.        , 0.0247683 , 0.        , 0.        ,\n",
              "       0.04126159, 0.00138637, 0.        , 0.00316302, 0.02203856,\n",
              "       0.        , 0.        , 0.00175138, 0.        , 0.        ,\n",
              "       0.        , 0.        , 0.        , 0.00913905, 0.        ,\n",
              "       0.        , 0.1865974 , 0.        , 0.        , 0.        ,\n",
              "       0.        , 0.        , 0.        , 0.        , 0.        ,\n",
              "       0.        , 0.        , 0.        , 0.        , 0.        ,\n",
              "       0.        , 0.        , 0.        , 0.        , 0.00562013,\n",
              "       0.        , 0.        , 0.22547687, 0.        , 0.        ,\n",
              "       0.00147208, 0.        , 0.        , 0.        , 0.        ,\n",
              "       0.        , 0.        , 0.        , 0.00156516, 0.        ,\n",
              "       0.        , 0.        , 0.        , 0.        , 0.        ,\n",
              "       0.00137078, 0.        , 0.        , 0.        , 0.        ,\n",
              "       0.        , 0.        , 0.        , 0.00678332, 0.        ,\n",
              "       0.        , 0.00504383, 0.        , 0.01109547, 0.        ,\n",
              "       0.00310073, 0.        , 0.        , 0.00179216, 0.01287369,\n",
              "       0.00135945, 0.02101102, 0.        , 0.        , 0.03502809,\n",
              "       0.        , 0.0027306 , 0.        , 0.        , 0.        ,\n",
              "       0.0015866 , 0.        , 0.        , 0.        , 0.        ,\n",
              "       0.03408908, 0.00378442, 0.00322155, 0.        , 0.        ,\n",
              "       0.02798764, 0.        , 0.00279959, 0.        , 0.00286999,\n",
              "       0.        , 0.0027134 , 0.        , 0.        , 0.        ,\n",
              "       0.        , 0.        , 0.00928207, 0.        , 0.        ,\n",
              "       0.        , 0.        , 0.0043149 , 0.        , 0.09168598,\n",
              "       0.        , 0.        , 0.        , 0.        , 0.        ,\n",
              "       0.        , 0.        , 0.        , 0.        , 0.        ,\n",
              "       0.        , 0.01252038, 0.00140807, 0.        , 0.        ,\n",
              "       0.        , 0.        , 0.        , 0.        , 0.        ,\n",
              "       0.        , 0.00140347, 0.        , 0.        , 0.        ,\n",
              "       0.00135529, 0.        , 0.        , 0.00504605, 0.        ,\n",
              "       0.        , 0.        , 0.        , 0.        , 0.        ,\n",
              "       0.        , 0.00296253, 0.        , 0.        , 0.        ,\n",
              "       0.        , 0.        , 0.01013129, 0.        , 0.        ,\n",
              "       0.        , 0.00439597, 0.        , 0.        , 0.        ,\n",
              "       0.        , 0.        , 0.        , 0.        , 0.        ,\n",
              "       0.        , 0.01110123, 0.        , 0.        , 0.        ,\n",
              "       0.        , 0.        , 0.01509214, 0.        , 0.        ,\n",
              "       0.03881568, 0.        , 0.        , 0.        , 0.        ,\n",
              "       0.00167207, 0.        , 0.        , 0.00339892, 0.        ,\n",
              "       0.        , 0.        , 0.        , 0.        , 0.00589945,\n",
              "       0.        , 0.        , 0.        , 0.00695346, 0.        ,\n",
              "       0.        , 0.        , 0.        , 0.        , 0.        ,\n",
              "       0.        , 0.00588837, 0.        , 0.        , 0.        ,\n",
              "       0.        , 0.        , 0.00317568, 0.        ])"
            ]
          },
          "metadata": {},
          "execution_count": 43
        }
      ]
    },
    {
      "cell_type": "code",
      "execution_count": null,
      "metadata": {
        "colab": {
          "base_uri": "https://localhost:8080/",
          "height": 637
        },
        "id": "AuyM4LdXcTVd",
        "outputId": "7ec8125b-ae17-4212-83a2-517c930f0604"
      },
      "outputs": [
        {
          "output_type": "display_data",
          "data": {
            "text/html": [
              "<html>\n",
              "<head><meta charset=\"utf-8\" /></head>\n",
              "<body>\n",
              "    <div>            <script src=\"https://cdnjs.cloudflare.com/ajax/libs/mathjax/2.7.5/MathJax.js?config=TeX-AMS-MML_SVG\"></script><script type=\"text/javascript\">if (window.MathJax && window.MathJax.Hub && window.MathJax.Hub.Config) {window.MathJax.Hub.Config({SVG: {font: \"STIX-Web\"}});}</script>                <script type=\"text/javascript\">window.PlotlyConfig = {MathJaxConfig: 'local'};</script>\n",
              "        <script charset=\"utf-8\" src=\"https://cdn.plot.ly/plotly-2.24.1.min.js\"></script>                <div id=\"d86212a2-2a43-4807-b2d2-0d40f679c5f3\" class=\"plotly-graph-div\" style=\"height:600px; width:800px;\"></div>            <script type=\"text/javascript\">                                    window.PLOTLYENV=window.PLOTLYENV || {};                                    if (document.getElementById(\"d86212a2-2a43-4807-b2d2-0d40f679c5f3\")) {                    Plotly.newPlot(                        \"d86212a2-2a43-4807-b2d2-0d40f679c5f3\",                        [{\"marker\":{\"color\":\"#C8D2D7\",\"line\":{\"color\":\"#6E8484\",\"width\":1}},\"orientation\":\"h\",\"x\":[0.017293826947476405,0.21228444415021538,0.34000953419582575,0.018023526135727552,0.028670906986183083,0.02073674838656945,0.04111033733387987,0.017245390518809394,0.01685826307835101],\"y\":[\"\\u003cb\\u003eTopic 5\\u003c\\u002fb\\u003e: bbc_presenter_she_her_al...\",\"\\u003cb\\u003eTopic 21\\u003c\\u002fb\\u003e: eurovision_song_contest...\",\"\\u003cb\\u003eTopic 42\\u003c\\u002fb\\u003e: hamas_israel_bbc_jewish...\",\"\\u003cb\\u003eTopic 84\\u003c\\u002fb\\u003e: hsbc_svb_bank_uk_silico...\",\"\\u003cb\\u003eTopic 97\\u003c\\u002fb\\u003e: athletes_ioc_olympic_ru...\",\"\\u003cb\\u003eTopic 112\\u003c\\u002fb\\u003e: diaz_tesla_damages_dis...\",\"\\u003cb\\u003eTopic 119\\u003c\\u002fb\\u003e: times_trans_letter_yor...\",\"\\u003cb\\u003eTopic 133\\u003c\\u002fb\\u003e: open_easter_stores_ope...\",\"\\u003cb\\u003eTopic 158\\u003c\\u002fb\\u003e: jungle_children_found_...\"],\"type\":\"bar\"}],                        {\"template\":{\"data\":{\"barpolar\":[{\"marker\":{\"line\":{\"color\":\"white\",\"width\":0.5},\"pattern\":{\"fillmode\":\"overlay\",\"size\":10,\"solidity\":0.2}},\"type\":\"barpolar\"}],\"bar\":[{\"error_x\":{\"color\":\"rgb(36,36,36)\"},\"error_y\":{\"color\":\"rgb(36,36,36)\"},\"marker\":{\"line\":{\"color\":\"white\",\"width\":0.5},\"pattern\":{\"fillmode\":\"overlay\",\"size\":10,\"solidity\":0.2}},\"type\":\"bar\"}],\"carpet\":[{\"aaxis\":{\"endlinecolor\":\"rgb(36,36,36)\",\"gridcolor\":\"white\",\"linecolor\":\"white\",\"minorgridcolor\":\"white\",\"startlinecolor\":\"rgb(36,36,36)\"},\"baxis\":{\"endlinecolor\":\"rgb(36,36,36)\",\"gridcolor\":\"white\",\"linecolor\":\"white\",\"minorgridcolor\":\"white\",\"startlinecolor\":\"rgb(36,36,36)\"},\"type\":\"carpet\"}],\"choropleth\":[{\"colorbar\":{\"outlinewidth\":1,\"tickcolor\":\"rgb(36,36,36)\",\"ticks\":\"outside\"},\"type\":\"choropleth\"}],\"contourcarpet\":[{\"colorbar\":{\"outlinewidth\":1,\"tickcolor\":\"rgb(36,36,36)\",\"ticks\":\"outside\"},\"type\":\"contourcarpet\"}],\"contour\":[{\"colorbar\":{\"outlinewidth\":1,\"tickcolor\":\"rgb(36,36,36)\",\"ticks\":\"outside\"},\"colorscale\":[[0.0,\"#440154\"],[0.1111111111111111,\"#482878\"],[0.2222222222222222,\"#3e4989\"],[0.3333333333333333,\"#31688e\"],[0.4444444444444444,\"#26828e\"],[0.5555555555555556,\"#1f9e89\"],[0.6666666666666666,\"#35b779\"],[0.7777777777777778,\"#6ece58\"],[0.8888888888888888,\"#b5de2b\"],[1.0,\"#fde725\"]],\"type\":\"contour\"}],\"heatmapgl\":[{\"colorbar\":{\"outlinewidth\":1,\"tickcolor\":\"rgb(36,36,36)\",\"ticks\":\"outside\"},\"colorscale\":[[0.0,\"#440154\"],[0.1111111111111111,\"#482878\"],[0.2222222222222222,\"#3e4989\"],[0.3333333333333333,\"#31688e\"],[0.4444444444444444,\"#26828e\"],[0.5555555555555556,\"#1f9e89\"],[0.6666666666666666,\"#35b779\"],[0.7777777777777778,\"#6ece58\"],[0.8888888888888888,\"#b5de2b\"],[1.0,\"#fde725\"]],\"type\":\"heatmapgl\"}],\"heatmap\":[{\"colorbar\":{\"outlinewidth\":1,\"tickcolor\":\"rgb(36,36,36)\",\"ticks\":\"outside\"},\"colorscale\":[[0.0,\"#440154\"],[0.1111111111111111,\"#482878\"],[0.2222222222222222,\"#3e4989\"],[0.3333333333333333,\"#31688e\"],[0.4444444444444444,\"#26828e\"],[0.5555555555555556,\"#1f9e89\"],[0.6666666666666666,\"#35b779\"],[0.7777777777777778,\"#6ece58\"],[0.8888888888888888,\"#b5de2b\"],[1.0,\"#fde725\"]],\"type\":\"heatmap\"}],\"histogram2dcontour\":[{\"colorbar\":{\"outlinewidth\":1,\"tickcolor\":\"rgb(36,36,36)\",\"ticks\":\"outside\"},\"colorscale\":[[0.0,\"#440154\"],[0.1111111111111111,\"#482878\"],[0.2222222222222222,\"#3e4989\"],[0.3333333333333333,\"#31688e\"],[0.4444444444444444,\"#26828e\"],[0.5555555555555556,\"#1f9e89\"],[0.6666666666666666,\"#35b779\"],[0.7777777777777778,\"#6ece58\"],[0.8888888888888888,\"#b5de2b\"],[1.0,\"#fde725\"]],\"type\":\"histogram2dcontour\"}],\"histogram2d\":[{\"colorbar\":{\"outlinewidth\":1,\"tickcolor\":\"rgb(36,36,36)\",\"ticks\":\"outside\"},\"colorscale\":[[0.0,\"#440154\"],[0.1111111111111111,\"#482878\"],[0.2222222222222222,\"#3e4989\"],[0.3333333333333333,\"#31688e\"],[0.4444444444444444,\"#26828e\"],[0.5555555555555556,\"#1f9e89\"],[0.6666666666666666,\"#35b779\"],[0.7777777777777778,\"#6ece58\"],[0.8888888888888888,\"#b5de2b\"],[1.0,\"#fde725\"]],\"type\":\"histogram2d\"}],\"histogram\":[{\"marker\":{\"line\":{\"color\":\"white\",\"width\":0.6}},\"type\":\"histogram\"}],\"mesh3d\":[{\"colorbar\":{\"outlinewidth\":1,\"tickcolor\":\"rgb(36,36,36)\",\"ticks\":\"outside\"},\"type\":\"mesh3d\"}],\"parcoords\":[{\"line\":{\"colorbar\":{\"outlinewidth\":1,\"tickcolor\":\"rgb(36,36,36)\",\"ticks\":\"outside\"}},\"type\":\"parcoords\"}],\"pie\":[{\"automargin\":true,\"type\":\"pie\"}],\"scatter3d\":[{\"line\":{\"colorbar\":{\"outlinewidth\":1,\"tickcolor\":\"rgb(36,36,36)\",\"ticks\":\"outside\"}},\"marker\":{\"colorbar\":{\"outlinewidth\":1,\"tickcolor\":\"rgb(36,36,36)\",\"ticks\":\"outside\"}},\"type\":\"scatter3d\"}],\"scattercarpet\":[{\"marker\":{\"colorbar\":{\"outlinewidth\":1,\"tickcolor\":\"rgb(36,36,36)\",\"ticks\":\"outside\"}},\"type\":\"scattercarpet\"}],\"scattergeo\":[{\"marker\":{\"colorbar\":{\"outlinewidth\":1,\"tickcolor\":\"rgb(36,36,36)\",\"ticks\":\"outside\"}},\"type\":\"scattergeo\"}],\"scattergl\":[{\"marker\":{\"colorbar\":{\"outlinewidth\":1,\"tickcolor\":\"rgb(36,36,36)\",\"ticks\":\"outside\"}},\"type\":\"scattergl\"}],\"scattermapbox\":[{\"marker\":{\"colorbar\":{\"outlinewidth\":1,\"tickcolor\":\"rgb(36,36,36)\",\"ticks\":\"outside\"}},\"type\":\"scattermapbox\"}],\"scatterpolargl\":[{\"marker\":{\"colorbar\":{\"outlinewidth\":1,\"tickcolor\":\"rgb(36,36,36)\",\"ticks\":\"outside\"}},\"type\":\"scatterpolargl\"}],\"scatterpolar\":[{\"marker\":{\"colorbar\":{\"outlinewidth\":1,\"tickcolor\":\"rgb(36,36,36)\",\"ticks\":\"outside\"}},\"type\":\"scatterpolar\"}],\"scatter\":[{\"fillpattern\":{\"fillmode\":\"overlay\",\"size\":10,\"solidity\":0.2},\"type\":\"scatter\"}],\"scatterternary\":[{\"marker\":{\"colorbar\":{\"outlinewidth\":1,\"tickcolor\":\"rgb(36,36,36)\",\"ticks\":\"outside\"}},\"type\":\"scatterternary\"}],\"surface\":[{\"colorbar\":{\"outlinewidth\":1,\"tickcolor\":\"rgb(36,36,36)\",\"ticks\":\"outside\"},\"colorscale\":[[0.0,\"#440154\"],[0.1111111111111111,\"#482878\"],[0.2222222222222222,\"#3e4989\"],[0.3333333333333333,\"#31688e\"],[0.4444444444444444,\"#26828e\"],[0.5555555555555556,\"#1f9e89\"],[0.6666666666666666,\"#35b779\"],[0.7777777777777778,\"#6ece58\"],[0.8888888888888888,\"#b5de2b\"],[1.0,\"#fde725\"]],\"type\":\"surface\"}],\"table\":[{\"cells\":{\"fill\":{\"color\":\"rgb(237,237,237)\"},\"line\":{\"color\":\"white\"}},\"header\":{\"fill\":{\"color\":\"rgb(217,217,217)\"},\"line\":{\"color\":\"white\"}},\"type\":\"table\"}]},\"layout\":{\"annotationdefaults\":{\"arrowhead\":0,\"arrowwidth\":1},\"autotypenumbers\":\"strict\",\"coloraxis\":{\"colorbar\":{\"outlinewidth\":1,\"tickcolor\":\"rgb(36,36,36)\",\"ticks\":\"outside\"}},\"colorscale\":{\"diverging\":[[0.0,\"rgb(103,0,31)\"],[0.1,\"rgb(178,24,43)\"],[0.2,\"rgb(214,96,77)\"],[0.3,\"rgb(244,165,130)\"],[0.4,\"rgb(253,219,199)\"],[0.5,\"rgb(247,247,247)\"],[0.6,\"rgb(209,229,240)\"],[0.7,\"rgb(146,197,222)\"],[0.8,\"rgb(67,147,195)\"],[0.9,\"rgb(33,102,172)\"],[1.0,\"rgb(5,48,97)\"]],\"sequential\":[[0.0,\"#440154\"],[0.1111111111111111,\"#482878\"],[0.2222222222222222,\"#3e4989\"],[0.3333333333333333,\"#31688e\"],[0.4444444444444444,\"#26828e\"],[0.5555555555555556,\"#1f9e89\"],[0.6666666666666666,\"#35b779\"],[0.7777777777777778,\"#6ece58\"],[0.8888888888888888,\"#b5de2b\"],[1.0,\"#fde725\"]],\"sequentialminus\":[[0.0,\"#440154\"],[0.1111111111111111,\"#482878\"],[0.2222222222222222,\"#3e4989\"],[0.3333333333333333,\"#31688e\"],[0.4444444444444444,\"#26828e\"],[0.5555555555555556,\"#1f9e89\"],[0.6666666666666666,\"#35b779\"],[0.7777777777777778,\"#6ece58\"],[0.8888888888888888,\"#b5de2b\"],[1.0,\"#fde725\"]]},\"colorway\":[\"#1F77B4\",\"#FF7F0E\",\"#2CA02C\",\"#D62728\",\"#9467BD\",\"#8C564B\",\"#E377C2\",\"#7F7F7F\",\"#BCBD22\",\"#17BECF\"],\"font\":{\"color\":\"rgb(36,36,36)\"},\"geo\":{\"bgcolor\":\"white\",\"lakecolor\":\"white\",\"landcolor\":\"white\",\"showlakes\":true,\"showland\":true,\"subunitcolor\":\"white\"},\"hoverlabel\":{\"align\":\"left\"},\"hovermode\":\"closest\",\"mapbox\":{\"style\":\"light\"},\"paper_bgcolor\":\"white\",\"plot_bgcolor\":\"white\",\"polar\":{\"angularaxis\":{\"gridcolor\":\"rgb(232,232,232)\",\"linecolor\":\"rgb(36,36,36)\",\"showgrid\":false,\"showline\":true,\"ticks\":\"outside\"},\"bgcolor\":\"white\",\"radialaxis\":{\"gridcolor\":\"rgb(232,232,232)\",\"linecolor\":\"rgb(36,36,36)\",\"showgrid\":false,\"showline\":true,\"ticks\":\"outside\"}},\"scene\":{\"xaxis\":{\"backgroundcolor\":\"white\",\"gridcolor\":\"rgb(232,232,232)\",\"gridwidth\":2,\"linecolor\":\"rgb(36,36,36)\",\"showbackground\":true,\"showgrid\":false,\"showline\":true,\"ticks\":\"outside\",\"zeroline\":false,\"zerolinecolor\":\"rgb(36,36,36)\"},\"yaxis\":{\"backgroundcolor\":\"white\",\"gridcolor\":\"rgb(232,232,232)\",\"gridwidth\":2,\"linecolor\":\"rgb(36,36,36)\",\"showbackground\":true,\"showgrid\":false,\"showline\":true,\"ticks\":\"outside\",\"zeroline\":false,\"zerolinecolor\":\"rgb(36,36,36)\"},\"zaxis\":{\"backgroundcolor\":\"white\",\"gridcolor\":\"rgb(232,232,232)\",\"gridwidth\":2,\"linecolor\":\"rgb(36,36,36)\",\"showbackground\":true,\"showgrid\":false,\"showline\":true,\"ticks\":\"outside\",\"zeroline\":false,\"zerolinecolor\":\"rgb(36,36,36)\"}},\"shapedefaults\":{\"fillcolor\":\"black\",\"line\":{\"width\":0},\"opacity\":0.3},\"ternary\":{\"aaxis\":{\"gridcolor\":\"rgb(232,232,232)\",\"linecolor\":\"rgb(36,36,36)\",\"showgrid\":false,\"showline\":true,\"ticks\":\"outside\"},\"baxis\":{\"gridcolor\":\"rgb(232,232,232)\",\"linecolor\":\"rgb(36,36,36)\",\"showgrid\":false,\"showline\":true,\"ticks\":\"outside\"},\"bgcolor\":\"white\",\"caxis\":{\"gridcolor\":\"rgb(232,232,232)\",\"linecolor\":\"rgb(36,36,36)\",\"showgrid\":false,\"showline\":true,\"ticks\":\"outside\"}},\"title\":{\"x\":0.05},\"xaxis\":{\"automargin\":true,\"gridcolor\":\"rgb(232,232,232)\",\"linecolor\":\"rgb(36,36,36)\",\"showgrid\":false,\"showline\":true,\"ticks\":\"outside\",\"title\":{\"standoff\":15},\"zeroline\":false,\"zerolinecolor\":\"rgb(36,36,36)\"},\"yaxis\":{\"automargin\":true,\"gridcolor\":\"rgb(232,232,232)\",\"linecolor\":\"rgb(36,36,36)\",\"showgrid\":false,\"showline\":true,\"ticks\":\"outside\",\"title\":{\"standoff\":15},\"zeroline\":false,\"zerolinecolor\":\"rgb(36,36,36)\"}}},\"title\":{\"font\":{\"size\":22,\"color\":\"Black\"},\"text\":\"\\u003cb\\u003eTopic Probability Distribution\\u003c\\u002fb\\u003e\",\"y\":0.95,\"x\":0.5,\"xanchor\":\"center\",\"yanchor\":\"top\"},\"hoverlabel\":{\"font\":{\"size\":16,\"family\":\"Rockwell\"},\"bgcolor\":\"white\"},\"xaxis\":{\"title\":{\"text\":\"Probability\"}},\"width\":800,\"height\":600},                        {\"responsive\": true}                    ).then(function(){\n",
              "                            \n",
              "var gd = document.getElementById('d86212a2-2a43-4807-b2d2-0d40f679c5f3');\n",
              "var x = new MutationObserver(function (mutations, observer) {{\n",
              "        var display = window.getComputedStyle(gd).display;\n",
              "        if (!display || display === 'none') {{\n",
              "            console.log([gd, 'removed!']);\n",
              "            Plotly.purge(gd);\n",
              "            observer.disconnect();\n",
              "        }}\n",
              "}});\n",
              "\n",
              "// Listen for the removal of the full notebook cells\n",
              "var notebookContainer = gd.closest('#notebook-container');\n",
              "if (notebookContainer) {{\n",
              "    x.observe(notebookContainer, {childList: true});\n",
              "}}\n",
              "\n",
              "// Listen for the clearing of the current output cell\n",
              "var outputEl = gd.closest('.output');\n",
              "if (outputEl) {{\n",
              "    x.observe(outputEl, {childList: true});\n",
              "}}\n",
              "\n",
              "                        })                };                            </script>        </div>\n",
              "</body>\n",
              "</html>"
            ]
          },
          "metadata": {}
        }
      ],
      "source": [
        "topic_model.visualize_distribution(topic_distr[1])"
      ]
    },
    {
      "cell_type": "code",
      "execution_count": null,
      "metadata": {
        "id": "93ZpKYmDcWbZ"
      },
      "outputs": [],
      "source": []
    },
    {
      "cell_type": "markdown",
      "source": [
        "# try octis"
      ],
      "metadata": {
        "id": "_LiqAwGxFkBC"
      }
    },
    {
      "cell_type": "code",
      "source": [
        "import pandas as pd\n",
        "import numpy as np"
      ],
      "metadata": {
        "id": "E9L1nGCuFl8v"
      },
      "execution_count": 5,
      "outputs": []
    },
    {
      "cell_type": "code",
      "source": [
        "# how to read the data\n",
        "path_list=('/source_repository/list_of_contents.txt')\n",
        "with open(path_list, 'r') as file:\n",
        "  list_of_contents = file.readlines()\n",
        "list_of_contents[0]"
      ],
      "metadata": {
        "colab": {
          "base_uri": "https://localhost:8080/",
          "height": 127
        },
        "id": "BGUwW6TTGXmo",
        "outputId": "962b10fc-ad6d-42ad-9b19-8abf44e5a002"
      },
      "execution_count": 6,
      "outputs": [
        {
          "output_type": "execute_result",
          "data": {
            "text/plain": [
              "\"The BBC is being urged to drop singer Olly Alexander as its entrant for Eurovision after it emerged he signed a letter calling Israel an 'apartheid regime'. The Years And Years frontman, 33, was unveiled as next year's candidate for the UK during the Strictly Come Dancing final, which aired on the BBC on Saturday. But he now faces having that role stripped from him after he signed a letter from LGBT charity Voices4London which described Israel as an 'apartheid regime' which is trying to 'ethnically cleanse' Palestine. The statement, which was published on October 20, almost two weeks after Hamas' October 7 attack, also says that Israel has 'terrorised' Palestinian people and there is now a 'genocide' taking place 'in real time'. The Conservatives have accused the BBC of 'either a massive oversight or sheer brass neck' for selecting Alexander, while a Jewish charity has called for him to be replaced and for the broadcaster to cut ties with him. The BBC is not planning on taking any action as the singer signed the letter weeks before he was unveiled as the UK's Eurovision act, the Telegraph reported. The BBC is being urged to drop singer Olly Alexander as its entrant for Eurovision after it emerged he signed letter calling Israel an 'apartheid regime' Alexander now faces having the role stripped from him after he reportedly signed a letter from LGBT charity Voices4London which described Israel an 'apartheid regime' Aerial view of buildings destroyed by Israeli air strikes in the Jabalia camp for Palestinian refugees in Gaza City on October 11 The letter which was allegedly signed by Alexander, who is non-binary and uses he/him pronouns, said: 'We are watching a genocide take place in real time. 'Death overflows from our phone screens and into our hearts. And, as a queer community, we cannot sit idly by while the Israeli government continues to wipe out entire lineages of Palestinian families. 'We cannot untangle these recent tragedies from a violent history of occupation. 'Current events simply are an escalation of the state of Israel's apartheid regime, which acts to ethnically cleanse the land. 'Since the violent creation of the state 75 years ago, the Israeli military and Israeli settlers have continued to terrorise Palestinian people.' 'Queer and trans Palestinians have long highlighted that pinkwashing plays a significant role in Zionist propaganda. 'We stand against any and all harassment and discrimination against Jewish communities. 'For the many queer and anti-Zionist Jewish individuals invested in liberation, this unthinking philosemitism, which hesitates to criticise an ongoing genocide out of fear of being seen to criticise Jewish people, is simply the other face of anti-Semitism'. Olly Alexander was announced as the UK's entry for Eurovision next year The Years And Years frontman, 33, made the announcement during Saturday's live final of Strictly Come Dancing as the audience cheered along After it emerged that Alexander had signed the letter, a Conservative Party source told The Telegraph: 'Letting an openly anti-Israel singer compete on the same stage as Israel is either a massive oversight or sheer brass neck from the BBC. 'After they refused to call Hamas a terrorist organisation, you would think BBC bosses would try to steer clear of causing any more diplomatic blunders. 'Maybe it's time to stop letting the BBC decide who represents the UK at Eurovision.' Meanwhile, a spokesman for the Jewish charity Campaign Against Antisemitism told the newspaper: 'The rhetoric in this letter, which is seemingly endorsed by Olly Alexander, is extreme. It is appalling in particular that it condemns 'unthinking philosemitism. 'At a time when nearly seven in ten British Jews feel afraid to express their identity in public, this must not be the person to represent our country at the Eurovision Song Contest. The BBC can and must right this wrong.' Alexander is set to represent the UK in Sweden in 2024 and has promised to 'fly the flag for the UK in the gayest way possible'. Following the announcement on Saturday, Alexander said in a statement: 'I've loved watching Eurovision ever since I was a little kid and I'm beyond excited to be taking part next year. 'As a young boy I always looked forward to this incredible event of unbridled joy, the wonderfully chaotic mix of musical styles, theatrical performances, heartfelt emotion and humour.' Olly Alexander performing live on stage with his band Years and Years at Wembley Arena in 2022 Sir Elton John and Olly Alexander perform during The BRIT Awards 2021 at The O2 Arena The UK has won Eurovision five times, with the last time being in 1997 when Katrina & The Waves performed Love Shine A Light . Prior to that, the UK stormed to victory in 1981 with Bucks Fizz's Makin' Your Mind Up, and in 1976 with Brotherhood Of Man's Save Your Kisses For Me. In 1969, Lulu, who performed Boom Bang-a-Bang came first in a four-way joint tie with France, the Netherlands and Spain. The UK's first ever Eurovision victory came 11 years after the annual competition launched with Sandie Shaw's Puppet on a String in 1967. Israel has won the competition four times after its debut in the competition in 1973 as the first non-European country to participate in the event. MailOnline has contacted Alexander's representatives for comment. The BBC declined to comment.\\n\""
            ],
            "application/vnd.google.colaboratory.intrinsic+json": {
              "type": "string"
            }
          },
          "metadata": {},
          "execution_count": 6
        }
      ]
    },
    {
      "cell_type": "code",
      "source": [
        "from bertopic import BERTopic"
      ],
      "metadata": {
        "id": "NoSkIYWjGaS8"
      },
      "execution_count": 7,
      "outputs": []
    },
    {
      "cell_type": "code",
      "source": [
        "from umap import UMAP\n",
        "from bertopic.representation import MaximalMarginalRelevance\n",
        "import numpy as np\n",
        "import tensorflow as tf\n",
        "np.random.seed(42)\n",
        "tf.random.set_seed(42)\n",
        "\n",
        "\n",
        "umap_model = UMAP(n_neighbors=15, n_components=5,\n",
        "                  min_dist=0.0, metric='cosine', random_state=42)\n",
        "representation_model = MaximalMarginalRelevance(diversity=0.2) #so that the words in topics are diverse\n",
        "topic_model = BERTopic(language=\"english\", calculate_probabilities=True, verbose=True, representation_model=representation_model, umap_model=umap_model)\n",
        "topics, probs = topic_model.fit_transform(list_of_contents)"
      ],
      "metadata": {
        "colab": {
          "base_uri": "https://localhost:8080/",
          "height": 195,
          "referenced_widgets": [
            "a578a5f7f3d8413997bcc27a24549cef",
            "bb478e700e5c4193be1f3dfbaee55e64",
            "f641d9c2b988498ba72dd7f34a8ac943",
            "e0db430617b247e9b44bc93dbab8b2b8",
            "f04fc4bd524d43dba5cde317c7d1963d",
            "3afae3cbc78143d6a8215f99c3c0481d",
            "629c9ae9a1034a49864b3850f0748c93",
            "f5bf86a08d4443a48691e74e28f27c8f",
            "471745e4cc054a97b09bcb62fc314bd1",
            "0ec28ca4269e4f28a5c7296f3e9a3a84",
            "958fbd541ff74804bbf35eaa6e948a4a"
          ]
        },
        "id": "T73b2BF3GaWb",
        "outputId": "aa11a002-bea3-4a4c-ff61-968b97430178"
      },
      "execution_count": 28,
      "outputs": [
        {
          "output_type": "stream",
          "name": "stderr",
          "text": [
            "2024-05-25 19:39:54,151 - BERTopic - Embedding - Transforming documents to embeddings.\n"
          ]
        },
        {
          "output_type": "display_data",
          "data": {
            "text/plain": [
              "Batches:   0%|          | 0/335 [00:00<?, ?it/s]"
            ],
            "application/vnd.jupyter.widget-view+json": {
              "version_major": 2,
              "version_minor": 0,
              "model_id": "a578a5f7f3d8413997bcc27a24549cef"
            }
          },
          "metadata": {}
        },
        {
          "output_type": "stream",
          "name": "stderr",
          "text": [
            "2024-05-25 19:40:50,298 - BERTopic - Embedding - Completed ✓\n",
            "2024-05-25 19:40:50,301 - BERTopic - Dimensionality - Fitting the dimensionality reduction algorithm\n",
            "2024-05-25 19:41:00,955 - BERTopic - Dimensionality - Completed ✓\n",
            "2024-05-25 19:41:00,957 - BERTopic - Cluster - Start clustering the reduced embeddings\n",
            "2024-05-25 19:41:24,832 - BERTopic - Cluster - Completed ✓\n",
            "2024-05-25 19:41:24,842 - BERTopic - Representation - Extracting topics from clusters using representation models.\n",
            "2024-05-25 19:41:37,384 - BERTopic - Representation - Completed ✓\n"
          ]
        }
      ]
    },
    {
      "cell_type": "markdown",
      "source": [
        "inspired by https://github.dev/lbl-camera/berteley/tree/main\n",
        "\n",
        "\n",
        "Metrics:\n",
        "* TopicDiversity https://github.com/MIND-Lab/OCTIS/blob/master/octis/evaluation_metrics/diversity_metrics.py#L12\n",
        "  * from all the topics gets all words present there and forms a set from them -> takes only unique values, than take the number of unique words in the set, count the diversity as a ratio of the total number of words considered; if value near 0, than it is not good, when higher it is better - BUT I wouldnt say that equal to 1 is the best, as e.g. if there are two topics, one would be about nice home animals, and the other about dangerous ones, both of them should contain word \"animal\" and it is desirable"
      ],
      "metadata": {
        "id": "8sgs3OMoGn2C"
      }
    },
    {
      "cell_type": "code",
      "source": [
        "from octis.evaluation_metrics.diversity_metrics import TopicDiversity"
      ],
      "metadata": {
        "id": "PlNpA1kMGaZ4"
      },
      "execution_count": 9,
      "outputs": []
    },
    {
      "cell_type": "code",
      "source": [
        "topic_words = {}\n",
        "topic_dict = topic_model.topic_representations_\n",
        "for k in topic_dict.keys():\n",
        "    topic_words[k] = [x[0] for x in topic_dict[k]]\n",
        "word_list = list(topic_words.values())\n",
        "word_list.pop(0)\n",
        "print(word_list)\n",
        "\n",
        "topic_diversity = TopicDiversity(topk=10)\n",
        "\n",
        "# coherence_score = _calculate_coherence(topic_model, texts, topics)\n",
        "\n",
        "output_tm = {\"topics\": word_list}\n",
        "diversity_score = topic_diversity.score(output_tm)\n",
        "\n",
        "print(\"Diversity\", diversity_score)"
      ],
      "metadata": {
        "colab": {
          "base_uri": "https://localhost:8080/",
          "height": 0
        },
        "id": "joNUAoksGacm",
        "outputId": "8e25cbd8-46e8-44dc-b517-795ae8dbbf8d"
      },
      "execution_count": 30,
      "outputs": [
        {
          "output_type": "stream",
          "name": "stdout",
          "text": [
            "[['twitter', 'musk', 'twitters', 'musks', 'accounts', 'yaccarino', 'ceo', 'tweet', 'advertisers', 'tweets'], ['lineker', 'bbc', 'gary', 'impartiality', 'linekers', 'presenter', 'presenters', 'broadcaster', 'tweet', 'motd'], ['tesla', 'teslas', 'cars', 'prices', 'shanghai', 'musk', 'demand', 'ev', 'reuters', 'chinese'], ['shares', 'earnings', 'revenue', 'stock', 'expectations', 'quarter', 'analysts', 'premarket', 'estimates', 'loss'], ['boeing', 'airbus', 'planes', '737', '747', 'airlines', 'boeings', 'airline', 'airplanes', 'qatar'], ['ai', 'chatgpt', 'bing', 'openai', 'chatbot', 'microsofts', 'software', 'text', 'copilot', 'chat'], ['bbc', 'presenter', 'her', 'allegations', 'his', 'ms', 'brand', 'who', 'radio', 'about'], ['car', 'police', 'driver', 'driving', 'road', 'crash', 'bmw', 'incident', 'footage', 'audi'], ['ubs', 'suisse', 'swiss', 'banks', 'suisses', 'takeover', 'banking', 'financial', 'snb', 'shareholders'], ['activision', 'microsoft', 'regulators', 'commission', 'antitrust', 'xbox', 'acquisition', 'cmas', 'merger', 'appeal'], ['fifa', 'infantino', 'tournament', 'players', 'fifas', 'qatar', 'women', 'messi', 'soccer', 'governing'], ['airbnb', 'beach', 'rental', 'rentals', 'housing', 'homes', 'airbnbs', 'hotels', 'town', 'rent'], ['fox', 'carlson', 'murdoch', 'carlsons', 'defamation', 'claims', 'trumps', 'foxs', 'cnn', 'false'], ['appointments', 'minister', 'sharps', 'chairman', 'boris', 'cabinet', 'committee', 'secretary', 'appointed', 'sunak'], ['indigenous', 'deforestation', 'forest', 'brazil', 'environmental', 'rainforest', 'land', 'brazilian', 'cattle', 'trees'], ['bmw', 'car', 'bentley', 'cars', 'euros', 'porsche', 'bmws', 'vehicles', 'ferrari', 'w12'], ['wizz', 'flights', 'airline', 'airport', 'airlines', 'lufthansa', 'cancelled', 'carrier', 'luggage', 'refunds'], ['toyota', 'nissan', 'vehicles', 'hybrid', 'prius', 'toyotas', 'renault', 'hybrids', 'ev', 'nissans'], ['her', 'police', 'kayla', 'unbehaun', 'stabbed', 'court', 'murder', 'holmes', 'arrested', 'incident'], ['coronation', 'charles', 'abbey', 'royal', 'bbc', 'itv', 'westminster', 'concert', 'dec', 'wales'], ['wwe', 'mcmahon', 'wrestling', 'vince', 'wrestlemania', 'ufc', 'mcmahons', 'wwes', 'championship', 'wrestler'], ['amazons', 'employees', 'layoffs', 'office', 'workers', 'tech', 'companys', 'jobs', 'workforce', 'headquarters'], ['eurovision', 'contest', 'liverpool', 'muller', 'ukraine', 'final', 'singer', 'shakira', 'songs', 'stage'], ['mr', 'appointment', 'verifyerrors', 'minister', 'chairman', 'appointments', 'sharps', 'boris', 'mps', 'secretary'], ['lineker', 'bbc', 'verifyerrors', 'email', 'impartiality', 'gary', 'guidelines', 'asylum', 'mr', 'presenter'], ['esg', 'sustainability', 'sustainable', 'axa', 'emissions', 'equity', 'organizations', 'issuers', 'environmental', 'deloitte'], ['target', 'pride', 'lgbtq', 'backlash', 'cornell', 'transgender', 'stores', 'boycott', 'swimsuits', 'products'], ['walmart', 'stores', 'walmarts', 'mcmillon', 'bonobos', 'portland', 'retail', 'retailer', 'chicago', 'citys'], ['headset', 'vr', 'virtual', 'device', 'vision', 'iphone', 'augmented', 'headsets', 'apps', 'airpods'], ['tesco', 'prices', 'cent', 'inflation', 'sainsburys', 'supermarket', 'supermarkets', 'tescos', '75p', 'costs'], ['scored', 'assists', 'nhl', 'bruins', 'leafs', 'goalie', 'goaltender', 'edmonton', 'oilers', 'mcdavid'], ['musk', 'musks', 'jury', 'trial', 'shareholders', 'court', 'tweet', 'elon', 'teslas', 'jurors'], ['chips', 'china', 'huawei', 'chinas', 'chinese', 'taiwan', 'beijing', 'manufacturing', 'chipmaker', '5g'], ['starbucks', 'union', 'schultz', 'coffee', 'employees', 'bargaining', 'unionization', 'unions', 'benefits', 'baristas'], ['mcdonalds', 'burger', 'restaurants', 'chicken', 'restaurant', 'franchisees', 'mcflurry', 'cheeseburger', 'mayo', 'burgers'], ['bbc', 'radio', 'licence', 'nuj', 'presenters', 'bbcs', 'journalists', 'stations', 'channels', 'broadcaster'], ['pilots', 'airlines', 'delta', 'airline', 'contract', 'deltas', 'carriers', 'flights', 'union', 'earnings'], ['tomatoes', 'supermarkets', 'peppers', 'cucumbers', 'tesco', 'vegetables', 'fruit', 'produce', 'shortages', 'supermarket'], ['amazon', 'amazons', 'prime', 'ftc', 'delivery', 'customers', 'marketplace', 'goods', 'ecommerce', 'grocery'], ['ford', 'fords', 'ev', 'truck', 'vehicles', 'automaker', 'trucks', 'automakers', 'battery', 'detroit'], ['cyber', 'discord', 'nso', 'hackers', 'security', 'spyware', 'breach', 'accounts', 'leaked', 'passwords'], ['fox', 'defamation', 'murdoch', 'claims', 'dominions', 'lawsuit', 'delaware', 'judge', 'rupert', '2020'], ['spotify', 'music', 'podcast', 'spotifys', 'songs', 'miley', 'podcasts', 'ostroff', 'podcasting', 'meghans'], ['chanel', 'anna', 'dress', 'karl', 'nicole', 'actress', 'gala', 'lagerfeld', 'pink', 'pamela'], ['carbon', 'emissions', 'saf', 'climate', 'credits', 'co2', 'fuels', 'renewable', 'methane', 'sustainability'], ['vodafone', 'vodafones', '3g', 'mobile', 'stake', 'merger', 'tims', 'ck', 'telecom', 'hutchison'], ['workers', 'coventry', 'gmb', 'union', 'strike', 'warehouse', 'labor', 'wage', 'employees', 'amazons'], ['ant', 'berkshire', 'alibaba', 'yen', 'jardine', 'shares', 'reuters', 'jip', 'jdcom', 'investors'], ['flight', 'airport', 'passengers', 'airlines', 'turbulence', 'lufthansa', 'airline', 'delta', 'aviation', 'pilots'], ['bank', 'suisses', 'banks', 'lender', 'financial', 'snb', 'banking', 'investors', 'collapse', 'reuters'], ['tesla', 'autopilot', 'nhtsa', 'driver', 'fsd', 'vehicles', 'steering', 'crash', 'driving', 'recall'], ['hamas', 'terrorist', 'terrorists', 'gaza', 'antisemitism', 'israeli', 'jews', 'civilians', 'palestinian', 'terrorism'], ['unilevers', 'jerrys', 'brands', 'russian', 'hellmanns', 'goods', 'peltz', 'prices', 'products', 'sales'], ['vaccine', 'rsv', 'covid', 'fda', 'vaccines', 'vaccination', 'virus', 'pfizer', 'stroke', 'jabs'], ['bp', 'renewables', 'profits', 'emissions', '2030', 'prices', 'exxon', 'tax', 'fuel', 'investment'], ['adidas', 'yeezy', 'gulden', 'kanye', 'shoes', 'sportswear', 'wests', 'yeezys', 'stock', 'sneakers'], ['microsofts', 'employees', 'cloud', 'layoffs', 'jobs', 'workforce', 'satya', 'azure', 'companies', 'revenue'], ['patel', 'cliff', 'highway', 'wife', 'mateo', 'crash', 'injuries', 'patels', 'neha', 'rescue'], ['netflix', 'password', 'streaming', 'users', 'netflixs', 'subscribers', 'accounts', 'subscription', 'profiles', 'ip'], ['red', 'verstappen', 'f1', 'hamilton', 'ferrari', 'prix', 'andretti', 'racing', 'championship', 'driver'], ['apple', 'iphone', 'apples', 'sales', 'billion', 'decline', 'analysts', 'investors', 'iphones', 'stock'], ['port', 'dover', 'delays', 'border', 'coaches', 'ferry', 'queues', 'ferries', 'queue', 'travellers'], ['mulvaney', 'nike', 'women', 'dylan', 'sports', 'female', 'athletes', 'swimmer', 'nikes', 'transgender'], ['hsbc', 'svb', 'bank', 'banking', 'banks', 'branches', 'depositors', 'hsbcs', 'uks', 'startups'], ['apple', 'app', 'apps', 'court', 'antitrust', 'patent', 'appeal', 'fortnite', 'platforms', 'appeals'], ['bridegan', 'tenon', 'murder', 'jared', 'fernandez', 'exwife', 'kirsten', 'borys', 'jacksonville', 'bridegans'], ['modi', 'documentary', 'indias', 'delhi', 'riots', 'modis', 'gujarat', 'hindu', 'mumbai', 'authorities'], ['nintendo', 'games', 'mario', 'sega', 'yen', 'zelda', 'ubisoft', 'nintendos', 'playstation', 'revenue'], ['wildlife', 'packham', 'animals', 'nature', 'attenborough', 'bbc', 'autumnwatch', 'extinction', 'zoo', 'documentary'], ['nvidia', 'ai', 'nvidias', 'gpus', 'chipmaker', 'data', 'revenue', 'market', 'companies', 'gaming'], ['uber', 'ubers', 'taxi', 'ridehailing', 'harleydavidson', 'lyft', 'revenue', 'earnings', 'taxis', 'bikes'], ['apple', 'foxconn', 'iphones', 'manufacturing', 'indias', 'iphone', 'delhi', 'reuters', 'electronics', 'market'], ['banks', 'swiss', 'collapse', 'banking', 'markets', 'suisses', 'svb', 'liquidity', 'lender', 'investors'], ['pride', 'nhl', 'jerseys', 'tape', 'hockey', 'wear', 'bettman', 'lgbtq', 'warmup', 'ban'], ['insulin', 'novo', 'obesity', 'prices', 'lillys', 'loss', 'pill', 'nordisks', 'insurance', 'vial'], ['tesla', 'car', 'vehicle', 'teslas', 'batteries', 'vehicles', 'parked', 'driving', 'freeway', 'fires'], ['intel', 'intels', 'amd', 'amds', 'analysts', 'dividend', 'company', 'earnings', 'processors', 'chipmakers'], ['radio', 'bruce', 'ken', 'listeners', 'bbc', 'station', 'ogrady', 'djs', 'presenters', 'presenter'], ['sainsburys', 'warburtons', 'supermarket', 'tesco', 'customers', 'waitroses', 'stores', 'crumpets', 'supermarkets', 'retail'], ['epstein', 'jpmorgan', 'epsteins', 'staley', 'trafficking', 'virgin', 'jeffrey', 'lawsuit', 'financier', 'settlement'], ['tennis', 'wimbledon', 'pga', 'kyrgios', 'tournament', 'djokovic', 'highlights', 'swing', 'fritz', 'federer'], ['savings', 'card', 'mastercard', 'fees', 'payments', 'banks', 'rates', 'deposit', 'interest', 'debit'], ['volkswagen', 'battery', 'stellantis', 'ontario', 'volkswagens', 'carmaker', 'subsidies', 'ev', 'windsor', 'federal'], ['revoluts', 'licence', 'banking', 'fintech', 'accounts', 'fraud', 'auditor', 'fraudsters', 'bank', 'valuation'], ['harry', 'prince', 'harrys', 'kate', 'royal', 'duchess', 'memoir', 'sussexes', 'meghans', 'princess'], ['chargers', 'tesla', 'supercharger', 'superchargers', 'ccs', 'evs', 'teslas', 'charger', 'nacs', 'ford'], ['iphone', 'ios', 'update', 'usbc', 'charging', 'bug', 'iphones', 'icloud', 'airdrop', 'lightning'], ['aldi', 'stores', 'cent', 'supermarket', 'shoppers', 'supermarkets', 'morrisons', 'prices', 'shopping', 'inflation'], ['mcrae', 'msu', 'shooting', 'campus', 'students', 'lansing', 'shooter', 'verner', 'fraser', 'madi'], ['netflix', 'kaleidoscope', 'films', 'heist', 'netflixs', 'stranger', 'shows', 'viewers', 'episodes', 'knives'], ['flight', 'attendant', 'airlines', 'airline', 'crew', 'harris', 'pilot', 'incident', 'passengers', 'flights'], ['binance', 'crypto', 'exchange', 'coinbase', 'binanceus', 'securities', 'binances', 'cftc', 'coley', 'binancecom'], ['cohosh', 'mifepristone', 'fda', 'supplements', 'herb', 'menopause', 'prescription', 'tablets', 'medicines', 'pfizer'], ['brady', 'nfl', 'bradys', 'quarterback', 'tom', 'retirement', 'rodgers', 'ravens', 'quarterbacks', 'buccaneers'], ['netflix', 'subscribers', 'streaming', 'disney', 'netflixs', 'tv', 'subscription', '2022', 'hulu', 'revenue'], ['her', 'nunes', 'gift', 'items', 'childcare', 'bones', 'marion', 'selling', 'eileen', 'grandfathers'], ['mcdonalds', 'restaurant', 'staff', 'harassment', 'worker', 'her', 'customer', 'manager', 'harassed', 'fastfood'], ['pfizer', 'vaccine', 'vaccines', 'covid', 'covid19', 'vaccinated', 'rsv', 'shots', 'pandemic', 'antiviral'], ['mccarthy', 'committee', 'schiff', 'republicans', 'classified', 'leak', 'documents', 'committees', 'fbi', 'congress'], ['athletes', 'olympic', 'belarus', 'ukraine', 'olympics', 'competitions', 'doping', 'russias', 'russians', 'iocs'], ['bonds', 'bondholders', 'swiss', 'debt', 'ubs', 'at1s', 'banks', 'shareholders', 'bond', 'suisses'], ['wells', 'jpmorgan', 'banks', 'banking', 'loans', 'losses', 'chase', 'fargos', 'bankers', 'earnings'], ['aviva', 'blanc', 'cbi', 'insurance', 'insurer', 'avivas', 'pension', 'insurers', 'cigna', 'claim'], ['nike', 'basketball', 'shoe', 'shoes', 'lebron', 'nikes', 'durant', 'lakers', 'jordans', 'bulls'], ['lithium', 'battery', 'batteries', 'ford', 'energyx', 'ev', 'motors', 'automakers', 'nickel', 'build'], ['tesla', 'diaz', 'damages', 'discrimination', 'fremont', 'harassment', 'complaint', 'lawsuit', 'arbitration', 'judge'], ['allianz', 'bank', 'euros', 'deutsches', 'banks', 'banking', 'reuters', 'commerzbank', 'allianzs', 'market'], ['nestle', 'pepsico', 'prices', 'inflation', 'grocery', 'organic', 'pepsi', 'revenue', 'brands', 'sodas'], ['asda', 'petrol', 'issa', 'asdas', 'ulez', 'supermarket', 'merger', 'gmb', 'blackburn', 'business'], ['ford', 'mustang', 'ev', 'credits', 'vehicles', 'prices', 'vehicle', 'suv', 'tesla', 'evs'], ['cramer', 'nasdaq', 'chart', 'stocks', 'dow', 'shares', 'indexes', 'waits', 'cnbc', 'cramers'], ['outage', 'broadband', '5g', 'outages', 'vodafone', 'issues', 'rural', 'mobile', 'cloud', 'azure'], ['looney', 'bp', 'looneys', 'executive', 'gas', 'hurst', 'murray', 'bonuses', 'helge', 'married'], ['oil', 'chevron', 'gas', 'brent', 'chevrons', 'opec', 'barrels', 'exxon', 'profits', 'profit'], ['hsbc', 'hong', 'hsbcs', 'shareholder', 'dividends', 'shareholders', 'dividend', 'hsbal', 'split', 'bno'], ['bank', 'banks', 'deposits', 'jpmorgan', 'lenders', 'bancorp', 'banking', 'edt', 'loans', 'investors'], ['jungle', 'children', 'colombian', 'insect', 'rescue', 'nepali', 'saudi', 'missing', 'species', 'indigenous'], ['audit', 'deloitte', 'audits', 'accounting', 'kpmgs', 'eys', 'failings', 'auditing', 'auditor', 'firms'], ['asos', 'atos', 'cent', 'frasers', 'shares', 'calamonte', 'trendyol', 'fastfashion', 'stock', 'shareholders'], ['we', 'scared', 'history', 'seemed', 'happening', 'sanitised', 'steelmakers', 'pupil', 'explosions', 'nervousness'], ['shooting', 'suspect', 'paso', 'officers', 'gun', 'gunman', 'jones', 'walmart', 'nebraska', 'shooter'], ['starbucks', 'coffee', 'reusable', 'stores', 'beverages', 'frappuccino', 'cuba', 'espresso', 'iced', 'macadamia'], ['inflation', 'rates', 'ecb', 'interest', 'cent', 'economist', 'monetary', 'banks', 'ecbs', 'forecast'], ['clubcard', 'vouchers', 'tesco', 'points', 'customers', 'loyalty', 'rewards', 'coupons', 'voucher', 'supermarket'], ['uefa', 'supporters', 'liverpool', 'should', 'stade', 'stadium', 'club', 'safety', 'hillsborough', 'madrid'], ['tata', 'furnaces', 'steelworks', 'blast', 'jobs', 'steelmaking', 'industry', 'steels', 'industrial', 'wales'], ['higgins', 'lehrmann', 'shamima', 'isis', 'syria', 'refugee', 'syrian', 'begums', 'sultana', 'ali'], ['alexa', 'ftc', 'kindle', 'privacy', 'app', 'voice', 'amazons', 'children', 'doorbell', 'devices'], ['volvo', 'xc60', 'volvos', 'em90', 'diesel', 'trucks', 'ex30', 'seats', 'suv', 'mpv'], ['trans', 'letter', 'transgender', 'papers', 'journalism', 'journalists', 'newspaper', 'writers', 'advocacy', 'publishing'], ['goldman', 'sachs', 'banking', 'banks', 'layoffs', 'employees', 'workforce', 'jobs', 'goldmans', 'bonuses'], ['mexico', 'corn', 'mexicos', 'nuevo', 'mexican', 'tesla', 'monterrey', 'permits', 'nava', 'imports'], ['hyundai', 'kia', 'thefts', 'vehicles', 'stolen', 'immobilizers', 'theft', 'hyundais', 'kias', 'usb'], ['eni', 'oil', 'gas', 'enel', 'refined', 'italys', 'refinery', 'refineries', 'libyas', 'milan'], ['samsung', 'memory', 'chip', 'samsungs', 'profit', 'electronics', 'lee', 'korean', 'semiconductor', 'smartphone'], ['orchestras', 'choir', 'musicians', 'orchestra', 'concert', 'bbcs', 'choirs', 'philharmonic', 'composers', 'choral'], ['s23', 'samsung', 'smartphone', 'camera', 'phones', 'kindle', 'xiaomi', 'android', 'smartphones', 'huawei'], ['paxlovid', 'covid', 'drug', 'pfizer', 'antiviral', 'molnupiravir', 'virus', 'treatments', 'infection', 'huahai'], ['tsmc', 'lenovo', 'revenue', 'demand', 'forecast', 'inventory', 'sales', 'decline', 'dell', 'logitech'], ['tiktok', 'bytedance', 'chinese', 'security', 'app', 'bennet', 'tiktoks', 'ban', 'platforms', 'devices'], ['amgen', 'amgens', 'patent', 'patents', 'bayer', 'pharmaceutical', 'cholesterol', 'lawsuit', 'antitrust', 'companies'], ['goldman', 'goldmans', 'sachs', 'banking', 'greensky', 'business', 'loans', 'gsn', 'bank', 'analysts'], ['trump', 'governor', 'campaign', 'presidential', 'florida', 'nomination', 'desantiss', 'donald', 'kennedy', 'gop'], ['bayer', 'bayers', 'monsanto', 'reuters', 'pharmaceuticals', 'ubbens', 'manns', 'takeover', 'ceo', 'business'], ['horror', 'scary', 'creepy', 'thriller', 'scariest', 'terrified', 'haunted', 'nightmares', 'haunting', 'ichthyosis'], ['gm', 'chevrolet', 'ev', 'evs', 'cadillac', 'silverado', 'motors', 'automaker', 'allelectric', 'battery'], ['easter', 'opening', 'holiday', 'westfield', '10pm', 'tesco', 'shops', '7am', 'weekend', 'supermarkets'], ['youtube', 'channel', 'allegations', 'russell', 'comedian', 'barb', 'her', 'subscribers', 'suspended', 'alleged'], ['sap', 'ibm', 'billion', 'revenue', 'googles', 'microsoft', 'company', 'ibms', 'business', 'analysts'], ['boohoos', 'leicester', 'fashion', 'bosses', 'levitt', 'suppliers', 'scheme', 'staff', 'remuneration', 'payouts'], ['recall', 'vehicles', 'inflators', 'airbag', 'nhtsa', 'recalled', 'suvs', 'inflator', 'chevrolet', 'jeep'], ['aws', 'cloud', 'amazons', 'revenue', 'analysts', 'growth', 'billion', 'andy', 'business', 'earnings'], ['aldi', 'cleaning', 'cleaner', 'shoppers', 'vacuum', 'products', 'dehumidifier', 'bissell', 'stains', 'bag'], ['fulfilment', 'gourock', 'hemel', 'hempstead', 'jobs', 'doncaster', 'warehouses', 'consultations', 'workers', 'facilities'], ['ford', 'europe', 'jobs', 'cuts', 'fords', 'carmaker', 'vans', 'vehicles', 'carmakers', 'dagenham'], ['prince', 'princess', 'andrew', 'royal', 'pip', 'kate', 'margaret', 'actress', 'meg', 'queen'], ['nike', 'jordan', 'shoes', 'nikes', 'sneaker', 'sneakers', 'kangaroos', 'lululemon', 'apparel', 'footwear'], ['suisse', 'swiss', 'accounts', 'banks', 'ubs', 'banking', 'bankers', 'takeover', 'whistleblowers', 'prosecutor'], ['gunther', 'mian', 'ferreras', 'netflix', 'obsession', 'audrey', 'belliard', 'italian', 'gunthers', 'audreys'], ['nissan', 'renault', 'alliance', 'renaults', 'ghosn', 'stake', 'nissans', 'partner', 'mitsubishi', 'companies'], ['oil', 'ecuador', 'indigenous', 'petroecuador', 'species', 'ecuadorian', 'ecuadors', 'mining', 'ecuadorians', 'fossil'], ['clothing', 'stores', 'spencer', 'sales', 'mss', 'suppliers', 'homeware', 'shops', 'retailer', 'brands'], ['drug', 'merck', 'patients', 'astrazeneca', 'molnupiravir', 'oncology', 'baxdrostat', 'medicines', 'drugmaker', 'hypertension'], ['warehouse', 'osha', 'injuries', 'brocks', 'quotas', 'hazards', 'workplace', 'fulfillment', 'bakersfield', 'employee'], ['recordings', 'cameras', 'privacy', 'data', 'videos', 'teslas', 'garage', 'spy', 'mateo', 'cars'], ['migrants', 'boats', 'border', 'dover', 'asylum', 'crossed', 'smugglers', 'seekers', 'kent', 'arrivals'], ['apple', 'cook', 'cooks', 'compensation', 'shareholder', 'employees', 'ceo', 'annual', 'salary', 'perm'], ['uniform', 'uniforms', 'airline', 'crew', 'dress', 'fashion', 'garments', 'cabin', 'worn', 'suits'], ['percent', 'employees', 'hiring', 'lyft', 'workforce', 'layoffs', 'intel', 'cuts', 'zuckerberg', 'jobs'], ['lvmh', 'luxury', 'vuitton', 'richest', 'bernard', 'goods', 'lvmhs', 'hennessy', 'brands', 'billionaires'], ['smith', 'chris', 'jada', 'oscars', 'pinkett', 'chappelle', 'comedian', 'comedy', 'pinkettsmiths', 'slapped'], ['hastings', 'netflix', 'sarandos', 'peters', 'coceo', 'subscribers', 'netflixs', 'randolph', 'barbershop', 'company'], ['hyundai', 'ioniq', 'ev', 'georgia', 'wheels', 'kia', 'korean', 'hyundais', 'chung', 'automakers'], ['iphone', 'repair', 'nokia', 'camera', 'smartphone', 'smartphones', 'devices', 'phones', 'battery', 'iphones'], ['clarkson', 'farm', 'clarksons', 'meghan', 'jeremy', 'oxfordshire', 'itv', 'millionaire', 'markle', 'sussexes'], ['cruise', 'zoox', 'autonomous', 'deere', 'cruisers', 'robotaxi', 'driverless', 'vehicles', 'brightdrop', 'robotaxis'], ['trademark', 'adidas', 'threestripe', 'stripes', 'brownes', 'sportswear', 'logo', 'adidass', 'stripe', 'bracelets'], ['tupperware', 'containers', 'tupperwares', 'plastic', 'corningware', 'rubbermaid', 'lid', 'pyrex', 'brands', 'boxes'], ['toyoda', 'toyota', 'toyotas', 'lexus', 'koji', 'automaker', 'chairman', 'seki', 'mazda', 'automakers'], ['leggings', 'underwear', 'comfortable', 'warm', 'spanx', 'fleece', 'hoodie', 'cotton', 'waist', 'dress'], ['tesla', 'musk', 'headquarters', 'palo', 'austin', 'ceo', 'podesta', 'reuters', 'inc', 'fremont'], ['att', 'verizon', 'tmobile', 'dish', 'carriers', 'ttc', 'rogers', 'subscribers', 'telecom', '5g'], ['suisse', 'sec', 'outflows', 'swiss', 'bank', 'financial', 'francs', 'scandals', 'lehmann', 'securities'], ['gm', 'buyouts', 'jacobson', 'salaried', 'gms', 'automaker', 'attrition', 'layoffs', 'costs', 'pretax'], ['allan', 'tesco', 'cbi', 'allegations', 'barratt', 'complaints', 'chairman', 'allegation', 'apologised', 'claims'], ['boeing', 'max', '737', 'boeings', 'justice', 'ethiopian', 'crash', 'faa', 'relatives', 'airlines'], ['cleopatra', 'egyptian', 'queen', 'actress', 'african', 'macedonian', 'antiquities', 'cleopatras', 'egyptians', 'documentary'], ['fcpa', 'ericsson', 'guilty', 'bribery', 'whistleblower', 'plea', '1mdb', 'investigation', 'prosecutors', 'corruption'], ['paramount', 'streaming', 'showtime', 'paramounts', 'bakish', 'disney', 'jiocinema', 'subscribers', 'revenue', 'pluto'], ['tax', 'medicines', 'pharma', 'pharmaceutical', 'trials', 'companies', 'nhs', 'astrazenecas', 'revenues', 'investment'], ['missile', 'frigates', 'submarines', 'missiles', 'navy', 'russias', 'ships', 'rockwools', 'submarine', 'naval'], ['jj', 'bankruptcy', 'talc', 'ltl', 'jjs', 'powder', 'lawsuits', 'plaintiffs', 'asbestos', 'settlement'], ['youtube', 'wojcicki', 'mohan', 'youtubes', 'googles', 'adverts', 'ceo', 'ad', 'sergey', 'advertising'], ['rio', 'tinto', 'radiation', 'mining', 'radioactive', 'tintos', 'alumina', 'ore', 'copper', 'aboriginal'], ['ai', 'aws', 'amazon', 'customers', 'alexa', 'machine', 'cloud', 'amazons', 'dialogue', 'grocery'], ['bestway', 'sainsburys', 'pharmacy', 'wholesaler', 'lloyds', 'supermarket', 'shares', 'chain', 'business', 'pharmacies'], ['fed', 'nasdaq', 'inflation', 'dow', 'recession', 'highs', 'nyse', 'indexes', 'traders', 'spx'], ['olive', 'coffee', 'oleato', 'starbucks', 'espresso', 'caffeine', 'iced', 'latte', 'calories', 'coffees'], ['keyboard', 'macbook', 'apple', 'mac', 'ergonomic', 'mouse', 'm1', 'laptop', 'intel', 'keyboards'], ['camper', 'tesla', 'wiper', 'prototype', 'musk', 'vehicle', 'truck', 'cybertrucks', 'windshield', 'teslas'], ['biden', 'conferences', 'press', 'bidens', 'capitol', 'editorial', 'manchin', 'trump', 'birthday', 'email'], ['radiation', 'airtags', 'devices', 'device', 'apple', 'phones', 'watts', 'electromagnetic', 'magnets', 'pacemaker'], ['volkswagen', 'china', 'xinjiang', 'volkswagens', 'carmaker', 'chinas', 'carmakers', 'german', 'abuses', 'germany'], ['target', 'sales', 'retailers', 'theft', 'shoppers', 'depot', 'walmart', 'retail', 'grocery', 'retailer'], ['bluecruise', 'ford', 'patent', 'vehicle', 'wheel', 'lane', 'fords', 'mustang', 'steering', 'feature'], ['flintoff', 'gear', 'freddie', 'filming', 'crash', 'accident', 'injuries', 'mcguinness', 'airlifted', 'paddy'], ['nvidia', 'nvidias', 'gpus', 'computing', 'software', 'a100s', 'computex', 'computers', 'cloud', 'graphics'], ['aldi', 'checkouts', 'groceries', 'registers', 'shoppers', 'shopper', 'shopping', 'shoplifting', 'supermarket', 'barcodes'], ['elliott', 'benioff', 'dreamforce', 'board', 'starboard', 'stake', 'directors', 'investor', 'companies', 'investors'], ['gap', 'goldman', 'women', 'pay', 'pmi', 'bst', 'sachs', 'eurozone', 'employers', 'banks'], ['content', 'justices', 'pornhub', 'lawsuit', 'gonzalez', 'liable', 'court', 'justice', 'terrorism', 'victims'], ['league', 'premier', 'rugby', 'premiership', 'england', 'chelsea', 'sharks', 'itv', 'leeds', 'clubs']]\n",
            "Diversity 0.7061320754716981\n"
          ]
        }
      ]
    },
    {
      "cell_type": "markdown",
      "source": [
        "another version of TopicDiversity metric: measure the diveristy inside of each topic, not for all of them, to be sure we have diverse words inside of each of them, the topic words are \"used wisely\""
      ],
      "metadata": {
        "id": "8Q3zlQDIM9Do"
      }
    },
    {
      "cell_type": "code",
      "source": [
        "import spacy\n",
        "import nltk\n",
        "from nltk.stem import PorterStemmer"
      ],
      "metadata": {
        "id": "5eEm68X-NlCR"
      },
      "execution_count": 39,
      "outputs": []
    },
    {
      "cell_type": "code",
      "source": [
        "nltk.download('punkt')"
      ],
      "metadata": {
        "colab": {
          "base_uri": "https://localhost:8080/",
          "height": 0
        },
        "id": "IOTagCnxT2SL",
        "outputId": "724c179d-d2dc-40df-929f-efa4f9789674"
      },
      "execution_count": 40,
      "outputs": [
        {
          "output_type": "stream",
          "name": "stderr",
          "text": [
            "[nltk_data] Downloading package punkt to /root/nltk_data...\n",
            "[nltk_data]   Unzipping tokenizers/punkt.zip.\n"
          ]
        },
        {
          "output_type": "execute_result",
          "data": {
            "text/plain": [
              "True"
            ]
          },
          "metadata": {},
          "execution_count": 40
        }
      ]
    },
    {
      "cell_type": "code",
      "source": [
        "def TopicDiveristy_inside_topics(list_of_topics):\n",
        "  nlp = spacy.load('en_core_web_sm')\n",
        "  stemmer = PorterStemmer()\n",
        "  i=0\n",
        "  scores_sum=0\n",
        "  for topic in list_of_topics:\n",
        "    i+=1\n",
        "    if i%50==0:\n",
        "    # if i>10:\n",
        "      # break\n",
        "      print(i)\n",
        "      print(scores_sum/i)\n",
        "    topic_str=' '.join(topic)\n",
        "    # print(topic)\n",
        "    # print(topic_str)\n",
        "    doc1=nlp(topic_str)\n",
        "    lemmatized_tokens=[token.lemma_ for token in doc1]\n",
        "    # print(\"lemmatized\",lemmatized_tokens)\n",
        "    stemmed_tokens = [stemmer.stem(token) for token in lemmatized_tokens]\n",
        "    # print(\"stemmed\",stemmed_tokens) #the tokens are not perfect, but it helps to count as 1 \"tesla\" and \"teslas\"\n",
        "    updated_list=[item.replace(\"tweet\", \"twitter\") for item in stemmed_tokens]\n",
        "    unique_words=set(updated_list)\n",
        "    # print(unique_words)\n",
        "    score=len(unique_words)/len(updated_list)\n",
        "    # print(score)\n",
        "    scores_sum+=score\n",
        "  return scores_sum/i"
      ],
      "metadata": {
        "id": "_Fdwb3urHAWV"
      },
      "execution_count": 50,
      "outputs": []
    },
    {
      "cell_type": "code",
      "source": [
        "TopicDiveristy_inside_topics(word_list)"
      ],
      "metadata": {
        "colab": {
          "base_uri": "https://localhost:8080/"
        },
        "id": "uB2WdszIO4j6",
        "outputId": "a414bb1e-e6bb-41c3-aab7-39ec1a44206e"
      },
      "execution_count": 45,
      "outputs": [
        {
          "output_type": "stream",
          "name": "stdout",
          "text": [
            "10\n",
            "0.8\n",
            "20\n",
            "0.8400000000000002\n",
            "30\n",
            "0.87\n",
            "40\n",
            "0.8702272727272726\n",
            "50\n",
            "0.8803636363636363\n",
            "60\n",
            "0.8869696969696967\n",
            "70\n",
            "0.8845454545454542\n",
            "80\n",
            "0.8852272727272725\n",
            "90\n",
            "0.8879797979797982\n",
            "100\n",
            "0.8881818181818185\n",
            "110\n",
            "0.8865289256198353\n",
            "120\n",
            "0.88439393939394\n",
            "130\n",
            "0.890209790209791\n",
            "140\n",
            "0.890194805194806\n",
            "150\n",
            "0.8901818181818192\n",
            "160\n",
            "0.8907954545454558\n",
            "170\n",
            "0.893689839572194\n",
            "180\n",
            "0.8934848484848501\n",
            "190\n",
            "0.8959330143540687\n",
            "200\n",
            "0.8966363636363656\n",
            "210\n",
            "0.8953679653679674\n"
          ]
        },
        {
          "output_type": "execute_result",
          "data": {
            "text/plain": [
              "0.9006003430531753"
            ]
          },
          "metadata": {},
          "execution_count": 45
        }
      ]
    },
    {
      "cell_type": "code",
      "source": [
        "def measure_topic_diversities(diversity_mmr=0.5):\n",
        "  umap_model = UMAP(n_neighbors=15, n_components=5,\n",
        "                  min_dist=0.0, metric='cosine', random_state=42)\n",
        "  representation_model = MaximalMarginalRelevance(diversity=diversity_mmr) #so that the words in topics are diverse\n",
        "  topic_model = BERTopic(language=\"english\", calculate_probabilities=True, verbose=True, representation_model=representation_model, umap_model=umap_model)\n",
        "  topics, probs = topic_model.fit_transform(list_of_contents)\n",
        "\n",
        "  topic_words = {}\n",
        "  topic_dict = topic_model.topic_representations_\n",
        "  for k in topic_dict.keys():\n",
        "      topic_words[k] = [x[0] for x in topic_dict[k]]\n",
        "  word_list = list(topic_words.values())\n",
        "  word_list.pop(0)\n",
        "  print(word_list)\n",
        "\n",
        "  topic_diversity = TopicDiversity(topk=10)\n",
        "\n",
        "  # coherence_score = _calculate_coherence(topic_model, texts, topics)\n",
        "\n",
        "  output_tm = {\"topics\": word_list}\n",
        "  diversity_score = topic_diversity.score(output_tm)\n",
        "  mean_div=TopicDiveristy_inside_topics(word_list)\n",
        "  print(\"Diversity_mmr\", diversity_mmr, \"Diversity overall\", diversity_score, \"Mean diversity per topic\", mean_div)"
      ],
      "metadata": {
        "id": "FyBHnT0VVFyR"
      },
      "execution_count": 47,
      "outputs": []
    },
    {
      "cell_type": "code",
      "source": [
        "measure_topic_diversities(diversity_mmr=0.5)"
      ],
      "metadata": {
        "colab": {
          "base_uri": "https://localhost:8080/",
          "height": 397,
          "referenced_widgets": [
            "dab7aa47f59f4994a9502bed4331997f",
            "16f1ae8a4d8746e4b5e1f66cff2b9107",
            "ff3c4dd2dceb403591ee369aec52624b",
            "dd868347828f49c1804c6887623fb16f",
            "0a150c717dda4bd4b5245b74c021f48e",
            "c9213e3814e04fdda9b403825fe489a7",
            "4edc394bef8f4064a64c7810fb4145f3",
            "6d0b179d8228499ba6e625f2bd5555fc",
            "4cf1824bc72743a5b9775e1570f4fdb6",
            "f101e22a37304e3d82a12dff1c4c1b68",
            "8975fe9276aa4597bf92dcfb884451ca"
          ]
        },
        "id": "b2zXCBeVVmOS",
        "outputId": "17934a8c-b15b-4a9b-c761-538b5f941329"
      },
      "execution_count": 51,
      "outputs": [
        {
          "output_type": "stream",
          "name": "stderr",
          "text": [
            "2024-05-25 20:09:56,669 - BERTopic - Embedding - Transforming documents to embeddings.\n"
          ]
        },
        {
          "output_type": "display_data",
          "data": {
            "text/plain": [
              "Batches:   0%|          | 0/335 [00:00<?, ?it/s]"
            ],
            "application/vnd.jupyter.widget-view+json": {
              "version_major": 2,
              "version_minor": 0,
              "model_id": "dab7aa47f59f4994a9502bed4331997f"
            }
          },
          "metadata": {}
        },
        {
          "output_type": "stream",
          "name": "stderr",
          "text": [
            "2024-05-25 20:10:48,028 - BERTopic - Embedding - Completed ✓\n",
            "2024-05-25 20:10:48,029 - BERTopic - Dimensionality - Fitting the dimensionality reduction algorithm\n",
            "2024-05-25 20:10:58,903 - BERTopic - Dimensionality - Completed ✓\n",
            "2024-05-25 20:10:58,904 - BERTopic - Cluster - Start clustering the reduced embeddings\n",
            "2024-05-25 20:11:20,864 - BERTopic - Cluster - Completed ✓\n",
            "2024-05-25 20:11:20,874 - BERTopic - Representation - Extracting topics from clusters using representation models.\n",
            "2024-05-25 20:11:33,442 - BERTopic - Representation - Completed ✓\n"
          ]
        },
        {
          "output_type": "stream",
          "name": "stdout",
          "text": [
            "[['musk', 'elon', 'platform', 'accounts', 'yaccarino', 'he', 'advertising', 'ceo', 'verified', 'tweets'], ['lineker', 'bbc', 'gary', 'impartiality', 'presenter', 'guidelines', 'row', 'coverage', 'tweet', 'motd'], ['tesla', 'model', 'shanghai', 'musk', 'deliveries', 'demand', 'cut', 'ev', 'reuters', 'elon'], ['shares', 'earnings', 'expectations', 'quarter', 'analysts', 'refinitiv', 'premarket', 'estimates', 'adjusted', 'loss'], ['boeing', 'planes', 'max', 'jets', '737', 'deliveries', '787', 'reuters', 'qatar', 'fleet'], ['ai', 'chatgpt', 'bing', 'chatbot', 'search', 'software', 'openais', 'text', 'copilot', 'bard'], ['bbc', 'presenter', 'allegations', 'his', 'ms', 'brand', 'who', 'have', 'radio', 'when'], ['driver', 'driving', 'crash', 'bmw', 'incident', 'man', 'her', 'footage', 'officers', 'collision'], ['francs', 'banks', 'billion', 'suisses', 'snb', 'switzerlands', 'ubsgs', 'shareholders', 'csgns', 'rival'], ['activision', 'regulators', 'commission', 'antitrust', 'xbox', 'acquisition', 'cmas', 'eu', 'ftc', 'appeal'], ['fifa', 'world', 'infantino', 'players', 'qatar', 'women', 'messi', 'stadium', 'governing', 'and'], ['beach', 'rentals', 'homes', 'tripadvisor', 'airbnbs', 'hosts', 'hotels', 'properties', 'and', 'town'], ['fox', 'murdoch', 'carlsons', 'email', 'verifyerrors', 'defamation', '2020', 'cnn', 'donald', 'false'], ['bbc', 'loan', 'blyth', 'sharps', 'boris', 'cabinet', 'conflict', '800000', 'appointed', 'sunak'], ['indigenous', 'deforestation', 'brazils', 'rainforest', 'land', 'illegal', 'cattle', 'pereira', 'bolsonaro', 'mining'], ['bmw', 'mini', 'electric', 'euros', 'sales', 'concept', 'w12', 'vision', 'dee', 'will'], ['wizz', 'airline', 'lufthansa', 'cancelled', 'calders', 'luggage', 'to', 'customers', 'holiday', 'refunds'], ['toyota', 'hybrid', 'prius', 'battery', 'sales', 'models', 'evs', 'hilux', 'qashqai', 'nissans'], ['kayla', 'his', 'unbehaun', 'stabbed', 'holmes', 'paramedic', 'family', 'please', 'arrested', 'incident'], ['coronation', 'king', 'charles', 'show', 'bbc', 'ceremony', 'westminster', 'ant', 'concert', 'dec'], ['wwe', 'endeavor', 'ufc', 'company', 'graham', 'stephanie', 'khan', 'sale', 'flair', 'return'], ['amazons', 'layoffs', 'andy', 'cuts', 'tech', '18000', 'returntooffice', 'workforce', 'headquarters', 'drone'], ['eurovision', 'liverpool', 'muller', 'final', 'ukrainian', 'shakira', 'grand', 'songs', '2023', 'ryder'], ['mr', 'sharp', 'appointment', 'verifyerrors', 'loan', 'email', 'boris', 'mps', 'secretary', 'conflict'], ['lineker', 'bbc', 'verifyerrors', 'email', 'impartiality', 'guidelines', 'breaking', 'asylum', 'mr', 'pa'], ['esg', 'sustainability', 'axa', 'issuance', 'emissions', 'kkr', 'equity', 'organizations', 'issuers', 'deloitte'], ['target', 'pride', 'lgbtq', 'backlash', 'cornell', 'stores', 'glsen', 'boycott', 'swimsuits', 'children'], ['walmarts', 'mcmillon', 'bonobos', 'portland', 'ecommerce', 'fulfillment', 'chicago', 'homeless', 'than', 'online'], ['headset', 'vr', 'device', 'apples', 'quest', 'ar', 'augmented', 'apps', 'your', 'airpods'], ['prices', 'cent', 'milk', 'inflation', 'sainsburys', 'aldi', 'customers', 'grocery', 'tescos', '75p'], ['scored', 'saves', 'assists', 'bruins', 'leafs', 'streak', 'goaltender', 'connor', 'oilers', 'mcdavid'], ['musk', 'tweets', 'trial', 'shareholders', 'elon', 'francisco', 'teslas', '420', 'case', 'jurors'], ['micron', 'huawei', 'chinas', 'semiconductor', 'tsmc', 'export', 'memory', 'chipmaker', 'zte', '5g'], ['starbucks', 'schultz', 'employees', 'nlrb', 'senate', 'unions', 'narasimhan', 'relations', 'benefits', 'baristas'], ['mcdonalds', 'restaurants', 'menu', 'franchisees', 'mcflurry', 'cheeseburger', 'bacon', 'mayo', 'fast', 'bun'], ['licence', 'redundancy', 'nuj', 'presenters', 'bbcs', 'stations', 'channels', 'will', 'staff', 'cuts'], ['airlines', 'deltas', 'lines', 'jetblue', 'isom', 'union', 'quarter', 'pay', 'earnings', 'agreement'], ['tomatoes', 'supermarkets', 'peppers', 'cucumbers', 'tesco', 'produce', 'shortages', 'morocco', 'morrisons', 'coffey'], ['amazon', 'prime', 'ftc', 'shipping', 'rosenberg', 'ecommerce', 'monopoly', 'grocery', 'stolen', 'packages'], ['ford', 'farley', 'ev', 'jim', 'raptor', 'lightning', 'pickup', 'ebit', '2026', 'detroit'], ['discord', 'teixeira', 'documents', 'nso', 'hackers', 'pegasus', 'spyware', 'breach', 'leaked', 'passwords'], ['fox', 'defamation', 'false', 'settlement', 'dominions', 'davis', 'delaware', 'smartmatic', 'rupert', '2020'], ['podcast', 'spotifys', 'ek', 'meghan', 'miley', 'rogan', 'flowers', 'mixes', 'ostroff', 'song'], ['chanel', 'dress', 'karl', 'nicole', 'actress', 'gala', 'lagerfeld', 'blonde', 'pamela', 'red'], ['emissions', 'saf', 'climate', 'credits', 'co2', 'offsets', 'chevron', 'aviation', 'renewable', 'methane'], ['vodafone', 'valle', 'telecoms', '3g', 'stake', 'merger', 'tims', 'ck', 'o2', 'hutchison'], ['workers', 'coventry', 'gmb', 'union', 'strike', 'wage', 'rise', '50p', 'amazons', 'gearing'], ['ant', 'berkshire', 'alibaba', 'yen', 'jardine', 'shares', 'reuters', 'ipo', 'tsmc', 'jdcom'], ['turbulence', 'crew', 'incident', 'pago', 'passenger', 'runway', 'lufthansa', 'airline', 'landing', 'delta'], ['suisse', 'francs', 'greensill', 'banks', 'liquidity', 'shares', 'snb', 'koerner', 'collapse', 'reuters'], ['tesla', 'autopilot', 'selfdriving', 'fsd', 'safety', 'vehicles', 'crashes', 'recall', 'musk', 'video'], ['hamas', 'terrorist', 'antisemitism', 'jews', 'civilians', 'staff', 'attacks', 'bbcs', 'editorial', 'simpson'], ['jope', 'schumacher', 'unilevers', 'brands', 'russian', 'hellmanns', 'peltz', 'prices', 'inflation', 'mayonnaise'], ['vaccine', 'jab', 'rsv', 'covid', 'fda', 'risk', 'pfizer', 'infants', 'stroke', 'symptoms'], ['bp', 'looney', 'renewables', 'projects', '2030', 'prices', 'exxon', 'its', 'tax', 'investment'], ['gulden', 'west', 'antisemitic', 'rapper', 'brand', 'euros', 'yeezys', 'stock', 'loss', 'sneakers'], ['nadella', 'tech', 'employees', 'layoffs', 'satya', 'azure', 'cuts', 'announced', 'revenue', '11000'], ['patel', 'cliff', 'highway', 'san', 'dharmesh', 'wife', 'crash', 'injuries', 'neha', 'murder'], ['netflix', 'password', 'household', 'subscribers', 'accounts', 'devices', 'will', 'month', 'profiles', 'ip'], ['red', 'verstappen', 'f1', 'hamilton', 'ferrari', 'races', 'prix', 'bulls', 'sainz', 'pole'], ['apple', 'sales', 'quarter', 'billion', 'china', 'decline', 'analysts', 'tech', 'maestri', 'stock'], ['dover', 'delays', 'border', 'coaches', 'ferries', 'french', 'operators', 'queue', 'travellers', 'overnight'], ['mulvaney', 'nike', 'women', 'dylan', 'miss', 'athletes', 'pageant', 'swimmer', 'transgender', 'felix'], ['valley', 'svbuk', 'deposits', 'insolvency', 'banks', 'branches', 'lender', 'hsbcs', 'uks', 'startups'], ['apps', 'competition', 'antitrust', 'apples', 'patent', 'davidson', 'appeal', 'fortnite', 'platforms', 'eu'], ['tenon', 'murder', 'jared', 'fernandez', 'kirsten', 'borys', 'jacksonville', 'bridegans', 'shanna', 'twins'], ['modi', 'documentary', 'indias', 'tax', 'riots', 'gujarat', 'narendra', '2002', 'raids', 'authorities'], ['rovio', 'mario', 'yen', 'zelda', 'ubisoft', 'nintendos', 'profit', 'birds', 'playstation', 'sammy'], ['wildlife', 'packham', 'springwatch', 'series', 'attenborough', 'bbc', 'filmed', 'david', 'hamza', 'extinction'], ['nvidia', 'ai', 'huang', 'trillion', 'chipmaker', 'shares', 'demand', 'data', 'companies', 'gaming'], ['uber', 'ridehailing', 'harleydavidson', 'khosrowshahi', 'earnings', 'workers', 'ola', 'bikes', 'gig', 'expectations'], ['apple', 'foxconn', 'cook', 'manufacturing', 'delhi', 'reuters', 'modi', 'tim', 'aaplo', 'wistron'], ['suisse', 'banks', 'swiss', 'collapse', 'shares', 'silicon', 'svb', 'liquidity', 'sector', 'wednesday'], ['nhl', 'jerseys', 'tape', 'wear', 'night', 'lgbtq', 'warmup', 'ban', 'staal', 'pridethemed'], ['insulin', 'novo', 'lilly', 'wegovy', 'prices', 'loss', 'semaglutide', 'pill', 'insurance', 'trial'], ['tesla', 'selfdriving', 'crash', 'autopilot', 'batteries', 'vehicles', 'parked', 'freeway', 'fires', 'charging'], ['intels', 'gelsinger', 'billion', 'amds', 'analysts', 'sapphire', 'company', 'earnings', 'margin', 'chipmakers'], ['radio', 'bruce', 'ken', 'ogrady', 'vernon', 'popmaster', 'djs', 'ageism', 'presenter', 'feltz'], ['sainsburys', 'warburtons', 'argos', 'supermarket', 'tesco', 'partnership', 'waitroses', 'staff', 'crumpets', 'bailey'], ['epstein', 'jpmorgan', 'staley', 'trafficking', 'virgin', 'lawsuit', 'filing', 'dimon', 'financier', 'settlement'], ['tour', 'mcilroy', 'kyrgios', 'highlights', 'swing', 'raducanu', 'fritz', 'masters', 'balding', 'federer'], ['savings', 'mastercard', 'visa', 'yield', 'bnpl', 'crypto', 'rates', 'deposit', 'loans', 'apples'], ['battery', 'vw', 'ontario', 'carmaker', 'subsidies', 'ev', 'federal', 'schmall', 'ira', 'said'], ['revoluts', 'licence', 'storonsky', 'banking', 'bdo', 'salovaara', '2021', 'auditor', 'fraudsters', 'valuation'], ['harry', 'kate', 'royal', 'duchess', 'memoir', 'sussexes', 'meghans', 'documentary', 'docuseries', 'markle'], ['chargers', 'ev', 'superchargers', 'ccs', 'stations', 'teslas', 'nacs', 'adapter', 'ford', 'will'], ['ios', 'security', 'usbc', '15', 'charging', 'bug', 'button', 'icloud', 'airdrop', 'lightning'], ['aldi', 'cent', 'lidl', 'supermarkets', 'morrisons', 'prices', 'waitrose', 'average', 'than', 'inflation'], ['mcrae', 'campus', 'lansing', 'shooter', 'killed', 'berkey', 'anthony', 'verner', 'fraser', 'madi'], ['netflix', 'kaleidoscope', '1899', 'heist', 'episode', 'stranger', 'shows', 'order', 'knives', 'novel'], ['attendant', 'airlines', 'she', 'passenger', 'croizat', 'crew', 'harris', 'pilot', 'incident', 'miles'], ['coinbase', 'securities', 'changpeng', 'ftx', 'unregistered', 'regulator', 'alleged', 'coley', 'platform', 'binancecom'], ['cohosh', 'merck', 'mifepristone', 'supplements', 'abortion', 'herb', 'menopause', 'prescription', 'tablets', 'pfizer'], ['brady', 'season', 'retirement', 'bucs', 'purdy', 'he', 'draft', 'sand', 'yards', 'ravens'], ['netflix', 'subscribers', 'disney', 'adsupported', 'tier', 'password', '2022', 'its', 'sarandos', 'revenue'], ['nunes', 'gift', 'his', 'childcare', 'dropshipping', 'donaldson', 'bones', 'marion', 'eileen', 'grandfathers'], ['mcdonalds', 'staff', 'shepherd', 'macrow', 'counter', 'cindi', 'order', 'she', 'harassed', 'fastfood'], ['pfizer', 'vaccines', 'moderna', 'bourla', 'covid19', 'doses', 'research', 'children', 'rsv', 'antiviral'], ['mccarthy', 'committee', 'biden', 'swalwell', 'omar', 'schiff', 'classified', 'leak', 'documents', 'fbi'], ['ioc', 'belarus', 'compete', 'olympics', 'rodchenkov', 'doping', 'neutrals', 'ban', 'russians', 'fogel'], ['at1', 'bondholders', 'swiss', 'ubs', 'shareholders', 'wiped', 'regulator', 'losses', 'banking', 'suisses'], ['wells', 'fargo', 'jpmorgan', 'banks', 'scharf', 'losses', 'chase', 'borrowers', 'provision', 'earnings'], ['aviva', 'blanc', 'cbi', 'insurer', 'amanda', 'pension', 'cigna', 'per', 'claim', 'pet'], ['morant', 'shoe', 'khloe', 'ja', 'lebron', 'nikes', 'durant', 'grizzlies', 'jordans', 'bulls'], ['lithium', 'batteries', 'ford', 'lfp', 'energyx', 'ev', 'mitra', 'motors', 'nickel', 'build'], ['tesla', 'diaz', 'damages', 'discrimination', 'fremont', 'complaint', 'punitive', 'orrick', 'arbitration', 'judge'], ['allianz', 'euros', 'deutsches', 'billion', 'n26', 'reuters', 'sewing', 'commerzbank', 'investment', 'quarter'], ['inflation', 'grocery', 'organic', 'sales', 'nestl', 'edt', 'pepsi', 'olipop', 'schneider', 'bunge'], ['asda', 'petrol', 'issa', 'tdr', 'ulez', 'supermarket', 'merger', 'debt', 'gmb', 'blackburn'], ['mustang', 'ev', 'explorer', 'credits', 'vehicles', '7500', 'tax', 'tesla', 'will', 'range'], ['jim', 'nasdaq', 'chart', 'stocks', 'dow', 'indexes', 'waits', 'cnbc', 'cramers', 'disclaimer'], ['downdetector', 'app', '5g', 'outages', 'vodafone', 'issues', 'rural', 'connectivity', 'forecasts', 'azure'], ['bp', 'relationships', 'looneys', 'auchincloss', 'executive', 'gas', 'hurst', 'murray', 'bonuses', 'helge'], ['brent', 'chevrons', 'barrels', 'cvxn', 'exxon', '2022', 'totalenergies', 'output', 'buybacks', 'profits'], ['hsbc', 'hong', 'ping', 'quinn', 'shareholder', 'dividends', 'hsbal', 'split', 'bno', 'rates'], ['republic', 'banks', 'first', 'jpmorgan', 'stock', 'bancorp', 'upgraded', 'silicon', 'crisis', 'edt'], ['jungle', 'children', 'search', 'colombian', 'rescue', 'saudi', 'petro', 'skvarla', 'acosta', 'species'], ['carillion', 'deloitte', 'audits', 'financial', 'joules', 'kpmgs', 'eys', 'failings', 'partners', 'regulator'], ['asos', 'cent', 'evidian', 'frasers', 'shares', 'calamonte', 'airbus', 'retailer', 'ftse', 'fastfashion'], ['we', 'scared', 'history', 'teller', 'seemed', 'table', 'sanitised', 'steelmakers', 'explosions', 'nervousness'], ['suspect', 'paso', 'officers', 'gunman', 'jones', 'walmart', 'killed', 'nebraska', 'incident', 'truck'], ['starbucks', 'ice', 'reusable', 'stores', 'beverages', 'frappuccino', 'cuba', 'samestore', 'macadamia', 'cents'], ['inflation', 'rate', 'economist', 'hike', 'banks', 'nigel', 'ecbs', 'points', 'forecast', 'basis'], ['clubcard', 'vouchers', 'tesco', 'points', 'customers', 'rewards', 'verifyerrors', 'expire', 'scheme', 'will'], ['uefa', 'supporters', 'liverpool', 'final', 'french', 'should', 'stade', 'safety', 'review', 'authorities'], ['tata', 'talbot', 'furnaces', 'steelworks', 'infosys', 'blast', 'teesside', 'industry', 'uk', 'greener'], ['higgins', 'shamima', 'podcast', 'rape', 'syrian', 'begums', 'sultana', 'fled', 'amira', 'lehrmanns'], ['ring', 'alexa', 'ftc', 'kindle', 'privacy', 'recordings', 'amazons', 'children', 'complaint', 'geolocation'], ['volvo', 'xc60', 'electric', 'diesel', 'models', 'ex30', 'seats', 'range', 'mpv', 'newman'], ['times', 'letter', 'york', 'transgender', 'rowling', 'kahn', 'newspaper', 'writers', 'advocacy', 'staff'], ['solomon', '3200', 'banking', 'layoffs', 'cuts', 'workforce', 'goldmans', 'bonuses', 'headcount', 'sources'], ['mexico', 'corn', 'nuevo', 'tesla', 'gm', 'andres', 'obradors', 'permits', 'nava', 'imports'], ['kia', 'thefts', 'owners', 'immobilizers', 'antitheft', 'automakers', 'tiktok', 'usb', 'models', 'santa'], ['eni', 'oil', 'russian', 'reuters', 'vitol', 'refinery', 'rosneft', 'libyas', 'products', 'milan'], ['samsung', 'memory', 'won', 'chips', 'quarter', 'hynix', 'semiconductor', 'investment', '000660ks', 'seoul'], ['concert', 'proms', 'bbcs', 'choirs', 'ensembles', 'philharmonic', 'composers', 'coronation', 'funding', 'catharsis'], ['s23', 'smartphone', 'foldable', 'ultra', 'moon', 'oppo', 'display', 'pixel', 'photos', 'xiaomi'], ['paxlovid', 'patients', 'pfizer', 'covid19', 'antiviral', 'molnupiravir', 'nmpa', 'huahai', 'mrna', 'highrisk'], ['tsmc', 'lenovo', 'revenue', 'forecast', 'bln', 'taiwan', 'chipmaker', 'inventory', 'decline', 'logitech'], ['tiktok', 'bytedance', 'chinese', 'security', 'app', 'bennet', 'ban', 'shou', 'wechat', 'devices'], ['amgen', 'patents', 'horizons', 'therapeutics', 'bayer', 'cholesterol', 'lawsuit', 'sanofi', 'antitrust', 'ftcs'], ['goldman', 'solomon', 'marcus', 'billion', 'consumer', 'solutions', 'greensky', 'loans', 'gsn', 'wall'], ['desantis', 'presidential', 'florida', 'ron', 'event', '2024', 'verifyerrors', 'musk', 'sacks', 'enter'], ['bayers', 'monsanto', 'bluebell', 'werner', 'reuters', 'ubben', 'sandoz', 'billion', 'manns', 'takeover'], ['netflix', 'creepy', 'thriller', 'scariest', 'marianne', 'nightmares', 'scared', 'haunting', 'viewer', 'ichthyosis'], ['bolt', 'chevrolet', 'escalade', 'evs', 'gms', 'motors', 'allelectric', 'hummer', 'orion', 'battery'], ['easter', 'opening', 'store', 'westfield', '10pm', 'coronation', 'tesco', 'vary', 'weekend', 'sainsburys'], ['channel', 'allegations', 'russell', 'rumble', 'spotify', 'video', 'comedian', 'barb', 'she', 'suspended'], ['sap', 'ibm', 'billion', 'revenue', 'googles', 'samsung', 'pichai', 'qualtrics', 'disability', 'analysts'], ['boohoos', 'lyttle', 'leicester', 'bosses', 'levitt', 'retailer', 'scheme', 'ratcliffe', 'remuneration', 'payouts'], ['inflators', 'airbag', 'arc', 'nhtsa', 'recalled', 'suvs', 'affected', 'lincoln', 'mkc', 'safety'], ['aws', 'growth', 'tax', 'billion', 'advertising', 'streetaccount', 'andy', 'fourth', 'earnings', 'microsoft'], ['scale', 'cleaner', 'specialbuy', 'balm', 'shoppers', 'products', 'aldis', 'dehumidifier', 'bag', 'portable'], ['fulfilment', 'gourock', 'hemel', 'hempstead', 'jobs', 'doncaster', 'warehouses', 'consultations', 'offered', 'transfer'], ['europe', 'jobs', 'sander', 'cuts', 'fords', 'dunton', 'carmaker', 'vans', 'will', 'dagenham'], ['princess', 'royal', 'pip', 'kate', 'meg', 'rufus', 'netflix', 'havisham', 'mcalister', 'chopra'], ['nike', 'kangaroo', 'jordan', 'donahoe', 'sneakers', 'lululemon', 'inventory', 'chargefeel', 'puma', 'brand'], ['suisse', 'swiss', 'accounts', 'banks', 'ubs', 'tax', 'takeover', 'whistleblowers', 'prosecutor', 'report'], ['mian', 'ferreras', 'netflix', 'obsession', 'paris', 'audrey', 'dog', 'belliard', 'italian', 'gunthers'], ['nissan', 'alliance', 'renaults', 'ghosn', 'stake', 'ampere', 'reuters', 'renapa', '7201t', 'companies'], ['drilling', 'indigenous', 'petrobras', 'yasun', 'environmental', 'crude', 'ecuadorians', 'block', 'quito', 'fossil'], ['clothing', 'spencer', 'fullline', 'mss', 'homeware', 'opening', 'sq', 'retailer', 'brands', 'sites'], ['merck', 'sales', 'astrazeneca', 'molnupiravir', 'oncology', 'baxdrostat', 'medicines', 'novartis', 'trial', 'hypertension'], ['warehouse', 'osha', 'kopp', 'brocks', 'bereavement', 'quotas', 'hazards', 'fulfillment', 'bakersfield', 'employee'], ['tesla', 'cameras', 'privacy', 'labelers', 'data', 'exemployees', 'garage', 'spy', 'mode', 'san'], ['migrants', 'channel', 'dover', 'boat', 'crossed', 'illegal', 'seekers', 'arriving', 'braverman', '45728'], ['apple', 'cooks', 'compensation', 'tim', 'shareholder', 'tamika', 'million', 'awards', 'employees', 'annual'], ['uniform', 'airline', 'crew', 'prada', 'designer', 'boateng', 'garments', 'bas', 'axiom', 'suits'], ['percent', 'lyft', 'workforce', 'layoffs', 'intel', 'cuts', 'zuckerberg', 'mornings', 'would', '11000'], ['lvmh', 'luxury', 'vuitton', 'richest', 'bernard', 'worlds', 'arnaults', 'worth', 'hennessy', 'delphine'], ['smith', 'chris', 'jada', 'slap', 'rocks', 'comedian', 'outrage', 'awards', 'pinkettsmiths', 'standup'], ['hastings', 'netflix', 'coceo', 'reed', 'yoon', 'subscriber', 'barbershop', 'company', 'chief', 'adsupported'], ['hyundai', 'ioniq', 'ev', 'georgia', 'wheels', 'pronunciation', '2025', 'chung', 'degrees', 'mobis'], ['pro', 'repair', 'g22', 'nokia', 'camera', 'battery', 'hmd', 'iphones', 'ifixit', 'karen'], ['farm', 'clarksons', 'meghan', 'jeremy', 'council', 'oxfordshire', 'itv', 'millionaire', 'kaleb', 'apology'], ['zoox', 'cruisers', 'equipment', 'driverless', 'hindman', 'impacted', 'farmers', 'brightdrop', 'robotaxis', 'commercial'], ['trademark', 'adidas', 'threestripe', 'lives', 'stripes', 'design', 'brownes', 'herms', 'bracelets', 'nfts'], ['containers', 'tupperwares', 'plastic', '1950s', 'brownie', 'rubbermaid', 'lid', 'pyrex', 'brands', 'boxes'], ['toyoda', 'lexus', 'koji', 'nidec', 'chairman', 'seki', 'mazda', '7203t', 'timing', 'automakers'], ['leggings', 'underwear', 'comfortable', 'fleece', 'hoodie', 'flattering', 'bralette', 'cotton', 'tummy', 'thermal'], ['musk', 'headquarters', 'teslas', 'palo', 'elon', 'austin', 'ceo', 'podesta', 'reuters', 'gavin'], ['verizon', 'tmobile', 'atts', 'dish', 'ttc', 'postpaid', 'rogers', 'telecom', 'tn', '5g'], ['suisse', 'sec', 'outflows', 'swiss', 'bank', 'report', 'revisions', 'weaknesses', '2022', 'lehmann'], ['gm', 'buyouts', 'jacobson', 'salaried', 'barra', 'motors', 'attrition', 'layoffs', 'costs', 'pretax'], ['allan', 'tesco', 'cbi', 'allegations', 'barratt', 'conduct', 'complaints', 'chairman', 'grote', 'apologised'], ['max', '737', 'crashes', 'victims', 'ethiopian', 'oconnor', 'relatives', 'airlines', 'arraignment', 'grounded'], ['cleopatra', 'african', 'netflix', 'blackwashing', 'casting', 'dynasty', 'antiquities', 'documentary', 'gharavi', 'macedoniangreek'], ['fcpa', 'ericsson', 'doj', 'bribery', 'compliance', 'whistleblower', 'plea', 'antibribery', '1mdb', 'investigation'], ['paramount', 'streaming', 'park', 'bakish', 'disney', 'jiocinema', 'revenue', 'increase', 'pluto', 'aronson'], ['soriot', 'tax', 'pascal', 'pharma', 'trials', 'companies', 'nhs', 'astrazenecas', 'discouraging', 'cancer'], ['missile', 'frigates', 'submarines', 'insulation', 'navy', 'russias', 'rockwools', 'poseidon', 'mks', 'gorshkov'], ['jj', 'talc', 'ltl', 'subsidiary', 'lawsuits', 'filing', 'asbestos', 'settlement', 'proposed', '3m'], ['wojcicki', 'mohan', 'youtubes', 'susan', 'stepping', 'platform', 'tap', 'ceo', 'sergey', 'advertising'], ['tinto', 'radiation', 'mining', 'site', 'alumina', 'ore', 'rios', 'copper', 'shelters', 'aboriginal'], ['ai', 'aws', 'amazon', 'alexa', 'cloud', 'bedrock', 'customer', 'businesses', 'dialogue', 'weve'], ['bestway', 'sainsburys', 'pharmacy', 'costcutter', 'wholesaler', 'choudrey', 'lloyds', 'supermarket', 'chain', 'takeover'], ['nasdaq', 'inflation', 'dow', 'schumacher', 'highs', 'hikes', 'indexes', 'traders', 'spx', 'federal'], ['olive', 'oleato', 'starbucks', 'espresso', 'caffeine', 'iced', 'latte', 'oat', 'calories', 'extra'], ['pro', 'keyboard', 'macbook', 'mini', 'ergonomic', 'surface', 'steinhoff', 'm1', 'intel', 'ssd'], ['wiper', 'campers', 'prototype', 'musk', 'truck', 'cybertrucks', 'windshield', 'entop', 'teslas', '2019'], ['biden', 'conferences', 'press', 'capitol', 'editorial', 'manchin', 'birthday', 'email', 'trumps', 'verifyerrors'], ['radiation', 'airtags', 'devices', 'kilogram', 'tracking', 'electromagnetic', 'magnets', 'implanted', 'frances', 'pacemaker'], ['volkswagen', 'xinjiang', 'carmaker', 'labour', 'vowgpde', 'chinas', 'steg', 'waldersee', 'abuses', 'germany'], ['curbside', 'theft', 'fiscal', 'depot', 'targets', 'retail', 'grocery', 'shrink', 'cornell', 'returns'], ['bluecruise', 'ford', 'system', 'patent', 'lane', 'handsfree', 'steering', 'repossess', 'selfdriving', 'feature'], ['flintoff', 'gear', 'freddie', 'filming', 'accident', 'aerodrome', 'resume', 'mcguinness', 'paddy', 'bbc'], ['nvidia', 'huang', 'artificial', 'recursion', 'software', 'chip', 'a100s', 'computex', 'cloud', 'graphics'], ['aldi', 'checkouts', 'groceries', 'selfserve', 'registers', 'shoppers', 'scanning', 'shoplifting', 'barcodes', 'staffed'], ['elliott', 'benioff', 'dreamforce', 'loeb', 'starboard', 'valueact', 'cohn', 'hedge', 'herbstbayliss', 'investors'], ['gender', 'goldman', 'bst', 'dell', 'eurozone', 'employers', 'settlement', 'average', 'banks', 'gaps'], ['230', 'content', 'justices', 'act', 'pornhub', 'gonzalez', 'liable', 'case', 'terrorism', 'victims'], ['rugby', 'premiership', 'externallink', 'be', 'sharks', 'own', 'gloucester', 'itv', 'would', '202425']]\n",
            "50\n",
            "0.98\n",
            "100\n",
            "0.99\n",
            "150\n",
            "0.9933333333333333\n",
            "200\n",
            "0.995\n",
            "Diversity_mmr 0.5 Diversity overall 0.7886792452830189 Mean diversity per topics 1.0\n"
          ]
        }
      ]
    },
    {
      "cell_type": "code",
      "source": [
        "measure_topic_diversities(diversity_mmr=0.2)"
      ],
      "metadata": {
        "colab": {
          "base_uri": "https://localhost:8080/",
          "height": 397,
          "referenced_widgets": [
            "bc78b8e2e4864c4980d321151af10e88",
            "e4063bd2a4704026a475ece33cb30264",
            "56bec94796464bcbb69c8f1fc893f243",
            "d98fbb5aeeb747abba70bc1f5dd8e884",
            "98bbd958184c46d885e6a5de851eb0c9",
            "77cad8d2dcae43d9a54e95525ba3fc01",
            "236ca874aa5f40c5a291568f90b1a0d1",
            "42d803d82ceb4274a1f5ba89af69f100",
            "3b44223212354338bde574f21516d09d",
            "6fccbff3a11d4d94b3f18d68ded027ff",
            "d5be4d9f73dc42a69991ceac49486f93"
          ]
        },
        "id": "ZON6VzvmVsKq",
        "outputId": "1884e111-e02d-4bff-ba7c-9d4b7fd2158b"
      },
      "execution_count": 52,
      "outputs": [
        {
          "output_type": "stream",
          "name": "stderr",
          "text": [
            "2024-05-25 20:11:41,874 - BERTopic - Embedding - Transforming documents to embeddings.\n"
          ]
        },
        {
          "output_type": "display_data",
          "data": {
            "text/plain": [
              "Batches:   0%|          | 0/335 [00:00<?, ?it/s]"
            ],
            "application/vnd.jupyter.widget-view+json": {
              "version_major": 2,
              "version_minor": 0,
              "model_id": "bc78b8e2e4864c4980d321151af10e88"
            }
          },
          "metadata": {}
        },
        {
          "output_type": "stream",
          "name": "stderr",
          "text": [
            "2024-05-25 20:12:32,243 - BERTopic - Embedding - Completed ✓\n",
            "2024-05-25 20:12:32,245 - BERTopic - Dimensionality - Fitting the dimensionality reduction algorithm\n",
            "2024-05-25 20:12:44,889 - BERTopic - Dimensionality - Completed ✓\n",
            "2024-05-25 20:12:44,891 - BERTopic - Cluster - Start clustering the reduced embeddings\n",
            "2024-05-25 20:13:07,040 - BERTopic - Cluster - Completed ✓\n",
            "2024-05-25 20:13:07,051 - BERTopic - Representation - Extracting topics from clusters using representation models.\n",
            "2024-05-25 20:13:19,043 - BERTopic - Representation - Completed ✓\n"
          ]
        },
        {
          "output_type": "stream",
          "name": "stdout",
          "text": [
            "[['twitter', 'musk', 'twitters', 'musks', 'accounts', 'yaccarino', 'ceo', 'tweet', 'advertisers', 'tweets'], ['lineker', 'bbc', 'gary', 'impartiality', 'linekers', 'presenter', 'presenters', 'broadcaster', 'tweet', 'motd'], ['tesla', 'teslas', 'cars', 'prices', 'shanghai', 'musk', 'demand', 'ev', 'reuters', 'chinese'], ['shares', 'earnings', 'revenue', 'stock', 'expectations', 'quarter', 'analysts', 'premarket', 'estimates', 'loss'], ['boeing', 'airbus', 'planes', '737', '747', 'airlines', 'boeings', 'airline', 'airplanes', 'qatar'], ['ai', 'chatgpt', 'bing', 'openai', 'chatbot', 'microsofts', 'software', 'text', 'copilot', 'chat'], ['bbc', 'presenter', 'her', 'allegations', 'his', 'ms', 'brand', 'who', 'radio', 'about'], ['car', 'police', 'driver', 'driving', 'road', 'crash', 'bmw', 'incident', 'footage', 'audi'], ['ubs', 'suisse', 'swiss', 'banks', 'suisses', 'takeover', 'banking', 'financial', 'snb', 'shareholders'], ['activision', 'microsoft', 'regulators', 'commission', 'antitrust', 'xbox', 'acquisition', 'cmas', 'merger', 'appeal'], ['fifa', 'infantino', 'tournament', 'players', 'fifas', 'qatar', 'women', 'messi', 'soccer', 'governing'], ['airbnb', 'beach', 'rental', 'rentals', 'housing', 'homes', 'airbnbs', 'hotels', 'town', 'rent'], ['fox', 'carlson', 'murdoch', 'carlsons', 'defamation', 'claims', 'trumps', 'foxs', 'cnn', 'false'], ['appointments', 'minister', 'sharps', 'chairman', 'boris', 'cabinet', 'committee', 'secretary', 'appointed', 'sunak'], ['indigenous', 'deforestation', 'forest', 'brazil', 'environmental', 'rainforest', 'land', 'brazilian', 'cattle', 'trees'], ['bmw', 'car', 'bentley', 'cars', 'euros', 'porsche', 'bmws', 'vehicles', 'ferrari', 'w12'], ['wizz', 'flights', 'airline', 'airport', 'airlines', 'lufthansa', 'cancelled', 'carrier', 'luggage', 'refunds'], ['toyota', 'nissan', 'vehicles', 'hybrid', 'prius', 'toyotas', 'renault', 'hybrids', 'ev', 'nissans'], ['her', 'police', 'kayla', 'unbehaun', 'stabbed', 'court', 'murder', 'holmes', 'arrested', 'incident'], ['coronation', 'charles', 'abbey', 'royal', 'bbc', 'itv', 'westminster', 'concert', 'dec', 'wales'], ['wwe', 'mcmahon', 'wrestling', 'vince', 'wrestlemania', 'ufc', 'mcmahons', 'wwes', 'championship', 'wrestler'], ['amazons', 'employees', 'layoffs', 'office', 'workers', 'tech', 'companys', 'jobs', 'workforce', 'headquarters'], ['eurovision', 'contest', 'liverpool', 'muller', 'ukraine', 'final', 'singer', 'shakira', 'songs', 'stage'], ['mr', 'appointment', 'verifyerrors', 'minister', 'chairman', 'appointments', 'sharps', 'boris', 'mps', 'secretary'], ['lineker', 'bbc', 'verifyerrors', 'email', 'impartiality', 'gary', 'guidelines', 'asylum', 'mr', 'presenter'], ['esg', 'sustainability', 'sustainable', 'axa', 'emissions', 'equity', 'organizations', 'issuers', 'environmental', 'deloitte'], ['target', 'pride', 'lgbtq', 'backlash', 'cornell', 'transgender', 'stores', 'boycott', 'swimsuits', 'products'], ['walmart', 'stores', 'walmarts', 'mcmillon', 'bonobos', 'portland', 'retail', 'retailer', 'chicago', 'citys'], ['headset', 'vr', 'virtual', 'device', 'vision', 'iphone', 'augmented', 'headsets', 'apps', 'airpods'], ['tesco', 'prices', 'cent', 'inflation', 'sainsburys', 'supermarket', 'supermarkets', 'tescos', '75p', 'costs'], ['scored', 'assists', 'nhl', 'bruins', 'leafs', 'goalie', 'goaltender', 'edmonton', 'oilers', 'mcdavid'], ['musk', 'musks', 'jury', 'trial', 'shareholders', 'court', 'tweet', 'elon', 'teslas', 'jurors'], ['chips', 'china', 'huawei', 'chinas', 'chinese', 'taiwan', 'beijing', 'manufacturing', 'chipmaker', '5g'], ['starbucks', 'union', 'schultz', 'coffee', 'employees', 'bargaining', 'unionization', 'unions', 'benefits', 'baristas'], ['mcdonalds', 'burger', 'restaurants', 'chicken', 'restaurant', 'franchisees', 'mcflurry', 'cheeseburger', 'mayo', 'burgers'], ['bbc', 'radio', 'licence', 'nuj', 'presenters', 'bbcs', 'journalists', 'stations', 'channels', 'broadcaster'], ['pilots', 'airlines', 'delta', 'airline', 'contract', 'deltas', 'carriers', 'flights', 'union', 'earnings'], ['tomatoes', 'supermarkets', 'peppers', 'cucumbers', 'tesco', 'vegetables', 'fruit', 'produce', 'shortages', 'supermarket'], ['amazon', 'amazons', 'prime', 'ftc', 'delivery', 'customers', 'marketplace', 'goods', 'ecommerce', 'grocery'], ['ford', 'fords', 'ev', 'truck', 'vehicles', 'automaker', 'trucks', 'automakers', 'battery', 'detroit'], ['cyber', 'discord', 'nso', 'hackers', 'security', 'spyware', 'breach', 'accounts', 'leaked', 'passwords'], ['fox', 'defamation', 'murdoch', 'claims', 'dominions', 'lawsuit', 'delaware', 'judge', 'rupert', '2020'], ['spotify', 'music', 'podcast', 'spotifys', 'songs', 'miley', 'podcasts', 'ostroff', 'podcasting', 'meghans'], ['chanel', 'anna', 'dress', 'karl', 'nicole', 'actress', 'gala', 'lagerfeld', 'pink', 'pamela'], ['carbon', 'emissions', 'saf', 'climate', 'credits', 'co2', 'fuels', 'renewable', 'methane', 'sustainability'], ['vodafone', 'vodafones', '3g', 'mobile', 'stake', 'merger', 'tims', 'ck', 'telecom', 'hutchison'], ['workers', 'coventry', 'gmb', 'union', 'strike', 'warehouse', 'labor', 'wage', 'employees', 'amazons'], ['ant', 'berkshire', 'alibaba', 'yen', 'jardine', 'shares', 'reuters', 'jip', 'jdcom', 'investors'], ['flight', 'airport', 'passengers', 'airlines', 'turbulence', 'lufthansa', 'airline', 'delta', 'aviation', 'pilots'], ['bank', 'suisses', 'banks', 'lender', 'financial', 'snb', 'banking', 'investors', 'collapse', 'reuters'], ['tesla', 'autopilot', 'nhtsa', 'driver', 'fsd', 'vehicles', 'steering', 'crash', 'driving', 'recall'], ['hamas', 'terrorist', 'terrorists', 'gaza', 'antisemitism', 'israeli', 'jews', 'civilians', 'palestinian', 'terrorism'], ['unilevers', 'jerrys', 'brands', 'russian', 'hellmanns', 'goods', 'peltz', 'prices', 'products', 'sales'], ['vaccine', 'rsv', 'covid', 'fda', 'vaccines', 'vaccination', 'virus', 'pfizer', 'stroke', 'jabs'], ['bp', 'renewables', 'profits', 'emissions', '2030', 'prices', 'exxon', 'tax', 'fuel', 'investment'], ['adidas', 'yeezy', 'gulden', 'kanye', 'shoes', 'sportswear', 'wests', 'yeezys', 'stock', 'sneakers'], ['microsofts', 'employees', 'cloud', 'layoffs', 'jobs', 'workforce', 'satya', 'azure', 'companies', 'revenue'], ['patel', 'cliff', 'highway', 'wife', 'mateo', 'crash', 'injuries', 'patels', 'neha', 'rescue'], ['netflix', 'password', 'streaming', 'users', 'netflixs', 'subscribers', 'accounts', 'subscription', 'profiles', 'ip'], ['red', 'verstappen', 'f1', 'hamilton', 'ferrari', 'prix', 'andretti', 'racing', 'championship', 'driver'], ['apple', 'iphone', 'apples', 'sales', 'billion', 'decline', 'analysts', 'investors', 'iphones', 'stock'], ['port', 'dover', 'delays', 'border', 'coaches', 'ferry', 'queues', 'ferries', 'queue', 'travellers'], ['mulvaney', 'nike', 'women', 'dylan', 'sports', 'female', 'athletes', 'swimmer', 'nikes', 'transgender'], ['hsbc', 'svb', 'bank', 'banking', 'banks', 'branches', 'depositors', 'hsbcs', 'uks', 'startups'], ['apple', 'app', 'apps', 'court', 'antitrust', 'patent', 'appeal', 'fortnite', 'platforms', 'appeals'], ['bridegan', 'tenon', 'murder', 'jared', 'fernandez', 'exwife', 'kirsten', 'borys', 'jacksonville', 'bridegans'], ['modi', 'documentary', 'indias', 'delhi', 'riots', 'modis', 'gujarat', 'hindu', 'mumbai', 'authorities'], ['nintendo', 'games', 'mario', 'sega', 'yen', 'zelda', 'ubisoft', 'nintendos', 'playstation', 'revenue'], ['wildlife', 'packham', 'animals', 'nature', 'attenborough', 'bbc', 'autumnwatch', 'extinction', 'zoo', 'documentary'], ['nvidia', 'ai', 'nvidias', 'gpus', 'chipmaker', 'data', 'revenue', 'market', 'companies', 'gaming'], ['uber', 'ubers', 'taxi', 'ridehailing', 'harleydavidson', 'lyft', 'revenue', 'earnings', 'taxis', 'bikes'], ['apple', 'foxconn', 'iphones', 'manufacturing', 'indias', 'iphone', 'delhi', 'reuters', 'electronics', 'market'], ['banks', 'swiss', 'collapse', 'banking', 'markets', 'suisses', 'svb', 'liquidity', 'lender', 'investors'], ['pride', 'nhl', 'jerseys', 'tape', 'hockey', 'wear', 'bettman', 'lgbtq', 'warmup', 'ban'], ['insulin', 'novo', 'obesity', 'prices', 'lillys', 'loss', 'pill', 'nordisks', 'insurance', 'vial'], ['tesla', 'car', 'vehicle', 'teslas', 'batteries', 'vehicles', 'parked', 'driving', 'freeway', 'fires'], ['intel', 'intels', 'amd', 'amds', 'analysts', 'dividend', 'company', 'earnings', 'processors', 'chipmakers'], ['radio', 'bruce', 'ken', 'listeners', 'bbc', 'station', 'ogrady', 'djs', 'presenters', 'presenter'], ['sainsburys', 'warburtons', 'supermarket', 'tesco', 'customers', 'waitroses', 'stores', 'crumpets', 'supermarkets', 'retail'], ['epstein', 'jpmorgan', 'epsteins', 'staley', 'trafficking', 'virgin', 'jeffrey', 'lawsuit', 'financier', 'settlement'], ['tennis', 'wimbledon', 'pga', 'kyrgios', 'tournament', 'djokovic', 'highlights', 'swing', 'fritz', 'federer'], ['savings', 'card', 'mastercard', 'fees', 'payments', 'banks', 'rates', 'deposit', 'interest', 'debit'], ['volkswagen', 'battery', 'stellantis', 'ontario', 'volkswagens', 'carmaker', 'subsidies', 'ev', 'windsor', 'federal'], ['revoluts', 'licence', 'banking', 'fintech', 'accounts', 'fraud', 'auditor', 'fraudsters', 'bank', 'valuation'], ['harry', 'prince', 'harrys', 'kate', 'royal', 'duchess', 'memoir', 'sussexes', 'meghans', 'princess'], ['chargers', 'tesla', 'supercharger', 'superchargers', 'ccs', 'evs', 'teslas', 'charger', 'nacs', 'ford'], ['iphone', 'ios', 'update', 'usbc', 'charging', 'bug', 'iphones', 'icloud', 'airdrop', 'lightning'], ['aldi', 'stores', 'cent', 'supermarket', 'shoppers', 'supermarkets', 'morrisons', 'prices', 'shopping', 'inflation'], ['mcrae', 'msu', 'shooting', 'campus', 'students', 'lansing', 'shooter', 'verner', 'fraser', 'madi'], ['netflix', 'kaleidoscope', 'films', 'heist', 'netflixs', 'stranger', 'shows', 'viewers', 'episodes', 'knives'], ['flight', 'attendant', 'airlines', 'airline', 'crew', 'harris', 'pilot', 'incident', 'passengers', 'flights'], ['binance', 'crypto', 'exchange', 'coinbase', 'binanceus', 'securities', 'binances', 'cftc', 'coley', 'binancecom'], ['cohosh', 'mifepristone', 'fda', 'supplements', 'herb', 'menopause', 'prescription', 'tablets', 'medicines', 'pfizer'], ['brady', 'nfl', 'bradys', 'quarterback', 'tom', 'retirement', 'rodgers', 'ravens', 'quarterbacks', 'buccaneers'], ['netflix', 'subscribers', 'streaming', 'disney', 'netflixs', 'tv', 'subscription', '2022', 'hulu', 'revenue'], ['her', 'nunes', 'gift', 'items', 'childcare', 'bones', 'marion', 'selling', 'eileen', 'grandfathers'], ['mcdonalds', 'restaurant', 'staff', 'harassment', 'worker', 'her', 'customer', 'manager', 'harassed', 'fastfood'], ['pfizer', 'vaccine', 'vaccines', 'covid', 'covid19', 'vaccinated', 'rsv', 'shots', 'pandemic', 'antiviral'], ['mccarthy', 'committee', 'schiff', 'republicans', 'classified', 'leak', 'documents', 'committees', 'fbi', 'congress'], ['athletes', 'olympic', 'belarus', 'ukraine', 'olympics', 'competitions', 'doping', 'russias', 'russians', 'iocs'], ['bonds', 'bondholders', 'swiss', 'debt', 'ubs', 'at1s', 'banks', 'shareholders', 'bond', 'suisses'], ['wells', 'jpmorgan', 'banks', 'banking', 'loans', 'losses', 'chase', 'fargos', 'bankers', 'earnings'], ['aviva', 'blanc', 'cbi', 'insurance', 'insurer', 'avivas', 'pension', 'insurers', 'cigna', 'claim'], ['nike', 'basketball', 'shoe', 'shoes', 'lebron', 'nikes', 'durant', 'lakers', 'jordans', 'bulls'], ['lithium', 'battery', 'batteries', 'ford', 'energyx', 'ev', 'motors', 'automakers', 'nickel', 'build'], ['tesla', 'diaz', 'damages', 'discrimination', 'fremont', 'harassment', 'complaint', 'lawsuit', 'arbitration', 'judge'], ['allianz', 'bank', 'euros', 'deutsches', 'banks', 'banking', 'reuters', 'commerzbank', 'allianzs', 'market'], ['nestle', 'pepsico', 'prices', 'inflation', 'grocery', 'organic', 'pepsi', 'revenue', 'brands', 'sodas'], ['asda', 'petrol', 'issa', 'asdas', 'ulez', 'supermarket', 'merger', 'gmb', 'blackburn', 'business'], ['ford', 'mustang', 'ev', 'credits', 'vehicles', 'prices', 'vehicle', 'suv', 'tesla', 'evs'], ['cramer', 'nasdaq', 'chart', 'stocks', 'dow', 'shares', 'indexes', 'waits', 'cnbc', 'cramers'], ['outage', 'broadband', '5g', 'outages', 'vodafone', 'issues', 'rural', 'mobile', 'cloud', 'azure'], ['looney', 'bp', 'looneys', 'executive', 'gas', 'hurst', 'murray', 'bonuses', 'helge', 'married'], ['oil', 'chevron', 'gas', 'brent', 'chevrons', 'opec', 'barrels', 'exxon', 'profits', 'profit'], ['hsbc', 'hong', 'hsbcs', 'shareholder', 'dividends', 'shareholders', 'dividend', 'hsbal', 'split', 'bno'], ['bank', 'banks', 'deposits', 'jpmorgan', 'lenders', 'bancorp', 'banking', 'edt', 'loans', 'investors'], ['jungle', 'children', 'colombian', 'insect', 'rescue', 'nepali', 'saudi', 'missing', 'species', 'indigenous'], ['audit', 'deloitte', 'audits', 'accounting', 'kpmgs', 'eys', 'failings', 'auditing', 'auditor', 'firms'], ['asos', 'atos', 'cent', 'frasers', 'shares', 'calamonte', 'trendyol', 'fastfashion', 'stock', 'shareholders'], ['we', 'scared', 'history', 'seemed', 'happening', 'sanitised', 'steelmakers', 'pupil', 'explosions', 'nervousness'], ['shooting', 'suspect', 'paso', 'officers', 'gun', 'gunman', 'jones', 'walmart', 'nebraska', 'shooter'], ['starbucks', 'coffee', 'reusable', 'stores', 'beverages', 'frappuccino', 'cuba', 'espresso', 'iced', 'macadamia'], ['inflation', 'rates', 'ecb', 'interest', 'cent', 'economist', 'monetary', 'banks', 'ecbs', 'forecast'], ['clubcard', 'vouchers', 'tesco', 'points', 'customers', 'loyalty', 'rewards', 'coupons', 'voucher', 'supermarket'], ['uefa', 'supporters', 'liverpool', 'should', 'stade', 'stadium', 'club', 'safety', 'hillsborough', 'madrid'], ['tata', 'furnaces', 'steelworks', 'blast', 'jobs', 'steelmaking', 'industry', 'steels', 'industrial', 'wales'], ['higgins', 'lehrmann', 'shamima', 'isis', 'syria', 'refugee', 'syrian', 'begums', 'sultana', 'ali'], ['alexa', 'ftc', 'kindle', 'privacy', 'app', 'voice', 'amazons', 'children', 'doorbell', 'devices'], ['volvo', 'xc60', 'volvos', 'em90', 'diesel', 'trucks', 'ex30', 'seats', 'suv', 'mpv'], ['trans', 'letter', 'transgender', 'papers', 'journalism', 'journalists', 'newspaper', 'writers', 'advocacy', 'publishing'], ['goldman', 'sachs', 'banking', 'banks', 'layoffs', 'employees', 'workforce', 'jobs', 'goldmans', 'bonuses'], ['mexico', 'corn', 'mexicos', 'nuevo', 'mexican', 'tesla', 'monterrey', 'permits', 'nava', 'imports'], ['hyundai', 'kia', 'thefts', 'vehicles', 'stolen', 'immobilizers', 'theft', 'hyundais', 'kias', 'usb'], ['eni', 'oil', 'gas', 'enel', 'refined', 'italys', 'refinery', 'refineries', 'libyas', 'milan'], ['samsung', 'memory', 'chip', 'samsungs', 'profit', 'electronics', 'lee', 'korean', 'semiconductor', 'smartphone'], ['orchestras', 'choir', 'musicians', 'orchestra', 'concert', 'bbcs', 'choirs', 'philharmonic', 'composers', 'choral'], ['s23', 'samsung', 'smartphone', 'camera', 'phones', 'kindle', 'xiaomi', 'android', 'smartphones', 'huawei'], ['paxlovid', 'covid', 'drug', 'pfizer', 'antiviral', 'molnupiravir', 'virus', 'treatments', 'infection', 'huahai'], ['tsmc', 'lenovo', 'revenue', 'demand', 'forecast', 'inventory', 'sales', 'decline', 'dell', 'logitech'], ['tiktok', 'bytedance', 'chinese', 'security', 'app', 'bennet', 'tiktoks', 'ban', 'platforms', 'devices'], ['amgen', 'amgens', 'patent', 'patents', 'bayer', 'pharmaceutical', 'cholesterol', 'lawsuit', 'antitrust', 'companies'], ['goldman', 'goldmans', 'sachs', 'banking', 'greensky', 'business', 'loans', 'gsn', 'bank', 'analysts'], ['trump', 'governor', 'campaign', 'presidential', 'florida', 'nomination', 'desantiss', 'donald', 'kennedy', 'gop'], ['bayer', 'bayers', 'monsanto', 'reuters', 'pharmaceuticals', 'ubbens', 'manns', 'takeover', 'ceo', 'business'], ['horror', 'scary', 'creepy', 'thriller', 'scariest', 'terrified', 'haunted', 'nightmares', 'haunting', 'ichthyosis'], ['gm', 'chevrolet', 'ev', 'evs', 'cadillac', 'silverado', 'motors', 'automaker', 'allelectric', 'battery'], ['easter', 'opening', 'holiday', 'westfield', '10pm', 'tesco', 'shops', '7am', 'weekend', 'supermarkets'], ['youtube', 'channel', 'allegations', 'russell', 'comedian', 'barb', 'her', 'subscribers', 'suspended', 'alleged'], ['sap', 'ibm', 'billion', 'revenue', 'googles', 'microsoft', 'company', 'ibms', 'business', 'analysts'], ['boohoos', 'leicester', 'fashion', 'bosses', 'levitt', 'suppliers', 'scheme', 'staff', 'remuneration', 'payouts'], ['recall', 'vehicles', 'inflators', 'airbag', 'nhtsa', 'recalled', 'suvs', 'inflator', 'chevrolet', 'jeep'], ['aws', 'cloud', 'amazons', 'revenue', 'analysts', 'growth', 'billion', 'andy', 'business', 'earnings'], ['aldi', 'cleaning', 'cleaner', 'shoppers', 'vacuum', 'products', 'dehumidifier', 'bissell', 'stains', 'bag'], ['fulfilment', 'gourock', 'hemel', 'hempstead', 'jobs', 'doncaster', 'warehouses', 'consultations', 'workers', 'facilities'], ['ford', 'europe', 'jobs', 'cuts', 'fords', 'carmaker', 'vans', 'vehicles', 'carmakers', 'dagenham'], ['prince', 'princess', 'andrew', 'royal', 'pip', 'kate', 'margaret', 'actress', 'meg', 'queen'], ['nike', 'jordan', 'shoes', 'nikes', 'sneaker', 'sneakers', 'kangaroos', 'lululemon', 'apparel', 'footwear'], ['suisse', 'swiss', 'accounts', 'banks', 'ubs', 'banking', 'bankers', 'takeover', 'whistleblowers', 'prosecutor'], ['gunther', 'mian', 'ferreras', 'netflix', 'obsession', 'audrey', 'belliard', 'italian', 'gunthers', 'audreys'], ['nissan', 'renault', 'alliance', 'renaults', 'ghosn', 'stake', 'nissans', 'partner', 'mitsubishi', 'companies'], ['oil', 'ecuador', 'indigenous', 'petroecuador', 'species', 'ecuadorian', 'ecuadors', 'mining', 'ecuadorians', 'fossil'], ['clothing', 'stores', 'spencer', 'sales', 'mss', 'suppliers', 'homeware', 'shops', 'retailer', 'brands'], ['drug', 'merck', 'patients', 'astrazeneca', 'molnupiravir', 'oncology', 'baxdrostat', 'medicines', 'drugmaker', 'hypertension'], ['warehouse', 'osha', 'injuries', 'brocks', 'quotas', 'hazards', 'workplace', 'fulfillment', 'bakersfield', 'employee'], ['recordings', 'cameras', 'privacy', 'data', 'videos', 'teslas', 'garage', 'spy', 'mateo', 'cars'], ['migrants', 'boats', 'border', 'dover', 'asylum', 'crossed', 'smugglers', 'seekers', 'kent', 'arrivals'], ['apple', 'cook', 'cooks', 'compensation', 'shareholder', 'employees', 'ceo', 'annual', 'salary', 'perm'], ['uniform', 'uniforms', 'airline', 'crew', 'dress', 'fashion', 'garments', 'cabin', 'worn', 'suits'], ['percent', 'employees', 'hiring', 'lyft', 'workforce', 'layoffs', 'intel', 'cuts', 'zuckerberg', 'jobs'], ['lvmh', 'luxury', 'vuitton', 'richest', 'bernard', 'goods', 'lvmhs', 'hennessy', 'brands', 'billionaires'], ['smith', 'chris', 'jada', 'oscars', 'pinkett', 'chappelle', 'comedian', 'comedy', 'pinkettsmiths', 'slapped'], ['hastings', 'netflix', 'sarandos', 'peters', 'coceo', 'subscribers', 'netflixs', 'randolph', 'barbershop', 'company'], ['hyundai', 'ioniq', 'ev', 'georgia', 'wheels', 'kia', 'korean', 'hyundais', 'chung', 'automakers'], ['iphone', 'repair', 'nokia', 'camera', 'smartphone', 'smartphones', 'devices', 'phones', 'battery', 'iphones'], ['clarkson', 'farm', 'clarksons', 'meghan', 'jeremy', 'oxfordshire', 'itv', 'millionaire', 'markle', 'sussexes'], ['cruise', 'zoox', 'autonomous', 'deere', 'cruisers', 'robotaxi', 'driverless', 'vehicles', 'brightdrop', 'robotaxis'], ['trademark', 'adidas', 'threestripe', 'stripes', 'brownes', 'sportswear', 'logo', 'adidass', 'stripe', 'bracelets'], ['tupperware', 'containers', 'tupperwares', 'plastic', 'corningware', 'rubbermaid', 'lid', 'pyrex', 'brands', 'boxes'], ['toyoda', 'toyota', 'toyotas', 'lexus', 'koji', 'automaker', 'chairman', 'seki', 'mazda', 'automakers'], ['leggings', 'underwear', 'comfortable', 'warm', 'spanx', 'fleece', 'hoodie', 'cotton', 'waist', 'dress'], ['tesla', 'musk', 'headquarters', 'palo', 'austin', 'ceo', 'podesta', 'reuters', 'inc', 'fremont'], ['att', 'verizon', 'tmobile', 'dish', 'carriers', 'ttc', 'rogers', 'subscribers', 'telecom', '5g'], ['suisse', 'sec', 'outflows', 'swiss', 'bank', 'financial', 'francs', 'scandals', 'lehmann', 'securities'], ['gm', 'buyouts', 'jacobson', 'salaried', 'gms', 'automaker', 'attrition', 'layoffs', 'costs', 'pretax'], ['allan', 'tesco', 'cbi', 'allegations', 'barratt', 'complaints', 'chairman', 'allegation', 'apologised', 'claims'], ['boeing', 'max', '737', 'boeings', 'justice', 'ethiopian', 'crash', 'faa', 'relatives', 'airlines'], ['cleopatra', 'egyptian', 'queen', 'actress', 'african', 'macedonian', 'antiquities', 'cleopatras', 'egyptians', 'documentary'], ['fcpa', 'ericsson', 'guilty', 'bribery', 'whistleblower', 'plea', '1mdb', 'investigation', 'prosecutors', 'corruption'], ['paramount', 'streaming', 'showtime', 'paramounts', 'bakish', 'disney', 'jiocinema', 'subscribers', 'revenue', 'pluto'], ['tax', 'medicines', 'pharma', 'pharmaceutical', 'trials', 'companies', 'nhs', 'astrazenecas', 'revenues', 'investment'], ['missile', 'frigates', 'submarines', 'missiles', 'navy', 'russias', 'ships', 'rockwools', 'submarine', 'naval'], ['jj', 'bankruptcy', 'talc', 'ltl', 'jjs', 'powder', 'lawsuits', 'plaintiffs', 'asbestos', 'settlement'], ['youtube', 'wojcicki', 'mohan', 'youtubes', 'googles', 'adverts', 'ceo', 'ad', 'sergey', 'advertising'], ['rio', 'tinto', 'radiation', 'mining', 'radioactive', 'tintos', 'alumina', 'ore', 'copper', 'aboriginal'], ['ai', 'aws', 'amazon', 'customers', 'alexa', 'machine', 'cloud', 'amazons', 'dialogue', 'grocery'], ['bestway', 'sainsburys', 'pharmacy', 'wholesaler', 'lloyds', 'supermarket', 'shares', 'chain', 'business', 'pharmacies'], ['fed', 'nasdaq', 'inflation', 'dow', 'recession', 'highs', 'nyse', 'indexes', 'traders', 'spx'], ['olive', 'coffee', 'oleato', 'starbucks', 'espresso', 'caffeine', 'iced', 'latte', 'calories', 'coffees'], ['keyboard', 'macbook', 'apple', 'mac', 'ergonomic', 'mouse', 'm1', 'laptop', 'intel', 'keyboards'], ['camper', 'tesla', 'wiper', 'prototype', 'musk', 'vehicle', 'truck', 'cybertrucks', 'windshield', 'teslas'], ['biden', 'conferences', 'press', 'bidens', 'capitol', 'editorial', 'manchin', 'trump', 'birthday', 'email'], ['radiation', 'airtags', 'devices', 'device', 'apple', 'phones', 'watts', 'electromagnetic', 'magnets', 'pacemaker'], ['volkswagen', 'china', 'xinjiang', 'volkswagens', 'carmaker', 'chinas', 'carmakers', 'german', 'abuses', 'germany'], ['target', 'sales', 'retailers', 'theft', 'shoppers', 'depot', 'walmart', 'retail', 'grocery', 'retailer'], ['bluecruise', 'ford', 'patent', 'vehicle', 'wheel', 'lane', 'fords', 'mustang', 'steering', 'feature'], ['flintoff', 'gear', 'freddie', 'filming', 'crash', 'accident', 'injuries', 'mcguinness', 'airlifted', 'paddy'], ['nvidia', 'nvidias', 'gpus', 'computing', 'software', 'a100s', 'computex', 'computers', 'cloud', 'graphics'], ['aldi', 'checkouts', 'groceries', 'registers', 'shoppers', 'shopper', 'shopping', 'shoplifting', 'supermarket', 'barcodes'], ['elliott', 'benioff', 'dreamforce', 'board', 'starboard', 'stake', 'directors', 'investor', 'companies', 'investors'], ['gap', 'goldman', 'women', 'pay', 'pmi', 'bst', 'sachs', 'eurozone', 'employers', 'banks'], ['content', 'justices', 'pornhub', 'lawsuit', 'gonzalez', 'liable', 'court', 'justice', 'terrorism', 'victims'], ['league', 'premier', 'rugby', 'premiership', 'england', 'chelsea', 'sharks', 'itv', 'leeds', 'clubs']]\n",
            "50\n",
            "0.8783636363636362\n",
            "100\n",
            "0.8871818181818186\n",
            "150\n",
            "0.8895151515151525\n",
            "200\n",
            "0.8961363636363656\n",
            "Diversity_mmr 0.2 Diversity overall 0.7061320754716981 Mean diversity per topics 0.9001286449399678\n"
          ]
        }
      ]
    },
    {
      "cell_type": "code",
      "source": [],
      "metadata": {
        "id": "JhjR0au7X8y8"
      },
      "execution_count": null,
      "outputs": []
    }
  ],
  "metadata": {
    "accelerator": "GPU",
    "colab": {
      "gpuType": "T4",
      "provenance": [],
      "collapsed_sections": [
        "DQyCl2KIWHn7",
        "hsbGtxK9KibJ"
      ]
    },
    "kernelspec": {
      "display_name": "Python 3",
      "name": "python3"
    },
    "language_info": {
      "name": "python"
    },
    "widgets": {
      "application/vnd.jupyter.widget-state+json": {
        "8e98f681cdf14a638bc89fd6f3ecfe10": {
          "model_module": "@jupyter-widgets/controls",
          "model_name": "HBoxModel",
          "model_module_version": "1.5.0",
          "state": {
            "_dom_classes": [],
            "_model_module": "@jupyter-widgets/controls",
            "_model_module_version": "1.5.0",
            "_model_name": "HBoxModel",
            "_view_count": null,
            "_view_module": "@jupyter-widgets/controls",
            "_view_module_version": "1.5.0",
            "_view_name": "HBoxView",
            "box_style": "",
            "children": [
              "IPY_MODEL_1806cb1e4e5c4657aa859be067255e81",
              "IPY_MODEL_594f06babe6d4abbbb41d1f8c01ac573",
              "IPY_MODEL_6c31701aeffa44899a477cb246aa3252"
            ],
            "layout": "IPY_MODEL_44b3c78b4f0742d78f39df042badc27b"
          }
        },
        "1806cb1e4e5c4657aa859be067255e81": {
          "model_module": "@jupyter-widgets/controls",
          "model_name": "HTMLModel",
          "model_module_version": "1.5.0",
          "state": {
            "_dom_classes": [],
            "_model_module": "@jupyter-widgets/controls",
            "_model_module_version": "1.5.0",
            "_model_name": "HTMLModel",
            "_view_count": null,
            "_view_module": "@jupyter-widgets/controls",
            "_view_module_version": "1.5.0",
            "_view_name": "HTMLView",
            "description": "",
            "description_tooltip": null,
            "layout": "IPY_MODEL_e978f691de1644daa83d597065ce9ec0",
            "placeholder": "​",
            "style": "IPY_MODEL_07cc69fa77d843039558dc6b3e49092c",
            "value": "modules.json: 100%"
          }
        },
        "594f06babe6d4abbbb41d1f8c01ac573": {
          "model_module": "@jupyter-widgets/controls",
          "model_name": "FloatProgressModel",
          "model_module_version": "1.5.0",
          "state": {
            "_dom_classes": [],
            "_model_module": "@jupyter-widgets/controls",
            "_model_module_version": "1.5.0",
            "_model_name": "FloatProgressModel",
            "_view_count": null,
            "_view_module": "@jupyter-widgets/controls",
            "_view_module_version": "1.5.0",
            "_view_name": "ProgressView",
            "bar_style": "success",
            "description": "",
            "description_tooltip": null,
            "layout": "IPY_MODEL_299745befb9b4a27b2f195769153439e",
            "max": 349,
            "min": 0,
            "orientation": "horizontal",
            "style": "IPY_MODEL_dd9afabde66b496cbd2fc7393d702268",
            "value": 349
          }
        },
        "6c31701aeffa44899a477cb246aa3252": {
          "model_module": "@jupyter-widgets/controls",
          "model_name": "HTMLModel",
          "model_module_version": "1.5.0",
          "state": {
            "_dom_classes": [],
            "_model_module": "@jupyter-widgets/controls",
            "_model_module_version": "1.5.0",
            "_model_name": "HTMLModel",
            "_view_count": null,
            "_view_module": "@jupyter-widgets/controls",
            "_view_module_version": "1.5.0",
            "_view_name": "HTMLView",
            "description": "",
            "description_tooltip": null,
            "layout": "IPY_MODEL_ef227adeed2544f1a6d4d812e4e630b3",
            "placeholder": "​",
            "style": "IPY_MODEL_0af2d0dd25474d5786056c96ba45491c",
            "value": " 349/349 [00:00&lt;00:00, 23.9kB/s]"
          }
        },
        "44b3c78b4f0742d78f39df042badc27b": {
          "model_module": "@jupyter-widgets/base",
          "model_name": "LayoutModel",
          "model_module_version": "1.2.0",
          "state": {
            "_model_module": "@jupyter-widgets/base",
            "_model_module_version": "1.2.0",
            "_model_name": "LayoutModel",
            "_view_count": null,
            "_view_module": "@jupyter-widgets/base",
            "_view_module_version": "1.2.0",
            "_view_name": "LayoutView",
            "align_content": null,
            "align_items": null,
            "align_self": null,
            "border": null,
            "bottom": null,
            "display": null,
            "flex": null,
            "flex_flow": null,
            "grid_area": null,
            "grid_auto_columns": null,
            "grid_auto_flow": null,
            "grid_auto_rows": null,
            "grid_column": null,
            "grid_gap": null,
            "grid_row": null,
            "grid_template_areas": null,
            "grid_template_columns": null,
            "grid_template_rows": null,
            "height": null,
            "justify_content": null,
            "justify_items": null,
            "left": null,
            "margin": null,
            "max_height": null,
            "max_width": null,
            "min_height": null,
            "min_width": null,
            "object_fit": null,
            "object_position": null,
            "order": null,
            "overflow": null,
            "overflow_x": null,
            "overflow_y": null,
            "padding": null,
            "right": null,
            "top": null,
            "visibility": null,
            "width": null
          }
        },
        "e978f691de1644daa83d597065ce9ec0": {
          "model_module": "@jupyter-widgets/base",
          "model_name": "LayoutModel",
          "model_module_version": "1.2.0",
          "state": {
            "_model_module": "@jupyter-widgets/base",
            "_model_module_version": "1.2.0",
            "_model_name": "LayoutModel",
            "_view_count": null,
            "_view_module": "@jupyter-widgets/base",
            "_view_module_version": "1.2.0",
            "_view_name": "LayoutView",
            "align_content": null,
            "align_items": null,
            "align_self": null,
            "border": null,
            "bottom": null,
            "display": null,
            "flex": null,
            "flex_flow": null,
            "grid_area": null,
            "grid_auto_columns": null,
            "grid_auto_flow": null,
            "grid_auto_rows": null,
            "grid_column": null,
            "grid_gap": null,
            "grid_row": null,
            "grid_template_areas": null,
            "grid_template_columns": null,
            "grid_template_rows": null,
            "height": null,
            "justify_content": null,
            "justify_items": null,
            "left": null,
            "margin": null,
            "max_height": null,
            "max_width": null,
            "min_height": null,
            "min_width": null,
            "object_fit": null,
            "object_position": null,
            "order": null,
            "overflow": null,
            "overflow_x": null,
            "overflow_y": null,
            "padding": null,
            "right": null,
            "top": null,
            "visibility": null,
            "width": null
          }
        },
        "07cc69fa77d843039558dc6b3e49092c": {
          "model_module": "@jupyter-widgets/controls",
          "model_name": "DescriptionStyleModel",
          "model_module_version": "1.5.0",
          "state": {
            "_model_module": "@jupyter-widgets/controls",
            "_model_module_version": "1.5.0",
            "_model_name": "DescriptionStyleModel",
            "_view_count": null,
            "_view_module": "@jupyter-widgets/base",
            "_view_module_version": "1.2.0",
            "_view_name": "StyleView",
            "description_width": ""
          }
        },
        "299745befb9b4a27b2f195769153439e": {
          "model_module": "@jupyter-widgets/base",
          "model_name": "LayoutModel",
          "model_module_version": "1.2.0",
          "state": {
            "_model_module": "@jupyter-widgets/base",
            "_model_module_version": "1.2.0",
            "_model_name": "LayoutModel",
            "_view_count": null,
            "_view_module": "@jupyter-widgets/base",
            "_view_module_version": "1.2.0",
            "_view_name": "LayoutView",
            "align_content": null,
            "align_items": null,
            "align_self": null,
            "border": null,
            "bottom": null,
            "display": null,
            "flex": null,
            "flex_flow": null,
            "grid_area": null,
            "grid_auto_columns": null,
            "grid_auto_flow": null,
            "grid_auto_rows": null,
            "grid_column": null,
            "grid_gap": null,
            "grid_row": null,
            "grid_template_areas": null,
            "grid_template_columns": null,
            "grid_template_rows": null,
            "height": null,
            "justify_content": null,
            "justify_items": null,
            "left": null,
            "margin": null,
            "max_height": null,
            "max_width": null,
            "min_height": null,
            "min_width": null,
            "object_fit": null,
            "object_position": null,
            "order": null,
            "overflow": null,
            "overflow_x": null,
            "overflow_y": null,
            "padding": null,
            "right": null,
            "top": null,
            "visibility": null,
            "width": null
          }
        },
        "dd9afabde66b496cbd2fc7393d702268": {
          "model_module": "@jupyter-widgets/controls",
          "model_name": "ProgressStyleModel",
          "model_module_version": "1.5.0",
          "state": {
            "_model_module": "@jupyter-widgets/controls",
            "_model_module_version": "1.5.0",
            "_model_name": "ProgressStyleModel",
            "_view_count": null,
            "_view_module": "@jupyter-widgets/base",
            "_view_module_version": "1.2.0",
            "_view_name": "StyleView",
            "bar_color": null,
            "description_width": ""
          }
        },
        "ef227adeed2544f1a6d4d812e4e630b3": {
          "model_module": "@jupyter-widgets/base",
          "model_name": "LayoutModel",
          "model_module_version": "1.2.0",
          "state": {
            "_model_module": "@jupyter-widgets/base",
            "_model_module_version": "1.2.0",
            "_model_name": "LayoutModel",
            "_view_count": null,
            "_view_module": "@jupyter-widgets/base",
            "_view_module_version": "1.2.0",
            "_view_name": "LayoutView",
            "align_content": null,
            "align_items": null,
            "align_self": null,
            "border": null,
            "bottom": null,
            "display": null,
            "flex": null,
            "flex_flow": null,
            "grid_area": null,
            "grid_auto_columns": null,
            "grid_auto_flow": null,
            "grid_auto_rows": null,
            "grid_column": null,
            "grid_gap": null,
            "grid_row": null,
            "grid_template_areas": null,
            "grid_template_columns": null,
            "grid_template_rows": null,
            "height": null,
            "justify_content": null,
            "justify_items": null,
            "left": null,
            "margin": null,
            "max_height": null,
            "max_width": null,
            "min_height": null,
            "min_width": null,
            "object_fit": null,
            "object_position": null,
            "order": null,
            "overflow": null,
            "overflow_x": null,
            "overflow_y": null,
            "padding": null,
            "right": null,
            "top": null,
            "visibility": null,
            "width": null
          }
        },
        "0af2d0dd25474d5786056c96ba45491c": {
          "model_module": "@jupyter-widgets/controls",
          "model_name": "DescriptionStyleModel",
          "model_module_version": "1.5.0",
          "state": {
            "_model_module": "@jupyter-widgets/controls",
            "_model_module_version": "1.5.0",
            "_model_name": "DescriptionStyleModel",
            "_view_count": null,
            "_view_module": "@jupyter-widgets/base",
            "_view_module_version": "1.2.0",
            "_view_name": "StyleView",
            "description_width": ""
          }
        },
        "12030aa07c774233967bd6f3bf781848": {
          "model_module": "@jupyter-widgets/controls",
          "model_name": "HBoxModel",
          "model_module_version": "1.5.0",
          "state": {
            "_dom_classes": [],
            "_model_module": "@jupyter-widgets/controls",
            "_model_module_version": "1.5.0",
            "_model_name": "HBoxModel",
            "_view_count": null,
            "_view_module": "@jupyter-widgets/controls",
            "_view_module_version": "1.5.0",
            "_view_name": "HBoxView",
            "box_style": "",
            "children": [
              "IPY_MODEL_33fc44b80ac74d8f9c10f43dba15bb4a",
              "IPY_MODEL_c67ade0c74c94a2ab60aa81858daad29",
              "IPY_MODEL_6947abe4aa724c73ab46b1b58fafd8d1"
            ],
            "layout": "IPY_MODEL_834e7b38dff4463aa113c145e7ade50c"
          }
        },
        "33fc44b80ac74d8f9c10f43dba15bb4a": {
          "model_module": "@jupyter-widgets/controls",
          "model_name": "HTMLModel",
          "model_module_version": "1.5.0",
          "state": {
            "_dom_classes": [],
            "_model_module": "@jupyter-widgets/controls",
            "_model_module_version": "1.5.0",
            "_model_name": "HTMLModel",
            "_view_count": null,
            "_view_module": "@jupyter-widgets/controls",
            "_view_module_version": "1.5.0",
            "_view_name": "HTMLView",
            "description": "",
            "description_tooltip": null,
            "layout": "IPY_MODEL_57a789a24fac4c4b9c13cad8414e882c",
            "placeholder": "​",
            "style": "IPY_MODEL_5bfe739a05174120a1884a7f1ca45e0f",
            "value": "config_sentence_transformers.json: 100%"
          }
        },
        "c67ade0c74c94a2ab60aa81858daad29": {
          "model_module": "@jupyter-widgets/controls",
          "model_name": "FloatProgressModel",
          "model_module_version": "1.5.0",
          "state": {
            "_dom_classes": [],
            "_model_module": "@jupyter-widgets/controls",
            "_model_module_version": "1.5.0",
            "_model_name": "FloatProgressModel",
            "_view_count": null,
            "_view_module": "@jupyter-widgets/controls",
            "_view_module_version": "1.5.0",
            "_view_name": "ProgressView",
            "bar_style": "success",
            "description": "",
            "description_tooltip": null,
            "layout": "IPY_MODEL_4d64990d5dbf4ddda58e168985ce0521",
            "max": 116,
            "min": 0,
            "orientation": "horizontal",
            "style": "IPY_MODEL_9036f1c36dd3434a988d003166d171e6",
            "value": 116
          }
        },
        "6947abe4aa724c73ab46b1b58fafd8d1": {
          "model_module": "@jupyter-widgets/controls",
          "model_name": "HTMLModel",
          "model_module_version": "1.5.0",
          "state": {
            "_dom_classes": [],
            "_model_module": "@jupyter-widgets/controls",
            "_model_module_version": "1.5.0",
            "_model_name": "HTMLModel",
            "_view_count": null,
            "_view_module": "@jupyter-widgets/controls",
            "_view_module_version": "1.5.0",
            "_view_name": "HTMLView",
            "description": "",
            "description_tooltip": null,
            "layout": "IPY_MODEL_93e71732d1ce4327aa071f107cc47536",
            "placeholder": "​",
            "style": "IPY_MODEL_57d8339c1845417aa8bc25a22886b5c4",
            "value": " 116/116 [00:00&lt;00:00, 7.62kB/s]"
          }
        },
        "834e7b38dff4463aa113c145e7ade50c": {
          "model_module": "@jupyter-widgets/base",
          "model_name": "LayoutModel",
          "model_module_version": "1.2.0",
          "state": {
            "_model_module": "@jupyter-widgets/base",
            "_model_module_version": "1.2.0",
            "_model_name": "LayoutModel",
            "_view_count": null,
            "_view_module": "@jupyter-widgets/base",
            "_view_module_version": "1.2.0",
            "_view_name": "LayoutView",
            "align_content": null,
            "align_items": null,
            "align_self": null,
            "border": null,
            "bottom": null,
            "display": null,
            "flex": null,
            "flex_flow": null,
            "grid_area": null,
            "grid_auto_columns": null,
            "grid_auto_flow": null,
            "grid_auto_rows": null,
            "grid_column": null,
            "grid_gap": null,
            "grid_row": null,
            "grid_template_areas": null,
            "grid_template_columns": null,
            "grid_template_rows": null,
            "height": null,
            "justify_content": null,
            "justify_items": null,
            "left": null,
            "margin": null,
            "max_height": null,
            "max_width": null,
            "min_height": null,
            "min_width": null,
            "object_fit": null,
            "object_position": null,
            "order": null,
            "overflow": null,
            "overflow_x": null,
            "overflow_y": null,
            "padding": null,
            "right": null,
            "top": null,
            "visibility": null,
            "width": null
          }
        },
        "57a789a24fac4c4b9c13cad8414e882c": {
          "model_module": "@jupyter-widgets/base",
          "model_name": "LayoutModel",
          "model_module_version": "1.2.0",
          "state": {
            "_model_module": "@jupyter-widgets/base",
            "_model_module_version": "1.2.0",
            "_model_name": "LayoutModel",
            "_view_count": null,
            "_view_module": "@jupyter-widgets/base",
            "_view_module_version": "1.2.0",
            "_view_name": "LayoutView",
            "align_content": null,
            "align_items": null,
            "align_self": null,
            "border": null,
            "bottom": null,
            "display": null,
            "flex": null,
            "flex_flow": null,
            "grid_area": null,
            "grid_auto_columns": null,
            "grid_auto_flow": null,
            "grid_auto_rows": null,
            "grid_column": null,
            "grid_gap": null,
            "grid_row": null,
            "grid_template_areas": null,
            "grid_template_columns": null,
            "grid_template_rows": null,
            "height": null,
            "justify_content": null,
            "justify_items": null,
            "left": null,
            "margin": null,
            "max_height": null,
            "max_width": null,
            "min_height": null,
            "min_width": null,
            "object_fit": null,
            "object_position": null,
            "order": null,
            "overflow": null,
            "overflow_x": null,
            "overflow_y": null,
            "padding": null,
            "right": null,
            "top": null,
            "visibility": null,
            "width": null
          }
        },
        "5bfe739a05174120a1884a7f1ca45e0f": {
          "model_module": "@jupyter-widgets/controls",
          "model_name": "DescriptionStyleModel",
          "model_module_version": "1.5.0",
          "state": {
            "_model_module": "@jupyter-widgets/controls",
            "_model_module_version": "1.5.0",
            "_model_name": "DescriptionStyleModel",
            "_view_count": null,
            "_view_module": "@jupyter-widgets/base",
            "_view_module_version": "1.2.0",
            "_view_name": "StyleView",
            "description_width": ""
          }
        },
        "4d64990d5dbf4ddda58e168985ce0521": {
          "model_module": "@jupyter-widgets/base",
          "model_name": "LayoutModel",
          "model_module_version": "1.2.0",
          "state": {
            "_model_module": "@jupyter-widgets/base",
            "_model_module_version": "1.2.0",
            "_model_name": "LayoutModel",
            "_view_count": null,
            "_view_module": "@jupyter-widgets/base",
            "_view_module_version": "1.2.0",
            "_view_name": "LayoutView",
            "align_content": null,
            "align_items": null,
            "align_self": null,
            "border": null,
            "bottom": null,
            "display": null,
            "flex": null,
            "flex_flow": null,
            "grid_area": null,
            "grid_auto_columns": null,
            "grid_auto_flow": null,
            "grid_auto_rows": null,
            "grid_column": null,
            "grid_gap": null,
            "grid_row": null,
            "grid_template_areas": null,
            "grid_template_columns": null,
            "grid_template_rows": null,
            "height": null,
            "justify_content": null,
            "justify_items": null,
            "left": null,
            "margin": null,
            "max_height": null,
            "max_width": null,
            "min_height": null,
            "min_width": null,
            "object_fit": null,
            "object_position": null,
            "order": null,
            "overflow": null,
            "overflow_x": null,
            "overflow_y": null,
            "padding": null,
            "right": null,
            "top": null,
            "visibility": null,
            "width": null
          }
        },
        "9036f1c36dd3434a988d003166d171e6": {
          "model_module": "@jupyter-widgets/controls",
          "model_name": "ProgressStyleModel",
          "model_module_version": "1.5.0",
          "state": {
            "_model_module": "@jupyter-widgets/controls",
            "_model_module_version": "1.5.0",
            "_model_name": "ProgressStyleModel",
            "_view_count": null,
            "_view_module": "@jupyter-widgets/base",
            "_view_module_version": "1.2.0",
            "_view_name": "StyleView",
            "bar_color": null,
            "description_width": ""
          }
        },
        "93e71732d1ce4327aa071f107cc47536": {
          "model_module": "@jupyter-widgets/base",
          "model_name": "LayoutModel",
          "model_module_version": "1.2.0",
          "state": {
            "_model_module": "@jupyter-widgets/base",
            "_model_module_version": "1.2.0",
            "_model_name": "LayoutModel",
            "_view_count": null,
            "_view_module": "@jupyter-widgets/base",
            "_view_module_version": "1.2.0",
            "_view_name": "LayoutView",
            "align_content": null,
            "align_items": null,
            "align_self": null,
            "border": null,
            "bottom": null,
            "display": null,
            "flex": null,
            "flex_flow": null,
            "grid_area": null,
            "grid_auto_columns": null,
            "grid_auto_flow": null,
            "grid_auto_rows": null,
            "grid_column": null,
            "grid_gap": null,
            "grid_row": null,
            "grid_template_areas": null,
            "grid_template_columns": null,
            "grid_template_rows": null,
            "height": null,
            "justify_content": null,
            "justify_items": null,
            "left": null,
            "margin": null,
            "max_height": null,
            "max_width": null,
            "min_height": null,
            "min_width": null,
            "object_fit": null,
            "object_position": null,
            "order": null,
            "overflow": null,
            "overflow_x": null,
            "overflow_y": null,
            "padding": null,
            "right": null,
            "top": null,
            "visibility": null,
            "width": null
          }
        },
        "57d8339c1845417aa8bc25a22886b5c4": {
          "model_module": "@jupyter-widgets/controls",
          "model_name": "DescriptionStyleModel",
          "model_module_version": "1.5.0",
          "state": {
            "_model_module": "@jupyter-widgets/controls",
            "_model_module_version": "1.5.0",
            "_model_name": "DescriptionStyleModel",
            "_view_count": null,
            "_view_module": "@jupyter-widgets/base",
            "_view_module_version": "1.2.0",
            "_view_name": "StyleView",
            "description_width": ""
          }
        },
        "a2bd51b5eb5043d4819a0024c0142138": {
          "model_module": "@jupyter-widgets/controls",
          "model_name": "HBoxModel",
          "model_module_version": "1.5.0",
          "state": {
            "_dom_classes": [],
            "_model_module": "@jupyter-widgets/controls",
            "_model_module_version": "1.5.0",
            "_model_name": "HBoxModel",
            "_view_count": null,
            "_view_module": "@jupyter-widgets/controls",
            "_view_module_version": "1.5.0",
            "_view_name": "HBoxView",
            "box_style": "",
            "children": [
              "IPY_MODEL_6739a869af7e4c3480ce2c11b68a739d",
              "IPY_MODEL_c2fca5cb3d25413ebe87b220c906b740",
              "IPY_MODEL_e4c19ff1a4b142f6b9a1130841ec1080"
            ],
            "layout": "IPY_MODEL_5c47475fb9d844ed88ce12785626cba2"
          }
        },
        "6739a869af7e4c3480ce2c11b68a739d": {
          "model_module": "@jupyter-widgets/controls",
          "model_name": "HTMLModel",
          "model_module_version": "1.5.0",
          "state": {
            "_dom_classes": [],
            "_model_module": "@jupyter-widgets/controls",
            "_model_module_version": "1.5.0",
            "_model_name": "HTMLModel",
            "_view_count": null,
            "_view_module": "@jupyter-widgets/controls",
            "_view_module_version": "1.5.0",
            "_view_name": "HTMLView",
            "description": "",
            "description_tooltip": null,
            "layout": "IPY_MODEL_0886448fb0a745b1a1def0ddec782268",
            "placeholder": "​",
            "style": "IPY_MODEL_62d83e84a03c42e49ce796abbdb2cfe8",
            "value": "README.md: 100%"
          }
        },
        "c2fca5cb3d25413ebe87b220c906b740": {
          "model_module": "@jupyter-widgets/controls",
          "model_name": "FloatProgressModel",
          "model_module_version": "1.5.0",
          "state": {
            "_dom_classes": [],
            "_model_module": "@jupyter-widgets/controls",
            "_model_module_version": "1.5.0",
            "_model_name": "FloatProgressModel",
            "_view_count": null,
            "_view_module": "@jupyter-widgets/controls",
            "_view_module_version": "1.5.0",
            "_view_name": "ProgressView",
            "bar_style": "success",
            "description": "",
            "description_tooltip": null,
            "layout": "IPY_MODEL_52ebfd957e78493f880e824fd3fa3281",
            "max": 10659,
            "min": 0,
            "orientation": "horizontal",
            "style": "IPY_MODEL_bd68543604a3427680757f6a19a8feb4",
            "value": 10659
          }
        },
        "e4c19ff1a4b142f6b9a1130841ec1080": {
          "model_module": "@jupyter-widgets/controls",
          "model_name": "HTMLModel",
          "model_module_version": "1.5.0",
          "state": {
            "_dom_classes": [],
            "_model_module": "@jupyter-widgets/controls",
            "_model_module_version": "1.5.0",
            "_model_name": "HTMLModel",
            "_view_count": null,
            "_view_module": "@jupyter-widgets/controls",
            "_view_module_version": "1.5.0",
            "_view_name": "HTMLView",
            "description": "",
            "description_tooltip": null,
            "layout": "IPY_MODEL_2a2a10586c464ac59c567cc45557cc19",
            "placeholder": "​",
            "style": "IPY_MODEL_899b2c88cc3744a69a77240803cf0d4d",
            "value": " 10.7k/10.7k [00:00&lt;00:00, 835kB/s]"
          }
        },
        "5c47475fb9d844ed88ce12785626cba2": {
          "model_module": "@jupyter-widgets/base",
          "model_name": "LayoutModel",
          "model_module_version": "1.2.0",
          "state": {
            "_model_module": "@jupyter-widgets/base",
            "_model_module_version": "1.2.0",
            "_model_name": "LayoutModel",
            "_view_count": null,
            "_view_module": "@jupyter-widgets/base",
            "_view_module_version": "1.2.0",
            "_view_name": "LayoutView",
            "align_content": null,
            "align_items": null,
            "align_self": null,
            "border": null,
            "bottom": null,
            "display": null,
            "flex": null,
            "flex_flow": null,
            "grid_area": null,
            "grid_auto_columns": null,
            "grid_auto_flow": null,
            "grid_auto_rows": null,
            "grid_column": null,
            "grid_gap": null,
            "grid_row": null,
            "grid_template_areas": null,
            "grid_template_columns": null,
            "grid_template_rows": null,
            "height": null,
            "justify_content": null,
            "justify_items": null,
            "left": null,
            "margin": null,
            "max_height": null,
            "max_width": null,
            "min_height": null,
            "min_width": null,
            "object_fit": null,
            "object_position": null,
            "order": null,
            "overflow": null,
            "overflow_x": null,
            "overflow_y": null,
            "padding": null,
            "right": null,
            "top": null,
            "visibility": null,
            "width": null
          }
        },
        "0886448fb0a745b1a1def0ddec782268": {
          "model_module": "@jupyter-widgets/base",
          "model_name": "LayoutModel",
          "model_module_version": "1.2.0",
          "state": {
            "_model_module": "@jupyter-widgets/base",
            "_model_module_version": "1.2.0",
            "_model_name": "LayoutModel",
            "_view_count": null,
            "_view_module": "@jupyter-widgets/base",
            "_view_module_version": "1.2.0",
            "_view_name": "LayoutView",
            "align_content": null,
            "align_items": null,
            "align_self": null,
            "border": null,
            "bottom": null,
            "display": null,
            "flex": null,
            "flex_flow": null,
            "grid_area": null,
            "grid_auto_columns": null,
            "grid_auto_flow": null,
            "grid_auto_rows": null,
            "grid_column": null,
            "grid_gap": null,
            "grid_row": null,
            "grid_template_areas": null,
            "grid_template_columns": null,
            "grid_template_rows": null,
            "height": null,
            "justify_content": null,
            "justify_items": null,
            "left": null,
            "margin": null,
            "max_height": null,
            "max_width": null,
            "min_height": null,
            "min_width": null,
            "object_fit": null,
            "object_position": null,
            "order": null,
            "overflow": null,
            "overflow_x": null,
            "overflow_y": null,
            "padding": null,
            "right": null,
            "top": null,
            "visibility": null,
            "width": null
          }
        },
        "62d83e84a03c42e49ce796abbdb2cfe8": {
          "model_module": "@jupyter-widgets/controls",
          "model_name": "DescriptionStyleModel",
          "model_module_version": "1.5.0",
          "state": {
            "_model_module": "@jupyter-widgets/controls",
            "_model_module_version": "1.5.0",
            "_model_name": "DescriptionStyleModel",
            "_view_count": null,
            "_view_module": "@jupyter-widgets/base",
            "_view_module_version": "1.2.0",
            "_view_name": "StyleView",
            "description_width": ""
          }
        },
        "52ebfd957e78493f880e824fd3fa3281": {
          "model_module": "@jupyter-widgets/base",
          "model_name": "LayoutModel",
          "model_module_version": "1.2.0",
          "state": {
            "_model_module": "@jupyter-widgets/base",
            "_model_module_version": "1.2.0",
            "_model_name": "LayoutModel",
            "_view_count": null,
            "_view_module": "@jupyter-widgets/base",
            "_view_module_version": "1.2.0",
            "_view_name": "LayoutView",
            "align_content": null,
            "align_items": null,
            "align_self": null,
            "border": null,
            "bottom": null,
            "display": null,
            "flex": null,
            "flex_flow": null,
            "grid_area": null,
            "grid_auto_columns": null,
            "grid_auto_flow": null,
            "grid_auto_rows": null,
            "grid_column": null,
            "grid_gap": null,
            "grid_row": null,
            "grid_template_areas": null,
            "grid_template_columns": null,
            "grid_template_rows": null,
            "height": null,
            "justify_content": null,
            "justify_items": null,
            "left": null,
            "margin": null,
            "max_height": null,
            "max_width": null,
            "min_height": null,
            "min_width": null,
            "object_fit": null,
            "object_position": null,
            "order": null,
            "overflow": null,
            "overflow_x": null,
            "overflow_y": null,
            "padding": null,
            "right": null,
            "top": null,
            "visibility": null,
            "width": null
          }
        },
        "bd68543604a3427680757f6a19a8feb4": {
          "model_module": "@jupyter-widgets/controls",
          "model_name": "ProgressStyleModel",
          "model_module_version": "1.5.0",
          "state": {
            "_model_module": "@jupyter-widgets/controls",
            "_model_module_version": "1.5.0",
            "_model_name": "ProgressStyleModel",
            "_view_count": null,
            "_view_module": "@jupyter-widgets/base",
            "_view_module_version": "1.2.0",
            "_view_name": "StyleView",
            "bar_color": null,
            "description_width": ""
          }
        },
        "2a2a10586c464ac59c567cc45557cc19": {
          "model_module": "@jupyter-widgets/base",
          "model_name": "LayoutModel",
          "model_module_version": "1.2.0",
          "state": {
            "_model_module": "@jupyter-widgets/base",
            "_model_module_version": "1.2.0",
            "_model_name": "LayoutModel",
            "_view_count": null,
            "_view_module": "@jupyter-widgets/base",
            "_view_module_version": "1.2.0",
            "_view_name": "LayoutView",
            "align_content": null,
            "align_items": null,
            "align_self": null,
            "border": null,
            "bottom": null,
            "display": null,
            "flex": null,
            "flex_flow": null,
            "grid_area": null,
            "grid_auto_columns": null,
            "grid_auto_flow": null,
            "grid_auto_rows": null,
            "grid_column": null,
            "grid_gap": null,
            "grid_row": null,
            "grid_template_areas": null,
            "grid_template_columns": null,
            "grid_template_rows": null,
            "height": null,
            "justify_content": null,
            "justify_items": null,
            "left": null,
            "margin": null,
            "max_height": null,
            "max_width": null,
            "min_height": null,
            "min_width": null,
            "object_fit": null,
            "object_position": null,
            "order": null,
            "overflow": null,
            "overflow_x": null,
            "overflow_y": null,
            "padding": null,
            "right": null,
            "top": null,
            "visibility": null,
            "width": null
          }
        },
        "899b2c88cc3744a69a77240803cf0d4d": {
          "model_module": "@jupyter-widgets/controls",
          "model_name": "DescriptionStyleModel",
          "model_module_version": "1.5.0",
          "state": {
            "_model_module": "@jupyter-widgets/controls",
            "_model_module_version": "1.5.0",
            "_model_name": "DescriptionStyleModel",
            "_view_count": null,
            "_view_module": "@jupyter-widgets/base",
            "_view_module_version": "1.2.0",
            "_view_name": "StyleView",
            "description_width": ""
          }
        },
        "70367ccd76b44ec28faa396c5da6fa3d": {
          "model_module": "@jupyter-widgets/controls",
          "model_name": "HBoxModel",
          "model_module_version": "1.5.0",
          "state": {
            "_dom_classes": [],
            "_model_module": "@jupyter-widgets/controls",
            "_model_module_version": "1.5.0",
            "_model_name": "HBoxModel",
            "_view_count": null,
            "_view_module": "@jupyter-widgets/controls",
            "_view_module_version": "1.5.0",
            "_view_name": "HBoxView",
            "box_style": "",
            "children": [
              "IPY_MODEL_5684345922d14e6e9fe0123683a11721",
              "IPY_MODEL_141e6e9717fc4be09d9b0dbb0ec74e51",
              "IPY_MODEL_ef617bc78e494a28955e8541c0aacfa3"
            ],
            "layout": "IPY_MODEL_42ee8c9a5c094e49985dbb033e2b3457"
          }
        },
        "5684345922d14e6e9fe0123683a11721": {
          "model_module": "@jupyter-widgets/controls",
          "model_name": "HTMLModel",
          "model_module_version": "1.5.0",
          "state": {
            "_dom_classes": [],
            "_model_module": "@jupyter-widgets/controls",
            "_model_module_version": "1.5.0",
            "_model_name": "HTMLModel",
            "_view_count": null,
            "_view_module": "@jupyter-widgets/controls",
            "_view_module_version": "1.5.0",
            "_view_name": "HTMLView",
            "description": "",
            "description_tooltip": null,
            "layout": "IPY_MODEL_cf53ce4b13d14145926fabbd9ccc61db",
            "placeholder": "​",
            "style": "IPY_MODEL_e5abc650b42f4c2299a9ff131bb69d29",
            "value": "sentence_bert_config.json: 100%"
          }
        },
        "141e6e9717fc4be09d9b0dbb0ec74e51": {
          "model_module": "@jupyter-widgets/controls",
          "model_name": "FloatProgressModel",
          "model_module_version": "1.5.0",
          "state": {
            "_dom_classes": [],
            "_model_module": "@jupyter-widgets/controls",
            "_model_module_version": "1.5.0",
            "_model_name": "FloatProgressModel",
            "_view_count": null,
            "_view_module": "@jupyter-widgets/controls",
            "_view_module_version": "1.5.0",
            "_view_name": "ProgressView",
            "bar_style": "success",
            "description": "",
            "description_tooltip": null,
            "layout": "IPY_MODEL_fa1ba85764184ce194274962f855bb96",
            "max": 53,
            "min": 0,
            "orientation": "horizontal",
            "style": "IPY_MODEL_e924c5a268d944ec8e3ca3d2e9e274ed",
            "value": 53
          }
        },
        "ef617bc78e494a28955e8541c0aacfa3": {
          "model_module": "@jupyter-widgets/controls",
          "model_name": "HTMLModel",
          "model_module_version": "1.5.0",
          "state": {
            "_dom_classes": [],
            "_model_module": "@jupyter-widgets/controls",
            "_model_module_version": "1.5.0",
            "_model_name": "HTMLModel",
            "_view_count": null,
            "_view_module": "@jupyter-widgets/controls",
            "_view_module_version": "1.5.0",
            "_view_name": "HTMLView",
            "description": "",
            "description_tooltip": null,
            "layout": "IPY_MODEL_44635712d60543bbb238ce0ef167670e",
            "placeholder": "​",
            "style": "IPY_MODEL_2cdcefe2995846119bc1bcc35d2378f5",
            "value": " 53.0/53.0 [00:00&lt;00:00, 4.07kB/s]"
          }
        },
        "42ee8c9a5c094e49985dbb033e2b3457": {
          "model_module": "@jupyter-widgets/base",
          "model_name": "LayoutModel",
          "model_module_version": "1.2.0",
          "state": {
            "_model_module": "@jupyter-widgets/base",
            "_model_module_version": "1.2.0",
            "_model_name": "LayoutModel",
            "_view_count": null,
            "_view_module": "@jupyter-widgets/base",
            "_view_module_version": "1.2.0",
            "_view_name": "LayoutView",
            "align_content": null,
            "align_items": null,
            "align_self": null,
            "border": null,
            "bottom": null,
            "display": null,
            "flex": null,
            "flex_flow": null,
            "grid_area": null,
            "grid_auto_columns": null,
            "grid_auto_flow": null,
            "grid_auto_rows": null,
            "grid_column": null,
            "grid_gap": null,
            "grid_row": null,
            "grid_template_areas": null,
            "grid_template_columns": null,
            "grid_template_rows": null,
            "height": null,
            "justify_content": null,
            "justify_items": null,
            "left": null,
            "margin": null,
            "max_height": null,
            "max_width": null,
            "min_height": null,
            "min_width": null,
            "object_fit": null,
            "object_position": null,
            "order": null,
            "overflow": null,
            "overflow_x": null,
            "overflow_y": null,
            "padding": null,
            "right": null,
            "top": null,
            "visibility": null,
            "width": null
          }
        },
        "cf53ce4b13d14145926fabbd9ccc61db": {
          "model_module": "@jupyter-widgets/base",
          "model_name": "LayoutModel",
          "model_module_version": "1.2.0",
          "state": {
            "_model_module": "@jupyter-widgets/base",
            "_model_module_version": "1.2.0",
            "_model_name": "LayoutModel",
            "_view_count": null,
            "_view_module": "@jupyter-widgets/base",
            "_view_module_version": "1.2.0",
            "_view_name": "LayoutView",
            "align_content": null,
            "align_items": null,
            "align_self": null,
            "border": null,
            "bottom": null,
            "display": null,
            "flex": null,
            "flex_flow": null,
            "grid_area": null,
            "grid_auto_columns": null,
            "grid_auto_flow": null,
            "grid_auto_rows": null,
            "grid_column": null,
            "grid_gap": null,
            "grid_row": null,
            "grid_template_areas": null,
            "grid_template_columns": null,
            "grid_template_rows": null,
            "height": null,
            "justify_content": null,
            "justify_items": null,
            "left": null,
            "margin": null,
            "max_height": null,
            "max_width": null,
            "min_height": null,
            "min_width": null,
            "object_fit": null,
            "object_position": null,
            "order": null,
            "overflow": null,
            "overflow_x": null,
            "overflow_y": null,
            "padding": null,
            "right": null,
            "top": null,
            "visibility": null,
            "width": null
          }
        },
        "e5abc650b42f4c2299a9ff131bb69d29": {
          "model_module": "@jupyter-widgets/controls",
          "model_name": "DescriptionStyleModel",
          "model_module_version": "1.5.0",
          "state": {
            "_model_module": "@jupyter-widgets/controls",
            "_model_module_version": "1.5.0",
            "_model_name": "DescriptionStyleModel",
            "_view_count": null,
            "_view_module": "@jupyter-widgets/base",
            "_view_module_version": "1.2.0",
            "_view_name": "StyleView",
            "description_width": ""
          }
        },
        "fa1ba85764184ce194274962f855bb96": {
          "model_module": "@jupyter-widgets/base",
          "model_name": "LayoutModel",
          "model_module_version": "1.2.0",
          "state": {
            "_model_module": "@jupyter-widgets/base",
            "_model_module_version": "1.2.0",
            "_model_name": "LayoutModel",
            "_view_count": null,
            "_view_module": "@jupyter-widgets/base",
            "_view_module_version": "1.2.0",
            "_view_name": "LayoutView",
            "align_content": null,
            "align_items": null,
            "align_self": null,
            "border": null,
            "bottom": null,
            "display": null,
            "flex": null,
            "flex_flow": null,
            "grid_area": null,
            "grid_auto_columns": null,
            "grid_auto_flow": null,
            "grid_auto_rows": null,
            "grid_column": null,
            "grid_gap": null,
            "grid_row": null,
            "grid_template_areas": null,
            "grid_template_columns": null,
            "grid_template_rows": null,
            "height": null,
            "justify_content": null,
            "justify_items": null,
            "left": null,
            "margin": null,
            "max_height": null,
            "max_width": null,
            "min_height": null,
            "min_width": null,
            "object_fit": null,
            "object_position": null,
            "order": null,
            "overflow": null,
            "overflow_x": null,
            "overflow_y": null,
            "padding": null,
            "right": null,
            "top": null,
            "visibility": null,
            "width": null
          }
        },
        "e924c5a268d944ec8e3ca3d2e9e274ed": {
          "model_module": "@jupyter-widgets/controls",
          "model_name": "ProgressStyleModel",
          "model_module_version": "1.5.0",
          "state": {
            "_model_module": "@jupyter-widgets/controls",
            "_model_module_version": "1.5.0",
            "_model_name": "ProgressStyleModel",
            "_view_count": null,
            "_view_module": "@jupyter-widgets/base",
            "_view_module_version": "1.2.0",
            "_view_name": "StyleView",
            "bar_color": null,
            "description_width": ""
          }
        },
        "44635712d60543bbb238ce0ef167670e": {
          "model_module": "@jupyter-widgets/base",
          "model_name": "LayoutModel",
          "model_module_version": "1.2.0",
          "state": {
            "_model_module": "@jupyter-widgets/base",
            "_model_module_version": "1.2.0",
            "_model_name": "LayoutModel",
            "_view_count": null,
            "_view_module": "@jupyter-widgets/base",
            "_view_module_version": "1.2.0",
            "_view_name": "LayoutView",
            "align_content": null,
            "align_items": null,
            "align_self": null,
            "border": null,
            "bottom": null,
            "display": null,
            "flex": null,
            "flex_flow": null,
            "grid_area": null,
            "grid_auto_columns": null,
            "grid_auto_flow": null,
            "grid_auto_rows": null,
            "grid_column": null,
            "grid_gap": null,
            "grid_row": null,
            "grid_template_areas": null,
            "grid_template_columns": null,
            "grid_template_rows": null,
            "height": null,
            "justify_content": null,
            "justify_items": null,
            "left": null,
            "margin": null,
            "max_height": null,
            "max_width": null,
            "min_height": null,
            "min_width": null,
            "object_fit": null,
            "object_position": null,
            "order": null,
            "overflow": null,
            "overflow_x": null,
            "overflow_y": null,
            "padding": null,
            "right": null,
            "top": null,
            "visibility": null,
            "width": null
          }
        },
        "2cdcefe2995846119bc1bcc35d2378f5": {
          "model_module": "@jupyter-widgets/controls",
          "model_name": "DescriptionStyleModel",
          "model_module_version": "1.5.0",
          "state": {
            "_model_module": "@jupyter-widgets/controls",
            "_model_module_version": "1.5.0",
            "_model_name": "DescriptionStyleModel",
            "_view_count": null,
            "_view_module": "@jupyter-widgets/base",
            "_view_module_version": "1.2.0",
            "_view_name": "StyleView",
            "description_width": ""
          }
        },
        "ecdd36a38b104dd4a954209ed5a952d3": {
          "model_module": "@jupyter-widgets/controls",
          "model_name": "HBoxModel",
          "model_module_version": "1.5.0",
          "state": {
            "_dom_classes": [],
            "_model_module": "@jupyter-widgets/controls",
            "_model_module_version": "1.5.0",
            "_model_name": "HBoxModel",
            "_view_count": null,
            "_view_module": "@jupyter-widgets/controls",
            "_view_module_version": "1.5.0",
            "_view_name": "HBoxView",
            "box_style": "",
            "children": [
              "IPY_MODEL_3051c1e01ab04756b253ac8e60936952",
              "IPY_MODEL_c9d3e3967aef43a58bf60dead5e90875",
              "IPY_MODEL_99974aa41f6647b29a1d45fba7bbbded"
            ],
            "layout": "IPY_MODEL_8aa2c7709b86416896429b4ec636a022"
          }
        },
        "3051c1e01ab04756b253ac8e60936952": {
          "model_module": "@jupyter-widgets/controls",
          "model_name": "HTMLModel",
          "model_module_version": "1.5.0",
          "state": {
            "_dom_classes": [],
            "_model_module": "@jupyter-widgets/controls",
            "_model_module_version": "1.5.0",
            "_model_name": "HTMLModel",
            "_view_count": null,
            "_view_module": "@jupyter-widgets/controls",
            "_view_module_version": "1.5.0",
            "_view_name": "HTMLView",
            "description": "",
            "description_tooltip": null,
            "layout": "IPY_MODEL_5d5377852d1d496695bb9d4fced53342",
            "placeholder": "​",
            "style": "IPY_MODEL_ed9d4b20185344dab3d98ca557d8dc8c",
            "value": "config.json: 100%"
          }
        },
        "c9d3e3967aef43a58bf60dead5e90875": {
          "model_module": "@jupyter-widgets/controls",
          "model_name": "FloatProgressModel",
          "model_module_version": "1.5.0",
          "state": {
            "_dom_classes": [],
            "_model_module": "@jupyter-widgets/controls",
            "_model_module_version": "1.5.0",
            "_model_name": "FloatProgressModel",
            "_view_count": null,
            "_view_module": "@jupyter-widgets/controls",
            "_view_module_version": "1.5.0",
            "_view_name": "ProgressView",
            "bar_style": "success",
            "description": "",
            "description_tooltip": null,
            "layout": "IPY_MODEL_46db3b153b524cef85e3c37309533d43",
            "max": 612,
            "min": 0,
            "orientation": "horizontal",
            "style": "IPY_MODEL_e4a2b2bf473842e49dcb7c033046890c",
            "value": 612
          }
        },
        "99974aa41f6647b29a1d45fba7bbbded": {
          "model_module": "@jupyter-widgets/controls",
          "model_name": "HTMLModel",
          "model_module_version": "1.5.0",
          "state": {
            "_dom_classes": [],
            "_model_module": "@jupyter-widgets/controls",
            "_model_module_version": "1.5.0",
            "_model_name": "HTMLModel",
            "_view_count": null,
            "_view_module": "@jupyter-widgets/controls",
            "_view_module_version": "1.5.0",
            "_view_name": "HTMLView",
            "description": "",
            "description_tooltip": null,
            "layout": "IPY_MODEL_43dfb0b9d8174867aa6648b6a9c06884",
            "placeholder": "​",
            "style": "IPY_MODEL_99f1a7a4a83d438f87f03fdf2edd14b4",
            "value": " 612/612 [00:00&lt;00:00, 46.7kB/s]"
          }
        },
        "8aa2c7709b86416896429b4ec636a022": {
          "model_module": "@jupyter-widgets/base",
          "model_name": "LayoutModel",
          "model_module_version": "1.2.0",
          "state": {
            "_model_module": "@jupyter-widgets/base",
            "_model_module_version": "1.2.0",
            "_model_name": "LayoutModel",
            "_view_count": null,
            "_view_module": "@jupyter-widgets/base",
            "_view_module_version": "1.2.0",
            "_view_name": "LayoutView",
            "align_content": null,
            "align_items": null,
            "align_self": null,
            "border": null,
            "bottom": null,
            "display": null,
            "flex": null,
            "flex_flow": null,
            "grid_area": null,
            "grid_auto_columns": null,
            "grid_auto_flow": null,
            "grid_auto_rows": null,
            "grid_column": null,
            "grid_gap": null,
            "grid_row": null,
            "grid_template_areas": null,
            "grid_template_columns": null,
            "grid_template_rows": null,
            "height": null,
            "justify_content": null,
            "justify_items": null,
            "left": null,
            "margin": null,
            "max_height": null,
            "max_width": null,
            "min_height": null,
            "min_width": null,
            "object_fit": null,
            "object_position": null,
            "order": null,
            "overflow": null,
            "overflow_x": null,
            "overflow_y": null,
            "padding": null,
            "right": null,
            "top": null,
            "visibility": null,
            "width": null
          }
        },
        "5d5377852d1d496695bb9d4fced53342": {
          "model_module": "@jupyter-widgets/base",
          "model_name": "LayoutModel",
          "model_module_version": "1.2.0",
          "state": {
            "_model_module": "@jupyter-widgets/base",
            "_model_module_version": "1.2.0",
            "_model_name": "LayoutModel",
            "_view_count": null,
            "_view_module": "@jupyter-widgets/base",
            "_view_module_version": "1.2.0",
            "_view_name": "LayoutView",
            "align_content": null,
            "align_items": null,
            "align_self": null,
            "border": null,
            "bottom": null,
            "display": null,
            "flex": null,
            "flex_flow": null,
            "grid_area": null,
            "grid_auto_columns": null,
            "grid_auto_flow": null,
            "grid_auto_rows": null,
            "grid_column": null,
            "grid_gap": null,
            "grid_row": null,
            "grid_template_areas": null,
            "grid_template_columns": null,
            "grid_template_rows": null,
            "height": null,
            "justify_content": null,
            "justify_items": null,
            "left": null,
            "margin": null,
            "max_height": null,
            "max_width": null,
            "min_height": null,
            "min_width": null,
            "object_fit": null,
            "object_position": null,
            "order": null,
            "overflow": null,
            "overflow_x": null,
            "overflow_y": null,
            "padding": null,
            "right": null,
            "top": null,
            "visibility": null,
            "width": null
          }
        },
        "ed9d4b20185344dab3d98ca557d8dc8c": {
          "model_module": "@jupyter-widgets/controls",
          "model_name": "DescriptionStyleModel",
          "model_module_version": "1.5.0",
          "state": {
            "_model_module": "@jupyter-widgets/controls",
            "_model_module_version": "1.5.0",
            "_model_name": "DescriptionStyleModel",
            "_view_count": null,
            "_view_module": "@jupyter-widgets/base",
            "_view_module_version": "1.2.0",
            "_view_name": "StyleView",
            "description_width": ""
          }
        },
        "46db3b153b524cef85e3c37309533d43": {
          "model_module": "@jupyter-widgets/base",
          "model_name": "LayoutModel",
          "model_module_version": "1.2.0",
          "state": {
            "_model_module": "@jupyter-widgets/base",
            "_model_module_version": "1.2.0",
            "_model_name": "LayoutModel",
            "_view_count": null,
            "_view_module": "@jupyter-widgets/base",
            "_view_module_version": "1.2.0",
            "_view_name": "LayoutView",
            "align_content": null,
            "align_items": null,
            "align_self": null,
            "border": null,
            "bottom": null,
            "display": null,
            "flex": null,
            "flex_flow": null,
            "grid_area": null,
            "grid_auto_columns": null,
            "grid_auto_flow": null,
            "grid_auto_rows": null,
            "grid_column": null,
            "grid_gap": null,
            "grid_row": null,
            "grid_template_areas": null,
            "grid_template_columns": null,
            "grid_template_rows": null,
            "height": null,
            "justify_content": null,
            "justify_items": null,
            "left": null,
            "margin": null,
            "max_height": null,
            "max_width": null,
            "min_height": null,
            "min_width": null,
            "object_fit": null,
            "object_position": null,
            "order": null,
            "overflow": null,
            "overflow_x": null,
            "overflow_y": null,
            "padding": null,
            "right": null,
            "top": null,
            "visibility": null,
            "width": null
          }
        },
        "e4a2b2bf473842e49dcb7c033046890c": {
          "model_module": "@jupyter-widgets/controls",
          "model_name": "ProgressStyleModel",
          "model_module_version": "1.5.0",
          "state": {
            "_model_module": "@jupyter-widgets/controls",
            "_model_module_version": "1.5.0",
            "_model_name": "ProgressStyleModel",
            "_view_count": null,
            "_view_module": "@jupyter-widgets/base",
            "_view_module_version": "1.2.0",
            "_view_name": "StyleView",
            "bar_color": null,
            "description_width": ""
          }
        },
        "43dfb0b9d8174867aa6648b6a9c06884": {
          "model_module": "@jupyter-widgets/base",
          "model_name": "LayoutModel",
          "model_module_version": "1.2.0",
          "state": {
            "_model_module": "@jupyter-widgets/base",
            "_model_module_version": "1.2.0",
            "_model_name": "LayoutModel",
            "_view_count": null,
            "_view_module": "@jupyter-widgets/base",
            "_view_module_version": "1.2.0",
            "_view_name": "LayoutView",
            "align_content": null,
            "align_items": null,
            "align_self": null,
            "border": null,
            "bottom": null,
            "display": null,
            "flex": null,
            "flex_flow": null,
            "grid_area": null,
            "grid_auto_columns": null,
            "grid_auto_flow": null,
            "grid_auto_rows": null,
            "grid_column": null,
            "grid_gap": null,
            "grid_row": null,
            "grid_template_areas": null,
            "grid_template_columns": null,
            "grid_template_rows": null,
            "height": null,
            "justify_content": null,
            "justify_items": null,
            "left": null,
            "margin": null,
            "max_height": null,
            "max_width": null,
            "min_height": null,
            "min_width": null,
            "object_fit": null,
            "object_position": null,
            "order": null,
            "overflow": null,
            "overflow_x": null,
            "overflow_y": null,
            "padding": null,
            "right": null,
            "top": null,
            "visibility": null,
            "width": null
          }
        },
        "99f1a7a4a83d438f87f03fdf2edd14b4": {
          "model_module": "@jupyter-widgets/controls",
          "model_name": "DescriptionStyleModel",
          "model_module_version": "1.5.0",
          "state": {
            "_model_module": "@jupyter-widgets/controls",
            "_model_module_version": "1.5.0",
            "_model_name": "DescriptionStyleModel",
            "_view_count": null,
            "_view_module": "@jupyter-widgets/base",
            "_view_module_version": "1.2.0",
            "_view_name": "StyleView",
            "description_width": ""
          }
        },
        "8cf5e1481a2846deb439ecefd352a048": {
          "model_module": "@jupyter-widgets/controls",
          "model_name": "HBoxModel",
          "model_module_version": "1.5.0",
          "state": {
            "_dom_classes": [],
            "_model_module": "@jupyter-widgets/controls",
            "_model_module_version": "1.5.0",
            "_model_name": "HBoxModel",
            "_view_count": null,
            "_view_module": "@jupyter-widgets/controls",
            "_view_module_version": "1.5.0",
            "_view_name": "HBoxView",
            "box_style": "",
            "children": [
              "IPY_MODEL_817d3945e5a8467d91f0a83cf8fef34a",
              "IPY_MODEL_b9cd15d79d4f4e24b88692c5933164f4",
              "IPY_MODEL_df2dc5e6aafc4ffa923c9e3f0da0903d"
            ],
            "layout": "IPY_MODEL_301432535652434badf275b49035d8ec"
          }
        },
        "817d3945e5a8467d91f0a83cf8fef34a": {
          "model_module": "@jupyter-widgets/controls",
          "model_name": "HTMLModel",
          "model_module_version": "1.5.0",
          "state": {
            "_dom_classes": [],
            "_model_module": "@jupyter-widgets/controls",
            "_model_module_version": "1.5.0",
            "_model_name": "HTMLModel",
            "_view_count": null,
            "_view_module": "@jupyter-widgets/controls",
            "_view_module_version": "1.5.0",
            "_view_name": "HTMLView",
            "description": "",
            "description_tooltip": null,
            "layout": "IPY_MODEL_bdb5097636ec431894b84d0138684f51",
            "placeholder": "​",
            "style": "IPY_MODEL_55aea351373143eab09d2df3b3b11305",
            "value": "model.safetensors: 100%"
          }
        },
        "b9cd15d79d4f4e24b88692c5933164f4": {
          "model_module": "@jupyter-widgets/controls",
          "model_name": "FloatProgressModel",
          "model_module_version": "1.5.0",
          "state": {
            "_dom_classes": [],
            "_model_module": "@jupyter-widgets/controls",
            "_model_module_version": "1.5.0",
            "_model_name": "FloatProgressModel",
            "_view_count": null,
            "_view_module": "@jupyter-widgets/controls",
            "_view_module_version": "1.5.0",
            "_view_name": "ProgressView",
            "bar_style": "success",
            "description": "",
            "description_tooltip": null,
            "layout": "IPY_MODEL_d799035cb8a14472935db51f8af83726",
            "max": 90868376,
            "min": 0,
            "orientation": "horizontal",
            "style": "IPY_MODEL_295fbf89a9aa40a38e515c5f8ca4e302",
            "value": 90868376
          }
        },
        "df2dc5e6aafc4ffa923c9e3f0da0903d": {
          "model_module": "@jupyter-widgets/controls",
          "model_name": "HTMLModel",
          "model_module_version": "1.5.0",
          "state": {
            "_dom_classes": [],
            "_model_module": "@jupyter-widgets/controls",
            "_model_module_version": "1.5.0",
            "_model_name": "HTMLModel",
            "_view_count": null,
            "_view_module": "@jupyter-widgets/controls",
            "_view_module_version": "1.5.0",
            "_view_name": "HTMLView",
            "description": "",
            "description_tooltip": null,
            "layout": "IPY_MODEL_e7ae0cb379b947ef9d9e93adef22136e",
            "placeholder": "​",
            "style": "IPY_MODEL_7b7bc9f07f944dea9f4a3c9220e73f6a",
            "value": " 90.9M/90.9M [00:00&lt;00:00, 175MB/s]"
          }
        },
        "301432535652434badf275b49035d8ec": {
          "model_module": "@jupyter-widgets/base",
          "model_name": "LayoutModel",
          "model_module_version": "1.2.0",
          "state": {
            "_model_module": "@jupyter-widgets/base",
            "_model_module_version": "1.2.0",
            "_model_name": "LayoutModel",
            "_view_count": null,
            "_view_module": "@jupyter-widgets/base",
            "_view_module_version": "1.2.0",
            "_view_name": "LayoutView",
            "align_content": null,
            "align_items": null,
            "align_self": null,
            "border": null,
            "bottom": null,
            "display": null,
            "flex": null,
            "flex_flow": null,
            "grid_area": null,
            "grid_auto_columns": null,
            "grid_auto_flow": null,
            "grid_auto_rows": null,
            "grid_column": null,
            "grid_gap": null,
            "grid_row": null,
            "grid_template_areas": null,
            "grid_template_columns": null,
            "grid_template_rows": null,
            "height": null,
            "justify_content": null,
            "justify_items": null,
            "left": null,
            "margin": null,
            "max_height": null,
            "max_width": null,
            "min_height": null,
            "min_width": null,
            "object_fit": null,
            "object_position": null,
            "order": null,
            "overflow": null,
            "overflow_x": null,
            "overflow_y": null,
            "padding": null,
            "right": null,
            "top": null,
            "visibility": null,
            "width": null
          }
        },
        "bdb5097636ec431894b84d0138684f51": {
          "model_module": "@jupyter-widgets/base",
          "model_name": "LayoutModel",
          "model_module_version": "1.2.0",
          "state": {
            "_model_module": "@jupyter-widgets/base",
            "_model_module_version": "1.2.0",
            "_model_name": "LayoutModel",
            "_view_count": null,
            "_view_module": "@jupyter-widgets/base",
            "_view_module_version": "1.2.0",
            "_view_name": "LayoutView",
            "align_content": null,
            "align_items": null,
            "align_self": null,
            "border": null,
            "bottom": null,
            "display": null,
            "flex": null,
            "flex_flow": null,
            "grid_area": null,
            "grid_auto_columns": null,
            "grid_auto_flow": null,
            "grid_auto_rows": null,
            "grid_column": null,
            "grid_gap": null,
            "grid_row": null,
            "grid_template_areas": null,
            "grid_template_columns": null,
            "grid_template_rows": null,
            "height": null,
            "justify_content": null,
            "justify_items": null,
            "left": null,
            "margin": null,
            "max_height": null,
            "max_width": null,
            "min_height": null,
            "min_width": null,
            "object_fit": null,
            "object_position": null,
            "order": null,
            "overflow": null,
            "overflow_x": null,
            "overflow_y": null,
            "padding": null,
            "right": null,
            "top": null,
            "visibility": null,
            "width": null
          }
        },
        "55aea351373143eab09d2df3b3b11305": {
          "model_module": "@jupyter-widgets/controls",
          "model_name": "DescriptionStyleModel",
          "model_module_version": "1.5.0",
          "state": {
            "_model_module": "@jupyter-widgets/controls",
            "_model_module_version": "1.5.0",
            "_model_name": "DescriptionStyleModel",
            "_view_count": null,
            "_view_module": "@jupyter-widgets/base",
            "_view_module_version": "1.2.0",
            "_view_name": "StyleView",
            "description_width": ""
          }
        },
        "d799035cb8a14472935db51f8af83726": {
          "model_module": "@jupyter-widgets/base",
          "model_name": "LayoutModel",
          "model_module_version": "1.2.0",
          "state": {
            "_model_module": "@jupyter-widgets/base",
            "_model_module_version": "1.2.0",
            "_model_name": "LayoutModel",
            "_view_count": null,
            "_view_module": "@jupyter-widgets/base",
            "_view_module_version": "1.2.0",
            "_view_name": "LayoutView",
            "align_content": null,
            "align_items": null,
            "align_self": null,
            "border": null,
            "bottom": null,
            "display": null,
            "flex": null,
            "flex_flow": null,
            "grid_area": null,
            "grid_auto_columns": null,
            "grid_auto_flow": null,
            "grid_auto_rows": null,
            "grid_column": null,
            "grid_gap": null,
            "grid_row": null,
            "grid_template_areas": null,
            "grid_template_columns": null,
            "grid_template_rows": null,
            "height": null,
            "justify_content": null,
            "justify_items": null,
            "left": null,
            "margin": null,
            "max_height": null,
            "max_width": null,
            "min_height": null,
            "min_width": null,
            "object_fit": null,
            "object_position": null,
            "order": null,
            "overflow": null,
            "overflow_x": null,
            "overflow_y": null,
            "padding": null,
            "right": null,
            "top": null,
            "visibility": null,
            "width": null
          }
        },
        "295fbf89a9aa40a38e515c5f8ca4e302": {
          "model_module": "@jupyter-widgets/controls",
          "model_name": "ProgressStyleModel",
          "model_module_version": "1.5.0",
          "state": {
            "_model_module": "@jupyter-widgets/controls",
            "_model_module_version": "1.5.0",
            "_model_name": "ProgressStyleModel",
            "_view_count": null,
            "_view_module": "@jupyter-widgets/base",
            "_view_module_version": "1.2.0",
            "_view_name": "StyleView",
            "bar_color": null,
            "description_width": ""
          }
        },
        "e7ae0cb379b947ef9d9e93adef22136e": {
          "model_module": "@jupyter-widgets/base",
          "model_name": "LayoutModel",
          "model_module_version": "1.2.0",
          "state": {
            "_model_module": "@jupyter-widgets/base",
            "_model_module_version": "1.2.0",
            "_model_name": "LayoutModel",
            "_view_count": null,
            "_view_module": "@jupyter-widgets/base",
            "_view_module_version": "1.2.0",
            "_view_name": "LayoutView",
            "align_content": null,
            "align_items": null,
            "align_self": null,
            "border": null,
            "bottom": null,
            "display": null,
            "flex": null,
            "flex_flow": null,
            "grid_area": null,
            "grid_auto_columns": null,
            "grid_auto_flow": null,
            "grid_auto_rows": null,
            "grid_column": null,
            "grid_gap": null,
            "grid_row": null,
            "grid_template_areas": null,
            "grid_template_columns": null,
            "grid_template_rows": null,
            "height": null,
            "justify_content": null,
            "justify_items": null,
            "left": null,
            "margin": null,
            "max_height": null,
            "max_width": null,
            "min_height": null,
            "min_width": null,
            "object_fit": null,
            "object_position": null,
            "order": null,
            "overflow": null,
            "overflow_x": null,
            "overflow_y": null,
            "padding": null,
            "right": null,
            "top": null,
            "visibility": null,
            "width": null
          }
        },
        "7b7bc9f07f944dea9f4a3c9220e73f6a": {
          "model_module": "@jupyter-widgets/controls",
          "model_name": "DescriptionStyleModel",
          "model_module_version": "1.5.0",
          "state": {
            "_model_module": "@jupyter-widgets/controls",
            "_model_module_version": "1.5.0",
            "_model_name": "DescriptionStyleModel",
            "_view_count": null,
            "_view_module": "@jupyter-widgets/base",
            "_view_module_version": "1.2.0",
            "_view_name": "StyleView",
            "description_width": ""
          }
        },
        "1c94cbba7ee841e1941775a28db34e92": {
          "model_module": "@jupyter-widgets/controls",
          "model_name": "HBoxModel",
          "model_module_version": "1.5.0",
          "state": {
            "_dom_classes": [],
            "_model_module": "@jupyter-widgets/controls",
            "_model_module_version": "1.5.0",
            "_model_name": "HBoxModel",
            "_view_count": null,
            "_view_module": "@jupyter-widgets/controls",
            "_view_module_version": "1.5.0",
            "_view_name": "HBoxView",
            "box_style": "",
            "children": [
              "IPY_MODEL_192c0d8d3718451caedd9dfaca4689e0",
              "IPY_MODEL_1e5f98f283c44224a0b98c9b887b7ae8",
              "IPY_MODEL_856f0a6acc304456b4d798bc65f0d7f4"
            ],
            "layout": "IPY_MODEL_b8b112c99a9348fa90b5efbed10152c3"
          }
        },
        "192c0d8d3718451caedd9dfaca4689e0": {
          "model_module": "@jupyter-widgets/controls",
          "model_name": "HTMLModel",
          "model_module_version": "1.5.0",
          "state": {
            "_dom_classes": [],
            "_model_module": "@jupyter-widgets/controls",
            "_model_module_version": "1.5.0",
            "_model_name": "HTMLModel",
            "_view_count": null,
            "_view_module": "@jupyter-widgets/controls",
            "_view_module_version": "1.5.0",
            "_view_name": "HTMLView",
            "description": "",
            "description_tooltip": null,
            "layout": "IPY_MODEL_47235e7b28ee4235920291b28c69847b",
            "placeholder": "​",
            "style": "IPY_MODEL_d61bbf37d69446d7b8d351d1aeb6c596",
            "value": "tokenizer_config.json: 100%"
          }
        },
        "1e5f98f283c44224a0b98c9b887b7ae8": {
          "model_module": "@jupyter-widgets/controls",
          "model_name": "FloatProgressModel",
          "model_module_version": "1.5.0",
          "state": {
            "_dom_classes": [],
            "_model_module": "@jupyter-widgets/controls",
            "_model_module_version": "1.5.0",
            "_model_name": "FloatProgressModel",
            "_view_count": null,
            "_view_module": "@jupyter-widgets/controls",
            "_view_module_version": "1.5.0",
            "_view_name": "ProgressView",
            "bar_style": "success",
            "description": "",
            "description_tooltip": null,
            "layout": "IPY_MODEL_92da335510f8423cb3bb6fa54d7d96b5",
            "max": 350,
            "min": 0,
            "orientation": "horizontal",
            "style": "IPY_MODEL_30dc0207b6f94823bc25bcabe2d71202",
            "value": 350
          }
        },
        "856f0a6acc304456b4d798bc65f0d7f4": {
          "model_module": "@jupyter-widgets/controls",
          "model_name": "HTMLModel",
          "model_module_version": "1.5.0",
          "state": {
            "_dom_classes": [],
            "_model_module": "@jupyter-widgets/controls",
            "_model_module_version": "1.5.0",
            "_model_name": "HTMLModel",
            "_view_count": null,
            "_view_module": "@jupyter-widgets/controls",
            "_view_module_version": "1.5.0",
            "_view_name": "HTMLView",
            "description": "",
            "description_tooltip": null,
            "layout": "IPY_MODEL_f6c89d1817f64b6ab2c23ad6ddbf5ef1",
            "placeholder": "​",
            "style": "IPY_MODEL_cf405f0f928946df8f160129eabde3e5",
            "value": " 350/350 [00:00&lt;00:00, 25.0kB/s]"
          }
        },
        "b8b112c99a9348fa90b5efbed10152c3": {
          "model_module": "@jupyter-widgets/base",
          "model_name": "LayoutModel",
          "model_module_version": "1.2.0",
          "state": {
            "_model_module": "@jupyter-widgets/base",
            "_model_module_version": "1.2.0",
            "_model_name": "LayoutModel",
            "_view_count": null,
            "_view_module": "@jupyter-widgets/base",
            "_view_module_version": "1.2.0",
            "_view_name": "LayoutView",
            "align_content": null,
            "align_items": null,
            "align_self": null,
            "border": null,
            "bottom": null,
            "display": null,
            "flex": null,
            "flex_flow": null,
            "grid_area": null,
            "grid_auto_columns": null,
            "grid_auto_flow": null,
            "grid_auto_rows": null,
            "grid_column": null,
            "grid_gap": null,
            "grid_row": null,
            "grid_template_areas": null,
            "grid_template_columns": null,
            "grid_template_rows": null,
            "height": null,
            "justify_content": null,
            "justify_items": null,
            "left": null,
            "margin": null,
            "max_height": null,
            "max_width": null,
            "min_height": null,
            "min_width": null,
            "object_fit": null,
            "object_position": null,
            "order": null,
            "overflow": null,
            "overflow_x": null,
            "overflow_y": null,
            "padding": null,
            "right": null,
            "top": null,
            "visibility": null,
            "width": null
          }
        },
        "47235e7b28ee4235920291b28c69847b": {
          "model_module": "@jupyter-widgets/base",
          "model_name": "LayoutModel",
          "model_module_version": "1.2.0",
          "state": {
            "_model_module": "@jupyter-widgets/base",
            "_model_module_version": "1.2.0",
            "_model_name": "LayoutModel",
            "_view_count": null,
            "_view_module": "@jupyter-widgets/base",
            "_view_module_version": "1.2.0",
            "_view_name": "LayoutView",
            "align_content": null,
            "align_items": null,
            "align_self": null,
            "border": null,
            "bottom": null,
            "display": null,
            "flex": null,
            "flex_flow": null,
            "grid_area": null,
            "grid_auto_columns": null,
            "grid_auto_flow": null,
            "grid_auto_rows": null,
            "grid_column": null,
            "grid_gap": null,
            "grid_row": null,
            "grid_template_areas": null,
            "grid_template_columns": null,
            "grid_template_rows": null,
            "height": null,
            "justify_content": null,
            "justify_items": null,
            "left": null,
            "margin": null,
            "max_height": null,
            "max_width": null,
            "min_height": null,
            "min_width": null,
            "object_fit": null,
            "object_position": null,
            "order": null,
            "overflow": null,
            "overflow_x": null,
            "overflow_y": null,
            "padding": null,
            "right": null,
            "top": null,
            "visibility": null,
            "width": null
          }
        },
        "d61bbf37d69446d7b8d351d1aeb6c596": {
          "model_module": "@jupyter-widgets/controls",
          "model_name": "DescriptionStyleModel",
          "model_module_version": "1.5.0",
          "state": {
            "_model_module": "@jupyter-widgets/controls",
            "_model_module_version": "1.5.0",
            "_model_name": "DescriptionStyleModel",
            "_view_count": null,
            "_view_module": "@jupyter-widgets/base",
            "_view_module_version": "1.2.0",
            "_view_name": "StyleView",
            "description_width": ""
          }
        },
        "92da335510f8423cb3bb6fa54d7d96b5": {
          "model_module": "@jupyter-widgets/base",
          "model_name": "LayoutModel",
          "model_module_version": "1.2.0",
          "state": {
            "_model_module": "@jupyter-widgets/base",
            "_model_module_version": "1.2.0",
            "_model_name": "LayoutModel",
            "_view_count": null,
            "_view_module": "@jupyter-widgets/base",
            "_view_module_version": "1.2.0",
            "_view_name": "LayoutView",
            "align_content": null,
            "align_items": null,
            "align_self": null,
            "border": null,
            "bottom": null,
            "display": null,
            "flex": null,
            "flex_flow": null,
            "grid_area": null,
            "grid_auto_columns": null,
            "grid_auto_flow": null,
            "grid_auto_rows": null,
            "grid_column": null,
            "grid_gap": null,
            "grid_row": null,
            "grid_template_areas": null,
            "grid_template_columns": null,
            "grid_template_rows": null,
            "height": null,
            "justify_content": null,
            "justify_items": null,
            "left": null,
            "margin": null,
            "max_height": null,
            "max_width": null,
            "min_height": null,
            "min_width": null,
            "object_fit": null,
            "object_position": null,
            "order": null,
            "overflow": null,
            "overflow_x": null,
            "overflow_y": null,
            "padding": null,
            "right": null,
            "top": null,
            "visibility": null,
            "width": null
          }
        },
        "30dc0207b6f94823bc25bcabe2d71202": {
          "model_module": "@jupyter-widgets/controls",
          "model_name": "ProgressStyleModel",
          "model_module_version": "1.5.0",
          "state": {
            "_model_module": "@jupyter-widgets/controls",
            "_model_module_version": "1.5.0",
            "_model_name": "ProgressStyleModel",
            "_view_count": null,
            "_view_module": "@jupyter-widgets/base",
            "_view_module_version": "1.2.0",
            "_view_name": "StyleView",
            "bar_color": null,
            "description_width": ""
          }
        },
        "f6c89d1817f64b6ab2c23ad6ddbf5ef1": {
          "model_module": "@jupyter-widgets/base",
          "model_name": "LayoutModel",
          "model_module_version": "1.2.0",
          "state": {
            "_model_module": "@jupyter-widgets/base",
            "_model_module_version": "1.2.0",
            "_model_name": "LayoutModel",
            "_view_count": null,
            "_view_module": "@jupyter-widgets/base",
            "_view_module_version": "1.2.0",
            "_view_name": "LayoutView",
            "align_content": null,
            "align_items": null,
            "align_self": null,
            "border": null,
            "bottom": null,
            "display": null,
            "flex": null,
            "flex_flow": null,
            "grid_area": null,
            "grid_auto_columns": null,
            "grid_auto_flow": null,
            "grid_auto_rows": null,
            "grid_column": null,
            "grid_gap": null,
            "grid_row": null,
            "grid_template_areas": null,
            "grid_template_columns": null,
            "grid_template_rows": null,
            "height": null,
            "justify_content": null,
            "justify_items": null,
            "left": null,
            "margin": null,
            "max_height": null,
            "max_width": null,
            "min_height": null,
            "min_width": null,
            "object_fit": null,
            "object_position": null,
            "order": null,
            "overflow": null,
            "overflow_x": null,
            "overflow_y": null,
            "padding": null,
            "right": null,
            "top": null,
            "visibility": null,
            "width": null
          }
        },
        "cf405f0f928946df8f160129eabde3e5": {
          "model_module": "@jupyter-widgets/controls",
          "model_name": "DescriptionStyleModel",
          "model_module_version": "1.5.0",
          "state": {
            "_model_module": "@jupyter-widgets/controls",
            "_model_module_version": "1.5.0",
            "_model_name": "DescriptionStyleModel",
            "_view_count": null,
            "_view_module": "@jupyter-widgets/base",
            "_view_module_version": "1.2.0",
            "_view_name": "StyleView",
            "description_width": ""
          }
        },
        "f8282fc218864a9796b014acc0580199": {
          "model_module": "@jupyter-widgets/controls",
          "model_name": "HBoxModel",
          "model_module_version": "1.5.0",
          "state": {
            "_dom_classes": [],
            "_model_module": "@jupyter-widgets/controls",
            "_model_module_version": "1.5.0",
            "_model_name": "HBoxModel",
            "_view_count": null,
            "_view_module": "@jupyter-widgets/controls",
            "_view_module_version": "1.5.0",
            "_view_name": "HBoxView",
            "box_style": "",
            "children": [
              "IPY_MODEL_83a31577627141458995b0b8010634e0",
              "IPY_MODEL_2a763a3de06d47baa849e49f89e37365",
              "IPY_MODEL_baf9d9d0821b4ba68d458290179b2eb0"
            ],
            "layout": "IPY_MODEL_964414146bb34bc69f6d833694fbadf6"
          }
        },
        "83a31577627141458995b0b8010634e0": {
          "model_module": "@jupyter-widgets/controls",
          "model_name": "HTMLModel",
          "model_module_version": "1.5.0",
          "state": {
            "_dom_classes": [],
            "_model_module": "@jupyter-widgets/controls",
            "_model_module_version": "1.5.0",
            "_model_name": "HTMLModel",
            "_view_count": null,
            "_view_module": "@jupyter-widgets/controls",
            "_view_module_version": "1.5.0",
            "_view_name": "HTMLView",
            "description": "",
            "description_tooltip": null,
            "layout": "IPY_MODEL_8741301341f645439ee9866f4596fe4e",
            "placeholder": "​",
            "style": "IPY_MODEL_670a7eb70e01445f953acfbbbeea1514",
            "value": "vocab.txt: 100%"
          }
        },
        "2a763a3de06d47baa849e49f89e37365": {
          "model_module": "@jupyter-widgets/controls",
          "model_name": "FloatProgressModel",
          "model_module_version": "1.5.0",
          "state": {
            "_dom_classes": [],
            "_model_module": "@jupyter-widgets/controls",
            "_model_module_version": "1.5.0",
            "_model_name": "FloatProgressModel",
            "_view_count": null,
            "_view_module": "@jupyter-widgets/controls",
            "_view_module_version": "1.5.0",
            "_view_name": "ProgressView",
            "bar_style": "success",
            "description": "",
            "description_tooltip": null,
            "layout": "IPY_MODEL_32d2dbc867cb48198f588e2754f6052a",
            "max": 231508,
            "min": 0,
            "orientation": "horizontal",
            "style": "IPY_MODEL_0004c319844a4caeb0437e214260249d",
            "value": 231508
          }
        },
        "baf9d9d0821b4ba68d458290179b2eb0": {
          "model_module": "@jupyter-widgets/controls",
          "model_name": "HTMLModel",
          "model_module_version": "1.5.0",
          "state": {
            "_dom_classes": [],
            "_model_module": "@jupyter-widgets/controls",
            "_model_module_version": "1.5.0",
            "_model_name": "HTMLModel",
            "_view_count": null,
            "_view_module": "@jupyter-widgets/controls",
            "_view_module_version": "1.5.0",
            "_view_name": "HTMLView",
            "description": "",
            "description_tooltip": null,
            "layout": "IPY_MODEL_cf164d1c9ca64e1980d0cf6d7551abad",
            "placeholder": "​",
            "style": "IPY_MODEL_03389fc1a3a9482793b4a745e7dfca65",
            "value": " 232k/232k [00:00&lt;00:00, 4.55MB/s]"
          }
        },
        "964414146bb34bc69f6d833694fbadf6": {
          "model_module": "@jupyter-widgets/base",
          "model_name": "LayoutModel",
          "model_module_version": "1.2.0",
          "state": {
            "_model_module": "@jupyter-widgets/base",
            "_model_module_version": "1.2.0",
            "_model_name": "LayoutModel",
            "_view_count": null,
            "_view_module": "@jupyter-widgets/base",
            "_view_module_version": "1.2.0",
            "_view_name": "LayoutView",
            "align_content": null,
            "align_items": null,
            "align_self": null,
            "border": null,
            "bottom": null,
            "display": null,
            "flex": null,
            "flex_flow": null,
            "grid_area": null,
            "grid_auto_columns": null,
            "grid_auto_flow": null,
            "grid_auto_rows": null,
            "grid_column": null,
            "grid_gap": null,
            "grid_row": null,
            "grid_template_areas": null,
            "grid_template_columns": null,
            "grid_template_rows": null,
            "height": null,
            "justify_content": null,
            "justify_items": null,
            "left": null,
            "margin": null,
            "max_height": null,
            "max_width": null,
            "min_height": null,
            "min_width": null,
            "object_fit": null,
            "object_position": null,
            "order": null,
            "overflow": null,
            "overflow_x": null,
            "overflow_y": null,
            "padding": null,
            "right": null,
            "top": null,
            "visibility": null,
            "width": null
          }
        },
        "8741301341f645439ee9866f4596fe4e": {
          "model_module": "@jupyter-widgets/base",
          "model_name": "LayoutModel",
          "model_module_version": "1.2.0",
          "state": {
            "_model_module": "@jupyter-widgets/base",
            "_model_module_version": "1.2.0",
            "_model_name": "LayoutModel",
            "_view_count": null,
            "_view_module": "@jupyter-widgets/base",
            "_view_module_version": "1.2.0",
            "_view_name": "LayoutView",
            "align_content": null,
            "align_items": null,
            "align_self": null,
            "border": null,
            "bottom": null,
            "display": null,
            "flex": null,
            "flex_flow": null,
            "grid_area": null,
            "grid_auto_columns": null,
            "grid_auto_flow": null,
            "grid_auto_rows": null,
            "grid_column": null,
            "grid_gap": null,
            "grid_row": null,
            "grid_template_areas": null,
            "grid_template_columns": null,
            "grid_template_rows": null,
            "height": null,
            "justify_content": null,
            "justify_items": null,
            "left": null,
            "margin": null,
            "max_height": null,
            "max_width": null,
            "min_height": null,
            "min_width": null,
            "object_fit": null,
            "object_position": null,
            "order": null,
            "overflow": null,
            "overflow_x": null,
            "overflow_y": null,
            "padding": null,
            "right": null,
            "top": null,
            "visibility": null,
            "width": null
          }
        },
        "670a7eb70e01445f953acfbbbeea1514": {
          "model_module": "@jupyter-widgets/controls",
          "model_name": "DescriptionStyleModel",
          "model_module_version": "1.5.0",
          "state": {
            "_model_module": "@jupyter-widgets/controls",
            "_model_module_version": "1.5.0",
            "_model_name": "DescriptionStyleModel",
            "_view_count": null,
            "_view_module": "@jupyter-widgets/base",
            "_view_module_version": "1.2.0",
            "_view_name": "StyleView",
            "description_width": ""
          }
        },
        "32d2dbc867cb48198f588e2754f6052a": {
          "model_module": "@jupyter-widgets/base",
          "model_name": "LayoutModel",
          "model_module_version": "1.2.0",
          "state": {
            "_model_module": "@jupyter-widgets/base",
            "_model_module_version": "1.2.0",
            "_model_name": "LayoutModel",
            "_view_count": null,
            "_view_module": "@jupyter-widgets/base",
            "_view_module_version": "1.2.0",
            "_view_name": "LayoutView",
            "align_content": null,
            "align_items": null,
            "align_self": null,
            "border": null,
            "bottom": null,
            "display": null,
            "flex": null,
            "flex_flow": null,
            "grid_area": null,
            "grid_auto_columns": null,
            "grid_auto_flow": null,
            "grid_auto_rows": null,
            "grid_column": null,
            "grid_gap": null,
            "grid_row": null,
            "grid_template_areas": null,
            "grid_template_columns": null,
            "grid_template_rows": null,
            "height": null,
            "justify_content": null,
            "justify_items": null,
            "left": null,
            "margin": null,
            "max_height": null,
            "max_width": null,
            "min_height": null,
            "min_width": null,
            "object_fit": null,
            "object_position": null,
            "order": null,
            "overflow": null,
            "overflow_x": null,
            "overflow_y": null,
            "padding": null,
            "right": null,
            "top": null,
            "visibility": null,
            "width": null
          }
        },
        "0004c319844a4caeb0437e214260249d": {
          "model_module": "@jupyter-widgets/controls",
          "model_name": "ProgressStyleModel",
          "model_module_version": "1.5.0",
          "state": {
            "_model_module": "@jupyter-widgets/controls",
            "_model_module_version": "1.5.0",
            "_model_name": "ProgressStyleModel",
            "_view_count": null,
            "_view_module": "@jupyter-widgets/base",
            "_view_module_version": "1.2.0",
            "_view_name": "StyleView",
            "bar_color": null,
            "description_width": ""
          }
        },
        "cf164d1c9ca64e1980d0cf6d7551abad": {
          "model_module": "@jupyter-widgets/base",
          "model_name": "LayoutModel",
          "model_module_version": "1.2.0",
          "state": {
            "_model_module": "@jupyter-widgets/base",
            "_model_module_version": "1.2.0",
            "_model_name": "LayoutModel",
            "_view_count": null,
            "_view_module": "@jupyter-widgets/base",
            "_view_module_version": "1.2.0",
            "_view_name": "LayoutView",
            "align_content": null,
            "align_items": null,
            "align_self": null,
            "border": null,
            "bottom": null,
            "display": null,
            "flex": null,
            "flex_flow": null,
            "grid_area": null,
            "grid_auto_columns": null,
            "grid_auto_flow": null,
            "grid_auto_rows": null,
            "grid_column": null,
            "grid_gap": null,
            "grid_row": null,
            "grid_template_areas": null,
            "grid_template_columns": null,
            "grid_template_rows": null,
            "height": null,
            "justify_content": null,
            "justify_items": null,
            "left": null,
            "margin": null,
            "max_height": null,
            "max_width": null,
            "min_height": null,
            "min_width": null,
            "object_fit": null,
            "object_position": null,
            "order": null,
            "overflow": null,
            "overflow_x": null,
            "overflow_y": null,
            "padding": null,
            "right": null,
            "top": null,
            "visibility": null,
            "width": null
          }
        },
        "03389fc1a3a9482793b4a745e7dfca65": {
          "model_module": "@jupyter-widgets/controls",
          "model_name": "DescriptionStyleModel",
          "model_module_version": "1.5.0",
          "state": {
            "_model_module": "@jupyter-widgets/controls",
            "_model_module_version": "1.5.0",
            "_model_name": "DescriptionStyleModel",
            "_view_count": null,
            "_view_module": "@jupyter-widgets/base",
            "_view_module_version": "1.2.0",
            "_view_name": "StyleView",
            "description_width": ""
          }
        },
        "93ec4a3bbda24298885e2db1977c4338": {
          "model_module": "@jupyter-widgets/controls",
          "model_name": "HBoxModel",
          "model_module_version": "1.5.0",
          "state": {
            "_dom_classes": [],
            "_model_module": "@jupyter-widgets/controls",
            "_model_module_version": "1.5.0",
            "_model_name": "HBoxModel",
            "_view_count": null,
            "_view_module": "@jupyter-widgets/controls",
            "_view_module_version": "1.5.0",
            "_view_name": "HBoxView",
            "box_style": "",
            "children": [
              "IPY_MODEL_e3b7547715df41e086762d21a66ab1e0",
              "IPY_MODEL_0e1a4830643a43b7a8a846c267619e5e",
              "IPY_MODEL_38864106278a48bb9ae2a5fa42d351fa"
            ],
            "layout": "IPY_MODEL_8bfbb7d81ccb4777aaa1e1b5523f9b11"
          }
        },
        "e3b7547715df41e086762d21a66ab1e0": {
          "model_module": "@jupyter-widgets/controls",
          "model_name": "HTMLModel",
          "model_module_version": "1.5.0",
          "state": {
            "_dom_classes": [],
            "_model_module": "@jupyter-widgets/controls",
            "_model_module_version": "1.5.0",
            "_model_name": "HTMLModel",
            "_view_count": null,
            "_view_module": "@jupyter-widgets/controls",
            "_view_module_version": "1.5.0",
            "_view_name": "HTMLView",
            "description": "",
            "description_tooltip": null,
            "layout": "IPY_MODEL_6889cee0349242289b5063d66836d85f",
            "placeholder": "​",
            "style": "IPY_MODEL_8c73811007ab47d79bee24005dcc55ad",
            "value": "tokenizer.json: 100%"
          }
        },
        "0e1a4830643a43b7a8a846c267619e5e": {
          "model_module": "@jupyter-widgets/controls",
          "model_name": "FloatProgressModel",
          "model_module_version": "1.5.0",
          "state": {
            "_dom_classes": [],
            "_model_module": "@jupyter-widgets/controls",
            "_model_module_version": "1.5.0",
            "_model_name": "FloatProgressModel",
            "_view_count": null,
            "_view_module": "@jupyter-widgets/controls",
            "_view_module_version": "1.5.0",
            "_view_name": "ProgressView",
            "bar_style": "success",
            "description": "",
            "description_tooltip": null,
            "layout": "IPY_MODEL_d3016660b0c34731a2ad87d498effe87",
            "max": 466247,
            "min": 0,
            "orientation": "horizontal",
            "style": "IPY_MODEL_eea28bec3fa345999b0c3286493628ca",
            "value": 466247
          }
        },
        "38864106278a48bb9ae2a5fa42d351fa": {
          "model_module": "@jupyter-widgets/controls",
          "model_name": "HTMLModel",
          "model_module_version": "1.5.0",
          "state": {
            "_dom_classes": [],
            "_model_module": "@jupyter-widgets/controls",
            "_model_module_version": "1.5.0",
            "_model_name": "HTMLModel",
            "_view_count": null,
            "_view_module": "@jupyter-widgets/controls",
            "_view_module_version": "1.5.0",
            "_view_name": "HTMLView",
            "description": "",
            "description_tooltip": null,
            "layout": "IPY_MODEL_69bed7e9f99e478a894322c161e54df4",
            "placeholder": "​",
            "style": "IPY_MODEL_e891ae356f134ed089f533bf34b11634",
            "value": " 466k/466k [00:00&lt;00:00, 6.83MB/s]"
          }
        },
        "8bfbb7d81ccb4777aaa1e1b5523f9b11": {
          "model_module": "@jupyter-widgets/base",
          "model_name": "LayoutModel",
          "model_module_version": "1.2.0",
          "state": {
            "_model_module": "@jupyter-widgets/base",
            "_model_module_version": "1.2.0",
            "_model_name": "LayoutModel",
            "_view_count": null,
            "_view_module": "@jupyter-widgets/base",
            "_view_module_version": "1.2.0",
            "_view_name": "LayoutView",
            "align_content": null,
            "align_items": null,
            "align_self": null,
            "border": null,
            "bottom": null,
            "display": null,
            "flex": null,
            "flex_flow": null,
            "grid_area": null,
            "grid_auto_columns": null,
            "grid_auto_flow": null,
            "grid_auto_rows": null,
            "grid_column": null,
            "grid_gap": null,
            "grid_row": null,
            "grid_template_areas": null,
            "grid_template_columns": null,
            "grid_template_rows": null,
            "height": null,
            "justify_content": null,
            "justify_items": null,
            "left": null,
            "margin": null,
            "max_height": null,
            "max_width": null,
            "min_height": null,
            "min_width": null,
            "object_fit": null,
            "object_position": null,
            "order": null,
            "overflow": null,
            "overflow_x": null,
            "overflow_y": null,
            "padding": null,
            "right": null,
            "top": null,
            "visibility": null,
            "width": null
          }
        },
        "6889cee0349242289b5063d66836d85f": {
          "model_module": "@jupyter-widgets/base",
          "model_name": "LayoutModel",
          "model_module_version": "1.2.0",
          "state": {
            "_model_module": "@jupyter-widgets/base",
            "_model_module_version": "1.2.0",
            "_model_name": "LayoutModel",
            "_view_count": null,
            "_view_module": "@jupyter-widgets/base",
            "_view_module_version": "1.2.0",
            "_view_name": "LayoutView",
            "align_content": null,
            "align_items": null,
            "align_self": null,
            "border": null,
            "bottom": null,
            "display": null,
            "flex": null,
            "flex_flow": null,
            "grid_area": null,
            "grid_auto_columns": null,
            "grid_auto_flow": null,
            "grid_auto_rows": null,
            "grid_column": null,
            "grid_gap": null,
            "grid_row": null,
            "grid_template_areas": null,
            "grid_template_columns": null,
            "grid_template_rows": null,
            "height": null,
            "justify_content": null,
            "justify_items": null,
            "left": null,
            "margin": null,
            "max_height": null,
            "max_width": null,
            "min_height": null,
            "min_width": null,
            "object_fit": null,
            "object_position": null,
            "order": null,
            "overflow": null,
            "overflow_x": null,
            "overflow_y": null,
            "padding": null,
            "right": null,
            "top": null,
            "visibility": null,
            "width": null
          }
        },
        "8c73811007ab47d79bee24005dcc55ad": {
          "model_module": "@jupyter-widgets/controls",
          "model_name": "DescriptionStyleModel",
          "model_module_version": "1.5.0",
          "state": {
            "_model_module": "@jupyter-widgets/controls",
            "_model_module_version": "1.5.0",
            "_model_name": "DescriptionStyleModel",
            "_view_count": null,
            "_view_module": "@jupyter-widgets/base",
            "_view_module_version": "1.2.0",
            "_view_name": "StyleView",
            "description_width": ""
          }
        },
        "d3016660b0c34731a2ad87d498effe87": {
          "model_module": "@jupyter-widgets/base",
          "model_name": "LayoutModel",
          "model_module_version": "1.2.0",
          "state": {
            "_model_module": "@jupyter-widgets/base",
            "_model_module_version": "1.2.0",
            "_model_name": "LayoutModel",
            "_view_count": null,
            "_view_module": "@jupyter-widgets/base",
            "_view_module_version": "1.2.0",
            "_view_name": "LayoutView",
            "align_content": null,
            "align_items": null,
            "align_self": null,
            "border": null,
            "bottom": null,
            "display": null,
            "flex": null,
            "flex_flow": null,
            "grid_area": null,
            "grid_auto_columns": null,
            "grid_auto_flow": null,
            "grid_auto_rows": null,
            "grid_column": null,
            "grid_gap": null,
            "grid_row": null,
            "grid_template_areas": null,
            "grid_template_columns": null,
            "grid_template_rows": null,
            "height": null,
            "justify_content": null,
            "justify_items": null,
            "left": null,
            "margin": null,
            "max_height": null,
            "max_width": null,
            "min_height": null,
            "min_width": null,
            "object_fit": null,
            "object_position": null,
            "order": null,
            "overflow": null,
            "overflow_x": null,
            "overflow_y": null,
            "padding": null,
            "right": null,
            "top": null,
            "visibility": null,
            "width": null
          }
        },
        "eea28bec3fa345999b0c3286493628ca": {
          "model_module": "@jupyter-widgets/controls",
          "model_name": "ProgressStyleModel",
          "model_module_version": "1.5.0",
          "state": {
            "_model_module": "@jupyter-widgets/controls",
            "_model_module_version": "1.5.0",
            "_model_name": "ProgressStyleModel",
            "_view_count": null,
            "_view_module": "@jupyter-widgets/base",
            "_view_module_version": "1.2.0",
            "_view_name": "StyleView",
            "bar_color": null,
            "description_width": ""
          }
        },
        "69bed7e9f99e478a894322c161e54df4": {
          "model_module": "@jupyter-widgets/base",
          "model_name": "LayoutModel",
          "model_module_version": "1.2.0",
          "state": {
            "_model_module": "@jupyter-widgets/base",
            "_model_module_version": "1.2.0",
            "_model_name": "LayoutModel",
            "_view_count": null,
            "_view_module": "@jupyter-widgets/base",
            "_view_module_version": "1.2.0",
            "_view_name": "LayoutView",
            "align_content": null,
            "align_items": null,
            "align_self": null,
            "border": null,
            "bottom": null,
            "display": null,
            "flex": null,
            "flex_flow": null,
            "grid_area": null,
            "grid_auto_columns": null,
            "grid_auto_flow": null,
            "grid_auto_rows": null,
            "grid_column": null,
            "grid_gap": null,
            "grid_row": null,
            "grid_template_areas": null,
            "grid_template_columns": null,
            "grid_template_rows": null,
            "height": null,
            "justify_content": null,
            "justify_items": null,
            "left": null,
            "margin": null,
            "max_height": null,
            "max_width": null,
            "min_height": null,
            "min_width": null,
            "object_fit": null,
            "object_position": null,
            "order": null,
            "overflow": null,
            "overflow_x": null,
            "overflow_y": null,
            "padding": null,
            "right": null,
            "top": null,
            "visibility": null,
            "width": null
          }
        },
        "e891ae356f134ed089f533bf34b11634": {
          "model_module": "@jupyter-widgets/controls",
          "model_name": "DescriptionStyleModel",
          "model_module_version": "1.5.0",
          "state": {
            "_model_module": "@jupyter-widgets/controls",
            "_model_module_version": "1.5.0",
            "_model_name": "DescriptionStyleModel",
            "_view_count": null,
            "_view_module": "@jupyter-widgets/base",
            "_view_module_version": "1.2.0",
            "_view_name": "StyleView",
            "description_width": ""
          }
        },
        "6858d3aa30a3434a807495780937818f": {
          "model_module": "@jupyter-widgets/controls",
          "model_name": "HBoxModel",
          "model_module_version": "1.5.0",
          "state": {
            "_dom_classes": [],
            "_model_module": "@jupyter-widgets/controls",
            "_model_module_version": "1.5.0",
            "_model_name": "HBoxModel",
            "_view_count": null,
            "_view_module": "@jupyter-widgets/controls",
            "_view_module_version": "1.5.0",
            "_view_name": "HBoxView",
            "box_style": "",
            "children": [
              "IPY_MODEL_3cc4dc0fcacf49089b35af26dcfbd0e2",
              "IPY_MODEL_b53cb51db6974456be94053c74dbca13",
              "IPY_MODEL_fba2624ceff242d08e25efc79e7a639e"
            ],
            "layout": "IPY_MODEL_70ade376a5154c7d8d7b81cc514591e8"
          }
        },
        "3cc4dc0fcacf49089b35af26dcfbd0e2": {
          "model_module": "@jupyter-widgets/controls",
          "model_name": "HTMLModel",
          "model_module_version": "1.5.0",
          "state": {
            "_dom_classes": [],
            "_model_module": "@jupyter-widgets/controls",
            "_model_module_version": "1.5.0",
            "_model_name": "HTMLModel",
            "_view_count": null,
            "_view_module": "@jupyter-widgets/controls",
            "_view_module_version": "1.5.0",
            "_view_name": "HTMLView",
            "description": "",
            "description_tooltip": null,
            "layout": "IPY_MODEL_a84a0b28cf5e49559e7078473aa62fcd",
            "placeholder": "​",
            "style": "IPY_MODEL_4b0e6200eaf543569e1395e74b29ed8c",
            "value": "special_tokens_map.json: 100%"
          }
        },
        "b53cb51db6974456be94053c74dbca13": {
          "model_module": "@jupyter-widgets/controls",
          "model_name": "FloatProgressModel",
          "model_module_version": "1.5.0",
          "state": {
            "_dom_classes": [],
            "_model_module": "@jupyter-widgets/controls",
            "_model_module_version": "1.5.0",
            "_model_name": "FloatProgressModel",
            "_view_count": null,
            "_view_module": "@jupyter-widgets/controls",
            "_view_module_version": "1.5.0",
            "_view_name": "ProgressView",
            "bar_style": "success",
            "description": "",
            "description_tooltip": null,
            "layout": "IPY_MODEL_9996f4bc50634a9ba9b232001e09e16a",
            "max": 112,
            "min": 0,
            "orientation": "horizontal",
            "style": "IPY_MODEL_bc7ca886a3984acb9fca90a8ee96cc06",
            "value": 112
          }
        },
        "fba2624ceff242d08e25efc79e7a639e": {
          "model_module": "@jupyter-widgets/controls",
          "model_name": "HTMLModel",
          "model_module_version": "1.5.0",
          "state": {
            "_dom_classes": [],
            "_model_module": "@jupyter-widgets/controls",
            "_model_module_version": "1.5.0",
            "_model_name": "HTMLModel",
            "_view_count": null,
            "_view_module": "@jupyter-widgets/controls",
            "_view_module_version": "1.5.0",
            "_view_name": "HTMLView",
            "description": "",
            "description_tooltip": null,
            "layout": "IPY_MODEL_4eb19480c1e4418db8915831b95a4fba",
            "placeholder": "​",
            "style": "IPY_MODEL_edbf4544656d419ca128363958b40476",
            "value": " 112/112 [00:00&lt;00:00, 8.04kB/s]"
          }
        },
        "70ade376a5154c7d8d7b81cc514591e8": {
          "model_module": "@jupyter-widgets/base",
          "model_name": "LayoutModel",
          "model_module_version": "1.2.0",
          "state": {
            "_model_module": "@jupyter-widgets/base",
            "_model_module_version": "1.2.0",
            "_model_name": "LayoutModel",
            "_view_count": null,
            "_view_module": "@jupyter-widgets/base",
            "_view_module_version": "1.2.0",
            "_view_name": "LayoutView",
            "align_content": null,
            "align_items": null,
            "align_self": null,
            "border": null,
            "bottom": null,
            "display": null,
            "flex": null,
            "flex_flow": null,
            "grid_area": null,
            "grid_auto_columns": null,
            "grid_auto_flow": null,
            "grid_auto_rows": null,
            "grid_column": null,
            "grid_gap": null,
            "grid_row": null,
            "grid_template_areas": null,
            "grid_template_columns": null,
            "grid_template_rows": null,
            "height": null,
            "justify_content": null,
            "justify_items": null,
            "left": null,
            "margin": null,
            "max_height": null,
            "max_width": null,
            "min_height": null,
            "min_width": null,
            "object_fit": null,
            "object_position": null,
            "order": null,
            "overflow": null,
            "overflow_x": null,
            "overflow_y": null,
            "padding": null,
            "right": null,
            "top": null,
            "visibility": null,
            "width": null
          }
        },
        "a84a0b28cf5e49559e7078473aa62fcd": {
          "model_module": "@jupyter-widgets/base",
          "model_name": "LayoutModel",
          "model_module_version": "1.2.0",
          "state": {
            "_model_module": "@jupyter-widgets/base",
            "_model_module_version": "1.2.0",
            "_model_name": "LayoutModel",
            "_view_count": null,
            "_view_module": "@jupyter-widgets/base",
            "_view_module_version": "1.2.0",
            "_view_name": "LayoutView",
            "align_content": null,
            "align_items": null,
            "align_self": null,
            "border": null,
            "bottom": null,
            "display": null,
            "flex": null,
            "flex_flow": null,
            "grid_area": null,
            "grid_auto_columns": null,
            "grid_auto_flow": null,
            "grid_auto_rows": null,
            "grid_column": null,
            "grid_gap": null,
            "grid_row": null,
            "grid_template_areas": null,
            "grid_template_columns": null,
            "grid_template_rows": null,
            "height": null,
            "justify_content": null,
            "justify_items": null,
            "left": null,
            "margin": null,
            "max_height": null,
            "max_width": null,
            "min_height": null,
            "min_width": null,
            "object_fit": null,
            "object_position": null,
            "order": null,
            "overflow": null,
            "overflow_x": null,
            "overflow_y": null,
            "padding": null,
            "right": null,
            "top": null,
            "visibility": null,
            "width": null
          }
        },
        "4b0e6200eaf543569e1395e74b29ed8c": {
          "model_module": "@jupyter-widgets/controls",
          "model_name": "DescriptionStyleModel",
          "model_module_version": "1.5.0",
          "state": {
            "_model_module": "@jupyter-widgets/controls",
            "_model_module_version": "1.5.0",
            "_model_name": "DescriptionStyleModel",
            "_view_count": null,
            "_view_module": "@jupyter-widgets/base",
            "_view_module_version": "1.2.0",
            "_view_name": "StyleView",
            "description_width": ""
          }
        },
        "9996f4bc50634a9ba9b232001e09e16a": {
          "model_module": "@jupyter-widgets/base",
          "model_name": "LayoutModel",
          "model_module_version": "1.2.0",
          "state": {
            "_model_module": "@jupyter-widgets/base",
            "_model_module_version": "1.2.0",
            "_model_name": "LayoutModel",
            "_view_count": null,
            "_view_module": "@jupyter-widgets/base",
            "_view_module_version": "1.2.0",
            "_view_name": "LayoutView",
            "align_content": null,
            "align_items": null,
            "align_self": null,
            "border": null,
            "bottom": null,
            "display": null,
            "flex": null,
            "flex_flow": null,
            "grid_area": null,
            "grid_auto_columns": null,
            "grid_auto_flow": null,
            "grid_auto_rows": null,
            "grid_column": null,
            "grid_gap": null,
            "grid_row": null,
            "grid_template_areas": null,
            "grid_template_columns": null,
            "grid_template_rows": null,
            "height": null,
            "justify_content": null,
            "justify_items": null,
            "left": null,
            "margin": null,
            "max_height": null,
            "max_width": null,
            "min_height": null,
            "min_width": null,
            "object_fit": null,
            "object_position": null,
            "order": null,
            "overflow": null,
            "overflow_x": null,
            "overflow_y": null,
            "padding": null,
            "right": null,
            "top": null,
            "visibility": null,
            "width": null
          }
        },
        "bc7ca886a3984acb9fca90a8ee96cc06": {
          "model_module": "@jupyter-widgets/controls",
          "model_name": "ProgressStyleModel",
          "model_module_version": "1.5.0",
          "state": {
            "_model_module": "@jupyter-widgets/controls",
            "_model_module_version": "1.5.0",
            "_model_name": "ProgressStyleModel",
            "_view_count": null,
            "_view_module": "@jupyter-widgets/base",
            "_view_module_version": "1.2.0",
            "_view_name": "StyleView",
            "bar_color": null,
            "description_width": ""
          }
        },
        "4eb19480c1e4418db8915831b95a4fba": {
          "model_module": "@jupyter-widgets/base",
          "model_name": "LayoutModel",
          "model_module_version": "1.2.0",
          "state": {
            "_model_module": "@jupyter-widgets/base",
            "_model_module_version": "1.2.0",
            "_model_name": "LayoutModel",
            "_view_count": null,
            "_view_module": "@jupyter-widgets/base",
            "_view_module_version": "1.2.0",
            "_view_name": "LayoutView",
            "align_content": null,
            "align_items": null,
            "align_self": null,
            "border": null,
            "bottom": null,
            "display": null,
            "flex": null,
            "flex_flow": null,
            "grid_area": null,
            "grid_auto_columns": null,
            "grid_auto_flow": null,
            "grid_auto_rows": null,
            "grid_column": null,
            "grid_gap": null,
            "grid_row": null,
            "grid_template_areas": null,
            "grid_template_columns": null,
            "grid_template_rows": null,
            "height": null,
            "justify_content": null,
            "justify_items": null,
            "left": null,
            "margin": null,
            "max_height": null,
            "max_width": null,
            "min_height": null,
            "min_width": null,
            "object_fit": null,
            "object_position": null,
            "order": null,
            "overflow": null,
            "overflow_x": null,
            "overflow_y": null,
            "padding": null,
            "right": null,
            "top": null,
            "visibility": null,
            "width": null
          }
        },
        "edbf4544656d419ca128363958b40476": {
          "model_module": "@jupyter-widgets/controls",
          "model_name": "DescriptionStyleModel",
          "model_module_version": "1.5.0",
          "state": {
            "_model_module": "@jupyter-widgets/controls",
            "_model_module_version": "1.5.0",
            "_model_name": "DescriptionStyleModel",
            "_view_count": null,
            "_view_module": "@jupyter-widgets/base",
            "_view_module_version": "1.2.0",
            "_view_name": "StyleView",
            "description_width": ""
          }
        },
        "8ab2f8c05b894ef7ad934208eb269b7d": {
          "model_module": "@jupyter-widgets/controls",
          "model_name": "HBoxModel",
          "model_module_version": "1.5.0",
          "state": {
            "_dom_classes": [],
            "_model_module": "@jupyter-widgets/controls",
            "_model_module_version": "1.5.0",
            "_model_name": "HBoxModel",
            "_view_count": null,
            "_view_module": "@jupyter-widgets/controls",
            "_view_module_version": "1.5.0",
            "_view_name": "HBoxView",
            "box_style": "",
            "children": [
              "IPY_MODEL_861c236e243d470d97c214546951bc08",
              "IPY_MODEL_a2dc85cdbed94f9b9f2139e0426a6f52",
              "IPY_MODEL_c1f2057e2b504dc0be749a8e86d3e328"
            ],
            "layout": "IPY_MODEL_ad8a4805f6c64cd49898706c3ec7ddaa"
          }
        },
        "861c236e243d470d97c214546951bc08": {
          "model_module": "@jupyter-widgets/controls",
          "model_name": "HTMLModel",
          "model_module_version": "1.5.0",
          "state": {
            "_dom_classes": [],
            "_model_module": "@jupyter-widgets/controls",
            "_model_module_version": "1.5.0",
            "_model_name": "HTMLModel",
            "_view_count": null,
            "_view_module": "@jupyter-widgets/controls",
            "_view_module_version": "1.5.0",
            "_view_name": "HTMLView",
            "description": "",
            "description_tooltip": null,
            "layout": "IPY_MODEL_e3c4927d6332482ba018c89cc280fab0",
            "placeholder": "​",
            "style": "IPY_MODEL_180494a1ef0845b3a8ecee2b74c8b304",
            "value": "1_Pooling/config.json: 100%"
          }
        },
        "a2dc85cdbed94f9b9f2139e0426a6f52": {
          "model_module": "@jupyter-widgets/controls",
          "model_name": "FloatProgressModel",
          "model_module_version": "1.5.0",
          "state": {
            "_dom_classes": [],
            "_model_module": "@jupyter-widgets/controls",
            "_model_module_version": "1.5.0",
            "_model_name": "FloatProgressModel",
            "_view_count": null,
            "_view_module": "@jupyter-widgets/controls",
            "_view_module_version": "1.5.0",
            "_view_name": "ProgressView",
            "bar_style": "success",
            "description": "",
            "description_tooltip": null,
            "layout": "IPY_MODEL_d5c5ff0025fd4412a8d7b1912351e4c4",
            "max": 190,
            "min": 0,
            "orientation": "horizontal",
            "style": "IPY_MODEL_c076ca80d69f4253a42dd3f41ec86552",
            "value": 190
          }
        },
        "c1f2057e2b504dc0be749a8e86d3e328": {
          "model_module": "@jupyter-widgets/controls",
          "model_name": "HTMLModel",
          "model_module_version": "1.5.0",
          "state": {
            "_dom_classes": [],
            "_model_module": "@jupyter-widgets/controls",
            "_model_module_version": "1.5.0",
            "_model_name": "HTMLModel",
            "_view_count": null,
            "_view_module": "@jupyter-widgets/controls",
            "_view_module_version": "1.5.0",
            "_view_name": "HTMLView",
            "description": "",
            "description_tooltip": null,
            "layout": "IPY_MODEL_ab3d0779aff14fe3af1aa1cd87474e79",
            "placeholder": "​",
            "style": "IPY_MODEL_9bef5e8cd0f84c48aabed202deff2cf9",
            "value": " 190/190 [00:00&lt;00:00, 10.2kB/s]"
          }
        },
        "ad8a4805f6c64cd49898706c3ec7ddaa": {
          "model_module": "@jupyter-widgets/base",
          "model_name": "LayoutModel",
          "model_module_version": "1.2.0",
          "state": {
            "_model_module": "@jupyter-widgets/base",
            "_model_module_version": "1.2.0",
            "_model_name": "LayoutModel",
            "_view_count": null,
            "_view_module": "@jupyter-widgets/base",
            "_view_module_version": "1.2.0",
            "_view_name": "LayoutView",
            "align_content": null,
            "align_items": null,
            "align_self": null,
            "border": null,
            "bottom": null,
            "display": null,
            "flex": null,
            "flex_flow": null,
            "grid_area": null,
            "grid_auto_columns": null,
            "grid_auto_flow": null,
            "grid_auto_rows": null,
            "grid_column": null,
            "grid_gap": null,
            "grid_row": null,
            "grid_template_areas": null,
            "grid_template_columns": null,
            "grid_template_rows": null,
            "height": null,
            "justify_content": null,
            "justify_items": null,
            "left": null,
            "margin": null,
            "max_height": null,
            "max_width": null,
            "min_height": null,
            "min_width": null,
            "object_fit": null,
            "object_position": null,
            "order": null,
            "overflow": null,
            "overflow_x": null,
            "overflow_y": null,
            "padding": null,
            "right": null,
            "top": null,
            "visibility": null,
            "width": null
          }
        },
        "e3c4927d6332482ba018c89cc280fab0": {
          "model_module": "@jupyter-widgets/base",
          "model_name": "LayoutModel",
          "model_module_version": "1.2.0",
          "state": {
            "_model_module": "@jupyter-widgets/base",
            "_model_module_version": "1.2.0",
            "_model_name": "LayoutModel",
            "_view_count": null,
            "_view_module": "@jupyter-widgets/base",
            "_view_module_version": "1.2.0",
            "_view_name": "LayoutView",
            "align_content": null,
            "align_items": null,
            "align_self": null,
            "border": null,
            "bottom": null,
            "display": null,
            "flex": null,
            "flex_flow": null,
            "grid_area": null,
            "grid_auto_columns": null,
            "grid_auto_flow": null,
            "grid_auto_rows": null,
            "grid_column": null,
            "grid_gap": null,
            "grid_row": null,
            "grid_template_areas": null,
            "grid_template_columns": null,
            "grid_template_rows": null,
            "height": null,
            "justify_content": null,
            "justify_items": null,
            "left": null,
            "margin": null,
            "max_height": null,
            "max_width": null,
            "min_height": null,
            "min_width": null,
            "object_fit": null,
            "object_position": null,
            "order": null,
            "overflow": null,
            "overflow_x": null,
            "overflow_y": null,
            "padding": null,
            "right": null,
            "top": null,
            "visibility": null,
            "width": null
          }
        },
        "180494a1ef0845b3a8ecee2b74c8b304": {
          "model_module": "@jupyter-widgets/controls",
          "model_name": "DescriptionStyleModel",
          "model_module_version": "1.5.0",
          "state": {
            "_model_module": "@jupyter-widgets/controls",
            "_model_module_version": "1.5.0",
            "_model_name": "DescriptionStyleModel",
            "_view_count": null,
            "_view_module": "@jupyter-widgets/base",
            "_view_module_version": "1.2.0",
            "_view_name": "StyleView",
            "description_width": ""
          }
        },
        "d5c5ff0025fd4412a8d7b1912351e4c4": {
          "model_module": "@jupyter-widgets/base",
          "model_name": "LayoutModel",
          "model_module_version": "1.2.0",
          "state": {
            "_model_module": "@jupyter-widgets/base",
            "_model_module_version": "1.2.0",
            "_model_name": "LayoutModel",
            "_view_count": null,
            "_view_module": "@jupyter-widgets/base",
            "_view_module_version": "1.2.0",
            "_view_name": "LayoutView",
            "align_content": null,
            "align_items": null,
            "align_self": null,
            "border": null,
            "bottom": null,
            "display": null,
            "flex": null,
            "flex_flow": null,
            "grid_area": null,
            "grid_auto_columns": null,
            "grid_auto_flow": null,
            "grid_auto_rows": null,
            "grid_column": null,
            "grid_gap": null,
            "grid_row": null,
            "grid_template_areas": null,
            "grid_template_columns": null,
            "grid_template_rows": null,
            "height": null,
            "justify_content": null,
            "justify_items": null,
            "left": null,
            "margin": null,
            "max_height": null,
            "max_width": null,
            "min_height": null,
            "min_width": null,
            "object_fit": null,
            "object_position": null,
            "order": null,
            "overflow": null,
            "overflow_x": null,
            "overflow_y": null,
            "padding": null,
            "right": null,
            "top": null,
            "visibility": null,
            "width": null
          }
        },
        "c076ca80d69f4253a42dd3f41ec86552": {
          "model_module": "@jupyter-widgets/controls",
          "model_name": "ProgressStyleModel",
          "model_module_version": "1.5.0",
          "state": {
            "_model_module": "@jupyter-widgets/controls",
            "_model_module_version": "1.5.0",
            "_model_name": "ProgressStyleModel",
            "_view_count": null,
            "_view_module": "@jupyter-widgets/base",
            "_view_module_version": "1.2.0",
            "_view_name": "StyleView",
            "bar_color": null,
            "description_width": ""
          }
        },
        "ab3d0779aff14fe3af1aa1cd87474e79": {
          "model_module": "@jupyter-widgets/base",
          "model_name": "LayoutModel",
          "model_module_version": "1.2.0",
          "state": {
            "_model_module": "@jupyter-widgets/base",
            "_model_module_version": "1.2.0",
            "_model_name": "LayoutModel",
            "_view_count": null,
            "_view_module": "@jupyter-widgets/base",
            "_view_module_version": "1.2.0",
            "_view_name": "LayoutView",
            "align_content": null,
            "align_items": null,
            "align_self": null,
            "border": null,
            "bottom": null,
            "display": null,
            "flex": null,
            "flex_flow": null,
            "grid_area": null,
            "grid_auto_columns": null,
            "grid_auto_flow": null,
            "grid_auto_rows": null,
            "grid_column": null,
            "grid_gap": null,
            "grid_row": null,
            "grid_template_areas": null,
            "grid_template_columns": null,
            "grid_template_rows": null,
            "height": null,
            "justify_content": null,
            "justify_items": null,
            "left": null,
            "margin": null,
            "max_height": null,
            "max_width": null,
            "min_height": null,
            "min_width": null,
            "object_fit": null,
            "object_position": null,
            "order": null,
            "overflow": null,
            "overflow_x": null,
            "overflow_y": null,
            "padding": null,
            "right": null,
            "top": null,
            "visibility": null,
            "width": null
          }
        },
        "9bef5e8cd0f84c48aabed202deff2cf9": {
          "model_module": "@jupyter-widgets/controls",
          "model_name": "DescriptionStyleModel",
          "model_module_version": "1.5.0",
          "state": {
            "_model_module": "@jupyter-widgets/controls",
            "_model_module_version": "1.5.0",
            "_model_name": "DescriptionStyleModel",
            "_view_count": null,
            "_view_module": "@jupyter-widgets/base",
            "_view_module_version": "1.2.0",
            "_view_name": "StyleView",
            "description_width": ""
          }
        },
        "b54b25a5a51e46249eb59365966bf7b0": {
          "model_module": "@jupyter-widgets/controls",
          "model_name": "HBoxModel",
          "model_module_version": "1.5.0",
          "state": {
            "_dom_classes": [],
            "_model_module": "@jupyter-widgets/controls",
            "_model_module_version": "1.5.0",
            "_model_name": "HBoxModel",
            "_view_count": null,
            "_view_module": "@jupyter-widgets/controls",
            "_view_module_version": "1.5.0",
            "_view_name": "HBoxView",
            "box_style": "",
            "children": [
              "IPY_MODEL_59b370eb953f4f44a99242621df5c023",
              "IPY_MODEL_a22dc78a126548fca0532561df714b46",
              "IPY_MODEL_62a5fa47f4bc4df0b3f60753478c408e"
            ],
            "layout": "IPY_MODEL_c5fb8a408b1949d983e8379882baafee"
          }
        },
        "59b370eb953f4f44a99242621df5c023": {
          "model_module": "@jupyter-widgets/controls",
          "model_name": "HTMLModel",
          "model_module_version": "1.5.0",
          "state": {
            "_dom_classes": [],
            "_model_module": "@jupyter-widgets/controls",
            "_model_module_version": "1.5.0",
            "_model_name": "HTMLModel",
            "_view_count": null,
            "_view_module": "@jupyter-widgets/controls",
            "_view_module_version": "1.5.0",
            "_view_name": "HTMLView",
            "description": "",
            "description_tooltip": null,
            "layout": "IPY_MODEL_cbaeb6eb2517403caccdb4e06a71493a",
            "placeholder": "​",
            "style": "IPY_MODEL_f1287449b0b94f47bc2d180a04a9b6f7",
            "value": "Batches: 100%"
          }
        },
        "a22dc78a126548fca0532561df714b46": {
          "model_module": "@jupyter-widgets/controls",
          "model_name": "FloatProgressModel",
          "model_module_version": "1.5.0",
          "state": {
            "_dom_classes": [],
            "_model_module": "@jupyter-widgets/controls",
            "_model_module_version": "1.5.0",
            "_model_name": "FloatProgressModel",
            "_view_count": null,
            "_view_module": "@jupyter-widgets/controls",
            "_view_module_version": "1.5.0",
            "_view_name": "ProgressView",
            "bar_style": "success",
            "description": "",
            "description_tooltip": null,
            "layout": "IPY_MODEL_6b1ca52d0e4f4a7ab9ba0f788abcc835",
            "max": 335,
            "min": 0,
            "orientation": "horizontal",
            "style": "IPY_MODEL_0ec676d330654c45b0e83fc2aafda47a",
            "value": 335
          }
        },
        "62a5fa47f4bc4df0b3f60753478c408e": {
          "model_module": "@jupyter-widgets/controls",
          "model_name": "HTMLModel",
          "model_module_version": "1.5.0",
          "state": {
            "_dom_classes": [],
            "_model_module": "@jupyter-widgets/controls",
            "_model_module_version": "1.5.0",
            "_model_name": "HTMLModel",
            "_view_count": null,
            "_view_module": "@jupyter-widgets/controls",
            "_view_module_version": "1.5.0",
            "_view_name": "HTMLView",
            "description": "",
            "description_tooltip": null,
            "layout": "IPY_MODEL_93652552a18b46d19bbb76885b2ee72d",
            "placeholder": "​",
            "style": "IPY_MODEL_fbf049c627b94900862a745fc8655a33",
            "value": " 335/335 [00:52&lt;00:00, 32.03it/s]"
          }
        },
        "c5fb8a408b1949d983e8379882baafee": {
          "model_module": "@jupyter-widgets/base",
          "model_name": "LayoutModel",
          "model_module_version": "1.2.0",
          "state": {
            "_model_module": "@jupyter-widgets/base",
            "_model_module_version": "1.2.0",
            "_model_name": "LayoutModel",
            "_view_count": null,
            "_view_module": "@jupyter-widgets/base",
            "_view_module_version": "1.2.0",
            "_view_name": "LayoutView",
            "align_content": null,
            "align_items": null,
            "align_self": null,
            "border": null,
            "bottom": null,
            "display": null,
            "flex": null,
            "flex_flow": null,
            "grid_area": null,
            "grid_auto_columns": null,
            "grid_auto_flow": null,
            "grid_auto_rows": null,
            "grid_column": null,
            "grid_gap": null,
            "grid_row": null,
            "grid_template_areas": null,
            "grid_template_columns": null,
            "grid_template_rows": null,
            "height": null,
            "justify_content": null,
            "justify_items": null,
            "left": null,
            "margin": null,
            "max_height": null,
            "max_width": null,
            "min_height": null,
            "min_width": null,
            "object_fit": null,
            "object_position": null,
            "order": null,
            "overflow": null,
            "overflow_x": null,
            "overflow_y": null,
            "padding": null,
            "right": null,
            "top": null,
            "visibility": null,
            "width": null
          }
        },
        "cbaeb6eb2517403caccdb4e06a71493a": {
          "model_module": "@jupyter-widgets/base",
          "model_name": "LayoutModel",
          "model_module_version": "1.2.0",
          "state": {
            "_model_module": "@jupyter-widgets/base",
            "_model_module_version": "1.2.0",
            "_model_name": "LayoutModel",
            "_view_count": null,
            "_view_module": "@jupyter-widgets/base",
            "_view_module_version": "1.2.0",
            "_view_name": "LayoutView",
            "align_content": null,
            "align_items": null,
            "align_self": null,
            "border": null,
            "bottom": null,
            "display": null,
            "flex": null,
            "flex_flow": null,
            "grid_area": null,
            "grid_auto_columns": null,
            "grid_auto_flow": null,
            "grid_auto_rows": null,
            "grid_column": null,
            "grid_gap": null,
            "grid_row": null,
            "grid_template_areas": null,
            "grid_template_columns": null,
            "grid_template_rows": null,
            "height": null,
            "justify_content": null,
            "justify_items": null,
            "left": null,
            "margin": null,
            "max_height": null,
            "max_width": null,
            "min_height": null,
            "min_width": null,
            "object_fit": null,
            "object_position": null,
            "order": null,
            "overflow": null,
            "overflow_x": null,
            "overflow_y": null,
            "padding": null,
            "right": null,
            "top": null,
            "visibility": null,
            "width": null
          }
        },
        "f1287449b0b94f47bc2d180a04a9b6f7": {
          "model_module": "@jupyter-widgets/controls",
          "model_name": "DescriptionStyleModel",
          "model_module_version": "1.5.0",
          "state": {
            "_model_module": "@jupyter-widgets/controls",
            "_model_module_version": "1.5.0",
            "_model_name": "DescriptionStyleModel",
            "_view_count": null,
            "_view_module": "@jupyter-widgets/base",
            "_view_module_version": "1.2.0",
            "_view_name": "StyleView",
            "description_width": ""
          }
        },
        "6b1ca52d0e4f4a7ab9ba0f788abcc835": {
          "model_module": "@jupyter-widgets/base",
          "model_name": "LayoutModel",
          "model_module_version": "1.2.0",
          "state": {
            "_model_module": "@jupyter-widgets/base",
            "_model_module_version": "1.2.0",
            "_model_name": "LayoutModel",
            "_view_count": null,
            "_view_module": "@jupyter-widgets/base",
            "_view_module_version": "1.2.0",
            "_view_name": "LayoutView",
            "align_content": null,
            "align_items": null,
            "align_self": null,
            "border": null,
            "bottom": null,
            "display": null,
            "flex": null,
            "flex_flow": null,
            "grid_area": null,
            "grid_auto_columns": null,
            "grid_auto_flow": null,
            "grid_auto_rows": null,
            "grid_column": null,
            "grid_gap": null,
            "grid_row": null,
            "grid_template_areas": null,
            "grid_template_columns": null,
            "grid_template_rows": null,
            "height": null,
            "justify_content": null,
            "justify_items": null,
            "left": null,
            "margin": null,
            "max_height": null,
            "max_width": null,
            "min_height": null,
            "min_width": null,
            "object_fit": null,
            "object_position": null,
            "order": null,
            "overflow": null,
            "overflow_x": null,
            "overflow_y": null,
            "padding": null,
            "right": null,
            "top": null,
            "visibility": null,
            "width": null
          }
        },
        "0ec676d330654c45b0e83fc2aafda47a": {
          "model_module": "@jupyter-widgets/controls",
          "model_name": "ProgressStyleModel",
          "model_module_version": "1.5.0",
          "state": {
            "_model_module": "@jupyter-widgets/controls",
            "_model_module_version": "1.5.0",
            "_model_name": "ProgressStyleModel",
            "_view_count": null,
            "_view_module": "@jupyter-widgets/base",
            "_view_module_version": "1.2.0",
            "_view_name": "StyleView",
            "bar_color": null,
            "description_width": ""
          }
        },
        "93652552a18b46d19bbb76885b2ee72d": {
          "model_module": "@jupyter-widgets/base",
          "model_name": "LayoutModel",
          "model_module_version": "1.2.0",
          "state": {
            "_model_module": "@jupyter-widgets/base",
            "_model_module_version": "1.2.0",
            "_model_name": "LayoutModel",
            "_view_count": null,
            "_view_module": "@jupyter-widgets/base",
            "_view_module_version": "1.2.0",
            "_view_name": "LayoutView",
            "align_content": null,
            "align_items": null,
            "align_self": null,
            "border": null,
            "bottom": null,
            "display": null,
            "flex": null,
            "flex_flow": null,
            "grid_area": null,
            "grid_auto_columns": null,
            "grid_auto_flow": null,
            "grid_auto_rows": null,
            "grid_column": null,
            "grid_gap": null,
            "grid_row": null,
            "grid_template_areas": null,
            "grid_template_columns": null,
            "grid_template_rows": null,
            "height": null,
            "justify_content": null,
            "justify_items": null,
            "left": null,
            "margin": null,
            "max_height": null,
            "max_width": null,
            "min_height": null,
            "min_width": null,
            "object_fit": null,
            "object_position": null,
            "order": null,
            "overflow": null,
            "overflow_x": null,
            "overflow_y": null,
            "padding": null,
            "right": null,
            "top": null,
            "visibility": null,
            "width": null
          }
        },
        "fbf049c627b94900862a745fc8655a33": {
          "model_module": "@jupyter-widgets/controls",
          "model_name": "DescriptionStyleModel",
          "model_module_version": "1.5.0",
          "state": {
            "_model_module": "@jupyter-widgets/controls",
            "_model_module_version": "1.5.0",
            "_model_name": "DescriptionStyleModel",
            "_view_count": null,
            "_view_module": "@jupyter-widgets/base",
            "_view_module_version": "1.2.0",
            "_view_name": "StyleView",
            "description_width": ""
          }
        },
        "7bb34a9a63cc47d991800a7d55aaceb1": {
          "model_module": "@jupyter-widgets/controls",
          "model_name": "HBoxModel",
          "model_module_version": "1.5.0",
          "state": {
            "_dom_classes": [],
            "_model_module": "@jupyter-widgets/controls",
            "_model_module_version": "1.5.0",
            "_model_name": "HBoxModel",
            "_view_count": null,
            "_view_module": "@jupyter-widgets/controls",
            "_view_module_version": "1.5.0",
            "_view_name": "HBoxView",
            "box_style": "",
            "children": [
              "IPY_MODEL_3e3299187c3347e987bc7ac49b432679",
              "IPY_MODEL_0750e2fb59ea4c2f861cbbee3c296a62",
              "IPY_MODEL_7fc18d67b3814933b5b9c26ac28ea4a5"
            ],
            "layout": "IPY_MODEL_630c0dd258e14644bc2aac12cc257803"
          }
        },
        "3e3299187c3347e987bc7ac49b432679": {
          "model_module": "@jupyter-widgets/controls",
          "model_name": "HTMLModel",
          "model_module_version": "1.5.0",
          "state": {
            "_dom_classes": [],
            "_model_module": "@jupyter-widgets/controls",
            "_model_module_version": "1.5.0",
            "_model_name": "HTMLModel",
            "_view_count": null,
            "_view_module": "@jupyter-widgets/controls",
            "_view_module_version": "1.5.0",
            "_view_name": "HTMLView",
            "description": "",
            "description_tooltip": null,
            "layout": "IPY_MODEL_fedf1dbedfa442dda02bbec17866c9ad",
            "placeholder": "​",
            "style": "IPY_MODEL_edae4e7adcdc4c88ac6e985d37a5a6bf",
            "value": "config.json: 100%"
          }
        },
        "0750e2fb59ea4c2f861cbbee3c296a62": {
          "model_module": "@jupyter-widgets/controls",
          "model_name": "FloatProgressModel",
          "model_module_version": "1.5.0",
          "state": {
            "_dom_classes": [],
            "_model_module": "@jupyter-widgets/controls",
            "_model_module_version": "1.5.0",
            "_model_name": "FloatProgressModel",
            "_view_count": null,
            "_view_module": "@jupyter-widgets/controls",
            "_view_module_version": "1.5.0",
            "_view_name": "ProgressView",
            "bar_style": "success",
            "description": "",
            "description_tooltip": null,
            "layout": "IPY_MODEL_e6832f55bebd4330b173ad47b8b5c387",
            "max": 953,
            "min": 0,
            "orientation": "horizontal",
            "style": "IPY_MODEL_b45601c7fb684ff58fe27d5a0ab7b9f2",
            "value": 953
          }
        },
        "7fc18d67b3814933b5b9c26ac28ea4a5": {
          "model_module": "@jupyter-widgets/controls",
          "model_name": "HTMLModel",
          "model_module_version": "1.5.0",
          "state": {
            "_dom_classes": [],
            "_model_module": "@jupyter-widgets/controls",
            "_model_module_version": "1.5.0",
            "_model_name": "HTMLModel",
            "_view_count": null,
            "_view_module": "@jupyter-widgets/controls",
            "_view_module_version": "1.5.0",
            "_view_name": "HTMLView",
            "description": "",
            "description_tooltip": null,
            "layout": "IPY_MODEL_1657ad99052842a9aa98cb9c77c262aa",
            "placeholder": "​",
            "style": "IPY_MODEL_6f1e4166412a4eea8cbf82471bf772c6",
            "value": " 953/953 [00:00&lt;00:00, 69.9kB/s]"
          }
        },
        "630c0dd258e14644bc2aac12cc257803": {
          "model_module": "@jupyter-widgets/base",
          "model_name": "LayoutModel",
          "model_module_version": "1.2.0",
          "state": {
            "_model_module": "@jupyter-widgets/base",
            "_model_module_version": "1.2.0",
            "_model_name": "LayoutModel",
            "_view_count": null,
            "_view_module": "@jupyter-widgets/base",
            "_view_module_version": "1.2.0",
            "_view_name": "LayoutView",
            "align_content": null,
            "align_items": null,
            "align_self": null,
            "border": null,
            "bottom": null,
            "display": null,
            "flex": null,
            "flex_flow": null,
            "grid_area": null,
            "grid_auto_columns": null,
            "grid_auto_flow": null,
            "grid_auto_rows": null,
            "grid_column": null,
            "grid_gap": null,
            "grid_row": null,
            "grid_template_areas": null,
            "grid_template_columns": null,
            "grid_template_rows": null,
            "height": null,
            "justify_content": null,
            "justify_items": null,
            "left": null,
            "margin": null,
            "max_height": null,
            "max_width": null,
            "min_height": null,
            "min_width": null,
            "object_fit": null,
            "object_position": null,
            "order": null,
            "overflow": null,
            "overflow_x": null,
            "overflow_y": null,
            "padding": null,
            "right": null,
            "top": null,
            "visibility": null,
            "width": null
          }
        },
        "fedf1dbedfa442dda02bbec17866c9ad": {
          "model_module": "@jupyter-widgets/base",
          "model_name": "LayoutModel",
          "model_module_version": "1.2.0",
          "state": {
            "_model_module": "@jupyter-widgets/base",
            "_model_module_version": "1.2.0",
            "_model_name": "LayoutModel",
            "_view_count": null,
            "_view_module": "@jupyter-widgets/base",
            "_view_module_version": "1.2.0",
            "_view_name": "LayoutView",
            "align_content": null,
            "align_items": null,
            "align_self": null,
            "border": null,
            "bottom": null,
            "display": null,
            "flex": null,
            "flex_flow": null,
            "grid_area": null,
            "grid_auto_columns": null,
            "grid_auto_flow": null,
            "grid_auto_rows": null,
            "grid_column": null,
            "grid_gap": null,
            "grid_row": null,
            "grid_template_areas": null,
            "grid_template_columns": null,
            "grid_template_rows": null,
            "height": null,
            "justify_content": null,
            "justify_items": null,
            "left": null,
            "margin": null,
            "max_height": null,
            "max_width": null,
            "min_height": null,
            "min_width": null,
            "object_fit": null,
            "object_position": null,
            "order": null,
            "overflow": null,
            "overflow_x": null,
            "overflow_y": null,
            "padding": null,
            "right": null,
            "top": null,
            "visibility": null,
            "width": null
          }
        },
        "edae4e7adcdc4c88ac6e985d37a5a6bf": {
          "model_module": "@jupyter-widgets/controls",
          "model_name": "DescriptionStyleModel",
          "model_module_version": "1.5.0",
          "state": {
            "_model_module": "@jupyter-widgets/controls",
            "_model_module_version": "1.5.0",
            "_model_name": "DescriptionStyleModel",
            "_view_count": null,
            "_view_module": "@jupyter-widgets/base",
            "_view_module_version": "1.2.0",
            "_view_name": "StyleView",
            "description_width": ""
          }
        },
        "e6832f55bebd4330b173ad47b8b5c387": {
          "model_module": "@jupyter-widgets/base",
          "model_name": "LayoutModel",
          "model_module_version": "1.2.0",
          "state": {
            "_model_module": "@jupyter-widgets/base",
            "_model_module_version": "1.2.0",
            "_model_name": "LayoutModel",
            "_view_count": null,
            "_view_module": "@jupyter-widgets/base",
            "_view_module_version": "1.2.0",
            "_view_name": "LayoutView",
            "align_content": null,
            "align_items": null,
            "align_self": null,
            "border": null,
            "bottom": null,
            "display": null,
            "flex": null,
            "flex_flow": null,
            "grid_area": null,
            "grid_auto_columns": null,
            "grid_auto_flow": null,
            "grid_auto_rows": null,
            "grid_column": null,
            "grid_gap": null,
            "grid_row": null,
            "grid_template_areas": null,
            "grid_template_columns": null,
            "grid_template_rows": null,
            "height": null,
            "justify_content": null,
            "justify_items": null,
            "left": null,
            "margin": null,
            "max_height": null,
            "max_width": null,
            "min_height": null,
            "min_width": null,
            "object_fit": null,
            "object_position": null,
            "order": null,
            "overflow": null,
            "overflow_x": null,
            "overflow_y": null,
            "padding": null,
            "right": null,
            "top": null,
            "visibility": null,
            "width": null
          }
        },
        "b45601c7fb684ff58fe27d5a0ab7b9f2": {
          "model_module": "@jupyter-widgets/controls",
          "model_name": "ProgressStyleModel",
          "model_module_version": "1.5.0",
          "state": {
            "_model_module": "@jupyter-widgets/controls",
            "_model_module_version": "1.5.0",
            "_model_name": "ProgressStyleModel",
            "_view_count": null,
            "_view_module": "@jupyter-widgets/base",
            "_view_module_version": "1.2.0",
            "_view_name": "StyleView",
            "bar_color": null,
            "description_width": ""
          }
        },
        "1657ad99052842a9aa98cb9c77c262aa": {
          "model_module": "@jupyter-widgets/base",
          "model_name": "LayoutModel",
          "model_module_version": "1.2.0",
          "state": {
            "_model_module": "@jupyter-widgets/base",
            "_model_module_version": "1.2.0",
            "_model_name": "LayoutModel",
            "_view_count": null,
            "_view_module": "@jupyter-widgets/base",
            "_view_module_version": "1.2.0",
            "_view_name": "LayoutView",
            "align_content": null,
            "align_items": null,
            "align_self": null,
            "border": null,
            "bottom": null,
            "display": null,
            "flex": null,
            "flex_flow": null,
            "grid_area": null,
            "grid_auto_columns": null,
            "grid_auto_flow": null,
            "grid_auto_rows": null,
            "grid_column": null,
            "grid_gap": null,
            "grid_row": null,
            "grid_template_areas": null,
            "grid_template_columns": null,
            "grid_template_rows": null,
            "height": null,
            "justify_content": null,
            "justify_items": null,
            "left": null,
            "margin": null,
            "max_height": null,
            "max_width": null,
            "min_height": null,
            "min_width": null,
            "object_fit": null,
            "object_position": null,
            "order": null,
            "overflow": null,
            "overflow_x": null,
            "overflow_y": null,
            "padding": null,
            "right": null,
            "top": null,
            "visibility": null,
            "width": null
          }
        },
        "6f1e4166412a4eea8cbf82471bf772c6": {
          "model_module": "@jupyter-widgets/controls",
          "model_name": "DescriptionStyleModel",
          "model_module_version": "1.5.0",
          "state": {
            "_model_module": "@jupyter-widgets/controls",
            "_model_module_version": "1.5.0",
            "_model_name": "DescriptionStyleModel",
            "_view_count": null,
            "_view_module": "@jupyter-widgets/base",
            "_view_module_version": "1.2.0",
            "_view_name": "StyleView",
            "description_width": ""
          }
        },
        "a6d5102d8d43451f90a7cf4e2200e46f": {
          "model_module": "@jupyter-widgets/controls",
          "model_name": "HBoxModel",
          "model_module_version": "1.5.0",
          "state": {
            "_dom_classes": [],
            "_model_module": "@jupyter-widgets/controls",
            "_model_module_version": "1.5.0",
            "_model_name": "HBoxModel",
            "_view_count": null,
            "_view_module": "@jupyter-widgets/controls",
            "_view_module_version": "1.5.0",
            "_view_name": "HBoxView",
            "box_style": "",
            "children": [
              "IPY_MODEL_d0b5ac34bf7e4ac4bd1be680fcea8c5d",
              "IPY_MODEL_82e3921ade9049bf900ae165abcdc107",
              "IPY_MODEL_74c1a35f30614cfd9d78b583b6257ffe"
            ],
            "layout": "IPY_MODEL_7196c94ebed54b72a8515e085ad594cf"
          }
        },
        "d0b5ac34bf7e4ac4bd1be680fcea8c5d": {
          "model_module": "@jupyter-widgets/controls",
          "model_name": "HTMLModel",
          "model_module_version": "1.5.0",
          "state": {
            "_dom_classes": [],
            "_model_module": "@jupyter-widgets/controls",
            "_model_module_version": "1.5.0",
            "_model_name": "HTMLModel",
            "_view_count": null,
            "_view_module": "@jupyter-widgets/controls",
            "_view_module_version": "1.5.0",
            "_view_name": "HTMLView",
            "description": "",
            "description_tooltip": null,
            "layout": "IPY_MODEL_4c1ca66522d744f79d1ec79d7f4e23a8",
            "placeholder": "​",
            "style": "IPY_MODEL_32ab19b500b9446ba005c701802d6e7f",
            "value": "pytorch_model.bin: 100%"
          }
        },
        "82e3921ade9049bf900ae165abcdc107": {
          "model_module": "@jupyter-widgets/controls",
          "model_name": "FloatProgressModel",
          "model_module_version": "1.5.0",
          "state": {
            "_dom_classes": [],
            "_model_module": "@jupyter-widgets/controls",
            "_model_module_version": "1.5.0",
            "_model_name": "FloatProgressModel",
            "_view_count": null,
            "_view_module": "@jupyter-widgets/controls",
            "_view_module_version": "1.5.0",
            "_view_name": "ProgressView",
            "bar_style": "success",
            "description": "",
            "description_tooltip": null,
            "layout": "IPY_MODEL_d24251b954f146a492cec932d4758100",
            "max": 669491321,
            "min": 0,
            "orientation": "horizontal",
            "style": "IPY_MODEL_403bd1c067c74d5f8be610a66487ff0a",
            "value": 669491321
          }
        },
        "74c1a35f30614cfd9d78b583b6257ffe": {
          "model_module": "@jupyter-widgets/controls",
          "model_name": "HTMLModel",
          "model_module_version": "1.5.0",
          "state": {
            "_dom_classes": [],
            "_model_module": "@jupyter-widgets/controls",
            "_model_module_version": "1.5.0",
            "_model_name": "HTMLModel",
            "_view_count": null,
            "_view_module": "@jupyter-widgets/controls",
            "_view_module_version": "1.5.0",
            "_view_name": "HTMLView",
            "description": "",
            "description_tooltip": null,
            "layout": "IPY_MODEL_9727f2d60941445ab328f8341522a2ff",
            "placeholder": "​",
            "style": "IPY_MODEL_03b3ec82a31f4d39a05933f46c9e4f33",
            "value": " 669M/669M [00:06&lt;00:00, 168MB/s]"
          }
        },
        "7196c94ebed54b72a8515e085ad594cf": {
          "model_module": "@jupyter-widgets/base",
          "model_name": "LayoutModel",
          "model_module_version": "1.2.0",
          "state": {
            "_model_module": "@jupyter-widgets/base",
            "_model_module_version": "1.2.0",
            "_model_name": "LayoutModel",
            "_view_count": null,
            "_view_module": "@jupyter-widgets/base",
            "_view_module_version": "1.2.0",
            "_view_name": "LayoutView",
            "align_content": null,
            "align_items": null,
            "align_self": null,
            "border": null,
            "bottom": null,
            "display": null,
            "flex": null,
            "flex_flow": null,
            "grid_area": null,
            "grid_auto_columns": null,
            "grid_auto_flow": null,
            "grid_auto_rows": null,
            "grid_column": null,
            "grid_gap": null,
            "grid_row": null,
            "grid_template_areas": null,
            "grid_template_columns": null,
            "grid_template_rows": null,
            "height": null,
            "justify_content": null,
            "justify_items": null,
            "left": null,
            "margin": null,
            "max_height": null,
            "max_width": null,
            "min_height": null,
            "min_width": null,
            "object_fit": null,
            "object_position": null,
            "order": null,
            "overflow": null,
            "overflow_x": null,
            "overflow_y": null,
            "padding": null,
            "right": null,
            "top": null,
            "visibility": null,
            "width": null
          }
        },
        "4c1ca66522d744f79d1ec79d7f4e23a8": {
          "model_module": "@jupyter-widgets/base",
          "model_name": "LayoutModel",
          "model_module_version": "1.2.0",
          "state": {
            "_model_module": "@jupyter-widgets/base",
            "_model_module_version": "1.2.0",
            "_model_name": "LayoutModel",
            "_view_count": null,
            "_view_module": "@jupyter-widgets/base",
            "_view_module_version": "1.2.0",
            "_view_name": "LayoutView",
            "align_content": null,
            "align_items": null,
            "align_self": null,
            "border": null,
            "bottom": null,
            "display": null,
            "flex": null,
            "flex_flow": null,
            "grid_area": null,
            "grid_auto_columns": null,
            "grid_auto_flow": null,
            "grid_auto_rows": null,
            "grid_column": null,
            "grid_gap": null,
            "grid_row": null,
            "grid_template_areas": null,
            "grid_template_columns": null,
            "grid_template_rows": null,
            "height": null,
            "justify_content": null,
            "justify_items": null,
            "left": null,
            "margin": null,
            "max_height": null,
            "max_width": null,
            "min_height": null,
            "min_width": null,
            "object_fit": null,
            "object_position": null,
            "order": null,
            "overflow": null,
            "overflow_x": null,
            "overflow_y": null,
            "padding": null,
            "right": null,
            "top": null,
            "visibility": null,
            "width": null
          }
        },
        "32ab19b500b9446ba005c701802d6e7f": {
          "model_module": "@jupyter-widgets/controls",
          "model_name": "DescriptionStyleModel",
          "model_module_version": "1.5.0",
          "state": {
            "_model_module": "@jupyter-widgets/controls",
            "_model_module_version": "1.5.0",
            "_model_name": "DescriptionStyleModel",
            "_view_count": null,
            "_view_module": "@jupyter-widgets/base",
            "_view_module_version": "1.2.0",
            "_view_name": "StyleView",
            "description_width": ""
          }
        },
        "d24251b954f146a492cec932d4758100": {
          "model_module": "@jupyter-widgets/base",
          "model_name": "LayoutModel",
          "model_module_version": "1.2.0",
          "state": {
            "_model_module": "@jupyter-widgets/base",
            "_model_module_version": "1.2.0",
            "_model_name": "LayoutModel",
            "_view_count": null,
            "_view_module": "@jupyter-widgets/base",
            "_view_module_version": "1.2.0",
            "_view_name": "LayoutView",
            "align_content": null,
            "align_items": null,
            "align_self": null,
            "border": null,
            "bottom": null,
            "display": null,
            "flex": null,
            "flex_flow": null,
            "grid_area": null,
            "grid_auto_columns": null,
            "grid_auto_flow": null,
            "grid_auto_rows": null,
            "grid_column": null,
            "grid_gap": null,
            "grid_row": null,
            "grid_template_areas": null,
            "grid_template_columns": null,
            "grid_template_rows": null,
            "height": null,
            "justify_content": null,
            "justify_items": null,
            "left": null,
            "margin": null,
            "max_height": null,
            "max_width": null,
            "min_height": null,
            "min_width": null,
            "object_fit": null,
            "object_position": null,
            "order": null,
            "overflow": null,
            "overflow_x": null,
            "overflow_y": null,
            "padding": null,
            "right": null,
            "top": null,
            "visibility": null,
            "width": null
          }
        },
        "403bd1c067c74d5f8be610a66487ff0a": {
          "model_module": "@jupyter-widgets/controls",
          "model_name": "ProgressStyleModel",
          "model_module_version": "1.5.0",
          "state": {
            "_model_module": "@jupyter-widgets/controls",
            "_model_module_version": "1.5.0",
            "_model_name": "ProgressStyleModel",
            "_view_count": null,
            "_view_module": "@jupyter-widgets/base",
            "_view_module_version": "1.2.0",
            "_view_name": "StyleView",
            "bar_color": null,
            "description_width": ""
          }
        },
        "9727f2d60941445ab328f8341522a2ff": {
          "model_module": "@jupyter-widgets/base",
          "model_name": "LayoutModel",
          "model_module_version": "1.2.0",
          "state": {
            "_model_module": "@jupyter-widgets/base",
            "_model_module_version": "1.2.0",
            "_model_name": "LayoutModel",
            "_view_count": null,
            "_view_module": "@jupyter-widgets/base",
            "_view_module_version": "1.2.0",
            "_view_name": "LayoutView",
            "align_content": null,
            "align_items": null,
            "align_self": null,
            "border": null,
            "bottom": null,
            "display": null,
            "flex": null,
            "flex_flow": null,
            "grid_area": null,
            "grid_auto_columns": null,
            "grid_auto_flow": null,
            "grid_auto_rows": null,
            "grid_column": null,
            "grid_gap": null,
            "grid_row": null,
            "grid_template_areas": null,
            "grid_template_columns": null,
            "grid_template_rows": null,
            "height": null,
            "justify_content": null,
            "justify_items": null,
            "left": null,
            "margin": null,
            "max_height": null,
            "max_width": null,
            "min_height": null,
            "min_width": null,
            "object_fit": null,
            "object_position": null,
            "order": null,
            "overflow": null,
            "overflow_x": null,
            "overflow_y": null,
            "padding": null,
            "right": null,
            "top": null,
            "visibility": null,
            "width": null
          }
        },
        "03b3ec82a31f4d39a05933f46c9e4f33": {
          "model_module": "@jupyter-widgets/controls",
          "model_name": "DescriptionStyleModel",
          "model_module_version": "1.5.0",
          "state": {
            "_model_module": "@jupyter-widgets/controls",
            "_model_module_version": "1.5.0",
            "_model_name": "DescriptionStyleModel",
            "_view_count": null,
            "_view_module": "@jupyter-widgets/base",
            "_view_module_version": "1.2.0",
            "_view_name": "StyleView",
            "description_width": ""
          }
        },
        "39c210c2430d48778c7177af41e2ccc2": {
          "model_module": "@jupyter-widgets/controls",
          "model_name": "HBoxModel",
          "model_module_version": "1.5.0",
          "state": {
            "_dom_classes": [],
            "_model_module": "@jupyter-widgets/controls",
            "_model_module_version": "1.5.0",
            "_model_name": "HBoxModel",
            "_view_count": null,
            "_view_module": "@jupyter-widgets/controls",
            "_view_module_version": "1.5.0",
            "_view_name": "HBoxView",
            "box_style": "",
            "children": [
              "IPY_MODEL_ff11d416f6544939b744cfa4cf62ad4a",
              "IPY_MODEL_363320128908486fba8457c497bf031a",
              "IPY_MODEL_c991611c0b384858a2037d4a28a448da"
            ],
            "layout": "IPY_MODEL_a2c69a65f1bf41cfa760f097253cdb05"
          }
        },
        "ff11d416f6544939b744cfa4cf62ad4a": {
          "model_module": "@jupyter-widgets/controls",
          "model_name": "HTMLModel",
          "model_module_version": "1.5.0",
          "state": {
            "_dom_classes": [],
            "_model_module": "@jupyter-widgets/controls",
            "_model_module_version": "1.5.0",
            "_model_name": "HTMLModel",
            "_view_count": null,
            "_view_module": "@jupyter-widgets/controls",
            "_view_module_version": "1.5.0",
            "_view_name": "HTMLView",
            "description": "",
            "description_tooltip": null,
            "layout": "IPY_MODEL_c5999fb6e546462db7c41628d9ccb589",
            "placeholder": "​",
            "style": "IPY_MODEL_414d9a3246e444af9bb83ac56e3f19f5",
            "value": "tokenizer_config.json: 100%"
          }
        },
        "363320128908486fba8457c497bf031a": {
          "model_module": "@jupyter-widgets/controls",
          "model_name": "FloatProgressModel",
          "model_module_version": "1.5.0",
          "state": {
            "_dom_classes": [],
            "_model_module": "@jupyter-widgets/controls",
            "_model_module_version": "1.5.0",
            "_model_name": "FloatProgressModel",
            "_view_count": null,
            "_view_module": "@jupyter-widgets/controls",
            "_view_module_version": "1.5.0",
            "_view_name": "ProgressView",
            "bar_style": "success",
            "description": "",
            "description_tooltip": null,
            "layout": "IPY_MODEL_881cfe65fd2949e4a4746b8b64d6007b",
            "max": 39,
            "min": 0,
            "orientation": "horizontal",
            "style": "IPY_MODEL_a05a4d43818040a4b3431b1c21774808",
            "value": 39
          }
        },
        "c991611c0b384858a2037d4a28a448da": {
          "model_module": "@jupyter-widgets/controls",
          "model_name": "HTMLModel",
          "model_module_version": "1.5.0",
          "state": {
            "_dom_classes": [],
            "_model_module": "@jupyter-widgets/controls",
            "_model_module_version": "1.5.0",
            "_model_name": "HTMLModel",
            "_view_count": null,
            "_view_module": "@jupyter-widgets/controls",
            "_view_module_version": "1.5.0",
            "_view_name": "HTMLView",
            "description": "",
            "description_tooltip": null,
            "layout": "IPY_MODEL_cd29da4ae49149399845549af51a9252",
            "placeholder": "​",
            "style": "IPY_MODEL_3e848b606e63404aa5729bd530210586",
            "value": " 39.0/39.0 [00:00&lt;00:00, 2.35kB/s]"
          }
        },
        "a2c69a65f1bf41cfa760f097253cdb05": {
          "model_module": "@jupyter-widgets/base",
          "model_name": "LayoutModel",
          "model_module_version": "1.2.0",
          "state": {
            "_model_module": "@jupyter-widgets/base",
            "_model_module_version": "1.2.0",
            "_model_name": "LayoutModel",
            "_view_count": null,
            "_view_module": "@jupyter-widgets/base",
            "_view_module_version": "1.2.0",
            "_view_name": "LayoutView",
            "align_content": null,
            "align_items": null,
            "align_self": null,
            "border": null,
            "bottom": null,
            "display": null,
            "flex": null,
            "flex_flow": null,
            "grid_area": null,
            "grid_auto_columns": null,
            "grid_auto_flow": null,
            "grid_auto_rows": null,
            "grid_column": null,
            "grid_gap": null,
            "grid_row": null,
            "grid_template_areas": null,
            "grid_template_columns": null,
            "grid_template_rows": null,
            "height": null,
            "justify_content": null,
            "justify_items": null,
            "left": null,
            "margin": null,
            "max_height": null,
            "max_width": null,
            "min_height": null,
            "min_width": null,
            "object_fit": null,
            "object_position": null,
            "order": null,
            "overflow": null,
            "overflow_x": null,
            "overflow_y": null,
            "padding": null,
            "right": null,
            "top": null,
            "visibility": null,
            "width": null
          }
        },
        "c5999fb6e546462db7c41628d9ccb589": {
          "model_module": "@jupyter-widgets/base",
          "model_name": "LayoutModel",
          "model_module_version": "1.2.0",
          "state": {
            "_model_module": "@jupyter-widgets/base",
            "_model_module_version": "1.2.0",
            "_model_name": "LayoutModel",
            "_view_count": null,
            "_view_module": "@jupyter-widgets/base",
            "_view_module_version": "1.2.0",
            "_view_name": "LayoutView",
            "align_content": null,
            "align_items": null,
            "align_self": null,
            "border": null,
            "bottom": null,
            "display": null,
            "flex": null,
            "flex_flow": null,
            "grid_area": null,
            "grid_auto_columns": null,
            "grid_auto_flow": null,
            "grid_auto_rows": null,
            "grid_column": null,
            "grid_gap": null,
            "grid_row": null,
            "grid_template_areas": null,
            "grid_template_columns": null,
            "grid_template_rows": null,
            "height": null,
            "justify_content": null,
            "justify_items": null,
            "left": null,
            "margin": null,
            "max_height": null,
            "max_width": null,
            "min_height": null,
            "min_width": null,
            "object_fit": null,
            "object_position": null,
            "order": null,
            "overflow": null,
            "overflow_x": null,
            "overflow_y": null,
            "padding": null,
            "right": null,
            "top": null,
            "visibility": null,
            "width": null
          }
        },
        "414d9a3246e444af9bb83ac56e3f19f5": {
          "model_module": "@jupyter-widgets/controls",
          "model_name": "DescriptionStyleModel",
          "model_module_version": "1.5.0",
          "state": {
            "_model_module": "@jupyter-widgets/controls",
            "_model_module_version": "1.5.0",
            "_model_name": "DescriptionStyleModel",
            "_view_count": null,
            "_view_module": "@jupyter-widgets/base",
            "_view_module_version": "1.2.0",
            "_view_name": "StyleView",
            "description_width": ""
          }
        },
        "881cfe65fd2949e4a4746b8b64d6007b": {
          "model_module": "@jupyter-widgets/base",
          "model_name": "LayoutModel",
          "model_module_version": "1.2.0",
          "state": {
            "_model_module": "@jupyter-widgets/base",
            "_model_module_version": "1.2.0",
            "_model_name": "LayoutModel",
            "_view_count": null,
            "_view_module": "@jupyter-widgets/base",
            "_view_module_version": "1.2.0",
            "_view_name": "LayoutView",
            "align_content": null,
            "align_items": null,
            "align_self": null,
            "border": null,
            "bottom": null,
            "display": null,
            "flex": null,
            "flex_flow": null,
            "grid_area": null,
            "grid_auto_columns": null,
            "grid_auto_flow": null,
            "grid_auto_rows": null,
            "grid_column": null,
            "grid_gap": null,
            "grid_row": null,
            "grid_template_areas": null,
            "grid_template_columns": null,
            "grid_template_rows": null,
            "height": null,
            "justify_content": null,
            "justify_items": null,
            "left": null,
            "margin": null,
            "max_height": null,
            "max_width": null,
            "min_height": null,
            "min_width": null,
            "object_fit": null,
            "object_position": null,
            "order": null,
            "overflow": null,
            "overflow_x": null,
            "overflow_y": null,
            "padding": null,
            "right": null,
            "top": null,
            "visibility": null,
            "width": null
          }
        },
        "a05a4d43818040a4b3431b1c21774808": {
          "model_module": "@jupyter-widgets/controls",
          "model_name": "ProgressStyleModel",
          "model_module_version": "1.5.0",
          "state": {
            "_model_module": "@jupyter-widgets/controls",
            "_model_module_version": "1.5.0",
            "_model_name": "ProgressStyleModel",
            "_view_count": null,
            "_view_module": "@jupyter-widgets/base",
            "_view_module_version": "1.2.0",
            "_view_name": "StyleView",
            "bar_color": null,
            "description_width": ""
          }
        },
        "cd29da4ae49149399845549af51a9252": {
          "model_module": "@jupyter-widgets/base",
          "model_name": "LayoutModel",
          "model_module_version": "1.2.0",
          "state": {
            "_model_module": "@jupyter-widgets/base",
            "_model_module_version": "1.2.0",
            "_model_name": "LayoutModel",
            "_view_count": null,
            "_view_module": "@jupyter-widgets/base",
            "_view_module_version": "1.2.0",
            "_view_name": "LayoutView",
            "align_content": null,
            "align_items": null,
            "align_self": null,
            "border": null,
            "bottom": null,
            "display": null,
            "flex": null,
            "flex_flow": null,
            "grid_area": null,
            "grid_auto_columns": null,
            "grid_auto_flow": null,
            "grid_auto_rows": null,
            "grid_column": null,
            "grid_gap": null,
            "grid_row": null,
            "grid_template_areas": null,
            "grid_template_columns": null,
            "grid_template_rows": null,
            "height": null,
            "justify_content": null,
            "justify_items": null,
            "left": null,
            "margin": null,
            "max_height": null,
            "max_width": null,
            "min_height": null,
            "min_width": null,
            "object_fit": null,
            "object_position": null,
            "order": null,
            "overflow": null,
            "overflow_x": null,
            "overflow_y": null,
            "padding": null,
            "right": null,
            "top": null,
            "visibility": null,
            "width": null
          }
        },
        "3e848b606e63404aa5729bd530210586": {
          "model_module": "@jupyter-widgets/controls",
          "model_name": "DescriptionStyleModel",
          "model_module_version": "1.5.0",
          "state": {
            "_model_module": "@jupyter-widgets/controls",
            "_model_module_version": "1.5.0",
            "_model_name": "DescriptionStyleModel",
            "_view_count": null,
            "_view_module": "@jupyter-widgets/base",
            "_view_module_version": "1.2.0",
            "_view_name": "StyleView",
            "description_width": ""
          }
        },
        "12abd844d9da4d428bcde892f7d71450": {
          "model_module": "@jupyter-widgets/controls",
          "model_name": "HBoxModel",
          "model_module_version": "1.5.0",
          "state": {
            "_dom_classes": [],
            "_model_module": "@jupyter-widgets/controls",
            "_model_module_version": "1.5.0",
            "_model_name": "HBoxModel",
            "_view_count": null,
            "_view_module": "@jupyter-widgets/controls",
            "_view_module_version": "1.5.0",
            "_view_name": "HBoxView",
            "box_style": "",
            "children": [
              "IPY_MODEL_0411c076cf174a5fa7fb965e14300238",
              "IPY_MODEL_a09d8a3677474d8a81f6472a6caab79d",
              "IPY_MODEL_40af5e8021e74954a8a0b8314f85a9e2"
            ],
            "layout": "IPY_MODEL_fef9595a9867426ba91867223db7a982"
          }
        },
        "0411c076cf174a5fa7fb965e14300238": {
          "model_module": "@jupyter-widgets/controls",
          "model_name": "HTMLModel",
          "model_module_version": "1.5.0",
          "state": {
            "_dom_classes": [],
            "_model_module": "@jupyter-widgets/controls",
            "_model_module_version": "1.5.0",
            "_model_name": "HTMLModel",
            "_view_count": null,
            "_view_module": "@jupyter-widgets/controls",
            "_view_module_version": "1.5.0",
            "_view_name": "HTMLView",
            "description": "",
            "description_tooltip": null,
            "layout": "IPY_MODEL_105046338d7f4fdea2ae9bef43c5cdb7",
            "placeholder": "​",
            "style": "IPY_MODEL_6d3e855812554e73bf1ae5c58ffab686",
            "value": "vocab.txt: 100%"
          }
        },
        "a09d8a3677474d8a81f6472a6caab79d": {
          "model_module": "@jupyter-widgets/controls",
          "model_name": "FloatProgressModel",
          "model_module_version": "1.5.0",
          "state": {
            "_dom_classes": [],
            "_model_module": "@jupyter-widgets/controls",
            "_model_module_version": "1.5.0",
            "_model_name": "FloatProgressModel",
            "_view_count": null,
            "_view_module": "@jupyter-widgets/controls",
            "_view_module_version": "1.5.0",
            "_view_name": "ProgressView",
            "bar_style": "success",
            "description": "",
            "description_tooltip": null,
            "layout": "IPY_MODEL_1d63382af4f146ea999295ae9de879b4",
            "max": 871891,
            "min": 0,
            "orientation": "horizontal",
            "style": "IPY_MODEL_bda989f1aba049eda802384a1113d1ed",
            "value": 871891
          }
        },
        "40af5e8021e74954a8a0b8314f85a9e2": {
          "model_module": "@jupyter-widgets/controls",
          "model_name": "HTMLModel",
          "model_module_version": "1.5.0",
          "state": {
            "_dom_classes": [],
            "_model_module": "@jupyter-widgets/controls",
            "_model_module_version": "1.5.0",
            "_model_name": "HTMLModel",
            "_view_count": null,
            "_view_module": "@jupyter-widgets/controls",
            "_view_module_version": "1.5.0",
            "_view_name": "HTMLView",
            "description": "",
            "description_tooltip": null,
            "layout": "IPY_MODEL_1fd61a8efe124bf897d83db65b630885",
            "placeholder": "​",
            "style": "IPY_MODEL_def2f0169ac1465b8b3637ce0e350947",
            "value": " 872k/872k [00:00&lt;00:00, 10.4MB/s]"
          }
        },
        "fef9595a9867426ba91867223db7a982": {
          "model_module": "@jupyter-widgets/base",
          "model_name": "LayoutModel",
          "model_module_version": "1.2.0",
          "state": {
            "_model_module": "@jupyter-widgets/base",
            "_model_module_version": "1.2.0",
            "_model_name": "LayoutModel",
            "_view_count": null,
            "_view_module": "@jupyter-widgets/base",
            "_view_module_version": "1.2.0",
            "_view_name": "LayoutView",
            "align_content": null,
            "align_items": null,
            "align_self": null,
            "border": null,
            "bottom": null,
            "display": null,
            "flex": null,
            "flex_flow": null,
            "grid_area": null,
            "grid_auto_columns": null,
            "grid_auto_flow": null,
            "grid_auto_rows": null,
            "grid_column": null,
            "grid_gap": null,
            "grid_row": null,
            "grid_template_areas": null,
            "grid_template_columns": null,
            "grid_template_rows": null,
            "height": null,
            "justify_content": null,
            "justify_items": null,
            "left": null,
            "margin": null,
            "max_height": null,
            "max_width": null,
            "min_height": null,
            "min_width": null,
            "object_fit": null,
            "object_position": null,
            "order": null,
            "overflow": null,
            "overflow_x": null,
            "overflow_y": null,
            "padding": null,
            "right": null,
            "top": null,
            "visibility": null,
            "width": null
          }
        },
        "105046338d7f4fdea2ae9bef43c5cdb7": {
          "model_module": "@jupyter-widgets/base",
          "model_name": "LayoutModel",
          "model_module_version": "1.2.0",
          "state": {
            "_model_module": "@jupyter-widgets/base",
            "_model_module_version": "1.2.0",
            "_model_name": "LayoutModel",
            "_view_count": null,
            "_view_module": "@jupyter-widgets/base",
            "_view_module_version": "1.2.0",
            "_view_name": "LayoutView",
            "align_content": null,
            "align_items": null,
            "align_self": null,
            "border": null,
            "bottom": null,
            "display": null,
            "flex": null,
            "flex_flow": null,
            "grid_area": null,
            "grid_auto_columns": null,
            "grid_auto_flow": null,
            "grid_auto_rows": null,
            "grid_column": null,
            "grid_gap": null,
            "grid_row": null,
            "grid_template_areas": null,
            "grid_template_columns": null,
            "grid_template_rows": null,
            "height": null,
            "justify_content": null,
            "justify_items": null,
            "left": null,
            "margin": null,
            "max_height": null,
            "max_width": null,
            "min_height": null,
            "min_width": null,
            "object_fit": null,
            "object_position": null,
            "order": null,
            "overflow": null,
            "overflow_x": null,
            "overflow_y": null,
            "padding": null,
            "right": null,
            "top": null,
            "visibility": null,
            "width": null
          }
        },
        "6d3e855812554e73bf1ae5c58ffab686": {
          "model_module": "@jupyter-widgets/controls",
          "model_name": "DescriptionStyleModel",
          "model_module_version": "1.5.0",
          "state": {
            "_model_module": "@jupyter-widgets/controls",
            "_model_module_version": "1.5.0",
            "_model_name": "DescriptionStyleModel",
            "_view_count": null,
            "_view_module": "@jupyter-widgets/base",
            "_view_module_version": "1.2.0",
            "_view_name": "StyleView",
            "description_width": ""
          }
        },
        "1d63382af4f146ea999295ae9de879b4": {
          "model_module": "@jupyter-widgets/base",
          "model_name": "LayoutModel",
          "model_module_version": "1.2.0",
          "state": {
            "_model_module": "@jupyter-widgets/base",
            "_model_module_version": "1.2.0",
            "_model_name": "LayoutModel",
            "_view_count": null,
            "_view_module": "@jupyter-widgets/base",
            "_view_module_version": "1.2.0",
            "_view_name": "LayoutView",
            "align_content": null,
            "align_items": null,
            "align_self": null,
            "border": null,
            "bottom": null,
            "display": null,
            "flex": null,
            "flex_flow": null,
            "grid_area": null,
            "grid_auto_columns": null,
            "grid_auto_flow": null,
            "grid_auto_rows": null,
            "grid_column": null,
            "grid_gap": null,
            "grid_row": null,
            "grid_template_areas": null,
            "grid_template_columns": null,
            "grid_template_rows": null,
            "height": null,
            "justify_content": null,
            "justify_items": null,
            "left": null,
            "margin": null,
            "max_height": null,
            "max_width": null,
            "min_height": null,
            "min_width": null,
            "object_fit": null,
            "object_position": null,
            "order": null,
            "overflow": null,
            "overflow_x": null,
            "overflow_y": null,
            "padding": null,
            "right": null,
            "top": null,
            "visibility": null,
            "width": null
          }
        },
        "bda989f1aba049eda802384a1113d1ed": {
          "model_module": "@jupyter-widgets/controls",
          "model_name": "ProgressStyleModel",
          "model_module_version": "1.5.0",
          "state": {
            "_model_module": "@jupyter-widgets/controls",
            "_model_module_version": "1.5.0",
            "_model_name": "ProgressStyleModel",
            "_view_count": null,
            "_view_module": "@jupyter-widgets/base",
            "_view_module_version": "1.2.0",
            "_view_name": "StyleView",
            "bar_color": null,
            "description_width": ""
          }
        },
        "1fd61a8efe124bf897d83db65b630885": {
          "model_module": "@jupyter-widgets/base",
          "model_name": "LayoutModel",
          "model_module_version": "1.2.0",
          "state": {
            "_model_module": "@jupyter-widgets/base",
            "_model_module_version": "1.2.0",
            "_model_name": "LayoutModel",
            "_view_count": null,
            "_view_module": "@jupyter-widgets/base",
            "_view_module_version": "1.2.0",
            "_view_name": "LayoutView",
            "align_content": null,
            "align_items": null,
            "align_self": null,
            "border": null,
            "bottom": null,
            "display": null,
            "flex": null,
            "flex_flow": null,
            "grid_area": null,
            "grid_auto_columns": null,
            "grid_auto_flow": null,
            "grid_auto_rows": null,
            "grid_column": null,
            "grid_gap": null,
            "grid_row": null,
            "grid_template_areas": null,
            "grid_template_columns": null,
            "grid_template_rows": null,
            "height": null,
            "justify_content": null,
            "justify_items": null,
            "left": null,
            "margin": null,
            "max_height": null,
            "max_width": null,
            "min_height": null,
            "min_width": null,
            "object_fit": null,
            "object_position": null,
            "order": null,
            "overflow": null,
            "overflow_x": null,
            "overflow_y": null,
            "padding": null,
            "right": null,
            "top": null,
            "visibility": null,
            "width": null
          }
        },
        "def2f0169ac1465b8b3637ce0e350947": {
          "model_module": "@jupyter-widgets/controls",
          "model_name": "DescriptionStyleModel",
          "model_module_version": "1.5.0",
          "state": {
            "_model_module": "@jupyter-widgets/controls",
            "_model_module_version": "1.5.0",
            "_model_name": "DescriptionStyleModel",
            "_view_count": null,
            "_view_module": "@jupyter-widgets/base",
            "_view_module_version": "1.2.0",
            "_view_name": "StyleView",
            "description_width": ""
          }
        },
        "fe2c99245fd04c85a3a7b8eacc98e9e5": {
          "model_module": "@jupyter-widgets/controls",
          "model_name": "HBoxModel",
          "model_module_version": "1.5.0",
          "state": {
            "_dom_classes": [],
            "_model_module": "@jupyter-widgets/controls",
            "_model_module_version": "1.5.0",
            "_model_name": "HBoxModel",
            "_view_count": null,
            "_view_module": "@jupyter-widgets/controls",
            "_view_module_version": "1.5.0",
            "_view_name": "HBoxView",
            "box_style": "",
            "children": [
              "IPY_MODEL_1d7a165cbefc4114949fedb92748d15e",
              "IPY_MODEL_11d85c7f65614bd7977e64f3809620a1",
              "IPY_MODEL_cd1ccbe37eb446aba45880e8c9cde3a3"
            ],
            "layout": "IPY_MODEL_c9f75a430ad545df814824f8e3c5cd42"
          }
        },
        "1d7a165cbefc4114949fedb92748d15e": {
          "model_module": "@jupyter-widgets/controls",
          "model_name": "HTMLModel",
          "model_module_version": "1.5.0",
          "state": {
            "_dom_classes": [],
            "_model_module": "@jupyter-widgets/controls",
            "_model_module_version": "1.5.0",
            "_model_name": "HTMLModel",
            "_view_count": null,
            "_view_module": "@jupyter-widgets/controls",
            "_view_module_version": "1.5.0",
            "_view_name": "HTMLView",
            "description": "",
            "description_tooltip": null,
            "layout": "IPY_MODEL_2af5b72683c246f698e2db8a62554e05",
            "placeholder": "​",
            "style": "IPY_MODEL_eff27ac289e24af5a43a58fc774c2d82",
            "value": "special_tokens_map.json: 100%"
          }
        },
        "11d85c7f65614bd7977e64f3809620a1": {
          "model_module": "@jupyter-widgets/controls",
          "model_name": "FloatProgressModel",
          "model_module_version": "1.5.0",
          "state": {
            "_dom_classes": [],
            "_model_module": "@jupyter-widgets/controls",
            "_model_module_version": "1.5.0",
            "_model_name": "FloatProgressModel",
            "_view_count": null,
            "_view_module": "@jupyter-widgets/controls",
            "_view_module_version": "1.5.0",
            "_view_name": "ProgressView",
            "bar_style": "success",
            "description": "",
            "description_tooltip": null,
            "layout": "IPY_MODEL_42ef2925b2a543aeaae822b7184ba98b",
            "max": 112,
            "min": 0,
            "orientation": "horizontal",
            "style": "IPY_MODEL_9d6b645fcb7541368f1d99012c07fe71",
            "value": 112
          }
        },
        "cd1ccbe37eb446aba45880e8c9cde3a3": {
          "model_module": "@jupyter-widgets/controls",
          "model_name": "HTMLModel",
          "model_module_version": "1.5.0",
          "state": {
            "_dom_classes": [],
            "_model_module": "@jupyter-widgets/controls",
            "_model_module_version": "1.5.0",
            "_model_name": "HTMLModel",
            "_view_count": null,
            "_view_module": "@jupyter-widgets/controls",
            "_view_module_version": "1.5.0",
            "_view_name": "HTMLView",
            "description": "",
            "description_tooltip": null,
            "layout": "IPY_MODEL_f83d46a74e274c4bac134bd588032843",
            "placeholder": "​",
            "style": "IPY_MODEL_9f9d879a8c764973be31630815fe2c66",
            "value": " 112/112 [00:00&lt;00:00, 5.23kB/s]"
          }
        },
        "c9f75a430ad545df814824f8e3c5cd42": {
          "model_module": "@jupyter-widgets/base",
          "model_name": "LayoutModel",
          "model_module_version": "1.2.0",
          "state": {
            "_model_module": "@jupyter-widgets/base",
            "_model_module_version": "1.2.0",
            "_model_name": "LayoutModel",
            "_view_count": null,
            "_view_module": "@jupyter-widgets/base",
            "_view_module_version": "1.2.0",
            "_view_name": "LayoutView",
            "align_content": null,
            "align_items": null,
            "align_self": null,
            "border": null,
            "bottom": null,
            "display": null,
            "flex": null,
            "flex_flow": null,
            "grid_area": null,
            "grid_auto_columns": null,
            "grid_auto_flow": null,
            "grid_auto_rows": null,
            "grid_column": null,
            "grid_gap": null,
            "grid_row": null,
            "grid_template_areas": null,
            "grid_template_columns": null,
            "grid_template_rows": null,
            "height": null,
            "justify_content": null,
            "justify_items": null,
            "left": null,
            "margin": null,
            "max_height": null,
            "max_width": null,
            "min_height": null,
            "min_width": null,
            "object_fit": null,
            "object_position": null,
            "order": null,
            "overflow": null,
            "overflow_x": null,
            "overflow_y": null,
            "padding": null,
            "right": null,
            "top": null,
            "visibility": null,
            "width": null
          }
        },
        "2af5b72683c246f698e2db8a62554e05": {
          "model_module": "@jupyter-widgets/base",
          "model_name": "LayoutModel",
          "model_module_version": "1.2.0",
          "state": {
            "_model_module": "@jupyter-widgets/base",
            "_model_module_version": "1.2.0",
            "_model_name": "LayoutModel",
            "_view_count": null,
            "_view_module": "@jupyter-widgets/base",
            "_view_module_version": "1.2.0",
            "_view_name": "LayoutView",
            "align_content": null,
            "align_items": null,
            "align_self": null,
            "border": null,
            "bottom": null,
            "display": null,
            "flex": null,
            "flex_flow": null,
            "grid_area": null,
            "grid_auto_columns": null,
            "grid_auto_flow": null,
            "grid_auto_rows": null,
            "grid_column": null,
            "grid_gap": null,
            "grid_row": null,
            "grid_template_areas": null,
            "grid_template_columns": null,
            "grid_template_rows": null,
            "height": null,
            "justify_content": null,
            "justify_items": null,
            "left": null,
            "margin": null,
            "max_height": null,
            "max_width": null,
            "min_height": null,
            "min_width": null,
            "object_fit": null,
            "object_position": null,
            "order": null,
            "overflow": null,
            "overflow_x": null,
            "overflow_y": null,
            "padding": null,
            "right": null,
            "top": null,
            "visibility": null,
            "width": null
          }
        },
        "eff27ac289e24af5a43a58fc774c2d82": {
          "model_module": "@jupyter-widgets/controls",
          "model_name": "DescriptionStyleModel",
          "model_module_version": "1.5.0",
          "state": {
            "_model_module": "@jupyter-widgets/controls",
            "_model_module_version": "1.5.0",
            "_model_name": "DescriptionStyleModel",
            "_view_count": null,
            "_view_module": "@jupyter-widgets/base",
            "_view_module_version": "1.2.0",
            "_view_name": "StyleView",
            "description_width": ""
          }
        },
        "42ef2925b2a543aeaae822b7184ba98b": {
          "model_module": "@jupyter-widgets/base",
          "model_name": "LayoutModel",
          "model_module_version": "1.2.0",
          "state": {
            "_model_module": "@jupyter-widgets/base",
            "_model_module_version": "1.2.0",
            "_model_name": "LayoutModel",
            "_view_count": null,
            "_view_module": "@jupyter-widgets/base",
            "_view_module_version": "1.2.0",
            "_view_name": "LayoutView",
            "align_content": null,
            "align_items": null,
            "align_self": null,
            "border": null,
            "bottom": null,
            "display": null,
            "flex": null,
            "flex_flow": null,
            "grid_area": null,
            "grid_auto_columns": null,
            "grid_auto_flow": null,
            "grid_auto_rows": null,
            "grid_column": null,
            "grid_gap": null,
            "grid_row": null,
            "grid_template_areas": null,
            "grid_template_columns": null,
            "grid_template_rows": null,
            "height": null,
            "justify_content": null,
            "justify_items": null,
            "left": null,
            "margin": null,
            "max_height": null,
            "max_width": null,
            "min_height": null,
            "min_width": null,
            "object_fit": null,
            "object_position": null,
            "order": null,
            "overflow": null,
            "overflow_x": null,
            "overflow_y": null,
            "padding": null,
            "right": null,
            "top": null,
            "visibility": null,
            "width": null
          }
        },
        "9d6b645fcb7541368f1d99012c07fe71": {
          "model_module": "@jupyter-widgets/controls",
          "model_name": "ProgressStyleModel",
          "model_module_version": "1.5.0",
          "state": {
            "_model_module": "@jupyter-widgets/controls",
            "_model_module_version": "1.5.0",
            "_model_name": "ProgressStyleModel",
            "_view_count": null,
            "_view_module": "@jupyter-widgets/base",
            "_view_module_version": "1.2.0",
            "_view_name": "StyleView",
            "bar_color": null,
            "description_width": ""
          }
        },
        "f83d46a74e274c4bac134bd588032843": {
          "model_module": "@jupyter-widgets/base",
          "model_name": "LayoutModel",
          "model_module_version": "1.2.0",
          "state": {
            "_model_module": "@jupyter-widgets/base",
            "_model_module_version": "1.2.0",
            "_model_name": "LayoutModel",
            "_view_count": null,
            "_view_module": "@jupyter-widgets/base",
            "_view_module_version": "1.2.0",
            "_view_name": "LayoutView",
            "align_content": null,
            "align_items": null,
            "align_self": null,
            "border": null,
            "bottom": null,
            "display": null,
            "flex": null,
            "flex_flow": null,
            "grid_area": null,
            "grid_auto_columns": null,
            "grid_auto_flow": null,
            "grid_auto_rows": null,
            "grid_column": null,
            "grid_gap": null,
            "grid_row": null,
            "grid_template_areas": null,
            "grid_template_columns": null,
            "grid_template_rows": null,
            "height": null,
            "justify_content": null,
            "justify_items": null,
            "left": null,
            "margin": null,
            "max_height": null,
            "max_width": null,
            "min_height": null,
            "min_width": null,
            "object_fit": null,
            "object_position": null,
            "order": null,
            "overflow": null,
            "overflow_x": null,
            "overflow_y": null,
            "padding": null,
            "right": null,
            "top": null,
            "visibility": null,
            "width": null
          }
        },
        "9f9d879a8c764973be31630815fe2c66": {
          "model_module": "@jupyter-widgets/controls",
          "model_name": "DescriptionStyleModel",
          "model_module_version": "1.5.0",
          "state": {
            "_model_module": "@jupyter-widgets/controls",
            "_model_module_version": "1.5.0",
            "_model_name": "DescriptionStyleModel",
            "_view_count": null,
            "_view_module": "@jupyter-widgets/base",
            "_view_module_version": "1.2.0",
            "_view_name": "StyleView",
            "description_width": ""
          }
        },
        "a578a5f7f3d8413997bcc27a24549cef": {
          "model_module": "@jupyter-widgets/controls",
          "model_name": "HBoxModel",
          "model_module_version": "1.5.0",
          "state": {
            "_dom_classes": [],
            "_model_module": "@jupyter-widgets/controls",
            "_model_module_version": "1.5.0",
            "_model_name": "HBoxModel",
            "_view_count": null,
            "_view_module": "@jupyter-widgets/controls",
            "_view_module_version": "1.5.0",
            "_view_name": "HBoxView",
            "box_style": "",
            "children": [
              "IPY_MODEL_bb478e700e5c4193be1f3dfbaee55e64",
              "IPY_MODEL_f641d9c2b988498ba72dd7f34a8ac943",
              "IPY_MODEL_e0db430617b247e9b44bc93dbab8b2b8"
            ],
            "layout": "IPY_MODEL_f04fc4bd524d43dba5cde317c7d1963d"
          }
        },
        "bb478e700e5c4193be1f3dfbaee55e64": {
          "model_module": "@jupyter-widgets/controls",
          "model_name": "HTMLModel",
          "model_module_version": "1.5.0",
          "state": {
            "_dom_classes": [],
            "_model_module": "@jupyter-widgets/controls",
            "_model_module_version": "1.5.0",
            "_model_name": "HTMLModel",
            "_view_count": null,
            "_view_module": "@jupyter-widgets/controls",
            "_view_module_version": "1.5.0",
            "_view_name": "HTMLView",
            "description": "",
            "description_tooltip": null,
            "layout": "IPY_MODEL_3afae3cbc78143d6a8215f99c3c0481d",
            "placeholder": "​",
            "style": "IPY_MODEL_629c9ae9a1034a49864b3850f0748c93",
            "value": "Batches: 100%"
          }
        },
        "f641d9c2b988498ba72dd7f34a8ac943": {
          "model_module": "@jupyter-widgets/controls",
          "model_name": "FloatProgressModel",
          "model_module_version": "1.5.0",
          "state": {
            "_dom_classes": [],
            "_model_module": "@jupyter-widgets/controls",
            "_model_module_version": "1.5.0",
            "_model_name": "FloatProgressModel",
            "_view_count": null,
            "_view_module": "@jupyter-widgets/controls",
            "_view_module_version": "1.5.0",
            "_view_name": "ProgressView",
            "bar_style": "success",
            "description": "",
            "description_tooltip": null,
            "layout": "IPY_MODEL_f5bf86a08d4443a48691e74e28f27c8f",
            "max": 335,
            "min": 0,
            "orientation": "horizontal",
            "style": "IPY_MODEL_471745e4cc054a97b09bcb62fc314bd1",
            "value": 335
          }
        },
        "e0db430617b247e9b44bc93dbab8b2b8": {
          "model_module": "@jupyter-widgets/controls",
          "model_name": "HTMLModel",
          "model_module_version": "1.5.0",
          "state": {
            "_dom_classes": [],
            "_model_module": "@jupyter-widgets/controls",
            "_model_module_version": "1.5.0",
            "_model_name": "HTMLModel",
            "_view_count": null,
            "_view_module": "@jupyter-widgets/controls",
            "_view_module_version": "1.5.0",
            "_view_name": "HTMLView",
            "description": "",
            "description_tooltip": null,
            "layout": "IPY_MODEL_0ec28ca4269e4f28a5c7296f3e9a3a84",
            "placeholder": "​",
            "style": "IPY_MODEL_958fbd541ff74804bbf35eaa6e948a4a",
            "value": " 335/335 [00:53&lt;00:00, 27.40it/s]"
          }
        },
        "f04fc4bd524d43dba5cde317c7d1963d": {
          "model_module": "@jupyter-widgets/base",
          "model_name": "LayoutModel",
          "model_module_version": "1.2.0",
          "state": {
            "_model_module": "@jupyter-widgets/base",
            "_model_module_version": "1.2.0",
            "_model_name": "LayoutModel",
            "_view_count": null,
            "_view_module": "@jupyter-widgets/base",
            "_view_module_version": "1.2.0",
            "_view_name": "LayoutView",
            "align_content": null,
            "align_items": null,
            "align_self": null,
            "border": null,
            "bottom": null,
            "display": null,
            "flex": null,
            "flex_flow": null,
            "grid_area": null,
            "grid_auto_columns": null,
            "grid_auto_flow": null,
            "grid_auto_rows": null,
            "grid_column": null,
            "grid_gap": null,
            "grid_row": null,
            "grid_template_areas": null,
            "grid_template_columns": null,
            "grid_template_rows": null,
            "height": null,
            "justify_content": null,
            "justify_items": null,
            "left": null,
            "margin": null,
            "max_height": null,
            "max_width": null,
            "min_height": null,
            "min_width": null,
            "object_fit": null,
            "object_position": null,
            "order": null,
            "overflow": null,
            "overflow_x": null,
            "overflow_y": null,
            "padding": null,
            "right": null,
            "top": null,
            "visibility": null,
            "width": null
          }
        },
        "3afae3cbc78143d6a8215f99c3c0481d": {
          "model_module": "@jupyter-widgets/base",
          "model_name": "LayoutModel",
          "model_module_version": "1.2.0",
          "state": {
            "_model_module": "@jupyter-widgets/base",
            "_model_module_version": "1.2.0",
            "_model_name": "LayoutModel",
            "_view_count": null,
            "_view_module": "@jupyter-widgets/base",
            "_view_module_version": "1.2.0",
            "_view_name": "LayoutView",
            "align_content": null,
            "align_items": null,
            "align_self": null,
            "border": null,
            "bottom": null,
            "display": null,
            "flex": null,
            "flex_flow": null,
            "grid_area": null,
            "grid_auto_columns": null,
            "grid_auto_flow": null,
            "grid_auto_rows": null,
            "grid_column": null,
            "grid_gap": null,
            "grid_row": null,
            "grid_template_areas": null,
            "grid_template_columns": null,
            "grid_template_rows": null,
            "height": null,
            "justify_content": null,
            "justify_items": null,
            "left": null,
            "margin": null,
            "max_height": null,
            "max_width": null,
            "min_height": null,
            "min_width": null,
            "object_fit": null,
            "object_position": null,
            "order": null,
            "overflow": null,
            "overflow_x": null,
            "overflow_y": null,
            "padding": null,
            "right": null,
            "top": null,
            "visibility": null,
            "width": null
          }
        },
        "629c9ae9a1034a49864b3850f0748c93": {
          "model_module": "@jupyter-widgets/controls",
          "model_name": "DescriptionStyleModel",
          "model_module_version": "1.5.0",
          "state": {
            "_model_module": "@jupyter-widgets/controls",
            "_model_module_version": "1.5.0",
            "_model_name": "DescriptionStyleModel",
            "_view_count": null,
            "_view_module": "@jupyter-widgets/base",
            "_view_module_version": "1.2.0",
            "_view_name": "StyleView",
            "description_width": ""
          }
        },
        "f5bf86a08d4443a48691e74e28f27c8f": {
          "model_module": "@jupyter-widgets/base",
          "model_name": "LayoutModel",
          "model_module_version": "1.2.0",
          "state": {
            "_model_module": "@jupyter-widgets/base",
            "_model_module_version": "1.2.0",
            "_model_name": "LayoutModel",
            "_view_count": null,
            "_view_module": "@jupyter-widgets/base",
            "_view_module_version": "1.2.0",
            "_view_name": "LayoutView",
            "align_content": null,
            "align_items": null,
            "align_self": null,
            "border": null,
            "bottom": null,
            "display": null,
            "flex": null,
            "flex_flow": null,
            "grid_area": null,
            "grid_auto_columns": null,
            "grid_auto_flow": null,
            "grid_auto_rows": null,
            "grid_column": null,
            "grid_gap": null,
            "grid_row": null,
            "grid_template_areas": null,
            "grid_template_columns": null,
            "grid_template_rows": null,
            "height": null,
            "justify_content": null,
            "justify_items": null,
            "left": null,
            "margin": null,
            "max_height": null,
            "max_width": null,
            "min_height": null,
            "min_width": null,
            "object_fit": null,
            "object_position": null,
            "order": null,
            "overflow": null,
            "overflow_x": null,
            "overflow_y": null,
            "padding": null,
            "right": null,
            "top": null,
            "visibility": null,
            "width": null
          }
        },
        "471745e4cc054a97b09bcb62fc314bd1": {
          "model_module": "@jupyter-widgets/controls",
          "model_name": "ProgressStyleModel",
          "model_module_version": "1.5.0",
          "state": {
            "_model_module": "@jupyter-widgets/controls",
            "_model_module_version": "1.5.0",
            "_model_name": "ProgressStyleModel",
            "_view_count": null,
            "_view_module": "@jupyter-widgets/base",
            "_view_module_version": "1.2.0",
            "_view_name": "StyleView",
            "bar_color": null,
            "description_width": ""
          }
        },
        "0ec28ca4269e4f28a5c7296f3e9a3a84": {
          "model_module": "@jupyter-widgets/base",
          "model_name": "LayoutModel",
          "model_module_version": "1.2.0",
          "state": {
            "_model_module": "@jupyter-widgets/base",
            "_model_module_version": "1.2.0",
            "_model_name": "LayoutModel",
            "_view_count": null,
            "_view_module": "@jupyter-widgets/base",
            "_view_module_version": "1.2.0",
            "_view_name": "LayoutView",
            "align_content": null,
            "align_items": null,
            "align_self": null,
            "border": null,
            "bottom": null,
            "display": null,
            "flex": null,
            "flex_flow": null,
            "grid_area": null,
            "grid_auto_columns": null,
            "grid_auto_flow": null,
            "grid_auto_rows": null,
            "grid_column": null,
            "grid_gap": null,
            "grid_row": null,
            "grid_template_areas": null,
            "grid_template_columns": null,
            "grid_template_rows": null,
            "height": null,
            "justify_content": null,
            "justify_items": null,
            "left": null,
            "margin": null,
            "max_height": null,
            "max_width": null,
            "min_height": null,
            "min_width": null,
            "object_fit": null,
            "object_position": null,
            "order": null,
            "overflow": null,
            "overflow_x": null,
            "overflow_y": null,
            "padding": null,
            "right": null,
            "top": null,
            "visibility": null,
            "width": null
          }
        },
        "958fbd541ff74804bbf35eaa6e948a4a": {
          "model_module": "@jupyter-widgets/controls",
          "model_name": "DescriptionStyleModel",
          "model_module_version": "1.5.0",
          "state": {
            "_model_module": "@jupyter-widgets/controls",
            "_model_module_version": "1.5.0",
            "_model_name": "DescriptionStyleModel",
            "_view_count": null,
            "_view_module": "@jupyter-widgets/base",
            "_view_module_version": "1.2.0",
            "_view_name": "StyleView",
            "description_width": ""
          }
        },
        "dab7aa47f59f4994a9502bed4331997f": {
          "model_module": "@jupyter-widgets/controls",
          "model_name": "HBoxModel",
          "model_module_version": "1.5.0",
          "state": {
            "_dom_classes": [],
            "_model_module": "@jupyter-widgets/controls",
            "_model_module_version": "1.5.0",
            "_model_name": "HBoxModel",
            "_view_count": null,
            "_view_module": "@jupyter-widgets/controls",
            "_view_module_version": "1.5.0",
            "_view_name": "HBoxView",
            "box_style": "",
            "children": [
              "IPY_MODEL_16f1ae8a4d8746e4b5e1f66cff2b9107",
              "IPY_MODEL_ff3c4dd2dceb403591ee369aec52624b",
              "IPY_MODEL_dd868347828f49c1804c6887623fb16f"
            ],
            "layout": "IPY_MODEL_0a150c717dda4bd4b5245b74c021f48e"
          }
        },
        "16f1ae8a4d8746e4b5e1f66cff2b9107": {
          "model_module": "@jupyter-widgets/controls",
          "model_name": "HTMLModel",
          "model_module_version": "1.5.0",
          "state": {
            "_dom_classes": [],
            "_model_module": "@jupyter-widgets/controls",
            "_model_module_version": "1.5.0",
            "_model_name": "HTMLModel",
            "_view_count": null,
            "_view_module": "@jupyter-widgets/controls",
            "_view_module_version": "1.5.0",
            "_view_name": "HTMLView",
            "description": "",
            "description_tooltip": null,
            "layout": "IPY_MODEL_c9213e3814e04fdda9b403825fe489a7",
            "placeholder": "​",
            "style": "IPY_MODEL_4edc394bef8f4064a64c7810fb4145f3",
            "value": "Batches: 100%"
          }
        },
        "ff3c4dd2dceb403591ee369aec52624b": {
          "model_module": "@jupyter-widgets/controls",
          "model_name": "FloatProgressModel",
          "model_module_version": "1.5.0",
          "state": {
            "_dom_classes": [],
            "_model_module": "@jupyter-widgets/controls",
            "_model_module_version": "1.5.0",
            "_model_name": "FloatProgressModel",
            "_view_count": null,
            "_view_module": "@jupyter-widgets/controls",
            "_view_module_version": "1.5.0",
            "_view_name": "ProgressView",
            "bar_style": "success",
            "description": "",
            "description_tooltip": null,
            "layout": "IPY_MODEL_6d0b179d8228499ba6e625f2bd5555fc",
            "max": 335,
            "min": 0,
            "orientation": "horizontal",
            "style": "IPY_MODEL_4cf1824bc72743a5b9775e1570f4fdb6",
            "value": 335
          }
        },
        "dd868347828f49c1804c6887623fb16f": {
          "model_module": "@jupyter-widgets/controls",
          "model_name": "HTMLModel",
          "model_module_version": "1.5.0",
          "state": {
            "_dom_classes": [],
            "_model_module": "@jupyter-widgets/controls",
            "_model_module_version": "1.5.0",
            "_model_name": "HTMLModel",
            "_view_count": null,
            "_view_module": "@jupyter-widgets/controls",
            "_view_module_version": "1.5.0",
            "_view_name": "HTMLView",
            "description": "",
            "description_tooltip": null,
            "layout": "IPY_MODEL_f101e22a37304e3d82a12dff1c4c1b68",
            "placeholder": "​",
            "style": "IPY_MODEL_8975fe9276aa4597bf92dcfb884451ca",
            "value": " 335/335 [00:47&lt;00:00, 25.89it/s]"
          }
        },
        "0a150c717dda4bd4b5245b74c021f48e": {
          "model_module": "@jupyter-widgets/base",
          "model_name": "LayoutModel",
          "model_module_version": "1.2.0",
          "state": {
            "_model_module": "@jupyter-widgets/base",
            "_model_module_version": "1.2.0",
            "_model_name": "LayoutModel",
            "_view_count": null,
            "_view_module": "@jupyter-widgets/base",
            "_view_module_version": "1.2.0",
            "_view_name": "LayoutView",
            "align_content": null,
            "align_items": null,
            "align_self": null,
            "border": null,
            "bottom": null,
            "display": null,
            "flex": null,
            "flex_flow": null,
            "grid_area": null,
            "grid_auto_columns": null,
            "grid_auto_flow": null,
            "grid_auto_rows": null,
            "grid_column": null,
            "grid_gap": null,
            "grid_row": null,
            "grid_template_areas": null,
            "grid_template_columns": null,
            "grid_template_rows": null,
            "height": null,
            "justify_content": null,
            "justify_items": null,
            "left": null,
            "margin": null,
            "max_height": null,
            "max_width": null,
            "min_height": null,
            "min_width": null,
            "object_fit": null,
            "object_position": null,
            "order": null,
            "overflow": null,
            "overflow_x": null,
            "overflow_y": null,
            "padding": null,
            "right": null,
            "top": null,
            "visibility": null,
            "width": null
          }
        },
        "c9213e3814e04fdda9b403825fe489a7": {
          "model_module": "@jupyter-widgets/base",
          "model_name": "LayoutModel",
          "model_module_version": "1.2.0",
          "state": {
            "_model_module": "@jupyter-widgets/base",
            "_model_module_version": "1.2.0",
            "_model_name": "LayoutModel",
            "_view_count": null,
            "_view_module": "@jupyter-widgets/base",
            "_view_module_version": "1.2.0",
            "_view_name": "LayoutView",
            "align_content": null,
            "align_items": null,
            "align_self": null,
            "border": null,
            "bottom": null,
            "display": null,
            "flex": null,
            "flex_flow": null,
            "grid_area": null,
            "grid_auto_columns": null,
            "grid_auto_flow": null,
            "grid_auto_rows": null,
            "grid_column": null,
            "grid_gap": null,
            "grid_row": null,
            "grid_template_areas": null,
            "grid_template_columns": null,
            "grid_template_rows": null,
            "height": null,
            "justify_content": null,
            "justify_items": null,
            "left": null,
            "margin": null,
            "max_height": null,
            "max_width": null,
            "min_height": null,
            "min_width": null,
            "object_fit": null,
            "object_position": null,
            "order": null,
            "overflow": null,
            "overflow_x": null,
            "overflow_y": null,
            "padding": null,
            "right": null,
            "top": null,
            "visibility": null,
            "width": null
          }
        },
        "4edc394bef8f4064a64c7810fb4145f3": {
          "model_module": "@jupyter-widgets/controls",
          "model_name": "DescriptionStyleModel",
          "model_module_version": "1.5.0",
          "state": {
            "_model_module": "@jupyter-widgets/controls",
            "_model_module_version": "1.5.0",
            "_model_name": "DescriptionStyleModel",
            "_view_count": null,
            "_view_module": "@jupyter-widgets/base",
            "_view_module_version": "1.2.0",
            "_view_name": "StyleView",
            "description_width": ""
          }
        },
        "6d0b179d8228499ba6e625f2bd5555fc": {
          "model_module": "@jupyter-widgets/base",
          "model_name": "LayoutModel",
          "model_module_version": "1.2.0",
          "state": {
            "_model_module": "@jupyter-widgets/base",
            "_model_module_version": "1.2.0",
            "_model_name": "LayoutModel",
            "_view_count": null,
            "_view_module": "@jupyter-widgets/base",
            "_view_module_version": "1.2.0",
            "_view_name": "LayoutView",
            "align_content": null,
            "align_items": null,
            "align_self": null,
            "border": null,
            "bottom": null,
            "display": null,
            "flex": null,
            "flex_flow": null,
            "grid_area": null,
            "grid_auto_columns": null,
            "grid_auto_flow": null,
            "grid_auto_rows": null,
            "grid_column": null,
            "grid_gap": null,
            "grid_row": null,
            "grid_template_areas": null,
            "grid_template_columns": null,
            "grid_template_rows": null,
            "height": null,
            "justify_content": null,
            "justify_items": null,
            "left": null,
            "margin": null,
            "max_height": null,
            "max_width": null,
            "min_height": null,
            "min_width": null,
            "object_fit": null,
            "object_position": null,
            "order": null,
            "overflow": null,
            "overflow_x": null,
            "overflow_y": null,
            "padding": null,
            "right": null,
            "top": null,
            "visibility": null,
            "width": null
          }
        },
        "4cf1824bc72743a5b9775e1570f4fdb6": {
          "model_module": "@jupyter-widgets/controls",
          "model_name": "ProgressStyleModel",
          "model_module_version": "1.5.0",
          "state": {
            "_model_module": "@jupyter-widgets/controls",
            "_model_module_version": "1.5.0",
            "_model_name": "ProgressStyleModel",
            "_view_count": null,
            "_view_module": "@jupyter-widgets/base",
            "_view_module_version": "1.2.0",
            "_view_name": "StyleView",
            "bar_color": null,
            "description_width": ""
          }
        },
        "f101e22a37304e3d82a12dff1c4c1b68": {
          "model_module": "@jupyter-widgets/base",
          "model_name": "LayoutModel",
          "model_module_version": "1.2.0",
          "state": {
            "_model_module": "@jupyter-widgets/base",
            "_model_module_version": "1.2.0",
            "_model_name": "LayoutModel",
            "_view_count": null,
            "_view_module": "@jupyter-widgets/base",
            "_view_module_version": "1.2.0",
            "_view_name": "LayoutView",
            "align_content": null,
            "align_items": null,
            "align_self": null,
            "border": null,
            "bottom": null,
            "display": null,
            "flex": null,
            "flex_flow": null,
            "grid_area": null,
            "grid_auto_columns": null,
            "grid_auto_flow": null,
            "grid_auto_rows": null,
            "grid_column": null,
            "grid_gap": null,
            "grid_row": null,
            "grid_template_areas": null,
            "grid_template_columns": null,
            "grid_template_rows": null,
            "height": null,
            "justify_content": null,
            "justify_items": null,
            "left": null,
            "margin": null,
            "max_height": null,
            "max_width": null,
            "min_height": null,
            "min_width": null,
            "object_fit": null,
            "object_position": null,
            "order": null,
            "overflow": null,
            "overflow_x": null,
            "overflow_y": null,
            "padding": null,
            "right": null,
            "top": null,
            "visibility": null,
            "width": null
          }
        },
        "8975fe9276aa4597bf92dcfb884451ca": {
          "model_module": "@jupyter-widgets/controls",
          "model_name": "DescriptionStyleModel",
          "model_module_version": "1.5.0",
          "state": {
            "_model_module": "@jupyter-widgets/controls",
            "_model_module_version": "1.5.0",
            "_model_name": "DescriptionStyleModel",
            "_view_count": null,
            "_view_module": "@jupyter-widgets/base",
            "_view_module_version": "1.2.0",
            "_view_name": "StyleView",
            "description_width": ""
          }
        },
        "bc78b8e2e4864c4980d321151af10e88": {
          "model_module": "@jupyter-widgets/controls",
          "model_name": "HBoxModel",
          "model_module_version": "1.5.0",
          "state": {
            "_dom_classes": [],
            "_model_module": "@jupyter-widgets/controls",
            "_model_module_version": "1.5.0",
            "_model_name": "HBoxModel",
            "_view_count": null,
            "_view_module": "@jupyter-widgets/controls",
            "_view_module_version": "1.5.0",
            "_view_name": "HBoxView",
            "box_style": "",
            "children": [
              "IPY_MODEL_e4063bd2a4704026a475ece33cb30264",
              "IPY_MODEL_56bec94796464bcbb69c8f1fc893f243",
              "IPY_MODEL_d98fbb5aeeb747abba70bc1f5dd8e884"
            ],
            "layout": "IPY_MODEL_98bbd958184c46d885e6a5de851eb0c9"
          }
        },
        "e4063bd2a4704026a475ece33cb30264": {
          "model_module": "@jupyter-widgets/controls",
          "model_name": "HTMLModel",
          "model_module_version": "1.5.0",
          "state": {
            "_dom_classes": [],
            "_model_module": "@jupyter-widgets/controls",
            "_model_module_version": "1.5.0",
            "_model_name": "HTMLModel",
            "_view_count": null,
            "_view_module": "@jupyter-widgets/controls",
            "_view_module_version": "1.5.0",
            "_view_name": "HTMLView",
            "description": "",
            "description_tooltip": null,
            "layout": "IPY_MODEL_77cad8d2dcae43d9a54e95525ba3fc01",
            "placeholder": "​",
            "style": "IPY_MODEL_236ca874aa5f40c5a291568f90b1a0d1",
            "value": "Batches: 100%"
          }
        },
        "56bec94796464bcbb69c8f1fc893f243": {
          "model_module": "@jupyter-widgets/controls",
          "model_name": "FloatProgressModel",
          "model_module_version": "1.5.0",
          "state": {
            "_dom_classes": [],
            "_model_module": "@jupyter-widgets/controls",
            "_model_module_version": "1.5.0",
            "_model_name": "FloatProgressModel",
            "_view_count": null,
            "_view_module": "@jupyter-widgets/controls",
            "_view_module_version": "1.5.0",
            "_view_name": "ProgressView",
            "bar_style": "success",
            "description": "",
            "description_tooltip": null,
            "layout": "IPY_MODEL_42d803d82ceb4274a1f5ba89af69f100",
            "max": 335,
            "min": 0,
            "orientation": "horizontal",
            "style": "IPY_MODEL_3b44223212354338bde574f21516d09d",
            "value": 335
          }
        },
        "d98fbb5aeeb747abba70bc1f5dd8e884": {
          "model_module": "@jupyter-widgets/controls",
          "model_name": "HTMLModel",
          "model_module_version": "1.5.0",
          "state": {
            "_dom_classes": [],
            "_model_module": "@jupyter-widgets/controls",
            "_model_module_version": "1.5.0",
            "_model_name": "HTMLModel",
            "_view_count": null,
            "_view_module": "@jupyter-widgets/controls",
            "_view_module_version": "1.5.0",
            "_view_name": "HTMLView",
            "description": "",
            "description_tooltip": null,
            "layout": "IPY_MODEL_6fccbff3a11d4d94b3f18d68ded027ff",
            "placeholder": "​",
            "style": "IPY_MODEL_d5be4d9f73dc42a69991ceac49486f93",
            "value": " 335/335 [00:47&lt;00:00, 31.04it/s]"
          }
        },
        "98bbd958184c46d885e6a5de851eb0c9": {
          "model_module": "@jupyter-widgets/base",
          "model_name": "LayoutModel",
          "model_module_version": "1.2.0",
          "state": {
            "_model_module": "@jupyter-widgets/base",
            "_model_module_version": "1.2.0",
            "_model_name": "LayoutModel",
            "_view_count": null,
            "_view_module": "@jupyter-widgets/base",
            "_view_module_version": "1.2.0",
            "_view_name": "LayoutView",
            "align_content": null,
            "align_items": null,
            "align_self": null,
            "border": null,
            "bottom": null,
            "display": null,
            "flex": null,
            "flex_flow": null,
            "grid_area": null,
            "grid_auto_columns": null,
            "grid_auto_flow": null,
            "grid_auto_rows": null,
            "grid_column": null,
            "grid_gap": null,
            "grid_row": null,
            "grid_template_areas": null,
            "grid_template_columns": null,
            "grid_template_rows": null,
            "height": null,
            "justify_content": null,
            "justify_items": null,
            "left": null,
            "margin": null,
            "max_height": null,
            "max_width": null,
            "min_height": null,
            "min_width": null,
            "object_fit": null,
            "object_position": null,
            "order": null,
            "overflow": null,
            "overflow_x": null,
            "overflow_y": null,
            "padding": null,
            "right": null,
            "top": null,
            "visibility": null,
            "width": null
          }
        },
        "77cad8d2dcae43d9a54e95525ba3fc01": {
          "model_module": "@jupyter-widgets/base",
          "model_name": "LayoutModel",
          "model_module_version": "1.2.0",
          "state": {
            "_model_module": "@jupyter-widgets/base",
            "_model_module_version": "1.2.0",
            "_model_name": "LayoutModel",
            "_view_count": null,
            "_view_module": "@jupyter-widgets/base",
            "_view_module_version": "1.2.0",
            "_view_name": "LayoutView",
            "align_content": null,
            "align_items": null,
            "align_self": null,
            "border": null,
            "bottom": null,
            "display": null,
            "flex": null,
            "flex_flow": null,
            "grid_area": null,
            "grid_auto_columns": null,
            "grid_auto_flow": null,
            "grid_auto_rows": null,
            "grid_column": null,
            "grid_gap": null,
            "grid_row": null,
            "grid_template_areas": null,
            "grid_template_columns": null,
            "grid_template_rows": null,
            "height": null,
            "justify_content": null,
            "justify_items": null,
            "left": null,
            "margin": null,
            "max_height": null,
            "max_width": null,
            "min_height": null,
            "min_width": null,
            "object_fit": null,
            "object_position": null,
            "order": null,
            "overflow": null,
            "overflow_x": null,
            "overflow_y": null,
            "padding": null,
            "right": null,
            "top": null,
            "visibility": null,
            "width": null
          }
        },
        "236ca874aa5f40c5a291568f90b1a0d1": {
          "model_module": "@jupyter-widgets/controls",
          "model_name": "DescriptionStyleModel",
          "model_module_version": "1.5.0",
          "state": {
            "_model_module": "@jupyter-widgets/controls",
            "_model_module_version": "1.5.0",
            "_model_name": "DescriptionStyleModel",
            "_view_count": null,
            "_view_module": "@jupyter-widgets/base",
            "_view_module_version": "1.2.0",
            "_view_name": "StyleView",
            "description_width": ""
          }
        },
        "42d803d82ceb4274a1f5ba89af69f100": {
          "model_module": "@jupyter-widgets/base",
          "model_name": "LayoutModel",
          "model_module_version": "1.2.0",
          "state": {
            "_model_module": "@jupyter-widgets/base",
            "_model_module_version": "1.2.0",
            "_model_name": "LayoutModel",
            "_view_count": null,
            "_view_module": "@jupyter-widgets/base",
            "_view_module_version": "1.2.0",
            "_view_name": "LayoutView",
            "align_content": null,
            "align_items": null,
            "align_self": null,
            "border": null,
            "bottom": null,
            "display": null,
            "flex": null,
            "flex_flow": null,
            "grid_area": null,
            "grid_auto_columns": null,
            "grid_auto_flow": null,
            "grid_auto_rows": null,
            "grid_column": null,
            "grid_gap": null,
            "grid_row": null,
            "grid_template_areas": null,
            "grid_template_columns": null,
            "grid_template_rows": null,
            "height": null,
            "justify_content": null,
            "justify_items": null,
            "left": null,
            "margin": null,
            "max_height": null,
            "max_width": null,
            "min_height": null,
            "min_width": null,
            "object_fit": null,
            "object_position": null,
            "order": null,
            "overflow": null,
            "overflow_x": null,
            "overflow_y": null,
            "padding": null,
            "right": null,
            "top": null,
            "visibility": null,
            "width": null
          }
        },
        "3b44223212354338bde574f21516d09d": {
          "model_module": "@jupyter-widgets/controls",
          "model_name": "ProgressStyleModel",
          "model_module_version": "1.5.0",
          "state": {
            "_model_module": "@jupyter-widgets/controls",
            "_model_module_version": "1.5.0",
            "_model_name": "ProgressStyleModel",
            "_view_count": null,
            "_view_module": "@jupyter-widgets/base",
            "_view_module_version": "1.2.0",
            "_view_name": "StyleView",
            "bar_color": null,
            "description_width": ""
          }
        },
        "6fccbff3a11d4d94b3f18d68ded027ff": {
          "model_module": "@jupyter-widgets/base",
          "model_name": "LayoutModel",
          "model_module_version": "1.2.0",
          "state": {
            "_model_module": "@jupyter-widgets/base",
            "_model_module_version": "1.2.0",
            "_model_name": "LayoutModel",
            "_view_count": null,
            "_view_module": "@jupyter-widgets/base",
            "_view_module_version": "1.2.0",
            "_view_name": "LayoutView",
            "align_content": null,
            "align_items": null,
            "align_self": null,
            "border": null,
            "bottom": null,
            "display": null,
            "flex": null,
            "flex_flow": null,
            "grid_area": null,
            "grid_auto_columns": null,
            "grid_auto_flow": null,
            "grid_auto_rows": null,
            "grid_column": null,
            "grid_gap": null,
            "grid_row": null,
            "grid_template_areas": null,
            "grid_template_columns": null,
            "grid_template_rows": null,
            "height": null,
            "justify_content": null,
            "justify_items": null,
            "left": null,
            "margin": null,
            "max_height": null,
            "max_width": null,
            "min_height": null,
            "min_width": null,
            "object_fit": null,
            "object_position": null,
            "order": null,
            "overflow": null,
            "overflow_x": null,
            "overflow_y": null,
            "padding": null,
            "right": null,
            "top": null,
            "visibility": null,
            "width": null
          }
        },
        "d5be4d9f73dc42a69991ceac49486f93": {
          "model_module": "@jupyter-widgets/controls",
          "model_name": "DescriptionStyleModel",
          "model_module_version": "1.5.0",
          "state": {
            "_model_module": "@jupyter-widgets/controls",
            "_model_module_version": "1.5.0",
            "_model_name": "DescriptionStyleModel",
            "_view_count": null,
            "_view_module": "@jupyter-widgets/base",
            "_view_module_version": "1.2.0",
            "_view_name": "StyleView",
            "description_width": ""
          }
        }
      }
    }
  },
  "nbformat": 4,
  "nbformat_minor": 0
}