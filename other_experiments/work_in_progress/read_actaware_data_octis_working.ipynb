{
  "cells": [
    {
      "cell_type": "markdown",
      "source": [
        "# Read data"
      ],
      "metadata": {
        "id": "YHW7EXTojV6f"
      }
    },
    {
      "cell_type": "code",
      "execution_count": null,
      "metadata": {
        "id": "h98E71AzL3JC"
      },
      "outputs": [],
      "source": [
        "import json"
      ]
    },
    {
      "cell_type": "code",
      "execution_count": null,
      "metadata": {
        "id": "dFALtrWYL381"
      },
      "outputs": [],
      "source": [
        "with open('Articles_2023.json') as json_file:\n",
        "  data = json.load(json_file)"
      ]
    },
    {
      "cell_type": "code",
      "execution_count": null,
      "metadata": {
        "colab": {
          "base_uri": "https://localhost:8080/"
        },
        "id": "wiVj3zhLMC-j",
        "outputId": "6111d4cb-2cbc-444a-fdef-31393b642451"
      },
      "outputs": [
        {
          "name": "stdout",
          "output_type": "stream",
          "text": [
            "<class 'list'>\n"
          ]
        }
      ],
      "source": [
        "print(type(data))"
      ]
    },
    {
      "cell_type": "code",
      "execution_count": null,
      "metadata": {
        "colab": {
          "base_uri": "https://localhost:8080/"
        },
        "id": "JBgwOjAdRKi2",
        "outputId": "243fb320-9d52-4625-f2da-c03d35b65686"
      },
      "outputs": [
        {
          "data": {
            "text/plain": [
              "11654"
            ]
          },
          "execution_count": 12,
          "metadata": {},
          "output_type": "execute_result"
        }
      ],
      "source": [
        "len(data)"
      ]
    },
    {
      "cell_type": "code",
      "execution_count": null,
      "metadata": {
        "colab": {
          "base_uri": "https://localhost:8080/"
        },
        "id": "uhHO64RrOPIK",
        "outputId": "285436cd-2d81-4a35-d1fb-6f82c2f184c1"
      },
      "outputs": [
        {
          "data": {
            "text/plain": [
              "dict_keys(['_id', 'Source', 'SourceType', 'Title', 'Links', 'Description', 'Content', 'PublishedDate', 'Keywords', 'ProcessingSteps', 'NERs', 'QType', 'MatchedCompanies', 'Authors', 'ImageUrl'])"
            ]
          },
          "execution_count": 8,
          "metadata": {},
          "output_type": "execute_result"
        }
      ],
      "source": [
        "data[0].keys()"
      ]
    },
    {
      "cell_type": "code",
      "execution_count": null,
      "metadata": {
        "colab": {
          "base_uri": "https://localhost:8080/"
        },
        "id": "KJH-xVOrOVIX",
        "outputId": "5aab55eb-11f8-4e89-9819-1acabd4dfaa7"
      },
      "outputs": [
        {
          "data": {
            "text/plain": [
              "{'$oid': '65847e46b1f6ca8a8b0b8f75'}"
            ]
          },
          "execution_count": 9,
          "metadata": {},
          "output_type": "execute_result"
        }
      ],
      "source": [
        "data[0]['_id']"
      ]
    },
    {
      "cell_type": "code",
      "execution_count": null,
      "metadata": {
        "colab": {
          "base_uri": "https://localhost:8080/",
          "height": 36
        },
        "id": "6_jiuxIxO9Ik",
        "outputId": "dc3cfc36-1b9b-4180-8de7-c91eec63f0a0"
      },
      "outputs": [
        {
          "data": {
            "application/vnd.google.colaboratory.intrinsic+json": {
              "type": "string"
            },
            "text/plain": [
              "'Daily mail Latest Stories'"
            ]
          },
          "execution_count": 10,
          "metadata": {},
          "output_type": "execute_result"
        }
      ],
      "source": [
        "data[0]['Source']"
      ]
    },
    {
      "cell_type": "code",
      "execution_count": null,
      "metadata": {
        "colab": {
          "base_uri": "https://localhost:8080/",
          "height": 36
        },
        "id": "R3jWeSEwPAJ5",
        "outputId": "6be9af05-b059-45ae-f115-e981383030b5"
      },
      "outputs": [
        {
          "data": {
            "application/vnd.google.colaboratory.intrinsic+json": {
              "type": "string"
            },
            "text/plain": [
              "'rss'"
            ]
          },
          "execution_count": 13,
          "metadata": {},
          "output_type": "execute_result"
        }
      ],
      "source": [
        "data[0]['SourceType']"
      ]
    },
    {
      "cell_type": "code",
      "execution_count": null,
      "metadata": {
        "colab": {
          "base_uri": "https://localhost:8080/",
          "height": 53
        },
        "id": "Y3SDZZGFSErV",
        "outputId": "9f5ebad8-ab72-4899-960a-d3842bd18d7c"
      },
      "outputs": [
        {
          "data": {
            "application/vnd.google.colaboratory.intrinsic+json": {
              "type": "string"
            },
            "text/plain": [
              "\"BBC is urged to sack UK's Eurovision entrant Olly Alexander as it emerges he signed letter calling Israel an 'apartheid regime' and accusing Jewish state of 'genocide'\""
            ]
          },
          "execution_count": 14,
          "metadata": {},
          "output_type": "execute_result"
        }
      ],
      "source": [
        "data[0]['Title']"
      ]
    },
    {
      "cell_type": "code",
      "execution_count": null,
      "metadata": {
        "colab": {
          "base_uri": "https://localhost:8080/"
        },
        "id": "MEv_7xX7SIa-",
        "outputId": "3056f26b-2907-440c-cb0b-8cee96d7365f"
      },
      "outputs": [
        {
          "data": {
            "text/plain": [
              "{'ArticleUrl': 'https://www.dailymail.co.uk/news/article-12889229/bbc-urged-sack-olly-alexander-uk-eurovision-entrant-letter-against-israel-signed.html?ns_mchannel=rss&ito=1490&ns_campaign=1490',\n",
              " 'FromDescription': None,\n",
              " 'FromTitle': None}"
            ]
          },
          "execution_count": 15,
          "metadata": {},
          "output_type": "execute_result"
        }
      ],
      "source": [
        "data[0]['Links']"
      ]
    },
    {
      "cell_type": "code",
      "execution_count": null,
      "metadata": {
        "colab": {
          "base_uri": "https://localhost:8080/",
          "height": 105
        },
        "id": "JS35rrRtSQjV",
        "outputId": "239f5735-91e9-4d34-acb4-969af7031fb7"
      },
      "outputs": [
        {
          "data": {
            "application/vnd.google.colaboratory.intrinsic+json": {
              "type": "string"
            },
            "text/plain": [
              "\"The BBC is being urged to drop singer Olly Alexander as its entrant for Eurovision after it emerged he signed a letter calling Israel an 'apartheid regime'.\\nThe BBC is not planning on taking any action as the singer signed the letter weeks before he was unveiled as the UK's Eurovision act, the Telegraph reported.\\n'Current events simply are an escalation of the state of Israel's apartheid regime, which acts to ethnically cleanse the land.\\n'Maybe it's time to stop letting the BBC decide who represents the UK at Eurovision.'\\nThe UK's first ever Eurovision victory came 11 years after the annual competition launched with Sandie Shaw's Puppet on a String in 1967.\""
            ]
          },
          "execution_count": 48,
          "metadata": {},
          "output_type": "execute_result"
        }
      ],
      "source": [
        "data[0]['Description'] #hypotesis: extractive summary of field 'Content'?"
      ]
    },
    {
      "cell_type": "code",
      "execution_count": null,
      "metadata": {
        "colab": {
          "base_uri": "https://localhost:8080/",
          "height": 157
        },
        "id": "kksWlB4ySVuN",
        "outputId": "3c5b0c5a-de90-4be0-95dc-056b7d536ae6"
      },
      "outputs": [
        {
          "data": {
            "application/vnd.google.colaboratory.intrinsic+json": {
              "type": "string"
            },
            "text/plain": [
              "\"The BBC is being urged to drop singer Olly Alexander as its entrant for Eurovision after it emerged he signed a letter calling Israel an 'apartheid regime'.\\n\\nThe Years And Years frontman, 33, was unveiled as next year's candidate for the UK during the Strictly Come Dancing final, which aired on the BBC on Saturday.\\n\\nBut he now faces having that role stripped from him after he signed a letter from LGBT charity Voices4London which described Israel as an 'apartheid regime' which is trying to 'ethnically cleanse' Palestine.\\n\\nThe statement, which was published on October 20, almost two weeks after Hamas' October 7 attack, also says that Israel has 'terrorised' Palestinian people and there is now a 'genocide' taking place 'in real time'.\\n\\nThe Conservatives have accused the BBC of 'either a massive oversight or sheer brass neck' for selecting Alexander, while a Jewish charity has called for him to be replaced and for the broadcaster to cut ties with him.\\n\\nThe BBC is not planning on taking any action as the singer signed the letter weeks before he was unveiled as the UK's Eurovision act, the Telegraph reported.\\n\\nThe BBC is being urged to drop singer Olly Alexander as its entrant for Eurovision after it emerged he signed letter calling Israel an 'apartheid regime'\\n\\nAlexander now faces having the role stripped from him after he reportedly signed a letter from LGBT charity Voices4London which described Israel an 'apartheid regime'\\n\\nAerial view of buildings destroyed by Israeli air strikes in the Jabalia camp for Palestinian refugees in Gaza City on October 11\\n\\nThe letter which was allegedly signed by Alexander, who is non-binary and uses he/him pronouns, said: 'We are watching a genocide take place in real time.\\n\\n'Death overflows from our phone screens and into our hearts. And, as a queer community, we cannot sit idly by while the Israeli government continues to wipe out entire lineages of Palestinian families.\\n\\n'We cannot untangle these recent tragedies from a violent history of occupation.\\n\\n'Current events simply are an escalation of the state of Israel's apartheid regime, which acts to ethnically cleanse the land.\\n\\n'Since the violent creation of the state 75 years ago, the Israeli military and Israeli settlers have continued to terrorise Palestinian people.'\\n\\n'Queer and trans Palestinians have long highlighted that pinkwashing plays a significant role in Zionist propaganda.\\n\\n'We stand against any and all harassment and discrimination against Jewish communities.\\n\\n'For the many queer and anti-Zionist Jewish individuals invested in liberation, this unthinking philosemitism, which hesitates to criticise an ongoing genocide out of fear of being seen to criticise Jewish people, is simply the other face of anti-Semitism'.\\n\\nOlly Alexander was announced as the UK's entry for Eurovision next year\\n\\nThe Years And Years frontman, 33, made the announcement during Saturday's live final of Strictly Come Dancing as the audience cheered along\\n\\nAfter it emerged that Alexander had signed the letter, a Conservative Party source told The Telegraph: 'Letting an openly anti-Israel singer compete on the same stage as Israel is either a massive oversight or sheer brass neck from the BBC.\\n\\n'After they refused to call Hamas a terrorist organisation, you would think BBC bosses would try to steer clear of causing any more diplomatic blunders.\\n\\n'Maybe it's time to stop letting the BBC decide who represents the UK at Eurovision.'\\n\\nMeanwhile, a spokesman for the Jewish charity Campaign Against Antisemitism told the newspaper: 'The rhetoric in this letter, which is seemingly endorsed by Olly Alexander, is extreme. It is appalling in particular that it condemns 'unthinking philosemitism.\\n\\n'At a time when nearly seven in ten British Jews feel afraid to express their identity in public, this must not be the person to represent our country at the Eurovision Song Contest. The BBC can and must right this wrong.'\\n\\nAlexander is set to represent the UK in Sweden in 2024 and has promised to 'fly the flag for the UK in the gayest way possible'.\\n\\nFollowing the announcement on Saturday, Alexander said in a statement: 'I've loved watching Eurovision ever since I was a little kid and I'm beyond excited to be taking part next year.\\n\\n'As a young boy I always looked forward to this incredible event of unbridled joy, the wonderfully chaotic mix of musical styles, theatrical performances, heartfelt emotion and humour.'\\n\\nOlly Alexander performing live on stage with his band Years and Years at Wembley Arena in 2022\\n\\nSir Elton John and Olly Alexander perform during The BRIT Awards 2021 at The O2 Arena\\n\\nThe UK has won Eurovision five times, with the last time being in 1997 when Katrina & The Waves performed Love Shine A Light.\\n\\nPrior to that, the UK stormed to victory in 1981 with Bucks Fizz's Makin' Your Mind Up, and in 1976 with Brotherhood Of Man's Save Your Kisses For Me.\\n\\nIn 1969, Lulu, who performed Boom Bang-a-Bang came first in a four-way joint tie with France, the Netherlands and Spain.\\n\\nThe UK's first ever Eurovision victory came 11 years after the annual competition launched with Sandie Shaw's Puppet on a String in 1967.\\n\\nIsrael has won the competition four times after its debut in the competition in 1973 as the first non-European country to participate in the event.\\n\\nMailOnline has contacted Alexander's representatives for comment.\\n\\nThe BBC declined to comment.\""
            ]
          },
          "execution_count": 49,
          "metadata": {},
          "output_type": "execute_result"
        }
      ],
      "source": [
        "data[0]['Content']"
      ]
    },
    {
      "cell_type": "code",
      "execution_count": null,
      "metadata": {
        "colab": {
          "base_uri": "https://localhost:8080/"
        },
        "id": "zbLY3LjiSVxW",
        "outputId": "4b79e90a-9ad0-4d48-9b9d-6fb2c6366562"
      },
      "outputs": [
        {
          "data": {
            "text/plain": [
              "{'$date': {'$numberLong': '1703164970000'}}"
            ]
          },
          "execution_count": 18,
          "metadata": {},
          "output_type": "execute_result"
        }
      ],
      "source": [
        "data[0]['PublishedDate']"
      ]
    },
    {
      "cell_type": "code",
      "execution_count": null,
      "metadata": {
        "colab": {
          "base_uri": "https://localhost:8080/"
        },
        "id": "Fl6ukC9VSVzq",
        "outputId": "8b0c82f7-dc0d-40ad-c233-d9338d022024"
      },
      "outputs": [
        {
          "data": {
            "text/plain": [
              "{'FromDescription': ['olly alexander',\n",
              "  'singer olly',\n",
              "  'calling israel',\n",
              "  'apartheid regime',\n",
              "  'drop singer',\n",
              "  'letter calling',\n",
              "  'bbc',\n",
              "  'israel apartheid',\n",
              "  'eurovision',\n",
              "  'bbc decide',\n",
              "  'olly',\n",
              "  'telegraph reported',\n",
              "  'israel',\n",
              "  'letter weeks',\n",
              "  'urged',\n",
              "  'uk',\n",
              "  'apartheid',\n",
              "  'singer',\n",
              "  'uks',\n",
              "  'jewish',\n",
              "  'state',\n",
              "  'letter',\n",
              "  'signed',\n",
              "  'regime',\n",
              "  'sack',\n",
              "  'alexander'],\n",
              " 'FromTitle': ['olly alexander',\n",
              "  'apartheid regime',\n",
              "  'genocide',\n",
              "  'eurovision entrant',\n",
              "  'entrant olly',\n",
              "  'calling israel',\n",
              "  'accusing jewish',\n",
              "  'jewish state',\n",
              "  'bbc',\n",
              "  'signed letter',\n",
              "  'letter calling']}"
            ]
          },
          "execution_count": 8,
          "metadata": {},
          "output_type": "execute_result"
        }
      ],
      "source": [
        "data[0]['Keywords']"
      ]
    },
    {
      "cell_type": "code",
      "execution_count": null,
      "metadata": {
        "colab": {
          "base_uri": "https://localhost:8080/"
        },
        "id": "rU-PPAAs4PJ0",
        "outputId": "9627677e-3952-4731-fc51-4203e60f7884"
      },
      "outputs": [
        {
          "data": {
            "text/plain": [
              "['olly alexander',\n",
              " 'singer olly',\n",
              " 'calling israel',\n",
              " 'apartheid regime',\n",
              " 'drop singer',\n",
              " 'letter calling',\n",
              " 'bbc',\n",
              " 'israel apartheid',\n",
              " 'eurovision',\n",
              " 'bbc decide',\n",
              " 'olly',\n",
              " 'telegraph reported',\n",
              " 'israel',\n",
              " 'letter weeks',\n",
              " 'urged',\n",
              " 'uk',\n",
              " 'apartheid',\n",
              " 'singer',\n",
              " 'uks',\n",
              " 'jewish',\n",
              " 'state',\n",
              " 'letter',\n",
              " 'signed',\n",
              " 'regime',\n",
              " 'sack',\n",
              " 'alexander']"
            ]
          },
          "execution_count": 9,
          "metadata": {},
          "output_type": "execute_result"
        }
      ],
      "source": [
        "data[0]['Keywords']['FromDescription']"
      ]
    },
    {
      "cell_type": "code",
      "execution_count": null,
      "metadata": {
        "colab": {
          "base_uri": "https://localhost:8080/"
        },
        "id": "R8hB3UwL4Ss1",
        "outputId": "cf396eed-86d2-4cb4-ed72-05269a94a31c"
      },
      "outputs": [
        {
          "data": {
            "text/plain": [
              "['olly alexander',\n",
              " 'apartheid regime',\n",
              " 'genocide',\n",
              " 'eurovision entrant',\n",
              " 'entrant olly',\n",
              " 'calling israel',\n",
              " 'accusing jewish',\n",
              " 'jewish state',\n",
              " 'bbc',\n",
              " 'signed letter',\n",
              " 'letter calling']"
            ]
          },
          "execution_count": 10,
          "metadata": {},
          "output_type": "execute_result"
        }
      ],
      "source": [
        "data[0]['Keywords']['FromTitle']"
      ]
    },
    {
      "cell_type": "code",
      "execution_count": null,
      "metadata": {
        "colab": {
          "base_uri": "https://localhost:8080/"
        },
        "id": "_OGrL1R3TGo9",
        "outputId": "0572357a-f19f-46db-9a5d-d88bebf3bca9"
      },
      "outputs": [
        {
          "data": {
            "text/plain": [
              "{'TitleRaw': \"BBC is urged to sack UK's Eurovision entrant Olly Alexander as it emerges he signed letter calling Israel an 'apartheid regime' and accusing Jewish state of 'genocide'\",\n",
              " 'DescriptionRaw': \"The BBC is being urged to drop singer Olly Alexander as its entrant for Eurovision after it emerged he signed a letter calling Israel an 'apartheid regime'.\\nThe BBC is not planning on taking any action as the singer signed the letter weeks before he was unveiled as the UK's Eurovision act, the Telegraph reported.\\n'Current events simply are an escalation of the state of Israel's apartheid regime, which acts to ethnically cleanse the land.\\n'Maybe it's time to stop letting the BBC decide who represents the UK at Eurovision.'\\nThe UK's first ever Eurovision victory came 11 years after the annual competition launched with Sandie Shaw's Puppet on a String in 1967.\",\n",
              " 'ContentRaw': \"The BBC is being urged to drop singer Olly Alexander as its entrant for Eurovision after it emerged he signed a letter calling Israel an 'apartheid regime'.\\n\\nThe Years And Years frontman, 33, was unveiled as next year's candidate for the UK during the Strictly Come Dancing final, which aired on the BBC on Saturday.\\n\\nBut he now faces having that role stripped from him after he signed a letter from LGBT charity Voices4London which described Israel as an 'apartheid regime' which is trying to 'ethnically cleanse' Palestine.\\n\\nThe statement, which was published on October 20, almost two weeks after Hamas' October 7 attack, also says that Israel has 'terrorised' Palestinian people and there is now a 'genocide' taking place 'in real time'.\\n\\nThe Conservatives have accused the BBC of 'either a massive oversight or sheer brass neck' for selecting Alexander, while a Jewish charity has called for him to be replaced and for the broadcaster to cut ties with him.\\n\\nThe BBC is not planning on taking any action as the singer signed the letter weeks before he was unveiled as the UK's Eurovision act, the Telegraph reported.\\n\\nThe BBC is being urged to drop singer Olly Alexander as its entrant for Eurovision after it emerged he signed letter calling Israel an 'apartheid regime'\\n\\nAlexander now faces having the role stripped from him after he reportedly signed a letter from LGBT charity Voices4London which described Israel an 'apartheid regime'\\n\\nAerial view of buildings destroyed by Israeli air strikes in the Jabalia camp for Palestinian refugees in Gaza City on October 11\\n\\nThe letter which was allegedly signed by Alexander, who is non-binary and uses he/him pronouns, said: 'We are watching a genocide take place in real time.\\n\\n'Death overflows from our phone screens and into our hearts. And, as a queer community, we cannot sit idly by while the Israeli government continues to wipe out entire lineages of Palestinian families.\\n\\n'We cannot untangle these recent tragedies from a violent history of occupation.\\n\\n'Current events simply are an escalation of the state of Israel's apartheid regime, which acts to ethnically cleanse the land.\\n\\n'Since the violent creation of the state 75 years ago, the Israeli military and Israeli settlers have continued to terrorise Palestinian people.'\\n\\n'Queer and trans Palestinians have long highlighted that pinkwashing plays a significant role in Zionist propaganda.\\n\\n'We stand against any and all harassment and discrimination against Jewish communities.\\n\\n'For the many queer and anti-Zionist Jewish individuals invested in liberation, this unthinking philosemitism, which hesitates to criticise an ongoing genocide out of fear of being seen to criticise Jewish people, is simply the other face of anti-Semitism'.\\n\\nOlly Alexander was announced as the UK's entry for Eurovision next year\\n\\nThe Years And Years frontman, 33, made the announcement during Saturday's live final of Strictly Come Dancing as the audience cheered along\\n\\nAfter it emerged that Alexander had signed the letter, a Conservative Party source told The Telegraph: 'Letting an openly anti-Israel singer compete on the same stage as Israel is either a massive oversight or sheer brass neck from the BBC.\\n\\n'After they refused to call Hamas a terrorist organisation, you would think BBC bosses would try to steer clear of causing any more diplomatic blunders.\\n\\n'Maybe it's time to stop letting the BBC decide who represents the UK at Eurovision.'\\n\\nMeanwhile, a spokesman for the Jewish charity Campaign Against Antisemitism told the newspaper: 'The rhetoric in this letter, which is seemingly endorsed by Olly Alexander, is extreme. It is appalling in particular that it condemns 'unthinking philosemitism.\\n\\n'At a time when nearly seven in ten British Jews feel afraid to express their identity in public, this must not be the person to represent our country at the Eurovision Song Contest. The BBC can and must right this wrong.'\\n\\nAlexander is set to represent the UK in Sweden in 2024 and has promised to 'fly the flag for the UK in the gayest way possible'.\\n\\nFollowing the announcement on Saturday, Alexander said in a statement: 'I've loved watching Eurovision ever since I was a little kid and I'm beyond excited to be taking part next year.\\n\\n'As a young boy I always looked forward to this incredible event of unbridled joy, the wonderfully chaotic mix of musical styles, theatrical performances, heartfelt emotion and humour.'\\n\\nOlly Alexander performing live on stage with his band Years and Years at Wembley Arena in 2022\\n\\nSir Elton John and Olly Alexander perform during The BRIT Awards 2021 at The O2 Arena\\n\\nThe UK has won Eurovision five times, with the last time being in 1997 when Katrina & The Waves performed Love Shine A Light .\\n\\nPrior to that, the UK stormed to victory in 1981 with Bucks Fizz's Makin' Your Mind Up, and in 1976 with Brotherhood Of Man's Save Your Kisses For Me.\\n\\nIn 1969, Lulu, who performed Boom Bang-a-Bang came first in a four-way joint tie with France, the Netherlands and Spain.\\n\\nThe UK's first ever Eurovision victory came 11 years after the annual competition launched with Sandie Shaw's Puppet on a String in 1967.\\n\\nIsrael has won the competition four times after its debut in the competition in 1973 as the first non-European country to participate in the event.\\n\\nMailOnline has contacted Alexander's representatives for comment.\\n\\nThe BBC declined to comment.\",\n",
              " 'TitleTokens': ['bbc',\n",
              "  'urged',\n",
              "  'sack',\n",
              "  'uk',\n",
              "  'eurovision',\n",
              "  'entrant',\n",
              "  'olly',\n",
              "  'alexander',\n",
              "  'emerges',\n",
              "  'signed',\n",
              "  'letter',\n",
              "  'calling',\n",
              "  'israel',\n",
              "  'apartheid',\n",
              "  'regime',\n",
              "  'accusing',\n",
              "  'jewish',\n",
              "  'state',\n",
              "  'genocide'],\n",
              " 'QTypeLogprob': None}"
            ]
          },
          "execution_count": 20,
          "metadata": {},
          "output_type": "execute_result"
        }
      ],
      "source": [
        "data[0]['ProcessingSteps']"
      ]
    },
    {
      "cell_type": "code",
      "execution_count": null,
      "metadata": {
        "colab": {
          "base_uri": "https://localhost:8080/"
        },
        "id": "YIwfOuJZ4a2d",
        "outputId": "3040e9a3-8f98-4f63-c2be-579457b975ed"
      },
      "outputs": [
        {
          "data": {
            "text/plain": [
              "dict_keys(['TitleRaw', 'DescriptionRaw', 'ContentRaw', 'TitleTokens', 'QTypeLogprob'])"
            ]
          },
          "execution_count": 11,
          "metadata": {},
          "output_type": "execute_result"
        }
      ],
      "source": [
        "data[0]['ProcessingSteps'].keys()"
      ]
    },
    {
      "cell_type": "code",
      "execution_count": null,
      "metadata": {
        "colab": {
          "base_uri": "https://localhost:8080/",
          "height": 53
        },
        "id": "1BpqVBZZ4c67",
        "outputId": "717d3e68-6b78-4826-d581-5b03243a5a15"
      },
      "outputs": [
        {
          "data": {
            "application/vnd.google.colaboratory.intrinsic+json": {
              "type": "string"
            },
            "text/plain": [
              "\"BBC is urged to sack UK's Eurovision entrant Olly Alexander as it emerges he signed letter calling Israel an 'apartheid regime' and accusing Jewish state of 'genocide'\""
            ]
          },
          "execution_count": 12,
          "metadata": {},
          "output_type": "execute_result"
        }
      ],
      "source": [
        "data[0]['ProcessingSteps']['TitleRaw']"
      ]
    },
    {
      "cell_type": "code",
      "execution_count": null,
      "metadata": {
        "colab": {
          "base_uri": "https://localhost:8080/",
          "height": 105
        },
        "id": "LXzVdGJg4dHO",
        "outputId": "3ec8c03a-59d4-421e-fa83-4d076ecea843"
      },
      "outputs": [
        {
          "data": {
            "application/vnd.google.colaboratory.intrinsic+json": {
              "type": "string"
            },
            "text/plain": [
              "\"The BBC is being urged to drop singer Olly Alexander as its entrant for Eurovision after it emerged he signed a letter calling Israel an 'apartheid regime'.\\nThe BBC is not planning on taking any action as the singer signed the letter weeks before he was unveiled as the UK's Eurovision act, the Telegraph reported.\\n'Current events simply are an escalation of the state of Israel's apartheid regime, which acts to ethnically cleanse the land.\\n'Maybe it's time to stop letting the BBC decide who represents the UK at Eurovision.'\\nThe UK's first ever Eurovision victory came 11 years after the annual competition launched with Sandie Shaw's Puppet on a String in 1967.\""
            ]
          },
          "execution_count": 13,
          "metadata": {},
          "output_type": "execute_result"
        }
      ],
      "source": [
        "data[0]['ProcessingSteps']['DescriptionRaw']"
      ]
    },
    {
      "cell_type": "code",
      "execution_count": null,
      "metadata": {
        "colab": {
          "base_uri": "https://localhost:8080/",
          "height": 157
        },
        "id": "mxtNH_sX4dS6",
        "outputId": "7c8478a8-8f80-4a7e-abe2-41130823d0bb"
      },
      "outputs": [
        {
          "data": {
            "application/vnd.google.colaboratory.intrinsic+json": {
              "type": "string"
            },
            "text/plain": [
              "\"The BBC is being urged to drop singer Olly Alexander as its entrant for Eurovision after it emerged he signed a letter calling Israel an 'apartheid regime'.\\n\\nThe Years And Years frontman, 33, was unveiled as next year's candidate for the UK during the Strictly Come Dancing final, which aired on the BBC on Saturday.\\n\\nBut he now faces having that role stripped from him after he signed a letter from LGBT charity Voices4London which described Israel as an 'apartheid regime' which is trying to 'ethnically cleanse' Palestine.\\n\\nThe statement, which was published on October 20, almost two weeks after Hamas' October 7 attack, also says that Israel has 'terrorised' Palestinian people and there is now a 'genocide' taking place 'in real time'.\\n\\nThe Conservatives have accused the BBC of 'either a massive oversight or sheer brass neck' for selecting Alexander, while a Jewish charity has called for him to be replaced and for the broadcaster to cut ties with him.\\n\\nThe BBC is not planning on taking any action as the singer signed the letter weeks before he was unveiled as the UK's Eurovision act, the Telegraph reported.\\n\\nThe BBC is being urged to drop singer Olly Alexander as its entrant for Eurovision after it emerged he signed letter calling Israel an 'apartheid regime'\\n\\nAlexander now faces having the role stripped from him after he reportedly signed a letter from LGBT charity Voices4London which described Israel an 'apartheid regime'\\n\\nAerial view of buildings destroyed by Israeli air strikes in the Jabalia camp for Palestinian refugees in Gaza City on October 11\\n\\nThe letter which was allegedly signed by Alexander, who is non-binary and uses he/him pronouns, said: 'We are watching a genocide take place in real time.\\n\\n'Death overflows from our phone screens and into our hearts. And, as a queer community, we cannot sit idly by while the Israeli government continues to wipe out entire lineages of Palestinian families.\\n\\n'We cannot untangle these recent tragedies from a violent history of occupation.\\n\\n'Current events simply are an escalation of the state of Israel's apartheid regime, which acts to ethnically cleanse the land.\\n\\n'Since the violent creation of the state 75 years ago, the Israeli military and Israeli settlers have continued to terrorise Palestinian people.'\\n\\n'Queer and trans Palestinians have long highlighted that pinkwashing plays a significant role in Zionist propaganda.\\n\\n'We stand against any and all harassment and discrimination against Jewish communities.\\n\\n'For the many queer and anti-Zionist Jewish individuals invested in liberation, this unthinking philosemitism, which hesitates to criticise an ongoing genocide out of fear of being seen to criticise Jewish people, is simply the other face of anti-Semitism'.\\n\\nOlly Alexander was announced as the UK's entry for Eurovision next year\\n\\nThe Years And Years frontman, 33, made the announcement during Saturday's live final of Strictly Come Dancing as the audience cheered along\\n\\nAfter it emerged that Alexander had signed the letter, a Conservative Party source told The Telegraph: 'Letting an openly anti-Israel singer compete on the same stage as Israel is either a massive oversight or sheer brass neck from the BBC.\\n\\n'After they refused to call Hamas a terrorist organisation, you would think BBC bosses would try to steer clear of causing any more diplomatic blunders.\\n\\n'Maybe it's time to stop letting the BBC decide who represents the UK at Eurovision.'\\n\\nMeanwhile, a spokesman for the Jewish charity Campaign Against Antisemitism told the newspaper: 'The rhetoric in this letter, which is seemingly endorsed by Olly Alexander, is extreme. It is appalling in particular that it condemns 'unthinking philosemitism.\\n\\n'At a time when nearly seven in ten British Jews feel afraid to express their identity in public, this must not be the person to represent our country at the Eurovision Song Contest. The BBC can and must right this wrong.'\\n\\nAlexander is set to represent the UK in Sweden in 2024 and has promised to 'fly the flag for the UK in the gayest way possible'.\\n\\nFollowing the announcement on Saturday, Alexander said in a statement: 'I've loved watching Eurovision ever since I was a little kid and I'm beyond excited to be taking part next year.\\n\\n'As a young boy I always looked forward to this incredible event of unbridled joy, the wonderfully chaotic mix of musical styles, theatrical performances, heartfelt emotion and humour.'\\n\\nOlly Alexander performing live on stage with his band Years and Years at Wembley Arena in 2022\\n\\nSir Elton John and Olly Alexander perform during The BRIT Awards 2021 at The O2 Arena\\n\\nThe UK has won Eurovision five times, with the last time being in 1997 when Katrina & The Waves performed Love Shine A Light .\\n\\nPrior to that, the UK stormed to victory in 1981 with Bucks Fizz's Makin' Your Mind Up, and in 1976 with Brotherhood Of Man's Save Your Kisses For Me.\\n\\nIn 1969, Lulu, who performed Boom Bang-a-Bang came first in a four-way joint tie with France, the Netherlands and Spain.\\n\\nThe UK's first ever Eurovision victory came 11 years after the annual competition launched with Sandie Shaw's Puppet on a String in 1967.\\n\\nIsrael has won the competition four times after its debut in the competition in 1973 as the first non-European country to participate in the event.\\n\\nMailOnline has contacted Alexander's representatives for comment.\\n\\nThe BBC declined to comment.\""
            ]
          },
          "execution_count": 14,
          "metadata": {},
          "output_type": "execute_result"
        }
      ],
      "source": [
        "data[0]['ProcessingSteps']['ContentRaw']"
      ]
    },
    {
      "cell_type": "code",
      "execution_count": null,
      "metadata": {
        "colab": {
          "base_uri": "https://localhost:8080/"
        },
        "id": "U_k9fvab4deX",
        "outputId": "6b1f1e59-a726-4d0a-ce01-669663a6532e"
      },
      "outputs": [
        {
          "data": {
            "text/plain": [
              "['bbc',\n",
              " 'urged',\n",
              " 'sack',\n",
              " 'uk',\n",
              " 'eurovision',\n",
              " 'entrant',\n",
              " 'olly',\n",
              " 'alexander',\n",
              " 'emerges',\n",
              " 'signed',\n",
              " 'letter',\n",
              " 'calling',\n",
              " 'israel',\n",
              " 'apartheid',\n",
              " 'regime',\n",
              " 'accusing',\n",
              " 'jewish',\n",
              " 'state',\n",
              " 'genocide']"
            ]
          },
          "execution_count": 15,
          "metadata": {},
          "output_type": "execute_result"
        }
      ],
      "source": [
        "data[0]['ProcessingSteps']['TitleTokens']"
      ]
    },
    {
      "cell_type": "code",
      "execution_count": null,
      "metadata": {
        "id": "4cVP8LzN4dnx"
      },
      "outputs": [],
      "source": [
        "data[0]['ProcessingSteps']['QTypeLogprob']"
      ]
    },
    {
      "cell_type": "code",
      "execution_count": null,
      "metadata": {
        "colab": {
          "base_uri": "https://localhost:8080/"
        },
        "id": "ZnAG0MInTGsq",
        "outputId": "f9a5b629-2e85-4e51-a8d2-5d231f822c02"
      },
      "outputs": [
        {
          "data": {
            "text/plain": [
              "{'FromDescription': [{'Position': 4, 'Text': 'BBC'},\n",
              "  {'Position': 127, 'Text': 'Israel'},\n",
              "  {'Position': 161, 'Text': 'BBC'},\n",
              "  {'Position': 270, 'Text': 'UK'},\n",
              "  {'Position': 295, 'Text': 'Telegraph'},\n",
              "  {'Position': 372, 'Text': 'Israel'},\n",
              "  {'Position': 479, 'Text': 'BBC'},\n",
              "  {'Position': 509, 'Text': 'UK'},\n",
              "  {'Position': 515, 'Text': 'Eurovision'},\n",
              "  {'Position': 532, 'Text': 'UK'},\n",
              "  {'Position': 624, 'Text': \"Sandie Shaw's\"}],\n",
              " 'FromTitle': [{'Position': 0, 'Text': 'BBC'},\n",
              "  {'Position': 21, 'Text': 'UK'},\n",
              "  {'Position': 99, 'Text': 'Israel'}]}"
            ]
          },
          "execution_count": 21,
          "metadata": {},
          "output_type": "execute_result"
        }
      ],
      "source": [
        "data[0]['NERs'] #to jest ten indeks pierwszego znaku, który zapisują"
      ]
    },
    {
      "cell_type": "code",
      "execution_count": null,
      "metadata": {
        "colab": {
          "base_uri": "https://localhost:8080/"
        },
        "id": "znxTEArzTGvq",
        "outputId": "30ecaea2-b96d-474b-8c84-81494513f5cb"
      },
      "outputs": [
        {
          "data": {
            "text/plain": [
              "[200]"
            ]
          },
          "execution_count": 22,
          "metadata": {},
          "output_type": "execute_result"
        }
      ],
      "source": [
        "data[0]['QType'] #?"
      ]
    },
    {
      "cell_type": "code",
      "execution_count": null,
      "metadata": {
        "colab": {
          "base_uri": "https://localhost:8080/"
        },
        "id": "HRqQt_dJTGyj",
        "outputId": "9c7ad650-a8ca-4402-946f-c3d638da661e"
      },
      "outputs": [
        {
          "data": {
            "text/plain": [
              "['BBC']"
            ]
          },
          "execution_count": 23,
          "metadata": {},
          "output_type": "execute_result"
        }
      ],
      "source": [
        "data[0]['MatchedCompanies']"
      ]
    },
    {
      "cell_type": "code",
      "execution_count": null,
      "metadata": {
        "colab": {
          "base_uri": "https://localhost:8080/"
        },
        "id": "lxJ6sUBqTOs6",
        "outputId": "a54d741f-458a-4667-9b22-59c33aa6ac4b"
      },
      "outputs": [
        {
          "data": {
            "text/plain": [
              "[]"
            ]
          },
          "execution_count": 27,
          "metadata": {},
          "output_type": "execute_result"
        }
      ],
      "source": [
        "data[9]['Authors']"
      ]
    },
    {
      "cell_type": "code",
      "execution_count": null,
      "metadata": {
        "colab": {
          "base_uri": "https://localhost:8080/",
          "height": 36
        },
        "id": "81Lp4SJ8TO0X",
        "outputId": "f39b9fc4-b6e8-4dc9-ecc0-7d8d1d537d3a"
      },
      "outputs": [
        {
          "data": {
            "application/vnd.google.colaboratory.intrinsic+json": {
              "type": "string"
            },
            "text/plain": [
              "'https://actawarenewsdev.blob.core.windows.net/article-images/65827ca7fae0695da0fc94c3.png'"
            ]
          },
          "execution_count": 26,
          "metadata": {},
          "output_type": "execute_result"
        }
      ],
      "source": [
        "data[0]['ImageUrl']"
      ]
    },
    {
      "cell_type": "code",
      "execution_count": null,
      "metadata": {
        "colab": {
          "base_uri": "https://localhost:8080/"
        },
        "id": "zHcM-NmzUD2Q",
        "outputId": "6f32e38d-7277-4eed-826f-cecea783aa32"
      },
      "outputs": [
        {
          "data": {
            "text/plain": [
              "[]"
            ]
          },
          "execution_count": 43,
          "metadata": {},
          "output_type": "execute_result"
        }
      ],
      "source": [
        "[a['Authors'] for a in data if a['Authors']!=[]]"
      ]
    },
    {
      "cell_type": "code",
      "execution_count": null,
      "metadata": {
        "colab": {
          "base_uri": "https://localhost:8080/"
        },
        "id": "COJQR0vbUjah",
        "outputId": "207c3249-90cf-48cc-c6e8-f757c53046f1"
      },
      "outputs": [
        {
          "data": {
            "text/plain": [
              "{'rss', 'twitter'}"
            ]
          },
          "execution_count": 45,
          "metadata": {},
          "output_type": "execute_result"
        }
      ],
      "source": [
        "set([a['SourceType'] for a in data])"
      ]
    },
    {
      "cell_type": "code",
      "execution_count": null,
      "metadata": {
        "id": "J2i_aitzVZBI"
      },
      "outputs": [],
      "source": []
    },
    {
      "cell_type": "markdown",
      "metadata": {
        "id": "GH1x9umhxKNR"
      },
      "source": [
        "- what I would need to make predictions using BERTopic is: data[0]['Content'] for all articles //chyba że lepiej z data[0]['ProcessingSteps'] i tam jest 'ContentRaw', bo ten Content to coś mogli z nim już zrobić, jakiś preprocessing\n",
        "- compare the results with data[0]['Keywords'] - czy to jest moje ground truth jakby? bo oni w trakcie spotkań mówili, że oni wychwytują NERy dla firm (te w data[0]['NERs']?) i na tym mam się opierać\n",
        "- i w takim razie wychodzi na to, że te keywords to są analogiczne rzeczy, których ja szukam //czy mogę tu jako miarę zrobić np ile tych co mój model znajdzie będzie na liście tych keywords? tak +/- jakoś policzone proporcje? tylko one by musiał być jakoś spriorytyzowane, w sensie wyżej te ważniejsze, w tym ground truth, jeśli to wgl jest to\n",
        "\n",
        "\n",
        "pytania:\n",
        "- czy te dane z actaware to te na których ja mam się opierać, bo są do incydentów, czy to był po prostu przykład ogólnych danych, które oni ogarniają, a ja mam sobie dane do incidents skompletować? tylko czy jakbym je kompletowała,to wyjdzie ok, czy np nawet jeśli te dane tutaj są ich ogólne, to jak je wykorzystam, to czy nie dostanę lepszych wyników niż po prostu na jakichś twittach?"
      ]
    },
    {
      "cell_type": "code",
      "execution_count": null,
      "metadata": {
        "colab": {
          "base_uri": "https://localhost:8080/"
        },
        "id": "o2b3EwNuxRO2",
        "outputId": "8ca2eab9-c3c4-4e15-d91f-d18d7655e94d"
      },
      "outputs": [
        {
          "data": {
            "text/plain": [
              "5410"
            ]
          },
          "execution_count": 24,
          "metadata": {},
          "output_type": "execute_result"
        }
      ],
      "source": [
        "len(data[0]['ProcessingSteps']['ContentRaw'])#==data[0]['Content']"
      ]
    },
    {
      "cell_type": "code",
      "execution_count": null,
      "metadata": {
        "colab": {
          "base_uri": "https://localhost:8080/",
          "height": 157
        },
        "id": "G54F6Ssv3ywo",
        "outputId": "697c29a6-fcdb-4a67-c896-6744593895cb"
      },
      "outputs": [
        {
          "data": {
            "application/vnd.google.colaboratory.intrinsic+json": {
              "type": "string"
            },
            "text/plain": [
              "\"The BBC is being urged to drop singer Olly Alexander as its entrant for Eurovision after it emerged he signed a letter calling Israel an 'apartheid regime'.\\n\\nThe Years And Years frontman, 33, was unveiled as next year's candidate for the UK during the Strictly Come Dancing final, which aired on the BBC on Saturday.\\n\\nBut he now faces having that role stripped from him after he signed a letter from LGBT charity Voices4London which described Israel as an 'apartheid regime' which is trying to 'ethnically cleanse' Palestine.\\n\\nThe statement, which was published on October 20, almost two weeks after Hamas' October 7 attack, also says that Israel has 'terrorised' Palestinian people and there is now a 'genocide' taking place 'in real time'.\\n\\nThe Conservatives have accused the BBC of 'either a massive oversight or sheer brass neck' for selecting Alexander, while a Jewish charity has called for him to be replaced and for the broadcaster to cut ties with him.\\n\\nThe BBC is not planning on taking any action as the singer signed the letter weeks before he was unveiled as the UK's Eurovision act, the Telegraph reported.\\n\\nThe BBC is being urged to drop singer Olly Alexander as its entrant for Eurovision after it emerged he signed letter calling Israel an 'apartheid regime'\\n\\nAlexander now faces having the role stripped from him after he reportedly signed a letter from LGBT charity Voices4London which described Israel an 'apartheid regime'\\n\\nAerial view of buildings destroyed by Israeli air strikes in the Jabalia camp for Palestinian refugees in Gaza City on October 11\\n\\nThe letter which was allegedly signed by Alexander, who is non-binary and uses he/him pronouns, said: 'We are watching a genocide take place in real time.\\n\\n'Death overflows from our phone screens and into our hearts. And, as a queer community, we cannot sit idly by while the Israeli government continues to wipe out entire lineages of Palestinian families.\\n\\n'We cannot untangle these recent tragedies from a violent history of occupation.\\n\\n'Current events simply are an escalation of the state of Israel's apartheid regime, which acts to ethnically cleanse the land.\\n\\n'Since the violent creation of the state 75 years ago, the Israeli military and Israeli settlers have continued to terrorise Palestinian people.'\\n\\n'Queer and trans Palestinians have long highlighted that pinkwashing plays a significant role in Zionist propaganda.\\n\\n'We stand against any and all harassment and discrimination against Jewish communities.\\n\\n'For the many queer and anti-Zionist Jewish individuals invested in liberation, this unthinking philosemitism, which hesitates to criticise an ongoing genocide out of fear of being seen to criticise Jewish people, is simply the other face of anti-Semitism'.\\n\\nOlly Alexander was announced as the UK's entry for Eurovision next year\\n\\nThe Years And Years frontman, 33, made the announcement during Saturday's live final of Strictly Come Dancing as the audience cheered along\\n\\nAfter it emerged that Alexander had signed the letter, a Conservative Party source told The Telegraph: 'Letting an openly anti-Israel singer compete on the same stage as Israel is either a massive oversight or sheer brass neck from the BBC.\\n\\n'After they refused to call Hamas a terrorist organisation, you would think BBC bosses would try to steer clear of causing any more diplomatic blunders.\\n\\n'Maybe it's time to stop letting the BBC decide who represents the UK at Eurovision.'\\n\\nMeanwhile, a spokesman for the Jewish charity Campaign Against Antisemitism told the newspaper: 'The rhetoric in this letter, which is seemingly endorsed by Olly Alexander, is extreme. It is appalling in particular that it condemns 'unthinking philosemitism.\\n\\n'At a time when nearly seven in ten British Jews feel afraid to express their identity in public, this must not be the person to represent our country at the Eurovision Song Contest. The BBC can and must right this wrong.'\\n\\nAlexander is set to represent the UK in Sweden in 2024 and has promised to 'fly the flag for the UK in the gayest way possible'.\\n\\nFollowing the announcement on Saturday, Alexander said in a statement: 'I've loved watching Eurovision ever since I was a little kid and I'm beyond excited to be taking part next year.\\n\\n'As a young boy I always looked forward to this incredible event of unbridled joy, the wonderfully chaotic mix of musical styles, theatrical performances, heartfelt emotion and humour.'\\n\\nOlly Alexander performing live on stage with his band Years and Years at Wembley Arena in 2022\\n\\nSir Elton John and Olly Alexander perform during The BRIT Awards 2021 at The O2 Arena\\n\\nThe UK has won Eurovision five times, with the last time being in 1997 when Katrina & The Waves performed Love Shine A Light.\\n\\nPrior to that, the UK stormed to victory in 1981 with Bucks Fizz's Makin' Your Mind Up, and in 1976 with Brotherhood Of Man's Save Your Kisses For Me.\\n\\nIn 1969, Lulu, who performed Boom Bang-a-Bang came first in a four-way joint tie with France, the Netherlands and Spain.\\n\\nThe UK's first ever Eurovision victory came 11 years after the annual competition launched with Sandie Shaw's Puppet on a String in 1967.\\n\\nIsrael has won the competition four times after its debut in the competition in 1973 as the first non-European country to participate in the event.\\n\\nMailOnline has contacted Alexander's representatives for comment.\\n\\nThe BBC declined to comment.\""
            ]
          },
          "execution_count": 3,
          "metadata": {},
          "output_type": "execute_result"
        }
      ],
      "source": [
        "data[0]['Content']"
      ]
    },
    {
      "cell_type": "code",
      "execution_count": null,
      "metadata": {
        "colab": {
          "base_uri": "https://localhost:8080/",
          "height": 730
        },
        "id": "G7bEgN1c3yzf",
        "outputId": "a0e6a026-d017-4cb7-ede5-31b1cec763e4"
      },
      "outputs": [
        {
          "data": {
            "application/vnd.google.colaboratory.intrinsic+json": {
              "type": "string"
            },
            "text/plain": [
              "\"The BBC is being urged to drop singer Olly Alexander as its entrant for Eurovision after it emerged he signed a letter calling Israel an 'apartheid regime'.\\n\\nThe Years And Years frontman, 33, was unveiled as next year's candidate for the UK during the Strictly Come Dancing final, which aired on the BBC on Saturday.\\n\\nBut he now faces having that role stripped from him after he signed a letter from LGBT charity Voices4London which described Israel as an 'apartheid regime' which is trying to 'ethnically cleanse' Palestine.\\n\\nThe statement, which was published on October 20, almost two weeks after Hamas' October 7 attack, also says that Israel has 'terrorised' Palestinian people and there is now a 'genocide' taking place 'in real time'.\\n\\nThe Conservatives have accused the BBC of 'either a massive oversight or sheer brass neck' for selecting Alexander, while a Jewish charity has called for him to be replaced and for the broadcaster to cut ties with him.\\n\\nThe BBC is not planning on taking any action as the singer signed the letter weeks before he was unveiled as the UK's Eurovision act, the Telegraph reported.\\n\\nThe BBC is being urged to drop singer Olly Alexander as its entrant for Eurovision after it emerged he signed letter calling Israel an 'apartheid regime'\\n\\nAlexander now faces having the role stripped from him after he reportedly signed a letter from LGBT charity Voices4London which described Israel an 'apartheid regime'\\n\\nAerial view of buildings destroyed by Israeli air strikes in the Jabalia camp for Palestinian refugees in Gaza City on October 11\\n\\nThe letter which was allegedly signed by Alexander, who is non-binary and uses he/him pronouns, said: 'We are watching a genocide take place in real time.\\n\\n'Death overflows from our phone screens and into our hearts. And, as a queer community, we cannot sit idly by while the Israeli government continues to wipe out entire lineages of Palestinian families.\\n\\n'We cannot untangle these recent tragedies from a violent history of occupation.\\n\\n'Current events simply are an escalation of the state of Israel's apartheid regime, which acts to ethnically cleanse the land.\\n\\n'Since the violent creation of the state 75 years ago, the Israeli military and Israeli settlers have continued to terrorise Palestinian people.'\\n\\n'Queer and trans Palestinians have long highlighted that pinkwashing plays a significant role in Zionist propaganda.\\n\\n'We stand against any and all harassment and discrimination against Jewish communities.\\n\\n'For the many queer and anti-Zionist Jewish individuals invested in liberation, this unthinking philosemitism, which hesitates to criticise an ongoing genocide out of fear of being seen to criticise Jewish people, is simply the other face of anti-Semitism'.\\n\\nOlly Alexander was announced as the UK's entry for Eurovision next year\\n\\nThe Years And Years frontman, 33, made the announcement during Saturday's live final of Strictly Come Dancing as the audience cheered along\\n\\nAfter it emerged that Alexander had signed the letter, a Conservative Party source told The Telegraph: 'Letting an openly anti-Israel singer compete on the same stage as Israel is either a massive oversight or sheer brass neck from the BBC.\\n\\n'After they refused to call Hamas a terrorist organisation, you would think BBC bosses would try to steer clear of causing any more diplomatic blunders.\\n\\n'Maybe it's time to stop letting the BBC decide who represents the UK at Eurovision.'\\n\\nMeanwhile, a spokesman for the Jewish charity Campaign Against Antisemitism told the newspaper: 'The rhetoric in this letter, which is seemingly endorsed by Olly Alexander, is extreme. It is appalling in particular that it condemns 'unthinking philosemitism.\\n\\n'At a time when nearly seven in ten British Jews feel afraid to express their identity in public, this must not be the person to represent our country at the Eurovision Song Contest. The BBC can and must right this wrong.'\\n\\nAlexander is set to represent the UK in Sweden in 2024 and has promised to 'fly the flag for the UK in the gayest way possible'.\\n\\nFollowing the announcement on Saturday, Alexander said in a statement: 'I've loved watching Eurovision ever since I was a little kid and I'm beyond excited to be taking part next year.\\n\\n'As a young boy I always looked forward to this incredible event of unbridled joy, the wonderfully chaotic mix of musical styles, theatrical performances, heartfelt emotion and humour.'\\n\\nOlly Alexander performing live on stage with his band Years and Years at Wembley Arena in 2022\\n\\nSir Elton John and Olly Alexander perform during The BRIT Awards 2021 at The O2 Arena\\n\\nThe UK has won Eurovision five times, with the last time being in 1997 when Katrina & The Waves performed Love Shine A Light .\\n\\nPrior to that, the UK stormed to victory in 1981 with Bucks Fizz's Makin' Your Mind Up, and in 1976 with Brotherhood Of Man's Save Your Kisses For Me.\\n\\nIn 1969, Lulu, who performed Boom Bang-a-Bang came first in a four-way joint tie with France, the Netherlands and Spain.\\n\\nThe UK's first ever Eurovision victory came 11 years after the annual competition launched with Sandie Shaw's Puppet on a String in 1967.\\n\\nIsrael has won the competition four times after its debut in the competition in 1973 as the first non-European country to participate in the event.\\n\\nMailOnline has contacted Alexander's representatives for comment.\\n\\nThe BBC declined to comment.\""
            ]
          },
          "execution_count": 22,
          "metadata": {},
          "output_type": "execute_result"
        }
      ],
      "source": [
        "data[0]['ProcessingSteps']['ContentRaw']"
      ]
    },
    {
      "cell_type": "code",
      "execution_count": null,
      "metadata": {
        "colab": {
          "base_uri": "https://localhost:8080/",
          "height": 730
        },
        "id": "yyH9FAYs3y2I",
        "outputId": "e981c256-32ac-4920-ec34-860b54ab8a3e"
      },
      "outputs": [
        {
          "data": {
            "application/vnd.google.colaboratory.intrinsic+json": {
              "type": "string"
            },
            "text/plain": [
              "\"The BBC is being urged to drop singer Olly Alexander as its entrant for Eurovision after it emerged he signed a letter calling Israel an 'apartheid regime'.\\n\\nThe Years And Years frontman, 33, was unveiled as next year's candidate for the UK during the Strictly Come Dancing final, which aired on the BBC on Saturday.\\n\\nBut he now faces having that role stripped from him after he signed a letter from LGBT charity Voices4London which described Israel as an 'apartheid regime' which is trying to 'ethnically cleanse' Palestine.\\n\\nThe statement, which was published on October 20, almost two weeks after Hamas' October 7 attack, also says that Israel has 'terrorised' Palestinian people and there is now a 'genocide' taking place 'in real time'.\\n\\nThe Conservatives have accused the BBC of 'either a massive oversight or sheer brass neck' for selecting Alexander, while a Jewish charity has called for him to be replaced and for the broadcaster to cut ties with him.\\n\\nThe BBC is not planning on taking any action as the singer signed the letter weeks before he was unveiled as the UK's Eurovision act, the Telegraph reported.\\n\\nThe BBC is being urged to drop singer Olly Alexander as its entrant for Eurovision after it emerged he signed letter calling Israel an 'apartheid regime'\\n\\nAlexander now faces having the role stripped from him after he reportedly signed a letter from LGBT charity Voices4London which described Israel an 'apartheid regime'\\n\\nAerial view of buildings destroyed by Israeli air strikes in the Jabalia camp for Palestinian refugees in Gaza City on October 11\\n\\nThe letter which was allegedly signed by Alexander, who is non-binary and uses he/him pronouns, said: 'We are watching a genocide take place in real time.\\n\\n'Death overflows from our phone screens and into our hearts. And, as a queer community, we cannot sit idly by while the Israeli government continues to wipe out entire lineages of Palestinian families.\\n\\n'We cannot untangle these recent tragedies from a violent history of occupation.\\n\\n'Current events simply are an escalation of the state of Israel's apartheid regime, which acts to ethnically cleanse the land.\\n\\n'Since the violent creation of the state 75 years ago, the Israeli military and Israeli settlers have continued to terrorise Palestinian people.'\\n\\n'Queer and trans Palestinians have long highlighted that pinkwashing plays a significant role in Zionist propaganda.\\n\\n'We stand against any and all harassment and discrimination against Jewish communities.\\n\\n'For the many queer and anti-Zionist Jewish individuals invested in liberation, this unthinking philosemitism, which hesitates to criticise an ongoing genocide out of fear of being seen to criticise Jewish people, is simply the other face of anti-Semitism'.\\n\\nOlly Alexander was announced as the UK's entry for Eurovision next year\\n\\nThe Years And Years frontman, 33, made the announcement during Saturday's live final of Strictly Come Dancing as the audience cheered along\\n\\nAfter it emerged that Alexander had signed the letter, a Conservative Party source told The Telegraph: 'Letting an openly anti-Israel singer compete on the same stage as Israel is either a massive oversight or sheer brass neck from the BBC.\\n\\n'After they refused to call Hamas a terrorist organisation, you would think BBC bosses would try to steer clear of causing any more diplomatic blunders.\\n\\n'Maybe it's time to stop letting the BBC decide who represents the UK at Eurovision.'\\n\\nMeanwhile, a spokesman for the Jewish charity Campaign Against Antisemitism told the newspaper: 'The rhetoric in this letter, which is seemingly endorsed by Olly Alexander, is extreme. It is appalling in particular that it condemns 'unthinking philosemitism.\\n\\n'At a time when nearly seven in ten British Jews feel afraid to express their identity in public, this must not be the person to represent our country at the Eurovision Song Contest. The BBC can and must right this wrong.'\\n\\nAlexander is set to represent the UK in Sweden in 2024 and has promised to 'fly the flag for the UK in the gayest way possible'.\\n\\nFollowing the announcement on Saturday, Alexander said in a statement: 'I've loved watching Eurovision ever since I was a little kid and I'm beyond excited to be taking part next year.\\n\\n'As a young boy I always looked forward to this incredible event of unbridled joy, the wonderfully chaotic mix of musical styles, theatrical performances, heartfelt emotion and humour.'\\n\\nOlly Alexander performing live on stage with his band Years and Years at Wembley Arena in 2022\\n\\nSir Elton John and Olly Alexander perform during The BRIT Awards 2021 at The O2 Arena\\n\\nThe UK has won Eurovision five times, with the last time being in 1997 when Katrina & The Waves performed Love Shine A Light.\\n\\nPrior to that, the UK stormed to victory in 1981 with Bucks Fizz's Makin' Your Mind Up, and in 1976 with Brotherhood Of Man's Save Your Kisses For Me.\\n\\nIn 1969, Lulu, who performed Boom Bang-a-Bang came first in a four-way joint tie with France, the Netherlands and Spain.\\n\\nThe UK's first ever Eurovision victory came 11 years after the annual competition launched with Sandie Shaw's Puppet on a String in 1967.\\n\\nIsrael has won the competition four times after its debut in the competition in 1973 as the first non-European country to participate in the event.\\n\\nMailOnline has contacted Alexander's representatives for comment.\\n\\nThe BBC declined to comment.\""
            ]
          },
          "execution_count": 23,
          "metadata": {},
          "output_type": "execute_result"
        }
      ],
      "source": [
        "data[0]['Content']"
      ]
    },
    {
      "cell_type": "markdown",
      "source": [
        "# Experiments"
      ],
      "metadata": {
        "id": "AC4fvZ8DjeQm"
      }
    },
    {
      "cell_type": "code",
      "execution_count": null,
      "metadata": {
        "colab": {
          "background_save": true,
          "base_uri": "https://localhost:8080/"
        },
        "id": "UT7tw7ajYStu",
        "outputId": "d3bece41-210e-47fd-95b4-d5c73975c897"
      },
      "outputs": [
        {
          "name": "stdout",
          "output_type": "stream",
          "text": [
            "Collecting bertopic\n",
            "  Downloading bertopic-0.16.0-py2.py3-none-any.whl (154 kB)\n",
            "\u001b[2K     \u001b[90m━━━━━━━━━━━━━━━━━━━━━━━━━━━━━━━━━━━━━━━━\u001b[0m \u001b[32m154.1/154.1 kB\u001b[0m \u001b[31m1.8 MB/s\u001b[0m eta \u001b[36m0:00:00\u001b[0m\n",
            "\u001b[?25hRequirement already satisfied: numpy>=1.20.0 in /usr/local/lib/python3.10/dist-packages (from bertopic) (1.25.2)\n",
            "Collecting hdbscan>=0.8.29 (from bertopic)\n",
            "  Downloading hdbscan-0.8.33.tar.gz (5.2 MB)\n",
            "\u001b[2K     \u001b[90m━━━━━━━━━━━━━━━━━━━━━━━━━━━━━━━━━━━━━━━━\u001b[0m \u001b[32m5.2/5.2 MB\u001b[0m \u001b[31m27.8 MB/s\u001b[0m eta \u001b[36m0:00:00\u001b[0m\n",
            "\u001b[?25h  Installing build dependencies ... \u001b[?25l\u001b[?25hdone\n",
            "  Getting requirements to build wheel ... \u001b[?25l\u001b[?25hdone\n",
            "  Preparing metadata (pyproject.toml) ... \u001b[?25l\u001b[?25hdone\n",
            "Collecting umap-learn>=0.5.0 (from bertopic)\n",
            "  Downloading umap-learn-0.5.5.tar.gz (90 kB)\n",
            "\u001b[2K     \u001b[90m━━━━━━━━━━━━━━━━━━━━━━━━━━━━━━━━━━━━━━━━\u001b[0m \u001b[32m90.9/90.9 kB\u001b[0m \u001b[31m8.8 MB/s\u001b[0m eta \u001b[36m0:00:00\u001b[0m\n",
            "\u001b[?25h  Preparing metadata (setup.py) ... \u001b[?25l\u001b[?25hdone\n",
            "Requirement already satisfied: pandas>=1.1.5 in /usr/local/lib/python3.10/dist-packages (from bertopic) (1.5.3)\n",
            "Requirement already satisfied: scikit-learn>=0.22.2.post1 in /usr/local/lib/python3.10/dist-packages (from bertopic) (1.2.2)\n",
            "Requirement already satisfied: tqdm>=4.41.1 in /usr/local/lib/python3.10/dist-packages (from bertopic) (4.66.2)\n",
            "Collecting sentence-transformers>=0.4.1 (from bertopic)\n",
            "  Downloading sentence_transformers-2.6.1-py3-none-any.whl (163 kB)\n",
            "\u001b[2K     \u001b[90m━━━━━━━━━━━━━━━━━━━━━━━━━━━━━━━━━━━━━━━━\u001b[0m \u001b[32m163.3/163.3 kB\u001b[0m \u001b[31m13.4 MB/s\u001b[0m eta \u001b[36m0:00:00\u001b[0m\n",
            "\u001b[?25hRequirement already satisfied: plotly>=4.7.0 in /usr/local/lib/python3.10/dist-packages (from bertopic) (5.15.0)\n",
            "Collecting cython<3,>=0.27 (from hdbscan>=0.8.29->bertopic)\n",
            "  Using cached Cython-0.29.37-cp310-cp310-manylinux_2_17_x86_64.manylinux2014_x86_64.manylinux_2_24_x86_64.whl (1.9 MB)\n",
            "Requirement already satisfied: scipy>=1.0 in /usr/local/lib/python3.10/dist-packages (from hdbscan>=0.8.29->bertopic) (1.11.4)\n",
            "Requirement already satisfied: joblib>=1.0 in /usr/local/lib/python3.10/dist-packages (from hdbscan>=0.8.29->bertopic) (1.3.2)\n",
            "Requirement already satisfied: python-dateutil>=2.8.1 in /usr/local/lib/python3.10/dist-packages (from pandas>=1.1.5->bertopic) (2.8.2)\n",
            "Requirement already satisfied: pytz>=2020.1 in /usr/local/lib/python3.10/dist-packages (from pandas>=1.1.5->bertopic) (2023.4)\n",
            "Requirement already satisfied: tenacity>=6.2.0 in /usr/local/lib/python3.10/dist-packages (from plotly>=4.7.0->bertopic) (8.2.3)\n",
            "Requirement already satisfied: packaging in /usr/local/lib/python3.10/dist-packages (from plotly>=4.7.0->bertopic) (24.0)\n",
            "Requirement already satisfied: threadpoolctl>=2.0.0 in /usr/local/lib/python3.10/dist-packages (from scikit-learn>=0.22.2.post1->bertopic) (3.3.0)\n",
            "Requirement already satisfied: transformers<5.0.0,>=4.32.0 in /usr/local/lib/python3.10/dist-packages (from sentence-transformers>=0.4.1->bertopic) (4.38.2)\n",
            "Requirement already satisfied: torch>=1.11.0 in /usr/local/lib/python3.10/dist-packages (from sentence-transformers>=0.4.1->bertopic) (2.2.1+cu121)\n",
            "Requirement already satisfied: huggingface-hub>=0.15.1 in /usr/local/lib/python3.10/dist-packages (from sentence-transformers>=0.4.1->bertopic) (0.20.3)\n",
            "Requirement already satisfied: Pillow in /usr/local/lib/python3.10/dist-packages (from sentence-transformers>=0.4.1->bertopic) (9.4.0)\n",
            "Requirement already satisfied: numba>=0.51.2 in /usr/local/lib/python3.10/dist-packages (from umap-learn>=0.5.0->bertopic) (0.58.1)\n",
            "Collecting pynndescent>=0.5 (from umap-learn>=0.5.0->bertopic)\n",
            "  Downloading pynndescent-0.5.11-py3-none-any.whl (55 kB)\n",
            "\u001b[2K     \u001b[90m━━━━━━━━━━━━━━━━━━━━━━━━━━━━━━━━━━━━━━━━\u001b[0m \u001b[32m55.8/55.8 kB\u001b[0m \u001b[31m6.3 MB/s\u001b[0m eta \u001b[36m0:00:00\u001b[0m\n",
            "\u001b[?25hRequirement already satisfied: filelock in /usr/local/lib/python3.10/dist-packages (from huggingface-hub>=0.15.1->sentence-transformers>=0.4.1->bertopic) (3.13.1)\n",
            "Requirement already satisfied: fsspec>=2023.5.0 in /usr/local/lib/python3.10/dist-packages (from huggingface-hub>=0.15.1->sentence-transformers>=0.4.1->bertopic) (2023.6.0)\n",
            "Requirement already satisfied: requests in /usr/local/lib/python3.10/dist-packages (from huggingface-hub>=0.15.1->sentence-transformers>=0.4.1->bertopic) (2.31.0)\n",
            "Requirement already satisfied: pyyaml>=5.1 in /usr/local/lib/python3.10/dist-packages (from huggingface-hub>=0.15.1->sentence-transformers>=0.4.1->bertopic) (6.0.1)\n",
            "Requirement already satisfied: typing-extensions>=3.7.4.3 in /usr/local/lib/python3.10/dist-packages (from huggingface-hub>=0.15.1->sentence-transformers>=0.4.1->bertopic) (4.10.0)\n",
            "Requirement already satisfied: llvmlite<0.42,>=0.41.0dev0 in /usr/local/lib/python3.10/dist-packages (from numba>=0.51.2->umap-learn>=0.5.0->bertopic) (0.41.1)\n",
            "Requirement already satisfied: six>=1.5 in /usr/local/lib/python3.10/dist-packages (from python-dateutil>=2.8.1->pandas>=1.1.5->bertopic) (1.16.0)\n",
            "Requirement already satisfied: sympy in /usr/local/lib/python3.10/dist-packages (from torch>=1.11.0->sentence-transformers>=0.4.1->bertopic) (1.12)\n",
            "Requirement already satisfied: networkx in /usr/local/lib/python3.10/dist-packages (from torch>=1.11.0->sentence-transformers>=0.4.1->bertopic) (3.2.1)\n",
            "Requirement already satisfied: jinja2 in /usr/local/lib/python3.10/dist-packages (from torch>=1.11.0->sentence-transformers>=0.4.1->bertopic) (3.1.3)\n",
            "Collecting nvidia-cuda-nvrtc-cu12==12.1.105 (from torch>=1.11.0->sentence-transformers>=0.4.1->bertopic)\n",
            "  Downloading nvidia_cuda_nvrtc_cu12-12.1.105-py3-none-manylinux1_x86_64.whl (23.7 MB)\n",
            "\u001b[2K     \u001b[90m━━━━━━━━━━━━━━━━━━━━━━━━━━━━━━━━━━━━━━━━\u001b[0m \u001b[32m23.7/23.7 MB\u001b[0m \u001b[31m29.8 MB/s\u001b[0m eta \u001b[36m0:00:00\u001b[0m\n",
            "\u001b[?25hCollecting nvidia-cuda-runtime-cu12==12.1.105 (from torch>=1.11.0->sentence-transformers>=0.4.1->bertopic)\n",
            "  Downloading nvidia_cuda_runtime_cu12-12.1.105-py3-none-manylinux1_x86_64.whl (823 kB)\n",
            "\u001b[2K     \u001b[90m━━━━━━━━━━━━━━━━━━━━━━━━━━━━━━━━━━━━━━━━\u001b[0m \u001b[32m823.6/823.6 kB\u001b[0m \u001b[31m46.9 MB/s\u001b[0m eta \u001b[36m0:00:00\u001b[0m\n",
            "\u001b[?25hCollecting nvidia-cuda-cupti-cu12==12.1.105 (from torch>=1.11.0->sentence-transformers>=0.4.1->bertopic)\n",
            "  Downloading nvidia_cuda_cupti_cu12-12.1.105-py3-none-manylinux1_x86_64.whl (14.1 MB)\n",
            "\u001b[2K     \u001b[90m━━━━━━━━━━━━━━━━━━━━━━━━━━━━━━━━━━━━━━━━\u001b[0m \u001b[32m14.1/14.1 MB\u001b[0m \u001b[31m42.4 MB/s\u001b[0m eta \u001b[36m0:00:00\u001b[0m\n",
            "\u001b[?25hCollecting nvidia-cudnn-cu12==8.9.2.26 (from torch>=1.11.0->sentence-transformers>=0.4.1->bertopic)\n",
            "  Downloading nvidia_cudnn_cu12-8.9.2.26-py3-none-manylinux1_x86_64.whl (731.7 MB)\n",
            "\u001b[2K     \u001b[90m━━━━━━━━━━━━━━━━━━━━━━━━━━━━━━━━━━━━━━━━\u001b[0m \u001b[32m731.7/731.7 MB\u001b[0m \u001b[31m826.5 kB/s\u001b[0m eta \u001b[36m0:00:00\u001b[0m\n",
            "\u001b[?25h\u001b[33mWARNING: Retrying (Retry(total=4, connect=None, read=None, redirect=None, status=None)) after connection broken by 'ProtocolError('Connection aborted.', RemoteDisconnected('Remote end closed connection without response'))': /simple/nvidia-cublas-cu12/\u001b[0m\u001b[33m\n",
            "\u001b[0mCollecting nvidia-cublas-cu12==12.1.3.1 (from torch>=1.11.0->sentence-transformers>=0.4.1->bertopic)\n",
            "  Downloading nvidia_cublas_cu12-12.1.3.1-py3-none-manylinux1_x86_64.whl (410.6 MB)\n",
            "\u001b[2K     \u001b[90m━━━━━━━━━━━━━━━━━━━━━━━━━━━━━━━━━━━━━━━━\u001b[0m \u001b[32m410.6/410.6 MB\u001b[0m \u001b[31m1.0 MB/s\u001b[0m eta \u001b[36m0:00:00\u001b[0m\n",
            "\u001b[?25hCollecting nvidia-cufft-cu12==11.0.2.54 (from torch>=1.11.0->sentence-transformers>=0.4.1->bertopic)\n",
            "  Downloading nvidia_cufft_cu12-11.0.2.54-py3-none-manylinux1_x86_64.whl (121.6 MB)\n",
            "\u001b[2K     \u001b[90m━━━━━━━━━━━━━━━━━━━━━━━━━━━━━━━━━━━━━━━━\u001b[0m \u001b[32m121.6/121.6 MB\u001b[0m \u001b[31m888.4 kB/s\u001b[0m eta \u001b[36m0:00:00\u001b[0m\n",
            "\u001b[?25hCollecting nvidia-curand-cu12==10.3.2.106 (from torch>=1.11.0->sentence-transformers>=0.4.1->bertopic)\n",
            "  Downloading nvidia_curand_cu12-10.3.2.106-py3-none-manylinux1_x86_64.whl (56.5 MB)\n",
            "\u001b[2K     \u001b[90m━━━━━━━━━━━━━━━━━━━━━━━━━━━━━━━━━━━━━━━━\u001b[0m \u001b[32m56.5/56.5 MB\u001b[0m \u001b[31m1.1 MB/s\u001b[0m eta \u001b[36m0:00:00\u001b[0m\n",
            "\u001b[?25hCollecting nvidia-cusolver-cu12==11.4.5.107 (from torch>=1.11.0->sentence-transformers>=0.4.1->bertopic)\n",
            "  Downloading nvidia_cusolver_cu12-11.4.5.107-py3-none-manylinux1_x86_64.whl (124.2 MB)\n",
            "\u001b[2K     \u001b[90m━━━━━━━━━━━━━━━━━━━━━━━━━━━━━━━━━━━━━━━━\u001b[0m \u001b[32m124.2/124.2 MB\u001b[0m \u001b[31m1.3 MB/s\u001b[0m eta \u001b[36m0:00:00\u001b[0m\n",
            "\u001b[?25hCollecting nvidia-cusparse-cu12==12.1.0.106 (from torch>=1.11.0->sentence-transformers>=0.4.1->bertopic)\n",
            "  Downloading nvidia_cusparse_cu12-12.1.0.106-py3-none-manylinux1_x86_64.whl (196.0 MB)\n",
            "\u001b[2K     \u001b[90m━━━━━━━━━━━━━━━━━━━━━━━━━━━━━━━━━━━━━━━━\u001b[0m \u001b[32m196.0/196.0 MB\u001b[0m \u001b[31m905.0 kB/s\u001b[0m eta \u001b[36m0:00:00\u001b[0m\n",
            "\u001b[?25hCollecting nvidia-nccl-cu12==2.19.3 (from torch>=1.11.0->sentence-transformers>=0.4.1->bertopic)\n",
            "  Downloading nvidia_nccl_cu12-2.19.3-py3-none-manylinux1_x86_64.whl (166.0 MB)\n",
            "\u001b[2K     \u001b[90m━━━━━━━━━━━━━━━━━━━━━━━━━━━━━━━━━━━━━━━━\u001b[0m \u001b[32m166.0/166.0 MB\u001b[0m \u001b[31m1.3 MB/s\u001b[0m eta \u001b[36m0:00:00\u001b[0m\n",
            "\u001b[?25hCollecting nvidia-nvtx-cu12==12.1.105 (from torch>=1.11.0->sentence-transformers>=0.4.1->bertopic)\n",
            "  Downloading nvidia_nvtx_cu12-12.1.105-py3-none-manylinux1_x86_64.whl (99 kB)\n",
            "\u001b[2K     \u001b[90m━━━━━━━━━━━━━━━━━━━━━━━━━━━━━━━━━━━━━━━━\u001b[0m \u001b[32m99.1/99.1 kB\u001b[0m \u001b[31m422.2 kB/s\u001b[0m eta \u001b[36m0:00:00\u001b[0m\n",
            "\u001b[?25hRequirement already satisfied: triton==2.2.0 in /usr/local/lib/python3.10/dist-packages (from torch>=1.11.0->sentence-transformers>=0.4.1->bertopic) (2.2.0)\n",
            "Collecting nvidia-nvjitlink-cu12 (from nvidia-cusolver-cu12==11.4.5.107->torch>=1.11.0->sentence-transformers>=0.4.1->bertopic)\n",
            "  Downloading nvidia_nvjitlink_cu12-12.4.99-py3-none-manylinux2014_x86_64.whl (21.1 MB)\n",
            "\u001b[2K     \u001b[90m━━━━━━━━━━━━━━━━━━━━━━━━━━━━━━━━━━━━━━━━\u001b[0m \u001b[32m21.1/21.1 MB\u001b[0m \u001b[31m1.2 MB/s\u001b[0m eta \u001b[36m0:00:00\u001b[0m\n",
            "\u001b[?25hRequirement already satisfied: regex!=2019.12.17 in /usr/local/lib/python3.10/dist-packages (from transformers<5.0.0,>=4.32.0->sentence-transformers>=0.4.1->bertopic) (2023.12.25)\n",
            "Requirement already satisfied: tokenizers<0.19,>=0.14 in /usr/local/lib/python3.10/dist-packages (from transformers<5.0.0,>=4.32.0->sentence-transformers>=0.4.1->bertopic) (0.15.2)\n",
            "Requirement already satisfied: safetensors>=0.4.1 in /usr/local/lib/python3.10/dist-packages (from transformers<5.0.0,>=4.32.0->sentence-transformers>=0.4.1->bertopic) (0.4.2)\n",
            "Requirement already satisfied: MarkupSafe>=2.0 in /usr/local/lib/python3.10/dist-packages (from jinja2->torch>=1.11.0->sentence-transformers>=0.4.1->bertopic) (2.1.5)\n",
            "Requirement already satisfied: charset-normalizer<4,>=2 in /usr/local/lib/python3.10/dist-packages (from requests->huggingface-hub>=0.15.1->sentence-transformers>=0.4.1->bertopic) (3.3.2)\n",
            "Requirement already satisfied: idna<4,>=2.5 in /usr/local/lib/python3.10/dist-packages (from requests->huggingface-hub>=0.15.1->sentence-transformers>=0.4.1->bertopic) (3.6)\n",
            "Requirement already satisfied: urllib3<3,>=1.21.1 in /usr/local/lib/python3.10/dist-packages (from requests->huggingface-hub>=0.15.1->sentence-transformers>=0.4.1->bertopic) (2.0.7)\n",
            "Requirement already satisfied: certifi>=2017.4.17 in /usr/local/lib/python3.10/dist-packages (from requests->huggingface-hub>=0.15.1->sentence-transformers>=0.4.1->bertopic) (2024.2.2)\n",
            "Requirement already satisfied: mpmath>=0.19 in /usr/local/lib/python3.10/dist-packages (from sympy->torch>=1.11.0->sentence-transformers>=0.4.1->bertopic) (1.3.0)\n",
            "Building wheels for collected packages: hdbscan, umap-learn\n",
            "  Building wheel for hdbscan (pyproject.toml) ... \u001b[?25l\u001b[?25hdone\n",
            "  Created wheel for hdbscan: filename=hdbscan-0.8.33-cp310-cp310-linux_x86_64.whl size=3039284 sha256=828775f4e5b90b6fbd9e24052c9aef0647e9ba721db4e735421a375dabe339cb\n",
            "  Stored in directory: /root/.cache/pip/wheels/75/0b/3b/dc4f60b7cc455efaefb62883a7483e76f09d06ca81cf87d610\n",
            "  Building wheel for umap-learn (setup.py) ... \u001b[?25l\u001b[?25hdone\n",
            "  Created wheel for umap-learn: filename=umap_learn-0.5.5-py3-none-any.whl size=86832 sha256=81a9c4221fbb468a7acfcb18765a4e3ef93a22e58d6e19d6ca33c1d3cddd5636\n",
            "  Stored in directory: /root/.cache/pip/wheels/3a/70/07/428d2b58660a1a3b431db59b806a10da736612ebbc66c1bcc5\n",
            "Successfully built hdbscan umap-learn\n",
            "Installing collected packages: nvidia-nvtx-cu12, nvidia-nvjitlink-cu12, nvidia-nccl-cu12, nvidia-curand-cu12, nvidia-cufft-cu12, nvidia-cuda-runtime-cu12, nvidia-cuda-nvrtc-cu12, nvidia-cuda-cupti-cu12, nvidia-cublas-cu12, cython, nvidia-cusparse-cu12, nvidia-cudnn-cu12, pynndescent, nvidia-cusolver-cu12, hdbscan, umap-learn, sentence-transformers, bertopic\n",
            "  Attempting uninstall: cython\n",
            "    Found existing installation: Cython 3.0.9\n",
            "    Uninstalling Cython-3.0.9:\n",
            "      Successfully uninstalled Cython-3.0.9\n",
            "Successfully installed bertopic-0.16.0 cython-0.29.37 hdbscan-0.8.33 nvidia-cublas-cu12-12.1.3.1 nvidia-cuda-cupti-cu12-12.1.105 nvidia-cuda-nvrtc-cu12-12.1.105 nvidia-cuda-runtime-cu12-12.1.105 nvidia-cudnn-cu12-8.9.2.26 nvidia-cufft-cu12-11.0.2.54 nvidia-curand-cu12-10.3.2.106 nvidia-cusolver-cu12-11.4.5.107 nvidia-cusparse-cu12-12.1.0.106 nvidia-nccl-cu12-2.19.3 nvidia-nvjitlink-cu12-12.4.99 nvidia-nvtx-cu12-12.1.105 pynndescent-0.5.11 sentence-transformers-2.6.1 umap-learn-0.5.5\n"
          ]
        }
      ],
      "source": [
        "!pip install bertopic"
      ]
    },
    {
      "cell_type": "code",
      "source": [
        "import json\n",
        "import pandas as pd\n",
        "import copy"
      ],
      "metadata": {
        "id": "R7nqZHHukO5Q"
      },
      "execution_count": 1,
      "outputs": []
    },
    {
      "cell_type": "code",
      "source": [
        "with open('Articles_2023_small.json') as json_file:\n",
        "  data = json.load(json_file)"
      ],
      "metadata": {
        "id": "4nXOMKxqjh8i"
      },
      "execution_count": 2,
      "outputs": []
    },
    {
      "cell_type": "code",
      "source": [
        "data_df = pd.DataFrame(data)\n",
        "data_df.head()"
      ],
      "metadata": {
        "id": "vb3eK1UzkQml",
        "colab": {
          "base_uri": "https://localhost:8080/",
          "height": 608
        },
        "outputId": "b24b337a-4aed-405b-acc8-f2133a3babbf"
      },
      "execution_count": 4,
      "outputs": [
        {
          "output_type": "execute_result",
          "data": {
            "text/plain": [
              "                                    _id                     Source SourceType  \\\n",
              "0  {'$oid': '65847e46b1f6ca8a8b0b8f75'}  Daily mail Latest Stories        rss   \n",
              "1  {'$oid': '65847e9cb1f6ca8a8b0b90e0'}              SkyNews World        rss   \n",
              "2  {'$oid': '6583d30c76e5f558ad9e1f1a'}  Daily mail Australia news        rss   \n",
              "3  {'$oid': '658327bb7d2f9da2e581735a'}  Daily mail Latest Stories        rss   \n",
              "4  {'$oid': '6582d237443658d5c3f41ea0'}            Daily mail News        rss   \n",
              "\n",
              "                                               Title  \\\n",
              "0  BBC is urged to sack UK's Eurovision entrant O...   \n",
              "1  UK Eurovision act Olly Alexander criticised fo...   \n",
              "2  Shocking sight at McDonald's as staff complain...   \n",
              "3  Prince Andrew 'invited former Goldman Sachs ba...   \n",
              "4  Airbnb set to use AI to help identify unauthor...   \n",
              "\n",
              "                                               Links  \\\n",
              "0  {'ArticleUrl': 'https://www.dailymail.co.uk/ne...   \n",
              "1  {'ArticleUrl': 'https://news.sky.com/story/uk-...   \n",
              "2  {'ArticleUrl': 'https://www.dailymail.co.uk/ne...   \n",
              "3  {'ArticleUrl': 'https://www.dailymail.co.uk/ne...   \n",
              "4  {'ArticleUrl': 'https://www.dailymail.co.uk/ne...   \n",
              "\n",
              "                                         Description  \\\n",
              "0  The BBC is being urged to drop singer Olly Ale...   \n",
              "1  Olly Alexander, the UK's new Eurovision act, h...   \n",
              "2  A union representative claims they were barred...   \n",
              "3  The Duke invited a gun smuggler and an alleged...   \n",
              "4  Airbnb is set to use artificial intelligence t...   \n",
              "\n",
              "                                             Content  \\\n",
              "0  The BBC is being urged to drop singer Olly Ale...   \n",
              "1  Olly Alexander, the UK's new Eurovision act, h...   \n",
              "2  A union representative claims they were barred...   \n",
              "3  The Duke invited a gun smuggler and an alleged...   \n",
              "4  Airbnb is set to use artificial intelligence t...   \n",
              "\n",
              "                                 PublishedDate  \\\n",
              "0  {'$date': {'$numberLong': '1703164970000'}}   \n",
              "1  {'$date': {'$numberLong': '1703153940000'}}   \n",
              "2  {'$date': {'$numberLong': '1703118302000'}}   \n",
              "3  {'$date': {'$numberLong': '1703071650000'}}   \n",
              "4  {'$date': {'$numberLong': '1703052131000'}}   \n",
              "\n",
              "                                            Keywords  \\\n",
              "0  {'FromDescription': ['olly alexander', 'singer...   \n",
              "1  {'FromDescription': ['accusing israel', 'olly ...   \n",
              "2  {'FromDescription': ['hindley street', 'repres...   \n",
              "3  {'FromDescription': ['james palace', 'alleged ...   \n",
              "4  {'FromDescription': ['year eve', 'eve parties'...   \n",
              "\n",
              "                                     ProcessingSteps  \\\n",
              "0  {'TitleRaw': 'BBC is urged to sack UK's Eurovi...   \n",
              "1  {'TitleRaw': 'UK Eurovision act Olly Alexander...   \n",
              "2  {'TitleRaw': 'Shocking sight at McDonald's as ...   \n",
              "3  {'TitleRaw': 'Prince Andrew 'invited former Go...   \n",
              "4  {'TitleRaw': 'Airbnb set to use AI to help ide...   \n",
              "\n",
              "                                                NERs  QType MatchedCompanies  \\\n",
              "0  {'FromDescription': [{'Position': 4, 'Text': '...  [200]            [BBC]   \n",
              "1  {'FromDescription': [{'Position': 20, 'Text': ...     []     [Eurovision]   \n",
              "2  {'FromDescription': [{'Position': 65, 'Text': ...  [500]     [McDonald's]   \n",
              "3  {'FromDescription': [{'Position': 60, 'Text': ...     []  [Goldman Sachs]   \n",
              "4  {'FromDescription': [{'Position': 0, 'Text': '...  [600]         [Airbnb]   \n",
              "\n",
              "  Authors                                           ImageUrl  \n",
              "0      []  https://actawarenewsdev.blob.core.windows.net/...  \n",
              "1      []  https://actawarenewsdev.blob.core.windows.net/...  \n",
              "2      []  https://actawarenewsdev.blob.core.windows.net/...  \n",
              "3      []  https://actawarenewsdev.blob.core.windows.net/...  \n",
              "4      []  https://actawarenewsdev.blob.core.windows.net/...  "
            ],
            "text/html": [
              "\n",
              "  <div id=\"df-53c24eaa-17ec-4667-b6ac-0cf87cb3fb0e\" class=\"colab-df-container\">\n",
              "    <div>\n",
              "<style scoped>\n",
              "    .dataframe tbody tr th:only-of-type {\n",
              "        vertical-align: middle;\n",
              "    }\n",
              "\n",
              "    .dataframe tbody tr th {\n",
              "        vertical-align: top;\n",
              "    }\n",
              "\n",
              "    .dataframe thead th {\n",
              "        text-align: right;\n",
              "    }\n",
              "</style>\n",
              "<table border=\"1\" class=\"dataframe\">\n",
              "  <thead>\n",
              "    <tr style=\"text-align: right;\">\n",
              "      <th></th>\n",
              "      <th>_id</th>\n",
              "      <th>Source</th>\n",
              "      <th>SourceType</th>\n",
              "      <th>Title</th>\n",
              "      <th>Links</th>\n",
              "      <th>Description</th>\n",
              "      <th>Content</th>\n",
              "      <th>PublishedDate</th>\n",
              "      <th>Keywords</th>\n",
              "      <th>ProcessingSteps</th>\n",
              "      <th>NERs</th>\n",
              "      <th>QType</th>\n",
              "      <th>MatchedCompanies</th>\n",
              "      <th>Authors</th>\n",
              "      <th>ImageUrl</th>\n",
              "    </tr>\n",
              "  </thead>\n",
              "  <tbody>\n",
              "    <tr>\n",
              "      <th>0</th>\n",
              "      <td>{'$oid': '65847e46b1f6ca8a8b0b8f75'}</td>\n",
              "      <td>Daily mail Latest Stories</td>\n",
              "      <td>rss</td>\n",
              "      <td>BBC is urged to sack UK's Eurovision entrant O...</td>\n",
              "      <td>{'ArticleUrl': 'https://www.dailymail.co.uk/ne...</td>\n",
              "      <td>The BBC is being urged to drop singer Olly Ale...</td>\n",
              "      <td>The BBC is being urged to drop singer Olly Ale...</td>\n",
              "      <td>{'$date': {'$numberLong': '1703164970000'}}</td>\n",
              "      <td>{'FromDescription': ['olly alexander', 'singer...</td>\n",
              "      <td>{'TitleRaw': 'BBC is urged to sack UK's Eurovi...</td>\n",
              "      <td>{'FromDescription': [{'Position': 4, 'Text': '...</td>\n",
              "      <td>[200]</td>\n",
              "      <td>[BBC]</td>\n",
              "      <td>[]</td>\n",
              "      <td>https://actawarenewsdev.blob.core.windows.net/...</td>\n",
              "    </tr>\n",
              "    <tr>\n",
              "      <th>1</th>\n",
              "      <td>{'$oid': '65847e9cb1f6ca8a8b0b90e0'}</td>\n",
              "      <td>SkyNews World</td>\n",
              "      <td>rss</td>\n",
              "      <td>UK Eurovision act Olly Alexander criticised fo...</td>\n",
              "      <td>{'ArticleUrl': 'https://news.sky.com/story/uk-...</td>\n",
              "      <td>Olly Alexander, the UK's new Eurovision act, h...</td>\n",
              "      <td>Olly Alexander, the UK's new Eurovision act, h...</td>\n",
              "      <td>{'$date': {'$numberLong': '1703153940000'}}</td>\n",
              "      <td>{'FromDescription': ['accusing israel', 'olly ...</td>\n",
              "      <td>{'TitleRaw': 'UK Eurovision act Olly Alexander...</td>\n",
              "      <td>{'FromDescription': [{'Position': 20, 'Text': ...</td>\n",
              "      <td>[]</td>\n",
              "      <td>[Eurovision]</td>\n",
              "      <td>[]</td>\n",
              "      <td>https://actawarenewsdev.blob.core.windows.net/...</td>\n",
              "    </tr>\n",
              "    <tr>\n",
              "      <th>2</th>\n",
              "      <td>{'$oid': '6583d30c76e5f558ad9e1f1a'}</td>\n",
              "      <td>Daily mail Australia news</td>\n",
              "      <td>rss</td>\n",
              "      <td>Shocking sight at McDonald's as staff complain...</td>\n",
              "      <td>{'ArticleUrl': 'https://www.dailymail.co.uk/ne...</td>\n",
              "      <td>A union representative claims they were barred...</td>\n",
              "      <td>A union representative claims they were barred...</td>\n",
              "      <td>{'$date': {'$numberLong': '1703118302000'}}</td>\n",
              "      <td>{'FromDescription': ['hindley street', 'repres...</td>\n",
              "      <td>{'TitleRaw': 'Shocking sight at McDonald's as ...</td>\n",
              "      <td>{'FromDescription': [{'Position': 65, 'Text': ...</td>\n",
              "      <td>[500]</td>\n",
              "      <td>[McDonald's]</td>\n",
              "      <td>[]</td>\n",
              "      <td>https://actawarenewsdev.blob.core.windows.net/...</td>\n",
              "    </tr>\n",
              "    <tr>\n",
              "      <th>3</th>\n",
              "      <td>{'$oid': '658327bb7d2f9da2e581735a'}</td>\n",
              "      <td>Daily mail Latest Stories</td>\n",
              "      <td>rss</td>\n",
              "      <td>Prince Andrew 'invited former Goldman Sachs ba...</td>\n",
              "      <td>{'ArticleUrl': 'https://www.dailymail.co.uk/ne...</td>\n",
              "      <td>The Duke invited a gun smuggler and an alleged...</td>\n",
              "      <td>The Duke invited a gun smuggler and an alleged...</td>\n",
              "      <td>{'$date': {'$numberLong': '1703071650000'}}</td>\n",
              "      <td>{'FromDescription': ['james palace', 'alleged ...</td>\n",
              "      <td>{'TitleRaw': 'Prince Andrew 'invited former Go...</td>\n",
              "      <td>{'FromDescription': [{'Position': 60, 'Text': ...</td>\n",
              "      <td>[]</td>\n",
              "      <td>[Goldman Sachs]</td>\n",
              "      <td>[]</td>\n",
              "      <td>https://actawarenewsdev.blob.core.windows.net/...</td>\n",
              "    </tr>\n",
              "    <tr>\n",
              "      <th>4</th>\n",
              "      <td>{'$oid': '6582d237443658d5c3f41ea0'}</td>\n",
              "      <td>Daily mail News</td>\n",
              "      <td>rss</td>\n",
              "      <td>Airbnb set to use AI to help identify unauthor...</td>\n",
              "      <td>{'ArticleUrl': 'https://www.dailymail.co.uk/ne...</td>\n",
              "      <td>Airbnb is set to use artificial intelligence t...</td>\n",
              "      <td>Airbnb is set to use artificial intelligence t...</td>\n",
              "      <td>{'$date': {'$numberLong': '1703052131000'}}</td>\n",
              "      <td>{'FromDescription': ['year eve', 'eve parties'...</td>\n",
              "      <td>{'TitleRaw': 'Airbnb set to use AI to help ide...</td>\n",
              "      <td>{'FromDescription': [{'Position': 0, 'Text': '...</td>\n",
              "      <td>[600]</td>\n",
              "      <td>[Airbnb]</td>\n",
              "      <td>[]</td>\n",
              "      <td>https://actawarenewsdev.blob.core.windows.net/...</td>\n",
              "    </tr>\n",
              "  </tbody>\n",
              "</table>\n",
              "</div>\n",
              "    <div class=\"colab-df-buttons\">\n",
              "\n",
              "  <div class=\"colab-df-container\">\n",
              "    <button class=\"colab-df-convert\" onclick=\"convertToInteractive('df-53c24eaa-17ec-4667-b6ac-0cf87cb3fb0e')\"\n",
              "            title=\"Convert this dataframe to an interactive table.\"\n",
              "            style=\"display:none;\">\n",
              "\n",
              "  <svg xmlns=\"http://www.w3.org/2000/svg\" height=\"24px\" viewBox=\"0 -960 960 960\">\n",
              "    <path d=\"M120-120v-720h720v720H120Zm60-500h600v-160H180v160Zm220 220h160v-160H400v160Zm0 220h160v-160H400v160ZM180-400h160v-160H180v160Zm440 0h160v-160H620v160ZM180-180h160v-160H180v160Zm440 0h160v-160H620v160Z\"/>\n",
              "  </svg>\n",
              "    </button>\n",
              "\n",
              "  <style>\n",
              "    .colab-df-container {\n",
              "      display:flex;\n",
              "      gap: 12px;\n",
              "    }\n",
              "\n",
              "    .colab-df-convert {\n",
              "      background-color: #E8F0FE;\n",
              "      border: none;\n",
              "      border-radius: 50%;\n",
              "      cursor: pointer;\n",
              "      display: none;\n",
              "      fill: #1967D2;\n",
              "      height: 32px;\n",
              "      padding: 0 0 0 0;\n",
              "      width: 32px;\n",
              "    }\n",
              "\n",
              "    .colab-df-convert:hover {\n",
              "      background-color: #E2EBFA;\n",
              "      box-shadow: 0px 1px 2px rgba(60, 64, 67, 0.3), 0px 1px 3px 1px rgba(60, 64, 67, 0.15);\n",
              "      fill: #174EA6;\n",
              "    }\n",
              "\n",
              "    .colab-df-buttons div {\n",
              "      margin-bottom: 4px;\n",
              "    }\n",
              "\n",
              "    [theme=dark] .colab-df-convert {\n",
              "      background-color: #3B4455;\n",
              "      fill: #D2E3FC;\n",
              "    }\n",
              "\n",
              "    [theme=dark] .colab-df-convert:hover {\n",
              "      background-color: #434B5C;\n",
              "      box-shadow: 0px 1px 3px 1px rgba(0, 0, 0, 0.15);\n",
              "      filter: drop-shadow(0px 1px 2px rgba(0, 0, 0, 0.3));\n",
              "      fill: #FFFFFF;\n",
              "    }\n",
              "  </style>\n",
              "\n",
              "    <script>\n",
              "      const buttonEl =\n",
              "        document.querySelector('#df-53c24eaa-17ec-4667-b6ac-0cf87cb3fb0e button.colab-df-convert');\n",
              "      buttonEl.style.display =\n",
              "        google.colab.kernel.accessAllowed ? 'block' : 'none';\n",
              "\n",
              "      async function convertToInteractive(key) {\n",
              "        const element = document.querySelector('#df-53c24eaa-17ec-4667-b6ac-0cf87cb3fb0e');\n",
              "        const dataTable =\n",
              "          await google.colab.kernel.invokeFunction('convertToInteractive',\n",
              "                                                    [key], {});\n",
              "        if (!dataTable) return;\n",
              "\n",
              "        const docLinkHtml = 'Like what you see? Visit the ' +\n",
              "          '<a target=\"_blank\" href=https://colab.research.google.com/notebooks/data_table.ipynb>data table notebook</a>'\n",
              "          + ' to learn more about interactive tables.';\n",
              "        element.innerHTML = '';\n",
              "        dataTable['output_type'] = 'display_data';\n",
              "        await google.colab.output.renderOutput(dataTable, element);\n",
              "        const docLink = document.createElement('div');\n",
              "        docLink.innerHTML = docLinkHtml;\n",
              "        element.appendChild(docLink);\n",
              "      }\n",
              "    </script>\n",
              "  </div>\n",
              "\n",
              "\n",
              "<div id=\"df-6f6fc6af-ede6-4ebd-8f64-57104a2a9483\">\n",
              "  <button class=\"colab-df-quickchart\" onclick=\"quickchart('df-6f6fc6af-ede6-4ebd-8f64-57104a2a9483')\"\n",
              "            title=\"Suggest charts\"\n",
              "            style=\"display:none;\">\n",
              "\n",
              "<svg xmlns=\"http://www.w3.org/2000/svg\" height=\"24px\"viewBox=\"0 0 24 24\"\n",
              "     width=\"24px\">\n",
              "    <g>\n",
              "        <path d=\"M19 3H5c-1.1 0-2 .9-2 2v14c0 1.1.9 2 2 2h14c1.1 0 2-.9 2-2V5c0-1.1-.9-2-2-2zM9 17H7v-7h2v7zm4 0h-2V7h2v10zm4 0h-2v-4h2v4z\"/>\n",
              "    </g>\n",
              "</svg>\n",
              "  </button>\n",
              "\n",
              "<style>\n",
              "  .colab-df-quickchart {\n",
              "      --bg-color: #E8F0FE;\n",
              "      --fill-color: #1967D2;\n",
              "      --hover-bg-color: #E2EBFA;\n",
              "      --hover-fill-color: #174EA6;\n",
              "      --disabled-fill-color: #AAA;\n",
              "      --disabled-bg-color: #DDD;\n",
              "  }\n",
              "\n",
              "  [theme=dark] .colab-df-quickchart {\n",
              "      --bg-color: #3B4455;\n",
              "      --fill-color: #D2E3FC;\n",
              "      --hover-bg-color: #434B5C;\n",
              "      --hover-fill-color: #FFFFFF;\n",
              "      --disabled-bg-color: #3B4455;\n",
              "      --disabled-fill-color: #666;\n",
              "  }\n",
              "\n",
              "  .colab-df-quickchart {\n",
              "    background-color: var(--bg-color);\n",
              "    border: none;\n",
              "    border-radius: 50%;\n",
              "    cursor: pointer;\n",
              "    display: none;\n",
              "    fill: var(--fill-color);\n",
              "    height: 32px;\n",
              "    padding: 0;\n",
              "    width: 32px;\n",
              "  }\n",
              "\n",
              "  .colab-df-quickchart:hover {\n",
              "    background-color: var(--hover-bg-color);\n",
              "    box-shadow: 0 1px 2px rgba(60, 64, 67, 0.3), 0 1px 3px 1px rgba(60, 64, 67, 0.15);\n",
              "    fill: var(--button-hover-fill-color);\n",
              "  }\n",
              "\n",
              "  .colab-df-quickchart-complete:disabled,\n",
              "  .colab-df-quickchart-complete:disabled:hover {\n",
              "    background-color: var(--disabled-bg-color);\n",
              "    fill: var(--disabled-fill-color);\n",
              "    box-shadow: none;\n",
              "  }\n",
              "\n",
              "  .colab-df-spinner {\n",
              "    border: 2px solid var(--fill-color);\n",
              "    border-color: transparent;\n",
              "    border-bottom-color: var(--fill-color);\n",
              "    animation:\n",
              "      spin 1s steps(1) infinite;\n",
              "  }\n",
              "\n",
              "  @keyframes spin {\n",
              "    0% {\n",
              "      border-color: transparent;\n",
              "      border-bottom-color: var(--fill-color);\n",
              "      border-left-color: var(--fill-color);\n",
              "    }\n",
              "    20% {\n",
              "      border-color: transparent;\n",
              "      border-left-color: var(--fill-color);\n",
              "      border-top-color: var(--fill-color);\n",
              "    }\n",
              "    30% {\n",
              "      border-color: transparent;\n",
              "      border-left-color: var(--fill-color);\n",
              "      border-top-color: var(--fill-color);\n",
              "      border-right-color: var(--fill-color);\n",
              "    }\n",
              "    40% {\n",
              "      border-color: transparent;\n",
              "      border-right-color: var(--fill-color);\n",
              "      border-top-color: var(--fill-color);\n",
              "    }\n",
              "    60% {\n",
              "      border-color: transparent;\n",
              "      border-right-color: var(--fill-color);\n",
              "    }\n",
              "    80% {\n",
              "      border-color: transparent;\n",
              "      border-right-color: var(--fill-color);\n",
              "      border-bottom-color: var(--fill-color);\n",
              "    }\n",
              "    90% {\n",
              "      border-color: transparent;\n",
              "      border-bottom-color: var(--fill-color);\n",
              "    }\n",
              "  }\n",
              "</style>\n",
              "\n",
              "  <script>\n",
              "    async function quickchart(key) {\n",
              "      const quickchartButtonEl =\n",
              "        document.querySelector('#' + key + ' button');\n",
              "      quickchartButtonEl.disabled = true;  // To prevent multiple clicks.\n",
              "      quickchartButtonEl.classList.add('colab-df-spinner');\n",
              "      try {\n",
              "        const charts = await google.colab.kernel.invokeFunction(\n",
              "            'suggestCharts', [key], {});\n",
              "      } catch (error) {\n",
              "        console.error('Error during call to suggestCharts:', error);\n",
              "      }\n",
              "      quickchartButtonEl.classList.remove('colab-df-spinner');\n",
              "      quickchartButtonEl.classList.add('colab-df-quickchart-complete');\n",
              "    }\n",
              "    (() => {\n",
              "      let quickchartButtonEl =\n",
              "        document.querySelector('#df-6f6fc6af-ede6-4ebd-8f64-57104a2a9483 button');\n",
              "      quickchartButtonEl.style.display =\n",
              "        google.colab.kernel.accessAllowed ? 'block' : 'none';\n",
              "    })();\n",
              "  </script>\n",
              "</div>\n",
              "    </div>\n",
              "  </div>\n"
            ],
            "application/vnd.google.colaboratory.intrinsic+json": {
              "type": "dataframe",
              "variable_name": "data_df",
              "summary": "{\n  \"name\": \"data_df\",\n  \"rows\": 60,\n  \"fields\": [\n    {\n      \"column\": \"_id\",\n      \"properties\": {\n        \"dtype\": \"object\",\n        \"semantic_type\": \"\",\n        \"description\": \"\"\n      }\n    },\n    {\n      \"column\": \"Source\",\n      \"properties\": {\n        \"dtype\": \"category\",\n        \"num_unique_values\": 23,\n        \"samples\": [\n          \"Fox news World\",\n          \"Daily mail Money\",\n          \"Daily mail Latest Stories\"\n        ],\n        \"semantic_type\": \"\",\n        \"description\": \"\"\n      }\n    },\n    {\n      \"column\": \"SourceType\",\n      \"properties\": {\n        \"dtype\": \"category\",\n        \"num_unique_values\": 1,\n        \"samples\": [\n          \"rss\"\n        ],\n        \"semantic_type\": \"\",\n        \"description\": \"\"\n      }\n    },\n    {\n      \"column\": \"Title\",\n      \"properties\": {\n        \"dtype\": \"string\",\n        \"num_unique_values\": 60,\n        \"samples\": [\n          \"BBC is urged to sack UK's Eurovision entrant Olly Alexander as it emerges he signed letter calling Israel an 'apartheid regime' and accusing Jewish state of 'genocide'\"\n        ],\n        \"semantic_type\": \"\",\n        \"description\": \"\"\n      }\n    },\n    {\n      \"column\": \"Links\",\n      \"properties\": {\n        \"dtype\": \"object\",\n        \"semantic_type\": \"\",\n        \"description\": \"\"\n      }\n    },\n    {\n      \"column\": \"Description\",\n      \"properties\": {\n        \"dtype\": \"string\",\n        \"num_unique_values\": 60,\n        \"samples\": [\n          \"The BBC is being urged to drop singer Olly Alexander as its entrant for Eurovision after it emerged he signed a letter calling Israel an 'apartheid regime'.\\nThe BBC is not planning on taking any action as the singer signed the letter weeks before he was unveiled as the UK's Eurovision act, the Telegraph reported.\\n'Current events simply are an escalation of the state of Israel's apartheid regime, which acts to ethnically cleanse the land.\\n'Maybe it's time to stop letting the BBC decide who represents the UK at Eurovision.'\\nThe UK's first ever Eurovision victory came 11 years after the annual competition launched with Sandie Shaw's Puppet on a String in 1967.\"\n        ],\n        \"semantic_type\": \"\",\n        \"description\": \"\"\n      }\n    },\n    {\n      \"column\": \"Content\",\n      \"properties\": {\n        \"dtype\": \"string\",\n        \"num_unique_values\": 53,\n        \"samples\": [\n          \"A federal agency is seeking to force Starbucks to reopen 23 stores that were allegedly shuttered last year in order to discourage a nationwide union campaign.\\n\\nIn a complaint issued on Wednesday by the National Labor Relations Board, it states that Starbucks closed the stores without prior notice to Workers United.\\n\\nSpecifically, the agency claims that Starbucks shuttered cafes due to employees engaging in union activities.\\n\\nThe agency is now seeking an order that would require Starbucks to immediately reopen the 23 stores and re-hire employees.\\n\\nStates affected by the 23 closures include Washington, Colorado, California, Missouri and Illinois.\\n\\nStarbucks has denied any wrongdoing and said it respects workers' rights to choose whether to unionize.\\n\\nIn a complaint issued on Wednesday by the National Labor Relations Board, it states that Starbucks closed the stores without prior notice to Workers United\\n\\nThe agency claims that Starbucks shuttered cafes due to employees engaging in union activities. Employees and supporters are pictured here linking arms during a union party\\n\\nAs well as reopening stores and re-hiring employees, the agency is asking the company to negotiate with stores that have unionized and provide compensation to workers who lost pay and benefits.\\n\\nThe case will be heard by an administrative judge, whose decision can be appealed to the five-member NLRB and then to a federal appeals court.\\n\\nAccording to NBC Los Angeles, six cafes in southern California were referenced in the complaint.\\n\\nKUOW also reported that seven of the stores alluded to in the findings were all in Seattle, where the coffee giant is headquartered.\\n\\nThe Philadelphia Inquirer also highlighted one store in the city that could be reopened.\\n\\nOther states affected by the 23 closures include Washington, Colorado, California, Missouri and Illinois\\n\\nA Starbucks representative told The New York Times: 'Each year, as a standard course of business, we evaluate the store portfolio' and typically open, close or alter stores.'\\n\\nThe company told the paper it opened hundreds of new stores last year and closed more than 100, of which about three percent were unionized.\\n\\nThe labor board has issued over 100 complaints covering hundreds of accusations of illegal behavior by Starbucks.\\n\\nJudges have ruled against the company over 30 times, but Starbucks have appealed these decisions.\\n\\nStates affected by the 23 closures include Washington, Colorado, California, Missouri and Illinois\\n\\nStates affected by the 23 closures include Washington, Colorado, California, Missouri and Illinois\\n\\nThe complaint came on the same day that Starbucks released a report on its labor practices prepared by an independent consultant, which had been requested by shareholders.\\n\\nThe report found that while there was room for Starbucks to improve its messaging on the union campaign, the company had not adopted 'an anti-union playbook' that involved violating U.S. labor laws.\\n\\nAfter two years of fighting the unionization of its U.S. stores, Starbucks last week said they were committed to bargaining to reach labor agreements next year.\\n\\nIn a letter to Lynne Fox, the president of the Workers United union, Starbucks Chief Partner Officer Sara Kelly said the current bargaining impasse between the two sides 'should not be acceptable to either of us.'\\n\\nKelly asked to restart bargaining in January, writing: 'We will set as an ambition and hopeful goal the completion of bargaining and the ratification of contracts in 2024.'\\n\\nWorkers United said the last bargaining session between the two sides was May 23 of this year.\\n\\nLast Saturday also marked the two-year anniversary of a Starbucks store in Buffalo voting to unionize, becoming the first store to join a union in over three decades.\\n\\nSince then, at least 370 company-owned U.S. Starbucks stores have voted to unionize, according to the National Labor Relations Board.\\n\\nCurrently there are about 9,600 company-owned Starbucks stores throughout the U.S.\\n\\nUnionizing workers say they're seeking higher pay, more consistent schedules and more say in issues like store safety and workload during busy times.\\n\\nPictured: Starbucks Workers United protest outside of a Starbucks store in Dupont Circle in Washington D.C.\\n\\nIn October, the company decided to sue Workers United in federal court and demanded they stop using the name Starbucks Workers United after that group posted a pro-Palestinian message on social media.\\n\\nWorkers United countersued, saying Starbucks defamed the union by suggesting it supports violence. Starbucks said last week the lawsuit was proceeding.\\n\\nThe change in stance from the company over its dealing with Workers United could be down to business reasons.\\n\\nThe company reported record revenue in its fiscal fourth quarter, which ended in September, and its full-year revenue climbed nearly 12 percent to $35.9 Billion.\\n\\nDespite this, Starbucks stock has fallen 10 percent in the lost month, after 5,000 workers at more than 200 unionized stores went on strike.\\n\\nPlacer.ai, an analytics company, said that after a strong fall, U.S. holiday visits to Starbucks appear to be down from a year ago.\"\n        ],\n        \"semantic_type\": \"\",\n        \"description\": \"\"\n      }\n    },\n    {\n      \"column\": \"PublishedDate\",\n      \"properties\": {\n        \"dtype\": \"object\",\n        \"semantic_type\": \"\",\n        \"description\": \"\"\n      }\n    },\n    {\n      \"column\": \"Keywords\",\n      \"properties\": {\n        \"dtype\": \"object\",\n        \"semantic_type\": \"\",\n        \"description\": \"\"\n      }\n    },\n    {\n      \"column\": \"ProcessingSteps\",\n      \"properties\": {\n        \"dtype\": \"object\",\n        \"semantic_type\": \"\",\n        \"description\": \"\"\n      }\n    },\n    {\n      \"column\": \"NERs\",\n      \"properties\": {\n        \"dtype\": \"object\",\n        \"semantic_type\": \"\",\n        \"description\": \"\"\n      }\n    },\n    {\n      \"column\": \"QType\",\n      \"properties\": {\n        \"dtype\": \"object\",\n        \"semantic_type\": \"\",\n        \"description\": \"\"\n      }\n    },\n    {\n      \"column\": \"MatchedCompanies\",\n      \"properties\": {\n        \"dtype\": \"object\",\n        \"semantic_type\": \"\",\n        \"description\": \"\"\n      }\n    },\n    {\n      \"column\": \"Authors\",\n      \"properties\": {\n        \"dtype\": \"object\",\n        \"semantic_type\": \"\",\n        \"description\": \"\"\n      }\n    },\n    {\n      \"column\": \"ImageUrl\",\n      \"properties\": {\n        \"dtype\": \"string\",\n        \"num_unique_values\": 53,\n        \"samples\": [\n          \"https://actawarenewsdev.blob.core.windows.net/article-images/657d23f73cbcc06d292f3f03.png\"\n        ],\n        \"semantic_type\": \"\",\n        \"description\": \"\"\n      }\n    }\n  ]\n}"
            }
          },
          "metadata": {},
          "execution_count": 4
        }
      ]
    },
    {
      "cell_type": "code",
      "source": [
        "#leave only the most important columns\n",
        "important_data_df=copy.deepcopy(data_df)\n",
        "important_data_df=important_data_df.drop(columns=['Source', 'SourceType', 'Links','PublishedDate', 'Authors', 'ImageUrl'])"
      ],
      "metadata": {
        "id": "QXBXb556mgpW"
      },
      "execution_count": null,
      "outputs": []
    },
    {
      "cell_type": "code",
      "source": [
        "important_data_df # should have the following columns: ['_id', 'Title', 'Description', 'Content', 'Keywords', 'ProcessingSteps', 'NERs', 'QType', 'MatchedCompanies']"
      ],
      "metadata": {
        "id": "GMhauprom7M7",
        "colab": {
          "base_uri": "https://localhost:8080/",
          "height": 1000
        },
        "outputId": "a2bb2037-0549-45b5-8480-cb33730546e2"
      },
      "execution_count": null,
      "outputs": [
        {
          "output_type": "execute_result",
          "data": {
            "text/plain": [
              "                                     _id  \\\n",
              "0   {'$oid': '65847e46b1f6ca8a8b0b8f75'}   \n",
              "1   {'$oid': '65847e9cb1f6ca8a8b0b90e0'}   \n",
              "2   {'$oid': '6583d30c76e5f558ad9e1f1a'}   \n",
              "3   {'$oid': '658327bb7d2f9da2e581735a'}   \n",
              "4   {'$oid': '6582d237443658d5c3f41ea0'}   \n",
              "5   {'$oid': '65827ca7fae0695da0fc94c3'}   \n",
              "6   {'$oid': '65827c93fae0695da0fc942b'}   \n",
              "7   {'$oid': '65827c88fae0695da0fc93e5'}   \n",
              "8   {'$oid': '65827c84fae0695da0fc93b5'}   \n",
              "9   {'$oid': '6582271d88beb68943246791'}   \n",
              "10  {'$oid': '6581d103b7535cfd01b6dcab'}   \n",
              "11  {'$oid': '6581d0e4b7535cfd01b6dbf1'}   \n",
              "12  {'$oid': '65817b7984bc323ae4d69e3b'}   \n",
              "13  {'$oid': '6580d08f64fab9b8b155f74b'}   \n",
              "14  {'$oid': '65807af50cb3bc5812e67b7c'}   \n",
              "15  {'$oid': '65807abf0cb3bc5812e67a90'}   \n",
              "16  {'$oid': '65807b140cb3bc5812e67c09'}   \n",
              "17  {'$oid': '657e79f203f8f7369efedcae'}   \n",
              "18  {'$oid': '657d79936fa06e1994cef055'}   \n",
              "19  {'$oid': '657d79966fa06e1994cef05f'}   \n",
              "20  {'$oid': '657d23e33cbcc06d292f3e97'}   \n",
              "21  {'$oid': '657d23f73cbcc06d292f3f03'}   \n",
              "22  {'$oid': '657cce8565d3786d4a14e38e'}   \n",
              "23  {'$oid': '657cce2765d3786d4a14e1b1'}   \n",
              "24  {'$oid': '657c78919999269ff31c2e28'}   \n",
              "25  {'$oid': '657bcdab33b24092d08262aa'}   \n",
              "26  {'$oid': '657bcd6433b24092d08261e3'}   \n",
              "27  {'$oid': '657bcd6433b24092d08261e4'}   \n",
              "28  {'$oid': '657bcd5f33b24092d0826179'}   \n",
              "29  {'$oid': '657bcda133b24092d082627f'}   \n",
              "30  {'$oid': '657b77adc088a3845bd8bad3'}   \n",
              "31  {'$oid': '657b777bc088a3845bd8b9fc'}   \n",
              "32  {'$oid': '657b775dc088a3845bd8b96a'}   \n",
              "33  {'$oid': '657b77c7c088a3845bd8bb0e'}   \n",
              "34  {'$oid': '657b77f3c088a3845bd8bbe9'}   \n",
              "35  {'$oid': '657b22115ca86d764adbb2ef'}   \n",
              "36  {'$oid': '657b220d5ca86d764adbb2ea'}   \n",
              "37  {'$oid': '657b21a35ca86d764adbb143'}   \n",
              "38  {'$oid': '657b21a35ca86d764adbb148'}   \n",
              "39  {'$oid': '657b21f05ca86d764adbb26b'}   \n",
              "40  {'$oid': '657acc3bb671da969c62f904'}   \n",
              "41  {'$oid': '657a765bd4010286b16f0d11'}   \n",
              "42  {'$oid': '657a765bd4010286b16f0d12'}   \n",
              "43  {'$oid': '657a765bd4010286b16f0d17'}   \n",
              "44  {'$oid': '657a765bd4010286b16f0d19'}   \n",
              "45  {'$oid': '657a208545315628bda2d2d2'}   \n",
              "46  {'$oid': '657a206745315628bda2d227'}   \n",
              "47  {'$oid': '657a20e345315628bda2d439'}   \n",
              "48  {'$oid': '6579cacf706b2b5613a683c3'}   \n",
              "49  {'$oid': '6579ca6e706b2b5613a68224'}   \n",
              "50  {'$oid': '6579ca85706b2b5613a682af'}   \n",
              "51  {'$oid': '6579caeb706b2b5613a68432'}   \n",
              "52  {'$oid': '6579cae6706b2b5613a6842b'}   \n",
              "53  {'$oid': '6579751ba2b9bca0e804b3b1'}   \n",
              "54  {'$oid': '65797511a2b9bca0e804b38a'}   \n",
              "55  {'$oid': '65791f0024e6053b997ed20d'}   \n",
              "56  {'$oid': '65791f2e24e6053b997ed2c3'}   \n",
              "57  {'$oid': '65791f3624e6053b997ed32d'}   \n",
              "58  {'$oid': '65791f2e24e6053b997ed2c6'}   \n",
              "59  {'$oid': '65791f5324e6053b997ed392'}   \n",
              "\n",
              "                                                Title  \\\n",
              "0   BBC is urged to sack UK's Eurovision entrant O...   \n",
              "1   UK Eurovision act Olly Alexander criticised fo...   \n",
              "2   Shocking sight at McDonald's as staff complain...   \n",
              "3   Prince Andrew 'invited former Goldman Sachs ba...   \n",
              "4   Airbnb set to use AI to help identify unauthor...   \n",
              "5   BBC's Nihal Arthanayake says he saw 'a lack of...   \n",
              "6   Women lead race to run oil giant BP after form...   \n",
              "7   Tesla CONFIRMS it is working on wireless charg...   \n",
              "8   GM has cut its Buick dealership network in hal...   \n",
              "9   British Museum to receive £50m in funding from...   \n",
              "10  British Museum announces new £50million ten-ye...   \n",
              "11  Kenya fines Carrefour franchise Majid al Futta...   \n",
              "12  Green Sadiq Khan 'agreed to promote United Air...   \n",
              "13  Amazon workers earning $17 an hour hit out at ...   \n",
              "14  KKR Highlights Brown-to-Green Transition as a ...   \n",
              "15  BP halts tanker journeys through the Red Sea a...   \n",
              "16  BP joins firms in pausing all shipments throug...   \n",
              "17  CITY WHISPERS: Bonuses for bosses at Imperial ...   \n",
              "18  Mary Barra Spent a Decade Transforming GM. It ...   \n",
              "19  The Autopilot system that prompted Tesla's rec...   \n",
              "20  BBC launches sex harassment probe into soap st...   \n",
              "21  Twenty three shuttered Starbucks stores could ...   \n",
              "22  Groups Oppose State-Imposed Baltimore Regional...   \n",
              "23  Cruise is in danger of becoming GM's latest tr...   \n",
              "24  Pictured: The indigenous women in the Amazon w...   \n",
              "25  Labor regulators seek to force Starbucks to re...   \n",
              "26  GM's self-driving car company Cruise lays off ...   \n",
              "27  Alabama is sued by inmates who claim state mad...   \n",
              "28  BP under pressure to overhaul its culture afte...   \n",
              "29  Female soccer fans in Iran allowed into Tehran...   \n",
              "30  New York Times editor wanted to attach TRIGGER...   \n",
              "31  Gary Lineker is 'dancing on the edge' of the B...   \n",
              "32  GM's Cruise laying off 900 employees, or 24% o...   \n",
              "33  Microsoft Signs One of Largest To-date Biochar...   \n",
              "34  Airbnb ramps up federal lobbying efforts amid ...   \n",
              "35    What Walmart Did to Make Stores Autism-Friendly   \n",
              "36  Oklahoma Finds It Hard to Break Up With JPMorg...   \n",
              "37  Diesel drivers are paying 15 times more to par...   \n",
              "38  Senior white men recruited for jobs at multina...   \n",
              "39  Tesco recalls Christmas stuffing due to ‘possi...   \n",
              "40  BP said former Chief Executive Bernard Looney ...   \n",
              "41  Disgraced former BP boss Bernard Looney forfei...   \n",
              "42  Aviva chief Amanda Blanc claims sexism is 'amp...   \n",
              "43  ALEX BRUMMER: BP shows Looney no mercy as he's...   \n",
              "44  Airbnb agrees to pay Italian authorities £500m...   \n",
              "45  British Museum deputy chief QUITS amid row ove...   \n",
              "46  Gary Lineker probably breached social media gu...   \n",
              "47  Former BP boss stripped of £32m for 'misleadin...   \n",
              "48  Gary Lineker tweets mocking Tory MPs likely br...   \n",
              "49  Epic Games CEO Tim Sweeney on why the company ...   \n",
              "50  Kind-hearted teenager sets up a 'present bank'...   \n",
              "51  Gary Lineker post about Grant Shapps appears t...   \n",
              "52  Visa and Mastercard facing UK cap on 'unduly h...   \n",
              "53  The U.K. competition authority launched a prob...   \n",
              "54  Why Volkswagen Is Building a Team of 3,000 Eng...   \n",
              "55  Tata: Doubt over Port Talbot's ability to make...   \n",
              "56  Unilever probed over green claims: Britain's w...   \n",
              "57  'We can't pull over on a CLOUD!' Boeing parts ...   \n",
              "58  ALEX BRUMMER: Regulators lift their game as BT...   \n",
              "59  Is the EV revolution losing its spark? Ford an...   \n",
              "\n",
              "                                          Description  \\\n",
              "0   The BBC is being urged to drop singer Olly Ale...   \n",
              "1   Olly Alexander, the UK's new Eurovision act, h...   \n",
              "2   A union representative claims they were barred...   \n",
              "3   The Duke invited a gun smuggler and an alleged...   \n",
              "4   Airbnb is set to use artificial intelligence t...   \n",
              "5   Nihal Arthanayake says he saw 'a lack of diver...   \n",
              "6   Two women have emerged as front-runners to tak...   \n",
              "7   A top Tesla executive has revealed the company...   \n",
              "8   DETROIT – General Motors has cut the size of i...   \n",
              "9   Get the free Morning Headlines email for news ...   \n",
              "10  The British Museum is to extend its 27-year-lo...   \n",
              "11  \"Investigations also determined that Carrefour...   \n",
              "12  Sadiq Khan signed an agreement to promote Unit...   \n",
              "13  Amazon is running a competition to give its br...   \n",
              "14  Global alternative asset and private equity in...   \n",
              "15  The M/V Swan Atlantic was attacked in the sout...   \n",
              "16  A growing number of companies, including BP, h...   \n",
              "17  Even the most diehard City watchers could be f...   \n",
              "18  The CEO pushed GM hard into electric and drive...   \n",
              "19  The Autopilot system that prompted Tesla’s rec...   \n",
              "20  The BBC has launched a sexual harassment probe...   \n",
              "21  A federal agency is seeking to force Starbucks...   \n",
              "22  The public comment period on the draft report ...   \n",
              "23  Cruise, its majority-owned autonomous vehicle ...   \n",
              "24  'I became interested in trying to gather more ...   \n",
              "25  Volunteer organizer Elizabeth Fernandez holds ...   \n",
              "26  The company announced they would be letting go...   \n",
              "27  A group of current and former prisoners are su...   \n",
              "28  Disgraced ex-BP boss Bernard Looney said he is...   \n",
              "29  TEHRAN, Iran (AP) — Female soccer fans in Iran...   \n",
              "30  Cotton's piece - titled 'Send In the Troops' -...   \n",
              "31  Gary Lineker is 'dancing on the edge' of the B...   \n",
              "32  General Motors' Cruise on Thursday announced i...   \n",
              "33  Carbon removal solutions provider Carbonfuture...   \n",
              "34  (Photo by Dilara Irem Sancar/Anadolu via Getty...   \n",
              "35  Businesses are creating calm spaces for custom...   \n",
              "36  State officials and pension employees are seek...   \n",
              "37  Drivers of diesel cars in a London borough hav...   \n",
              "38  Some 5 per cent of the firm's overall roles ar...   \n",
              "39  Read our privacy notice Thanks for signing up ...   \n",
              "40  BP said former Chief Executive Bernard Looney ...   \n",
              "41  BP last night concluded former chief executive...   \n",
              "42  The boss of Aviva has said sexism in the finan...   \n",
              "43  The last to be heard of former BP boss Bernard...   \n",
              "44  Airbnb is to hand over almost £500million to I...   \n",
              "45  It comes after an estimated 2,000 items from t...   \n",
              "46  Gary Lineker probably breached the BBC's socia...   \n",
              "47  The former boss of BP will forfeit more than £...   \n",
              "48  Read our privacy notice Thanks for signing up ...   \n",
              "49  A federal court jury decided late Monday that ...   \n",
              "50  A kind-hearted schoolboy is opening a Christma...   \n",
              "51  Gary Lineker's social media post about Defence...   \n",
              "52  Visa and Mastercard are facing the prospect of...   \n",
              "53  The U.K. competition authority launched a prob...   \n",
              "54  A bright orange robot, 10 feet tall, looms ove...   \n",
              "55  \"We're going to be doing a lot more in terms o...   \n",
              "56  Unilever is under investigation over claims it...   \n",
              "57  Boeing is facing calls to ditch its demand tha...   \n",
              "58  As a connoisseur of BT’s unscrupulous and ofte...   \n",
              "59  CEO Jim Farley said earlier this month that in...   \n",
              "\n",
              "                                              Content  \\\n",
              "0   The BBC is being urged to drop singer Olly Ale...   \n",
              "1   Olly Alexander, the UK's new Eurovision act, h...   \n",
              "2   A union representative claims they were barred...   \n",
              "3   The Duke invited a gun smuggler and an alleged...   \n",
              "4   Airbnb is set to use artificial intelligence t...   \n",
              "5   Nihal Arthanayake says he saw 'a lack of diver...   \n",
              "6   Two women have emerged as front-runners to tak...   \n",
              "7   A top Tesla executive has revealed the company...   \n",
              "8   DETROIT – General Motors has cut the size of i...   \n",
              "9   Get the free Morning Headlines email for news ...   \n",
              "10  The British Museum is to extend its 27-year-lo...   \n",
              "11  \"Investigations also determined that Carrefour...   \n",
              "12  Sadiq Khan signed an agreement to promote Unit...   \n",
              "13  Amazon is running a competition to give its br...   \n",
              "14  Global alternative asset and private equity in...   \n",
              "15  Oil giant BP has paused all of its tanker jour...   \n",
              "16  A growing number of companies, including BP, h...   \n",
              "17  Even the most diehard City watchers could be f...   \n",
              "18                                               None   \n",
              "19                                               None   \n",
              "20  The BBC has launched a sexual harassment probe...   \n",
              "21  A federal agency is seeking to force Starbucks...   \n",
              "22  Recommendation of draft Task Force report unde...   \n",
              "23  In this article GM Follow your favorite stocks...   \n",
              "24  At night, in this village near the Assua River...   \n",
              "25  Volunteer organizer Elizabeth Fernandez holds ...   \n",
              "26  Court documents show Cruise could be fined abo...   \n",
              "27  A group of current and former prisoners are su...   \n",
              "28  Disgraced ex-BP boss Bernard Looney said he is...   \n",
              "29  TEHRAN, Iran (AP) — Female soccer fans in Iran...   \n",
              "30  He claims conservative voices were 'despised' ...   \n",
              "31  Gary Lineker is 'dancing on the edge' of the B...   \n",
              "32  General Motors' Cruise on Thursday announced i...   \n",
              "33  Carbon removal solutions provider Carbonfuture...   \n",
              "34  In this photo illustration, a magnifier is see...   \n",
              "35                                               None   \n",
              "36                                               None   \n",
              "37  Drivers of diesel cars in a London borough hav...   \n",
              "38  The boss of Aviva has revealed senior white ma...   \n",
              "39  Get the free Morning Headlines email for news ...   \n",
              "40                                               None   \n",
              "41  BP last night concluded former chief executive...   \n",
              "42  The boss of Aviva has said sexism in the finan...   \n",
              "43  The last to be heard of former BP boss Bernard...   \n",
              "44  Airbnb is to hand over almost £500million to I...   \n",
              "45                                               None   \n",
              "46  Gary Lineker probably breached the BBC's socia...   \n",
              "47  The former boss of BP will forfeit more than £...   \n",
              "48  Sign up for the View from Westminster email fo...   \n",
              "49  A federal court jury decided late Monday that ...   \n",
              "50  A kind-hearted schoolboy is opening a Christma...   \n",
              "51  Gary Lineker's social media post about Defence...   \n",
              "52  Visa and Mastercard are facing the prospect of...   \n",
              "53                                               None   \n",
              "54  A bright orange robot, 10 feet tall, looms ove...   \n",
              "55  \"We're going to be doing a lot more in terms o...   \n",
              "56  Unilever is under investigation over claims it...   \n",
              "57  Boeing is facing calls to ditch its demand tha...   \n",
              "58  Did someone put a stimulant in their tea? Or w...   \n",
              "59  Even with the reduced target it will still mak...   \n",
              "\n",
              "                                             Keywords  \\\n",
              "0   {'FromDescription': ['olly alexander', 'singer...   \n",
              "1   {'FromDescription': ['accusing israel', 'olly ...   \n",
              "2   {'FromDescription': ['hindley street', 'repres...   \n",
              "3   {'FromDescription': ['james palace', 'alleged ...   \n",
              "4   {'FromDescription': ['year eve', 'eve parties'...   \n",
              "5   {'FromDescription': ['mental health', 'long pe...   \n",
              "6   {'FromDescription': ['bernard looney', 'stiff ...   \n",
              "7   {'FromDescription': ['leno garage', 'jay leno'...   \n",
              "8   {'FromDescription': ['general motors', 'told c...   \n",
              "9   {'FromDescription': ['morning headlines', 'fre...   \n",
              "10  {'FromDescription': ['british museum', 'oil gi...   \n",
              "11  {'FromDescription': ['carrefour suppliers', 's...   \n",
              "12  {'FromDescription': ['united airlines', 'sadiq...   \n",
              "13  {'FromDescription': ['brokest staff', 'cyber m...   \n",
              "14  {'FromDescription': ['global macro', 'investor...   \n",
              "15  {'FromDescription': ['red sea', 'united states...   \n",
              "16  {'FromDescription': ['red sea', 'red', 'sea', ...   \n",
              "17  {'FromDescription': ['diehard city', 'city wat...   \n",
              "18  {'FromDescription': [], 'FromTitle': ['barra s...   \n",
              "19  {'FromDescription': [], 'FromTitle': ['autopil...   \n",
              "20  {'FromDescription': ['bbc', 'soap star', 'sexu...   \n",
              "21  {'FromDescription': ['workers united', 'starbu...   \n",
              "22  {'FromDescription': ['holiday season', 'public...   \n",
              "23  {'FromDescription': ['vehicle subsidiary', 've...   \n",
              "24  {'FromDescription': ['juma indigenous', 'mande...   \n",
              "25  {'FromDescription': ['elizabeth fernandez', 'g...   \n",
              "26  {'FromDescription': ['person workforce', 'safe...   \n",
              "27  {'FromDescription': ['fast food', 'food chains...   \n",
              "28  {'FromDescription': ['bernard looney', 'boss b...   \n",
              "29  {'FromDescription': ['win thursday', 'small wi...   \n",
              "30  {'FromDescription': ['tackle criminal', 'crimi...   \n",
              "31  {'FromDescription': ['grant shapps', 'taunting...   \n",
              "32  {'FromDescription': ['general motors'', 'motor...   \n",
              "33  {'FromDescription': ['exomad green', 'bolivia-...   \n",
              "34  {'FromDescription': ['irem sancar', 'getty ima...   \n",
              "35  {'FromDescription': [], 'FromTitle': ['make st...   \n",
              "36  {'FromDescription': [], 'FromTitle': ['oklahom...   \n",
              "37  {'FromDescription': ['royal borough', 'diesel ...   \n",
              "38  {'FromDescription': ['senior leaders', 'mrs bl...   \n",
              "39  {'FromDescription': ['headlines email', 'themo...   \n",
              "40  {'FromDescription': [], 'FromTitle': ['chief e...   \n",
              "41  {'FromDescription': ['bernard looney', 'execut...   \n",
              "42  {'FromDescription': ['wider society', 'amanda ...   \n",
              "43  {'FromDescription': ['boss bernard', 'bernard ...   \n",
              "44  {'FromDescription': ['italian authorities', 't...   \n",
              "45  {'FromDescription': [], 'FromTitle': ['jonatha...   \n",
              "46  {'FromDescription': ['grant shapps', 'rwanda s...   \n",
              "47  {'FromDescription': ['potential pay', 'workpla...   \n",
              "48  {'FromDescription': ['westminster email', 'ver...   \n",
              "49  {'FromDescription': ['late monday', 'google pl...   \n",
              "50  {'FromDescription': ['christmas present', 'kin...   \n",
              "51  {'FromDescription': ['defence secretary', 'sec...   \n",
              "52  {'FromDescription': ['continental europe', 'in...   \n",
              "53  {'FromDescription': [], 'FromTitle': ['owner u...   \n",
              "54  {'FromDescription': ['feet tall', 'central chi...   \n",
              "55  {'FromDescription': ['supply chain', 'chain ba...   \n",
              "56  {'FromDescription': ['misleading customers', '...   \n",
              "57  {'FromDescription': ['facing calls', 'mechanic...   \n",
              "58  {'FromDescription': ['pricing policy', 'bit su...   \n",
              "59  {'FromDescription': ['ceo jim', 'jim farley', ...   \n",
              "\n",
              "                                      ProcessingSteps  \\\n",
              "0   {'TitleRaw': 'BBC is urged to sack UK's Eurovi...   \n",
              "1   {'TitleRaw': 'UK Eurovision act Olly Alexander...   \n",
              "2   {'TitleRaw': 'Shocking sight at McDonald's as ...   \n",
              "3   {'TitleRaw': 'Prince Andrew 'invited former Go...   \n",
              "4   {'TitleRaw': 'Airbnb set to use AI to help ide...   \n",
              "5   {'TitleRaw': 'BBC's Nihal Arthanayake says he ...   \n",
              "6   {'TitleRaw': 'Women lead race to run oil giant...   \n",
              "7   {'TitleRaw': 'Tesla CONFIRMS it is working on ...   \n",
              "8   {'TitleRaw': 'GM has cut its Buick dealership ...   \n",
              "9   {'TitleRaw': 'British Museum to receive £50m i...   \n",
              "10  {'TitleRaw': 'British Museum announces new £50...   \n",
              "11  {'TitleRaw': 'Kenya fines Carrefour franchise ...   \n",
              "12  {'TitleRaw': 'Green Sadiq Khan 'agreed to prom...   \n",
              "13  {'TitleRaw': 'Amazon workers earning $17 an ho...   \n",
              "14  {'TitleRaw': 'KKR Highlights Brown-to-Green Tr...   \n",
              "15  {'TitleRaw': 'BP halts tanker journeys through...   \n",
              "16  {'TitleRaw': 'BP joins firms in pausing all sh...   \n",
              "17  {'TitleRaw': 'CITY WHISPERS: Bonuses for bosse...   \n",
              "18  {'TitleRaw': 'Mary Barra Spent a Decade Transf...   \n",
              "19  {'TitleRaw': 'The Autopilot system that prompt...   \n",
              "20  {'TitleRaw': 'BBC launches sex harassment prob...   \n",
              "21  {'TitleRaw': 'Twenty three shuttered Starbucks...   \n",
              "22  {'TitleRaw': 'Groups Oppose State-Imposed Balt...   \n",
              "23  {'TitleRaw': 'Cruise is in danger of becoming ...   \n",
              "24  {'TitleRaw': 'Pictured: The indigenous women i...   \n",
              "25  {'TitleRaw': 'Labor regulators seek to force S...   \n",
              "26  {'TitleRaw': 'GM's self-driving car company Cr...   \n",
              "27  {'TitleRaw': 'Alabama is sued by inmates who c...   \n",
              "28  {'TitleRaw': 'BP under pressure to overhaul it...   \n",
              "29  {'TitleRaw': 'Female soccer fans in Iran allow...   \n",
              "30  {'TitleRaw': 'New York Times editor wanted to ...   \n",
              "31  {'TitleRaw': 'Gary Lineker is 'dancing on the ...   \n",
              "32  {'TitleRaw': 'GM's Cruise laying off 900 emplo...   \n",
              "33  {'TitleRaw': 'Microsoft Signs One of Largest T...   \n",
              "34  {'TitleRaw': 'Airbnb ramps up federal lobbying...   \n",
              "35  {'TitleRaw': 'What Walmart Did to Make Stores ...   \n",
              "36  {'TitleRaw': 'Oklahoma Finds It Hard to Break ...   \n",
              "37  {'TitleRaw': 'Diesel drivers are paying 15 tim...   \n",
              "38  {'TitleRaw': 'Senior white men recruited for j...   \n",
              "39  {'TitleRaw': 'Tesco recalls Christmas stuffing...   \n",
              "40  {'TitleRaw': 'BP said former Chief Executive B...   \n",
              "41  {'TitleRaw': 'Disgraced former BP boss Bernard...   \n",
              "42  {'TitleRaw': 'Aviva chief Amanda Blanc claims ...   \n",
              "43  {'TitleRaw': 'ALEX BRUMMER: BP shows Looney no...   \n",
              "44  {'TitleRaw': 'Airbnb agrees to pay Italian aut...   \n",
              "45  {'TitleRaw': 'British Museum deputy chief QUIT...   \n",
              "46  {'TitleRaw': 'Gary Lineker probably breached s...   \n",
              "47  {'TitleRaw': 'Former BP boss stripped of £32m ...   \n",
              "48  {'TitleRaw': 'Gary Lineker tweets mocking Tory...   \n",
              "49  {'TitleRaw': 'Epic Games CEO Tim Sweeney on wh...   \n",
              "50  {'TitleRaw': 'Kind-hearted teenager sets up a ...   \n",
              "51  {'TitleRaw': 'Gary Lineker post about Grant Sh...   \n",
              "52  {'TitleRaw': 'Visa and Mastercard facing UK ca...   \n",
              "53  {'TitleRaw': 'The U.K. competition authority l...   \n",
              "54  {'TitleRaw': 'Why Volkswagen Is Building a Tea...   \n",
              "55  {'TitleRaw': 'Tata: Doubt over Port Talbot's a...   \n",
              "56  {'TitleRaw': 'Unilever probed over green claim...   \n",
              "57  {'TitleRaw': ''We can't pull over on a CLOUD!'...   \n",
              "58  {'TitleRaw': 'ALEX BRUMMER: Regulators lift th...   \n",
              "59  {'TitleRaw': 'Is the EV revolution losing its ...   \n",
              "\n",
              "                                                 NERs       QType  \\\n",
              "0   {'FromDescription': [{'Position': 4, 'Text': '...       [200]   \n",
              "1   {'FromDescription': [{'Position': 20, 'Text': ...          []   \n",
              "2   {'FromDescription': [{'Position': 65, 'Text': ...       [500]   \n",
              "3   {'FromDescription': [{'Position': 60, 'Text': ...          []   \n",
              "4   {'FromDescription': [{'Position': 0, 'Text': '...       [600]   \n",
              "5   {'FromDescription': [{'Position': 178, 'Text':...       [300]   \n",
              "6   {'FromDescription': [{'Position': 56, 'Text': ...       [200]   \n",
              "7   {'FromDescription': [{'Position': 6, 'Text': '...       [400]   \n",
              "8   {'FromDescription': [{'Position': 0, 'Text': '...       [200]   \n",
              "9   {'FromDescription': [{'Position': 500, 'Text':...       [600]   \n",
              "10  {'FromDescription': [{'Position': 0, 'Text': '...       [400]   \n",
              "11  {'FromDescription': [{'Position': 37, 'Text': ...       [600]   \n",
              "12  {'FromDescription': [{'Position': 42, 'Text': ...       [600]   \n",
              "13  {'FromDescription': [{'Position': 0, 'Text': '...       [200]   \n",
              "14  {'FromDescription': [{'Position': 53, 'Text': ...       [400]   \n",
              "15  {'FromDescription': [{'Position': 97, 'Text': ...       [400]   \n",
              "16  {'FromDescription': [{'Position': 41, 'Text': ...          []   \n",
              "17  {'FromDescription': [{'Position': 330, 'Text':...  [200, 600]   \n",
              "18  {'FromDescription': [{'Position': 15, 'Text': ...       [600]   \n",
              "19  {'FromDescription': [{'Position': 4, 'Text': '...       [200]   \n",
              "20  {'FromDescription': [{'Position': 4, 'Text': '...       [200]   \n",
              "21  {'FromDescription': [{'Position': 37, 'Text': ...       [200]   \n",
              "22  {'FromDescription': [{'Position': 321, 'Text':...       [400]   \n",
              "23  {'FromDescription': [{'Position': 0, 'Text': '...       [600]   \n",
              "24  {'FromDescription': [{'Position': 197, 'Text':...       [400]   \n",
              "25  {'FromDescription': [{'Position': 75, 'Text': ...       [200]   \n",
              "26  {'FromDescription': [{'Position': 172, 'Text':...       [200]   \n",
              "27  {'FromDescription': [{'Position': 50, 'Text': ...       [200]   \n",
              "28  {'FromDescription': [{'Position': 260, 'Text':...       [200]   \n",
              "29  {'FromDescription': [{'Position': 0, 'Text': '...       [200]   \n",
              "30  {'FromDescription': [{'Position': 0, 'Text': '...  [200, 600]   \n",
              "31  {'FromDescription': [{'Position': 45, 'Text': ...       [200]   \n",
              "32  {'FromDescription': [{'Position': 0, 'Text': '...       [200]   \n",
              "33  {'FromDescription': [{'Position': 34, 'Text': ...       [400]   \n",
              "34  {'FromDescription': [{'Position': 29, 'Text': ...       [600]   \n",
              "35  {'FromDescription': None, 'FromTitle': [{'Posi...       [300]   \n",
              "36  {'FromDescription': None, 'FromTitle': [{'Posi...       [600]   \n",
              "37  {'FromDescription': [{'Position': 28, 'Text': ...       [400]   \n",
              "38  {'FromDescription': [{'Position': 164, 'Text':...  [200, 300]   \n",
              "39  {'FromDescription': [{'Position': 214, 'Text':...       [500]   \n",
              "40  {'FromDescription': [{'Position': 0, 'Text': '...       [200]   \n",
              "41  {'FromDescription': [{'Position': 0, 'Text': '...       [600]   \n",
              "42  {'FromDescription': [{'Position': 12, 'Text': ...       [200]   \n",
              "43  {'FromDescription': [{'Position': 31, 'Text': ...       [200]   \n",
              "44  {'FromDescription': [{'Position': 0, 'Text': '...       [600]   \n",
              "45  {'FromDescription': None, 'FromTitle': [{'Posi...       [600]   \n",
              "46  {'FromDescription': [{'Position': 35, 'Text': ...          []   \n",
              "47  {'FromDescription': [{'Position': 19, 'Text': ...       [200]   \n",
              "48  {'FromDescription': [{'Position': 62, 'Text': ...       [600]   \n",
              "49  {'FromDescription': [{'Position': 46, 'Text': ...       [600]   \n",
              "50  {'FromDescription': [{'Position': 178, 'Text':...          []   \n",
              "51  {'FromDescription': [{'Position': 39, 'Text': ...       [200]   \n",
              "52  {'FromDescription': [{'Position': 0, 'Text': '...       [600]   \n",
              "53  {'FromDescription': [{'Position': 4, 'Text': '...       [400]   \n",
              "54  {'FromDescription': [{'Position': 48, 'Text': ...       [700]   \n",
              "55  {'FromDescription': None, 'FromTitle': [{'Posi...       [200]   \n",
              "56  {'FromDescription': [{'Position': 0, 'Text': '...       [600]   \n",
              "57  {'FromDescription': [{'Position': 0, 'Text': '...       [200]   \n",
              "58  {'FromDescription': [{'Position': 20, 'Text': ...  [200, 600]   \n",
              "59  {'FromDescription': [{'Position': 109, 'Text':...       [400]   \n",
              "\n",
              "        MatchedCompanies  \n",
              "0                  [BBC]  \n",
              "1           [Eurovision]  \n",
              "2           [McDonald's]  \n",
              "3        [Goldman Sachs]  \n",
              "4               [Airbnb]  \n",
              "5                  [BBC]  \n",
              "6                   [BP]  \n",
              "7                [Tesla]  \n",
              "8                   [GM]  \n",
              "9                   [BP]  \n",
              "10                  [BP]  \n",
              "11           [Carrefour]  \n",
              "12     [United Airlines]  \n",
              "13              [Amazon]  \n",
              "14        [KKR & Co Inc]  \n",
              "15                  [BP]  \n",
              "16                  [BP]  \n",
              "17     [Imperial Brands]  \n",
              "18                  [GM]  \n",
              "19               [Tesla]  \n",
              "20                 [BBC]  \n",
              "21           [Starbucks]  \n",
              "22             [S Group]  \n",
              "23                  [GM]  \n",
              "24              [Amazon]  \n",
              "25           [Starbucks]  \n",
              "26                  [GM]  \n",
              "27          [McDonald's]  \n",
              "28                  [BP]  \n",
              "29                [FIFA]  \n",
              "30  [The New York Times]  \n",
              "31                 [BBC]  \n",
              "32                  [GM]  \n",
              "33           [Microsoft]  \n",
              "34              [Airbnb]  \n",
              "35             [Walmart]  \n",
              "36           [BlackRock]  \n",
              "37              [Diesel]  \n",
              "38               [Aviva]  \n",
              "39               [Tesco]  \n",
              "40                  [BP]  \n",
              "41                  [BP]  \n",
              "42               [Aviva]  \n",
              "43                  [BP]  \n",
              "44              [Airbnb]  \n",
              "45                [eBay]  \n",
              "46                 [BBC]  \n",
              "47                  [BP]  \n",
              "48                 [BBC]  \n",
              "49          [Epic Games]  \n",
              "50                [Aldi]  \n",
              "51                 [BBC]  \n",
              "52           [Visa Inc.]  \n",
              "53            [Unilever]  \n",
              "54          [Volkswagen]  \n",
              "55          [TATA group]  \n",
              "56            [Unilever]  \n",
              "57              [Boeing]  \n",
              "58            [Unilever]  \n",
              "59                [Ford]  "
            ],
            "text/html": [
              "\n",
              "  <div id=\"df-b39712e4-6be2-4e36-ac4a-a9bfc492aa1c\" class=\"colab-df-container\">\n",
              "    <div>\n",
              "<style scoped>\n",
              "    .dataframe tbody tr th:only-of-type {\n",
              "        vertical-align: middle;\n",
              "    }\n",
              "\n",
              "    .dataframe tbody tr th {\n",
              "        vertical-align: top;\n",
              "    }\n",
              "\n",
              "    .dataframe thead th {\n",
              "        text-align: right;\n",
              "    }\n",
              "</style>\n",
              "<table border=\"1\" class=\"dataframe\">\n",
              "  <thead>\n",
              "    <tr style=\"text-align: right;\">\n",
              "      <th></th>\n",
              "      <th>_id</th>\n",
              "      <th>Title</th>\n",
              "      <th>Description</th>\n",
              "      <th>Content</th>\n",
              "      <th>Keywords</th>\n",
              "      <th>ProcessingSteps</th>\n",
              "      <th>NERs</th>\n",
              "      <th>QType</th>\n",
              "      <th>MatchedCompanies</th>\n",
              "    </tr>\n",
              "  </thead>\n",
              "  <tbody>\n",
              "    <tr>\n",
              "      <th>0</th>\n",
              "      <td>{'$oid': '65847e46b1f6ca8a8b0b8f75'}</td>\n",
              "      <td>BBC is urged to sack UK's Eurovision entrant O...</td>\n",
              "      <td>The BBC is being urged to drop singer Olly Ale...</td>\n",
              "      <td>The BBC is being urged to drop singer Olly Ale...</td>\n",
              "      <td>{'FromDescription': ['olly alexander', 'singer...</td>\n",
              "      <td>{'TitleRaw': 'BBC is urged to sack UK's Eurovi...</td>\n",
              "      <td>{'FromDescription': [{'Position': 4, 'Text': '...</td>\n",
              "      <td>[200]</td>\n",
              "      <td>[BBC]</td>\n",
              "    </tr>\n",
              "    <tr>\n",
              "      <th>1</th>\n",
              "      <td>{'$oid': '65847e9cb1f6ca8a8b0b90e0'}</td>\n",
              "      <td>UK Eurovision act Olly Alexander criticised fo...</td>\n",
              "      <td>Olly Alexander, the UK's new Eurovision act, h...</td>\n",
              "      <td>Olly Alexander, the UK's new Eurovision act, h...</td>\n",
              "      <td>{'FromDescription': ['accusing israel', 'olly ...</td>\n",
              "      <td>{'TitleRaw': 'UK Eurovision act Olly Alexander...</td>\n",
              "      <td>{'FromDescription': [{'Position': 20, 'Text': ...</td>\n",
              "      <td>[]</td>\n",
              "      <td>[Eurovision]</td>\n",
              "    </tr>\n",
              "    <tr>\n",
              "      <th>2</th>\n",
              "      <td>{'$oid': '6583d30c76e5f558ad9e1f1a'}</td>\n",
              "      <td>Shocking sight at McDonald's as staff complain...</td>\n",
              "      <td>A union representative claims they were barred...</td>\n",
              "      <td>A union representative claims they were barred...</td>\n",
              "      <td>{'FromDescription': ['hindley street', 'repres...</td>\n",
              "      <td>{'TitleRaw': 'Shocking sight at McDonald's as ...</td>\n",
              "      <td>{'FromDescription': [{'Position': 65, 'Text': ...</td>\n",
              "      <td>[500]</td>\n",
              "      <td>[McDonald's]</td>\n",
              "    </tr>\n",
              "    <tr>\n",
              "      <th>3</th>\n",
              "      <td>{'$oid': '658327bb7d2f9da2e581735a'}</td>\n",
              "      <td>Prince Andrew 'invited former Goldman Sachs ba...</td>\n",
              "      <td>The Duke invited a gun smuggler and an alleged...</td>\n",
              "      <td>The Duke invited a gun smuggler and an alleged...</td>\n",
              "      <td>{'FromDescription': ['james palace', 'alleged ...</td>\n",
              "      <td>{'TitleRaw': 'Prince Andrew 'invited former Go...</td>\n",
              "      <td>{'FromDescription': [{'Position': 60, 'Text': ...</td>\n",
              "      <td>[]</td>\n",
              "      <td>[Goldman Sachs]</td>\n",
              "    </tr>\n",
              "    <tr>\n",
              "      <th>4</th>\n",
              "      <td>{'$oid': '6582d237443658d5c3f41ea0'}</td>\n",
              "      <td>Airbnb set to use AI to help identify unauthor...</td>\n",
              "      <td>Airbnb is set to use artificial intelligence t...</td>\n",
              "      <td>Airbnb is set to use artificial intelligence t...</td>\n",
              "      <td>{'FromDescription': ['year eve', 'eve parties'...</td>\n",
              "      <td>{'TitleRaw': 'Airbnb set to use AI to help ide...</td>\n",
              "      <td>{'FromDescription': [{'Position': 0, 'Text': '...</td>\n",
              "      <td>[600]</td>\n",
              "      <td>[Airbnb]</td>\n",
              "    </tr>\n",
              "    <tr>\n",
              "      <th>5</th>\n",
              "      <td>{'$oid': '65827ca7fae0695da0fc94c3'}</td>\n",
              "      <td>BBC's Nihal Arthanayake says he saw 'a lack of...</td>\n",
              "      <td>Nihal Arthanayake says he saw 'a lack of diver...</td>\n",
              "      <td>Nihal Arthanayake says he saw 'a lack of diver...</td>\n",
              "      <td>{'FromDescription': ['mental health', 'long pe...</td>\n",
              "      <td>{'TitleRaw': 'BBC's Nihal Arthanayake says he ...</td>\n",
              "      <td>{'FromDescription': [{'Position': 178, 'Text':...</td>\n",
              "      <td>[300]</td>\n",
              "      <td>[BBC]</td>\n",
              "    </tr>\n",
              "    <tr>\n",
              "      <th>6</th>\n",
              "      <td>{'$oid': '65827c93fae0695da0fc942b'}</td>\n",
              "      <td>Women lead race to run oil giant BP after form...</td>\n",
              "      <td>Two women have emerged as front-runners to tak...</td>\n",
              "      <td>Two women have emerged as front-runners to tak...</td>\n",
              "      <td>{'FromDescription': ['bernard looney', 'stiff ...</td>\n",
              "      <td>{'TitleRaw': 'Women lead race to run oil giant...</td>\n",
              "      <td>{'FromDescription': [{'Position': 56, 'Text': ...</td>\n",
              "      <td>[200]</td>\n",
              "      <td>[BP]</td>\n",
              "    </tr>\n",
              "    <tr>\n",
              "      <th>7</th>\n",
              "      <td>{'$oid': '65827c88fae0695da0fc93e5'}</td>\n",
              "      <td>Tesla CONFIRMS it is working on wireless charg...</td>\n",
              "      <td>A top Tesla executive has revealed the company...</td>\n",
              "      <td>A top Tesla executive has revealed the company...</td>\n",
              "      <td>{'FromDescription': ['leno garage', 'jay leno'...</td>\n",
              "      <td>{'TitleRaw': 'Tesla CONFIRMS it is working on ...</td>\n",
              "      <td>{'FromDescription': [{'Position': 6, 'Text': '...</td>\n",
              "      <td>[400]</td>\n",
              "      <td>[Tesla]</td>\n",
              "    </tr>\n",
              "    <tr>\n",
              "      <th>8</th>\n",
              "      <td>{'$oid': '65827c84fae0695da0fc93b5'}</td>\n",
              "      <td>GM has cut its Buick dealership network in hal...</td>\n",
              "      <td>DETROIT – General Motors has cut the size of i...</td>\n",
              "      <td>DETROIT – General Motors has cut the size of i...</td>\n",
              "      <td>{'FromDescription': ['general motors', 'told c...</td>\n",
              "      <td>{'TitleRaw': 'GM has cut its Buick dealership ...</td>\n",
              "      <td>{'FromDescription': [{'Position': 0, 'Text': '...</td>\n",
              "      <td>[200]</td>\n",
              "      <td>[GM]</td>\n",
              "    </tr>\n",
              "    <tr>\n",
              "      <th>9</th>\n",
              "      <td>{'$oid': '6582271d88beb68943246791'}</td>\n",
              "      <td>British Museum to receive £50m in funding from...</td>\n",
              "      <td>Get the free Morning Headlines email for news ...</td>\n",
              "      <td>Get the free Morning Headlines email for news ...</td>\n",
              "      <td>{'FromDescription': ['morning headlines', 'fre...</td>\n",
              "      <td>{'TitleRaw': 'British Museum to receive £50m i...</td>\n",
              "      <td>{'FromDescription': [{'Position': 500, 'Text':...</td>\n",
              "      <td>[600]</td>\n",
              "      <td>[BP]</td>\n",
              "    </tr>\n",
              "    <tr>\n",
              "      <th>10</th>\n",
              "      <td>{'$oid': '6581d103b7535cfd01b6dcab'}</td>\n",
              "      <td>British Museum announces new £50million ten-ye...</td>\n",
              "      <td>The British Museum is to extend its 27-year-lo...</td>\n",
              "      <td>The British Museum is to extend its 27-year-lo...</td>\n",
              "      <td>{'FromDescription': ['british museum', 'oil gi...</td>\n",
              "      <td>{'TitleRaw': 'British Museum announces new £50...</td>\n",
              "      <td>{'FromDescription': [{'Position': 0, 'Text': '...</td>\n",
              "      <td>[400]</td>\n",
              "      <td>[BP]</td>\n",
              "    </tr>\n",
              "    <tr>\n",
              "      <th>11</th>\n",
              "      <td>{'$oid': '6581d0e4b7535cfd01b6dbf1'}</td>\n",
              "      <td>Kenya fines Carrefour franchise Majid al Futta...</td>\n",
              "      <td>\"Investigations also determined that Carrefour...</td>\n",
              "      <td>\"Investigations also determined that Carrefour...</td>\n",
              "      <td>{'FromDescription': ['carrefour suppliers', 's...</td>\n",
              "      <td>{'TitleRaw': 'Kenya fines Carrefour franchise ...</td>\n",
              "      <td>{'FromDescription': [{'Position': 37, 'Text': ...</td>\n",
              "      <td>[600]</td>\n",
              "      <td>[Carrefour]</td>\n",
              "    </tr>\n",
              "    <tr>\n",
              "      <th>12</th>\n",
              "      <td>{'$oid': '65817b7984bc323ae4d69e3b'}</td>\n",
              "      <td>Green Sadiq Khan 'agreed to promote United Air...</td>\n",
              "      <td>Sadiq Khan signed an agreement to promote Unit...</td>\n",
              "      <td>Sadiq Khan signed an agreement to promote Unit...</td>\n",
              "      <td>{'FromDescription': ['united airlines', 'sadiq...</td>\n",
              "      <td>{'TitleRaw': 'Green Sadiq Khan 'agreed to prom...</td>\n",
              "      <td>{'FromDescription': [{'Position': 42, 'Text': ...</td>\n",
              "      <td>[600]</td>\n",
              "      <td>[United Airlines]</td>\n",
              "    </tr>\n",
              "    <tr>\n",
              "      <th>13</th>\n",
              "      <td>{'$oid': '6580d08f64fab9b8b155f74b'}</td>\n",
              "      <td>Amazon workers earning $17 an hour hit out at ...</td>\n",
              "      <td>Amazon is running a competition to give its br...</td>\n",
              "      <td>Amazon is running a competition to give its br...</td>\n",
              "      <td>{'FromDescription': ['brokest staff', 'cyber m...</td>\n",
              "      <td>{'TitleRaw': 'Amazon workers earning $17 an ho...</td>\n",
              "      <td>{'FromDescription': [{'Position': 0, 'Text': '...</td>\n",
              "      <td>[200]</td>\n",
              "      <td>[Amazon]</td>\n",
              "    </tr>\n",
              "    <tr>\n",
              "      <th>14</th>\n",
              "      <td>{'$oid': '65807af50cb3bc5812e67b7c'}</td>\n",
              "      <td>KKR Highlights Brown-to-Green Transition as a ...</td>\n",
              "      <td>Global alternative asset and private equity in...</td>\n",
              "      <td>Global alternative asset and private equity in...</td>\n",
              "      <td>{'FromDescription': ['global macro', 'investor...</td>\n",
              "      <td>{'TitleRaw': 'KKR Highlights Brown-to-Green Tr...</td>\n",
              "      <td>{'FromDescription': [{'Position': 53, 'Text': ...</td>\n",
              "      <td>[400]</td>\n",
              "      <td>[KKR &amp; Co Inc]</td>\n",
              "    </tr>\n",
              "    <tr>\n",
              "      <th>15</th>\n",
              "      <td>{'$oid': '65807abf0cb3bc5812e67a90'}</td>\n",
              "      <td>BP halts tanker journeys through the Red Sea a...</td>\n",
              "      <td>The M/V Swan Atlantic was attacked in the sout...</td>\n",
              "      <td>Oil giant BP has paused all of its tanker jour...</td>\n",
              "      <td>{'FromDescription': ['red sea', 'united states...</td>\n",
              "      <td>{'TitleRaw': 'BP halts tanker journeys through...</td>\n",
              "      <td>{'FromDescription': [{'Position': 97, 'Text': ...</td>\n",
              "      <td>[400]</td>\n",
              "      <td>[BP]</td>\n",
              "    </tr>\n",
              "    <tr>\n",
              "      <th>16</th>\n",
              "      <td>{'$oid': '65807b140cb3bc5812e67c09'}</td>\n",
              "      <td>BP joins firms in pausing all shipments throug...</td>\n",
              "      <td>A growing number of companies, including BP, h...</td>\n",
              "      <td>A growing number of companies, including BP, h...</td>\n",
              "      <td>{'FromDescription': ['red sea', 'red', 'sea', ...</td>\n",
              "      <td>{'TitleRaw': 'BP joins firms in pausing all sh...</td>\n",
              "      <td>{'FromDescription': [{'Position': 41, 'Text': ...</td>\n",
              "      <td>[]</td>\n",
              "      <td>[BP]</td>\n",
              "    </tr>\n",
              "    <tr>\n",
              "      <th>17</th>\n",
              "      <td>{'$oid': '657e79f203f8f7369efedcae'}</td>\n",
              "      <td>CITY WHISPERS: Bonuses for bosses at Imperial ...</td>\n",
              "      <td>Even the most diehard City watchers could be f...</td>\n",
              "      <td>Even the most diehard City watchers could be f...</td>\n",
              "      <td>{'FromDescription': ['diehard city', 'city wat...</td>\n",
              "      <td>{'TitleRaw': 'CITY WHISPERS: Bonuses for bosse...</td>\n",
              "      <td>{'FromDescription': [{'Position': 330, 'Text':...</td>\n",
              "      <td>[200, 600]</td>\n",
              "      <td>[Imperial Brands]</td>\n",
              "    </tr>\n",
              "    <tr>\n",
              "      <th>18</th>\n",
              "      <td>{'$oid': '657d79936fa06e1994cef055'}</td>\n",
              "      <td>Mary Barra Spent a Decade Transforming GM. It ...</td>\n",
              "      <td>The CEO pushed GM hard into electric and drive...</td>\n",
              "      <td>None</td>\n",
              "      <td>{'FromDescription': [], 'FromTitle': ['barra s...</td>\n",
              "      <td>{'TitleRaw': 'Mary Barra Spent a Decade Transf...</td>\n",
              "      <td>{'FromDescription': [{'Position': 15, 'Text': ...</td>\n",
              "      <td>[600]</td>\n",
              "      <td>[GM]</td>\n",
              "    </tr>\n",
              "    <tr>\n",
              "      <th>19</th>\n",
              "      <td>{'$oid': '657d79966fa06e1994cef05f'}</td>\n",
              "      <td>The Autopilot system that prompted Tesla's rec...</td>\n",
              "      <td>The Autopilot system that prompted Tesla’s rec...</td>\n",
              "      <td>None</td>\n",
              "      <td>{'FromDescription': [], 'FromTitle': ['autopil...</td>\n",
              "      <td>{'TitleRaw': 'The Autopilot system that prompt...</td>\n",
              "      <td>{'FromDescription': [{'Position': 4, 'Text': '...</td>\n",
              "      <td>[200]</td>\n",
              "      <td>[Tesla]</td>\n",
              "    </tr>\n",
              "    <tr>\n",
              "      <th>20</th>\n",
              "      <td>{'$oid': '657d23e33cbcc06d292f3e97'}</td>\n",
              "      <td>BBC launches sex harassment probe into soap st...</td>\n",
              "      <td>The BBC has launched a sexual harassment probe...</td>\n",
              "      <td>The BBC has launched a sexual harassment probe...</td>\n",
              "      <td>{'FromDescription': ['bbc', 'soap star', 'sexu...</td>\n",
              "      <td>{'TitleRaw': 'BBC launches sex harassment prob...</td>\n",
              "      <td>{'FromDescription': [{'Position': 4, 'Text': '...</td>\n",
              "      <td>[200]</td>\n",
              "      <td>[BBC]</td>\n",
              "    </tr>\n",
              "    <tr>\n",
              "      <th>21</th>\n",
              "      <td>{'$oid': '657d23f73cbcc06d292f3f03'}</td>\n",
              "      <td>Twenty three shuttered Starbucks stores could ...</td>\n",
              "      <td>A federal agency is seeking to force Starbucks...</td>\n",
              "      <td>A federal agency is seeking to force Starbucks...</td>\n",
              "      <td>{'FromDescription': ['workers united', 'starbu...</td>\n",
              "      <td>{'TitleRaw': 'Twenty three shuttered Starbucks...</td>\n",
              "      <td>{'FromDescription': [{'Position': 37, 'Text': ...</td>\n",
              "      <td>[200]</td>\n",
              "      <td>[Starbucks]</td>\n",
              "    </tr>\n",
              "    <tr>\n",
              "      <th>22</th>\n",
              "      <td>{'$oid': '657cce8565d3786d4a14e38e'}</td>\n",
              "      <td>Groups Oppose State-Imposed Baltimore Regional...</td>\n",
              "      <td>The public comment period on the draft report ...</td>\n",
              "      <td>Recommendation of draft Task Force report unde...</td>\n",
              "      <td>{'FromDescription': ['holiday season', 'public...</td>\n",
              "      <td>{'TitleRaw': 'Groups Oppose State-Imposed Balt...</td>\n",
              "      <td>{'FromDescription': [{'Position': 321, 'Text':...</td>\n",
              "      <td>[400]</td>\n",
              "      <td>[S Group]</td>\n",
              "    </tr>\n",
              "    <tr>\n",
              "      <th>23</th>\n",
              "      <td>{'$oid': '657cce2765d3786d4a14e1b1'}</td>\n",
              "      <td>Cruise is in danger of becoming GM's latest tr...</td>\n",
              "      <td>Cruise, its majority-owned autonomous vehicle ...</td>\n",
              "      <td>In this article GM Follow your favorite stocks...</td>\n",
              "      <td>{'FromDescription': ['vehicle subsidiary', 've...</td>\n",
              "      <td>{'TitleRaw': 'Cruise is in danger of becoming ...</td>\n",
              "      <td>{'FromDescription': [{'Position': 0, 'Text': '...</td>\n",
              "      <td>[600]</td>\n",
              "      <td>[GM]</td>\n",
              "    </tr>\n",
              "    <tr>\n",
              "      <th>24</th>\n",
              "      <td>{'$oid': '657c78919999269ff31c2e28'}</td>\n",
              "      <td>Pictured: The indigenous women in the Amazon w...</td>\n",
              "      <td>'I became interested in trying to gather more ...</td>\n",
              "      <td>At night, in this village near the Assua River...</td>\n",
              "      <td>{'FromDescription': ['juma indigenous', 'mande...</td>\n",
              "      <td>{'TitleRaw': 'Pictured: The indigenous women i...</td>\n",
              "      <td>{'FromDescription': [{'Position': 197, 'Text':...</td>\n",
              "      <td>[400]</td>\n",
              "      <td>[Amazon]</td>\n",
              "    </tr>\n",
              "    <tr>\n",
              "      <th>25</th>\n",
              "      <td>{'$oid': '657bcdab33b24092d08262aa'}</td>\n",
              "      <td>Labor regulators seek to force Starbucks to re...</td>\n",
              "      <td>Volunteer organizer Elizabeth Fernandez holds ...</td>\n",
              "      <td>Volunteer organizer Elizabeth Fernandez holds ...</td>\n",
              "      <td>{'FromDescription': ['elizabeth fernandez', 'g...</td>\n",
              "      <td>{'TitleRaw': 'Labor regulators seek to force S...</td>\n",
              "      <td>{'FromDescription': [{'Position': 75, 'Text': ...</td>\n",
              "      <td>[200]</td>\n",
              "      <td>[Starbucks]</td>\n",
              "    </tr>\n",
              "    <tr>\n",
              "      <th>26</th>\n",
              "      <td>{'$oid': '657bcd6433b24092d08261e3'}</td>\n",
              "      <td>GM's self-driving car company Cruise lays off ...</td>\n",
              "      <td>The company announced they would be letting go...</td>\n",
              "      <td>Court documents show Cruise could be fined abo...</td>\n",
              "      <td>{'FromDescription': ['person workforce', 'safe...</td>\n",
              "      <td>{'TitleRaw': 'GM's self-driving car company Cr...</td>\n",
              "      <td>{'FromDescription': [{'Position': 172, 'Text':...</td>\n",
              "      <td>[200]</td>\n",
              "      <td>[GM]</td>\n",
              "    </tr>\n",
              "    <tr>\n",
              "      <th>27</th>\n",
              "      <td>{'$oid': '657bcd6433b24092d08261e4'}</td>\n",
              "      <td>Alabama is sued by inmates who claim state mad...</td>\n",
              "      <td>A group of current and former prisoners are su...</td>\n",
              "      <td>A group of current and former prisoners are su...</td>\n",
              "      <td>{'FromDescription': ['fast food', 'food chains...</td>\n",
              "      <td>{'TitleRaw': 'Alabama is sued by inmates who c...</td>\n",
              "      <td>{'FromDescription': [{'Position': 50, 'Text': ...</td>\n",
              "      <td>[200]</td>\n",
              "      <td>[McDonald's]</td>\n",
              "    </tr>\n",
              "    <tr>\n",
              "      <th>28</th>\n",
              "      <td>{'$oid': '657bcd5f33b24092d0826179'}</td>\n",
              "      <td>BP under pressure to overhaul its culture afte...</td>\n",
              "      <td>Disgraced ex-BP boss Bernard Looney said he is...</td>\n",
              "      <td>Disgraced ex-BP boss Bernard Looney said he is...</td>\n",
              "      <td>{'FromDescription': ['bernard looney', 'boss b...</td>\n",
              "      <td>{'TitleRaw': 'BP under pressure to overhaul it...</td>\n",
              "      <td>{'FromDescription': [{'Position': 260, 'Text':...</td>\n",
              "      <td>[200]</td>\n",
              "      <td>[BP]</td>\n",
              "    </tr>\n",
              "    <tr>\n",
              "      <th>29</th>\n",
              "      <td>{'$oid': '657bcda133b24092d082627f'}</td>\n",
              "      <td>Female soccer fans in Iran allowed into Tehran...</td>\n",
              "      <td>TEHRAN, Iran (AP) — Female soccer fans in Iran...</td>\n",
              "      <td>TEHRAN, Iran (AP) — Female soccer fans in Iran...</td>\n",
              "      <td>{'FromDescription': ['win thursday', 'small wi...</td>\n",
              "      <td>{'TitleRaw': 'Female soccer fans in Iran allow...</td>\n",
              "      <td>{'FromDescription': [{'Position': 0, 'Text': '...</td>\n",
              "      <td>[200]</td>\n",
              "      <td>[FIFA]</td>\n",
              "    </tr>\n",
              "    <tr>\n",
              "      <th>30</th>\n",
              "      <td>{'$oid': '657b77adc088a3845bd8bad3'}</td>\n",
              "      <td>New York Times editor wanted to attach TRIGGER...</td>\n",
              "      <td>Cotton's piece - titled 'Send In the Troops' -...</td>\n",
              "      <td>He claims conservative voices were 'despised' ...</td>\n",
              "      <td>{'FromDescription': ['tackle criminal', 'crimi...</td>\n",
              "      <td>{'TitleRaw': 'New York Times editor wanted to ...</td>\n",
              "      <td>{'FromDescription': [{'Position': 0, 'Text': '...</td>\n",
              "      <td>[200, 600]</td>\n",
              "      <td>[The New York Times]</td>\n",
              "    </tr>\n",
              "    <tr>\n",
              "      <th>31</th>\n",
              "      <td>{'$oid': '657b777bc088a3845bd8b9fc'}</td>\n",
              "      <td>Gary Lineker is 'dancing on the edge' of the B...</td>\n",
              "      <td>Gary Lineker is 'dancing on the edge' of the B...</td>\n",
              "      <td>Gary Lineker is 'dancing on the edge' of the B...</td>\n",
              "      <td>{'FromDescription': ['grant shapps', 'taunting...</td>\n",
              "      <td>{'TitleRaw': 'Gary Lineker is 'dancing on the ...</td>\n",
              "      <td>{'FromDescription': [{'Position': 45, 'Text': ...</td>\n",
              "      <td>[200]</td>\n",
              "      <td>[BBC]</td>\n",
              "    </tr>\n",
              "    <tr>\n",
              "      <th>32</th>\n",
              "      <td>{'$oid': '657b775dc088a3845bd8b96a'}</td>\n",
              "      <td>GM's Cruise laying off 900 employees, or 24% o...</td>\n",
              "      <td>General Motors' Cruise on Thursday announced i...</td>\n",
              "      <td>General Motors' Cruise on Thursday announced i...</td>\n",
              "      <td>{'FromDescription': ['general motors'', 'motor...</td>\n",
              "      <td>{'TitleRaw': 'GM's Cruise laying off 900 emplo...</td>\n",
              "      <td>{'FromDescription': [{'Position': 0, 'Text': '...</td>\n",
              "      <td>[200]</td>\n",
              "      <td>[GM]</td>\n",
              "    </tr>\n",
              "    <tr>\n",
              "      <th>33</th>\n",
              "      <td>{'$oid': '657b77c7c088a3845bd8bb0e'}</td>\n",
              "      <td>Microsoft Signs One of Largest To-date Biochar...</td>\n",
              "      <td>Carbon removal solutions provider Carbonfuture...</td>\n",
              "      <td>Carbon removal solutions provider Carbonfuture...</td>\n",
              "      <td>{'FromDescription': ['exomad green', 'bolivia-...</td>\n",
              "      <td>{'TitleRaw': 'Microsoft Signs One of Largest T...</td>\n",
              "      <td>{'FromDescription': [{'Position': 34, 'Text': ...</td>\n",
              "      <td>[400]</td>\n",
              "      <td>[Microsoft]</td>\n",
              "    </tr>\n",
              "    <tr>\n",
              "      <th>34</th>\n",
              "      <td>{'$oid': '657b77f3c088a3845bd8bbe9'}</td>\n",
              "      <td>Airbnb ramps up federal lobbying efforts amid ...</td>\n",
              "      <td>(Photo by Dilara Irem Sancar/Anadolu via Getty...</td>\n",
              "      <td>In this photo illustration, a magnifier is see...</td>\n",
              "      <td>{'FromDescription': ['irem sancar', 'getty ima...</td>\n",
              "      <td>{'TitleRaw': 'Airbnb ramps up federal lobbying...</td>\n",
              "      <td>{'FromDescription': [{'Position': 29, 'Text': ...</td>\n",
              "      <td>[600]</td>\n",
              "      <td>[Airbnb]</td>\n",
              "    </tr>\n",
              "    <tr>\n",
              "      <th>35</th>\n",
              "      <td>{'$oid': '657b22115ca86d764adbb2ef'}</td>\n",
              "      <td>What Walmart Did to Make Stores Autism-Friendly</td>\n",
              "      <td>Businesses are creating calm spaces for custom...</td>\n",
              "      <td>None</td>\n",
              "      <td>{'FromDescription': [], 'FromTitle': ['make st...</td>\n",
              "      <td>{'TitleRaw': 'What Walmart Did to Make Stores ...</td>\n",
              "      <td>{'FromDescription': None, 'FromTitle': [{'Posi...</td>\n",
              "      <td>[300]</td>\n",
              "      <td>[Walmart]</td>\n",
              "    </tr>\n",
              "    <tr>\n",
              "      <th>36</th>\n",
              "      <td>{'$oid': '657b220d5ca86d764adbb2ea'}</td>\n",
              "      <td>Oklahoma Finds It Hard to Break Up With JPMorg...</td>\n",
              "      <td>State officials and pension employees are seek...</td>\n",
              "      <td>None</td>\n",
              "      <td>{'FromDescription': [], 'FromTitle': ['oklahom...</td>\n",
              "      <td>{'TitleRaw': 'Oklahoma Finds It Hard to Break ...</td>\n",
              "      <td>{'FromDescription': None, 'FromTitle': [{'Posi...</td>\n",
              "      <td>[600]</td>\n",
              "      <td>[BlackRock]</td>\n",
              "    </tr>\n",
              "    <tr>\n",
              "      <th>37</th>\n",
              "      <td>{'$oid': '657b21a35ca86d764adbb143'}</td>\n",
              "      <td>Diesel drivers are paying 15 times more to par...</td>\n",
              "      <td>Drivers of diesel cars in a London borough hav...</td>\n",
              "      <td>Drivers of diesel cars in a London borough hav...</td>\n",
              "      <td>{'FromDescription': ['royal borough', 'diesel ...</td>\n",
              "      <td>{'TitleRaw': 'Diesel drivers are paying 15 tim...</td>\n",
              "      <td>{'FromDescription': [{'Position': 28, 'Text': ...</td>\n",
              "      <td>[400]</td>\n",
              "      <td>[Diesel]</td>\n",
              "    </tr>\n",
              "    <tr>\n",
              "      <th>38</th>\n",
              "      <td>{'$oid': '657b21a35ca86d764adbb148'}</td>\n",
              "      <td>Senior white men recruited for jobs at multina...</td>\n",
              "      <td>Some 5 per cent of the firm's overall roles ar...</td>\n",
              "      <td>The boss of Aviva has revealed senior white ma...</td>\n",
              "      <td>{'FromDescription': ['senior leaders', 'mrs bl...</td>\n",
              "      <td>{'TitleRaw': 'Senior white men recruited for j...</td>\n",
              "      <td>{'FromDescription': [{'Position': 164, 'Text':...</td>\n",
              "      <td>[200, 300]</td>\n",
              "      <td>[Aviva]</td>\n",
              "    </tr>\n",
              "    <tr>\n",
              "      <th>39</th>\n",
              "      <td>{'$oid': '657b21f05ca86d764adbb26b'}</td>\n",
              "      <td>Tesco recalls Christmas stuffing due to ‘possi...</td>\n",
              "      <td>Read our privacy notice Thanks for signing up ...</td>\n",
              "      <td>Get the free Morning Headlines email for news ...</td>\n",
              "      <td>{'FromDescription': ['headlines email', 'themo...</td>\n",
              "      <td>{'TitleRaw': 'Tesco recalls Christmas stuffing...</td>\n",
              "      <td>{'FromDescription': [{'Position': 214, 'Text':...</td>\n",
              "      <td>[500]</td>\n",
              "      <td>[Tesco]</td>\n",
              "    </tr>\n",
              "    <tr>\n",
              "      <th>40</th>\n",
              "      <td>{'$oid': '657acc3bb671da969c62f904'}</td>\n",
              "      <td>BP said former Chief Executive Bernard Looney ...</td>\n",
              "      <td>BP said former Chief Executive Bernard Looney ...</td>\n",
              "      <td>None</td>\n",
              "      <td>{'FromDescription': [], 'FromTitle': ['chief e...</td>\n",
              "      <td>{'TitleRaw': 'BP said former Chief Executive B...</td>\n",
              "      <td>{'FromDescription': [{'Position': 0, 'Text': '...</td>\n",
              "      <td>[200]</td>\n",
              "      <td>[BP]</td>\n",
              "    </tr>\n",
              "    <tr>\n",
              "      <th>41</th>\n",
              "      <td>{'$oid': '657a765bd4010286b16f0d11'}</td>\n",
              "      <td>Disgraced former BP boss Bernard Looney forfei...</td>\n",
              "      <td>BP last night concluded former chief executive...</td>\n",
              "      <td>BP last night concluded former chief executive...</td>\n",
              "      <td>{'FromDescription': ['bernard looney', 'execut...</td>\n",
              "      <td>{'TitleRaw': 'Disgraced former BP boss Bernard...</td>\n",
              "      <td>{'FromDescription': [{'Position': 0, 'Text': '...</td>\n",
              "      <td>[600]</td>\n",
              "      <td>[BP]</td>\n",
              "    </tr>\n",
              "    <tr>\n",
              "      <th>42</th>\n",
              "      <td>{'$oid': '657a765bd4010286b16f0d12'}</td>\n",
              "      <td>Aviva chief Amanda Blanc claims sexism is 'amp...</td>\n",
              "      <td>The boss of Aviva has said sexism in the finan...</td>\n",
              "      <td>The boss of Aviva has said sexism in the finan...</td>\n",
              "      <td>{'FromDescription': ['wider society', 'amanda ...</td>\n",
              "      <td>{'TitleRaw': 'Aviva chief Amanda Blanc claims ...</td>\n",
              "      <td>{'FromDescription': [{'Position': 12, 'Text': ...</td>\n",
              "      <td>[200]</td>\n",
              "      <td>[Aviva]</td>\n",
              "    </tr>\n",
              "    <tr>\n",
              "      <th>43</th>\n",
              "      <td>{'$oid': '657a765bd4010286b16f0d17'}</td>\n",
              "      <td>ALEX BRUMMER: BP shows Looney no mercy as he's...</td>\n",
              "      <td>The last to be heard of former BP boss Bernard...</td>\n",
              "      <td>The last to be heard of former BP boss Bernard...</td>\n",
              "      <td>{'FromDescription': ['boss bernard', 'bernard ...</td>\n",
              "      <td>{'TitleRaw': 'ALEX BRUMMER: BP shows Looney no...</td>\n",
              "      <td>{'FromDescription': [{'Position': 31, 'Text': ...</td>\n",
              "      <td>[200]</td>\n",
              "      <td>[BP]</td>\n",
              "    </tr>\n",
              "    <tr>\n",
              "      <th>44</th>\n",
              "      <td>{'$oid': '657a765bd4010286b16f0d19'}</td>\n",
              "      <td>Airbnb agrees to pay Italian authorities £500m...</td>\n",
              "      <td>Airbnb is to hand over almost £500million to I...</td>\n",
              "      <td>Airbnb is to hand over almost £500million to I...</td>\n",
              "      <td>{'FromDescription': ['italian authorities', 't...</td>\n",
              "      <td>{'TitleRaw': 'Airbnb agrees to pay Italian aut...</td>\n",
              "      <td>{'FromDescription': [{'Position': 0, 'Text': '...</td>\n",
              "      <td>[600]</td>\n",
              "      <td>[Airbnb]</td>\n",
              "    </tr>\n",
              "    <tr>\n",
              "      <th>45</th>\n",
              "      <td>{'$oid': '657a208545315628bda2d2d2'}</td>\n",
              "      <td>British Museum deputy chief QUITS amid row ove...</td>\n",
              "      <td>It comes after an estimated 2,000 items from t...</td>\n",
              "      <td>None</td>\n",
              "      <td>{'FromDescription': [], 'FromTitle': ['jonatha...</td>\n",
              "      <td>{'TitleRaw': 'British Museum deputy chief QUIT...</td>\n",
              "      <td>{'FromDescription': None, 'FromTitle': [{'Posi...</td>\n",
              "      <td>[600]</td>\n",
              "      <td>[eBay]</td>\n",
              "    </tr>\n",
              "    <tr>\n",
              "      <th>46</th>\n",
              "      <td>{'$oid': '657a206745315628bda2d227'}</td>\n",
              "      <td>Gary Lineker probably breached social media gu...</td>\n",
              "      <td>Gary Lineker probably breached the BBC's socia...</td>\n",
              "      <td>Gary Lineker probably breached the BBC's socia...</td>\n",
              "      <td>{'FromDescription': ['grant shapps', 'rwanda s...</td>\n",
              "      <td>{'TitleRaw': 'Gary Lineker probably breached s...</td>\n",
              "      <td>{'FromDescription': [{'Position': 35, 'Text': ...</td>\n",
              "      <td>[]</td>\n",
              "      <td>[BBC]</td>\n",
              "    </tr>\n",
              "    <tr>\n",
              "      <th>47</th>\n",
              "      <td>{'$oid': '657a20e345315628bda2d439'}</td>\n",
              "      <td>Former BP boss stripped of £32m for 'misleadin...</td>\n",
              "      <td>The former boss of BP will forfeit more than £...</td>\n",
              "      <td>The former boss of BP will forfeit more than £...</td>\n",
              "      <td>{'FromDescription': ['potential pay', 'workpla...</td>\n",
              "      <td>{'TitleRaw': 'Former BP boss stripped of £32m ...</td>\n",
              "      <td>{'FromDescription': [{'Position': 19, 'Text': ...</td>\n",
              "      <td>[200]</td>\n",
              "      <td>[BP]</td>\n",
              "    </tr>\n",
              "    <tr>\n",
              "      <th>48</th>\n",
              "      <td>{'$oid': '6579cacf706b2b5613a683c3'}</td>\n",
              "      <td>Gary Lineker tweets mocking Tory MPs likely br...</td>\n",
              "      <td>Read our privacy notice Thanks for signing up ...</td>\n",
              "      <td>Sign up for the View from Westminster email fo...</td>\n",
              "      <td>{'FromDescription': ['westminster email', 'ver...</td>\n",
              "      <td>{'TitleRaw': 'Gary Lineker tweets mocking Tory...</td>\n",
              "      <td>{'FromDescription': [{'Position': 62, 'Text': ...</td>\n",
              "      <td>[600]</td>\n",
              "      <td>[BBC]</td>\n",
              "    </tr>\n",
              "    <tr>\n",
              "      <th>49</th>\n",
              "      <td>{'$oid': '6579ca6e706b2b5613a68224'}</td>\n",
              "      <td>Epic Games CEO Tim Sweeney on why the company ...</td>\n",
              "      <td>A federal court jury decided late Monday that ...</td>\n",
              "      <td>A federal court jury decided late Monday that ...</td>\n",
              "      <td>{'FromDescription': ['late monday', 'google pl...</td>\n",
              "      <td>{'TitleRaw': 'Epic Games CEO Tim Sweeney on wh...</td>\n",
              "      <td>{'FromDescription': [{'Position': 46, 'Text': ...</td>\n",
              "      <td>[600]</td>\n",
              "      <td>[Epic Games]</td>\n",
              "    </tr>\n",
              "    <tr>\n",
              "      <th>50</th>\n",
              "      <td>{'$oid': '6579ca85706b2b5613a682af'}</td>\n",
              "      <td>Kind-hearted teenager sets up a 'present bank'...</td>\n",
              "      <td>A kind-hearted schoolboy is opening a Christma...</td>\n",
              "      <td>A kind-hearted schoolboy is opening a Christma...</td>\n",
              "      <td>{'FromDescription': ['christmas present', 'kin...</td>\n",
              "      <td>{'TitleRaw': 'Kind-hearted teenager sets up a ...</td>\n",
              "      <td>{'FromDescription': [{'Position': 178, 'Text':...</td>\n",
              "      <td>[]</td>\n",
              "      <td>[Aldi]</td>\n",
              "    </tr>\n",
              "    <tr>\n",
              "      <th>51</th>\n",
              "      <td>{'$oid': '6579caeb706b2b5613a68432'}</td>\n",
              "      <td>Gary Lineker post about Grant Shapps appears t...</td>\n",
              "      <td>Gary Lineker's social media post about Defence...</td>\n",
              "      <td>Gary Lineker's social media post about Defence...</td>\n",
              "      <td>{'FromDescription': ['defence secretary', 'sec...</td>\n",
              "      <td>{'TitleRaw': 'Gary Lineker post about Grant Sh...</td>\n",
              "      <td>{'FromDescription': [{'Position': 39, 'Text': ...</td>\n",
              "      <td>[200]</td>\n",
              "      <td>[BBC]</td>\n",
              "    </tr>\n",
              "    <tr>\n",
              "      <th>52</th>\n",
              "      <td>{'$oid': '6579cae6706b2b5613a6842b'}</td>\n",
              "      <td>Visa and Mastercard facing UK cap on 'unduly h...</td>\n",
              "      <td>Visa and Mastercard are facing the prospect of...</td>\n",
              "      <td>Visa and Mastercard are facing the prospect of...</td>\n",
              "      <td>{'FromDescription': ['continental europe', 'in...</td>\n",
              "      <td>{'TitleRaw': 'Visa and Mastercard facing UK ca...</td>\n",
              "      <td>{'FromDescription': [{'Position': 0, 'Text': '...</td>\n",
              "      <td>[600]</td>\n",
              "      <td>[Visa Inc.]</td>\n",
              "    </tr>\n",
              "    <tr>\n",
              "      <th>53</th>\n",
              "      <td>{'$oid': '6579751ba2b9bca0e804b3b1'}</td>\n",
              "      <td>The U.K. competition authority launched a prob...</td>\n",
              "      <td>The U.K. competition authority launched a prob...</td>\n",
              "      <td>None</td>\n",
              "      <td>{'FromDescription': [], 'FromTitle': ['owner u...</td>\n",
              "      <td>{'TitleRaw': 'The U.K. competition authority l...</td>\n",
              "      <td>{'FromDescription': [{'Position': 4, 'Text': '...</td>\n",
              "      <td>[400]</td>\n",
              "      <td>[Unilever]</td>\n",
              "    </tr>\n",
              "    <tr>\n",
              "      <th>54</th>\n",
              "      <td>{'$oid': '65797511a2b9bca0e804b38a'}</td>\n",
              "      <td>Why Volkswagen Is Building a Team of 3,000 Eng...</td>\n",
              "      <td>A bright orange robot, 10 feet tall, looms ove...</td>\n",
              "      <td>A bright orange robot, 10 feet tall, looms ove...</td>\n",
              "      <td>{'FromDescription': ['feet tall', 'central chi...</td>\n",
              "      <td>{'TitleRaw': 'Why Volkswagen Is Building a Tea...</td>\n",
              "      <td>{'FromDescription': [{'Position': 48, 'Text': ...</td>\n",
              "      <td>[700]</td>\n",
              "      <td>[Volkswagen]</td>\n",
              "    </tr>\n",
              "    <tr>\n",
              "      <th>55</th>\n",
              "      <td>{'$oid': '65791f0024e6053b997ed20d'}</td>\n",
              "      <td>Tata: Doubt over Port Talbot's ability to make...</td>\n",
              "      <td>\"We're going to be doing a lot more in terms o...</td>\n",
              "      <td>\"We're going to be doing a lot more in terms o...</td>\n",
              "      <td>{'FromDescription': ['supply chain', 'chain ba...</td>\n",
              "      <td>{'TitleRaw': 'Tata: Doubt over Port Talbot's a...</td>\n",
              "      <td>{'FromDescription': None, 'FromTitle': [{'Posi...</td>\n",
              "      <td>[200]</td>\n",
              "      <td>[TATA group]</td>\n",
              "    </tr>\n",
              "    <tr>\n",
              "      <th>56</th>\n",
              "      <td>{'$oid': '65791f2e24e6053b997ed2c3'}</td>\n",
              "      <td>Unilever probed over green claims: Britain's w...</td>\n",
              "      <td>Unilever is under investigation over claims it...</td>\n",
              "      <td>Unilever is under investigation over claims it...</td>\n",
              "      <td>{'FromDescription': ['misleading customers', '...</td>\n",
              "      <td>{'TitleRaw': 'Unilever probed over green claim...</td>\n",
              "      <td>{'FromDescription': [{'Position': 0, 'Text': '...</td>\n",
              "      <td>[600]</td>\n",
              "      <td>[Unilever]</td>\n",
              "    </tr>\n",
              "    <tr>\n",
              "      <th>57</th>\n",
              "      <td>{'$oid': '65791f3624e6053b997ed32d'}</td>\n",
              "      <td>'We can't pull over on a CLOUD!' Boeing parts ...</td>\n",
              "      <td>Boeing is facing calls to ditch its demand tha...</td>\n",
              "      <td>Boeing is facing calls to ditch its demand tha...</td>\n",
              "      <td>{'FromDescription': ['facing calls', 'mechanic...</td>\n",
              "      <td>{'TitleRaw': ''We can't pull over on a CLOUD!'...</td>\n",
              "      <td>{'FromDescription': [{'Position': 0, 'Text': '...</td>\n",
              "      <td>[200]</td>\n",
              "      <td>[Boeing]</td>\n",
              "    </tr>\n",
              "    <tr>\n",
              "      <th>58</th>\n",
              "      <td>{'$oid': '65791f2e24e6053b997ed2c6'}</td>\n",
              "      <td>ALEX BRUMMER: Regulators lift their game as BT...</td>\n",
              "      <td>As a connoisseur of BT’s unscrupulous and ofte...</td>\n",
              "      <td>Did someone put a stimulant in their tea? Or w...</td>\n",
              "      <td>{'FromDescription': ['pricing policy', 'bit su...</td>\n",
              "      <td>{'TitleRaw': 'ALEX BRUMMER: Regulators lift th...</td>\n",
              "      <td>{'FromDescription': [{'Position': 20, 'Text': ...</td>\n",
              "      <td>[200, 600]</td>\n",
              "      <td>[Unilever]</td>\n",
              "    </tr>\n",
              "    <tr>\n",
              "      <th>59</th>\n",
              "      <td>{'$oid': '65791f5324e6053b997ed392'}</td>\n",
              "      <td>Is the EV revolution losing its spark? Ford an...</td>\n",
              "      <td>CEO Jim Farley said earlier this month that in...</td>\n",
              "      <td>Even with the reduced target it will still mak...</td>\n",
              "      <td>{'FromDescription': ['ceo jim', 'jim farley', ...</td>\n",
              "      <td>{'TitleRaw': 'Is the EV revolution losing its ...</td>\n",
              "      <td>{'FromDescription': [{'Position': 109, 'Text':...</td>\n",
              "      <td>[400]</td>\n",
              "      <td>[Ford]</td>\n",
              "    </tr>\n",
              "  </tbody>\n",
              "</table>\n",
              "</div>\n",
              "    <div class=\"colab-df-buttons\">\n",
              "\n",
              "  <div class=\"colab-df-container\">\n",
              "    <button class=\"colab-df-convert\" onclick=\"convertToInteractive('df-b39712e4-6be2-4e36-ac4a-a9bfc492aa1c')\"\n",
              "            title=\"Convert this dataframe to an interactive table.\"\n",
              "            style=\"display:none;\">\n",
              "\n",
              "  <svg xmlns=\"http://www.w3.org/2000/svg\" height=\"24px\" viewBox=\"0 -960 960 960\">\n",
              "    <path d=\"M120-120v-720h720v720H120Zm60-500h600v-160H180v160Zm220 220h160v-160H400v160Zm0 220h160v-160H400v160ZM180-400h160v-160H180v160Zm440 0h160v-160H620v160ZM180-180h160v-160H180v160Zm440 0h160v-160H620v160Z\"/>\n",
              "  </svg>\n",
              "    </button>\n",
              "\n",
              "  <style>\n",
              "    .colab-df-container {\n",
              "      display:flex;\n",
              "      gap: 12px;\n",
              "    }\n",
              "\n",
              "    .colab-df-convert {\n",
              "      background-color: #E8F0FE;\n",
              "      border: none;\n",
              "      border-radius: 50%;\n",
              "      cursor: pointer;\n",
              "      display: none;\n",
              "      fill: #1967D2;\n",
              "      height: 32px;\n",
              "      padding: 0 0 0 0;\n",
              "      width: 32px;\n",
              "    }\n",
              "\n",
              "    .colab-df-convert:hover {\n",
              "      background-color: #E2EBFA;\n",
              "      box-shadow: 0px 1px 2px rgba(60, 64, 67, 0.3), 0px 1px 3px 1px rgba(60, 64, 67, 0.15);\n",
              "      fill: #174EA6;\n",
              "    }\n",
              "\n",
              "    .colab-df-buttons div {\n",
              "      margin-bottom: 4px;\n",
              "    }\n",
              "\n",
              "    [theme=dark] .colab-df-convert {\n",
              "      background-color: #3B4455;\n",
              "      fill: #D2E3FC;\n",
              "    }\n",
              "\n",
              "    [theme=dark] .colab-df-convert:hover {\n",
              "      background-color: #434B5C;\n",
              "      box-shadow: 0px 1px 3px 1px rgba(0, 0, 0, 0.15);\n",
              "      filter: drop-shadow(0px 1px 2px rgba(0, 0, 0, 0.3));\n",
              "      fill: #FFFFFF;\n",
              "    }\n",
              "  </style>\n",
              "\n",
              "    <script>\n",
              "      const buttonEl =\n",
              "        document.querySelector('#df-b39712e4-6be2-4e36-ac4a-a9bfc492aa1c button.colab-df-convert');\n",
              "      buttonEl.style.display =\n",
              "        google.colab.kernel.accessAllowed ? 'block' : 'none';\n",
              "\n",
              "      async function convertToInteractive(key) {\n",
              "        const element = document.querySelector('#df-b39712e4-6be2-4e36-ac4a-a9bfc492aa1c');\n",
              "        const dataTable =\n",
              "          await google.colab.kernel.invokeFunction('convertToInteractive',\n",
              "                                                    [key], {});\n",
              "        if (!dataTable) return;\n",
              "\n",
              "        const docLinkHtml = 'Like what you see? Visit the ' +\n",
              "          '<a target=\"_blank\" href=https://colab.research.google.com/notebooks/data_table.ipynb>data table notebook</a>'\n",
              "          + ' to learn more about interactive tables.';\n",
              "        element.innerHTML = '';\n",
              "        dataTable['output_type'] = 'display_data';\n",
              "        await google.colab.output.renderOutput(dataTable, element);\n",
              "        const docLink = document.createElement('div');\n",
              "        docLink.innerHTML = docLinkHtml;\n",
              "        element.appendChild(docLink);\n",
              "      }\n",
              "    </script>\n",
              "  </div>\n",
              "\n",
              "\n",
              "<div id=\"df-772ae392-39e4-4272-9b88-0f870c1d13da\">\n",
              "  <button class=\"colab-df-quickchart\" onclick=\"quickchart('df-772ae392-39e4-4272-9b88-0f870c1d13da')\"\n",
              "            title=\"Suggest charts\"\n",
              "            style=\"display:none;\">\n",
              "\n",
              "<svg xmlns=\"http://www.w3.org/2000/svg\" height=\"24px\"viewBox=\"0 0 24 24\"\n",
              "     width=\"24px\">\n",
              "    <g>\n",
              "        <path d=\"M19 3H5c-1.1 0-2 .9-2 2v14c0 1.1.9 2 2 2h14c1.1 0 2-.9 2-2V5c0-1.1-.9-2-2-2zM9 17H7v-7h2v7zm4 0h-2V7h2v10zm4 0h-2v-4h2v4z\"/>\n",
              "    </g>\n",
              "</svg>\n",
              "  </button>\n",
              "\n",
              "<style>\n",
              "  .colab-df-quickchart {\n",
              "      --bg-color: #E8F0FE;\n",
              "      --fill-color: #1967D2;\n",
              "      --hover-bg-color: #E2EBFA;\n",
              "      --hover-fill-color: #174EA6;\n",
              "      --disabled-fill-color: #AAA;\n",
              "      --disabled-bg-color: #DDD;\n",
              "  }\n",
              "\n",
              "  [theme=dark] .colab-df-quickchart {\n",
              "      --bg-color: #3B4455;\n",
              "      --fill-color: #D2E3FC;\n",
              "      --hover-bg-color: #434B5C;\n",
              "      --hover-fill-color: #FFFFFF;\n",
              "      --disabled-bg-color: #3B4455;\n",
              "      --disabled-fill-color: #666;\n",
              "  }\n",
              "\n",
              "  .colab-df-quickchart {\n",
              "    background-color: var(--bg-color);\n",
              "    border: none;\n",
              "    border-radius: 50%;\n",
              "    cursor: pointer;\n",
              "    display: none;\n",
              "    fill: var(--fill-color);\n",
              "    height: 32px;\n",
              "    padding: 0;\n",
              "    width: 32px;\n",
              "  }\n",
              "\n",
              "  .colab-df-quickchart:hover {\n",
              "    background-color: var(--hover-bg-color);\n",
              "    box-shadow: 0 1px 2px rgba(60, 64, 67, 0.3), 0 1px 3px 1px rgba(60, 64, 67, 0.15);\n",
              "    fill: var(--button-hover-fill-color);\n",
              "  }\n",
              "\n",
              "  .colab-df-quickchart-complete:disabled,\n",
              "  .colab-df-quickchart-complete:disabled:hover {\n",
              "    background-color: var(--disabled-bg-color);\n",
              "    fill: var(--disabled-fill-color);\n",
              "    box-shadow: none;\n",
              "  }\n",
              "\n",
              "  .colab-df-spinner {\n",
              "    border: 2px solid var(--fill-color);\n",
              "    border-color: transparent;\n",
              "    border-bottom-color: var(--fill-color);\n",
              "    animation:\n",
              "      spin 1s steps(1) infinite;\n",
              "  }\n",
              "\n",
              "  @keyframes spin {\n",
              "    0% {\n",
              "      border-color: transparent;\n",
              "      border-bottom-color: var(--fill-color);\n",
              "      border-left-color: var(--fill-color);\n",
              "    }\n",
              "    20% {\n",
              "      border-color: transparent;\n",
              "      border-left-color: var(--fill-color);\n",
              "      border-top-color: var(--fill-color);\n",
              "    }\n",
              "    30% {\n",
              "      border-color: transparent;\n",
              "      border-left-color: var(--fill-color);\n",
              "      border-top-color: var(--fill-color);\n",
              "      border-right-color: var(--fill-color);\n",
              "    }\n",
              "    40% {\n",
              "      border-color: transparent;\n",
              "      border-right-color: var(--fill-color);\n",
              "      border-top-color: var(--fill-color);\n",
              "    }\n",
              "    60% {\n",
              "      border-color: transparent;\n",
              "      border-right-color: var(--fill-color);\n",
              "    }\n",
              "    80% {\n",
              "      border-color: transparent;\n",
              "      border-right-color: var(--fill-color);\n",
              "      border-bottom-color: var(--fill-color);\n",
              "    }\n",
              "    90% {\n",
              "      border-color: transparent;\n",
              "      border-bottom-color: var(--fill-color);\n",
              "    }\n",
              "  }\n",
              "</style>\n",
              "\n",
              "  <script>\n",
              "    async function quickchart(key) {\n",
              "      const quickchartButtonEl =\n",
              "        document.querySelector('#' + key + ' button');\n",
              "      quickchartButtonEl.disabled = true;  // To prevent multiple clicks.\n",
              "      quickchartButtonEl.classList.add('colab-df-spinner');\n",
              "      try {\n",
              "        const charts = await google.colab.kernel.invokeFunction(\n",
              "            'suggestCharts', [key], {});\n",
              "      } catch (error) {\n",
              "        console.error('Error during call to suggestCharts:', error);\n",
              "      }\n",
              "      quickchartButtonEl.classList.remove('colab-df-spinner');\n",
              "      quickchartButtonEl.classList.add('colab-df-quickchart-complete');\n",
              "    }\n",
              "    (() => {\n",
              "      let quickchartButtonEl =\n",
              "        document.querySelector('#df-772ae392-39e4-4272-9b88-0f870c1d13da button');\n",
              "      quickchartButtonEl.style.display =\n",
              "        google.colab.kernel.accessAllowed ? 'block' : 'none';\n",
              "    })();\n",
              "  </script>\n",
              "</div>\n",
              "    </div>\n",
              "  </div>\n"
            ],
            "application/vnd.google.colaboratory.intrinsic+json": {
              "type": "dataframe",
              "variable_name": "important_data_df",
              "summary": "{\n  \"name\": \"important_data_df\",\n  \"rows\": 60,\n  \"fields\": [\n    {\n      \"column\": \"_id\",\n      \"properties\": {\n        \"dtype\": \"object\",\n        \"semantic_type\": \"\",\n        \"description\": \"\"\n      }\n    },\n    {\n      \"column\": \"Title\",\n      \"properties\": {\n        \"dtype\": \"string\",\n        \"num_unique_values\": 60,\n        \"samples\": [\n          \"BBC is urged to sack UK's Eurovision entrant Olly Alexander as it emerges he signed letter calling Israel an 'apartheid regime' and accusing Jewish state of 'genocide'\",\n          \"BBC's Nihal Arthanayake says he saw 'a lack of diversity in my workplace over a long period of time' - weeks after Radio 5 Live presenter said working at the 'overwhelmingly white' Beeb was bad for hi\",\n          \"Oklahoma Finds It Hard to Break Up With JPMorgan and BlackRock\"\n        ],\n        \"semantic_type\": \"\",\n        \"description\": \"\"\n      }\n    },\n    {\n      \"column\": \"Description\",\n      \"properties\": {\n        \"dtype\": \"string\",\n        \"num_unique_values\": 60,\n        \"samples\": [\n          \"The BBC is being urged to drop singer Olly Alexander as its entrant for Eurovision after it emerged he signed a letter calling Israel an 'apartheid regime'.\\nThe BBC is not planning on taking any action as the singer signed the letter weeks before he was unveiled as the UK's Eurovision act, the Telegraph reported.\\n'Current events simply are an escalation of the state of Israel's apartheid regime, which acts to ethnically cleanse the land.\\n'Maybe it's time to stop letting the BBC decide who represents the UK at Eurovision.'\\nThe UK's first ever Eurovision victory came 11 years after the annual competition launched with Sandie Shaw's Puppet on a String in 1967.\",\n          \"Nihal Arthanayake says he saw 'a lack of diversity in my workplace over a long period of time,' weeks after the Radio 5 Live presenter said working at the 'overwhelmingly white' BBC was bad for his mental health.\\nThe 52-year-old presenter posted on X, formerly known as Twitter, that the 'lack of diversity' at the publicly-funded broadcaster was 'isolating and lonely'.\\nArthanayake, who is of Sri Lankan descent, told the conference: 'It's really affecting me that I walk in and all I see is white people.'\\nBut Arthanayake responded by saying: 'Some white people have been seeing our colour and treating us accordingly ever since we got here'.\\nFollowing the interview, Cheryl Varley, a BBC Radio 5 Live producer, said the organisation is committed to tackling the lack of diversity in its newsrooms.\",\n          \"State officials and pension employees are seeking exemptions to an anti-ESG law.\"\n        ],\n        \"semantic_type\": \"\",\n        \"description\": \"\"\n      }\n    },\n    {\n      \"column\": \"Content\",\n      \"properties\": {\n        \"dtype\": \"string\",\n        \"num_unique_values\": 53,\n        \"samples\": [\n          \"A federal agency is seeking to force Starbucks to reopen 23 stores that were allegedly shuttered last year in order to discourage a nationwide union campaign.\\n\\nIn a complaint issued on Wednesday by the National Labor Relations Board, it states that Starbucks closed the stores without prior notice to Workers United.\\n\\nSpecifically, the agency claims that Starbucks shuttered cafes due to employees engaging in union activities.\\n\\nThe agency is now seeking an order that would require Starbucks to immediately reopen the 23 stores and re-hire employees.\\n\\nStates affected by the 23 closures include Washington, Colorado, California, Missouri and Illinois.\\n\\nStarbucks has denied any wrongdoing and said it respects workers' rights to choose whether to unionize.\\n\\nIn a complaint issued on Wednesday by the National Labor Relations Board, it states that Starbucks closed the stores without prior notice to Workers United\\n\\nThe agency claims that Starbucks shuttered cafes due to employees engaging in union activities. Employees and supporters are pictured here linking arms during a union party\\n\\nAs well as reopening stores and re-hiring employees, the agency is asking the company to negotiate with stores that have unionized and provide compensation to workers who lost pay and benefits.\\n\\nThe case will be heard by an administrative judge, whose decision can be appealed to the five-member NLRB and then to a federal appeals court.\\n\\nAccording to NBC Los Angeles, six cafes in southern California were referenced in the complaint.\\n\\nKUOW also reported that seven of the stores alluded to in the findings were all in Seattle, where the coffee giant is headquartered.\\n\\nThe Philadelphia Inquirer also highlighted one store in the city that could be reopened.\\n\\nOther states affected by the 23 closures include Washington, Colorado, California, Missouri and Illinois\\n\\nA Starbucks representative told The New York Times: 'Each year, as a standard course of business, we evaluate the store portfolio' and typically open, close or alter stores.'\\n\\nThe company told the paper it opened hundreds of new stores last year and closed more than 100, of which about three percent were unionized.\\n\\nThe labor board has issued over 100 complaints covering hundreds of accusations of illegal behavior by Starbucks.\\n\\nJudges have ruled against the company over 30 times, but Starbucks have appealed these decisions.\\n\\nStates affected by the 23 closures include Washington, Colorado, California, Missouri and Illinois\\n\\nStates affected by the 23 closures include Washington, Colorado, California, Missouri and Illinois\\n\\nThe complaint came on the same day that Starbucks released a report on its labor practices prepared by an independent consultant, which had been requested by shareholders.\\n\\nThe report found that while there was room for Starbucks to improve its messaging on the union campaign, the company had not adopted 'an anti-union playbook' that involved violating U.S. labor laws.\\n\\nAfter two years of fighting the unionization of its U.S. stores, Starbucks last week said they were committed to bargaining to reach labor agreements next year.\\n\\nIn a letter to Lynne Fox, the president of the Workers United union, Starbucks Chief Partner Officer Sara Kelly said the current bargaining impasse between the two sides 'should not be acceptable to either of us.'\\n\\nKelly asked to restart bargaining in January, writing: 'We will set as an ambition and hopeful goal the completion of bargaining and the ratification of contracts in 2024.'\\n\\nWorkers United said the last bargaining session between the two sides was May 23 of this year.\\n\\nLast Saturday also marked the two-year anniversary of a Starbucks store in Buffalo voting to unionize, becoming the first store to join a union in over three decades.\\n\\nSince then, at least 370 company-owned U.S. Starbucks stores have voted to unionize, according to the National Labor Relations Board.\\n\\nCurrently there are about 9,600 company-owned Starbucks stores throughout the U.S.\\n\\nUnionizing workers say they're seeking higher pay, more consistent schedules and more say in issues like store safety and workload during busy times.\\n\\nPictured: Starbucks Workers United protest outside of a Starbucks store in Dupont Circle in Washington D.C.\\n\\nIn October, the company decided to sue Workers United in federal court and demanded they stop using the name Starbucks Workers United after that group posted a pro-Palestinian message on social media.\\n\\nWorkers United countersued, saying Starbucks defamed the union by suggesting it supports violence. Starbucks said last week the lawsuit was proceeding.\\n\\nThe change in stance from the company over its dealing with Workers United could be down to business reasons.\\n\\nThe company reported record revenue in its fiscal fourth quarter, which ended in September, and its full-year revenue climbed nearly 12 percent to $35.9 Billion.\\n\\nDespite this, Starbucks stock has fallen 10 percent in the lost month, after 5,000 workers at more than 200 unionized stores went on strike.\\n\\nPlacer.ai, an analytics company, said that after a strong fall, U.S. holiday visits to Starbucks appear to be down from a year ago.\",\n          \"The former boss of BP will forfeit more than \\u00a332m in actual and potential pay for misleading its board about workplace relationships, the company has announced.\\n\\nIt comes after Bernard Looney stepped down as the oil giant's chief executive in September following allegations he failed to fully disclose details of romances with colleagues.\\n\\nThe figure is believed to be the largest amount ever forfeited by a former chief executive in the UK.\\n\\nThe 53-year-old was paid more than \\u00a310m in wages, bonuses and other benefits last year.\\n\\nBP previously said it was first alerted to claims about Mr Looney in 2022, but a review found there had been no breach of company rules.\\n\\nThe firm's board said Mr Looney had given assurances \\\"regarding disclosure of past personal relationships, as well as his future behaviour\\\".\\n\\nHowever \\\"further allegations of a similar nature\\\" later emerged and a fresh investigation was launched.\\n\\nA BP spokesperson said: \\\"Following careful consideration, the board has concluded that, in providing inaccurate and incomplete assurances in July 2022, Mr Looney knowingly misled the board.\\n\\n\\\"The board has determined that this amounts to serious misconduct.\\\"\\n\\nAdvertisement\\n\\nThey added Mr Looney had been formally dismissed on Wednesday and \\\"this decision had the effect of bringing Mr Looney's 12-month notice period to an immediate end\\\".\\n\\nIn a statement, Mr Looney said he was \\\"proud of what I achieved with my colleagues\\\" during his time as chief executive.\\n\\nHe added: \\\"It has been an extraordinary privilege to have served a great company for over 32 years, not least because of incredible people with whom I have had the opportunity to work.\\n\\n\\\"I am disappointed the way this situation has been handled. And, as I look to the future, I want to simply wish everyone at BP all the very best. They deserve nothing less.\\\"\\n\\nRead more from business:\\n\\nStruggling fashion site in rescue deal talks\\n\\nUK economy in surprise decline in October\\n\\nTesla recalls more than two million cars\\n\\nBe the first to get Breaking News Install the Sky News app for free\\n\\nBP said Mr Looney \\\"informed the company that he had not been fully transparent\\\" as he resigned in September.\\n\\nThe total of \\u00a332.4m he will forfeit includes salary, pension and bonus payments, along with share awards, the company said.\\n\\nIt will also \\\"claw back\\\" some cash already paid to Mr Looney, including 50% of a bonus paid to him for the 2022 financial year.\\n\\nThe figure is far higher than in similar high-profile cases, such as the \\u00a37.6m that former NatWest boss Dame Alison Rose recently lost out on.\\n\\nPlease use Chrome browser for a more accessible video player 1:26 From September: Looney exit a 'key moment' for BP\\n\\nMr Looney took office in February 2020 with a vow to reinvent the 114-year-old company, including plans for it to achieve zero net emissions by 2050.\\n\\nHe had spent his entire career at BP after joining as an engineer aged 21 back in 1991.\\n\\nFollowing his resignation, BP's chief financial officer Murray Auchincloss was appointed chief executive on an interim basis.\",\n          \"A bright orange robot, 10 feet tall, looms over Volkswagen\\u2019s new electric car assembly line in central China. It was imported from Germany. The factory\\u2019s other 1,074 robots were made in Shanghai.\\n\\nVolkswagen used to import shock absorbers from Central Europe for cars it makes at Chinese factories. Now it buys them from a company in China for 40 percent less.\\n\\nAfter relying for decades on engineers in Germany to design cars for the Chinese market, Volkswagen has begun hiring for a team of nearly 3,000 Chinese engineers, which will include hundreds transferred from Volkswagen operations elsewhere in China. They will design electric cars at VW\\u2019s industrial complex in Hefei, a city in central China.\\n\\nThe new strategy, which Volkswagen calls \\u201cIn China, for China,\\u201d is another sign of how China\\u2019s commanding lead in electric vehicles has upended global auto making. Chinese car brands are appearing more in Germany and throughout Europe, causing politicians to worry about job losses.\"\n        ],\n        \"semantic_type\": \"\",\n        \"description\": \"\"\n      }\n    },\n    {\n      \"column\": \"Keywords\",\n      \"properties\": {\n        \"dtype\": \"object\",\n        \"semantic_type\": \"\",\n        \"description\": \"\"\n      }\n    },\n    {\n      \"column\": \"ProcessingSteps\",\n      \"properties\": {\n        \"dtype\": \"object\",\n        \"semantic_type\": \"\",\n        \"description\": \"\"\n      }\n    },\n    {\n      \"column\": \"NERs\",\n      \"properties\": {\n        \"dtype\": \"object\",\n        \"semantic_type\": \"\",\n        \"description\": \"\"\n      }\n    },\n    {\n      \"column\": \"QType\",\n      \"properties\": {\n        \"dtype\": \"object\",\n        \"semantic_type\": \"\",\n        \"description\": \"\"\n      }\n    },\n    {\n      \"column\": \"MatchedCompanies\",\n      \"properties\": {\n        \"dtype\": \"object\",\n        \"semantic_type\": \"\",\n        \"description\": \"\"\n      }\n    }\n  ]\n}"
            }
          },
          "metadata": {},
          "execution_count": 44
        }
      ]
    },
    {
      "cell_type": "code",
      "source": [
        "#remove punctuation/ lower casing\n",
        "# pipeline inspired by https://towardsdatascience.com/evaluate-topic-model-in-python-latent-dirichlet-allocation-lda-7d57484bb5d0\n",
        "import re"
      ],
      "metadata": {
        "id": "eqTxLbv0mgr_"
      },
      "execution_count": null,
      "outputs": []
    },
    {
      "cell_type": "code",
      "source": [
        "#remove punctuation\n",
        "important_data_df['Description'] = important_data_df['Description'].map(lambda x: re.sub('[,\\.!?]', \"\", str(x)))\n",
        "important_data_df['Content'] = important_data_df['Content'].map(lambda x: re.sub('[,\\.!?]', \"\", str(x)))"
      ],
      "metadata": {
        "id": "m-QZAK07mguy"
      },
      "execution_count": null,
      "outputs": []
    },
    {
      "cell_type": "code",
      "source": [
        "#lower casing\n",
        "important_data_df['Description'] = important_data_df['Description'].map(lambda x: str(x).lower())\n",
        "important_data_df['Content'] = important_data_df['Content'].map(lambda x: str(x).lower())"
      ],
      "metadata": {
        "id": "LFYj0VirodOJ"
      },
      "execution_count": null,
      "outputs": []
    },
    {
      "cell_type": "code",
      "source": [
        "important_data_df['Content']"
      ],
      "metadata": {
        "colab": {
          "base_uri": "https://localhost:8080/"
        },
        "id": "mEwuBOmnuGdA",
        "outputId": "b828532a-172b-4dfd-dab7-5ca1b57a9b5a"
      },
      "execution_count": null,
      "outputs": [
        {
          "output_type": "execute_result",
          "data": {
            "text/plain": [
              "0     the bbc is being urged to drop singer olly ale...\n",
              "1     olly alexander the uk's new eurovision act has...\n",
              "2     a union representative claims they were barred...\n",
              "3     the duke invited a gun smuggler and an alleged...\n",
              "4     airbnb is set to use artificial intelligence t...\n",
              "5     nihal arthanayake says he saw 'a lack of diver...\n",
              "6     two women have emerged as front-runners to tak...\n",
              "7     a top tesla executive has revealed the company...\n",
              "8     detroit – general motors has cut the size of i...\n",
              "9     get the free morning headlines email for news ...\n",
              "10    the british museum is to extend its 27-year-lo...\n",
              "11    \"investigations also determined that carrefour...\n",
              "12    sadiq khan signed an agreement to promote unit...\n",
              "13    amazon is running a competition to give its br...\n",
              "14    global alternative asset and private equity in...\n",
              "15    oil giant bp has paused all of its tanker jour...\n",
              "16    a growing number of companies including bp hav...\n",
              "17    even the most diehard city watchers could be f...\n",
              "18                                                 none\n",
              "19                                                 none\n",
              "20    the bbc has launched a sexual harassment probe...\n",
              "21    a federal agency is seeking to force starbucks...\n",
              "22    recommendation of draft task force report unde...\n",
              "23    in this article gm follow your favorite stocks...\n",
              "24    at night in this village near the assua river ...\n",
              "25    volunteer organizer elizabeth fernandez holds ...\n",
              "26    court documents show cruise could be fined abo...\n",
              "27    a group of current and former prisoners are su...\n",
              "28    disgraced ex-bp boss bernard looney said he is...\n",
              "29    tehran iran (ap) — female soccer fans in iran ...\n",
              "30    he claims conservative voices were 'despised' ...\n",
              "31    gary lineker is 'dancing on the edge' of the b...\n",
              "32    general motors' cruise on thursday announced i...\n",
              "33    carbon removal solutions provider carbonfuture...\n",
              "34    in this photo illustration a magnifier is seen...\n",
              "35                                                 none\n",
              "36                                                 none\n",
              "37    drivers of diesel cars in a london borough hav...\n",
              "38    the boss of aviva has revealed senior white ma...\n",
              "39    get the free morning headlines email for news ...\n",
              "40                                                 none\n",
              "41    bp last night concluded former chief executive...\n",
              "42    the boss of aviva has said sexism in the finan...\n",
              "43    the last to be heard of former bp boss bernard...\n",
              "44    airbnb is to hand over almost £500million to i...\n",
              "45                                                 none\n",
              "46    gary lineker probably breached the bbc's socia...\n",
              "47    the former boss of bp will forfeit more than £...\n",
              "48    sign up for the view from westminster email fo...\n",
              "49    a federal court jury decided late monday that ...\n",
              "50    a kind-hearted schoolboy is opening a christma...\n",
              "51    gary lineker's social media post about defence...\n",
              "52    visa and mastercard are facing the prospect of...\n",
              "53                                                 none\n",
              "54    a bright orange robot 10 feet tall looms over ...\n",
              "55    \"we're going to be doing a lot more in terms o...\n",
              "56    unilever is under investigation over claims it...\n",
              "57    boeing is facing calls to ditch its demand tha...\n",
              "58    did someone put a stimulant in their tea or wa...\n",
              "59    even with the reduced target it will still mak...\n",
              "Name: Content, dtype: object"
            ]
          },
          "metadata": {},
          "execution_count": 49
        }
      ]
    },
    {
      "cell_type": "code",
      "source": [
        "data_df['Content']"
      ],
      "metadata": {
        "colab": {
          "base_uri": "https://localhost:8080/"
        },
        "id": "s7hdv61YuMAn",
        "outputId": "795b8063-385b-4903-b8ac-20b403d0d660"
      },
      "execution_count": null,
      "outputs": [
        {
          "output_type": "execute_result",
          "data": {
            "text/plain": [
              "0     The BBC is being urged to drop singer Olly Ale...\n",
              "1     Olly Alexander, the UK's new Eurovision act, h...\n",
              "2     A union representative claims they were barred...\n",
              "3     The Duke invited a gun smuggler and an alleged...\n",
              "4     Airbnb is set to use artificial intelligence t...\n",
              "5     Nihal Arthanayake says he saw 'a lack of diver...\n",
              "6     Two women have emerged as front-runners to tak...\n",
              "7     A top Tesla executive has revealed the company...\n",
              "8     DETROIT – General Motors has cut the size of i...\n",
              "9     Get the free Morning Headlines email for news ...\n",
              "10    The British Museum is to extend its 27-year-lo...\n",
              "11    \"Investigations also determined that Carrefour...\n",
              "12    Sadiq Khan signed an agreement to promote Unit...\n",
              "13    Amazon is running a competition to give its br...\n",
              "14    Global alternative asset and private equity in...\n",
              "15    Oil giant BP has paused all of its tanker jour...\n",
              "16    A growing number of companies, including BP, h...\n",
              "17    Even the most diehard City watchers could be f...\n",
              "18                                                 None\n",
              "19                                                 None\n",
              "20    The BBC has launched a sexual harassment probe...\n",
              "21    A federal agency is seeking to force Starbucks...\n",
              "22    Recommendation of draft Task Force report unde...\n",
              "23    In this article GM Follow your favorite stocks...\n",
              "24    At night, in this village near the Assua River...\n",
              "25    Volunteer organizer Elizabeth Fernandez holds ...\n",
              "26    Court documents show Cruise could be fined abo...\n",
              "27    A group of current and former prisoners are su...\n",
              "28    Disgraced ex-BP boss Bernard Looney said he is...\n",
              "29    TEHRAN, Iran (AP) — Female soccer fans in Iran...\n",
              "30    He claims conservative voices were 'despised' ...\n",
              "31    Gary Lineker is 'dancing on the edge' of the B...\n",
              "32    General Motors' Cruise on Thursday announced i...\n",
              "33    Carbon removal solutions provider Carbonfuture...\n",
              "34    In this photo illustration, a magnifier is see...\n",
              "35                                                 None\n",
              "36                                                 None\n",
              "37    Drivers of diesel cars in a London borough hav...\n",
              "38    The boss of Aviva has revealed senior white ma...\n",
              "39    Get the free Morning Headlines email for news ...\n",
              "40                                                 None\n",
              "41    BP last night concluded former chief executive...\n",
              "42    The boss of Aviva has said sexism in the finan...\n",
              "43    The last to be heard of former BP boss Bernard...\n",
              "44    Airbnb is to hand over almost £500million to I...\n",
              "45                                                 None\n",
              "46    Gary Lineker probably breached the BBC's socia...\n",
              "47    The former boss of BP will forfeit more than £...\n",
              "48    Sign up for the View from Westminster email fo...\n",
              "49    A federal court jury decided late Monday that ...\n",
              "50    A kind-hearted schoolboy is opening a Christma...\n",
              "51    Gary Lineker's social media post about Defence...\n",
              "52    Visa and Mastercard are facing the prospect of...\n",
              "53                                                 None\n",
              "54    A bright orange robot, 10 feet tall, looms ove...\n",
              "55    \"We're going to be doing a lot more in terms o...\n",
              "56    Unilever is under investigation over claims it...\n",
              "57    Boeing is facing calls to ditch its demand tha...\n",
              "58    Did someone put a stimulant in their tea? Or w...\n",
              "59    Even with the reduced target it will still mak...\n",
              "Name: Content, dtype: object"
            ]
          },
          "metadata": {},
          "execution_count": 50
        }
      ]
    },
    {
      "cell_type": "code",
      "source": [
        "#remove stop words\n",
        "import nltk\n",
        "nltk.download('stopwords')\n",
        "from nltk.corpus import stopwords"
      ],
      "metadata": {
        "id": "eyaQz62Anpj4",
        "colab": {
          "base_uri": "https://localhost:8080/"
        },
        "outputId": "0e4347a8-1bf7-4ffb-c2fc-e675ca9d57f4"
      },
      "execution_count": null,
      "outputs": [
        {
          "output_type": "stream",
          "name": "stderr",
          "text": [
            "[nltk_data] Downloading package stopwords to /root/nltk_data...\n",
            "[nltk_data]   Package stopwords is already up-to-date!\n"
          ]
        }
      ]
    },
    {
      "cell_type": "code",
      "source": [
        "stop_words=stopwords.words('english')\n",
        "\n",
        "def remove_stopwords(text, stop_words):\n",
        "  return ' '.join([word for word in text.split() if word not in stop_words])\n",
        "\n",
        "data_removed_sw_df=copy.deepcopy(important_data_df)\n",
        "data_removed_sw_df['Description'] = data_removed_sw_df['Description'].apply(remove_stopwords, stop_words=stop_words)\n",
        "data_removed_sw_df['Content'] = data_removed_sw_df['Content'].apply(remove_stopwords, stop_words=stop_words)\n"
      ],
      "metadata": {
        "id": "lGT2GTW2npnH"
      },
      "execution_count": null,
      "outputs": []
    },
    {
      "cell_type": "code",
      "source": [
        "data_removed_sw_df['Description']"
      ],
      "metadata": {
        "id": "47_aOgkInpsm",
        "colab": {
          "base_uri": "https://localhost:8080/"
        },
        "outputId": "356ff3eb-cd3b-446b-f7cb-4abf3ef0c15f"
      },
      "execution_count": null,
      "outputs": [
        {
          "output_type": "execute_result",
          "data": {
            "text/plain": [
              "0     bbc urged drop singer olly alexander entrant e...\n",
              "1     olly alexander uk's new eurovision act critici...\n",
              "2     union representative claims barred inspecting ...\n",
              "3     duke invited gun smuggler alleged fraudster st...\n",
              "4     airbnb set use artificial intelligence crack u...\n",
              "5     nihal arthanayake says saw 'a lack diversity w...\n",
              "6     two women emerged front-runners take bp bernar...\n",
              "7     top tesla executive revealed company working w...\n",
              "8     detroit – general motors cut size buick dealer...\n",
              "9     get free morning headlines email news reporter...\n",
              "10    british museum extend 27-year-long partnership...\n",
              "11    \"investigations also determined carrefour's su...\n",
              "12    sadiq khan signed agreement promote united air...\n",
              "13    amazon running competition give brokest staff ...\n",
              "14    global alternative asset private equity invest...\n",
              "15    m/v swan atlantic attacked southern red sea mu...\n",
              "16    growing number companies including bp paused s...\n",
              "17    even diehard city watchers could forgiven skim...\n",
              "18    ceo pushed gm hard electric driverless cars fi...\n",
              "19    autopilot system prompted tesla’s recent recal...\n",
              "20    bbc launched sexual harassment probe top soap ...\n",
              "21    federal agency seeking force starbucks reopen ...\n",
              "22    public comment period draft report extends jan...\n",
              "23    cruise majority-owned autonomous vehicle subsi...\n",
              "24    'i became interested trying gather strength' s...\n",
              "25    volunteer organizer elizabeth fernandez holds ...\n",
              "26    company announced would letting go 900 3800 pe...\n",
              "27    group current former prisoners suing alabama s...\n",
              "28    disgraced ex-bp boss bernard looney said ‘prou...\n",
              "29    tehran iran (ap) — female soccer fans iran cla...\n",
              "30    cotton's piece - titled 'send troops' - called...\n",
              "31    gary lineker 'dancing edge' bbc's new social m...\n",
              "32    general motors' cruise thursday announced inte...\n",
              "33    carbon removal solutions provider carbonfuture...\n",
              "34    (photo dilara irem sancar/anadolu via getty im...\n",
              "35    businesses creating calm spaces customers feel...\n",
              "36    state officials pension employees seeking exem...\n",
              "37    drivers diesel cars london borough fork much 1...\n",
              "38    5 per cent firm's overall roles senior leaders...\n",
              "39    read privacy notice thanks signing themorning ...\n",
              "40    bp said former chief executive bernard looney ...\n",
              "41    bp last night concluded former chief executive...\n",
              "42    boss aviva said sexism financial services sect...\n",
              "43    last heard former bp boss bernard looney bad p...\n",
              "44    airbnb hand almost £500million italian authori...\n",
              "45    comes estimated 2000 items collection worth mi...\n",
              "46    gary lineker probably breached bbc's social me...\n",
              "47    former boss bp forfeit £32m actual potential p...\n",
              "48    read privacy notice thanks signing theview wes...\n",
              "49    federal court jury decided late monday google ...\n",
              "50    kind-hearted schoolboy opening christmas prese...\n",
              "51    gary lineker's social media post defence secre...\n",
              "52    visa mastercard facing prospect cap so-called ...\n",
              "53    uk competition authority launched probe enviro...\n",
              "54    bright orange robot 10 feet tall looms volkswa...\n",
              "55    \"we're going lot terms looking material seeing...\n",
              "56    unilever investigation claims misleading custo...\n",
              "57    boeing facing calls ditch demand mechanics ins...\n",
              "58    connoisseur bt’s unscrupulous often indecipher...\n",
              "59    ceo jim farley said earlier month november com...\n",
              "Name: Description, dtype: object"
            ]
          },
          "metadata": {},
          "execution_count": 53
        }
      ]
    },
    {
      "cell_type": "code",
      "source": [
        "'the' in stop_words #so it worked"
      ],
      "metadata": {
        "id": "PGN0yXJ1mgxE",
        "colab": {
          "base_uri": "https://localhost:8080/"
        },
        "outputId": "01cfe8c6-f368-403c-dab0-4351a5175d09"
      },
      "execution_count": null,
      "outputs": [
        {
          "output_type": "execute_result",
          "data": {
            "text/plain": [
              "True"
            ]
          },
          "metadata": {},
          "execution_count": 54
        }
      ]
    },
    {
      "cell_type": "code",
      "source": [
        "# !python -m spacy download en_core_web_sm\n",
        "import spacy"
      ],
      "metadata": {
        "id": "mZN9v5z-1flj"
      },
      "execution_count": null,
      "outputs": []
    },
    {
      "cell_type": "code",
      "source": [
        "#lemmatization - sth not working here\n",
        "def lemmatization(texts, allowed_postags=['NOUN', 'ADJ', 'VERB', 'ADV']):\n",
        "    \"\"\"https://spacy.io/api/annotation\"\"\"\n",
        "    texts_out = []\n",
        "    # doc = nlp(\" \".join(texts))\n",
        "    # return ' '.join([token.lemma_ for token in doc if token.pos_ in allowed_postags])\n",
        "    for sent in texts:\n",
        "        doc = nlp(\"\".join(sent))\n",
        "        texts_out.append([token.lemma_ for token in doc if token.pos_ in allowed_postags])\n",
        "    return texts_out\n",
        "#po co ja ten content też przerzucam?"
      ],
      "metadata": {
        "id": "KQaTf5s3mgzY"
      },
      "execution_count": null,
      "outputs": []
    },
    {
      "cell_type": "code",
      "source": [
        "# Initialize spacy 'en' model, keeping only tagger component (for efficiency)\n",
        "nlp = spacy.load(\"en_core_web_sm\", disable=['parser', 'ner'])\n",
        "\n",
        "# Do lemmatization keeping only noun, adj, vb, adv\n",
        "data_lemmatized = lemmatization(data_removed_sw_df['Description'], allowed_postags=['NOUN', 'ADJ', 'VERB', 'ADV'])\n",
        "\n",
        "print(data_lemmatized[:1][0][:30])"
      ],
      "metadata": {
        "colab": {
          "base_uri": "https://localhost:8080/"
        },
        "id": "zOOJEloDyMMn",
        "outputId": "35697dab-779b-45bf-ece3-833deb636d56"
      },
      "execution_count": null,
      "outputs": [
        {
          "output_type": "stream",
          "name": "stdout",
          "text": [
            "['urge', 'drop', 'singer', 'olly', 'entrant', 'eurovision', 'emerge', 'sign', 'letter', 'call', 'regime', 'plan', 'take', 'action', 'singer', 'sign', 'letter', 'week', 'unveil', 'eurovision', 'report', 'current', 'event', 'simply', 'escalation', 'apartheid', 'regime', 'act', 'ethnically', 'cleanse']\n"
          ]
        }
      ]
    },
    {
      "cell_type": "code",
      "source": [
        "# create corpus and dictionary\n",
        "\n",
        "import gensim.corpora as corpora\n",
        "\n",
        "# dictionary\n",
        "id2word = corpora.Dictionary(data_lemmatized)\n",
        "\n",
        "#corpus\n",
        "texts = data_lemmatized\n",
        "\n",
        "# term document frequency\n",
        "corpus = [id2word.doc2bow(text) for text in texts]"
      ],
      "metadata": {
        "id": "9Ra04su-vGaW"
      },
      "execution_count": null,
      "outputs": []
    },
    {
      "cell_type": "code",
      "source": [
        "import gensim"
      ],
      "metadata": {
        "id": "pYNfBHF1OyOP"
      },
      "execution_count": null,
      "outputs": []
    },
    {
      "cell_type": "code",
      "source": [
        "\n",
        "lda_model = gensim.models.LdaMulticore(corpus=corpus,\n",
        "                                       id2word=id2word,\n",
        "                                       num_topics=10,\n",
        "                                       random_state=100,\n",
        "                                       chunksize=100,\n",
        "                                       passes=10,\n",
        "                                       per_word_topics=True)"
      ],
      "metadata": {
        "id": "P5uUE_8wu_y-"
      },
      "execution_count": null,
      "outputs": []
    },
    {
      "cell_type": "code",
      "source": [
        "from pprint import pprint\n",
        "\n",
        "# Print the Keyword in the 10 topics\n",
        "pprint(lda_model.print_topics())\n",
        "doc_lda = lda_model[corpus]"
      ],
      "metadata": {
        "colab": {
          "base_uri": "https://localhost:8080/"
        },
        "id": "iWyEyBJdOuH8",
        "outputId": "78f8ae81-1312-42c8-ddb3-f033ce2e6cee"
      },
      "execution_count": null,
      "outputs": [
        {
          "output_type": "stream",
          "name": "stdout",
          "text": [
            "[(0,\n",
            "  '0.025*\"year\" + 0.025*\"party\" + 0.015*\"new\" + 0.015*\"ban\" + 0.015*\"eve\" + '\n",
            "  '0.015*\"crack\" + 0.015*\"unauthorized\" + 0.010*\"set\" + 0.010*\"use\" + '\n",
            "  '0.010*\"artificial\"'),\n",
            " (1,\n",
            "  '0.030*\"say\" + 0.014*\"social\" + 0.014*\"medium\" + 0.012*\"see\" + '\n",
            "  '0.009*\"senior\" + 0.009*\"buick\" + 0.007*\"guideline\" + 0.007*\"new\" + '\n",
            "  '0.007*\"post\" + 0.007*\"edge\"'),\n",
            " (2,\n",
            "  '0.015*\"say\" + 0.012*\"email\" + 0.010*\"executive\" + 0.010*\"chief\" + '\n",
            "  '0.010*\"state\" + 0.010*\"food\" + 0.008*\"-\" + 0.008*\"headline\" + 0.008*\"force\" '\n",
            "  '+ 0.007*\"make\"'),\n",
            " (3,\n",
            "  '0.014*\"water\" + 0.014*\"authority\" + 0.012*\"board\" + 0.010*\"say\" + '\n",
            "  '0.010*\"new\" + 0.009*\"car\" + 0.007*\"chief\" + 0.007*\"jewish\" + 0.007*\"olly\" + '\n",
            "  '0.007*\"accord\"'),\n",
            " (4,\n",
            "  '0.016*\"store\" + 0.014*\"starbuck\" + 0.010*\"game\" + 0.008*\"employee\" + '\n",
            "  '0.008*\"worker\" + 0.006*\"say\" + 0.006*\"unionize\" + 0.006*\"impact\" + '\n",
            "  '0.006*\"bonus\" + 0.006*\"target\"'),\n",
            " (5,\n",
            "  '0.011*\"report\" + 0.011*\"say\" + 0.010*\"global\" + 0.008*\"climate\" + '\n",
            "  '0.008*\"large\" + 0.008*\"sector\" + 0.008*\"asset\" + 0.008*\"opportunity\" + '\n",
            "  '0.008*\"chief\" + 0.006*\"time\"'),\n",
            " (6,\n",
            "  '0.011*\"deal\" + 0.011*\"harassment\" + 0.011*\"star\" + 0.007*\"say\" + '\n",
            "  '0.007*\"public\" + 0.007*\"launch\" + 0.007*\"accuse\" + 0.007*\"call\" + '\n",
            "  '0.007*\"bp\" + 0.007*\"year\"'),\n",
            " (7,\n",
            "  '0.014*\"worker\" + 0.013*\"cookie\" + 0.011*\"starbuck\" + 0.011*\"year\" + '\n",
            "  '0.010*\"say\" + 0.009*\"company\" + 0.009*\"store\" + 0.009*\"last\" + 0.009*\"fee\" '\n",
            "  '+ 0.007*\"report\"'),\n",
            " (8,\n",
            "  '0.025*\"vehicle\" + 0.019*\"charge\" + 0.011*\"say\" + 0.011*\"car\" + '\n",
            "  '0.010*\"removal\" + 0.009*\"electric\" + 0.009*\"new\" + 0.008*\"company\" + '\n",
            "  '0.008*\"autonomous\" + 0.008*\"carbon\"'),\n",
            " (9,\n",
            "  '0.011*\"vessel\" + 0.011*\"attack\" + 0.011*\"pause\" + 0.011*\"condition\" + '\n",
            "  '0.011*\"worker\" + 0.008*\"say\" + 0.007*\"guideline\" + 0.007*\"houthi\" + '\n",
            "  '0.007*\"sea\" + 0.007*\"launch\"')]\n"
          ]
        }
      ]
    },
    {
      "cell_type": "code",
      "source": [],
      "metadata": {
        "id": "04B0IJsqOuLc"
      },
      "execution_count": null,
      "outputs": []
    },
    {
      "cell_type": "markdown",
      "source": [
        "OCTIS tutorial"
      ],
      "metadata": {
        "id": "3JR2_CVAPHE7"
      }
    },
    {
      "cell_type": "code",
      "source": [
        "# !pip install octis"
      ],
      "metadata": {
        "colab": {
          "base_uri": "https://localhost:8080/",
          "height": 1000
        },
        "id": "InSM4DqFOuOh",
        "outputId": "d8d15fbd-f628-4d84-df30-785b96c90f29"
      },
      "execution_count": null,
      "outputs": [
        {
          "output_type": "stream",
          "name": "stdout",
          "text": [
            "Collecting octis\n",
            "  Downloading octis-1.13.1-py2.py3-none-any.whl (130 kB)\n",
            "\u001b[2K     \u001b[90m━━━━━━━━━━━━━━━━━━━━━━━━━━━━━━━━━━━━━━━━\u001b[0m \u001b[32m131.0/131.0 kB\u001b[0m \u001b[31m1.3 MB/s\u001b[0m eta \u001b[36m0:00:00\u001b[0m\n",
            "\u001b[?25hCollecting gensim==4.2.0 (from octis)\n",
            "  Downloading gensim-4.2.0-cp310-cp310-manylinux_2_17_x86_64.manylinux2014_x86_64.whl (24.0 MB)\n",
            "\u001b[2K     \u001b[90m━━━━━━━━━━━━━━━━━━━━━━━━━━━━━━━━━━━━━━━━\u001b[0m \u001b[32m24.0/24.0 MB\u001b[0m \u001b[31m798.1 kB/s\u001b[0m eta \u001b[36m0:00:00\u001b[0m\n",
            "\u001b[?25hRequirement already satisfied: nltk in /usr/local/lib/python3.10/dist-packages (from octis) (3.8.1)\n",
            "Requirement already satisfied: pandas in /usr/local/lib/python3.10/dist-packages (from octis) (1.5.3)\n",
            "Requirement already satisfied: spacy in /usr/local/lib/python3.10/dist-packages (from octis) (3.7.4)\n",
            "Collecting scikit-learn==1.1.0 (from octis)\n",
            "  Downloading scikit_learn-1.1.0-cp310-cp310-manylinux_2_17_x86_64.manylinux2014_x86_64.whl (30.7 MB)\n",
            "\u001b[2K     \u001b[90m━━━━━━━━━━━━━━━━━━━━━━━━━━━━━━━━━━━━━━━━\u001b[0m \u001b[32m30.7/30.7 MB\u001b[0m \u001b[31m789.5 kB/s\u001b[0m eta \u001b[36m0:00:00\u001b[0m\n",
            "\u001b[?25hCollecting scikit-optimize>=0.8.1 (from octis)\n",
            "  Downloading scikit_optimize-0.10.1-py2.py3-none-any.whl (107 kB)\n",
            "\u001b[2K     \u001b[90m━━━━━━━━━━━━━━━━━━━━━━━━━━━━━━━━━━━━━━━━\u001b[0m \u001b[32m107.7/107.7 kB\u001b[0m \u001b[31m963.6 kB/s\u001b[0m eta \u001b[36m0:00:00\u001b[0m\n",
            "\u001b[?25hRequirement already satisfied: matplotlib in /usr/local/lib/python3.10/dist-packages (from octis) (3.7.1)\n",
            "Requirement already satisfied: torch in /usr/local/lib/python3.10/dist-packages (from octis) (2.2.1+cu121)\n",
            "Collecting numpy==1.23.0 (from octis)\n",
            "  Downloading numpy-1.23.0-cp310-cp310-manylinux_2_17_x86_64.manylinux2014_x86_64.whl (17.0 MB)\n",
            "\u001b[2K     \u001b[90m━━━━━━━━━━━━━━━━━━━━━━━━━━━━━━━━━━━━━━━━\u001b[0m \u001b[32m17.0/17.0 MB\u001b[0m \u001b[31m691.0 kB/s\u001b[0m eta \u001b[36m0:00:00\u001b[0m\n",
            "\u001b[?25hCollecting libsvm (from octis)\n",
            "  Downloading libsvm-3.23.0.4.tar.gz (170 kB)\n",
            "\u001b[2K     \u001b[90m━━━━━━━━━━━━━━━━━━━━━━━━━━━━━━━━━━━━━━━━\u001b[0m \u001b[32m170.6/170.6 kB\u001b[0m \u001b[31m417.3 kB/s\u001b[0m eta \u001b[36m0:00:00\u001b[0m\n",
            "\u001b[?25h  Preparing metadata (setup.py) ... \u001b[?25l\u001b[?25hdone\n",
            "Requirement already satisfied: flask in /usr/local/lib/python3.10/dist-packages (from octis) (2.2.5)\n",
            "Collecting sentence-transformers (from octis)\n",
            "  Downloading sentence_transformers-2.6.1-py3-none-any.whl (163 kB)\n",
            "\u001b[2K     \u001b[90m━━━━━━━━━━━━━━━━━━━━━━━━━━━━━━━━━━━━━━━━\u001b[0m \u001b[32m163.3/163.3 kB\u001b[0m \u001b[31m425.6 kB/s\u001b[0m eta \u001b[36m0:00:00\u001b[0m\n",
            "\u001b[?25hRequirement already satisfied: requests in /usr/local/lib/python3.10/dist-packages (from octis) (2.31.0)\n",
            "Collecting tomotopy (from octis)\n",
            "  Downloading tomotopy-0.12.7-cp310-cp310-manylinux_2_17_x86_64.manylinux2014_x86_64.whl (17.2 MB)\n",
            "\u001b[2K     \u001b[90m━━━━━━━━━━━━━━━━━━━━━━━━━━━━━━━━━━━━━━━━\u001b[0m \u001b[32m17.2/17.2 MB\u001b[0m \u001b[31m871.3 kB/s\u001b[0m eta \u001b[36m0:00:00\u001b[0m\n",
            "\u001b[?25hRequirement already satisfied: scipy>=0.18.1 in /usr/local/lib/python3.10/dist-packages (from gensim==4.2.0->octis) (1.11.4)\n",
            "Requirement already satisfied: smart-open>=1.8.1 in /usr/local/lib/python3.10/dist-packages (from gensim==4.2.0->octis) (6.4.0)\n",
            "Requirement already satisfied: joblib>=1.0.0 in /usr/local/lib/python3.10/dist-packages (from scikit-learn==1.1.0->octis) (1.3.2)\n",
            "Requirement already satisfied: threadpoolctl>=2.0.0 in /usr/local/lib/python3.10/dist-packages (from scikit-learn==1.1.0->octis) (3.4.0)\n",
            "Collecting pyaml>=16.9 (from scikit-optimize>=0.8.1->octis)\n",
            "  Downloading pyaml-23.12.0-py3-none-any.whl (23 kB)\n",
            "Requirement already satisfied: packaging>=21.3 in /usr/local/lib/python3.10/dist-packages (from scikit-optimize>=0.8.1->octis) (24.0)\n",
            "Requirement already satisfied: Werkzeug>=2.2.2 in /usr/local/lib/python3.10/dist-packages (from flask->octis) (3.0.1)\n",
            "Requirement already satisfied: Jinja2>=3.0 in /usr/local/lib/python3.10/dist-packages (from flask->octis) (3.1.3)\n",
            "Requirement already satisfied: itsdangerous>=2.0 in /usr/local/lib/python3.10/dist-packages (from flask->octis) (2.1.2)\n",
            "Requirement already satisfied: click>=8.0 in /usr/local/lib/python3.10/dist-packages (from flask->octis) (8.1.7)\n",
            "Requirement already satisfied: contourpy>=1.0.1 in /usr/local/lib/python3.10/dist-packages (from matplotlib->octis) (1.2.0)\n",
            "Requirement already satisfied: cycler>=0.10 in /usr/local/lib/python3.10/dist-packages (from matplotlib->octis) (0.12.1)\n",
            "Requirement already satisfied: fonttools>=4.22.0 in /usr/local/lib/python3.10/dist-packages (from matplotlib->octis) (4.50.0)\n",
            "Requirement already satisfied: kiwisolver>=1.0.1 in /usr/local/lib/python3.10/dist-packages (from matplotlib->octis) (1.4.5)\n",
            "Requirement already satisfied: pillow>=6.2.0 in /usr/local/lib/python3.10/dist-packages (from matplotlib->octis) (9.4.0)\n",
            "Requirement already satisfied: pyparsing>=2.3.1 in /usr/local/lib/python3.10/dist-packages (from matplotlib->octis) (3.1.2)\n",
            "Requirement already satisfied: python-dateutil>=2.7 in /usr/local/lib/python3.10/dist-packages (from matplotlib->octis) (2.8.2)\n",
            "Requirement already satisfied: regex>=2021.8.3 in /usr/local/lib/python3.10/dist-packages (from nltk->octis) (2023.12.25)\n",
            "Requirement already satisfied: tqdm in /usr/local/lib/python3.10/dist-packages (from nltk->octis) (4.66.2)\n",
            "Requirement already satisfied: pytz>=2020.1 in /usr/local/lib/python3.10/dist-packages (from pandas->octis) (2023.4)\n",
            "Requirement already satisfied: charset-normalizer<4,>=2 in /usr/local/lib/python3.10/dist-packages (from requests->octis) (3.3.2)\n",
            "Requirement already satisfied: idna<4,>=2.5 in /usr/local/lib/python3.10/dist-packages (from requests->octis) (3.6)\n",
            "Requirement already satisfied: urllib3<3,>=1.21.1 in /usr/local/lib/python3.10/dist-packages (from requests->octis) (2.0.7)\n",
            "Requirement already satisfied: certifi>=2017.4.17 in /usr/local/lib/python3.10/dist-packages (from requests->octis) (2024.2.2)\n",
            "Requirement already satisfied: transformers<5.0.0,>=4.32.0 in /usr/local/lib/python3.10/dist-packages (from sentence-transformers->octis) (4.38.2)\n",
            "Requirement already satisfied: huggingface-hub>=0.15.1 in /usr/local/lib/python3.10/dist-packages (from sentence-transformers->octis) (0.20.3)\n",
            "Requirement already satisfied: filelock in /usr/local/lib/python3.10/dist-packages (from torch->octis) (3.13.3)\n",
            "Requirement already satisfied: typing-extensions>=4.8.0 in /usr/local/lib/python3.10/dist-packages (from torch->octis) (4.10.0)\n",
            "Requirement already satisfied: sympy in /usr/local/lib/python3.10/dist-packages (from torch->octis) (1.12)\n",
            "Requirement already satisfied: networkx in /usr/local/lib/python3.10/dist-packages (from torch->octis) (3.2.1)\n",
            "Requirement already satisfied: fsspec in /usr/local/lib/python3.10/dist-packages (from torch->octis) (2023.6.0)\n",
            "Collecting nvidia-cuda-nvrtc-cu12==12.1.105 (from torch->octis)\n",
            "  Downloading nvidia_cuda_nvrtc_cu12-12.1.105-py3-none-manylinux1_x86_64.whl (23.7 MB)\n",
            "\u001b[2K     \u001b[90m━━━━━━━━━━━━━━━━━━━━━━━━━━━━━━━━━━━━━━━━\u001b[0m \u001b[32m23.7/23.7 MB\u001b[0m \u001b[31m785.0 kB/s\u001b[0m eta \u001b[36m0:00:00\u001b[0m\n",
            "\u001b[?25hCollecting nvidia-cuda-runtime-cu12==12.1.105 (from torch->octis)\n",
            "  Downloading nvidia_cuda_runtime_cu12-12.1.105-py3-none-manylinux1_x86_64.whl (823 kB)\n",
            "\u001b[2K     \u001b[90m━━━━━━━━━━━━━━━━━━━━━━━━━━━━━━━━━━━━━━━━\u001b[0m \u001b[32m823.6/823.6 kB\u001b[0m \u001b[31m1.3 MB/s\u001b[0m eta \u001b[36m0:00:00\u001b[0m\n",
            "\u001b[?25hCollecting nvidia-cuda-cupti-cu12==12.1.105 (from torch->octis)\n",
            "  Downloading nvidia_cuda_cupti_cu12-12.1.105-py3-none-manylinux1_x86_64.whl (14.1 MB)\n",
            "\u001b[2K     \u001b[90m━━━━━━━━━━━━━━━━━━━━━━━━━━━━━━━━━━━━━━━━\u001b[0m \u001b[32m14.1/14.1 MB\u001b[0m \u001b[31m933.4 kB/s\u001b[0m eta \u001b[36m0:00:00\u001b[0m\n",
            "\u001b[?25hCollecting nvidia-cudnn-cu12==8.9.2.26 (from torch->octis)\n",
            "  Downloading nvidia_cudnn_cu12-8.9.2.26-py3-none-manylinux1_x86_64.whl (731.7 MB)\n",
            "\u001b[2K     \u001b[90m━━━━━━━━━━━━━━━━━━━━━━━━━━━━━━━━━━━━━━━━\u001b[0m \u001b[32m731.7/731.7 MB\u001b[0m \u001b[31m730.3 kB/s\u001b[0m eta \u001b[36m0:00:00\u001b[0m\n",
            "\u001b[?25hCollecting nvidia-cublas-cu12==12.1.3.1 (from torch->octis)\n",
            "  Downloading nvidia_cublas_cu12-12.1.3.1-py3-none-manylinux1_x86_64.whl (410.6 MB)\n",
            "\u001b[2K     \u001b[90m━━━━━━━━━━━━━━━━━━━━━━━━━━━━━━━━━━━━━━━━\u001b[0m \u001b[32m410.6/410.6 MB\u001b[0m \u001b[31m792.6 kB/s\u001b[0m eta \u001b[36m0:00:00\u001b[0m\n",
            "\u001b[?25hCollecting nvidia-cufft-cu12==11.0.2.54 (from torch->octis)\n",
            "  Downloading nvidia_cufft_cu12-11.0.2.54-py3-none-manylinux1_x86_64.whl (121.6 MB)\n",
            "\u001b[2K     \u001b[90m━━━━━━━━━━━━━━━━━━━━━━━━━━━━━━━━━━━━━━━━\u001b[0m \u001b[32m121.6/121.6 MB\u001b[0m \u001b[31m1.1 MB/s\u001b[0m eta \u001b[36m0:00:00\u001b[0m\n",
            "\u001b[?25hCollecting nvidia-curand-cu12==10.3.2.106 (from torch->octis)\n",
            "  Downloading nvidia_curand_cu12-10.3.2.106-py3-none-manylinux1_x86_64.whl (56.5 MB)\n",
            "\u001b[2K     \u001b[90m━━━━━━━━━━━━━━━━━━━━━━━━━━━━━━━━━━━━━━━━\u001b[0m \u001b[32m56.5/56.5 MB\u001b[0m \u001b[31m1.0 MB/s\u001b[0m eta \u001b[36m0:00:00\u001b[0m\n",
            "\u001b[?25hCollecting nvidia-cusolver-cu12==11.4.5.107 (from torch->octis)\n",
            "  Downloading nvidia_cusolver_cu12-11.4.5.107-py3-none-manylinux1_x86_64.whl (124.2 MB)\n",
            "\u001b[2K     \u001b[90m━━━━━━━━━━━━━━━━━━━━━━━━━━━━━━━━━━━━━━━━\u001b[0m \u001b[32m124.2/124.2 MB\u001b[0m \u001b[31m1.1 MB/s\u001b[0m eta \u001b[36m0:00:00\u001b[0m\n",
            "\u001b[?25hCollecting nvidia-cusparse-cu12==12.1.0.106 (from torch->octis)\n",
            "  Downloading nvidia_cusparse_cu12-12.1.0.106-py3-none-manylinux1_x86_64.whl (196.0 MB)\n",
            "\u001b[2K     \u001b[90m━━━━━━━━━━━━━━━━━━━━━━━━━━━━━━━━━━━━━━━━\u001b[0m \u001b[32m196.0/196.0 MB\u001b[0m \u001b[31m1.2 MB/s\u001b[0m eta \u001b[36m0:00:00\u001b[0m\n",
            "\u001b[?25h\u001b[33mWARNING: Retrying (Retry(total=4, connect=None, read=None, redirect=None, status=None)) after connection broken by 'ProtocolError('Connection aborted.', RemoteDisconnected('Remote end closed connection without response'))': /simple/nvidia-nccl-cu12/\u001b[0m\u001b[33m\n",
            "\u001b[0mCollecting nvidia-nccl-cu12==2.19.3 (from torch->octis)\n",
            "  Downloading nvidia_nccl_cu12-2.19.3-py3-none-manylinux1_x86_64.whl (166.0 MB)\n",
            "\u001b[2K     \u001b[90m━━━━━━━━━━━━━━━━━━━━━━━━━━━━━━━━━━━━━━━━\u001b[0m \u001b[32m166.0/166.0 MB\u001b[0m \u001b[31m1.1 MB/s\u001b[0m eta \u001b[36m0:00:00\u001b[0m\n",
            "\u001b[?25hCollecting nvidia-nvtx-cu12==12.1.105 (from torch->octis)\n",
            "  Downloading nvidia_nvtx_cu12-12.1.105-py3-none-manylinux1_x86_64.whl (99 kB)\n",
            "\u001b[2K     \u001b[90m━━━━━━━━━━━━━━━━━━━━━━━━━━━━━━━━━━━━━━━━\u001b[0m \u001b[32m99.1/99.1 kB\u001b[0m \u001b[31m1.2 MB/s\u001b[0m eta \u001b[36m0:00:00\u001b[0m\n",
            "\u001b[?25hRequirement already satisfied: triton==2.2.0 in /usr/local/lib/python3.10/dist-packages (from torch->octis) (2.2.0)\n",
            "Collecting nvidia-nvjitlink-cu12 (from nvidia-cusolver-cu12==11.4.5.107->torch->octis)\n",
            "  Downloading nvidia_nvjitlink_cu12-12.4.99-py3-none-manylinux2014_x86_64.whl (21.1 MB)\n",
            "\u001b[2K     \u001b[90m━━━━━━━━━━━━━━━━━━━━━━━━━━━━━━━━━━━━━━━━\u001b[0m \u001b[32m21.1/21.1 MB\u001b[0m \u001b[31m2.5 MB/s\u001b[0m eta \u001b[36m0:00:00\u001b[0m\n",
            "\u001b[?25hRequirement already satisfied: spacy-legacy<3.1.0,>=3.0.11 in /usr/local/lib/python3.10/dist-packages (from spacy->octis) (3.0.12)\n",
            "Requirement already satisfied: spacy-loggers<2.0.0,>=1.0.0 in /usr/local/lib/python3.10/dist-packages (from spacy->octis) (1.0.5)\n",
            "Requirement already satisfied: murmurhash<1.1.0,>=0.28.0 in /usr/local/lib/python3.10/dist-packages (from spacy->octis) (1.0.10)\n",
            "Requirement already satisfied: cymem<2.1.0,>=2.0.2 in /usr/local/lib/python3.10/dist-packages (from spacy->octis) (2.0.8)\n",
            "Requirement already satisfied: preshed<3.1.0,>=3.0.2 in /usr/local/lib/python3.10/dist-packages (from spacy->octis) (3.0.9)\n",
            "Requirement already satisfied: thinc<8.3.0,>=8.2.2 in /usr/local/lib/python3.10/dist-packages (from spacy->octis) (8.2.3)\n",
            "Requirement already satisfied: wasabi<1.2.0,>=0.9.1 in /usr/local/lib/python3.10/dist-packages (from spacy->octis) (1.1.2)\n",
            "Requirement already satisfied: srsly<3.0.0,>=2.4.3 in /usr/local/lib/python3.10/dist-packages (from spacy->octis) (2.4.8)\n",
            "Requirement already satisfied: catalogue<2.1.0,>=2.0.6 in /usr/local/lib/python3.10/dist-packages (from spacy->octis) (2.0.10)\n",
            "Requirement already satisfied: weasel<0.4.0,>=0.1.0 in /usr/local/lib/python3.10/dist-packages (from spacy->octis) (0.3.4)\n",
            "Requirement already satisfied: typer<0.10.0,>=0.3.0 in /usr/local/lib/python3.10/dist-packages (from spacy->octis) (0.9.4)\n",
            "Requirement already satisfied: pydantic!=1.8,!=1.8.1,<3.0.0,>=1.7.4 in /usr/local/lib/python3.10/dist-packages (from spacy->octis) (2.6.4)\n",
            "Requirement already satisfied: setuptools in /usr/local/lib/python3.10/dist-packages (from spacy->octis) (67.7.2)\n",
            "Requirement already satisfied: langcodes<4.0.0,>=3.2.0 in /usr/local/lib/python3.10/dist-packages (from spacy->octis) (3.3.0)\n",
            "Requirement already satisfied: pyyaml>=5.1 in /usr/local/lib/python3.10/dist-packages (from huggingface-hub>=0.15.1->sentence-transformers->octis) (6.0.1)\n",
            "Requirement already satisfied: MarkupSafe>=2.0 in /usr/local/lib/python3.10/dist-packages (from Jinja2>=3.0->flask->octis) (2.1.5)\n",
            "Requirement already satisfied: annotated-types>=0.4.0 in /usr/local/lib/python3.10/dist-packages (from pydantic!=1.8,!=1.8.1,<3.0.0,>=1.7.4->spacy->octis) (0.6.0)\n",
            "Requirement already satisfied: pydantic-core==2.16.3 in /usr/local/lib/python3.10/dist-packages (from pydantic!=1.8,!=1.8.1,<3.0.0,>=1.7.4->spacy->octis) (2.16.3)\n",
            "Requirement already satisfied: six>=1.5 in /usr/local/lib/python3.10/dist-packages (from python-dateutil>=2.7->matplotlib->octis) (1.16.0)\n",
            "Requirement already satisfied: blis<0.8.0,>=0.7.8 in /usr/local/lib/python3.10/dist-packages (from thinc<8.3.0,>=8.2.2->spacy->octis) (0.7.11)\n",
            "Requirement already satisfied: confection<1.0.0,>=0.0.1 in /usr/local/lib/python3.10/dist-packages (from thinc<8.3.0,>=8.2.2->spacy->octis) (0.1.4)\n",
            "Requirement already satisfied: tokenizers<0.19,>=0.14 in /usr/local/lib/python3.10/dist-packages (from transformers<5.0.0,>=4.32.0->sentence-transformers->octis) (0.15.2)\n",
            "Requirement already satisfied: safetensors>=0.4.1 in /usr/local/lib/python3.10/dist-packages (from transformers<5.0.0,>=4.32.0->sentence-transformers->octis) (0.4.2)\n",
            "Requirement already satisfied: cloudpathlib<0.17.0,>=0.7.0 in /usr/local/lib/python3.10/dist-packages (from weasel<0.4.0,>=0.1.0->spacy->octis) (0.16.0)\n",
            "Requirement already satisfied: mpmath>=0.19 in /usr/local/lib/python3.10/dist-packages (from sympy->torch->octis) (1.3.0)\n",
            "Building wheels for collected packages: libsvm\n",
            "  Building wheel for libsvm (setup.py) ... \u001b[?25l\u001b[?25hdone\n",
            "  Created wheel for libsvm: filename=libsvm-3.23.0.4-cp310-cp310-linux_x86_64.whl size=251409 sha256=f2aa2692dc72f9c034ae5d1e975d35ba46e7eabc56f83d71eeb7a856f1dc1fd1\n",
            "  Stored in directory: /root/.cache/pip/wheels/79/c7/19/a8c85928f8e629654b8e1adb3c8091f0bb77344d0ee9954a85\n",
            "Successfully built libsvm\n",
            "Installing collected packages: pyaml, nvidia-nvtx-cu12, nvidia-nvjitlink-cu12, nvidia-nccl-cu12, nvidia-curand-cu12, nvidia-cufft-cu12, nvidia-cuda-runtime-cu12, nvidia-cuda-nvrtc-cu12, nvidia-cuda-cupti-cu12, nvidia-cublas-cu12, numpy, libsvm, tomotopy, nvidia-cusparse-cu12, nvidia-cudnn-cu12, scikit-learn, nvidia-cusolver-cu12, gensim, scikit-optimize, sentence-transformers, octis\n",
            "  Attempting uninstall: numpy\n",
            "    Found existing installation: numpy 1.25.2\n",
            "    Uninstalling numpy-1.25.2:\n",
            "      Successfully uninstalled numpy-1.25.2\n",
            "  Attempting uninstall: scikit-learn\n",
            "    Found existing installation: scikit-learn 1.2.2\n",
            "    Uninstalling scikit-learn-1.2.2:\n",
            "      Successfully uninstalled scikit-learn-1.2.2\n",
            "  Attempting uninstall: gensim\n",
            "    Found existing installation: gensim 4.3.2\n",
            "    Uninstalling gensim-4.3.2:\n",
            "      Successfully uninstalled gensim-4.3.2\n",
            "\u001b[31mERROR: pip's dependency resolver does not currently take into account all the packages that are installed. This behaviour is the source of the following dependency conflicts.\n",
            "bigframes 1.0.0 requires scikit-learn>=1.2.2, but you have scikit-learn 1.1.0 which is incompatible.\n",
            "chex 0.1.86 requires numpy>=1.24.1, but you have numpy 1.23.0 which is incompatible.\n",
            "tensorflow 2.15.0 requires numpy<2.0.0,>=1.23.5, but you have numpy 1.23.0 which is incompatible.\u001b[0m\u001b[31m\n",
            "\u001b[0mSuccessfully installed gensim-4.2.0 libsvm-3.23.0.4 numpy-1.23.0 nvidia-cublas-cu12-12.1.3.1 nvidia-cuda-cupti-cu12-12.1.105 nvidia-cuda-nvrtc-cu12-12.1.105 nvidia-cuda-runtime-cu12-12.1.105 nvidia-cudnn-cu12-8.9.2.26 nvidia-cufft-cu12-11.0.2.54 nvidia-curand-cu12-10.3.2.106 nvidia-cusolver-cu12-11.4.5.107 nvidia-cusparse-cu12-12.1.0.106 nvidia-nccl-cu12-2.19.3 nvidia-nvjitlink-cu12-12.4.99 nvidia-nvtx-cu12-12.1.105 octis-1.13.1 pyaml-23.12.0 scikit-learn-1.1.0 scikit-optimize-0.10.1 sentence-transformers-2.6.1 tomotopy-0.12.7\n"
          ]
        },
        {
          "output_type": "display_data",
          "data": {
            "application/vnd.colab-display-data+json": {
              "pip_warning": {
                "packages": [
                  "gensim",
                  "numpy",
                  "sklearn"
                ]
              },
              "id": "51eef0af1f5f4c6f948acb05488ddf70"
            }
          },
          "metadata": {}
        }
      ]
    },
    {
      "cell_type": "code",
      "source": [
        "from octis.evaluation_metrics.diversity_metrics import TopicDiversity\n",
        "from octis.evaluation_metrics.coherence_metrics import Coherence"
      ],
      "metadata": {
        "id": "1VnPVI6hPKHy"
      },
      "execution_count": null,
      "outputs": []
    },
    {
      "cell_type": "code",
      "source": [
        "# npmi = Coherence(texts=corpus, topk=10, measure='c_npmi')\n",
        "topic_diversity = TopicDiversity(topk=10)"
      ],
      "metadata": {
        "id": "YNjqAfMgPKLq"
      },
      "execution_count": null,
      "outputs": []
    },
    {
      "cell_type": "code",
      "source": [
        "# Retrieve metrics score\n",
        "topic_diversity_score = topic_diversity.score(doc_lda)\n",
        "print(\"Topic diversity: \"+str(topic_diversity_score))\n",
        "\n",
        "# npmi_score = npmi.score(doc_lda)\n",
        "# print(\"Coherence: \"+str(npmi_score))"
      ],
      "metadata": {
        "colab": {
          "base_uri": "https://localhost:8080/",
          "height": 356
        },
        "id": "dCS2_mxcOuRK",
        "outputId": "4f78c531-7d00-470c-99a0-dac9f4ed1b5b"
      },
      "execution_count": null,
      "outputs": [
        {
          "output_type": "error",
          "ename": "TypeError",
          "evalue": "list indices must be integers or slices, not str",
          "traceback": [
            "\u001b[0;31m---------------------------------------------------------------------------\u001b[0m",
            "\u001b[0;31mTypeError\u001b[0m                                 Traceback (most recent call last)",
            "\u001b[0;32m<ipython-input-29-3af56d926861>\u001b[0m in \u001b[0;36m<cell line: 2>\u001b[0;34m()\u001b[0m\n\u001b[1;32m      1\u001b[0m \u001b[0;31m# Retrieve metrics score\u001b[0m\u001b[0;34m\u001b[0m\u001b[0;34m\u001b[0m\u001b[0m\n\u001b[0;32m----> 2\u001b[0;31m \u001b[0mtopic_diversity_score\u001b[0m \u001b[0;34m=\u001b[0m \u001b[0mtopic_diversity\u001b[0m\u001b[0;34m.\u001b[0m\u001b[0mscore\u001b[0m\u001b[0;34m(\u001b[0m\u001b[0mdoc_lda\u001b[0m\u001b[0;34m)\u001b[0m\u001b[0;34m\u001b[0m\u001b[0;34m\u001b[0m\u001b[0m\n\u001b[0m\u001b[1;32m      3\u001b[0m \u001b[0mprint\u001b[0m\u001b[0;34m(\u001b[0m\u001b[0;34m\"Topic diversity: \"\u001b[0m\u001b[0;34m+\u001b[0m\u001b[0mstr\u001b[0m\u001b[0;34m(\u001b[0m\u001b[0mtopic_diversity_score\u001b[0m\u001b[0;34m)\u001b[0m\u001b[0;34m)\u001b[0m\u001b[0;34m\u001b[0m\u001b[0;34m\u001b[0m\u001b[0m\n\u001b[1;32m      4\u001b[0m \u001b[0;34m\u001b[0m\u001b[0m\n\u001b[1;32m      5\u001b[0m \u001b[0;31m# npmi_score = npmi.score(doc_lda)\u001b[0m\u001b[0;34m\u001b[0m\u001b[0;34m\u001b[0m\u001b[0m\n",
            "\u001b[0;32m/usr/local/lib/python3.10/dist-packages/octis/evaluation_metrics/diversity_metrics.py\u001b[0m in \u001b[0;36mscore\u001b[0;34m(self, model_output)\u001b[0m\n\u001b[1;32m     41\u001b[0m         \u001b[0mtd\u001b[0m \u001b[0;34m:\u001b[0m \u001b[0mscore\u001b[0m\u001b[0;34m\u001b[0m\u001b[0;34m\u001b[0m\u001b[0m\n\u001b[1;32m     42\u001b[0m         \"\"\"\n\u001b[0;32m---> 43\u001b[0;31m         \u001b[0mtopics\u001b[0m \u001b[0;34m=\u001b[0m \u001b[0mmodel_output\u001b[0m\u001b[0;34m[\u001b[0m\u001b[0;34m\"topics\"\u001b[0m\u001b[0;34m]\u001b[0m\u001b[0;34m\u001b[0m\u001b[0;34m\u001b[0m\u001b[0m\n\u001b[0m\u001b[1;32m     44\u001b[0m         \u001b[0;32mif\u001b[0m \u001b[0mtopics\u001b[0m \u001b[0;32mis\u001b[0m \u001b[0;32mNone\u001b[0m\u001b[0;34m:\u001b[0m\u001b[0;34m\u001b[0m\u001b[0;34m\u001b[0m\u001b[0m\n\u001b[1;32m     45\u001b[0m             \u001b[0;32mreturn\u001b[0m \u001b[0;36m0\u001b[0m\u001b[0;34m\u001b[0m\u001b[0;34m\u001b[0m\u001b[0m\n",
            "\u001b[0;32m/usr/local/lib/python3.10/dist-packages/gensim/interfaces.py\u001b[0m in \u001b[0;36m__getitem__\u001b[0;34m(self, docno)\u001b[0m\n\u001b[1;32m    202\u001b[0m         \"\"\"\n\u001b[1;32m    203\u001b[0m         \u001b[0;32mif\u001b[0m \u001b[0mhasattr\u001b[0m\u001b[0;34m(\u001b[0m\u001b[0mself\u001b[0m\u001b[0;34m.\u001b[0m\u001b[0mcorpus\u001b[0m\u001b[0;34m,\u001b[0m \u001b[0;34m'__getitem__'\u001b[0m\u001b[0;34m)\u001b[0m\u001b[0;34m:\u001b[0m\u001b[0;34m\u001b[0m\u001b[0;34m\u001b[0m\u001b[0m\n\u001b[0;32m--> 204\u001b[0;31m             \u001b[0;32mreturn\u001b[0m \u001b[0mself\u001b[0m\u001b[0;34m.\u001b[0m\u001b[0mobj\u001b[0m\u001b[0;34m[\u001b[0m\u001b[0mself\u001b[0m\u001b[0;34m.\u001b[0m\u001b[0mcorpus\u001b[0m\u001b[0;34m[\u001b[0m\u001b[0mdocno\u001b[0m\u001b[0;34m]\u001b[0m\u001b[0;34m]\u001b[0m\u001b[0;34m\u001b[0m\u001b[0;34m\u001b[0m\u001b[0m\n\u001b[0m\u001b[1;32m    205\u001b[0m         \u001b[0;32melse\u001b[0m\u001b[0;34m:\u001b[0m\u001b[0;34m\u001b[0m\u001b[0;34m\u001b[0m\u001b[0m\n\u001b[1;32m    206\u001b[0m             \u001b[0;32mraise\u001b[0m \u001b[0mRuntimeError\u001b[0m\u001b[0;34m(\u001b[0m\u001b[0;34m'Type {} does not support slicing.'\u001b[0m\u001b[0;34m.\u001b[0m\u001b[0mformat\u001b[0m\u001b[0;34m(\u001b[0m\u001b[0mtype\u001b[0m\u001b[0;34m(\u001b[0m\u001b[0mself\u001b[0m\u001b[0;34m.\u001b[0m\u001b[0mcorpus\u001b[0m\u001b[0;34m)\u001b[0m\u001b[0;34m)\u001b[0m\u001b[0;34m)\u001b[0m\u001b[0;34m\u001b[0m\u001b[0;34m\u001b[0m\u001b[0m\n",
            "\u001b[0;31mTypeError\u001b[0m: list indices must be integers or slices, not str"
          ]
        }
      ]
    },
    {
      "cell_type": "code",
      "source": [
        "from octis.models.LDA import LDA\n",
        "from octis.dataset.dataset import Dataset\n",
        "from octis.evaluation_metrics.diversity_metrics import TopicDiversity\n",
        "from octis.evaluation_metrics.coherence_metrics import Coherence"
      ],
      "metadata": {
        "id": "SIOAmYl7OuTv"
      },
      "execution_count": null,
      "outputs": []
    },
    {
      "cell_type": "code",
      "source": [
        "# Define dataset\n",
        "dataset = Dataset()\n",
        "dataset.fetch_dataset(\"20NewsGroup\")"
      ],
      "metadata": {
        "id": "-n96ZRDtve21"
      },
      "execution_count": null,
      "outputs": []
    },
    {
      "cell_type": "code",
      "source": [
        "dataset"
      ],
      "metadata": {
        "colab": {
          "base_uri": "https://localhost:8080/"
        },
        "id": "g6RmrT-uyYox",
        "outputId": "cffd2e47-0f47-4733-bd58-390bdc2c1f96"
      },
      "execution_count": null,
      "outputs": [
        {
          "output_type": "execute_result",
          "data": {
            "text/plain": [
              "<octis.dataset.dataset.Dataset at 0x7d29ddbe1ff0>"
            ]
          },
          "metadata": {},
          "execution_count": 76
        }
      ]
    },
    {
      "cell_type": "code",
      "source": [
        "# Create Model\n",
        "model = LDA(num_topics=20, alpha=0.1)"
      ],
      "metadata": {
        "id": "KkfrUServe5D"
      },
      "execution_count": null,
      "outputs": []
    },
    {
      "cell_type": "code",
      "source": [
        "# Train the model using default partitioning choice\n",
        "output = model.train_model(dataset)\n",
        "\n",
        "print(*list(output.keys()), sep=\"\\n\") # Print the output identifiers"
      ],
      "metadata": {
        "colab": {
          "base_uri": "https://localhost:8080/"
        },
        "id": "u0Dro3dQve75",
        "outputId": "336e9849-7830-4170-fa6e-7bdc9d6887b1"
      },
      "execution_count": null,
      "outputs": [
        {
          "output_type": "stream",
          "name": "stderr",
          "text": [
            "WARNING:gensim.models.ldamodel:too few updates, training might not converge; consider increasing the number of passes or iterations to improve accuracy\n"
          ]
        },
        {
          "output_type": "stream",
          "name": "stdout",
          "text": [
            "topic-word-matrix\n",
            "topics\n",
            "topic-document-matrix\n",
            "test-topic-document-matrix\n"
          ]
        }
      ]
    },
    {
      "cell_type": "code",
      "source": [
        "pprint(lda_model.print_topics())\n",
        "doc_lda = lda_model[corpus]"
      ],
      "metadata": {
        "id": "ecys1J3rwrmL"
      },
      "execution_count": null,
      "outputs": []
    },
    {
      "cell_type": "code",
      "source": [
        "type(dataset.get_corpus())"
      ],
      "metadata": {
        "colab": {
          "base_uri": "https://localhost:8080/"
        },
        "id": "n9xgOXZEx8I0",
        "outputId": "6bf55c7b-ca28-42ee-cd98-b429e91ef4ab"
      },
      "execution_count": null,
      "outputs": [
        {
          "output_type": "execute_result",
          "data": {
            "text/plain": [
              "list"
            ]
          },
          "metadata": {},
          "execution_count": 68
        }
      ]
    },
    {
      "cell_type": "code",
      "source": [
        "dataset.get_corpus()[1]"
      ],
      "metadata": {
        "colab": {
          "base_uri": "https://localhost:8080/"
        },
        "id": "50m3ux_ZyBDr",
        "outputId": "7882279d-096f-43b1-bfd5-76b30fd9a86e"
      },
      "execution_count": null,
      "outputs": [
        {
          "output_type": "execute_result",
          "data": {
            "text/plain": [
              "['run', 'server', 'server', 'install', 'run', 'add']"
            ]
          },
          "metadata": {},
          "execution_count": 70
        }
      ]
    },
    {
      "cell_type": "code",
      "source": [
        "# Initialize metric\n",
        "npmi = Coherence(texts=all_keywords, topk=10, measure='c_npmi') #to co tu wchodzi to lista list ze słowami"
      ],
      "metadata": {
        "id": "6K35g7_jv6R0"
      },
      "execution_count": null,
      "outputs": []
    },
    {
      "cell_type": "code",
      "source": [
        "# Initialize metric\n",
        "topic_diversity = TopicDiversity(topk=10)"
      ],
      "metadata": {
        "id": "qF-R-ulqv6UP"
      },
      "execution_count": null,
      "outputs": []
    },
    {
      "cell_type": "code",
      "source": [
        "# Retrieve metrics score\n",
        "topic_diversity_score = topic_diversity.score(output)\n",
        "print(\"Topic diversity: \"+str(topic_diversity_score))\n",
        "\n",
        "npmi_score = npmi.score(output)\n",
        "print(\"Coherence: \"+str(npmi_score))"
      ],
      "metadata": {
        "colab": {
          "base_uri": "https://localhost:8080/",
          "height": 356
        },
        "id": "kLv3rQ0gv6XN",
        "outputId": "663e077d-134c-4e6d-e72e-62c23c93538c"
      },
      "execution_count": null,
      "outputs": [
        {
          "output_type": "stream",
          "name": "stdout",
          "text": [
            "Topic diversity: 0.695\n"
          ]
        },
        {
          "output_type": "error",
          "ename": "ValueError",
          "evalue": "unable to interpret topic as either a list of tokens or a list of ids",
          "traceback": [
            "\u001b[0;31m---------------------------------------------------------------------------\u001b[0m",
            "\u001b[0;31mValueError\u001b[0m                                Traceback (most recent call last)",
            "\u001b[0;32m<ipython-input-109-d15c050d0da4>\u001b[0m in \u001b[0;36m<cell line: 5>\u001b[0;34m()\u001b[0m\n\u001b[1;32m      3\u001b[0m \u001b[0mprint\u001b[0m\u001b[0;34m(\u001b[0m\u001b[0;34m\"Topic diversity: \"\u001b[0m\u001b[0;34m+\u001b[0m\u001b[0mstr\u001b[0m\u001b[0;34m(\u001b[0m\u001b[0mtopic_diversity_score\u001b[0m\u001b[0;34m)\u001b[0m\u001b[0;34m)\u001b[0m\u001b[0;34m\u001b[0m\u001b[0;34m\u001b[0m\u001b[0m\n\u001b[1;32m      4\u001b[0m \u001b[0;34m\u001b[0m\u001b[0m\n\u001b[0;32m----> 5\u001b[0;31m \u001b[0mnpmi_score\u001b[0m \u001b[0;34m=\u001b[0m \u001b[0mnpmi\u001b[0m\u001b[0;34m.\u001b[0m\u001b[0mscore\u001b[0m\u001b[0;34m(\u001b[0m\u001b[0moutput\u001b[0m\u001b[0;34m)\u001b[0m\u001b[0;34m\u001b[0m\u001b[0;34m\u001b[0m\u001b[0m\n\u001b[0m\u001b[1;32m      6\u001b[0m \u001b[0mprint\u001b[0m\u001b[0;34m(\u001b[0m\u001b[0;34m\"Coherence: \"\u001b[0m\u001b[0;34m+\u001b[0m\u001b[0mstr\u001b[0m\u001b[0;34m(\u001b[0m\u001b[0mnpmi_score\u001b[0m\u001b[0;34m)\u001b[0m\u001b[0;34m)\u001b[0m\u001b[0;34m\u001b[0m\u001b[0;34m\u001b[0m\u001b[0m\n",
            "\u001b[0;32m/usr/local/lib/python3.10/dist-packages/octis/evaluation_metrics/coherence_metrics.py\u001b[0m in \u001b[0;36mscore\u001b[0;34m(self, model_output)\u001b[0m\n\u001b[1;32m     62\u001b[0m             \u001b[0;32mraise\u001b[0m \u001b[0mException\u001b[0m\u001b[0;34m(\u001b[0m\u001b[0;34m'Words in topics are less than topk'\u001b[0m\u001b[0;34m)\u001b[0m\u001b[0;34m\u001b[0m\u001b[0;34m\u001b[0m\u001b[0m\n\u001b[1;32m     63\u001b[0m         \u001b[0;32melse\u001b[0m\u001b[0;34m:\u001b[0m\u001b[0;34m\u001b[0m\u001b[0;34m\u001b[0m\u001b[0m\n\u001b[0;32m---> 64\u001b[0;31m             npmi = CoherenceModel(\n\u001b[0m\u001b[1;32m     65\u001b[0m                 \u001b[0mtopics\u001b[0m\u001b[0;34m=\u001b[0m\u001b[0mtopics\u001b[0m\u001b[0;34m,\u001b[0m\u001b[0;34m\u001b[0m\u001b[0;34m\u001b[0m\u001b[0m\n\u001b[1;32m     66\u001b[0m                 \u001b[0mtexts\u001b[0m\u001b[0;34m=\u001b[0m\u001b[0mself\u001b[0m\u001b[0;34m.\u001b[0m\u001b[0m_texts\u001b[0m\u001b[0;34m,\u001b[0m\u001b[0;34m\u001b[0m\u001b[0;34m\u001b[0m\u001b[0m\n",
            "\u001b[0;32m/usr/local/lib/python3.10/dist-packages/gensim/models/coherencemodel.py\u001b[0m in \u001b[0;36m__init__\u001b[0;34m(self, model, topics, texts, corpus, dictionary, window_size, keyed_vectors, coherence, topn, processes)\u001b[0m\n\u001b[1;32m    213\u001b[0m         \u001b[0mself\u001b[0m\u001b[0;34m.\u001b[0m\u001b[0m_accumulator\u001b[0m \u001b[0;34m=\u001b[0m \u001b[0;32mNone\u001b[0m\u001b[0;34m\u001b[0m\u001b[0;34m\u001b[0m\u001b[0m\n\u001b[1;32m    214\u001b[0m         \u001b[0mself\u001b[0m\u001b[0;34m.\u001b[0m\u001b[0m_topics\u001b[0m \u001b[0;34m=\u001b[0m \u001b[0;32mNone\u001b[0m\u001b[0;34m\u001b[0m\u001b[0;34m\u001b[0m\u001b[0m\n\u001b[0;32m--> 215\u001b[0;31m         \u001b[0mself\u001b[0m\u001b[0;34m.\u001b[0m\u001b[0mtopics\u001b[0m \u001b[0;34m=\u001b[0m \u001b[0mtopics\u001b[0m\u001b[0;34m\u001b[0m\u001b[0;34m\u001b[0m\u001b[0m\n\u001b[0m\u001b[1;32m    216\u001b[0m \u001b[0;34m\u001b[0m\u001b[0m\n\u001b[1;32m    217\u001b[0m         \u001b[0mself\u001b[0m\u001b[0;34m.\u001b[0m\u001b[0mprocesses\u001b[0m \u001b[0;34m=\u001b[0m \u001b[0mprocesses\u001b[0m \u001b[0;32mif\u001b[0m \u001b[0mprocesses\u001b[0m \u001b[0;34m>=\u001b[0m \u001b[0;36m1\u001b[0m \u001b[0;32melse\u001b[0m \u001b[0mmax\u001b[0m\u001b[0;34m(\u001b[0m\u001b[0;36m1\u001b[0m\u001b[0;34m,\u001b[0m \u001b[0mmp\u001b[0m\u001b[0;34m.\u001b[0m\u001b[0mcpu_count\u001b[0m\u001b[0;34m(\u001b[0m\u001b[0;34m)\u001b[0m \u001b[0;34m-\u001b[0m \u001b[0;36m1\u001b[0m\u001b[0;34m)\u001b[0m\u001b[0;34m\u001b[0m\u001b[0;34m\u001b[0m\u001b[0m\n",
            "\u001b[0;32m/usr/local/lib/python3.10/dist-packages/gensim/models/coherencemodel.py\u001b[0m in \u001b[0;36mtopics\u001b[0;34m(self, topics)\u001b[0m\n\u001b[1;32m    428\u001b[0m             \u001b[0mnew_topics\u001b[0m \u001b[0;34m=\u001b[0m \u001b[0;34m[\u001b[0m\u001b[0;34m]\u001b[0m\u001b[0;34m\u001b[0m\u001b[0;34m\u001b[0m\u001b[0m\n\u001b[1;32m    429\u001b[0m             \u001b[0;32mfor\u001b[0m \u001b[0mtopic\u001b[0m \u001b[0;32min\u001b[0m \u001b[0mtopics\u001b[0m\u001b[0;34m:\u001b[0m\u001b[0;34m\u001b[0m\u001b[0;34m\u001b[0m\u001b[0m\n\u001b[0;32m--> 430\u001b[0;31m                 \u001b[0mtopic_token_ids\u001b[0m \u001b[0;34m=\u001b[0m \u001b[0mself\u001b[0m\u001b[0;34m.\u001b[0m\u001b[0m_ensure_elements_are_ids\u001b[0m\u001b[0;34m(\u001b[0m\u001b[0mtopic\u001b[0m\u001b[0;34m)\u001b[0m\u001b[0;34m\u001b[0m\u001b[0;34m\u001b[0m\u001b[0m\n\u001b[0m\u001b[1;32m    431\u001b[0m                 \u001b[0mnew_topics\u001b[0m\u001b[0;34m.\u001b[0m\u001b[0mappend\u001b[0m\u001b[0;34m(\u001b[0m\u001b[0mtopic_token_ids\u001b[0m\u001b[0;34m)\u001b[0m\u001b[0;34m\u001b[0m\u001b[0;34m\u001b[0m\u001b[0m\n\u001b[1;32m    432\u001b[0m \u001b[0;34m\u001b[0m\u001b[0m\n",
            "\u001b[0;32m/usr/local/lib/python3.10/dist-packages/gensim/models/coherencemodel.py\u001b[0m in \u001b[0;36m_ensure_elements_are_ids\u001b[0;34m(self, topic)\u001b[0m\n\u001b[1;32m    452\u001b[0m             \u001b[0;32mreturn\u001b[0m \u001b[0mnp\u001b[0m\u001b[0;34m.\u001b[0m\u001b[0marray\u001b[0m\u001b[0;34m(\u001b[0m\u001b[0mids_from_ids\u001b[0m\u001b[0;34m)\u001b[0m\u001b[0;34m\u001b[0m\u001b[0;34m\u001b[0m\u001b[0m\n\u001b[1;32m    453\u001b[0m         \u001b[0;32melse\u001b[0m\u001b[0;34m:\u001b[0m\u001b[0;34m\u001b[0m\u001b[0;34m\u001b[0m\u001b[0m\n\u001b[0;32m--> 454\u001b[0;31m             \u001b[0;32mraise\u001b[0m \u001b[0mValueError\u001b[0m\u001b[0;34m(\u001b[0m\u001b[0;34m'unable to interpret topic as either a list of tokens or a list of ids'\u001b[0m\u001b[0;34m)\u001b[0m\u001b[0;34m\u001b[0m\u001b[0;34m\u001b[0m\u001b[0m\n\u001b[0m\u001b[1;32m    455\u001b[0m \u001b[0;34m\u001b[0m\u001b[0m\n\u001b[1;32m    456\u001b[0m     \u001b[0;32mdef\u001b[0m \u001b[0m_update_accumulator\u001b[0m\u001b[0;34m(\u001b[0m\u001b[0mself\u001b[0m\u001b[0;34m,\u001b[0m \u001b[0mnew_topics\u001b[0m\u001b[0;34m)\u001b[0m\u001b[0;34m:\u001b[0m\u001b[0;34m\u001b[0m\u001b[0;34m\u001b[0m\u001b[0m\n",
            "\u001b[0;31mValueError\u001b[0m: unable to interpret topic as either a list of tokens or a list of ids"
          ]
        }
      ]
    },
    {
      "cell_type": "code",
      "source": [
        "from octis.evaluation_metrics.diversity_metrics import TopicDiversity\n",
        "\n",
        "metric = TopicDiversity(topk=10) # Initialize metric\n",
        "topic_diversity_score = metric.score(model_output) # Compute score of the metric"
      ],
      "metadata": {
        "colab": {
          "base_uri": "https://localhost:8080/",
          "height": 176
        },
        "id": "2gx-N93nzJuH",
        "outputId": "5c44fec3-ab6a-45f5-ca07-a98dd88a39c0"
      },
      "execution_count": null,
      "outputs": [
        {
          "output_type": "error",
          "ename": "NameError",
          "evalue": "name 'model_output' is not defined",
          "traceback": [
            "\u001b[0;31m---------------------------------------------------------------------------\u001b[0m",
            "\u001b[0;31mNameError\u001b[0m                                 Traceback (most recent call last)",
            "\u001b[0;32m<ipython-input-80-bf9d2a759c56>\u001b[0m in \u001b[0;36m<cell line: 4>\u001b[0;34m()\u001b[0m\n\u001b[1;32m      2\u001b[0m \u001b[0;34m\u001b[0m\u001b[0m\n\u001b[1;32m      3\u001b[0m \u001b[0mmetric\u001b[0m \u001b[0;34m=\u001b[0m \u001b[0mTopicDiversity\u001b[0m\u001b[0;34m(\u001b[0m\u001b[0mtopk\u001b[0m\u001b[0;34m=\u001b[0m\u001b[0;36m10\u001b[0m\u001b[0;34m)\u001b[0m \u001b[0;31m# Initialize metric\u001b[0m\u001b[0;34m\u001b[0m\u001b[0;34m\u001b[0m\u001b[0m\n\u001b[0;32m----> 4\u001b[0;31m \u001b[0mtopic_diversity_score\u001b[0m \u001b[0;34m=\u001b[0m \u001b[0mmetric\u001b[0m\u001b[0;34m.\u001b[0m\u001b[0mscore\u001b[0m\u001b[0;34m(\u001b[0m\u001b[0mmodel_output\u001b[0m\u001b[0;34m)\u001b[0m \u001b[0;31m# Compute score of the metric\u001b[0m\u001b[0;34m\u001b[0m\u001b[0;34m\u001b[0m\u001b[0m\n\u001b[0m",
            "\u001b[0;31mNameError\u001b[0m: name 'model_output' is not defined"
          ]
        }
      ]
    },
    {
      "cell_type": "code",
      "source": [
        "# list of lists of strings model_output\n",
        "# a jakby w taką postać przekształcić te labelki, które oni mi dali?"
      ],
      "metadata": {
        "id": "cUUOv1ni1-PT"
      },
      "execution_count": null,
      "outputs": []
    },
    {
      "cell_type": "code",
      "source": [
        "# 3i ten mój zbiór danych, który już mam przekształcić w taki dataset jak oni chcieli do zapisu w plikach?\n",
        "#i na tym puścić ich model?"
      ],
      "metadata": {
        "id": "lLiNIm2d2TaO"
      },
      "execution_count": null,
      "outputs": []
    },
    {
      "cell_type": "code",
      "source": [
        "data[0].keys()"
      ],
      "metadata": {
        "colab": {
          "base_uri": "https://localhost:8080/"
        },
        "id": "2M3TS-WE3I0h",
        "outputId": "b942a7f8-70bd-451a-9b8d-51f580f8d633"
      },
      "execution_count": null,
      "outputs": [
        {
          "output_type": "execute_result",
          "data": {
            "text/plain": [
              "dict_keys(['_id', 'Source', 'SourceType', 'Title', 'Links', 'Description', 'Content', 'PublishedDate', 'Keywords', 'ProcessingSteps', 'NERs', 'QType', 'MatchedCompanies', 'Authors', 'ImageUrl'])"
            ]
          },
          "metadata": {},
          "execution_count": 83
        }
      ]
    },
    {
      "cell_type": "code",
      "source": [
        "all_keywords=[]\n",
        "for i in range(len(data)):\n",
        "  all_keywords.append(data[i]['Keywords']['FromDescription'])"
      ],
      "metadata": {
        "id": "r9Qn0JAd4M1N"
      },
      "execution_count": null,
      "outputs": []
    },
    {
      "cell_type": "code",
      "source": [
        "data[0]['Keywords']['FromDescription']"
      ],
      "metadata": {
        "colab": {
          "base_uri": "https://localhost:8080/"
        },
        "id": "Hx4YtKXm3JH1",
        "outputId": "5ef57e20-0643-4503-db4e-032113a1eac0"
      },
      "execution_count": null,
      "outputs": [
        {
          "output_type": "execute_result",
          "data": {
            "text/plain": [
              "['olly alexander',\n",
              " 'singer olly',\n",
              " 'calling israel',\n",
              " 'apartheid regime',\n",
              " 'drop singer',\n",
              " 'letter calling',\n",
              " 'bbc',\n",
              " 'israel apartheid',\n",
              " 'eurovision',\n",
              " 'bbc decide',\n",
              " 'olly',\n",
              " 'telegraph reported',\n",
              " 'israel',\n",
              " 'letter weeks',\n",
              " 'urged',\n",
              " 'uk',\n",
              " 'apartheid',\n",
              " 'singer',\n",
              " 'uks',\n",
              " 'jewish',\n",
              " 'state',\n",
              " 'letter',\n",
              " 'signed',\n",
              " 'regime',\n",
              " 'sack',\n",
              " 'alexander']"
            ]
          },
          "metadata": {},
          "execution_count": 85
        }
      ]
    },
    {
      "cell_type": "markdown",
      "source": [
        "# change data format\n",
        "\n",
        "to use it for octis to check metrics between (keywords and article) and (found topics and article) //to use to measure the performance, as for now there are still no labels"
      ],
      "metadata": {
        "id": "CkiumHcmuk4X"
      }
    },
    {
      "cell_type": "code",
      "source": [
        "import json\n",
        "import pandas as pd\n",
        "import copy\n",
        "import re\n",
        "import nltk\n",
        "nltk.download('stopwords')\n",
        "from nltk.corpus import stopwords\n",
        "import spacy\n",
        "import gensim.corpora as corpora"
      ],
      "metadata": {
        "colab": {
          "base_uri": "https://localhost:8080/"
        },
        "id": "MMCwoN9Kuebz",
        "outputId": "fdc08996-683c-4142-851b-7efb6057c688"
      },
      "execution_count": 5,
      "outputs": [
        {
          "output_type": "stream",
          "name": "stderr",
          "text": [
            "[nltk_data] Downloading package stopwords to /root/nltk_data...\n",
            "[nltk_data]   Unzipping corpora/stopwords.zip.\n"
          ]
        }
      ]
    },
    {
      "cell_type": "code",
      "source": [
        "with open('Articles_2023_small.json') as json_file:\n",
        "  data = json.load(json_file)"
      ],
      "metadata": {
        "id": "WhSx4Nd03Kb7"
      },
      "execution_count": 30,
      "outputs": []
    },
    {
      "cell_type": "code",
      "source": [
        "data_df = pd.DataFrame(data)"
      ],
      "metadata": {
        "id": "4j2xm_eHuegm"
      },
      "execution_count": 31,
      "outputs": []
    },
    {
      "cell_type": "code",
      "source": [
        "#leave only the most important columns\n",
        "important_data_df=copy.deepcopy(data_df)\n",
        "important_data_df=important_data_df.drop(columns=['Source', 'SourceType', 'Links','PublishedDate', 'Authors', 'ImageUrl'])\n",
        "\n",
        "#remove punctuation\n",
        "important_data_df['Description'] = important_data_df['Description'].map(lambda x: re.sub('[,\\.!?\\'\"%]', \"\", str(x)))\n",
        "important_data_df['Content'] = important_data_df['Content'].map(lambda x: re.sub('[,\\.!\\'?\"%]', \"\", str(x)))\n",
        "\n",
        "#lower casing\n",
        "important_data_df['Description'] = important_data_df['Description'].map(lambda x: str(x).lower())\n",
        "important_data_df['Content'] = important_data_df['Content'].map(lambda x: str(x).lower())\n",
        "\n",
        "#remove stop words\n",
        "stop_words=stopwords.words('english')\n",
        "\n",
        "def remove_stopwords(text, stop_words):\n",
        "  return ' '.join([word for word in text.split() if word not in stop_words])\n",
        "\n",
        "data_removed_sw_df=copy.deepcopy(important_data_df)\n",
        "data_removed_sw_df['Description'] = data_removed_sw_df['Description'].apply(remove_stopwords, stop_words=stop_words)\n",
        "data_removed_sw_df['Content'] = data_removed_sw_df['Content'].apply(remove_stopwords, stop_words=stop_words)\n",
        "\n",
        "#lemmatization - sth not working here\n",
        "def lemmatization(texts, allowed_postags=['NOUN', 'ADJ', 'VERB', 'ADV']):\n",
        "    \"\"\"https://spacy.io/api/annotation\"\"\"\n",
        "    texts_out = []\n",
        "    # doc = nlp(\" \".join(texts))\n",
        "    # return ' '.join([token.lemma_ for token in doc if token.pos_ in allowed_postags])\n",
        "    for sent in texts:\n",
        "        doc = nlp(\"\".join(sent))\n",
        "        texts_out.append([token.lemma_ for token in doc if token.pos_ in allowed_postags])\n",
        "    return texts_out\n",
        "#po co ja ten content też przerzucam?\n",
        "\n",
        "\n",
        "# Initialize spacy 'en' model, keeping only tagger component (for efficiency)\n",
        "nlp = spacy.load(\"en_core_web_sm\", disable=['parser', 'ner'])\n",
        "\n",
        "# Do lemmatization keeping only noun, adj, vb, adv\n",
        "data_lemmatized = lemmatization(data_removed_sw_df['Description'], allowed_postags=['NOUN', 'ADJ', 'VERB', 'ADV'])\n",
        "\n",
        "print(data_lemmatized[:1][0][:30])\n",
        "\n",
        "# create corpus and dictionary\n",
        "\n",
        "# dictionary\n",
        "id2word = corpora.Dictionary(data_lemmatized)\n",
        "\n",
        "#corpus\n",
        "texts = data_lemmatized\n",
        "\n",
        "# term document frequency\n",
        "corpus = [id2word.doc2bow(text) for text in texts]"
      ],
      "metadata": {
        "colab": {
          "base_uri": "https://localhost:8080/"
        },
        "id": "uI4zQQYr3VtL",
        "outputId": "577eb7df-166f-44dc-b07f-2eddc20230f3"
      },
      "execution_count": 32,
      "outputs": [
        {
          "output_type": "stream",
          "name": "stdout",
          "text": [
            "['urge', 'drop', 'singer', 'olly', 'entrant', 'eurovision', 'emerge', 'sign', 'letter', 'call', 'regime', 'plan', 'take', 'action', 'singer', 'sign', 'letter', 'week', 'unveil', 'report', 'current', 'event', 'simply', 'escalation', 'state', 'israel', 'apartheid', 'regime', 'act', 'ethnically']\n"
          ]
        }
      ]
    },
    {
      "cell_type": "code",
      "source": [],
      "metadata": {
        "id": "HhYLCg-x4TpA"
      },
      "execution_count": null,
      "outputs": []
    },
    {
      "cell_type": "code",
      "source": [
        "#dodać do texts kolumnę czy to train czy co - losowo to powrzucać, typu 0.6 train, 0.2 val, 0.2 test\n",
        "texts #to zapisać do corpus.tsv"
      ],
      "metadata": {
        "id": "eiTu-omU3ouR"
      },
      "execution_count": 13,
      "outputs": []
    },
    {
      "cell_type": "code",
      "source": [
        "#create vocabulary\n",
        "\n",
        "def create_vocabulary(corpus):\n",
        "  vocabulary=set()\n",
        "  for document in corpus:\n",
        "    for word in document:\n",
        "      vocabulary.add(word)\n",
        "  return vocabulary"
      ],
      "metadata": {
        "id": "0gy5Skrx3tTr"
      },
      "execution_count": 22,
      "outputs": []
    },
    {
      "cell_type": "code",
      "source": [
        "vocab_test=create_vocabulary(texts)"
      ],
      "metadata": {
        "id": "Wl-VQ6vu4k23"
      },
      "execution_count": 33,
      "outputs": []
    },
    {
      "cell_type": "code",
      "source": [
        "corpus_strings = [' '.join(sublist) for sublist in texts]"
      ],
      "metadata": {
        "colab": {
          "base_uri": "https://localhost:8080/"
        },
        "id": "TtAsxolY77f7",
        "outputId": "20e824b4-7dc3-428f-c3a9-8b3413fe24d8"
      },
      "execution_count": 44,
      "outputs": [
        {
          "output_type": "execute_result",
          "data": {
            "text/plain": [
              "['urge drop singer olly entrant eurovision emerge sign letter call regime plan take action singer sign letter week unveil report current event simply escalation state israel apartheid regime act ethnically cleanse land maybe time stop let decide represent first ever eurovision victory come year annual competition launch sandie shaw puppet string',\n",
              " 'olly new eurovision act criticise signing statement accuse genocide describe apartheid state response statement spokesperson campaign antisemitism tell sky news alexander remove eurovision representative rhetoric letter seemingly endorse olly say philosemitism controversial term refer special interest respect admiration jewish people jewish history jewish stereotype sky contact olly comment',\n",
              " 'union representative claim bar inspect mcdonald worker complain see rat restaurant week employee adelaide report almost daily sighting send representative investigate worker diner claim faulty wiring fall ceiling tile infestation create unsafe work environment spokesperson say direct contact franchisee store regard allegation make report concern report shop distributive ally employee send representative confirm allegation',\n",
              " 'invite gun allege fraudster invite allege fraudster convict gun smuggler accord court document accord telegraph introduce tarek libyan smuggler believe come together dinner potential investor turk repay isbilen solicitor write offer explanation turk deny dishonestly misappropriate money say decide give initiative',\n",
              " 'set use artificial intelligence crack unauthorized new year eve party ban violator set use artificial intelligence crack unauthorized new year eve party ban violator perform square previous year personally greet virtually lucky guest transparent dome see guest throw unauthorized party property book company decide codify party ban policy last year airbnb embrace ai crack new year eve party public reaction divide',\n",
              " 'say see lack diversity workplace long period time week radio live presenter say work overwhelmingly white bad mental health year old presenter post formerly know twitter lack diversity publicly fund broadcaster isolate lonely tell conference really affect walk see white arthanayake respond say white people see colour treat accordingly ever get follow interview live producer say organisation commit tackle lack diversity newsroom',\n",
              " 'woman emerge front runner take force quit disgrace face stiff competition oil giant turmoil resign chief executive fail fully transparent personal relationship colleague delaney become first woman lead top western oil gas firm lund already rule become chief executive follow early speculation take job delaney work marketing commercial role',\n",
              " 'top executive reveal company work wireless charge car appearance garage work inductive charging even need plug point say tesla spend wiferion german wireless charging startup know inductive charge fork lift truck vehicle report time purpose purchase acquire talent field inductive charging recently release small charge pad consumer electronic charge device',\n",
              " 'general cut size buick dealership network roughly ongoing voluntary program executive tell enable triple throughput remain dealer aldre say online interview buick plan continue offer buyout cost thus far next year average sale remain store still trail gmc brand largely share showroom buick accord aldre majority dealer take buyout small store represent buick annual sale',\n",
              " 'get free morning headline email news reporter world free morning headline email enter valid email address enter valid email address sign like email offer event update independent read privacy notice thank sign themorning headline email go wrong try later secure m donation oil giant bp vocal opposition environmental campaigner mayfield say ground urgent need renovation grateful vice - president say proud long term partner important british institution play part future transformation',\n",
              " 'extend year long partnership oil giant bp decade deal worth 50million however deal likely prove controversial critic long oppose museum relationship actress call drop activist occupy museum great court protest senior vice say offer window world million people pass door year culture unstained director call partnership bp',\n",
              " 'investigation also determine carrefour supplier require provide free product pay listing fee new branch open well post employee supermarket branch say statement share',\n",
              " 'sign agreement promote exchange business class ticket official visit agreement also allegedly include economy class flight pre - visit flight deputy mayor mayor say declare cost gla audit panel accordance rule agreement result formal partnership great contact comment',\n",
              " 'run competition give brokest staff trinket toil unsafe condition peanut delivery behemoth put flyer warehouse invite worker write letter mascot struggle financially particularly triple profit month sale worker warehouse already campaign safe working condition go strike cyber big day year worker picket factory cyber thanksgive demand well pay safe condition',\n",
              " 'global alternative asset private equity investor announce release global macro outlook identify decarbonization large scale brown green transition asset heavy sector particular key mega - theme drive investment opportunity report balance sheet head global macro asset note decarbonization effort date primarily focus asset light technology drive advance investment go forward aim enable scale climate impact likely much asset heavy nature generate large scale opportunity target large emission intensive sector global economy specifically report opportunity create requirement decarbonize traditional power generation property transportation industrial sector addition need upgrade global supply chain building center follow climate focus sector decarbonization move include launch global climate strategy team firm say marked expansion focus climate invest well recent investment include allocation transport grid decarbonization solution company zenobē acquisition early month energy electrification solution company smart metering system sm report also highlight climate relate opportunity emergence ai technology new form energy require footprint energy distribution rework reconfiguration represent major opportunity infrastructure part private equity mega - themes highlight outlook report include industrial automation security intra - asia connectivity labor productivity work development artificial intelligence click access report',\n",
              " 'attack southern multiple projectile launch houthi control territory official tell prompt send warship light deteriorate security situation ship decide temporarily pause transit meanwhile yemen align houthi rebel target ship sea missile drone late driving cost shipping good red meanwhile report today consider join western naval coalition mean protect ship',\n",
              " 'grow number company include pause shipment recent attack vessel houthi rebel light deteriorate security situation ship decide temporarily pause transit operation canal start pause follow attack vessel back houthi militant image hms diamond fire sea viper missile shoot launch series attack vessel launch drone missile target',\n",
              " 'even diehard city watcher forgive skim part company annual report many shareholder tome head straight pay section gawp boss bonus perk important large proportion bonus tie success imperial brand vape chief executive imperial brand large proportion bonus tie success company vape division sign important ciggie maker impressed achievement boss let slip breakfast often reeve recently wife',\n",
              " 'ceo push hard electric driverless car finish line keep move far away',\n",
              " 'autopilot system prompt tesla recent recall vehicle subject lawsuit claim company promise deliver case put people danger',\n",
              " 'launch sexual harassment probe top soap star accuse misconduct set unnamed male television star film new scene claim first make launch sexual harassment probe top scottish soap star accuse misconduct set say police involve harassment claim instead deal internally tell mailonline comment individual take allegation nature seriously bbc robust process place thoroughly investigate',\n",
              " 'federal agency seek force starbuck reopen store allegedly shutter last year order discourage nationwide union campaign agency seek order require starbuck immediately reopen store re - hire employee least company own starbuck store vote unionize accord national labor relation board picture starbuck worker unite starbuck store dupont decide sue worker demand stop use name starbuck worker post pro - palestinian message social medium',\n",
              " 'public comment period draft report extend afford public little time review provide feedback holiday season accord draft report control water sewer system transfer new authority board member appoint governor task force conduct racial economic equity assessment regional water authority argue issue address transition authority example consultant claim evidence regional authority improve worker retention information show water system lose nearly percent workforce transition great lake water authority case study regional authority lead mass water shutoff water privatization loss potentially thousand unionized position city county government',\n",
              " 'cruise majority own autonomous vehicle subsidiary increasingly look next massively cut spending growth plan business include pause production new robotaxi autonomous vehicle viable commercialize autonomous vehicle pan far challenge many predict even year ago -backe also continue test autonomous vehicle several state',\n",
              " 'become interested try gather strength say mandeí indigenous sister mandei leave right pose picture community canutama state indigenous kid play indigenous territory roughly size cover old growth amazon rainfor starry sky shine indigenous community',\n",
              " 'volunteer hold sign push unionize starbuck worker continue front store federal labor regulator look force starbuck reopen area starbuck store location close country move allegedly do suppress union organize complaint file national labor relation board accuse starbuck close store worker engage union activity fail participate collective bargaining unionize store complaint late confirmation starbuck determination illegally oppose worker organize member starbuck worker say statement believe store first starbuck location attempt unionization shut halt effort unionize',\n",
              " 'company announce let go person workforce percent cut cost slew safety problem footage take cruise vehicle view reveal car hit woman throw path taxi run cruise driverless taxi block ambulance carry critically injure car crash victim later die hospital general say lose result worker strike cut spending cruise save money buy company expect annual revenue cruise big jump last year',\n",
              " 'group current former prisoner sue state alleging make 450million force work fast food chain lawsuit file court claim prisoner force modern day form slavery state plaintiff say regularly force work mcdonald burger king franchise anheuser busch distributor meat processor accord complaint inmate live constant danger murder stab rape refuse work state punish even contact state comment',\n",
              " 'disgrace ex - bp boss say proud leadership oil company board find guilty serious misconduct say proud achieve colleague time chief executive officer look future want simply wish bp good investor look draw line series scandal make chief executive appointment analyst say recent chief executive force resign prompt concern workplace culture',\n",
              " 'female soccer fan claim small win long campaign allow stadium watch man game decade total exclusion harassment photograph post social medium campaign group open stadium female fan azadi stadium tehran big game rival persepolis woman mainly prohibit attend man soccer game sport event islamic revolution breakthrough come month fan bring issue game world ongoing dialogue progress make infantino write instagram account',\n",
              " 'cotton piece title send troop call army use tackle criminal rioting spark instant backlash staff time say call harsh intervention piece undermine paper commitment protestor safety bennet say staff even quit day piece run say receive call publisher sulzberger demand resignation paper shift away foster diverse inclusive debate claim enter environment enforce group think conservative voice even eloquent anti - trump conservative voice despise closing piece bennet say eject way avoid confront question value time commit',\n",
              " 'dancing edge bbc new social medium guideline taunt grant shapps tweet accord former controller post prompt question defence secretary say former footballer stop meddle area conservative speak beeb watch damazer say s dance edge border new social medium policy think agree least push edge say think helpful support become story',\n",
              " 'announce internally lie employee company confirm support impact cruiser strong severance benefit package grateful depart employee play important role build cruise support mission know first priority treat depart cruiser fairness describe bonus impact employee receive bonus eligible target payout impact employee receive bonus eligible target payout',\n",
              " 'carbon removal solution provider carbonfuture announce today new offtake agreement removal credit collaboration bolivia base project set deliver tonne carbon dioxide removal credit deal mark large date purchase agreement project carbonfuture initiative ’ testament commitment environmental sustainability community empowerment recently publish carbon removal briefing describe biochar mainstay medium durability portfolio plan carbon removal bridge durability cost gap short duration solution afforestation long duration high cost solution marr senior director say',\n",
              " 'photo dilara getty spending record amount money lobby federal government year short term rental service airbnb vrbo come increase scrutiny impact housing affordability traditional hospitality industry hotel federal lobbying report list bill name hotel fee transparency act introduce minn require price show short term rental listing include require fee spokesperson company tell opensecret anticipate surpass last year federal lobbying total',\n",
              " 'business create calm space customer feel sensory overload',\n",
              " 'state official pension employee seek exemption anti - esg law',\n",
              " 'driver diesel car fork much time electric vehicle borough greenwich charge resident emission car year parking permit owner pollute vehicle fork massive band c car park charge hour respectively dozen borough include introduce similar scheme base parking charge emission level also month announce charge base vehicle emission',\n",
              " 'cent firm overall role senior leader cent senior leader man speak senior hire aviva staff overall group rejoin group say base act sack male employee inappropriate behaviour belief woman senior management role behaviour go away',\n",
              " 'read privacy notice thank sign themorning headline email go wrong try later tesco recall stuffing product contain moth tesco apologise customer inconvenience warning message share supermarket chain make mention moth end stuffing product food standard independent government department responsible public health relation food problem food product sell withdraw recall',\n",
              " 'say former chief executive lose much compensation result abrupt resignation relationship colleague',\n",
              " 'last night conclude former chief executive guilty serious misconduct scandal relationship colleague oil giant board lead industry veteran lund decide pay bonus scandal centre probe launch last year claim source cost scandal former oil boss dwarf sum strip topple boss divorce wife year shortly become chief executive oil giant',\n",
              " 'say sexism financial service sector worse wide society become insurer first female chief executive sit board tell mp very positive experience industry say many woman deal societal issue definitely amplify financial service add speak part sexism city inquiry launch harassment allegation rock business world become first female chief exec tell mp very positive experience industry many woman not’the testimony also include evidence woman exclude key meeting overlook promotion',\n",
              " 'last hear former bad place dismiss summarily provide mislead information personal relationship colleague give eye pop size clawback demand £ 3243million understand loss wealth put rise forfeiture 76million follow disclosure detail banking arrangement look modest much happen boot public domain walgreen public list british defence aerospace champion pick contract run ammunition plant decade',\n",
              " 'hand almost 500million italian authority end protract tax dispute prosecutor say fail comply law oblige short term rental platform collect cent rental income behalf tax authority result pay company last month accuse owe much £ 672million short term rental taxis airbnb say vast majority host ordinary family use platform supplemental income florence year ban new listing tourist bed exceed number long term resident',\n",
              " 'come estimate item collection worth million pound find miss steal damaged police investigate',\n",
              " 'probably breach bbc social medium guideline taunt row scheme bbc income chairman say today write social medium read new guideline say read hear shah announcement today post social medium appreciate incoming chairman view lineker social medium activity see come fire critic attack government policy say regulator',\n",
              " 'former boss m actual potential pay mislead board workplace relationship company announce figure believe large amount ever forfeit former chief executive say give assurance regard disclosure personal relationship well future behaviour spokesperson say follow careful consideration board conclude provide inaccurate incomplete assurance knowingly mislead board follow resignation bps chief financial officer auchincloss appoint chief executive interim basis',\n",
              " 'read privacy notice thank signing theview westminster email go wrong try later tweet mock right wing tory mp break social medium guideline income chairman corporation say accuse breach guideline grant warn stick football plan criticism discuss issue arise presenter say sunak agree shah',\n",
              " 'federal court jury decide late store play use anti - competitive practice hurt consumer software developer result markedly different epic game similar effort change apple app store lose count big difference apple write trial epic game instead focus lock app store market deal handset maker scare user away use android sideloade functionality security warning also reveal enter talk investment maker',\n",
              " 'kind - hearted schoolboy open present bank help struggle afford buy gift family s receive worth donation aldi help get start year make headline shed use food bank raid burglar steal worth food budget supermarket take support step donate worth gift new present bank start bank worth grocery',\n",
              " 'social medium post defence appear breach bbc guideline government candidate corporation chairman say enable cookie allow cookie news daily get former footballer recently hit question match day host express political view enable cookie allow cookie oncemr shapp previously accuse breach code conduct minister mp continue work marketer get rich quick scheme pseudonym enter parliament view content use cookie session enable cookie allow cookie oncea previous twitter scandal involve lead strengthen social medium guideline staff issue impartiality civility',\n",
              " 'mastercard face prospect cap so call interchange fee charge transaction make estimate cost business extra last year alone regulator say probe time people use mastercard visa debit credit card issue online retail transaction business pay cross - border interchange fee design make sure cross - border interchange fee set level well reflect interest mastercard visa user accept reliable secure innovative digital payment represent enormous value business especially sell overseas spokesperson say',\n",
              " 'competition authority launch probe environmental claim make dove soap owner say new investigation company follow',\n",
              " 'foot tall loom new electric car assembly line central use import shock absorber central car make chinese factory rely decade engineer design car chinese market volkswagen begin hire team nearly chinese engineer include hundred transfer volkswagen operation elsewhere electric car industrial new strategy volkswagen call sign command electric vehicle upend global auto making',\n",
              " 'go lot term look material see travel responsible way supply chain steelmaker',\n",
              " 'unilever investigation claim mislead customer exaggerate green product investigation major embarrassment well know brandish woke credential far evidence ve see raise concern present certain product environmentally friendly cma look green claim make unilever stack say concerned use vague broad claim unclear statement recyclability natural looking image logo face investigation thing speak',\n",
              " 'face call ditch demand mechanic inspect safety critical work try claw profit lose due crash pandemic inspector reason machinist aerospace worker tell rely self inspection manufacturing supplier insist apply less percent task company abandon practice plant last year automate process former say technology steadily away need manual inspection',\n",
              " 'unscrupulous often indecipherable pricing policy least bit surprised already dock allege greedflation find probe competition market authority cma overstate claim green credential suspect opposite number cma amuse cartel like lack transparency cma contend language use mislead consumer environmental impact introduction egk solution mean bmg relate institution confirm specification online',\n",
              " 'say early month company sell record single month take account widely hold theory electric vehicle sale dip people want buy various automaker announce second half year look reduce spend ev project automaker experience issue meet electric vehicle sale target write confirmation production figure cite automotive news receive response']"
            ]
          },
          "metadata": {},
          "execution_count": 44
        }
      ]
    },
    {
      "cell_type": "code",
      "source": [
        "import random"
      ],
      "metadata": {
        "id": "vGN5BK4s-dZE"
      },
      "execution_count": 46,
      "outputs": []
    },
    {
      "cell_type": "code",
      "source": [
        "proportions={'train': 0.6, 'text': 0.2, 'val': 0.2}\n",
        "labels=[]\n",
        "num_samples=len(corpus_strings)\n",
        "\n",
        "for i in range(num_samples):\n",
        "  choice = random.choices(list(proportions.keys()), weights=list(proportions.values()))[0]\n",
        "  labels.append(choice)\n",
        "\n",
        "df_corpus = pd.DataFrame({'text':corpus_strings, 'label':labels})"
      ],
      "metadata": {
        "id": "mkY2swzL67nP"
      },
      "execution_count": 47,
      "outputs": []
    },
    {
      "cell_type": "code",
      "source": [
        "df_corpus"
      ],
      "metadata": {
        "colab": {
          "base_uri": "https://localhost:8080/",
          "height": 1000
        },
        "id": "s31ztXJF7CLK",
        "outputId": "f0b82e21-a2e0-425a-dcc4-eccd62357691"
      },
      "execution_count": 48,
      "outputs": [
        {
          "output_type": "execute_result",
          "data": {
            "text/plain": [
              "                                                 text  label\n",
              "0   urge drop singer olly entrant eurovision emerg...  train\n",
              "1   olly new eurovision act criticise signing stat...  train\n",
              "2   union representative claim bar inspect mcdonal...  train\n",
              "3   invite gun allege fraudster invite allege frau...  train\n",
              "4   set use artificial intelligence crack unauthor...  train\n",
              "5   say see lack diversity workplace long period t...    val\n",
              "6   woman emerge front runner take force quit disg...  train\n",
              "7   top executive reveal company work wireless cha...   text\n",
              "8   general cut size buick dealership network roug...    val\n",
              "9   get free morning headline email news reporter ...   text\n",
              "10  extend year long partnership oil giant bp deca...  train\n",
              "11  investigation also determine carrefour supplie...  train\n",
              "12  sign agreement promote exchange business class...  train\n",
              "13  run competition give brokest staff trinket toi...  train\n",
              "14  global alternative asset private equity invest...  train\n",
              "15  attack southern multiple projectile launch hou...   text\n",
              "16  grow number company include pause shipment rec...  train\n",
              "17  even diehard city watcher forgive skim part co...  train\n",
              "18  ceo push hard electric driverless car finish l...  train\n",
              "19  autopilot system prompt tesla recent recall ve...    val\n",
              "20  launch sexual harassment probe top soap star a...  train\n",
              "21  federal agency seek force starbuck reopen stor...  train\n",
              "22  public comment period draft report extend affo...    val\n",
              "23  cruise majority own autonomous vehicle subsidi...   text\n",
              "24  become interested try gather strength say mand...  train\n",
              "25  volunteer hold sign push unionize starbuck wor...  train\n",
              "26  company announce let go person workforce perce...  train\n",
              "27  group current former prisoner sue state allegi...  train\n",
              "28  disgrace ex - bp boss say proud leadership oil...  train\n",
              "29  female soccer fan claim small win long campaig...    val\n",
              "30  cotton piece title send troop call army use ta...  train\n",
              "31  dancing edge bbc new social medium guideline t...  train\n",
              "32  announce internally lie employee company confi...  train\n",
              "33  carbon removal solution provider carbonfuture ...  train\n",
              "34  photo dilara getty spending record amount mone...   text\n",
              "35  business create calm space customer feel senso...  train\n",
              "36  state official pension employee seek exemption...  train\n",
              "37  driver diesel car fork much time electric vehi...  train\n",
              "38  cent firm overall role senior leader cent seni...  train\n",
              "39  read privacy notice thank sign themorning head...  train\n",
              "40  say former chief executive lose much compensat...   text\n",
              "41  last night conclude former chief executive gui...   text\n",
              "42  say sexism financial service sector worse wide...   text\n",
              "43  last hear former bad place dismiss summarily p...    val\n",
              "44  hand almost 500million italian authority end p...  train\n",
              "45  come estimate item collection worth million po...  train\n",
              "46  probably breach bbc social medium guideline ta...   text\n",
              "47  former boss m actual potential pay mislead boa...  train\n",
              "48  read privacy notice thank signing theview west...    val\n",
              "49  federal court jury decide late store play use ...  train\n",
              "50  kind - hearted schoolboy open present bank hel...  train\n",
              "51  social medium post defence appear breach bbc g...  train\n",
              "52  mastercard face prospect cap so call interchan...  train\n",
              "53  competition authority launch probe environment...   text\n",
              "54  foot tall loom new electric car assembly line ...  train\n",
              "55  go lot term look material see travel responsib...  train\n",
              "56  unilever investigation claim mislead customer ...  train\n",
              "57  face call ditch demand mechanic inspect safety...  train\n",
              "58  unscrupulous often indecipherable pricing poli...    val\n",
              "59  say early month company sell record single mon...    val"
            ],
            "text/html": [
              "\n",
              "  <div id=\"df-58eebefb-b696-4657-83f3-00c9d108f4b5\" class=\"colab-df-container\">\n",
              "    <div>\n",
              "<style scoped>\n",
              "    .dataframe tbody tr th:only-of-type {\n",
              "        vertical-align: middle;\n",
              "    }\n",
              "\n",
              "    .dataframe tbody tr th {\n",
              "        vertical-align: top;\n",
              "    }\n",
              "\n",
              "    .dataframe thead th {\n",
              "        text-align: right;\n",
              "    }\n",
              "</style>\n",
              "<table border=\"1\" class=\"dataframe\">\n",
              "  <thead>\n",
              "    <tr style=\"text-align: right;\">\n",
              "      <th></th>\n",
              "      <th>text</th>\n",
              "      <th>label</th>\n",
              "    </tr>\n",
              "  </thead>\n",
              "  <tbody>\n",
              "    <tr>\n",
              "      <th>0</th>\n",
              "      <td>urge drop singer olly entrant eurovision emerg...</td>\n",
              "      <td>train</td>\n",
              "    </tr>\n",
              "    <tr>\n",
              "      <th>1</th>\n",
              "      <td>olly new eurovision act criticise signing stat...</td>\n",
              "      <td>train</td>\n",
              "    </tr>\n",
              "    <tr>\n",
              "      <th>2</th>\n",
              "      <td>union representative claim bar inspect mcdonal...</td>\n",
              "      <td>train</td>\n",
              "    </tr>\n",
              "    <tr>\n",
              "      <th>3</th>\n",
              "      <td>invite gun allege fraudster invite allege frau...</td>\n",
              "      <td>train</td>\n",
              "    </tr>\n",
              "    <tr>\n",
              "      <th>4</th>\n",
              "      <td>set use artificial intelligence crack unauthor...</td>\n",
              "      <td>train</td>\n",
              "    </tr>\n",
              "    <tr>\n",
              "      <th>5</th>\n",
              "      <td>say see lack diversity workplace long period t...</td>\n",
              "      <td>val</td>\n",
              "    </tr>\n",
              "    <tr>\n",
              "      <th>6</th>\n",
              "      <td>woman emerge front runner take force quit disg...</td>\n",
              "      <td>train</td>\n",
              "    </tr>\n",
              "    <tr>\n",
              "      <th>7</th>\n",
              "      <td>top executive reveal company work wireless cha...</td>\n",
              "      <td>text</td>\n",
              "    </tr>\n",
              "    <tr>\n",
              "      <th>8</th>\n",
              "      <td>general cut size buick dealership network roug...</td>\n",
              "      <td>val</td>\n",
              "    </tr>\n",
              "    <tr>\n",
              "      <th>9</th>\n",
              "      <td>get free morning headline email news reporter ...</td>\n",
              "      <td>text</td>\n",
              "    </tr>\n",
              "    <tr>\n",
              "      <th>10</th>\n",
              "      <td>extend year long partnership oil giant bp deca...</td>\n",
              "      <td>train</td>\n",
              "    </tr>\n",
              "    <tr>\n",
              "      <th>11</th>\n",
              "      <td>investigation also determine carrefour supplie...</td>\n",
              "      <td>train</td>\n",
              "    </tr>\n",
              "    <tr>\n",
              "      <th>12</th>\n",
              "      <td>sign agreement promote exchange business class...</td>\n",
              "      <td>train</td>\n",
              "    </tr>\n",
              "    <tr>\n",
              "      <th>13</th>\n",
              "      <td>run competition give brokest staff trinket toi...</td>\n",
              "      <td>train</td>\n",
              "    </tr>\n",
              "    <tr>\n",
              "      <th>14</th>\n",
              "      <td>global alternative asset private equity invest...</td>\n",
              "      <td>train</td>\n",
              "    </tr>\n",
              "    <tr>\n",
              "      <th>15</th>\n",
              "      <td>attack southern multiple projectile launch hou...</td>\n",
              "      <td>text</td>\n",
              "    </tr>\n",
              "    <tr>\n",
              "      <th>16</th>\n",
              "      <td>grow number company include pause shipment rec...</td>\n",
              "      <td>train</td>\n",
              "    </tr>\n",
              "    <tr>\n",
              "      <th>17</th>\n",
              "      <td>even diehard city watcher forgive skim part co...</td>\n",
              "      <td>train</td>\n",
              "    </tr>\n",
              "    <tr>\n",
              "      <th>18</th>\n",
              "      <td>ceo push hard electric driverless car finish l...</td>\n",
              "      <td>train</td>\n",
              "    </tr>\n",
              "    <tr>\n",
              "      <th>19</th>\n",
              "      <td>autopilot system prompt tesla recent recall ve...</td>\n",
              "      <td>val</td>\n",
              "    </tr>\n",
              "    <tr>\n",
              "      <th>20</th>\n",
              "      <td>launch sexual harassment probe top soap star a...</td>\n",
              "      <td>train</td>\n",
              "    </tr>\n",
              "    <tr>\n",
              "      <th>21</th>\n",
              "      <td>federal agency seek force starbuck reopen stor...</td>\n",
              "      <td>train</td>\n",
              "    </tr>\n",
              "    <tr>\n",
              "      <th>22</th>\n",
              "      <td>public comment period draft report extend affo...</td>\n",
              "      <td>val</td>\n",
              "    </tr>\n",
              "    <tr>\n",
              "      <th>23</th>\n",
              "      <td>cruise majority own autonomous vehicle subsidi...</td>\n",
              "      <td>text</td>\n",
              "    </tr>\n",
              "    <tr>\n",
              "      <th>24</th>\n",
              "      <td>become interested try gather strength say mand...</td>\n",
              "      <td>train</td>\n",
              "    </tr>\n",
              "    <tr>\n",
              "      <th>25</th>\n",
              "      <td>volunteer hold sign push unionize starbuck wor...</td>\n",
              "      <td>train</td>\n",
              "    </tr>\n",
              "    <tr>\n",
              "      <th>26</th>\n",
              "      <td>company announce let go person workforce perce...</td>\n",
              "      <td>train</td>\n",
              "    </tr>\n",
              "    <tr>\n",
              "      <th>27</th>\n",
              "      <td>group current former prisoner sue state allegi...</td>\n",
              "      <td>train</td>\n",
              "    </tr>\n",
              "    <tr>\n",
              "      <th>28</th>\n",
              "      <td>disgrace ex - bp boss say proud leadership oil...</td>\n",
              "      <td>train</td>\n",
              "    </tr>\n",
              "    <tr>\n",
              "      <th>29</th>\n",
              "      <td>female soccer fan claim small win long campaig...</td>\n",
              "      <td>val</td>\n",
              "    </tr>\n",
              "    <tr>\n",
              "      <th>30</th>\n",
              "      <td>cotton piece title send troop call army use ta...</td>\n",
              "      <td>train</td>\n",
              "    </tr>\n",
              "    <tr>\n",
              "      <th>31</th>\n",
              "      <td>dancing edge bbc new social medium guideline t...</td>\n",
              "      <td>train</td>\n",
              "    </tr>\n",
              "    <tr>\n",
              "      <th>32</th>\n",
              "      <td>announce internally lie employee company confi...</td>\n",
              "      <td>train</td>\n",
              "    </tr>\n",
              "    <tr>\n",
              "      <th>33</th>\n",
              "      <td>carbon removal solution provider carbonfuture ...</td>\n",
              "      <td>train</td>\n",
              "    </tr>\n",
              "    <tr>\n",
              "      <th>34</th>\n",
              "      <td>photo dilara getty spending record amount mone...</td>\n",
              "      <td>text</td>\n",
              "    </tr>\n",
              "    <tr>\n",
              "      <th>35</th>\n",
              "      <td>business create calm space customer feel senso...</td>\n",
              "      <td>train</td>\n",
              "    </tr>\n",
              "    <tr>\n",
              "      <th>36</th>\n",
              "      <td>state official pension employee seek exemption...</td>\n",
              "      <td>train</td>\n",
              "    </tr>\n",
              "    <tr>\n",
              "      <th>37</th>\n",
              "      <td>driver diesel car fork much time electric vehi...</td>\n",
              "      <td>train</td>\n",
              "    </tr>\n",
              "    <tr>\n",
              "      <th>38</th>\n",
              "      <td>cent firm overall role senior leader cent seni...</td>\n",
              "      <td>train</td>\n",
              "    </tr>\n",
              "    <tr>\n",
              "      <th>39</th>\n",
              "      <td>read privacy notice thank sign themorning head...</td>\n",
              "      <td>train</td>\n",
              "    </tr>\n",
              "    <tr>\n",
              "      <th>40</th>\n",
              "      <td>say former chief executive lose much compensat...</td>\n",
              "      <td>text</td>\n",
              "    </tr>\n",
              "    <tr>\n",
              "      <th>41</th>\n",
              "      <td>last night conclude former chief executive gui...</td>\n",
              "      <td>text</td>\n",
              "    </tr>\n",
              "    <tr>\n",
              "      <th>42</th>\n",
              "      <td>say sexism financial service sector worse wide...</td>\n",
              "      <td>text</td>\n",
              "    </tr>\n",
              "    <tr>\n",
              "      <th>43</th>\n",
              "      <td>last hear former bad place dismiss summarily p...</td>\n",
              "      <td>val</td>\n",
              "    </tr>\n",
              "    <tr>\n",
              "      <th>44</th>\n",
              "      <td>hand almost 500million italian authority end p...</td>\n",
              "      <td>train</td>\n",
              "    </tr>\n",
              "    <tr>\n",
              "      <th>45</th>\n",
              "      <td>come estimate item collection worth million po...</td>\n",
              "      <td>train</td>\n",
              "    </tr>\n",
              "    <tr>\n",
              "      <th>46</th>\n",
              "      <td>probably breach bbc social medium guideline ta...</td>\n",
              "      <td>text</td>\n",
              "    </tr>\n",
              "    <tr>\n",
              "      <th>47</th>\n",
              "      <td>former boss m actual potential pay mislead boa...</td>\n",
              "      <td>train</td>\n",
              "    </tr>\n",
              "    <tr>\n",
              "      <th>48</th>\n",
              "      <td>read privacy notice thank signing theview west...</td>\n",
              "      <td>val</td>\n",
              "    </tr>\n",
              "    <tr>\n",
              "      <th>49</th>\n",
              "      <td>federal court jury decide late store play use ...</td>\n",
              "      <td>train</td>\n",
              "    </tr>\n",
              "    <tr>\n",
              "      <th>50</th>\n",
              "      <td>kind - hearted schoolboy open present bank hel...</td>\n",
              "      <td>train</td>\n",
              "    </tr>\n",
              "    <tr>\n",
              "      <th>51</th>\n",
              "      <td>social medium post defence appear breach bbc g...</td>\n",
              "      <td>train</td>\n",
              "    </tr>\n",
              "    <tr>\n",
              "      <th>52</th>\n",
              "      <td>mastercard face prospect cap so call interchan...</td>\n",
              "      <td>train</td>\n",
              "    </tr>\n",
              "    <tr>\n",
              "      <th>53</th>\n",
              "      <td>competition authority launch probe environment...</td>\n",
              "      <td>text</td>\n",
              "    </tr>\n",
              "    <tr>\n",
              "      <th>54</th>\n",
              "      <td>foot tall loom new electric car assembly line ...</td>\n",
              "      <td>train</td>\n",
              "    </tr>\n",
              "    <tr>\n",
              "      <th>55</th>\n",
              "      <td>go lot term look material see travel responsib...</td>\n",
              "      <td>train</td>\n",
              "    </tr>\n",
              "    <tr>\n",
              "      <th>56</th>\n",
              "      <td>unilever investigation claim mislead customer ...</td>\n",
              "      <td>train</td>\n",
              "    </tr>\n",
              "    <tr>\n",
              "      <th>57</th>\n",
              "      <td>face call ditch demand mechanic inspect safety...</td>\n",
              "      <td>train</td>\n",
              "    </tr>\n",
              "    <tr>\n",
              "      <th>58</th>\n",
              "      <td>unscrupulous often indecipherable pricing poli...</td>\n",
              "      <td>val</td>\n",
              "    </tr>\n",
              "    <tr>\n",
              "      <th>59</th>\n",
              "      <td>say early month company sell record single mon...</td>\n",
              "      <td>val</td>\n",
              "    </tr>\n",
              "  </tbody>\n",
              "</table>\n",
              "</div>\n",
              "    <div class=\"colab-df-buttons\">\n",
              "\n",
              "  <div class=\"colab-df-container\">\n",
              "    <button class=\"colab-df-convert\" onclick=\"convertToInteractive('df-58eebefb-b696-4657-83f3-00c9d108f4b5')\"\n",
              "            title=\"Convert this dataframe to an interactive table.\"\n",
              "            style=\"display:none;\">\n",
              "\n",
              "  <svg xmlns=\"http://www.w3.org/2000/svg\" height=\"24px\" viewBox=\"0 -960 960 960\">\n",
              "    <path d=\"M120-120v-720h720v720H120Zm60-500h600v-160H180v160Zm220 220h160v-160H400v160Zm0 220h160v-160H400v160ZM180-400h160v-160H180v160Zm440 0h160v-160H620v160ZM180-180h160v-160H180v160Zm440 0h160v-160H620v160Z\"/>\n",
              "  </svg>\n",
              "    </button>\n",
              "\n",
              "  <style>\n",
              "    .colab-df-container {\n",
              "      display:flex;\n",
              "      gap: 12px;\n",
              "    }\n",
              "\n",
              "    .colab-df-convert {\n",
              "      background-color: #E8F0FE;\n",
              "      border: none;\n",
              "      border-radius: 50%;\n",
              "      cursor: pointer;\n",
              "      display: none;\n",
              "      fill: #1967D2;\n",
              "      height: 32px;\n",
              "      padding: 0 0 0 0;\n",
              "      width: 32px;\n",
              "    }\n",
              "\n",
              "    .colab-df-convert:hover {\n",
              "      background-color: #E2EBFA;\n",
              "      box-shadow: 0px 1px 2px rgba(60, 64, 67, 0.3), 0px 1px 3px 1px rgba(60, 64, 67, 0.15);\n",
              "      fill: #174EA6;\n",
              "    }\n",
              "\n",
              "    .colab-df-buttons div {\n",
              "      margin-bottom: 4px;\n",
              "    }\n",
              "\n",
              "    [theme=dark] .colab-df-convert {\n",
              "      background-color: #3B4455;\n",
              "      fill: #D2E3FC;\n",
              "    }\n",
              "\n",
              "    [theme=dark] .colab-df-convert:hover {\n",
              "      background-color: #434B5C;\n",
              "      box-shadow: 0px 1px 3px 1px rgba(0, 0, 0, 0.15);\n",
              "      filter: drop-shadow(0px 1px 2px rgba(0, 0, 0, 0.3));\n",
              "      fill: #FFFFFF;\n",
              "    }\n",
              "  </style>\n",
              "\n",
              "    <script>\n",
              "      const buttonEl =\n",
              "        document.querySelector('#df-58eebefb-b696-4657-83f3-00c9d108f4b5 button.colab-df-convert');\n",
              "      buttonEl.style.display =\n",
              "        google.colab.kernel.accessAllowed ? 'block' : 'none';\n",
              "\n",
              "      async function convertToInteractive(key) {\n",
              "        const element = document.querySelector('#df-58eebefb-b696-4657-83f3-00c9d108f4b5');\n",
              "        const dataTable =\n",
              "          await google.colab.kernel.invokeFunction('convertToInteractive',\n",
              "                                                    [key], {});\n",
              "        if (!dataTable) return;\n",
              "\n",
              "        const docLinkHtml = 'Like what you see? Visit the ' +\n",
              "          '<a target=\"_blank\" href=https://colab.research.google.com/notebooks/data_table.ipynb>data table notebook</a>'\n",
              "          + ' to learn more about interactive tables.';\n",
              "        element.innerHTML = '';\n",
              "        dataTable['output_type'] = 'display_data';\n",
              "        await google.colab.output.renderOutput(dataTable, element);\n",
              "        const docLink = document.createElement('div');\n",
              "        docLink.innerHTML = docLinkHtml;\n",
              "        element.appendChild(docLink);\n",
              "      }\n",
              "    </script>\n",
              "  </div>\n",
              "\n",
              "\n",
              "<div id=\"df-fae0ebca-30de-4099-bec2-b311642960c4\">\n",
              "  <button class=\"colab-df-quickchart\" onclick=\"quickchart('df-fae0ebca-30de-4099-bec2-b311642960c4')\"\n",
              "            title=\"Suggest charts\"\n",
              "            style=\"display:none;\">\n",
              "\n",
              "<svg xmlns=\"http://www.w3.org/2000/svg\" height=\"24px\"viewBox=\"0 0 24 24\"\n",
              "     width=\"24px\">\n",
              "    <g>\n",
              "        <path d=\"M19 3H5c-1.1 0-2 .9-2 2v14c0 1.1.9 2 2 2h14c1.1 0 2-.9 2-2V5c0-1.1-.9-2-2-2zM9 17H7v-7h2v7zm4 0h-2V7h2v10zm4 0h-2v-4h2v4z\"/>\n",
              "    </g>\n",
              "</svg>\n",
              "  </button>\n",
              "\n",
              "<style>\n",
              "  .colab-df-quickchart {\n",
              "      --bg-color: #E8F0FE;\n",
              "      --fill-color: #1967D2;\n",
              "      --hover-bg-color: #E2EBFA;\n",
              "      --hover-fill-color: #174EA6;\n",
              "      --disabled-fill-color: #AAA;\n",
              "      --disabled-bg-color: #DDD;\n",
              "  }\n",
              "\n",
              "  [theme=dark] .colab-df-quickchart {\n",
              "      --bg-color: #3B4455;\n",
              "      --fill-color: #D2E3FC;\n",
              "      --hover-bg-color: #434B5C;\n",
              "      --hover-fill-color: #FFFFFF;\n",
              "      --disabled-bg-color: #3B4455;\n",
              "      --disabled-fill-color: #666;\n",
              "  }\n",
              "\n",
              "  .colab-df-quickchart {\n",
              "    background-color: var(--bg-color);\n",
              "    border: none;\n",
              "    border-radius: 50%;\n",
              "    cursor: pointer;\n",
              "    display: none;\n",
              "    fill: var(--fill-color);\n",
              "    height: 32px;\n",
              "    padding: 0;\n",
              "    width: 32px;\n",
              "  }\n",
              "\n",
              "  .colab-df-quickchart:hover {\n",
              "    background-color: var(--hover-bg-color);\n",
              "    box-shadow: 0 1px 2px rgba(60, 64, 67, 0.3), 0 1px 3px 1px rgba(60, 64, 67, 0.15);\n",
              "    fill: var(--button-hover-fill-color);\n",
              "  }\n",
              "\n",
              "  .colab-df-quickchart-complete:disabled,\n",
              "  .colab-df-quickchart-complete:disabled:hover {\n",
              "    background-color: var(--disabled-bg-color);\n",
              "    fill: var(--disabled-fill-color);\n",
              "    box-shadow: none;\n",
              "  }\n",
              "\n",
              "  .colab-df-spinner {\n",
              "    border: 2px solid var(--fill-color);\n",
              "    border-color: transparent;\n",
              "    border-bottom-color: var(--fill-color);\n",
              "    animation:\n",
              "      spin 1s steps(1) infinite;\n",
              "  }\n",
              "\n",
              "  @keyframes spin {\n",
              "    0% {\n",
              "      border-color: transparent;\n",
              "      border-bottom-color: var(--fill-color);\n",
              "      border-left-color: var(--fill-color);\n",
              "    }\n",
              "    20% {\n",
              "      border-color: transparent;\n",
              "      border-left-color: var(--fill-color);\n",
              "      border-top-color: var(--fill-color);\n",
              "    }\n",
              "    30% {\n",
              "      border-color: transparent;\n",
              "      border-left-color: var(--fill-color);\n",
              "      border-top-color: var(--fill-color);\n",
              "      border-right-color: var(--fill-color);\n",
              "    }\n",
              "    40% {\n",
              "      border-color: transparent;\n",
              "      border-right-color: var(--fill-color);\n",
              "      border-top-color: var(--fill-color);\n",
              "    }\n",
              "    60% {\n",
              "      border-color: transparent;\n",
              "      border-right-color: var(--fill-color);\n",
              "    }\n",
              "    80% {\n",
              "      border-color: transparent;\n",
              "      border-right-color: var(--fill-color);\n",
              "      border-bottom-color: var(--fill-color);\n",
              "    }\n",
              "    90% {\n",
              "      border-color: transparent;\n",
              "      border-bottom-color: var(--fill-color);\n",
              "    }\n",
              "  }\n",
              "</style>\n",
              "\n",
              "  <script>\n",
              "    async function quickchart(key) {\n",
              "      const quickchartButtonEl =\n",
              "        document.querySelector('#' + key + ' button');\n",
              "      quickchartButtonEl.disabled = true;  // To prevent multiple clicks.\n",
              "      quickchartButtonEl.classList.add('colab-df-spinner');\n",
              "      try {\n",
              "        const charts = await google.colab.kernel.invokeFunction(\n",
              "            'suggestCharts', [key], {});\n",
              "      } catch (error) {\n",
              "        console.error('Error during call to suggestCharts:', error);\n",
              "      }\n",
              "      quickchartButtonEl.classList.remove('colab-df-spinner');\n",
              "      quickchartButtonEl.classList.add('colab-df-quickchart-complete');\n",
              "    }\n",
              "    (() => {\n",
              "      let quickchartButtonEl =\n",
              "        document.querySelector('#df-fae0ebca-30de-4099-bec2-b311642960c4 button');\n",
              "      quickchartButtonEl.style.display =\n",
              "        google.colab.kernel.accessAllowed ? 'block' : 'none';\n",
              "    })();\n",
              "  </script>\n",
              "</div>\n",
              "    </div>\n",
              "  </div>\n"
            ],
            "application/vnd.google.colaboratory.intrinsic+json": {
              "type": "dataframe",
              "variable_name": "df_corpus",
              "summary": "{\n  \"name\": \"df_corpus\",\n  \"rows\": 60,\n  \"fields\": [\n    {\n      \"column\": \"text\",\n      \"properties\": {\n        \"dtype\": \"string\",\n        \"num_unique_values\": 60,\n        \"samples\": [\n          \"urge drop singer olly entrant eurovision emerge sign letter call regime plan take action singer sign letter week unveil report current event simply escalation state israel apartheid regime act ethnically cleanse land maybe time stop let decide represent first ever eurovision victory come year annual competition launch sandie shaw puppet string\",\n          \"say see lack diversity workplace long period time week radio live presenter say work overwhelmingly white bad mental health year old presenter post formerly know twitter lack diversity publicly fund broadcaster isolate lonely tell conference really affect walk see white arthanayake respond say white people see colour treat accordingly ever get follow interview live producer say organisation commit tackle lack diversity newsroom\",\n          \"state official pension employee seek exemption anti - esg law\"\n        ],\n        \"semantic_type\": \"\",\n        \"description\": \"\"\n      }\n    },\n    {\n      \"column\": \"label\",\n      \"properties\": {\n        \"dtype\": \"category\",\n        \"num_unique_values\": 3,\n        \"samples\": [\n          \"train\",\n          \"val\",\n          \"text\"\n        ],\n        \"semantic_type\": \"\",\n        \"description\": \"\"\n      }\n    }\n  ]\n}"
            }
          },
          "metadata": {},
          "execution_count": 48
        }
      ]
    },
    {
      "cell_type": "code",
      "source": [
        "df_corpus.to_csv('output.tsv', sep='\\t', index=False, header=False)"
      ],
      "metadata": {
        "id": "F9slKpUD_T_q"
      },
      "execution_count": 50,
      "outputs": []
    },
    {
      "cell_type": "code",
      "source": [
        "type(vocab_test)"
      ],
      "metadata": {
        "colab": {
          "base_uri": "https://localhost:8080/"
        },
        "id": "Ga1KQhx2_sgt",
        "outputId": "25fb2ff8-01fc-4e23-cb99-64b60f436495"
      },
      "execution_count": 52,
      "outputs": [
        {
          "output_type": "execute_result",
          "data": {
            "text/plain": [
              "set"
            ]
          },
          "metadata": {},
          "execution_count": 52
        }
      ]
    },
    {
      "cell_type": "code",
      "source": [
        "file_path=\"vocabulary.txt\"\n",
        "with open(file_path, \"w\") as file:\n",
        "  for item in vocab_test:\n",
        "    file.write(item + \"\\n\")"
      ],
      "metadata": {
        "id": "6ugJqS5gFGlC"
      },
      "execution_count": 53,
      "outputs": []
    },
    {
      "cell_type": "code",
      "source": [],
      "metadata": {
        "id": "rG04La1sFdGM"
      },
      "execution_count": null,
      "outputs": []
    },
    {
      "cell_type": "markdown",
      "source": [
        "# Sample result on OCTIS - working"
      ],
      "metadata": {
        "id": "m3PNi8iNGEN2"
      }
    },
    {
      "cell_type": "code",
      "source": [
        "!pip install octis"
      ],
      "metadata": {
        "colab": {
          "base_uri": "https://localhost:8080/",
          "height": 1000
        },
        "id": "DdjK2j-6GOSb",
        "outputId": "f6b3a488-a5cc-464a-b3d7-b2d761ccf7b1"
      },
      "execution_count": 55,
      "outputs": [
        {
          "output_type": "stream",
          "name": "stdout",
          "text": [
            "Collecting octis\n",
            "  Downloading octis-1.13.1-py2.py3-none-any.whl (130 kB)\n",
            "\u001b[2K     \u001b[90m━━━━━━━━━━━━━━━━━━━━━━━━━━━━━━━━━━━━━━━━\u001b[0m \u001b[32m131.0/131.0 kB\u001b[0m \u001b[31m3.7 MB/s\u001b[0m eta \u001b[36m0:00:00\u001b[0m\n",
            "\u001b[?25hCollecting gensim==4.2.0 (from octis)\n",
            "  Downloading gensim-4.2.0-cp310-cp310-manylinux_2_17_x86_64.manylinux2014_x86_64.whl (24.0 MB)\n",
            "\u001b[2K     \u001b[90m━━━━━━━━━━━━━━━━━━━━━━━━━━━━━━━━━━━━━━━━\u001b[0m \u001b[32m24.0/24.0 MB\u001b[0m \u001b[31m43.7 MB/s\u001b[0m eta \u001b[36m0:00:00\u001b[0m\n",
            "\u001b[?25hRequirement already satisfied: nltk in /usr/local/lib/python3.10/dist-packages (from octis) (3.8.1)\n",
            "Requirement already satisfied: pandas in /usr/local/lib/python3.10/dist-packages (from octis) (1.5.3)\n",
            "Requirement already satisfied: spacy in /usr/local/lib/python3.10/dist-packages (from octis) (3.7.4)\n",
            "Collecting scikit-learn==1.1.0 (from octis)\n",
            "  Downloading scikit_learn-1.1.0-cp310-cp310-manylinux_2_17_x86_64.manylinux2014_x86_64.whl (30.7 MB)\n",
            "\u001b[2K     \u001b[90m━━━━━━━━━━━━━━━━━━━━━━━━━━━━━━━━━━━━━━━━\u001b[0m \u001b[32m30.7/30.7 MB\u001b[0m \u001b[31m26.2 MB/s\u001b[0m eta \u001b[36m0:00:00\u001b[0m\n",
            "\u001b[?25hCollecting scikit-optimize>=0.8.1 (from octis)\n",
            "  Downloading scikit_optimize-0.10.1-py2.py3-none-any.whl (107 kB)\n",
            "\u001b[2K     \u001b[90m━━━━━━━━━━━━━━━━━━━━━━━━━━━━━━━━━━━━━━━━\u001b[0m \u001b[32m107.7/107.7 kB\u001b[0m \u001b[31m12.6 MB/s\u001b[0m eta \u001b[36m0:00:00\u001b[0m\n",
            "\u001b[?25hRequirement already satisfied: matplotlib in /usr/local/lib/python3.10/dist-packages (from octis) (3.7.1)\n",
            "Requirement already satisfied: torch in /usr/local/lib/python3.10/dist-packages (from octis) (2.2.1+cu121)\n",
            "Collecting numpy==1.23.0 (from octis)\n",
            "  Downloading numpy-1.23.0-cp310-cp310-manylinux_2_17_x86_64.manylinux2014_x86_64.whl (17.0 MB)\n",
            "\u001b[2K     \u001b[90m━━━━━━━━━━━━━━━━━━━━━━━━━━━━━━━━━━━━━━━━\u001b[0m \u001b[32m17.0/17.0 MB\u001b[0m \u001b[31m44.6 MB/s\u001b[0m eta \u001b[36m0:00:00\u001b[0m\n",
            "\u001b[?25hCollecting libsvm (from octis)\n",
            "  Downloading libsvm-3.23.0.4.tar.gz (170 kB)\n",
            "\u001b[2K     \u001b[90m━━━━━━━━━━━━━━━━━━━━━━━━━━━━━━━━━━━━━━━━\u001b[0m \u001b[32m170.6/170.6 kB\u001b[0m \u001b[31m16.6 MB/s\u001b[0m eta \u001b[36m0:00:00\u001b[0m\n",
            "\u001b[?25h  Preparing metadata (setup.py) ... \u001b[?25l\u001b[?25hdone\n",
            "Requirement already satisfied: flask in /usr/local/lib/python3.10/dist-packages (from octis) (2.2.5)\n",
            "Collecting sentence-transformers (from octis)\n",
            "  Downloading sentence_transformers-2.6.1-py3-none-any.whl (163 kB)\n",
            "\u001b[2K     \u001b[90m━━━━━━━━━━━━━━━━━━━━━━━━━━━━━━━━━━━━━━━━\u001b[0m \u001b[32m163.3/163.3 kB\u001b[0m \u001b[31m18.9 MB/s\u001b[0m eta \u001b[36m0:00:00\u001b[0m\n",
            "\u001b[?25hRequirement already satisfied: requests in /usr/local/lib/python3.10/dist-packages (from octis) (2.31.0)\n",
            "Collecting tomotopy (from octis)\n",
            "  Downloading tomotopy-0.12.7-cp310-cp310-manylinux_2_17_x86_64.manylinux2014_x86_64.whl (17.2 MB)\n",
            "\u001b[2K     \u001b[90m━━━━━━━━━━━━━━━━━━━━━━━━━━━━━━━━━━━━━━━━\u001b[0m \u001b[32m17.2/17.2 MB\u001b[0m \u001b[31m70.8 MB/s\u001b[0m eta \u001b[36m0:00:00\u001b[0m\n",
            "\u001b[?25hRequirement already satisfied: scipy>=0.18.1 in /usr/local/lib/python3.10/dist-packages (from gensim==4.2.0->octis) (1.11.4)\n",
            "Requirement already satisfied: smart-open>=1.8.1 in /usr/local/lib/python3.10/dist-packages (from gensim==4.2.0->octis) (6.4.0)\n",
            "Requirement already satisfied: joblib>=1.0.0 in /usr/local/lib/python3.10/dist-packages (from scikit-learn==1.1.0->octis) (1.3.2)\n",
            "Requirement already satisfied: threadpoolctl>=2.0.0 in /usr/local/lib/python3.10/dist-packages (from scikit-learn==1.1.0->octis) (3.4.0)\n",
            "Collecting pyaml>=16.9 (from scikit-optimize>=0.8.1->octis)\n",
            "  Downloading pyaml-23.12.0-py3-none-any.whl (23 kB)\n",
            "Requirement already satisfied: packaging>=21.3 in /usr/local/lib/python3.10/dist-packages (from scikit-optimize>=0.8.1->octis) (24.0)\n",
            "Requirement already satisfied: Werkzeug>=2.2.2 in /usr/local/lib/python3.10/dist-packages (from flask->octis) (3.0.1)\n",
            "Requirement already satisfied: Jinja2>=3.0 in /usr/local/lib/python3.10/dist-packages (from flask->octis) (3.1.3)\n",
            "Requirement already satisfied: itsdangerous>=2.0 in /usr/local/lib/python3.10/dist-packages (from flask->octis) (2.1.2)\n",
            "Requirement already satisfied: click>=8.0 in /usr/local/lib/python3.10/dist-packages (from flask->octis) (8.1.7)\n",
            "Requirement already satisfied: contourpy>=1.0.1 in /usr/local/lib/python3.10/dist-packages (from matplotlib->octis) (1.2.0)\n",
            "Requirement already satisfied: cycler>=0.10 in /usr/local/lib/python3.10/dist-packages (from matplotlib->octis) (0.12.1)\n",
            "Requirement already satisfied: fonttools>=4.22.0 in /usr/local/lib/python3.10/dist-packages (from matplotlib->octis) (4.50.0)\n",
            "Requirement already satisfied: kiwisolver>=1.0.1 in /usr/local/lib/python3.10/dist-packages (from matplotlib->octis) (1.4.5)\n",
            "Requirement already satisfied: pillow>=6.2.0 in /usr/local/lib/python3.10/dist-packages (from matplotlib->octis) (9.4.0)\n",
            "Requirement already satisfied: pyparsing>=2.3.1 in /usr/local/lib/python3.10/dist-packages (from matplotlib->octis) (3.1.2)\n",
            "Requirement already satisfied: python-dateutil>=2.7 in /usr/local/lib/python3.10/dist-packages (from matplotlib->octis) (2.8.2)\n",
            "Requirement already satisfied: regex>=2021.8.3 in /usr/local/lib/python3.10/dist-packages (from nltk->octis) (2023.12.25)\n",
            "Requirement already satisfied: tqdm in /usr/local/lib/python3.10/dist-packages (from nltk->octis) (4.66.2)\n",
            "Requirement already satisfied: pytz>=2020.1 in /usr/local/lib/python3.10/dist-packages (from pandas->octis) (2023.4)\n",
            "Requirement already satisfied: charset-normalizer<4,>=2 in /usr/local/lib/python3.10/dist-packages (from requests->octis) (3.3.2)\n",
            "Requirement already satisfied: idna<4,>=2.5 in /usr/local/lib/python3.10/dist-packages (from requests->octis) (3.6)\n",
            "Requirement already satisfied: urllib3<3,>=1.21.1 in /usr/local/lib/python3.10/dist-packages (from requests->octis) (2.0.7)\n",
            "Requirement already satisfied: certifi>=2017.4.17 in /usr/local/lib/python3.10/dist-packages (from requests->octis) (2024.2.2)\n",
            "Requirement already satisfied: transformers<5.0.0,>=4.32.0 in /usr/local/lib/python3.10/dist-packages (from sentence-transformers->octis) (4.38.2)\n",
            "Requirement already satisfied: huggingface-hub>=0.15.1 in /usr/local/lib/python3.10/dist-packages (from sentence-transformers->octis) (0.20.3)\n",
            "Requirement already satisfied: filelock in /usr/local/lib/python3.10/dist-packages (from torch->octis) (3.13.3)\n",
            "Requirement already satisfied: typing-extensions>=4.8.0 in /usr/local/lib/python3.10/dist-packages (from torch->octis) (4.10.0)\n",
            "Requirement already satisfied: sympy in /usr/local/lib/python3.10/dist-packages (from torch->octis) (1.12)\n",
            "Requirement already satisfied: networkx in /usr/local/lib/python3.10/dist-packages (from torch->octis) (3.2.1)\n",
            "Requirement already satisfied: fsspec in /usr/local/lib/python3.10/dist-packages (from torch->octis) (2023.6.0)\n",
            "Collecting nvidia-cuda-nvrtc-cu12==12.1.105 (from torch->octis)\n",
            "  Downloading nvidia_cuda_nvrtc_cu12-12.1.105-py3-none-manylinux1_x86_64.whl (23.7 MB)\n",
            "\u001b[2K     \u001b[90m━━━━━━━━━━━━━━━━━━━━━━━━━━━━━━━━━━━━━━━━\u001b[0m \u001b[32m23.7/23.7 MB\u001b[0m \u001b[31m13.3 MB/s\u001b[0m eta \u001b[36m0:00:00\u001b[0m\n",
            "\u001b[?25hCollecting nvidia-cuda-runtime-cu12==12.1.105 (from torch->octis)\n",
            "  Downloading nvidia_cuda_runtime_cu12-12.1.105-py3-none-manylinux1_x86_64.whl (823 kB)\n",
            "\u001b[2K     \u001b[90m━━━━━━━━━━━━━━━━━━━━━━━━━━━━━━━━━━━━━━━━\u001b[0m \u001b[32m823.6/823.6 kB\u001b[0m \u001b[31m44.6 MB/s\u001b[0m eta \u001b[36m0:00:00\u001b[0m\n",
            "\u001b[?25hCollecting nvidia-cuda-cupti-cu12==12.1.105 (from torch->octis)\n",
            "  Downloading nvidia_cuda_cupti_cu12-12.1.105-py3-none-manylinux1_x86_64.whl (14.1 MB)\n",
            "\u001b[2K     \u001b[90m━━━━━━━━━━━━━━━━━━━━━━━━━━━━━━━━━━━━━━━━\u001b[0m \u001b[32m14.1/14.1 MB\u001b[0m \u001b[31m81.5 MB/s\u001b[0m eta \u001b[36m0:00:00\u001b[0m\n",
            "\u001b[?25hCollecting nvidia-cudnn-cu12==8.9.2.26 (from torch->octis)\n",
            "  Downloading nvidia_cudnn_cu12-8.9.2.26-py3-none-manylinux1_x86_64.whl (731.7 MB)\n",
            "\u001b[2K     \u001b[90m━━━━━━━━━━━━━━━━━━━━━━━━━━━━━━━━━━━━━━━━\u001b[0m \u001b[32m731.7/731.7 MB\u001b[0m \u001b[31m2.1 MB/s\u001b[0m eta \u001b[36m0:00:00\u001b[0m\n",
            "\u001b[?25hCollecting nvidia-cublas-cu12==12.1.3.1 (from torch->octis)\n",
            "  Downloading nvidia_cublas_cu12-12.1.3.1-py3-none-manylinux1_x86_64.whl (410.6 MB)\n",
            "\u001b[2K     \u001b[90m━━━━━━━━━━━━━━━━━━━━━━━━━━━━━━━━━━━━━━━━\u001b[0m \u001b[32m410.6/410.6 MB\u001b[0m \u001b[31m3.5 MB/s\u001b[0m eta \u001b[36m0:00:00\u001b[0m\n",
            "\u001b[?25hCollecting nvidia-cufft-cu12==11.0.2.54 (from torch->octis)\n",
            "  Downloading nvidia_cufft_cu12-11.0.2.54-py3-none-manylinux1_x86_64.whl (121.6 MB)\n",
            "\u001b[2K     \u001b[90m━━━━━━━━━━━━━━━━━━━━━━━━━━━━━━━━━━━━━━━━\u001b[0m \u001b[32m121.6/121.6 MB\u001b[0m \u001b[31m9.0 MB/s\u001b[0m eta \u001b[36m0:00:00\u001b[0m\n",
            "\u001b[?25hCollecting nvidia-curand-cu12==10.3.2.106 (from torch->octis)\n",
            "  Downloading nvidia_curand_cu12-10.3.2.106-py3-none-manylinux1_x86_64.whl (56.5 MB)\n",
            "\u001b[2K     \u001b[90m━━━━━━━━━━━━━━━━━━━━━━━━━━━━━━━━━━━━━━━━\u001b[0m \u001b[32m56.5/56.5 MB\u001b[0m \u001b[31m7.7 MB/s\u001b[0m eta \u001b[36m0:00:00\u001b[0m\n",
            "\u001b[?25hCollecting nvidia-cusolver-cu12==11.4.5.107 (from torch->octis)\n",
            "  Downloading nvidia_cusolver_cu12-11.4.5.107-py3-none-manylinux1_x86_64.whl (124.2 MB)\n",
            "\u001b[2K     \u001b[90m━━━━━━━━━━━━━━━━━━━━━━━━━━━━━━━━━━━━━━━━\u001b[0m \u001b[32m124.2/124.2 MB\u001b[0m \u001b[31m8.2 MB/s\u001b[0m eta \u001b[36m0:00:00\u001b[0m\n",
            "\u001b[?25hCollecting nvidia-cusparse-cu12==12.1.0.106 (from torch->octis)\n",
            "  Downloading nvidia_cusparse_cu12-12.1.0.106-py3-none-manylinux1_x86_64.whl (196.0 MB)\n",
            "\u001b[2K     \u001b[90m━━━━━━━━━━━━━━━━━━━━━━━━━━━━━━━━━━━━━━━━\u001b[0m \u001b[32m196.0/196.0 MB\u001b[0m \u001b[31m4.4 MB/s\u001b[0m eta \u001b[36m0:00:00\u001b[0m\n",
            "\u001b[?25hCollecting nvidia-nccl-cu12==2.19.3 (from torch->octis)\n",
            "  Downloading nvidia_nccl_cu12-2.19.3-py3-none-manylinux1_x86_64.whl (166.0 MB)\n",
            "\u001b[2K     \u001b[90m━━━━━━━━━━━━━━━━━━━━━━━━━━━━━━━━━━━━━━━━\u001b[0m \u001b[32m166.0/166.0 MB\u001b[0m \u001b[31m6.7 MB/s\u001b[0m eta \u001b[36m0:00:00\u001b[0m\n",
            "\u001b[?25hCollecting nvidia-nvtx-cu12==12.1.105 (from torch->octis)\n",
            "  Downloading nvidia_nvtx_cu12-12.1.105-py3-none-manylinux1_x86_64.whl (99 kB)\n",
            "\u001b[2K     \u001b[90m━━━━━━━━━━━━━━━━━━━━━━━━━━━━━━━━━━━━━━━━\u001b[0m \u001b[32m99.1/99.1 kB\u001b[0m \u001b[31m11.1 MB/s\u001b[0m eta \u001b[36m0:00:00\u001b[0m\n",
            "\u001b[?25hRequirement already satisfied: triton==2.2.0 in /usr/local/lib/python3.10/dist-packages (from torch->octis) (2.2.0)\n",
            "Collecting nvidia-nvjitlink-cu12 (from nvidia-cusolver-cu12==11.4.5.107->torch->octis)\n",
            "  Downloading nvidia_nvjitlink_cu12-12.4.99-py3-none-manylinux2014_x86_64.whl (21.1 MB)\n",
            "\u001b[2K     \u001b[90m━━━━━━━━━━━━━━━━━━━━━━━━━━━━━━━━━━━━━━━━\u001b[0m \u001b[32m21.1/21.1 MB\u001b[0m \u001b[31m47.1 MB/s\u001b[0m eta \u001b[36m0:00:00\u001b[0m\n",
            "\u001b[?25hRequirement already satisfied: spacy-legacy<3.1.0,>=3.0.11 in /usr/local/lib/python3.10/dist-packages (from spacy->octis) (3.0.12)\n",
            "Requirement already satisfied: spacy-loggers<2.0.0,>=1.0.0 in /usr/local/lib/python3.10/dist-packages (from spacy->octis) (1.0.5)\n",
            "Requirement already satisfied: murmurhash<1.1.0,>=0.28.0 in /usr/local/lib/python3.10/dist-packages (from spacy->octis) (1.0.10)\n",
            "Requirement already satisfied: cymem<2.1.0,>=2.0.2 in /usr/local/lib/python3.10/dist-packages (from spacy->octis) (2.0.8)\n",
            "Requirement already satisfied: preshed<3.1.0,>=3.0.2 in /usr/local/lib/python3.10/dist-packages (from spacy->octis) (3.0.9)\n",
            "Requirement already satisfied: thinc<8.3.0,>=8.2.2 in /usr/local/lib/python3.10/dist-packages (from spacy->octis) (8.2.3)\n",
            "Requirement already satisfied: wasabi<1.2.0,>=0.9.1 in /usr/local/lib/python3.10/dist-packages (from spacy->octis) (1.1.2)\n",
            "Requirement already satisfied: srsly<3.0.0,>=2.4.3 in /usr/local/lib/python3.10/dist-packages (from spacy->octis) (2.4.8)\n",
            "Requirement already satisfied: catalogue<2.1.0,>=2.0.6 in /usr/local/lib/python3.10/dist-packages (from spacy->octis) (2.0.10)\n",
            "Requirement already satisfied: weasel<0.4.0,>=0.1.0 in /usr/local/lib/python3.10/dist-packages (from spacy->octis) (0.3.4)\n",
            "Requirement already satisfied: typer<0.10.0,>=0.3.0 in /usr/local/lib/python3.10/dist-packages (from spacy->octis) (0.9.4)\n",
            "Requirement already satisfied: pydantic!=1.8,!=1.8.1,<3.0.0,>=1.7.4 in /usr/local/lib/python3.10/dist-packages (from spacy->octis) (2.6.4)\n",
            "Requirement already satisfied: setuptools in /usr/local/lib/python3.10/dist-packages (from spacy->octis) (67.7.2)\n",
            "Requirement already satisfied: langcodes<4.0.0,>=3.2.0 in /usr/local/lib/python3.10/dist-packages (from spacy->octis) (3.3.0)\n",
            "Requirement already satisfied: pyyaml>=5.1 in /usr/local/lib/python3.10/dist-packages (from huggingface-hub>=0.15.1->sentence-transformers->octis) (6.0.1)\n",
            "Requirement already satisfied: MarkupSafe>=2.0 in /usr/local/lib/python3.10/dist-packages (from Jinja2>=3.0->flask->octis) (2.1.5)\n",
            "Requirement already satisfied: annotated-types>=0.4.0 in /usr/local/lib/python3.10/dist-packages (from pydantic!=1.8,!=1.8.1,<3.0.0,>=1.7.4->spacy->octis) (0.6.0)\n",
            "Requirement already satisfied: pydantic-core==2.16.3 in /usr/local/lib/python3.10/dist-packages (from pydantic!=1.8,!=1.8.1,<3.0.0,>=1.7.4->spacy->octis) (2.16.3)\n",
            "Requirement already satisfied: six>=1.5 in /usr/local/lib/python3.10/dist-packages (from python-dateutil>=2.7->matplotlib->octis) (1.16.0)\n",
            "Requirement already satisfied: blis<0.8.0,>=0.7.8 in /usr/local/lib/python3.10/dist-packages (from thinc<8.3.0,>=8.2.2->spacy->octis) (0.7.11)\n",
            "Requirement already satisfied: confection<1.0.0,>=0.0.1 in /usr/local/lib/python3.10/dist-packages (from thinc<8.3.0,>=8.2.2->spacy->octis) (0.1.4)\n",
            "Requirement already satisfied: tokenizers<0.19,>=0.14 in /usr/local/lib/python3.10/dist-packages (from transformers<5.0.0,>=4.32.0->sentence-transformers->octis) (0.15.2)\n",
            "Requirement already satisfied: safetensors>=0.4.1 in /usr/local/lib/python3.10/dist-packages (from transformers<5.0.0,>=4.32.0->sentence-transformers->octis) (0.4.2)\n",
            "Requirement already satisfied: cloudpathlib<0.17.0,>=0.7.0 in /usr/local/lib/python3.10/dist-packages (from weasel<0.4.0,>=0.1.0->spacy->octis) (0.16.0)\n",
            "Requirement already satisfied: mpmath>=0.19 in /usr/local/lib/python3.10/dist-packages (from sympy->torch->octis) (1.3.0)\n",
            "Building wheels for collected packages: libsvm\n",
            "  Building wheel for libsvm (setup.py) ... \u001b[?25l\u001b[?25hdone\n",
            "  Created wheel for libsvm: filename=libsvm-3.23.0.4-cp310-cp310-linux_x86_64.whl size=251408 sha256=c380a627602760ca225b4a0f75c17e893d0c244ac871a4228da2073c360b515a\n",
            "  Stored in directory: /root/.cache/pip/wheels/79/c7/19/a8c85928f8e629654b8e1adb3c8091f0bb77344d0ee9954a85\n",
            "Successfully built libsvm\n",
            "Installing collected packages: pyaml, nvidia-nvtx-cu12, nvidia-nvjitlink-cu12, nvidia-nccl-cu12, nvidia-curand-cu12, nvidia-cufft-cu12, nvidia-cuda-runtime-cu12, nvidia-cuda-nvrtc-cu12, nvidia-cuda-cupti-cu12, nvidia-cublas-cu12, numpy, libsvm, tomotopy, nvidia-cusparse-cu12, nvidia-cudnn-cu12, scikit-learn, nvidia-cusolver-cu12, gensim, scikit-optimize, sentence-transformers, octis\n",
            "  Attempting uninstall: numpy\n",
            "    Found existing installation: numpy 1.25.2\n",
            "    Uninstalling numpy-1.25.2:\n",
            "      Successfully uninstalled numpy-1.25.2\n",
            "  Attempting uninstall: scikit-learn\n",
            "    Found existing installation: scikit-learn 1.2.2\n",
            "    Uninstalling scikit-learn-1.2.2:\n",
            "      Successfully uninstalled scikit-learn-1.2.2\n",
            "  Attempting uninstall: gensim\n",
            "    Found existing installation: gensim 4.3.2\n",
            "    Uninstalling gensim-4.3.2:\n",
            "      Successfully uninstalled gensim-4.3.2\n",
            "\u001b[31mERROR: pip's dependency resolver does not currently take into account all the packages that are installed. This behaviour is the source of the following dependency conflicts.\n",
            "bigframes 1.0.0 requires scikit-learn>=1.2.2, but you have scikit-learn 1.1.0 which is incompatible.\n",
            "chex 0.1.86 requires numpy>=1.24.1, but you have numpy 1.23.0 which is incompatible.\n",
            "tensorflow 2.15.0 requires numpy<2.0.0,>=1.23.5, but you have numpy 1.23.0 which is incompatible.\u001b[0m\u001b[31m\n",
            "\u001b[0mSuccessfully installed gensim-4.2.0 libsvm-3.23.0.4 numpy-1.23.0 nvidia-cublas-cu12-12.1.3.1 nvidia-cuda-cupti-cu12-12.1.105 nvidia-cuda-nvrtc-cu12-12.1.105 nvidia-cuda-runtime-cu12-12.1.105 nvidia-cudnn-cu12-8.9.2.26 nvidia-cufft-cu12-11.0.2.54 nvidia-curand-cu12-10.3.2.106 nvidia-cusolver-cu12-11.4.5.107 nvidia-cusparse-cu12-12.1.0.106 nvidia-nccl-cu12-2.19.3 nvidia-nvjitlink-cu12-12.4.99 nvidia-nvtx-cu12-12.1.105 octis-1.13.1 pyaml-23.12.0 scikit-learn-1.1.0 scikit-optimize-0.10.1 sentence-transformers-2.6.1 tomotopy-0.12.7\n"
          ]
        },
        {
          "output_type": "display_data",
          "data": {
            "application/vnd.colab-display-data+json": {
              "pip_warning": {
                "packages": [
                  "gensim",
                  "numpy",
                  "sklearn"
                ]
              },
              "id": "0d1bb784ddcc4e11b81294cf34b5e2d8"
            }
          },
          "metadata": {}
        }
      ]
    },
    {
      "cell_type": "code",
      "source": [
        "from octis.dataset.dataset import Dataset\n",
        "dataset = Dataset()\n",
        "dataset.load_custom_dataset_from_folder(\"/content/data_small\")"
      ],
      "metadata": {
        "id": "8ZpFWrHcGGtE"
      },
      "execution_count": 11,
      "outputs": []
    },
    {
      "cell_type": "code",
      "source": [
        "from octis.models.LDA import LDA\n",
        "from octis.evaluation_metrics.diversity_metrics import TopicDiversity\n",
        "from octis.evaluation_metrics.coherence_metrics import Coherence"
      ],
      "metadata": {
        "id": "PYj8XRqyGMTZ"
      },
      "execution_count": 4,
      "outputs": []
    },
    {
      "cell_type": "code",
      "source": [
        "# Create Model\n",
        "model = LDA(num_topics=20, alpha=0.1)"
      ],
      "metadata": {
        "id": "RtoxfP0SGnl9"
      },
      "execution_count": 5,
      "outputs": []
    },
    {
      "cell_type": "code",
      "source": [
        "# Train the model using default partitioning choice\n",
        "output = model.train_model(dataset)\n",
        "\n",
        "print(*list(output.keys()), sep=\"\\n\") # Print the output identifiers"
      ],
      "metadata": {
        "colab": {
          "base_uri": "https://localhost:8080/"
        },
        "id": "55QcAF82GnrB",
        "outputId": "fe0297ea-0230-4477-df96-30825f1dde5d"
      },
      "execution_count": 6,
      "outputs": [
        {
          "output_type": "stream",
          "name": "stderr",
          "text": [
            "WARNING:gensim.models.ldamodel:too few updates, training might not converge; consider increasing the number of passes or iterations to improve accuracy\n"
          ]
        },
        {
          "output_type": "stream",
          "name": "stdout",
          "text": [
            "topic-word-matrix\n",
            "topics\n",
            "topic-document-matrix\n",
            "test-topic-document-matrix\n"
          ]
        }
      ]
    },
    {
      "cell_type": "code",
      "source": [
        "for t in output['topics'][:5]:\n",
        "  print(\" \".join(t))"
      ],
      "metadata": {
        "colab": {
          "base_uri": "https://localhost:8080/"
        },
        "id": "06GwX9wvHcOP",
        "outputId": "eb725b0f-7607-4be0-e10d-c192ecb428b1"
      },
      "execution_count": 7,
      "outputs": [
        {
          "output_type": "stream",
          "name": "stdout",
          "text": [
            "worker store senior starbuck say condition group overall cent behaviour\n",
            "say deal star harassment claim launch year call set bp\n",
            "indigenous community say cookie kid representative sky play leave report\n",
            "claim investigation agreement report say representative concern unilever employee flight\n",
            "push away keep move far car hard line finish ceo\n"
          ]
        }
      ]
    },
    {
      "cell_type": "code",
      "source": [
        "# Initialize metric\n",
        "npmi = Coherence(texts=dataset.get_corpus(), topk=10, measure='c_npmi')"
      ],
      "metadata": {
        "id": "Kc3P1vl2Hd2_"
      },
      "execution_count": 8,
      "outputs": []
    },
    {
      "cell_type": "code",
      "source": [
        "# Initialize metric\n",
        "topic_diversity = TopicDiversity(topk=10)"
      ],
      "metadata": {
        "id": "g9ehn9CQHgrV"
      },
      "execution_count": 9,
      "outputs": []
    },
    {
      "cell_type": "code",
      "source": [
        "# Retrieve metrics score\n",
        "topic_diversity_score = topic_diversity.score(output)\n",
        "print(\"Topic diversity: \"+str(topic_diversity_score))\n",
        "\n",
        "npmi_score = npmi.score(output)\n",
        "print(\"Coherence: \"+str(npmi_score))"
      ],
      "metadata": {
        "colab": {
          "base_uri": "https://localhost:8080/"
        },
        "id": "R5cr955vHhpj",
        "outputId": "5f56e47b-aad7-449b-ac4f-798e0386ac65"
      },
      "execution_count": 10,
      "outputs": [
        {
          "output_type": "stream",
          "name": "stdout",
          "text": [
            "Topic diversity: 0.755\n",
            "Coherence: -0.03660810080824591\n"
          ]
        }
      ]
    },
    {
      "cell_type": "code",
      "source": [],
      "metadata": {
        "id": "lj0pXgvXHi5W"
      },
      "execution_count": null,
      "outputs": []
    }
  ],
  "metadata": {
    "colab": {
      "provenance": [],
      "collapsed_sections": [
        "YHW7EXTojV6f"
      ]
    },
    "kernelspec": {
      "display_name": "Python 3",
      "name": "python3"
    },
    "language_info": {
      "name": "python"
    }
  },
  "nbformat": 4,
  "nbformat_minor": 0
}